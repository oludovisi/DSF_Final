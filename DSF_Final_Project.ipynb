{
 "cells": [
  {
   "cell_type": "code",
   "execution_count": 30,
   "metadata": {},
   "outputs": [],
   "source": [
    "import pandas as pd\n",
    "import numpy as np\n",
    "import matplotlib.pyplot as plt\n",
    "import seaborn as sns\n",
    "import pycountry_convert as pc\n",
    "sns.set_style('white')\n",
    "plt.rcParams[\"figure.figsize\"] = (12, 8)"
   ]
  },
  {
   "cell_type": "code",
   "execution_count": 31,
   "metadata": {},
   "outputs": [
    {
     "data": {
      "text/html": [
       "<div>\n",
       "<style scoped>\n",
       "    .dataframe tbody tr th:only-of-type {\n",
       "        vertical-align: middle;\n",
       "    }\n",
       "\n",
       "    .dataframe tbody tr th {\n",
       "        vertical-align: top;\n",
       "    }\n",
       "\n",
       "    .dataframe thead th {\n",
       "        text-align: right;\n",
       "    }\n",
       "</style>\n",
       "<table border=\"1\" class=\"dataframe\">\n",
       "  <thead>\n",
       "    <tr style=\"text-align: right;\">\n",
       "      <th></th>\n",
       "      <th>Entity</th>\n",
       "      <th>Code</th>\n",
       "      <th>Year</th>\n",
       "      <th>avg_years_of_schooling</th>\n",
       "    </tr>\n",
       "  </thead>\n",
       "  <tbody>\n",
       "    <tr>\n",
       "      <th>0</th>\n",
       "      <td>Afghanistan</td>\n",
       "      <td>AFG</td>\n",
       "      <td>1870</td>\n",
       "      <td>0.01</td>\n",
       "    </tr>\n",
       "    <tr>\n",
       "      <th>1</th>\n",
       "      <td>Afghanistan</td>\n",
       "      <td>AFG</td>\n",
       "      <td>1875</td>\n",
       "      <td>0.01</td>\n",
       "    </tr>\n",
       "    <tr>\n",
       "      <th>2</th>\n",
       "      <td>Afghanistan</td>\n",
       "      <td>AFG</td>\n",
       "      <td>1880</td>\n",
       "      <td>0.01</td>\n",
       "    </tr>\n",
       "    <tr>\n",
       "      <th>3</th>\n",
       "      <td>Afghanistan</td>\n",
       "      <td>AFG</td>\n",
       "      <td>1885</td>\n",
       "      <td>0.01</td>\n",
       "    </tr>\n",
       "    <tr>\n",
       "      <th>4</th>\n",
       "      <td>Afghanistan</td>\n",
       "      <td>AFG</td>\n",
       "      <td>1890</td>\n",
       "      <td>0.01</td>\n",
       "    </tr>\n",
       "    <tr>\n",
       "      <th>...</th>\n",
       "      <td>...</td>\n",
       "      <td>...</td>\n",
       "      <td>...</td>\n",
       "      <td>...</td>\n",
       "    </tr>\n",
       "    <tr>\n",
       "      <th>7758</th>\n",
       "      <td>Zimbabwe</td>\n",
       "      <td>ZWE</td>\n",
       "      <td>2013</td>\n",
       "      <td>8.00</td>\n",
       "    </tr>\n",
       "    <tr>\n",
       "      <th>7759</th>\n",
       "      <td>Zimbabwe</td>\n",
       "      <td>ZWE</td>\n",
       "      <td>2014</td>\n",
       "      <td>8.20</td>\n",
       "    </tr>\n",
       "    <tr>\n",
       "      <th>7760</th>\n",
       "      <td>Zimbabwe</td>\n",
       "      <td>ZWE</td>\n",
       "      <td>2015</td>\n",
       "      <td>8.20</td>\n",
       "    </tr>\n",
       "    <tr>\n",
       "      <th>7761</th>\n",
       "      <td>Zimbabwe</td>\n",
       "      <td>ZWE</td>\n",
       "      <td>2016</td>\n",
       "      <td>8.20</td>\n",
       "    </tr>\n",
       "    <tr>\n",
       "      <th>7762</th>\n",
       "      <td>Zimbabwe</td>\n",
       "      <td>ZWE</td>\n",
       "      <td>2017</td>\n",
       "      <td>8.20</td>\n",
       "    </tr>\n",
       "  </tbody>\n",
       "</table>\n",
       "<p>7763 rows × 4 columns</p>\n",
       "</div>"
      ],
      "text/plain": [
       "           Entity Code  Year  avg_years_of_schooling\n",
       "0     Afghanistan  AFG  1870                    0.01\n",
       "1     Afghanistan  AFG  1875                    0.01\n",
       "2     Afghanistan  AFG  1880                    0.01\n",
       "3     Afghanistan  AFG  1885                    0.01\n",
       "4     Afghanistan  AFG  1890                    0.01\n",
       "...           ...  ...   ...                     ...\n",
       "7758     Zimbabwe  ZWE  2013                    8.00\n",
       "7759     Zimbabwe  ZWE  2014                    8.20\n",
       "7760     Zimbabwe  ZWE  2015                    8.20\n",
       "7761     Zimbabwe  ZWE  2016                    8.20\n",
       "7762     Zimbabwe  ZWE  2017                    8.20\n",
       "\n",
       "[7763 rows x 4 columns]"
      ]
     },
     "execution_count": 31,
     "metadata": {},
     "output_type": "execute_result"
    }
   ],
   "source": [
    "mean_years = pd.read_csv('mean-years-of-schooling-long-run.csv', sep=';')\n",
    "mean_years"
   ]
  },
  {
   "cell_type": "code",
   "execution_count": 32,
   "metadata": {},
   "outputs": [
    {
     "data": {
      "text/html": [
       "<div>\n",
       "<style scoped>\n",
       "    .dataframe tbody tr th:only-of-type {\n",
       "        vertical-align: middle;\n",
       "    }\n",
       "\n",
       "    .dataframe tbody tr th {\n",
       "        vertical-align: top;\n",
       "    }\n",
       "\n",
       "    .dataframe thead th {\n",
       "        text-align: right;\n",
       "    }\n",
       "</style>\n",
       "<table border=\"1\" class=\"dataframe\">\n",
       "  <thead>\n",
       "    <tr style=\"text-align: right;\">\n",
       "      <th></th>\n",
       "      <th>Country</th>\n",
       "      <th>Year</th>\n",
       "      <th>Both sexes</th>\n",
       "      <th>Male</th>\n",
       "      <th>Female</th>\n",
       "    </tr>\n",
       "  </thead>\n",
       "  <tbody>\n",
       "    <tr>\n",
       "      <th>0</th>\n",
       "      <td>Afghanistan</td>\n",
       "      <td>2016</td>\n",
       "      <td>245</td>\n",
       "      <td>272</td>\n",
       "      <td>216</td>\n",
       "    </tr>\n",
       "    <tr>\n",
       "      <th>1</th>\n",
       "      <td>Afghanistan</td>\n",
       "      <td>2015</td>\n",
       "      <td>233</td>\n",
       "      <td>254</td>\n",
       "      <td>210</td>\n",
       "    </tr>\n",
       "    <tr>\n",
       "      <th>2</th>\n",
       "      <td>Afghanistan</td>\n",
       "      <td>2014</td>\n",
       "      <td>234</td>\n",
       "      <td>254</td>\n",
       "      <td>213</td>\n",
       "    </tr>\n",
       "    <tr>\n",
       "      <th>3</th>\n",
       "      <td>Afghanistan</td>\n",
       "      <td>2013</td>\n",
       "      <td>235</td>\n",
       "      <td>254</td>\n",
       "      <td>215</td>\n",
       "    </tr>\n",
       "    <tr>\n",
       "      <th>4</th>\n",
       "      <td>Afghanistan</td>\n",
       "      <td>2012</td>\n",
       "      <td>242</td>\n",
       "      <td>262</td>\n",
       "      <td>221</td>\n",
       "    </tr>\n",
       "    <tr>\n",
       "      <th>...</th>\n",
       "      <td>...</td>\n",
       "      <td>...</td>\n",
       "      <td>...</td>\n",
       "      <td>...</td>\n",
       "      <td>...</td>\n",
       "    </tr>\n",
       "    <tr>\n",
       "      <th>3106</th>\n",
       "      <td>Zimbabwe</td>\n",
       "      <td>2004</td>\n",
       "      <td>694</td>\n",
       "      <td>725</td>\n",
       "      <td>670</td>\n",
       "    </tr>\n",
       "    <tr>\n",
       "      <th>3107</th>\n",
       "      <td>Zimbabwe</td>\n",
       "      <td>2003</td>\n",
       "      <td>697</td>\n",
       "      <td>728</td>\n",
       "      <td>671</td>\n",
       "    </tr>\n",
       "    <tr>\n",
       "      <th>3108</th>\n",
       "      <td>Zimbabwe</td>\n",
       "      <td>2002</td>\n",
       "      <td>695</td>\n",
       "      <td>728</td>\n",
       "      <td>667</td>\n",
       "    </tr>\n",
       "    <tr>\n",
       "      <th>3109</th>\n",
       "      <td>Zimbabwe</td>\n",
       "      <td>2001</td>\n",
       "      <td>688</td>\n",
       "      <td>723</td>\n",
       "      <td>656</td>\n",
       "    </tr>\n",
       "    <tr>\n",
       "      <th>3110</th>\n",
       "      <td>Zimbabwe</td>\n",
       "      <td>2000</td>\n",
       "      <td>675</td>\n",
       "      <td>715</td>\n",
       "      <td>640</td>\n",
       "    </tr>\n",
       "  </tbody>\n",
       "</table>\n",
       "<p>3111 rows × 5 columns</p>\n",
       "</div>"
      ],
      "text/plain": [
       "          Country  Year  Both sexes  Male  Female\n",
       "0     Afghanistan  2016         245   272     216\n",
       "1     Afghanistan  2015         233   254     210\n",
       "2     Afghanistan  2014         234   254     213\n",
       "3     Afghanistan  2013         235   254     215\n",
       "4     Afghanistan  2012         242   262     221\n",
       "...           ...   ...         ...   ...     ...\n",
       "3106     Zimbabwe  2004         694   725     670\n",
       "3107     Zimbabwe  2003         697   728     671\n",
       "3108     Zimbabwe  2002         695   728     667\n",
       "3109     Zimbabwe  2001         688   723     656\n",
       "3110     Zimbabwe  2000         675   715     640\n",
       "\n",
       "[3111 rows x 5 columns]"
      ]
     },
     "execution_count": 32,
     "metadata": {},
     "output_type": "execute_result"
    }
   ],
   "source": [
    "ad_mort = pd.read_csv('Adult mortality.csv', skiprows=1)\n",
    "#ad_mort = ad_mort[(ad_mort['Year'] >= 2013) & (ad_mort['Year'] <2017)]\n",
    "ad_mort"
   ]
  },
  {
   "cell_type": "code",
   "execution_count": 33,
   "metadata": {},
   "outputs": [
    {
     "data": {
      "text/html": [
       "<div>\n",
       "<style scoped>\n",
       "    .dataframe tbody tr th:only-of-type {\n",
       "        vertical-align: middle;\n",
       "    }\n",
       "\n",
       "    .dataframe tbody tr th {\n",
       "        vertical-align: top;\n",
       "    }\n",
       "\n",
       "    .dataframe thead th {\n",
       "        text-align: right;\n",
       "    }\n",
       "</style>\n",
       "<table border=\"1\" class=\"dataframe\">\n",
       "  <thead>\n",
       "    <tr style=\"text-align: right;\">\n",
       "      <th></th>\n",
       "      <th>Country</th>\n",
       "      <th>Year</th>\n",
       "      <th>Maternal mortality ratio (per 100 000 live births)</th>\n",
       "      <th>Number of maternal deaths</th>\n",
       "    </tr>\n",
       "  </thead>\n",
       "  <tbody>\n",
       "    <tr>\n",
       "      <th>0</th>\n",
       "      <td>Afghanistan</td>\n",
       "      <td>2017</td>\n",
       "      <td>638 [ 427 - 1 010 ]</td>\n",
       "      <td>7 700 [ 5 100 - 12 000 ]</td>\n",
       "    </tr>\n",
       "    <tr>\n",
       "      <th>1</th>\n",
       "      <td>Afghanistan</td>\n",
       "      <td>2016</td>\n",
       "      <td>673 [ 457 - 1 040 ]</td>\n",
       "      <td>8 100 [ 5 500 - 12 000 ]</td>\n",
       "    </tr>\n",
       "    <tr>\n",
       "      <th>2</th>\n",
       "      <td>Afghanistan</td>\n",
       "      <td>2015</td>\n",
       "      <td>701 [ 501 - 1 020 ]</td>\n",
       "      <td>8 400 [ 6 000 - 12 000 ]</td>\n",
       "    </tr>\n",
       "    <tr>\n",
       "      <th>3</th>\n",
       "      <td>Afghanistan</td>\n",
       "      <td>2014</td>\n",
       "      <td>786 [ 592 - 1 080 ]</td>\n",
       "      <td>9 300 [ 7 000 - 13 000 ]</td>\n",
       "    </tr>\n",
       "    <tr>\n",
       "      <th>4</th>\n",
       "      <td>Afghanistan</td>\n",
       "      <td>2013</td>\n",
       "      <td>810 [ 617 - 1 080 ]</td>\n",
       "      <td>9 600 [ 7 300 - 13 000 ]</td>\n",
       "    </tr>\n",
       "    <tr>\n",
       "      <th>...</th>\n",
       "      <td>...</td>\n",
       "      <td>...</td>\n",
       "      <td>...</td>\n",
       "      <td>...</td>\n",
       "    </tr>\n",
       "    <tr>\n",
       "      <th>3289</th>\n",
       "      <td>Zimbabwe</td>\n",
       "      <td>2004</td>\n",
       "      <td>686 [ 597 - 784 ]</td>\n",
       "      <td>2 800 [ 2 400 - 3 100 ]</td>\n",
       "    </tr>\n",
       "    <tr>\n",
       "      <th>3290</th>\n",
       "      <td>Zimbabwe</td>\n",
       "      <td>2003</td>\n",
       "      <td>680 [ 590 - 779 ]</td>\n",
       "      <td>2 700 [ 2 300 - 3 100 ]</td>\n",
       "    </tr>\n",
       "    <tr>\n",
       "      <th>3291</th>\n",
       "      <td>Zimbabwe</td>\n",
       "      <td>2002</td>\n",
       "      <td>666 [ 577 - 766 ]</td>\n",
       "      <td>2 600 [ 2 200 - 3 000 ]</td>\n",
       "    </tr>\n",
       "    <tr>\n",
       "      <th>3292</th>\n",
       "      <td>Zimbabwe</td>\n",
       "      <td>2001</td>\n",
       "      <td>629 [ 544 - 723 ]</td>\n",
       "      <td>2 400 [ 2 100 - 2 800 ]</td>\n",
       "    </tr>\n",
       "    <tr>\n",
       "      <th>3293</th>\n",
       "      <td>Zimbabwe</td>\n",
       "      <td>2000</td>\n",
       "      <td>579 [ 500 - 667 ]</td>\n",
       "      <td>2 200 [ 1 900 - 2 500 ]</td>\n",
       "    </tr>\n",
       "  </tbody>\n",
       "</table>\n",
       "<p>3294 rows × 4 columns</p>\n",
       "</div>"
      ],
      "text/plain": [
       "          Country  Year Maternal mortality ratio (per 100 000 live births)  \\\n",
       "0     Afghanistan  2017                                638 [ 427 - 1 010 ]   \n",
       "1     Afghanistan  2016                                673 [ 457 - 1 040 ]   \n",
       "2     Afghanistan  2015                                701 [ 501 - 1 020 ]   \n",
       "3     Afghanistan  2014                                786 [ 592 - 1 080 ]   \n",
       "4     Afghanistan  2013                                810 [ 617 - 1 080 ]   \n",
       "...           ...   ...                                                ...   \n",
       "3289     Zimbabwe  2004                                  686 [ 597 - 784 ]   \n",
       "3290     Zimbabwe  2003                                  680 [ 590 - 779 ]   \n",
       "3291     Zimbabwe  2002                                  666 [ 577 - 766 ]   \n",
       "3292     Zimbabwe  2001                                  629 [ 544 - 723 ]   \n",
       "3293     Zimbabwe  2000                                  579 [ 500 - 667 ]   \n",
       "\n",
       "     Number of maternal deaths  \n",
       "0     7 700 [ 5 100 - 12 000 ]  \n",
       "1     8 100 [ 5 500 - 12 000 ]  \n",
       "2     8 400 [ 6 000 - 12 000 ]  \n",
       "3     9 300 [ 7 000 - 13 000 ]  \n",
       "4     9 600 [ 7 300 - 13 000 ]  \n",
       "...                        ...  \n",
       "3289   2 800 [ 2 400 - 3 100 ]  \n",
       "3290   2 700 [ 2 300 - 3 100 ]  \n",
       "3291   2 600 [ 2 200 - 3 000 ]  \n",
       "3292   2 400 [ 2 100 - 2 800 ]  \n",
       "3293   2 200 [ 1 900 - 2 500 ]  \n",
       "\n",
       "[3294 rows x 4 columns]"
      ]
     },
     "execution_count": 33,
     "metadata": {},
     "output_type": "execute_result"
    }
   ],
   "source": [
    "mat_mort = pd.read_csv('Maternal mortality.csv')\n",
    "mat_mort"
   ]
  },
  {
   "cell_type": "code",
   "execution_count": 34,
   "metadata": {},
   "outputs": [
    {
     "data": {
      "text/html": [
       "<div>\n",
       "<style scoped>\n",
       "    .dataframe tbody tr th:only-of-type {\n",
       "        vertical-align: middle;\n",
       "    }\n",
       "\n",
       "    .dataframe tbody tr th {\n",
       "        vertical-align: top;\n",
       "    }\n",
       "\n",
       "    .dataframe thead th {\n",
       "        text-align: right;\n",
       "    }\n",
       "</style>\n",
       "<table border=\"1\" class=\"dataframe\">\n",
       "  <thead>\n",
       "    <tr style=\"text-align: right;\">\n",
       "      <th></th>\n",
       "      <th>Country</th>\n",
       "      <th>Year</th>\n",
       "      <th>inf_both_sexes</th>\n",
       "      <th>inf_male</th>\n",
       "      <th>inf_female</th>\n",
       "      <th>neonat_both_sexes</th>\n",
       "      <th>u5_both_sexes</th>\n",
       "      <th>u5_male</th>\n",
       "      <th>u5_female</th>\n",
       "    </tr>\n",
       "  </thead>\n",
       "  <tbody>\n",
       "    <tr>\n",
       "      <th>2</th>\n",
       "      <td>Afghanistan</td>\n",
       "      <td>2016</td>\n",
       "      <td>51.2</td>\n",
       "      <td>54.5</td>\n",
       "      <td>47.7</td>\n",
       "      <td>39.3</td>\n",
       "      <td>67.5</td>\n",
       "      <td>70.9</td>\n",
       "      <td>63.7</td>\n",
       "    </tr>\n",
       "    <tr>\n",
       "      <th>3</th>\n",
       "      <td>Afghanistan</td>\n",
       "      <td>2015</td>\n",
       "      <td>53.1</td>\n",
       "      <td>56.5</td>\n",
       "      <td>49.6</td>\n",
       "      <td>40.5</td>\n",
       "      <td>70.4</td>\n",
       "      <td>73.8</td>\n",
       "      <td>66.7</td>\n",
       "    </tr>\n",
       "    <tr>\n",
       "      <th>4</th>\n",
       "      <td>Afghanistan</td>\n",
       "      <td>2014</td>\n",
       "      <td>55.1</td>\n",
       "      <td>58.6</td>\n",
       "      <td>51.5</td>\n",
       "      <td>41.9</td>\n",
       "      <td>73.6</td>\n",
       "      <td>77.0</td>\n",
       "      <td>69.9</td>\n",
       "    </tr>\n",
       "    <tr>\n",
       "      <th>5</th>\n",
       "      <td>Afghanistan</td>\n",
       "      <td>2013</td>\n",
       "      <td>57.3</td>\n",
       "      <td>60.8</td>\n",
       "      <td>53.6</td>\n",
       "      <td>43.3</td>\n",
       "      <td>76.9</td>\n",
       "      <td>80.5</td>\n",
       "      <td>73.2</td>\n",
       "    </tr>\n",
       "    <tr>\n",
       "      <th>8</th>\n",
       "      <td>Albania</td>\n",
       "      <td>2016</td>\n",
       "      <td>8.2</td>\n",
       "      <td>8.9</td>\n",
       "      <td>7.6</td>\n",
       "      <td>6.2</td>\n",
       "      <td>9.3</td>\n",
       "      <td>9.9</td>\n",
       "      <td>8.6</td>\n",
       "    </tr>\n",
       "    <tr>\n",
       "      <th>...</th>\n",
       "      <td>...</td>\n",
       "      <td>...</td>\n",
       "      <td>...</td>\n",
       "      <td>...</td>\n",
       "      <td>...</td>\n",
       "      <td>...</td>\n",
       "      <td>...</td>\n",
       "      <td>...</td>\n",
       "      <td>...</td>\n",
       "    </tr>\n",
       "    <tr>\n",
       "      <th>1157</th>\n",
       "      <td>Zambia</td>\n",
       "      <td>2013</td>\n",
       "      <td>47.8</td>\n",
       "      <td>52.0</td>\n",
       "      <td>43.4</td>\n",
       "      <td>25.3</td>\n",
       "      <td>70.7</td>\n",
       "      <td>75.9</td>\n",
       "      <td>65.1</td>\n",
       "    </tr>\n",
       "    <tr>\n",
       "      <th>1160</th>\n",
       "      <td>Zimbabwe</td>\n",
       "      <td>2016</td>\n",
       "      <td>36.3</td>\n",
       "      <td>40.4</td>\n",
       "      <td>32.0</td>\n",
       "      <td>22.3</td>\n",
       "      <td>50.4</td>\n",
       "      <td>55.0</td>\n",
       "      <td>45.5</td>\n",
       "    </tr>\n",
       "    <tr>\n",
       "      <th>1161</th>\n",
       "      <td>Zimbabwe</td>\n",
       "      <td>2015</td>\n",
       "      <td>38.5</td>\n",
       "      <td>42.8</td>\n",
       "      <td>34.0</td>\n",
       "      <td>23.1</td>\n",
       "      <td>54.3</td>\n",
       "      <td>59.2</td>\n",
       "      <td>49.2</td>\n",
       "    </tr>\n",
       "    <tr>\n",
       "      <th>1162</th>\n",
       "      <td>Zimbabwe</td>\n",
       "      <td>2014</td>\n",
       "      <td>40.4</td>\n",
       "      <td>44.9</td>\n",
       "      <td>35.6</td>\n",
       "      <td>24.2</td>\n",
       "      <td>57.5</td>\n",
       "      <td>62.5</td>\n",
       "      <td>52.3</td>\n",
       "    </tr>\n",
       "    <tr>\n",
       "      <th>1163</th>\n",
       "      <td>Zimbabwe</td>\n",
       "      <td>2013</td>\n",
       "      <td>42.8</td>\n",
       "      <td>47.5</td>\n",
       "      <td>37.9</td>\n",
       "      <td>25.3</td>\n",
       "      <td>62.3</td>\n",
       "      <td>67.4</td>\n",
       "      <td>56.8</td>\n",
       "    </tr>\n",
       "  </tbody>\n",
       "</table>\n",
       "<p>776 rows × 9 columns</p>\n",
       "</div>"
      ],
      "text/plain": [
       "          Country  Year  inf_both_sexes  inf_male  inf_female  \\\n",
       "2     Afghanistan  2016            51.2      54.5        47.7   \n",
       "3     Afghanistan  2015            53.1      56.5        49.6   \n",
       "4     Afghanistan  2014            55.1      58.6        51.5   \n",
       "5     Afghanistan  2013            57.3      60.8        53.6   \n",
       "8         Albania  2016             8.2       8.9         7.6   \n",
       "...           ...   ...             ...       ...         ...   \n",
       "1157       Zambia  2013            47.8      52.0        43.4   \n",
       "1160     Zimbabwe  2016            36.3      40.4        32.0   \n",
       "1161     Zimbabwe  2015            38.5      42.8        34.0   \n",
       "1162     Zimbabwe  2014            40.4      44.9        35.6   \n",
       "1163     Zimbabwe  2013            42.8      47.5        37.9   \n",
       "\n",
       "      neonat_both_sexes  u5_both_sexes  u5_male  u5_female  \n",
       "2                  39.3           67.5     70.9       63.7  \n",
       "3                  40.5           70.4     73.8       66.7  \n",
       "4                  41.9           73.6     77.0       69.9  \n",
       "5                  43.3           76.9     80.5       73.2  \n",
       "8                   6.2            9.3      9.9        8.6  \n",
       "...                 ...            ...      ...        ...  \n",
       "1157               25.3           70.7     75.9       65.1  \n",
       "1160               22.3           50.4     55.0       45.5  \n",
       "1161               23.1           54.3     59.2       49.2  \n",
       "1162               24.2           57.5     62.5       52.3  \n",
       "1163               25.3           62.3     67.4       56.8  \n",
       "\n",
       "[776 rows x 9 columns]"
      ]
     },
     "execution_count": 34,
     "metadata": {},
     "output_type": "execute_result"
    }
   ],
   "source": [
    "prob_dth = pd.read_csv('Probability of dying per 1000 live births.csv',skiprows=1)\n",
    "prob_dth.rename(columns={' Both sexes':'inf_both_sexes',\n",
    "                         ' Male':'inf_male',\n",
    "                         ' Female':'inf_female',\n",
    "                         ' Both sexes.1':'neonat_both_sexes',\n",
    "                         ' Both sexes.2':'u5_both_sexes',\n",
    "                         ' Male.1':'u5_male',\n",
    "                         ' Female.1':'u5_female'}, inplace=True)\n",
    "prob_dth = prob_dth[(prob_dth['Year'] >= 2013) & (prob_dth['Year'] <2017)]\n",
    "prob_dth"
   ]
  },
  {
   "cell_type": "code",
   "execution_count": 35,
   "metadata": {},
   "outputs": [
    {
     "data": {
      "text/html": [
       "<div>\n",
       "<style scoped>\n",
       "    .dataframe tbody tr th:only-of-type {\n",
       "        vertical-align: middle;\n",
       "    }\n",
       "\n",
       "    .dataframe tbody tr th {\n",
       "        vertical-align: top;\n",
       "    }\n",
       "\n",
       "    .dataframe thead th {\n",
       "        text-align: right;\n",
       "    }\n",
       "</style>\n",
       "<table border=\"1\" class=\"dataframe\">\n",
       "  <thead>\n",
       "    <tr style=\"text-align: right;\">\n",
       "      <th></th>\n",
       "      <th>Unnamed: 0</th>\n",
       "      <th>Unnamed: 1</th>\n",
       "      <th>Number of under-five deaths (thousands)</th>\n",
       "      <th>Number of under-five deaths (thousands).1</th>\n",
       "      <th>Number of under-five deaths (thousands).2</th>\n",
       "      <th>Number of infant deaths (thousands)</th>\n",
       "      <th>Number of infant deaths (thousands).1</th>\n",
       "      <th>Number of infant deaths (thousands).2</th>\n",
       "      <th>Number of neonatal deaths (thousands)</th>\n",
       "    </tr>\n",
       "  </thead>\n",
       "  <tbody>\n",
       "    <tr>\n",
       "      <th>0</th>\n",
       "      <td>Country</td>\n",
       "      <td>Year</td>\n",
       "      <td>Both sexes</td>\n",
       "      <td>Male</td>\n",
       "      <td>Female</td>\n",
       "      <td>Both sexes</td>\n",
       "      <td>Male</td>\n",
       "      <td>Female</td>\n",
       "      <td>Both sexes</td>\n",
       "    </tr>\n",
       "    <tr>\n",
       "      <th>1</th>\n",
       "      <td>Afghanistan</td>\n",
       "      <td>2018</td>\n",
       "      <td>74278</td>\n",
       "      <td>40312</td>\n",
       "      <td>33966</td>\n",
       "      <td>57182</td>\n",
       "      <td>31394</td>\n",
       "      <td>25788</td>\n",
       "      <td>44725</td>\n",
       "    </tr>\n",
       "    <tr>\n",
       "      <th>2</th>\n",
       "      <td>Afghanistan</td>\n",
       "      <td>2017</td>\n",
       "      <td>76877</td>\n",
       "      <td>41631</td>\n",
       "      <td>35246</td>\n",
       "      <td>58846</td>\n",
       "      <td>32244</td>\n",
       "      <td>26602</td>\n",
       "      <td>45771</td>\n",
       "    </tr>\n",
       "    <tr>\n",
       "      <th>3</th>\n",
       "      <td>Afghanistan</td>\n",
       "      <td>2016</td>\n",
       "      <td>79770</td>\n",
       "      <td>43134</td>\n",
       "      <td>36636</td>\n",
       "      <td>60673</td>\n",
       "      <td>33222</td>\n",
       "      <td>27451</td>\n",
       "      <td>46963</td>\n",
       "    </tr>\n",
       "    <tr>\n",
       "      <th>4</th>\n",
       "      <td>Afghanistan</td>\n",
       "      <td>2015</td>\n",
       "      <td>82918</td>\n",
       "      <td>44733</td>\n",
       "      <td>38185</td>\n",
       "      <td>62652</td>\n",
       "      <td>34257</td>\n",
       "      <td>28395</td>\n",
       "      <td>48237</td>\n",
       "    </tr>\n",
       "    <tr>\n",
       "      <th>...</th>\n",
       "      <td>...</td>\n",
       "      <td>...</td>\n",
       "      <td>...</td>\n",
       "      <td>...</td>\n",
       "      <td>...</td>\n",
       "      <td>...</td>\n",
       "      <td>...</td>\n",
       "      <td>...</td>\n",
       "      <td>...</td>\n",
       "    </tr>\n",
       "    <tr>\n",
       "      <th>1160</th>\n",
       "      <td>Zimbabwe</td>\n",
       "      <td>2017</td>\n",
       "      <td>22519</td>\n",
       "      <td>12419</td>\n",
       "      <td>10100</td>\n",
       "      <td>16015</td>\n",
       "      <td>9010</td>\n",
       "      <td>7005</td>\n",
       "      <td>9696</td>\n",
       "    </tr>\n",
       "    <tr>\n",
       "      <th>1161</th>\n",
       "      <td>Zimbabwe</td>\n",
       "      <td>2016</td>\n",
       "      <td>23326</td>\n",
       "      <td>12867</td>\n",
       "      <td>10459</td>\n",
       "      <td>16693</td>\n",
       "      <td>9396</td>\n",
       "      <td>7297</td>\n",
       "      <td>10235</td>\n",
       "    </tr>\n",
       "    <tr>\n",
       "      <th>1162</th>\n",
       "      <td>Zimbabwe</td>\n",
       "      <td>2015</td>\n",
       "      <td>25433</td>\n",
       "      <td>14001</td>\n",
       "      <td>11432</td>\n",
       "      <td>18006</td>\n",
       "      <td>10121</td>\n",
       "      <td>7885</td>\n",
       "      <td>10815</td>\n",
       "    </tr>\n",
       "    <tr>\n",
       "      <th>1163</th>\n",
       "      <td>Zimbabwe</td>\n",
       "      <td>2014</td>\n",
       "      <td>27058</td>\n",
       "      <td>14866</td>\n",
       "      <td>12192</td>\n",
       "      <td>19051</td>\n",
       "      <td>10707</td>\n",
       "      <td>8344</td>\n",
       "      <td>11447</td>\n",
       "    </tr>\n",
       "    <tr>\n",
       "      <th>1164</th>\n",
       "      <td>Zimbabwe</td>\n",
       "      <td>2013</td>\n",
       "      <td>29200</td>\n",
       "      <td>15984</td>\n",
       "      <td>13216</td>\n",
       "      <td>20265</td>\n",
       "      <td>11363</td>\n",
       "      <td>8902</td>\n",
       "      <td>12063</td>\n",
       "    </tr>\n",
       "  </tbody>\n",
       "</table>\n",
       "<p>1165 rows × 9 columns</p>\n",
       "</div>"
      ],
      "text/plain": [
       "       Unnamed: 0 Unnamed: 1 Number of under-five deaths (thousands)  \\\n",
       "0         Country       Year                              Both sexes   \n",
       "1     Afghanistan       2018                                   74278   \n",
       "2     Afghanistan       2017                                   76877   \n",
       "3     Afghanistan       2016                                   79770   \n",
       "4     Afghanistan       2015                                   82918   \n",
       "...           ...        ...                                     ...   \n",
       "1160     Zimbabwe       2017                                   22519   \n",
       "1161     Zimbabwe       2016                                   23326   \n",
       "1162     Zimbabwe       2015                                   25433   \n",
       "1163     Zimbabwe       2014                                   27058   \n",
       "1164     Zimbabwe       2013                                   29200   \n",
       "\n",
       "     Number of under-five deaths (thousands).1  \\\n",
       "0                                         Male   \n",
       "1                                        40312   \n",
       "2                                        41631   \n",
       "3                                        43134   \n",
       "4                                        44733   \n",
       "...                                        ...   \n",
       "1160                                     12419   \n",
       "1161                                     12867   \n",
       "1162                                     14001   \n",
       "1163                                     14866   \n",
       "1164                                     15984   \n",
       "\n",
       "     Number of under-five deaths (thousands).2  \\\n",
       "0                                       Female   \n",
       "1                                        33966   \n",
       "2                                        35246   \n",
       "3                                        36636   \n",
       "4                                        38185   \n",
       "...                                        ...   \n",
       "1160                                     10100   \n",
       "1161                                     10459   \n",
       "1162                                     11432   \n",
       "1163                                     12192   \n",
       "1164                                     13216   \n",
       "\n",
       "     Number of infant deaths (thousands)  \\\n",
       "0                             Both sexes   \n",
       "1                                  57182   \n",
       "2                                  58846   \n",
       "3                                  60673   \n",
       "4                                  62652   \n",
       "...                                  ...   \n",
       "1160                               16015   \n",
       "1161                               16693   \n",
       "1162                               18006   \n",
       "1163                               19051   \n",
       "1164                               20265   \n",
       "\n",
       "     Number of infant deaths (thousands).1  \\\n",
       "0                                     Male   \n",
       "1                                    31394   \n",
       "2                                    32244   \n",
       "3                                    33222   \n",
       "4                                    34257   \n",
       "...                                    ...   \n",
       "1160                                  9010   \n",
       "1161                                  9396   \n",
       "1162                                 10121   \n",
       "1163                                 10707   \n",
       "1164                                 11363   \n",
       "\n",
       "     Number of infant deaths (thousands).2  \\\n",
       "0                                   Female   \n",
       "1                                    25788   \n",
       "2                                    26602   \n",
       "3                                    27451   \n",
       "4                                    28395   \n",
       "...                                    ...   \n",
       "1160                                  7005   \n",
       "1161                                  7297   \n",
       "1162                                  7885   \n",
       "1163                                  8344   \n",
       "1164                                  8902   \n",
       "\n",
       "     Number of neonatal deaths (thousands)  \n",
       "0                               Both sexes  \n",
       "1                                    44725  \n",
       "2                                    45771  \n",
       "3                                    46963  \n",
       "4                                    48237  \n",
       "...                                    ...  \n",
       "1160                                  9696  \n",
       "1161                                 10235  \n",
       "1162                                 10815  \n",
       "1163                                 11447  \n",
       "1164                                 12063  \n",
       "\n",
       "[1165 rows x 9 columns]"
      ]
     },
     "execution_count": 35,
     "metadata": {},
     "output_type": "execute_result"
    }
   ],
   "source": [
    "num_dth = pd.read_csv('Number of deaths (thousands).csv')\n",
    "num_dth"
   ]
  },
  {
   "cell_type": "code",
   "execution_count": 36,
   "metadata": {},
   "outputs": [],
   "source": [
    "mean_years.rename(columns={'Entity':'Country'},inplace=True)"
   ]
  },
  {
   "cell_type": "code",
   "execution_count": 37,
   "metadata": {},
   "outputs": [
    {
     "data": {
      "text/html": [
       "<div>\n",
       "<style scoped>\n",
       "    .dataframe tbody tr th:only-of-type {\n",
       "        vertical-align: middle;\n",
       "    }\n",
       "\n",
       "    .dataframe tbody tr th {\n",
       "        vertical-align: top;\n",
       "    }\n",
       "\n",
       "    .dataframe thead th {\n",
       "        text-align: right;\n",
       "    }\n",
       "</style>\n",
       "<table border=\"1\" class=\"dataframe\">\n",
       "  <thead>\n",
       "    <tr style=\"text-align: right;\">\n",
       "      <th></th>\n",
       "      <th>Country</th>\n",
       "      <th>Code</th>\n",
       "      <th>Year</th>\n",
       "      <th>avg_years_of_schooling</th>\n",
       "    </tr>\n",
       "  </thead>\n",
       "  <tbody>\n",
       "    <tr>\n",
       "      <th>34</th>\n",
       "      <td>Afghanistan</td>\n",
       "      <td>AFG</td>\n",
       "      <td>2000</td>\n",
       "      <td>2.2</td>\n",
       "    </tr>\n",
       "    <tr>\n",
       "      <th>35</th>\n",
       "      <td>Afghanistan</td>\n",
       "      <td>AFG</td>\n",
       "      <td>2001</td>\n",
       "      <td>2.2</td>\n",
       "    </tr>\n",
       "    <tr>\n",
       "      <th>36</th>\n",
       "      <td>Afghanistan</td>\n",
       "      <td>AFG</td>\n",
       "      <td>2002</td>\n",
       "      <td>2.3</td>\n",
       "    </tr>\n",
       "    <tr>\n",
       "      <th>37</th>\n",
       "      <td>Afghanistan</td>\n",
       "      <td>AFG</td>\n",
       "      <td>2003</td>\n",
       "      <td>2.4</td>\n",
       "    </tr>\n",
       "    <tr>\n",
       "      <th>38</th>\n",
       "      <td>Afghanistan</td>\n",
       "      <td>AFG</td>\n",
       "      <td>2004</td>\n",
       "      <td>2.5</td>\n",
       "    </tr>\n",
       "    <tr>\n",
       "      <th>...</th>\n",
       "      <td>...</td>\n",
       "      <td>...</td>\n",
       "      <td>...</td>\n",
       "      <td>...</td>\n",
       "    </tr>\n",
       "    <tr>\n",
       "      <th>7757</th>\n",
       "      <td>Zimbabwe</td>\n",
       "      <td>ZWE</td>\n",
       "      <td>2012</td>\n",
       "      <td>7.9</td>\n",
       "    </tr>\n",
       "    <tr>\n",
       "      <th>7758</th>\n",
       "      <td>Zimbabwe</td>\n",
       "      <td>ZWE</td>\n",
       "      <td>2013</td>\n",
       "      <td>8.0</td>\n",
       "    </tr>\n",
       "    <tr>\n",
       "      <th>7759</th>\n",
       "      <td>Zimbabwe</td>\n",
       "      <td>ZWE</td>\n",
       "      <td>2014</td>\n",
       "      <td>8.2</td>\n",
       "    </tr>\n",
       "    <tr>\n",
       "      <th>7760</th>\n",
       "      <td>Zimbabwe</td>\n",
       "      <td>ZWE</td>\n",
       "      <td>2015</td>\n",
       "      <td>8.2</td>\n",
       "    </tr>\n",
       "    <tr>\n",
       "      <th>7761</th>\n",
       "      <td>Zimbabwe</td>\n",
       "      <td>ZWE</td>\n",
       "      <td>2016</td>\n",
       "      <td>8.2</td>\n",
       "    </tr>\n",
       "  </tbody>\n",
       "</table>\n",
       "<p>3135 rows × 4 columns</p>\n",
       "</div>"
      ],
      "text/plain": [
       "          Country Code  Year  avg_years_of_schooling\n",
       "34    Afghanistan  AFG  2000                     2.2\n",
       "35    Afghanistan  AFG  2001                     2.2\n",
       "36    Afghanistan  AFG  2002                     2.3\n",
       "37    Afghanistan  AFG  2003                     2.4\n",
       "38    Afghanistan  AFG  2004                     2.5\n",
       "...           ...  ...   ...                     ...\n",
       "7757     Zimbabwe  ZWE  2012                     7.9\n",
       "7758     Zimbabwe  ZWE  2013                     8.0\n",
       "7759     Zimbabwe  ZWE  2014                     8.2\n",
       "7760     Zimbabwe  ZWE  2015                     8.2\n",
       "7761     Zimbabwe  ZWE  2016                     8.2\n",
       "\n",
       "[3135 rows x 4 columns]"
      ]
     },
     "execution_count": 37,
     "metadata": {},
     "output_type": "execute_result"
    }
   ],
   "source": [
    "mean_years = mean_years[(mean_years['Year'] >= 2000) & (mean_years['Year'] < 2017)]\n",
    "mean_years"
   ]
  },
  {
   "cell_type": "code",
   "execution_count": 38,
   "metadata": {},
   "outputs": [
    {
     "data": {
      "text/html": [
       "<div>\n",
       "<style scoped>\n",
       "    .dataframe tbody tr th:only-of-type {\n",
       "        vertical-align: middle;\n",
       "    }\n",
       "\n",
       "    .dataframe tbody tr th {\n",
       "        vertical-align: top;\n",
       "    }\n",
       "\n",
       "    .dataframe thead th {\n",
       "        text-align: right;\n",
       "    }\n",
       "</style>\n",
       "<table border=\"1\" class=\"dataframe\">\n",
       "  <thead>\n",
       "    <tr style=\"text-align: right;\">\n",
       "      <th></th>\n",
       "      <th>Country</th>\n",
       "      <th>Code</th>\n",
       "      <th>Year</th>\n",
       "      <th>avg_years_of_schooling</th>\n",
       "      <th>Both sexes</th>\n",
       "      <th>Male</th>\n",
       "      <th>Female</th>\n",
       "    </tr>\n",
       "  </thead>\n",
       "  <tbody>\n",
       "    <tr>\n",
       "      <th>0</th>\n",
       "      <td>Afghanistan</td>\n",
       "      <td>AFG</td>\n",
       "      <td>2000</td>\n",
       "      <td>2.2</td>\n",
       "      <td>316</td>\n",
       "      <td>340</td>\n",
       "      <td>290</td>\n",
       "    </tr>\n",
       "    <tr>\n",
       "      <th>1</th>\n",
       "      <td>Afghanistan</td>\n",
       "      <td>AFG</td>\n",
       "      <td>2001</td>\n",
       "      <td>2.2</td>\n",
       "      <td>307</td>\n",
       "      <td>330</td>\n",
       "      <td>283</td>\n",
       "    </tr>\n",
       "    <tr>\n",
       "      <th>2</th>\n",
       "      <td>Afghanistan</td>\n",
       "      <td>AFG</td>\n",
       "      <td>2002</td>\n",
       "      <td>2.3</td>\n",
       "      <td>292</td>\n",
       "      <td>309</td>\n",
       "      <td>275</td>\n",
       "    </tr>\n",
       "    <tr>\n",
       "      <th>3</th>\n",
       "      <td>Afghanistan</td>\n",
       "      <td>AFG</td>\n",
       "      <td>2003</td>\n",
       "      <td>2.4</td>\n",
       "      <td>286</td>\n",
       "      <td>304</td>\n",
       "      <td>268</td>\n",
       "    </tr>\n",
       "    <tr>\n",
       "      <th>4</th>\n",
       "      <td>Afghanistan</td>\n",
       "      <td>AFG</td>\n",
       "      <td>2004</td>\n",
       "      <td>2.5</td>\n",
       "      <td>282</td>\n",
       "      <td>300</td>\n",
       "      <td>263</td>\n",
       "    </tr>\n",
       "    <tr>\n",
       "      <th>...</th>\n",
       "      <td>...</td>\n",
       "      <td>...</td>\n",
       "      <td>...</td>\n",
       "      <td>...</td>\n",
       "      <td>...</td>\n",
       "      <td>...</td>\n",
       "      <td>...</td>\n",
       "    </tr>\n",
       "    <tr>\n",
       "      <th>2691</th>\n",
       "      <td>Zimbabwe</td>\n",
       "      <td>ZWE</td>\n",
       "      <td>2012</td>\n",
       "      <td>7.9</td>\n",
       "      <td>407</td>\n",
       "      <td>464</td>\n",
       "      <td>357</td>\n",
       "    </tr>\n",
       "    <tr>\n",
       "      <th>2692</th>\n",
       "      <td>Zimbabwe</td>\n",
       "      <td>ZWE</td>\n",
       "      <td>2013</td>\n",
       "      <td>8.0</td>\n",
       "      <td>383</td>\n",
       "      <td>437</td>\n",
       "      <td>336</td>\n",
       "    </tr>\n",
       "    <tr>\n",
       "      <th>2693</th>\n",
       "      <td>Zimbabwe</td>\n",
       "      <td>ZWE</td>\n",
       "      <td>2014</td>\n",
       "      <td>8.2</td>\n",
       "      <td>358</td>\n",
       "      <td>395</td>\n",
       "      <td>328</td>\n",
       "    </tr>\n",
       "    <tr>\n",
       "      <th>2694</th>\n",
       "      <td>Zimbabwe</td>\n",
       "      <td>ZWE</td>\n",
       "      <td>2015</td>\n",
       "      <td>8.2</td>\n",
       "      <td>346</td>\n",
       "      <td>383</td>\n",
       "      <td>314</td>\n",
       "    </tr>\n",
       "    <tr>\n",
       "      <th>2695</th>\n",
       "      <td>Zimbabwe</td>\n",
       "      <td>ZWE</td>\n",
       "      <td>2016</td>\n",
       "      <td>8.2</td>\n",
       "      <td>334</td>\n",
       "      <td>371</td>\n",
       "      <td>303</td>\n",
       "    </tr>\n",
       "  </tbody>\n",
       "</table>\n",
       "<p>2696 rows × 7 columns</p>\n",
       "</div>"
      ],
      "text/plain": [
       "          Country Code  Year  avg_years_of_schooling  Both sexes  Male  Female\n",
       "0     Afghanistan  AFG  2000                     2.2         316   340     290\n",
       "1     Afghanistan  AFG  2001                     2.2         307   330     283\n",
       "2     Afghanistan  AFG  2002                     2.3         292   309     275\n",
       "3     Afghanistan  AFG  2003                     2.4         286   304     268\n",
       "4     Afghanistan  AFG  2004                     2.5         282   300     263\n",
       "...           ...  ...   ...                     ...         ...   ...     ...\n",
       "2691     Zimbabwe  ZWE  2012                     7.9         407   464     357\n",
       "2692     Zimbabwe  ZWE  2013                     8.0         383   437     336\n",
       "2693     Zimbabwe  ZWE  2014                     8.2         358   395     328\n",
       "2694     Zimbabwe  ZWE  2015                     8.2         346   383     314\n",
       "2695     Zimbabwe  ZWE  2016                     8.2         334   371     303\n",
       "\n",
       "[2696 rows x 7 columns]"
      ]
     },
     "execution_count": 38,
     "metadata": {},
     "output_type": "execute_result"
    }
   ],
   "source": [
    "merge_df = pd.merge(mean_years,ad_mort, on=['Country','Year'])\n",
    "#merge_df = pd.merge(merge_df,prob_dth, on=['Country','Year'])\n",
    "merge_df"
   ]
  },
  {
   "cell_type": "code",
   "execution_count": 39,
   "metadata": {},
   "outputs": [],
   "source": [
    "def country_to_continent(country_name):\n",
    "    country_alpha2 = pc.country_name_to_country_alpha2(country_name)\n",
    "    country_continent_code = pc.country_alpha2_to_continent_code(country_alpha2)\n",
    "    country_continent_name = pc.convert_continent_code_to_continent_name(country_continent_code)\n",
    "    return country_continent_name"
   ]
  },
  {
   "cell_type": "code",
   "execution_count": 40,
   "metadata": {},
   "outputs": [],
   "source": [
    "merge_df['Continent'] = merge_df['Country'].apply(lambda row: country_to_continent(row))"
   ]
  },
  {
   "cell_type": "code",
   "execution_count": 41,
   "metadata": {},
   "outputs": [
    {
     "data": {
      "text/html": [
       "<div>\n",
       "<style scoped>\n",
       "    .dataframe tbody tr th:only-of-type {\n",
       "        vertical-align: middle;\n",
       "    }\n",
       "\n",
       "    .dataframe tbody tr th {\n",
       "        vertical-align: top;\n",
       "    }\n",
       "\n",
       "    .dataframe thead th {\n",
       "        text-align: right;\n",
       "    }\n",
       "</style>\n",
       "<table border=\"1\" class=\"dataframe\">\n",
       "  <thead>\n",
       "    <tr style=\"text-align: right;\">\n",
       "      <th></th>\n",
       "      <th>Country</th>\n",
       "      <th>Code</th>\n",
       "      <th>Year</th>\n",
       "      <th>avg_years_of_schooling</th>\n",
       "      <th>Both sexes</th>\n",
       "      <th>Male</th>\n",
       "      <th>Female</th>\n",
       "      <th>Continent</th>\n",
       "    </tr>\n",
       "  </thead>\n",
       "  <tbody>\n",
       "    <tr>\n",
       "      <th>0</th>\n",
       "      <td>Afghanistan</td>\n",
       "      <td>AFG</td>\n",
       "      <td>2016</td>\n",
       "      <td>3.6</td>\n",
       "      <td>245</td>\n",
       "      <td>272</td>\n",
       "      <td>216</td>\n",
       "      <td>Asia</td>\n",
       "    </tr>\n",
       "    <tr>\n",
       "      <th>1</th>\n",
       "      <td>Afghanistan</td>\n",
       "      <td>AFG</td>\n",
       "      <td>2015</td>\n",
       "      <td>3.6</td>\n",
       "      <td>233</td>\n",
       "      <td>254</td>\n",
       "      <td>210</td>\n",
       "      <td>Asia</td>\n",
       "    </tr>\n",
       "    <tr>\n",
       "      <th>2</th>\n",
       "      <td>Afghanistan</td>\n",
       "      <td>AFG</td>\n",
       "      <td>2014</td>\n",
       "      <td>3.5</td>\n",
       "      <td>234</td>\n",
       "      <td>254</td>\n",
       "      <td>213</td>\n",
       "      <td>Asia</td>\n",
       "    </tr>\n",
       "    <tr>\n",
       "      <th>3</th>\n",
       "      <td>Afghanistan</td>\n",
       "      <td>AFG</td>\n",
       "      <td>2013</td>\n",
       "      <td>3.5</td>\n",
       "      <td>235</td>\n",
       "      <td>254</td>\n",
       "      <td>215</td>\n",
       "      <td>Asia</td>\n",
       "    </tr>\n",
       "    <tr>\n",
       "      <th>4</th>\n",
       "      <td>Afghanistan</td>\n",
       "      <td>AFG</td>\n",
       "      <td>2012</td>\n",
       "      <td>3.4</td>\n",
       "      <td>242</td>\n",
       "      <td>262</td>\n",
       "      <td>221</td>\n",
       "      <td>Asia</td>\n",
       "    </tr>\n",
       "    <tr>\n",
       "      <th>...</th>\n",
       "      <td>...</td>\n",
       "      <td>...</td>\n",
       "      <td>...</td>\n",
       "      <td>...</td>\n",
       "      <td>...</td>\n",
       "      <td>...</td>\n",
       "      <td>...</td>\n",
       "      <td>...</td>\n",
       "    </tr>\n",
       "    <tr>\n",
       "      <th>2691</th>\n",
       "      <td>Zimbabwe</td>\n",
       "      <td>ZWE</td>\n",
       "      <td>2004</td>\n",
       "      <td>6.8</td>\n",
       "      <td>694</td>\n",
       "      <td>725</td>\n",
       "      <td>670</td>\n",
       "      <td>Africa</td>\n",
       "    </tr>\n",
       "    <tr>\n",
       "      <th>2692</th>\n",
       "      <td>Zimbabwe</td>\n",
       "      <td>ZWE</td>\n",
       "      <td>2003</td>\n",
       "      <td>6.8</td>\n",
       "      <td>697</td>\n",
       "      <td>728</td>\n",
       "      <td>671</td>\n",
       "      <td>Africa</td>\n",
       "    </tr>\n",
       "    <tr>\n",
       "      <th>2693</th>\n",
       "      <td>Zimbabwe</td>\n",
       "      <td>ZWE</td>\n",
       "      <td>2002</td>\n",
       "      <td>6.9</td>\n",
       "      <td>695</td>\n",
       "      <td>728</td>\n",
       "      <td>667</td>\n",
       "      <td>Africa</td>\n",
       "    </tr>\n",
       "    <tr>\n",
       "      <th>2694</th>\n",
       "      <td>Zimbabwe</td>\n",
       "      <td>ZWE</td>\n",
       "      <td>2001</td>\n",
       "      <td>6.7</td>\n",
       "      <td>688</td>\n",
       "      <td>723</td>\n",
       "      <td>656</td>\n",
       "      <td>Africa</td>\n",
       "    </tr>\n",
       "    <tr>\n",
       "      <th>2695</th>\n",
       "      <td>Zimbabwe</td>\n",
       "      <td>ZWE</td>\n",
       "      <td>2000</td>\n",
       "      <td>6.5</td>\n",
       "      <td>675</td>\n",
       "      <td>715</td>\n",
       "      <td>640</td>\n",
       "      <td>Africa</td>\n",
       "    </tr>\n",
       "  </tbody>\n",
       "</table>\n",
       "<p>2696 rows × 8 columns</p>\n",
       "</div>"
      ],
      "text/plain": [
       "          Country Code  Year  avg_years_of_schooling  Both sexes  Male  \\\n",
       "0     Afghanistan  AFG  2016                     3.6         245   272   \n",
       "1     Afghanistan  AFG  2015                     3.6         233   254   \n",
       "2     Afghanistan  AFG  2014                     3.5         234   254   \n",
       "3     Afghanistan  AFG  2013                     3.5         235   254   \n",
       "4     Afghanistan  AFG  2012                     3.4         242   262   \n",
       "...           ...  ...   ...                     ...         ...   ...   \n",
       "2691     Zimbabwe  ZWE  2004                     6.8         694   725   \n",
       "2692     Zimbabwe  ZWE  2003                     6.8         697   728   \n",
       "2693     Zimbabwe  ZWE  2002                     6.9         695   728   \n",
       "2694     Zimbabwe  ZWE  2001                     6.7         688   723   \n",
       "2695     Zimbabwe  ZWE  2000                     6.5         675   715   \n",
       "\n",
       "      Female Continent  \n",
       "0        216      Asia  \n",
       "1        210      Asia  \n",
       "2        213      Asia  \n",
       "3        215      Asia  \n",
       "4        221      Asia  \n",
       "...      ...       ...  \n",
       "2691     670    Africa  \n",
       "2692     671    Africa  \n",
       "2693     667    Africa  \n",
       "2694     656    Africa  \n",
       "2695     640    Africa  \n",
       "\n",
       "[2696 rows x 8 columns]"
      ]
     },
     "execution_count": 41,
     "metadata": {},
     "output_type": "execute_result"
    }
   ],
   "source": [
    "final_df = merge_df.sort_values(['Country','Year'], ascending=[True,False]).reset_index()\n",
    "final_df.drop(columns='index', inplace=True)\n",
    "final_df"
   ]
  },
  {
   "cell_type": "code",
   "execution_count": 17,
   "metadata": {},
   "outputs": [
    {
     "name": "stdout",
     "output_type": "stream",
     "text": [
      "<class 'pandas.core.frame.DataFrame'>\n",
      "RangeIndex: 648 entries, 0 to 647\n",
      "Data columns (total 15 columns):\n",
      " #   Column                  Non-Null Count  Dtype  \n",
      "---  ------                  --------------  -----  \n",
      " 0   Continent               648 non-null    object \n",
      " 1   Country                 648 non-null    object \n",
      " 2   Code                    648 non-null    object \n",
      " 3   Year                    648 non-null    int64  \n",
      " 4   avg_years_of_schooling  648 non-null    float64\n",
      " 5   mort_rate_both_sexes    648 non-null    int64  \n",
      " 6   mort_rate_male          648 non-null    int64  \n",
      " 7   mort_rate_female        648 non-null    int64  \n",
      " 8   inf_both_sexes          648 non-null    float64\n",
      " 9   inf_male                648 non-null    float64\n",
      " 10  inf_female              648 non-null    float64\n",
      " 11  neonat_both_sexes       648 non-null    float64\n",
      " 12  u5_both_sexes           648 non-null    float64\n",
      " 13  u5_male                 648 non-null    float64\n",
      " 14  u5_female               648 non-null    float64\n",
      "dtypes: float64(8), int64(4), object(3)\n",
      "memory usage: 76.1+ KB\n"
     ]
    }
   ],
   "source": [
    "final_df.info()"
   ]
  },
  {
   "cell_type": "code",
   "execution_count": 67,
   "metadata": {},
   "outputs": [
    {
     "data": {
      "text/html": [
       "<div>\n",
       "<style scoped>\n",
       "    .dataframe tbody tr th:only-of-type {\n",
       "        vertical-align: middle;\n",
       "    }\n",
       "\n",
       "    .dataframe tbody tr th {\n",
       "        vertical-align: top;\n",
       "    }\n",
       "\n",
       "    .dataframe thead th {\n",
       "        text-align: right;\n",
       "    }\n",
       "</style>\n",
       "<table border=\"1\" class=\"dataframe\">\n",
       "  <thead>\n",
       "    <tr style=\"text-align: right;\">\n",
       "      <th></th>\n",
       "      <th>Country</th>\n",
       "      <th>Code</th>\n",
       "      <th>Year</th>\n",
       "      <th>avg_years_of_schooling</th>\n",
       "      <th>Both sexes</th>\n",
       "      <th>Male</th>\n",
       "      <th>Female</th>\n",
       "      <th>Continent</th>\n",
       "    </tr>\n",
       "  </thead>\n",
       "  <tbody>\n",
       "    <tr>\n",
       "      <th>0</th>\n",
       "      <td>Afghanistan</td>\n",
       "      <td>AFG</td>\n",
       "      <td>2000</td>\n",
       "      <td>2.2</td>\n",
       "      <td>316</td>\n",
       "      <td>340</td>\n",
       "      <td>290</td>\n",
       "      <td>Asia</td>\n",
       "    </tr>\n",
       "    <tr>\n",
       "      <th>1</th>\n",
       "      <td>Afghanistan</td>\n",
       "      <td>AFG</td>\n",
       "      <td>2001</td>\n",
       "      <td>2.2</td>\n",
       "      <td>307</td>\n",
       "      <td>330</td>\n",
       "      <td>283</td>\n",
       "      <td>Asia</td>\n",
       "    </tr>\n",
       "    <tr>\n",
       "      <th>2</th>\n",
       "      <td>Afghanistan</td>\n",
       "      <td>AFG</td>\n",
       "      <td>2002</td>\n",
       "      <td>2.3</td>\n",
       "      <td>292</td>\n",
       "      <td>309</td>\n",
       "      <td>275</td>\n",
       "      <td>Asia</td>\n",
       "    </tr>\n",
       "    <tr>\n",
       "      <th>3</th>\n",
       "      <td>Afghanistan</td>\n",
       "      <td>AFG</td>\n",
       "      <td>2003</td>\n",
       "      <td>2.4</td>\n",
       "      <td>286</td>\n",
       "      <td>304</td>\n",
       "      <td>268</td>\n",
       "      <td>Asia</td>\n",
       "    </tr>\n",
       "    <tr>\n",
       "      <th>4</th>\n",
       "      <td>Afghanistan</td>\n",
       "      <td>AFG</td>\n",
       "      <td>2004</td>\n",
       "      <td>2.5</td>\n",
       "      <td>282</td>\n",
       "      <td>300</td>\n",
       "      <td>263</td>\n",
       "      <td>Asia</td>\n",
       "    </tr>\n",
       "    <tr>\n",
       "      <th>...</th>\n",
       "      <td>...</td>\n",
       "      <td>...</td>\n",
       "      <td>...</td>\n",
       "      <td>...</td>\n",
       "      <td>...</td>\n",
       "      <td>...</td>\n",
       "      <td>...</td>\n",
       "      <td>...</td>\n",
       "    </tr>\n",
       "    <tr>\n",
       "      <th>2691</th>\n",
       "      <td>Zimbabwe</td>\n",
       "      <td>ZWE</td>\n",
       "      <td>2012</td>\n",
       "      <td>7.9</td>\n",
       "      <td>407</td>\n",
       "      <td>464</td>\n",
       "      <td>357</td>\n",
       "      <td>Africa</td>\n",
       "    </tr>\n",
       "    <tr>\n",
       "      <th>2692</th>\n",
       "      <td>Zimbabwe</td>\n",
       "      <td>ZWE</td>\n",
       "      <td>2013</td>\n",
       "      <td>8.0</td>\n",
       "      <td>383</td>\n",
       "      <td>437</td>\n",
       "      <td>336</td>\n",
       "      <td>Africa</td>\n",
       "    </tr>\n",
       "    <tr>\n",
       "      <th>2693</th>\n",
       "      <td>Zimbabwe</td>\n",
       "      <td>ZWE</td>\n",
       "      <td>2014</td>\n",
       "      <td>8.2</td>\n",
       "      <td>358</td>\n",
       "      <td>395</td>\n",
       "      <td>328</td>\n",
       "      <td>Africa</td>\n",
       "    </tr>\n",
       "    <tr>\n",
       "      <th>2694</th>\n",
       "      <td>Zimbabwe</td>\n",
       "      <td>ZWE</td>\n",
       "      <td>2015</td>\n",
       "      <td>8.2</td>\n",
       "      <td>346</td>\n",
       "      <td>383</td>\n",
       "      <td>314</td>\n",
       "      <td>Africa</td>\n",
       "    </tr>\n",
       "    <tr>\n",
       "      <th>2695</th>\n",
       "      <td>Zimbabwe</td>\n",
       "      <td>ZWE</td>\n",
       "      <td>2016</td>\n",
       "      <td>8.2</td>\n",
       "      <td>334</td>\n",
       "      <td>371</td>\n",
       "      <td>303</td>\n",
       "      <td>Africa</td>\n",
       "    </tr>\n",
       "  </tbody>\n",
       "</table>\n",
       "<p>2696 rows × 8 columns</p>\n",
       "</div>"
      ],
      "text/plain": [
       "          Country Code  Year  avg_years_of_schooling  Both sexes  Male  \\\n",
       "0     Afghanistan  AFG  2000                     2.2         316   340   \n",
       "1     Afghanistan  AFG  2001                     2.2         307   330   \n",
       "2     Afghanistan  AFG  2002                     2.3         292   309   \n",
       "3     Afghanistan  AFG  2003                     2.4         286   304   \n",
       "4     Afghanistan  AFG  2004                     2.5         282   300   \n",
       "...           ...  ...   ...                     ...         ...   ...   \n",
       "2691     Zimbabwe  ZWE  2012                     7.9         407   464   \n",
       "2692     Zimbabwe  ZWE  2013                     8.0         383   437   \n",
       "2693     Zimbabwe  ZWE  2014                     8.2         358   395   \n",
       "2694     Zimbabwe  ZWE  2015                     8.2         346   383   \n",
       "2695     Zimbabwe  ZWE  2016                     8.2         334   371   \n",
       "\n",
       "      Female Continent  \n",
       "0        290      Asia  \n",
       "1        283      Asia  \n",
       "2        275      Asia  \n",
       "3        268      Asia  \n",
       "4        263      Asia  \n",
       "...      ...       ...  \n",
       "2691     357    Africa  \n",
       "2692     336    Africa  \n",
       "2693     328    Africa  \n",
       "2694     314    Africa  \n",
       "2695     303    Africa  \n",
       "\n",
       "[2696 rows x 8 columns]"
      ]
     },
     "execution_count": 67,
     "metadata": {},
     "output_type": "execute_result"
    }
   ],
   "source": [
    "merge_df"
   ]
  },
  {
   "cell_type": "code",
   "execution_count": 102,
   "metadata": {},
   "outputs": [
    {
     "name": "stderr",
     "output_type": "stream",
     "text": [
      "C:\\Users\\oludo\\AppData\\Local\\Temp\\ipykernel_27216\\3413100836.py:3: FutureWarning:\n",
      "\n",
      "Indexing with multiple keys (implicitly converted to a tuple of keys) will be deprecated, use a list instead.\n",
      "\n"
     ]
    },
    {
     "data": {
      "application/vnd.plotly.v1+json": {
       "config": {
        "plotlyServerURL": "https://plot.ly"
       },
       "data": [
        {
         "hovertemplate": "Continent=Africa<br>Year=%{x}<br>Both sexes=%{y}<extra></extra>",
         "legendgroup": "Africa",
         "line": {
          "color": "#1F77B4",
          "dash": "solid"
         },
         "marker": {
          "symbol": "circle"
         },
         "mode": "lines",
         "name": "Africa",
         "orientation": "v",
         "showlegend": true,
         "type": "scatter",
         "x": [
          2000,
          2001,
          2002,
          2003,
          2004,
          2005,
          2006,
          2007,
          2008,
          2009,
          2010,
          2011,
          2012,
          2013,
          2014,
          2015,
          2016
         ],
         "xaxis": "x",
         "y": [
          358.3863636363636,
          361.90909090909093,
          364.3181818181818,
          366.46666666666664,
          360.0652173913044,
          350.0208333333333,
          338.9591836734694,
          326.7291666666667,
          315.44897959183675,
          303.3061224489796,
          292.6326530612245,
          284.3061224489796,
          276,
          270.57142857142856,
          268.9183673469388,
          261.51020408163265,
          255.3265306122449
         ],
         "yaxis": "y"
        },
        {
         "hovertemplate": "Continent=Asia<br>Year=%{x}<br>Both sexes=%{y}<extra></extra>",
         "legendgroup": "Asia",
         "line": {
          "color": "#FF7F0E",
          "dash": "solid"
         },
         "marker": {
          "symbol": "circle"
         },
         "mode": "lines",
         "name": "Asia",
         "orientation": "v",
         "showlegend": true,
         "type": "scatter",
         "x": [
          2000,
          2001,
          2002,
          2003,
          2004,
          2005,
          2006,
          2007,
          2008,
          2009,
          2010,
          2011,
          2012,
          2013,
          2014,
          2015,
          2016
         ],
         "xaxis": "x",
         "y": [
          167.47222222222223,
          163.38888888888889,
          161.66666666666666,
          160.69444444444446,
          161.41666666666666,
          159.39473684210526,
          157.81578947368422,
          153.3421052631579,
          151.73684210526315,
          145.6578947368421,
          143.30769230769232,
          141,
          138.46153846153845,
          136.66666666666666,
          135.56410256410257,
          133.92307692307693,
          131.02564102564102
         ],
         "yaxis": "y"
        },
        {
         "hovertemplate": "Continent=Europe<br>Year=%{x}<br>Both sexes=%{y}<extra></extra>",
         "legendgroup": "Europe",
         "line": {
          "color": "#2CA02C",
          "dash": "solid"
         },
         "marker": {
          "symbol": "circle"
         },
         "mode": "lines",
         "name": "Europe",
         "orientation": "v",
         "showlegend": true,
         "type": "scatter",
         "x": [
          2000,
          2001,
          2002,
          2003,
          2004,
          2005,
          2006,
          2007,
          2008,
          2009,
          2010,
          2011,
          2012,
          2013,
          2014,
          2015,
          2016
         ],
         "xaxis": "x",
         "y": [
          126.76470588235294,
          125.79411764705883,
          123.20588235294117,
          121.54285714285714,
          118.88571428571429,
          119.22857142857143,
          117.48571428571428,
          116.42857142857143,
          112.34285714285714,
          107.85714285714286,
          103.65714285714286,
          101.25714285714285,
          98.08571428571429,
          95.25714285714285,
          92.91428571428571,
          90.62857142857143,
          89
         ],
         "yaxis": "y"
        },
        {
         "hovertemplate": "Continent=North America<br>Year=%{x}<br>Both sexes=%{y}<extra></extra>",
         "legendgroup": "North America",
         "line": {
          "color": "#D62728",
          "dash": "solid"
         },
         "marker": {
          "symbol": "circle"
         },
         "mode": "lines",
         "name": "North America",
         "orientation": "v",
         "showlegend": true,
         "type": "scatter",
         "x": [
          2000,
          2001,
          2002,
          2003,
          2004,
          2005,
          2006,
          2007,
          2008,
          2009,
          2010,
          2011,
          2012,
          2013,
          2014,
          2015,
          2016
         ],
         "xaxis": "x",
         "y": [
          175.31578947368422,
          174.68421052631578,
          171.9,
          170.9,
          169.45,
          165.25,
          161.9,
          157.55,
          156.25,
          153.45,
          172.7,
          149.15,
          148.65,
          146.85,
          145.05,
          143.4,
          142
         ],
         "yaxis": "y"
        },
        {
         "hovertemplate": "Continent=Oceania<br>Year=%{x}<br>Both sexes=%{y}<extra></extra>",
         "legendgroup": "Oceania",
         "line": {
          "color": "#9467BD",
          "dash": "solid"
         },
         "marker": {
          "symbol": "circle"
         },
         "mode": "lines",
         "name": "Oceania",
         "orientation": "v",
         "showlegend": true,
         "type": "scatter",
         "x": [
          2000,
          2001,
          2002,
          2003,
          2004,
          2005,
          2006,
          2007,
          2008,
          2009,
          2010,
          2011,
          2012,
          2013,
          2014,
          2015,
          2016
         ],
         "xaxis": "x",
         "y": [
          181.625,
          178.5,
          176,
          172.875,
          169.375,
          166.22222222222223,
          162.44444444444446,
          160.11111111111111,
          156.55555555555554,
          158,
          152,
          149.55555555555554,
          147.11111111111111,
          144.66666666666666,
          143.33333333333334,
          141.22222222222223,
          139.11111111111111
         ],
         "yaxis": "y"
        },
        {
         "hovertemplate": "Continent=South America<br>Year=%{x}<br>Both sexes=%{y}<extra></extra>",
         "legendgroup": "South America",
         "line": {
          "color": "#8C564B",
          "dash": "solid"
         },
         "marker": {
          "symbol": "circle"
         },
         "mode": "lines",
         "name": "South America",
         "orientation": "v",
         "showlegend": true,
         "type": "scatter",
         "x": [
          2000,
          2001,
          2002,
          2003,
          2004,
          2005,
          2006,
          2007,
          2008,
          2009,
          2010,
          2011,
          2012,
          2013,
          2014,
          2015,
          2016
         ],
         "xaxis": "x",
         "y": [
          166.55555555555554,
          163.33333333333334,
          162.33333333333334,
          158.11111111111111,
          161.3,
          158.1,
          155.7,
          153.8,
          151.5,
          151.3,
          150.1,
          148.2,
          148,
          145.7,
          144,
          143.2,
          142
         ],
         "yaxis": "y"
        }
       ],
       "layout": {
        "legend": {
         "title": {
          "text": "Continent"
         },
         "tracegroupgap": 0
        },
        "margin": {
         "t": 60
        },
        "template": {
         "data": {
          "bar": [
           {
            "error_x": {
             "color": "rgb(36,36,36)"
            },
            "error_y": {
             "color": "rgb(36,36,36)"
            },
            "marker": {
             "line": {
              "color": "white",
              "width": 0.5
             },
             "pattern": {
              "fillmode": "overlay",
              "size": 10,
              "solidity": 0.2
             }
            },
            "type": "bar"
           }
          ],
          "barpolar": [
           {
            "marker": {
             "line": {
              "color": "white",
              "width": 0.5
             },
             "pattern": {
              "fillmode": "overlay",
              "size": 10,
              "solidity": 0.2
             }
            },
            "type": "barpolar"
           }
          ],
          "carpet": [
           {
            "aaxis": {
             "endlinecolor": "rgb(36,36,36)",
             "gridcolor": "white",
             "linecolor": "white",
             "minorgridcolor": "white",
             "startlinecolor": "rgb(36,36,36)"
            },
            "baxis": {
             "endlinecolor": "rgb(36,36,36)",
             "gridcolor": "white",
             "linecolor": "white",
             "minorgridcolor": "white",
             "startlinecolor": "rgb(36,36,36)"
            },
            "type": "carpet"
           }
          ],
          "choropleth": [
           {
            "colorbar": {
             "outlinewidth": 1,
             "tickcolor": "rgb(36,36,36)",
             "ticks": "outside"
            },
            "type": "choropleth"
           }
          ],
          "contour": [
           {
            "colorbar": {
             "outlinewidth": 1,
             "tickcolor": "rgb(36,36,36)",
             "ticks": "outside"
            },
            "colorscale": [
             [
              0,
              "#440154"
             ],
             [
              0.1111111111111111,
              "#482878"
             ],
             [
              0.2222222222222222,
              "#3e4989"
             ],
             [
              0.3333333333333333,
              "#31688e"
             ],
             [
              0.4444444444444444,
              "#26828e"
             ],
             [
              0.5555555555555556,
              "#1f9e89"
             ],
             [
              0.6666666666666666,
              "#35b779"
             ],
             [
              0.7777777777777778,
              "#6ece58"
             ],
             [
              0.8888888888888888,
              "#b5de2b"
             ],
             [
              1,
              "#fde725"
             ]
            ],
            "type": "contour"
           }
          ],
          "contourcarpet": [
           {
            "colorbar": {
             "outlinewidth": 1,
             "tickcolor": "rgb(36,36,36)",
             "ticks": "outside"
            },
            "type": "contourcarpet"
           }
          ],
          "heatmap": [
           {
            "colorbar": {
             "outlinewidth": 1,
             "tickcolor": "rgb(36,36,36)",
             "ticks": "outside"
            },
            "colorscale": [
             [
              0,
              "#440154"
             ],
             [
              0.1111111111111111,
              "#482878"
             ],
             [
              0.2222222222222222,
              "#3e4989"
             ],
             [
              0.3333333333333333,
              "#31688e"
             ],
             [
              0.4444444444444444,
              "#26828e"
             ],
             [
              0.5555555555555556,
              "#1f9e89"
             ],
             [
              0.6666666666666666,
              "#35b779"
             ],
             [
              0.7777777777777778,
              "#6ece58"
             ],
             [
              0.8888888888888888,
              "#b5de2b"
             ],
             [
              1,
              "#fde725"
             ]
            ],
            "type": "heatmap"
           }
          ],
          "heatmapgl": [
           {
            "colorbar": {
             "outlinewidth": 1,
             "tickcolor": "rgb(36,36,36)",
             "ticks": "outside"
            },
            "colorscale": [
             [
              0,
              "#440154"
             ],
             [
              0.1111111111111111,
              "#482878"
             ],
             [
              0.2222222222222222,
              "#3e4989"
             ],
             [
              0.3333333333333333,
              "#31688e"
             ],
             [
              0.4444444444444444,
              "#26828e"
             ],
             [
              0.5555555555555556,
              "#1f9e89"
             ],
             [
              0.6666666666666666,
              "#35b779"
             ],
             [
              0.7777777777777778,
              "#6ece58"
             ],
             [
              0.8888888888888888,
              "#b5de2b"
             ],
             [
              1,
              "#fde725"
             ]
            ],
            "type": "heatmapgl"
           }
          ],
          "histogram": [
           {
            "marker": {
             "line": {
              "color": "white",
              "width": 0.6
             }
            },
            "type": "histogram"
           }
          ],
          "histogram2d": [
           {
            "colorbar": {
             "outlinewidth": 1,
             "tickcolor": "rgb(36,36,36)",
             "ticks": "outside"
            },
            "colorscale": [
             [
              0,
              "#440154"
             ],
             [
              0.1111111111111111,
              "#482878"
             ],
             [
              0.2222222222222222,
              "#3e4989"
             ],
             [
              0.3333333333333333,
              "#31688e"
             ],
             [
              0.4444444444444444,
              "#26828e"
             ],
             [
              0.5555555555555556,
              "#1f9e89"
             ],
             [
              0.6666666666666666,
              "#35b779"
             ],
             [
              0.7777777777777778,
              "#6ece58"
             ],
             [
              0.8888888888888888,
              "#b5de2b"
             ],
             [
              1,
              "#fde725"
             ]
            ],
            "type": "histogram2d"
           }
          ],
          "histogram2dcontour": [
           {
            "colorbar": {
             "outlinewidth": 1,
             "tickcolor": "rgb(36,36,36)",
             "ticks": "outside"
            },
            "colorscale": [
             [
              0,
              "#440154"
             ],
             [
              0.1111111111111111,
              "#482878"
             ],
             [
              0.2222222222222222,
              "#3e4989"
             ],
             [
              0.3333333333333333,
              "#31688e"
             ],
             [
              0.4444444444444444,
              "#26828e"
             ],
             [
              0.5555555555555556,
              "#1f9e89"
             ],
             [
              0.6666666666666666,
              "#35b779"
             ],
             [
              0.7777777777777778,
              "#6ece58"
             ],
             [
              0.8888888888888888,
              "#b5de2b"
             ],
             [
              1,
              "#fde725"
             ]
            ],
            "type": "histogram2dcontour"
           }
          ],
          "mesh3d": [
           {
            "colorbar": {
             "outlinewidth": 1,
             "tickcolor": "rgb(36,36,36)",
             "ticks": "outside"
            },
            "type": "mesh3d"
           }
          ],
          "parcoords": [
           {
            "line": {
             "colorbar": {
              "outlinewidth": 1,
              "tickcolor": "rgb(36,36,36)",
              "ticks": "outside"
             }
            },
            "type": "parcoords"
           }
          ],
          "pie": [
           {
            "automargin": true,
            "type": "pie"
           }
          ],
          "scatter": [
           {
            "fillpattern": {
             "fillmode": "overlay",
             "size": 10,
             "solidity": 0.2
            },
            "type": "scatter"
           }
          ],
          "scatter3d": [
           {
            "line": {
             "colorbar": {
              "outlinewidth": 1,
              "tickcolor": "rgb(36,36,36)",
              "ticks": "outside"
             }
            },
            "marker": {
             "colorbar": {
              "outlinewidth": 1,
              "tickcolor": "rgb(36,36,36)",
              "ticks": "outside"
             }
            },
            "type": "scatter3d"
           }
          ],
          "scattercarpet": [
           {
            "marker": {
             "colorbar": {
              "outlinewidth": 1,
              "tickcolor": "rgb(36,36,36)",
              "ticks": "outside"
             }
            },
            "type": "scattercarpet"
           }
          ],
          "scattergeo": [
           {
            "marker": {
             "colorbar": {
              "outlinewidth": 1,
              "tickcolor": "rgb(36,36,36)",
              "ticks": "outside"
             }
            },
            "type": "scattergeo"
           }
          ],
          "scattergl": [
           {
            "marker": {
             "colorbar": {
              "outlinewidth": 1,
              "tickcolor": "rgb(36,36,36)",
              "ticks": "outside"
             }
            },
            "type": "scattergl"
           }
          ],
          "scattermapbox": [
           {
            "marker": {
             "colorbar": {
              "outlinewidth": 1,
              "tickcolor": "rgb(36,36,36)",
              "ticks": "outside"
             }
            },
            "type": "scattermapbox"
           }
          ],
          "scatterpolar": [
           {
            "marker": {
             "colorbar": {
              "outlinewidth": 1,
              "tickcolor": "rgb(36,36,36)",
              "ticks": "outside"
             }
            },
            "type": "scatterpolar"
           }
          ],
          "scatterpolargl": [
           {
            "marker": {
             "colorbar": {
              "outlinewidth": 1,
              "tickcolor": "rgb(36,36,36)",
              "ticks": "outside"
             }
            },
            "type": "scatterpolargl"
           }
          ],
          "scatterternary": [
           {
            "marker": {
             "colorbar": {
              "outlinewidth": 1,
              "tickcolor": "rgb(36,36,36)",
              "ticks": "outside"
             }
            },
            "type": "scatterternary"
           }
          ],
          "surface": [
           {
            "colorbar": {
             "outlinewidth": 1,
             "tickcolor": "rgb(36,36,36)",
             "ticks": "outside"
            },
            "colorscale": [
             [
              0,
              "#440154"
             ],
             [
              0.1111111111111111,
              "#482878"
             ],
             [
              0.2222222222222222,
              "#3e4989"
             ],
             [
              0.3333333333333333,
              "#31688e"
             ],
             [
              0.4444444444444444,
              "#26828e"
             ],
             [
              0.5555555555555556,
              "#1f9e89"
             ],
             [
              0.6666666666666666,
              "#35b779"
             ],
             [
              0.7777777777777778,
              "#6ece58"
             ],
             [
              0.8888888888888888,
              "#b5de2b"
             ],
             [
              1,
              "#fde725"
             ]
            ],
            "type": "surface"
           }
          ],
          "table": [
           {
            "cells": {
             "fill": {
              "color": "rgb(237,237,237)"
             },
             "line": {
              "color": "white"
             }
            },
            "header": {
             "fill": {
              "color": "rgb(217,217,217)"
             },
             "line": {
              "color": "white"
             }
            },
            "type": "table"
           }
          ]
         },
         "layout": {
          "annotationdefaults": {
           "arrowhead": 0,
           "arrowwidth": 1
          },
          "autotypenumbers": "strict",
          "coloraxis": {
           "colorbar": {
            "outlinewidth": 1,
            "tickcolor": "rgb(36,36,36)",
            "ticks": "outside"
           }
          },
          "colorscale": {
           "diverging": [
            [
             0,
             "rgb(103,0,31)"
            ],
            [
             0.1,
             "rgb(178,24,43)"
            ],
            [
             0.2,
             "rgb(214,96,77)"
            ],
            [
             0.3,
             "rgb(244,165,130)"
            ],
            [
             0.4,
             "rgb(253,219,199)"
            ],
            [
             0.5,
             "rgb(247,247,247)"
            ],
            [
             0.6,
             "rgb(209,229,240)"
            ],
            [
             0.7,
             "rgb(146,197,222)"
            ],
            [
             0.8,
             "rgb(67,147,195)"
            ],
            [
             0.9,
             "rgb(33,102,172)"
            ],
            [
             1,
             "rgb(5,48,97)"
            ]
           ],
           "sequential": [
            [
             0,
             "#440154"
            ],
            [
             0.1111111111111111,
             "#482878"
            ],
            [
             0.2222222222222222,
             "#3e4989"
            ],
            [
             0.3333333333333333,
             "#31688e"
            ],
            [
             0.4444444444444444,
             "#26828e"
            ],
            [
             0.5555555555555556,
             "#1f9e89"
            ],
            [
             0.6666666666666666,
             "#35b779"
            ],
            [
             0.7777777777777778,
             "#6ece58"
            ],
            [
             0.8888888888888888,
             "#b5de2b"
            ],
            [
             1,
             "#fde725"
            ]
           ],
           "sequentialminus": [
            [
             0,
             "#440154"
            ],
            [
             0.1111111111111111,
             "#482878"
            ],
            [
             0.2222222222222222,
             "#3e4989"
            ],
            [
             0.3333333333333333,
             "#31688e"
            ],
            [
             0.4444444444444444,
             "#26828e"
            ],
            [
             0.5555555555555556,
             "#1f9e89"
            ],
            [
             0.6666666666666666,
             "#35b779"
            ],
            [
             0.7777777777777778,
             "#6ece58"
            ],
            [
             0.8888888888888888,
             "#b5de2b"
            ],
            [
             1,
             "#fde725"
            ]
           ]
          },
          "colorway": [
           "#1F77B4",
           "#FF7F0E",
           "#2CA02C",
           "#D62728",
           "#9467BD",
           "#8C564B",
           "#E377C2",
           "#7F7F7F",
           "#BCBD22",
           "#17BECF"
          ],
          "font": {
           "color": "rgb(36,36,36)"
          },
          "geo": {
           "bgcolor": "white",
           "lakecolor": "white",
           "landcolor": "white",
           "showlakes": true,
           "showland": true,
           "subunitcolor": "white"
          },
          "hoverlabel": {
           "align": "left"
          },
          "hovermode": "closest",
          "mapbox": {
           "style": "light"
          },
          "paper_bgcolor": "white",
          "plot_bgcolor": "white",
          "polar": {
           "angularaxis": {
            "gridcolor": "rgb(232,232,232)",
            "linecolor": "rgb(36,36,36)",
            "showgrid": false,
            "showline": true,
            "ticks": "outside"
           },
           "bgcolor": "white",
           "radialaxis": {
            "gridcolor": "rgb(232,232,232)",
            "linecolor": "rgb(36,36,36)",
            "showgrid": false,
            "showline": true,
            "ticks": "outside"
           }
          },
          "scene": {
           "xaxis": {
            "backgroundcolor": "white",
            "gridcolor": "rgb(232,232,232)",
            "gridwidth": 2,
            "linecolor": "rgb(36,36,36)",
            "showbackground": true,
            "showgrid": false,
            "showline": true,
            "ticks": "outside",
            "zeroline": false,
            "zerolinecolor": "rgb(36,36,36)"
           },
           "yaxis": {
            "backgroundcolor": "white",
            "gridcolor": "rgb(232,232,232)",
            "gridwidth": 2,
            "linecolor": "rgb(36,36,36)",
            "showbackground": true,
            "showgrid": false,
            "showline": true,
            "ticks": "outside",
            "zeroline": false,
            "zerolinecolor": "rgb(36,36,36)"
           },
           "zaxis": {
            "backgroundcolor": "white",
            "gridcolor": "rgb(232,232,232)",
            "gridwidth": 2,
            "linecolor": "rgb(36,36,36)",
            "showbackground": true,
            "showgrid": false,
            "showline": true,
            "ticks": "outside",
            "zeroline": false,
            "zerolinecolor": "rgb(36,36,36)"
           }
          },
          "shapedefaults": {
           "fillcolor": "black",
           "line": {
            "width": 0
           },
           "opacity": 0.3
          },
          "ternary": {
           "aaxis": {
            "gridcolor": "rgb(232,232,232)",
            "linecolor": "rgb(36,36,36)",
            "showgrid": false,
            "showline": true,
            "ticks": "outside"
           },
           "baxis": {
            "gridcolor": "rgb(232,232,232)",
            "linecolor": "rgb(36,36,36)",
            "showgrid": false,
            "showline": true,
            "ticks": "outside"
           },
           "bgcolor": "white",
           "caxis": {
            "gridcolor": "rgb(232,232,232)",
            "linecolor": "rgb(36,36,36)",
            "showgrid": false,
            "showline": true,
            "ticks": "outside"
           }
          },
          "title": {
           "x": 0.05
          },
          "xaxis": {
           "automargin": true,
           "gridcolor": "rgb(232,232,232)",
           "linecolor": "rgb(36,36,36)",
           "showgrid": false,
           "showline": true,
           "ticks": "outside",
           "title": {
            "standoff": 15
           },
           "zeroline": false,
           "zerolinecolor": "rgb(36,36,36)"
          },
          "yaxis": {
           "automargin": true,
           "gridcolor": "rgb(232,232,232)",
           "linecolor": "rgb(36,36,36)",
           "showgrid": false,
           "showline": true,
           "ticks": "outside",
           "title": {
            "standoff": 15
           },
           "zeroline": false,
           "zerolinecolor": "rgb(36,36,36)"
          }
         }
        },
        "xaxis": {
         "anchor": "y",
         "domain": [
          0,
          1
         ],
         "title": {
          "text": "Year"
         }
        },
        "yaxis": {
         "anchor": "x",
         "domain": [
          0,
          1
         ],
         "title": {
          "text": "Both sexes"
         }
        }
       }
      }
     },
     "metadata": {},
     "output_type": "display_data"
    }
   ],
   "source": [
    "import plotly.express as px\n",
    "\n",
    "px.line(merge_df.groupby(['Year','Continent'], as_index=False)['Both sexes','avg_years_of_schooling'].mean(), y='Both sexes',x='Year',template='simple_white',\n",
    "        color='Continent')\n"
   ]
  },
  {
   "cell_type": "code",
   "execution_count": 92,
   "metadata": {},
   "outputs": [
    {
     "name": "stderr",
     "output_type": "stream",
     "text": [
      "C:\\Users\\oludo\\AppData\\Local\\Temp\\ipykernel_27216\\2552727673.py:1: FutureWarning:\n",
      "\n",
      "Indexing with multiple keys (implicitly converted to a tuple of keys) will be deprecated, use a list instead.\n",
      "\n"
     ]
    },
    {
     "data": {
      "text/html": [
       "<div>\n",
       "<style scoped>\n",
       "    .dataframe tbody tr th:only-of-type {\n",
       "        vertical-align: middle;\n",
       "    }\n",
       "\n",
       "    .dataframe tbody tr th {\n",
       "        vertical-align: top;\n",
       "    }\n",
       "\n",
       "    .dataframe thead th {\n",
       "        text-align: right;\n",
       "    }\n",
       "</style>\n",
       "<table border=\"1\" class=\"dataframe\">\n",
       "  <thead>\n",
       "    <tr style=\"text-align: right;\">\n",
       "      <th></th>\n",
       "      <th>Year</th>\n",
       "      <th>Continent</th>\n",
       "      <th>Both sexes</th>\n",
       "      <th>avg_years_of_schooling</th>\n",
       "    </tr>\n",
       "  </thead>\n",
       "  <tbody>\n",
       "    <tr>\n",
       "      <th>0</th>\n",
       "      <td>2000</td>\n",
       "      <td>Africa</td>\n",
       "      <td>358.386364</td>\n",
       "      <td>4.031818</td>\n",
       "    </tr>\n",
       "    <tr>\n",
       "      <th>1</th>\n",
       "      <td>2000</td>\n",
       "      <td>Asia</td>\n",
       "      <td>167.472222</td>\n",
       "      <td>7.166667</td>\n",
       "    </tr>\n",
       "    <tr>\n",
       "      <th>2</th>\n",
       "      <td>2000</td>\n",
       "      <td>Europe</td>\n",
       "      <td>126.764706</td>\n",
       "      <td>9.879412</td>\n",
       "    </tr>\n",
       "    <tr>\n",
       "      <th>3</th>\n",
       "      <td>2000</td>\n",
       "      <td>North America</td>\n",
       "      <td>175.315789</td>\n",
       "      <td>7.389474</td>\n",
       "    </tr>\n",
       "    <tr>\n",
       "      <th>4</th>\n",
       "      <td>2000</td>\n",
       "      <td>Oceania</td>\n",
       "      <td>181.625000</td>\n",
       "      <td>8.212500</td>\n",
       "    </tr>\n",
       "    <tr>\n",
       "      <th>...</th>\n",
       "      <td>...</td>\n",
       "      <td>...</td>\n",
       "      <td>...</td>\n",
       "      <td>...</td>\n",
       "    </tr>\n",
       "    <tr>\n",
       "      <th>97</th>\n",
       "      <td>2016</td>\n",
       "      <td>Asia</td>\n",
       "      <td>131.025641</td>\n",
       "      <td>8.715385</td>\n",
       "    </tr>\n",
       "    <tr>\n",
       "      <th>98</th>\n",
       "      <td>2016</td>\n",
       "      <td>Europe</td>\n",
       "      <td>89.000000</td>\n",
       "      <td>11.802857</td>\n",
       "    </tr>\n",
       "    <tr>\n",
       "      <th>99</th>\n",
       "      <td>2016</td>\n",
       "      <td>North America</td>\n",
       "      <td>142.000000</td>\n",
       "      <td>9.000000</td>\n",
       "    </tr>\n",
       "    <tr>\n",
       "      <th>100</th>\n",
       "      <td>2016</td>\n",
       "      <td>Oceania</td>\n",
       "      <td>139.111111</td>\n",
       "      <td>9.155556</td>\n",
       "    </tr>\n",
       "    <tr>\n",
       "      <th>101</th>\n",
       "      <td>2016</td>\n",
       "      <td>South America</td>\n",
       "      <td>142.000000</td>\n",
       "      <td>8.820000</td>\n",
       "    </tr>\n",
       "  </tbody>\n",
       "</table>\n",
       "<p>102 rows × 4 columns</p>\n",
       "</div>"
      ],
      "text/plain": [
       "     Year      Continent  Both sexes  avg_years_of_schooling\n",
       "0    2000         Africa  358.386364                4.031818\n",
       "1    2000           Asia  167.472222                7.166667\n",
       "2    2000         Europe  126.764706                9.879412\n",
       "3    2000  North America  175.315789                7.389474\n",
       "4    2000        Oceania  181.625000                8.212500\n",
       "..    ...            ...         ...                     ...\n",
       "97   2016           Asia  131.025641                8.715385\n",
       "98   2016         Europe   89.000000               11.802857\n",
       "99   2016  North America  142.000000                9.000000\n",
       "100  2016        Oceania  139.111111                9.155556\n",
       "101  2016  South America  142.000000                8.820000\n",
       "\n",
       "[102 rows x 4 columns]"
      ]
     },
     "execution_count": 92,
     "metadata": {},
     "output_type": "execute_result"
    }
   ],
   "source": [
    "merge_df.groupby(['Year','Continent'], as_index=False)['Both sexes','avg_years_of_schooling'].mean()"
   ]
  },
  {
   "cell_type": "code",
   "execution_count": 42,
   "metadata": {},
   "outputs": [],
   "source": [
    "final_df.to_csv('Complete_mortality_y_of_schooling.csv', index=False)"
   ]
  },
  {
   "cell_type": "code",
   "execution_count": 27,
   "metadata": {},
   "outputs": [
    {
     "name": "stderr",
     "output_type": "stream",
     "text": [
      "C:\\Users\\oludo\\AppData\\Local\\Temp\\ipykernel_22980\\1228675952.py:2: FutureWarning: The default value of numeric_only in DataFrameGroupBy.sum is deprecated. In a future version, numeric_only will default to False. Either specify numeric_only or select only columns which should be valid for the function.\n",
      "  sui_rate_f = sui_rate.groupby(['country','year'], as_index=False)[['suicides/100k pop',' gdp_for_year ($) ']].sum()\n"
     ]
    }
   ],
   "source": [
    "sui_rate = pd.read_csv('suicide.csv')\n",
    "sui_rate_f = sui_rate.groupby(['country','year'], as_index=False)[['suicides/100k pop',' gdp_for_year ($) ']].sum()"
   ]
  },
  {
   "cell_type": "code",
   "execution_count": 44,
   "metadata": {},
   "outputs": [
    {
     "data": {
      "text/html": [
       "<div>\n",
       "<style scoped>\n",
       "    .dataframe tbody tr th:only-of-type {\n",
       "        vertical-align: middle;\n",
       "    }\n",
       "\n",
       "    .dataframe tbody tr th {\n",
       "        vertical-align: top;\n",
       "    }\n",
       "\n",
       "    .dataframe thead th {\n",
       "        text-align: right;\n",
       "    }\n",
       "</style>\n",
       "<table border=\"1\" class=\"dataframe\">\n",
       "  <thead>\n",
       "    <tr style=\"text-align: right;\">\n",
       "      <th></th>\n",
       "      <th>country</th>\n",
       "      <th>year</th>\n",
       "      <th>suicides/100k pop</th>\n",
       "      <th>gdp</th>\n",
       "    </tr>\n",
       "  </thead>\n",
       "  <tbody>\n",
       "    <tr>\n",
       "      <th>0</th>\n",
       "      <td>Albania</td>\n",
       "      <td>1987</td>\n",
       "      <td>31.85</td>\n",
       "      <td>2,156,624,900</td>\n",
       "    </tr>\n",
       "    <tr>\n",
       "      <th>1</th>\n",
       "      <td>Albania</td>\n",
       "      <td>1988</td>\n",
       "      <td>32.46</td>\n",
       "      <td>2,126,000,000</td>\n",
       "    </tr>\n",
       "    <tr>\n",
       "      <th>2</th>\n",
       "      <td>Albania</td>\n",
       "      <td>1989</td>\n",
       "      <td>33.40</td>\n",
       "      <td>2,335,124,988</td>\n",
       "    </tr>\n",
       "    <tr>\n",
       "      <th>3</th>\n",
       "      <td>Albania</td>\n",
       "      <td>1992</td>\n",
       "      <td>18.00</td>\n",
       "      <td>709,452,584</td>\n",
       "    </tr>\n",
       "    <tr>\n",
       "      <th>4</th>\n",
       "      <td>Albania</td>\n",
       "      <td>1993</td>\n",
       "      <td>32.56</td>\n",
       "      <td>1,228,071,038</td>\n",
       "    </tr>\n",
       "    <tr>\n",
       "      <th>...</th>\n",
       "      <td>...</td>\n",
       "      <td>...</td>\n",
       "      <td>...</td>\n",
       "      <td>...</td>\n",
       "    </tr>\n",
       "    <tr>\n",
       "      <th>2316</th>\n",
       "      <td>Uzbekistan</td>\n",
       "      <td>2010</td>\n",
       "      <td>63.23</td>\n",
       "      <td>39,332,770,929</td>\n",
       "    </tr>\n",
       "    <tr>\n",
       "      <th>2317</th>\n",
       "      <td>Uzbekistan</td>\n",
       "      <td>2011</td>\n",
       "      <td>67.14</td>\n",
       "      <td>45,915,191,189</td>\n",
       "    </tr>\n",
       "    <tr>\n",
       "      <th>2318</th>\n",
       "      <td>Uzbekistan</td>\n",
       "      <td>2012</td>\n",
       "      <td>77.53</td>\n",
       "      <td>51,821,573,338</td>\n",
       "    </tr>\n",
       "    <tr>\n",
       "      <th>2319</th>\n",
       "      <td>Uzbekistan</td>\n",
       "      <td>2013</td>\n",
       "      <td>78.86</td>\n",
       "      <td>57,690,453,461</td>\n",
       "    </tr>\n",
       "    <tr>\n",
       "      <th>2320</th>\n",
       "      <td>Uzbekistan</td>\n",
       "      <td>2014</td>\n",
       "      <td>85.12</td>\n",
       "      <td>63,067,077,179</td>\n",
       "    </tr>\n",
       "  </tbody>\n",
       "</table>\n",
       "<p>2321 rows × 4 columns</p>\n",
       "</div>"
      ],
      "text/plain": [
       "         country  year  suicides/100k pop             gdp\n",
       "0        Albania  1987              31.85   2,156,624,900\n",
       "1        Albania  1988              32.46   2,126,000,000\n",
       "2        Albania  1989              33.40   2,335,124,988\n",
       "3        Albania  1992              18.00     709,452,584\n",
       "4        Albania  1993              32.56   1,228,071,038\n",
       "...          ...   ...                ...             ...\n",
       "2316  Uzbekistan  2010              63.23  39,332,770,929\n",
       "2317  Uzbekistan  2011              67.14  45,915,191,189\n",
       "2318  Uzbekistan  2012              77.53  51,821,573,338\n",
       "2319  Uzbekistan  2013              78.86  57,690,453,461\n",
       "2320  Uzbekistan  2014              85.12  63,067,077,179\n",
       "\n",
       "[2321 rows x 4 columns]"
      ]
     },
     "execution_count": 44,
     "metadata": {},
     "output_type": "execute_result"
    }
   ],
   "source": [
    "gdp = sui_rate.groupby(['country','year'], as_index=False)[' gdp_for_year ($) '].min()\n",
    "sui_rate_f['gdp'] = gdp[' gdp_for_year ($) ']\n",
    "sui_rate_f"
   ]
  },
  {
   "cell_type": "code",
   "execution_count": 45,
   "metadata": {},
   "outputs": [
    {
     "data": {
      "text/html": [
       "<div>\n",
       "<style scoped>\n",
       "    .dataframe tbody tr th:only-of-type {\n",
       "        vertical-align: middle;\n",
       "    }\n",
       "\n",
       "    .dataframe tbody tr th {\n",
       "        vertical-align: top;\n",
       "    }\n",
       "\n",
       "    .dataframe thead th {\n",
       "        text-align: right;\n",
       "    }\n",
       "</style>\n",
       "<table border=\"1\" class=\"dataframe\">\n",
       "  <thead>\n",
       "    <tr style=\"text-align: right;\">\n",
       "      <th></th>\n",
       "      <th>Country</th>\n",
       "      <th>Year</th>\n",
       "      <th>suicides_per_100k</th>\n",
       "      <th>gdp</th>\n",
       "    </tr>\n",
       "  </thead>\n",
       "  <tbody>\n",
       "    <tr>\n",
       "      <th>0</th>\n",
       "      <td>Albania</td>\n",
       "      <td>1987</td>\n",
       "      <td>31.85</td>\n",
       "      <td>2,156,624,900</td>\n",
       "    </tr>\n",
       "    <tr>\n",
       "      <th>1</th>\n",
       "      <td>Albania</td>\n",
       "      <td>1988</td>\n",
       "      <td>32.46</td>\n",
       "      <td>2,126,000,000</td>\n",
       "    </tr>\n",
       "    <tr>\n",
       "      <th>2</th>\n",
       "      <td>Albania</td>\n",
       "      <td>1989</td>\n",
       "      <td>33.40</td>\n",
       "      <td>2,335,124,988</td>\n",
       "    </tr>\n",
       "    <tr>\n",
       "      <th>3</th>\n",
       "      <td>Albania</td>\n",
       "      <td>1992</td>\n",
       "      <td>18.00</td>\n",
       "      <td>709,452,584</td>\n",
       "    </tr>\n",
       "    <tr>\n",
       "      <th>4</th>\n",
       "      <td>Albania</td>\n",
       "      <td>1993</td>\n",
       "      <td>32.56</td>\n",
       "      <td>1,228,071,038</td>\n",
       "    </tr>\n",
       "    <tr>\n",
       "      <th>...</th>\n",
       "      <td>...</td>\n",
       "      <td>...</td>\n",
       "      <td>...</td>\n",
       "      <td>...</td>\n",
       "    </tr>\n",
       "    <tr>\n",
       "      <th>2316</th>\n",
       "      <td>Uzbekistan</td>\n",
       "      <td>2010</td>\n",
       "      <td>63.23</td>\n",
       "      <td>39,332,770,929</td>\n",
       "    </tr>\n",
       "    <tr>\n",
       "      <th>2317</th>\n",
       "      <td>Uzbekistan</td>\n",
       "      <td>2011</td>\n",
       "      <td>67.14</td>\n",
       "      <td>45,915,191,189</td>\n",
       "    </tr>\n",
       "    <tr>\n",
       "      <th>2318</th>\n",
       "      <td>Uzbekistan</td>\n",
       "      <td>2012</td>\n",
       "      <td>77.53</td>\n",
       "      <td>51,821,573,338</td>\n",
       "    </tr>\n",
       "    <tr>\n",
       "      <th>2319</th>\n",
       "      <td>Uzbekistan</td>\n",
       "      <td>2013</td>\n",
       "      <td>78.86</td>\n",
       "      <td>57,690,453,461</td>\n",
       "    </tr>\n",
       "    <tr>\n",
       "      <th>2320</th>\n",
       "      <td>Uzbekistan</td>\n",
       "      <td>2014</td>\n",
       "      <td>85.12</td>\n",
       "      <td>63,067,077,179</td>\n",
       "    </tr>\n",
       "  </tbody>\n",
       "</table>\n",
       "<p>2321 rows × 4 columns</p>\n",
       "</div>"
      ],
      "text/plain": [
       "         Country  Year  suicides_per_100k             gdp\n",
       "0        Albania  1987              31.85   2,156,624,900\n",
       "1        Albania  1988              32.46   2,126,000,000\n",
       "2        Albania  1989              33.40   2,335,124,988\n",
       "3        Albania  1992              18.00     709,452,584\n",
       "4        Albania  1993              32.56   1,228,071,038\n",
       "...          ...   ...                ...             ...\n",
       "2316  Uzbekistan  2010              63.23  39,332,770,929\n",
       "2317  Uzbekistan  2011              67.14  45,915,191,189\n",
       "2318  Uzbekistan  2012              77.53  51,821,573,338\n",
       "2319  Uzbekistan  2013              78.86  57,690,453,461\n",
       "2320  Uzbekistan  2014              85.12  63,067,077,179\n",
       "\n",
       "[2321 rows x 4 columns]"
      ]
     },
     "execution_count": 45,
     "metadata": {},
     "output_type": "execute_result"
    }
   ],
   "source": [
    "sui_rate_f.rename(columns={'country':'Country','year':'Year','suicides/100k pop':'suicides_per_100k'}, inplace=True)\n",
    "sui_rate_f"
   ]
  },
  {
   "cell_type": "code",
   "execution_count": 77,
   "metadata": {},
   "outputs": [],
   "source": [
    "final_df_2 = pd.merge(final_df,sui_rate_f)\n",
    "final_df_2['Year'] = pd.to_numeric(final_df_2['Year'])\n",
    "final_df_2.sort_values(['Country','Year'], ascending=[True,True], inplace=True)\n",
    "final_df_2.to_csv('final_df.csv', index=False)"
   ]
  },
  {
   "cell_type": "code",
   "execution_count": 74,
   "metadata": {},
   "outputs": [
    {
     "data": {
      "text/plain": [
       "array([2000, 2001, 2002, 2003, 2004, 2005, 2006, 2007, 2008, 2009, 2010,\n",
       "       2012, 2013, 2014, 2015, 2011, 2016], dtype=int64)"
      ]
     },
     "execution_count": 74,
     "metadata": {},
     "output_type": "execute_result"
    }
   ],
   "source": [
    "final_df_2.Year.unique()"
   ]
  },
  {
   "cell_type": "code",
   "execution_count": 76,
   "metadata": {},
   "outputs": [
    {
     "data": {
      "application/vnd.plotly.v1+json": {
       "config": {
        "plotlyServerURL": "https://plot.ly"
       },
       "data": [
        {
         "hovertemplate": "<b>%{hovertext}</b><br><br>Continent=Europe<br>Year=2000<br>avg_years_of_schooling=%{x}<br>Both sexes=%{marker.size}<extra></extra>",
         "hovertext": [
          "Albania",
          "Austria",
          "Belarus",
          "Belgium",
          "Bulgaria",
          "Croatia",
          "Denmark",
          "Estonia",
          "Finland",
          "France",
          "Germany",
          "Greece",
          "Hungary",
          "Iceland",
          "Ireland",
          "Italy",
          "Latvia",
          "Lithuania",
          "Luxembourg",
          "Malta",
          "Netherlands",
          "Norway",
          "Poland",
          "Portugal",
          "Romania",
          "Serbia",
          "Slovakia",
          "Slovenia",
          "Spain",
          "Sweden",
          "Switzerland",
          "Ukraine"
         ],
         "ids": [
          "Albania",
          "Austria",
          "Belarus",
          "Belgium",
          "Bulgaria",
          "Croatia",
          "Denmark",
          "Estonia",
          "Finland",
          "France",
          "Germany",
          "Greece",
          "Hungary",
          "Iceland",
          "Ireland",
          "Italy",
          "Latvia",
          "Lithuania",
          "Luxembourg",
          "Malta",
          "Netherlands",
          "Norway",
          "Poland",
          "Portugal",
          "Romania",
          "Serbia",
          "Slovakia",
          "Slovenia",
          "Spain",
          "Sweden",
          "Switzerland",
          "Ukraine"
         ],
         "legendgroup": "Europe",
         "marker": {
          "color": "#1F77B4",
          "size": [
           106,
           94,
           247,
           99,
           163,
           133,
           100,
           216,
           104,
           99,
           95,
           82,
           193,
           76,
           93,
           75,
           217,
           200,
           90,
           70,
           83,
           84,
           152,
           110,
           175,
           141,
           147,
           122,
           84,
           72,
           78,
           258
          ],
          "sizemode": "area",
          "sizeref": 0.53,
          "symbol": "circle"
         },
         "mode": "markers",
         "name": "Europe",
         "orientation": "v",
         "showlegend": true,
         "type": "scatter",
         "x": [
          8.8,
          9,
          8.9,
          10,
          9.5,
          9.4,
          10.7,
          11.7,
          9.3,
          9.8,
          11.2,
          8.6,
          10.2,
          9.4,
          10.8,
          8.6,
          9.5,
          10.7,
          10.3,
          8.1,
          10.8,
          12,
          11.1,
          6.8,
          9.9,
          9.4,
          10.3,
          11.6,
          8.4,
          11.4,
          11.4,
          10.7
         ],
         "xaxis": "x",
         "y": [
          106,
          94,
          247,
          99,
          163,
          133,
          100,
          216,
          104,
          99,
          95,
          82,
          193,
          76,
          93,
          75,
          217,
          200,
          90,
          70,
          83,
          84,
          152,
          110,
          175,
          141,
          147,
          122,
          84,
          72,
          78,
          258
         ],
         "yaxis": "y"
        },
        {
         "hovertemplate": "<b>%{hovertext}</b><br><br>Continent=North America<br>Year=2000<br>avg_years_of_schooling=%{x}<br>Both sexes=%{marker.size}<extra></extra>",
         "hovertext": [
          "Antigua and Barbuda",
          "Bahamas",
          "Barbados",
          "Belize",
          "Canada",
          "Costa Rica",
          "Cuba",
          "El Salvador",
          "Guatemala",
          "Jamaica",
          "Mexico",
          "Panama",
          "Saint Lucia",
          "Trinidad and Tobago"
         ],
         "ids": [
          "Antigua and Barbuda",
          "Bahamas",
          "Barbados",
          "Belize",
          "Canada",
          "Costa Rica",
          "Cuba",
          "El Salvador",
          "Guatemala",
          "Jamaica",
          "Mexico",
          "Panama",
          "Saint Lucia",
          "Trinidad and Tobago"
         ],
         "legendgroup": "North America",
         "marker": {
          "color": "#FF7F0E",
          "size": [
           157,
           202,
           128,
           198,
           81,
           100,
           121,
           218,
           220,
           173,
           138,
           120,
           186,
           202
          ],
          "sizemode": "area",
          "sizeref": 0.53,
          "symbol": "circle"
         },
         "mode": "markers",
         "name": "North America",
         "orientation": "v",
         "showlegend": true,
         "type": "scatter",
         "x": [
          7,
          10.9,
          9,
          10.1,
          11,
          8,
          9.6,
          5.2,
          3.7,
          7.3,
          6.7,
          8.5,
          7,
          9.2
         ],
         "xaxis": "x",
         "y": [
          157,
          202,
          128,
          198,
          81,
          100,
          121,
          218,
          220,
          173,
          138,
          120,
          186,
          202
         ],
         "yaxis": "y"
        },
        {
         "hovertemplate": "<b>%{hovertext}</b><br><br>Continent=South America<br>Year=2000<br>avg_years_of_schooling=%{x}<br>Both sexes=%{marker.size}<extra></extra>",
         "hovertext": [
          "Argentina",
          "Brazil",
          "Chile",
          "Colombia",
          "Ecuador",
          "Paraguay",
          "Uruguay"
         ],
         "ids": [
          "Argentina",
          "Brazil",
          "Chile",
          "Colombia",
          "Ecuador",
          "Paraguay",
          "Uruguay"
         ],
         "legendgroup": "South America",
         "marker": {
          "color": "#2CA02C",
          "size": [
           139,
           184,
           103,
           171,
           160,
           171,
           134
          ],
          "sizemode": "area",
          "sizeref": 0.53,
          "symbol": "circle"
         },
         "mode": "markers",
         "name": "South America",
         "orientation": "v",
         "showlegend": true,
         "type": "scatter",
         "x": [
          9.1,
          5.6,
          8.8,
          6.5,
          7,
          5.9,
          8
         ],
         "xaxis": "x",
         "y": [
          139,
          184,
          103,
          171,
          160,
          171,
          134
         ],
         "yaxis": "y"
        },
        {
         "hovertemplate": "<b>%{hovertext}</b><br><br>Continent=Asia<br>Year=2000<br>avg_years_of_schooling=%{x}<br>Both sexes=%{marker.size}<extra></extra>",
         "hovertext": [
          "Armenia",
          "Azerbaijan",
          "Bahrain",
          "Cyprus",
          "Georgia",
          "Israel",
          "Japan",
          "Kazakhstan",
          "Kuwait",
          "Kyrgyzstan",
          "Maldives",
          "Philippines",
          "Singapore",
          "Sri Lanka",
          "Thailand",
          "Uzbekistan"
         ],
         "ids": [
          "Armenia",
          "Azerbaijan",
          "Bahrain",
          "Cyprus",
          "Georgia",
          "Israel",
          "Japan",
          "Kazakhstan",
          "Kuwait",
          "Kyrgyzstan",
          "Maldives",
          "Philippines",
          "Singapore",
          "Sri Lanka",
          "Thailand",
          "Uzbekistan"
         ],
         "legendgroup": "Asia",
         "marker": {
          "color": "#D62728",
          "size": [
           143,
           161,
           101,
           80,
           129,
           80,
           72,
           287,
           94,
           228,
           142,
           213,
           79,
           171,
           204,
           183
          ],
          "sizemode": "area",
          "sizeref": 0.53,
          "symbol": "circle"
         },
         "mode": "markers",
         "name": "Asia",
         "orientation": "v",
         "showlegend": true,
         "type": "scatter",
         "x": [
          10.8,
          10.6,
          8.3,
          10,
          11.7,
          12,
          10.7,
          10.5,
          6.2,
          9.8,
          3,
          7.6,
          8.9,
          10,
          6.1,
          9.1
         ],
         "xaxis": "x",
         "y": [
          143,
          161,
          101,
          80,
          129,
          80,
          72,
          287,
          94,
          228,
          142,
          213,
          79,
          171,
          204,
          183
         ],
         "yaxis": "y"
        },
        {
         "hovertemplate": "<b>%{hovertext}</b><br><br>Continent=Oceania<br>Year=2000<br>avg_years_of_schooling=%{x}<br>Both sexes=%{marker.size}<extra></extra>",
         "hovertext": [
          "Australia",
          "Kiribati",
          "New Zealand"
         ],
         "ids": [
          "Australia",
          "Kiribati",
          "New Zealand"
         ],
         "legendgroup": "Oceania",
         "marker": {
          "color": "#9467BD",
          "size": [
           77,
           222,
           86
          ],
          "sizemode": "area",
          "sizeref": 0.53,
          "symbol": "circle"
         },
         "mode": "markers",
         "name": "Oceania",
         "orientation": "v",
         "showlegend": true,
         "type": "scatter",
         "x": [
          11.9,
          6.8,
          11.6
         ],
         "xaxis": "x",
         "y": [
          77,
          222,
          86
         ],
         "yaxis": "y"
        },
        {
         "hovertemplate": "<b>%{hovertext}</b><br><br>Continent=Africa<br>Year=2000<br>avg_years_of_schooling=%{x}<br>Both sexes=%{marker.size}<extra></extra>",
         "hovertext": [
          "Mauritius",
          "South Africa"
         ],
         "ids": [
          "Mauritius",
          "South Africa"
         ],
         "legendgroup": "Africa",
         "marker": {
          "color": "#8C564B",
          "size": [
           172,
           362
          ],
          "sizemode": "area",
          "sizeref": 0.53,
          "symbol": "circle"
         },
         "mode": "markers",
         "name": "Africa",
         "orientation": "v",
         "showlegend": true,
         "type": "scatter",
         "x": [
          6.2,
          8.8
         ],
         "xaxis": "x",
         "y": [
          172,
          362
         ],
         "yaxis": "y"
        }
       ],
       "frames": [
        {
         "data": [
          {
           "hovertemplate": "<b>%{hovertext}</b><br><br>Continent=Europe<br>Year=2000<br>avg_years_of_schooling=%{x}<br>Both sexes=%{marker.size}<extra></extra>",
           "hovertext": [
            "Albania",
            "Austria",
            "Belarus",
            "Belgium",
            "Bulgaria",
            "Croatia",
            "Denmark",
            "Estonia",
            "Finland",
            "France",
            "Germany",
            "Greece",
            "Hungary",
            "Iceland",
            "Ireland",
            "Italy",
            "Latvia",
            "Lithuania",
            "Luxembourg",
            "Malta",
            "Netherlands",
            "Norway",
            "Poland",
            "Portugal",
            "Romania",
            "Serbia",
            "Slovakia",
            "Slovenia",
            "Spain",
            "Sweden",
            "Switzerland",
            "Ukraine"
           ],
           "ids": [
            "Albania",
            "Austria",
            "Belarus",
            "Belgium",
            "Bulgaria",
            "Croatia",
            "Denmark",
            "Estonia",
            "Finland",
            "France",
            "Germany",
            "Greece",
            "Hungary",
            "Iceland",
            "Ireland",
            "Italy",
            "Latvia",
            "Lithuania",
            "Luxembourg",
            "Malta",
            "Netherlands",
            "Norway",
            "Poland",
            "Portugal",
            "Romania",
            "Serbia",
            "Slovakia",
            "Slovenia",
            "Spain",
            "Sweden",
            "Switzerland",
            "Ukraine"
           ],
           "legendgroup": "Europe",
           "marker": {
            "color": "#1F77B4",
            "size": [
             106,
             94,
             247,
             99,
             163,
             133,
             100,
             216,
             104,
             99,
             95,
             82,
             193,
             76,
             93,
             75,
             217,
             200,
             90,
             70,
             83,
             84,
             152,
             110,
             175,
             141,
             147,
             122,
             84,
             72,
             78,
             258
            ],
            "sizemode": "area",
            "sizeref": 0.53,
            "symbol": "circle"
           },
           "mode": "markers",
           "name": "Europe",
           "orientation": "v",
           "showlegend": true,
           "type": "scatter",
           "x": [
            8.8,
            9,
            8.9,
            10,
            9.5,
            9.4,
            10.7,
            11.7,
            9.3,
            9.8,
            11.2,
            8.6,
            10.2,
            9.4,
            10.8,
            8.6,
            9.5,
            10.7,
            10.3,
            8.1,
            10.8,
            12,
            11.1,
            6.8,
            9.9,
            9.4,
            10.3,
            11.6,
            8.4,
            11.4,
            11.4,
            10.7
           ],
           "xaxis": "x",
           "y": [
            106,
            94,
            247,
            99,
            163,
            133,
            100,
            216,
            104,
            99,
            95,
            82,
            193,
            76,
            93,
            75,
            217,
            200,
            90,
            70,
            83,
            84,
            152,
            110,
            175,
            141,
            147,
            122,
            84,
            72,
            78,
            258
           ],
           "yaxis": "y"
          },
          {
           "hovertemplate": "<b>%{hovertext}</b><br><br>Continent=North America<br>Year=2000<br>avg_years_of_schooling=%{x}<br>Both sexes=%{marker.size}<extra></extra>",
           "hovertext": [
            "Antigua and Barbuda",
            "Bahamas",
            "Barbados",
            "Belize",
            "Canada",
            "Costa Rica",
            "Cuba",
            "El Salvador",
            "Guatemala",
            "Jamaica",
            "Mexico",
            "Panama",
            "Saint Lucia",
            "Trinidad and Tobago"
           ],
           "ids": [
            "Antigua and Barbuda",
            "Bahamas",
            "Barbados",
            "Belize",
            "Canada",
            "Costa Rica",
            "Cuba",
            "El Salvador",
            "Guatemala",
            "Jamaica",
            "Mexico",
            "Panama",
            "Saint Lucia",
            "Trinidad and Tobago"
           ],
           "legendgroup": "North America",
           "marker": {
            "color": "#FF7F0E",
            "size": [
             157,
             202,
             128,
             198,
             81,
             100,
             121,
             218,
             220,
             173,
             138,
             120,
             186,
             202
            ],
            "sizemode": "area",
            "sizeref": 0.53,
            "symbol": "circle"
           },
           "mode": "markers",
           "name": "North America",
           "orientation": "v",
           "showlegend": true,
           "type": "scatter",
           "x": [
            7,
            10.9,
            9,
            10.1,
            11,
            8,
            9.6,
            5.2,
            3.7,
            7.3,
            6.7,
            8.5,
            7,
            9.2
           ],
           "xaxis": "x",
           "y": [
            157,
            202,
            128,
            198,
            81,
            100,
            121,
            218,
            220,
            173,
            138,
            120,
            186,
            202
           ],
           "yaxis": "y"
          },
          {
           "hovertemplate": "<b>%{hovertext}</b><br><br>Continent=South America<br>Year=2000<br>avg_years_of_schooling=%{x}<br>Both sexes=%{marker.size}<extra></extra>",
           "hovertext": [
            "Argentina",
            "Brazil",
            "Chile",
            "Colombia",
            "Ecuador",
            "Paraguay",
            "Uruguay"
           ],
           "ids": [
            "Argentina",
            "Brazil",
            "Chile",
            "Colombia",
            "Ecuador",
            "Paraguay",
            "Uruguay"
           ],
           "legendgroup": "South America",
           "marker": {
            "color": "#2CA02C",
            "size": [
             139,
             184,
             103,
             171,
             160,
             171,
             134
            ],
            "sizemode": "area",
            "sizeref": 0.53,
            "symbol": "circle"
           },
           "mode": "markers",
           "name": "South America",
           "orientation": "v",
           "showlegend": true,
           "type": "scatter",
           "x": [
            9.1,
            5.6,
            8.8,
            6.5,
            7,
            5.9,
            8
           ],
           "xaxis": "x",
           "y": [
            139,
            184,
            103,
            171,
            160,
            171,
            134
           ],
           "yaxis": "y"
          },
          {
           "hovertemplate": "<b>%{hovertext}</b><br><br>Continent=Asia<br>Year=2000<br>avg_years_of_schooling=%{x}<br>Both sexes=%{marker.size}<extra></extra>",
           "hovertext": [
            "Armenia",
            "Azerbaijan",
            "Bahrain",
            "Cyprus",
            "Georgia",
            "Israel",
            "Japan",
            "Kazakhstan",
            "Kuwait",
            "Kyrgyzstan",
            "Maldives",
            "Philippines",
            "Singapore",
            "Sri Lanka",
            "Thailand",
            "Uzbekistan"
           ],
           "ids": [
            "Armenia",
            "Azerbaijan",
            "Bahrain",
            "Cyprus",
            "Georgia",
            "Israel",
            "Japan",
            "Kazakhstan",
            "Kuwait",
            "Kyrgyzstan",
            "Maldives",
            "Philippines",
            "Singapore",
            "Sri Lanka",
            "Thailand",
            "Uzbekistan"
           ],
           "legendgroup": "Asia",
           "marker": {
            "color": "#D62728",
            "size": [
             143,
             161,
             101,
             80,
             129,
             80,
             72,
             287,
             94,
             228,
             142,
             213,
             79,
             171,
             204,
             183
            ],
            "sizemode": "area",
            "sizeref": 0.53,
            "symbol": "circle"
           },
           "mode": "markers",
           "name": "Asia",
           "orientation": "v",
           "showlegend": true,
           "type": "scatter",
           "x": [
            10.8,
            10.6,
            8.3,
            10,
            11.7,
            12,
            10.7,
            10.5,
            6.2,
            9.8,
            3,
            7.6,
            8.9,
            10,
            6.1,
            9.1
           ],
           "xaxis": "x",
           "y": [
            143,
            161,
            101,
            80,
            129,
            80,
            72,
            287,
            94,
            228,
            142,
            213,
            79,
            171,
            204,
            183
           ],
           "yaxis": "y"
          },
          {
           "hovertemplate": "<b>%{hovertext}</b><br><br>Continent=Oceania<br>Year=2000<br>avg_years_of_schooling=%{x}<br>Both sexes=%{marker.size}<extra></extra>",
           "hovertext": [
            "Australia",
            "Kiribati",
            "New Zealand"
           ],
           "ids": [
            "Australia",
            "Kiribati",
            "New Zealand"
           ],
           "legendgroup": "Oceania",
           "marker": {
            "color": "#9467BD",
            "size": [
             77,
             222,
             86
            ],
            "sizemode": "area",
            "sizeref": 0.53,
            "symbol": "circle"
           },
           "mode": "markers",
           "name": "Oceania",
           "orientation": "v",
           "showlegend": true,
           "type": "scatter",
           "x": [
            11.9,
            6.8,
            11.6
           ],
           "xaxis": "x",
           "y": [
            77,
            222,
            86
           ],
           "yaxis": "y"
          },
          {
           "hovertemplate": "<b>%{hovertext}</b><br><br>Continent=Africa<br>Year=2000<br>avg_years_of_schooling=%{x}<br>Both sexes=%{marker.size}<extra></extra>",
           "hovertext": [
            "Mauritius",
            "South Africa"
           ],
           "ids": [
            "Mauritius",
            "South Africa"
           ],
           "legendgroup": "Africa",
           "marker": {
            "color": "#8C564B",
            "size": [
             172,
             362
            ],
            "sizemode": "area",
            "sizeref": 0.53,
            "symbol": "circle"
           },
           "mode": "markers",
           "name": "Africa",
           "orientation": "v",
           "showlegend": true,
           "type": "scatter",
           "x": [
            6.2,
            8.8
           ],
           "xaxis": "x",
           "y": [
            172,
            362
           ],
           "yaxis": "y"
          }
         ],
         "name": "2000"
        },
        {
         "data": [
          {
           "hovertemplate": "<b>%{hovertext}</b><br><br>Continent=Europe<br>Year=2001<br>avg_years_of_schooling=%{x}<br>Both sexes=%{marker.size}<extra></extra>",
           "hovertext": [
            "Albania",
            "Austria",
            "Belarus",
            "Belgium",
            "Bulgaria",
            "Croatia",
            "Denmark",
            "Estonia",
            "Finland",
            "France",
            "Germany",
            "Greece",
            "Hungary",
            "Iceland",
            "Ireland",
            "Italy",
            "Latvia",
            "Lithuania",
            "Luxembourg",
            "Malta",
            "Netherlands",
            "Norway",
            "Poland",
            "Portugal",
            "Romania",
            "Serbia",
            "Slovakia",
            "Slovenia",
            "Spain",
            "Sweden",
            "Switzerland",
            "Ukraine"
           ],
           "ids": [
            "Albania",
            "Austria",
            "Belarus",
            "Belgium",
            "Bulgaria",
            "Croatia",
            "Denmark",
            "Estonia",
            "Finland",
            "France",
            "Germany",
            "Greece",
            "Hungary",
            "Iceland",
            "Ireland",
            "Italy",
            "Latvia",
            "Lithuania",
            "Luxembourg",
            "Malta",
            "Netherlands",
            "Norway",
            "Poland",
            "Portugal",
            "Romania",
            "Serbia",
            "Slovakia",
            "Slovenia",
            "Spain",
            "Sweden",
            "Switzerland",
            "Ukraine"
           ],
           "legendgroup": "Europe",
           "marker": {
            "color": "#1F77B4",
            "size": [
             100,
             90,
             255,
             98,
             159,
             129,
             100,
             224,
             99,
             99,
             92,
             81,
             185,
             73,
             88,
             73,
             229,
             214,
             90,
             69,
             82,
             81,
             147,
             109,
             179,
             134,
             145,
             123,
             83,
             72,
             75,
             254
            ],
            "sizemode": "area",
            "sizeref": 0.53,
            "symbol": "circle"
           },
           "mode": "markers",
           "name": "Europe",
           "orientation": "v",
           "showlegend": true,
           "type": "scatter",
           "x": [
            8.7,
            9.2,
            9,
            10.2,
            9.9,
            9.8,
            11.4,
            11.8,
            9.4,
            10,
            11.7,
            8.8,
            10.3,
            9.6,
            11,
            8.7,
            10,
            10.9,
            10.5,
            8.2,
            11,
            12.1,
            11.1,
            6.9,
            9.7,
            9.6,
            10.1,
            11.5,
            8.5,
            11.5,
            11.6,
            10.4
           ],
           "xaxis": "x",
           "y": [
            100,
            90,
            255,
            98,
            159,
            129,
            100,
            224,
            99,
            99,
            92,
            81,
            185,
            73,
            88,
            73,
            229,
            214,
            90,
            69,
            82,
            81,
            147,
            109,
            179,
            134,
            145,
            123,
            83,
            72,
            75,
            254
           ],
           "yaxis": "y"
          },
          {
           "hovertemplate": "<b>%{hovertext}</b><br><br>Continent=North America<br>Year=2001<br>avg_years_of_schooling=%{x}<br>Both sexes=%{marker.size}<extra></extra>",
           "hovertext": [
            "Antigua and Barbuda",
            "Bahamas",
            "Barbados",
            "Belize",
            "Canada",
            "Costa Rica",
            "Cuba",
            "El Salvador",
            "Guatemala",
            "Jamaica",
            "Mexico",
            "Panama",
            "Saint Lucia",
            "Trinidad and Tobago"
           ],
           "ids": [
            "Antigua and Barbuda",
            "Bahamas",
            "Barbados",
            "Belize",
            "Canada",
            "Costa Rica",
            "Cuba",
            "El Salvador",
            "Guatemala",
            "Jamaica",
            "Mexico",
            "Panama",
            "Saint Lucia",
            "Trinidad and Tobago"
           ],
           "legendgroup": "North America",
           "marker": {
            "color": "#FF7F0E",
            "size": [
             154,
             204,
             127,
             203,
             79,
             101,
             119,
             222,
             214,
             175,
             135,
             120,
             181,
             204
            ],
            "sizemode": "area",
            "sizeref": 0.53,
            "symbol": "circle"
           },
           "mode": "markers",
           "name": "North America",
           "orientation": "v",
           "showlegend": true,
           "type": "scatter",
           "x": [
            8.9,
            10.9,
            9,
            10.1,
            11.2,
            8,
            9.7,
            5.3,
            3.8,
            7.5,
            6.8,
            8.6,
            7.1,
            9.3
           ],
           "xaxis": "x",
           "y": [
            154,
            204,
            127,
            203,
            79,
            101,
            119,
            222,
            214,
            175,
            135,
            120,
            181,
            204
           ],
           "yaxis": "y"
          },
          {
           "hovertemplate": "<b>%{hovertext}</b><br><br>Continent=South America<br>Year=2001<br>avg_years_of_schooling=%{x}<br>Both sexes=%{marker.size}<extra></extra>",
           "hovertext": [
            "Argentina",
            "Brazil",
            "Chile",
            "Colombia",
            "Ecuador",
            "Guyana",
            "Paraguay",
            "Uruguay"
           ],
           "ids": [
            "Argentina",
            "Brazil",
            "Chile",
            "Colombia",
            "Ecuador",
            "Guyana",
            "Paraguay",
            "Uruguay"
           ],
           "legendgroup": "South America",
           "marker": {
            "color": "#2CA02C",
            "size": [
             138,
             180,
             106,
             170,
             154,
             273,
             169,
             127
            ],
            "sizemode": "area",
            "sizeref": 0.53,
            "symbol": "circle"
           },
           "mode": "markers",
           "name": "South America",
           "orientation": "v",
           "showlegend": true,
           "type": "scatter",
           "x": [
            9.1,
            5.8,
            9,
            6.5,
            7,
            7.8,
            6.2,
            8
           ],
           "xaxis": "x",
           "y": [
            138,
            180,
            106,
            170,
            154,
            273,
            169,
            127
           ],
           "yaxis": "y"
          },
          {
           "hovertemplate": "<b>%{hovertext}</b><br><br>Continent=Asia<br>Year=2001<br>avg_years_of_schooling=%{x}<br>Both sexes=%{marker.size}<extra></extra>",
           "hovertext": [
            "Armenia",
            "Azerbaijan",
            "Bahrain",
            "Georgia",
            "Israel",
            "Japan",
            "Kazakhstan",
            "Kuwait",
            "Kyrgyzstan",
            "Maldives",
            "Philippines",
            "Qatar",
            "Singapore",
            "Sri Lanka",
            "Uzbekistan"
           ],
           "ids": [
            "Armenia",
            "Azerbaijan",
            "Bahrain",
            "Georgia",
            "Israel",
            "Japan",
            "Kazakhstan",
            "Kuwait",
            "Kyrgyzstan",
            "Maldives",
            "Philippines",
            "Qatar",
            "Singapore",
            "Sri Lanka",
            "Uzbekistan"
           ],
           "legendgroup": "Asia",
           "marker": {
            "color": "#D62728",
            "size": [
             143,
             149,
             98,
             125,
             79,
             70,
             283,
             92,
             219,
             135,
             215,
             73,
             77,
             158,
             177
            ],
            "sizemode": "area",
            "sizeref": 0.53,
            "symbol": "circle"
           },
           "mode": "markers",
           "name": "Asia",
           "orientation": "v",
           "showlegend": true,
           "type": "scatter",
           "x": [
            10.7,
            10.6,
            8.4,
            11.8,
            12.1,
            10.8,
            10.7,
            6.2,
            9.9,
            3.1,
            7.7,
            8,
            9.2,
            10.2,
            9.2
           ],
           "xaxis": "x",
           "y": [
            143,
            149,
            98,
            125,
            79,
            70,
            283,
            92,
            219,
            135,
            215,
            73,
            77,
            158,
            177
           ],
           "yaxis": "y"
          },
          {
           "hovertemplate": "<b>%{hovertext}</b><br><br>Continent=Oceania<br>Year=2001<br>avg_years_of_schooling=%{x}<br>Both sexes=%{marker.size}<extra></extra>",
           "hovertext": [
            "Australia",
            "Fiji",
            "Kiribati",
            "New Zealand"
           ],
           "ids": [
            "Australia",
            "Fiji",
            "Kiribati",
            "New Zealand"
           ],
           "legendgroup": "Oceania",
           "marker": {
            "color": "#9467BD",
            "size": [
             74,
             221,
             219,
             83
            ],
            "sizemode": "area",
            "sizeref": 0.53,
            "symbol": "circle"
           },
           "mode": "markers",
           "name": "Oceania",
           "orientation": "v",
           "showlegend": true,
           "type": "scatter",
           "x": [
            11.9,
            9.5,
            6.9,
            11.6
           ],
           "xaxis": "x",
           "y": [
            74,
            221,
            219,
            83
           ],
           "yaxis": "y"
          },
          {
           "hovertemplate": "<b>%{hovertext}</b><br><br>Continent=Africa<br>Year=2001<br>avg_years_of_schooling=%{x}<br>Both sexes=%{marker.size}<extra></extra>",
           "hovertext": [
            "Mauritius",
            "Seychelles",
            "South Africa"
           ],
           "ids": [
            "Mauritius",
            "Seychelles",
            "South Africa"
           ],
           "legendgroup": "Africa",
           "marker": {
            "color": "#8C564B",
            "size": [
             172,
             187,
             387
            ],
            "sizemode": "area",
            "sizeref": 0.53,
            "symbol": "circle"
           },
           "mode": "markers",
           "name": "Africa",
           "orientation": "v",
           "showlegend": true,
           "type": "scatter",
           "x": [
            6.4,
            7.5,
            7.5
           ],
           "xaxis": "x",
           "y": [
            172,
            187,
            387
           ],
           "yaxis": "y"
          }
         ],
         "name": "2001"
        },
        {
         "data": [
          {
           "hovertemplate": "<b>%{hovertext}</b><br><br>Continent=Europe<br>Year=2002<br>avg_years_of_schooling=%{x}<br>Both sexes=%{marker.size}<extra></extra>",
           "hovertext": [
            "Albania",
            "Austria",
            "Belarus",
            "Belgium",
            "Bulgaria",
            "Croatia",
            "Denmark",
            "Estonia",
            "Finland",
            "France",
            "Germany",
            "Greece",
            "Hungary",
            "Iceland",
            "Ireland",
            "Italy",
            "Latvia",
            "Lithuania",
            "Luxembourg",
            "Malta",
            "Netherlands",
            "Norway",
            "Poland",
            "Portugal",
            "Romania",
            "Serbia",
            "Slovakia",
            "Slovenia",
            "Spain",
            "Sweden",
            "Switzerland",
            "Ukraine"
           ],
           "ids": [
            "Albania",
            "Austria",
            "Belarus",
            "Belgium",
            "Bulgaria",
            "Croatia",
            "Denmark",
            "Estonia",
            "Finland",
            "France",
            "Germany",
            "Greece",
            "Hungary",
            "Iceland",
            "Ireland",
            "Italy",
            "Latvia",
            "Lithuania",
            "Luxembourg",
            "Malta",
            "Netherlands",
            "Norway",
            "Poland",
            "Portugal",
            "Romania",
            "Serbia",
            "Slovakia",
            "Slovenia",
            "Spain",
            "Sweden",
            "Switzerland",
            "Ukraine"
           ],
           "legendgroup": "Europe",
           "marker": {
            "color": "#1F77B4",
            "size": [
             102,
             87,
             264,
             97,
             156,
             124,
             101,
             210,
             97,
             98,
             91,
             79,
             184,
             66,
             86,
             71,
             221,
             207,
             87,
             68,
             81,
             80,
             143,
             107,
             178,
             131,
             144,
             117,
             82,
             70,
             73,
             257
            ],
            "sizemode": "area",
            "sizeref": 0.53,
            "symbol": "circle"
           },
           "mode": "markers",
           "name": "Europe",
           "orientation": "v",
           "showlegend": true,
           "type": "scatter",
           "x": [
            9,
            9.4,
            9.1,
            10.3,
            10,
            9.8,
            12.1,
            11.9,
            9.5,
            10.1,
            12.1,
            9.1,
            10.3,
            9.7,
            11.2,
            8.8,
            10.6,
            11.1,
            10.7,
            8.3,
            11.1,
            12.1,
            11.4,
            7,
            9.6,
            9.7,
            10.3,
            11.5,
            8.5,
            11.6,
            11.7,
            10.5
           ],
           "xaxis": "x",
           "y": [
            102,
            87,
            264,
            97,
            156,
            124,
            101,
            210,
            97,
            98,
            91,
            79,
            184,
            66,
            86,
            71,
            221,
            207,
            87,
            68,
            81,
            80,
            143,
            107,
            178,
            131,
            144,
            117,
            82,
            70,
            73,
            257
           ],
           "yaxis": "y"
          },
          {
           "hovertemplate": "<b>%{hovertext}</b><br><br>Continent=North America<br>Year=2002<br>avg_years_of_schooling=%{x}<br>Both sexes=%{marker.size}<extra></extra>",
           "hovertext": [
            "Antigua and Barbuda",
            "Bahamas",
            "Barbados",
            "Belize",
            "Canada",
            "Costa Rica",
            "Cuba",
            "El Salvador",
            "Grenada",
            "Guatemala",
            "Jamaica",
            "Mexico",
            "Panama",
            "Saint Lucia",
            "Trinidad and Tobago"
           ],
           "ids": [
            "Antigua and Barbuda",
            "Bahamas",
            "Barbados",
            "Belize",
            "Canada",
            "Costa Rica",
            "Cuba",
            "El Salvador",
            "Grenada",
            "Guatemala",
            "Jamaica",
            "Mexico",
            "Panama",
            "Saint Lucia",
            "Trinidad and Tobago"
           ],
           "legendgroup": "North America",
           "marker": {
            "color": "#FF7F0E",
            "size": [
             149,
             206,
             126,
             200,
             78,
             100,
             112,
             213,
             175,
             206,
             171,
             136,
             120,
             176,
             195
            ],
            "sizemode": "area",
            "sizeref": 0.53,
            "symbol": "circle"
           },
           "mode": "markers",
           "name": "North America",
           "orientation": "v",
           "showlegend": true,
           "type": "scatter",
           "x": [
            9,
            10.9,
            9.1,
            10.2,
            11.5,
            8,
            9.5,
            5.5,
            7.4,
            3.8,
            7.7,
            7,
            8.7,
            7.2,
            9.4
           ],
           "xaxis": "x",
           "y": [
            149,
            206,
            126,
            200,
            78,
            100,
            112,
            213,
            175,
            206,
            171,
            136,
            120,
            176,
            195
           ],
           "yaxis": "y"
          },
          {
           "hovertemplate": "<b>%{hovertext}</b><br><br>Continent=South America<br>Year=2002<br>avg_years_of_schooling=%{x}<br>Both sexes=%{marker.size}<extra></extra>",
           "hovertext": [
            "Argentina",
            "Brazil",
            "Chile",
            "Colombia",
            "Ecuador",
            "Guyana",
            "Paraguay",
            "Uruguay"
           ],
           "ids": [
            "Argentina",
            "Brazil",
            "Chile",
            "Colombia",
            "Ecuador",
            "Guyana",
            "Paraguay",
            "Uruguay"
           ],
           "legendgroup": "South America",
           "marker": {
            "color": "#2CA02C",
            "size": [
             137,
             176,
             100,
             169,
             153,
             280,
             167,
             129
            ],
            "sizemode": "area",
            "sizeref": 0.53,
            "symbol": "circle"
           },
           "mode": "markers",
           "name": "South America",
           "orientation": "v",
           "showlegend": true,
           "type": "scatter",
           "x": [
            9.2,
            6,
            9.2,
            6.5,
            7.1,
            7.8,
            6.5,
            8
           ],
           "xaxis": "x",
           "y": [
            137,
            176,
            100,
            169,
            153,
            280,
            167,
            129
           ],
           "yaxis": "y"
          },
          {
           "hovertemplate": "<b>%{hovertext}</b><br><br>Continent=Asia<br>Year=2002<br>avg_years_of_schooling=%{x}<br>Both sexes=%{marker.size}<extra></extra>",
           "hovertext": [
            "Armenia",
            "Azerbaijan",
            "Bahrain",
            "Israel",
            "Japan",
            "Kazakhstan",
            "Kuwait",
            "Kyrgyzstan",
            "Maldives",
            "Philippines",
            "Singapore",
            "Sri Lanka",
            "Thailand",
            "Uzbekistan"
           ],
           "ids": [
            "Armenia",
            "Azerbaijan",
            "Bahrain",
            "Israel",
            "Japan",
            "Kazakhstan",
            "Kuwait",
            "Kyrgyzstan",
            "Maldives",
            "Philippines",
            "Singapore",
            "Sri Lanka",
            "Thailand",
            "Uzbekistan"
           ],
           "legendgroup": "Asia",
           "marker": {
            "color": "#D62728",
            "size": [
             137,
             144,
             99,
             81,
             68,
             276,
             91,
             217,
             128,
             216,
             76,
             150,
             197,
             176
            ],
            "sizemode": "area",
            "sizeref": 0.53,
            "symbol": "circle"
           },
           "mode": "markers",
           "name": "Asia",
           "orientation": "v",
           "showlegend": true,
           "type": "scatter",
           "x": [
            10.8,
            10.6,
            8.4,
            12.1,
            10.9,
            11,
            6.1,
            10,
            3.2,
            7.9,
            9.5,
            10.2,
            6.5,
            9.4
           ],
           "xaxis": "x",
           "y": [
            137,
            144,
            99,
            81,
            68,
            276,
            91,
            217,
            128,
            216,
            76,
            150,
            197,
            176
           ],
           "yaxis": "y"
          },
          {
           "hovertemplate": "<b>%{hovertext}</b><br><br>Continent=Oceania<br>Year=2002<br>avg_years_of_schooling=%{x}<br>Both sexes=%{marker.size}<extra></extra>",
           "hovertext": [
            "Australia",
            "Fiji",
            "New Zealand"
           ],
           "ids": [
            "Australia",
            "Fiji",
            "New Zealand"
           ],
           "legendgroup": "Oceania",
           "marker": {
            "color": "#9467BD",
            "size": [
             72,
             220,
             82
            ],
            "sizemode": "area",
            "sizeref": 0.53,
            "symbol": "circle"
           },
           "mode": "markers",
           "name": "Oceania",
           "orientation": "v",
           "showlegend": true,
           "type": "scatter",
           "x": [
            11.8,
            9.4,
            11.6
           ],
           "xaxis": "x",
           "y": [
            72,
            220,
            82
           ],
           "yaxis": "y"
          },
          {
           "hovertemplate": "<b>%{hovertext}</b><br><br>Continent=Africa<br>Year=2002<br>avg_years_of_schooling=%{x}<br>Both sexes=%{marker.size}<extra></extra>",
           "hovertext": [
            "Mauritius",
            "Seychelles",
            "South Africa"
           ],
           "ids": [
            "Mauritius",
            "Seychelles",
            "South Africa"
           ],
           "legendgroup": "Africa",
           "marker": {
            "color": "#8C564B",
            "size": [
             173,
             185,
             412
            ],
            "sizemode": "area",
            "sizeref": 0.53,
            "symbol": "circle"
           },
           "mode": "markers",
           "name": "Africa",
           "orientation": "v",
           "showlegend": true,
           "type": "scatter",
           "x": [
            6.6,
            7.6,
            8.5
           ],
           "xaxis": "x",
           "y": [
            173,
            185,
            412
           ],
           "yaxis": "y"
          }
         ],
         "name": "2002"
        },
        {
         "data": [
          {
           "hovertemplate": "<b>%{hovertext}</b><br><br>Continent=Europe<br>Year=2003<br>avg_years_of_schooling=%{x}<br>Both sexes=%{marker.size}<extra></extra>",
           "hovertext": [
            "Albania",
            "Austria",
            "Belarus",
            "Belgium",
            "Bulgaria",
            "Croatia",
            "Denmark",
            "Estonia",
            "Finland",
            "France",
            "Germany",
            "Greece",
            "Hungary",
            "Iceland",
            "Ireland",
            "Italy",
            "Latvia",
            "Lithuania",
            "Luxembourg",
            "Malta",
            "Montenegro",
            "Netherlands",
            "Norway",
            "Poland",
            "Portugal",
            "Romania",
            "Serbia",
            "Slovakia",
            "Slovenia",
            "Spain",
            "Sweden",
            "Switzerland",
            "Ukraine"
           ],
           "ids": [
            "Albania",
            "Austria",
            "Belarus",
            "Belgium",
            "Bulgaria",
            "Croatia",
            "Denmark",
            "Estonia",
            "Finland",
            "France",
            "Germany",
            "Greece",
            "Hungary",
            "Iceland",
            "Ireland",
            "Italy",
            "Latvia",
            "Lithuania",
            "Luxembourg",
            "Malta",
            "Montenegro",
            "Netherlands",
            "Norway",
            "Poland",
            "Portugal",
            "Romania",
            "Serbia",
            "Slovakia",
            "Slovenia",
            "Spain",
            "Sweden",
            "Switzerland",
            "Ukraine"
           ],
           "legendgroup": "Europe",
           "marker": {
            "color": "#1F77B4",
            "size": [
             107,
             86,
             254,
             94,
             154,
             121,
             98,
             197,
             97,
             97,
             89,
             80,
             184,
             63,
             80,
             70,
             212,
             207,
             85,
             66,
             132,
             80,
             77,
             140,
             104,
             174,
             131,
             143,
             119,
             82,
             68,
             71,
             258
            ],
            "sizemode": "area",
            "sizeref": 0.53,
            "symbol": "circle"
           },
           "mode": "markers",
           "name": "Europe",
           "orientation": "v",
           "showlegend": true,
           "type": "scatter",
           "x": [
            9,
            9.6,
            9.1,
            10.4,
            10.1,
            9.8,
            12.8,
            11.9,
            9.6,
            10.2,
            12.5,
            9.3,
            10.5,
            9.8,
            11.4,
            8.9,
            11.2,
            11.3,
            10.9,
            8.5,
            10.3,
            11.3,
            12.2,
            11.5,
            7.2,
            9.7,
            9.9,
            10.4,
            11.5,
            8.6,
            11.8,
            11.8,
            10.6
           ],
           "xaxis": "x",
           "y": [
            107,
            86,
            254,
            94,
            154,
            121,
            98,
            197,
            97,
            97,
            89,
            80,
            184,
            63,
            80,
            70,
            212,
            207,
            85,
            66,
            132,
            80,
            77,
            140,
            104,
            174,
            131,
            143,
            119,
            82,
            68,
            71,
            258
           ],
           "yaxis": "y"
          },
          {
           "hovertemplate": "<b>%{hovertext}</b><br><br>Continent=North America<br>Year=2003<br>avg_years_of_schooling=%{x}<br>Both sexes=%{marker.size}<extra></extra>",
           "hovertext": [
            "Antigua and Barbuda",
            "Bahamas",
            "Barbados",
            "Belize",
            "Canada",
            "Costa Rica",
            "Cuba",
            "El Salvador",
            "Grenada",
            "Guatemala",
            "Jamaica",
            "Mexico",
            "Panama",
            "Saint Lucia",
            "Trinidad and Tobago"
           ],
           "ids": [
            "Antigua and Barbuda",
            "Bahamas",
            "Barbados",
            "Belize",
            "Canada",
            "Costa Rica",
            "Cuba",
            "El Salvador",
            "Grenada",
            "Guatemala",
            "Jamaica",
            "Mexico",
            "Panama",
            "Saint Lucia",
            "Trinidad and Tobago"
           ],
           "legendgroup": "North America",
           "marker": {
            "color": "#FF7F0E",
            "size": [
             151,
             203,
             123,
             199,
             77,
             101,
             112,
             211,
             175,
             209,
             170,
             136,
             120,
             169,
             199
            ],
            "sizemode": "area",
            "sizeref": 0.53,
            "symbol": "circle"
           },
           "mode": "markers",
           "name": "North America",
           "orientation": "v",
           "showlegend": true,
           "type": "scatter",
           "x": [
            9,
            10.9,
            9.1,
            10.2,
            11.7,
            7.9,
            9.8,
            5.7,
            7.6,
            3.7,
            7.8,
            7.1,
            8.8,
            7.3,
            9.5
           ],
           "xaxis": "x",
           "y": [
            151,
            203,
            123,
            199,
            77,
            101,
            112,
            211,
            175,
            209,
            170,
            136,
            120,
            169,
            199
           ],
           "yaxis": "y"
          },
          {
           "hovertemplate": "<b>%{hovertext}</b><br><br>Continent=South America<br>Year=2003<br>avg_years_of_schooling=%{x}<br>Both sexes=%{marker.size}<extra></extra>",
           "hovertext": [
            "Argentina",
            "Brazil",
            "Chile",
            "Colombia",
            "Ecuador",
            "Guyana",
            "Paraguay",
            "Uruguay"
           ],
           "ids": [
            "Argentina",
            "Brazil",
            "Chile",
            "Colombia",
            "Ecuador",
            "Guyana",
            "Paraguay",
            "Uruguay"
           ],
           "legendgroup": "South America",
           "marker": {
            "color": "#2CA02C",
            "size": [
             134,
             172,
             100,
             155,
             146,
             277,
             166,
             125
            ],
            "sizemode": "area",
            "sizeref": 0.53,
            "symbol": "circle"
           },
           "mode": "markers",
           "name": "South America",
           "orientation": "v",
           "showlegend": true,
           "type": "scatter",
           "x": [
            9.3,
            6.2,
            9.4,
            6.5,
            7.1,
            7.8,
            7,
            8
           ],
           "xaxis": "x",
           "y": [
            134,
            172,
            100,
            155,
            146,
            277,
            166,
            125
           ],
           "yaxis": "y"
          },
          {
           "hovertemplate": "<b>%{hovertext}</b><br><br>Continent=Asia<br>Year=2003<br>avg_years_of_schooling=%{x}<br>Both sexes=%{marker.size}<extra></extra>",
           "hovertext": [
            "Armenia",
            "Azerbaijan",
            "Bahrain",
            "Israel",
            "Japan",
            "Kazakhstan",
            "Kuwait",
            "Kyrgyzstan",
            "Maldives",
            "Philippines",
            "Singapore",
            "Sri Lanka",
            "Thailand",
            "Uzbekistan"
           ],
           "ids": [
            "Armenia",
            "Azerbaijan",
            "Bahrain",
            "Israel",
            "Japan",
            "Kazakhstan",
            "Kuwait",
            "Kyrgyzstan",
            "Maldives",
            "Philippines",
            "Singapore",
            "Sri Lanka",
            "Thailand",
            "Uzbekistan"
           ],
           "legendgroup": "Asia",
           "marker": {
            "color": "#D62728",
            "size": [
             137,
             151,
             92,
             76,
             68,
             283,
             90,
             217,
             114,
             212,
             73,
             147,
             194,
             173
            ],
            "sizemode": "area",
            "sizeref": 0.53,
            "symbol": "circle"
           },
           "mode": "markers",
           "name": "Asia",
           "orientation": "v",
           "showlegend": true,
           "type": "scatter",
           "x": [
            10.8,
            10.6,
            8.4,
            12.2,
            11,
            11.2,
            6.1,
            10,
            3.3,
            8,
            9.8,
            10.2,
            6.7,
            9.5
           ],
           "xaxis": "x",
           "y": [
            137,
            151,
            92,
            76,
            68,
            283,
            90,
            217,
            114,
            212,
            73,
            147,
            194,
            173
           ],
           "yaxis": "y"
          },
          {
           "hovertemplate": "<b>%{hovertext}</b><br><br>Continent=Oceania<br>Year=2003<br>avg_years_of_schooling=%{x}<br>Both sexes=%{marker.size}<extra></extra>",
           "hovertext": [
            "Australia",
            "Fiji",
            "New Zealand"
           ],
           "ids": [
            "Australia",
            "Fiji",
            "New Zealand"
           ],
           "legendgroup": "Oceania",
           "marker": {
            "color": "#9467BD",
            "size": [
             69,
             220,
             81
            ],
            "sizemode": "area",
            "sizeref": 0.53,
            "symbol": "circle"
           },
           "mode": "markers",
           "name": "Oceania",
           "orientation": "v",
           "showlegend": true,
           "type": "scatter",
           "x": [
            11.8,
            9.3,
            11.6
           ],
           "xaxis": "x",
           "y": [
            69,
            220,
            81
           ],
           "yaxis": "y"
          },
          {
           "hovertemplate": "<b>%{hovertext}</b><br><br>Continent=Africa<br>Year=2003<br>avg_years_of_schooling=%{x}<br>Both sexes=%{marker.size}<extra></extra>",
           "hovertext": [
            "Mauritius",
            "Seychelles",
            "South Africa"
           ],
           "ids": [
            "Mauritius",
            "Seychelles",
            "South Africa"
           ],
           "legendgroup": "Africa",
           "marker": {
            "color": "#8C564B",
            "size": [
             168,
             185,
             437
            ],
            "sizemode": "area",
            "sizeref": 0.53,
            "symbol": "circle"
           },
           "mode": "markers",
           "name": "Africa",
           "orientation": "v",
           "showlegend": true,
           "type": "scatter",
           "x": [
            6.8,
            7.6,
            8.8
           ],
           "xaxis": "x",
           "y": [
            168,
            185,
            437
           ],
           "yaxis": "y"
          }
         ],
         "name": "2003"
        },
        {
         "data": [
          {
           "hovertemplate": "<b>%{hovertext}</b><br><br>Continent=Europe<br>Year=2004<br>avg_years_of_schooling=%{x}<br>Both sexes=%{marker.size}<extra></extra>",
           "hovertext": [
            "Albania",
            "Austria",
            "Belgium",
            "Bulgaria",
            "Croatia",
            "Denmark",
            "Estonia",
            "Finland",
            "France",
            "Germany",
            "Greece",
            "Hungary",
            "Iceland",
            "Ireland",
            "Italy",
            "Latvia",
            "Lithuania",
            "Luxembourg",
            "Malta",
            "Montenegro",
            "Netherlands",
            "Norway",
            "Poland",
            "Romania",
            "Serbia",
            "Slovakia",
            "Slovenia",
            "Spain",
            "Sweden",
            "Switzerland",
            "Ukraine"
           ],
           "ids": [
            "Albania",
            "Austria",
            "Belgium",
            "Bulgaria",
            "Croatia",
            "Denmark",
            "Estonia",
            "Finland",
            "France",
            "Germany",
            "Greece",
            "Hungary",
            "Iceland",
            "Ireland",
            "Italy",
            "Latvia",
            "Lithuania",
            "Luxembourg",
            "Malta",
            "Montenegro",
            "Netherlands",
            "Norway",
            "Poland",
            "Romania",
            "Serbia",
            "Slovakia",
            "Slovenia",
            "Spain",
            "Sweden",
            "Switzerland",
            "Ukraine"
           ],
           "legendgroup": "Europe",
           "marker": {
            "color": "#1F77B4",
            "size": [
             101,
             84,
             89,
             154,
             113,
             95,
             193,
             101,
             92,
             85,
             80,
             180,
             61,
             79,
             66,
             209,
             209,
             79,
             64,
             131,
             76,
             76,
             142,
             166,
             129,
             137,
             113,
             79,
             70,
             68,
             269
            ],
            "sizemode": "area",
            "sizeref": 0.53,
            "symbol": "circle"
           },
           "mode": "markers",
           "name": "Europe",
           "orientation": "v",
           "showlegend": true,
           "type": "scatter",
           "x": [
            9.1,
            9.8,
            10.5,
            10.1,
            9.7,
            12.8,
            12,
            11.9,
            10.3,
            12.9,
            9.6,
            10.6,
            9.9,
            11.6,
            9.1,
            11.7,
            11.5,
            11.1,
            8.6,
            10.4,
            11.5,
            12.7,
            11.6,
            9.9,
            10,
            10.6,
            12,
            8.6,
            12.3,
            11.9,
            10.7
           ],
           "xaxis": "x",
           "y": [
            101,
            84,
            89,
            154,
            113,
            95,
            193,
            101,
            92,
            85,
            80,
            180,
            61,
            79,
            66,
            209,
            209,
            79,
            64,
            131,
            76,
            76,
            142,
            166,
            129,
            137,
            113,
            79,
            70,
            68,
            269
           ],
           "yaxis": "y"
          },
          {
           "hovertemplate": "<b>%{hovertext}</b><br><br>Continent=North America<br>Year=2004<br>avg_years_of_schooling=%{x}<br>Both sexes=%{marker.size}<extra></extra>",
           "hovertext": [
            "Antigua and Barbuda",
            "Bahamas",
            "Barbados",
            "Belize",
            "Canada",
            "Costa Rica",
            "Cuba",
            "El Salvador",
            "Grenada",
            "Guatemala",
            "Jamaica",
            "Mexico",
            "Panama",
            "Saint Lucia",
            "Trinidad and Tobago"
           ],
           "ids": [
            "Antigua and Barbuda",
            "Bahamas",
            "Barbados",
            "Belize",
            "Canada",
            "Costa Rica",
            "Cuba",
            "El Salvador",
            "Grenada",
            "Guatemala",
            "Jamaica",
            "Mexico",
            "Panama",
            "Saint Lucia",
            "Trinidad and Tobago"
           ],
           "legendgroup": "North America",
           "marker": {
            "color": "#FF7F0E",
            "size": [
             153,
             187,
             116,
             195,
             76,
             102,
             109,
             209,
             186,
             206,
             168,
             132,
             117,
             162,
             196
            ],
            "sizemode": "area",
            "sizeref": 0.53,
            "symbol": "circle"
           },
           "mode": "markers",
           "name": "North America",
           "orientation": "v",
           "showlegend": true,
           "type": "scatter",
           "x": [
            9.1,
            10.9,
            9.2,
            10.3,
            12,
            7.9,
            9.8,
            5.8,
            7.7,
            3.6,
            8,
            7.4,
            8.9,
            7.4,
            9.8
           ],
           "xaxis": "x",
           "y": [
            153,
            187,
            116,
            195,
            76,
            102,
            109,
            209,
            186,
            206,
            168,
            132,
            117,
            162,
            196
           ],
           "yaxis": "y"
          },
          {
           "hovertemplate": "<b>%{hovertext}</b><br><br>Continent=South America<br>Year=2004<br>avg_years_of_schooling=%{x}<br>Both sexes=%{marker.size}<extra></extra>",
           "hovertext": [
            "Argentina",
            "Brazil",
            "Chile",
            "Colombia",
            "Ecuador",
            "Guyana",
            "Paraguay",
            "Suriname",
            "Uruguay"
           ],
           "ids": [
            "Argentina",
            "Brazil",
            "Chile",
            "Colombia",
            "Ecuador",
            "Guyana",
            "Paraguay",
            "Suriname",
            "Uruguay"
           ],
           "legendgroup": "South America",
           "marker": {
            "color": "#2CA02C",
            "size": [
             128,
             169,
             98,
             152,
             145,
             270,
             165,
             216,
             125
            ],
            "sizemode": "area",
            "sizeref": 0.53,
            "symbol": "circle"
           },
           "mode": "markers",
           "name": "South America",
           "orientation": "v",
           "showlegend": true,
           "type": "scatter",
           "x": [
            9.2,
            6.2,
            9.6,
            6.6,
            7.2,
            7.9,
            7.1,
            7.7,
            8
           ],
           "xaxis": "x",
           "y": [
            128,
            169,
            98,
            152,
            145,
            270,
            165,
            216,
            125
           ],
           "yaxis": "y"
          },
          {
           "hovertemplate": "<b>%{hovertext}</b><br><br>Continent=Asia<br>Year=2004<br>avg_years_of_schooling=%{x}<br>Both sexes=%{marker.size}<extra></extra>",
           "hovertext": [
            "Azerbaijan",
            "Bahrain",
            "Cyprus",
            "Georgia",
            "Israel",
            "Japan",
            "Kazakhstan",
            "Kuwait",
            "Kyrgyzstan",
            "Maldives",
            "Qatar",
            "Singapore",
            "Thailand",
            "Uzbekistan"
           ],
           "ids": [
            "Azerbaijan",
            "Bahrain",
            "Cyprus",
            "Georgia",
            "Israel",
            "Japan",
            "Kazakhstan",
            "Kuwait",
            "Kyrgyzstan",
            "Maldives",
            "Qatar",
            "Singapore",
            "Thailand",
            "Uzbekistan"
           ],
           "legendgroup": "Asia",
           "marker": {
            "color": "#D62728",
            "size": [
             151,
             94,
             74,
             148,
             73,
             67,
             289,
             89,
             217,
             118,
             69,
             73,
             194,
             174
            ],
            "sizemode": "area",
            "sizeref": 0.53,
            "symbol": "circle"
           },
           "mode": "markers",
           "name": "Asia",
           "orientation": "v",
           "showlegend": true,
           "type": "scatter",
           "x": [
            10.6,
            8.4,
            10.5,
            12,
            12.2,
            11.1,
            11.5,
            6.1,
            10.1,
            3.4,
            8.4,
            10.2,
            6.8,
            9.7
           ],
           "xaxis": "x",
           "y": [
            151,
            94,
            74,
            148,
            73,
            67,
            289,
            89,
            217,
            118,
            69,
            73,
            194,
            174
           ],
           "yaxis": "y"
          },
          {
           "hovertemplate": "<b>%{hovertext}</b><br><br>Continent=Oceania<br>Year=2004<br>avg_years_of_schooling=%{x}<br>Both sexes=%{marker.size}<extra></extra>",
           "hovertext": [
            "Australia",
            "Fiji",
            "New Zealand"
           ],
           "ids": [
            "Australia",
            "Fiji",
            "New Zealand"
           ],
           "legendgroup": "Oceania",
           "marker": {
            "color": "#9467BD",
            "size": [
             67,
             218,
             79
            ],
            "sizemode": "area",
            "sizeref": 0.53,
            "symbol": "circle"
           },
           "mode": "markers",
           "name": "Oceania",
           "orientation": "v",
           "showlegend": true,
           "type": "scatter",
           "x": [
            11.8,
            9.3,
            11.6
           ],
           "xaxis": "x",
           "y": [
            67,
            218,
            79
           ],
           "yaxis": "y"
          },
          {
           "hovertemplate": "<b>%{hovertext}</b><br><br>Continent=Africa<br>Year=2004<br>avg_years_of_schooling=%{x}<br>Both sexes=%{marker.size}<extra></extra>",
           "hovertext": [
            "Mauritius",
            "Seychelles",
            "South Africa"
           ],
           "ids": [
            "Mauritius",
            "Seychelles",
            "South Africa"
           ],
           "legendgroup": "Africa",
           "marker": {
            "color": "#8C564B",
            "size": [
             164,
             186,
             459
            ],
            "sizemode": "area",
            "sizeref": 0.53,
            "symbol": "circle"
           },
           "mode": "markers",
           "name": "Africa",
           "orientation": "v",
           "showlegend": true,
           "type": "scatter",
           "x": [
            7,
            7.7,
            8.8
           ],
           "xaxis": "x",
           "y": [
            164,
            186,
            459
           ],
           "yaxis": "y"
          }
         ],
         "name": "2004"
        },
        {
         "data": [
          {
           "hovertemplate": "<b>%{hovertext}</b><br><br>Continent=Europe<br>Year=2005<br>avg_years_of_schooling=%{x}<br>Both sexes=%{marker.size}<extra></extra>",
           "hovertext": [
            "Albania",
            "Austria",
            "Belgium",
            "Bulgaria",
            "Croatia",
            "Denmark",
            "Estonia",
            "Finland",
            "France",
            "Germany",
            "Greece",
            "Hungary",
            "Iceland",
            "Ireland",
            "Italy",
            "Latvia",
            "Lithuania",
            "Luxembourg",
            "Malta",
            "Montenegro",
            "Netherlands",
            "Norway",
            "Poland",
            "Romania",
            "Serbia",
            "Slovakia",
            "Slovenia",
            "Spain",
            "Sweden",
            "Switzerland",
            "Ukraine"
           ],
           "ids": [
            "Albania",
            "Austria",
            "Belgium",
            "Bulgaria",
            "Croatia",
            "Denmark",
            "Estonia",
            "Finland",
            "France",
            "Germany",
            "Greece",
            "Hungary",
            "Iceland",
            "Ireland",
            "Italy",
            "Latvia",
            "Lithuania",
            "Luxembourg",
            "Malta",
            "Montenegro",
            "Netherlands",
            "Norway",
            "Poland",
            "Romania",
            "Serbia",
            "Slovakia",
            "Slovenia",
            "Spain",
            "Sweden",
            "Switzerland",
            "Ukraine"
           ],
           "legendgroup": "Europe",
           "marker": {
            "color": "#1F77B4",
            "size": [
             106,
             84,
             88,
             156,
             116,
             89,
             187,
             100,
             92,
             84,
             79,
             182,
             61,
             75,
             65,
             220,
             228,
             81,
             63,
             130,
             72,
             72,
             144,
             162,
             128,
             140,
             104,
             76,
             66,
             66,
             280
            ],
            "sizemode": "area",
            "sizeref": 0.53,
            "symbol": "circle"
           },
           "mode": "markers",
           "name": "Europe",
           "orientation": "v",
           "showlegend": true,
           "type": "scatter",
           "x": [
            9.1,
            9.9,
            10.7,
            10.2,
            9.7,
            12.8,
            12.1,
            12,
            10.4,
            13.3,
            9.8,
            10.9,
            10,
            11.7,
            9.2,
            12.1,
            11.8,
            11.3,
            9.8,
            10.5,
            11.6,
            12.4,
            11.6,
            10.1,
            10.2,
            10.8,
            11.7,
            8.9,
            12.4,
            12,
            11.2
           ],
           "xaxis": "x",
           "y": [
            106,
            84,
            88,
            156,
            116,
            89,
            187,
            100,
            92,
            84,
            79,
            182,
            61,
            75,
            65,
            220,
            228,
            81,
            63,
            130,
            72,
            72,
            144,
            162,
            128,
            140,
            104,
            76,
            66,
            66,
            280
           ],
           "yaxis": "y"
          },
          {
           "hovertemplate": "<b>%{hovertext}</b><br><br>Continent=North America<br>Year=2005<br>avg_years_of_schooling=%{x}<br>Both sexes=%{marker.size}<extra></extra>",
           "hovertext": [
            "Antigua and Barbuda",
            "Bahamas",
            "Barbados",
            "Belize",
            "Canada",
            "Costa Rica",
            "Cuba",
            "El Salvador",
            "Grenada",
            "Guatemala",
            "Jamaica",
            "Mexico",
            "Panama",
            "Saint Lucia",
            "Trinidad and Tobago"
           ],
           "ids": [
            "Antigua and Barbuda",
            "Bahamas",
            "Barbados",
            "Belize",
            "Canada",
            "Costa Rica",
            "Cuba",
            "El Salvador",
            "Grenada",
            "Guatemala",
            "Jamaica",
            "Mexico",
            "Panama",
            "Saint Lucia",
            "Trinidad and Tobago"
           ],
           "legendgroup": "North America",
           "marker": {
            "color": "#FF7F0E",
            "size": [
             156,
             180,
             114,
             190,
             76,
             96,
             110,
             206,
             171,
             211,
             164,
             134,
             116,
             158,
             195
            ],
            "sizemode": "area",
            "sizeref": 0.53,
            "symbol": "circle"
           },
           "mode": "markers",
           "name": "North America",
           "orientation": "v",
           "showlegend": true,
           "type": "scatter",
           "x": [
            9.1,
            10.9,
            9.2,
            10.3,
            12.2,
            7.9,
            9.9,
            6,
            7.8,
            3.5,
            8.1,
            7.6,
            9,
            7.5,
            10
           ],
           "xaxis": "x",
           "y": [
            156,
            180,
            114,
            190,
            76,
            96,
            110,
            206,
            171,
            211,
            164,
            134,
            116,
            158,
            195
           ],
           "yaxis": "y"
          },
          {
           "hovertemplate": "<b>%{hovertext}</b><br><br>Continent=South America<br>Year=2005<br>avg_years_of_schooling=%{x}<br>Both sexes=%{marker.size}<extra></extra>",
           "hovertext": [
            "Argentina",
            "Brazil",
            "Chile",
            "Colombia",
            "Ecuador",
            "Guyana",
            "Paraguay",
            "Suriname",
            "Uruguay"
           ],
           "ids": [
            "Argentina",
            "Brazil",
            "Chile",
            "Colombia",
            "Ecuador",
            "Guyana",
            "Paraguay",
            "Suriname",
            "Uruguay"
           ],
           "legendgroup": "South America",
           "marker": {
            "color": "#2CA02C",
            "size": [
             125,
             162,
             95,
             144,
             149,
             267,
             164,
             207,
             125
            ],
            "sizemode": "area",
            "sizeref": 0.53,
            "symbol": "circle"
           },
           "mode": "markers",
           "name": "South America",
           "orientation": "v",
           "showlegend": true,
           "type": "scatter",
           "x": [
            9.1,
            6.3,
            9.5,
            6.8,
            7.3,
            7.9,
            7.3,
            7.7,
            8
           ],
           "xaxis": "x",
           "y": [
            125,
            162,
            95,
            144,
            149,
            267,
            164,
            207,
            125
           ],
           "yaxis": "y"
          },
          {
           "hovertemplate": "<b>%{hovertext}</b><br><br>Continent=Asia<br>Year=2005<br>avg_years_of_schooling=%{x}<br>Both sexes=%{marker.size}<extra></extra>",
           "hovertext": [
            "Bahrain",
            "Cyprus",
            "Georgia",
            "Israel",
            "Japan",
            "Kazakhstan",
            "Kuwait",
            "Kyrgyzstan",
            "Maldives",
            "Qatar",
            "Singapore",
            "Thailand",
            "United Arab Emirates",
            "Uzbekistan"
           ],
           "ids": [
            "Bahrain",
            "Cyprus",
            "Georgia",
            "Israel",
            "Japan",
            "Kazakhstan",
            "Kuwait",
            "Kyrgyzstan",
            "Maldives",
            "Qatar",
            "Singapore",
            "Thailand",
            "United Arab Emirates",
            "Uzbekistan"
           ],
           "legendgroup": "Asia",
           "marker": {
            "color": "#D62728",
            "size": [
             83,
             75,
             144,
             72,
             68,
             297,
             88,
             223,
             93,
             67,
             74,
             183,
             91,
             183
            ],
            "sizemode": "area",
            "sizeref": 0.53,
            "symbol": "circle"
           },
           "mode": "markers",
           "name": "Asia",
           "orientation": "v",
           "showlegend": true,
           "type": "scatter",
           "x": [
            8.4,
            10.7,
            12.1,
            12.3,
            11.2,
            11.7,
            5.8,
            10.2,
            3.5,
            8.8,
            10.5,
            7,
            9.1,
            9.8
           ],
           "xaxis": "x",
           "y": [
            83,
            75,
            144,
            72,
            68,
            297,
            88,
            223,
            93,
            67,
            74,
            183,
            91,
            183
           ],
           "yaxis": "y"
          },
          {
           "hovertemplate": "<b>%{hovertext}</b><br><br>Continent=Oceania<br>Year=2005<br>avg_years_of_schooling=%{x}<br>Both sexes=%{marker.size}<extra></extra>",
           "hovertext": [
            "Fiji",
            "New Zealand"
           ],
           "ids": [
            "Fiji",
            "New Zealand"
           ],
           "legendgroup": "Oceania",
           "marker": {
            "color": "#9467BD",
            "size": [
             214,
             77
            ],
            "sizemode": "area",
            "sizeref": 0.53,
            "symbol": "circle"
           },
           "mode": "markers",
           "name": "Oceania",
           "orientation": "v",
           "showlegend": true,
           "type": "scatter",
           "x": [
            9.2,
            11.7
           ],
           "xaxis": "x",
           "y": [
            214,
            77
           ],
           "yaxis": "y"
          },
          {
           "hovertemplate": "<b>%{hovertext}</b><br><br>Continent=Africa<br>Year=2005<br>avg_years_of_schooling=%{x}<br>Both sexes=%{marker.size}<extra></extra>",
           "hovertext": [
            "Mauritius",
            "Seychelles",
            "South Africa"
           ],
           "ids": [
            "Mauritius",
            "Seychelles",
            "South Africa"
           ],
           "legendgroup": "Africa",
           "marker": {
            "color": "#8C564B",
            "size": [
             164,
             185,
             474
            ],
            "sizemode": "area",
            "sizeref": 0.53,
            "symbol": "circle"
           },
           "mode": "markers",
           "name": "Africa",
           "orientation": "v",
           "showlegend": true,
           "type": "scatter",
           "x": [
            7.2,
            7.7,
            8.9
           ],
           "xaxis": "x",
           "y": [
            164,
            185,
            474
           ],
           "yaxis": "y"
          }
         ],
         "name": "2005"
        },
        {
         "data": [
          {
           "hovertemplate": "<b>%{hovertext}</b><br><br>Continent=Europe<br>Year=2006<br>avg_years_of_schooling=%{x}<br>Both sexes=%{marker.size}<extra></extra>",
           "hovertext": [
            "Albania",
            "Austria",
            "Belgium",
            "Bulgaria",
            "Croatia",
            "Denmark",
            "Estonia",
            "Finland",
            "France",
            "Germany",
            "Greece",
            "Hungary",
            "Iceland",
            "Ireland",
            "Italy",
            "Latvia",
            "Lithuania",
            "Luxembourg",
            "Malta",
            "Montenegro",
            "Netherlands",
            "Norway",
            "Poland",
            "Romania",
            "Serbia",
            "Slovakia",
            "Slovenia",
            "Spain",
            "Sweden",
            "Switzerland",
            "Ukraine"
           ],
           "ids": [
            "Albania",
            "Austria",
            "Belgium",
            "Bulgaria",
            "Croatia",
            "Denmark",
            "Estonia",
            "Finland",
            "France",
            "Germany",
            "Greece",
            "Hungary",
            "Iceland",
            "Ireland",
            "Italy",
            "Latvia",
            "Lithuania",
            "Luxembourg",
            "Malta",
            "Montenegro",
            "Netherlands",
            "Norway",
            "Poland",
            "Romania",
            "Serbia",
            "Slovakia",
            "Slovenia",
            "Spain",
            "Sweden",
            "Switzerland",
            "Ukraine"
           ],
           "legendgroup": "Europe",
           "marker": {
            "color": "#1F77B4",
            "size": [
             101,
             80,
             85,
             157,
             114,
             91,
             186,
             95,
             90,
             83,
             76,
             178,
             62,
             75,
             64,
             232,
             235,
             78,
             63,
             127,
             70,
             69,
             145,
             158,
             126,
             138,
             107,
             73,
             64,
             64,
             268
            ],
            "sizemode": "area",
            "sizeref": 0.53,
            "symbol": "circle"
           },
           "mode": "markers",
           "name": "Europe",
           "orientation": "v",
           "showlegend": true,
           "type": "scatter",
           "x": [
            9.2,
            10.1,
            11.1,
            10.4,
            9.9,
            12.8,
            12.2,
            12,
            10.6,
            13.6,
            9.9,
            11.1,
            10.2,
            11.8,
            9.3,
            12.2,
            12,
            11.5,
            9.8,
            10.7,
            11.8,
            12.5,
            11.7,
            10.3,
            10.2,
            10.9,
            11.8,
            9,
            12.4,
            12.3,
            11.2
           ],
           "xaxis": "x",
           "y": [
            101,
            80,
            85,
            157,
            114,
            91,
            186,
            95,
            90,
            83,
            76,
            178,
            62,
            75,
            64,
            232,
            235,
            78,
            63,
            127,
            70,
            69,
            145,
            158,
            126,
            138,
            107,
            73,
            64,
            64,
            268
           ],
           "yaxis": "y"
          },
          {
           "hovertemplate": "<b>%{hovertext}</b><br><br>Continent=North America<br>Year=2006<br>avg_years_of_schooling=%{x}<br>Both sexes=%{marker.size}<extra></extra>",
           "hovertext": [
            "Antigua and Barbuda",
            "Bahamas",
            "Barbados",
            "Belize",
            "Canada",
            "Costa Rica",
            "Cuba",
            "El Salvador",
            "Grenada",
            "Guatemala",
            "Jamaica",
            "Mexico",
            "Panama",
            "Saint Lucia",
            "Trinidad and Tobago"
           ],
           "ids": [
            "Antigua and Barbuda",
            "Bahamas",
            "Barbados",
            "Belize",
            "Canada",
            "Costa Rica",
            "Cuba",
            "El Salvador",
            "Grenada",
            "Guatemala",
            "Jamaica",
            "Mexico",
            "Panama",
            "Saint Lucia",
            "Trinidad and Tobago"
           ],
           "legendgroup": "North America",
           "marker": {
            "color": "#FF7F0E",
            "size": [
             155,
             177,
             113,
             185,
             74,
             104,
             103,
             203,
             167,
             205,
             154,
             131,
             119,
             155,
             189
            ],
            "sizemode": "area",
            "sizeref": 0.53,
            "symbol": "circle"
           },
           "mode": "markers",
           "name": "North America",
           "orientation": "v",
           "showlegend": true,
           "type": "scatter",
           "x": [
            9.2,
            10.9,
            9.2,
            10.3,
            12.3,
            7.9,
            10.1,
            6.4,
            7.9,
            3.7,
            8.3,
            8,
            9.1,
            7.6,
            9.9
           ],
           "xaxis": "x",
           "y": [
            155,
            177,
            113,
            185,
            74,
            104,
            103,
            203,
            167,
            205,
            154,
            131,
            119,
            155,
            189
           ],
           "yaxis": "y"
          },
          {
           "hovertemplate": "<b>%{hovertext}</b><br><br>Continent=South America<br>Year=2006<br>avg_years_of_schooling=%{x}<br>Both sexes=%{marker.size}<extra></extra>",
           "hovertext": [
            "Argentina",
            "Brazil",
            "Chile",
            "Colombia",
            "Ecuador",
            "Guyana",
            "Paraguay",
            "Suriname",
            "Uruguay"
           ],
           "ids": [
            "Argentina",
            "Brazil",
            "Chile",
            "Colombia",
            "Ecuador",
            "Guyana",
            "Paraguay",
            "Suriname",
            "Uruguay"
           ],
           "legendgroup": "South America",
           "marker": {
            "color": "#2CA02C",
            "size": [
             124,
             160,
             93,
             146,
             144,
             267,
             161,
             203,
             118
            ],
            "sizemode": "area",
            "sizeref": 0.53,
            "symbol": "circle"
           },
           "mode": "markers",
           "name": "South America",
           "orientation": "v",
           "showlegend": true,
           "type": "scatter",
           "x": [
            9,
            6.4,
            9.5,
            6.7,
            7.3,
            7.9,
            7.1,
            7.7,
            8
           ],
           "xaxis": "x",
           "y": [
            124,
            160,
            93,
            146,
            144,
            267,
            161,
            203,
            118
           ],
           "yaxis": "y"
          },
          {
           "hovertemplate": "<b>%{hovertext}</b><br><br>Continent=Asia<br>Year=2006<br>avg_years_of_schooling=%{x}<br>Both sexes=%{marker.size}<extra></extra>",
           "hovertext": [
            "Armenia",
            "Bahrain",
            "Cyprus",
            "Georgia",
            "Israel",
            "Japan",
            "Kazakhstan",
            "Kuwait",
            "Kyrgyzstan",
            "Philippines",
            "Qatar",
            "Singapore",
            "Sri Lanka",
            "Thailand",
            "United Arab Emirates"
           ],
           "ids": [
            "Armenia",
            "Bahrain",
            "Cyprus",
            "Georgia",
            "Israel",
            "Japan",
            "Kazakhstan",
            "Kuwait",
            "Kyrgyzstan",
            "Philippines",
            "Qatar",
            "Singapore",
            "Sri Lanka",
            "Thailand",
            "United Arab Emirates"
           ],
           "legendgroup": "Asia",
           "marker": {
            "color": "#D62728",
            "size": [
             145,
             89,
             64,
             145,
             69,
             67,
             299,
             87,
             233,
             215,
             66,
             71,
             145,
             174,
             88
            ],
            "sizemode": "area",
            "sizeref": 0.53,
            "symbol": "circle"
           },
           "mode": "markers",
           "name": "Asia",
           "orientation": "v",
           "showlegend": true,
           "type": "scatter",
           "x": [
            10.9,
            8.4,
            10.9,
            12.1,
            12.1,
            11.2,
            11.7,
            6.2,
            10.2,
            8.8,
            9.2,
            10.1,
            10.5,
            7,
            9.3
           ],
           "xaxis": "x",
           "y": [
            145,
            89,
            64,
            145,
            69,
            67,
            299,
            87,
            233,
            215,
            66,
            71,
            145,
            174,
            88
           ],
           "yaxis": "y"
          },
          {
           "hovertemplate": "<b>%{hovertext}</b><br><br>Continent=Oceania<br>Year=2006<br>avg_years_of_schooling=%{x}<br>Both sexes=%{marker.size}<extra></extra>",
           "hovertext": [
            "Australia",
            "Fiji",
            "New Zealand"
           ],
           "ids": [
            "Australia",
            "Fiji",
            "New Zealand"
           ],
           "legendgroup": "Oceania",
           "marker": {
            "color": "#9467BD",
            "size": [
             65,
             212,
             75
            ],
            "sizemode": "area",
            "sizeref": 0.53,
            "symbol": "circle"
           },
           "mode": "markers",
           "name": "Oceania",
           "orientation": "v",
           "showlegend": true,
           "type": "scatter",
           "x": [
            11.9,
            9.3,
            11.7
           ],
           "xaxis": "x",
           "y": [
            65,
            212,
            75
           ],
           "yaxis": "y"
          },
          {
           "hovertemplate": "<b>%{hovertext}</b><br><br>Continent=Africa<br>Year=2006<br>avg_years_of_schooling=%{x}<br>Both sexes=%{marker.size}<extra></extra>",
           "hovertext": [
            "Mauritius",
            "Seychelles",
            "South Africa"
           ],
           "ids": [
            "Mauritius",
            "Seychelles",
            "South Africa"
           ],
           "legendgroup": "Africa",
           "marker": {
            "color": "#8C564B",
            "size": [
             162,
             185,
             477
            ],
            "sizemode": "area",
            "sizeref": 0.53,
            "symbol": "circle"
           },
           "mode": "markers",
           "name": "Africa",
           "orientation": "v",
           "showlegend": true,
           "type": "scatter",
           "x": [
            7.4,
            7.8,
            9
           ],
           "xaxis": "x",
           "y": [
            162,
            185,
            477
           ],
           "yaxis": "y"
          }
         ],
         "name": "2006"
        },
        {
         "data": [
          {
           "hovertemplate": "<b>%{hovertext}</b><br><br>Continent=Europe<br>Year=2007<br>avg_years_of_schooling=%{x}<br>Both sexes=%{marker.size}<extra></extra>",
           "hovertext": [
            "Albania",
            "Austria",
            "Belarus",
            "Belgium",
            "Bulgaria",
            "Croatia",
            "Denmark",
            "Estonia",
            "Finland",
            "France",
            "Germany",
            "Greece",
            "Hungary",
            "Iceland",
            "Ireland",
            "Italy",
            "Latvia",
            "Lithuania",
            "Luxembourg",
            "Malta",
            "Montenegro",
            "Netherlands",
            "Norway",
            "Poland",
            "Portugal",
            "Romania",
            "Serbia",
            "Slovakia",
            "Slovenia",
            "Spain",
            "Sweden",
            "Switzerland",
            "Ukraine"
           ],
           "ids": [
            "Albania",
            "Austria",
            "Belarus",
            "Belgium",
            "Bulgaria",
            "Croatia",
            "Denmark",
            "Estonia",
            "Finland",
            "France",
            "Germany",
            "Greece",
            "Hungary",
            "Iceland",
            "Ireland",
            "Italy",
            "Latvia",
            "Lithuania",
            "Luxembourg",
            "Malta",
            "Montenegro",
            "Netherlands",
            "Norway",
            "Poland",
            "Portugal",
            "Romania",
            "Serbia",
            "Slovakia",
            "Slovenia",
            "Spain",
            "Sweden",
            "Switzerland",
            "Ukraine"
           ],
           "legendgroup": "Europe",
           "marker": {
            "color": "#1F77B4",
            "size": [
             101,
             80,
             230,
             86,
             153,
             115,
             91,
             187,
             96,
             88,
             82,
             78,
             176,
             60,
             72,
             62,
             224,
             246,
             75,
             65,
             123,
             67,
             67,
             145,
             92,
             155,
             123,
             139,
             102,
             72,
             63,
             62,
             278
            ],
            "sizemode": "area",
            "sizeref": 0.53,
            "symbol": "circle"
           },
           "mode": "markers",
           "name": "Europe",
           "orientation": "v",
           "showlegend": true,
           "type": "scatter",
           "x": [
            9.2,
            11.6,
            10.6,
            11.1,
            10.5,
            10.1,
            12.5,
            12.2,
            12,
            10.7,
            13.7,
            10,
            11.3,
            10.3,
            11.9,
            9.4,
            12.3,
            12.1,
            11.7,
            9.9,
            10.8,
            12,
            12.6,
            11.8,
            7.7,
            10.5,
            10.2,
            11.1,
            11.8,
            9.1,
            12.5,
            12.6,
            11.2
           ],
           "xaxis": "x",
           "y": [
            101,
            80,
            230,
            86,
            153,
            115,
            91,
            187,
            96,
            88,
            82,
            78,
            176,
            60,
            72,
            62,
            224,
            246,
            75,
            65,
            123,
            67,
            67,
            145,
            92,
            155,
            123,
            139,
            102,
            72,
            63,
            62,
            278
           ],
           "yaxis": "y"
          },
          {
           "hovertemplate": "<b>%{hovertext}</b><br><br>Continent=North America<br>Year=2007<br>avg_years_of_schooling=%{x}<br>Both sexes=%{marker.size}<extra></extra>",
           "hovertext": [
            "Antigua and Barbuda",
            "Bahamas",
            "Barbados",
            "Belize",
            "Canada",
            "Costa Rica",
            "Cuba",
            "El Salvador",
            "Grenada",
            "Guatemala",
            "Mexico",
            "Panama",
            "Trinidad and Tobago"
           ],
           "ids": [
            "Antigua and Barbuda",
            "Bahamas",
            "Barbados",
            "Belize",
            "Canada",
            "Costa Rica",
            "Cuba",
            "El Salvador",
            "Grenada",
            "Guatemala",
            "Mexico",
            "Panama",
            "Trinidad and Tobago"
           ],
           "legendgroup": "North America",
           "marker": {
            "color": "#FF7F0E",
            "size": [
             149,
             171,
             112,
             181,
             74,
             91,
             102,
             200,
             164,
             191,
             129,
             119,
             188
            ],
            "sizemode": "area",
            "sizeref": 0.53,
            "symbol": "circle"
           },
           "mode": "markers",
           "name": "North America",
           "orientation": "v",
           "showlegend": true,
           "type": "scatter",
           "x": [
            9.2,
            10.9,
            9.3,
            10.4,
            12.4,
            8.1,
            10.4,
            5.8,
            8,
            3.9,
            8,
            9.2,
            10.5
           ],
           "xaxis": "x",
           "y": [
            149,
            171,
            112,
            181,
            74,
            91,
            102,
            200,
            164,
            191,
            129,
            119,
            188
           ],
           "yaxis": "y"
          },
          {
           "hovertemplate": "<b>%{hovertext}</b><br><br>Continent=South America<br>Year=2007<br>avg_years_of_schooling=%{x}<br>Both sexes=%{marker.size}<extra></extra>",
           "hovertext": [
            "Argentina",
            "Brazil",
            "Chile",
            "Colombia",
            "Ecuador",
            "Guyana",
            "Paraguay",
            "Suriname",
            "Uruguay"
           ],
           "ids": [
            "Argentina",
            "Brazil",
            "Chile",
            "Colombia",
            "Ecuador",
            "Guyana",
            "Paraguay",
            "Suriname",
            "Uruguay"
           ],
           "legendgroup": "South America",
           "marker": {
            "color": "#2CA02C",
            "size": [
             126,
             158,
             93,
             141,
             141,
             257,
             159,
             200,
             124
            ],
            "sizemode": "area",
            "sizeref": 0.53,
            "symbol": "circle"
           },
           "mode": "markers",
           "name": "South America",
           "orientation": "v",
           "showlegend": true,
           "type": "scatter",
           "x": [
            8.9,
            6.5,
            9.4,
            7.2,
            7.3,
            8,
            7.1,
            7.7,
            8.2
           ],
           "xaxis": "x",
           "y": [
            126,
            158,
            93,
            141,
            141,
            257,
            159,
            200,
            124
           ],
           "yaxis": "y"
          },
          {
           "hovertemplate": "<b>%{hovertext}</b><br><br>Continent=Asia<br>Year=2007<br>avg_years_of_schooling=%{x}<br>Both sexes=%{marker.size}<extra></extra>",
           "hovertext": [
            "Armenia",
            "Azerbaijan",
            "Bahrain",
            "Cyprus",
            "Georgia",
            "Israel",
            "Japan",
            "Kazakhstan",
            "Kuwait",
            "Kyrgyzstan",
            "Maldives",
            "Philippines",
            "Qatar",
            "Singapore",
            "Thailand",
            "United Arab Emirates"
           ],
           "ids": [
            "Armenia",
            "Azerbaijan",
            "Bahrain",
            "Cyprus",
            "Georgia",
            "Israel",
            "Japan",
            "Kazakhstan",
            "Kuwait",
            "Kyrgyzstan",
            "Maldives",
            "Philippines",
            "Qatar",
            "Singapore",
            "Thailand",
            "United Arab Emirates"
           ],
           "legendgroup": "Asia",
           "marker": {
            "color": "#D62728",
            "size": [
             137,
             141,
             80,
             70,
             140,
             67,
             66,
             293,
             86,
             230,
             83,
             208,
             66,
             68,
             170,
             86
            ],
            "sizemode": "area",
            "sizeref": 0.53,
            "symbol": "circle"
           },
           "mode": "markers",
           "name": "Asia",
           "orientation": "v",
           "showlegend": true,
           "type": "scatter",
           "x": [
            11,
            10.2,
            8.4,
            11.2,
            12.1,
            12.5,
            11.3,
            11.6,
            6.3,
            10.3,
            3.9,
            8.9,
            9.6,
            10.2,
            7.1,
            9.4
           ],
           "xaxis": "x",
           "y": [
            137,
            141,
            80,
            70,
            140,
            67,
            66,
            293,
            86,
            230,
            83,
            208,
            66,
            68,
            170,
            86
           ],
           "yaxis": "y"
          },
          {
           "hovertemplate": "<b>%{hovertext}</b><br><br>Continent=Oceania<br>Year=2007<br>avg_years_of_schooling=%{x}<br>Both sexes=%{marker.size}<extra></extra>",
           "hovertext": [
            "Australia",
            "Fiji",
            "New Zealand"
           ],
           "ids": [
            "Australia",
            "Fiji",
            "New Zealand"
           ],
           "legendgroup": "Oceania",
           "marker": {
            "color": "#9467BD",
            "size": [
             65,
             209,
             76
            ],
            "sizemode": "area",
            "sizeref": 0.53,
            "symbol": "circle"
           },
           "mode": "markers",
           "name": "Oceania",
           "orientation": "v",
           "showlegend": true,
           "type": "scatter",
           "x": [
            12,
            9.3,
            11.8
           ],
           "xaxis": "x",
           "y": [
            65,
            209,
            76
           ],
           "yaxis": "y"
          },
          {
           "hovertemplate": "<b>%{hovertext}</b><br><br>Continent=Africa<br>Year=2007<br>avg_years_of_schooling=%{x}<br>Both sexes=%{marker.size}<extra></extra>",
           "hovertext": [
            "Mauritius",
            "Seychelles",
            "South Africa"
           ],
           "ids": [
            "Mauritius",
            "Seychelles",
            "South Africa"
           ],
           "legendgroup": "Africa",
           "marker": {
            "color": "#8C564B",
            "size": [
             160,
             185,
             475
            ],
            "sizemode": "area",
            "sizeref": 0.53,
            "symbol": "circle"
           },
           "mode": "markers",
           "name": "Africa",
           "orientation": "v",
           "showlegend": true,
           "type": "scatter",
           "x": [
            7.6,
            7.9,
            9.1
           ],
           "xaxis": "x",
           "y": [
            160,
            185,
            475
           ],
           "yaxis": "y"
          }
         ],
         "name": "2007"
        },
        {
         "data": [
          {
           "hovertemplate": "<b>%{hovertext}</b><br><br>Continent=Europe<br>Year=2008<br>avg_years_of_schooling=%{x}<br>Both sexes=%{marker.size}<extra></extra>",
           "hovertext": [
            "Albania",
            "Austria",
            "Belarus",
            "Belgium",
            "Bulgaria",
            "Croatia",
            "Denmark",
            "Estonia",
            "Finland",
            "France",
            "Germany",
            "Greece",
            "Hungary",
            "Iceland",
            "Ireland",
            "Italy",
            "Latvia",
            "Lithuania",
            "Luxembourg",
            "Malta",
            "Montenegro",
            "Netherlands",
            "Norway",
            "Poland",
            "Portugal",
            "Romania",
            "Serbia",
            "Slovakia",
            "Slovenia",
            "Spain",
            "Sweden",
            "Switzerland",
            "Ukraine"
           ],
           "ids": [
            "Albania",
            "Austria",
            "Belarus",
            "Belgium",
            "Bulgaria",
            "Croatia",
            "Denmark",
            "Estonia",
            "Finland",
            "France",
            "Germany",
            "Greece",
            "Hungary",
            "Iceland",
            "Ireland",
            "Italy",
            "Latvia",
            "Lithuania",
            "Luxembourg",
            "Malta",
            "Montenegro",
            "Netherlands",
            "Norway",
            "Poland",
            "Portugal",
            "Romania",
            "Serbia",
            "Slovakia",
            "Slovenia",
            "Spain",
            "Sweden",
            "Switzerland",
            "Ukraine"
           ],
           "legendgroup": "Europe",
           "marker": {
            "color": "#1F77B4",
            "size": [
             102,
             76,
             228,
             86,
             150,
             117,
             86,
             164,
             94,
             87,
             81,
             75,
             164,
             57,
             72,
             61,
             200,
             229,
             69,
             62,
             119,
             67,
             66,
             142,
             89,
             160,
             122,
             135,
             96,
             70,
             62,
             59,
             275
            ],
            "sizemode": "area",
            "sizeref": 0.53,
            "symbol": "circle"
           },
           "mode": "markers",
           "name": "Europe",
           "orientation": "v",
           "showlegend": true,
           "type": "scatter",
           "x": [
            9.2,
            11.5,
            11.3,
            11,
            10.5,
            10.3,
            12.9,
            12.3,
            12.2,
            10.7,
            13.7,
            10.1,
            11.5,
            10.4,
            12,
            9.5,
            12.2,
            12.2,
            11.7,
            10,
            10.9,
            12,
            12.7,
            11.9,
            7.8,
            10.6,
            10.4,
            11.2,
            11.9,
            9.2,
            12.2,
            12.9,
            11.3
           ],
           "xaxis": "x",
           "y": [
            102,
            76,
            228,
            86,
            150,
            117,
            86,
            164,
            94,
            87,
            81,
            75,
            164,
            57,
            72,
            61,
            200,
            229,
            69,
            62,
            119,
            67,
            66,
            142,
            89,
            160,
            122,
            135,
            96,
            70,
            62,
            59,
            275
           ],
           "yaxis": "y"
          },
          {
           "hovertemplate": "<b>%{hovertext}</b><br><br>Continent=North America<br>Year=2008<br>avg_years_of_schooling=%{x}<br>Both sexes=%{marker.size}<extra></extra>",
           "hovertext": [
            "Antigua and Barbuda",
            "Bahamas",
            "Barbados",
            "Belize",
            "Canada",
            "Costa Rica",
            "Cuba",
            "El Salvador",
            "Grenada",
            "Guatemala",
            "Mexico",
            "Panama",
            "Saint Lucia",
            "Trinidad and Tobago"
           ],
           "ids": [
            "Antigua and Barbuda",
            "Bahamas",
            "Barbados",
            "Belize",
            "Canada",
            "Costa Rica",
            "Cuba",
            "El Salvador",
            "Grenada",
            "Guatemala",
            "Mexico",
            "Panama",
            "Saint Lucia",
            "Trinidad and Tobago"
           ],
           "legendgroup": "North America",
           "marker": {
            "color": "#FF7F0E",
            "size": [
             147,
             168,
             112,
             183,
             73,
             97,
             100,
             198,
             162,
             186,
             133,
             122,
             152,
             195
            ],
            "sizemode": "area",
            "sizeref": 0.53,
            "symbol": "circle"
           },
           "mode": "markers",
           "name": "North America",
           "orientation": "v",
           "showlegend": true,
           "type": "scatter",
           "x": [
            9.3,
            10.9,
            9.3,
            10.4,
            12.4,
            8.4,
            10.6,
            6.4,
            8.1,
            4.3,
            8,
            9.2,
            7.8,
            10.7
           ],
           "xaxis": "x",
           "y": [
            147,
            168,
            112,
            183,
            73,
            97,
            100,
            198,
            162,
            186,
            133,
            122,
            152,
            195
           ],
           "yaxis": "y"
          },
          {
           "hovertemplate": "<b>%{hovertext}</b><br><br>Continent=South America<br>Year=2008<br>avg_years_of_schooling=%{x}<br>Both sexes=%{marker.size}<extra></extra>",
           "hovertext": [
            "Argentina",
            "Brazil",
            "Chile",
            "Colombia",
            "Ecuador",
            "Guyana",
            "Paraguay",
            "Suriname",
            "Uruguay"
           ],
           "ids": [
            "Argentina",
            "Brazil",
            "Chile",
            "Colombia",
            "Ecuador",
            "Guyana",
            "Paraguay",
            "Suriname",
            "Uruguay"
           ],
           "legendgroup": "South America",
           "marker": {
            "color": "#2CA02C",
            "size": [
             123,
             157,
             91,
             142,
             141,
             249,
             157,
             200,
             119
            ],
            "sizemode": "area",
            "sizeref": 0.53,
            "symbol": "circle"
           },
           "mode": "markers",
           "name": "South America",
           "orientation": "v",
           "showlegend": true,
           "type": "scatter",
           "x": [
            8.9,
            6.7,
            9.9,
            7.3,
            7.9,
            8,
            7.4,
            7.7,
            8.4
           ],
           "xaxis": "x",
           "y": [
            123,
            157,
            91,
            142,
            141,
            249,
            157,
            200,
            119
           ],
           "yaxis": "y"
          },
          {
           "hovertemplate": "<b>%{hovertext}</b><br><br>Continent=Asia<br>Year=2008<br>avg_years_of_schooling=%{x}<br>Both sexes=%{marker.size}<extra></extra>",
           "hovertext": [
            "Armenia",
            "Bahrain",
            "Cyprus",
            "Israel",
            "Japan",
            "Kazakhstan",
            "Kuwait",
            "Kyrgyzstan",
            "Maldives",
            "Philippines",
            "Qatar",
            "Singapore",
            "Thailand",
            "United Arab Emirates"
           ],
           "ids": [
            "Armenia",
            "Bahrain",
            "Cyprus",
            "Israel",
            "Japan",
            "Kazakhstan",
            "Kuwait",
            "Kyrgyzstan",
            "Maldives",
            "Philippines",
            "Qatar",
            "Singapore",
            "Thailand",
            "United Arab Emirates"
           ],
           "legendgroup": "Asia",
           "marker": {
            "color": "#D62728",
            "size": [
             144,
             73,
             68,
             64,
             64,
             264,
             85,
             218,
             80,
             207,
             65,
             67,
             167,
             85
            ],
            "sizemode": "area",
            "sizeref": 0.53,
            "symbol": "circle"
           },
           "mode": "markers",
           "name": "Asia",
           "orientation": "v",
           "showlegend": true,
           "type": "scatter",
           "x": [
            11,
            8.4,
            11.3,
            12.6,
            11.4,
            11.5,
            6.5,
            10.3,
            4.3,
            9,
            9.7,
            10.5,
            7.3,
            9.6
           ],
           "xaxis": "x",
           "y": [
            144,
            73,
            68,
            64,
            64,
            264,
            85,
            218,
            80,
            207,
            65,
            67,
            167,
            85
           ],
           "yaxis": "y"
          },
          {
           "hovertemplate": "<b>%{hovertext}</b><br><br>Continent=Oceania<br>Year=2008<br>avg_years_of_schooling=%{x}<br>Both sexes=%{marker.size}<extra></extra>",
           "hovertext": [
            "Australia",
            "Fiji",
            "New Zealand"
           ],
           "ids": [
            "Australia",
            "Fiji",
            "New Zealand"
           ],
           "legendgroup": "Oceania",
           "marker": {
            "color": "#9467BD",
            "size": [
             64,
             206,
             74
            ],
            "sizemode": "area",
            "sizeref": 0.53,
            "symbol": "circle"
           },
           "mode": "markers",
           "name": "Oceania",
           "orientation": "v",
           "showlegend": true,
           "type": "scatter",
           "x": [
            12.3,
            9.4,
            11.8
           ],
           "xaxis": "x",
           "y": [
            64,
            206,
            74
           ],
           "yaxis": "y"
          },
          {
           "hovertemplate": "<b>%{hovertext}</b><br><br>Continent=Africa<br>Year=2008<br>avg_years_of_schooling=%{x}<br>Both sexes=%{marker.size}<extra></extra>",
           "hovertext": [
            "Mauritius",
            "Seychelles",
            "South Africa"
           ],
           "ids": [
            "Mauritius",
            "Seychelles",
            "South Africa"
           ],
           "legendgroup": "Africa",
           "marker": {
            "color": "#8C564B",
            "size": [
             165,
             185,
             458
            ],
            "sizemode": "area",
            "sizeref": 0.53,
            "symbol": "circle"
           },
           "mode": "markers",
           "name": "Africa",
           "orientation": "v",
           "showlegend": true,
           "type": "scatter",
           "x": [
            7.8,
            8,
            9.7
           ],
           "xaxis": "x",
           "y": [
            165,
            185,
            458
           ],
           "yaxis": "y"
          }
         ],
         "name": "2008"
        },
        {
         "data": [
          {
           "hovertemplate": "<b>%{hovertext}</b><br><br>Continent=Europe<br>Year=2009<br>avg_years_of_schooling=%{x}<br>Both sexes=%{marker.size}<extra></extra>",
           "hovertext": [
            "Albania",
            "Austria",
            "Belarus",
            "Belgium",
            "Bulgaria",
            "Croatia",
            "Denmark",
            "Estonia",
            "Finland",
            "France",
            "Germany",
            "Greece",
            "Hungary",
            "Iceland",
            "Ireland",
            "Italy",
            "Latvia",
            "Lithuania",
            "Luxembourg",
            "Malta",
            "Montenegro",
            "Netherlands",
            "Norway",
            "Poland",
            "Portugal",
            "Romania",
            "Serbia",
            "Slovakia",
            "Slovenia",
            "Spain",
            "Sweden",
            "Switzerland",
            "Ukraine"
           ],
           "ids": [
            "Albania",
            "Austria",
            "Belarus",
            "Belgium",
            "Bulgaria",
            "Croatia",
            "Denmark",
            "Estonia",
            "Finland",
            "France",
            "Germany",
            "Greece",
            "Hungary",
            "Iceland",
            "Ireland",
            "Italy",
            "Latvia",
            "Lithuania",
            "Luxembourg",
            "Malta",
            "Montenegro",
            "Netherlands",
            "Norway",
            "Poland",
            "Portugal",
            "Romania",
            "Serbia",
            "Slovakia",
            "Slovenia",
            "Spain",
            "Sweden",
            "Switzerland",
            "Ukraine"
           ],
           "legendgroup": "Europe",
           "marker": {
            "color": "#1F77B4",
            "size": [
             103,
             77,
             225,
             84,
             147,
             109,
             84,
             154,
             90,
             87,
             80,
             76,
             160,
             55,
             74,
             60,
             185,
             197,
             67,
             61,
             115,
             65,
             67,
             137,
             88,
             160,
             120,
             130,
             91,
             67,
             61,
             59,
             235
            ],
            "sizemode": "area",
            "sizeref": 0.53,
            "symbol": "circle"
           },
           "mode": "markers",
           "name": "Europe",
           "orientation": "v",
           "showlegend": true,
           "type": "scatter",
           "x": [
            9.3,
            11.7,
            11.9,
            11.1,
            10.6,
            10.6,
            12.7,
            12.4,
            12.2,
            10.8,
            13.8,
            10.1,
            11.7,
            10.5,
            12.1,
            9.6,
            12.3,
            11.5,
            11.8,
            10.2,
            11,
            11.9,
            12.7,
            12.1,
            7.9,
            10.6,
            10.4,
            11.4,
            12.1,
            9.3,
            12.2,
            13.3,
            11.3
           ],
           "xaxis": "x",
           "y": [
            103,
            77,
            225,
            84,
            147,
            109,
            84,
            154,
            90,
            87,
            80,
            76,
            160,
            55,
            74,
            60,
            185,
            197,
            67,
            61,
            115,
            65,
            67,
            137,
            88,
            160,
            120,
            130,
            91,
            67,
            61,
            59,
            235
           ],
           "yaxis": "y"
          },
          {
           "hovertemplate": "<b>%{hovertext}</b><br><br>Continent=North America<br>Year=2009<br>avg_years_of_schooling=%{x}<br>Both sexes=%{marker.size}<extra></extra>",
           "hovertext": [
            "Antigua and Barbuda",
            "Bahamas",
            "Barbados",
            "Belize",
            "Canada",
            "Costa Rica",
            "Cuba",
            "El Salvador",
            "Grenada",
            "Guatemala",
            "Jamaica",
            "Mexico",
            "Panama",
            "Saint Lucia",
            "Trinidad and Tobago"
           ],
           "ids": [
            "Antigua and Barbuda",
            "Bahamas",
            "Barbados",
            "Belize",
            "Canada",
            "Costa Rica",
            "Cuba",
            "El Salvador",
            "Grenada",
            "Guatemala",
            "Jamaica",
            "Mexico",
            "Panama",
            "Saint Lucia",
            "Trinidad and Tobago"
           ],
           "legendgroup": "North America",
           "marker": {
            "color": "#FF7F0E",
            "size": [
             138,
             166,
             110,
             183,
             71,
             96,
             99,
             197,
             158,
             191,
             143,
             136,
             122,
             152,
             185
            ],
            "sizemode": "area",
            "sizeref": 0.53,
            "symbol": "circle"
           },
           "mode": "markers",
           "name": "North America",
           "orientation": "v",
           "showlegend": true,
           "type": "scatter",
           "x": [
            9.3,
            10.9,
            9.3,
            10.4,
            12.5,
            8.4,
            10.8,
            6.5,
            8.2,
            4.6,
            8.8,
            8.2,
            9.3,
            7.9,
            10.7
           ],
           "xaxis": "x",
           "y": [
            138,
            166,
            110,
            183,
            71,
            96,
            99,
            197,
            158,
            191,
            143,
            136,
            122,
            152,
            185
           ],
           "yaxis": "y"
          },
          {
           "hovertemplate": "<b>%{hovertext}</b><br><br>Continent=South America<br>Year=2009<br>avg_years_of_schooling=%{x}<br>Both sexes=%{marker.size}<extra></extra>",
           "hovertext": [
            "Argentina",
            "Brazil",
            "Chile",
            "Colombia",
            "Ecuador",
            "Guyana",
            "Paraguay",
            "Suriname",
            "Uruguay"
           ],
           "ids": [
            "Argentina",
            "Brazil",
            "Chile",
            "Colombia",
            "Ecuador",
            "Guyana",
            "Paraguay",
            "Suriname",
            "Uruguay"
           ],
           "legendgroup": "South America",
           "marker": {
            "color": "#2CA02C",
            "size": [
             123,
             156,
             94,
             147,
             137,
             252,
             154,
             197,
             118
            ],
            "sizemode": "area",
            "sizeref": 0.53,
            "symbol": "circle"
           },
           "mode": "markers",
           "name": "South America",
           "orientation": "v",
           "showlegend": true,
           "type": "scatter",
           "x": [
            9.3,
            6.8,
            9.9,
            7.3,
            7.9,
            8,
            7,
            7.7,
            8.4
           ],
           "xaxis": "x",
           "y": [
            123,
            156,
            94,
            147,
            137,
            252,
            154,
            197,
            118
           ],
           "yaxis": "y"
          },
          {
           "hovertemplate": "<b>%{hovertext}</b><br><br>Continent=Asia<br>Year=2009<br>avg_years_of_schooling=%{x}<br>Both sexes=%{marker.size}<extra></extra>",
           "hovertext": [
            "Armenia",
            "Bahrain",
            "Cyprus",
            "Georgia",
            "Israel",
            "Japan",
            "Kazakhstan",
            "Kuwait",
            "Kyrgyzstan",
            "Oman",
            "Philippines",
            "Qatar",
            "Singapore",
            "Thailand",
            "Turkey",
            "United Arab Emirates",
            "Uzbekistan"
           ],
           "ids": [
            "Armenia",
            "Bahrain",
            "Cyprus",
            "Georgia",
            "Israel",
            "Japan",
            "Kazakhstan",
            "Kuwait",
            "Kyrgyzstan",
            "Oman",
            "Philippines",
            "Qatar",
            "Singapore",
            "Thailand",
            "Turkey",
            "United Arab Emirates",
            "Uzbekistan"
           ],
           "legendgroup": "Asia",
           "marker": {
            "color": "#D62728",
            "size": [
             142,
             69,
             68,
             156,
             61,
             63,
             240,
             85,
             204,
             108,
             207,
             65,
             62,
             164,
             118,
             83,
             149
            ],
            "sizemode": "area",
            "sizeref": 0.53,
            "symbol": "circle"
           },
           "mode": "markers",
           "name": "Asia",
           "orientation": "v",
           "showlegend": true,
           "type": "scatter",
           "x": [
            11.1,
            8.4,
            11.3,
            12.2,
            12.6,
            11.4,
            11.5,
            6.6,
            10.4,
            7.7,
            9,
            9.2,
            10.5,
            7.5,
            6.5,
            9.7,
            10.5
           ],
           "xaxis": "x",
           "y": [
            142,
            69,
            68,
            156,
            61,
            63,
            240,
            85,
            204,
            108,
            207,
            65,
            62,
            164,
            118,
            83,
            149
           ],
           "yaxis": "y"
          },
          {
           "hovertemplate": "<b>%{hovertext}</b><br><br>Continent=Oceania<br>Year=2009<br>avg_years_of_schooling=%{x}<br>Both sexes=%{marker.size}<extra></extra>",
           "hovertext": [
            "Australia",
            "Fiji",
            "New Zealand"
           ],
           "ids": [
            "Australia",
            "Fiji",
            "New Zealand"
           ],
           "legendgroup": "Oceania",
           "marker": {
            "color": "#9467BD",
            "size": [
             65,
             203,
             73
            ],
            "sizemode": "area",
            "sizeref": 0.53,
            "symbol": "circle"
           },
           "mode": "markers",
           "name": "Oceania",
           "orientation": "v",
           "showlegend": true,
           "type": "scatter",
           "x": [
            12.3,
            9.5,
            11.9
           ],
           "xaxis": "x",
           "y": [
            65,
            203,
            73
           ],
           "yaxis": "y"
          },
          {
           "hovertemplate": "<b>%{hovertext}</b><br><br>Continent=Africa<br>Year=2009<br>avg_years_of_schooling=%{x}<br>Both sexes=%{marker.size}<extra></extra>",
           "hovertext": [
            "Mauritius",
            "Seychelles",
            "South Africa"
           ],
           "ids": [
            "Mauritius",
            "Seychelles",
            "South Africa"
           ],
           "legendgroup": "Africa",
           "marker": {
            "color": "#8C564B",
            "size": [
             165,
             183,
             435
            ],
            "sizemode": "area",
            "sizeref": 0.53,
            "symbol": "circle"
           },
           "mode": "markers",
           "name": "Africa",
           "orientation": "v",
           "showlegend": true,
           "type": "scatter",
           "x": [
            8,
            8,
            10.1
           ],
           "xaxis": "x",
           "y": [
            165,
            183,
            435
           ],
           "yaxis": "y"
          }
         ],
         "name": "2009"
        },
        {
         "data": [
          {
           "hovertemplate": "<b>%{hovertext}</b><br><br>Continent=Europe<br>Year=2010<br>avg_years_of_schooling=%{x}<br>Both sexes=%{marker.size}<extra></extra>",
           "hovertext": [
            "Albania",
            "Austria",
            "Belarus",
            "Belgium",
            "Bulgaria",
            "Croatia",
            "Denmark",
            "Estonia",
            "Finland",
            "France",
            "Germany",
            "Greece",
            "Hungary",
            "Iceland",
            "Ireland",
            "Italy",
            "Latvia",
            "Lithuania",
            "Luxembourg",
            "Malta",
            "Netherlands",
            "Norway",
            "Poland",
            "Portugal",
            "Romania",
            "Serbia",
            "Slovakia",
            "Slovenia",
            "Spain",
            "Sweden",
            "Switzerland",
            "Ukraine"
           ],
           "ids": [
            "Albania",
            "Austria",
            "Belarus",
            "Belgium",
            "Bulgaria",
            "Croatia",
            "Denmark",
            "Estonia",
            "Finland",
            "France",
            "Germany",
            "Greece",
            "Hungary",
            "Iceland",
            "Ireland",
            "Italy",
            "Latvia",
            "Lithuania",
            "Luxembourg",
            "Malta",
            "Netherlands",
            "Norway",
            "Poland",
            "Portugal",
            "Romania",
            "Serbia",
            "Slovakia",
            "Slovenia",
            "Spain",
            "Sweden",
            "Switzerland",
            "Ukraine"
           ],
           "legendgroup": "Europe",
           "marker": {
            "color": "#1F77B4",
            "size": [
             103,
             74,
             226,
             81,
             143,
             106,
             83,
             134,
             88,
             85,
             78,
             74,
             152,
             53,
             65,
             58,
             178,
             188,
             67,
             58,
             64,
             65,
             131,
             86,
             155,
             115,
             122,
             87,
             65,
             58,
             57,
             218
            ],
            "sizemode": "area",
            "sizeref": 0.53,
            "symbol": "circle"
           },
           "mode": "markers",
           "name": "Europe",
           "orientation": "v",
           "showlegend": true,
           "type": "scatter",
           "x": [
            9.3,
            11.8,
            12,
            11.1,
            10.6,
            10.8,
            12.7,
            12.5,
            12.3,
            10.9,
            13.8,
            10.3,
            11.9,
            10.6,
            12.2,
            9.7,
            12.5,
            11.6,
            11.8,
            10.3,
            12,
            12.7,
            12.2,
            8.1,
            10.7,
            10.4,
            11.6,
            12.1,
            9.4,
            12.3,
            13.3,
            11.3
           ],
           "xaxis": "x",
           "y": [
            103,
            74,
            226,
            81,
            143,
            106,
            83,
            134,
            88,
            85,
            78,
            74,
            152,
            53,
            65,
            58,
            178,
            188,
            67,
            58,
            64,
            65,
            131,
            86,
            155,
            115,
            122,
            87,
            65,
            58,
            57,
            218
           ],
           "yaxis": "y"
          },
          {
           "hovertemplate": "<b>%{hovertext}</b><br><br>Continent=North America<br>Year=2010<br>avg_years_of_schooling=%{x}<br>Both sexes=%{marker.size}<extra></extra>",
           "hovertext": [
            "Bahamas",
            "Barbados",
            "Belize",
            "Canada",
            "Costa Rica",
            "Cuba",
            "El Salvador",
            "Grenada",
            "Guatemala",
            "Jamaica",
            "Mexico",
            "Nicaragua",
            "Panama",
            "Saint Lucia",
            "Trinidad and Tobago"
           ],
           "ids": [
            "Bahamas",
            "Barbados",
            "Belize",
            "Canada",
            "Costa Rica",
            "Cuba",
            "El Salvador",
            "Grenada",
            "Guatemala",
            "Jamaica",
            "Mexico",
            "Nicaragua",
            "Panama",
            "Saint Lucia",
            "Trinidad and Tobago"
           ],
           "legendgroup": "North America",
           "marker": {
            "color": "#FF7F0E",
            "size": [
             159,
             108,
             182,
             69,
             106,
             97,
             192,
             154,
             186,
             139,
             136,
             160,
             117,
             153,
             179
            ],
            "sizemode": "area",
            "sizeref": 0.53,
            "symbol": "circle"
           },
           "mode": "markers",
           "name": "North America",
           "orientation": "v",
           "showlegend": true,
           "type": "scatter",
           "x": [
            10.9,
            9.4,
            10.5,
            12.6,
            8.3,
            11,
            7.1,
            8.3,
            4.9,
            8.9,
            8,
            6,
            9.3,
            8.4,
            10.7
           ],
           "xaxis": "x",
           "y": [
            159,
            108,
            182,
            69,
            106,
            97,
            192,
            154,
            186,
            139,
            136,
            160,
            117,
            153,
            179
           ],
           "yaxis": "y"
          },
          {
           "hovertemplate": "<b>%{hovertext}</b><br><br>Continent=South America<br>Year=2010<br>avg_years_of_schooling=%{x}<br>Both sexes=%{marker.size}<extra></extra>",
           "hovertext": [
            "Argentina",
            "Brazil",
            "Chile",
            "Colombia",
            "Ecuador",
            "Guyana",
            "Paraguay",
            "Suriname",
            "Uruguay"
           ],
           "ids": [
            "Argentina",
            "Brazil",
            "Chile",
            "Colombia",
            "Ecuador",
            "Guyana",
            "Paraguay",
            "Suriname",
            "Uruguay"
           ],
           "legendgroup": "South America",
           "marker": {
            "color": "#2CA02C",
            "size": [
             119,
             154,
             94,
             146,
             134,
             258,
             152,
             194,
             118
            ],
            "sizemode": "area",
            "sizeref": 0.53,
            "symbol": "circle"
           },
           "mode": "markers",
           "name": "South America",
           "orientation": "v",
           "showlegend": true,
           "type": "scatter",
           "x": [
            9.8,
            6.9,
            9.8,
            7.4,
            7.9,
            8.1,
            7.7,
            7.7,
            8.4
           ],
           "xaxis": "x",
           "y": [
            119,
            154,
            94,
            146,
            134,
            258,
            152,
            194,
            118
           ],
           "yaxis": "y"
          },
          {
           "hovertemplate": "<b>%{hovertext}</b><br><br>Continent=Asia<br>Year=2010<br>avg_years_of_schooling=%{x}<br>Both sexes=%{marker.size}<extra></extra>",
           "hovertext": [
            "Armenia",
            "Bahrain",
            "Cyprus",
            "Georgia",
            "Israel",
            "Japan",
            "Kazakhstan",
            "Kuwait",
            "Kyrgyzstan",
            "Maldives",
            "Oman",
            "Philippines",
            "Qatar",
            "Singapore",
            "Thailand",
            "Turkey",
            "Turkmenistan",
            "United Arab Emirates",
            "Uzbekistan"
           ],
           "ids": [
            "Armenia",
            "Bahrain",
            "Cyprus",
            "Georgia",
            "Israel",
            "Japan",
            "Kazakhstan",
            "Kuwait",
            "Kyrgyzstan",
            "Maldives",
            "Oman",
            "Philippines",
            "Qatar",
            "Singapore",
            "Thailand",
            "Turkey",
            "Turkmenistan",
            "United Arab Emirates",
            "Uzbekistan"
           ],
           "legendgroup": "Asia",
           "marker": {
            "color": "#D62728",
            "size": [
             138,
             66,
             65,
             157,
             60,
             61,
             243,
             84,
             209,
             71,
             107,
             203,
             65,
             60,
             161,
             116,
             188,
             81,
             145
            ],
            "sizemode": "area",
            "sizeref": 0.53,
            "symbol": "circle"
           },
           "mode": "markers",
           "name": "Asia",
           "orientation": "v",
           "showlegend": true,
           "type": "scatter",
           "x": [
            11.1,
            8.4,
            11.5,
            12.2,
            12.6,
            11.5,
            11.4,
            6.8,
            10.6,
            4.9,
            7.9,
            8.9,
            8.4,
            11.2,
            7.7,
            6.7,
            9.9,
            9.9,
            10.7
           ],
           "xaxis": "x",
           "y": [
            138,
            66,
            65,
            157,
            60,
            61,
            243,
            84,
            209,
            71,
            107,
            203,
            65,
            60,
            161,
            116,
            188,
            81,
            145
           ],
           "yaxis": "y"
          },
          {
           "hovertemplate": "<b>%{hovertext}</b><br><br>Continent=Oceania<br>Year=2010<br>avg_years_of_schooling=%{x}<br>Both sexes=%{marker.size}<extra></extra>",
           "hovertext": [
            "Australia",
            "New Zealand"
           ],
           "ids": [
            "Australia",
            "New Zealand"
           ],
           "legendgroup": "Oceania",
           "marker": {
            "color": "#9467BD",
            "size": [
             63,
             71
            ],
            "sizemode": "area",
            "sizeref": 0.53,
            "symbol": "circle"
           },
           "mode": "markers",
           "name": "Oceania",
           "orientation": "v",
           "showlegend": true,
           "type": "scatter",
           "x": [
            12.4,
            12
           ],
           "xaxis": "x",
           "y": [
            63,
            71
           ],
           "yaxis": "y"
          },
          {
           "hovertemplate": "<b>%{hovertext}</b><br><br>Continent=Africa<br>Year=2010<br>avg_years_of_schooling=%{x}<br>Both sexes=%{marker.size}<extra></extra>",
           "hovertext": [
            "Mauritius",
            "Seychelles",
            "South Africa"
           ],
           "ids": [
            "Mauritius",
            "Seychelles",
            "South Africa"
           ],
           "legendgroup": "Africa",
           "marker": {
            "color": "#8C564B",
            "size": [
             162,
             181,
             416
            ],
            "sizemode": "area",
            "sizeref": 0.53,
            "symbol": "circle"
           },
           "mode": "markers",
           "name": "Africa",
           "orientation": "v",
           "showlegend": true,
           "type": "scatter",
           "x": [
            8.2,
            8.1,
            10
           ],
           "xaxis": "x",
           "y": [
            162,
            181,
            416
           ],
           "yaxis": "y"
          }
         ],
         "name": "2010"
        },
        {
         "data": [
          {
           "hovertemplate": "<b>%{hovertext}</b><br><br>Continent=Europe<br>Year=2012<br>avg_years_of_schooling=%{x}<br>Both sexes=%{marker.size}<extra></extra>",
           "hovertext": [
            "Austria",
            "Belgium",
            "Bulgaria",
            "Croatia",
            "Denmark",
            "Estonia",
            "Finland",
            "France",
            "Germany",
            "Greece",
            "Hungary",
            "Iceland",
            "Ireland",
            "Italy",
            "Latvia",
            "Lithuania",
            "Luxembourg",
            "Malta",
            "Netherlands",
            "Norway",
            "Poland",
            "Portugal",
            "Romania",
            "Serbia",
            "Slovakia",
            "Slovenia",
            "Spain",
            "Sweden",
            "Switzerland",
            "Ukraine"
           ],
           "ids": [
            "Austria",
            "Belgium",
            "Bulgaria",
            "Croatia",
            "Denmark",
            "Estonia",
            "Finland",
            "France",
            "Germany",
            "Greece",
            "Hungary",
            "Iceland",
            "Ireland",
            "Italy",
            "Latvia",
            "Lithuania",
            "Luxembourg",
            "Malta",
            "Netherlands",
            "Norway",
            "Poland",
            "Portugal",
            "Romania",
            "Serbia",
            "Slovakia",
            "Slovenia",
            "Spain",
            "Sweden",
            "Switzerland",
            "Ukraine"
           ],
           "legendgroup": "Europe",
           "marker": {
            "color": "#1F77B4",
            "size": [
             68,
             79,
             137,
             103,
             75,
             134,
             80,
             80,
             73,
             72,
             143,
             50,
             66,
             57,
             162,
             180,
             63,
             57,
             63,
             60,
             126,
             81,
             141,
             111,
             115,
             81,
             61,
             56,
             54,
             211
            ],
            "sizemode": "area",
            "sizeref": 0.53,
            "symbol": "circle"
           },
           "mode": "markers",
           "name": "Europe",
           "orientation": "v",
           "showlegend": true,
           "type": "scatter",
           "x": [
            11.8,
            11.2,
            10.8,
            11,
            12.8,
            12.5,
            12.4,
            11,
            14,
            10.3,
            12.2,
            11.5,
            11.3,
            9.9,
            12.6,
            11.7,
            11.8,
            10.8,
            12,
            12.6,
            11.7,
            8.5,
            10.9,
            10.5,
            12.3,
            11.7,
            9.5,
            12.4,
            13.4,
            11.3
           ],
           "xaxis": "x",
           "y": [
            68,
            79,
            137,
            103,
            75,
            134,
            80,
            80,
            73,
            72,
            143,
            50,
            66,
            57,
            162,
            180,
            63,
            57,
            63,
            60,
            126,
            81,
            141,
            111,
            115,
            81,
            61,
            56,
            54,
            211
           ],
           "yaxis": "y"
          },
          {
           "hovertemplate": "<b>%{hovertext}</b><br><br>Continent=North America<br>Year=2012<br>avg_years_of_schooling=%{x}<br>Both sexes=%{marker.size}<extra></extra>",
           "hovertext": [
            "Antigua and Barbuda",
            "Bahamas",
            "Barbados",
            "Belize",
            "Canada",
            "Costa Rica",
            "Cuba",
            "El Salvador",
            "Grenada",
            "Guatemala",
            "Mexico",
            "Nicaragua",
            "Panama",
            "Saint Lucia"
           ],
           "ids": [
            "Antigua and Barbuda",
            "Bahamas",
            "Barbados",
            "Belize",
            "Canada",
            "Costa Rica",
            "Cuba",
            "El Salvador",
            "Grenada",
            "Guatemala",
            "Mexico",
            "Nicaragua",
            "Panama",
            "Saint Lucia"
           ],
           "legendgroup": "North America",
           "marker": {
            "color": "#FF7F0E",
            "size": [
             127,
             163,
             108,
             183,
             68,
             99,
             96,
             186,
             147,
             173,
             131,
             155,
             116,
             153
            ],
            "sizemode": "area",
            "sizeref": 0.53,
            "symbol": "circle"
           },
           "mode": "markers",
           "name": "North America",
           "orientation": "v",
           "showlegend": true,
           "type": "scatter",
           "x": [
            9.2,
            11.1,
            10.5,
            10.5,
            12.8,
            8.5,
            10.8,
            6.7,
            8.4,
            4.6,
            8.6,
            6.3,
            9.5,
            8.4
           ],
           "xaxis": "x",
           "y": [
            127,
            163,
            108,
            183,
            68,
            99,
            96,
            186,
            147,
            173,
            131,
            155,
            116,
            153
           ],
           "yaxis": "y"
          },
          {
           "hovertemplate": "<b>%{hovertext}</b><br><br>Continent=South America<br>Year=2012<br>avg_years_of_schooling=%{x}<br>Both sexes=%{marker.size}<extra></extra>",
           "hovertext": [
            "Argentina",
            "Brazil",
            "Chile",
            "Colombia",
            "Ecuador",
            "Guyana",
            "Paraguay",
            "Suriname",
            "Uruguay"
           ],
           "ids": [
            "Argentina",
            "Brazil",
            "Chile",
            "Colombia",
            "Ecuador",
            "Guyana",
            "Paraguay",
            "Suriname",
            "Uruguay"
           ],
           "legendgroup": "South America",
           "marker": {
            "color": "#2CA02C",
            "size": [
             118,
             150,
             89,
             140,
             127,
             272,
             149,
             188,
             118
            ],
            "sizemode": "area",
            "sizeref": 0.53,
            "symbol": "circle"
           },
           "mode": "markers",
           "name": "South America",
           "orientation": "v",
           "showlegend": true,
           "type": "scatter",
           "x": [
            9.8,
            7.3,
            9.9,
            7.6,
            8.1,
            8.3,
            7.8,
            7.9,
            8.5
           ],
           "xaxis": "x",
           "y": [
            118,
            150,
            89,
            140,
            127,
            272,
            149,
            188,
            118
           ],
           "yaxis": "y"
          },
          {
           "hovertemplate": "<b>%{hovertext}</b><br><br>Continent=Asia<br>Year=2012<br>avg_years_of_schooling=%{x}<br>Both sexes=%{marker.size}<extra></extra>",
           "hovertext": [
            "Armenia",
            "Bahrain",
            "Cyprus",
            "Georgia",
            "Israel",
            "Japan",
            "Kazakhstan",
            "Kuwait",
            "Kyrgyzstan",
            "Qatar",
            "Singapore",
            "Thailand",
            "Turkey",
            "Turkmenistan",
            "Uzbekistan"
           ],
           "ids": [
            "Armenia",
            "Bahrain",
            "Cyprus",
            "Georgia",
            "Israel",
            "Japan",
            "Kazakhstan",
            "Kuwait",
            "Kyrgyzstan",
            "Qatar",
            "Singapore",
            "Thailand",
            "Turkey",
            "Turkmenistan",
            "Uzbekistan"
           ],
           "legendgroup": "Asia",
           "marker": {
            "color": "#D62728",
            "size": [
             131,
             66,
             55,
             157,
             58,
             57,
             224,
             83,
             189,
             65,
             57,
             155,
             112,
             189,
             145
            ],
            "sizemode": "area",
            "sizeref": 0.53,
            "symbol": "circle"
           },
           "mode": "markers",
           "name": "Asia",
           "orientation": "v",
           "showlegend": true,
           "type": "scatter",
           "x": [
            11.3,
            8.8,
            11.8,
            12.5,
            12.8,
            12,
            11.5,
            7.2,
            10.7,
            9.2,
            11.3,
            7.7,
            7.5,
            9.8,
            11.1
           ],
           "xaxis": "x",
           "y": [
            131,
            66,
            55,
            157,
            58,
            57,
            224,
            83,
            189,
            65,
            57,
            155,
            112,
            189,
            145
           ],
           "yaxis": "y"
          },
          {
           "hovertemplate": "<b>%{hovertext}</b><br><br>Continent=Oceania<br>Year=2012<br>avg_years_of_schooling=%{x}<br>Both sexes=%{marker.size}<extra></extra>",
           "hovertext": [
            "Australia",
            "Fiji",
            "New Zealand"
           ],
           "ids": [
            "Australia",
            "Fiji",
            "New Zealand"
           ],
           "legendgroup": "Oceania",
           "marker": {
            "color": "#9467BD",
            "size": [
             60,
             195,
             68
            ],
            "sizemode": "area",
            "sizeref": 0.53,
            "symbol": "circle"
           },
           "mode": "markers",
           "name": "Oceania",
           "orientation": "v",
           "showlegend": true,
           "type": "scatter",
           "x": [
            12.6,
            10.1,
            12.1
           ],
           "xaxis": "x",
           "y": [
            60,
            195,
            68
           ],
           "yaxis": "y"
          },
          {
           "hovertemplate": "<b>%{hovertext}</b><br><br>Continent=Africa<br>Year=2012<br>avg_years_of_schooling=%{x}<br>Both sexes=%{marker.size}<extra></extra>",
           "hovertext": [
            "Mauritius",
            "Seychelles",
            "South Africa"
           ],
           "ids": [
            "Mauritius",
            "Seychelles",
            "South Africa"
           ],
           "legendgroup": "Africa",
           "marker": {
            "color": "#8C564B",
            "size": [
             152,
             174,
             361
            ],
            "sizemode": "area",
            "sizeref": 0.53,
            "symbol": "circle"
           },
           "mode": "markers",
           "name": "Africa",
           "orientation": "v",
           "showlegend": true,
           "type": "scatter",
           "x": [
            8.6,
            8.8,
            9.8
           ],
           "xaxis": "x",
           "y": [
            152,
            174,
            361
           ],
           "yaxis": "y"
          }
         ],
         "name": "2012"
        },
        {
         "data": [
          {
           "hovertemplate": "<b>%{hovertext}</b><br><br>Continent=Europe<br>Year=2013<br>avg_years_of_schooling=%{x}<br>Both sexes=%{marker.size}<extra></extra>",
           "hovertext": [
            "Austria",
            "Belarus",
            "Belgium",
            "Bulgaria",
            "Croatia",
            "Denmark",
            "Estonia",
            "Finland",
            "France",
            "Germany",
            "Greece",
            "Hungary",
            "Iceland",
            "Ireland",
            "Italy",
            "Latvia",
            "Lithuania",
            "Luxembourg",
            "Malta",
            "Netherlands",
            "Norway",
            "Poland",
            "Portugal",
            "Romania",
            "Serbia",
            "Slovakia",
            "Slovenia",
            "Spain",
            "Sweden",
            "Switzerland"
           ],
           "ids": [
            "Austria",
            "Belarus",
            "Belgium",
            "Bulgaria",
            "Croatia",
            "Denmark",
            "Estonia",
            "Finland",
            "France",
            "Germany",
            "Greece",
            "Hungary",
            "Iceland",
            "Ireland",
            "Italy",
            "Latvia",
            "Lithuania",
            "Luxembourg",
            "Malta",
            "Netherlands",
            "Norway",
            "Poland",
            "Portugal",
            "Romania",
            "Serbia",
            "Slovakia",
            "Slovenia",
            "Spain",
            "Sweden",
            "Switzerland"
           ],
           "legendgroup": "Europe",
           "marker": {
            "color": "#1F77B4",
            "size": [
             67,
             183,
             77,
             135,
             96,
             72,
             122,
             78,
             77,
             73,
             68,
             136,
             53,
             64,
             56,
             164,
             179,
             60,
             57,
             61,
             61,
             121,
             78,
             134,
             107,
             111,
             78,
             59,
             56,
             53
            ],
            "sizemode": "area",
            "sizeref": 0.53,
            "symbol": "circle"
           },
           "mode": "markers",
           "name": "Europe",
           "orientation": "v",
           "showlegend": true,
           "type": "scatter",
           "x": [
            11.9,
            12,
            11.4,
            10.9,
            11,
            13.2,
            12.6,
            12.3,
            11.2,
            14,
            10.4,
            12,
            11.9,
            11.8,
            10.3,
            12.7,
            11.9,
            11.8,
            11,
            12.1,
            12.7,
            12.1,
            8.6,
            10.9,
            10.4,
            12.2,
            11.7,
            9.5,
            12.2,
            13.4
           ],
           "xaxis": "x",
           "y": [
            67,
            183,
            77,
            135,
            96,
            72,
            122,
            78,
            77,
            73,
            68,
            136,
            53,
            64,
            56,
            164,
            179,
            60,
            57,
            61,
            61,
            121,
            78,
            134,
            107,
            111,
            78,
            59,
            56,
            53
           ],
           "yaxis": "y"
          },
          {
           "hovertemplate": "<b>%{hovertext}</b><br><br>Continent=North America<br>Year=2013<br>avg_years_of_schooling=%{x}<br>Both sexes=%{marker.size}<extra></extra>",
           "hovertext": [
            "Antigua and Barbuda",
            "Bahamas",
            "Barbados",
            "Belize",
            "Canada",
            "Costa Rica",
            "Cuba",
            "El Salvador",
            "Grenada",
            "Guatemala",
            "Mexico",
            "Nicaragua",
            "Panama",
            "Saint Lucia"
           ],
           "ids": [
            "Antigua and Barbuda",
            "Bahamas",
            "Barbados",
            "Belize",
            "Canada",
            "Costa Rica",
            "Cuba",
            "El Salvador",
            "Grenada",
            "Guatemala",
            "Mexico",
            "Nicaragua",
            "Panama",
            "Saint Lucia"
           ],
           "legendgroup": "North America",
           "marker": {
            "color": "#FF7F0E",
            "size": [
             127,
             166,
             101,
             184,
             66,
             97,
             96,
             184,
             145,
             172,
             127,
             153,
             114,
             149
            ],
            "sizemode": "area",
            "sizeref": 0.53,
            "symbol": "circle"
           },
           "mode": "markers",
           "name": "North America",
           "orientation": "v",
           "showlegend": true,
           "type": "scatter",
           "x": [
            9.2,
            11.1,
            10.5,
            10.5,
            12.9,
            8.5,
            11,
            6.6,
            8.5,
            4.7,
            8.4,
            6.4,
            9.7,
            8.4
           ],
           "xaxis": "x",
           "y": [
            127,
            166,
            101,
            184,
            66,
            97,
            96,
            184,
            145,
            172,
            127,
            153,
            114,
            149
           ],
           "yaxis": "y"
          },
          {
           "hovertemplate": "<b>%{hovertext}</b><br><br>Continent=South America<br>Year=2013<br>avg_years_of_schooling=%{x}<br>Both sexes=%{marker.size}<extra></extra>",
           "hovertext": [
            "Argentina",
            "Brazil",
            "Chile",
            "Colombia",
            "Ecuador",
            "Guyana",
            "Paraguay",
            "Suriname",
            "Uruguay"
           ],
           "ids": [
            "Argentina",
            "Brazil",
            "Chile",
            "Colombia",
            "Ecuador",
            "Guyana",
            "Paraguay",
            "Suriname",
            "Uruguay"
           ],
           "legendgroup": "South America",
           "marker": {
            "color": "#2CA02C",
            "size": [
             116,
             148,
             90,
             139,
             122,
             263,
             148,
             186,
             117
            ],
            "sizemode": "area",
            "sizeref": 0.53,
            "symbol": "circle"
           },
           "mode": "markers",
           "name": "South America",
           "orientation": "v",
           "showlegend": true,
           "type": "scatter",
           "x": [
            9.8,
            7.4,
            9.9,
            7.8,
            8.3,
            8.3,
            8.3,
            8.1,
            8.5
           ],
           "xaxis": "x",
           "y": [
            116,
            148,
            90,
            139,
            122,
            263,
            148,
            186,
            117
           ],
           "yaxis": "y"
          },
          {
           "hovertemplate": "<b>%{hovertext}</b><br><br>Continent=Asia<br>Year=2013<br>avg_years_of_schooling=%{x}<br>Both sexes=%{marker.size}<extra></extra>",
           "hovertext": [
            "Armenia",
            "Bahrain",
            "Cyprus",
            "Georgia",
            "Israel",
            "Japan",
            "Kazakhstan",
            "Kuwait",
            "Kyrgyzstan",
            "Qatar",
            "Singapore",
            "Thailand",
            "Turkey",
            "Turkmenistan",
            "Uzbekistan"
           ],
           "ids": [
            "Armenia",
            "Bahrain",
            "Cyprus",
            "Georgia",
            "Israel",
            "Japan",
            "Kazakhstan",
            "Kuwait",
            "Kyrgyzstan",
            "Qatar",
            "Singapore",
            "Thailand",
            "Turkey",
            "Turkmenistan",
            "Uzbekistan"
           ],
           "legendgroup": "Asia",
           "marker": {
            "color": "#D62728",
            "size": [
             121,
             63,
             58,
             158,
             59,
             56,
             211,
             82,
             183,
             65,
             56,
             154,
             109,
             196,
             141
            ],
            "sizemode": "area",
            "sizeref": 0.53,
            "symbol": "circle"
           },
           "mode": "markers",
           "name": "Asia",
           "orientation": "v",
           "showlegend": true,
           "type": "scatter",
           "x": [
            11.4,
            9,
            12,
            12.6,
            12.8,
            12.2,
            11.6,
            6.7,
            10.7,
            9.9,
            11.4,
            7.5,
            7.7,
            9.8,
            11.3
           ],
           "xaxis": "x",
           "y": [
            121,
            63,
            58,
            158,
            59,
            56,
            211,
            82,
            183,
            65,
            56,
            154,
            109,
            196,
            141
           ],
           "yaxis": "y"
          },
          {
           "hovertemplate": "<b>%{hovertext}</b><br><br>Continent=Oceania<br>Year=2013<br>avg_years_of_schooling=%{x}<br>Both sexes=%{marker.size}<extra></extra>",
           "hovertext": [
            "Australia",
            "New Zealand"
           ],
           "ids": [
            "Australia",
            "New Zealand"
           ],
           "legendgroup": "Oceania",
           "marker": {
            "color": "#9467BD",
            "size": [
             60,
             66
            ],
            "sizemode": "area",
            "sizeref": 0.53,
            "symbol": "circle"
           },
           "mode": "markers",
           "name": "Oceania",
           "orientation": "v",
           "showlegend": true,
           "type": "scatter",
           "x": [
            12.6,
            12.1
           ],
           "xaxis": "x",
           "y": [
            60,
            66
           ],
           "yaxis": "y"
          },
          {
           "hovertemplate": "<b>%{hovertext}</b><br><br>Continent=Africa<br>Year=2013<br>avg_years_of_schooling=%{x}<br>Both sexes=%{marker.size}<extra></extra>",
           "hovertext": [
            "Mauritius",
            "Seychelles",
            "South Africa"
           ],
           "ids": [
            "Mauritius",
            "Seychelles",
            "South Africa"
           ],
           "legendgroup": "Africa",
           "marker": {
            "color": "#8C564B",
            "size": [
             145,
             171,
             335
            ],
            "sizemode": "area",
            "sizeref": 0.53,
            "symbol": "circle"
           },
           "mode": "markers",
           "name": "Africa",
           "orientation": "v",
           "showlegend": true,
           "type": "scatter",
           "x": [
            8.9,
            9.1,
            9.9
           ],
           "xaxis": "x",
           "y": [
            145,
            171,
            335
           ],
           "yaxis": "y"
          }
         ],
         "name": "2013"
        },
        {
         "data": [
          {
           "hovertemplate": "<b>%{hovertext}</b><br><br>Continent=Europe<br>Year=2014<br>avg_years_of_schooling=%{x}<br>Both sexes=%{marker.size}<extra></extra>",
           "hovertext": [
            "Austria",
            "Belarus",
            "Belgium",
            "Bosnia and Herzegovina",
            "Bulgaria",
            "Croatia",
            "Denmark",
            "Estonia",
            "Finland",
            "France",
            "Germany",
            "Greece",
            "Hungary",
            "Iceland",
            "Ireland",
            "Italy",
            "Latvia",
            "Lithuania",
            "Luxembourg",
            "Malta",
            "Netherlands",
            "Norway",
            "Poland",
            "Portugal",
            "Romania",
            "Serbia",
            "Slovakia",
            "Slovenia",
            "Spain",
            "Sweden",
            "Switzerland",
            "Ukraine"
           ],
           "ids": [
            "Austria",
            "Belarus",
            "Belgium",
            "Bosnia and Herzegovina",
            "Bulgaria",
            "Croatia",
            "Denmark",
            "Estonia",
            "Finland",
            "France",
            "Germany",
            "Greece",
            "Hungary",
            "Iceland",
            "Ireland",
            "Italy",
            "Latvia",
            "Lithuania",
            "Luxembourg",
            "Malta",
            "Netherlands",
            "Norway",
            "Poland",
            "Portugal",
            "Romania",
            "Serbia",
            "Slovakia",
            "Slovenia",
            "Spain",
            "Sweden",
            "Switzerland",
            "Ukraine"
           ],
           "legendgroup": "Europe",
           "marker": {
            "color": "#1F77B4",
            "size": [
             65,
             175,
             73,
             96,
             141,
             94,
             68,
             124,
             73,
             74,
             70,
             67,
             133,
             55,
             62,
             54,
             159,
             167,
             55,
             53,
             59,
             57,
             115,
             77,
             140,
             106,
             109,
             70,
             58,
             55,
             50,
             212
            ],
            "sizemode": "area",
            "sizeref": 0.53,
            "symbol": "circle"
           },
           "mode": "markers",
           "name": "Europe",
           "orientation": "v",
           "showlegend": true,
           "type": "scatter",
           "x": [
            12.1,
            12.1,
            11.5,
            9.2,
            10.9,
            11.1,
            12.8,
            12.6,
            12.4,
            11.4,
            14,
            10.5,
            11.8,
            12.2,
            12.3,
            10.1,
            12.9,
            13,
            12,
            11.1,
            12.1,
            12.5,
            11.3,
            8.9,
            10.9,
            10.7,
            12.3,
            11.9,
            9.7,
            12.3,
            13.4,
            11.3
           ],
           "xaxis": "x",
           "y": [
            65,
            175,
            73,
            96,
            141,
            94,
            68,
            124,
            73,
            74,
            70,
            67,
            133,
            55,
            62,
            54,
            159,
            167,
            55,
            53,
            59,
            57,
            115,
            77,
            140,
            106,
            109,
            70,
            58,
            55,
            50,
            212
           ],
           "yaxis": "y"
          },
          {
           "hovertemplate": "<b>%{hovertext}</b><br><br>Continent=North America<br>Year=2014<br>avg_years_of_schooling=%{x}<br>Both sexes=%{marker.size}<extra></extra>",
           "hovertext": [
            "Antigua and Barbuda",
            "Belize",
            "Costa Rica",
            "Cuba",
            "El Salvador",
            "Grenada",
            "Guatemala",
            "Mexico",
            "Nicaragua",
            "Panama",
            "Saint Lucia"
           ],
           "ids": [
            "Antigua and Barbuda",
            "Belize",
            "Costa Rica",
            "Cuba",
            "El Salvador",
            "Grenada",
            "Guatemala",
            "Mexico",
            "Nicaragua",
            "Panama",
            "Saint Lucia"
           ],
           "legendgroup": "North America",
           "marker": {
            "color": "#FF7F0E",
            "size": [
             127,
             183,
             95,
             95,
             182,
             143,
             169,
             129,
             150,
             111,
             145
            ],
            "sizemode": "area",
            "sizeref": 0.53,
            "symbol": "circle"
           },
           "mode": "markers",
           "name": "North America",
           "orientation": "v",
           "showlegend": true,
           "type": "scatter",
           "x": [
            9.2,
            10.5,
            8.6,
            11.2,
            6.5,
            8.6,
            6.4,
            8.4,
            6.5,
            9.9,
            8.7
           ],
           "xaxis": "x",
           "y": [
            127,
            183,
            95,
            95,
            182,
            143,
            169,
            129,
            150,
            111,
            145
           ],
           "yaxis": "y"
          },
          {
           "hovertemplate": "<b>%{hovertext}</b><br><br>Continent=South America<br>Year=2014<br>avg_years_of_schooling=%{x}<br>Both sexes=%{marker.size}<extra></extra>",
           "hovertext": [
            "Argentina",
            "Brazil",
            "Chile",
            "Colombia",
            "Ecuador",
            "Paraguay",
            "Suriname",
            "Uruguay"
           ],
           "ids": [
            "Argentina",
            "Brazil",
            "Chile",
            "Colombia",
            "Ecuador",
            "Paraguay",
            "Suriname",
            "Uruguay"
           ],
           "legendgroup": "South America",
           "marker": {
            "color": "#2CA02C",
            "size": [
             113,
             145,
             88,
             139,
             119,
             147,
             184,
             114
            ],
            "sizemode": "area",
            "sizeref": 0.53,
            "symbol": "circle"
           },
           "mode": "markers",
           "name": "South America",
           "orientation": "v",
           "showlegend": true,
           "type": "scatter",
           "x": [
            9.8,
            7.4,
            10.1,
            8,
            8.5,
            8.2,
            8.2,
            8.6
           ],
           "xaxis": "x",
           "y": [
            113,
            145,
            88,
            139,
            119,
            147,
            184,
            114
           ],
           "yaxis": "y"
          },
          {
           "hovertemplate": "<b>%{hovertext}</b><br><br>Continent=Asia<br>Year=2014<br>avg_years_of_schooling=%{x}<br>Both sexes=%{marker.size}<extra></extra>",
           "hovertext": [
            "Armenia",
            "Bahrain",
            "Cyprus",
            "Georgia",
            "Israel",
            "Japan",
            "Kazakhstan",
            "Kuwait",
            "Kyrgyzstan",
            "Oman",
            "Qatar",
            "Singapore",
            "Thailand",
            "Turkey",
            "Turkmenistan",
            "Uzbekistan"
           ],
           "ids": [
            "Armenia",
            "Bahrain",
            "Cyprus",
            "Georgia",
            "Israel",
            "Japan",
            "Kazakhstan",
            "Kuwait",
            "Kyrgyzstan",
            "Oman",
            "Qatar",
            "Singapore",
            "Thailand",
            "Turkey",
            "Turkmenistan",
            "Uzbekistan"
           ],
           "legendgroup": "Asia",
           "marker": {
            "color": "#D62728",
            "size": [
             118,
             62,
             61,
             155,
             58,
             54,
             199,
             81,
             175,
             100,
             64,
             55,
             151,
             107,
             199,
             139
            ],
            "sizemode": "area",
            "sizeref": 0.53,
            "symbol": "circle"
           },
           "mode": "markers",
           "name": "Asia",
           "orientation": "v",
           "showlegend": true,
           "type": "scatter",
           "x": [
            11.5,
            9.1,
            11.9,
            12.6,
            12.9,
            12.5,
            11.7,
            6.9,
            10.8,
            9.3,
            9.8,
            11.4,
            7.6,
            7.6,
            9.8,
            11.3
           ],
           "xaxis": "x",
           "y": [
            118,
            62,
            61,
            155,
            58,
            54,
            199,
            81,
            175,
            100,
            64,
            55,
            151,
            107,
            199,
            139
           ],
           "yaxis": "y"
          },
          {
           "hovertemplate": "<b>%{hovertext}</b><br><br>Continent=Oceania<br>Year=2014<br>avg_years_of_schooling=%{x}<br>Both sexes=%{marker.size}<extra></extra>",
           "hovertext": [
            "Australia"
           ],
           "ids": [
            "Australia"
           ],
           "legendgroup": "Oceania",
           "marker": {
            "color": "#9467BD",
            "size": [
             61
            ],
            "sizemode": "area",
            "sizeref": 0.53,
            "symbol": "circle"
           },
           "mode": "markers",
           "name": "Oceania",
           "orientation": "v",
           "showlegend": true,
           "type": "scatter",
           "x": [
            12.7
           ],
           "xaxis": "x",
           "y": [
            61
           ],
           "yaxis": "y"
          },
          {
           "hovertemplate": "<b>%{hovertext}</b><br><br>Continent=Africa<br>Year=2014<br>avg_years_of_schooling=%{x}<br>Both sexes=%{marker.size}<extra></extra>",
           "hovertext": [
            "Mauritius",
            "Seychelles",
            "South Africa"
           ],
           "ids": [
            "Mauritius",
            "Seychelles",
            "South Africa"
           ],
           "legendgroup": "Africa",
           "marker": {
            "color": "#8C564B",
            "size": [
             148,
             168,
             316
            ],
            "sizemode": "area",
            "sizeref": 0.53,
            "symbol": "circle"
           },
           "mode": "markers",
           "name": "Africa",
           "orientation": "v",
           "showlegend": true,
           "type": "scatter",
           "x": [
            9.1,
            9.4,
            10
           ],
           "xaxis": "x",
           "y": [
            148,
            168,
            316
           ],
           "yaxis": "y"
          }
         ],
         "name": "2014"
        },
        {
         "data": [
          {
           "hovertemplate": "<b>%{hovertext}</b><br><br>Continent=Europe<br>Year=2015<br>avg_years_of_schooling=%{x}<br>Both sexes=%{marker.size}<extra></extra>",
           "hovertext": [
            "Austria",
            "Belgium",
            "Croatia",
            "Denmark",
            "Estonia",
            "Finland",
            "Germany",
            "Greece",
            "Hungary",
            "Iceland",
            "Italy",
            "Latvia",
            "Lithuania",
            "Luxembourg",
            "Malta",
            "Netherlands",
            "Norway",
            "Poland",
            "Romania",
            "Serbia",
            "Slovenia",
            "Spain",
            "Sweden",
            "Switzerland",
            "Ukraine"
           ],
           "ids": [
            "Austria",
            "Belgium",
            "Croatia",
            "Denmark",
            "Estonia",
            "Finland",
            "Germany",
            "Greece",
            "Hungary",
            "Iceland",
            "Italy",
            "Latvia",
            "Lithuania",
            "Luxembourg",
            "Malta",
            "Netherlands",
            "Norway",
            "Poland",
            "Romania",
            "Serbia",
            "Slovenia",
            "Spain",
            "Sweden",
            "Switzerland",
            "Ukraine"
           ],
           "legendgroup": "Europe",
           "marker": {
            "color": "#1F77B4",
            "size": [
             64,
             72,
             96,
             66,
             116,
             70,
             71,
             68,
             132,
             54,
             55,
             154,
             165,
             52,
             55,
             58,
             54,
             115,
             136,
             106,
             74,
             58,
             54,
             50,
             188
            ],
            "sizemode": "area",
            "sizeref": 0.53,
            "symbol": "circle"
           },
           "mode": "markers",
           "name": "Europe",
           "orientation": "v",
           "showlegend": true,
           "type": "scatter",
           "x": [
            12.1,
            11.7,
            11.2,
            12.5,
            12.7,
            12.4,
            14.1,
            10.6,
            11.8,
            12.2,
            10.2,
            12.8,
            13,
            12,
            11.2,
            12.1,
            12.5,
            12.1,
            10.9,
            11,
            12,
            9.7,
            12.4,
            13.4,
            11.3
           ],
           "xaxis": "x",
           "y": [
            64,
            72,
            96,
            66,
            116,
            70,
            71,
            68,
            132,
            54,
            55,
            154,
            165,
            52,
            55,
            58,
            54,
            115,
            136,
            106,
            74,
            58,
            54,
            50,
            188
           ],
           "yaxis": "y"
          },
          {
           "hovertemplate": "<b>%{hovertext}</b><br><br>Continent=North America<br>Year=2015<br>avg_years_of_schooling=%{x}<br>Both sexes=%{marker.size}<extra></extra>",
           "hovertext": [
            "Antigua and Barbuda",
            "Belize",
            "Cuba",
            "Grenada",
            "Guatemala",
            "Mexico",
            "Nicaragua",
            "Panama"
           ],
           "ids": [
            "Antigua and Barbuda",
            "Belize",
            "Cuba",
            "Grenada",
            "Guatemala",
            "Mexico",
            "Nicaragua",
            "Panama"
           ],
           "legendgroup": "North America",
           "marker": {
            "color": "#FF7F0E",
            "size": [
             122,
             182,
             94,
             141,
             165,
             128,
             148,
             112
            ],
            "sizemode": "area",
            "sizeref": 0.53,
            "symbol": "circle"
           },
           "mode": "markers",
           "name": "North America",
           "orientation": "v",
           "showlegend": true,
           "type": "scatter",
           "x": [
            9.2,
            10.5,
            11.4,
            8.7,
            6.3,
            8.6,
            6.5,
            9.9
           ],
           "xaxis": "x",
           "y": [
            122,
            182,
            94,
            141,
            165,
            128,
            148,
            112
           ],
           "yaxis": "y"
          },
          {
           "hovertemplate": "<b>%{hovertext}</b><br><br>Continent=South America<br>Year=2015<br>avg_years_of_schooling=%{x}<br>Both sexes=%{marker.size}<extra></extra>",
           "hovertext": [
            "Argentina",
            "Brazil",
            "Chile",
            "Colombia",
            "Ecuador",
            "Uruguay"
           ],
           "ids": [
            "Argentina",
            "Brazil",
            "Chile",
            "Colombia",
            "Ecuador",
            "Uruguay"
           ],
           "legendgroup": "South America",
           "marker": {
            "color": "#2CA02C",
            "size": [
             113,
             145,
             88,
             138,
             117,
             114
            ],
            "sizemode": "area",
            "sizeref": 0.53,
            "symbol": "circle"
           },
           "mode": "markers",
           "name": "South America",
           "orientation": "v",
           "showlegend": true,
           "type": "scatter",
           "x": [
            9.8,
            7.6,
            10.3,
            8.1,
            8.4,
            8.7
           ],
           "xaxis": "x",
           "y": [
            113,
            145,
            88,
            138,
            117,
            114
           ],
           "yaxis": "y"
          },
          {
           "hovertemplate": "<b>%{hovertext}</b><br><br>Continent=Asia<br>Year=2015<br>avg_years_of_schooling=%{x}<br>Both sexes=%{marker.size}<extra></extra>",
           "hovertext": [
            "Armenia",
            "Cyprus",
            "Georgia",
            "Israel",
            "Japan",
            "Kazakhstan",
            "Kyrgyzstan",
            "Qatar",
            "Singapore",
            "Thailand",
            "Turkey",
            "Turkmenistan"
           ],
           "ids": [
            "Armenia",
            "Cyprus",
            "Georgia",
            "Israel",
            "Japan",
            "Kazakhstan",
            "Kyrgyzstan",
            "Qatar",
            "Singapore",
            "Thailand",
            "Turkey",
            "Turkmenistan"
           ],
           "legendgroup": "Asia",
           "marker": {
            "color": "#D62728",
            "size": [
             121,
             57,
             156,
             58,
             53,
             192,
             167,
             63,
             54,
             149,
             106,
             198
            ],
            "sizemode": "area",
            "sizeref": 0.53,
            "symbol": "circle"
           },
           "mode": "markers",
           "name": "Asia",
           "orientation": "v",
           "showlegend": true,
           "type": "scatter",
           "x": [
            11.6,
            11.9,
            12.7,
            13,
            12.5,
            11.7,
            10.8,
            9.8,
            11.5,
            7.6,
            7.8,
            9.8
           ],
           "xaxis": "x",
           "y": [
            121,
            57,
            156,
            58,
            53,
            192,
            167,
            63,
            54,
            149,
            106,
            198
           ],
           "yaxis": "y"
          },
          {
           "hovertemplate": "<b>%{hovertext}</b><br><br>Continent=Oceania<br>Year=2015<br>avg_years_of_schooling=%{x}<br>Both sexes=%{marker.size}<extra></extra>",
           "hovertext": [
            "Australia"
           ],
           "ids": [
            "Australia"
           ],
           "legendgroup": "Oceania",
           "marker": {
            "color": "#9467BD",
            "size": [
             62
            ],
            "sizemode": "area",
            "sizeref": 0.53,
            "symbol": "circle"
           },
           "mode": "markers",
           "name": "Oceania",
           "orientation": "v",
           "showlegend": true,
           "type": "scatter",
           "x": [
            12.8
           ],
           "xaxis": "x",
           "y": [
            62
           ],
           "yaxis": "y"
          },
          {
           "hovertemplate": "<b>%{hovertext}</b><br><br>Continent=Africa<br>Year=2015<br>avg_years_of_schooling=%{x}<br>Both sexes=%{marker.size}<extra></extra>",
           "hovertext": [
            "Mauritius",
            "Seychelles",
            "South Africa"
           ],
           "ids": [
            "Mauritius",
            "Seychelles",
            "South Africa"
           ],
           "legendgroup": "Africa",
           "marker": {
            "color": "#8C564B",
            "size": [
             148,
             166,
             305
            ],
            "sizemode": "area",
            "sizeref": 0.53,
            "symbol": "circle"
           },
           "mode": "markers",
           "name": "Africa",
           "orientation": "v",
           "showlegend": true,
           "type": "scatter",
           "x": [
            9.1,
            9.5,
            10.1
           ],
           "xaxis": "x",
           "y": [
            148,
            166,
            305
           ],
           "yaxis": "y"
          }
         ],
         "name": "2015"
        },
        {
         "data": [
          {
           "hovertemplate": "<b>%{hovertext}</b><br><br>Continent=Europe<br>Year=2011<br>avg_years_of_schooling=%{x}<br>Both sexes=%{marker.size}<extra></extra>",
           "hovertext": [
            "Austria",
            "Belarus",
            "Belgium",
            "Bosnia and Herzegovina",
            "Bulgaria",
            "Croatia",
            "Denmark",
            "Estonia",
            "Finland",
            "France",
            "Germany",
            "Greece",
            "Hungary",
            "Iceland",
            "Ireland",
            "Italy",
            "Latvia",
            "Lithuania",
            "Luxembourg",
            "Malta",
            "Netherlands",
            "Norway",
            "Poland",
            "Portugal",
            "Romania",
            "Serbia",
            "Slovenia",
            "Spain",
            "Sweden",
            "Switzerland",
            "Ukraine"
           ],
           "ids": [
            "Austria",
            "Belarus",
            "Belgium",
            "Bosnia and Herzegovina",
            "Bulgaria",
            "Croatia",
            "Denmark",
            "Estonia",
            "Finland",
            "France",
            "Germany",
            "Greece",
            "Hungary",
            "Iceland",
            "Ireland",
            "Italy",
            "Latvia",
            "Lithuania",
            "Luxembourg",
            "Malta",
            "Netherlands",
            "Norway",
            "Poland",
            "Portugal",
            "Romania",
            "Serbia",
            "Slovenia",
            "Spain",
            "Sweden",
            "Switzerland",
            "Ukraine"
           ],
           "legendgroup": "Europe",
           "marker": {
            "color": "#1F77B4",
            "size": [
             72,
             227,
             81,
             100,
             141,
             103,
             78,
             136,
             84,
             83,
             75,
             73,
             147,
             51,
             67,
             58,
             167,
             184,
             66,
             59,
             64,
             66,
             128,
             84,
             141,
             113,
             82,
             63,
             58,
             54,
             209
            ],
            "sizemode": "area",
            "sizeref": 0.53,
            "symbol": "circle"
           },
           "mode": "markers",
           "name": "Europe",
           "orientation": "v",
           "showlegend": true,
           "type": "scatter",
           "x": [
            11.8,
            12,
            11.2,
            7.2,
            10.7,
            11,
            12.7,
            12.5,
            12.3,
            10.9,
            13.9,
            10.3,
            12,
            11,
            10.9,
            9.8,
            12.6,
            11.8,
            11.8,
            10.5,
            12,
            12.8,
            12.3,
            8.3,
            10.8,
            10.6,
            12.2,
            9.5,
            12.4,
            13.3,
            11.3
           ],
           "xaxis": "x",
           "y": [
            72,
            227,
            81,
            100,
            141,
            103,
            78,
            136,
            84,
            83,
            75,
            73,
            147,
            51,
            67,
            58,
            167,
            184,
            66,
            59,
            64,
            66,
            128,
            84,
            141,
            113,
            82,
            63,
            58,
            54,
            209
           ],
           "yaxis": "y"
          },
          {
           "hovertemplate": "<b>%{hovertext}</b><br><br>Continent=North America<br>Year=2011<br>avg_years_of_schooling=%{x}<br>Both sexes=%{marker.size}<extra></extra>",
           "hovertext": [
            "Bahamas",
            "Barbados",
            "Belize",
            "Canada",
            "Costa Rica",
            "Cuba",
            "El Salvador",
            "Grenada",
            "Guatemala",
            "Jamaica",
            "Mexico",
            "Nicaragua",
            "Panama",
            "Saint Lucia",
            "Trinidad and Tobago"
           ],
           "ids": [
            "Bahamas",
            "Barbados",
            "Belize",
            "Canada",
            "Costa Rica",
            "Cuba",
            "El Salvador",
            "Grenada",
            "Guatemala",
            "Jamaica",
            "Mexico",
            "Nicaragua",
            "Panama",
            "Saint Lucia",
            "Trinidad and Tobago"
           ],
           "legendgroup": "North America",
           "marker": {
            "color": "#FF7F0E",
            "size": [
             158,
             106,
             182,
             67,
             100,
             92,
             189,
             150,
             180,
             139,
             133,
             158,
             117,
             153,
             180
            ],
            "sizemode": "area",
            "sizeref": 0.53,
            "symbol": "circle"
           },
           "mode": "markers",
           "name": "North America",
           "orientation": "v",
           "showlegend": true,
           "type": "scatter",
           "x": [
            11,
            9.9,
            10.5,
            12.7,
            8.4,
            11.3,
            6.5,
            8.4,
            5.3,
            9,
            8.4,
            6.1,
            9.3,
            8.4,
            10.8
           ],
           "xaxis": "x",
           "y": [
            158,
            106,
            182,
            67,
            100,
            92,
            189,
            150,
            180,
            139,
            133,
            158,
            117,
            153,
            180
           ],
           "yaxis": "y"
          },
          {
           "hovertemplate": "<b>%{hovertext}</b><br><br>Continent=South America<br>Year=2011<br>avg_years_of_schooling=%{x}<br>Both sexes=%{marker.size}<extra></extra>",
           "hovertext": [
            "Argentina",
            "Brazil",
            "Chile",
            "Colombia",
            "Ecuador",
            "Guyana",
            "Paraguay",
            "Suriname"
           ],
           "ids": [
            "Argentina",
            "Brazil",
            "Chile",
            "Colombia",
            "Ecuador",
            "Guyana",
            "Paraguay",
            "Suriname"
           ],
           "legendgroup": "South America",
           "marker": {
            "color": "#2CA02C",
            "size": [
             118,
             153,
             90,
             140,
             130,
             263,
             150,
             191
            ],
            "sizemode": "area",
            "sizeref": 0.53,
            "symbol": "circle"
           },
           "mode": "markers",
           "name": "South America",
           "orientation": "v",
           "showlegend": true,
           "type": "scatter",
           "x": [
            9.8,
            7.1,
            9.8,
            7.5,
            8,
            8.2,
            7.8,
            7.8
           ],
           "xaxis": "x",
           "y": [
            118,
            153,
            90,
            140,
            130,
            263,
            150,
            191
           ],
           "yaxis": "y"
          },
          {
           "hovertemplate": "<b>%{hovertext}</b><br><br>Continent=Asia<br>Year=2011<br>avg_years_of_schooling=%{x}<br>Both sexes=%{marker.size}<extra></extra>",
           "hovertext": [
            "Armenia",
            "Bahrain",
            "Cyprus",
            "Georgia",
            "Israel",
            "Japan",
            "Kazakhstan",
            "Kuwait",
            "Kyrgyzstan",
            "Maldives",
            "Philippines",
            "Qatar",
            "Singapore",
            "Thailand",
            "Turkey",
            "Turkmenistan",
            "Uzbekistan"
           ],
           "ids": [
            "Armenia",
            "Bahrain",
            "Cyprus",
            "Georgia",
            "Israel",
            "Japan",
            "Kazakhstan",
            "Kuwait",
            "Kyrgyzstan",
            "Maldives",
            "Philippines",
            "Qatar",
            "Singapore",
            "Thailand",
            "Turkey",
            "Turkmenistan",
            "Uzbekistan"
           ],
           "legendgroup": "Asia",
           "marker": {
            "color": "#D62728",
            "size": [
             135,
             66,
             58,
             153,
             59,
             62,
             232,
             84,
             196,
             66,
             202,
             65,
             59,
             158,
             114,
             190,
             144
            ],
            "sizemode": "area",
            "sizeref": 0.53,
            "symbol": "circle"
           },
           "mode": "markers",
           "name": "Asia",
           "orientation": "v",
           "showlegend": true,
           "type": "scatter",
           "x": [
            11.2,
            8.6,
            11.6,
            12.2,
            12.7,
            11.8,
            11.5,
            7,
            10.6,
            5.2,
            9,
            8.7,
            11.2,
            7.5,
            7.2,
            9.9,
            10.9
           ],
           "xaxis": "x",
           "y": [
            135,
            66,
            58,
            153,
            59,
            62,
            232,
            84,
            196,
            66,
            202,
            65,
            59,
            158,
            114,
            190,
            144
           ],
           "yaxis": "y"
          },
          {
           "hovertemplate": "<b>%{hovertext}</b><br><br>Continent=Oceania<br>Year=2011<br>avg_years_of_schooling=%{x}<br>Both sexes=%{marker.size}<extra></extra>",
           "hovertext": [
            "Australia",
            "Fiji",
            "New Zealand"
           ],
           "ids": [
            "Australia",
            "Fiji",
            "New Zealand"
           ],
           "legendgroup": "Oceania",
           "marker": {
            "color": "#9467BD",
            "size": [
             62,
             197,
             71
            ],
            "sizemode": "area",
            "sizeref": 0.53,
            "symbol": "circle"
           },
           "mode": "markers",
           "name": "Oceania",
           "orientation": "v",
           "showlegend": true,
           "type": "scatter",
           "x": [
            12.5,
            9.8,
            12
           ],
           "xaxis": "x",
           "y": [
            62,
            197,
            71
           ],
           "yaxis": "y"
          },
          {
           "hovertemplate": "<b>%{hovertext}</b><br><br>Continent=Africa<br>Year=2011<br>avg_years_of_schooling=%{x}<br>Both sexes=%{marker.size}<extra></extra>",
           "hovertext": [
            "Mauritius",
            "Seychelles",
            "South Africa"
           ],
           "ids": [
            "Mauritius",
            "Seychelles",
            "South Africa"
           ],
           "legendgroup": "Africa",
           "marker": {
            "color": "#8C564B",
            "size": [
             156,
             177,
             397
            ],
            "sizemode": "area",
            "sizeref": 0.53,
            "symbol": "circle"
           },
           "mode": "markers",
           "name": "Africa",
           "orientation": "v",
           "showlegend": true,
           "type": "scatter",
           "x": [
            8.5,
            8.4,
            9.9
           ],
           "xaxis": "x",
           "y": [
            156,
            177,
            397
           ],
           "yaxis": "y"
          }
         ],
         "name": "2011"
        },
        {
         "data": [
          {
           "hovertemplate": "<b>%{hovertext}</b><br><br>Continent=Europe<br>Year=2016<br>avg_years_of_schooling=%{x}<br>Both sexes=%{marker.size}<extra></extra>",
           "hovertext": [
            "Austria",
            "Croatia",
            "Hungary",
            "Iceland",
            "Lithuania",
            "Netherlands",
            "Romania",
            "Sweden"
           ],
           "ids": [
            "Austria",
            "Croatia",
            "Hungary",
            "Iceland",
            "Lithuania",
            "Netherlands",
            "Romania",
            "Sweden"
           ],
           "legendgroup": "Europe",
           "marker": {
            "color": "#1F77B4",
            "size": [
             62,
             88,
             126,
             55,
             155,
             59,
             135,
             52
            ],
            "sizemode": "area",
            "sizeref": 0.53,
            "symbol": "circle"
           },
           "mode": "markers",
           "name": "Europe",
           "orientation": "v",
           "showlegend": true,
           "type": "scatter",
           "x": [
            12.1,
            11.3,
            11.9,
            12.4,
            13,
            12.1,
            11,
            12.4
           ],
           "xaxis": "x",
           "y": [
            62,
            88,
            126,
            55,
            155,
            59,
            135,
            52
           ],
           "yaxis": "y"
          },
          {
           "hovertemplate": "<b>%{hovertext}</b><br><br>Continent=North America<br>Year=2016<br>avg_years_of_schooling=%{x}<br>Both sexes=%{marker.size}<extra></extra>",
           "hovertext": [
            "Grenada"
           ],
           "ids": [
            "Grenada"
           ],
           "legendgroup": "North America",
           "marker": {
            "color": "#FF7F0E",
            "size": [
             140
            ],
            "sizemode": "area",
            "sizeref": 0.53,
            "symbol": "circle"
           },
           "mode": "markers",
           "name": "North America",
           "orientation": "v",
           "showlegend": true,
           "type": "scatter",
           "x": [
            8.7
           ],
           "xaxis": "x",
           "y": [
            140
           ],
           "yaxis": "y"
          },
          {
           "hovertemplate": "<b>%{hovertext}</b><br><br>Continent=Asia<br>Year=2016<br>avg_years_of_schooling=%{x}<br>Both sexes=%{marker.size}<extra></extra>",
           "hovertext": [
            "Armenia",
            "Cyprus",
            "Mongolia",
            "Qatar",
            "Thailand"
           ],
           "ids": [
            "Armenia",
            "Cyprus",
            "Mongolia",
            "Qatar",
            "Thailand"
           ],
           "legendgroup": "Asia",
           "marker": {
            "color": "#D62728",
            "size": [
             116,
             55,
             211,
             62,
             147
            ],
            "sizemode": "area",
            "sizeref": 0.53,
            "symbol": "circle"
           },
           "mode": "markers",
           "name": "Asia",
           "orientation": "v",
           "showlegend": true,
           "type": "scatter",
           "x": [
            11.7,
            12.1,
            10.1,
            9.8,
            7.6
           ],
           "xaxis": "x",
           "y": [
            116,
            55,
            211,
            62,
            147
           ],
           "yaxis": "y"
          },
          {
           "hovertemplate": "<b>%{hovertext}</b><br><br>Continent=Africa<br>Year=2016<br>avg_years_of_schooling=%{x}<br>Both sexes=%{marker.size}<extra></extra>",
           "hovertext": [
            "Mauritius"
           ],
           "ids": [
            "Mauritius"
           ],
           "legendgroup": "Africa",
           "marker": {
            "color": "#8C564B",
            "size": [
             145
            ],
            "sizemode": "area",
            "sizeref": 0.53,
            "symbol": "circle"
           },
           "mode": "markers",
           "name": "Africa",
           "orientation": "v",
           "showlegend": true,
           "type": "scatter",
           "x": [
            9.3
           ],
           "xaxis": "x",
           "y": [
            145
           ],
           "yaxis": "y"
          }
         ],
         "name": "2016"
        }
       ],
       "layout": {
        "height": 700,
        "legend": {
         "itemsizing": "constant",
         "title": {
          "text": "Continent"
         },
         "tracegroupgap": 0
        },
        "margin": {
         "t": 60
        },
        "sliders": [
         {
          "active": 0,
          "currentvalue": {
           "prefix": "Year="
          },
          "len": 0.9,
          "pad": {
           "b": 10,
           "t": 60
          },
          "steps": [
           {
            "args": [
             [
              "2000"
             ],
             {
              "frame": {
               "duration": 0,
               "redraw": false
              },
              "fromcurrent": true,
              "mode": "immediate",
              "transition": {
               "duration": 0,
               "easing": "linear"
              }
             }
            ],
            "label": "2000",
            "method": "animate"
           },
           {
            "args": [
             [
              "2001"
             ],
             {
              "frame": {
               "duration": 0,
               "redraw": false
              },
              "fromcurrent": true,
              "mode": "immediate",
              "transition": {
               "duration": 0,
               "easing": "linear"
              }
             }
            ],
            "label": "2001",
            "method": "animate"
           },
           {
            "args": [
             [
              "2002"
             ],
             {
              "frame": {
               "duration": 0,
               "redraw": false
              },
              "fromcurrent": true,
              "mode": "immediate",
              "transition": {
               "duration": 0,
               "easing": "linear"
              }
             }
            ],
            "label": "2002",
            "method": "animate"
           },
           {
            "args": [
             [
              "2003"
             ],
             {
              "frame": {
               "duration": 0,
               "redraw": false
              },
              "fromcurrent": true,
              "mode": "immediate",
              "transition": {
               "duration": 0,
               "easing": "linear"
              }
             }
            ],
            "label": "2003",
            "method": "animate"
           },
           {
            "args": [
             [
              "2004"
             ],
             {
              "frame": {
               "duration": 0,
               "redraw": false
              },
              "fromcurrent": true,
              "mode": "immediate",
              "transition": {
               "duration": 0,
               "easing": "linear"
              }
             }
            ],
            "label": "2004",
            "method": "animate"
           },
           {
            "args": [
             [
              "2005"
             ],
             {
              "frame": {
               "duration": 0,
               "redraw": false
              },
              "fromcurrent": true,
              "mode": "immediate",
              "transition": {
               "duration": 0,
               "easing": "linear"
              }
             }
            ],
            "label": "2005",
            "method": "animate"
           },
           {
            "args": [
             [
              "2006"
             ],
             {
              "frame": {
               "duration": 0,
               "redraw": false
              },
              "fromcurrent": true,
              "mode": "immediate",
              "transition": {
               "duration": 0,
               "easing": "linear"
              }
             }
            ],
            "label": "2006",
            "method": "animate"
           },
           {
            "args": [
             [
              "2007"
             ],
             {
              "frame": {
               "duration": 0,
               "redraw": false
              },
              "fromcurrent": true,
              "mode": "immediate",
              "transition": {
               "duration": 0,
               "easing": "linear"
              }
             }
            ],
            "label": "2007",
            "method": "animate"
           },
           {
            "args": [
             [
              "2008"
             ],
             {
              "frame": {
               "duration": 0,
               "redraw": false
              },
              "fromcurrent": true,
              "mode": "immediate",
              "transition": {
               "duration": 0,
               "easing": "linear"
              }
             }
            ],
            "label": "2008",
            "method": "animate"
           },
           {
            "args": [
             [
              "2009"
             ],
             {
              "frame": {
               "duration": 0,
               "redraw": false
              },
              "fromcurrent": true,
              "mode": "immediate",
              "transition": {
               "duration": 0,
               "easing": "linear"
              }
             }
            ],
            "label": "2009",
            "method": "animate"
           },
           {
            "args": [
             [
              "2010"
             ],
             {
              "frame": {
               "duration": 0,
               "redraw": false
              },
              "fromcurrent": true,
              "mode": "immediate",
              "transition": {
               "duration": 0,
               "easing": "linear"
              }
             }
            ],
            "label": "2010",
            "method": "animate"
           },
           {
            "args": [
             [
              "2012"
             ],
             {
              "frame": {
               "duration": 0,
               "redraw": false
              },
              "fromcurrent": true,
              "mode": "immediate",
              "transition": {
               "duration": 0,
               "easing": "linear"
              }
             }
            ],
            "label": "2012",
            "method": "animate"
           },
           {
            "args": [
             [
              "2013"
             ],
             {
              "frame": {
               "duration": 0,
               "redraw": false
              },
              "fromcurrent": true,
              "mode": "immediate",
              "transition": {
               "duration": 0,
               "easing": "linear"
              }
             }
            ],
            "label": "2013",
            "method": "animate"
           },
           {
            "args": [
             [
              "2014"
             ],
             {
              "frame": {
               "duration": 0,
               "redraw": false
              },
              "fromcurrent": true,
              "mode": "immediate",
              "transition": {
               "duration": 0,
               "easing": "linear"
              }
             }
            ],
            "label": "2014",
            "method": "animate"
           },
           {
            "args": [
             [
              "2015"
             ],
             {
              "frame": {
               "duration": 0,
               "redraw": false
              },
              "fromcurrent": true,
              "mode": "immediate",
              "transition": {
               "duration": 0,
               "easing": "linear"
              }
             }
            ],
            "label": "2015",
            "method": "animate"
           },
           {
            "args": [
             [
              "2011"
             ],
             {
              "frame": {
               "duration": 0,
               "redraw": false
              },
              "fromcurrent": true,
              "mode": "immediate",
              "transition": {
               "duration": 0,
               "easing": "linear"
              }
             }
            ],
            "label": "2011",
            "method": "animate"
           },
           {
            "args": [
             [
              "2016"
             ],
             {
              "frame": {
               "duration": 0,
               "redraw": false
              },
              "fromcurrent": true,
              "mode": "immediate",
              "transition": {
               "duration": 0,
               "easing": "linear"
              }
             }
            ],
            "label": "2016",
            "method": "animate"
           }
          ],
          "x": 0.1,
          "xanchor": "left",
          "y": 0,
          "yanchor": "top"
         }
        ],
        "template": {
         "data": {
          "bar": [
           {
            "error_x": {
             "color": "rgb(36,36,36)"
            },
            "error_y": {
             "color": "rgb(36,36,36)"
            },
            "marker": {
             "line": {
              "color": "white",
              "width": 0.5
             },
             "pattern": {
              "fillmode": "overlay",
              "size": 10,
              "solidity": 0.2
             }
            },
            "type": "bar"
           }
          ],
          "barpolar": [
           {
            "marker": {
             "line": {
              "color": "white",
              "width": 0.5
             },
             "pattern": {
              "fillmode": "overlay",
              "size": 10,
              "solidity": 0.2
             }
            },
            "type": "barpolar"
           }
          ],
          "carpet": [
           {
            "aaxis": {
             "endlinecolor": "rgb(36,36,36)",
             "gridcolor": "white",
             "linecolor": "white",
             "minorgridcolor": "white",
             "startlinecolor": "rgb(36,36,36)"
            },
            "baxis": {
             "endlinecolor": "rgb(36,36,36)",
             "gridcolor": "white",
             "linecolor": "white",
             "minorgridcolor": "white",
             "startlinecolor": "rgb(36,36,36)"
            },
            "type": "carpet"
           }
          ],
          "choropleth": [
           {
            "colorbar": {
             "outlinewidth": 1,
             "tickcolor": "rgb(36,36,36)",
             "ticks": "outside"
            },
            "type": "choropleth"
           }
          ],
          "contour": [
           {
            "colorbar": {
             "outlinewidth": 1,
             "tickcolor": "rgb(36,36,36)",
             "ticks": "outside"
            },
            "colorscale": [
             [
              0,
              "#440154"
             ],
             [
              0.1111111111111111,
              "#482878"
             ],
             [
              0.2222222222222222,
              "#3e4989"
             ],
             [
              0.3333333333333333,
              "#31688e"
             ],
             [
              0.4444444444444444,
              "#26828e"
             ],
             [
              0.5555555555555556,
              "#1f9e89"
             ],
             [
              0.6666666666666666,
              "#35b779"
             ],
             [
              0.7777777777777778,
              "#6ece58"
             ],
             [
              0.8888888888888888,
              "#b5de2b"
             ],
             [
              1,
              "#fde725"
             ]
            ],
            "type": "contour"
           }
          ],
          "contourcarpet": [
           {
            "colorbar": {
             "outlinewidth": 1,
             "tickcolor": "rgb(36,36,36)",
             "ticks": "outside"
            },
            "type": "contourcarpet"
           }
          ],
          "heatmap": [
           {
            "colorbar": {
             "outlinewidth": 1,
             "tickcolor": "rgb(36,36,36)",
             "ticks": "outside"
            },
            "colorscale": [
             [
              0,
              "#440154"
             ],
             [
              0.1111111111111111,
              "#482878"
             ],
             [
              0.2222222222222222,
              "#3e4989"
             ],
             [
              0.3333333333333333,
              "#31688e"
             ],
             [
              0.4444444444444444,
              "#26828e"
             ],
             [
              0.5555555555555556,
              "#1f9e89"
             ],
             [
              0.6666666666666666,
              "#35b779"
             ],
             [
              0.7777777777777778,
              "#6ece58"
             ],
             [
              0.8888888888888888,
              "#b5de2b"
             ],
             [
              1,
              "#fde725"
             ]
            ],
            "type": "heatmap"
           }
          ],
          "heatmapgl": [
           {
            "colorbar": {
             "outlinewidth": 1,
             "tickcolor": "rgb(36,36,36)",
             "ticks": "outside"
            },
            "colorscale": [
             [
              0,
              "#440154"
             ],
             [
              0.1111111111111111,
              "#482878"
             ],
             [
              0.2222222222222222,
              "#3e4989"
             ],
             [
              0.3333333333333333,
              "#31688e"
             ],
             [
              0.4444444444444444,
              "#26828e"
             ],
             [
              0.5555555555555556,
              "#1f9e89"
             ],
             [
              0.6666666666666666,
              "#35b779"
             ],
             [
              0.7777777777777778,
              "#6ece58"
             ],
             [
              0.8888888888888888,
              "#b5de2b"
             ],
             [
              1,
              "#fde725"
             ]
            ],
            "type": "heatmapgl"
           }
          ],
          "histogram": [
           {
            "marker": {
             "line": {
              "color": "white",
              "width": 0.6
             }
            },
            "type": "histogram"
           }
          ],
          "histogram2d": [
           {
            "colorbar": {
             "outlinewidth": 1,
             "tickcolor": "rgb(36,36,36)",
             "ticks": "outside"
            },
            "colorscale": [
             [
              0,
              "#440154"
             ],
             [
              0.1111111111111111,
              "#482878"
             ],
             [
              0.2222222222222222,
              "#3e4989"
             ],
             [
              0.3333333333333333,
              "#31688e"
             ],
             [
              0.4444444444444444,
              "#26828e"
             ],
             [
              0.5555555555555556,
              "#1f9e89"
             ],
             [
              0.6666666666666666,
              "#35b779"
             ],
             [
              0.7777777777777778,
              "#6ece58"
             ],
             [
              0.8888888888888888,
              "#b5de2b"
             ],
             [
              1,
              "#fde725"
             ]
            ],
            "type": "histogram2d"
           }
          ],
          "histogram2dcontour": [
           {
            "colorbar": {
             "outlinewidth": 1,
             "tickcolor": "rgb(36,36,36)",
             "ticks": "outside"
            },
            "colorscale": [
             [
              0,
              "#440154"
             ],
             [
              0.1111111111111111,
              "#482878"
             ],
             [
              0.2222222222222222,
              "#3e4989"
             ],
             [
              0.3333333333333333,
              "#31688e"
             ],
             [
              0.4444444444444444,
              "#26828e"
             ],
             [
              0.5555555555555556,
              "#1f9e89"
             ],
             [
              0.6666666666666666,
              "#35b779"
             ],
             [
              0.7777777777777778,
              "#6ece58"
             ],
             [
              0.8888888888888888,
              "#b5de2b"
             ],
             [
              1,
              "#fde725"
             ]
            ],
            "type": "histogram2dcontour"
           }
          ],
          "mesh3d": [
           {
            "colorbar": {
             "outlinewidth": 1,
             "tickcolor": "rgb(36,36,36)",
             "ticks": "outside"
            },
            "type": "mesh3d"
           }
          ],
          "parcoords": [
           {
            "line": {
             "colorbar": {
              "outlinewidth": 1,
              "tickcolor": "rgb(36,36,36)",
              "ticks": "outside"
             }
            },
            "type": "parcoords"
           }
          ],
          "pie": [
           {
            "automargin": true,
            "type": "pie"
           }
          ],
          "scatter": [
           {
            "fillpattern": {
             "fillmode": "overlay",
             "size": 10,
             "solidity": 0.2
            },
            "type": "scatter"
           }
          ],
          "scatter3d": [
           {
            "line": {
             "colorbar": {
              "outlinewidth": 1,
              "tickcolor": "rgb(36,36,36)",
              "ticks": "outside"
             }
            },
            "marker": {
             "colorbar": {
              "outlinewidth": 1,
              "tickcolor": "rgb(36,36,36)",
              "ticks": "outside"
             }
            },
            "type": "scatter3d"
           }
          ],
          "scattercarpet": [
           {
            "marker": {
             "colorbar": {
              "outlinewidth": 1,
              "tickcolor": "rgb(36,36,36)",
              "ticks": "outside"
             }
            },
            "type": "scattercarpet"
           }
          ],
          "scattergeo": [
           {
            "marker": {
             "colorbar": {
              "outlinewidth": 1,
              "tickcolor": "rgb(36,36,36)",
              "ticks": "outside"
             }
            },
            "type": "scattergeo"
           }
          ],
          "scattergl": [
           {
            "marker": {
             "colorbar": {
              "outlinewidth": 1,
              "tickcolor": "rgb(36,36,36)",
              "ticks": "outside"
             }
            },
            "type": "scattergl"
           }
          ],
          "scattermapbox": [
           {
            "marker": {
             "colorbar": {
              "outlinewidth": 1,
              "tickcolor": "rgb(36,36,36)",
              "ticks": "outside"
             }
            },
            "type": "scattermapbox"
           }
          ],
          "scatterpolar": [
           {
            "marker": {
             "colorbar": {
              "outlinewidth": 1,
              "tickcolor": "rgb(36,36,36)",
              "ticks": "outside"
             }
            },
            "type": "scatterpolar"
           }
          ],
          "scatterpolargl": [
           {
            "marker": {
             "colorbar": {
              "outlinewidth": 1,
              "tickcolor": "rgb(36,36,36)",
              "ticks": "outside"
             }
            },
            "type": "scatterpolargl"
           }
          ],
          "scatterternary": [
           {
            "marker": {
             "colorbar": {
              "outlinewidth": 1,
              "tickcolor": "rgb(36,36,36)",
              "ticks": "outside"
             }
            },
            "type": "scatterternary"
           }
          ],
          "surface": [
           {
            "colorbar": {
             "outlinewidth": 1,
             "tickcolor": "rgb(36,36,36)",
             "ticks": "outside"
            },
            "colorscale": [
             [
              0,
              "#440154"
             ],
             [
              0.1111111111111111,
              "#482878"
             ],
             [
              0.2222222222222222,
              "#3e4989"
             ],
             [
              0.3333333333333333,
              "#31688e"
             ],
             [
              0.4444444444444444,
              "#26828e"
             ],
             [
              0.5555555555555556,
              "#1f9e89"
             ],
             [
              0.6666666666666666,
              "#35b779"
             ],
             [
              0.7777777777777778,
              "#6ece58"
             ],
             [
              0.8888888888888888,
              "#b5de2b"
             ],
             [
              1,
              "#fde725"
             ]
            ],
            "type": "surface"
           }
          ],
          "table": [
           {
            "cells": {
             "fill": {
              "color": "rgb(237,237,237)"
             },
             "line": {
              "color": "white"
             }
            },
            "header": {
             "fill": {
              "color": "rgb(217,217,217)"
             },
             "line": {
              "color": "white"
             }
            },
            "type": "table"
           }
          ]
         },
         "layout": {
          "annotationdefaults": {
           "arrowhead": 0,
           "arrowwidth": 1
          },
          "autotypenumbers": "strict",
          "coloraxis": {
           "colorbar": {
            "outlinewidth": 1,
            "tickcolor": "rgb(36,36,36)",
            "ticks": "outside"
           }
          },
          "colorscale": {
           "diverging": [
            [
             0,
             "rgb(103,0,31)"
            ],
            [
             0.1,
             "rgb(178,24,43)"
            ],
            [
             0.2,
             "rgb(214,96,77)"
            ],
            [
             0.3,
             "rgb(244,165,130)"
            ],
            [
             0.4,
             "rgb(253,219,199)"
            ],
            [
             0.5,
             "rgb(247,247,247)"
            ],
            [
             0.6,
             "rgb(209,229,240)"
            ],
            [
             0.7,
             "rgb(146,197,222)"
            ],
            [
             0.8,
             "rgb(67,147,195)"
            ],
            [
             0.9,
             "rgb(33,102,172)"
            ],
            [
             1,
             "rgb(5,48,97)"
            ]
           ],
           "sequential": [
            [
             0,
             "#440154"
            ],
            [
             0.1111111111111111,
             "#482878"
            ],
            [
             0.2222222222222222,
             "#3e4989"
            ],
            [
             0.3333333333333333,
             "#31688e"
            ],
            [
             0.4444444444444444,
             "#26828e"
            ],
            [
             0.5555555555555556,
             "#1f9e89"
            ],
            [
             0.6666666666666666,
             "#35b779"
            ],
            [
             0.7777777777777778,
             "#6ece58"
            ],
            [
             0.8888888888888888,
             "#b5de2b"
            ],
            [
             1,
             "#fde725"
            ]
           ],
           "sequentialminus": [
            [
             0,
             "#440154"
            ],
            [
             0.1111111111111111,
             "#482878"
            ],
            [
             0.2222222222222222,
             "#3e4989"
            ],
            [
             0.3333333333333333,
             "#31688e"
            ],
            [
             0.4444444444444444,
             "#26828e"
            ],
            [
             0.5555555555555556,
             "#1f9e89"
            ],
            [
             0.6666666666666666,
             "#35b779"
            ],
            [
             0.7777777777777778,
             "#6ece58"
            ],
            [
             0.8888888888888888,
             "#b5de2b"
            ],
            [
             1,
             "#fde725"
            ]
           ]
          },
          "colorway": [
           "#1F77B4",
           "#FF7F0E",
           "#2CA02C",
           "#D62728",
           "#9467BD",
           "#8C564B",
           "#E377C2",
           "#7F7F7F",
           "#BCBD22",
           "#17BECF"
          ],
          "font": {
           "color": "rgb(36,36,36)"
          },
          "geo": {
           "bgcolor": "white",
           "lakecolor": "white",
           "landcolor": "white",
           "showlakes": true,
           "showland": true,
           "subunitcolor": "white"
          },
          "hoverlabel": {
           "align": "left"
          },
          "hovermode": "closest",
          "mapbox": {
           "style": "light"
          },
          "paper_bgcolor": "white",
          "plot_bgcolor": "white",
          "polar": {
           "angularaxis": {
            "gridcolor": "rgb(232,232,232)",
            "linecolor": "rgb(36,36,36)",
            "showgrid": false,
            "showline": true,
            "ticks": "outside"
           },
           "bgcolor": "white",
           "radialaxis": {
            "gridcolor": "rgb(232,232,232)",
            "linecolor": "rgb(36,36,36)",
            "showgrid": false,
            "showline": true,
            "ticks": "outside"
           }
          },
          "scene": {
           "xaxis": {
            "backgroundcolor": "white",
            "gridcolor": "rgb(232,232,232)",
            "gridwidth": 2,
            "linecolor": "rgb(36,36,36)",
            "showbackground": true,
            "showgrid": false,
            "showline": true,
            "ticks": "outside",
            "zeroline": false,
            "zerolinecolor": "rgb(36,36,36)"
           },
           "yaxis": {
            "backgroundcolor": "white",
            "gridcolor": "rgb(232,232,232)",
            "gridwidth": 2,
            "linecolor": "rgb(36,36,36)",
            "showbackground": true,
            "showgrid": false,
            "showline": true,
            "ticks": "outside",
            "zeroline": false,
            "zerolinecolor": "rgb(36,36,36)"
           },
           "zaxis": {
            "backgroundcolor": "white",
            "gridcolor": "rgb(232,232,232)",
            "gridwidth": 2,
            "linecolor": "rgb(36,36,36)",
            "showbackground": true,
            "showgrid": false,
            "showline": true,
            "ticks": "outside",
            "zeroline": false,
            "zerolinecolor": "rgb(36,36,36)"
           }
          },
          "shapedefaults": {
           "fillcolor": "black",
           "line": {
            "width": 0
           },
           "opacity": 0.3
          },
          "ternary": {
           "aaxis": {
            "gridcolor": "rgb(232,232,232)",
            "linecolor": "rgb(36,36,36)",
            "showgrid": false,
            "showline": true,
            "ticks": "outside"
           },
           "baxis": {
            "gridcolor": "rgb(232,232,232)",
            "linecolor": "rgb(36,36,36)",
            "showgrid": false,
            "showline": true,
            "ticks": "outside"
           },
           "bgcolor": "white",
           "caxis": {
            "gridcolor": "rgb(232,232,232)",
            "linecolor": "rgb(36,36,36)",
            "showgrid": false,
            "showline": true,
            "ticks": "outside"
           }
          },
          "title": {
           "x": 0.05
          },
          "xaxis": {
           "automargin": true,
           "gridcolor": "rgb(232,232,232)",
           "linecolor": "rgb(36,36,36)",
           "showgrid": false,
           "showline": true,
           "ticks": "outside",
           "title": {
            "standoff": 15
           },
           "zeroline": false,
           "zerolinecolor": "rgb(36,36,36)"
          },
          "yaxis": {
           "automargin": true,
           "gridcolor": "rgb(232,232,232)",
           "linecolor": "rgb(36,36,36)",
           "showgrid": false,
           "showline": true,
           "ticks": "outside",
           "title": {
            "standoff": 15
           },
           "zeroline": false,
           "zerolinecolor": "rgb(36,36,36)"
          }
         }
        },
        "updatemenus": [
         {
          "buttons": [
           {
            "args": [
             null,
             {
              "frame": {
               "duration": 500,
               "redraw": false
              },
              "fromcurrent": true,
              "mode": "immediate",
              "transition": {
               "duration": 500,
               "easing": "linear"
              }
             }
            ],
            "label": "&#9654;",
            "method": "animate"
           },
           {
            "args": [
             [
              null
             ],
             {
              "frame": {
               "duration": 0,
               "redraw": false
              },
              "fromcurrent": true,
              "mode": "immediate",
              "transition": {
               "duration": 0,
               "easing": "linear"
              }
             }
            ],
            "label": "&#9724;",
            "method": "animate"
           }
          ],
          "direction": "left",
          "pad": {
           "r": 10,
           "t": 70
          },
          "showactive": false,
          "type": "buttons",
          "x": 0.1,
          "xanchor": "right",
          "y": 0,
          "yanchor": "top"
         }
        ],
        "width": 1000,
        "xaxis": {
         "anchor": "y",
         "domain": [
          0,
          1
         ],
         "title": {
          "text": "avg_years_of_schooling"
         }
        },
        "yaxis": {
         "anchor": "x",
         "domain": [
          0,
          1
         ],
         "title": {
          "text": "Both sexes"
         }
        }
       }
      }
     },
     "metadata": {},
     "output_type": "display_data"
    }
   ],
   "source": [
    "import plotly.express as px\n",
    "px.scatter(final_df_2, x='avg_years_of_schooling', y='Both sexes',\n",
    "           size='Both sexes', size_max=30, color='Continent', animation_frame='Year', animation_group=\"Country\",\n",
    "           template='simple_white', width=1000, height=700,hover_name='Country')\n"
   ]
  },
  {
   "cell_type": "code",
   "execution_count": 64,
   "metadata": {},
   "outputs": [
    {
     "data": {
      "application/vnd.plotly.v1+json": {
       "config": {
        "plotlyServerURL": "https://plot.ly"
       },
       "data": [
        {
         "hovertemplate": "<b>%{hovertext}</b><br><br>Continent=Europe<br>Year=2000<br>avg_years_of_schooling=%{x}<br>suicides_per_100k=%{y}<br>Both sexes=%{marker.size}<extra></extra>",
         "hovertext": [
          "Albania",
          "Austria",
          "Belarus",
          "Belgium",
          "Bulgaria",
          "Croatia",
          "Denmark",
          "Estonia",
          "Finland",
          "France",
          "Germany",
          "Greece",
          "Hungary",
          "Iceland",
          "Ireland",
          "Italy",
          "Latvia",
          "Lithuania",
          "Luxembourg",
          "Malta",
          "Netherlands",
          "Norway",
          "Poland",
          "Portugal",
          "Romania",
          "Serbia",
          "Slovakia",
          "Slovenia",
          "Spain",
          "Sweden",
          "Switzerland",
          "Ukraine"
         ],
         "ids": [
          "Albania",
          "Austria",
          "Belarus",
          "Belgium",
          "Bulgaria",
          "Croatia",
          "Denmark",
          "Estonia",
          "Finland",
          "France",
          "Germany",
          "Greece",
          "Hungary",
          "Iceland",
          "Ireland",
          "Italy",
          "Latvia",
          "Lithuania",
          "Luxembourg",
          "Malta",
          "Netherlands",
          "Norway",
          "Poland",
          "Portugal",
          "Romania",
          "Serbia",
          "Slovakia",
          "Slovenia",
          "Spain",
          "Sweden",
          "Switzerland",
          "Ukraine"
         ],
         "legendgroup": "Europe",
         "marker": {
          "color": "#1F77B4",
          "size": [
           106,
           94,
           247,
           99,
           163,
           133,
           100,
           216,
           104,
           99,
           95,
           82,
           193,
           76,
           93,
           75,
           217,
           200,
           90,
           70,
           83,
           84,
           152,
           110,
           175,
           141,
           147,
           122,
           84,
           72,
           78,
           258
          ],
          "sizemode": "area",
          "sizeref": 0.53,
          "symbol": "circle"
         },
         "mode": "markers",
         "name": "Europe",
         "orientation": "v",
         "showlegend": true,
         "type": "scatter",
         "x": [
          8.8,
          9,
          8.9,
          10,
          9.5,
          9.4,
          10.7,
          11.7,
          9.3,
          9.8,
          11.2,
          8.6,
          10.2,
          9.4,
          10.8,
          8.6,
          9.5,
          10.7,
          10.3,
          8.1,
          10.8,
          12,
          11.1,
          6.8,
          9.9,
          9.4,
          10.3,
          11.6,
          8.4,
          11.4,
          11.4,
          10.7
         ],
         "xaxis": "x",
         "y": [
          30.7,
          289.77,
          447.3,
          267.8,
          259.21999999999997,
          322.75,
          181.07,
          364.64,
          265.65,
          257.23,
          185.55,
          44.86,
          464.56,
          207.99,
          142.36,
          99.22,
          453.2,
          571.8000000000001,
          222.64,
          78.05,
          118.99,
          150.32999999999998,
          191.01000000000002,
          85.88,
          159.19,
          324.16,
          180.07999999999998,
          404.12,
          122.21000000000001,
          162.5,
          266.2,
          377.19
         ],
         "yaxis": "y"
        },
        {
         "hovertemplate": "<b>%{hovertext}</b><br><br>Continent=North America<br>Year=2000<br>avg_years_of_schooling=%{x}<br>suicides_per_100k=%{y}<br>Both sexes=%{marker.size}<extra></extra>",
         "hovertext": [
          "Antigua and Barbuda",
          "Bahamas",
          "Barbados",
          "Belize",
          "Canada",
          "Costa Rica",
          "Cuba",
          "El Salvador",
          "Guatemala",
          "Jamaica",
          "Mexico",
          "Panama",
          "Saint Lucia",
          "Trinidad and Tobago"
         ],
         "ids": [
          "Antigua and Barbuda",
          "Bahamas",
          "Barbados",
          "Belize",
          "Canada",
          "Costa Rica",
          "Cuba",
          "El Salvador",
          "Guatemala",
          "Jamaica",
          "Mexico",
          "Panama",
          "Saint Lucia",
          "Trinidad and Tobago"
         ],
         "legendgroup": "North America",
         "marker": {
          "color": "#FF7F0E",
          "size": [
           157,
           202,
           128,
           198,
           81,
           100,
           121,
           218,
           220,
           173,
           138,
           120,
           186,
           202
          ],
          "sizemode": "area",
          "sizeref": 0.53,
          "symbol": "circle"
         },
         "mode": "markers",
         "name": "North America",
         "orientation": "v",
         "showlegend": true,
         "type": "scatter",
         "x": [
          7,
          10.9,
          9,
          10.1,
          11,
          8,
          9.6,
          5.2,
          3.7,
          7.3,
          6.7,
          8.5,
          7,
          9.2
         ],
         "xaxis": "x",
         "y": [
          39.97,
          40.66,
          37.13,
          160.8,
          139,
          88.29,
          272.77,
          110.55,
          27.419999999999998,
          1.16,
          54.89,
          85.58,
          197.86,
          198.32
         ],
         "yaxis": "y"
        },
        {
         "hovertemplate": "<b>%{hovertext}</b><br><br>Continent=South America<br>Year=2000<br>avg_years_of_schooling=%{x}<br>suicides_per_100k=%{y}<br>Both sexes=%{marker.size}<extra></extra>",
         "hovertext": [
          "Argentina",
          "Brazil",
          "Chile",
          "Colombia",
          "Ecuador",
          "Paraguay",
          "Uruguay"
         ],
         "ids": [
          "Argentina",
          "Brazil",
          "Chile",
          "Colombia",
          "Ecuador",
          "Paraguay",
          "Uruguay"
         ],
         "legendgroup": "South America",
         "marker": {
          "color": "#2CA02C",
          "size": [
           139,
           184,
           103,
           171,
           160,
           171,
           134
          ],
          "sizemode": "area",
          "sizeref": 0.53,
          "symbol": "circle"
         },
         "mode": "markers",
         "name": "South America",
         "orientation": "v",
         "showlegend": true,
         "type": "scatter",
         "x": [
          9.1,
          5.6,
          8.8,
          6.5,
          7,
          5.9,
          8
         ],
         "xaxis": "x",
         "y": [
          131.39,
          68.23,
          149.18,
          89.78,
          57.17,
          42.78,
          274.27
         ],
         "yaxis": "y"
        },
        {
         "hovertemplate": "<b>%{hovertext}</b><br><br>Continent=Asia<br>Year=2000<br>avg_years_of_schooling=%{x}<br>suicides_per_100k=%{y}<br>Both sexes=%{marker.size}<extra></extra>",
         "hovertext": [
          "Armenia",
          "Azerbaijan",
          "Bahrain",
          "Cyprus",
          "Georgia",
          "Israel",
          "Japan",
          "Kazakhstan",
          "Kuwait",
          "Kyrgyzstan",
          "Maldives",
          "Philippines",
          "Singapore",
          "Sri Lanka",
          "Thailand",
          "Uzbekistan"
         ],
         "ids": [
          "Armenia",
          "Azerbaijan",
          "Bahrain",
          "Cyprus",
          "Georgia",
          "Israel",
          "Japan",
          "Kazakhstan",
          "Kuwait",
          "Kyrgyzstan",
          "Maldives",
          "Philippines",
          "Singapore",
          "Sri Lanka",
          "Thailand",
          "Uzbekistan"
         ],
         "legendgroup": "Asia",
         "marker": {
          "color": "#D62728",
          "size": [
           143,
           161,
           101,
           80,
           129,
           80,
           72,
           287,
           94,
           228,
           142,
           213,
           79,
           171,
           204,
           183
          ],
          "sizemode": "area",
          "sizeref": 0.53,
          "symbol": "circle"
         },
         "mode": "markers",
         "name": "Asia",
         "orientation": "v",
         "showlegend": true,
         "type": "scatter",
         "x": [
          10.8,
          10.6,
          8.3,
          10,
          11.7,
          12,
          10.7,
          10.5,
          6.2,
          9.8,
          3,
          7.6,
          8.9,
          10,
          6.1,
          9.1
         ],
         "xaxis": "x",
         "y": [
          34.300000000000004,
          14.41,
          32.730000000000004,
          8.36,
          46.64,
          108.56,
          278.52,
          426.05,
          15.23,
          182.63,
          0,
          32.21,
          164.34,
          427.29,
          106.1,
          120.31
         ],
         "yaxis": "y"
        },
        {
         "hovertemplate": "<b>%{hovertext}</b><br><br>Continent=Oceania<br>Year=2000<br>avg_years_of_schooling=%{x}<br>suicides_per_100k=%{y}<br>Both sexes=%{marker.size}<extra></extra>",
         "hovertext": [
          "Australia",
          "Kiribati",
          "New Zealand"
         ],
         "ids": [
          "Australia",
          "Kiribati",
          "New Zealand"
         ],
         "legendgroup": "Oceania",
         "marker": {
          "color": "#9467BD",
          "size": [
           77,
           222,
           86
          ],
          "sizemode": "area",
          "sizeref": 0.53,
          "symbol": "circle"
         },
         "mode": "markers",
         "name": "Oceania",
         "orientation": "v",
         "showlegend": true,
         "type": "scatter",
         "x": [
          11.9,
          6.8,
          11.6
         ],
         "xaxis": "x",
         "y": [
          157.82,
          0,
          157.54
         ],
         "yaxis": "y"
        },
        {
         "hovertemplate": "<b>%{hovertext}</b><br><br>Continent=Africa<br>Year=2000<br>avg_years_of_schooling=%{x}<br>suicides_per_100k=%{y}<br>Both sexes=%{marker.size}<extra></extra>",
         "hovertext": [
          "Mauritius",
          "South Africa"
         ],
         "ids": [
          "Mauritius",
          "South Africa"
         ],
         "legendgroup": "Africa",
         "marker": {
          "color": "#8C564B",
          "size": [
           172,
           362
          ],
          "sizemode": "area",
          "sizeref": 0.53,
          "symbol": "circle"
         },
         "mode": "markers",
         "name": "Africa",
         "orientation": "v",
         "showlegend": true,
         "type": "scatter",
         "x": [
          6.2,
          8.8
         ],
         "xaxis": "x",
         "y": [
          140.82,
          9.54
         ],
         "yaxis": "y"
        }
       ],
       "frames": [
        {
         "data": [
          {
           "hovertemplate": "<b>%{hovertext}</b><br><br>Continent=Europe<br>Year=2000<br>avg_years_of_schooling=%{x}<br>suicides_per_100k=%{y}<br>Both sexes=%{marker.size}<extra></extra>",
           "hovertext": [
            "Albania",
            "Austria",
            "Belarus",
            "Belgium",
            "Bulgaria",
            "Croatia",
            "Denmark",
            "Estonia",
            "Finland",
            "France",
            "Germany",
            "Greece",
            "Hungary",
            "Iceland",
            "Ireland",
            "Italy",
            "Latvia",
            "Lithuania",
            "Luxembourg",
            "Malta",
            "Netherlands",
            "Norway",
            "Poland",
            "Portugal",
            "Romania",
            "Serbia",
            "Slovakia",
            "Slovenia",
            "Spain",
            "Sweden",
            "Switzerland",
            "Ukraine"
           ],
           "ids": [
            "Albania",
            "Austria",
            "Belarus",
            "Belgium",
            "Bulgaria",
            "Croatia",
            "Denmark",
            "Estonia",
            "Finland",
            "France",
            "Germany",
            "Greece",
            "Hungary",
            "Iceland",
            "Ireland",
            "Italy",
            "Latvia",
            "Lithuania",
            "Luxembourg",
            "Malta",
            "Netherlands",
            "Norway",
            "Poland",
            "Portugal",
            "Romania",
            "Serbia",
            "Slovakia",
            "Slovenia",
            "Spain",
            "Sweden",
            "Switzerland",
            "Ukraine"
           ],
           "legendgroup": "Europe",
           "marker": {
            "color": "#1F77B4",
            "size": [
             106,
             94,
             247,
             99,
             163,
             133,
             100,
             216,
             104,
             99,
             95,
             82,
             193,
             76,
             93,
             75,
             217,
             200,
             90,
             70,
             83,
             84,
             152,
             110,
             175,
             141,
             147,
             122,
             84,
             72,
             78,
             258
            ],
            "sizemode": "area",
            "sizeref": 0.53,
            "symbol": "circle"
           },
           "mode": "markers",
           "name": "Europe",
           "orientation": "v",
           "showlegend": true,
           "type": "scatter",
           "x": [
            8.8,
            9,
            8.9,
            10,
            9.5,
            9.4,
            10.7,
            11.7,
            9.3,
            9.8,
            11.2,
            8.6,
            10.2,
            9.4,
            10.8,
            8.6,
            9.5,
            10.7,
            10.3,
            8.1,
            10.8,
            12,
            11.1,
            6.8,
            9.9,
            9.4,
            10.3,
            11.6,
            8.4,
            11.4,
            11.4,
            10.7
           ],
           "xaxis": "x",
           "y": [
            30.7,
            289.77,
            447.3,
            267.8,
            259.21999999999997,
            322.75,
            181.07,
            364.64,
            265.65,
            257.23,
            185.55,
            44.86,
            464.56,
            207.99,
            142.36,
            99.22,
            453.2,
            571.8000000000001,
            222.64,
            78.05,
            118.99,
            150.32999999999998,
            191.01000000000002,
            85.88,
            159.19,
            324.16,
            180.07999999999998,
            404.12,
            122.21000000000001,
            162.5,
            266.2,
            377.19
           ],
           "yaxis": "y"
          },
          {
           "hovertemplate": "<b>%{hovertext}</b><br><br>Continent=North America<br>Year=2000<br>avg_years_of_schooling=%{x}<br>suicides_per_100k=%{y}<br>Both sexes=%{marker.size}<extra></extra>",
           "hovertext": [
            "Antigua and Barbuda",
            "Bahamas",
            "Barbados",
            "Belize",
            "Canada",
            "Costa Rica",
            "Cuba",
            "El Salvador",
            "Guatemala",
            "Jamaica",
            "Mexico",
            "Panama",
            "Saint Lucia",
            "Trinidad and Tobago"
           ],
           "ids": [
            "Antigua and Barbuda",
            "Bahamas",
            "Barbados",
            "Belize",
            "Canada",
            "Costa Rica",
            "Cuba",
            "El Salvador",
            "Guatemala",
            "Jamaica",
            "Mexico",
            "Panama",
            "Saint Lucia",
            "Trinidad and Tobago"
           ],
           "legendgroup": "North America",
           "marker": {
            "color": "#FF7F0E",
            "size": [
             157,
             202,
             128,
             198,
             81,
             100,
             121,
             218,
             220,
             173,
             138,
             120,
             186,
             202
            ],
            "sizemode": "area",
            "sizeref": 0.53,
            "symbol": "circle"
           },
           "mode": "markers",
           "name": "North America",
           "orientation": "v",
           "showlegend": true,
           "type": "scatter",
           "x": [
            7,
            10.9,
            9,
            10.1,
            11,
            8,
            9.6,
            5.2,
            3.7,
            7.3,
            6.7,
            8.5,
            7,
            9.2
           ],
           "xaxis": "x",
           "y": [
            39.97,
            40.66,
            37.13,
            160.8,
            139,
            88.29,
            272.77,
            110.55,
            27.419999999999998,
            1.16,
            54.89,
            85.58,
            197.86,
            198.32
           ],
           "yaxis": "y"
          },
          {
           "hovertemplate": "<b>%{hovertext}</b><br><br>Continent=South America<br>Year=2000<br>avg_years_of_schooling=%{x}<br>suicides_per_100k=%{y}<br>Both sexes=%{marker.size}<extra></extra>",
           "hovertext": [
            "Argentina",
            "Brazil",
            "Chile",
            "Colombia",
            "Ecuador",
            "Paraguay",
            "Uruguay"
           ],
           "ids": [
            "Argentina",
            "Brazil",
            "Chile",
            "Colombia",
            "Ecuador",
            "Paraguay",
            "Uruguay"
           ],
           "legendgroup": "South America",
           "marker": {
            "color": "#2CA02C",
            "size": [
             139,
             184,
             103,
             171,
             160,
             171,
             134
            ],
            "sizemode": "area",
            "sizeref": 0.53,
            "symbol": "circle"
           },
           "mode": "markers",
           "name": "South America",
           "orientation": "v",
           "showlegend": true,
           "type": "scatter",
           "x": [
            9.1,
            5.6,
            8.8,
            6.5,
            7,
            5.9,
            8
           ],
           "xaxis": "x",
           "y": [
            131.39,
            68.23,
            149.18,
            89.78,
            57.17,
            42.78,
            274.27
           ],
           "yaxis": "y"
          },
          {
           "hovertemplate": "<b>%{hovertext}</b><br><br>Continent=Asia<br>Year=2000<br>avg_years_of_schooling=%{x}<br>suicides_per_100k=%{y}<br>Both sexes=%{marker.size}<extra></extra>",
           "hovertext": [
            "Armenia",
            "Azerbaijan",
            "Bahrain",
            "Cyprus",
            "Georgia",
            "Israel",
            "Japan",
            "Kazakhstan",
            "Kuwait",
            "Kyrgyzstan",
            "Maldives",
            "Philippines",
            "Singapore",
            "Sri Lanka",
            "Thailand",
            "Uzbekistan"
           ],
           "ids": [
            "Armenia",
            "Azerbaijan",
            "Bahrain",
            "Cyprus",
            "Georgia",
            "Israel",
            "Japan",
            "Kazakhstan",
            "Kuwait",
            "Kyrgyzstan",
            "Maldives",
            "Philippines",
            "Singapore",
            "Sri Lanka",
            "Thailand",
            "Uzbekistan"
           ],
           "legendgroup": "Asia",
           "marker": {
            "color": "#D62728",
            "size": [
             143,
             161,
             101,
             80,
             129,
             80,
             72,
             287,
             94,
             228,
             142,
             213,
             79,
             171,
             204,
             183
            ],
            "sizemode": "area",
            "sizeref": 0.53,
            "symbol": "circle"
           },
           "mode": "markers",
           "name": "Asia",
           "orientation": "v",
           "showlegend": true,
           "type": "scatter",
           "x": [
            10.8,
            10.6,
            8.3,
            10,
            11.7,
            12,
            10.7,
            10.5,
            6.2,
            9.8,
            3,
            7.6,
            8.9,
            10,
            6.1,
            9.1
           ],
           "xaxis": "x",
           "y": [
            34.300000000000004,
            14.41,
            32.730000000000004,
            8.36,
            46.64,
            108.56,
            278.52,
            426.05,
            15.23,
            182.63,
            0,
            32.21,
            164.34,
            427.29,
            106.1,
            120.31
           ],
           "yaxis": "y"
          },
          {
           "hovertemplate": "<b>%{hovertext}</b><br><br>Continent=Oceania<br>Year=2000<br>avg_years_of_schooling=%{x}<br>suicides_per_100k=%{y}<br>Both sexes=%{marker.size}<extra></extra>",
           "hovertext": [
            "Australia",
            "Kiribati",
            "New Zealand"
           ],
           "ids": [
            "Australia",
            "Kiribati",
            "New Zealand"
           ],
           "legendgroup": "Oceania",
           "marker": {
            "color": "#9467BD",
            "size": [
             77,
             222,
             86
            ],
            "sizemode": "area",
            "sizeref": 0.53,
            "symbol": "circle"
           },
           "mode": "markers",
           "name": "Oceania",
           "orientation": "v",
           "showlegend": true,
           "type": "scatter",
           "x": [
            11.9,
            6.8,
            11.6
           ],
           "xaxis": "x",
           "y": [
            157.82,
            0,
            157.54
           ],
           "yaxis": "y"
          },
          {
           "hovertemplate": "<b>%{hovertext}</b><br><br>Continent=Africa<br>Year=2000<br>avg_years_of_schooling=%{x}<br>suicides_per_100k=%{y}<br>Both sexes=%{marker.size}<extra></extra>",
           "hovertext": [
            "Mauritius",
            "South Africa"
           ],
           "ids": [
            "Mauritius",
            "South Africa"
           ],
           "legendgroup": "Africa",
           "marker": {
            "color": "#8C564B",
            "size": [
             172,
             362
            ],
            "sizemode": "area",
            "sizeref": 0.53,
            "symbol": "circle"
           },
           "mode": "markers",
           "name": "Africa",
           "orientation": "v",
           "showlegend": true,
           "type": "scatter",
           "x": [
            6.2,
            8.8
           ],
           "xaxis": "x",
           "y": [
            140.82,
            9.54
           ],
           "yaxis": "y"
          }
         ],
         "name": "2000"
        },
        {
         "data": [
          {
           "hovertemplate": "<b>%{hovertext}</b><br><br>Continent=Europe<br>Year=2001<br>avg_years_of_schooling=%{x}<br>suicides_per_100k=%{y}<br>Both sexes=%{marker.size}<extra></extra>",
           "hovertext": [
            "Albania",
            "Austria",
            "Belarus",
            "Belgium",
            "Bulgaria",
            "Croatia",
            "Denmark",
            "Estonia",
            "Finland",
            "France",
            "Germany",
            "Greece",
            "Hungary",
            "Iceland",
            "Ireland",
            "Italy",
            "Latvia",
            "Lithuania",
            "Luxembourg",
            "Malta",
            "Netherlands",
            "Norway",
            "Poland",
            "Portugal",
            "Romania",
            "Serbia",
            "Slovakia",
            "Slovenia",
            "Spain",
            "Sweden",
            "Switzerland",
            "Ukraine"
           ],
           "ids": [
            "Albania",
            "Austria",
            "Belarus",
            "Belgium",
            "Bulgaria",
            "Croatia",
            "Denmark",
            "Estonia",
            "Finland",
            "France",
            "Germany",
            "Greece",
            "Hungary",
            "Iceland",
            "Ireland",
            "Italy",
            "Latvia",
            "Lithuania",
            "Luxembourg",
            "Malta",
            "Netherlands",
            "Norway",
            "Poland",
            "Portugal",
            "Romania",
            "Serbia",
            "Slovakia",
            "Slovenia",
            "Spain",
            "Sweden",
            "Switzerland",
            "Ukraine"
           ],
           "legendgroup": "Europe",
           "marker": {
            "color": "#1F77B4",
            "size": [
             100,
             90,
             255,
             98,
             159,
             129,
             100,
             224,
             99,
             99,
             92,
             81,
             185,
             73,
             88,
             73,
             229,
             214,
             90,
             69,
             82,
             81,
             147,
             109,
             179,
             134,
             145,
             123,
             83,
             72,
             75,
             254
            ],
            "sizemode": "area",
            "sizeref": 0.53,
            "symbol": "circle"
           },
           "mode": "markers",
           "name": "Europe",
           "orientation": "v",
           "showlegend": true,
           "type": "scatter",
           "x": [
            8.7,
            9.2,
            9,
            10.2,
            9.9,
            9.8,
            11.4,
            11.8,
            9.4,
            10,
            11.7,
            8.8,
            10.3,
            9.6,
            11,
            8.7,
            10,
            10.9,
            10.5,
            8.2,
            11,
            12.1,
            11.1,
            6.9,
            9.7,
            9.6,
            10.1,
            11.5,
            8.5,
            11.5,
            11.6,
            10.4
           ],
           "xaxis": "x",
           "y": [
            50.620000000000005,
            261.91,
            419.65,
            261.21999999999997,
            244.62,
            287.54,
            186.17,
            371.68,
            267.19,
            239.94,
            185.78,
            38.81,
            408.98,
            163.06,
            148.97,
            95.87,
            383.49,
            568.98,
            239.82,
            85.28999999999999,
            116.3,
            154.29,
            180.65,
            115.73,
            149.10999999999999,
            297,
            171.88,
            423.4,
            112.4,
            167.49,
            261.69,
            348.14
           ],
           "yaxis": "y"
          },
          {
           "hovertemplate": "<b>%{hovertext}</b><br><br>Continent=North America<br>Year=2001<br>avg_years_of_schooling=%{x}<br>suicides_per_100k=%{y}<br>Both sexes=%{marker.size}<extra></extra>",
           "hovertext": [
            "Antigua and Barbuda",
            "Bahamas",
            "Barbados",
            "Belize",
            "Canada",
            "Costa Rica",
            "Cuba",
            "El Salvador",
            "Guatemala",
            "Jamaica",
            "Mexico",
            "Panama",
            "Saint Lucia",
            "Trinidad and Tobago"
           ],
           "ids": [
            "Antigua and Barbuda",
            "Bahamas",
            "Barbados",
            "Belize",
            "Canada",
            "Costa Rica",
            "Cuba",
            "El Salvador",
            "Guatemala",
            "Jamaica",
            "Mexico",
            "Panama",
            "Saint Lucia",
            "Trinidad and Tobago"
           ],
           "legendgroup": "North America",
           "marker": {
            "color": "#FF7F0E",
            "size": [
             154,
             204,
             127,
             203,
             79,
             101,
             119,
             222,
             214,
             175,
             135,
             120,
             181,
             204
            ],
            "sizemode": "area",
            "sizeref": 0.53,
            "symbol": "circle"
           },
           "mode": "markers",
           "name": "North America",
           "orientation": "v",
           "showlegend": true,
           "type": "scatter",
           "x": [
            8.9,
            10.9,
            9,
            10.1,
            11.2,
            8,
            9.7,
            5.3,
            3.8,
            7.5,
            6.8,
            8.6,
            7.1,
            9.3
           ],
           "xaxis": "x",
           "y": [
            19.45,
            2.68,
            8.65,
            151.7,
            137.43,
            76.03,
            244.51,
            129.71,
            30.59,
            2.8,
            63.3,
            86.77,
            59.08,
            205.33
           ],
           "yaxis": "y"
          },
          {
           "hovertemplate": "<b>%{hovertext}</b><br><br>Continent=South America<br>Year=2001<br>avg_years_of_schooling=%{x}<br>suicides_per_100k=%{y}<br>Both sexes=%{marker.size}<extra></extra>",
           "hovertext": [
            "Argentina",
            "Brazil",
            "Chile",
            "Colombia",
            "Ecuador",
            "Guyana",
            "Paraguay",
            "Uruguay"
           ],
           "ids": [
            "Argentina",
            "Brazil",
            "Chile",
            "Colombia",
            "Ecuador",
            "Guyana",
            "Paraguay",
            "Uruguay"
           ],
           "legendgroup": "South America",
           "marker": {
            "color": "#2CA02C",
            "size": [
             138,
             180,
             106,
             170,
             154,
             273,
             169,
             127
            ],
            "sizemode": "area",
            "sizeref": 0.53,
            "symbol": "circle"
           },
           "mode": "markers",
           "name": "South America",
           "orientation": "v",
           "showlegend": true,
           "type": "scatter",
           "x": [
            9.1,
            5.8,
            9,
            6.5,
            7,
            7.8,
            6.2,
            8
           ],
           "xaxis": "x",
           "y": [
            143.56,
            73.49,
            147.58,
            88.27,
            67.24,
            380.76,
            56.52,
            236.12
           ],
           "yaxis": "y"
          },
          {
           "hovertemplate": "<b>%{hovertext}</b><br><br>Continent=Asia<br>Year=2001<br>avg_years_of_schooling=%{x}<br>suicides_per_100k=%{y}<br>Both sexes=%{marker.size}<extra></extra>",
           "hovertext": [
            "Armenia",
            "Azerbaijan",
            "Bahrain",
            "Georgia",
            "Israel",
            "Japan",
            "Kazakhstan",
            "Kuwait",
            "Kyrgyzstan",
            "Maldives",
            "Philippines",
            "Qatar",
            "Singapore",
            "Sri Lanka",
            "Uzbekistan"
           ],
           "ids": [
            "Armenia",
            "Azerbaijan",
            "Bahrain",
            "Georgia",
            "Israel",
            "Japan",
            "Kazakhstan",
            "Kuwait",
            "Kyrgyzstan",
            "Maldives",
            "Philippines",
            "Qatar",
            "Singapore",
            "Sri Lanka",
            "Uzbekistan"
           ],
           "legendgroup": "Asia",
           "marker": {
            "color": "#D62728",
            "size": [
             143,
             149,
             98,
             125,
             79,
             70,
             283,
             92,
             219,
             135,
             215,
             73,
             77,
             158,
             177
            ],
            "sizemode": "area",
            "sizeref": 0.53,
            "symbol": "circle"
           },
           "mode": "markers",
           "name": "Asia",
           "orientation": "v",
           "showlegend": true,
           "type": "scatter",
           "x": [
            10.7,
            10.6,
            8.4,
            11.8,
            12.1,
            10.8,
            10.7,
            6.2,
            9.9,
            3.1,
            7.7,
            8,
            9.2,
            10.2,
            9.2
           ],
           "xaxis": "x",
           "y": [
            29.78,
            60.05,
            30.66,
            35.19,
            108.23,
            267.16,
            422.49,
            9.13,
            193.29999999999998,
            110.49,
            27.08,
            27.3,
            167.8,
            358.06,
            115.92
           ],
           "yaxis": "y"
          },
          {
           "hovertemplate": "<b>%{hovertext}</b><br><br>Continent=Oceania<br>Year=2001<br>avg_years_of_schooling=%{x}<br>suicides_per_100k=%{y}<br>Both sexes=%{marker.size}<extra></extra>",
           "hovertext": [
            "Australia",
            "Fiji",
            "Kiribati",
            "New Zealand"
           ],
           "ids": [
            "Australia",
            "Fiji",
            "Kiribati",
            "New Zealand"
           ],
           "legendgroup": "Oceania",
           "marker": {
            "color": "#9467BD",
            "size": [
             74,
             221,
             219,
             83
            ],
            "sizemode": "area",
            "sizeref": 0.53,
            "symbol": "circle"
           },
           "mode": "markers",
           "name": "Oceania",
           "orientation": "v",
           "showlegend": true,
           "type": "scatter",
           "x": [
            11.9,
            9.5,
            6.9,
            11.6
           ],
           "xaxis": "x",
           "y": [
            158.79,
            54.95,
            0,
            179.9
           ],
           "yaxis": "y"
          },
          {
           "hovertemplate": "<b>%{hovertext}</b><br><br>Continent=Africa<br>Year=2001<br>avg_years_of_schooling=%{x}<br>suicides_per_100k=%{y}<br>Both sexes=%{marker.size}<extra></extra>",
           "hovertext": [
            "Mauritius",
            "Seychelles",
            "South Africa"
           ],
           "ids": [
            "Mauritius",
            "Seychelles",
            "South Africa"
           ],
           "legendgroup": "Africa",
           "marker": {
            "color": "#8C564B",
            "size": [
             172,
             187,
             387
            ],
            "sizemode": "area",
            "sizeref": 0.53,
            "symbol": "circle"
           },
           "mode": "markers",
           "name": "Africa",
           "orientation": "v",
           "showlegend": true,
           "type": "scatter",
           "x": [
            6.4,
            7.5,
            7.5
           ],
           "xaxis": "x",
           "y": [
            121.83999999999999,
            87.57,
            12.43
           ],
           "yaxis": "y"
          }
         ],
         "name": "2001"
        },
        {
         "data": [
          {
           "hovertemplate": "<b>%{hovertext}</b><br><br>Continent=Europe<br>Year=2002<br>avg_years_of_schooling=%{x}<br>suicides_per_100k=%{y}<br>Both sexes=%{marker.size}<extra></extra>",
           "hovertext": [
            "Albania",
            "Austria",
            "Belarus",
            "Belgium",
            "Bulgaria",
            "Croatia",
            "Denmark",
            "Estonia",
            "Finland",
            "France",
            "Germany",
            "Greece",
            "Hungary",
            "Iceland",
            "Ireland",
            "Italy",
            "Latvia",
            "Lithuania",
            "Luxembourg",
            "Malta",
            "Netherlands",
            "Norway",
            "Poland",
            "Portugal",
            "Romania",
            "Serbia",
            "Slovakia",
            "Slovenia",
            "Spain",
            "Sweden",
            "Switzerland",
            "Ukraine"
           ],
           "ids": [
            "Albania",
            "Austria",
            "Belarus",
            "Belgium",
            "Bulgaria",
            "Croatia",
            "Denmark",
            "Estonia",
            "Finland",
            "France",
            "Germany",
            "Greece",
            "Hungary",
            "Iceland",
            "Ireland",
            "Italy",
            "Latvia",
            "Lithuania",
            "Luxembourg",
            "Malta",
            "Netherlands",
            "Norway",
            "Poland",
            "Portugal",
            "Romania",
            "Serbia",
            "Slovakia",
            "Slovenia",
            "Spain",
            "Sweden",
            "Switzerland",
            "Ukraine"
           ],
           "legendgroup": "Europe",
           "marker": {
            "color": "#1F77B4",
            "size": [
             102,
             87,
             264,
             97,
             156,
             124,
             101,
             210,
             97,
             98,
             91,
             79,
             184,
             66,
             86,
             71,
             221,
             207,
             87,
             68,
             81,
             80,
             143,
             107,
             178,
             131,
             144,
             117,
             82,
             70,
             73,
             257
            ],
            "sizemode": "area",
            "sizeref": 0.53,
            "symbol": "circle"
           },
           "mode": "markers",
           "name": "Europe",
           "orientation": "v",
           "showlegend": true,
           "type": "scatter",
           "x": [
            9,
            9.4,
            9.1,
            10.3,
            10,
            9.8,
            12.1,
            11.9,
            9.5,
            10.1,
            12.1,
            9.1,
            10.3,
            9.7,
            11.2,
            8.8,
            10.6,
            11.1,
            10.7,
            8.3,
            11.1,
            12.1,
            11.4,
            7,
            9.6,
            9.7,
            10.3,
            11.5,
            8.5,
            11.6,
            11.7,
            10.5
           ],
           "xaxis": "x",
           "y": [
            62.51,
            276.92,
            411,
            247.85999999999999,
            247.35,
            304.12,
            176.51,
            358.3,
            255.51999999999998,
            238.64000000000001,
            183.96,
            38.35,
            382.75,
            131.24,
            135.82,
            94.61,
            367.76,
            555.62,
            264.14,
            55.28,
            119.73,
            141,
            183.27,
            171.82999999999998,
            173.6,
            295.91,
            191.77,
            354.3,
            115.64,
            162.71,
            273.7,
            344.05
           ],
           "yaxis": "y"
          },
          {
           "hovertemplate": "<b>%{hovertext}</b><br><br>Continent=North America<br>Year=2002<br>avg_years_of_schooling=%{x}<br>suicides_per_100k=%{y}<br>Both sexes=%{marker.size}<extra></extra>",
           "hovertext": [
            "Antigua and Barbuda",
            "Bahamas",
            "Barbados",
            "Belize",
            "Canada",
            "Costa Rica",
            "Cuba",
            "El Salvador",
            "Grenada",
            "Guatemala",
            "Jamaica",
            "Mexico",
            "Panama",
            "Saint Lucia",
            "Trinidad and Tobago"
           ],
           "ids": [
            "Antigua and Barbuda",
            "Bahamas",
            "Barbados",
            "Belize",
            "Canada",
            "Costa Rica",
            "Cuba",
            "El Salvador",
            "Grenada",
            "Guatemala",
            "Jamaica",
            "Mexico",
            "Panama",
            "Saint Lucia",
            "Trinidad and Tobago"
           ],
           "legendgroup": "North America",
           "marker": {
            "color": "#FF7F0E",
            "size": [
             149,
             206,
             126,
             200,
             78,
             100,
             112,
             213,
             175,
             206,
             171,
             136,
             120,
             176,
             195
            ],
            "sizemode": "area",
            "sizeref": 0.53,
            "symbol": "circle"
           },
           "mode": "markers",
           "name": "North America",
           "orientation": "v",
           "showlegend": true,
           "type": "scatter",
           "x": [
            9,
            10.9,
            9.1,
            10.2,
            11.5,
            8,
            9.5,
            5.5,
            7.4,
            3.8,
            7.7,
            7,
            8.7,
            7.2,
            9.4
           ],
           "xaxis": "x",
           "y": [
            0,
            9.969999999999999,
            0,
            69.62,
            137.73,
            95.62,
            240.42000000000002,
            113.19,
            0,
            40.53,
            0.7,
            58.36,
            78.94,
            187.51999999999998,
            159.01
           ],
           "yaxis": "y"
          },
          {
           "hovertemplate": "<b>%{hovertext}</b><br><br>Continent=South America<br>Year=2002<br>avg_years_of_schooling=%{x}<br>suicides_per_100k=%{y}<br>Both sexes=%{marker.size}<extra></extra>",
           "hovertext": [
            "Argentina",
            "Brazil",
            "Chile",
            "Colombia",
            "Ecuador",
            "Guyana",
            "Paraguay",
            "Uruguay"
           ],
           "ids": [
            "Argentina",
            "Brazil",
            "Chile",
            "Colombia",
            "Ecuador",
            "Guyana",
            "Paraguay",
            "Uruguay"
           ],
           "legendgroup": "South America",
           "marker": {
            "color": "#2CA02C",
            "size": [
             137,
             176,
             100,
             169,
             153,
             280,
             167,
             129
            ],
            "sizemode": "area",
            "sizeref": 0.53,
            "symbol": "circle"
           },
           "mode": "markers",
           "name": "South America",
           "orientation": "v",
           "showlegend": true,
           "type": "scatter",
           "x": [
            9.2,
            6,
            9.2,
            6.5,
            7.1,
            7.8,
            6.5,
            8
           ],
           "xaxis": "x",
           "y": [
            139.42000000000002,
            69.77,
            149.28,
            81.38,
            61.42,
            311.93,
            43.45,
            331.69
           ],
           "yaxis": "y"
          },
          {
           "hovertemplate": "<b>%{hovertext}</b><br><br>Continent=Asia<br>Year=2002<br>avg_years_of_schooling=%{x}<br>suicides_per_100k=%{y}<br>Both sexes=%{marker.size}<extra></extra>",
           "hovertext": [
            "Armenia",
            "Azerbaijan",
            "Bahrain",
            "Israel",
            "Japan",
            "Kazakhstan",
            "Kuwait",
            "Kyrgyzstan",
            "Maldives",
            "Philippines",
            "Singapore",
            "Sri Lanka",
            "Thailand",
            "Uzbekistan"
           ],
           "ids": [
            "Armenia",
            "Azerbaijan",
            "Bahrain",
            "Israel",
            "Japan",
            "Kazakhstan",
            "Kuwait",
            "Kyrgyzstan",
            "Maldives",
            "Philippines",
            "Singapore",
            "Sri Lanka",
            "Thailand",
            "Uzbekistan"
           ],
           "legendgroup": "Asia",
           "marker": {
            "color": "#D62728",
            "size": [
             137,
             144,
             99,
             81,
             68,
             276,
             91,
             217,
             128,
             216,
             76,
             150,
             197,
             176
            ],
            "sizemode": "area",
            "sizeref": 0.53,
            "symbol": "circle"
           },
           "mode": "markers",
           "name": "Asia",
           "orientation": "v",
           "showlegend": true,
           "type": "scatter",
           "x": [
            10.8,
            10.6,
            8.4,
            12.1,
            10.9,
            11,
            6.1,
            10,
            3.2,
            7.9,
            9.5,
            10.2,
            6.5,
            9.4
           ],
           "xaxis": "x",
           "y": [
            38.07,
            19.419999999999998,
            27.68,
            93.49,
            265.84,
            405.89,
            14.56,
            173.11,
            9.84,
            28.54,
            172.39,
            339.41,
            103.12,
            95.28
           ],
           "yaxis": "y"
          },
          {
           "hovertemplate": "<b>%{hovertext}</b><br><br>Continent=Oceania<br>Year=2002<br>avg_years_of_schooling=%{x}<br>suicides_per_100k=%{y}<br>Both sexes=%{marker.size}<extra></extra>",
           "hovertext": [
            "Australia",
            "Fiji",
            "New Zealand"
           ],
           "ids": [
            "Australia",
            "Fiji",
            "New Zealand"
           ],
           "legendgroup": "Oceania",
           "marker": {
            "color": "#9467BD",
            "size": [
             72,
             220,
             82
            ],
            "sizemode": "area",
            "sizeref": 0.53,
            "symbol": "circle"
           },
           "mode": "markers",
           "name": "Oceania",
           "orientation": "v",
           "showlegend": true,
           "type": "scatter",
           "x": [
            11.8,
            9.4,
            11.6
           ],
           "xaxis": "x",
           "y": [
            144.68,
            110.54,
            152.03
           ],
           "yaxis": "y"
          },
          {
           "hovertemplate": "<b>%{hovertext}</b><br><br>Continent=Africa<br>Year=2002<br>avg_years_of_schooling=%{x}<br>suicides_per_100k=%{y}<br>Both sexes=%{marker.size}<extra></extra>",
           "hovertext": [
            "Mauritius",
            "Seychelles",
            "South Africa"
           ],
           "ids": [
            "Mauritius",
            "Seychelles",
            "South Africa"
           ],
           "legendgroup": "Africa",
           "marker": {
            "color": "#8C564B",
            "size": [
             173,
             185,
             412
            ],
            "sizemode": "area",
            "sizeref": 0.53,
            "symbol": "circle"
           },
           "mode": "markers",
           "name": "Africa",
           "orientation": "v",
           "showlegend": true,
           "type": "scatter",
           "x": [
            6.6,
            7.6,
            8.5
           ],
           "xaxis": "x",
           "y": [
            131.9,
            154.12,
            6.9799999999999995
           ],
           "yaxis": "y"
          }
         ],
         "name": "2002"
        },
        {
         "data": [
          {
           "hovertemplate": "<b>%{hovertext}</b><br><br>Continent=Europe<br>Year=2003<br>avg_years_of_schooling=%{x}<br>suicides_per_100k=%{y}<br>Both sexes=%{marker.size}<extra></extra>",
           "hovertext": [
            "Albania",
            "Austria",
            "Belarus",
            "Belgium",
            "Bulgaria",
            "Croatia",
            "Denmark",
            "Estonia",
            "Finland",
            "France",
            "Germany",
            "Greece",
            "Hungary",
            "Iceland",
            "Ireland",
            "Italy",
            "Latvia",
            "Lithuania",
            "Luxembourg",
            "Malta",
            "Montenegro",
            "Netherlands",
            "Norway",
            "Poland",
            "Portugal",
            "Romania",
            "Serbia",
            "Slovakia",
            "Slovenia",
            "Spain",
            "Sweden",
            "Switzerland",
            "Ukraine"
           ],
           "ids": [
            "Albania",
            "Austria",
            "Belarus",
            "Belgium",
            "Bulgaria",
            "Croatia",
            "Denmark",
            "Estonia",
            "Finland",
            "France",
            "Germany",
            "Greece",
            "Hungary",
            "Iceland",
            "Ireland",
            "Italy",
            "Latvia",
            "Lithuania",
            "Luxembourg",
            "Malta",
            "Montenegro",
            "Netherlands",
            "Norway",
            "Poland",
            "Portugal",
            "Romania",
            "Serbia",
            "Slovakia",
            "Slovenia",
            "Spain",
            "Sweden",
            "Switzerland",
            "Ukraine"
           ],
           "legendgroup": "Europe",
           "marker": {
            "color": "#1F77B4",
            "size": [
             107,
             86,
             254,
             94,
             154,
             121,
             98,
             197,
             97,
             97,
             89,
             80,
             184,
             63,
             80,
             70,
             212,
             207,
             85,
             66,
             132,
             80,
             77,
             140,
             104,
             174,
             131,
             143,
             119,
             82,
             68,
             71,
             258
            ],
            "sizemode": "area",
            "sizeref": 0.53,
            "symbol": "circle"
           },
           "mode": "markers",
           "name": "Europe",
           "orientation": "v",
           "showlegend": true,
           "type": "scatter",
           "x": [
            9,
            9.6,
            9.1,
            10.4,
            10.1,
            9.8,
            12.8,
            11.9,
            9.6,
            10.2,
            12.5,
            9.3,
            10.5,
            9.8,
            11.4,
            8.9,
            11.2,
            11.3,
            10.9,
            8.5,
            10.3,
            11.3,
            12.2,
            11.5,
            7.2,
            9.7,
            9.9,
            10.4,
            11.5,
            8.6,
            11.8,
            11.8,
            10.6
           ],
           "xaxis": "x",
           "y": [
            58.6,
            257.06,
            444.86,
            248.73,
            207.65,
            281.69,
            156.7,
            338.24,
            243.45000000000002,
            241.31,
            181.24,
            40.67,
            372.04,
            100.97,
            134.77,
            94.42,
            361.63,
            530.52,
            164.37,
            74.94,
            0,
            113.33,
            138.07999999999998,
            180.15,
            166.46,
            159.71,
            271.27,
            169.16,
            376.56,
            116.49,
            153.41,
            242.66,
            337.07
           ],
           "yaxis": "y"
          },
          {
           "hovertemplate": "<b>%{hovertext}</b><br><br>Continent=North America<br>Year=2003<br>avg_years_of_schooling=%{x}<br>suicides_per_100k=%{y}<br>Both sexes=%{marker.size}<extra></extra>",
           "hovertext": [
            "Antigua and Barbuda",
            "Bahamas",
            "Barbados",
            "Belize",
            "Canada",
            "Costa Rica",
            "Cuba",
            "El Salvador",
            "Grenada",
            "Guatemala",
            "Jamaica",
            "Mexico",
            "Panama",
            "Saint Lucia",
            "Trinidad and Tobago"
           ],
           "ids": [
            "Antigua and Barbuda",
            "Bahamas",
            "Barbados",
            "Belize",
            "Canada",
            "Costa Rica",
            "Cuba",
            "El Salvador",
            "Grenada",
            "Guatemala",
            "Jamaica",
            "Mexico",
            "Panama",
            "Saint Lucia",
            "Trinidad and Tobago"
           ],
           "legendgroup": "North America",
           "marker": {
            "color": "#FF7F0E",
            "size": [
             151,
             203,
             123,
             199,
             77,
             101,
             112,
             211,
             175,
             209,
             170,
             136,
             120,
             169,
             199
            ],
            "sizemode": "area",
            "sizeref": 0.53,
            "symbol": "circle"
           },
           "mode": "markers",
           "name": "North America",
           "orientation": "v",
           "showlegend": true,
           "type": "scatter",
           "x": [
            9,
            10.9,
            9.1,
            10.2,
            11.7,
            7.9,
            9.8,
            5.7,
            7.6,
            3.7,
            7.8,
            7.1,
            8.8,
            7.3,
            9.5
           ],
           "xaxis": "x",
           "y": [
            27.82,
            2.49,
            0,
            59,
            137.27,
            115.88,
            221.12,
            128.92,
            69.18,
            37.34,
            0.9099999999999999,
            63,
            97.24,
            133.26,
            158.25
           ],
           "yaxis": "y"
          },
          {
           "hovertemplate": "<b>%{hovertext}</b><br><br>Continent=South America<br>Year=2003<br>avg_years_of_schooling=%{x}<br>suicides_per_100k=%{y}<br>Both sexes=%{marker.size}<extra></extra>",
           "hovertext": [
            "Argentina",
            "Brazil",
            "Chile",
            "Colombia",
            "Ecuador",
            "Guyana",
            "Paraguay",
            "Uruguay"
           ],
           "ids": [
            "Argentina",
            "Brazil",
            "Chile",
            "Colombia",
            "Ecuador",
            "Guyana",
            "Paraguay",
            "Uruguay"
           ],
           "legendgroup": "South America",
           "marker": {
            "color": "#2CA02C",
            "size": [
             134,
             172,
             100,
             155,
             146,
             277,
             166,
             125
            ],
            "sizemode": "area",
            "sizeref": 0.53,
            "symbol": "circle"
           },
           "mode": "markers",
           "name": "South America",
           "orientation": "v",
           "showlegend": true,
           "type": "scatter",
           "x": [
            9.3,
            6.2,
            9.4,
            6.5,
            7.1,
            7.8,
            7,
            8
           ],
           "xaxis": "x",
           "y": [
            146.29,
            68.07,
            153.54,
            79.85,
            70.56,
            382.54,
            51.35,
            259.25
           ],
           "yaxis": "y"
          },
          {
           "hovertemplate": "<b>%{hovertext}</b><br><br>Continent=Asia<br>Year=2003<br>avg_years_of_schooling=%{x}<br>suicides_per_100k=%{y}<br>Both sexes=%{marker.size}<extra></extra>",
           "hovertext": [
            "Armenia",
            "Azerbaijan",
            "Bahrain",
            "Israel",
            "Japan",
            "Kazakhstan",
            "Kuwait",
            "Kyrgyzstan",
            "Maldives",
            "Philippines",
            "Singapore",
            "Sri Lanka",
            "Thailand",
            "Uzbekistan"
           ],
           "ids": [
            "Armenia",
            "Azerbaijan",
            "Bahrain",
            "Israel",
            "Japan",
            "Kazakhstan",
            "Kuwait",
            "Kyrgyzstan",
            "Maldives",
            "Philippines",
            "Singapore",
            "Sri Lanka",
            "Thailand",
            "Uzbekistan"
           ],
           "legendgroup": "Asia",
           "marker": {
            "color": "#D62728",
            "size": [
             137,
             151,
             92,
             76,
             68,
             283,
             90,
             217,
             114,
             212,
             73,
             147,
             194,
             173
            ],
            "sizemode": "area",
            "sizeref": 0.53,
            "symbol": "circle"
           },
           "mode": "markers",
           "name": "Asia",
           "orientation": "v",
           "showlegend": true,
           "type": "scatter",
           "x": [
            10.8,
            10.6,
            8.4,
            12.2,
            11,
            11.2,
            6.1,
            10,
            3.3,
            8,
            9.8,
            10.2,
            6.7,
            9.5
           ],
           "xaxis": "x",
           "y": [
            33.43,
            27.07,
            32.39,
            97.17,
            279.40999999999997,
            411.71,
            16.44,
            137.86,
            15.52,
            33.41,
            172.74,
            352.75,
            91.16,
            82.06
           ],
           "yaxis": "y"
          },
          {
           "hovertemplate": "<b>%{hovertext}</b><br><br>Continent=Oceania<br>Year=2003<br>avg_years_of_schooling=%{x}<br>suicides_per_100k=%{y}<br>Both sexes=%{marker.size}<extra></extra>",
           "hovertext": [
            "Australia",
            "Fiji",
            "New Zealand"
           ],
           "ids": [
            "Australia",
            "Fiji",
            "New Zealand"
           ],
           "legendgroup": "Oceania",
           "marker": {
            "color": "#9467BD",
            "size": [
             69,
             220,
             81
            ],
            "sizemode": "area",
            "sizeref": 0.53,
            "symbol": "circle"
           },
           "mode": "markers",
           "name": "Oceania",
           "orientation": "v",
           "showlegend": true,
           "type": "scatter",
           "x": [
            11.8,
            9.3,
            11.6
           ],
           "xaxis": "x",
           "y": [
            133.84,
            16.12,
            172.35
           ],
           "yaxis": "y"
          },
          {
           "hovertemplate": "<b>%{hovertext}</b><br><br>Continent=Africa<br>Year=2003<br>avg_years_of_schooling=%{x}<br>suicides_per_100k=%{y}<br>Both sexes=%{marker.size}<extra></extra>",
           "hovertext": [
            "Mauritius",
            "Seychelles",
            "South Africa"
           ],
           "ids": [
            "Mauritius",
            "Seychelles",
            "South Africa"
           ],
           "legendgroup": "Africa",
           "marker": {
            "color": "#8C564B",
            "size": [
             168,
             185,
             437
            ],
            "sizemode": "area",
            "sizeref": 0.53,
            "symbol": "circle"
           },
           "mode": "markers",
           "name": "Africa",
           "orientation": "v",
           "showlegend": true,
           "type": "scatter",
           "x": [
            6.8,
            7.6,
            8.8
           ],
           "xaxis": "x",
           "y": [
            94.02,
            100,
            9.24
           ],
           "yaxis": "y"
          }
         ],
         "name": "2003"
        },
        {
         "data": [
          {
           "hovertemplate": "<b>%{hovertext}</b><br><br>Continent=Europe<br>Year=2004<br>avg_years_of_schooling=%{x}<br>suicides_per_100k=%{y}<br>Both sexes=%{marker.size}<extra></extra>",
           "hovertext": [
            "Albania",
            "Austria",
            "Belgium",
            "Bulgaria",
            "Croatia",
            "Denmark",
            "Estonia",
            "Finland",
            "France",
            "Germany",
            "Greece",
            "Hungary",
            "Iceland",
            "Ireland",
            "Italy",
            "Latvia",
            "Lithuania",
            "Luxembourg",
            "Malta",
            "Montenegro",
            "Netherlands",
            "Norway",
            "Poland",
            "Romania",
            "Serbia",
            "Slovakia",
            "Slovenia",
            "Spain",
            "Sweden",
            "Switzerland",
            "Ukraine"
           ],
           "ids": [
            "Albania",
            "Austria",
            "Belgium",
            "Bulgaria",
            "Croatia",
            "Denmark",
            "Estonia",
            "Finland",
            "France",
            "Germany",
            "Greece",
            "Hungary",
            "Iceland",
            "Ireland",
            "Italy",
            "Latvia",
            "Lithuania",
            "Luxembourg",
            "Malta",
            "Montenegro",
            "Netherlands",
            "Norway",
            "Poland",
            "Romania",
            "Serbia",
            "Slovakia",
            "Slovenia",
            "Spain",
            "Sweden",
            "Switzerland",
            "Ukraine"
           ],
           "legendgroup": "Europe",
           "marker": {
            "color": "#1F77B4",
            "size": [
             101,
             84,
             89,
             154,
             113,
             95,
             193,
             101,
             92,
             85,
             80,
             180,
             61,
             79,
             66,
             209,
             209,
             79,
             64,
             131,
             76,
             76,
             142,
             166,
             129,
             137,
             113,
             79,
             70,
             68,
             269
            ],
            "sizemode": "area",
            "sizeref": 0.53,
            "symbol": "circle"
           },
           "mode": "markers",
           "name": "Europe",
           "orientation": "v",
           "showlegend": true,
           "type": "scatter",
           "x": [
            9.1,
            9.8,
            10.5,
            10.1,
            9.7,
            12.8,
            12,
            11.9,
            10.3,
            12.9,
            9.6,
            10.6,
            9.9,
            11.6,
            9.1,
            11.7,
            11.5,
            11.1,
            8.6,
            10.4,
            11.5,
            12.7,
            11.6,
            9.9,
            10,
            10.6,
            12,
            8.6,
            12.3,
            11.9,
            10.7
           ],
           "xaxis": "x",
           "y": [
            65.39,
            254.04,
            231.06,
            184.12,
            302.24,
            161.78,
            299.46,
            243.95000000000002,
            232.51000000000002,
            172.23,
            40.92,
            369.46999999999997,
            168.81,
            129.42000000000002,
            91.33,
            328.38,
            503.37,
            189.54,
            85.82000000000001,
            0,
            111.16,
            141.37,
            187.74,
            151.19,
            262.51,
            150.9,
            298.48,
            112.63000000000001,
            157.41,
            242.27,
            307.05
           ],
           "yaxis": "y"
          },
          {
           "hovertemplate": "<b>%{hovertext}</b><br><br>Continent=North America<br>Year=2004<br>avg_years_of_schooling=%{x}<br>suicides_per_100k=%{y}<br>Both sexes=%{marker.size}<extra></extra>",
           "hovertext": [
            "Antigua and Barbuda",
            "Bahamas",
            "Barbados",
            "Belize",
            "Canada",
            "Costa Rica",
            "Cuba",
            "El Salvador",
            "Grenada",
            "Guatemala",
            "Jamaica",
            "Mexico",
            "Panama",
            "Saint Lucia",
            "Trinidad and Tobago"
           ],
           "ids": [
            "Antigua and Barbuda",
            "Bahamas",
            "Barbados",
            "Belize",
            "Canada",
            "Costa Rica",
            "Cuba",
            "El Salvador",
            "Grenada",
            "Guatemala",
            "Jamaica",
            "Mexico",
            "Panama",
            "Saint Lucia",
            "Trinidad and Tobago"
           ],
           "legendgroup": "North America",
           "marker": {
            "color": "#FF7F0E",
            "size": [
             153,
             187,
             116,
             195,
             76,
             102,
             109,
             209,
             186,
             206,
             168,
             132,
             117,
             162,
             196
            ],
            "sizemode": "area",
            "sizeref": 0.53,
            "symbol": "circle"
           },
           "mode": "markers",
           "name": "North America",
           "orientation": "v",
           "showlegend": true,
           "type": "scatter",
           "x": [
            9.1,
            10.9,
            9.2,
            10.3,
            12,
            7.9,
            9.8,
            5.8,
            7.7,
            3.6,
            8,
            7.4,
            8.9,
            7.4,
            9.8
           ],
           "xaxis": "x",
           "y": [
            36.06,
            5.93,
            7.79,
            117.38,
            131.66,
            100.72,
            216.12,
            111.56,
            13.37,
            29.93,
            0.74,
            60.75,
            81.76,
            66.17,
            188.28
           ],
           "yaxis": "y"
          },
          {
           "hovertemplate": "<b>%{hovertext}</b><br><br>Continent=South America<br>Year=2004<br>avg_years_of_schooling=%{x}<br>suicides_per_100k=%{y}<br>Both sexes=%{marker.size}<extra></extra>",
           "hovertext": [
            "Argentina",
            "Brazil",
            "Chile",
            "Colombia",
            "Ecuador",
            "Guyana",
            "Paraguay",
            "Suriname",
            "Uruguay"
           ],
           "ids": [
            "Argentina",
            "Brazil",
            "Chile",
            "Colombia",
            "Ecuador",
            "Guyana",
            "Paraguay",
            "Suriname",
            "Uruguay"
           ],
           "legendgroup": "South America",
           "marker": {
            "color": "#2CA02C",
            "size": [
             128,
             169,
             98,
             152,
             145,
             270,
             165,
             216,
             125
            ],
            "sizemode": "area",
            "sizeref": 0.53,
            "symbol": "circle"
           },
           "mode": "markers",
           "name": "South America",
           "orientation": "v",
           "showlegend": true,
           "type": "scatter",
           "x": [
            9.2,
            6.2,
            9.6,
            6.6,
            7.2,
            7.9,
            7.1,
            7.7,
            8
           ],
           "xaxis": "x",
           "y": [
            131.06,
            70.22,
            155.69,
            84.25,
            84.39,
            400,
            65.44,
            202.1,
            258.49
           ],
           "yaxis": "y"
          },
          {
           "hovertemplate": "<b>%{hovertext}</b><br><br>Continent=Asia<br>Year=2004<br>avg_years_of_schooling=%{x}<br>suicides_per_100k=%{y}<br>Both sexes=%{marker.size}<extra></extra>",
           "hovertext": [
            "Azerbaijan",
            "Bahrain",
            "Cyprus",
            "Georgia",
            "Israel",
            "Japan",
            "Kazakhstan",
            "Kuwait",
            "Kyrgyzstan",
            "Maldives",
            "Qatar",
            "Singapore",
            "Thailand",
            "Uzbekistan"
           ],
           "ids": [
            "Azerbaijan",
            "Bahrain",
            "Cyprus",
            "Georgia",
            "Israel",
            "Japan",
            "Kazakhstan",
            "Kuwait",
            "Kyrgyzstan",
            "Maldives",
            "Qatar",
            "Singapore",
            "Thailand",
            "Uzbekistan"
           ],
           "legendgroup": "Asia",
           "marker": {
            "color": "#D62728",
            "size": [
             151,
             94,
             74,
             148,
             73,
             67,
             289,
             89,
             217,
             118,
             69,
             73,
             194,
             174
            ],
            "sizemode": "area",
            "sizeref": 0.53,
            "symbol": "circle"
           },
           "mode": "markers",
           "name": "Asia",
           "orientation": "v",
           "showlegend": true,
           "type": "scatter",
           "x": [
            10.6,
            8.4,
            10.5,
            12,
            12.2,
            11.1,
            11.5,
            6.1,
            10.1,
            3.4,
            8.4,
            10.2,
            6.8,
            9.7
           ],
           "xaxis": "x",
           "y": [
            18.33,
            54.21,
            9.17,
            66.54,
            98.44,
            266.25,
            413.86,
            17.26,
            141.33,
            3.74,
            15.25,
            167.48,
            86.06,
            68.03999999999999
           ],
           "yaxis": "y"
          },
          {
           "hovertemplate": "<b>%{hovertext}</b><br><br>Continent=Oceania<br>Year=2004<br>avg_years_of_schooling=%{x}<br>suicides_per_100k=%{y}<br>Both sexes=%{marker.size}<extra></extra>",
           "hovertext": [
            "Australia",
            "Fiji",
            "New Zealand"
           ],
           "ids": [
            "Australia",
            "Fiji",
            "New Zealand"
           ],
           "legendgroup": "Oceania",
           "marker": {
            "color": "#9467BD",
            "size": [
             67,
             218,
             79
            ],
            "sizemode": "area",
            "sizeref": 0.53,
            "symbol": "circle"
           },
           "mode": "markers",
           "name": "Oceania",
           "orientation": "v",
           "showlegend": true,
           "type": "scatter",
           "x": [
            11.8,
            9.3,
            11.6
           ],
           "xaxis": "x",
           "y": [
            133.76,
            90.49000000000001,
            163.41
           ],
           "yaxis": "y"
          },
          {
           "hovertemplate": "<b>%{hovertext}</b><br><br>Continent=Africa<br>Year=2004<br>avg_years_of_schooling=%{x}<br>suicides_per_100k=%{y}<br>Both sexes=%{marker.size}<extra></extra>",
           "hovertext": [
            "Mauritius",
            "Seychelles",
            "South Africa"
           ],
           "ids": [
            "Mauritius",
            "Seychelles",
            "South Africa"
           ],
           "legendgroup": "Africa",
           "marker": {
            "color": "#8C564B",
            "size": [
             164,
             186,
             459
            ],
            "sizemode": "area",
            "sizeref": 0.53,
            "symbol": "circle"
           },
           "mode": "markers",
           "name": "Africa",
           "orientation": "v",
           "showlegend": true,
           "type": "scatter",
           "x": [
            7,
            7.7,
            8.8
           ],
           "xaxis": "x",
           "y": [
            100.99,
            63.27,
            12.63
           ],
           "yaxis": "y"
          }
         ],
         "name": "2004"
        },
        {
         "data": [
          {
           "hovertemplate": "<b>%{hovertext}</b><br><br>Continent=Europe<br>Year=2005<br>avg_years_of_schooling=%{x}<br>suicides_per_100k=%{y}<br>Both sexes=%{marker.size}<extra></extra>",
           "hovertext": [
            "Albania",
            "Austria",
            "Belgium",
            "Bulgaria",
            "Croatia",
            "Denmark",
            "Estonia",
            "Finland",
            "France",
            "Germany",
            "Greece",
            "Hungary",
            "Iceland",
            "Ireland",
            "Italy",
            "Latvia",
            "Lithuania",
            "Luxembourg",
            "Malta",
            "Montenegro",
            "Netherlands",
            "Norway",
            "Poland",
            "Romania",
            "Serbia",
            "Slovakia",
            "Slovenia",
            "Spain",
            "Sweden",
            "Switzerland",
            "Ukraine"
           ],
           "ids": [
            "Albania",
            "Austria",
            "Belgium",
            "Bulgaria",
            "Croatia",
            "Denmark",
            "Estonia",
            "Finland",
            "France",
            "Germany",
            "Greece",
            "Hungary",
            "Iceland",
            "Ireland",
            "Italy",
            "Latvia",
            "Lithuania",
            "Luxembourg",
            "Malta",
            "Montenegro",
            "Netherlands",
            "Norway",
            "Poland",
            "Romania",
            "Serbia",
            "Slovakia",
            "Slovenia",
            "Spain",
            "Sweden",
            "Switzerland",
            "Ukraine"
           ],
           "legendgroup": "Europe",
           "marker": {
            "color": "#1F77B4",
            "size": [
             106,
             84,
             88,
             156,
             116,
             89,
             187,
             100,
             92,
             84,
             79,
             182,
             61,
             75,
             65,
             220,
             228,
             81,
             63,
             130,
             72,
             72,
             144,
             162,
             128,
             140,
             104,
             76,
             66,
             66,
             280
            ],
            "sizemode": "area",
            "sizeref": 0.53,
            "symbol": "circle"
           },
           "mode": "markers",
           "name": "Europe",
           "orientation": "v",
           "showlegend": true,
           "type": "scatter",
           "x": [
            9.1,
            9.9,
            10.7,
            10.2,
            9.7,
            12.8,
            12.1,
            12,
            10.4,
            13.3,
            9.8,
            10.9,
            10,
            11.7,
            9.2,
            12.1,
            11.8,
            11.3,
            9.8,
            10.5,
            11.6,
            12.4,
            11.6,
            10.1,
            10.2,
            10.8,
            11.7,
            8.9,
            12.4,
            12,
            11.2
           ],
           "xaxis": "x",
           "y": [
            0,
            235.25,
            231.75,
            178.06,
            269.57,
            164.23,
            256.43,
            230.52,
            232.09,
            161.49,
            46.53,
            352.01,
            115,
            121.11,
            82.59,
            312.06,
            485.78999999999996,
            159.07,
            67.94,
            274.48,
            113.28,
            142.09,
            186.04,
            146.01,
            286.32,
            165.37,
            337.40999999999997,
            107.66,
            164.62,
            246.19,
            297.18
           ],
           "yaxis": "y"
          },
          {
           "hovertemplate": "<b>%{hovertext}</b><br><br>Continent=North America<br>Year=2005<br>avg_years_of_schooling=%{x}<br>suicides_per_100k=%{y}<br>Both sexes=%{marker.size}<extra></extra>",
           "hovertext": [
            "Antigua and Barbuda",
            "Bahamas",
            "Barbados",
            "Belize",
            "Canada",
            "Costa Rica",
            "Cuba",
            "El Salvador",
            "Grenada",
            "Guatemala",
            "Jamaica",
            "Mexico",
            "Panama",
            "Saint Lucia",
            "Trinidad and Tobago"
           ],
           "ids": [
            "Antigua and Barbuda",
            "Bahamas",
            "Barbados",
            "Belize",
            "Canada",
            "Costa Rica",
            "Cuba",
            "El Salvador",
            "Grenada",
            "Guatemala",
            "Jamaica",
            "Mexico",
            "Panama",
            "Saint Lucia",
            "Trinidad and Tobago"
           ],
           "legendgroup": "North America",
           "marker": {
            "color": "#FF7F0E",
            "size": [
             156,
             180,
             114,
             190,
             76,
             96,
             110,
             206,
             171,
             211,
             164,
             134,
             116,
             158,
             195
            ],
            "sizemode": "area",
            "sizeref": 0.53,
            "symbol": "circle"
           },
           "mode": "markers",
           "name": "North America",
           "orientation": "v",
           "showlegend": true,
           "type": "scatter",
           "x": [
            9.1,
            10.9,
            9.2,
            10.3,
            12.2,
            7.9,
            9.9,
            6,
            7.8,
            3.5,
            8.1,
            7.6,
            9,
            7.5,
            10
           ],
           "xaxis": "x",
           "y": [
            0,
            13.32,
            2.58,
            46.1,
            133.84,
            78.73,
            205.94,
            115.73,
            160.82,
            32.61,
            26.169999999999998,
            62.22,
            77.81,
            24.82,
            144.14000000000001
           ],
           "yaxis": "y"
          },
          {
           "hovertemplate": "<b>%{hovertext}</b><br><br>Continent=South America<br>Year=2005<br>avg_years_of_schooling=%{x}<br>suicides_per_100k=%{y}<br>Both sexes=%{marker.size}<extra></extra>",
           "hovertext": [
            "Argentina",
            "Brazil",
            "Chile",
            "Colombia",
            "Ecuador",
            "Guyana",
            "Paraguay",
            "Suriname",
            "Uruguay"
           ],
           "ids": [
            "Argentina",
            "Brazil",
            "Chile",
            "Colombia",
            "Ecuador",
            "Guyana",
            "Paraguay",
            "Suriname",
            "Uruguay"
           ],
           "legendgroup": "South America",
           "marker": {
            "color": "#2CA02C",
            "size": [
             125,
             162,
             95,
             144,
             149,
             267,
             164,
             207,
             125
            ],
            "sizemode": "area",
            "sizeref": 0.53,
            "symbol": "circle"
           },
           "mode": "markers",
           "name": "South America",
           "orientation": "v",
           "showlegend": true,
           "type": "scatter",
           "x": [
            9.1,
            6.3,
            9.5,
            6.8,
            7.3,
            7.9,
            7.3,
            7.7,
            8
           ],
           "xaxis": "x",
           "y": [
            128.18,
            73.6,
            147.43,
            74.84,
            96.73,
            333.96,
            62.81,
            211.17,
            241.31
           ],
           "yaxis": "y"
          },
          {
           "hovertemplate": "<b>%{hovertext}</b><br><br>Continent=Asia<br>Year=2005<br>avg_years_of_schooling=%{x}<br>suicides_per_100k=%{y}<br>Both sexes=%{marker.size}<extra></extra>",
           "hovertext": [
            "Bahrain",
            "Cyprus",
            "Georgia",
            "Israel",
            "Japan",
            "Kazakhstan",
            "Kuwait",
            "Kyrgyzstan",
            "Maldives",
            "Qatar",
            "Singapore",
            "Thailand",
            "United Arab Emirates",
            "Uzbekistan"
           ],
           "ids": [
            "Bahrain",
            "Cyprus",
            "Georgia",
            "Israel",
            "Japan",
            "Kazakhstan",
            "Kuwait",
            "Kyrgyzstan",
            "Maldives",
            "Qatar",
            "Singapore",
            "Thailand",
            "United Arab Emirates",
            "Uzbekistan"
           ],
           "legendgroup": "Asia",
           "marker": {
            "color": "#D62728",
            "size": [
             83,
             75,
             144,
             72,
             68,
             297,
             88,
             223,
             93,
             67,
             74,
             183,
             91,
             183
            ],
            "sizemode": "area",
            "sizeref": 0.53,
            "symbol": "circle"
           },
           "mode": "markers",
           "name": "Asia",
           "orientation": "v",
           "showlegend": true,
           "type": "scatter",
           "x": [
            8.4,
            10.7,
            12.1,
            12.3,
            11.2,
            11.7,
            5.8,
            10.2,
            3.5,
            8.8,
            10.5,
            7,
            9.1,
            9.8
           ],
           "xaxis": "x",
           "y": [
            40.22,
            24.740000000000002,
            28.36,
            102.91,
            266.89,
            357.8,
            18.18,
            135.48,
            2.75,
            18.8,
            180.33,
            77.99,
            16.05,
            67.81
           ],
           "yaxis": "y"
          },
          {
           "hovertemplate": "<b>%{hovertext}</b><br><br>Continent=Oceania<br>Year=2005<br>avg_years_of_schooling=%{x}<br>suicides_per_100k=%{y}<br>Both sexes=%{marker.size}<extra></extra>",
           "hovertext": [
            "Fiji",
            "New Zealand"
           ],
           "ids": [
            "Fiji",
            "New Zealand"
           ],
           "legendgroup": "Oceania",
           "marker": {
            "color": "#9467BD",
            "size": [
             214,
             77
            ],
            "sizemode": "area",
            "sizeref": 0.53,
            "symbol": "circle"
           },
           "mode": "markers",
           "name": "Oceania",
           "orientation": "v",
           "showlegend": true,
           "type": "scatter",
           "x": [
            9.2,
            11.7
           ],
           "xaxis": "x",
           "y": [
            52.83,
            157.93
           ],
           "yaxis": "y"
          },
          {
           "hovertemplate": "<b>%{hovertext}</b><br><br>Continent=Africa<br>Year=2005<br>avg_years_of_schooling=%{x}<br>suicides_per_100k=%{y}<br>Both sexes=%{marker.size}<extra></extra>",
           "hovertext": [
            "Mauritius",
            "Seychelles",
            "South Africa"
           ],
           "ids": [
            "Mauritius",
            "Seychelles",
            "South Africa"
           ],
           "legendgroup": "Africa",
           "marker": {
            "color": "#8C564B",
            "size": [
             164,
             185,
             474
            ],
            "sizemode": "area",
            "sizeref": 0.53,
            "symbol": "circle"
           },
           "mode": "markers",
           "name": "Africa",
           "orientation": "v",
           "showlegend": true,
           "type": "scatter",
           "x": [
            7.2,
            7.7,
            8.9
           ],
           "xaxis": "x",
           "y": [
            102.51,
            71.5,
            15.290000000000001
           ],
           "yaxis": "y"
          }
         ],
         "name": "2005"
        },
        {
         "data": [
          {
           "hovertemplate": "<b>%{hovertext}</b><br><br>Continent=Europe<br>Year=2006<br>avg_years_of_schooling=%{x}<br>suicides_per_100k=%{y}<br>Both sexes=%{marker.size}<extra></extra>",
           "hovertext": [
            "Albania",
            "Austria",
            "Belgium",
            "Bulgaria",
            "Croatia",
            "Denmark",
            "Estonia",
            "Finland",
            "France",
            "Germany",
            "Greece",
            "Hungary",
            "Iceland",
            "Ireland",
            "Italy",
            "Latvia",
            "Lithuania",
            "Luxembourg",
            "Malta",
            "Montenegro",
            "Netherlands",
            "Norway",
            "Poland",
            "Romania",
            "Serbia",
            "Slovakia",
            "Slovenia",
            "Spain",
            "Sweden",
            "Switzerland",
            "Ukraine"
           ],
           "ids": [
            "Albania",
            "Austria",
            "Belgium",
            "Bulgaria",
            "Croatia",
            "Denmark",
            "Estonia",
            "Finland",
            "France",
            "Germany",
            "Greece",
            "Hungary",
            "Iceland",
            "Ireland",
            "Italy",
            "Latvia",
            "Lithuania",
            "Luxembourg",
            "Malta",
            "Montenegro",
            "Netherlands",
            "Norway",
            "Poland",
            "Romania",
            "Serbia",
            "Slovakia",
            "Slovenia",
            "Spain",
            "Sweden",
            "Switzerland",
            "Ukraine"
           ],
           "legendgroup": "Europe",
           "marker": {
            "color": "#1F77B4",
            "size": [
             101,
             80,
             85,
             157,
             114,
             91,
             186,
             95,
             90,
             83,
             76,
             178,
             62,
             75,
             64,
             232,
             235,
             78,
             63,
             127,
             70,
             69,
             145,
             158,
             126,
             138,
             107,
             73,
             64,
             64,
             268
            ],
            "sizemode": "area",
            "sizeref": 0.53,
            "symbol": "circle"
           },
           "mode": "markers",
           "name": "Europe",
           "orientation": "v",
           "showlegend": true,
           "type": "scatter",
           "x": [
            9.2,
            10.1,
            11.1,
            10.4,
            9.9,
            12.8,
            12.2,
            12,
            10.6,
            13.6,
            9.9,
            11.1,
            10.2,
            11.8,
            9.3,
            12.2,
            12,
            11.5,
            9.8,
            10.7,
            11.8,
            12.5,
            11.7,
            10.3,
            10.2,
            10.9,
            11.8,
            9,
            12.4,
            12.3,
            11.2
           ],
           "xaxis": "x",
           "y": [
            0,
            218.9,
            214.9,
            186.53,
            248.22,
            162.07999999999998,
            242.63,
            233.8,
            220.63,
            152.52,
            45.410000000000004,
            312.65999999999997,
            106.39,
            126.46,
            81.61,
            288.9,
            400.57,
            183.79,
            87.21000000000001,
            0,
            113.19,
            142.67,
            182.85,
            149.09,
            286.07,
            0,
            347.87,
            99.86999999999999,
            160.76,
            241.63,
            282.78999999999996
           ],
           "yaxis": "y"
          },
          {
           "hovertemplate": "<b>%{hovertext}</b><br><br>Continent=North America<br>Year=2006<br>avg_years_of_schooling=%{x}<br>suicides_per_100k=%{y}<br>Both sexes=%{marker.size}<extra></extra>",
           "hovertext": [
            "Antigua and Barbuda",
            "Bahamas",
            "Barbados",
            "Belize",
            "Canada",
            "Costa Rica",
            "Cuba",
            "El Salvador",
            "Grenada",
            "Guatemala",
            "Jamaica",
            "Mexico",
            "Panama",
            "Saint Lucia",
            "Trinidad and Tobago"
           ],
           "ids": [
            "Antigua and Barbuda",
            "Bahamas",
            "Barbados",
            "Belize",
            "Canada",
            "Costa Rica",
            "Cuba",
            "El Salvador",
            "Grenada",
            "Guatemala",
            "Jamaica",
            "Mexico",
            "Panama",
            "Saint Lucia",
            "Trinidad and Tobago"
           ],
           "legendgroup": "North America",
           "marker": {
            "color": "#FF7F0E",
            "size": [
             155,
             177,
             113,
             185,
             74,
             104,
             103,
             203,
             167,
             205,
             154,
             131,
             119,
             155,
             189
            ],
            "sizemode": "area",
            "sizeref": 0.53,
            "symbol": "circle"
           },
           "mode": "markers",
           "name": "North America",
           "orientation": "v",
           "showlegend": true,
           "type": "scatter",
           "x": [
            9.2,
            10.9,
            9.2,
            10.3,
            12.3,
            7.9,
            10.1,
            6.4,
            7.9,
            3.7,
            8.3,
            8,
            9.1,
            7.6,
            9.9
           ],
           "xaxis": "x",
           "y": [
            0,
            5.640000000000001,
            45.38,
            37.92,
            126.42999999999999,
            100.83,
            202.55,
            99.57,
            9.89,
            41.95,
            0,
            59.22,
            91.63,
            17.83,
            133.89000000000001
           ],
           "yaxis": "y"
          },
          {
           "hovertemplate": "<b>%{hovertext}</b><br><br>Continent=South America<br>Year=2006<br>avg_years_of_schooling=%{x}<br>suicides_per_100k=%{y}<br>Both sexes=%{marker.size}<extra></extra>",
           "hovertext": [
            "Argentina",
            "Brazil",
            "Chile",
            "Colombia",
            "Ecuador",
            "Guyana",
            "Paraguay",
            "Suriname",
            "Uruguay"
           ],
           "ids": [
            "Argentina",
            "Brazil",
            "Chile",
            "Colombia",
            "Ecuador",
            "Guyana",
            "Paraguay",
            "Suriname",
            "Uruguay"
           ],
           "legendgroup": "South America",
           "marker": {
            "color": "#2CA02C",
            "size": [
             124,
             160,
             93,
             146,
             144,
             267,
             161,
             203,
             118
            ],
            "sizemode": "area",
            "sizeref": 0.53,
            "symbol": "circle"
           },
           "mode": "markers",
           "name": "South America",
           "orientation": "v",
           "showlegend": true,
           "type": "scatter",
           "x": [
            9,
            6.4,
            9.5,
            6.7,
            7.3,
            7.9,
            7.1,
            7.7,
            8
           ],
           "xaxis": "x",
           "y": [
            128.22,
            69.89999999999999,
            155.06,
            78.41,
            93.07,
            394.6,
            65.57000000000001,
            298.26,
            248.11
           ],
           "yaxis": "y"
          },
          {
           "hovertemplate": "<b>%{hovertext}</b><br><br>Continent=Asia<br>Year=2006<br>avg_years_of_schooling=%{x}<br>suicides_per_100k=%{y}<br>Both sexes=%{marker.size}<extra></extra>",
           "hovertext": [
            "Armenia",
            "Bahrain",
            "Cyprus",
            "Georgia",
            "Israel",
            "Japan",
            "Kazakhstan",
            "Kuwait",
            "Kyrgyzstan",
            "Philippines",
            "Qatar",
            "Singapore",
            "Sri Lanka",
            "Thailand",
            "United Arab Emirates"
           ],
           "ids": [
            "Armenia",
            "Bahrain",
            "Cyprus",
            "Georgia",
            "Israel",
            "Japan",
            "Kazakhstan",
            "Kuwait",
            "Kyrgyzstan",
            "Philippines",
            "Qatar",
            "Singapore",
            "Sri Lanka",
            "Thailand",
            "United Arab Emirates"
           ],
           "legendgroup": "Asia",
           "marker": {
            "color": "#D62728",
            "size": [
             145,
             89,
             64,
             145,
             69,
             67,
             299,
             87,
             233,
             215,
             66,
             71,
             145,
             174,
             88
            ],
            "sizemode": "area",
            "sizeref": 0.53,
            "symbol": "circle"
           },
           "mode": "markers",
           "name": "Asia",
           "orientation": "v",
           "showlegend": true,
           "type": "scatter",
           "x": [
            10.9,
            8.4,
            10.9,
            12.1,
            12.1,
            11.2,
            11.7,
            6.2,
            10.2,
            8.8,
            9.2,
            10.1,
            10.5,
            7,
            9.3
           ],
           "xaxis": "x",
           "y": [
            43.67,
            27.18,
            27.64,
            23.51,
            80.52,
            262.24,
            374.73,
            15.83,
            145.99,
            36.66,
            87.30000000000001,
            148.75,
            328.73,
            69.04,
            16.55
           ],
           "yaxis": "y"
          },
          {
           "hovertemplate": "<b>%{hovertext}</b><br><br>Continent=Oceania<br>Year=2006<br>avg_years_of_schooling=%{x}<br>suicides_per_100k=%{y}<br>Both sexes=%{marker.size}<extra></extra>",
           "hovertext": [
            "Australia",
            "Fiji",
            "New Zealand"
           ],
           "ids": [
            "Australia",
            "Fiji",
            "New Zealand"
           ],
           "legendgroup": "Oceania",
           "marker": {
            "color": "#9467BD",
            "size": [
             65,
             212,
             75
            ],
            "sizemode": "area",
            "sizeref": 0.53,
            "symbol": "circle"
           },
           "mode": "markers",
           "name": "Oceania",
           "orientation": "v",
           "showlegend": true,
           "type": "scatter",
           "x": [
            11.9,
            9.3,
            11.7
           ],
           "xaxis": "x",
           "y": [
            127.89,
            30.77,
            156.74
           ],
           "yaxis": "y"
          },
          {
           "hovertemplate": "<b>%{hovertext}</b><br><br>Continent=Africa<br>Year=2006<br>avg_years_of_schooling=%{x}<br>suicides_per_100k=%{y}<br>Both sexes=%{marker.size}<extra></extra>",
           "hovertext": [
            "Mauritius",
            "Seychelles",
            "South Africa"
           ],
           "ids": [
            "Mauritius",
            "Seychelles",
            "South Africa"
           ],
           "legendgroup": "Africa",
           "marker": {
            "color": "#8C564B",
            "size": [
             162,
             185,
             477
            ],
            "sizemode": "area",
            "sizeref": 0.53,
            "symbol": "circle"
           },
           "mode": "markers",
           "name": "Africa",
           "orientation": "v",
           "showlegend": true,
           "type": "scatter",
           "x": [
            7.4,
            7.8,
            9
           ],
           "xaxis": "x",
           "y": [
            163.68,
            275.75,
            17.92
           ],
           "yaxis": "y"
          }
         ],
         "name": "2006"
        },
        {
         "data": [
          {
           "hovertemplate": "<b>%{hovertext}</b><br><br>Continent=Europe<br>Year=2007<br>avg_years_of_schooling=%{x}<br>suicides_per_100k=%{y}<br>Both sexes=%{marker.size}<extra></extra>",
           "hovertext": [
            "Albania",
            "Austria",
            "Belarus",
            "Belgium",
            "Bulgaria",
            "Croatia",
            "Denmark",
            "Estonia",
            "Finland",
            "France",
            "Germany",
            "Greece",
            "Hungary",
            "Iceland",
            "Ireland",
            "Italy",
            "Latvia",
            "Lithuania",
            "Luxembourg",
            "Malta",
            "Montenegro",
            "Netherlands",
            "Norway",
            "Poland",
            "Portugal",
            "Romania",
            "Serbia",
            "Slovakia",
            "Slovenia",
            "Spain",
            "Sweden",
            "Switzerland",
            "Ukraine"
           ],
           "ids": [
            "Albania",
            "Austria",
            "Belarus",
            "Belgium",
            "Bulgaria",
            "Croatia",
            "Denmark",
            "Estonia",
            "Finland",
            "France",
            "Germany",
            "Greece",
            "Hungary",
            "Iceland",
            "Ireland",
            "Italy",
            "Latvia",
            "Lithuania",
            "Luxembourg",
            "Malta",
            "Montenegro",
            "Netherlands",
            "Norway",
            "Poland",
            "Portugal",
            "Romania",
            "Serbia",
            "Slovakia",
            "Slovenia",
            "Spain",
            "Sweden",
            "Switzerland",
            "Ukraine"
           ],
           "legendgroup": "Europe",
           "marker": {
            "color": "#1F77B4",
            "size": [
             101,
             80,
             230,
             86,
             153,
             115,
             91,
             187,
             96,
             88,
             82,
             78,
             176,
             60,
             72,
             62,
             224,
             246,
             75,
             65,
             123,
             67,
             67,
             145,
             92,
             155,
             123,
             139,
             102,
             72,
             63,
             62,
             278
            ],
            "sizemode": "area",
            "sizeref": 0.53,
            "symbol": "circle"
           },
           "mode": "markers",
           "name": "Europe",
           "orientation": "v",
           "showlegend": true,
           "type": "scatter",
           "x": [
            9.2,
            11.6,
            10.6,
            11.1,
            10.5,
            10.1,
            12.5,
            12.2,
            12,
            10.7,
            13.7,
            10,
            11.3,
            10.3,
            11.9,
            9.4,
            12.3,
            12.1,
            11.7,
            9.9,
            10.8,
            12,
            12.6,
            11.8,
            7.7,
            10.5,
            10.2,
            11.1,
            11.8,
            9.1,
            12.5,
            12.6,
            11.2
           ],
           "xaxis": "x",
           "y": [
            65.85,
            217.31,
            355.89,
            208.57,
            173.76999999999998,
            243.45,
            139.96,
            265.05,
            223.08,
            213.69,
            146.52,
            33.91,
            327.32,
            163.29,
            121.77,
            81.96000000000001,
            295.75,
            406.79,
            183.89000000000001,
            73.84,
            335.53,
            97.44,
            127.77,
            166.47,
            143.55,
            136.06,
            258.45,
            0,
            291.45,
            98.95,
            147.39,
            255.81,
            281.12
           ],
           "yaxis": "y"
          },
          {
           "hovertemplate": "<b>%{hovertext}</b><br><br>Continent=North America<br>Year=2007<br>avg_years_of_schooling=%{x}<br>suicides_per_100k=%{y}<br>Both sexes=%{marker.size}<extra></extra>",
           "hovertext": [
            "Antigua and Barbuda",
            "Bahamas",
            "Barbados",
            "Belize",
            "Canada",
            "Costa Rica",
            "Cuba",
            "El Salvador",
            "Grenada",
            "Guatemala",
            "Mexico",
            "Panama",
            "Trinidad and Tobago"
           ],
           "ids": [
            "Antigua and Barbuda",
            "Bahamas",
            "Barbados",
            "Belize",
            "Canada",
            "Costa Rica",
            "Cuba",
            "El Salvador",
            "Grenada",
            "Guatemala",
            "Mexico",
            "Panama",
            "Trinidad and Tobago"
           ],
           "legendgroup": "North America",
           "marker": {
            "color": "#FF7F0E",
            "size": [
             149,
             171,
             112,
             181,
             74,
             91,
             102,
             200,
             164,
             191,
             129,
             119,
             188
            ],
            "sizemode": "area",
            "sizeref": 0.53,
            "symbol": "circle"
           },
           "mode": "markers",
           "name": "North America",
           "orientation": "v",
           "showlegend": true,
           "type": "scatter",
           "x": [
            9.2,
            10.9,
            9.3,
            10.4,
            12.4,
            8.1,
            10.4,
            5.8,
            8,
            3.9,
            8,
            9.2,
            10.5
           ],
           "xaxis": "x",
           "y": [
            7.98,
            13.42,
            0,
            78.49000000000001,
            127.45,
            75.35,
            188.18,
            127.14,
            48.34,
            40.27,
            58.01,
            71.9,
            143.58
           ],
           "yaxis": "y"
          },
          {
           "hovertemplate": "<b>%{hovertext}</b><br><br>Continent=South America<br>Year=2007<br>avg_years_of_schooling=%{x}<br>suicides_per_100k=%{y}<br>Both sexes=%{marker.size}<extra></extra>",
           "hovertext": [
            "Argentina",
            "Brazil",
            "Chile",
            "Colombia",
            "Ecuador",
            "Guyana",
            "Paraguay",
            "Suriname",
            "Uruguay"
           ],
           "ids": [
            "Argentina",
            "Brazil",
            "Chile",
            "Colombia",
            "Ecuador",
            "Guyana",
            "Paraguay",
            "Suriname",
            "Uruguay"
           ],
           "legendgroup": "South America",
           "marker": {
            "color": "#2CA02C",
            "size": [
             126,
             158,
             93,
             141,
             141,
             257,
             159,
             200,
             124
            ],
            "sizemode": "area",
            "sizeref": 0.53,
            "symbol": "circle"
           },
           "mode": "markers",
           "name": "South America",
           "orientation": "v",
           "showlegend": true,
           "type": "scatter",
           "x": [
            8.9,
            6.5,
            9.4,
            7.2,
            7.3,
            8,
            7.1,
            7.7,
            8.2
           ],
           "xaxis": "x",
           "y": [
            118.35,
            71.68,
            150.92000000000002,
            74.25,
            95.97,
            373.75,
            62.51,
            356.14,
            266.31
           ],
           "yaxis": "y"
          },
          {
           "hovertemplate": "<b>%{hovertext}</b><br><br>Continent=Asia<br>Year=2007<br>avg_years_of_schooling=%{x}<br>suicides_per_100k=%{y}<br>Both sexes=%{marker.size}<extra></extra>",
           "hovertext": [
            "Armenia",
            "Azerbaijan",
            "Bahrain",
            "Cyprus",
            "Georgia",
            "Israel",
            "Japan",
            "Kazakhstan",
            "Kuwait",
            "Kyrgyzstan",
            "Maldives",
            "Philippines",
            "Qatar",
            "Singapore",
            "Thailand",
            "United Arab Emirates"
           ],
           "ids": [
            "Armenia",
            "Azerbaijan",
            "Bahrain",
            "Cyprus",
            "Georgia",
            "Israel",
            "Japan",
            "Kazakhstan",
            "Kuwait",
            "Kyrgyzstan",
            "Maldives",
            "Philippines",
            "Qatar",
            "Singapore",
            "Thailand",
            "United Arab Emirates"
           ],
           "legendgroup": "Asia",
           "marker": {
            "color": "#D62728",
            "size": [
             137,
             141,
             80,
             70,
             140,
             67,
             66,
             293,
             86,
             230,
             83,
             208,
             66,
             68,
             170,
             86
            ],
            "sizemode": "area",
            "sizeref": 0.53,
            "symbol": "circle"
           },
           "mode": "markers",
           "name": "Asia",
           "orientation": "v",
           "showlegend": true,
           "type": "scatter",
           "x": [
            11,
            10.2,
            8.4,
            11.2,
            12.1,
            12.5,
            11.3,
            11.6,
            6.3,
            10.3,
            3.9,
            8.9,
            9.6,
            10.2,
            7.1,
            9.4
           ],
           "xaxis": "x",
           "y": [
            39.019999999999996,
            11.83,
            32.09,
            36.17,
            36.59,
            73.67,
            268.76,
            375.63,
            13.02,
            125.89,
            14.36,
            29.169999999999998,
            28.61,
            165.76,
            79.14,
            15.99
           ],
           "yaxis": "y"
          },
          {
           "hovertemplate": "<b>%{hovertext}</b><br><br>Continent=Oceania<br>Year=2007<br>avg_years_of_schooling=%{x}<br>suicides_per_100k=%{y}<br>Both sexes=%{marker.size}<extra></extra>",
           "hovertext": [
            "Australia",
            "Fiji",
            "New Zealand"
           ],
           "ids": [
            "Australia",
            "Fiji",
            "New Zealand"
           ],
           "legendgroup": "Oceania",
           "marker": {
            "color": "#9467BD",
            "size": [
             65,
             209,
             76
            ],
            "sizemode": "area",
            "sizeref": 0.53,
            "symbol": "circle"
           },
           "mode": "markers",
           "name": "Oceania",
           "orientation": "v",
           "showlegend": true,
           "type": "scatter",
           "x": [
            12,
            9.3,
            11.8
           ],
           "xaxis": "x",
           "y": [
            130.25,
            20.46,
            148.19
           ],
           "yaxis": "y"
          },
          {
           "hovertemplate": "<b>%{hovertext}</b><br><br>Continent=Africa<br>Year=2007<br>avg_years_of_schooling=%{x}<br>suicides_per_100k=%{y}<br>Both sexes=%{marker.size}<extra></extra>",
           "hovertext": [
            "Mauritius",
            "Seychelles",
            "South Africa"
           ],
           "ids": [
            "Mauritius",
            "Seychelles",
            "South Africa"
           ],
           "legendgroup": "Africa",
           "marker": {
            "color": "#8C564B",
            "size": [
             160,
             185,
             475
            ],
            "sizemode": "area",
            "sizeref": 0.53,
            "symbol": "circle"
           },
           "mode": "markers",
           "name": "Africa",
           "orientation": "v",
           "showlegend": true,
           "type": "scatter",
           "x": [
            7.6,
            7.9,
            9.1
           ],
           "xaxis": "x",
           "y": [
            141.45,
            147.64000000000001,
            12.12
           ],
           "yaxis": "y"
          }
         ],
         "name": "2007"
        },
        {
         "data": [
          {
           "hovertemplate": "<b>%{hovertext}</b><br><br>Continent=Europe<br>Year=2008<br>avg_years_of_schooling=%{x}<br>suicides_per_100k=%{y}<br>Both sexes=%{marker.size}<extra></extra>",
           "hovertext": [
            "Albania",
            "Austria",
            "Belarus",
            "Belgium",
            "Bulgaria",
            "Croatia",
            "Denmark",
            "Estonia",
            "Finland",
            "France",
            "Germany",
            "Greece",
            "Hungary",
            "Iceland",
            "Ireland",
            "Italy",
            "Latvia",
            "Lithuania",
            "Luxembourg",
            "Malta",
            "Montenegro",
            "Netherlands",
            "Norway",
            "Poland",
            "Portugal",
            "Romania",
            "Serbia",
            "Slovakia",
            "Slovenia",
            "Spain",
            "Sweden",
            "Switzerland",
            "Ukraine"
           ],
           "ids": [
            "Albania",
            "Austria",
            "Belarus",
            "Belgium",
            "Bulgaria",
            "Croatia",
            "Denmark",
            "Estonia",
            "Finland",
            "France",
            "Germany",
            "Greece",
            "Hungary",
            "Iceland",
            "Ireland",
            "Italy",
            "Latvia",
            "Lithuania",
            "Luxembourg",
            "Malta",
            "Montenegro",
            "Netherlands",
            "Norway",
            "Poland",
            "Portugal",
            "Romania",
            "Serbia",
            "Slovakia",
            "Slovenia",
            "Spain",
            "Sweden",
            "Switzerland",
            "Ukraine"
           ],
           "legendgroup": "Europe",
           "marker": {
            "color": "#1F77B4",
            "size": [
             102,
             76,
             228,
             86,
             150,
             117,
             86,
             164,
             94,
             87,
             81,
             75,
             164,
             57,
             72,
             61,
             200,
             229,
             69,
             62,
             119,
             67,
             66,
             142,
             89,
             160,
             122,
             135,
             96,
             70,
             62,
             59,
             275
            ],
            "sizemode": "area",
            "sizeref": 0.53,
            "symbol": "circle"
           },
           "mode": "markers",
           "name": "Europe",
           "orientation": "v",
           "showlegend": true,
           "type": "scatter",
           "x": [
            9.2,
            11.5,
            11.3,
            11,
            10.5,
            10.3,
            12.9,
            12.3,
            12.2,
            10.7,
            13.7,
            10.1,
            11.5,
            10.4,
            12,
            9.5,
            12.2,
            12.2,
            11.7,
            10,
            10.9,
            12,
            12.7,
            11.9,
            7.8,
            10.6,
            10.4,
            11.2,
            11.9,
            9.2,
            12.2,
            12.9,
            11.3
           ],
           "xaxis": "x",
           "y": [
            71.05,
            216.45,
            352.15999999999997,
            221.54,
            170.34,
            265.69,
            143.05,
            244.57,
            220.29,
            216.21,
            145.52,
            40.3,
            331.68,
            136.09,
            129.56,
            81.69,
            323.69,
            430.05,
            112.31,
            38.68,
            308.09000000000003,
            102.09,
            132.03,
            177.38,
            141.02,
            140.4,
            242.61,
            134.2,
            263.09,
            98.52,
            155.68,
            237.51,
            274.5
           ],
           "yaxis": "y"
          },
          {
           "hovertemplate": "<b>%{hovertext}</b><br><br>Continent=North America<br>Year=2008<br>avg_years_of_schooling=%{x}<br>suicides_per_100k=%{y}<br>Both sexes=%{marker.size}<extra></extra>",
           "hovertext": [
            "Antigua and Barbuda",
            "Bahamas",
            "Barbados",
            "Belize",
            "Canada",
            "Costa Rica",
            "Cuba",
            "El Salvador",
            "Grenada",
            "Guatemala",
            "Mexico",
            "Panama",
            "Saint Lucia",
            "Trinidad and Tobago"
           ],
           "ids": [
            "Antigua and Barbuda",
            "Bahamas",
            "Barbados",
            "Belize",
            "Canada",
            "Costa Rica",
            "Cuba",
            "El Salvador",
            "Grenada",
            "Guatemala",
            "Mexico",
            "Panama",
            "Saint Lucia",
            "Trinidad and Tobago"
           ],
           "legendgroup": "North America",
           "marker": {
            "color": "#FF7F0E",
            "size": [
             147,
             168,
             112,
             183,
             73,
             97,
             100,
             198,
             162,
             186,
             133,
             122,
             152,
             195
            ],
            "sizemode": "area",
            "sizeref": 0.53,
            "symbol": "circle"
           },
           "mode": "markers",
           "name": "North America",
           "orientation": "v",
           "showlegend": true,
           "type": "scatter",
           "x": [
            9.3,
            10.9,
            9.3,
            10.4,
            12.4,
            8.4,
            10.6,
            6.4,
            8.1,
            4.3,
            8,
            9.2,
            7.8,
            10.7
           ],
           "xaxis": "x",
           "y": [
            0,
            12.49,
            2.31,
            86.36,
            127.59,
            72.27,
            190.99,
            125.82,
            0,
            54.76,
            60.83,
            73.3,
            0,
            178.25
           ],
           "yaxis": "y"
          },
          {
           "hovertemplate": "<b>%{hovertext}</b><br><br>Continent=South America<br>Year=2008<br>avg_years_of_schooling=%{x}<br>suicides_per_100k=%{y}<br>Both sexes=%{marker.size}<extra></extra>",
           "hovertext": [
            "Argentina",
            "Brazil",
            "Chile",
            "Colombia",
            "Ecuador",
            "Guyana",
            "Paraguay",
            "Suriname",
            "Uruguay"
           ],
           "ids": [
            "Argentina",
            "Brazil",
            "Chile",
            "Colombia",
            "Ecuador",
            "Guyana",
            "Paraguay",
            "Suriname",
            "Uruguay"
           ],
           "legendgroup": "South America",
           "marker": {
            "color": "#2CA02C",
            "size": [
             123,
             157,
             91,
             142,
             141,
             249,
             157,
             200,
             119
            ],
            "sizemode": "area",
            "sizeref": 0.53,
            "symbol": "circle"
           },
           "mode": "markers",
           "name": "South America",
           "orientation": "v",
           "showlegend": true,
           "type": "scatter",
           "x": [
            8.9,
            6.7,
            9.9,
            7.3,
            7.9,
            8,
            7.4,
            7.7,
            8.4
           ],
           "xaxis": "x",
           "y": [
            118.11,
            72.21,
            167.88,
            74.22,
            95.29,
            353.62,
            58.32,
            416.82,
            234.53
           ],
           "yaxis": "y"
          },
          {
           "hovertemplate": "<b>%{hovertext}</b><br><br>Continent=Asia<br>Year=2008<br>avg_years_of_schooling=%{x}<br>suicides_per_100k=%{y}<br>Both sexes=%{marker.size}<extra></extra>",
           "hovertext": [
            "Armenia",
            "Bahrain",
            "Cyprus",
            "Israel",
            "Japan",
            "Kazakhstan",
            "Kuwait",
            "Kyrgyzstan",
            "Maldives",
            "Philippines",
            "Qatar",
            "Singapore",
            "Thailand",
            "United Arab Emirates"
           ],
           "ids": [
            "Armenia",
            "Bahrain",
            "Cyprus",
            "Israel",
            "Japan",
            "Kazakhstan",
            "Kuwait",
            "Kyrgyzstan",
            "Maldives",
            "Philippines",
            "Qatar",
            "Singapore",
            "Thailand",
            "United Arab Emirates"
           ],
           "legendgroup": "Asia",
           "marker": {
            "color": "#D62728",
            "size": [
             144,
             73,
             68,
             64,
             64,
             264,
             85,
             218,
             80,
             207,
             65,
             67,
             167,
             85
            ],
            "sizemode": "area",
            "sizeref": 0.53,
            "symbol": "circle"
           },
           "mode": "markers",
           "name": "Asia",
           "orientation": "v",
           "showlegend": true,
           "type": "scatter",
           "x": [
            11,
            8.4,
            11.3,
            12.6,
            11.4,
            11.5,
            6.5,
            10.3,
            4.3,
            9,
            9.7,
            10.5,
            7.3,
            9.6
           ],
           "xaxis": "x",
           "y": [
            35.15,
            27.89,
            59.07,
            87.33,
            265.32,
            366.94,
            11.76,
            135.96,
            0,
            33.05,
            13.55,
            150.25,
            78.18,
            11.86
           ],
           "yaxis": "y"
          },
          {
           "hovertemplate": "<b>%{hovertext}</b><br><br>Continent=Oceania<br>Year=2008<br>avg_years_of_schooling=%{x}<br>suicides_per_100k=%{y}<br>Both sexes=%{marker.size}<extra></extra>",
           "hovertext": [
            "Australia",
            "Fiji",
            "New Zealand"
           ],
           "ids": [
            "Australia",
            "Fiji",
            "New Zealand"
           ],
           "legendgroup": "Oceania",
           "marker": {
            "color": "#9467BD",
            "size": [
             64,
             206,
             74
            ],
            "sizemode": "area",
            "sizeref": 0.53,
            "symbol": "circle"
           },
           "mode": "markers",
           "name": "Oceania",
           "orientation": "v",
           "showlegend": true,
           "type": "scatter",
           "x": [
            12.3,
            9.4,
            11.8
           ],
           "xaxis": "x",
           "y": [
            130.49,
            47.48,
            151.78
           ],
           "yaxis": "y"
          },
          {
           "hovertemplate": "<b>%{hovertext}</b><br><br>Continent=Africa<br>Year=2008<br>avg_years_of_schooling=%{x}<br>suicides_per_100k=%{y}<br>Both sexes=%{marker.size}<extra></extra>",
           "hovertext": [
            "Mauritius",
            "Seychelles",
            "South Africa"
           ],
           "ids": [
            "Mauritius",
            "Seychelles",
            "South Africa"
           ],
           "legendgroup": "Africa",
           "marker": {
            "color": "#8C564B",
            "size": [
             165,
             185,
             458
            ],
            "sizemode": "area",
            "sizeref": 0.53,
            "symbol": "circle"
           },
           "mode": "markers",
           "name": "Africa",
           "orientation": "v",
           "showlegend": true,
           "type": "scatter",
           "x": [
            7.8,
            8,
            9.7
           ],
           "xaxis": "x",
           "y": [
            78.13,
            39.07,
            14.14
           ],
           "yaxis": "y"
          }
         ],
         "name": "2008"
        },
        {
         "data": [
          {
           "hovertemplate": "<b>%{hovertext}</b><br><br>Continent=Europe<br>Year=2009<br>avg_years_of_schooling=%{x}<br>suicides_per_100k=%{y}<br>Both sexes=%{marker.size}<extra></extra>",
           "hovertext": [
            "Albania",
            "Austria",
            "Belarus",
            "Belgium",
            "Bulgaria",
            "Croatia",
            "Denmark",
            "Estonia",
            "Finland",
            "France",
            "Germany",
            "Greece",
            "Hungary",
            "Iceland",
            "Ireland",
            "Italy",
            "Latvia",
            "Lithuania",
            "Luxembourg",
            "Malta",
            "Montenegro",
            "Netherlands",
            "Norway",
            "Poland",
            "Portugal",
            "Romania",
            "Serbia",
            "Slovakia",
            "Slovenia",
            "Spain",
            "Sweden",
            "Switzerland",
            "Ukraine"
           ],
           "ids": [
            "Albania",
            "Austria",
            "Belarus",
            "Belgium",
            "Bulgaria",
            "Croatia",
            "Denmark",
            "Estonia",
            "Finland",
            "France",
            "Germany",
            "Greece",
            "Hungary",
            "Iceland",
            "Ireland",
            "Italy",
            "Latvia",
            "Lithuania",
            "Luxembourg",
            "Malta",
            "Montenegro",
            "Netherlands",
            "Norway",
            "Poland",
            "Portugal",
            "Romania",
            "Serbia",
            "Slovakia",
            "Slovenia",
            "Spain",
            "Sweden",
            "Switzerland",
            "Ukraine"
           ],
           "legendgroup": "Europe",
           "marker": {
            "color": "#1F77B4",
            "size": [
             103,
             77,
             225,
             84,
             147,
             109,
             84,
             154,
             90,
             87,
             80,
             76,
             160,
             55,
             74,
             60,
             185,
             197,
             67,
             61,
             115,
             65,
             67,
             137,
             88,
             160,
             120,
             130,
             91,
             67,
             61,
             59,
             235
            ],
            "sizemode": "area",
            "sizeref": 0.53,
            "symbol": "circle"
           },
           "mode": "markers",
           "name": "Europe",
           "orientation": "v",
           "showlegend": true,
           "type": "scatter",
           "x": [
            9.3,
            11.7,
            11.9,
            11.1,
            10.6,
            10.6,
            12.7,
            12.4,
            12.2,
            10.8,
            13.8,
            10.1,
            11.7,
            10.5,
            12.1,
            9.6,
            12.3,
            11.5,
            11.8,
            10.2,
            11,
            11.9,
            12.7,
            12.1,
            7.9,
            10.6,
            10.4,
            11.4,
            12.1,
            9.3,
            12.2,
            13.3,
            11.3
           ],
           "xaxis": "x",
           "y": [
            0,
            213.22,
            375.54,
            218.35,
            154.42,
            254.29,
            144.7,
            248.67,
            228.48999999999998,
            216.24,
            145.52,
            40.97,
            310.72,
            123.73,
            132.63,
            81.92999999999999,
            307.8,
            437.07,
            110.95,
            107.12,
            275.93,
            108.3,
            145.74,
            197.1,
            139.7,
            144.02,
            258.43,
            139.08,
            268.71,
            98.02,
            160.4,
            180.13,
            279.26
           ],
           "yaxis": "y"
          },
          {
           "hovertemplate": "<b>%{hovertext}</b><br><br>Continent=North America<br>Year=2009<br>avg_years_of_schooling=%{x}<br>suicides_per_100k=%{y}<br>Both sexes=%{marker.size}<extra></extra>",
           "hovertext": [
            "Antigua and Barbuda",
            "Bahamas",
            "Barbados",
            "Belize",
            "Canada",
            "Costa Rica",
            "Cuba",
            "El Salvador",
            "Grenada",
            "Guatemala",
            "Jamaica",
            "Mexico",
            "Panama",
            "Saint Lucia",
            "Trinidad and Tobago"
           ],
           "ids": [
            "Antigua and Barbuda",
            "Bahamas",
            "Barbados",
            "Belize",
            "Canada",
            "Costa Rica",
            "Cuba",
            "El Salvador",
            "Grenada",
            "Guatemala",
            "Jamaica",
            "Mexico",
            "Panama",
            "Saint Lucia",
            "Trinidad and Tobago"
           ],
           "legendgroup": "North America",
           "marker": {
            "color": "#FF7F0E",
            "size": [
             138,
             166,
             110,
             183,
             71,
             96,
             99,
             197,
             158,
             191,
             143,
             136,
             122,
             152,
             185
            ],
            "sizemode": "area",
            "sizeref": 0.53,
            "symbol": "circle"
           },
           "mode": "markers",
           "name": "North America",
           "orientation": "v",
           "showlegend": true,
           "type": "scatter",
           "x": [
            9.3,
            10.9,
            9.3,
            10.4,
            12.5,
            8.4,
            10.8,
            6.5,
            8.2,
            4.6,
            8.8,
            8.2,
            9.3,
            7.9,
            10.7
           ],
           "xaxis": "x",
           "y": [
            0,
            15.98,
            28.8,
            57.76,
            130.67,
            77.37,
            201.32999999999998,
            124.12,
            0,
            57.57,
            21.13,
            64.14,
            68.29,
            82.32,
            120.24
           ],
           "yaxis": "y"
          },
          {
           "hovertemplate": "<b>%{hovertext}</b><br><br>Continent=South America<br>Year=2009<br>avg_years_of_schooling=%{x}<br>suicides_per_100k=%{y}<br>Both sexes=%{marker.size}<extra></extra>",
           "hovertext": [
            "Argentina",
            "Brazil",
            "Chile",
            "Colombia",
            "Ecuador",
            "Guyana",
            "Paraguay",
            "Suriname",
            "Uruguay"
           ],
           "ids": [
            "Argentina",
            "Brazil",
            "Chile",
            "Colombia",
            "Ecuador",
            "Guyana",
            "Paraguay",
            "Suriname",
            "Uruguay"
           ],
           "legendgroup": "South America",
           "marker": {
            "color": "#2CA02C",
            "size": [
             123,
             156,
             94,
             147,
             137,
             252,
             154,
             197,
             118
            ],
            "sizemode": "area",
            "sizeref": 0.53,
            "symbol": "circle"
           },
           "mode": "markers",
           "name": "South America",
           "orientation": "v",
           "showlegend": true,
           "type": "scatter",
           "x": [
            9.3,
            6.8,
            9.9,
            7.3,
            7.9,
            8,
            7,
            7.7,
            8.4
           ],
           "xaxis": "x",
           "y": [
            107.32,
            70.37,
            174.29999999999998,
            73.83,
            94.25,
            301.78,
            67.33,
            369.71,
            237.75
           ],
           "yaxis": "y"
          },
          {
           "hovertemplate": "<b>%{hovertext}</b><br><br>Continent=Asia<br>Year=2009<br>avg_years_of_schooling=%{x}<br>suicides_per_100k=%{y}<br>Both sexes=%{marker.size}<extra></extra>",
           "hovertext": [
            "Armenia",
            "Bahrain",
            "Cyprus",
            "Georgia",
            "Israel",
            "Japan",
            "Kazakhstan",
            "Kuwait",
            "Kyrgyzstan",
            "Oman",
            "Philippines",
            "Qatar",
            "Singapore",
            "Thailand",
            "Turkey",
            "United Arab Emirates",
            "Uzbekistan"
           ],
           "ids": [
            "Armenia",
            "Bahrain",
            "Cyprus",
            "Georgia",
            "Israel",
            "Japan",
            "Kazakhstan",
            "Kuwait",
            "Kyrgyzstan",
            "Oman",
            "Philippines",
            "Qatar",
            "Singapore",
            "Thailand",
            "Turkey",
            "United Arab Emirates",
            "Uzbekistan"
           ],
           "legendgroup": "Asia",
           "marker": {
            "color": "#D62728",
            "size": [
             142,
             69,
             68,
             156,
             61,
             63,
             240,
             85,
             204,
             108,
             207,
             65,
             62,
             164,
             118,
             83,
             149
            ],
            "sizemode": "area",
            "sizeref": 0.53,
            "symbol": "circle"
           },
           "mode": "markers",
           "name": "Asia",
           "orientation": "v",
           "showlegend": true,
           "type": "scatter",
           "x": [
            11.1,
            8.4,
            11.3,
            12.2,
            12.6,
            11.4,
            11.5,
            6.6,
            10.4,
            7.7,
            9,
            9.2,
            10.5,
            7.5,
            6.5,
            9.7,
            10.5
           ],
           "xaxis": "x",
           "y": [
            33.7,
            24.59,
            55.53,
            65.06,
            80.32,
            266.69,
            330.07,
            14.81,
            113.28,
            21.19,
            34.89,
            19.900000000000002,
            149.58,
            78.56,
            21.29,
            11.73,
            60.86
           ],
           "yaxis": "y"
          },
          {
           "hovertemplate": "<b>%{hovertext}</b><br><br>Continent=Oceania<br>Year=2009<br>avg_years_of_schooling=%{x}<br>suicides_per_100k=%{y}<br>Both sexes=%{marker.size}<extra></extra>",
           "hovertext": [
            "Australia",
            "Fiji",
            "New Zealand"
           ],
           "ids": [
            "Australia",
            "Fiji",
            "New Zealand"
           ],
           "legendgroup": "Oceania",
           "marker": {
            "color": "#9467BD",
            "size": [
             65,
             203,
             73
            ],
            "sizemode": "area",
            "sizeref": 0.53,
            "symbol": "circle"
           },
           "mode": "markers",
           "name": "Oceania",
           "orientation": "v",
           "showlegend": true,
           "type": "scatter",
           "x": [
            12.3,
            9.5,
            11.9
           ],
           "xaxis": "x",
           "y": [
            130.12,
            51.67,
            153
           ],
           "yaxis": "y"
          },
          {
           "hovertemplate": "<b>%{hovertext}</b><br><br>Continent=Africa<br>Year=2009<br>avg_years_of_schooling=%{x}<br>suicides_per_100k=%{y}<br>Both sexes=%{marker.size}<extra></extra>",
           "hovertext": [
            "Mauritius",
            "Seychelles",
            "South Africa"
           ],
           "ids": [
            "Mauritius",
            "Seychelles",
            "South Africa"
           ],
           "legendgroup": "Africa",
           "marker": {
            "color": "#8C564B",
            "size": [
             165,
             183,
             435
            ],
            "sizemode": "area",
            "sizeref": 0.53,
            "symbol": "circle"
           },
           "mode": "markers",
           "name": "Africa",
           "orientation": "v",
           "showlegend": true,
           "type": "scatter",
           "x": [
            8,
            8,
            10.1
           ],
           "xaxis": "x",
           "y": [
            106.07,
            43.81,
            10.71
           ],
           "yaxis": "y"
          }
         ],
         "name": "2009"
        },
        {
         "data": [
          {
           "hovertemplate": "<b>%{hovertext}</b><br><br>Continent=Europe<br>Year=2010<br>avg_years_of_schooling=%{x}<br>suicides_per_100k=%{y}<br>Both sexes=%{marker.size}<extra></extra>",
           "hovertext": [
            "Albania",
            "Austria",
            "Belarus",
            "Belgium",
            "Bulgaria",
            "Croatia",
            "Denmark",
            "Estonia",
            "Finland",
            "France",
            "Germany",
            "Greece",
            "Hungary",
            "Iceland",
            "Ireland",
            "Italy",
            "Latvia",
            "Lithuania",
            "Luxembourg",
            "Malta",
            "Netherlands",
            "Norway",
            "Poland",
            "Portugal",
            "Romania",
            "Serbia",
            "Slovakia",
            "Slovenia",
            "Spain",
            "Sweden",
            "Switzerland",
            "Ukraine"
           ],
           "ids": [
            "Albania",
            "Austria",
            "Belarus",
            "Belgium",
            "Bulgaria",
            "Croatia",
            "Denmark",
            "Estonia",
            "Finland",
            "France",
            "Germany",
            "Greece",
            "Hungary",
            "Iceland",
            "Ireland",
            "Italy",
            "Latvia",
            "Lithuania",
            "Luxembourg",
            "Malta",
            "Netherlands",
            "Norway",
            "Poland",
            "Portugal",
            "Romania",
            "Serbia",
            "Slovakia",
            "Slovenia",
            "Spain",
            "Sweden",
            "Switzerland",
            "Ukraine"
           ],
           "legendgroup": "Europe",
           "marker": {
            "color": "#1F77B4",
            "size": [
             103,
             74,
             226,
             81,
             143,
             106,
             83,
             134,
             88,
             85,
             78,
             74,
             152,
             53,
             65,
             58,
             178,
             188,
             67,
             58,
             64,
             65,
             131,
             86,
             155,
             115,
             122,
             87,
             65,
             58,
             57,
             218
            ],
            "sizemode": "area",
            "sizeref": 0.53,
            "symbol": "circle"
           },
           "mode": "markers",
           "name": "Europe",
           "orientation": "v",
           "showlegend": true,
           "type": "scatter",
           "x": [
            9.3,
            11.8,
            12,
            11.1,
            10.6,
            10.8,
            12.7,
            12.5,
            12.3,
            10.9,
            13.8,
            10.3,
            11.9,
            10.6,
            12.2,
            9.7,
            12.5,
            11.6,
            11.8,
            10.3,
            12,
            12.7,
            12.2,
            8.1,
            10.7,
            10.4,
            11.6,
            12.1,
            9.4,
            12.3,
            13.3,
            11.3
           ],
           "xaxis": "x",
           "y": [
            41.66,
            207.55,
            331.98,
            220.18,
            158.25,
            241.97,
            130.02,
            229.07,
            215.21,
            211.17000000000002,
            152.17000000000002,
            39.9,
            321.31,
            184.27,
            120.3,
            80.77,
            259.34000000000003,
            395.24,
            141.16,
            82.11,
            109.49000000000001,
            136.43,
            190.64,
            148.84,
            150.04,
            234.48,
            143.68,
            265.59000000000003,
            87.44,
            146.54,
            160.52,
            263.07
           ],
           "yaxis": "y"
          },
          {
           "hovertemplate": "<b>%{hovertext}</b><br><br>Continent=North America<br>Year=2010<br>avg_years_of_schooling=%{x}<br>suicides_per_100k=%{y}<br>Both sexes=%{marker.size}<extra></extra>",
           "hovertext": [
            "Bahamas",
            "Barbados",
            "Belize",
            "Canada",
            "Costa Rica",
            "Cuba",
            "El Salvador",
            "Grenada",
            "Guatemala",
            "Jamaica",
            "Mexico",
            "Nicaragua",
            "Panama",
            "Saint Lucia",
            "Trinidad and Tobago"
           ],
           "ids": [
            "Bahamas",
            "Barbados",
            "Belize",
            "Canada",
            "Costa Rica",
            "Cuba",
            "El Salvador",
            "Grenada",
            "Guatemala",
            "Jamaica",
            "Mexico",
            "Nicaragua",
            "Panama",
            "Saint Lucia",
            "Trinidad and Tobago"
           ],
           "legendgroup": "North America",
           "marker": {
            "color": "#FF7F0E",
            "size": [
             159,
             108,
             182,
             69,
             106,
             97,
             192,
             154,
             186,
             139,
             136,
             160,
             117,
             153,
             179
            ],
            "sizemode": "area",
            "sizeref": 0.53,
            "symbol": "circle"
           },
           "mode": "markers",
           "name": "North America",
           "orientation": "v",
           "showlegend": true,
           "type": "scatter",
           "x": [
            10.9,
            9.4,
            10.5,
            12.6,
            8.3,
            11,
            7.1,
            8.3,
            4.9,
            8.9,
            8,
            6,
            9.3,
            8.4,
            10.7
           ],
           "xaxis": "x",
           "y": [
            58.32,
            7.62,
            61.48,
            132.67,
            84.35,
            202.13,
            97.92,
            0,
            35.43,
            1.16,
            61.01,
            88.74,
            64,
            30.31,
            150.5
           ],
           "yaxis": "y"
          },
          {
           "hovertemplate": "<b>%{hovertext}</b><br><br>Continent=South America<br>Year=2010<br>avg_years_of_schooling=%{x}<br>suicides_per_100k=%{y}<br>Both sexes=%{marker.size}<extra></extra>",
           "hovertext": [
            "Argentina",
            "Brazil",
            "Chile",
            "Colombia",
            "Ecuador",
            "Guyana",
            "Paraguay",
            "Suriname",
            "Uruguay"
           ],
           "ids": [
            "Argentina",
            "Brazil",
            "Chile",
            "Colombia",
            "Ecuador",
            "Guyana",
            "Paraguay",
            "Suriname",
            "Uruguay"
           ],
           "legendgroup": "South America",
           "marker": {
            "color": "#2CA02C",
            "size": [
             119,
             154,
             94,
             146,
             134,
             258,
             152,
             194,
             118
            ],
            "sizemode": "area",
            "sizeref": 0.53,
            "symbol": "circle"
           },
           "mode": "markers",
           "name": "South America",
           "orientation": "v",
           "showlegend": true,
           "type": "scatter",
           "x": [
            9.8,
            6.9,
            9.8,
            7.4,
            7.9,
            8.1,
            7.7,
            7.7,
            8.4
           ],
           "xaxis": "x",
           "y": [
            111.24,
            72.73,
            162.88,
            67.24,
            81.49,
            403.07,
            54.56,
            425.3,
            257.43
           ],
           "yaxis": "y"
          },
          {
           "hovertemplate": "<b>%{hovertext}</b><br><br>Continent=Asia<br>Year=2010<br>avg_years_of_schooling=%{x}<br>suicides_per_100k=%{y}<br>Both sexes=%{marker.size}<extra></extra>",
           "hovertext": [
            "Armenia",
            "Bahrain",
            "Cyprus",
            "Georgia",
            "Israel",
            "Japan",
            "Kazakhstan",
            "Kuwait",
            "Kyrgyzstan",
            "Maldives",
            "Oman",
            "Philippines",
            "Qatar",
            "Singapore",
            "Thailand",
            "Turkey",
            "Turkmenistan",
            "United Arab Emirates",
            "Uzbekistan"
           ],
           "ids": [
            "Armenia",
            "Bahrain",
            "Cyprus",
            "Georgia",
            "Israel",
            "Japan",
            "Kazakhstan",
            "Kuwait",
            "Kyrgyzstan",
            "Maldives",
            "Oman",
            "Philippines",
            "Qatar",
            "Singapore",
            "Thailand",
            "Turkey",
            "Turkmenistan",
            "United Arab Emirates",
            "Uzbekistan"
           ],
           "legendgroup": "Asia",
           "marker": {
            "color": "#D62728",
            "size": [
             138,
             66,
             65,
             157,
             60,
             61,
             243,
             84,
             209,
             71,
             107,
             203,
             65,
             60,
             161,
             116,
             188,
             81,
             145
            ],
            "sizemode": "area",
            "sizeref": 0.53,
            "symbol": "circle"
           },
           "mode": "markers",
           "name": "Asia",
           "orientation": "v",
           "showlegend": true,
           "type": "scatter",
           "x": [
            11.1,
            8.4,
            11.5,
            12.2,
            12.6,
            11.5,
            11.4,
            6.8,
            10.6,
            4.9,
            7.9,
            8.9,
            8.4,
            11.2,
            7.7,
            6.7,
            9.9,
            9.9,
            10.7
           ],
           "xaxis": "x",
           "y": [
            40.410000000000004,
            11.89,
            58.88,
            34.33,
            99.47,
            255.48,
            320.81,
            10.040000000000001,
            143.20000000000002,
            1.99,
            3.8000000000000003,
            36.96,
            12.83,
            129.23,
            80.5,
            31.69,
            45.75,
            22.71,
            63.230000000000004
           ],
           "yaxis": "y"
          },
          {
           "hovertemplate": "<b>%{hovertext}</b><br><br>Continent=Oceania<br>Year=2010<br>avg_years_of_schooling=%{x}<br>suicides_per_100k=%{y}<br>Both sexes=%{marker.size}<extra></extra>",
           "hovertext": [
            "Australia",
            "New Zealand"
           ],
           "ids": [
            "Australia",
            "New Zealand"
           ],
           "legendgroup": "Oceania",
           "marker": {
            "color": "#9467BD",
            "size": [
             63,
             71
            ],
            "sizemode": "area",
            "sizeref": 0.53,
            "symbol": "circle"
           },
           "mode": "markers",
           "name": "Oceania",
           "orientation": "v",
           "showlegend": true,
           "type": "scatter",
           "x": [
            12.4,
            12
           ],
           "xaxis": "x",
           "y": [
            132.64000000000001,
            152.62
           ],
           "yaxis": "y"
          },
          {
           "hovertemplate": "<b>%{hovertext}</b><br><br>Continent=Africa<br>Year=2010<br>avg_years_of_schooling=%{x}<br>suicides_per_100k=%{y}<br>Both sexes=%{marker.size}<extra></extra>",
           "hovertext": [
            "Mauritius",
            "Seychelles",
            "South Africa"
           ],
           "ids": [
            "Mauritius",
            "Seychelles",
            "South Africa"
           ],
           "legendgroup": "Africa",
           "marker": {
            "color": "#8C564B",
            "size": [
             162,
             181,
             416
            ],
            "sizemode": "area",
            "sizeref": 0.53,
            "symbol": "circle"
           },
           "mode": "markers",
           "name": "Africa",
           "orientation": "v",
           "showlegend": true,
           "type": "scatter",
           "x": [
            8.2,
            8.1,
            10
           ],
           "xaxis": "x",
           "y": [
            111.83,
            51.989999999999995,
            13.09
           ],
           "yaxis": "y"
          }
         ],
         "name": "2010"
        },
        {
         "data": [
          {
           "hovertemplate": "<b>%{hovertext}</b><br><br>Continent=Europe<br>Year=2012<br>avg_years_of_schooling=%{x}<br>suicides_per_100k=%{y}<br>Both sexes=%{marker.size}<extra></extra>",
           "hovertext": [
            "Austria",
            "Belgium",
            "Bulgaria",
            "Croatia",
            "Denmark",
            "Estonia",
            "Finland",
            "France",
            "Germany",
            "Greece",
            "Hungary",
            "Iceland",
            "Ireland",
            "Italy",
            "Latvia",
            "Lithuania",
            "Luxembourg",
            "Malta",
            "Netherlands",
            "Norway",
            "Poland",
            "Portugal",
            "Romania",
            "Serbia",
            "Slovakia",
            "Slovenia",
            "Spain",
            "Sweden",
            "Switzerland",
            "Ukraine"
           ],
           "ids": [
            "Austria",
            "Belgium",
            "Bulgaria",
            "Croatia",
            "Denmark",
            "Estonia",
            "Finland",
            "France",
            "Germany",
            "Greece",
            "Hungary",
            "Iceland",
            "Ireland",
            "Italy",
            "Latvia",
            "Lithuania",
            "Luxembourg",
            "Malta",
            "Netherlands",
            "Norway",
            "Poland",
            "Portugal",
            "Romania",
            "Serbia",
            "Slovakia",
            "Slovenia",
            "Spain",
            "Sweden",
            "Switzerland",
            "Ukraine"
           ],
           "legendgroup": "Europe",
           "marker": {
            "color": "#1F77B4",
            "size": [
             68,
             79,
             137,
             103,
             75,
             134,
             80,
             80,
             73,
             72,
             143,
             50,
             66,
             57,
             162,
             180,
             63,
             57,
             63,
             60,
             126,
             81,
             141,
             111,
             115,
             81,
             61,
             56,
             54,
             211
            ],
            "sizemode": "area",
            "sizeref": 0.53,
            "symbol": "circle"
           },
           "mode": "markers",
           "name": "Europe",
           "orientation": "v",
           "showlegend": true,
           "type": "scatter",
           "x": [
            11.8,
            11.2,
            10.8,
            11,
            12.8,
            12.5,
            12.4,
            11,
            14,
            10.3,
            12.2,
            11.5,
            11.3,
            9.9,
            12.6,
            11.7,
            11.8,
            10.8,
            12,
            12.6,
            11.7,
            8.5,
            10.9,
            10.5,
            12.3,
            11.7,
            9.5,
            12.4,
            13.4,
            11.3
           ],
           "xaxis": "x",
           "y": [
            206.63,
            217.13,
            164.17,
            239.01,
            143.21,
            241.60999999999999,
            187.01,
            198.98,
            148.31,
            53.32,
            305.96,
            145.41,
            137.66,
            85.45,
            267.68,
            374.12,
            140.18,
            59.87,
            118.51,
            126,
            192.37,
            139.4,
            142.03,
            234.53,
            129.48,
            279.74,
            96.88,
            148.10999999999999,
            165.39,
            268.47
           ],
           "yaxis": "y"
          },
          {
           "hovertemplate": "<b>%{hovertext}</b><br><br>Continent=North America<br>Year=2012<br>avg_years_of_schooling=%{x}<br>suicides_per_100k=%{y}<br>Both sexes=%{marker.size}<extra></extra>",
           "hovertext": [
            "Antigua and Barbuda",
            "Bahamas",
            "Barbados",
            "Belize",
            "Canada",
            "Costa Rica",
            "Cuba",
            "El Salvador",
            "Grenada",
            "Guatemala",
            "Mexico",
            "Nicaragua",
            "Panama",
            "Saint Lucia"
           ],
           "ids": [
            "Antigua and Barbuda",
            "Bahamas",
            "Barbados",
            "Belize",
            "Canada",
            "Costa Rica",
            "Cuba",
            "El Salvador",
            "Grenada",
            "Guatemala",
            "Mexico",
            "Nicaragua",
            "Panama",
            "Saint Lucia"
           ],
           "legendgroup": "North America",
           "marker": {
            "color": "#FF7F0E",
            "size": [
             127,
             163,
             108,
             183,
             68,
             99,
             96,
             186,
             147,
             173,
             131,
             155,
             116,
             153
            ],
            "sizemode": "area",
            "sizeref": 0.53,
            "symbol": "circle"
           },
           "mode": "markers",
           "name": "North America",
           "orientation": "v",
           "showlegend": true,
           "type": "scatter",
           "x": [
            9.2,
            11.1,
            10.5,
            10.5,
            12.8,
            8.5,
            10.8,
            6.7,
            8.4,
            4.6,
            8.6,
            6.3,
            9.5,
            8.4
           ],
           "xaxis": "x",
           "y": [
            0,
            11.84,
            0,
            73.45,
            127.88,
            80.76,
            204,
            123.14,
            18.009999999999998,
            41.8,
            63.43,
            72.29,
            55.52,
            85.03
           ],
           "yaxis": "y"
          },
          {
           "hovertemplate": "<b>%{hovertext}</b><br><br>Continent=South America<br>Year=2012<br>avg_years_of_schooling=%{x}<br>suicides_per_100k=%{y}<br>Both sexes=%{marker.size}<extra></extra>",
           "hovertext": [
            "Argentina",
            "Brazil",
            "Chile",
            "Colombia",
            "Ecuador",
            "Guyana",
            "Paraguay",
            "Suriname",
            "Uruguay"
           ],
           "ids": [
            "Argentina",
            "Brazil",
            "Chile",
            "Colombia",
            "Ecuador",
            "Guyana",
            "Paraguay",
            "Suriname",
            "Uruguay"
           ],
           "legendgroup": "South America",
           "marker": {
            "color": "#2CA02C",
            "size": [
             118,
             150,
             89,
             140,
             127,
             272,
             149,
             188,
             118
            ],
            "sizemode": "area",
            "sizeref": 0.53,
            "symbol": "circle"
           },
           "mode": "markers",
           "name": "South America",
           "orientation": "v",
           "showlegend": true,
           "type": "scatter",
           "x": [
            9.8,
            7.3,
            9.9,
            7.6,
            8.1,
            8.3,
            7.8,
            7.9,
            8.5
           ],
           "xaxis": "x",
           "y": [
            119.82,
            74.45,
            148.41,
            66.45,
            84.88,
            367.98,
            63.3,
            454.11,
            264.35
           ],
           "yaxis": "y"
          },
          {
           "hovertemplate": "<b>%{hovertext}</b><br><br>Continent=Asia<br>Year=2012<br>avg_years_of_schooling=%{x}<br>suicides_per_100k=%{y}<br>Both sexes=%{marker.size}<extra></extra>",
           "hovertext": [
            "Armenia",
            "Bahrain",
            "Cyprus",
            "Georgia",
            "Israel",
            "Japan",
            "Kazakhstan",
            "Kuwait",
            "Kyrgyzstan",
            "Qatar",
            "Singapore",
            "Thailand",
            "Turkey",
            "Turkmenistan",
            "Uzbekistan"
           ],
           "ids": [
            "Armenia",
            "Bahrain",
            "Cyprus",
            "Georgia",
            "Israel",
            "Japan",
            "Kazakhstan",
            "Kuwait",
            "Kyrgyzstan",
            "Qatar",
            "Singapore",
            "Thailand",
            "Turkey",
            "Turkmenistan",
            "Uzbekistan"
           ],
           "legendgroup": "Asia",
           "marker": {
            "color": "#D62728",
            "size": [
             131,
             66,
             55,
             157,
             58,
             57,
             224,
             83,
             189,
             65,
             57,
             155,
             112,
             189,
             145
            ],
            "sizemode": "area",
            "sizeref": 0.53,
            "symbol": "circle"
           },
           "mode": "markers",
           "name": "Asia",
           "orientation": "v",
           "showlegend": true,
           "type": "scatter",
           "x": [
            11.3,
            8.8,
            11.8,
            12.5,
            12.8,
            12,
            11.5,
            7.2,
            10.7,
            9.2,
            11.3,
            7.7,
            7.5,
            9.8,
            11.1
           ],
           "xaxis": "x",
           "y": [
            36.57,
            8.68,
            42.9,
            34.88,
            83.79,
            233.7,
            271.02,
            15.59,
            140.66,
            13.27,
            141.62,
            80.69,
            28.400000000000002,
            30.599999999999998,
            77.53
           ],
           "yaxis": "y"
          },
          {
           "hovertemplate": "<b>%{hovertext}</b><br><br>Continent=Oceania<br>Year=2012<br>avg_years_of_schooling=%{x}<br>suicides_per_100k=%{y}<br>Both sexes=%{marker.size}<extra></extra>",
           "hovertext": [
            "Australia",
            "Fiji",
            "New Zealand"
           ],
           "ids": [
            "Australia",
            "Fiji",
            "New Zealand"
           ],
           "legendgroup": "Oceania",
           "marker": {
            "color": "#9467BD",
            "size": [
             60,
             195,
             68
            ],
            "sizemode": "area",
            "sizeref": 0.53,
            "symbol": "circle"
           },
           "mode": "markers",
           "name": "Oceania",
           "orientation": "v",
           "showlegend": true,
           "type": "scatter",
           "x": [
            12.6,
            10.1,
            12.1
           ],
           "xaxis": "x",
           "y": [
            139.57,
            91.58,
            158.03
           ],
           "yaxis": "y"
          },
          {
           "hovertemplate": "<b>%{hovertext}</b><br><br>Continent=Africa<br>Year=2012<br>avg_years_of_schooling=%{x}<br>suicides_per_100k=%{y}<br>Both sexes=%{marker.size}<extra></extra>",
           "hovertext": [
            "Mauritius",
            "Seychelles",
            "South Africa"
           ],
           "ids": [
            "Mauritius",
            "Seychelles",
            "South Africa"
           ],
           "legendgroup": "Africa",
           "marker": {
            "color": "#8C564B",
            "size": [
             152,
             174,
             361
            ],
            "sizemode": "area",
            "sizeref": 0.53,
            "symbol": "circle"
           },
           "mode": "markers",
           "name": "Africa",
           "orientation": "v",
           "showlegend": true,
           "type": "scatter",
           "x": [
            8.6,
            8.8,
            9.8
           ],
           "xaxis": "x",
           "y": [
            114.25,
            33.5,
            13.56
           ],
           "yaxis": "y"
          }
         ],
         "name": "2012"
        },
        {
         "data": [
          {
           "hovertemplate": "<b>%{hovertext}</b><br><br>Continent=Europe<br>Year=2013<br>avg_years_of_schooling=%{x}<br>suicides_per_100k=%{y}<br>Both sexes=%{marker.size}<extra></extra>",
           "hovertext": [
            "Austria",
            "Belarus",
            "Belgium",
            "Bulgaria",
            "Croatia",
            "Denmark",
            "Estonia",
            "Finland",
            "France",
            "Germany",
            "Greece",
            "Hungary",
            "Iceland",
            "Ireland",
            "Italy",
            "Latvia",
            "Lithuania",
            "Luxembourg",
            "Malta",
            "Netherlands",
            "Norway",
            "Poland",
            "Portugal",
            "Romania",
            "Serbia",
            "Slovakia",
            "Slovenia",
            "Spain",
            "Sweden",
            "Switzerland"
           ],
           "ids": [
            "Austria",
            "Belarus",
            "Belgium",
            "Bulgaria",
            "Croatia",
            "Denmark",
            "Estonia",
            "Finland",
            "France",
            "Germany",
            "Greece",
            "Hungary",
            "Iceland",
            "Ireland",
            "Italy",
            "Latvia",
            "Lithuania",
            "Luxembourg",
            "Malta",
            "Netherlands",
            "Norway",
            "Poland",
            "Portugal",
            "Romania",
            "Serbia",
            "Slovakia",
            "Slovenia",
            "Spain",
            "Sweden",
            "Switzerland"
           ],
           "legendgroup": "Europe",
           "marker": {
            "color": "#1F77B4",
            "size": [
             67,
             183,
             77,
             135,
             96,
             72,
             122,
             78,
             77,
             73,
             68,
             136,
             53,
             64,
             56,
             164,
             179,
             60,
             57,
             61,
             61,
             121,
             78,
             134,
             107,
             111,
             78,
             59,
             56,
             53
            ],
            "sizemode": "area",
            "sizeref": 0.53,
            "symbol": "circle"
           },
           "mode": "markers",
           "name": "Europe",
           "orientation": "v",
           "showlegend": true,
           "type": "scatter",
           "x": [
            11.9,
            12,
            11.4,
            10.9,
            11,
            13.2,
            12.6,
            12.3,
            11.2,
            14,
            10.4,
            12,
            11.9,
            11.8,
            10.3,
            12.7,
            11.9,
            11.8,
            11,
            12.1,
            12.7,
            12.1,
            8.6,
            10.9,
            10.4,
            12.2,
            11.7,
            9.5,
            12.2,
            13.4
           ],
           "xaxis": "x",
           "y": [
            212.12,
            273.32,
            201.54999999999998,
            134.16,
            210.3,
            134.55,
            231.92000000000002,
            196.83,
            192.33,
            153.07999999999998,
            55.11,
            266.23,
            221.24,
            117.41,
            84.86,
            242.19,
            444.56,
            91.48,
            57.22,
            125.53,
            127.01,
            187.59,
            132.73,
            137.99,
            217.73,
            143.91,
            283.02,
            101.32,
            158.20000000000002,
            170.26
           ],
           "yaxis": "y"
          },
          {
           "hovertemplate": "<b>%{hovertext}</b><br><br>Continent=North America<br>Year=2013<br>avg_years_of_schooling=%{x}<br>suicides_per_100k=%{y}<br>Both sexes=%{marker.size}<extra></extra>",
           "hovertext": [
            "Antigua and Barbuda",
            "Bahamas",
            "Barbados",
            "Belize",
            "Canada",
            "Costa Rica",
            "Cuba",
            "El Salvador",
            "Grenada",
            "Guatemala",
            "Mexico",
            "Nicaragua",
            "Panama",
            "Saint Lucia"
           ],
           "ids": [
            "Antigua and Barbuda",
            "Bahamas",
            "Barbados",
            "Belize",
            "Canada",
            "Costa Rica",
            "Cuba",
            "El Salvador",
            "Grenada",
            "Guatemala",
            "Mexico",
            "Nicaragua",
            "Panama",
            "Saint Lucia"
           ],
           "legendgroup": "North America",
           "marker": {
            "color": "#FF7F0E",
            "size": [
             127,
             166,
             101,
             184,
             66,
             97,
             96,
             184,
             145,
             172,
             127,
             153,
             114,
             149
            ],
            "sizemode": "area",
            "sizeref": 0.53,
            "symbol": "circle"
           },
           "mode": "markers",
           "name": "North America",
           "orientation": "v",
           "showlegend": true,
           "type": "scatter",
           "x": [
            9.2,
            11.1,
            10.5,
            10.5,
            12.9,
            8.5,
            11,
            6.6,
            8.5,
            4.7,
            8.4,
            6.4,
            9.7,
            8.4
           ],
           "xaxis": "x",
           "y": [
            0,
            13.91,
            0,
            56.4,
            133.09,
            89.26,
            190.46,
            116.06,
            0,
            40.69,
            64.99,
            80.97,
            49.31,
            114.1
           ],
           "yaxis": "y"
          },
          {
           "hovertemplate": "<b>%{hovertext}</b><br><br>Continent=South America<br>Year=2013<br>avg_years_of_schooling=%{x}<br>suicides_per_100k=%{y}<br>Both sexes=%{marker.size}<extra></extra>",
           "hovertext": [
            "Argentina",
            "Brazil",
            "Chile",
            "Colombia",
            "Ecuador",
            "Guyana",
            "Paraguay",
            "Suriname",
            "Uruguay"
           ],
           "ids": [
            "Argentina",
            "Brazil",
            "Chile",
            "Colombia",
            "Ecuador",
            "Guyana",
            "Paraguay",
            "Suriname",
            "Uruguay"
           ],
           "legendgroup": "South America",
           "marker": {
            "color": "#2CA02C",
            "size": [
             116,
             148,
             90,
             139,
             122,
             263,
             148,
             186,
             117
            ],
            "sizemode": "area",
            "sizeref": 0.53,
            "symbol": "circle"
           },
           "mode": "markers",
           "name": "South America",
           "orientation": "v",
           "showlegend": true,
           "type": "scatter",
           "x": [
            9.8,
            7.4,
            9.9,
            7.8,
            8.3,
            8.3,
            8.3,
            8.1,
            8.5
           ],
           "xaxis": "x",
           "y": [
            103.42,
            73.41,
            134.52,
            63.53,
            62.88,
            356.38,
            75.39,
            286.8,
            249.09
           ],
           "yaxis": "y"
          },
          {
           "hovertemplate": "<b>%{hovertext}</b><br><br>Continent=Asia<br>Year=2013<br>avg_years_of_schooling=%{x}<br>suicides_per_100k=%{y}<br>Both sexes=%{marker.size}<extra></extra>",
           "hovertext": [
            "Armenia",
            "Bahrain",
            "Cyprus",
            "Georgia",
            "Israel",
            "Japan",
            "Kazakhstan",
            "Kuwait",
            "Kyrgyzstan",
            "Qatar",
            "Singapore",
            "Thailand",
            "Turkey",
            "Turkmenistan",
            "Uzbekistan"
           ],
           "ids": [
            "Armenia",
            "Bahrain",
            "Cyprus",
            "Georgia",
            "Israel",
            "Japan",
            "Kazakhstan",
            "Kuwait",
            "Kyrgyzstan",
            "Qatar",
            "Singapore",
            "Thailand",
            "Turkey",
            "Turkmenistan",
            "Uzbekistan"
           ],
           "legendgroup": "Asia",
           "marker": {
            "color": "#D62728",
            "size": [
             121,
             63,
             58,
             158,
             59,
             56,
             211,
             82,
             183,
             65,
             56,
             154,
             109,
             196,
             141
            ],
            "sizemode": "area",
            "sizeref": 0.53,
            "symbol": "circle"
           },
           "mode": "markers",
           "name": "Asia",
           "orientation": "v",
           "showlegend": true,
           "type": "scatter",
           "x": [
            11.4,
            9,
            12,
            12.6,
            12.8,
            12.2,
            11.6,
            6.7,
            10.7,
            9.9,
            11.4,
            7.5,
            7.7,
            9.8,
            11.3
           ],
           "xaxis": "x",
           "y": [
            37.48,
            2.49,
            64.61,
            55.57,
            74.21,
            231.16,
            296.67,
            9.879999999999999,
            109.84,
            8.23,
            137.87,
            79.56,
            35.42,
            23.29,
            78.86
           ],
           "yaxis": "y"
          },
          {
           "hovertemplate": "<b>%{hovertext}</b><br><br>Continent=Oceania<br>Year=2013<br>avg_years_of_schooling=%{x}<br>suicides_per_100k=%{y}<br>Both sexes=%{marker.size}<extra></extra>",
           "hovertext": [
            "Australia",
            "New Zealand"
           ],
           "ids": [
            "Australia",
            "New Zealand"
           ],
           "legendgroup": "Oceania",
           "marker": {
            "color": "#9467BD",
            "size": [
             60,
             66
            ],
            "sizemode": "area",
            "sizeref": 0.53,
            "symbol": "circle"
           },
           "mode": "markers",
           "name": "Oceania",
           "orientation": "v",
           "showlegend": true,
           "type": "scatter",
           "x": [
            12.6,
            12.1
           ],
           "xaxis": "x",
           "y": [
            138.78,
            144.55
           ],
           "yaxis": "y"
          },
          {
           "hovertemplate": "<b>%{hovertext}</b><br><br>Continent=Africa<br>Year=2013<br>avg_years_of_schooling=%{x}<br>suicides_per_100k=%{y}<br>Both sexes=%{marker.size}<extra></extra>",
           "hovertext": [
            "Mauritius",
            "Seychelles",
            "South Africa"
           ],
           "ids": [
            "Mauritius",
            "Seychelles",
            "South Africa"
           ],
           "legendgroup": "Africa",
           "marker": {
            "color": "#8C564B",
            "size": [
             145,
             171,
             335
            ],
            "sizemode": "area",
            "sizeref": 0.53,
            "symbol": "circle"
           },
           "mode": "markers",
           "name": "Africa",
           "orientation": "v",
           "showlegend": true,
           "type": "scatter",
           "x": [
            8.9,
            9.1,
            9.9
           ],
           "xaxis": "x",
           "y": [
            97.67,
            131.4,
            14.9
           ],
           "yaxis": "y"
          }
         ],
         "name": "2013"
        },
        {
         "data": [
          {
           "hovertemplate": "<b>%{hovertext}</b><br><br>Continent=Europe<br>Year=2014<br>avg_years_of_schooling=%{x}<br>suicides_per_100k=%{y}<br>Both sexes=%{marker.size}<extra></extra>",
           "hovertext": [
            "Austria",
            "Belarus",
            "Belgium",
            "Bosnia and Herzegovina",
            "Bulgaria",
            "Croatia",
            "Denmark",
            "Estonia",
            "Finland",
            "France",
            "Germany",
            "Greece",
            "Hungary",
            "Iceland",
            "Ireland",
            "Italy",
            "Latvia",
            "Lithuania",
            "Luxembourg",
            "Malta",
            "Netherlands",
            "Norway",
            "Poland",
            "Portugal",
            "Romania",
            "Serbia",
            "Slovakia",
            "Slovenia",
            "Spain",
            "Sweden",
            "Switzerland",
            "Ukraine"
           ],
           "ids": [
            "Austria",
            "Belarus",
            "Belgium",
            "Bosnia and Herzegovina",
            "Bulgaria",
            "Croatia",
            "Denmark",
            "Estonia",
            "Finland",
            "France",
            "Germany",
            "Greece",
            "Hungary",
            "Iceland",
            "Ireland",
            "Italy",
            "Latvia",
            "Lithuania",
            "Luxembourg",
            "Malta",
            "Netherlands",
            "Norway",
            "Poland",
            "Portugal",
            "Romania",
            "Serbia",
            "Slovakia",
            "Slovenia",
            "Spain",
            "Sweden",
            "Switzerland",
            "Ukraine"
           ],
           "legendgroup": "Europe",
           "marker": {
            "color": "#1F77B4",
            "size": [
             65,
             175,
             73,
             96,
             141,
             94,
             68,
             124,
             73,
             74,
             70,
             67,
             133,
             55,
             62,
             54,
             159,
             167,
             55,
             53,
             59,
             57,
             115,
             77,
             140,
             106,
             109,
             70,
             58,
             55,
             50,
             212
            ],
            "sizemode": "area",
            "sizeref": 0.53,
            "symbol": "circle"
           },
           "mode": "markers",
           "name": "Europe",
           "orientation": "v",
           "showlegend": true,
           "type": "scatter",
           "x": [
            12.1,
            12.1,
            11.5,
            9.2,
            10.9,
            11.1,
            12.8,
            12.6,
            12.4,
            11.4,
            14,
            10.5,
            11.8,
            12.2,
            12.3,
            10.1,
            12.9,
            13,
            12,
            11.1,
            12.1,
            12.5,
            11.3,
            8.9,
            10.9,
            10.7,
            12.3,
            11.9,
            9.7,
            12.3,
            13.4,
            11.3
           ],
           "xaxis": "x",
           "y": [
            209.82,
            252.91,
            201.85,
            109.5,
            139.77,
            222.04,
            137.73,
            258.91,
            177.16,
            179.56,
            153.04,
            59.82,
            244.31,
            197.96,
            119.68,
            82.13,
            248.81,
            401.27,
            147.88,
            102.08,
            121.42,
            127.22999999999999,
            178.3,
            153.89000000000001,
            131.03,
            216.78,
            132.82,
            240.37,
            104.35000000000001,
            149.05,
            162.1,
            250.5
           ],
           "yaxis": "y"
          },
          {
           "hovertemplate": "<b>%{hovertext}</b><br><br>Continent=North America<br>Year=2014<br>avg_years_of_schooling=%{x}<br>suicides_per_100k=%{y}<br>Both sexes=%{marker.size}<extra></extra>",
           "hovertext": [
            "Antigua and Barbuda",
            "Belize",
            "Costa Rica",
            "Cuba",
            "El Salvador",
            "Grenada",
            "Guatemala",
            "Mexico",
            "Nicaragua",
            "Panama",
            "Saint Lucia"
           ],
           "ids": [
            "Antigua and Barbuda",
            "Belize",
            "Costa Rica",
            "Cuba",
            "El Salvador",
            "Grenada",
            "Guatemala",
            "Mexico",
            "Nicaragua",
            "Panama",
            "Saint Lucia"
           ],
           "legendgroup": "North America",
           "marker": {
            "color": "#FF7F0E",
            "size": [
             127,
             183,
             95,
             95,
             182,
             143,
             169,
             129,
             150,
             111,
             145
            ],
            "sizemode": "area",
            "sizeref": 0.53,
            "symbol": "circle"
           },
           "mode": "markers",
           "name": "North America",
           "orientation": "v",
           "showlegend": true,
           "type": "scatter",
           "x": [
            9.2,
            10.5,
            8.6,
            11.2,
            6.5,
            8.6,
            6.4,
            8.4,
            6.5,
            9.9,
            8.7
           ],
           "xaxis": "x",
           "y": [
            0,
            90.95,
            70.85,
            184.63,
            101.84,
            0,
            45.88,
            68.38,
            71.4,
            55.980000000000004,
            91.56
           ],
           "yaxis": "y"
          },
          {
           "hovertemplate": "<b>%{hovertext}</b><br><br>Continent=South America<br>Year=2014<br>avg_years_of_schooling=%{x}<br>suicides_per_100k=%{y}<br>Both sexes=%{marker.size}<extra></extra>",
           "hovertext": [
            "Argentina",
            "Brazil",
            "Chile",
            "Colombia",
            "Ecuador",
            "Paraguay",
            "Suriname",
            "Uruguay"
           ],
           "ids": [
            "Argentina",
            "Brazil",
            "Chile",
            "Colombia",
            "Ecuador",
            "Paraguay",
            "Suriname",
            "Uruguay"
           ],
           "legendgroup": "South America",
           "marker": {
            "color": "#2CA02C",
            "size": [
             113,
             145,
             88,
             139,
             119,
             147,
             184,
             114
            ],
            "sizemode": "area",
            "sizeref": 0.53,
            "symbol": "circle"
           },
           "mode": "markers",
           "name": "South America",
           "orientation": "v",
           "showlegend": true,
           "type": "scatter",
           "x": [
            9.8,
            7.4,
            10.1,
            8,
            8.5,
            8.2,
            8.2,
            8.6
           ],
           "xaxis": "x",
           "y": [
            111.35,
            73.13,
            137.37,
            66.62,
            66.02,
            72.15,
            357.34000000000003,
            248.64
           ],
           "yaxis": "y"
          },
          {
           "hovertemplate": "<b>%{hovertext}</b><br><br>Continent=Asia<br>Year=2014<br>avg_years_of_schooling=%{x}<br>suicides_per_100k=%{y}<br>Both sexes=%{marker.size}<extra></extra>",
           "hovertext": [
            "Armenia",
            "Bahrain",
            "Cyprus",
            "Georgia",
            "Israel",
            "Japan",
            "Kazakhstan",
            "Kuwait",
            "Kyrgyzstan",
            "Oman",
            "Qatar",
            "Singapore",
            "Thailand",
            "Turkey",
            "Turkmenistan",
            "Uzbekistan"
           ],
           "ids": [
            "Armenia",
            "Bahrain",
            "Cyprus",
            "Georgia",
            "Israel",
            "Japan",
            "Kazakhstan",
            "Kuwait",
            "Kyrgyzstan",
            "Oman",
            "Qatar",
            "Singapore",
            "Thailand",
            "Turkey",
            "Turkmenistan",
            "Uzbekistan"
           ],
           "legendgroup": "Asia",
           "marker": {
            "color": "#D62728",
            "size": [
             118,
             62,
             61,
             155,
             58,
             54,
             199,
             81,
             175,
             100,
             64,
             55,
             151,
             107,
             199,
             139
            ],
            "sizemode": "area",
            "sizeref": 0.53,
            "symbol": "circle"
           },
           "mode": "markers",
           "name": "Asia",
           "orientation": "v",
           "showlegend": true,
           "type": "scatter",
           "x": [
            11.5,
            9.1,
            11.9,
            12.6,
            12.9,
            12.5,
            11.7,
            6.9,
            10.8,
            9.3,
            9.8,
            11.4,
            7.6,
            7.6,
            9.8,
            11.3
           ],
           "xaxis": "x",
           "y": [
            37.01,
            6.5200000000000005,
            57.1,
            74.49,
            71.25999999999999,
            218.21,
            257.09,
            15.86,
            111.79,
            1.51,
            18.99,
            131.78,
            76.96000000000001,
            30.83,
            28.15,
            85.12
           ],
           "yaxis": "y"
          },
          {
           "hovertemplate": "<b>%{hovertext}</b><br><br>Continent=Oceania<br>Year=2014<br>avg_years_of_schooling=%{x}<br>suicides_per_100k=%{y}<br>Both sexes=%{marker.size}<extra></extra>",
           "hovertext": [
            "Australia"
           ],
           "ids": [
            "Australia"
           ],
           "legendgroup": "Oceania",
           "marker": {
            "color": "#9467BD",
            "size": [
             61
            ],
            "sizemode": "area",
            "sizeref": 0.53,
            "symbol": "circle"
           },
           "mode": "markers",
           "name": "Oceania",
           "orientation": "v",
           "showlegend": true,
           "type": "scatter",
           "x": [
            12.7
           ],
           "xaxis": "x",
           "y": [
            149.07
           ],
           "yaxis": "y"
          },
          {
           "hovertemplate": "<b>%{hovertext}</b><br><br>Continent=Africa<br>Year=2014<br>avg_years_of_schooling=%{x}<br>suicides_per_100k=%{y}<br>Both sexes=%{marker.size}<extra></extra>",
           "hovertext": [
            "Mauritius",
            "Seychelles",
            "South Africa"
           ],
           "ids": [
            "Mauritius",
            "Seychelles",
            "South Africa"
           ],
           "legendgroup": "Africa",
           "marker": {
            "color": "#8C564B",
            "size": [
             148,
             168,
             316
            ],
            "sizemode": "area",
            "sizeref": 0.53,
            "symbol": "circle"
           },
           "mode": "markers",
           "name": "Africa",
           "orientation": "v",
           "showlegend": true,
           "type": "scatter",
           "x": [
            9.1,
            9.4,
            10
           ],
           "xaxis": "x",
           "y": [
            115.45,
            43.33,
            15.08
           ],
           "yaxis": "y"
          }
         ],
         "name": "2014"
        },
        {
         "data": [
          {
           "hovertemplate": "<b>%{hovertext}</b><br><br>Continent=Europe<br>Year=2015<br>avg_years_of_schooling=%{x}<br>suicides_per_100k=%{y}<br>Both sexes=%{marker.size}<extra></extra>",
           "hovertext": [
            "Austria",
            "Belgium",
            "Croatia",
            "Denmark",
            "Estonia",
            "Finland",
            "Germany",
            "Greece",
            "Hungary",
            "Iceland",
            "Italy",
            "Latvia",
            "Lithuania",
            "Luxembourg",
            "Malta",
            "Netherlands",
            "Norway",
            "Poland",
            "Romania",
            "Serbia",
            "Slovenia",
            "Spain",
            "Sweden",
            "Switzerland",
            "Ukraine"
           ],
           "ids": [
            "Austria",
            "Belgium",
            "Croatia",
            "Denmark",
            "Estonia",
            "Finland",
            "Germany",
            "Greece",
            "Hungary",
            "Iceland",
            "Italy",
            "Latvia",
            "Lithuania",
            "Luxembourg",
            "Malta",
            "Netherlands",
            "Norway",
            "Poland",
            "Romania",
            "Serbia",
            "Slovenia",
            "Spain",
            "Sweden",
            "Switzerland",
            "Ukraine"
           ],
           "legendgroup": "Europe",
           "marker": {
            "color": "#1F77B4",
            "size": [
             64,
             72,
             96,
             66,
             116,
             70,
             71,
             68,
             132,
             54,
             55,
             154,
             165,
             52,
             55,
             58,
             54,
             115,
             136,
             106,
             74,
             58,
             54,
             50,
             188
            ],
            "sizemode": "area",
            "sizeref": 0.53,
            "symbol": "circle"
           },
           "mode": "markers",
           "name": "Europe",
           "orientation": "v",
           "showlegend": true,
           "type": "scatter",
           "x": [
            12.1,
            11.7,
            11.2,
            12.5,
            12.7,
            12.4,
            14.1,
            10.6,
            11.8,
            12.2,
            10.2,
            12.8,
            13,
            12,
            11.2,
            12.1,
            12.5,
            12.1,
            10.9,
            11,
            12,
            9.7,
            12.4,
            13.4,
            11.3
           ],
           "xaxis": "x",
           "y": [
            194.62,
            196.66,
            229.68,
            121.42,
            205.38,
            161.19,
            150.34,
            56.06,
            257.27,
            140.65,
            78.45,
            251.47,
            385.48,
            134.4,
            78.27,
            126.93,
            136.43,
            166.99,
            133.54999999999998,
            205.97,
            264.81,
            97.38000000000001,
            149.3,
            164.66,
            244.72
           ],
           "yaxis": "y"
          },
          {
           "hovertemplate": "<b>%{hovertext}</b><br><br>Continent=North America<br>Year=2015<br>avg_years_of_schooling=%{x}<br>suicides_per_100k=%{y}<br>Both sexes=%{marker.size}<extra></extra>",
           "hovertext": [
            "Antigua and Barbuda",
            "Belize",
            "Cuba",
            "Grenada",
            "Guatemala",
            "Mexico",
            "Nicaragua",
            "Panama"
           ],
           "ids": [
            "Antigua and Barbuda",
            "Belize",
            "Cuba",
            "Grenada",
            "Guatemala",
            "Mexico",
            "Nicaragua",
            "Panama"
           ],
           "legendgroup": "North America",
           "marker": {
            "color": "#FF7F0E",
            "size": [
             122,
             182,
             94,
             141,
             165,
             128,
             148,
             112
            ],
            "sizemode": "area",
            "sizeref": 0.53,
            "symbol": "circle"
           },
           "mode": "markers",
           "name": "North America",
           "orientation": "v",
           "showlegend": true,
           "type": "scatter",
           "x": [
            9.2,
            10.5,
            11.4,
            8.7,
            6.3,
            8.6,
            6.5,
            9.9
           ],
           "xaxis": "x",
           "y": [
            15.62,
            135.46,
            194.31,
            0,
            44.85,
            66.57,
            69.87,
            44.9
           ],
           "yaxis": "y"
          },
          {
           "hovertemplate": "<b>%{hovertext}</b><br><br>Continent=South America<br>Year=2015<br>avg_years_of_schooling=%{x}<br>suicides_per_100k=%{y}<br>Both sexes=%{marker.size}<extra></extra>",
           "hovertext": [
            "Argentina",
            "Brazil",
            "Chile",
            "Colombia",
            "Ecuador",
            "Uruguay"
           ],
           "ids": [
            "Argentina",
            "Brazil",
            "Chile",
            "Colombia",
            "Ecuador",
            "Uruguay"
           ],
           "legendgroup": "South America",
           "marker": {
            "color": "#2CA02C",
            "size": [
             113,
             145,
             88,
             138,
             117,
             114
            ],
            "sizemode": "area",
            "sizeref": 0.53,
            "symbol": "circle"
           },
           "mode": "markers",
           "name": "South America",
           "orientation": "v",
           "showlegend": true,
           "type": "scatter",
           "x": [
            9.8,
            7.6,
            10.3,
            8.1,
            8.4,
            8.7
           ],
           "xaxis": "x",
           "y": [
            112.13,
            77.45,
            147.68,
            70.39999999999999,
            97.39,
            270.02
           ],
           "yaxis": "y"
          },
          {
           "hovertemplate": "<b>%{hovertext}</b><br><br>Continent=Asia<br>Year=2015<br>avg_years_of_schooling=%{x}<br>suicides_per_100k=%{y}<br>Both sexes=%{marker.size}<extra></extra>",
           "hovertext": [
            "Armenia",
            "Cyprus",
            "Georgia",
            "Israel",
            "Japan",
            "Kazakhstan",
            "Kyrgyzstan",
            "Qatar",
            "Singapore",
            "Thailand",
            "Turkey",
            "Turkmenistan"
           ],
           "ids": [
            "Armenia",
            "Cyprus",
            "Georgia",
            "Israel",
            "Japan",
            "Kazakhstan",
            "Kyrgyzstan",
            "Qatar",
            "Singapore",
            "Thailand",
            "Turkey",
            "Turkmenistan"
           ],
           "legendgroup": "Asia",
           "marker": {
            "color": "#D62728",
            "size": [
             121,
             57,
             156,
             58,
             53,
             192,
             167,
             63,
             54,
             149,
             106,
             198
            ],
            "sizemode": "area",
            "sizeref": 0.53,
            "symbol": "circle"
           },
           "mode": "markers",
           "name": "Asia",
           "orientation": "v",
           "showlegend": true,
           "type": "scatter",
           "x": [
            11.6,
            11.9,
            12.7,
            13,
            12.5,
            11.7,
            10.8,
            9.8,
            11.5,
            7.6,
            7.8,
            9.8
           ],
           "xaxis": "x",
           "y": [
            45.28,
            49.589999999999996,
            84.67999999999999,
            65.91,
            206.04,
            238.01999999999998,
            98.37,
            18.84,
            109.28999999999999,
            81.15,
            28.47,
            28.48
           ],
           "yaxis": "y"
          },
          {
           "hovertemplate": "<b>%{hovertext}</b><br><br>Continent=Oceania<br>Year=2015<br>avg_years_of_schooling=%{x}<br>suicides_per_100k=%{y}<br>Both sexes=%{marker.size}<extra></extra>",
           "hovertext": [
            "Australia"
           ],
           "ids": [
            "Australia"
           ],
           "legendgroup": "Oceania",
           "marker": {
            "color": "#9467BD",
            "size": [
             62
            ],
            "sizemode": "area",
            "sizeref": 0.53,
            "symbol": "circle"
           },
           "mode": "markers",
           "name": "Oceania",
           "orientation": "v",
           "showlegend": true,
           "type": "scatter",
           "x": [
            12.8
           ],
           "xaxis": "x",
           "y": [
            154.18
           ],
           "yaxis": "y"
          },
          {
           "hovertemplate": "<b>%{hovertext}</b><br><br>Continent=Africa<br>Year=2015<br>avg_years_of_schooling=%{x}<br>suicides_per_100k=%{y}<br>Both sexes=%{marker.size}<extra></extra>",
           "hovertext": [
            "Mauritius",
            "Seychelles",
            "South Africa"
           ],
           "ids": [
            "Mauritius",
            "Seychelles",
            "South Africa"
           ],
           "legendgroup": "Africa",
           "marker": {
            "color": "#8C564B",
            "size": [
             148,
             166,
             305
            ],
            "sizemode": "area",
            "sizeref": 0.53,
            "symbol": "circle"
           },
           "mode": "markers",
           "name": "Africa",
           "orientation": "v",
           "showlegend": true,
           "type": "scatter",
           "x": [
            9.1,
            9.5,
            10.1
           ],
           "xaxis": "x",
           "y": [
            99.97,
            81.25,
            13
           ],
           "yaxis": "y"
          }
         ],
         "name": "2015"
        },
        {
         "data": [
          {
           "hovertemplate": "<b>%{hovertext}</b><br><br>Continent=Europe<br>Year=2011<br>avg_years_of_schooling=%{x}<br>suicides_per_100k=%{y}<br>Both sexes=%{marker.size}<extra></extra>",
           "hovertext": [
            "Austria",
            "Belarus",
            "Belgium",
            "Bosnia and Herzegovina",
            "Bulgaria",
            "Croatia",
            "Denmark",
            "Estonia",
            "Finland",
            "France",
            "Germany",
            "Greece",
            "Hungary",
            "Iceland",
            "Ireland",
            "Italy",
            "Latvia",
            "Lithuania",
            "Luxembourg",
            "Malta",
            "Netherlands",
            "Norway",
            "Poland",
            "Portugal",
            "Romania",
            "Serbia",
            "Slovenia",
            "Spain",
            "Sweden",
            "Switzerland",
            "Ukraine"
           ],
           "ids": [
            "Austria",
            "Belarus",
            "Belgium",
            "Bosnia and Herzegovina",
            "Bulgaria",
            "Croatia",
            "Denmark",
            "Estonia",
            "Finland",
            "France",
            "Germany",
            "Greece",
            "Hungary",
            "Iceland",
            "Ireland",
            "Italy",
            "Latvia",
            "Lithuania",
            "Luxembourg",
            "Malta",
            "Netherlands",
            "Norway",
            "Poland",
            "Portugal",
            "Romania",
            "Serbia",
            "Slovenia",
            "Spain",
            "Sweden",
            "Switzerland",
            "Ukraine"
           ],
           "legendgroup": "Europe",
           "marker": {
            "color": "#1F77B4",
            "size": [
             72,
             227,
             81,
             100,
             141,
             103,
             78,
             136,
             84,
             83,
             75,
             73,
             147,
             51,
             67,
             58,
             167,
             184,
             66,
             59,
             64,
             66,
             128,
             84,
             141,
             113,
             82,
             63,
             58,
             54,
             209
            ],
            "sizemode": "area",
            "sizeref": 0.53,
            "symbol": "circle"
           },
           "mode": "markers",
           "name": "Europe",
           "orientation": "v",
           "showlegend": true,
           "type": "scatter",
           "x": [
            11.8,
            12,
            11.2,
            7.2,
            10.7,
            11,
            12.7,
            12.5,
            12.3,
            10.9,
            13.9,
            10.3,
            12,
            11,
            10.9,
            9.8,
            12.6,
            11.8,
            11.8,
            10.5,
            12,
            12.8,
            12.3,
            8.3,
            10.8,
            10.6,
            12.2,
            9.5,
            12.4,
            13.3,
            11.3
           ],
           "xaxis": "x",
           "y": [
            211.49,
            299.36,
            226.71,
            1.31,
            133.52,
            221.10999999999999,
            126.33,
            229.26,
            203.61,
            211.18,
            152.82,
            48.68,
            299.85,
            92.95,
            138.58,
            86.08,
            288.75,
            407.69,
            136.53,
            47.5,
            113.08,
            146.49,
            183.86,
            127.86,
            138.78,
            243.45,
            281.66,
            88.59,
            141.77,
            168.22,
            264
           ],
           "yaxis": "y"
          },
          {
           "hovertemplate": "<b>%{hovertext}</b><br><br>Continent=North America<br>Year=2011<br>avg_years_of_schooling=%{x}<br>suicides_per_100k=%{y}<br>Both sexes=%{marker.size}<extra></extra>",
           "hovertext": [
            "Bahamas",
            "Barbados",
            "Belize",
            "Canada",
            "Costa Rica",
            "Cuba",
            "El Salvador",
            "Grenada",
            "Guatemala",
            "Jamaica",
            "Mexico",
            "Nicaragua",
            "Panama",
            "Saint Lucia",
            "Trinidad and Tobago"
           ],
           "ids": [
            "Bahamas",
            "Barbados",
            "Belize",
            "Canada",
            "Costa Rica",
            "Cuba",
            "El Salvador",
            "Grenada",
            "Guatemala",
            "Jamaica",
            "Mexico",
            "Nicaragua",
            "Panama",
            "Saint Lucia",
            "Trinidad and Tobago"
           ],
           "legendgroup": "North America",
           "marker": {
            "color": "#FF7F0E",
            "size": [
             158,
             106,
             182,
             67,
             100,
             92,
             189,
             150,
             180,
             139,
             133,
             158,
             117,
             153,
             180
            ],
            "sizemode": "area",
            "sizeref": 0.53,
            "symbol": "circle"
           },
           "mode": "markers",
           "name": "North America",
           "orientation": "v",
           "showlegend": true,
           "type": "scatter",
           "x": [
            11,
            9.9,
            10.5,
            12.7,
            8.4,
            11.3,
            6.5,
            8.4,
            5.3,
            9,
            8.4,
            6.1,
            9.3,
            8.4,
            10.8
           ],
           "xaxis": "x",
           "y": [
            12.99,
            0,
            153.3,
            125.02,
            89.83,
            207.05,
            115.46,
            20.73,
            34.69,
            27.86,
            65.52,
            89.55,
            62.730000000000004,
            53.32,
            138.69
           ],
           "yaxis": "y"
          },
          {
           "hovertemplate": "<b>%{hovertext}</b><br><br>Continent=South America<br>Year=2011<br>avg_years_of_schooling=%{x}<br>suicides_per_100k=%{y}<br>Both sexes=%{marker.size}<extra></extra>",
           "hovertext": [
            "Argentina",
            "Brazil",
            "Chile",
            "Colombia",
            "Ecuador",
            "Guyana",
            "Paraguay",
            "Suriname"
           ],
           "ids": [
            "Argentina",
            "Brazil",
            "Chile",
            "Colombia",
            "Ecuador",
            "Guyana",
            "Paraguay",
            "Suriname"
           ],
           "legendgroup": "South America",
           "marker": {
            "color": "#2CA02C",
            "size": [
             118,
             153,
             90,
             140,
             130,
             263,
             150,
             191
            ],
            "sizemode": "area",
            "sizeref": 0.53,
            "symbol": "circle"
           },
           "mode": "markers",
           "name": "South America",
           "orientation": "v",
           "showlegend": true,
           "type": "scatter",
           "x": [
            9.8,
            7.1,
            9.8,
            7.5,
            8,
            8.2,
            7.8,
            7.8
           ],
           "xaxis": "x",
           "y": [
            105.87,
            72.41,
            160.84,
            62.879999999999995,
            81.8,
            349.53000000000003,
            67.83,
            353.31
           ],
           "yaxis": "y"
          },
          {
           "hovertemplate": "<b>%{hovertext}</b><br><br>Continent=Asia<br>Year=2011<br>avg_years_of_schooling=%{x}<br>suicides_per_100k=%{y}<br>Both sexes=%{marker.size}<extra></extra>",
           "hovertext": [
            "Armenia",
            "Bahrain",
            "Cyprus",
            "Georgia",
            "Israel",
            "Japan",
            "Kazakhstan",
            "Kuwait",
            "Kyrgyzstan",
            "Maldives",
            "Philippines",
            "Qatar",
            "Singapore",
            "Thailand",
            "Turkey",
            "Turkmenistan",
            "Uzbekistan"
           ],
           "ids": [
            "Armenia",
            "Bahrain",
            "Cyprus",
            "Georgia",
            "Israel",
            "Japan",
            "Kazakhstan",
            "Kuwait",
            "Kyrgyzstan",
            "Maldives",
            "Philippines",
            "Qatar",
            "Singapore",
            "Thailand",
            "Turkey",
            "Turkmenistan",
            "Uzbekistan"
           ],
           "legendgroup": "Asia",
           "marker": {
            "color": "#D62728",
            "size": [
             135,
             66,
             58,
             153,
             59,
             62,
             232,
             84,
             196,
             66,
             202,
             65,
             59,
             158,
             114,
             190,
             144
            ],
            "sizemode": "area",
            "sizeref": 0.53,
            "symbol": "circle"
           },
           "mode": "markers",
           "name": "Asia",
           "orientation": "v",
           "showlegend": true,
           "type": "scatter",
           "x": [
            11.2,
            8.6,
            11.6,
            12.2,
            12.7,
            11.8,
            11.5,
            7,
            10.6,
            5.2,
            9,
            8.7,
            11.2,
            7.5,
            7.2,
            9.9,
            10.9
           ],
           "xaxis": "x",
           "y": [
            32.98,
            14.96,
            43.78,
            36.309999999999995,
            87.41,
            252.41,
            293.76,
            11.41,
            126.89,
            5.39,
            44.910000000000004,
            18.85,
            116.96000000000001,
            77.59,
            23.07,
            31.63,
            67.14
           ],
           "yaxis": "y"
          },
          {
           "hovertemplate": "<b>%{hovertext}</b><br><br>Continent=Oceania<br>Year=2011<br>avg_years_of_schooling=%{x}<br>suicides_per_100k=%{y}<br>Both sexes=%{marker.size}<extra></extra>",
           "hovertext": [
            "Australia",
            "Fiji",
            "New Zealand"
           ],
           "ids": [
            "Australia",
            "Fiji",
            "New Zealand"
           ],
           "legendgroup": "Oceania",
           "marker": {
            "color": "#9467BD",
            "size": [
             62,
             197,
             71
            ],
            "sizemode": "area",
            "sizeref": 0.53,
            "symbol": "circle"
           },
           "mode": "markers",
           "name": "Oceania",
           "orientation": "v",
           "showlegend": true,
           "type": "scatter",
           "x": [
            12.5,
            9.8,
            12
           ],
           "xaxis": "x",
           "y": [
            133.22,
            106.97,
            142.82
           ],
           "yaxis": "y"
          },
          {
           "hovertemplate": "<b>%{hovertext}</b><br><br>Continent=Africa<br>Year=2011<br>avg_years_of_schooling=%{x}<br>suicides_per_100k=%{y}<br>Both sexes=%{marker.size}<extra></extra>",
           "hovertext": [
            "Mauritius",
            "Seychelles",
            "South Africa"
           ],
           "ids": [
            "Mauritius",
            "Seychelles",
            "South Africa"
           ],
           "legendgroup": "Africa",
           "marker": {
            "color": "#8C564B",
            "size": [
             156,
             177,
             397
            ],
            "sizemode": "area",
            "sizeref": 0.53,
            "symbol": "circle"
           },
           "mode": "markers",
           "name": "Africa",
           "orientation": "v",
           "showlegend": true,
           "type": "scatter",
           "x": [
            8.5,
            8.4,
            9.9
           ],
           "xaxis": "x",
           "y": [
            120.04,
            51.339999999999996,
            9.31
           ],
           "yaxis": "y"
          }
         ],
         "name": "2011"
        },
        {
         "data": [
          {
           "hovertemplate": "<b>%{hovertext}</b><br><br>Continent=Europe<br>Year=2016<br>avg_years_of_schooling=%{x}<br>suicides_per_100k=%{y}<br>Both sexes=%{marker.size}<extra></extra>",
           "hovertext": [
            "Austria",
            "Croatia",
            "Hungary",
            "Iceland",
            "Lithuania",
            "Netherlands",
            "Romania",
            "Sweden"
           ],
           "ids": [
            "Austria",
            "Croatia",
            "Hungary",
            "Iceland",
            "Lithuania",
            "Netherlands",
            "Romania",
            "Sweden"
           ],
           "legendgroup": "Europe",
           "marker": {
            "color": "#1F77B4",
            "size": [
             62,
             88,
             126,
             55,
             155,
             59,
             135,
             52
            ],
            "sizemode": "area",
            "sizeref": 0.53,
            "symbol": "circle"
           },
           "mode": "markers",
           "name": "Europe",
           "orientation": "v",
           "showlegend": true,
           "type": "scatter",
           "x": [
            12.1,
            11.3,
            11.9,
            12.4,
            13,
            12.1,
            11,
            12.4
           ],
           "xaxis": "x",
           "y": [
            183.23,
            213.56,
            241.34,
            138.07,
            361.72,
            127.39,
            116.33,
            138.84
           ],
           "yaxis": "y"
          },
          {
           "hovertemplate": "<b>%{hovertext}</b><br><br>Continent=North America<br>Year=2016<br>avg_years_of_schooling=%{x}<br>suicides_per_100k=%{y}<br>Both sexes=%{marker.size}<extra></extra>",
           "hovertext": [
            "Grenada"
           ],
           "ids": [
            "Grenada"
           ],
           "legendgroup": "North America",
           "marker": {
            "color": "#FF7F0E",
            "size": [
             140
            ],
            "sizemode": "area",
            "sizeref": 0.53,
            "symbol": "circle"
           },
           "mode": "markers",
           "name": "North America",
           "orientation": "v",
           "showlegend": true,
           "type": "scatter",
           "x": [
            8.7
           ],
           "xaxis": "x",
           "y": [
            0
           ],
           "yaxis": "y"
          },
          {
           "hovertemplate": "<b>%{hovertext}</b><br><br>Continent=Asia<br>Year=2016<br>avg_years_of_schooling=%{x}<br>suicides_per_100k=%{y}<br>Both sexes=%{marker.size}<extra></extra>",
           "hovertext": [
            "Armenia",
            "Cyprus",
            "Mongolia",
            "Qatar",
            "Thailand"
           ],
           "ids": [
            "Armenia",
            "Cyprus",
            "Mongolia",
            "Qatar",
            "Thailand"
           ],
           "legendgroup": "Asia",
           "marker": {
            "color": "#D62728",
            "size": [
             116,
             55,
             211,
             62,
             147
            ],
            "sizemode": "area",
            "sizeref": 0.53,
            "symbol": "circle"
           },
           "mode": "markers",
           "name": "Asia",
           "orientation": "v",
           "showlegend": true,
           "type": "scatter",
           "x": [
            11.7,
            12.1,
            10.1,
            9.8,
            7.6
           ],
           "xaxis": "x",
           "y": [
            40.56,
            47.15,
            184.39,
            16.43,
            77.32
           ],
           "yaxis": "y"
          },
          {
           "hovertemplate": "<b>%{hovertext}</b><br><br>Continent=Africa<br>Year=2016<br>avg_years_of_schooling=%{x}<br>suicides_per_100k=%{y}<br>Both sexes=%{marker.size}<extra></extra>",
           "hovertext": [
            "Mauritius"
           ],
           "ids": [
            "Mauritius"
           ],
           "legendgroup": "Africa",
           "marker": {
            "color": "#8C564B",
            "size": [
             145
            ],
            "sizemode": "area",
            "sizeref": 0.53,
            "symbol": "circle"
           },
           "mode": "markers",
           "name": "Africa",
           "orientation": "v",
           "showlegend": true,
           "type": "scatter",
           "x": [
            9.3
           ],
           "xaxis": "x",
           "y": [
            99.3
           ],
           "yaxis": "y"
          }
         ],
         "name": "2016"
        }
       ],
       "layout": {
        "height": 700,
        "legend": {
         "itemsizing": "constant",
         "title": {
          "text": "Continent"
         },
         "tracegroupgap": 0
        },
        "margin": {
         "t": 60
        },
        "sliders": [
         {
          "active": 0,
          "currentvalue": {
           "prefix": "Year="
          },
          "len": 0.9,
          "pad": {
           "b": 10,
           "t": 60
          },
          "steps": [
           {
            "args": [
             [
              "2000"
             ],
             {
              "frame": {
               "duration": 0,
               "redraw": false
              },
              "fromcurrent": true,
              "mode": "immediate",
              "transition": {
               "duration": 0,
               "easing": "linear"
              }
             }
            ],
            "label": "2000",
            "method": "animate"
           },
           {
            "args": [
             [
              "2001"
             ],
             {
              "frame": {
               "duration": 0,
               "redraw": false
              },
              "fromcurrent": true,
              "mode": "immediate",
              "transition": {
               "duration": 0,
               "easing": "linear"
              }
             }
            ],
            "label": "2001",
            "method": "animate"
           },
           {
            "args": [
             [
              "2002"
             ],
             {
              "frame": {
               "duration": 0,
               "redraw": false
              },
              "fromcurrent": true,
              "mode": "immediate",
              "transition": {
               "duration": 0,
               "easing": "linear"
              }
             }
            ],
            "label": "2002",
            "method": "animate"
           },
           {
            "args": [
             [
              "2003"
             ],
             {
              "frame": {
               "duration": 0,
               "redraw": false
              },
              "fromcurrent": true,
              "mode": "immediate",
              "transition": {
               "duration": 0,
               "easing": "linear"
              }
             }
            ],
            "label": "2003",
            "method": "animate"
           },
           {
            "args": [
             [
              "2004"
             ],
             {
              "frame": {
               "duration": 0,
               "redraw": false
              },
              "fromcurrent": true,
              "mode": "immediate",
              "transition": {
               "duration": 0,
               "easing": "linear"
              }
             }
            ],
            "label": "2004",
            "method": "animate"
           },
           {
            "args": [
             [
              "2005"
             ],
             {
              "frame": {
               "duration": 0,
               "redraw": false
              },
              "fromcurrent": true,
              "mode": "immediate",
              "transition": {
               "duration": 0,
               "easing": "linear"
              }
             }
            ],
            "label": "2005",
            "method": "animate"
           },
           {
            "args": [
             [
              "2006"
             ],
             {
              "frame": {
               "duration": 0,
               "redraw": false
              },
              "fromcurrent": true,
              "mode": "immediate",
              "transition": {
               "duration": 0,
               "easing": "linear"
              }
             }
            ],
            "label": "2006",
            "method": "animate"
           },
           {
            "args": [
             [
              "2007"
             ],
             {
              "frame": {
               "duration": 0,
               "redraw": false
              },
              "fromcurrent": true,
              "mode": "immediate",
              "transition": {
               "duration": 0,
               "easing": "linear"
              }
             }
            ],
            "label": "2007",
            "method": "animate"
           },
           {
            "args": [
             [
              "2008"
             ],
             {
              "frame": {
               "duration": 0,
               "redraw": false
              },
              "fromcurrent": true,
              "mode": "immediate",
              "transition": {
               "duration": 0,
               "easing": "linear"
              }
             }
            ],
            "label": "2008",
            "method": "animate"
           },
           {
            "args": [
             [
              "2009"
             ],
             {
              "frame": {
               "duration": 0,
               "redraw": false
              },
              "fromcurrent": true,
              "mode": "immediate",
              "transition": {
               "duration": 0,
               "easing": "linear"
              }
             }
            ],
            "label": "2009",
            "method": "animate"
           },
           {
            "args": [
             [
              "2010"
             ],
             {
              "frame": {
               "duration": 0,
               "redraw": false
              },
              "fromcurrent": true,
              "mode": "immediate",
              "transition": {
               "duration": 0,
               "easing": "linear"
              }
             }
            ],
            "label": "2010",
            "method": "animate"
           },
           {
            "args": [
             [
              "2012"
             ],
             {
              "frame": {
               "duration": 0,
               "redraw": false
              },
              "fromcurrent": true,
              "mode": "immediate",
              "transition": {
               "duration": 0,
               "easing": "linear"
              }
             }
            ],
            "label": "2012",
            "method": "animate"
           },
           {
            "args": [
             [
              "2013"
             ],
             {
              "frame": {
               "duration": 0,
               "redraw": false
              },
              "fromcurrent": true,
              "mode": "immediate",
              "transition": {
               "duration": 0,
               "easing": "linear"
              }
             }
            ],
            "label": "2013",
            "method": "animate"
           },
           {
            "args": [
             [
              "2014"
             ],
             {
              "frame": {
               "duration": 0,
               "redraw": false
              },
              "fromcurrent": true,
              "mode": "immediate",
              "transition": {
               "duration": 0,
               "easing": "linear"
              }
             }
            ],
            "label": "2014",
            "method": "animate"
           },
           {
            "args": [
             [
              "2015"
             ],
             {
              "frame": {
               "duration": 0,
               "redraw": false
              },
              "fromcurrent": true,
              "mode": "immediate",
              "transition": {
               "duration": 0,
               "easing": "linear"
              }
             }
            ],
            "label": "2015",
            "method": "animate"
           },
           {
            "args": [
             [
              "2011"
             ],
             {
              "frame": {
               "duration": 0,
               "redraw": false
              },
              "fromcurrent": true,
              "mode": "immediate",
              "transition": {
               "duration": 0,
               "easing": "linear"
              }
             }
            ],
            "label": "2011",
            "method": "animate"
           },
           {
            "args": [
             [
              "2016"
             ],
             {
              "frame": {
               "duration": 0,
               "redraw": false
              },
              "fromcurrent": true,
              "mode": "immediate",
              "transition": {
               "duration": 0,
               "easing": "linear"
              }
             }
            ],
            "label": "2016",
            "method": "animate"
           }
          ],
          "x": 0.1,
          "xanchor": "left",
          "y": 0,
          "yanchor": "top"
         }
        ],
        "template": {
         "data": {
          "bar": [
           {
            "error_x": {
             "color": "rgb(36,36,36)"
            },
            "error_y": {
             "color": "rgb(36,36,36)"
            },
            "marker": {
             "line": {
              "color": "white",
              "width": 0.5
             },
             "pattern": {
              "fillmode": "overlay",
              "size": 10,
              "solidity": 0.2
             }
            },
            "type": "bar"
           }
          ],
          "barpolar": [
           {
            "marker": {
             "line": {
              "color": "white",
              "width": 0.5
             },
             "pattern": {
              "fillmode": "overlay",
              "size": 10,
              "solidity": 0.2
             }
            },
            "type": "barpolar"
           }
          ],
          "carpet": [
           {
            "aaxis": {
             "endlinecolor": "rgb(36,36,36)",
             "gridcolor": "white",
             "linecolor": "white",
             "minorgridcolor": "white",
             "startlinecolor": "rgb(36,36,36)"
            },
            "baxis": {
             "endlinecolor": "rgb(36,36,36)",
             "gridcolor": "white",
             "linecolor": "white",
             "minorgridcolor": "white",
             "startlinecolor": "rgb(36,36,36)"
            },
            "type": "carpet"
           }
          ],
          "choropleth": [
           {
            "colorbar": {
             "outlinewidth": 1,
             "tickcolor": "rgb(36,36,36)",
             "ticks": "outside"
            },
            "type": "choropleth"
           }
          ],
          "contour": [
           {
            "colorbar": {
             "outlinewidth": 1,
             "tickcolor": "rgb(36,36,36)",
             "ticks": "outside"
            },
            "colorscale": [
             [
              0,
              "#440154"
             ],
             [
              0.1111111111111111,
              "#482878"
             ],
             [
              0.2222222222222222,
              "#3e4989"
             ],
             [
              0.3333333333333333,
              "#31688e"
             ],
             [
              0.4444444444444444,
              "#26828e"
             ],
             [
              0.5555555555555556,
              "#1f9e89"
             ],
             [
              0.6666666666666666,
              "#35b779"
             ],
             [
              0.7777777777777778,
              "#6ece58"
             ],
             [
              0.8888888888888888,
              "#b5de2b"
             ],
             [
              1,
              "#fde725"
             ]
            ],
            "type": "contour"
           }
          ],
          "contourcarpet": [
           {
            "colorbar": {
             "outlinewidth": 1,
             "tickcolor": "rgb(36,36,36)",
             "ticks": "outside"
            },
            "type": "contourcarpet"
           }
          ],
          "heatmap": [
           {
            "colorbar": {
             "outlinewidth": 1,
             "tickcolor": "rgb(36,36,36)",
             "ticks": "outside"
            },
            "colorscale": [
             [
              0,
              "#440154"
             ],
             [
              0.1111111111111111,
              "#482878"
             ],
             [
              0.2222222222222222,
              "#3e4989"
             ],
             [
              0.3333333333333333,
              "#31688e"
             ],
             [
              0.4444444444444444,
              "#26828e"
             ],
             [
              0.5555555555555556,
              "#1f9e89"
             ],
             [
              0.6666666666666666,
              "#35b779"
             ],
             [
              0.7777777777777778,
              "#6ece58"
             ],
             [
              0.8888888888888888,
              "#b5de2b"
             ],
             [
              1,
              "#fde725"
             ]
            ],
            "type": "heatmap"
           }
          ],
          "heatmapgl": [
           {
            "colorbar": {
             "outlinewidth": 1,
             "tickcolor": "rgb(36,36,36)",
             "ticks": "outside"
            },
            "colorscale": [
             [
              0,
              "#440154"
             ],
             [
              0.1111111111111111,
              "#482878"
             ],
             [
              0.2222222222222222,
              "#3e4989"
             ],
             [
              0.3333333333333333,
              "#31688e"
             ],
             [
              0.4444444444444444,
              "#26828e"
             ],
             [
              0.5555555555555556,
              "#1f9e89"
             ],
             [
              0.6666666666666666,
              "#35b779"
             ],
             [
              0.7777777777777778,
              "#6ece58"
             ],
             [
              0.8888888888888888,
              "#b5de2b"
             ],
             [
              1,
              "#fde725"
             ]
            ],
            "type": "heatmapgl"
           }
          ],
          "histogram": [
           {
            "marker": {
             "line": {
              "color": "white",
              "width": 0.6
             }
            },
            "type": "histogram"
           }
          ],
          "histogram2d": [
           {
            "colorbar": {
             "outlinewidth": 1,
             "tickcolor": "rgb(36,36,36)",
             "ticks": "outside"
            },
            "colorscale": [
             [
              0,
              "#440154"
             ],
             [
              0.1111111111111111,
              "#482878"
             ],
             [
              0.2222222222222222,
              "#3e4989"
             ],
             [
              0.3333333333333333,
              "#31688e"
             ],
             [
              0.4444444444444444,
              "#26828e"
             ],
             [
              0.5555555555555556,
              "#1f9e89"
             ],
             [
              0.6666666666666666,
              "#35b779"
             ],
             [
              0.7777777777777778,
              "#6ece58"
             ],
             [
              0.8888888888888888,
              "#b5de2b"
             ],
             [
              1,
              "#fde725"
             ]
            ],
            "type": "histogram2d"
           }
          ],
          "histogram2dcontour": [
           {
            "colorbar": {
             "outlinewidth": 1,
             "tickcolor": "rgb(36,36,36)",
             "ticks": "outside"
            },
            "colorscale": [
             [
              0,
              "#440154"
             ],
             [
              0.1111111111111111,
              "#482878"
             ],
             [
              0.2222222222222222,
              "#3e4989"
             ],
             [
              0.3333333333333333,
              "#31688e"
             ],
             [
              0.4444444444444444,
              "#26828e"
             ],
             [
              0.5555555555555556,
              "#1f9e89"
             ],
             [
              0.6666666666666666,
              "#35b779"
             ],
             [
              0.7777777777777778,
              "#6ece58"
             ],
             [
              0.8888888888888888,
              "#b5de2b"
             ],
             [
              1,
              "#fde725"
             ]
            ],
            "type": "histogram2dcontour"
           }
          ],
          "mesh3d": [
           {
            "colorbar": {
             "outlinewidth": 1,
             "tickcolor": "rgb(36,36,36)",
             "ticks": "outside"
            },
            "type": "mesh3d"
           }
          ],
          "parcoords": [
           {
            "line": {
             "colorbar": {
              "outlinewidth": 1,
              "tickcolor": "rgb(36,36,36)",
              "ticks": "outside"
             }
            },
            "type": "parcoords"
           }
          ],
          "pie": [
           {
            "automargin": true,
            "type": "pie"
           }
          ],
          "scatter": [
           {
            "fillpattern": {
             "fillmode": "overlay",
             "size": 10,
             "solidity": 0.2
            },
            "type": "scatter"
           }
          ],
          "scatter3d": [
           {
            "line": {
             "colorbar": {
              "outlinewidth": 1,
              "tickcolor": "rgb(36,36,36)",
              "ticks": "outside"
             }
            },
            "marker": {
             "colorbar": {
              "outlinewidth": 1,
              "tickcolor": "rgb(36,36,36)",
              "ticks": "outside"
             }
            },
            "type": "scatter3d"
           }
          ],
          "scattercarpet": [
           {
            "marker": {
             "colorbar": {
              "outlinewidth": 1,
              "tickcolor": "rgb(36,36,36)",
              "ticks": "outside"
             }
            },
            "type": "scattercarpet"
           }
          ],
          "scattergeo": [
           {
            "marker": {
             "colorbar": {
              "outlinewidth": 1,
              "tickcolor": "rgb(36,36,36)",
              "ticks": "outside"
             }
            },
            "type": "scattergeo"
           }
          ],
          "scattergl": [
           {
            "marker": {
             "colorbar": {
              "outlinewidth": 1,
              "tickcolor": "rgb(36,36,36)",
              "ticks": "outside"
             }
            },
            "type": "scattergl"
           }
          ],
          "scattermapbox": [
           {
            "marker": {
             "colorbar": {
              "outlinewidth": 1,
              "tickcolor": "rgb(36,36,36)",
              "ticks": "outside"
             }
            },
            "type": "scattermapbox"
           }
          ],
          "scatterpolar": [
           {
            "marker": {
             "colorbar": {
              "outlinewidth": 1,
              "tickcolor": "rgb(36,36,36)",
              "ticks": "outside"
             }
            },
            "type": "scatterpolar"
           }
          ],
          "scatterpolargl": [
           {
            "marker": {
             "colorbar": {
              "outlinewidth": 1,
              "tickcolor": "rgb(36,36,36)",
              "ticks": "outside"
             }
            },
            "type": "scatterpolargl"
           }
          ],
          "scatterternary": [
           {
            "marker": {
             "colorbar": {
              "outlinewidth": 1,
              "tickcolor": "rgb(36,36,36)",
              "ticks": "outside"
             }
            },
            "type": "scatterternary"
           }
          ],
          "surface": [
           {
            "colorbar": {
             "outlinewidth": 1,
             "tickcolor": "rgb(36,36,36)",
             "ticks": "outside"
            },
            "colorscale": [
             [
              0,
              "#440154"
             ],
             [
              0.1111111111111111,
              "#482878"
             ],
             [
              0.2222222222222222,
              "#3e4989"
             ],
             [
              0.3333333333333333,
              "#31688e"
             ],
             [
              0.4444444444444444,
              "#26828e"
             ],
             [
              0.5555555555555556,
              "#1f9e89"
             ],
             [
              0.6666666666666666,
              "#35b779"
             ],
             [
              0.7777777777777778,
              "#6ece58"
             ],
             [
              0.8888888888888888,
              "#b5de2b"
             ],
             [
              1,
              "#fde725"
             ]
            ],
            "type": "surface"
           }
          ],
          "table": [
           {
            "cells": {
             "fill": {
              "color": "rgb(237,237,237)"
             },
             "line": {
              "color": "white"
             }
            },
            "header": {
             "fill": {
              "color": "rgb(217,217,217)"
             },
             "line": {
              "color": "white"
             }
            },
            "type": "table"
           }
          ]
         },
         "layout": {
          "annotationdefaults": {
           "arrowhead": 0,
           "arrowwidth": 1
          },
          "autotypenumbers": "strict",
          "coloraxis": {
           "colorbar": {
            "outlinewidth": 1,
            "tickcolor": "rgb(36,36,36)",
            "ticks": "outside"
           }
          },
          "colorscale": {
           "diverging": [
            [
             0,
             "rgb(103,0,31)"
            ],
            [
             0.1,
             "rgb(178,24,43)"
            ],
            [
             0.2,
             "rgb(214,96,77)"
            ],
            [
             0.3,
             "rgb(244,165,130)"
            ],
            [
             0.4,
             "rgb(253,219,199)"
            ],
            [
             0.5,
             "rgb(247,247,247)"
            ],
            [
             0.6,
             "rgb(209,229,240)"
            ],
            [
             0.7,
             "rgb(146,197,222)"
            ],
            [
             0.8,
             "rgb(67,147,195)"
            ],
            [
             0.9,
             "rgb(33,102,172)"
            ],
            [
             1,
             "rgb(5,48,97)"
            ]
           ],
           "sequential": [
            [
             0,
             "#440154"
            ],
            [
             0.1111111111111111,
             "#482878"
            ],
            [
             0.2222222222222222,
             "#3e4989"
            ],
            [
             0.3333333333333333,
             "#31688e"
            ],
            [
             0.4444444444444444,
             "#26828e"
            ],
            [
             0.5555555555555556,
             "#1f9e89"
            ],
            [
             0.6666666666666666,
             "#35b779"
            ],
            [
             0.7777777777777778,
             "#6ece58"
            ],
            [
             0.8888888888888888,
             "#b5de2b"
            ],
            [
             1,
             "#fde725"
            ]
           ],
           "sequentialminus": [
            [
             0,
             "#440154"
            ],
            [
             0.1111111111111111,
             "#482878"
            ],
            [
             0.2222222222222222,
             "#3e4989"
            ],
            [
             0.3333333333333333,
             "#31688e"
            ],
            [
             0.4444444444444444,
             "#26828e"
            ],
            [
             0.5555555555555556,
             "#1f9e89"
            ],
            [
             0.6666666666666666,
             "#35b779"
            ],
            [
             0.7777777777777778,
             "#6ece58"
            ],
            [
             0.8888888888888888,
             "#b5de2b"
            ],
            [
             1,
             "#fde725"
            ]
           ]
          },
          "colorway": [
           "#1F77B4",
           "#FF7F0E",
           "#2CA02C",
           "#D62728",
           "#9467BD",
           "#8C564B",
           "#E377C2",
           "#7F7F7F",
           "#BCBD22",
           "#17BECF"
          ],
          "font": {
           "color": "rgb(36,36,36)"
          },
          "geo": {
           "bgcolor": "white",
           "lakecolor": "white",
           "landcolor": "white",
           "showlakes": true,
           "showland": true,
           "subunitcolor": "white"
          },
          "hoverlabel": {
           "align": "left"
          },
          "hovermode": "closest",
          "mapbox": {
           "style": "light"
          },
          "paper_bgcolor": "white",
          "plot_bgcolor": "white",
          "polar": {
           "angularaxis": {
            "gridcolor": "rgb(232,232,232)",
            "linecolor": "rgb(36,36,36)",
            "showgrid": false,
            "showline": true,
            "ticks": "outside"
           },
           "bgcolor": "white",
           "radialaxis": {
            "gridcolor": "rgb(232,232,232)",
            "linecolor": "rgb(36,36,36)",
            "showgrid": false,
            "showline": true,
            "ticks": "outside"
           }
          },
          "scene": {
           "xaxis": {
            "backgroundcolor": "white",
            "gridcolor": "rgb(232,232,232)",
            "gridwidth": 2,
            "linecolor": "rgb(36,36,36)",
            "showbackground": true,
            "showgrid": false,
            "showline": true,
            "ticks": "outside",
            "zeroline": false,
            "zerolinecolor": "rgb(36,36,36)"
           },
           "yaxis": {
            "backgroundcolor": "white",
            "gridcolor": "rgb(232,232,232)",
            "gridwidth": 2,
            "linecolor": "rgb(36,36,36)",
            "showbackground": true,
            "showgrid": false,
            "showline": true,
            "ticks": "outside",
            "zeroline": false,
            "zerolinecolor": "rgb(36,36,36)"
           },
           "zaxis": {
            "backgroundcolor": "white",
            "gridcolor": "rgb(232,232,232)",
            "gridwidth": 2,
            "linecolor": "rgb(36,36,36)",
            "showbackground": true,
            "showgrid": false,
            "showline": true,
            "ticks": "outside",
            "zeroline": false,
            "zerolinecolor": "rgb(36,36,36)"
           }
          },
          "shapedefaults": {
           "fillcolor": "black",
           "line": {
            "width": 0
           },
           "opacity": 0.3
          },
          "ternary": {
           "aaxis": {
            "gridcolor": "rgb(232,232,232)",
            "linecolor": "rgb(36,36,36)",
            "showgrid": false,
            "showline": true,
            "ticks": "outside"
           },
           "baxis": {
            "gridcolor": "rgb(232,232,232)",
            "linecolor": "rgb(36,36,36)",
            "showgrid": false,
            "showline": true,
            "ticks": "outside"
           },
           "bgcolor": "white",
           "caxis": {
            "gridcolor": "rgb(232,232,232)",
            "linecolor": "rgb(36,36,36)",
            "showgrid": false,
            "showline": true,
            "ticks": "outside"
           }
          },
          "title": {
           "x": 0.05
          },
          "xaxis": {
           "automargin": true,
           "gridcolor": "rgb(232,232,232)",
           "linecolor": "rgb(36,36,36)",
           "showgrid": false,
           "showline": true,
           "ticks": "outside",
           "title": {
            "standoff": 15
           },
           "zeroline": false,
           "zerolinecolor": "rgb(36,36,36)"
          },
          "yaxis": {
           "automargin": true,
           "gridcolor": "rgb(232,232,232)",
           "linecolor": "rgb(36,36,36)",
           "showgrid": false,
           "showline": true,
           "ticks": "outside",
           "title": {
            "standoff": 15
           },
           "zeroline": false,
           "zerolinecolor": "rgb(36,36,36)"
          }
         }
        },
        "updatemenus": [
         {
          "buttons": [
           {
            "args": [
             null,
             {
              "frame": {
               "duration": 500,
               "redraw": false
              },
              "fromcurrent": true,
              "mode": "immediate",
              "transition": {
               "duration": 500,
               "easing": "linear"
              }
             }
            ],
            "label": "&#9654;",
            "method": "animate"
           },
           {
            "args": [
             [
              null
             ],
             {
              "frame": {
               "duration": 0,
               "redraw": false
              },
              "fromcurrent": true,
              "mode": "immediate",
              "transition": {
               "duration": 0,
               "easing": "linear"
              }
             }
            ],
            "label": "&#9724;",
            "method": "animate"
           }
          ],
          "direction": "left",
          "pad": {
           "r": 10,
           "t": 70
          },
          "showactive": false,
          "type": "buttons",
          "x": 0.1,
          "xanchor": "right",
          "y": 0,
          "yanchor": "top"
         }
        ],
        "width": 1000,
        "xaxis": {
         "anchor": "y",
         "domain": [
          0,
          1
         ],
         "title": {
          "text": "avg_years_of_schooling"
         }
        },
        "yaxis": {
         "anchor": "x",
         "domain": [
          0,
          1
         ],
         "title": {
          "text": "suicides_per_100k"
         }
        }
       }
      }
     },
     "metadata": {},
     "output_type": "display_data"
    }
   ],
   "source": [
    "import plotly.express as px\n",
    "px.scatter(final_df_2, x='avg_years_of_schooling', y='suicides_per_100k',\n",
    "           size='Both sexes', size_max=30, color='Continent', animation_frame=\"Year\", animation_group=\"Country\",\n",
    "           template='simple_white', width=1000, height=700,hover_name='Country')"
   ]
  },
  {
   "cell_type": "code",
   "execution_count": null,
   "metadata": {},
   "outputs": [],
   "source": []
  }
 ],
 "metadata": {
  "kernelspec": {
   "display_name": "Python 3 (ipykernel)",
   "language": "python",
   "name": "python3"
  },
  "language_info": {
   "codemirror_mode": {
    "name": "ipython",
    "version": 3
   },
   "file_extension": ".py",
   "mimetype": "text/x-python",
   "name": "python",
   "nbconvert_exporter": "python",
   "pygments_lexer": "ipython3",
   "version": "3.10.10"
  },
  "vscode": {
   "interpreter": {
    "hash": "b1b36b063993772ac0562bc8d8b6eb957454c97760e4751b586aaa9fa2f1e4a2"
   }
  }
 },
 "nbformat": 4,
 "nbformat_minor": 2
}
