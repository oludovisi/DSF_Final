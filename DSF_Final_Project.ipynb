{
 "cells": [
  {
   "cell_type": "code",
   "execution_count": 30,
   "metadata": {},
   "outputs": [],
   "source": [
    "import pandas as pd\n",
    "import numpy as np\n",
    "import matplotlib.pyplot as plt\n",
    "import seaborn as sns\n",
    "import pycountry_convert as pc\n",
    "sns.set_style('white')\n",
    "plt.rcParams[\"figure.figsize\"] = (12, 8)"
   ]
  },
  {
   "cell_type": "code",
   "execution_count": 31,
   "metadata": {},
   "outputs": [
    {
     "data": {
      "text/html": [
       "<div>\n",
       "<style scoped>\n",
       "    .dataframe tbody tr th:only-of-type {\n",
       "        vertical-align: middle;\n",
       "    }\n",
       "\n",
       "    .dataframe tbody tr th {\n",
       "        vertical-align: top;\n",
       "    }\n",
       "\n",
       "    .dataframe thead th {\n",
       "        text-align: right;\n",
       "    }\n",
       "</style>\n",
       "<table border=\"1\" class=\"dataframe\">\n",
       "  <thead>\n",
       "    <tr style=\"text-align: right;\">\n",
       "      <th></th>\n",
       "      <th>Entity</th>\n",
       "      <th>Code</th>\n",
       "      <th>Year</th>\n",
       "      <th>avg_years_of_schooling</th>\n",
       "    </tr>\n",
       "  </thead>\n",
       "  <tbody>\n",
       "    <tr>\n",
       "      <th>0</th>\n",
       "      <td>Afghanistan</td>\n",
       "      <td>AFG</td>\n",
       "      <td>1870</td>\n",
       "      <td>0.01</td>\n",
       "    </tr>\n",
       "    <tr>\n",
       "      <th>1</th>\n",
       "      <td>Afghanistan</td>\n",
       "      <td>AFG</td>\n",
       "      <td>1875</td>\n",
       "      <td>0.01</td>\n",
       "    </tr>\n",
       "    <tr>\n",
       "      <th>2</th>\n",
       "      <td>Afghanistan</td>\n",
       "      <td>AFG</td>\n",
       "      <td>1880</td>\n",
       "      <td>0.01</td>\n",
       "    </tr>\n",
       "    <tr>\n",
       "      <th>3</th>\n",
       "      <td>Afghanistan</td>\n",
       "      <td>AFG</td>\n",
       "      <td>1885</td>\n",
       "      <td>0.01</td>\n",
       "    </tr>\n",
       "    <tr>\n",
       "      <th>4</th>\n",
       "      <td>Afghanistan</td>\n",
       "      <td>AFG</td>\n",
       "      <td>1890</td>\n",
       "      <td>0.01</td>\n",
       "    </tr>\n",
       "    <tr>\n",
       "      <th>...</th>\n",
       "      <td>...</td>\n",
       "      <td>...</td>\n",
       "      <td>...</td>\n",
       "      <td>...</td>\n",
       "    </tr>\n",
       "    <tr>\n",
       "      <th>7758</th>\n",
       "      <td>Zimbabwe</td>\n",
       "      <td>ZWE</td>\n",
       "      <td>2013</td>\n",
       "      <td>8.00</td>\n",
       "    </tr>\n",
       "    <tr>\n",
       "      <th>7759</th>\n",
       "      <td>Zimbabwe</td>\n",
       "      <td>ZWE</td>\n",
       "      <td>2014</td>\n",
       "      <td>8.20</td>\n",
       "    </tr>\n",
       "    <tr>\n",
       "      <th>7760</th>\n",
       "      <td>Zimbabwe</td>\n",
       "      <td>ZWE</td>\n",
       "      <td>2015</td>\n",
       "      <td>8.20</td>\n",
       "    </tr>\n",
       "    <tr>\n",
       "      <th>7761</th>\n",
       "      <td>Zimbabwe</td>\n",
       "      <td>ZWE</td>\n",
       "      <td>2016</td>\n",
       "      <td>8.20</td>\n",
       "    </tr>\n",
       "    <tr>\n",
       "      <th>7762</th>\n",
       "      <td>Zimbabwe</td>\n",
       "      <td>ZWE</td>\n",
       "      <td>2017</td>\n",
       "      <td>8.20</td>\n",
       "    </tr>\n",
       "  </tbody>\n",
       "</table>\n",
       "<p>7763 rows × 4 columns</p>\n",
       "</div>"
      ],
      "text/plain": [
       "           Entity Code  Year  avg_years_of_schooling\n",
       "0     Afghanistan  AFG  1870                    0.01\n",
       "1     Afghanistan  AFG  1875                    0.01\n",
       "2     Afghanistan  AFG  1880                    0.01\n",
       "3     Afghanistan  AFG  1885                    0.01\n",
       "4     Afghanistan  AFG  1890                    0.01\n",
       "...           ...  ...   ...                     ...\n",
       "7758     Zimbabwe  ZWE  2013                    8.00\n",
       "7759     Zimbabwe  ZWE  2014                    8.20\n",
       "7760     Zimbabwe  ZWE  2015                    8.20\n",
       "7761     Zimbabwe  ZWE  2016                    8.20\n",
       "7762     Zimbabwe  ZWE  2017                    8.20\n",
       "\n",
       "[7763 rows x 4 columns]"
      ]
     },
     "execution_count": 31,
     "metadata": {},
     "output_type": "execute_result"
    }
   ],
   "source": [
    "mean_years = pd.read_csv('mean-years-of-schooling-long-run.csv', sep=';')\n",
    "mean_years"
   ]
  },
  {
   "cell_type": "code",
   "execution_count": 32,
   "metadata": {},
   "outputs": [
    {
     "data": {
      "text/html": [
       "<div>\n",
       "<style scoped>\n",
       "    .dataframe tbody tr th:only-of-type {\n",
       "        vertical-align: middle;\n",
       "    }\n",
       "\n",
       "    .dataframe tbody tr th {\n",
       "        vertical-align: top;\n",
       "    }\n",
       "\n",
       "    .dataframe thead th {\n",
       "        text-align: right;\n",
       "    }\n",
       "</style>\n",
       "<table border=\"1\" class=\"dataframe\">\n",
       "  <thead>\n",
       "    <tr style=\"text-align: right;\">\n",
       "      <th></th>\n",
       "      <th>Country</th>\n",
       "      <th>Year</th>\n",
       "      <th>Both sexes</th>\n",
       "      <th>Male</th>\n",
       "      <th>Female</th>\n",
       "    </tr>\n",
       "  </thead>\n",
       "  <tbody>\n",
       "    <tr>\n",
       "      <th>0</th>\n",
       "      <td>Afghanistan</td>\n",
       "      <td>2016</td>\n",
       "      <td>245</td>\n",
       "      <td>272</td>\n",
       "      <td>216</td>\n",
       "    </tr>\n",
       "    <tr>\n",
       "      <th>1</th>\n",
       "      <td>Afghanistan</td>\n",
       "      <td>2015</td>\n",
       "      <td>233</td>\n",
       "      <td>254</td>\n",
       "      <td>210</td>\n",
       "    </tr>\n",
       "    <tr>\n",
       "      <th>2</th>\n",
       "      <td>Afghanistan</td>\n",
       "      <td>2014</td>\n",
       "      <td>234</td>\n",
       "      <td>254</td>\n",
       "      <td>213</td>\n",
       "    </tr>\n",
       "    <tr>\n",
       "      <th>3</th>\n",
       "      <td>Afghanistan</td>\n",
       "      <td>2013</td>\n",
       "      <td>235</td>\n",
       "      <td>254</td>\n",
       "      <td>215</td>\n",
       "    </tr>\n",
       "    <tr>\n",
       "      <th>4</th>\n",
       "      <td>Afghanistan</td>\n",
       "      <td>2012</td>\n",
       "      <td>242</td>\n",
       "      <td>262</td>\n",
       "      <td>221</td>\n",
       "    </tr>\n",
       "    <tr>\n",
       "      <th>...</th>\n",
       "      <td>...</td>\n",
       "      <td>...</td>\n",
       "      <td>...</td>\n",
       "      <td>...</td>\n",
       "      <td>...</td>\n",
       "    </tr>\n",
       "    <tr>\n",
       "      <th>3106</th>\n",
       "      <td>Zimbabwe</td>\n",
       "      <td>2004</td>\n",
       "      <td>694</td>\n",
       "      <td>725</td>\n",
       "      <td>670</td>\n",
       "    </tr>\n",
       "    <tr>\n",
       "      <th>3107</th>\n",
       "      <td>Zimbabwe</td>\n",
       "      <td>2003</td>\n",
       "      <td>697</td>\n",
       "      <td>728</td>\n",
       "      <td>671</td>\n",
       "    </tr>\n",
       "    <tr>\n",
       "      <th>3108</th>\n",
       "      <td>Zimbabwe</td>\n",
       "      <td>2002</td>\n",
       "      <td>695</td>\n",
       "      <td>728</td>\n",
       "      <td>667</td>\n",
       "    </tr>\n",
       "    <tr>\n",
       "      <th>3109</th>\n",
       "      <td>Zimbabwe</td>\n",
       "      <td>2001</td>\n",
       "      <td>688</td>\n",
       "      <td>723</td>\n",
       "      <td>656</td>\n",
       "    </tr>\n",
       "    <tr>\n",
       "      <th>3110</th>\n",
       "      <td>Zimbabwe</td>\n",
       "      <td>2000</td>\n",
       "      <td>675</td>\n",
       "      <td>715</td>\n",
       "      <td>640</td>\n",
       "    </tr>\n",
       "  </tbody>\n",
       "</table>\n",
       "<p>3111 rows × 5 columns</p>\n",
       "</div>"
      ],
      "text/plain": [
       "          Country  Year  Both sexes  Male  Female\n",
       "0     Afghanistan  2016         245   272     216\n",
       "1     Afghanistan  2015         233   254     210\n",
       "2     Afghanistan  2014         234   254     213\n",
       "3     Afghanistan  2013         235   254     215\n",
       "4     Afghanistan  2012         242   262     221\n",
       "...           ...   ...         ...   ...     ...\n",
       "3106     Zimbabwe  2004         694   725     670\n",
       "3107     Zimbabwe  2003         697   728     671\n",
       "3108     Zimbabwe  2002         695   728     667\n",
       "3109     Zimbabwe  2001         688   723     656\n",
       "3110     Zimbabwe  2000         675   715     640\n",
       "\n",
       "[3111 rows x 5 columns]"
      ]
     },
     "execution_count": 32,
     "metadata": {},
     "output_type": "execute_result"
    }
   ],
   "source": [
    "ad_mort = pd.read_csv('Adult mortality.csv', skiprows=1)\n",
    "#ad_mort = ad_mort[(ad_mort['Year'] >= 2013) & (ad_mort['Year'] <2017)]\n",
    "ad_mort"
   ]
  },
  {
   "cell_type": "code",
   "execution_count": 33,
   "metadata": {},
   "outputs": [
    {
     "data": {
      "text/html": [
       "<div>\n",
       "<style scoped>\n",
       "    .dataframe tbody tr th:only-of-type {\n",
       "        vertical-align: middle;\n",
       "    }\n",
       "\n",
       "    .dataframe tbody tr th {\n",
       "        vertical-align: top;\n",
       "    }\n",
       "\n",
       "    .dataframe thead th {\n",
       "        text-align: right;\n",
       "    }\n",
       "</style>\n",
       "<table border=\"1\" class=\"dataframe\">\n",
       "  <thead>\n",
       "    <tr style=\"text-align: right;\">\n",
       "      <th></th>\n",
       "      <th>Country</th>\n",
       "      <th>Year</th>\n",
       "      <th>Maternal mortality ratio (per 100 000 live births)</th>\n",
       "      <th>Number of maternal deaths</th>\n",
       "    </tr>\n",
       "  </thead>\n",
       "  <tbody>\n",
       "    <tr>\n",
       "      <th>0</th>\n",
       "      <td>Afghanistan</td>\n",
       "      <td>2017</td>\n",
       "      <td>638 [ 427 - 1 010 ]</td>\n",
       "      <td>7 700 [ 5 100 - 12 000 ]</td>\n",
       "    </tr>\n",
       "    <tr>\n",
       "      <th>1</th>\n",
       "      <td>Afghanistan</td>\n",
       "      <td>2016</td>\n",
       "      <td>673 [ 457 - 1 040 ]</td>\n",
       "      <td>8 100 [ 5 500 - 12 000 ]</td>\n",
       "    </tr>\n",
       "    <tr>\n",
       "      <th>2</th>\n",
       "      <td>Afghanistan</td>\n",
       "      <td>2015</td>\n",
       "      <td>701 [ 501 - 1 020 ]</td>\n",
       "      <td>8 400 [ 6 000 - 12 000 ]</td>\n",
       "    </tr>\n",
       "    <tr>\n",
       "      <th>3</th>\n",
       "      <td>Afghanistan</td>\n",
       "      <td>2014</td>\n",
       "      <td>786 [ 592 - 1 080 ]</td>\n",
       "      <td>9 300 [ 7 000 - 13 000 ]</td>\n",
       "    </tr>\n",
       "    <tr>\n",
       "      <th>4</th>\n",
       "      <td>Afghanistan</td>\n",
       "      <td>2013</td>\n",
       "      <td>810 [ 617 - 1 080 ]</td>\n",
       "      <td>9 600 [ 7 300 - 13 000 ]</td>\n",
       "    </tr>\n",
       "    <tr>\n",
       "      <th>...</th>\n",
       "      <td>...</td>\n",
       "      <td>...</td>\n",
       "      <td>...</td>\n",
       "      <td>...</td>\n",
       "    </tr>\n",
       "    <tr>\n",
       "      <th>3289</th>\n",
       "      <td>Zimbabwe</td>\n",
       "      <td>2004</td>\n",
       "      <td>686 [ 597 - 784 ]</td>\n",
       "      <td>2 800 [ 2 400 - 3 100 ]</td>\n",
       "    </tr>\n",
       "    <tr>\n",
       "      <th>3290</th>\n",
       "      <td>Zimbabwe</td>\n",
       "      <td>2003</td>\n",
       "      <td>680 [ 590 - 779 ]</td>\n",
       "      <td>2 700 [ 2 300 - 3 100 ]</td>\n",
       "    </tr>\n",
       "    <tr>\n",
       "      <th>3291</th>\n",
       "      <td>Zimbabwe</td>\n",
       "      <td>2002</td>\n",
       "      <td>666 [ 577 - 766 ]</td>\n",
       "      <td>2 600 [ 2 200 - 3 000 ]</td>\n",
       "    </tr>\n",
       "    <tr>\n",
       "      <th>3292</th>\n",
       "      <td>Zimbabwe</td>\n",
       "      <td>2001</td>\n",
       "      <td>629 [ 544 - 723 ]</td>\n",
       "      <td>2 400 [ 2 100 - 2 800 ]</td>\n",
       "    </tr>\n",
       "    <tr>\n",
       "      <th>3293</th>\n",
       "      <td>Zimbabwe</td>\n",
       "      <td>2000</td>\n",
       "      <td>579 [ 500 - 667 ]</td>\n",
       "      <td>2 200 [ 1 900 - 2 500 ]</td>\n",
       "    </tr>\n",
       "  </tbody>\n",
       "</table>\n",
       "<p>3294 rows × 4 columns</p>\n",
       "</div>"
      ],
      "text/plain": [
       "          Country  Year Maternal mortality ratio (per 100 000 live births)  \\\n",
       "0     Afghanistan  2017                                638 [ 427 - 1 010 ]   \n",
       "1     Afghanistan  2016                                673 [ 457 - 1 040 ]   \n",
       "2     Afghanistan  2015                                701 [ 501 - 1 020 ]   \n",
       "3     Afghanistan  2014                                786 [ 592 - 1 080 ]   \n",
       "4     Afghanistan  2013                                810 [ 617 - 1 080 ]   \n",
       "...           ...   ...                                                ...   \n",
       "3289     Zimbabwe  2004                                  686 [ 597 - 784 ]   \n",
       "3290     Zimbabwe  2003                                  680 [ 590 - 779 ]   \n",
       "3291     Zimbabwe  2002                                  666 [ 577 - 766 ]   \n",
       "3292     Zimbabwe  2001                                  629 [ 544 - 723 ]   \n",
       "3293     Zimbabwe  2000                                  579 [ 500 - 667 ]   \n",
       "\n",
       "     Number of maternal deaths  \n",
       "0     7 700 [ 5 100 - 12 000 ]  \n",
       "1     8 100 [ 5 500 - 12 000 ]  \n",
       "2     8 400 [ 6 000 - 12 000 ]  \n",
       "3     9 300 [ 7 000 - 13 000 ]  \n",
       "4     9 600 [ 7 300 - 13 000 ]  \n",
       "...                        ...  \n",
       "3289   2 800 [ 2 400 - 3 100 ]  \n",
       "3290   2 700 [ 2 300 - 3 100 ]  \n",
       "3291   2 600 [ 2 200 - 3 000 ]  \n",
       "3292   2 400 [ 2 100 - 2 800 ]  \n",
       "3293   2 200 [ 1 900 - 2 500 ]  \n",
       "\n",
       "[3294 rows x 4 columns]"
      ]
     },
     "execution_count": 33,
     "metadata": {},
     "output_type": "execute_result"
    }
   ],
   "source": [
    "mat_mort = pd.read_csv('Maternal mortality.csv')\n",
    "mat_mort"
   ]
  },
  {
   "cell_type": "code",
   "execution_count": 34,
   "metadata": {},
   "outputs": [
    {
     "data": {
      "text/html": [
       "<div>\n",
       "<style scoped>\n",
       "    .dataframe tbody tr th:only-of-type {\n",
       "        vertical-align: middle;\n",
       "    }\n",
       "\n",
       "    .dataframe tbody tr th {\n",
       "        vertical-align: top;\n",
       "    }\n",
       "\n",
       "    .dataframe thead th {\n",
       "        text-align: right;\n",
       "    }\n",
       "</style>\n",
       "<table border=\"1\" class=\"dataframe\">\n",
       "  <thead>\n",
       "    <tr style=\"text-align: right;\">\n",
       "      <th></th>\n",
       "      <th>Country</th>\n",
       "      <th>Year</th>\n",
       "      <th>inf_both_sexes</th>\n",
       "      <th>inf_male</th>\n",
       "      <th>inf_female</th>\n",
       "      <th>neonat_both_sexes</th>\n",
       "      <th>u5_both_sexes</th>\n",
       "      <th>u5_male</th>\n",
       "      <th>u5_female</th>\n",
       "    </tr>\n",
       "  </thead>\n",
       "  <tbody>\n",
       "    <tr>\n",
       "      <th>2</th>\n",
       "      <td>Afghanistan</td>\n",
       "      <td>2016</td>\n",
       "      <td>51.2</td>\n",
       "      <td>54.5</td>\n",
       "      <td>47.7</td>\n",
       "      <td>39.3</td>\n",
       "      <td>67.5</td>\n",
       "      <td>70.9</td>\n",
       "      <td>63.7</td>\n",
       "    </tr>\n",
       "    <tr>\n",
       "      <th>3</th>\n",
       "      <td>Afghanistan</td>\n",
       "      <td>2015</td>\n",
       "      <td>53.1</td>\n",
       "      <td>56.5</td>\n",
       "      <td>49.6</td>\n",
       "      <td>40.5</td>\n",
       "      <td>70.4</td>\n",
       "      <td>73.8</td>\n",
       "      <td>66.7</td>\n",
       "    </tr>\n",
       "    <tr>\n",
       "      <th>4</th>\n",
       "      <td>Afghanistan</td>\n",
       "      <td>2014</td>\n",
       "      <td>55.1</td>\n",
       "      <td>58.6</td>\n",
       "      <td>51.5</td>\n",
       "      <td>41.9</td>\n",
       "      <td>73.6</td>\n",
       "      <td>77.0</td>\n",
       "      <td>69.9</td>\n",
       "    </tr>\n",
       "    <tr>\n",
       "      <th>5</th>\n",
       "      <td>Afghanistan</td>\n",
       "      <td>2013</td>\n",
       "      <td>57.3</td>\n",
       "      <td>60.8</td>\n",
       "      <td>53.6</td>\n",
       "      <td>43.3</td>\n",
       "      <td>76.9</td>\n",
       "      <td>80.5</td>\n",
       "      <td>73.2</td>\n",
       "    </tr>\n",
       "    <tr>\n",
       "      <th>8</th>\n",
       "      <td>Albania</td>\n",
       "      <td>2016</td>\n",
       "      <td>8.2</td>\n",
       "      <td>8.9</td>\n",
       "      <td>7.6</td>\n",
       "      <td>6.2</td>\n",
       "      <td>9.3</td>\n",
       "      <td>9.9</td>\n",
       "      <td>8.6</td>\n",
       "    </tr>\n",
       "    <tr>\n",
       "      <th>...</th>\n",
       "      <td>...</td>\n",
       "      <td>...</td>\n",
       "      <td>...</td>\n",
       "      <td>...</td>\n",
       "      <td>...</td>\n",
       "      <td>...</td>\n",
       "      <td>...</td>\n",
       "      <td>...</td>\n",
       "      <td>...</td>\n",
       "    </tr>\n",
       "    <tr>\n",
       "      <th>1157</th>\n",
       "      <td>Zambia</td>\n",
       "      <td>2013</td>\n",
       "      <td>47.8</td>\n",
       "      <td>52.0</td>\n",
       "      <td>43.4</td>\n",
       "      <td>25.3</td>\n",
       "      <td>70.7</td>\n",
       "      <td>75.9</td>\n",
       "      <td>65.1</td>\n",
       "    </tr>\n",
       "    <tr>\n",
       "      <th>1160</th>\n",
       "      <td>Zimbabwe</td>\n",
       "      <td>2016</td>\n",
       "      <td>36.3</td>\n",
       "      <td>40.4</td>\n",
       "      <td>32.0</td>\n",
       "      <td>22.3</td>\n",
       "      <td>50.4</td>\n",
       "      <td>55.0</td>\n",
       "      <td>45.5</td>\n",
       "    </tr>\n",
       "    <tr>\n",
       "      <th>1161</th>\n",
       "      <td>Zimbabwe</td>\n",
       "      <td>2015</td>\n",
       "      <td>38.5</td>\n",
       "      <td>42.8</td>\n",
       "      <td>34.0</td>\n",
       "      <td>23.1</td>\n",
       "      <td>54.3</td>\n",
       "      <td>59.2</td>\n",
       "      <td>49.2</td>\n",
       "    </tr>\n",
       "    <tr>\n",
       "      <th>1162</th>\n",
       "      <td>Zimbabwe</td>\n",
       "      <td>2014</td>\n",
       "      <td>40.4</td>\n",
       "      <td>44.9</td>\n",
       "      <td>35.6</td>\n",
       "      <td>24.2</td>\n",
       "      <td>57.5</td>\n",
       "      <td>62.5</td>\n",
       "      <td>52.3</td>\n",
       "    </tr>\n",
       "    <tr>\n",
       "      <th>1163</th>\n",
       "      <td>Zimbabwe</td>\n",
       "      <td>2013</td>\n",
       "      <td>42.8</td>\n",
       "      <td>47.5</td>\n",
       "      <td>37.9</td>\n",
       "      <td>25.3</td>\n",
       "      <td>62.3</td>\n",
       "      <td>67.4</td>\n",
       "      <td>56.8</td>\n",
       "    </tr>\n",
       "  </tbody>\n",
       "</table>\n",
       "<p>776 rows × 9 columns</p>\n",
       "</div>"
      ],
      "text/plain": [
       "          Country  Year  inf_both_sexes  inf_male  inf_female  \\\n",
       "2     Afghanistan  2016            51.2      54.5        47.7   \n",
       "3     Afghanistan  2015            53.1      56.5        49.6   \n",
       "4     Afghanistan  2014            55.1      58.6        51.5   \n",
       "5     Afghanistan  2013            57.3      60.8        53.6   \n",
       "8         Albania  2016             8.2       8.9         7.6   \n",
       "...           ...   ...             ...       ...         ...   \n",
       "1157       Zambia  2013            47.8      52.0        43.4   \n",
       "1160     Zimbabwe  2016            36.3      40.4        32.0   \n",
       "1161     Zimbabwe  2015            38.5      42.8        34.0   \n",
       "1162     Zimbabwe  2014            40.4      44.9        35.6   \n",
       "1163     Zimbabwe  2013            42.8      47.5        37.9   \n",
       "\n",
       "      neonat_both_sexes  u5_both_sexes  u5_male  u5_female  \n",
       "2                  39.3           67.5     70.9       63.7  \n",
       "3                  40.5           70.4     73.8       66.7  \n",
       "4                  41.9           73.6     77.0       69.9  \n",
       "5                  43.3           76.9     80.5       73.2  \n",
       "8                   6.2            9.3      9.9        8.6  \n",
       "...                 ...            ...      ...        ...  \n",
       "1157               25.3           70.7     75.9       65.1  \n",
       "1160               22.3           50.4     55.0       45.5  \n",
       "1161               23.1           54.3     59.2       49.2  \n",
       "1162               24.2           57.5     62.5       52.3  \n",
       "1163               25.3           62.3     67.4       56.8  \n",
       "\n",
       "[776 rows x 9 columns]"
      ]
     },
     "execution_count": 34,
     "metadata": {},
     "output_type": "execute_result"
    }
   ],
   "source": [
    "prob_dth = pd.read_csv('Probability of dying per 1000 live births.csv',skiprows=1)\n",
    "prob_dth.rename(columns={' Both sexes':'inf_both_sexes',\n",
    "                         ' Male':'inf_male',\n",
    "                         ' Female':'inf_female',\n",
    "                         ' Both sexes.1':'neonat_both_sexes',\n",
    "                         ' Both sexes.2':'u5_both_sexes',\n",
    "                         ' Male.1':'u5_male',\n",
    "                         ' Female.1':'u5_female'}, inplace=True)\n",
    "prob_dth = prob_dth[(prob_dth['Year'] >= 2013) & (prob_dth['Year'] <2017)]\n",
    "prob_dth"
   ]
  },
  {
   "cell_type": "code",
   "execution_count": 35,
   "metadata": {},
   "outputs": [
    {
     "data": {
      "text/html": [
       "<div>\n",
       "<style scoped>\n",
       "    .dataframe tbody tr th:only-of-type {\n",
       "        vertical-align: middle;\n",
       "    }\n",
       "\n",
       "    .dataframe tbody tr th {\n",
       "        vertical-align: top;\n",
       "    }\n",
       "\n",
       "    .dataframe thead th {\n",
       "        text-align: right;\n",
       "    }\n",
       "</style>\n",
       "<table border=\"1\" class=\"dataframe\">\n",
       "  <thead>\n",
       "    <tr style=\"text-align: right;\">\n",
       "      <th></th>\n",
       "      <th>Unnamed: 0</th>\n",
       "      <th>Unnamed: 1</th>\n",
       "      <th>Number of under-five deaths (thousands)</th>\n",
       "      <th>Number of under-five deaths (thousands).1</th>\n",
       "      <th>Number of under-five deaths (thousands).2</th>\n",
       "      <th>Number of infant deaths (thousands)</th>\n",
       "      <th>Number of infant deaths (thousands).1</th>\n",
       "      <th>Number of infant deaths (thousands).2</th>\n",
       "      <th>Number of neonatal deaths (thousands)</th>\n",
       "    </tr>\n",
       "  </thead>\n",
       "  <tbody>\n",
       "    <tr>\n",
       "      <th>0</th>\n",
       "      <td>Country</td>\n",
       "      <td>Year</td>\n",
       "      <td>Both sexes</td>\n",
       "      <td>Male</td>\n",
       "      <td>Female</td>\n",
       "      <td>Both sexes</td>\n",
       "      <td>Male</td>\n",
       "      <td>Female</td>\n",
       "      <td>Both sexes</td>\n",
       "    </tr>\n",
       "    <tr>\n",
       "      <th>1</th>\n",
       "      <td>Afghanistan</td>\n",
       "      <td>2018</td>\n",
       "      <td>74278</td>\n",
       "      <td>40312</td>\n",
       "      <td>33966</td>\n",
       "      <td>57182</td>\n",
       "      <td>31394</td>\n",
       "      <td>25788</td>\n",
       "      <td>44725</td>\n",
       "    </tr>\n",
       "    <tr>\n",
       "      <th>2</th>\n",
       "      <td>Afghanistan</td>\n",
       "      <td>2017</td>\n",
       "      <td>76877</td>\n",
       "      <td>41631</td>\n",
       "      <td>35246</td>\n",
       "      <td>58846</td>\n",
       "      <td>32244</td>\n",
       "      <td>26602</td>\n",
       "      <td>45771</td>\n",
       "    </tr>\n",
       "    <tr>\n",
       "      <th>3</th>\n",
       "      <td>Afghanistan</td>\n",
       "      <td>2016</td>\n",
       "      <td>79770</td>\n",
       "      <td>43134</td>\n",
       "      <td>36636</td>\n",
       "      <td>60673</td>\n",
       "      <td>33222</td>\n",
       "      <td>27451</td>\n",
       "      <td>46963</td>\n",
       "    </tr>\n",
       "    <tr>\n",
       "      <th>4</th>\n",
       "      <td>Afghanistan</td>\n",
       "      <td>2015</td>\n",
       "      <td>82918</td>\n",
       "      <td>44733</td>\n",
       "      <td>38185</td>\n",
       "      <td>62652</td>\n",
       "      <td>34257</td>\n",
       "      <td>28395</td>\n",
       "      <td>48237</td>\n",
       "    </tr>\n",
       "    <tr>\n",
       "      <th>...</th>\n",
       "      <td>...</td>\n",
       "      <td>...</td>\n",
       "      <td>...</td>\n",
       "      <td>...</td>\n",
       "      <td>...</td>\n",
       "      <td>...</td>\n",
       "      <td>...</td>\n",
       "      <td>...</td>\n",
       "      <td>...</td>\n",
       "    </tr>\n",
       "    <tr>\n",
       "      <th>1160</th>\n",
       "      <td>Zimbabwe</td>\n",
       "      <td>2017</td>\n",
       "      <td>22519</td>\n",
       "      <td>12419</td>\n",
       "      <td>10100</td>\n",
       "      <td>16015</td>\n",
       "      <td>9010</td>\n",
       "      <td>7005</td>\n",
       "      <td>9696</td>\n",
       "    </tr>\n",
       "    <tr>\n",
       "      <th>1161</th>\n",
       "      <td>Zimbabwe</td>\n",
       "      <td>2016</td>\n",
       "      <td>23326</td>\n",
       "      <td>12867</td>\n",
       "      <td>10459</td>\n",
       "      <td>16693</td>\n",
       "      <td>9396</td>\n",
       "      <td>7297</td>\n",
       "      <td>10235</td>\n",
       "    </tr>\n",
       "    <tr>\n",
       "      <th>1162</th>\n",
       "      <td>Zimbabwe</td>\n",
       "      <td>2015</td>\n",
       "      <td>25433</td>\n",
       "      <td>14001</td>\n",
       "      <td>11432</td>\n",
       "      <td>18006</td>\n",
       "      <td>10121</td>\n",
       "      <td>7885</td>\n",
       "      <td>10815</td>\n",
       "    </tr>\n",
       "    <tr>\n",
       "      <th>1163</th>\n",
       "      <td>Zimbabwe</td>\n",
       "      <td>2014</td>\n",
       "      <td>27058</td>\n",
       "      <td>14866</td>\n",
       "      <td>12192</td>\n",
       "      <td>19051</td>\n",
       "      <td>10707</td>\n",
       "      <td>8344</td>\n",
       "      <td>11447</td>\n",
       "    </tr>\n",
       "    <tr>\n",
       "      <th>1164</th>\n",
       "      <td>Zimbabwe</td>\n",
       "      <td>2013</td>\n",
       "      <td>29200</td>\n",
       "      <td>15984</td>\n",
       "      <td>13216</td>\n",
       "      <td>20265</td>\n",
       "      <td>11363</td>\n",
       "      <td>8902</td>\n",
       "      <td>12063</td>\n",
       "    </tr>\n",
       "  </tbody>\n",
       "</table>\n",
       "<p>1165 rows × 9 columns</p>\n",
       "</div>"
      ],
      "text/plain": [
       "       Unnamed: 0 Unnamed: 1 Number of under-five deaths (thousands)  \\\n",
       "0         Country       Year                              Both sexes   \n",
       "1     Afghanistan       2018                                   74278   \n",
       "2     Afghanistan       2017                                   76877   \n",
       "3     Afghanistan       2016                                   79770   \n",
       "4     Afghanistan       2015                                   82918   \n",
       "...           ...        ...                                     ...   \n",
       "1160     Zimbabwe       2017                                   22519   \n",
       "1161     Zimbabwe       2016                                   23326   \n",
       "1162     Zimbabwe       2015                                   25433   \n",
       "1163     Zimbabwe       2014                                   27058   \n",
       "1164     Zimbabwe       2013                                   29200   \n",
       "\n",
       "     Number of under-five deaths (thousands).1  \\\n",
       "0                                         Male   \n",
       "1                                        40312   \n",
       "2                                        41631   \n",
       "3                                        43134   \n",
       "4                                        44733   \n",
       "...                                        ...   \n",
       "1160                                     12419   \n",
       "1161                                     12867   \n",
       "1162                                     14001   \n",
       "1163                                     14866   \n",
       "1164                                     15984   \n",
       "\n",
       "     Number of under-five deaths (thousands).2  \\\n",
       "0                                       Female   \n",
       "1                                        33966   \n",
       "2                                        35246   \n",
       "3                                        36636   \n",
       "4                                        38185   \n",
       "...                                        ...   \n",
       "1160                                     10100   \n",
       "1161                                     10459   \n",
       "1162                                     11432   \n",
       "1163                                     12192   \n",
       "1164                                     13216   \n",
       "\n",
       "     Number of infant deaths (thousands)  \\\n",
       "0                             Both sexes   \n",
       "1                                  57182   \n",
       "2                                  58846   \n",
       "3                                  60673   \n",
       "4                                  62652   \n",
       "...                                  ...   \n",
       "1160                               16015   \n",
       "1161                               16693   \n",
       "1162                               18006   \n",
       "1163                               19051   \n",
       "1164                               20265   \n",
       "\n",
       "     Number of infant deaths (thousands).1  \\\n",
       "0                                     Male   \n",
       "1                                    31394   \n",
       "2                                    32244   \n",
       "3                                    33222   \n",
       "4                                    34257   \n",
       "...                                    ...   \n",
       "1160                                  9010   \n",
       "1161                                  9396   \n",
       "1162                                 10121   \n",
       "1163                                 10707   \n",
       "1164                                 11363   \n",
       "\n",
       "     Number of infant deaths (thousands).2  \\\n",
       "0                                   Female   \n",
       "1                                    25788   \n",
       "2                                    26602   \n",
       "3                                    27451   \n",
       "4                                    28395   \n",
       "...                                    ...   \n",
       "1160                                  7005   \n",
       "1161                                  7297   \n",
       "1162                                  7885   \n",
       "1163                                  8344   \n",
       "1164                                  8902   \n",
       "\n",
       "     Number of neonatal deaths (thousands)  \n",
       "0                               Both sexes  \n",
       "1                                    44725  \n",
       "2                                    45771  \n",
       "3                                    46963  \n",
       "4                                    48237  \n",
       "...                                    ...  \n",
       "1160                                  9696  \n",
       "1161                                 10235  \n",
       "1162                                 10815  \n",
       "1163                                 11447  \n",
       "1164                                 12063  \n",
       "\n",
       "[1165 rows x 9 columns]"
      ]
     },
     "execution_count": 35,
     "metadata": {},
     "output_type": "execute_result"
    }
   ],
   "source": [
    "num_dth = pd.read_csv('Number of deaths (thousands).csv')\n",
    "num_dth"
   ]
  },
  {
   "cell_type": "code",
   "execution_count": 36,
   "metadata": {},
   "outputs": [],
   "source": [
    "mean_years.rename(columns={'Entity':'Country'},inplace=True)"
   ]
  },
  {
   "cell_type": "code",
   "execution_count": 37,
   "metadata": {},
   "outputs": [
    {
     "data": {
      "text/html": [
       "<div>\n",
       "<style scoped>\n",
       "    .dataframe tbody tr th:only-of-type {\n",
       "        vertical-align: middle;\n",
       "    }\n",
       "\n",
       "    .dataframe tbody tr th {\n",
       "        vertical-align: top;\n",
       "    }\n",
       "\n",
       "    .dataframe thead th {\n",
       "        text-align: right;\n",
       "    }\n",
       "</style>\n",
       "<table border=\"1\" class=\"dataframe\">\n",
       "  <thead>\n",
       "    <tr style=\"text-align: right;\">\n",
       "      <th></th>\n",
       "      <th>Country</th>\n",
       "      <th>Code</th>\n",
       "      <th>Year</th>\n",
       "      <th>avg_years_of_schooling</th>\n",
       "    </tr>\n",
       "  </thead>\n",
       "  <tbody>\n",
       "    <tr>\n",
       "      <th>34</th>\n",
       "      <td>Afghanistan</td>\n",
       "      <td>AFG</td>\n",
       "      <td>2000</td>\n",
       "      <td>2.2</td>\n",
       "    </tr>\n",
       "    <tr>\n",
       "      <th>35</th>\n",
       "      <td>Afghanistan</td>\n",
       "      <td>AFG</td>\n",
       "      <td>2001</td>\n",
       "      <td>2.2</td>\n",
       "    </tr>\n",
       "    <tr>\n",
       "      <th>36</th>\n",
       "      <td>Afghanistan</td>\n",
       "      <td>AFG</td>\n",
       "      <td>2002</td>\n",
       "      <td>2.3</td>\n",
       "    </tr>\n",
       "    <tr>\n",
       "      <th>37</th>\n",
       "      <td>Afghanistan</td>\n",
       "      <td>AFG</td>\n",
       "      <td>2003</td>\n",
       "      <td>2.4</td>\n",
       "    </tr>\n",
       "    <tr>\n",
       "      <th>38</th>\n",
       "      <td>Afghanistan</td>\n",
       "      <td>AFG</td>\n",
       "      <td>2004</td>\n",
       "      <td>2.5</td>\n",
       "    </tr>\n",
       "    <tr>\n",
       "      <th>...</th>\n",
       "      <td>...</td>\n",
       "      <td>...</td>\n",
       "      <td>...</td>\n",
       "      <td>...</td>\n",
       "    </tr>\n",
       "    <tr>\n",
       "      <th>7757</th>\n",
       "      <td>Zimbabwe</td>\n",
       "      <td>ZWE</td>\n",
       "      <td>2012</td>\n",
       "      <td>7.9</td>\n",
       "    </tr>\n",
       "    <tr>\n",
       "      <th>7758</th>\n",
       "      <td>Zimbabwe</td>\n",
       "      <td>ZWE</td>\n",
       "      <td>2013</td>\n",
       "      <td>8.0</td>\n",
       "    </tr>\n",
       "    <tr>\n",
       "      <th>7759</th>\n",
       "      <td>Zimbabwe</td>\n",
       "      <td>ZWE</td>\n",
       "      <td>2014</td>\n",
       "      <td>8.2</td>\n",
       "    </tr>\n",
       "    <tr>\n",
       "      <th>7760</th>\n",
       "      <td>Zimbabwe</td>\n",
       "      <td>ZWE</td>\n",
       "      <td>2015</td>\n",
       "      <td>8.2</td>\n",
       "    </tr>\n",
       "    <tr>\n",
       "      <th>7761</th>\n",
       "      <td>Zimbabwe</td>\n",
       "      <td>ZWE</td>\n",
       "      <td>2016</td>\n",
       "      <td>8.2</td>\n",
       "    </tr>\n",
       "  </tbody>\n",
       "</table>\n",
       "<p>3135 rows × 4 columns</p>\n",
       "</div>"
      ],
      "text/plain": [
       "          Country Code  Year  avg_years_of_schooling\n",
       "34    Afghanistan  AFG  2000                     2.2\n",
       "35    Afghanistan  AFG  2001                     2.2\n",
       "36    Afghanistan  AFG  2002                     2.3\n",
       "37    Afghanistan  AFG  2003                     2.4\n",
       "38    Afghanistan  AFG  2004                     2.5\n",
       "...           ...  ...   ...                     ...\n",
       "7757     Zimbabwe  ZWE  2012                     7.9\n",
       "7758     Zimbabwe  ZWE  2013                     8.0\n",
       "7759     Zimbabwe  ZWE  2014                     8.2\n",
       "7760     Zimbabwe  ZWE  2015                     8.2\n",
       "7761     Zimbabwe  ZWE  2016                     8.2\n",
       "\n",
       "[3135 rows x 4 columns]"
      ]
     },
     "execution_count": 37,
     "metadata": {},
     "output_type": "execute_result"
    }
   ],
   "source": [
    "mean_years = mean_years[(mean_years['Year'] >= 2000) & (mean_years['Year'] < 2017)]\n",
    "mean_years"
   ]
  },
  {
   "cell_type": "code",
   "execution_count": 38,
   "metadata": {},
   "outputs": [
    {
     "data": {
      "text/html": [
       "<div>\n",
       "<style scoped>\n",
       "    .dataframe tbody tr th:only-of-type {\n",
       "        vertical-align: middle;\n",
       "    }\n",
       "\n",
       "    .dataframe tbody tr th {\n",
       "        vertical-align: top;\n",
       "    }\n",
       "\n",
       "    .dataframe thead th {\n",
       "        text-align: right;\n",
       "    }\n",
       "</style>\n",
       "<table border=\"1\" class=\"dataframe\">\n",
       "  <thead>\n",
       "    <tr style=\"text-align: right;\">\n",
       "      <th></th>\n",
       "      <th>Country</th>\n",
       "      <th>Code</th>\n",
       "      <th>Year</th>\n",
       "      <th>avg_years_of_schooling</th>\n",
       "      <th>Both sexes</th>\n",
       "      <th>Male</th>\n",
       "      <th>Female</th>\n",
       "    </tr>\n",
       "  </thead>\n",
       "  <tbody>\n",
       "    <tr>\n",
       "      <th>0</th>\n",
       "      <td>Afghanistan</td>\n",
       "      <td>AFG</td>\n",
       "      <td>2000</td>\n",
       "      <td>2.2</td>\n",
       "      <td>316</td>\n",
       "      <td>340</td>\n",
       "      <td>290</td>\n",
       "    </tr>\n",
       "    <tr>\n",
       "      <th>1</th>\n",
       "      <td>Afghanistan</td>\n",
       "      <td>AFG</td>\n",
       "      <td>2001</td>\n",
       "      <td>2.2</td>\n",
       "      <td>307</td>\n",
       "      <td>330</td>\n",
       "      <td>283</td>\n",
       "    </tr>\n",
       "    <tr>\n",
       "      <th>2</th>\n",
       "      <td>Afghanistan</td>\n",
       "      <td>AFG</td>\n",
       "      <td>2002</td>\n",
       "      <td>2.3</td>\n",
       "      <td>292</td>\n",
       "      <td>309</td>\n",
       "      <td>275</td>\n",
       "    </tr>\n",
       "    <tr>\n",
       "      <th>3</th>\n",
       "      <td>Afghanistan</td>\n",
       "      <td>AFG</td>\n",
       "      <td>2003</td>\n",
       "      <td>2.4</td>\n",
       "      <td>286</td>\n",
       "      <td>304</td>\n",
       "      <td>268</td>\n",
       "    </tr>\n",
       "    <tr>\n",
       "      <th>4</th>\n",
       "      <td>Afghanistan</td>\n",
       "      <td>AFG</td>\n",
       "      <td>2004</td>\n",
       "      <td>2.5</td>\n",
       "      <td>282</td>\n",
       "      <td>300</td>\n",
       "      <td>263</td>\n",
       "    </tr>\n",
       "    <tr>\n",
       "      <th>...</th>\n",
       "      <td>...</td>\n",
       "      <td>...</td>\n",
       "      <td>...</td>\n",
       "      <td>...</td>\n",
       "      <td>...</td>\n",
       "      <td>...</td>\n",
       "      <td>...</td>\n",
       "    </tr>\n",
       "    <tr>\n",
       "      <th>2691</th>\n",
       "      <td>Zimbabwe</td>\n",
       "      <td>ZWE</td>\n",
       "      <td>2012</td>\n",
       "      <td>7.9</td>\n",
       "      <td>407</td>\n",
       "      <td>464</td>\n",
       "      <td>357</td>\n",
       "    </tr>\n",
       "    <tr>\n",
       "      <th>2692</th>\n",
       "      <td>Zimbabwe</td>\n",
       "      <td>ZWE</td>\n",
       "      <td>2013</td>\n",
       "      <td>8.0</td>\n",
       "      <td>383</td>\n",
       "      <td>437</td>\n",
       "      <td>336</td>\n",
       "    </tr>\n",
       "    <tr>\n",
       "      <th>2693</th>\n",
       "      <td>Zimbabwe</td>\n",
       "      <td>ZWE</td>\n",
       "      <td>2014</td>\n",
       "      <td>8.2</td>\n",
       "      <td>358</td>\n",
       "      <td>395</td>\n",
       "      <td>328</td>\n",
       "    </tr>\n",
       "    <tr>\n",
       "      <th>2694</th>\n",
       "      <td>Zimbabwe</td>\n",
       "      <td>ZWE</td>\n",
       "      <td>2015</td>\n",
       "      <td>8.2</td>\n",
       "      <td>346</td>\n",
       "      <td>383</td>\n",
       "      <td>314</td>\n",
       "    </tr>\n",
       "    <tr>\n",
       "      <th>2695</th>\n",
       "      <td>Zimbabwe</td>\n",
       "      <td>ZWE</td>\n",
       "      <td>2016</td>\n",
       "      <td>8.2</td>\n",
       "      <td>334</td>\n",
       "      <td>371</td>\n",
       "      <td>303</td>\n",
       "    </tr>\n",
       "  </tbody>\n",
       "</table>\n",
       "<p>2696 rows × 7 columns</p>\n",
       "</div>"
      ],
      "text/plain": [
       "          Country Code  Year  avg_years_of_schooling  Both sexes  Male  Female\n",
       "0     Afghanistan  AFG  2000                     2.2         316   340     290\n",
       "1     Afghanistan  AFG  2001                     2.2         307   330     283\n",
       "2     Afghanistan  AFG  2002                     2.3         292   309     275\n",
       "3     Afghanistan  AFG  2003                     2.4         286   304     268\n",
       "4     Afghanistan  AFG  2004                     2.5         282   300     263\n",
       "...           ...  ...   ...                     ...         ...   ...     ...\n",
       "2691     Zimbabwe  ZWE  2012                     7.9         407   464     357\n",
       "2692     Zimbabwe  ZWE  2013                     8.0         383   437     336\n",
       "2693     Zimbabwe  ZWE  2014                     8.2         358   395     328\n",
       "2694     Zimbabwe  ZWE  2015                     8.2         346   383     314\n",
       "2695     Zimbabwe  ZWE  2016                     8.2         334   371     303\n",
       "\n",
       "[2696 rows x 7 columns]"
      ]
     },
     "execution_count": 38,
     "metadata": {},
     "output_type": "execute_result"
    }
   ],
   "source": [
    "merge_df = pd.merge(mean_years,ad_mort, on=['Country','Year'])\n",
    "#merge_df = pd.merge(merge_df,prob_dth, on=['Country','Year'])\n",
    "merge_df"
   ]
  },
  {
   "cell_type": "code",
   "execution_count": 39,
   "metadata": {},
   "outputs": [],
   "source": [
    "def country_to_continent(country_name):\n",
    "    country_alpha2 = pc.country_name_to_country_alpha2(country_name)\n",
    "    country_continent_code = pc.country_alpha2_to_continent_code(country_alpha2)\n",
    "    country_continent_name = pc.convert_continent_code_to_continent_name(country_continent_code)\n",
    "    return country_continent_name"
   ]
  },
  {
   "cell_type": "code",
   "execution_count": 40,
   "metadata": {},
   "outputs": [],
   "source": [
    "merge_df['Continent'] = merge_df['Country'].apply(lambda row: country_to_continent(row))"
   ]
  },
  {
   "cell_type": "code",
   "execution_count": 41,
   "metadata": {},
   "outputs": [
    {
     "data": {
      "text/html": [
       "<div>\n",
       "<style scoped>\n",
       "    .dataframe tbody tr th:only-of-type {\n",
       "        vertical-align: middle;\n",
       "    }\n",
       "\n",
       "    .dataframe tbody tr th {\n",
       "        vertical-align: top;\n",
       "    }\n",
       "\n",
       "    .dataframe thead th {\n",
       "        text-align: right;\n",
       "    }\n",
       "</style>\n",
       "<table border=\"1\" class=\"dataframe\">\n",
       "  <thead>\n",
       "    <tr style=\"text-align: right;\">\n",
       "      <th></th>\n",
       "      <th>Country</th>\n",
       "      <th>Code</th>\n",
       "      <th>Year</th>\n",
       "      <th>avg_years_of_schooling</th>\n",
       "      <th>Both sexes</th>\n",
       "      <th>Male</th>\n",
       "      <th>Female</th>\n",
       "      <th>Continent</th>\n",
       "    </tr>\n",
       "  </thead>\n",
       "  <tbody>\n",
       "    <tr>\n",
       "      <th>0</th>\n",
       "      <td>Afghanistan</td>\n",
       "      <td>AFG</td>\n",
       "      <td>2016</td>\n",
       "      <td>3.6</td>\n",
       "      <td>245</td>\n",
       "      <td>272</td>\n",
       "      <td>216</td>\n",
       "      <td>Asia</td>\n",
       "    </tr>\n",
       "    <tr>\n",
       "      <th>1</th>\n",
       "      <td>Afghanistan</td>\n",
       "      <td>AFG</td>\n",
       "      <td>2015</td>\n",
       "      <td>3.6</td>\n",
       "      <td>233</td>\n",
       "      <td>254</td>\n",
       "      <td>210</td>\n",
       "      <td>Asia</td>\n",
       "    </tr>\n",
       "    <tr>\n",
       "      <th>2</th>\n",
       "      <td>Afghanistan</td>\n",
       "      <td>AFG</td>\n",
       "      <td>2014</td>\n",
       "      <td>3.5</td>\n",
       "      <td>234</td>\n",
       "      <td>254</td>\n",
       "      <td>213</td>\n",
       "      <td>Asia</td>\n",
       "    </tr>\n",
       "    <tr>\n",
       "      <th>3</th>\n",
       "      <td>Afghanistan</td>\n",
       "      <td>AFG</td>\n",
       "      <td>2013</td>\n",
       "      <td>3.5</td>\n",
       "      <td>235</td>\n",
       "      <td>254</td>\n",
       "      <td>215</td>\n",
       "      <td>Asia</td>\n",
       "    </tr>\n",
       "    <tr>\n",
       "      <th>4</th>\n",
       "      <td>Afghanistan</td>\n",
       "      <td>AFG</td>\n",
       "      <td>2012</td>\n",
       "      <td>3.4</td>\n",
       "      <td>242</td>\n",
       "      <td>262</td>\n",
       "      <td>221</td>\n",
       "      <td>Asia</td>\n",
       "    </tr>\n",
       "    <tr>\n",
       "      <th>...</th>\n",
       "      <td>...</td>\n",
       "      <td>...</td>\n",
       "      <td>...</td>\n",
       "      <td>...</td>\n",
       "      <td>...</td>\n",
       "      <td>...</td>\n",
       "      <td>...</td>\n",
       "      <td>...</td>\n",
       "    </tr>\n",
       "    <tr>\n",
       "      <th>2691</th>\n",
       "      <td>Zimbabwe</td>\n",
       "      <td>ZWE</td>\n",
       "      <td>2004</td>\n",
       "      <td>6.8</td>\n",
       "      <td>694</td>\n",
       "      <td>725</td>\n",
       "      <td>670</td>\n",
       "      <td>Africa</td>\n",
       "    </tr>\n",
       "    <tr>\n",
       "      <th>2692</th>\n",
       "      <td>Zimbabwe</td>\n",
       "      <td>ZWE</td>\n",
       "      <td>2003</td>\n",
       "      <td>6.8</td>\n",
       "      <td>697</td>\n",
       "      <td>728</td>\n",
       "      <td>671</td>\n",
       "      <td>Africa</td>\n",
       "    </tr>\n",
       "    <tr>\n",
       "      <th>2693</th>\n",
       "      <td>Zimbabwe</td>\n",
       "      <td>ZWE</td>\n",
       "      <td>2002</td>\n",
       "      <td>6.9</td>\n",
       "      <td>695</td>\n",
       "      <td>728</td>\n",
       "      <td>667</td>\n",
       "      <td>Africa</td>\n",
       "    </tr>\n",
       "    <tr>\n",
       "      <th>2694</th>\n",
       "      <td>Zimbabwe</td>\n",
       "      <td>ZWE</td>\n",
       "      <td>2001</td>\n",
       "      <td>6.7</td>\n",
       "      <td>688</td>\n",
       "      <td>723</td>\n",
       "      <td>656</td>\n",
       "      <td>Africa</td>\n",
       "    </tr>\n",
       "    <tr>\n",
       "      <th>2695</th>\n",
       "      <td>Zimbabwe</td>\n",
       "      <td>ZWE</td>\n",
       "      <td>2000</td>\n",
       "      <td>6.5</td>\n",
       "      <td>675</td>\n",
       "      <td>715</td>\n",
       "      <td>640</td>\n",
       "      <td>Africa</td>\n",
       "    </tr>\n",
       "  </tbody>\n",
       "</table>\n",
       "<p>2696 rows × 8 columns</p>\n",
       "</div>"
      ],
      "text/plain": [
       "          Country Code  Year  avg_years_of_schooling  Both sexes  Male  \\\n",
       "0     Afghanistan  AFG  2016                     3.6         245   272   \n",
       "1     Afghanistan  AFG  2015                     3.6         233   254   \n",
       "2     Afghanistan  AFG  2014                     3.5         234   254   \n",
       "3     Afghanistan  AFG  2013                     3.5         235   254   \n",
       "4     Afghanistan  AFG  2012                     3.4         242   262   \n",
       "...           ...  ...   ...                     ...         ...   ...   \n",
       "2691     Zimbabwe  ZWE  2004                     6.8         694   725   \n",
       "2692     Zimbabwe  ZWE  2003                     6.8         697   728   \n",
       "2693     Zimbabwe  ZWE  2002                     6.9         695   728   \n",
       "2694     Zimbabwe  ZWE  2001                     6.7         688   723   \n",
       "2695     Zimbabwe  ZWE  2000                     6.5         675   715   \n",
       "\n",
       "      Female Continent  \n",
       "0        216      Asia  \n",
       "1        210      Asia  \n",
       "2        213      Asia  \n",
       "3        215      Asia  \n",
       "4        221      Asia  \n",
       "...      ...       ...  \n",
       "2691     670    Africa  \n",
       "2692     671    Africa  \n",
       "2693     667    Africa  \n",
       "2694     656    Africa  \n",
       "2695     640    Africa  \n",
       "\n",
       "[2696 rows x 8 columns]"
      ]
     },
     "execution_count": 41,
     "metadata": {},
     "output_type": "execute_result"
    }
   ],
   "source": [
    "final_df = merge_df.sort_values(['Country','Year'], ascending=[True,False]).reset_index()\n",
    "final_df.drop(columns='index', inplace=True)\n",
    "final_df"
   ]
  },
  {
   "cell_type": "code",
   "execution_count": 17,
   "metadata": {},
   "outputs": [
    {
     "name": "stdout",
     "output_type": "stream",
     "text": [
      "<class 'pandas.core.frame.DataFrame'>\n",
      "RangeIndex: 648 entries, 0 to 647\n",
      "Data columns (total 15 columns):\n",
      " #   Column                  Non-Null Count  Dtype  \n",
      "---  ------                  --------------  -----  \n",
      " 0   Continent               648 non-null    object \n",
      " 1   Country                 648 non-null    object \n",
      " 2   Code                    648 non-null    object \n",
      " 3   Year                    648 non-null    int64  \n",
      " 4   avg_years_of_schooling  648 non-null    float64\n",
      " 5   mort_rate_both_sexes    648 non-null    int64  \n",
      " 6   mort_rate_male          648 non-null    int64  \n",
      " 7   mort_rate_female        648 non-null    int64  \n",
      " 8   inf_both_sexes          648 non-null    float64\n",
      " 9   inf_male                648 non-null    float64\n",
      " 10  inf_female              648 non-null    float64\n",
      " 11  neonat_both_sexes       648 non-null    float64\n",
      " 12  u5_both_sexes           648 non-null    float64\n",
      " 13  u5_male                 648 non-null    float64\n",
      " 14  u5_female               648 non-null    float64\n",
      "dtypes: float64(8), int64(4), object(3)\n",
      "memory usage: 76.1+ KB\n"
     ]
    }
   ],
   "source": [
    "final_df.info()"
   ]
  },
  {
   "cell_type": "code",
   "execution_count": 67,
   "metadata": {},
   "outputs": [
    {
     "data": {
      "text/html": [
       "<div>\n",
       "<style scoped>\n",
       "    .dataframe tbody tr th:only-of-type {\n",
       "        vertical-align: middle;\n",
       "    }\n",
       "\n",
       "    .dataframe tbody tr th {\n",
       "        vertical-align: top;\n",
       "    }\n",
       "\n",
       "    .dataframe thead th {\n",
       "        text-align: right;\n",
       "    }\n",
       "</style>\n",
       "<table border=\"1\" class=\"dataframe\">\n",
       "  <thead>\n",
       "    <tr style=\"text-align: right;\">\n",
       "      <th></th>\n",
       "      <th>Country</th>\n",
       "      <th>Code</th>\n",
       "      <th>Year</th>\n",
       "      <th>avg_years_of_schooling</th>\n",
       "      <th>Both sexes</th>\n",
       "      <th>Male</th>\n",
       "      <th>Female</th>\n",
       "      <th>Continent</th>\n",
       "    </tr>\n",
       "  </thead>\n",
       "  <tbody>\n",
       "    <tr>\n",
       "      <th>0</th>\n",
       "      <td>Afghanistan</td>\n",
       "      <td>AFG</td>\n",
       "      <td>2000</td>\n",
       "      <td>2.2</td>\n",
       "      <td>316</td>\n",
       "      <td>340</td>\n",
       "      <td>290</td>\n",
       "      <td>Asia</td>\n",
       "    </tr>\n",
       "    <tr>\n",
       "      <th>1</th>\n",
       "      <td>Afghanistan</td>\n",
       "      <td>AFG</td>\n",
       "      <td>2001</td>\n",
       "      <td>2.2</td>\n",
       "      <td>307</td>\n",
       "      <td>330</td>\n",
       "      <td>283</td>\n",
       "      <td>Asia</td>\n",
       "    </tr>\n",
       "    <tr>\n",
       "      <th>2</th>\n",
       "      <td>Afghanistan</td>\n",
       "      <td>AFG</td>\n",
       "      <td>2002</td>\n",
       "      <td>2.3</td>\n",
       "      <td>292</td>\n",
       "      <td>309</td>\n",
       "      <td>275</td>\n",
       "      <td>Asia</td>\n",
       "    </tr>\n",
       "    <tr>\n",
       "      <th>3</th>\n",
       "      <td>Afghanistan</td>\n",
       "      <td>AFG</td>\n",
       "      <td>2003</td>\n",
       "      <td>2.4</td>\n",
       "      <td>286</td>\n",
       "      <td>304</td>\n",
       "      <td>268</td>\n",
       "      <td>Asia</td>\n",
       "    </tr>\n",
       "    <tr>\n",
       "      <th>4</th>\n",
       "      <td>Afghanistan</td>\n",
       "      <td>AFG</td>\n",
       "      <td>2004</td>\n",
       "      <td>2.5</td>\n",
       "      <td>282</td>\n",
       "      <td>300</td>\n",
       "      <td>263</td>\n",
       "      <td>Asia</td>\n",
       "    </tr>\n",
       "    <tr>\n",
       "      <th>...</th>\n",
       "      <td>...</td>\n",
       "      <td>...</td>\n",
       "      <td>...</td>\n",
       "      <td>...</td>\n",
       "      <td>...</td>\n",
       "      <td>...</td>\n",
       "      <td>...</td>\n",
       "      <td>...</td>\n",
       "    </tr>\n",
       "    <tr>\n",
       "      <th>2691</th>\n",
       "      <td>Zimbabwe</td>\n",
       "      <td>ZWE</td>\n",
       "      <td>2012</td>\n",
       "      <td>7.9</td>\n",
       "      <td>407</td>\n",
       "      <td>464</td>\n",
       "      <td>357</td>\n",
       "      <td>Africa</td>\n",
       "    </tr>\n",
       "    <tr>\n",
       "      <th>2692</th>\n",
       "      <td>Zimbabwe</td>\n",
       "      <td>ZWE</td>\n",
       "      <td>2013</td>\n",
       "      <td>8.0</td>\n",
       "      <td>383</td>\n",
       "      <td>437</td>\n",
       "      <td>336</td>\n",
       "      <td>Africa</td>\n",
       "    </tr>\n",
       "    <tr>\n",
       "      <th>2693</th>\n",
       "      <td>Zimbabwe</td>\n",
       "      <td>ZWE</td>\n",
       "      <td>2014</td>\n",
       "      <td>8.2</td>\n",
       "      <td>358</td>\n",
       "      <td>395</td>\n",
       "      <td>328</td>\n",
       "      <td>Africa</td>\n",
       "    </tr>\n",
       "    <tr>\n",
       "      <th>2694</th>\n",
       "      <td>Zimbabwe</td>\n",
       "      <td>ZWE</td>\n",
       "      <td>2015</td>\n",
       "      <td>8.2</td>\n",
       "      <td>346</td>\n",
       "      <td>383</td>\n",
       "      <td>314</td>\n",
       "      <td>Africa</td>\n",
       "    </tr>\n",
       "    <tr>\n",
       "      <th>2695</th>\n",
       "      <td>Zimbabwe</td>\n",
       "      <td>ZWE</td>\n",
       "      <td>2016</td>\n",
       "      <td>8.2</td>\n",
       "      <td>334</td>\n",
       "      <td>371</td>\n",
       "      <td>303</td>\n",
       "      <td>Africa</td>\n",
       "    </tr>\n",
       "  </tbody>\n",
       "</table>\n",
       "<p>2696 rows × 8 columns</p>\n",
       "</div>"
      ],
      "text/plain": [
       "          Country Code  Year  avg_years_of_schooling  Both sexes  Male  \\\n",
       "0     Afghanistan  AFG  2000                     2.2         316   340   \n",
       "1     Afghanistan  AFG  2001                     2.2         307   330   \n",
       "2     Afghanistan  AFG  2002                     2.3         292   309   \n",
       "3     Afghanistan  AFG  2003                     2.4         286   304   \n",
       "4     Afghanistan  AFG  2004                     2.5         282   300   \n",
       "...           ...  ...   ...                     ...         ...   ...   \n",
       "2691     Zimbabwe  ZWE  2012                     7.9         407   464   \n",
       "2692     Zimbabwe  ZWE  2013                     8.0         383   437   \n",
       "2693     Zimbabwe  ZWE  2014                     8.2         358   395   \n",
       "2694     Zimbabwe  ZWE  2015                     8.2         346   383   \n",
       "2695     Zimbabwe  ZWE  2016                     8.2         334   371   \n",
       "\n",
       "      Female Continent  \n",
       "0        290      Asia  \n",
       "1        283      Asia  \n",
       "2        275      Asia  \n",
       "3        268      Asia  \n",
       "4        263      Asia  \n",
       "...      ...       ...  \n",
       "2691     357    Africa  \n",
       "2692     336    Africa  \n",
       "2693     328    Africa  \n",
       "2694     314    Africa  \n",
       "2695     303    Africa  \n",
       "\n",
       "[2696 rows x 8 columns]"
      ]
     },
     "execution_count": 67,
     "metadata": {},
     "output_type": "execute_result"
    }
   ],
   "source": [
    "merge_df"
   ]
  },
  {
   "cell_type": "code",
   "execution_count": 102,
   "metadata": {},
   "outputs": [
    {
     "name": "stderr",
     "output_type": "stream",
     "text": [
      "C:\\Users\\oludo\\AppData\\Local\\Temp\\ipykernel_27216\\3413100836.py:3: FutureWarning:\n",
      "\n",
      "Indexing with multiple keys (implicitly converted to a tuple of keys) will be deprecated, use a list instead.\n",
      "\n"
     ]
    },
    {
     "data": {
      "application/vnd.plotly.v1+json": {
       "config": {
        "plotlyServerURL": "https://plot.ly"
       },
       "data": [
        {
         "hovertemplate": "Continent=Africa<br>Year=%{x}<br>Both sexes=%{y}<extra></extra>",
         "legendgroup": "Africa",
         "line": {
          "color": "#1F77B4",
          "dash": "solid"
         },
         "marker": {
          "symbol": "circle"
         },
         "mode": "lines",
         "name": "Africa",
         "orientation": "v",
         "showlegend": true,
         "type": "scatter",
         "x": [
          2000,
          2001,
          2002,
          2003,
          2004,
          2005,
          2006,
          2007,
          2008,
          2009,
          2010,
          2011,
          2012,
          2013,
          2014,
          2015,
          2016
         ],
         "xaxis": "x",
         "y": [
          358.3863636363636,
          361.90909090909093,
          364.3181818181818,
          366.46666666666664,
          360.0652173913044,
          350.0208333333333,
          338.9591836734694,
          326.7291666666667,
          315.44897959183675,
          303.3061224489796,
          292.6326530612245,
          284.3061224489796,
          276,
          270.57142857142856,
          268.9183673469388,
          261.51020408163265,
          255.3265306122449
         ],
         "yaxis": "y"
        },
        {
         "hovertemplate": "Continent=Asia<br>Year=%{x}<br>Both sexes=%{y}<extra></extra>",
         "legendgroup": "Asia",
         "line": {
          "color": "#FF7F0E",
          "dash": "solid"
         },
         "marker": {
          "symbol": "circle"
         },
         "mode": "lines",
         "name": "Asia",
         "orientation": "v",
         "showlegend": true,
         "type": "scatter",
         "x": [
          2000,
          2001,
          2002,
          2003,
          2004,
          2005,
          2006,
          2007,
          2008,
          2009,
          2010,
          2011,
          2012,
          2013,
          2014,
          2015,
          2016
         ],
         "xaxis": "x",
         "y": [
          167.47222222222223,
          163.38888888888889,
          161.66666666666666,
          160.69444444444446,
          161.41666666666666,
          159.39473684210526,
          157.81578947368422,
          153.3421052631579,
          151.73684210526315,
          145.6578947368421,
          143.30769230769232,
          141,
          138.46153846153845,
          136.66666666666666,
          135.56410256410257,
          133.92307692307693,
          131.02564102564102
         ],
         "yaxis": "y"
        },
        {
         "hovertemplate": "Continent=Europe<br>Year=%{x}<br>Both sexes=%{y}<extra></extra>",
         "legendgroup": "Europe",
         "line": {
          "color": "#2CA02C",
          "dash": "solid"
         },
         "marker": {
          "symbol": "circle"
         },
         "mode": "lines",
         "name": "Europe",
         "orientation": "v",
         "showlegend": true,
         "type": "scatter",
         "x": [
          2000,
          2001,
          2002,
          2003,
          2004,
          2005,
          2006,
          2007,
          2008,
          2009,
          2010,
          2011,
          2012,
          2013,
          2014,
          2015,
          2016
         ],
         "xaxis": "x",
         "y": [
          126.76470588235294,
          125.79411764705883,
          123.20588235294117,
          121.54285714285714,
          118.88571428571429,
          119.22857142857143,
          117.48571428571428,
          116.42857142857143,
          112.34285714285714,
          107.85714285714286,
          103.65714285714286,
          101.25714285714285,
          98.08571428571429,
          95.25714285714285,
          92.91428571428571,
          90.62857142857143,
          89
         ],
         "yaxis": "y"
        },
        {
         "hovertemplate": "Continent=North America<br>Year=%{x}<br>Both sexes=%{y}<extra></extra>",
         "legendgroup": "North America",
         "line": {
          "color": "#D62728",
          "dash": "solid"
         },
         "marker": {
          "symbol": "circle"
         },
         "mode": "lines",
         "name": "North America",
         "orientation": "v",
         "showlegend": true,
         "type": "scatter",
         "x": [
          2000,
          2001,
          2002,
          2003,
          2004,
          2005,
          2006,
          2007,
          2008,
          2009,
          2010,
          2011,
          2012,
          2013,
          2014,
          2015,
          2016
         ],
         "xaxis": "x",
         "y": [
          175.31578947368422,
          174.68421052631578,
          171.9,
          170.9,
          169.45,
          165.25,
          161.9,
          157.55,
          156.25,
          153.45,
          172.7,
          149.15,
          148.65,
          146.85,
          145.05,
          143.4,
          142
         ],
         "yaxis": "y"
        },
        {
         "hovertemplate": "Continent=Oceania<br>Year=%{x}<br>Both sexes=%{y}<extra></extra>",
         "legendgroup": "Oceania",
         "line": {
          "color": "#9467BD",
          "dash": "solid"
         },
         "marker": {
          "symbol": "circle"
         },
         "mode": "lines",
         "name": "Oceania",
         "orientation": "v",
         "showlegend": true,
         "type": "scatter",
         "x": [
          2000,
          2001,
          2002,
          2003,
          2004,
          2005,
          2006,
          2007,
          2008,
          2009,
          2010,
          2011,
          2012,
          2013,
          2014,
          2015,
          2016
         ],
         "xaxis": "x",
         "y": [
          181.625,
          178.5,
          176,
          172.875,
          169.375,
          166.22222222222223,
          162.44444444444446,
          160.11111111111111,
          156.55555555555554,
          158,
          152,
          149.55555555555554,
          147.11111111111111,
          144.66666666666666,
          143.33333333333334,
          141.22222222222223,
          139.11111111111111
         ],
         "yaxis": "y"
        },
        {
         "hovertemplate": "Continent=South America<br>Year=%{x}<br>Both sexes=%{y}<extra></extra>",
         "legendgroup": "South America",
         "line": {
          "color": "#8C564B",
          "dash": "solid"
         },
         "marker": {
          "symbol": "circle"
         },
         "mode": "lines",
         "name": "South America",
         "orientation": "v",
         "showlegend": true,
         "type": "scatter",
         "x": [
          2000,
          2001,
          2002,
          2003,
          2004,
          2005,
          2006,
          2007,
          2008,
          2009,
          2010,
          2011,
          2012,
          2013,
          2014,
          2015,
          2016
         ],
         "xaxis": "x",
         "y": [
          166.55555555555554,
          163.33333333333334,
          162.33333333333334,
          158.11111111111111,
          161.3,
          158.1,
          155.7,
          153.8,
          151.5,
          151.3,
          150.1,
          148.2,
          148,
          145.7,
          144,
          143.2,
          142
         ],
         "yaxis": "y"
        }
       ],
       "layout": {
        "legend": {
         "title": {
          "text": "Continent"
         },
         "tracegroupgap": 0
        },
        "margin": {
         "t": 60
        },
        "template": {
         "data": {
          "bar": [
           {
            "error_x": {
             "color": "rgb(36,36,36)"
            },
            "error_y": {
             "color": "rgb(36,36,36)"
            },
            "marker": {
             "line": {
              "color": "white",
              "width": 0.5
             },
             "pattern": {
              "fillmode": "overlay",
              "size": 10,
              "solidity": 0.2
             }
            },
            "type": "bar"
           }
          ],
          "barpolar": [
           {
            "marker": {
             "line": {
              "color": "white",
              "width": 0.5
             },
             "pattern": {
              "fillmode": "overlay",
              "size": 10,
              "solidity": 0.2
             }
            },
            "type": "barpolar"
           }
          ],
          "carpet": [
           {
            "aaxis": {
             "endlinecolor": "rgb(36,36,36)",
             "gridcolor": "white",
             "linecolor": "white",
             "minorgridcolor": "white",
             "startlinecolor": "rgb(36,36,36)"
            },
            "baxis": {
             "endlinecolor": "rgb(36,36,36)",
             "gridcolor": "white",
             "linecolor": "white",
             "minorgridcolor": "white",
             "startlinecolor": "rgb(36,36,36)"
            },
            "type": "carpet"
           }
          ],
          "choropleth": [
           {
            "colorbar": {
             "outlinewidth": 1,
             "tickcolor": "rgb(36,36,36)",
             "ticks": "outside"
            },
            "type": "choropleth"
           }
          ],
          "contour": [
           {
            "colorbar": {
             "outlinewidth": 1,
             "tickcolor": "rgb(36,36,36)",
             "ticks": "outside"
            },
            "colorscale": [
             [
              0,
              "#440154"
             ],
             [
              0.1111111111111111,
              "#482878"
             ],
             [
              0.2222222222222222,
              "#3e4989"
             ],
             [
              0.3333333333333333,
              "#31688e"
             ],
             [
              0.4444444444444444,
              "#26828e"
             ],
             [
              0.5555555555555556,
              "#1f9e89"
             ],
             [
              0.6666666666666666,
              "#35b779"
             ],
             [
              0.7777777777777778,
              "#6ece58"
             ],
             [
              0.8888888888888888,
              "#b5de2b"
             ],
             [
              1,
              "#fde725"
             ]
            ],
            "type": "contour"
           }
          ],
          "contourcarpet": [
           {
            "colorbar": {
             "outlinewidth": 1,
             "tickcolor": "rgb(36,36,36)",
             "ticks": "outside"
            },
            "type": "contourcarpet"
           }
          ],
          "heatmap": [
           {
            "colorbar": {
             "outlinewidth": 1,
             "tickcolor": "rgb(36,36,36)",
             "ticks": "outside"
            },
            "colorscale": [
             [
              0,
              "#440154"
             ],
             [
              0.1111111111111111,
              "#482878"
             ],
             [
              0.2222222222222222,
              "#3e4989"
             ],
             [
              0.3333333333333333,
              "#31688e"
             ],
             [
              0.4444444444444444,
              "#26828e"
             ],
             [
              0.5555555555555556,
              "#1f9e89"
             ],
             [
              0.6666666666666666,
              "#35b779"
             ],
             [
              0.7777777777777778,
              "#6ece58"
             ],
             [
              0.8888888888888888,
              "#b5de2b"
             ],
             [
              1,
              "#fde725"
             ]
            ],
            "type": "heatmap"
           }
          ],
          "heatmapgl": [
           {
            "colorbar": {
             "outlinewidth": 1,
             "tickcolor": "rgb(36,36,36)",
             "ticks": "outside"
            },
            "colorscale": [
             [
              0,
              "#440154"
             ],
             [
              0.1111111111111111,
              "#482878"
             ],
             [
              0.2222222222222222,
              "#3e4989"
             ],
             [
              0.3333333333333333,
              "#31688e"
             ],
             [
              0.4444444444444444,
              "#26828e"
             ],
             [
              0.5555555555555556,
              "#1f9e89"
             ],
             [
              0.6666666666666666,
              "#35b779"
             ],
             [
              0.7777777777777778,
              "#6ece58"
             ],
             [
              0.8888888888888888,
              "#b5de2b"
             ],
             [
              1,
              "#fde725"
             ]
            ],
            "type": "heatmapgl"
           }
          ],
          "histogram": [
           {
            "marker": {
             "line": {
              "color": "white",
              "width": 0.6
             }
            },
            "type": "histogram"
           }
          ],
          "histogram2d": [
           {
            "colorbar": {
             "outlinewidth": 1,
             "tickcolor": "rgb(36,36,36)",
             "ticks": "outside"
            },
            "colorscale": [
             [
              0,
              "#440154"
             ],
             [
              0.1111111111111111,
              "#482878"
             ],
             [
              0.2222222222222222,
              "#3e4989"
             ],
             [
              0.3333333333333333,
              "#31688e"
             ],
             [
              0.4444444444444444,
              "#26828e"
             ],
             [
              0.5555555555555556,
              "#1f9e89"
             ],
             [
              0.6666666666666666,
              "#35b779"
             ],
             [
              0.7777777777777778,
              "#6ece58"
             ],
             [
              0.8888888888888888,
              "#b5de2b"
             ],
             [
              1,
              "#fde725"
             ]
            ],
            "type": "histogram2d"
           }
          ],
          "histogram2dcontour": [
           {
            "colorbar": {
             "outlinewidth": 1,
             "tickcolor": "rgb(36,36,36)",
             "ticks": "outside"
            },
            "colorscale": [
             [
              0,
              "#440154"
             ],
             [
              0.1111111111111111,
              "#482878"
             ],
             [
              0.2222222222222222,
              "#3e4989"
             ],
             [
              0.3333333333333333,
              "#31688e"
             ],
             [
              0.4444444444444444,
              "#26828e"
             ],
             [
              0.5555555555555556,
              "#1f9e89"
             ],
             [
              0.6666666666666666,
              "#35b779"
             ],
             [
              0.7777777777777778,
              "#6ece58"
             ],
             [
              0.8888888888888888,
              "#b5de2b"
             ],
             [
              1,
              "#fde725"
             ]
            ],
            "type": "histogram2dcontour"
           }
          ],
          "mesh3d": [
           {
            "colorbar": {
             "outlinewidth": 1,
             "tickcolor": "rgb(36,36,36)",
             "ticks": "outside"
            },
            "type": "mesh3d"
           }
          ],
          "parcoords": [
           {
            "line": {
             "colorbar": {
              "outlinewidth": 1,
              "tickcolor": "rgb(36,36,36)",
              "ticks": "outside"
             }
            },
            "type": "parcoords"
           }
          ],
          "pie": [
           {
            "automargin": true,
            "type": "pie"
           }
          ],
          "scatter": [
           {
            "fillpattern": {
             "fillmode": "overlay",
             "size": 10,
             "solidity": 0.2
            },
            "type": "scatter"
           }
          ],
          "scatter3d": [
           {
            "line": {
             "colorbar": {
              "outlinewidth": 1,
              "tickcolor": "rgb(36,36,36)",
              "ticks": "outside"
             }
            },
            "marker": {
             "colorbar": {
              "outlinewidth": 1,
              "tickcolor": "rgb(36,36,36)",
              "ticks": "outside"
             }
            },
            "type": "scatter3d"
           }
          ],
          "scattercarpet": [
           {
            "marker": {
             "colorbar": {
              "outlinewidth": 1,
              "tickcolor": "rgb(36,36,36)",
              "ticks": "outside"
             }
            },
            "type": "scattercarpet"
           }
          ],
          "scattergeo": [
           {
            "marker": {
             "colorbar": {
              "outlinewidth": 1,
              "tickcolor": "rgb(36,36,36)",
              "ticks": "outside"
             }
            },
            "type": "scattergeo"
           }
          ],
          "scattergl": [
           {
            "marker": {
             "colorbar": {
              "outlinewidth": 1,
              "tickcolor": "rgb(36,36,36)",
              "ticks": "outside"
             }
            },
            "type": "scattergl"
           }
          ],
          "scattermapbox": [
           {
            "marker": {
             "colorbar": {
              "outlinewidth": 1,
              "tickcolor": "rgb(36,36,36)",
              "ticks": "outside"
             }
            },
            "type": "scattermapbox"
           }
          ],
          "scatterpolar": [
           {
            "marker": {
             "colorbar": {
              "outlinewidth": 1,
              "tickcolor": "rgb(36,36,36)",
              "ticks": "outside"
             }
            },
            "type": "scatterpolar"
           }
          ],
          "scatterpolargl": [
           {
            "marker": {
             "colorbar": {
              "outlinewidth": 1,
              "tickcolor": "rgb(36,36,36)",
              "ticks": "outside"
             }
            },
            "type": "scatterpolargl"
           }
          ],
          "scatterternary": [
           {
            "marker": {
             "colorbar": {
              "outlinewidth": 1,
              "tickcolor": "rgb(36,36,36)",
              "ticks": "outside"
             }
            },
            "type": "scatterternary"
           }
          ],
          "surface": [
           {
            "colorbar": {
             "outlinewidth": 1,
             "tickcolor": "rgb(36,36,36)",
             "ticks": "outside"
            },
            "colorscale": [
             [
              0,
              "#440154"
             ],
             [
              0.1111111111111111,
              "#482878"
             ],
             [
              0.2222222222222222,
              "#3e4989"
             ],
             [
              0.3333333333333333,
              "#31688e"
             ],
             [
              0.4444444444444444,
              "#26828e"
             ],
             [
              0.5555555555555556,
              "#1f9e89"
             ],
             [
              0.6666666666666666,
              "#35b779"
             ],
             [
              0.7777777777777778,
              "#6ece58"
             ],
             [
              0.8888888888888888,
              "#b5de2b"
             ],
             [
              1,
              "#fde725"
             ]
            ],
            "type": "surface"
           }
          ],
          "table": [
           {
            "cells": {
             "fill": {
              "color": "rgb(237,237,237)"
             },
             "line": {
              "color": "white"
             }
            },
            "header": {
             "fill": {
              "color": "rgb(217,217,217)"
             },
             "line": {
              "color": "white"
             }
            },
            "type": "table"
           }
          ]
         },
         "layout": {
          "annotationdefaults": {
           "arrowhead": 0,
           "arrowwidth": 1
          },
          "autotypenumbers": "strict",
          "coloraxis": {
           "colorbar": {
            "outlinewidth": 1,
            "tickcolor": "rgb(36,36,36)",
            "ticks": "outside"
           }
          },
          "colorscale": {
           "diverging": [
            [
             0,
             "rgb(103,0,31)"
            ],
            [
             0.1,
             "rgb(178,24,43)"
            ],
            [
             0.2,
             "rgb(214,96,77)"
            ],
            [
             0.3,
             "rgb(244,165,130)"
            ],
            [
             0.4,
             "rgb(253,219,199)"
            ],
            [
             0.5,
             "rgb(247,247,247)"
            ],
            [
             0.6,
             "rgb(209,229,240)"
            ],
            [
             0.7,
             "rgb(146,197,222)"
            ],
            [
             0.8,
             "rgb(67,147,195)"
            ],
            [
             0.9,
             "rgb(33,102,172)"
            ],
            [
             1,
             "rgb(5,48,97)"
            ]
           ],
           "sequential": [
            [
             0,
             "#440154"
            ],
            [
             0.1111111111111111,
             "#482878"
            ],
            [
             0.2222222222222222,
             "#3e4989"
            ],
            [
             0.3333333333333333,
             "#31688e"
            ],
            [
             0.4444444444444444,
             "#26828e"
            ],
            [
             0.5555555555555556,
             "#1f9e89"
            ],
            [
             0.6666666666666666,
             "#35b779"
            ],
            [
             0.7777777777777778,
             "#6ece58"
            ],
            [
             0.8888888888888888,
             "#b5de2b"
            ],
            [
             1,
             "#fde725"
            ]
           ],
           "sequentialminus": [
            [
             0,
             "#440154"
            ],
            [
             0.1111111111111111,
             "#482878"
            ],
            [
             0.2222222222222222,
             "#3e4989"
            ],
            [
             0.3333333333333333,
             "#31688e"
            ],
            [
             0.4444444444444444,
             "#26828e"
            ],
            [
             0.5555555555555556,
             "#1f9e89"
            ],
            [
             0.6666666666666666,
             "#35b779"
            ],
            [
             0.7777777777777778,
             "#6ece58"
            ],
            [
             0.8888888888888888,
             "#b5de2b"
            ],
            [
             1,
             "#fde725"
            ]
           ]
          },
          "colorway": [
           "#1F77B4",
           "#FF7F0E",
           "#2CA02C",
           "#D62728",
           "#9467BD",
           "#8C564B",
           "#E377C2",
           "#7F7F7F",
           "#BCBD22",
           "#17BECF"
          ],
          "font": {
           "color": "rgb(36,36,36)"
          },
          "geo": {
           "bgcolor": "white",
           "lakecolor": "white",
           "landcolor": "white",
           "showlakes": true,
           "showland": true,
           "subunitcolor": "white"
          },
          "hoverlabel": {
           "align": "left"
          },
          "hovermode": "closest",
          "mapbox": {
           "style": "light"
          },
          "paper_bgcolor": "white",
          "plot_bgcolor": "white",
          "polar": {
           "angularaxis": {
            "gridcolor": "rgb(232,232,232)",
            "linecolor": "rgb(36,36,36)",
            "showgrid": false,
            "showline": true,
            "ticks": "outside"
           },
           "bgcolor": "white",
           "radialaxis": {
            "gridcolor": "rgb(232,232,232)",
            "linecolor": "rgb(36,36,36)",
            "showgrid": false,
            "showline": true,
            "ticks": "outside"
           }
          },
          "scene": {
           "xaxis": {
            "backgroundcolor": "white",
            "gridcolor": "rgb(232,232,232)",
            "gridwidth": 2,
            "linecolor": "rgb(36,36,36)",
            "showbackground": true,
            "showgrid": false,
            "showline": true,
            "ticks": "outside",
            "zeroline": false,
            "zerolinecolor": "rgb(36,36,36)"
           },
           "yaxis": {
            "backgroundcolor": "white",
            "gridcolor": "rgb(232,232,232)",
            "gridwidth": 2,
            "linecolor": "rgb(36,36,36)",
            "showbackground": true,
            "showgrid": false,
            "showline": true,
            "ticks": "outside",
            "zeroline": false,
            "zerolinecolor": "rgb(36,36,36)"
           },
           "zaxis": {
            "backgroundcolor": "white",
            "gridcolor": "rgb(232,232,232)",
            "gridwidth": 2,
            "linecolor": "rgb(36,36,36)",
            "showbackground": true,
            "showgrid": false,
            "showline": true,
            "ticks": "outside",
            "zeroline": false,
            "zerolinecolor": "rgb(36,36,36)"
           }
          },
          "shapedefaults": {
           "fillcolor": "black",
           "line": {
            "width": 0
           },
           "opacity": 0.3
          },
          "ternary": {
           "aaxis": {
            "gridcolor": "rgb(232,232,232)",
            "linecolor": "rgb(36,36,36)",
            "showgrid": false,
            "showline": true,
            "ticks": "outside"
           },
           "baxis": {
            "gridcolor": "rgb(232,232,232)",
            "linecolor": "rgb(36,36,36)",
            "showgrid": false,
            "showline": true,
            "ticks": "outside"
           },
           "bgcolor": "white",
           "caxis": {
            "gridcolor": "rgb(232,232,232)",
            "linecolor": "rgb(36,36,36)",
            "showgrid": false,
            "showline": true,
            "ticks": "outside"
           }
          },
          "title": {
           "x": 0.05
          },
          "xaxis": {
           "automargin": true,
           "gridcolor": "rgb(232,232,232)",
           "linecolor": "rgb(36,36,36)",
           "showgrid": false,
           "showline": true,
           "ticks": "outside",
           "title": {
            "standoff": 15
           },
           "zeroline": false,
           "zerolinecolor": "rgb(36,36,36)"
          },
          "yaxis": {
           "automargin": true,
           "gridcolor": "rgb(232,232,232)",
           "linecolor": "rgb(36,36,36)",
           "showgrid": false,
           "showline": true,
           "ticks": "outside",
           "title": {
            "standoff": 15
           },
           "zeroline": false,
           "zerolinecolor": "rgb(36,36,36)"
          }
         }
        },
        "xaxis": {
         "anchor": "y",
         "domain": [
          0,
          1
         ],
         "title": {
          "text": "Year"
         }
        },
        "yaxis": {
         "anchor": "x",
         "domain": [
          0,
          1
         ],
         "title": {
          "text": "Both sexes"
         }
        }
       }
      }
     },
     "metadata": {},
     "output_type": "display_data"
    }
   ],
   "source": [
    "import plotly.express as px\n",
    "\n",
    "px.line(merge_df.groupby(['Year','Continent'], as_index=False)['Both sexes','avg_years_of_schooling'].mean(), y='Both sexes',x='Year',template='simple_white',\n",
    "        color='Continent')\n"
   ]
  },
  {
   "cell_type": "code",
   "execution_count": 92,
   "metadata": {},
   "outputs": [
    {
     "name": "stderr",
     "output_type": "stream",
     "text": [
      "C:\\Users\\oludo\\AppData\\Local\\Temp\\ipykernel_27216\\2552727673.py:1: FutureWarning:\n",
      "\n",
      "Indexing with multiple keys (implicitly converted to a tuple of keys) will be deprecated, use a list instead.\n",
      "\n"
     ]
    },
    {
     "data": {
      "text/html": [
       "<div>\n",
       "<style scoped>\n",
       "    .dataframe tbody tr th:only-of-type {\n",
       "        vertical-align: middle;\n",
       "    }\n",
       "\n",
       "    .dataframe tbody tr th {\n",
       "        vertical-align: top;\n",
       "    }\n",
       "\n",
       "    .dataframe thead th {\n",
       "        text-align: right;\n",
       "    }\n",
       "</style>\n",
       "<table border=\"1\" class=\"dataframe\">\n",
       "  <thead>\n",
       "    <tr style=\"text-align: right;\">\n",
       "      <th></th>\n",
       "      <th>Year</th>\n",
       "      <th>Continent</th>\n",
       "      <th>Both sexes</th>\n",
       "      <th>avg_years_of_schooling</th>\n",
       "    </tr>\n",
       "  </thead>\n",
       "  <tbody>\n",
       "    <tr>\n",
       "      <th>0</th>\n",
       "      <td>2000</td>\n",
       "      <td>Africa</td>\n",
       "      <td>358.386364</td>\n",
       "      <td>4.031818</td>\n",
       "    </tr>\n",
       "    <tr>\n",
       "      <th>1</th>\n",
       "      <td>2000</td>\n",
       "      <td>Asia</td>\n",
       "      <td>167.472222</td>\n",
       "      <td>7.166667</td>\n",
       "    </tr>\n",
       "    <tr>\n",
       "      <th>2</th>\n",
       "      <td>2000</td>\n",
       "      <td>Europe</td>\n",
       "      <td>126.764706</td>\n",
       "      <td>9.879412</td>\n",
       "    </tr>\n",
       "    <tr>\n",
       "      <th>3</th>\n",
       "      <td>2000</td>\n",
       "      <td>North America</td>\n",
       "      <td>175.315789</td>\n",
       "      <td>7.389474</td>\n",
       "    </tr>\n",
       "    <tr>\n",
       "      <th>4</th>\n",
       "      <td>2000</td>\n",
       "      <td>Oceania</td>\n",
       "      <td>181.625000</td>\n",
       "      <td>8.212500</td>\n",
       "    </tr>\n",
       "    <tr>\n",
       "      <th>...</th>\n",
       "      <td>...</td>\n",
       "      <td>...</td>\n",
       "      <td>...</td>\n",
       "      <td>...</td>\n",
       "    </tr>\n",
       "    <tr>\n",
       "      <th>97</th>\n",
       "      <td>2016</td>\n",
       "      <td>Asia</td>\n",
       "      <td>131.025641</td>\n",
       "      <td>8.715385</td>\n",
       "    </tr>\n",
       "    <tr>\n",
       "      <th>98</th>\n",
       "      <td>2016</td>\n",
       "      <td>Europe</td>\n",
       "      <td>89.000000</td>\n",
       "      <td>11.802857</td>\n",
       "    </tr>\n",
       "    <tr>\n",
       "      <th>99</th>\n",
       "      <td>2016</td>\n",
       "      <td>North America</td>\n",
       "      <td>142.000000</td>\n",
       "      <td>9.000000</td>\n",
       "    </tr>\n",
       "    <tr>\n",
       "      <th>100</th>\n",
       "      <td>2016</td>\n",
       "      <td>Oceania</td>\n",
       "      <td>139.111111</td>\n",
       "      <td>9.155556</td>\n",
       "    </tr>\n",
       "    <tr>\n",
       "      <th>101</th>\n",
       "      <td>2016</td>\n",
       "      <td>South America</td>\n",
       "      <td>142.000000</td>\n",
       "      <td>8.820000</td>\n",
       "    </tr>\n",
       "  </tbody>\n",
       "</table>\n",
       "<p>102 rows × 4 columns</p>\n",
       "</div>"
      ],
      "text/plain": [
       "     Year      Continent  Both sexes  avg_years_of_schooling\n",
       "0    2000         Africa  358.386364                4.031818\n",
       "1    2000           Asia  167.472222                7.166667\n",
       "2    2000         Europe  126.764706                9.879412\n",
       "3    2000  North America  175.315789                7.389474\n",
       "4    2000        Oceania  181.625000                8.212500\n",
       "..    ...            ...         ...                     ...\n",
       "97   2016           Asia  131.025641                8.715385\n",
       "98   2016         Europe   89.000000               11.802857\n",
       "99   2016  North America  142.000000                9.000000\n",
       "100  2016        Oceania  139.111111                9.155556\n",
       "101  2016  South America  142.000000                8.820000\n",
       "\n",
       "[102 rows x 4 columns]"
      ]
     },
     "execution_count": 92,
     "metadata": {},
     "output_type": "execute_result"
    }
   ],
   "source": [
    "merge_df.groupby(['Year','Continent'], as_index=False)['Both sexes','avg_years_of_schooling'].mean()"
   ]
  },
  {
   "cell_type": "code",
   "execution_count": 42,
   "metadata": {},
   "outputs": [],
   "source": [
    "final_df.to_csv('Complete_mortality_y_of_schooling.csv', index=False)"
   ]
  },
  {
   "cell_type": "code",
   "execution_count": 27,
   "metadata": {},
   "outputs": [
    {
     "name": "stderr",
     "output_type": "stream",
     "text": [
      "C:\\Users\\oludo\\AppData\\Local\\Temp\\ipykernel_22980\\1228675952.py:2: FutureWarning: The default value of numeric_only in DataFrameGroupBy.sum is deprecated. In a future version, numeric_only will default to False. Either specify numeric_only or select only columns which should be valid for the function.\n",
      "  sui_rate_f = sui_rate.groupby(['country','year'], as_index=False)[['suicides/100k pop',' gdp_for_year ($) ']].sum()\n"
     ]
    }
   ],
   "source": [
    "sui_rate = pd.read_csv('suicide.csv')\n",
    "sui_rate_f = sui_rate.groupby(['country','year'], as_index=False)[['suicides/100k pop',' gdp_for_year ($) ']].sum()"
   ]
  },
  {
   "cell_type": "code",
   "execution_count": 44,
   "metadata": {},
   "outputs": [
    {
     "data": {
      "text/html": [
       "<div>\n",
       "<style scoped>\n",
       "    .dataframe tbody tr th:only-of-type {\n",
       "        vertical-align: middle;\n",
       "    }\n",
       "\n",
       "    .dataframe tbody tr th {\n",
       "        vertical-align: top;\n",
       "    }\n",
       "\n",
       "    .dataframe thead th {\n",
       "        text-align: right;\n",
       "    }\n",
       "</style>\n",
       "<table border=\"1\" class=\"dataframe\">\n",
       "  <thead>\n",
       "    <tr style=\"text-align: right;\">\n",
       "      <th></th>\n",
       "      <th>country</th>\n",
       "      <th>year</th>\n",
       "      <th>suicides/100k pop</th>\n",
       "      <th>gdp</th>\n",
       "    </tr>\n",
       "  </thead>\n",
       "  <tbody>\n",
       "    <tr>\n",
       "      <th>0</th>\n",
       "      <td>Albania</td>\n",
       "      <td>1987</td>\n",
       "      <td>31.85</td>\n",
       "      <td>2,156,624,900</td>\n",
       "    </tr>\n",
       "    <tr>\n",
       "      <th>1</th>\n",
       "      <td>Albania</td>\n",
       "      <td>1988</td>\n",
       "      <td>32.46</td>\n",
       "      <td>2,126,000,000</td>\n",
       "    </tr>\n",
       "    <tr>\n",
       "      <th>2</th>\n",
       "      <td>Albania</td>\n",
       "      <td>1989</td>\n",
       "      <td>33.40</td>\n",
       "      <td>2,335,124,988</td>\n",
       "    </tr>\n",
       "    <tr>\n",
       "      <th>3</th>\n",
       "      <td>Albania</td>\n",
       "      <td>1992</td>\n",
       "      <td>18.00</td>\n",
       "      <td>709,452,584</td>\n",
       "    </tr>\n",
       "    <tr>\n",
       "      <th>4</th>\n",
       "      <td>Albania</td>\n",
       "      <td>1993</td>\n",
       "      <td>32.56</td>\n",
       "      <td>1,228,071,038</td>\n",
       "    </tr>\n",
       "    <tr>\n",
       "      <th>...</th>\n",
       "      <td>...</td>\n",
       "      <td>...</td>\n",
       "      <td>...</td>\n",
       "      <td>...</td>\n",
       "    </tr>\n",
       "    <tr>\n",
       "      <th>2316</th>\n",
       "      <td>Uzbekistan</td>\n",
       "      <td>2010</td>\n",
       "      <td>63.23</td>\n",
       "      <td>39,332,770,929</td>\n",
       "    </tr>\n",
       "    <tr>\n",
       "      <th>2317</th>\n",
       "      <td>Uzbekistan</td>\n",
       "      <td>2011</td>\n",
       "      <td>67.14</td>\n",
       "      <td>45,915,191,189</td>\n",
       "    </tr>\n",
       "    <tr>\n",
       "      <th>2318</th>\n",
       "      <td>Uzbekistan</td>\n",
       "      <td>2012</td>\n",
       "      <td>77.53</td>\n",
       "      <td>51,821,573,338</td>\n",
       "    </tr>\n",
       "    <tr>\n",
       "      <th>2319</th>\n",
       "      <td>Uzbekistan</td>\n",
       "      <td>2013</td>\n",
       "      <td>78.86</td>\n",
       "      <td>57,690,453,461</td>\n",
       "    </tr>\n",
       "    <tr>\n",
       "      <th>2320</th>\n",
       "      <td>Uzbekistan</td>\n",
       "      <td>2014</td>\n",
       "      <td>85.12</td>\n",
       "      <td>63,067,077,179</td>\n",
       "    </tr>\n",
       "  </tbody>\n",
       "</table>\n",
       "<p>2321 rows × 4 columns</p>\n",
       "</div>"
      ],
      "text/plain": [
       "         country  year  suicides/100k pop             gdp\n",
       "0        Albania  1987              31.85   2,156,624,900\n",
       "1        Albania  1988              32.46   2,126,000,000\n",
       "2        Albania  1989              33.40   2,335,124,988\n",
       "3        Albania  1992              18.00     709,452,584\n",
       "4        Albania  1993              32.56   1,228,071,038\n",
       "...          ...   ...                ...             ...\n",
       "2316  Uzbekistan  2010              63.23  39,332,770,929\n",
       "2317  Uzbekistan  2011              67.14  45,915,191,189\n",
       "2318  Uzbekistan  2012              77.53  51,821,573,338\n",
       "2319  Uzbekistan  2013              78.86  57,690,453,461\n",
       "2320  Uzbekistan  2014              85.12  63,067,077,179\n",
       "\n",
       "[2321 rows x 4 columns]"
      ]
     },
     "execution_count": 44,
     "metadata": {},
     "output_type": "execute_result"
    }
   ],
   "source": [
    "gdp = sui_rate.groupby(['country','year'], as_index=False)[' gdp_for_year ($) '].min()\n",
    "sui_rate_f['gdp'] = gdp[' gdp_for_year ($) ']\n",
    "sui_rate_f"
   ]
  },
  {
   "cell_type": "code",
   "execution_count": 45,
   "metadata": {},
   "outputs": [
    {
     "data": {
      "text/html": [
       "<div>\n",
       "<style scoped>\n",
       "    .dataframe tbody tr th:only-of-type {\n",
       "        vertical-align: middle;\n",
       "    }\n",
       "\n",
       "    .dataframe tbody tr th {\n",
       "        vertical-align: top;\n",
       "    }\n",
       "\n",
       "    .dataframe thead th {\n",
       "        text-align: right;\n",
       "    }\n",
       "</style>\n",
       "<table border=\"1\" class=\"dataframe\">\n",
       "  <thead>\n",
       "    <tr style=\"text-align: right;\">\n",
       "      <th></th>\n",
       "      <th>Country</th>\n",
       "      <th>Year</th>\n",
       "      <th>suicides_per_100k</th>\n",
       "      <th>gdp</th>\n",
       "    </tr>\n",
       "  </thead>\n",
       "  <tbody>\n",
       "    <tr>\n",
       "      <th>0</th>\n",
       "      <td>Albania</td>\n",
       "      <td>1987</td>\n",
       "      <td>31.85</td>\n",
       "      <td>2,156,624,900</td>\n",
       "    </tr>\n",
       "    <tr>\n",
       "      <th>1</th>\n",
       "      <td>Albania</td>\n",
       "      <td>1988</td>\n",
       "      <td>32.46</td>\n",
       "      <td>2,126,000,000</td>\n",
       "    </tr>\n",
       "    <tr>\n",
       "      <th>2</th>\n",
       "      <td>Albania</td>\n",
       "      <td>1989</td>\n",
       "      <td>33.40</td>\n",
       "      <td>2,335,124,988</td>\n",
       "    </tr>\n",
       "    <tr>\n",
       "      <th>3</th>\n",
       "      <td>Albania</td>\n",
       "      <td>1992</td>\n",
       "      <td>18.00</td>\n",
       "      <td>709,452,584</td>\n",
       "    </tr>\n",
       "    <tr>\n",
       "      <th>4</th>\n",
       "      <td>Albania</td>\n",
       "      <td>1993</td>\n",
       "      <td>32.56</td>\n",
       "      <td>1,228,071,038</td>\n",
       "    </tr>\n",
       "    <tr>\n",
       "      <th>...</th>\n",
       "      <td>...</td>\n",
       "      <td>...</td>\n",
       "      <td>...</td>\n",
       "      <td>...</td>\n",
       "    </tr>\n",
       "    <tr>\n",
       "      <th>2316</th>\n",
       "      <td>Uzbekistan</td>\n",
       "      <td>2010</td>\n",
       "      <td>63.23</td>\n",
       "      <td>39,332,770,929</td>\n",
       "    </tr>\n",
       "    <tr>\n",
       "      <th>2317</th>\n",
       "      <td>Uzbekistan</td>\n",
       "      <td>2011</td>\n",
       "      <td>67.14</td>\n",
       "      <td>45,915,191,189</td>\n",
       "    </tr>\n",
       "    <tr>\n",
       "      <th>2318</th>\n",
       "      <td>Uzbekistan</td>\n",
       "      <td>2012</td>\n",
       "      <td>77.53</td>\n",
       "      <td>51,821,573,338</td>\n",
       "    </tr>\n",
       "    <tr>\n",
       "      <th>2319</th>\n",
       "      <td>Uzbekistan</td>\n",
       "      <td>2013</td>\n",
       "      <td>78.86</td>\n",
       "      <td>57,690,453,461</td>\n",
       "    </tr>\n",
       "    <tr>\n",
       "      <th>2320</th>\n",
       "      <td>Uzbekistan</td>\n",
       "      <td>2014</td>\n",
       "      <td>85.12</td>\n",
       "      <td>63,067,077,179</td>\n",
       "    </tr>\n",
       "  </tbody>\n",
       "</table>\n",
       "<p>2321 rows × 4 columns</p>\n",
       "</div>"
      ],
      "text/plain": [
       "         Country  Year  suicides_per_100k             gdp\n",
       "0        Albania  1987              31.85   2,156,624,900\n",
       "1        Albania  1988              32.46   2,126,000,000\n",
       "2        Albania  1989              33.40   2,335,124,988\n",
       "3        Albania  1992              18.00     709,452,584\n",
       "4        Albania  1993              32.56   1,228,071,038\n",
       "...          ...   ...                ...             ...\n",
       "2316  Uzbekistan  2010              63.23  39,332,770,929\n",
       "2317  Uzbekistan  2011              67.14  45,915,191,189\n",
       "2318  Uzbekistan  2012              77.53  51,821,573,338\n",
       "2319  Uzbekistan  2013              78.86  57,690,453,461\n",
       "2320  Uzbekistan  2014              85.12  63,067,077,179\n",
       "\n",
       "[2321 rows x 4 columns]"
      ]
     },
     "execution_count": 45,
     "metadata": {},
     "output_type": "execute_result"
    }
   ],
   "source": [
    "sui_rate_f.rename(columns={'country':'Country','year':'Year','suicides/100k pop':'suicides_per_100k'}, inplace=True)\n",
    "sui_rate_f"
   ]
  },
  {
   "cell_type": "code",
   "execution_count": 80,
   "metadata": {},
   "outputs": [],
   "source": [
    "final_df_2 = pd.merge(final_df,sui_rate_f)\n",
    "final_df_2['Year'] = pd.to_numeric(final_df_2['Year'])"
   ]
  },
  {
   "cell_type": "code",
   "execution_count": 84,
   "metadata": {},
   "outputs": [],
   "source": [
    "#final_df_2.sort_values(['Country','Year'], ascending=[True,True], inplace=True, ignore_index=True)\n",
    "final_df_2.sort_values('Year',inplace=True)\n"
   ]
  },
  {
   "cell_type": "code",
   "execution_count": 89,
   "metadata": {},
   "outputs": [],
   "source": [
    "final_df_2.to_csv('final_df.csv', index=False)"
   ]
  },
  {
   "cell_type": "code",
   "execution_count": 85,
   "metadata": {},
   "outputs": [
    {
     "data": {
      "text/plain": [
       "array([2000, 2001, 2002, 2003, 2004, 2005, 2006, 2007, 2008, 2009, 2010,\n",
       "       2011, 2012, 2013, 2014, 2015, 2016], dtype=int64)"
      ]
     },
     "execution_count": 85,
     "metadata": {},
     "output_type": "execute_result"
    }
   ],
   "source": [
    "final_df_2.Year.unique()"
   ]
  },
  {
   "cell_type": "code",
   "execution_count": 87,
   "metadata": {},
   "outputs": [
    {
     "data": {
      "application/vnd.plotly.v1+json": {
       "config": {
        "plotlyServerURL": "https://plot.ly"
       },
       "data": [
        {
         "hovertemplate": "<b>%{hovertext}</b><br><br>Continent=Europe<br>Year=2000<br>avg_years_of_schooling=%{x}<br>Both sexes=%{marker.size}<extra></extra>",
         "hovertext": [
          "Albania",
          "Netherlands",
          "Norway",
          "Bulgaria",
          "Poland",
          "Portugal",
          "Romania",
          "Serbia",
          "Belarus",
          "Slovakia",
          "Slovenia",
          "Spain",
          "Belgium",
          "Austria",
          "Malta",
          "Germany",
          "France",
          "Greece",
          "Finland",
          "Hungary",
          "Estonia",
          "Iceland",
          "Ireland",
          "Italy",
          "Denmark",
          "Latvia",
          "Lithuania",
          "Croatia",
          "Luxembourg",
          "Sweden",
          "Switzerland",
          "Ukraine"
         ],
         "ids": [
          "Albania",
          "Netherlands",
          "Norway",
          "Bulgaria",
          "Poland",
          "Portugal",
          "Romania",
          "Serbia",
          "Belarus",
          "Slovakia",
          "Slovenia",
          "Spain",
          "Belgium",
          "Austria",
          "Malta",
          "Germany",
          "France",
          "Greece",
          "Finland",
          "Hungary",
          "Estonia",
          "Iceland",
          "Ireland",
          "Italy",
          "Denmark",
          "Latvia",
          "Lithuania",
          "Croatia",
          "Luxembourg",
          "Sweden",
          "Switzerland",
          "Ukraine"
         ],
         "legendgroup": "Europe",
         "marker": {
          "color": "#1F77B4",
          "size": [
           106,
           83,
           84,
           163,
           152,
           110,
           175,
           141,
           247,
           147,
           122,
           84,
           99,
           94,
           70,
           95,
           99,
           82,
           104,
           193,
           216,
           76,
           93,
           75,
           100,
           217,
           200,
           133,
           90,
           72,
           78,
           258
          ],
          "sizemode": "area",
          "sizeref": 0.53,
          "symbol": "circle"
         },
         "mode": "markers",
         "name": "Europe",
         "orientation": "v",
         "showlegend": true,
         "type": "scatter",
         "x": [
          8.8,
          10.8,
          12,
          9.5,
          11.1,
          6.8,
          9.9,
          9.4,
          8.9,
          10.3,
          11.6,
          8.4,
          10,
          9,
          8.1,
          11.2,
          9.8,
          8.6,
          9.3,
          10.2,
          11.7,
          9.4,
          10.8,
          8.6,
          10.7,
          9.5,
          10.7,
          9.4,
          10.3,
          11.4,
          11.4,
          10.7
         ],
         "xaxis": "x",
         "y": [
          106,
          83,
          84,
          163,
          152,
          110,
          175,
          141,
          247,
          147,
          122,
          84,
          99,
          94,
          70,
          95,
          99,
          82,
          104,
          193,
          216,
          76,
          93,
          75,
          100,
          217,
          200,
          133,
          90,
          72,
          78,
          258
         ],
         "yaxis": "y"
        },
        {
         "hovertemplate": "<b>%{hovertext}</b><br><br>Continent=South America<br>Year=2000<br>avg_years_of_schooling=%{x}<br>Both sexes=%{marker.size}<extra></extra>",
         "hovertext": [
          "Chile",
          "Paraguay",
          "Brazil",
          "Colombia",
          "Ecuador",
          "Argentina",
          "Uruguay"
         ],
         "ids": [
          "Chile",
          "Paraguay",
          "Brazil",
          "Colombia",
          "Ecuador",
          "Argentina",
          "Uruguay"
         ],
         "legendgroup": "South America",
         "marker": {
          "color": "#FF7F0E",
          "size": [
           103,
           171,
           184,
           171,
           160,
           139,
           134
          ],
          "sizemode": "area",
          "sizeref": 0.53,
          "symbol": "circle"
         },
         "mode": "markers",
         "name": "South America",
         "orientation": "v",
         "showlegend": true,
         "type": "scatter",
         "x": [
          8.8,
          5.9,
          5.6,
          6.5,
          7,
          9.1,
          8
         ],
         "xaxis": "x",
         "y": [
          103,
          171,
          184,
          171,
          160,
          139,
          134
         ],
         "yaxis": "y"
        },
        {
         "hovertemplate": "<b>%{hovertext}</b><br><br>Continent=Oceania<br>Year=2000<br>avg_years_of_schooling=%{x}<br>Both sexes=%{marker.size}<extra></extra>",
         "hovertext": [
          "New Zealand",
          "Kiribati",
          "Australia"
         ],
         "ids": [
          "New Zealand",
          "Kiribati",
          "Australia"
         ],
         "legendgroup": "Oceania",
         "marker": {
          "color": "#2CA02C",
          "size": [
           86,
           222,
           77
          ],
          "sizemode": "area",
          "sizeref": 0.53,
          "symbol": "circle"
         },
         "mode": "markers",
         "name": "Oceania",
         "orientation": "v",
         "showlegend": true,
         "type": "scatter",
         "x": [
          11.6,
          6.8,
          11.9
         ],
         "xaxis": "x",
         "y": [
          86,
          222,
          77
         ],
         "yaxis": "y"
        },
        {
         "hovertemplate": "<b>%{hovertext}</b><br><br>Continent=North America<br>Year=2000<br>avg_years_of_schooling=%{x}<br>Both sexes=%{marker.size}<extra></extra>",
         "hovertext": [
          "Canada",
          "Panama",
          "Belize",
          "Mexico",
          "Saint Lucia",
          "Barbados",
          "Bahamas",
          "Guatemala",
          "El Salvador",
          "Jamaica",
          "Cuba",
          "Costa Rica",
          "Antigua and Barbuda",
          "Trinidad and Tobago"
         ],
         "ids": [
          "Canada",
          "Panama",
          "Belize",
          "Mexico",
          "Saint Lucia",
          "Barbados",
          "Bahamas",
          "Guatemala",
          "El Salvador",
          "Jamaica",
          "Cuba",
          "Costa Rica",
          "Antigua and Barbuda",
          "Trinidad and Tobago"
         ],
         "legendgroup": "North America",
         "marker": {
          "color": "#D62728",
          "size": [
           81,
           120,
           198,
           138,
           186,
           128,
           202,
           220,
           218,
           173,
           121,
           100,
           157,
           202
          ],
          "sizemode": "area",
          "sizeref": 0.53,
          "symbol": "circle"
         },
         "mode": "markers",
         "name": "North America",
         "orientation": "v",
         "showlegend": true,
         "type": "scatter",
         "x": [
          11,
          8.5,
          10.1,
          6.7,
          7,
          9,
          10.9,
          3.7,
          5.2,
          7.3,
          9.6,
          8,
          7,
          9.2
         ],
         "xaxis": "x",
         "y": [
          81,
          120,
          198,
          138,
          186,
          128,
          202,
          220,
          218,
          173,
          121,
          100,
          157,
          202
         ],
         "yaxis": "y"
        },
        {
         "hovertemplate": "<b>%{hovertext}</b><br><br>Continent=Asia<br>Year=2000<br>avg_years_of_schooling=%{x}<br>Both sexes=%{marker.size}<extra></extra>",
         "hovertext": [
          "Philippines",
          "Singapore",
          "Bahrain",
          "Azerbaijan",
          "Sri Lanka",
          "Israel",
          "Kazakhstan",
          "Kuwait",
          "Cyprus",
          "Kyrgyzstan",
          "Maldives",
          "Japan",
          "Georgia",
          "Thailand",
          "Armenia",
          "Uzbekistan"
         ],
         "ids": [
          "Philippines",
          "Singapore",
          "Bahrain",
          "Azerbaijan",
          "Sri Lanka",
          "Israel",
          "Kazakhstan",
          "Kuwait",
          "Cyprus",
          "Kyrgyzstan",
          "Maldives",
          "Japan",
          "Georgia",
          "Thailand",
          "Armenia",
          "Uzbekistan"
         ],
         "legendgroup": "Asia",
         "marker": {
          "color": "#9467BD",
          "size": [
           213,
           79,
           101,
           161,
           171,
           80,
           287,
           94,
           80,
           228,
           142,
           72,
           129,
           204,
           143,
           183
          ],
          "sizemode": "area",
          "sizeref": 0.53,
          "symbol": "circle"
         },
         "mode": "markers",
         "name": "Asia",
         "orientation": "v",
         "showlegend": true,
         "type": "scatter",
         "x": [
          7.6,
          8.9,
          8.3,
          10.6,
          10,
          12,
          10.5,
          6.2,
          10,
          9.8,
          3,
          10.7,
          11.7,
          6.1,
          10.8,
          9.1
         ],
         "xaxis": "x",
         "y": [
          213,
          79,
          101,
          161,
          171,
          80,
          287,
          94,
          80,
          228,
          142,
          72,
          129,
          204,
          143,
          183
         ],
         "yaxis": "y"
        },
        {
         "hovertemplate": "<b>%{hovertext}</b><br><br>Continent=Africa<br>Year=2000<br>avg_years_of_schooling=%{x}<br>Both sexes=%{marker.size}<extra></extra>",
         "hovertext": [
          "South Africa",
          "Mauritius"
         ],
         "ids": [
          "South Africa",
          "Mauritius"
         ],
         "legendgroup": "Africa",
         "marker": {
          "color": "#8C564B",
          "size": [
           362,
           172
          ],
          "sizemode": "area",
          "sizeref": 0.53,
          "symbol": "circle"
         },
         "mode": "markers",
         "name": "Africa",
         "orientation": "v",
         "showlegend": true,
         "type": "scatter",
         "x": [
          8.8,
          6.2
         ],
         "xaxis": "x",
         "y": [
          362,
          172
         ],
         "yaxis": "y"
        }
       ],
       "frames": [
        {
         "data": [
          {
           "hovertemplate": "<b>%{hovertext}</b><br><br>Continent=Europe<br>Year=2000<br>avg_years_of_schooling=%{x}<br>Both sexes=%{marker.size}<extra></extra>",
           "hovertext": [
            "Albania",
            "Netherlands",
            "Norway",
            "Bulgaria",
            "Poland",
            "Portugal",
            "Romania",
            "Serbia",
            "Belarus",
            "Slovakia",
            "Slovenia",
            "Spain",
            "Belgium",
            "Austria",
            "Malta",
            "Germany",
            "France",
            "Greece",
            "Finland",
            "Hungary",
            "Estonia",
            "Iceland",
            "Ireland",
            "Italy",
            "Denmark",
            "Latvia",
            "Lithuania",
            "Croatia",
            "Luxembourg",
            "Sweden",
            "Switzerland",
            "Ukraine"
           ],
           "ids": [
            "Albania",
            "Netherlands",
            "Norway",
            "Bulgaria",
            "Poland",
            "Portugal",
            "Romania",
            "Serbia",
            "Belarus",
            "Slovakia",
            "Slovenia",
            "Spain",
            "Belgium",
            "Austria",
            "Malta",
            "Germany",
            "France",
            "Greece",
            "Finland",
            "Hungary",
            "Estonia",
            "Iceland",
            "Ireland",
            "Italy",
            "Denmark",
            "Latvia",
            "Lithuania",
            "Croatia",
            "Luxembourg",
            "Sweden",
            "Switzerland",
            "Ukraine"
           ],
           "legendgroup": "Europe",
           "marker": {
            "color": "#1F77B4",
            "size": [
             106,
             83,
             84,
             163,
             152,
             110,
             175,
             141,
             247,
             147,
             122,
             84,
             99,
             94,
             70,
             95,
             99,
             82,
             104,
             193,
             216,
             76,
             93,
             75,
             100,
             217,
             200,
             133,
             90,
             72,
             78,
             258
            ],
            "sizemode": "area",
            "sizeref": 0.53,
            "symbol": "circle"
           },
           "mode": "markers",
           "name": "Europe",
           "orientation": "v",
           "showlegend": true,
           "type": "scatter",
           "x": [
            8.8,
            10.8,
            12,
            9.5,
            11.1,
            6.8,
            9.9,
            9.4,
            8.9,
            10.3,
            11.6,
            8.4,
            10,
            9,
            8.1,
            11.2,
            9.8,
            8.6,
            9.3,
            10.2,
            11.7,
            9.4,
            10.8,
            8.6,
            10.7,
            9.5,
            10.7,
            9.4,
            10.3,
            11.4,
            11.4,
            10.7
           ],
           "xaxis": "x",
           "y": [
            106,
            83,
            84,
            163,
            152,
            110,
            175,
            141,
            247,
            147,
            122,
            84,
            99,
            94,
            70,
            95,
            99,
            82,
            104,
            193,
            216,
            76,
            93,
            75,
            100,
            217,
            200,
            133,
            90,
            72,
            78,
            258
           ],
           "yaxis": "y"
          },
          {
           "hovertemplate": "<b>%{hovertext}</b><br><br>Continent=South America<br>Year=2000<br>avg_years_of_schooling=%{x}<br>Both sexes=%{marker.size}<extra></extra>",
           "hovertext": [
            "Chile",
            "Paraguay",
            "Brazil",
            "Colombia",
            "Ecuador",
            "Argentina",
            "Uruguay"
           ],
           "ids": [
            "Chile",
            "Paraguay",
            "Brazil",
            "Colombia",
            "Ecuador",
            "Argentina",
            "Uruguay"
           ],
           "legendgroup": "South America",
           "marker": {
            "color": "#FF7F0E",
            "size": [
             103,
             171,
             184,
             171,
             160,
             139,
             134
            ],
            "sizemode": "area",
            "sizeref": 0.53,
            "symbol": "circle"
           },
           "mode": "markers",
           "name": "South America",
           "orientation": "v",
           "showlegend": true,
           "type": "scatter",
           "x": [
            8.8,
            5.9,
            5.6,
            6.5,
            7,
            9.1,
            8
           ],
           "xaxis": "x",
           "y": [
            103,
            171,
            184,
            171,
            160,
            139,
            134
           ],
           "yaxis": "y"
          },
          {
           "hovertemplate": "<b>%{hovertext}</b><br><br>Continent=Oceania<br>Year=2000<br>avg_years_of_schooling=%{x}<br>Both sexes=%{marker.size}<extra></extra>",
           "hovertext": [
            "New Zealand",
            "Kiribati",
            "Australia"
           ],
           "ids": [
            "New Zealand",
            "Kiribati",
            "Australia"
           ],
           "legendgroup": "Oceania",
           "marker": {
            "color": "#2CA02C",
            "size": [
             86,
             222,
             77
            ],
            "sizemode": "area",
            "sizeref": 0.53,
            "symbol": "circle"
           },
           "mode": "markers",
           "name": "Oceania",
           "orientation": "v",
           "showlegend": true,
           "type": "scatter",
           "x": [
            11.6,
            6.8,
            11.9
           ],
           "xaxis": "x",
           "y": [
            86,
            222,
            77
           ],
           "yaxis": "y"
          },
          {
           "hovertemplate": "<b>%{hovertext}</b><br><br>Continent=North America<br>Year=2000<br>avg_years_of_schooling=%{x}<br>Both sexes=%{marker.size}<extra></extra>",
           "hovertext": [
            "Canada",
            "Panama",
            "Belize",
            "Mexico",
            "Saint Lucia",
            "Barbados",
            "Bahamas",
            "Guatemala",
            "El Salvador",
            "Jamaica",
            "Cuba",
            "Costa Rica",
            "Antigua and Barbuda",
            "Trinidad and Tobago"
           ],
           "ids": [
            "Canada",
            "Panama",
            "Belize",
            "Mexico",
            "Saint Lucia",
            "Barbados",
            "Bahamas",
            "Guatemala",
            "El Salvador",
            "Jamaica",
            "Cuba",
            "Costa Rica",
            "Antigua and Barbuda",
            "Trinidad and Tobago"
           ],
           "legendgroup": "North America",
           "marker": {
            "color": "#D62728",
            "size": [
             81,
             120,
             198,
             138,
             186,
             128,
             202,
             220,
             218,
             173,
             121,
             100,
             157,
             202
            ],
            "sizemode": "area",
            "sizeref": 0.53,
            "symbol": "circle"
           },
           "mode": "markers",
           "name": "North America",
           "orientation": "v",
           "showlegend": true,
           "type": "scatter",
           "x": [
            11,
            8.5,
            10.1,
            6.7,
            7,
            9,
            10.9,
            3.7,
            5.2,
            7.3,
            9.6,
            8,
            7,
            9.2
           ],
           "xaxis": "x",
           "y": [
            81,
            120,
            198,
            138,
            186,
            128,
            202,
            220,
            218,
            173,
            121,
            100,
            157,
            202
           ],
           "yaxis": "y"
          },
          {
           "hovertemplate": "<b>%{hovertext}</b><br><br>Continent=Asia<br>Year=2000<br>avg_years_of_schooling=%{x}<br>Both sexes=%{marker.size}<extra></extra>",
           "hovertext": [
            "Philippines",
            "Singapore",
            "Bahrain",
            "Azerbaijan",
            "Sri Lanka",
            "Israel",
            "Kazakhstan",
            "Kuwait",
            "Cyprus",
            "Kyrgyzstan",
            "Maldives",
            "Japan",
            "Georgia",
            "Thailand",
            "Armenia",
            "Uzbekistan"
           ],
           "ids": [
            "Philippines",
            "Singapore",
            "Bahrain",
            "Azerbaijan",
            "Sri Lanka",
            "Israel",
            "Kazakhstan",
            "Kuwait",
            "Cyprus",
            "Kyrgyzstan",
            "Maldives",
            "Japan",
            "Georgia",
            "Thailand",
            "Armenia",
            "Uzbekistan"
           ],
           "legendgroup": "Asia",
           "marker": {
            "color": "#9467BD",
            "size": [
             213,
             79,
             101,
             161,
             171,
             80,
             287,
             94,
             80,
             228,
             142,
             72,
             129,
             204,
             143,
             183
            ],
            "sizemode": "area",
            "sizeref": 0.53,
            "symbol": "circle"
           },
           "mode": "markers",
           "name": "Asia",
           "orientation": "v",
           "showlegend": true,
           "type": "scatter",
           "x": [
            7.6,
            8.9,
            8.3,
            10.6,
            10,
            12,
            10.5,
            6.2,
            10,
            9.8,
            3,
            10.7,
            11.7,
            6.1,
            10.8,
            9.1
           ],
           "xaxis": "x",
           "y": [
            213,
            79,
            101,
            161,
            171,
            80,
            287,
            94,
            80,
            228,
            142,
            72,
            129,
            204,
            143,
            183
           ],
           "yaxis": "y"
          },
          {
           "hovertemplate": "<b>%{hovertext}</b><br><br>Continent=Africa<br>Year=2000<br>avg_years_of_schooling=%{x}<br>Both sexes=%{marker.size}<extra></extra>",
           "hovertext": [
            "South Africa",
            "Mauritius"
           ],
           "ids": [
            "South Africa",
            "Mauritius"
           ],
           "legendgroup": "Africa",
           "marker": {
            "color": "#8C564B",
            "size": [
             362,
             172
            ],
            "sizemode": "area",
            "sizeref": 0.53,
            "symbol": "circle"
           },
           "mode": "markers",
           "name": "Africa",
           "orientation": "v",
           "showlegend": true,
           "type": "scatter",
           "x": [
            8.8,
            6.2
           ],
           "xaxis": "x",
           "y": [
            362,
            172
           ],
           "yaxis": "y"
          }
         ],
         "name": "2000"
        },
        {
         "data": [
          {
           "hovertemplate": "<b>%{hovertext}</b><br><br>Continent=Europe<br>Year=2001<br>avg_years_of_schooling=%{x}<br>Both sexes=%{marker.size}<extra></extra>",
           "hovertext": [
            "Croatia",
            "Lithuania",
            "Latvia",
            "Sweden",
            "Belgium",
            "Serbia",
            "Denmark",
            "Belarus",
            "Bulgaria",
            "Norway",
            "Netherlands",
            "Poland",
            "Portugal",
            "Ukraine",
            "Malta",
            "Romania",
            "Luxembourg",
            "Iceland",
            "Estonia",
            "Hungary",
            "Spain",
            "Finland",
            "Greece",
            "Austria",
            "France",
            "Germany",
            "Albania",
            "Ireland",
            "Italy",
            "Slovakia",
            "Switzerland",
            "Slovenia"
           ],
           "ids": [
            "Croatia",
            "Lithuania",
            "Latvia",
            "Sweden",
            "Belgium",
            "Serbia",
            "Denmark",
            "Belarus",
            "Bulgaria",
            "Norway",
            "Netherlands",
            "Poland",
            "Portugal",
            "Ukraine",
            "Malta",
            "Romania",
            "Luxembourg",
            "Iceland",
            "Estonia",
            "Hungary",
            "Spain",
            "Finland",
            "Greece",
            "Austria",
            "France",
            "Germany",
            "Albania",
            "Ireland",
            "Italy",
            "Slovakia",
            "Switzerland",
            "Slovenia"
           ],
           "legendgroup": "Europe",
           "marker": {
            "color": "#1F77B4",
            "size": [
             129,
             214,
             229,
             72,
             98,
             134,
             100,
             255,
             159,
             81,
             82,
             147,
             109,
             254,
             69,
             179,
             90,
             73,
             224,
             185,
             83,
             99,
             81,
             90,
             99,
             92,
             100,
             88,
             73,
             145,
             75,
             123
            ],
            "sizemode": "area",
            "sizeref": 0.53,
            "symbol": "circle"
           },
           "mode": "markers",
           "name": "Europe",
           "orientation": "v",
           "showlegend": true,
           "type": "scatter",
           "x": [
            9.8,
            10.9,
            10,
            11.5,
            10.2,
            9.6,
            11.4,
            9,
            9.9,
            12.1,
            11,
            11.1,
            6.9,
            10.4,
            8.2,
            9.7,
            10.5,
            9.6,
            11.8,
            10.3,
            8.5,
            9.4,
            8.8,
            9.2,
            10,
            11.7,
            8.7,
            11,
            8.7,
            10.1,
            11.6,
            11.5
           ],
           "xaxis": "x",
           "y": [
            129,
            214,
            229,
            72,
            98,
            134,
            100,
            255,
            159,
            81,
            82,
            147,
            109,
            254,
            69,
            179,
            90,
            73,
            224,
            185,
            83,
            99,
            81,
            90,
            99,
            92,
            100,
            88,
            73,
            145,
            75,
            123
           ],
           "yaxis": "y"
          },
          {
           "hovertemplate": "<b>%{hovertext}</b><br><br>Continent=South America<br>Year=2001<br>avg_years_of_schooling=%{x}<br>Both sexes=%{marker.size}<extra></extra>",
           "hovertext": [
            "Argentina",
            "Paraguay",
            "Brazil",
            "Chile",
            "Colombia",
            "Uruguay",
            "Guyana",
            "Ecuador"
           ],
           "ids": [
            "Argentina",
            "Paraguay",
            "Brazil",
            "Chile",
            "Colombia",
            "Uruguay",
            "Guyana",
            "Ecuador"
           ],
           "legendgroup": "South America",
           "marker": {
            "color": "#FF7F0E",
            "size": [
             138,
             169,
             180,
             106,
             170,
             127,
             273,
             154
            ],
            "sizemode": "area",
            "sizeref": 0.53,
            "symbol": "circle"
           },
           "mode": "markers",
           "name": "South America",
           "orientation": "v",
           "showlegend": true,
           "type": "scatter",
           "x": [
            9.1,
            6.2,
            5.8,
            9,
            6.5,
            8,
            7.8,
            7
           ],
           "xaxis": "x",
           "y": [
            138,
            169,
            180,
            106,
            170,
            127,
            273,
            154
           ],
           "yaxis": "y"
          },
          {
           "hovertemplate": "<b>%{hovertext}</b><br><br>Continent=Oceania<br>Year=2001<br>avg_years_of_schooling=%{x}<br>Both sexes=%{marker.size}<extra></extra>",
           "hovertext": [
            "Kiribati",
            "New Zealand",
            "Australia",
            "Fiji"
           ],
           "ids": [
            "Kiribati",
            "New Zealand",
            "Australia",
            "Fiji"
           ],
           "legendgroup": "Oceania",
           "marker": {
            "color": "#2CA02C",
            "size": [
             219,
             83,
             74,
             221
            ],
            "sizemode": "area",
            "sizeref": 0.53,
            "symbol": "circle"
           },
           "mode": "markers",
           "name": "Oceania",
           "orientation": "v",
           "showlegend": true,
           "type": "scatter",
           "x": [
            6.9,
            11.6,
            11.9,
            9.5
           ],
           "xaxis": "x",
           "y": [
            219,
            83,
            74,
            221
           ],
           "yaxis": "y"
          },
          {
           "hovertemplate": "<b>%{hovertext}</b><br><br>Continent=North America<br>Year=2001<br>avg_years_of_schooling=%{x}<br>Both sexes=%{marker.size}<extra></extra>",
           "hovertext": [
            "Saint Lucia",
            "Cuba",
            "Barbados",
            "Trinidad and Tobago",
            "Canada",
            "Mexico",
            "Belize",
            "Costa Rica",
            "Jamaica",
            "Bahamas",
            "Guatemala",
            "Panama",
            "El Salvador",
            "Antigua and Barbuda"
           ],
           "ids": [
            "Saint Lucia",
            "Cuba",
            "Barbados",
            "Trinidad and Tobago",
            "Canada",
            "Mexico",
            "Belize",
            "Costa Rica",
            "Jamaica",
            "Bahamas",
            "Guatemala",
            "Panama",
            "El Salvador",
            "Antigua and Barbuda"
           ],
           "legendgroup": "North America",
           "marker": {
            "color": "#D62728",
            "size": [
             181,
             119,
             127,
             204,
             79,
             135,
             203,
             101,
             175,
             204,
             214,
             120,
             222,
             154
            ],
            "sizemode": "area",
            "sizeref": 0.53,
            "symbol": "circle"
           },
           "mode": "markers",
           "name": "North America",
           "orientation": "v",
           "showlegend": true,
           "type": "scatter",
           "x": [
            7.1,
            9.7,
            9,
            9.3,
            11.2,
            6.8,
            10.1,
            8,
            7.5,
            10.9,
            3.8,
            8.6,
            5.3,
            8.9
           ],
           "xaxis": "x",
           "y": [
            181,
            119,
            127,
            204,
            79,
            135,
            203,
            101,
            175,
            204,
            214,
            120,
            222,
            154
           ],
           "yaxis": "y"
          },
          {
           "hovertemplate": "<b>%{hovertext}</b><br><br>Continent=Asia<br>Year=2001<br>avg_years_of_schooling=%{x}<br>Both sexes=%{marker.size}<extra></extra>",
           "hovertext": [
            "Kyrgyzstan",
            "Kuwait",
            "Kazakhstan",
            "Maldives",
            "Singapore",
            "Georgia",
            "Armenia",
            "Philippines",
            "Qatar",
            "Japan",
            "Sri Lanka",
            "Uzbekistan",
            "Azerbaijan",
            "Bahrain",
            "Israel"
           ],
           "ids": [
            "Kyrgyzstan",
            "Kuwait",
            "Kazakhstan",
            "Maldives",
            "Singapore",
            "Georgia",
            "Armenia",
            "Philippines",
            "Qatar",
            "Japan",
            "Sri Lanka",
            "Uzbekistan",
            "Azerbaijan",
            "Bahrain",
            "Israel"
           ],
           "legendgroup": "Asia",
           "marker": {
            "color": "#9467BD",
            "size": [
             219,
             92,
             283,
             135,
             77,
             125,
             143,
             215,
             73,
             70,
             158,
             177,
             149,
             98,
             79
            ],
            "sizemode": "area",
            "sizeref": 0.53,
            "symbol": "circle"
           },
           "mode": "markers",
           "name": "Asia",
           "orientation": "v",
           "showlegend": true,
           "type": "scatter",
           "x": [
            9.9,
            6.2,
            10.7,
            3.1,
            9.2,
            11.8,
            10.7,
            7.7,
            8,
            10.8,
            10.2,
            9.2,
            10.6,
            8.4,
            12.1
           ],
           "xaxis": "x",
           "y": [
            219,
            92,
            283,
            135,
            77,
            125,
            143,
            215,
            73,
            70,
            158,
            177,
            149,
            98,
            79
           ],
           "yaxis": "y"
          },
          {
           "hovertemplate": "<b>%{hovertext}</b><br><br>Continent=Africa<br>Year=2001<br>avg_years_of_schooling=%{x}<br>Both sexes=%{marker.size}<extra></extra>",
           "hovertext": [
            "Seychelles",
            "Mauritius",
            "South Africa"
           ],
           "ids": [
            "Seychelles",
            "Mauritius",
            "South Africa"
           ],
           "legendgroup": "Africa",
           "marker": {
            "color": "#8C564B",
            "size": [
             187,
             172,
             387
            ],
            "sizemode": "area",
            "sizeref": 0.53,
            "symbol": "circle"
           },
           "mode": "markers",
           "name": "Africa",
           "orientation": "v",
           "showlegend": true,
           "type": "scatter",
           "x": [
            7.5,
            6.4,
            7.5
           ],
           "xaxis": "x",
           "y": [
            187,
            172,
            387
           ],
           "yaxis": "y"
          }
         ],
         "name": "2001"
        },
        {
         "data": [
          {
           "hovertemplate": "<b>%{hovertext}</b><br><br>Continent=Europe<br>Year=2002<br>avg_years_of_schooling=%{x}<br>Both sexes=%{marker.size}<extra></extra>",
           "hovertext": [
            "Bulgaria",
            "Finland",
            "Netherlands",
            "Greece",
            "Germany",
            "Albania",
            "Norway",
            "Denmark",
            "France",
            "Latvia",
            "Ireland",
            "Lithuania",
            "Croatia",
            "Iceland",
            "Luxembourg",
            "Estonia",
            "Malta",
            "Hungary",
            "Italy",
            "Sweden",
            "Ukraine",
            "Belgium",
            "Poland",
            "Portugal",
            "Slovenia",
            "Switzerland",
            "Slovakia",
            "Spain",
            "Romania",
            "Serbia",
            "Belarus",
            "Austria"
           ],
           "ids": [
            "Bulgaria",
            "Finland",
            "Netherlands",
            "Greece",
            "Germany",
            "Albania",
            "Norway",
            "Denmark",
            "France",
            "Latvia",
            "Ireland",
            "Lithuania",
            "Croatia",
            "Iceland",
            "Luxembourg",
            "Estonia",
            "Malta",
            "Hungary",
            "Italy",
            "Sweden",
            "Ukraine",
            "Belgium",
            "Poland",
            "Portugal",
            "Slovenia",
            "Switzerland",
            "Slovakia",
            "Spain",
            "Romania",
            "Serbia",
            "Belarus",
            "Austria"
           ],
           "legendgroup": "Europe",
           "marker": {
            "color": "#1F77B4",
            "size": [
             156,
             97,
             81,
             79,
             91,
             102,
             80,
             101,
             98,
             221,
             86,
             207,
             124,
             66,
             87,
             210,
             68,
             184,
             71,
             70,
             257,
             97,
             143,
             107,
             117,
             73,
             144,
             82,
             178,
             131,
             264,
             87
            ],
            "sizemode": "area",
            "sizeref": 0.53,
            "symbol": "circle"
           },
           "mode": "markers",
           "name": "Europe",
           "orientation": "v",
           "showlegend": true,
           "type": "scatter",
           "x": [
            10,
            9.5,
            11.1,
            9.1,
            12.1,
            9,
            12.1,
            12.1,
            10.1,
            10.6,
            11.2,
            11.1,
            9.8,
            9.7,
            10.7,
            11.9,
            8.3,
            10.3,
            8.8,
            11.6,
            10.5,
            10.3,
            11.4,
            7,
            11.5,
            11.7,
            10.3,
            8.5,
            9.6,
            9.7,
            9.1,
            9.4
           ],
           "xaxis": "x",
           "y": [
            156,
            97,
            81,
            79,
            91,
            102,
            80,
            101,
            98,
            221,
            86,
            207,
            124,
            66,
            87,
            210,
            68,
            184,
            71,
            70,
            257,
            97,
            143,
            107,
            117,
            73,
            144,
            82,
            178,
            131,
            264,
            87
           ],
           "yaxis": "y"
          },
          {
           "hovertemplate": "<b>%{hovertext}</b><br><br>Continent=South America<br>Year=2002<br>avg_years_of_schooling=%{x}<br>Both sexes=%{marker.size}<extra></extra>",
           "hovertext": [
            "Ecuador",
            "Chile",
            "Uruguay",
            "Argentina",
            "Colombia",
            "Guyana",
            "Brazil",
            "Paraguay"
           ],
           "ids": [
            "Ecuador",
            "Chile",
            "Uruguay",
            "Argentina",
            "Colombia",
            "Guyana",
            "Brazil",
            "Paraguay"
           ],
           "legendgroup": "South America",
           "marker": {
            "color": "#FF7F0E",
            "size": [
             153,
             100,
             129,
             137,
             169,
             280,
             176,
             167
            ],
            "sizemode": "area",
            "sizeref": 0.53,
            "symbol": "circle"
           },
           "mode": "markers",
           "name": "South America",
           "orientation": "v",
           "showlegend": true,
           "type": "scatter",
           "x": [
            7.1,
            9.2,
            8,
            9.2,
            6.5,
            7.8,
            6,
            6.5
           ],
           "xaxis": "x",
           "y": [
            153,
            100,
            129,
            137,
            169,
            280,
            176,
            167
           ],
           "yaxis": "y"
          },
          {
           "hovertemplate": "<b>%{hovertext}</b><br><br>Continent=Oceania<br>Year=2002<br>avg_years_of_schooling=%{x}<br>Both sexes=%{marker.size}<extra></extra>",
           "hovertext": [
            "New Zealand",
            "Fiji",
            "Australia"
           ],
           "ids": [
            "New Zealand",
            "Fiji",
            "Australia"
           ],
           "legendgroup": "Oceania",
           "marker": {
            "color": "#2CA02C",
            "size": [
             82,
             220,
             72
            ],
            "sizemode": "area",
            "sizeref": 0.53,
            "symbol": "circle"
           },
           "mode": "markers",
           "name": "Oceania",
           "orientation": "v",
           "showlegend": true,
           "type": "scatter",
           "x": [
            11.6,
            9.4,
            11.8
           ],
           "xaxis": "x",
           "y": [
            82,
            220,
            72
           ],
           "yaxis": "y"
          },
          {
           "hovertemplate": "<b>%{hovertext}</b><br><br>Continent=North America<br>Year=2002<br>avg_years_of_schooling=%{x}<br>Both sexes=%{marker.size}<extra></extra>",
           "hovertext": [
            "Trinidad and Tobago",
            "Antigua and Barbuda",
            "Guatemala",
            "Grenada",
            "Canada",
            "Mexico",
            "El Salvador",
            "Cuba",
            "Costa Rica",
            "Jamaica",
            "Belize",
            "Panama",
            "Bahamas",
            "Barbados",
            "Saint Lucia"
           ],
           "ids": [
            "Trinidad and Tobago",
            "Antigua and Barbuda",
            "Guatemala",
            "Grenada",
            "Canada",
            "Mexico",
            "El Salvador",
            "Cuba",
            "Costa Rica",
            "Jamaica",
            "Belize",
            "Panama",
            "Bahamas",
            "Barbados",
            "Saint Lucia"
           ],
           "legendgroup": "North America",
           "marker": {
            "color": "#D62728",
            "size": [
             195,
             149,
             206,
             175,
             78,
             136,
             213,
             112,
             100,
             171,
             200,
             120,
             206,
             126,
             176
            ],
            "sizemode": "area",
            "sizeref": 0.53,
            "symbol": "circle"
           },
           "mode": "markers",
           "name": "North America",
           "orientation": "v",
           "showlegend": true,
           "type": "scatter",
           "x": [
            9.4,
            9,
            3.8,
            7.4,
            11.5,
            7,
            5.5,
            9.5,
            8,
            7.7,
            10.2,
            8.7,
            10.9,
            9.1,
            7.2
           ],
           "xaxis": "x",
           "y": [
            195,
            149,
            206,
            175,
            78,
            136,
            213,
            112,
            100,
            171,
            200,
            120,
            206,
            126,
            176
           ],
           "yaxis": "y"
          },
          {
           "hovertemplate": "<b>%{hovertext}</b><br><br>Continent=Asia<br>Year=2002<br>avg_years_of_schooling=%{x}<br>Both sexes=%{marker.size}<extra></extra>",
           "hovertext": [
            "Japan",
            "Kazakhstan",
            "Kyrgyzstan",
            "Israel",
            "Uzbekistan",
            "Kuwait",
            "Maldives",
            "Azerbaijan",
            "Armenia",
            "Thailand",
            "Bahrain",
            "Singapore",
            "Philippines",
            "Sri Lanka"
           ],
           "ids": [
            "Japan",
            "Kazakhstan",
            "Kyrgyzstan",
            "Israel",
            "Uzbekistan",
            "Kuwait",
            "Maldives",
            "Azerbaijan",
            "Armenia",
            "Thailand",
            "Bahrain",
            "Singapore",
            "Philippines",
            "Sri Lanka"
           ],
           "legendgroup": "Asia",
           "marker": {
            "color": "#9467BD",
            "size": [
             68,
             276,
             217,
             81,
             176,
             91,
             128,
             144,
             137,
             197,
             99,
             76,
             216,
             150
            ],
            "sizemode": "area",
            "sizeref": 0.53,
            "symbol": "circle"
           },
           "mode": "markers",
           "name": "Asia",
           "orientation": "v",
           "showlegend": true,
           "type": "scatter",
           "x": [
            10.9,
            11,
            10,
            12.1,
            9.4,
            6.1,
            3.2,
            10.6,
            10.8,
            6.5,
            8.4,
            9.5,
            7.9,
            10.2
           ],
           "xaxis": "x",
           "y": [
            68,
            276,
            217,
            81,
            176,
            91,
            128,
            144,
            137,
            197,
            99,
            76,
            216,
            150
           ],
           "yaxis": "y"
          },
          {
           "hovertemplate": "<b>%{hovertext}</b><br><br>Continent=Africa<br>Year=2002<br>avg_years_of_schooling=%{x}<br>Both sexes=%{marker.size}<extra></extra>",
           "hovertext": [
            "Mauritius",
            "Seychelles",
            "South Africa"
           ],
           "ids": [
            "Mauritius",
            "Seychelles",
            "South Africa"
           ],
           "legendgroup": "Africa",
           "marker": {
            "color": "#8C564B",
            "size": [
             173,
             185,
             412
            ],
            "sizemode": "area",
            "sizeref": 0.53,
            "symbol": "circle"
           },
           "mode": "markers",
           "name": "Africa",
           "orientation": "v",
           "showlegend": true,
           "type": "scatter",
           "x": [
            6.6,
            7.6,
            8.5
           ],
           "xaxis": "x",
           "y": [
            173,
            185,
            412
           ],
           "yaxis": "y"
          }
         ],
         "name": "2002"
        },
        {
         "data": [
          {
           "hovertemplate": "<b>%{hovertext}</b><br><br>Continent=Europe<br>Year=2003<br>avg_years_of_schooling=%{x}<br>Both sexes=%{marker.size}<extra></extra>",
           "hovertext": [
            "Croatia",
            "Lithuania",
            "Latvia",
            "Denmark",
            "Belarus",
            "Serbia",
            "Switzerland",
            "Italy",
            "Sweden",
            "Germany",
            "France",
            "Albania",
            "Austria",
            "Greece",
            "Finland",
            "Spain",
            "Hungary",
            "Estonia",
            "Iceland",
            "Ireland",
            "Slovenia",
            "Slovakia",
            "Malta",
            "Netherlands",
            "Poland",
            "Portugal",
            "Montenegro",
            "Belgium",
            "Ukraine",
            "Norway",
            "Luxembourg",
            "Romania",
            "Bulgaria"
           ],
           "ids": [
            "Croatia",
            "Lithuania",
            "Latvia",
            "Denmark",
            "Belarus",
            "Serbia",
            "Switzerland",
            "Italy",
            "Sweden",
            "Germany",
            "France",
            "Albania",
            "Austria",
            "Greece",
            "Finland",
            "Spain",
            "Hungary",
            "Estonia",
            "Iceland",
            "Ireland",
            "Slovenia",
            "Slovakia",
            "Malta",
            "Netherlands",
            "Poland",
            "Portugal",
            "Montenegro",
            "Belgium",
            "Ukraine",
            "Norway",
            "Luxembourg",
            "Romania",
            "Bulgaria"
           ],
           "legendgroup": "Europe",
           "marker": {
            "color": "#1F77B4",
            "size": [
             121,
             207,
             212,
             98,
             254,
             131,
             71,
             70,
             68,
             89,
             97,
             107,
             86,
             80,
             97,
             82,
             184,
             197,
             63,
             80,
             119,
             143,
             66,
             80,
             140,
             104,
             132,
             94,
             258,
             77,
             85,
             174,
             154
            ],
            "sizemode": "area",
            "sizeref": 0.53,
            "symbol": "circle"
           },
           "mode": "markers",
           "name": "Europe",
           "orientation": "v",
           "showlegend": true,
           "type": "scatter",
           "x": [
            9.8,
            11.3,
            11.2,
            12.8,
            9.1,
            9.9,
            11.8,
            8.9,
            11.8,
            12.5,
            10.2,
            9,
            9.6,
            9.3,
            9.6,
            8.6,
            10.5,
            11.9,
            9.8,
            11.4,
            11.5,
            10.4,
            8.5,
            11.3,
            11.5,
            7.2,
            10.3,
            10.4,
            10.6,
            12.2,
            10.9,
            9.7,
            10.1
           ],
           "xaxis": "x",
           "y": [
            121,
            207,
            212,
            98,
            254,
            131,
            71,
            70,
            68,
            89,
            97,
            107,
            86,
            80,
            97,
            82,
            184,
            197,
            63,
            80,
            119,
            143,
            66,
            80,
            140,
            104,
            132,
            94,
            258,
            77,
            85,
            174,
            154
           ],
           "yaxis": "y"
          },
          {
           "hovertemplate": "<b>%{hovertext}</b><br><br>Continent=South America<br>Year=2003<br>avg_years_of_schooling=%{x}<br>Both sexes=%{marker.size}<extra></extra>",
           "hovertext": [
            "Uruguay",
            "Guyana",
            "Ecuador",
            "Argentina",
            "Brazil",
            "Chile",
            "Colombia",
            "Paraguay"
           ],
           "ids": [
            "Uruguay",
            "Guyana",
            "Ecuador",
            "Argentina",
            "Brazil",
            "Chile",
            "Colombia",
            "Paraguay"
           ],
           "legendgroup": "South America",
           "marker": {
            "color": "#FF7F0E",
            "size": [
             125,
             277,
             146,
             134,
             172,
             100,
             155,
             166
            ],
            "sizemode": "area",
            "sizeref": 0.53,
            "symbol": "circle"
           },
           "mode": "markers",
           "name": "South America",
           "orientation": "v",
           "showlegend": true,
           "type": "scatter",
           "x": [
            8,
            7.8,
            7.1,
            9.3,
            6.2,
            9.4,
            6.5,
            7
           ],
           "xaxis": "x",
           "y": [
            125,
            277,
            146,
            134,
            172,
            100,
            155,
            166
           ],
           "yaxis": "y"
          },
          {
           "hovertemplate": "<b>%{hovertext}</b><br><br>Continent=Oceania<br>Year=2003<br>avg_years_of_schooling=%{x}<br>Both sexes=%{marker.size}<extra></extra>",
           "hovertext": [
            "Fiji",
            "Australia",
            "New Zealand"
           ],
           "ids": [
            "Fiji",
            "Australia",
            "New Zealand"
           ],
           "legendgroup": "Oceania",
           "marker": {
            "color": "#2CA02C",
            "size": [
             220,
             69,
             81
            ],
            "sizemode": "area",
            "sizeref": 0.53,
            "symbol": "circle"
           },
           "mode": "markers",
           "name": "Oceania",
           "orientation": "v",
           "showlegend": true,
           "type": "scatter",
           "x": [
            9.3,
            11.8,
            11.6
           ],
           "xaxis": "x",
           "y": [
            220,
            69,
            81
           ],
           "yaxis": "y"
          },
          {
           "hovertemplate": "<b>%{hovertext}</b><br><br>Continent=North America<br>Year=2003<br>avg_years_of_schooling=%{x}<br>Both sexes=%{marker.size}<extra></extra>",
           "hovertext": [
            "Jamaica",
            "Saint Lucia",
            "Barbados",
            "Cuba",
            "Panama",
            "Grenada",
            "Guatemala",
            "Bahamas",
            "El Salvador",
            "Antigua and Barbuda",
            "Canada",
            "Trinidad and Tobago",
            "Mexico",
            "Belize",
            "Costa Rica"
           ],
           "ids": [
            "Jamaica",
            "Saint Lucia",
            "Barbados",
            "Cuba",
            "Panama",
            "Grenada",
            "Guatemala",
            "Bahamas",
            "El Salvador",
            "Antigua and Barbuda",
            "Canada",
            "Trinidad and Tobago",
            "Mexico",
            "Belize",
            "Costa Rica"
           ],
           "legendgroup": "North America",
           "marker": {
            "color": "#D62728",
            "size": [
             170,
             169,
             123,
             112,
             120,
             175,
             209,
             203,
             211,
             151,
             77,
             199,
             136,
             199,
             101
            ],
            "sizemode": "area",
            "sizeref": 0.53,
            "symbol": "circle"
           },
           "mode": "markers",
           "name": "North America",
           "orientation": "v",
           "showlegend": true,
           "type": "scatter",
           "x": [
            7.8,
            7.3,
            9.1,
            9.8,
            8.8,
            7.6,
            3.7,
            10.9,
            5.7,
            9,
            11.7,
            9.5,
            7.1,
            10.2,
            7.9
           ],
           "xaxis": "x",
           "y": [
            170,
            169,
            123,
            112,
            120,
            175,
            209,
            203,
            211,
            151,
            77,
            199,
            136,
            199,
            101
           ],
           "yaxis": "y"
          },
          {
           "hovertemplate": "<b>%{hovertext}</b><br><br>Continent=Asia<br>Year=2003<br>avg_years_of_schooling=%{x}<br>Both sexes=%{marker.size}<extra></extra>",
           "hovertext": [
            "Japan",
            "Kuwait",
            "Kazakhstan",
            "Kyrgyzstan",
            "Singapore",
            "Sri Lanka",
            "Uzbekistan",
            "Azerbaijan",
            "Bahrain",
            "Israel",
            "Philippines",
            "Thailand",
            "Armenia",
            "Maldives"
           ],
           "ids": [
            "Japan",
            "Kuwait",
            "Kazakhstan",
            "Kyrgyzstan",
            "Singapore",
            "Sri Lanka",
            "Uzbekistan",
            "Azerbaijan",
            "Bahrain",
            "Israel",
            "Philippines",
            "Thailand",
            "Armenia",
            "Maldives"
           ],
           "legendgroup": "Asia",
           "marker": {
            "color": "#9467BD",
            "size": [
             68,
             90,
             283,
             217,
             73,
             147,
             173,
             151,
             92,
             76,
             212,
             194,
             137,
             114
            ],
            "sizemode": "area",
            "sizeref": 0.53,
            "symbol": "circle"
           },
           "mode": "markers",
           "name": "Asia",
           "orientation": "v",
           "showlegend": true,
           "type": "scatter",
           "x": [
            11,
            6.1,
            11.2,
            10,
            9.8,
            10.2,
            9.5,
            10.6,
            8.4,
            12.2,
            8,
            6.7,
            10.8,
            3.3
           ],
           "xaxis": "x",
           "y": [
            68,
            90,
            283,
            217,
            73,
            147,
            173,
            151,
            92,
            76,
            212,
            194,
            137,
            114
           ],
           "yaxis": "y"
          },
          {
           "hovertemplate": "<b>%{hovertext}</b><br><br>Continent=Africa<br>Year=2003<br>avg_years_of_schooling=%{x}<br>Both sexes=%{marker.size}<extra></extra>",
           "hovertext": [
            "Seychelles",
            "South Africa",
            "Mauritius"
           ],
           "ids": [
            "Seychelles",
            "South Africa",
            "Mauritius"
           ],
           "legendgroup": "Africa",
           "marker": {
            "color": "#8C564B",
            "size": [
             185,
             437,
             168
            ],
            "sizemode": "area",
            "sizeref": 0.53,
            "symbol": "circle"
           },
           "mode": "markers",
           "name": "Africa",
           "orientation": "v",
           "showlegend": true,
           "type": "scatter",
           "x": [
            7.6,
            8.8,
            6.8
           ],
           "xaxis": "x",
           "y": [
            185,
            437,
            168
           ],
           "yaxis": "y"
          }
         ],
         "name": "2003"
        },
        {
         "data": [
          {
           "hovertemplate": "<b>%{hovertext}</b><br><br>Continent=Europe<br>Year=2004<br>avg_years_of_schooling=%{x}<br>Both sexes=%{marker.size}<extra></extra>",
           "hovertext": [
            "Poland",
            "Sweden",
            "Iceland",
            "Bulgaria",
            "France",
            "Montenegro",
            "Slovenia",
            "Ireland",
            "Slovakia",
            "Germany",
            "Norway",
            "Netherlands",
            "Albania",
            "Spain",
            "Finland",
            "Greece",
            "Hungary",
            "Estonia",
            "Austria",
            "Belgium",
            "Denmark",
            "Switzerland",
            "Ukraine",
            "Malta",
            "Latvia",
            "Romania",
            "Luxembourg",
            "Croatia",
            "Serbia",
            "Italy",
            "Lithuania"
           ],
           "ids": [
            "Poland",
            "Sweden",
            "Iceland",
            "Bulgaria",
            "France",
            "Montenegro",
            "Slovenia",
            "Ireland",
            "Slovakia",
            "Germany",
            "Norway",
            "Netherlands",
            "Albania",
            "Spain",
            "Finland",
            "Greece",
            "Hungary",
            "Estonia",
            "Austria",
            "Belgium",
            "Denmark",
            "Switzerland",
            "Ukraine",
            "Malta",
            "Latvia",
            "Romania",
            "Luxembourg",
            "Croatia",
            "Serbia",
            "Italy",
            "Lithuania"
           ],
           "legendgroup": "Europe",
           "marker": {
            "color": "#1F77B4",
            "size": [
             142,
             70,
             61,
             154,
             92,
             131,
             113,
             79,
             137,
             85,
             76,
             76,
             101,
             79,
             101,
             80,
             180,
             193,
             84,
             89,
             95,
             68,
             269,
             64,
             209,
             166,
             79,
             113,
             129,
             66,
             209
            ],
            "sizemode": "area",
            "sizeref": 0.53,
            "symbol": "circle"
           },
           "mode": "markers",
           "name": "Europe",
           "orientation": "v",
           "showlegend": true,
           "type": "scatter",
           "x": [
            11.6,
            12.3,
            9.9,
            10.1,
            10.3,
            10.4,
            12,
            11.6,
            10.6,
            12.9,
            12.7,
            11.5,
            9.1,
            8.6,
            11.9,
            9.6,
            10.6,
            12,
            9.8,
            10.5,
            12.8,
            11.9,
            10.7,
            8.6,
            11.7,
            9.9,
            11.1,
            9.7,
            10,
            9.1,
            11.5
           ],
           "xaxis": "x",
           "y": [
            142,
            70,
            61,
            154,
            92,
            131,
            113,
            79,
            137,
            85,
            76,
            76,
            101,
            79,
            101,
            80,
            180,
            193,
            84,
            89,
            95,
            68,
            269,
            64,
            209,
            166,
            79,
            113,
            129,
            66,
            209
           ],
           "yaxis": "y"
          },
          {
           "hovertemplate": "<b>%{hovertext}</b><br><br>Continent=South America<br>Year=2004<br>avg_years_of_schooling=%{x}<br>Both sexes=%{marker.size}<extra></extra>",
           "hovertext": [
            "Suriname",
            "Chile",
            "Brazil",
            "Paraguay",
            "Guyana",
            "Argentina",
            "Ecuador",
            "Uruguay",
            "Colombia"
           ],
           "ids": [
            "Suriname",
            "Chile",
            "Brazil",
            "Paraguay",
            "Guyana",
            "Argentina",
            "Ecuador",
            "Uruguay",
            "Colombia"
           ],
           "legendgroup": "South America",
           "marker": {
            "color": "#FF7F0E",
            "size": [
             216,
             98,
             169,
             165,
             270,
             128,
             145,
             125,
             152
            ],
            "sizemode": "area",
            "sizeref": 0.53,
            "symbol": "circle"
           },
           "mode": "markers",
           "name": "South America",
           "orientation": "v",
           "showlegend": true,
           "type": "scatter",
           "x": [
            7.7,
            9.6,
            6.2,
            7.1,
            7.9,
            9.2,
            7.2,
            8,
            6.6
           ],
           "xaxis": "x",
           "y": [
            216,
            98,
            169,
            165,
            270,
            128,
            145,
            125,
            152
           ],
           "yaxis": "y"
          },
          {
           "hovertemplate": "<b>%{hovertext}</b><br><br>Continent=Oceania<br>Year=2004<br>avg_years_of_schooling=%{x}<br>Both sexes=%{marker.size}<extra></extra>",
           "hovertext": [
            "Australia",
            "New Zealand",
            "Fiji"
           ],
           "ids": [
            "Australia",
            "New Zealand",
            "Fiji"
           ],
           "legendgroup": "Oceania",
           "marker": {
            "color": "#2CA02C",
            "size": [
             67,
             79,
             218
            ],
            "sizemode": "area",
            "sizeref": 0.53,
            "symbol": "circle"
           },
           "mode": "markers",
           "name": "Oceania",
           "orientation": "v",
           "showlegend": true,
           "type": "scatter",
           "x": [
            11.8,
            11.6,
            9.3
           ],
           "xaxis": "x",
           "y": [
            67,
            79,
            218
           ],
           "yaxis": "y"
          },
          {
           "hovertemplate": "<b>%{hovertext}</b><br><br>Continent=North America<br>Year=2004<br>avg_years_of_schooling=%{x}<br>Both sexes=%{marker.size}<extra></extra>",
           "hovertext": [
            "Bahamas",
            "El Salvador",
            "Panama",
            "Mexico",
            "Guatemala",
            "Grenada",
            "Canada",
            "Trinidad and Tobago",
            "Barbados",
            "Saint Lucia",
            "Antigua and Barbuda",
            "Belize",
            "Costa Rica",
            "Cuba",
            "Jamaica"
           ],
           "ids": [
            "Bahamas",
            "El Salvador",
            "Panama",
            "Mexico",
            "Guatemala",
            "Grenada",
            "Canada",
            "Trinidad and Tobago",
            "Barbados",
            "Saint Lucia",
            "Antigua and Barbuda",
            "Belize",
            "Costa Rica",
            "Cuba",
            "Jamaica"
           ],
           "legendgroup": "North America",
           "marker": {
            "color": "#D62728",
            "size": [
             187,
             209,
             117,
             132,
             206,
             186,
             76,
             196,
             116,
             162,
             153,
             195,
             102,
             109,
             168
            ],
            "sizemode": "area",
            "sizeref": 0.53,
            "symbol": "circle"
           },
           "mode": "markers",
           "name": "North America",
           "orientation": "v",
           "showlegend": true,
           "type": "scatter",
           "x": [
            10.9,
            5.8,
            8.9,
            7.4,
            3.6,
            7.7,
            12,
            9.8,
            9.2,
            7.4,
            9.1,
            10.3,
            7.9,
            9.8,
            8
           ],
           "xaxis": "x",
           "y": [
            187,
            209,
            117,
            132,
            206,
            186,
            76,
            196,
            116,
            162,
            153,
            195,
            102,
            109,
            168
           ],
           "yaxis": "y"
          },
          {
           "hovertemplate": "<b>%{hovertext}</b><br><br>Continent=Asia<br>Year=2004<br>avg_years_of_schooling=%{x}<br>Both sexes=%{marker.size}<extra></extra>",
           "hovertext": [
            "Georgia",
            "Israel",
            "Azerbaijan",
            "Uzbekistan",
            "Kuwait",
            "Japan",
            "Maldives",
            "Qatar",
            "Kazakhstan",
            "Cyprus",
            "Bahrain",
            "Kyrgyzstan",
            "Singapore",
            "Thailand"
           ],
           "ids": [
            "Georgia",
            "Israel",
            "Azerbaijan",
            "Uzbekistan",
            "Kuwait",
            "Japan",
            "Maldives",
            "Qatar",
            "Kazakhstan",
            "Cyprus",
            "Bahrain",
            "Kyrgyzstan",
            "Singapore",
            "Thailand"
           ],
           "legendgroup": "Asia",
           "marker": {
            "color": "#9467BD",
            "size": [
             148,
             73,
             151,
             174,
             89,
             67,
             118,
             69,
             289,
             74,
             94,
             217,
             73,
             194
            ],
            "sizemode": "area",
            "sizeref": 0.53,
            "symbol": "circle"
           },
           "mode": "markers",
           "name": "Asia",
           "orientation": "v",
           "showlegend": true,
           "type": "scatter",
           "x": [
            12,
            12.2,
            10.6,
            9.7,
            6.1,
            11.1,
            3.4,
            8.4,
            11.5,
            10.5,
            8.4,
            10.1,
            10.2,
            6.8
           ],
           "xaxis": "x",
           "y": [
            148,
            73,
            151,
            174,
            89,
            67,
            118,
            69,
            289,
            74,
            94,
            217,
            73,
            194
           ],
           "yaxis": "y"
          },
          {
           "hovertemplate": "<b>%{hovertext}</b><br><br>Continent=Africa<br>Year=2004<br>avg_years_of_schooling=%{x}<br>Both sexes=%{marker.size}<extra></extra>",
           "hovertext": [
            "South Africa",
            "Seychelles",
            "Mauritius"
           ],
           "ids": [
            "South Africa",
            "Seychelles",
            "Mauritius"
           ],
           "legendgroup": "Africa",
           "marker": {
            "color": "#8C564B",
            "size": [
             459,
             186,
             164
            ],
            "sizemode": "area",
            "sizeref": 0.53,
            "symbol": "circle"
           },
           "mode": "markers",
           "name": "Africa",
           "orientation": "v",
           "showlegend": true,
           "type": "scatter",
           "x": [
            8.8,
            7.7,
            7
           ],
           "xaxis": "x",
           "y": [
            459,
            186,
            164
           ],
           "yaxis": "y"
          }
         ],
         "name": "2004"
        },
        {
         "data": [
          {
           "hovertemplate": "<b>%{hovertext}</b><br><br>Continent=Europe<br>Year=2005<br>avg_years_of_schooling=%{x}<br>Both sexes=%{marker.size}<extra></extra>",
           "hovertext": [
            "Ukraine",
            "Poland",
            "Norway",
            "Switzerland",
            "Romania",
            "Latvia",
            "Spain",
            "Germany",
            "Luxembourg",
            "Lithuania",
            "Greece",
            "Sweden",
            "Ireland",
            "Italy",
            "Slovenia",
            "Iceland",
            "Malta",
            "Montenegro",
            "Hungary",
            "Netherlands",
            "Serbia",
            "Slovakia",
            "Albania",
            "Croatia",
            "Belgium",
            "Estonia",
            "Finland",
            "Bulgaria",
            "France",
            "Denmark",
            "Austria"
           ],
           "ids": [
            "Ukraine",
            "Poland",
            "Norway",
            "Switzerland",
            "Romania",
            "Latvia",
            "Spain",
            "Germany",
            "Luxembourg",
            "Lithuania",
            "Greece",
            "Sweden",
            "Ireland",
            "Italy",
            "Slovenia",
            "Iceland",
            "Malta",
            "Montenegro",
            "Hungary",
            "Netherlands",
            "Serbia",
            "Slovakia",
            "Albania",
            "Croatia",
            "Belgium",
            "Estonia",
            "Finland",
            "Bulgaria",
            "France",
            "Denmark",
            "Austria"
           ],
           "legendgroup": "Europe",
           "marker": {
            "color": "#1F77B4",
            "size": [
             280,
             144,
             72,
             66,
             162,
             220,
             76,
             84,
             81,
             228,
             79,
             66,
             75,
             65,
             104,
             61,
             63,
             130,
             182,
             72,
             128,
             140,
             106,
             116,
             88,
             187,
             100,
             156,
             92,
             89,
             84
            ],
            "sizemode": "area",
            "sizeref": 0.53,
            "symbol": "circle"
           },
           "mode": "markers",
           "name": "Europe",
           "orientation": "v",
           "showlegend": true,
           "type": "scatter",
           "x": [
            11.2,
            11.6,
            12.4,
            12,
            10.1,
            12.1,
            8.9,
            13.3,
            11.3,
            11.8,
            9.8,
            12.4,
            11.7,
            9.2,
            11.7,
            10,
            9.8,
            10.5,
            10.9,
            11.6,
            10.2,
            10.8,
            9.1,
            9.7,
            10.7,
            12.1,
            12,
            10.2,
            10.4,
            12.8,
            9.9
           ],
           "xaxis": "x",
           "y": [
            280,
            144,
            72,
            66,
            162,
            220,
            76,
            84,
            81,
            228,
            79,
            66,
            75,
            65,
            104,
            61,
            63,
            130,
            182,
            72,
            128,
            140,
            106,
            116,
            88,
            187,
            100,
            156,
            92,
            89,
            84
           ],
           "yaxis": "y"
          },
          {
           "hovertemplate": "<b>%{hovertext}</b><br><br>Continent=South America<br>Year=2005<br>avg_years_of_schooling=%{x}<br>Both sexes=%{marker.size}<extra></extra>",
           "hovertext": [
            "Suriname",
            "Uruguay",
            "Guyana",
            "Paraguay",
            "Ecuador",
            "Brazil",
            "Colombia",
            "Chile",
            "Argentina"
           ],
           "ids": [
            "Suriname",
            "Uruguay",
            "Guyana",
            "Paraguay",
            "Ecuador",
            "Brazil",
            "Colombia",
            "Chile",
            "Argentina"
           ],
           "legendgroup": "South America",
           "marker": {
            "color": "#FF7F0E",
            "size": [
             207,
             125,
             267,
             164,
             149,
             162,
             144,
             95,
             125
            ],
            "sizemode": "area",
            "sizeref": 0.53,
            "symbol": "circle"
           },
           "mode": "markers",
           "name": "South America",
           "orientation": "v",
           "showlegend": true,
           "type": "scatter",
           "x": [
            7.7,
            8,
            7.9,
            7.3,
            7.3,
            6.3,
            6.8,
            9.5,
            9.1
           ],
           "xaxis": "x",
           "y": [
            207,
            125,
            267,
            164,
            149,
            162,
            144,
            95,
            125
           ],
           "yaxis": "y"
          },
          {
           "hovertemplate": "<b>%{hovertext}</b><br><br>Continent=Oceania<br>Year=2005<br>avg_years_of_schooling=%{x}<br>Both sexes=%{marker.size}<extra></extra>",
           "hovertext": [
            "New Zealand",
            "Fiji"
           ],
           "ids": [
            "New Zealand",
            "Fiji"
           ],
           "legendgroup": "Oceania",
           "marker": {
            "color": "#2CA02C",
            "size": [
             77,
             214
            ],
            "sizemode": "area",
            "sizeref": 0.53,
            "symbol": "circle"
           },
           "mode": "markers",
           "name": "Oceania",
           "orientation": "v",
           "showlegend": true,
           "type": "scatter",
           "x": [
            11.7,
            9.2
           ],
           "xaxis": "x",
           "y": [
            77,
            214
           ],
           "yaxis": "y"
          },
          {
           "hovertemplate": "<b>%{hovertext}</b><br><br>Continent=North America<br>Year=2005<br>avg_years_of_schooling=%{x}<br>Both sexes=%{marker.size}<extra></extra>",
           "hovertext": [
            "Saint Lucia",
            "Panama",
            "Mexico",
            "Trinidad and Tobago",
            "Guatemala",
            "Grenada",
            "Jamaica",
            "Costa Rica",
            "Barbados",
            "Antigua and Barbuda",
            "Canada",
            "Belize",
            "El Salvador",
            "Cuba",
            "Bahamas"
           ],
           "ids": [
            "Saint Lucia",
            "Panama",
            "Mexico",
            "Trinidad and Tobago",
            "Guatemala",
            "Grenada",
            "Jamaica",
            "Costa Rica",
            "Barbados",
            "Antigua and Barbuda",
            "Canada",
            "Belize",
            "El Salvador",
            "Cuba",
            "Bahamas"
           ],
           "legendgroup": "North America",
           "marker": {
            "color": "#D62728",
            "size": [
             158,
             116,
             134,
             195,
             211,
             171,
             164,
             96,
             114,
             156,
             76,
             190,
             206,
             110,
             180
            ],
            "sizemode": "area",
            "sizeref": 0.53,
            "symbol": "circle"
           },
           "mode": "markers",
           "name": "North America",
           "orientation": "v",
           "showlegend": true,
           "type": "scatter",
           "x": [
            7.5,
            9,
            7.6,
            10,
            3.5,
            7.8,
            8.1,
            7.9,
            9.2,
            9.1,
            12.2,
            10.3,
            6,
            9.9,
            10.9
           ],
           "xaxis": "x",
           "y": [
            158,
            116,
            134,
            195,
            211,
            171,
            164,
            96,
            114,
            156,
            76,
            190,
            206,
            110,
            180
           ],
           "yaxis": "y"
          },
          {
           "hovertemplate": "<b>%{hovertext}</b><br><br>Continent=Asia<br>Year=2005<br>avg_years_of_schooling=%{x}<br>Both sexes=%{marker.size}<extra></extra>",
           "hovertext": [
            "United Arab Emirates",
            "Thailand",
            "Georgia",
            "Kyrgyzstan",
            "Uzbekistan",
            "Israel",
            "Singapore",
            "Japan",
            "Kazakhstan",
            "Qatar",
            "Maldives",
            "Kuwait",
            "Bahrain",
            "Cyprus"
           ],
           "ids": [
            "United Arab Emirates",
            "Thailand",
            "Georgia",
            "Kyrgyzstan",
            "Uzbekistan",
            "Israel",
            "Singapore",
            "Japan",
            "Kazakhstan",
            "Qatar",
            "Maldives",
            "Kuwait",
            "Bahrain",
            "Cyprus"
           ],
           "legendgroup": "Asia",
           "marker": {
            "color": "#9467BD",
            "size": [
             91,
             183,
             144,
             223,
             183,
             72,
             74,
             68,
             297,
             67,
             93,
             88,
             83,
             75
            ],
            "sizemode": "area",
            "sizeref": 0.53,
            "symbol": "circle"
           },
           "mode": "markers",
           "name": "Asia",
           "orientation": "v",
           "showlegend": true,
           "type": "scatter",
           "x": [
            9.1,
            7,
            12.1,
            10.2,
            9.8,
            12.3,
            10.5,
            11.2,
            11.7,
            8.8,
            3.5,
            5.8,
            8.4,
            10.7
           ],
           "xaxis": "x",
           "y": [
            91,
            183,
            144,
            223,
            183,
            72,
            74,
            68,
            297,
            67,
            93,
            88,
            83,
            75
           ],
           "yaxis": "y"
          },
          {
           "hovertemplate": "<b>%{hovertext}</b><br><br>Continent=Africa<br>Year=2005<br>avg_years_of_schooling=%{x}<br>Both sexes=%{marker.size}<extra></extra>",
           "hovertext": [
            "South Africa",
            "Mauritius",
            "Seychelles"
           ],
           "ids": [
            "South Africa",
            "Mauritius",
            "Seychelles"
           ],
           "legendgroup": "Africa",
           "marker": {
            "color": "#8C564B",
            "size": [
             474,
             164,
             185
            ],
            "sizemode": "area",
            "sizeref": 0.53,
            "symbol": "circle"
           },
           "mode": "markers",
           "name": "Africa",
           "orientation": "v",
           "showlegend": true,
           "type": "scatter",
           "x": [
            8.9,
            7.2,
            7.7
           ],
           "xaxis": "x",
           "y": [
            474,
            164,
            185
           ],
           "yaxis": "y"
          }
         ],
         "name": "2005"
        },
        {
         "data": [
          {
           "hovertemplate": "<b>%{hovertext}</b><br><br>Continent=Europe<br>Year=2006<br>avg_years_of_schooling=%{x}<br>Both sexes=%{marker.size}<extra></extra>",
           "hovertext": [
            "Estonia",
            "Denmark",
            "Montenegro",
            "Netherlands",
            "Italy",
            "Bulgaria",
            "Hungary",
            "Ireland",
            "Latvia",
            "Croatia",
            "Lithuania",
            "Luxembourg",
            "Iceland",
            "Ukraine",
            "Malta",
            "Romania",
            "Serbia",
            "Greece",
            "Albania",
            "Sweden",
            "Belgium",
            "Slovakia",
            "Germany",
            "France",
            "Slovenia",
            "Austria",
            "Spain",
            "Finland",
            "Norway",
            "Switzerland",
            "Poland"
           ],
           "ids": [
            "Estonia",
            "Denmark",
            "Montenegro",
            "Netherlands",
            "Italy",
            "Bulgaria",
            "Hungary",
            "Ireland",
            "Latvia",
            "Croatia",
            "Lithuania",
            "Luxembourg",
            "Iceland",
            "Ukraine",
            "Malta",
            "Romania",
            "Serbia",
            "Greece",
            "Albania",
            "Sweden",
            "Belgium",
            "Slovakia",
            "Germany",
            "France",
            "Slovenia",
            "Austria",
            "Spain",
            "Finland",
            "Norway",
            "Switzerland",
            "Poland"
           ],
           "legendgroup": "Europe",
           "marker": {
            "color": "#1F77B4",
            "size": [
             186,
             91,
             127,
             70,
             64,
             157,
             178,
             75,
             232,
             114,
             235,
             78,
             62,
             268,
             63,
             158,
             126,
             76,
             101,
             64,
             85,
             138,
             83,
             90,
             107,
             80,
             73,
             95,
             69,
             64,
             145
            ],
            "sizemode": "area",
            "sizeref": 0.53,
            "symbol": "circle"
           },
           "mode": "markers",
           "name": "Europe",
           "orientation": "v",
           "showlegend": true,
           "type": "scatter",
           "x": [
            12.2,
            12.8,
            10.7,
            11.8,
            9.3,
            10.4,
            11.1,
            11.8,
            12.2,
            9.9,
            12,
            11.5,
            10.2,
            11.2,
            9.8,
            10.3,
            10.2,
            9.9,
            9.2,
            12.4,
            11.1,
            10.9,
            13.6,
            10.6,
            11.8,
            10.1,
            9,
            12,
            12.5,
            12.3,
            11.7
           ],
           "xaxis": "x",
           "y": [
            186,
            91,
            127,
            70,
            64,
            157,
            178,
            75,
            232,
            114,
            235,
            78,
            62,
            268,
            63,
            158,
            126,
            76,
            101,
            64,
            85,
            138,
            83,
            90,
            107,
            80,
            73,
            95,
            69,
            64,
            145
           ],
           "yaxis": "y"
          },
          {
           "hovertemplate": "<b>%{hovertext}</b><br><br>Continent=South America<br>Year=2006<br>avg_years_of_schooling=%{x}<br>Both sexes=%{marker.size}<extra></extra>",
           "hovertext": [
            "Chile",
            "Guyana",
            "Ecuador",
            "Brazil",
            "Argentina",
            "Uruguay",
            "Colombia",
            "Suriname",
            "Paraguay"
           ],
           "ids": [
            "Chile",
            "Guyana",
            "Ecuador",
            "Brazil",
            "Argentina",
            "Uruguay",
            "Colombia",
            "Suriname",
            "Paraguay"
           ],
           "legendgroup": "South America",
           "marker": {
            "color": "#FF7F0E",
            "size": [
             93,
             267,
             144,
             160,
             124,
             118,
             146,
             203,
             161
            ],
            "sizemode": "area",
            "sizeref": 0.53,
            "symbol": "circle"
           },
           "mode": "markers",
           "name": "South America",
           "orientation": "v",
           "showlegend": true,
           "type": "scatter",
           "x": [
            9.5,
            7.9,
            7.3,
            6.4,
            9,
            8,
            6.7,
            7.7,
            7.1
           ],
           "xaxis": "x",
           "y": [
            93,
            267,
            144,
            160,
            124,
            118,
            146,
            203,
            161
           ],
           "yaxis": "y"
          },
          {
           "hovertemplate": "<b>%{hovertext}</b><br><br>Continent=Oceania<br>Year=2006<br>avg_years_of_schooling=%{x}<br>Both sexes=%{marker.size}<extra></extra>",
           "hovertext": [
            "New Zealand",
            "Fiji",
            "Australia"
           ],
           "ids": [
            "New Zealand",
            "Fiji",
            "Australia"
           ],
           "legendgroup": "Oceania",
           "marker": {
            "color": "#2CA02C",
            "size": [
             75,
             212,
             65
            ],
            "sizemode": "area",
            "sizeref": 0.53,
            "symbol": "circle"
           },
           "mode": "markers",
           "name": "Oceania",
           "orientation": "v",
           "showlegend": true,
           "type": "scatter",
           "x": [
            11.7,
            9.3,
            11.9
           ],
           "xaxis": "x",
           "y": [
            75,
            212,
            65
           ],
           "yaxis": "y"
          },
          {
           "hovertemplate": "<b>%{hovertext}</b><br><br>Continent=North America<br>Year=2006<br>avg_years_of_schooling=%{x}<br>Both sexes=%{marker.size}<extra></extra>",
           "hovertext": [
            "Jamaica",
            "Canada",
            "Panama",
            "Cuba",
            "El Salvador",
            "Antigua and Barbuda",
            "Trinidad and Tobago",
            "Mexico",
            "Costa Rica",
            "Saint Lucia",
            "Barbados",
            "Guatemala",
            "Bahamas",
            "Grenada",
            "Belize"
           ],
           "ids": [
            "Jamaica",
            "Canada",
            "Panama",
            "Cuba",
            "El Salvador",
            "Antigua and Barbuda",
            "Trinidad and Tobago",
            "Mexico",
            "Costa Rica",
            "Saint Lucia",
            "Barbados",
            "Guatemala",
            "Bahamas",
            "Grenada",
            "Belize"
           ],
           "legendgroup": "North America",
           "marker": {
            "color": "#D62728",
            "size": [
             154,
             74,
             119,
             103,
             203,
             155,
             189,
             131,
             104,
             155,
             113,
             205,
             177,
             167,
             185
            ],
            "sizemode": "area",
            "sizeref": 0.53,
            "symbol": "circle"
           },
           "mode": "markers",
           "name": "North America",
           "orientation": "v",
           "showlegend": true,
           "type": "scatter",
           "x": [
            8.3,
            12.3,
            9.1,
            10.1,
            6.4,
            9.2,
            9.9,
            8,
            7.9,
            7.6,
            9.2,
            3.7,
            10.9,
            7.9,
            10.3
           ],
           "xaxis": "x",
           "y": [
            154,
            74,
            119,
            103,
            203,
            155,
            189,
            131,
            104,
            155,
            113,
            205,
            177,
            167,
            185
           ],
           "yaxis": "y"
          },
          {
           "hovertemplate": "<b>%{hovertext}</b><br><br>Continent=Asia<br>Year=2006<br>avg_years_of_schooling=%{x}<br>Both sexes=%{marker.size}<extra></extra>",
           "hovertext": [
            "United Arab Emirates",
            "Thailand",
            "Armenia",
            "Japan",
            "Kyrgyzstan",
            "Kuwait",
            "Cyprus",
            "Kazakhstan",
            "Israel",
            "Singapore",
            "Georgia",
            "Sri Lanka",
            "Bahrain",
            "Philippines",
            "Qatar"
           ],
           "ids": [
            "United Arab Emirates",
            "Thailand",
            "Armenia",
            "Japan",
            "Kyrgyzstan",
            "Kuwait",
            "Cyprus",
            "Kazakhstan",
            "Israel",
            "Singapore",
            "Georgia",
            "Sri Lanka",
            "Bahrain",
            "Philippines",
            "Qatar"
           ],
           "legendgroup": "Asia",
           "marker": {
            "color": "#9467BD",
            "size": [
             88,
             174,
             145,
             67,
             233,
             87,
             64,
             299,
             69,
             71,
             145,
             145,
             89,
             215,
             66
            ],
            "sizemode": "area",
            "sizeref": 0.53,
            "symbol": "circle"
           },
           "mode": "markers",
           "name": "Asia",
           "orientation": "v",
           "showlegend": true,
           "type": "scatter",
           "x": [
            9.3,
            7,
            10.9,
            11.2,
            10.2,
            6.2,
            10.9,
            11.7,
            12.1,
            10.1,
            12.1,
            10.5,
            8.4,
            8.8,
            9.2
           ],
           "xaxis": "x",
           "y": [
            88,
            174,
            145,
            67,
            233,
            87,
            64,
            299,
            69,
            71,
            145,
            145,
            89,
            215,
            66
           ],
           "yaxis": "y"
          },
          {
           "hovertemplate": "<b>%{hovertext}</b><br><br>Continent=Africa<br>Year=2006<br>avg_years_of_schooling=%{x}<br>Both sexes=%{marker.size}<extra></extra>",
           "hovertext": [
            "Mauritius",
            "Seychelles",
            "South Africa"
           ],
           "ids": [
            "Mauritius",
            "Seychelles",
            "South Africa"
           ],
           "legendgroup": "Africa",
           "marker": {
            "color": "#8C564B",
            "size": [
             162,
             185,
             477
            ],
            "sizemode": "area",
            "sizeref": 0.53,
            "symbol": "circle"
           },
           "mode": "markers",
           "name": "Africa",
           "orientation": "v",
           "showlegend": true,
           "type": "scatter",
           "x": [
            7.4,
            7.8,
            9
           ],
           "xaxis": "x",
           "y": [
            162,
            185,
            477
           ],
           "yaxis": "y"
          }
         ],
         "name": "2006"
        },
        {
         "data": [
          {
           "hovertemplate": "<b>%{hovertext}</b><br><br>Continent=Europe<br>Year=2007<br>avg_years_of_schooling=%{x}<br>Both sexes=%{marker.size}<extra></extra>",
           "hovertext": [
            "Denmark",
            "Slovakia",
            "Norway",
            "Slovenia",
            "Spain",
            "Austria",
            "Italy",
            "Ukraine",
            "Belgium",
            "Montenegro",
            "Romania",
            "Belarus",
            "Serbia",
            "Netherlands",
            "Malta",
            "Portugal",
            "Switzerland",
            "Sweden",
            "Luxembourg",
            "Lithuania",
            "Bulgaria",
            "Poland",
            "Croatia",
            "Latvia",
            "Germany",
            "France",
            "Finland",
            "Hungary",
            "Albania",
            "Greece",
            "Iceland",
            "Ireland",
            "Estonia"
           ],
           "ids": [
            "Denmark",
            "Slovakia",
            "Norway",
            "Slovenia",
            "Spain",
            "Austria",
            "Italy",
            "Ukraine",
            "Belgium",
            "Montenegro",
            "Romania",
            "Belarus",
            "Serbia",
            "Netherlands",
            "Malta",
            "Portugal",
            "Switzerland",
            "Sweden",
            "Luxembourg",
            "Lithuania",
            "Bulgaria",
            "Poland",
            "Croatia",
            "Latvia",
            "Germany",
            "France",
            "Finland",
            "Hungary",
            "Albania",
            "Greece",
            "Iceland",
            "Ireland",
            "Estonia"
           ],
           "legendgroup": "Europe",
           "marker": {
            "color": "#1F77B4",
            "size": [
             91,
             139,
             67,
             102,
             72,
             80,
             62,
             278,
             86,
             123,
             155,
             230,
             123,
             67,
             65,
             92,
             62,
             63,
             75,
             246,
             153,
             145,
             115,
             224,
             82,
             88,
             96,
             176,
             101,
             78,
             60,
             72,
             187
            ],
            "sizemode": "area",
            "sizeref": 0.53,
            "symbol": "circle"
           },
           "mode": "markers",
           "name": "Europe",
           "orientation": "v",
           "showlegend": true,
           "type": "scatter",
           "x": [
            12.5,
            11.1,
            12.6,
            11.8,
            9.1,
            11.6,
            9.4,
            11.2,
            11.1,
            10.8,
            10.5,
            10.6,
            10.2,
            12,
            9.9,
            7.7,
            12.6,
            12.5,
            11.7,
            12.1,
            10.5,
            11.8,
            10.1,
            12.3,
            13.7,
            10.7,
            12,
            11.3,
            9.2,
            10,
            10.3,
            11.9,
            12.2
           ],
           "xaxis": "x",
           "y": [
            91,
            139,
            67,
            102,
            72,
            80,
            62,
            278,
            86,
            123,
            155,
            230,
            123,
            67,
            65,
            92,
            62,
            63,
            75,
            246,
            153,
            145,
            115,
            224,
            82,
            88,
            96,
            176,
            101,
            78,
            60,
            72,
            187
           ],
           "yaxis": "y"
          },
          {
           "hovertemplate": "<b>%{hovertext}</b><br><br>Continent=South America<br>Year=2007<br>avg_years_of_schooling=%{x}<br>Both sexes=%{marker.size}<extra></extra>",
           "hovertext": [
            "Suriname",
            "Paraguay",
            "Brazil",
            "Argentina",
            "Chile",
            "Colombia",
            "Uruguay",
            "Ecuador",
            "Guyana"
           ],
           "ids": [
            "Suriname",
            "Paraguay",
            "Brazil",
            "Argentina",
            "Chile",
            "Colombia",
            "Uruguay",
            "Ecuador",
            "Guyana"
           ],
           "legendgroup": "South America",
           "marker": {
            "color": "#FF7F0E",
            "size": [
             200,
             159,
             158,
             126,
             93,
             141,
             124,
             141,
             257
            ],
            "sizemode": "area",
            "sizeref": 0.53,
            "symbol": "circle"
           },
           "mode": "markers",
           "name": "South America",
           "orientation": "v",
           "showlegend": true,
           "type": "scatter",
           "x": [
            7.7,
            7.1,
            6.5,
            8.9,
            9.4,
            7.2,
            8.2,
            7.3,
            8
           ],
           "xaxis": "x",
           "y": [
            200,
            159,
            158,
            126,
            93,
            141,
            124,
            141,
            257
           ],
           "yaxis": "y"
          },
          {
           "hovertemplate": "<b>%{hovertext}</b><br><br>Continent=Oceania<br>Year=2007<br>avg_years_of_schooling=%{x}<br>Both sexes=%{marker.size}<extra></extra>",
           "hovertext": [
            "Australia",
            "New Zealand",
            "Fiji"
           ],
           "ids": [
            "Australia",
            "New Zealand",
            "Fiji"
           ],
           "legendgroup": "Oceania",
           "marker": {
            "color": "#2CA02C",
            "size": [
             65,
             76,
             209
            ],
            "sizemode": "area",
            "sizeref": 0.53,
            "symbol": "circle"
           },
           "mode": "markers",
           "name": "Oceania",
           "orientation": "v",
           "showlegend": true,
           "type": "scatter",
           "x": [
            12,
            11.8,
            9.3
           ],
           "xaxis": "x",
           "y": [
            65,
            76,
            209
           ],
           "yaxis": "y"
          },
          {
           "hovertemplate": "<b>%{hovertext}</b><br><br>Continent=North America<br>Year=2007<br>avg_years_of_schooling=%{x}<br>Both sexes=%{marker.size}<extra></extra>",
           "hovertext": [
            "Bahamas",
            "Cuba",
            "Panama",
            "Mexico",
            "Canada",
            "Barbados",
            "Costa Rica",
            "Belize",
            "Trinidad and Tobago",
            "Guatemala",
            "Antigua and Barbuda",
            "Grenada",
            "El Salvador"
           ],
           "ids": [
            "Bahamas",
            "Cuba",
            "Panama",
            "Mexico",
            "Canada",
            "Barbados",
            "Costa Rica",
            "Belize",
            "Trinidad and Tobago",
            "Guatemala",
            "Antigua and Barbuda",
            "Grenada",
            "El Salvador"
           ],
           "legendgroup": "North America",
           "marker": {
            "color": "#D62728",
            "size": [
             171,
             102,
             119,
             129,
             74,
             112,
             91,
             181,
             188,
             191,
             149,
             164,
             200
            ],
            "sizemode": "area",
            "sizeref": 0.53,
            "symbol": "circle"
           },
           "mode": "markers",
           "name": "North America",
           "orientation": "v",
           "showlegend": true,
           "type": "scatter",
           "x": [
            10.9,
            10.4,
            9.2,
            8,
            12.4,
            9.3,
            8.1,
            10.4,
            10.5,
            3.9,
            9.2,
            8,
            5.8
           ],
           "xaxis": "x",
           "y": [
            171,
            102,
            119,
            129,
            74,
            112,
            91,
            181,
            188,
            191,
            149,
            164,
            200
           ],
           "yaxis": "y"
          },
          {
           "hovertemplate": "<b>%{hovertext}</b><br><br>Continent=Asia<br>Year=2007<br>avg_years_of_schooling=%{x}<br>Both sexes=%{marker.size}<extra></extra>",
           "hovertext": [
            "United Arab Emirates",
            "Thailand",
            "Kuwait",
            "Philippines",
            "Azerbaijan",
            "Armenia",
            "Kyrgyzstan",
            "Kazakhstan",
            "Japan",
            "Cyprus",
            "Qatar",
            "Maldives",
            "Singapore",
            "Bahrain",
            "Georgia",
            "Israel"
           ],
           "ids": [
            "United Arab Emirates",
            "Thailand",
            "Kuwait",
            "Philippines",
            "Azerbaijan",
            "Armenia",
            "Kyrgyzstan",
            "Kazakhstan",
            "Japan",
            "Cyprus",
            "Qatar",
            "Maldives",
            "Singapore",
            "Bahrain",
            "Georgia",
            "Israel"
           ],
           "legendgroup": "Asia",
           "marker": {
            "color": "#9467BD",
            "size": [
             86,
             170,
             86,
             208,
             141,
             137,
             230,
             293,
             66,
             70,
             66,
             83,
             68,
             80,
             140,
             67
            ],
            "sizemode": "area",
            "sizeref": 0.53,
            "symbol": "circle"
           },
           "mode": "markers",
           "name": "Asia",
           "orientation": "v",
           "showlegend": true,
           "type": "scatter",
           "x": [
            9.4,
            7.1,
            6.3,
            8.9,
            10.2,
            11,
            10.3,
            11.6,
            11.3,
            11.2,
            9.6,
            3.9,
            10.2,
            8.4,
            12.1,
            12.5
           ],
           "xaxis": "x",
           "y": [
            86,
            170,
            86,
            208,
            141,
            137,
            230,
            293,
            66,
            70,
            66,
            83,
            68,
            80,
            140,
            67
           ],
           "yaxis": "y"
          },
          {
           "hovertemplate": "<b>%{hovertext}</b><br><br>Continent=Africa<br>Year=2007<br>avg_years_of_schooling=%{x}<br>Both sexes=%{marker.size}<extra></extra>",
           "hovertext": [
            "South Africa",
            "Mauritius",
            "Seychelles"
           ],
           "ids": [
            "South Africa",
            "Mauritius",
            "Seychelles"
           ],
           "legendgroup": "Africa",
           "marker": {
            "color": "#8C564B",
            "size": [
             475,
             160,
             185
            ],
            "sizemode": "area",
            "sizeref": 0.53,
            "symbol": "circle"
           },
           "mode": "markers",
           "name": "Africa",
           "orientation": "v",
           "showlegend": true,
           "type": "scatter",
           "x": [
            9.1,
            7.6,
            7.9
           ],
           "xaxis": "x",
           "y": [
            475,
            160,
            185
           ],
           "yaxis": "y"
          }
         ],
         "name": "2007"
        },
        {
         "data": [
          {
           "hovertemplate": "<b>%{hovertext}</b><br><br>Continent=Europe<br>Year=2008<br>avg_years_of_schooling=%{x}<br>Both sexes=%{marker.size}<extra></extra>",
           "hovertext": [
            "Belgium",
            "Iceland",
            "Luxembourg",
            "Albania",
            "Belarus",
            "Croatia",
            "Latvia",
            "Serbia",
            "Greece",
            "Finland",
            "Lithuania",
            "Portugal",
            "Poland",
            "Netherlands",
            "Bulgaria",
            "Montenegro",
            "Estonia",
            "Norway",
            "Hungary",
            "Malta",
            "Ireland",
            "Switzerland",
            "Romania",
            "Germany",
            "Slovakia",
            "Ukraine",
            "Austria",
            "Denmark",
            "Spain",
            "Slovenia",
            "France",
            "Sweden",
            "Italy"
           ],
           "ids": [
            "Belgium",
            "Iceland",
            "Luxembourg",
            "Albania",
            "Belarus",
            "Croatia",
            "Latvia",
            "Serbia",
            "Greece",
            "Finland",
            "Lithuania",
            "Portugal",
            "Poland",
            "Netherlands",
            "Bulgaria",
            "Montenegro",
            "Estonia",
            "Norway",
            "Hungary",
            "Malta",
            "Ireland",
            "Switzerland",
            "Romania",
            "Germany",
            "Slovakia",
            "Ukraine",
            "Austria",
            "Denmark",
            "Spain",
            "Slovenia",
            "France",
            "Sweden",
            "Italy"
           ],
           "legendgroup": "Europe",
           "marker": {
            "color": "#1F77B4",
            "size": [
             86,
             57,
             69,
             102,
             228,
             117,
             200,
             122,
             75,
             94,
             229,
             89,
             142,
             67,
             150,
             119,
             164,
             66,
             164,
             62,
             72,
             59,
             160,
             81,
             135,
             275,
             76,
             86,
             70,
             96,
             87,
             62,
             61
            ],
            "sizemode": "area",
            "sizeref": 0.53,
            "symbol": "circle"
           },
           "mode": "markers",
           "name": "Europe",
           "orientation": "v",
           "showlegend": true,
           "type": "scatter",
           "x": [
            11,
            10.4,
            11.7,
            9.2,
            11.3,
            10.3,
            12.2,
            10.4,
            10.1,
            12.2,
            12.2,
            7.8,
            11.9,
            12,
            10.5,
            10.9,
            12.3,
            12.7,
            11.5,
            10,
            12,
            12.9,
            10.6,
            13.7,
            11.2,
            11.3,
            11.5,
            12.9,
            9.2,
            11.9,
            10.7,
            12.2,
            9.5
           ],
           "xaxis": "x",
           "y": [
            86,
            57,
            69,
            102,
            228,
            117,
            200,
            122,
            75,
            94,
            229,
            89,
            142,
            67,
            150,
            119,
            164,
            66,
            164,
            62,
            72,
            59,
            160,
            81,
            135,
            275,
            76,
            86,
            70,
            96,
            87,
            62,
            61
           ],
           "yaxis": "y"
          },
          {
           "hovertemplate": "<b>%{hovertext}</b><br><br>Continent=South America<br>Year=2008<br>avg_years_of_schooling=%{x}<br>Both sexes=%{marker.size}<extra></extra>",
           "hovertext": [
            "Argentina",
            "Guyana",
            "Chile",
            "Brazil",
            "Paraguay",
            "Uruguay",
            "Colombia",
            "Ecuador",
            "Suriname"
           ],
           "ids": [
            "Argentina",
            "Guyana",
            "Chile",
            "Brazil",
            "Paraguay",
            "Uruguay",
            "Colombia",
            "Ecuador",
            "Suriname"
           ],
           "legendgroup": "South America",
           "marker": {
            "color": "#FF7F0E",
            "size": [
             123,
             249,
             91,
             157,
             157,
             119,
             142,
             141,
             200
            ],
            "sizemode": "area",
            "sizeref": 0.53,
            "symbol": "circle"
           },
           "mode": "markers",
           "name": "South America",
           "orientation": "v",
           "showlegend": true,
           "type": "scatter",
           "x": [
            8.9,
            8,
            9.9,
            6.7,
            7.4,
            8.4,
            7.3,
            7.9,
            7.7
           ],
           "xaxis": "x",
           "y": [
            123,
            249,
            91,
            157,
            157,
            119,
            142,
            141,
            200
           ],
           "yaxis": "y"
          },
          {
           "hovertemplate": "<b>%{hovertext}</b><br><br>Continent=Oceania<br>Year=2008<br>avg_years_of_schooling=%{x}<br>Both sexes=%{marker.size}<extra></extra>",
           "hovertext": [
            "New Zealand",
            "Fiji",
            "Australia"
           ],
           "ids": [
            "New Zealand",
            "Fiji",
            "Australia"
           ],
           "legendgroup": "Oceania",
           "marker": {
            "color": "#2CA02C",
            "size": [
             74,
             206,
             64
            ],
            "sizemode": "area",
            "sizeref": 0.53,
            "symbol": "circle"
           },
           "mode": "markers",
           "name": "Oceania",
           "orientation": "v",
           "showlegend": true,
           "type": "scatter",
           "x": [
            11.8,
            9.4,
            12.3
           ],
           "xaxis": "x",
           "y": [
            74,
            206,
            64
           ],
           "yaxis": "y"
          },
          {
           "hovertemplate": "<b>%{hovertext}</b><br><br>Continent=North America<br>Year=2008<br>avg_years_of_schooling=%{x}<br>Both sexes=%{marker.size}<extra></extra>",
           "hovertext": [
            "Grenada",
            "Saint Lucia",
            "Antigua and Barbuda",
            "El Salvador",
            "Barbados",
            "Costa Rica",
            "Canada",
            "Mexico",
            "Panama",
            "Guatemala",
            "Trinidad and Tobago",
            "Belize",
            "Cuba",
            "Bahamas"
           ],
           "ids": [
            "Grenada",
            "Saint Lucia",
            "Antigua and Barbuda",
            "El Salvador",
            "Barbados",
            "Costa Rica",
            "Canada",
            "Mexico",
            "Panama",
            "Guatemala",
            "Trinidad and Tobago",
            "Belize",
            "Cuba",
            "Bahamas"
           ],
           "legendgroup": "North America",
           "marker": {
            "color": "#D62728",
            "size": [
             162,
             152,
             147,
             198,
             112,
             97,
             73,
             133,
             122,
             186,
             195,
             183,
             100,
             168
            ],
            "sizemode": "area",
            "sizeref": 0.53,
            "symbol": "circle"
           },
           "mode": "markers",
           "name": "North America",
           "orientation": "v",
           "showlegend": true,
           "type": "scatter",
           "x": [
            8.1,
            7.8,
            9.3,
            6.4,
            9.3,
            8.4,
            12.4,
            8,
            9.2,
            4.3,
            10.7,
            10.4,
            10.6,
            10.9
           ],
           "xaxis": "x",
           "y": [
            162,
            152,
            147,
            198,
            112,
            97,
            73,
            133,
            122,
            186,
            195,
            183,
            100,
            168
           ],
           "yaxis": "y"
          },
          {
           "hovertemplate": "<b>%{hovertext}</b><br><br>Continent=Asia<br>Year=2008<br>avg_years_of_schooling=%{x}<br>Both sexes=%{marker.size}<extra></extra>",
           "hovertext": [
            "Qatar",
            "United Arab Emirates",
            "Kyrgyzstan",
            "Thailand",
            "Armenia",
            "Philippines",
            "Maldives",
            "Israel",
            "Japan",
            "Kazakhstan",
            "Singapore",
            "Bahrain",
            "Cyprus",
            "Kuwait"
           ],
           "ids": [
            "Qatar",
            "United Arab Emirates",
            "Kyrgyzstan",
            "Thailand",
            "Armenia",
            "Philippines",
            "Maldives",
            "Israel",
            "Japan",
            "Kazakhstan",
            "Singapore",
            "Bahrain",
            "Cyprus",
            "Kuwait"
           ],
           "legendgroup": "Asia",
           "marker": {
            "color": "#9467BD",
            "size": [
             65,
             85,
             218,
             167,
             144,
             207,
             80,
             64,
             64,
             264,
             67,
             73,
             68,
             85
            ],
            "sizemode": "area",
            "sizeref": 0.53,
            "symbol": "circle"
           },
           "mode": "markers",
           "name": "Asia",
           "orientation": "v",
           "showlegend": true,
           "type": "scatter",
           "x": [
            9.7,
            9.6,
            10.3,
            7.3,
            11,
            9,
            4.3,
            12.6,
            11.4,
            11.5,
            10.5,
            8.4,
            11.3,
            6.5
           ],
           "xaxis": "x",
           "y": [
            65,
            85,
            218,
            167,
            144,
            207,
            80,
            64,
            64,
            264,
            67,
            73,
            68,
            85
           ],
           "yaxis": "y"
          },
          {
           "hovertemplate": "<b>%{hovertext}</b><br><br>Continent=Africa<br>Year=2008<br>avg_years_of_schooling=%{x}<br>Both sexes=%{marker.size}<extra></extra>",
           "hovertext": [
            "Mauritius",
            "South Africa",
            "Seychelles"
           ],
           "ids": [
            "Mauritius",
            "South Africa",
            "Seychelles"
           ],
           "legendgroup": "Africa",
           "marker": {
            "color": "#8C564B",
            "size": [
             165,
             458,
             185
            ],
            "sizemode": "area",
            "sizeref": 0.53,
            "symbol": "circle"
           },
           "mode": "markers",
           "name": "Africa",
           "orientation": "v",
           "showlegend": true,
           "type": "scatter",
           "x": [
            7.8,
            9.7,
            8
           ],
           "xaxis": "x",
           "y": [
            165,
            458,
            185
           ],
           "yaxis": "y"
          }
         ],
         "name": "2008"
        },
        {
         "data": [
          {
           "hovertemplate": "<b>%{hovertext}</b><br><br>Continent=Europe<br>Year=2009<br>avg_years_of_schooling=%{x}<br>Both sexes=%{marker.size}<extra></extra>",
           "hovertext": [
            "Ukraine",
            "Slovenia",
            "Malta",
            "Sweden",
            "Netherlands",
            "Italy",
            "Bulgaria",
            "Montenegro",
            "Estonia",
            "Spain",
            "Norway",
            "Denmark",
            "Hungary",
            "Austria",
            "France",
            "Poland",
            "Albania",
            "Latvia",
            "Germany",
            "Belgium",
            "Belarus",
            "Lithuania",
            "Greece",
            "Switzerland",
            "Slovakia",
            "Romania",
            "Croatia",
            "Serbia",
            "Finland",
            "Ireland",
            "Portugal",
            "Luxembourg",
            "Iceland"
           ],
           "ids": [
            "Ukraine",
            "Slovenia",
            "Malta",
            "Sweden",
            "Netherlands",
            "Italy",
            "Bulgaria",
            "Montenegro",
            "Estonia",
            "Spain",
            "Norway",
            "Denmark",
            "Hungary",
            "Austria",
            "France",
            "Poland",
            "Albania",
            "Latvia",
            "Germany",
            "Belgium",
            "Belarus",
            "Lithuania",
            "Greece",
            "Switzerland",
            "Slovakia",
            "Romania",
            "Croatia",
            "Serbia",
            "Finland",
            "Ireland",
            "Portugal",
            "Luxembourg",
            "Iceland"
           ],
           "legendgroup": "Europe",
           "marker": {
            "color": "#1F77B4",
            "size": [
             235,
             91,
             61,
             61,
             65,
             60,
             147,
             115,
             154,
             67,
             67,
             84,
             160,
             77,
             87,
             137,
             103,
             185,
             80,
             84,
             225,
             197,
             76,
             59,
             130,
             160,
             109,
             120,
             90,
             74,
             88,
             67,
             55
            ],
            "sizemode": "area",
            "sizeref": 0.53,
            "symbol": "circle"
           },
           "mode": "markers",
           "name": "Europe",
           "orientation": "v",
           "showlegend": true,
           "type": "scatter",
           "x": [
            11.3,
            12.1,
            10.2,
            12.2,
            11.9,
            9.6,
            10.6,
            11,
            12.4,
            9.3,
            12.7,
            12.7,
            11.7,
            11.7,
            10.8,
            12.1,
            9.3,
            12.3,
            13.8,
            11.1,
            11.9,
            11.5,
            10.1,
            13.3,
            11.4,
            10.6,
            10.6,
            10.4,
            12.2,
            12.1,
            7.9,
            11.8,
            10.5
           ],
           "xaxis": "x",
           "y": [
            235,
            91,
            61,
            61,
            65,
            60,
            147,
            115,
            154,
            67,
            67,
            84,
            160,
            77,
            87,
            137,
            103,
            185,
            80,
            84,
            225,
            197,
            76,
            59,
            130,
            160,
            109,
            120,
            90,
            74,
            88,
            67,
            55
           ],
           "yaxis": "y"
          },
          {
           "hovertemplate": "<b>%{hovertext}</b><br><br>Continent=South America<br>Year=2009<br>avg_years_of_schooling=%{x}<br>Both sexes=%{marker.size}<extra></extra>",
           "hovertext": [
            "Paraguay",
            "Colombia",
            "Suriname",
            "Uruguay",
            "Brazil",
            "Chile",
            "Argentina",
            "Guyana",
            "Ecuador"
           ],
           "ids": [
            "Paraguay",
            "Colombia",
            "Suriname",
            "Uruguay",
            "Brazil",
            "Chile",
            "Argentina",
            "Guyana",
            "Ecuador"
           ],
           "legendgroup": "South America",
           "marker": {
            "color": "#FF7F0E",
            "size": [
             154,
             147,
             197,
             118,
             156,
             94,
             123,
             252,
             137
            ],
            "sizemode": "area",
            "sizeref": 0.53,
            "symbol": "circle"
           },
           "mode": "markers",
           "name": "South America",
           "orientation": "v",
           "showlegend": true,
           "type": "scatter",
           "x": [
            7,
            7.3,
            7.7,
            8.4,
            6.8,
            9.9,
            9.3,
            8,
            7.9
           ],
           "xaxis": "x",
           "y": [
            154,
            147,
            197,
            118,
            156,
            94,
            123,
            252,
            137
           ],
           "yaxis": "y"
          },
          {
           "hovertemplate": "<b>%{hovertext}</b><br><br>Continent=Oceania<br>Year=2009<br>avg_years_of_schooling=%{x}<br>Both sexes=%{marker.size}<extra></extra>",
           "hovertext": [
            "Australia",
            "Fiji",
            "New Zealand"
           ],
           "ids": [
            "Australia",
            "Fiji",
            "New Zealand"
           ],
           "legendgroup": "Oceania",
           "marker": {
            "color": "#2CA02C",
            "size": [
             65,
             203,
             73
            ],
            "sizemode": "area",
            "sizeref": 0.53,
            "symbol": "circle"
           },
           "mode": "markers",
           "name": "Oceania",
           "orientation": "v",
           "showlegend": true,
           "type": "scatter",
           "x": [
            12.3,
            9.5,
            11.9
           ],
           "xaxis": "x",
           "y": [
            65,
            203,
            73
           ],
           "yaxis": "y"
          },
          {
           "hovertemplate": "<b>%{hovertext}</b><br><br>Continent=North America<br>Year=2009<br>avg_years_of_schooling=%{x}<br>Both sexes=%{marker.size}<extra></extra>",
           "hovertext": [
            "Trinidad and Tobago",
            "Belize",
            "Guatemala",
            "Cuba",
            "Canada",
            "Mexico",
            "Panama",
            "Jamaica",
            "Costa Rica",
            "El Salvador",
            "Bahamas",
            "Grenada",
            "Antigua and Barbuda",
            "Barbados",
            "Saint Lucia"
           ],
           "ids": [
            "Trinidad and Tobago",
            "Belize",
            "Guatemala",
            "Cuba",
            "Canada",
            "Mexico",
            "Panama",
            "Jamaica",
            "Costa Rica",
            "El Salvador",
            "Bahamas",
            "Grenada",
            "Antigua and Barbuda",
            "Barbados",
            "Saint Lucia"
           ],
           "legendgroup": "North America",
           "marker": {
            "color": "#D62728",
            "size": [
             185,
             183,
             191,
             99,
             71,
             136,
             122,
             143,
             96,
             197,
             166,
             158,
             138,
             110,
             152
            ],
            "sizemode": "area",
            "sizeref": 0.53,
            "symbol": "circle"
           },
           "mode": "markers",
           "name": "North America",
           "orientation": "v",
           "showlegend": true,
           "type": "scatter",
           "x": [
            10.7,
            10.4,
            4.6,
            10.8,
            12.5,
            8.2,
            9.3,
            8.8,
            8.4,
            6.5,
            10.9,
            8.2,
            9.3,
            9.3,
            7.9
           ],
           "xaxis": "x",
           "y": [
            185,
            183,
            191,
            99,
            71,
            136,
            122,
            143,
            96,
            197,
            166,
            158,
            138,
            110,
            152
           ],
           "yaxis": "y"
          },
          {
           "hovertemplate": "<b>%{hovertext}</b><br><br>Continent=Asia<br>Year=2009<br>avg_years_of_schooling=%{x}<br>Both sexes=%{marker.size}<extra></extra>",
           "hovertext": [
            "Israel",
            "Philippines",
            "Japan",
            "Armenia",
            "United Arab Emirates",
            "Thailand",
            "Georgia",
            "Oman",
            "Qatar",
            "Kyrgyzstan",
            "Kuwait",
            "Kazakhstan",
            "Uzbekistan",
            "Bahrain",
            "Turkey",
            "Singapore",
            "Cyprus"
           ],
           "ids": [
            "Israel",
            "Philippines",
            "Japan",
            "Armenia",
            "United Arab Emirates",
            "Thailand",
            "Georgia",
            "Oman",
            "Qatar",
            "Kyrgyzstan",
            "Kuwait",
            "Kazakhstan",
            "Uzbekistan",
            "Bahrain",
            "Turkey",
            "Singapore",
            "Cyprus"
           ],
           "legendgroup": "Asia",
           "marker": {
            "color": "#9467BD",
            "size": [
             61,
             207,
             63,
             142,
             83,
             164,
             156,
             108,
             65,
             204,
             85,
             240,
             149,
             69,
             118,
             62,
             68
            ],
            "sizemode": "area",
            "sizeref": 0.53,
            "symbol": "circle"
           },
           "mode": "markers",
           "name": "Asia",
           "orientation": "v",
           "showlegend": true,
           "type": "scatter",
           "x": [
            12.6,
            9,
            11.4,
            11.1,
            9.7,
            7.5,
            12.2,
            7.7,
            9.2,
            10.4,
            6.6,
            11.5,
            10.5,
            8.4,
            6.5,
            10.5,
            11.3
           ],
           "xaxis": "x",
           "y": [
            61,
            207,
            63,
            142,
            83,
            164,
            156,
            108,
            65,
            204,
            85,
            240,
            149,
            69,
            118,
            62,
            68
           ],
           "yaxis": "y"
          },
          {
           "hovertemplate": "<b>%{hovertext}</b><br><br>Continent=Africa<br>Year=2009<br>avg_years_of_schooling=%{x}<br>Both sexes=%{marker.size}<extra></extra>",
           "hovertext": [
            "South Africa",
            "Mauritius",
            "Seychelles"
           ],
           "ids": [
            "South Africa",
            "Mauritius",
            "Seychelles"
           ],
           "legendgroup": "Africa",
           "marker": {
            "color": "#8C564B",
            "size": [
             435,
             165,
             183
            ],
            "sizemode": "area",
            "sizeref": 0.53,
            "symbol": "circle"
           },
           "mode": "markers",
           "name": "Africa",
           "orientation": "v",
           "showlegend": true,
           "type": "scatter",
           "x": [
            10.1,
            8,
            8
           ],
           "xaxis": "x",
           "y": [
            435,
            165,
            183
           ],
           "yaxis": "y"
          }
         ],
         "name": "2009"
        },
        {
         "data": [
          {
           "hovertemplate": "<b>%{hovertext}</b><br><br>Continent=Europe<br>Year=2010<br>avg_years_of_schooling=%{x}<br>Both sexes=%{marker.size}<extra></extra>",
           "hovertext": [
            "Norway",
            "Greece",
            "Switzerland",
            "Spain",
            "Bulgaria",
            "Finland",
            "France",
            "Serbia",
            "Sweden",
            "Belarus",
            "Poland",
            "Albania",
            "Portugal",
            "Slovenia",
            "Belgium",
            "Slovakia",
            "Austria",
            "Romania",
            "Germany",
            "Latvia",
            "Ukraine",
            "Lithuania",
            "Iceland",
            "Malta",
            "Hungary",
            "Ireland",
            "Estonia",
            "Croatia",
            "Italy",
            "Netherlands",
            "Denmark",
            "Luxembourg"
           ],
           "ids": [
            "Norway",
            "Greece",
            "Switzerland",
            "Spain",
            "Bulgaria",
            "Finland",
            "France",
            "Serbia",
            "Sweden",
            "Belarus",
            "Poland",
            "Albania",
            "Portugal",
            "Slovenia",
            "Belgium",
            "Slovakia",
            "Austria",
            "Romania",
            "Germany",
            "Latvia",
            "Ukraine",
            "Lithuania",
            "Iceland",
            "Malta",
            "Hungary",
            "Ireland",
            "Estonia",
            "Croatia",
            "Italy",
            "Netherlands",
            "Denmark",
            "Luxembourg"
           ],
           "legendgroup": "Europe",
           "marker": {
            "color": "#1F77B4",
            "size": [
             65,
             74,
             57,
             65,
             143,
             88,
             85,
             115,
             58,
             226,
             131,
             103,
             86,
             87,
             81,
             122,
             74,
             155,
             78,
             178,
             218,
             188,
             53,
             58,
             152,
             65,
             134,
             106,
             58,
             64,
             83,
             67
            ],
            "sizemode": "area",
            "sizeref": 0.53,
            "symbol": "circle"
           },
           "mode": "markers",
           "name": "Europe",
           "orientation": "v",
           "showlegend": true,
           "type": "scatter",
           "x": [
            12.7,
            10.3,
            13.3,
            9.4,
            10.6,
            12.3,
            10.9,
            10.4,
            12.3,
            12,
            12.2,
            9.3,
            8.1,
            12.1,
            11.1,
            11.6,
            11.8,
            10.7,
            13.8,
            12.5,
            11.3,
            11.6,
            10.6,
            10.3,
            11.9,
            12.2,
            12.5,
            10.8,
            9.7,
            12,
            12.7,
            11.8
           ],
           "xaxis": "x",
           "y": [
            65,
            74,
            57,
            65,
            143,
            88,
            85,
            115,
            58,
            226,
            131,
            103,
            86,
            87,
            81,
            122,
            74,
            155,
            78,
            178,
            218,
            188,
            53,
            58,
            152,
            65,
            134,
            106,
            58,
            64,
            83,
            67
           ],
           "yaxis": "y"
          },
          {
           "hovertemplate": "<b>%{hovertext}</b><br><br>Continent=South America<br>Year=2010<br>avg_years_of_schooling=%{x}<br>Both sexes=%{marker.size}<extra></extra>",
           "hovertext": [
            "Uruguay",
            "Suriname",
            "Paraguay",
            "Brazil",
            "Guyana",
            "Chile",
            "Colombia",
            "Argentina",
            "Ecuador"
           ],
           "ids": [
            "Uruguay",
            "Suriname",
            "Paraguay",
            "Brazil",
            "Guyana",
            "Chile",
            "Colombia",
            "Argentina",
            "Ecuador"
           ],
           "legendgroup": "South America",
           "marker": {
            "color": "#FF7F0E",
            "size": [
             118,
             194,
             152,
             154,
             258,
             94,
             146,
             119,
             134
            ],
            "sizemode": "area",
            "sizeref": 0.53,
            "symbol": "circle"
           },
           "mode": "markers",
           "name": "South America",
           "orientation": "v",
           "showlegend": true,
           "type": "scatter",
           "x": [
            8.4,
            7.7,
            7.7,
            6.9,
            8.1,
            9.8,
            7.4,
            9.8,
            7.9
           ],
           "xaxis": "x",
           "y": [
            118,
            194,
            152,
            154,
            258,
            94,
            146,
            119,
            134
           ],
           "yaxis": "y"
          },
          {
           "hovertemplate": "<b>%{hovertext}</b><br><br>Continent=Oceania<br>Year=2010<br>avg_years_of_schooling=%{x}<br>Both sexes=%{marker.size}<extra></extra>",
           "hovertext": [
            "Australia",
            "New Zealand"
           ],
           "ids": [
            "Australia",
            "New Zealand"
           ],
           "legendgroup": "Oceania",
           "marker": {
            "color": "#2CA02C",
            "size": [
             63,
             71
            ],
            "sizemode": "area",
            "sizeref": 0.53,
            "symbol": "circle"
           },
           "mode": "markers",
           "name": "Oceania",
           "orientation": "v",
           "showlegend": true,
           "type": "scatter",
           "x": [
            12.4,
            12
           ],
           "xaxis": "x",
           "y": [
            63,
            71
           ],
           "yaxis": "y"
          },
          {
           "hovertemplate": "<b>%{hovertext}</b><br><br>Continent=North America<br>Year=2010<br>avg_years_of_schooling=%{x}<br>Both sexes=%{marker.size}<extra></extra>",
           "hovertext": [
            "Nicaragua",
            "Barbados",
            "Grenada",
            "Belize",
            "Bahamas",
            "Panama",
            "Guatemala",
            "Saint Lucia",
            "Cuba",
            "El Salvador",
            "Trinidad and Tobago",
            "Mexico",
            "Jamaica",
            "Costa Rica",
            "Canada"
           ],
           "ids": [
            "Nicaragua",
            "Barbados",
            "Grenada",
            "Belize",
            "Bahamas",
            "Panama",
            "Guatemala",
            "Saint Lucia",
            "Cuba",
            "El Salvador",
            "Trinidad and Tobago",
            "Mexico",
            "Jamaica",
            "Costa Rica",
            "Canada"
           ],
           "legendgroup": "North America",
           "marker": {
            "color": "#D62728",
            "size": [
             160,
             108,
             154,
             182,
             159,
             117,
             186,
             153,
             97,
             192,
             179,
             136,
             139,
             106,
             69
            ],
            "sizemode": "area",
            "sizeref": 0.53,
            "symbol": "circle"
           },
           "mode": "markers",
           "name": "North America",
           "orientation": "v",
           "showlegend": true,
           "type": "scatter",
           "x": [
            6,
            9.4,
            8.3,
            10.5,
            10.9,
            9.3,
            4.9,
            8.4,
            11,
            7.1,
            10.7,
            8,
            8.9,
            8.3,
            12.6
           ],
           "xaxis": "x",
           "y": [
            160,
            108,
            154,
            182,
            159,
            117,
            186,
            153,
            97,
            192,
            179,
            136,
            139,
            106,
            69
           ],
           "yaxis": "y"
          },
          {
           "hovertemplate": "<b>%{hovertext}</b><br><br>Continent=Asia<br>Year=2010<br>avg_years_of_schooling=%{x}<br>Both sexes=%{marker.size}<extra></extra>",
           "hovertext": [
            "Bahrain",
            "Singapore",
            "Thailand",
            "Uzbekistan",
            "Philippines",
            "Qatar",
            "Armenia",
            "Oman",
            "Georgia",
            "Maldives",
            "United Arab Emirates",
            "Japan",
            "Cyprus",
            "Kazakhstan",
            "Turkey",
            "Israel",
            "Kyrgyzstan",
            "Kuwait",
            "Turkmenistan"
           ],
           "ids": [
            "Bahrain",
            "Singapore",
            "Thailand",
            "Uzbekistan",
            "Philippines",
            "Qatar",
            "Armenia",
            "Oman",
            "Georgia",
            "Maldives",
            "United Arab Emirates",
            "Japan",
            "Cyprus",
            "Kazakhstan",
            "Turkey",
            "Israel",
            "Kyrgyzstan",
            "Kuwait",
            "Turkmenistan"
           ],
           "legendgroup": "Asia",
           "marker": {
            "color": "#9467BD",
            "size": [
             66,
             60,
             161,
             145,
             203,
             65,
             138,
             107,
             157,
             71,
             81,
             61,
             65,
             243,
             116,
             60,
             209,
             84,
             188
            ],
            "sizemode": "area",
            "sizeref": 0.53,
            "symbol": "circle"
           },
           "mode": "markers",
           "name": "Asia",
           "orientation": "v",
           "showlegend": true,
           "type": "scatter",
           "x": [
            8.4,
            11.2,
            7.7,
            10.7,
            8.9,
            8.4,
            11.1,
            7.9,
            12.2,
            4.9,
            9.9,
            11.5,
            11.5,
            11.4,
            6.7,
            12.6,
            10.6,
            6.8,
            9.9
           ],
           "xaxis": "x",
           "y": [
            66,
            60,
            161,
            145,
            203,
            65,
            138,
            107,
            157,
            71,
            81,
            61,
            65,
            243,
            116,
            60,
            209,
            84,
            188
           ],
           "yaxis": "y"
          },
          {
           "hovertemplate": "<b>%{hovertext}</b><br><br>Continent=Africa<br>Year=2010<br>avg_years_of_schooling=%{x}<br>Both sexes=%{marker.size}<extra></extra>",
           "hovertext": [
            "Seychelles",
            "South Africa",
            "Mauritius"
           ],
           "ids": [
            "Seychelles",
            "South Africa",
            "Mauritius"
           ],
           "legendgroup": "Africa",
           "marker": {
            "color": "#8C564B",
            "size": [
             181,
             416,
             162
            ],
            "sizemode": "area",
            "sizeref": 0.53,
            "symbol": "circle"
           },
           "mode": "markers",
           "name": "Africa",
           "orientation": "v",
           "showlegend": true,
           "type": "scatter",
           "x": [
            8.1,
            10,
            8.2
           ],
           "xaxis": "x",
           "y": [
            181,
            416,
            162
           ],
           "yaxis": "y"
          }
         ],
         "name": "2010"
        },
        {
         "data": [
          {
           "hovertemplate": "<b>%{hovertext}</b><br><br>Continent=Europe<br>Year=2011<br>avg_years_of_schooling=%{x}<br>Both sexes=%{marker.size}<extra></extra>",
           "hovertext": [
            "Switzerland",
            "Malta",
            "Belgium",
            "Luxembourg",
            "Sweden",
            "Bosnia and Herzegovina",
            "Portugal",
            "Finland",
            "Lithuania",
            "Ireland",
            "Poland",
            "Germany",
            "Latvia",
            "Iceland",
            "Norway",
            "Greece",
            "Austria",
            "Estonia",
            "Denmark",
            "Belarus",
            "Spain",
            "Netherlands",
            "Italy",
            "Bulgaria",
            "France",
            "Serbia",
            "Hungary",
            "Romania",
            "Slovenia",
            "Ukraine",
            "Croatia"
           ],
           "ids": [
            "Switzerland",
            "Malta",
            "Belgium",
            "Luxembourg",
            "Sweden",
            "Bosnia and Herzegovina",
            "Portugal",
            "Finland",
            "Lithuania",
            "Ireland",
            "Poland",
            "Germany",
            "Latvia",
            "Iceland",
            "Norway",
            "Greece",
            "Austria",
            "Estonia",
            "Denmark",
            "Belarus",
            "Spain",
            "Netherlands",
            "Italy",
            "Bulgaria",
            "France",
            "Serbia",
            "Hungary",
            "Romania",
            "Slovenia",
            "Ukraine",
            "Croatia"
           ],
           "legendgroup": "Europe",
           "marker": {
            "color": "#1F77B4",
            "size": [
             54,
             59,
             81,
             66,
             58,
             100,
             84,
             84,
             184,
             67,
             128,
             75,
             167,
             51,
             66,
             73,
             72,
             136,
             78,
             227,
             63,
             64,
             58,
             141,
             83,
             113,
             147,
             141,
             82,
             209,
             103
            ],
            "sizemode": "area",
            "sizeref": 0.53,
            "symbol": "circle"
           },
           "mode": "markers",
           "name": "Europe",
           "orientation": "v",
           "showlegend": true,
           "type": "scatter",
           "x": [
            13.3,
            10.5,
            11.2,
            11.8,
            12.4,
            7.2,
            8.3,
            12.3,
            11.8,
            10.9,
            12.3,
            13.9,
            12.6,
            11,
            12.8,
            10.3,
            11.8,
            12.5,
            12.7,
            12,
            9.5,
            12,
            9.8,
            10.7,
            10.9,
            10.6,
            12,
            10.8,
            12.2,
            11.3,
            11
           ],
           "xaxis": "x",
           "y": [
            54,
            59,
            81,
            66,
            58,
            100,
            84,
            84,
            184,
            67,
            128,
            75,
            167,
            51,
            66,
            73,
            72,
            136,
            78,
            227,
            63,
            64,
            58,
            141,
            83,
            113,
            147,
            141,
            82,
            209,
            103
           ],
           "yaxis": "y"
          },
          {
           "hovertemplate": "<b>%{hovertext}</b><br><br>Continent=South America<br>Year=2011<br>avg_years_of_schooling=%{x}<br>Both sexes=%{marker.size}<extra></extra>",
           "hovertext": [
            "Ecuador",
            "Colombia",
            "Suriname",
            "Guyana",
            "Paraguay",
            "Argentina",
            "Chile",
            "Brazil"
           ],
           "ids": [
            "Ecuador",
            "Colombia",
            "Suriname",
            "Guyana",
            "Paraguay",
            "Argentina",
            "Chile",
            "Brazil"
           ],
           "legendgroup": "South America",
           "marker": {
            "color": "#FF7F0E",
            "size": [
             130,
             140,
             191,
             263,
             150,
             118,
             90,
             153
            ],
            "sizemode": "area",
            "sizeref": 0.53,
            "symbol": "circle"
           },
           "mode": "markers",
           "name": "South America",
           "orientation": "v",
           "showlegend": true,
           "type": "scatter",
           "x": [
            8,
            7.5,
            7.8,
            8.2,
            7.8,
            9.8,
            9.8,
            7.1
           ],
           "xaxis": "x",
           "y": [
            130,
            140,
            191,
            263,
            150,
            118,
            90,
            153
           ],
           "yaxis": "y"
          },
          {
           "hovertemplate": "<b>%{hovertext}</b><br><br>Continent=Oceania<br>Year=2011<br>avg_years_of_schooling=%{x}<br>Both sexes=%{marker.size}<extra></extra>",
           "hovertext": [
            "Fiji",
            "New Zealand",
            "Australia"
           ],
           "ids": [
            "Fiji",
            "New Zealand",
            "Australia"
           ],
           "legendgroup": "Oceania",
           "marker": {
            "color": "#2CA02C",
            "size": [
             197,
             71,
             62
            ],
            "sizemode": "area",
            "sizeref": 0.53,
            "symbol": "circle"
           },
           "mode": "markers",
           "name": "Oceania",
           "orientation": "v",
           "showlegend": true,
           "type": "scatter",
           "x": [
            9.8,
            12,
            12.5
           ],
           "xaxis": "x",
           "y": [
            197,
            71,
            62
           ],
           "yaxis": "y"
          },
          {
           "hovertemplate": "<b>%{hovertext}</b><br><br>Continent=North America<br>Year=2011<br>avg_years_of_schooling=%{x}<br>Both sexes=%{marker.size}<extra></extra>",
           "hovertext": [
            "Saint Lucia",
            "Bahamas",
            "Costa Rica",
            "Grenada",
            "Cuba",
            "Trinidad and Tobago",
            "Belize",
            "El Salvador",
            "Canada",
            "Nicaragua",
            "Jamaica",
            "Mexico",
            "Barbados",
            "Panama",
            "Guatemala"
           ],
           "ids": [
            "Saint Lucia",
            "Bahamas",
            "Costa Rica",
            "Grenada",
            "Cuba",
            "Trinidad and Tobago",
            "Belize",
            "El Salvador",
            "Canada",
            "Nicaragua",
            "Jamaica",
            "Mexico",
            "Barbados",
            "Panama",
            "Guatemala"
           ],
           "legendgroup": "North America",
           "marker": {
            "color": "#D62728",
            "size": [
             153,
             158,
             100,
             150,
             92,
             180,
             182,
             189,
             67,
             158,
             139,
             133,
             106,
             117,
             180
            ],
            "sizemode": "area",
            "sizeref": 0.53,
            "symbol": "circle"
           },
           "mode": "markers",
           "name": "North America",
           "orientation": "v",
           "showlegend": true,
           "type": "scatter",
           "x": [
            8.4,
            11,
            8.4,
            8.4,
            11.3,
            10.8,
            10.5,
            6.5,
            12.7,
            6.1,
            9,
            8.4,
            9.9,
            9.3,
            5.3
           ],
           "xaxis": "x",
           "y": [
            153,
            158,
            100,
            150,
            92,
            180,
            182,
            189,
            67,
            158,
            139,
            133,
            106,
            117,
            180
           ],
           "yaxis": "y"
          },
          {
           "hovertemplate": "<b>%{hovertext}</b><br><br>Continent=Asia<br>Year=2011<br>avg_years_of_schooling=%{x}<br>Both sexes=%{marker.size}<extra></extra>",
           "hovertext": [
            "Kuwait",
            "Turkey",
            "Qatar",
            "Philippines",
            "Armenia",
            "Bahrain",
            "Kyrgyzstan",
            "Singapore",
            "Maldives",
            "Turkmenistan",
            "Thailand",
            "Israel",
            "Georgia",
            "Kazakhstan",
            "Cyprus",
            "Japan",
            "Uzbekistan"
           ],
           "ids": [
            "Kuwait",
            "Turkey",
            "Qatar",
            "Philippines",
            "Armenia",
            "Bahrain",
            "Kyrgyzstan",
            "Singapore",
            "Maldives",
            "Turkmenistan",
            "Thailand",
            "Israel",
            "Georgia",
            "Kazakhstan",
            "Cyprus",
            "Japan",
            "Uzbekistan"
           ],
           "legendgroup": "Asia",
           "marker": {
            "color": "#9467BD",
            "size": [
             84,
             114,
             65,
             202,
             135,
             66,
             196,
             59,
             66,
             190,
             158,
             59,
             153,
             232,
             58,
             62,
             144
            ],
            "sizemode": "area",
            "sizeref": 0.53,
            "symbol": "circle"
           },
           "mode": "markers",
           "name": "Asia",
           "orientation": "v",
           "showlegend": true,
           "type": "scatter",
           "x": [
            7,
            7.2,
            8.7,
            9,
            11.2,
            8.6,
            10.6,
            11.2,
            5.2,
            9.9,
            7.5,
            12.7,
            12.2,
            11.5,
            11.6,
            11.8,
            10.9
           ],
           "xaxis": "x",
           "y": [
            84,
            114,
            65,
            202,
            135,
            66,
            196,
            59,
            66,
            190,
            158,
            59,
            153,
            232,
            58,
            62,
            144
           ],
           "yaxis": "y"
          },
          {
           "hovertemplate": "<b>%{hovertext}</b><br><br>Continent=Africa<br>Year=2011<br>avg_years_of_schooling=%{x}<br>Both sexes=%{marker.size}<extra></extra>",
           "hovertext": [
            "Seychelles",
            "South Africa",
            "Mauritius"
           ],
           "ids": [
            "Seychelles",
            "South Africa",
            "Mauritius"
           ],
           "legendgroup": "Africa",
           "marker": {
            "color": "#8C564B",
            "size": [
             177,
             397,
             156
            ],
            "sizemode": "area",
            "sizeref": 0.53,
            "symbol": "circle"
           },
           "mode": "markers",
           "name": "Africa",
           "orientation": "v",
           "showlegend": true,
           "type": "scatter",
           "x": [
            8.4,
            9.9,
            8.5
           ],
           "xaxis": "x",
           "y": [
            177,
            397,
            156
           ],
           "yaxis": "y"
          }
         ],
         "name": "2011"
        },
        {
         "data": [
          {
           "hovertemplate": "<b>%{hovertext}</b><br><br>Continent=Europe<br>Year=2012<br>avg_years_of_schooling=%{x}<br>Both sexes=%{marker.size}<extra></extra>",
           "hovertext": [
            "Croatia",
            "Serbia",
            "Sweden",
            "Romania",
            "France",
            "Spain",
            "Italy",
            "Denmark",
            "Austria",
            "Ukraine",
            "Slovenia",
            "Slovakia",
            "Germany",
            "Finland",
            "Ireland",
            "Estonia",
            "Belgium",
            "Hungary",
            "Portugal",
            "Luxembourg",
            "Norway",
            "Lithuania",
            "Greece",
            "Bulgaria",
            "Malta",
            "Netherlands",
            "Poland",
            "Switzerland",
            "Iceland",
            "Latvia"
           ],
           "ids": [
            "Croatia",
            "Serbia",
            "Sweden",
            "Romania",
            "France",
            "Spain",
            "Italy",
            "Denmark",
            "Austria",
            "Ukraine",
            "Slovenia",
            "Slovakia",
            "Germany",
            "Finland",
            "Ireland",
            "Estonia",
            "Belgium",
            "Hungary",
            "Portugal",
            "Luxembourg",
            "Norway",
            "Lithuania",
            "Greece",
            "Bulgaria",
            "Malta",
            "Netherlands",
            "Poland",
            "Switzerland",
            "Iceland",
            "Latvia"
           ],
           "legendgroup": "Europe",
           "marker": {
            "color": "#1F77B4",
            "size": [
             103,
             111,
             56,
             141,
             80,
             61,
             57,
             75,
             68,
             211,
             81,
             115,
             73,
             80,
             66,
             134,
             79,
             143,
             81,
             63,
             60,
             180,
             72,
             137,
             57,
             63,
             126,
             54,
             50,
             162
            ],
            "sizemode": "area",
            "sizeref": 0.53,
            "symbol": "circle"
           },
           "mode": "markers",
           "name": "Europe",
           "orientation": "v",
           "showlegend": true,
           "type": "scatter",
           "x": [
            11,
            10.5,
            12.4,
            10.9,
            11,
            9.5,
            9.9,
            12.8,
            11.8,
            11.3,
            11.7,
            12.3,
            14,
            12.4,
            11.3,
            12.5,
            11.2,
            12.2,
            8.5,
            11.8,
            12.6,
            11.7,
            10.3,
            10.8,
            10.8,
            12,
            11.7,
            13.4,
            11.5,
            12.6
           ],
           "xaxis": "x",
           "y": [
            103,
            111,
            56,
            141,
            80,
            61,
            57,
            75,
            68,
            211,
            81,
            115,
            73,
            80,
            66,
            134,
            79,
            143,
            81,
            63,
            60,
            180,
            72,
            137,
            57,
            63,
            126,
            54,
            50,
            162
           ],
           "yaxis": "y"
          },
          {
           "hovertemplate": "<b>%{hovertext}</b><br><br>Continent=South America<br>Year=2012<br>avg_years_of_schooling=%{x}<br>Both sexes=%{marker.size}<extra></extra>",
           "hovertext": [
            "Suriname",
            "Ecuador",
            "Argentina",
            "Brazil",
            "Colombia",
            "Uruguay",
            "Guyana",
            "Paraguay",
            "Chile"
           ],
           "ids": [
            "Suriname",
            "Ecuador",
            "Argentina",
            "Brazil",
            "Colombia",
            "Uruguay",
            "Guyana",
            "Paraguay",
            "Chile"
           ],
           "legendgroup": "South America",
           "marker": {
            "color": "#FF7F0E",
            "size": [
             188,
             127,
             118,
             150,
             140,
             118,
             272,
             149,
             89
            ],
            "sizemode": "area",
            "sizeref": 0.53,
            "symbol": "circle"
           },
           "mode": "markers",
           "name": "South America",
           "orientation": "v",
           "showlegend": true,
           "type": "scatter",
           "x": [
            7.9,
            8.1,
            9.8,
            7.3,
            7.6,
            8.5,
            8.3,
            7.8,
            9.9
           ],
           "xaxis": "x",
           "y": [
            188,
            127,
            118,
            150,
            140,
            118,
            272,
            149,
            89
           ],
           "yaxis": "y"
          },
          {
           "hovertemplate": "<b>%{hovertext}</b><br><br>Continent=Oceania<br>Year=2012<br>avg_years_of_schooling=%{x}<br>Both sexes=%{marker.size}<extra></extra>",
           "hovertext": [
            "Australia",
            "Fiji",
            "New Zealand"
           ],
           "ids": [
            "Australia",
            "Fiji",
            "New Zealand"
           ],
           "legendgroup": "Oceania",
           "marker": {
            "color": "#2CA02C",
            "size": [
             60,
             195,
             68
            ],
            "sizemode": "area",
            "sizeref": 0.53,
            "symbol": "circle"
           },
           "mode": "markers",
           "name": "Oceania",
           "orientation": "v",
           "showlegend": true,
           "type": "scatter",
           "x": [
            12.6,
            10.1,
            12.1
           ],
           "xaxis": "x",
           "y": [
            60,
            195,
            68
           ],
           "yaxis": "y"
          },
          {
           "hovertemplate": "<b>%{hovertext}</b><br><br>Continent=North America<br>Year=2012<br>avg_years_of_schooling=%{x}<br>Both sexes=%{marker.size}<extra></extra>",
           "hovertext": [
            "Antigua and Barbuda",
            "Barbados",
            "Saint Lucia",
            "Bahamas",
            "Cuba",
            "Canada",
            "Belize",
            "Costa Rica",
            "Guatemala",
            "Grenada",
            "Mexico",
            "El Salvador",
            "Panama",
            "Nicaragua"
           ],
           "ids": [
            "Antigua and Barbuda",
            "Barbados",
            "Saint Lucia",
            "Bahamas",
            "Cuba",
            "Canada",
            "Belize",
            "Costa Rica",
            "Guatemala",
            "Grenada",
            "Mexico",
            "El Salvador",
            "Panama",
            "Nicaragua"
           ],
           "legendgroup": "North America",
           "marker": {
            "color": "#D62728",
            "size": [
             127,
             108,
             153,
             163,
             96,
             68,
             183,
             99,
             173,
             147,
             131,
             186,
             116,
             155
            ],
            "sizemode": "area",
            "sizeref": 0.53,
            "symbol": "circle"
           },
           "mode": "markers",
           "name": "North America",
           "orientation": "v",
           "showlegend": true,
           "type": "scatter",
           "x": [
            9.2,
            10.5,
            8.4,
            11.1,
            10.8,
            12.8,
            10.5,
            8.5,
            4.6,
            8.4,
            8.6,
            6.7,
            9.5,
            6.3
           ],
           "xaxis": "x",
           "y": [
            127,
            108,
            153,
            163,
            96,
            68,
            183,
            99,
            173,
            147,
            131,
            186,
            116,
            155
           ],
           "yaxis": "y"
          },
          {
           "hovertemplate": "<b>%{hovertext}</b><br><br>Continent=Asia<br>Year=2012<br>avg_years_of_schooling=%{x}<br>Both sexes=%{marker.size}<extra></extra>",
           "hovertext": [
            "Turkmenistan",
            "Kyrgyzstan",
            "Israel",
            "Georgia",
            "Kuwait",
            "Uzbekistan",
            "Cyprus",
            "Kazakhstan",
            "Singapore",
            "Bahrain",
            "Japan",
            "Armenia",
            "Qatar",
            "Turkey",
            "Thailand"
           ],
           "ids": [
            "Turkmenistan",
            "Kyrgyzstan",
            "Israel",
            "Georgia",
            "Kuwait",
            "Uzbekistan",
            "Cyprus",
            "Kazakhstan",
            "Singapore",
            "Bahrain",
            "Japan",
            "Armenia",
            "Qatar",
            "Turkey",
            "Thailand"
           ],
           "legendgroup": "Asia",
           "marker": {
            "color": "#9467BD",
            "size": [
             189,
             189,
             58,
             157,
             83,
             145,
             55,
             224,
             57,
             66,
             57,
             131,
             65,
             112,
             155
            ],
            "sizemode": "area",
            "sizeref": 0.53,
            "symbol": "circle"
           },
           "mode": "markers",
           "name": "Asia",
           "orientation": "v",
           "showlegend": true,
           "type": "scatter",
           "x": [
            9.8,
            10.7,
            12.8,
            12.5,
            7.2,
            11.1,
            11.8,
            11.5,
            11.3,
            8.8,
            12,
            11.3,
            9.2,
            7.5,
            7.7
           ],
           "xaxis": "x",
           "y": [
            189,
            189,
            58,
            157,
            83,
            145,
            55,
            224,
            57,
            66,
            57,
            131,
            65,
            112,
            155
           ],
           "yaxis": "y"
          },
          {
           "hovertemplate": "<b>%{hovertext}</b><br><br>Continent=Africa<br>Year=2012<br>avg_years_of_schooling=%{x}<br>Both sexes=%{marker.size}<extra></extra>",
           "hovertext": [
            "Seychelles",
            "South Africa",
            "Mauritius"
           ],
           "ids": [
            "Seychelles",
            "South Africa",
            "Mauritius"
           ],
           "legendgroup": "Africa",
           "marker": {
            "color": "#8C564B",
            "size": [
             174,
             361,
             152
            ],
            "sizemode": "area",
            "sizeref": 0.53,
            "symbol": "circle"
           },
           "mode": "markers",
           "name": "Africa",
           "orientation": "v",
           "showlegend": true,
           "type": "scatter",
           "x": [
            8.8,
            9.8,
            8.6
           ],
           "xaxis": "x",
           "y": [
            174,
            361,
            152
           ],
           "yaxis": "y"
          }
         ],
         "name": "2012"
        },
        {
         "data": [
          {
           "hovertemplate": "<b>%{hovertext}</b><br><br>Continent=Europe<br>Year=2013<br>avg_years_of_schooling=%{x}<br>Both sexes=%{marker.size}<extra></extra>",
           "hovertext": [
            "Slovenia",
            "Latvia",
            "Austria",
            "Bulgaria",
            "Denmark",
            "Netherlands",
            "Spain",
            "France",
            "Italy",
            "Estonia",
            "Norway",
            "Hungary",
            "Lithuania",
            "Serbia",
            "Belgium",
            "Greece",
            "Iceland",
            "Croatia",
            "Romania",
            "Sweden",
            "Belarus",
            "Portugal",
            "Luxembourg",
            "Germany",
            "Switzerland",
            "Malta",
            "Ireland",
            "Finland",
            "Poland",
            "Slovakia"
           ],
           "ids": [
            "Slovenia",
            "Latvia",
            "Austria",
            "Bulgaria",
            "Denmark",
            "Netherlands",
            "Spain",
            "France",
            "Italy",
            "Estonia",
            "Norway",
            "Hungary",
            "Lithuania",
            "Serbia",
            "Belgium",
            "Greece",
            "Iceland",
            "Croatia",
            "Romania",
            "Sweden",
            "Belarus",
            "Portugal",
            "Luxembourg",
            "Germany",
            "Switzerland",
            "Malta",
            "Ireland",
            "Finland",
            "Poland",
            "Slovakia"
           ],
           "legendgroup": "Europe",
           "marker": {
            "color": "#1F77B4",
            "size": [
             78,
             164,
             67,
             135,
             72,
             61,
             59,
             77,
             56,
             122,
             61,
             136,
             179,
             107,
             77,
             68,
             53,
             96,
             134,
             56,
             183,
             78,
             60,
             73,
             53,
             57,
             64,
             78,
             121,
             111
            ],
            "sizemode": "area",
            "sizeref": 0.53,
            "symbol": "circle"
           },
           "mode": "markers",
           "name": "Europe",
           "orientation": "v",
           "showlegend": true,
           "type": "scatter",
           "x": [
            11.7,
            12.7,
            11.9,
            10.9,
            13.2,
            12.1,
            9.5,
            11.2,
            10.3,
            12.6,
            12.7,
            12,
            11.9,
            10.4,
            11.4,
            10.4,
            11.9,
            11,
            10.9,
            12.2,
            12,
            8.6,
            11.8,
            14,
            13.4,
            11,
            11.8,
            12.3,
            12.1,
            12.2
           ],
           "xaxis": "x",
           "y": [
            78,
            164,
            67,
            135,
            72,
            61,
            59,
            77,
            56,
            122,
            61,
            136,
            179,
            107,
            77,
            68,
            53,
            96,
            134,
            56,
            183,
            78,
            60,
            73,
            53,
            57,
            64,
            78,
            121,
            111
           ],
           "yaxis": "y"
          },
          {
           "hovertemplate": "<b>%{hovertext}</b><br><br>Continent=South America<br>Year=2013<br>avg_years_of_schooling=%{x}<br>Both sexes=%{marker.size}<extra></extra>",
           "hovertext": [
            "Brazil",
            "Chile",
            "Suriname",
            "Guyana",
            "Argentina",
            "Uruguay",
            "Ecuador",
            "Colombia",
            "Paraguay"
           ],
           "ids": [
            "Brazil",
            "Chile",
            "Suriname",
            "Guyana",
            "Argentina",
            "Uruguay",
            "Ecuador",
            "Colombia",
            "Paraguay"
           ],
           "legendgroup": "South America",
           "marker": {
            "color": "#FF7F0E",
            "size": [
             148,
             90,
             186,
             263,
             116,
             117,
             122,
             139,
             148
            ],
            "sizemode": "area",
            "sizeref": 0.53,
            "symbol": "circle"
           },
           "mode": "markers",
           "name": "South America",
           "orientation": "v",
           "showlegend": true,
           "type": "scatter",
           "x": [
            7.4,
            9.9,
            8.1,
            8.3,
            9.8,
            8.5,
            8.3,
            7.8,
            8.3
           ],
           "xaxis": "x",
           "y": [
            148,
            90,
            186,
            263,
            116,
            117,
            122,
            139,
            148
           ],
           "yaxis": "y"
          },
          {
           "hovertemplate": "<b>%{hovertext}</b><br><br>Continent=Oceania<br>Year=2013<br>avg_years_of_schooling=%{x}<br>Both sexes=%{marker.size}<extra></extra>",
           "hovertext": [
            "Australia",
            "New Zealand"
           ],
           "ids": [
            "Australia",
            "New Zealand"
           ],
           "legendgroup": "Oceania",
           "marker": {
            "color": "#2CA02C",
            "size": [
             60,
             66
            ],
            "sizemode": "area",
            "sizeref": 0.53,
            "symbol": "circle"
           },
           "mode": "markers",
           "name": "Oceania",
           "orientation": "v",
           "showlegend": true,
           "type": "scatter",
           "x": [
            12.6,
            12.1
           ],
           "xaxis": "x",
           "y": [
            60,
            66
           ],
           "yaxis": "y"
          },
          {
           "hovertemplate": "<b>%{hovertext}</b><br><br>Continent=North America<br>Year=2013<br>avg_years_of_schooling=%{x}<br>Both sexes=%{marker.size}<extra></extra>",
           "hovertext": [
            "Panama",
            "Guatemala",
            "Antigua and Barbuda",
            "Canada",
            "Mexico",
            "Nicaragua",
            "Costa Rica",
            "Barbados",
            "Saint Lucia",
            "Bahamas",
            "El Salvador",
            "Cuba",
            "Grenada",
            "Belize"
           ],
           "ids": [
            "Panama",
            "Guatemala",
            "Antigua and Barbuda",
            "Canada",
            "Mexico",
            "Nicaragua",
            "Costa Rica",
            "Barbados",
            "Saint Lucia",
            "Bahamas",
            "El Salvador",
            "Cuba",
            "Grenada",
            "Belize"
           ],
           "legendgroup": "North America",
           "marker": {
            "color": "#D62728",
            "size": [
             114,
             172,
             127,
             66,
             127,
             153,
             97,
             101,
             149,
             166,
             184,
             96,
             145,
             184
            ],
            "sizemode": "area",
            "sizeref": 0.53,
            "symbol": "circle"
           },
           "mode": "markers",
           "name": "North America",
           "orientation": "v",
           "showlegend": true,
           "type": "scatter",
           "x": [
            9.7,
            4.7,
            9.2,
            12.9,
            8.4,
            6.4,
            8.5,
            10.5,
            8.4,
            11.1,
            6.6,
            11,
            8.5,
            10.5
           ],
           "xaxis": "x",
           "y": [
            114,
            172,
            127,
            66,
            127,
            153,
            97,
            101,
            149,
            166,
            184,
            96,
            145,
            184
           ],
           "yaxis": "y"
          },
          {
           "hovertemplate": "<b>%{hovertext}</b><br><br>Continent=Asia<br>Year=2013<br>avg_years_of_schooling=%{x}<br>Both sexes=%{marker.size}<extra></extra>",
           "hovertext": [
            "Georgia",
            "Japan",
            "Israel",
            "Uzbekistan",
            "Cyprus",
            "Kazakhstan",
            "Kuwait",
            "Qatar",
            "Turkey",
            "Kyrgyzstan",
            "Armenia",
            "Turkmenistan",
            "Thailand",
            "Bahrain",
            "Singapore"
           ],
           "ids": [
            "Georgia",
            "Japan",
            "Israel",
            "Uzbekistan",
            "Cyprus",
            "Kazakhstan",
            "Kuwait",
            "Qatar",
            "Turkey",
            "Kyrgyzstan",
            "Armenia",
            "Turkmenistan",
            "Thailand",
            "Bahrain",
            "Singapore"
           ],
           "legendgroup": "Asia",
           "marker": {
            "color": "#9467BD",
            "size": [
             158,
             56,
             59,
             141,
             58,
             211,
             82,
             65,
             109,
             183,
             121,
             196,
             154,
             63,
             56
            ],
            "sizemode": "area",
            "sizeref": 0.53,
            "symbol": "circle"
           },
           "mode": "markers",
           "name": "Asia",
           "orientation": "v",
           "showlegend": true,
           "type": "scatter",
           "x": [
            12.6,
            12.2,
            12.8,
            11.3,
            12,
            11.6,
            6.7,
            9.9,
            7.7,
            10.7,
            11.4,
            9.8,
            7.5,
            9,
            11.4
           ],
           "xaxis": "x",
           "y": [
            158,
            56,
            59,
            141,
            58,
            211,
            82,
            65,
            109,
            183,
            121,
            196,
            154,
            63,
            56
           ],
           "yaxis": "y"
          },
          {
           "hovertemplate": "<b>%{hovertext}</b><br><br>Continent=Africa<br>Year=2013<br>avg_years_of_schooling=%{x}<br>Both sexes=%{marker.size}<extra></extra>",
           "hovertext": [
            "Mauritius",
            "South Africa",
            "Seychelles"
           ],
           "ids": [
            "Mauritius",
            "South Africa",
            "Seychelles"
           ],
           "legendgroup": "Africa",
           "marker": {
            "color": "#8C564B",
            "size": [
             145,
             335,
             171
            ],
            "sizemode": "area",
            "sizeref": 0.53,
            "symbol": "circle"
           },
           "mode": "markers",
           "name": "Africa",
           "orientation": "v",
           "showlegend": true,
           "type": "scatter",
           "x": [
            8.9,
            9.9,
            9.1
           ],
           "xaxis": "x",
           "y": [
            145,
            335,
            171
           ],
           "yaxis": "y"
          }
         ],
         "name": "2013"
        },
        {
         "data": [
          {
           "hovertemplate": "<b>%{hovertext}</b><br><br>Continent=Europe<br>Year=2014<br>avg_years_of_schooling=%{x}<br>Both sexes=%{marker.size}<extra></extra>",
           "hovertext": [
            "Sweden",
            "Ukraine",
            "Switzerland",
            "France",
            "Luxembourg",
            "Poland",
            "Iceland",
            "Bosnia and Herzegovina",
            "Ireland",
            "Norway",
            "Bulgaria",
            "Denmark",
            "Netherlands",
            "Italy",
            "Malta",
            "Portugal",
            "Belgium",
            "Hungary",
            "Spain",
            "Croatia",
            "Austria",
            "Latvia",
            "Finland",
            "Germany",
            "Slovenia",
            "Slovakia",
            "Greece",
            "Serbia",
            "Belarus",
            "Lithuania",
            "Romania",
            "Estonia"
           ],
           "ids": [
            "Sweden",
            "Ukraine",
            "Switzerland",
            "France",
            "Luxembourg",
            "Poland",
            "Iceland",
            "Bosnia and Herzegovina",
            "Ireland",
            "Norway",
            "Bulgaria",
            "Denmark",
            "Netherlands",
            "Italy",
            "Malta",
            "Portugal",
            "Belgium",
            "Hungary",
            "Spain",
            "Croatia",
            "Austria",
            "Latvia",
            "Finland",
            "Germany",
            "Slovenia",
            "Slovakia",
            "Greece",
            "Serbia",
            "Belarus",
            "Lithuania",
            "Romania",
            "Estonia"
           ],
           "legendgroup": "Europe",
           "marker": {
            "color": "#1F77B4",
            "size": [
             55,
             212,
             50,
             74,
             55,
             115,
             55,
             96,
             62,
             57,
             141,
             68,
             59,
             54,
             53,
             77,
             73,
             133,
             58,
             94,
             65,
             159,
             73,
             70,
             70,
             109,
             67,
             106,
             175,
             167,
             140,
             124
            ],
            "sizemode": "area",
            "sizeref": 0.53,
            "symbol": "circle"
           },
           "mode": "markers",
           "name": "Europe",
           "orientation": "v",
           "showlegend": true,
           "type": "scatter",
           "x": [
            12.3,
            11.3,
            13.4,
            11.4,
            12,
            11.3,
            12.2,
            9.2,
            12.3,
            12.5,
            10.9,
            12.8,
            12.1,
            10.1,
            11.1,
            8.9,
            11.5,
            11.8,
            9.7,
            11.1,
            12.1,
            12.9,
            12.4,
            14,
            11.9,
            12.3,
            10.5,
            10.7,
            12.1,
            13,
            10.9,
            12.6
           ],
           "xaxis": "x",
           "y": [
            55,
            212,
            50,
            74,
            55,
            115,
            55,
            96,
            62,
            57,
            141,
            68,
            59,
            54,
            53,
            77,
            73,
            133,
            58,
            94,
            65,
            159,
            73,
            70,
            70,
            109,
            67,
            106,
            175,
            167,
            140,
            124
           ],
           "yaxis": "y"
          },
          {
           "hovertemplate": "<b>%{hovertext}</b><br><br>Continent=South America<br>Year=2014<br>avg_years_of_schooling=%{x}<br>Both sexes=%{marker.size}<extra></extra>",
           "hovertext": [
            "Uruguay",
            "Suriname",
            "Argentina",
            "Paraguay",
            "Brazil",
            "Ecuador",
            "Colombia",
            "Chile"
           ],
           "ids": [
            "Uruguay",
            "Suriname",
            "Argentina",
            "Paraguay",
            "Brazil",
            "Ecuador",
            "Colombia",
            "Chile"
           ],
           "legendgroup": "South America",
           "marker": {
            "color": "#FF7F0E",
            "size": [
             114,
             184,
             113,
             147,
             145,
             119,
             139,
             88
            ],
            "sizemode": "area",
            "sizeref": 0.53,
            "symbol": "circle"
           },
           "mode": "markers",
           "name": "South America",
           "orientation": "v",
           "showlegend": true,
           "type": "scatter",
           "x": [
            8.6,
            8.2,
            9.8,
            8.2,
            7.4,
            8.5,
            8,
            10.1
           ],
           "xaxis": "x",
           "y": [
            114,
            184,
            113,
            147,
            145,
            119,
            139,
            88
           ],
           "yaxis": "y"
          },
          {
           "hovertemplate": "<b>%{hovertext}</b><br><br>Continent=Oceania<br>Year=2014<br>avg_years_of_schooling=%{x}<br>Both sexes=%{marker.size}<extra></extra>",
           "hovertext": [
            "Australia"
           ],
           "ids": [
            "Australia"
           ],
           "legendgroup": "Oceania",
           "marker": {
            "color": "#2CA02C",
            "size": [
             61
            ],
            "sizemode": "area",
            "sizeref": 0.53,
            "symbol": "circle"
           },
           "mode": "markers",
           "name": "Oceania",
           "orientation": "v",
           "showlegend": true,
           "type": "scatter",
           "x": [
            12.7
           ],
           "xaxis": "x",
           "y": [
            61
           ],
           "yaxis": "y"
          },
          {
           "hovertemplate": "<b>%{hovertext}</b><br><br>Continent=North America<br>Year=2014<br>avg_years_of_schooling=%{x}<br>Both sexes=%{marker.size}<extra></extra>",
           "hovertext": [
            "Antigua and Barbuda",
            "El Salvador",
            "Belize",
            "Panama",
            "Nicaragua",
            "Mexico",
            "Cuba",
            "Grenada",
            "Saint Lucia",
            "Guatemala",
            "Costa Rica"
           ],
           "ids": [
            "Antigua and Barbuda",
            "El Salvador",
            "Belize",
            "Panama",
            "Nicaragua",
            "Mexico",
            "Cuba",
            "Grenada",
            "Saint Lucia",
            "Guatemala",
            "Costa Rica"
           ],
           "legendgroup": "North America",
           "marker": {
            "color": "#D62728",
            "size": [
             127,
             182,
             183,
             111,
             150,
             129,
             95,
             143,
             145,
             169,
             95
            ],
            "sizemode": "area",
            "sizeref": 0.53,
            "symbol": "circle"
           },
           "mode": "markers",
           "name": "North America",
           "orientation": "v",
           "showlegend": true,
           "type": "scatter",
           "x": [
            9.2,
            6.5,
            10.5,
            9.9,
            6.5,
            8.4,
            11.2,
            8.6,
            8.7,
            6.4,
            8.6
           ],
           "xaxis": "x",
           "y": [
            127,
            182,
            183,
            111,
            150,
            129,
            95,
            143,
            145,
            169,
            95
           ],
           "yaxis": "y"
          },
          {
           "hovertemplate": "<b>%{hovertext}</b><br><br>Continent=Asia<br>Year=2014<br>avg_years_of_schooling=%{x}<br>Both sexes=%{marker.size}<extra></extra>",
           "hovertext": [
            "Thailand",
            "Turkmenistan",
            "Turkey",
            "Armenia",
            "Uzbekistan",
            "Kyrgyzstan",
            "Oman",
            "Israel",
            "Kazakhstan",
            "Cyprus",
            "Japan",
            "Georgia",
            "Kuwait",
            "Singapore",
            "Qatar",
            "Bahrain"
           ],
           "ids": [
            "Thailand",
            "Turkmenistan",
            "Turkey",
            "Armenia",
            "Uzbekistan",
            "Kyrgyzstan",
            "Oman",
            "Israel",
            "Kazakhstan",
            "Cyprus",
            "Japan",
            "Georgia",
            "Kuwait",
            "Singapore",
            "Qatar",
            "Bahrain"
           ],
           "legendgroup": "Asia",
           "marker": {
            "color": "#9467BD",
            "size": [
             151,
             199,
             107,
             118,
             139,
             175,
             100,
             58,
             199,
             61,
             54,
             155,
             81,
             55,
             64,
             62
            ],
            "sizemode": "area",
            "sizeref": 0.53,
            "symbol": "circle"
           },
           "mode": "markers",
           "name": "Asia",
           "orientation": "v",
           "showlegend": true,
           "type": "scatter",
           "x": [
            7.6,
            9.8,
            7.6,
            11.5,
            11.3,
            10.8,
            9.3,
            12.9,
            11.7,
            11.9,
            12.5,
            12.6,
            6.9,
            11.4,
            9.8,
            9.1
           ],
           "xaxis": "x",
           "y": [
            151,
            199,
            107,
            118,
            139,
            175,
            100,
            58,
            199,
            61,
            54,
            155,
            81,
            55,
            64,
            62
           ],
           "yaxis": "y"
          },
          {
           "hovertemplate": "<b>%{hovertext}</b><br><br>Continent=Africa<br>Year=2014<br>avg_years_of_schooling=%{x}<br>Both sexes=%{marker.size}<extra></extra>",
           "hovertext": [
            "Mauritius",
            "South Africa",
            "Seychelles"
           ],
           "ids": [
            "Mauritius",
            "South Africa",
            "Seychelles"
           ],
           "legendgroup": "Africa",
           "marker": {
            "color": "#8C564B",
            "size": [
             148,
             316,
             168
            ],
            "sizemode": "area",
            "sizeref": 0.53,
            "symbol": "circle"
           },
           "mode": "markers",
           "name": "Africa",
           "orientation": "v",
           "showlegend": true,
           "type": "scatter",
           "x": [
            9.1,
            10,
            9.4
           ],
           "xaxis": "x",
           "y": [
            148,
            316,
            168
           ],
           "yaxis": "y"
          }
         ],
         "name": "2014"
        },
        {
         "data": [
          {
           "hovertemplate": "<b>%{hovertext}</b><br><br>Continent=Europe<br>Year=2015<br>avg_years_of_schooling=%{x}<br>Both sexes=%{marker.size}<extra></extra>",
           "hovertext": [
            "Iceland",
            "Italy",
            "Ukraine",
            "Denmark",
            "Hungary",
            "Estonia",
            "Greece",
            "Germany",
            "Finland",
            "Malta",
            "Serbia",
            "Romania",
            "Belgium",
            "Poland",
            "Switzerland",
            "Norway",
            "Croatia",
            "Latvia",
            "Lithuania",
            "Spain",
            "Luxembourg",
            "Netherlands",
            "Sweden",
            "Austria",
            "Slovenia"
           ],
           "ids": [
            "Iceland",
            "Italy",
            "Ukraine",
            "Denmark",
            "Hungary",
            "Estonia",
            "Greece",
            "Germany",
            "Finland",
            "Malta",
            "Serbia",
            "Romania",
            "Belgium",
            "Poland",
            "Switzerland",
            "Norway",
            "Croatia",
            "Latvia",
            "Lithuania",
            "Spain",
            "Luxembourg",
            "Netherlands",
            "Sweden",
            "Austria",
            "Slovenia"
           ],
           "legendgroup": "Europe",
           "marker": {
            "color": "#1F77B4",
            "size": [
             54,
             55,
             188,
             66,
             132,
             116,
             68,
             71,
             70,
             55,
             106,
             136,
             72,
             115,
             50,
             54,
             96,
             154,
             165,
             58,
             52,
             58,
             54,
             64,
             74
            ],
            "sizemode": "area",
            "sizeref": 0.53,
            "symbol": "circle"
           },
           "mode": "markers",
           "name": "Europe",
           "orientation": "v",
           "showlegend": true,
           "type": "scatter",
           "x": [
            12.2,
            10.2,
            11.3,
            12.5,
            11.8,
            12.7,
            10.6,
            14.1,
            12.4,
            11.2,
            11,
            10.9,
            11.7,
            12.1,
            13.4,
            12.5,
            11.2,
            12.8,
            13,
            9.7,
            12,
            12.1,
            12.4,
            12.1,
            12
           ],
           "xaxis": "x",
           "y": [
            54,
            55,
            188,
            66,
            132,
            116,
            68,
            71,
            70,
            55,
            106,
            136,
            72,
            115,
            50,
            54,
            96,
            154,
            165,
            58,
            52,
            58,
            54,
            64,
            74
           ],
           "yaxis": "y"
          },
          {
           "hovertemplate": "<b>%{hovertext}</b><br><br>Continent=South America<br>Year=2015<br>avg_years_of_schooling=%{x}<br>Both sexes=%{marker.size}<extra></extra>",
           "hovertext": [
            "Ecuador",
            "Uruguay",
            "Brazil",
            "Argentina",
            "Colombia",
            "Chile"
           ],
           "ids": [
            "Ecuador",
            "Uruguay",
            "Brazil",
            "Argentina",
            "Colombia",
            "Chile"
           ],
           "legendgroup": "South America",
           "marker": {
            "color": "#FF7F0E",
            "size": [
             117,
             114,
             145,
             113,
             138,
             88
            ],
            "sizemode": "area",
            "sizeref": 0.53,
            "symbol": "circle"
           },
           "mode": "markers",
           "name": "South America",
           "orientation": "v",
           "showlegend": true,
           "type": "scatter",
           "x": [
            8.4,
            8.7,
            7.6,
            9.8,
            8.1,
            10.3
           ],
           "xaxis": "x",
           "y": [
            117,
            114,
            145,
            113,
            138,
            88
           ],
           "yaxis": "y"
          },
          {
           "hovertemplate": "<b>%{hovertext}</b><br><br>Continent=Oceania<br>Year=2015<br>avg_years_of_schooling=%{x}<br>Both sexes=%{marker.size}<extra></extra>",
           "hovertext": [
            "Australia"
           ],
           "ids": [
            "Australia"
           ],
           "legendgroup": "Oceania",
           "marker": {
            "color": "#2CA02C",
            "size": [
             62
            ],
            "sizemode": "area",
            "sizeref": 0.53,
            "symbol": "circle"
           },
           "mode": "markers",
           "name": "Oceania",
           "orientation": "v",
           "showlegend": true,
           "type": "scatter",
           "x": [
            12.8
           ],
           "xaxis": "x",
           "y": [
            62
           ],
           "yaxis": "y"
          },
          {
           "hovertemplate": "<b>%{hovertext}</b><br><br>Continent=North America<br>Year=2015<br>avg_years_of_schooling=%{x}<br>Both sexes=%{marker.size}<extra></extra>",
           "hovertext": [
            "Antigua and Barbuda",
            "Cuba",
            "Guatemala",
            "Grenada",
            "Belize",
            "Panama",
            "Nicaragua",
            "Mexico"
           ],
           "ids": [
            "Antigua and Barbuda",
            "Cuba",
            "Guatemala",
            "Grenada",
            "Belize",
            "Panama",
            "Nicaragua",
            "Mexico"
           ],
           "legendgroup": "North America",
           "marker": {
            "color": "#D62728",
            "size": [
             122,
             94,
             165,
             141,
             182,
             112,
             148,
             128
            ],
            "sizemode": "area",
            "sizeref": 0.53,
            "symbol": "circle"
           },
           "mode": "markers",
           "name": "North America",
           "orientation": "v",
           "showlegend": true,
           "type": "scatter",
           "x": [
            9.2,
            11.4,
            6.3,
            8.7,
            10.5,
            9.9,
            6.5,
            8.6
           ],
           "xaxis": "x",
           "y": [
            122,
            94,
            165,
            141,
            182,
            112,
            148,
            128
           ],
           "yaxis": "y"
          },
          {
           "hovertemplate": "<b>%{hovertext}</b><br><br>Continent=Asia<br>Year=2015<br>avg_years_of_schooling=%{x}<br>Both sexes=%{marker.size}<extra></extra>",
           "hovertext": [
            "Kazakhstan",
            "Japan",
            "Israel",
            "Georgia",
            "Cyprus",
            "Kyrgyzstan",
            "Armenia",
            "Qatar",
            "Turkmenistan",
            "Singapore",
            "Turkey",
            "Thailand"
           ],
           "ids": [
            "Kazakhstan",
            "Japan",
            "Israel",
            "Georgia",
            "Cyprus",
            "Kyrgyzstan",
            "Armenia",
            "Qatar",
            "Turkmenistan",
            "Singapore",
            "Turkey",
            "Thailand"
           ],
           "legendgroup": "Asia",
           "marker": {
            "color": "#9467BD",
            "size": [
             192,
             53,
             58,
             156,
             57,
             167,
             121,
             63,
             198,
             54,
             106,
             149
            ],
            "sizemode": "area",
            "sizeref": 0.53,
            "symbol": "circle"
           },
           "mode": "markers",
           "name": "Asia",
           "orientation": "v",
           "showlegend": true,
           "type": "scatter",
           "x": [
            11.7,
            12.5,
            13,
            12.7,
            11.9,
            10.8,
            11.6,
            9.8,
            9.8,
            11.5,
            7.8,
            7.6
           ],
           "xaxis": "x",
           "y": [
            192,
            53,
            58,
            156,
            57,
            167,
            121,
            63,
            198,
            54,
            106,
            149
           ],
           "yaxis": "y"
          },
          {
           "hovertemplate": "<b>%{hovertext}</b><br><br>Continent=Africa<br>Year=2015<br>avg_years_of_schooling=%{x}<br>Both sexes=%{marker.size}<extra></extra>",
           "hovertext": [
            "Seychelles",
            "Mauritius",
            "South Africa"
           ],
           "ids": [
            "Seychelles",
            "Mauritius",
            "South Africa"
           ],
           "legendgroup": "Africa",
           "marker": {
            "color": "#8C564B",
            "size": [
             166,
             148,
             305
            ],
            "sizemode": "area",
            "sizeref": 0.53,
            "symbol": "circle"
           },
           "mode": "markers",
           "name": "Africa",
           "orientation": "v",
           "showlegend": true,
           "type": "scatter",
           "x": [
            9.5,
            9.1,
            10.1
           ],
           "xaxis": "x",
           "y": [
            166,
            148,
            305
           ],
           "yaxis": "y"
          }
         ],
         "name": "2015"
        },
        {
         "data": [
          {
           "hovertemplate": "<b>%{hovertext}</b><br><br>Continent=Europe<br>Year=2016<br>avg_years_of_schooling=%{x}<br>Both sexes=%{marker.size}<extra></extra>",
           "hovertext": [
            "Austria",
            "Romania",
            "Croatia",
            "Sweden",
            "Hungary",
            "Netherlands",
            "Lithuania",
            "Iceland"
           ],
           "ids": [
            "Austria",
            "Romania",
            "Croatia",
            "Sweden",
            "Hungary",
            "Netherlands",
            "Lithuania",
            "Iceland"
           ],
           "legendgroup": "Europe",
           "marker": {
            "color": "#1F77B4",
            "size": [
             62,
             135,
             88,
             52,
             126,
             59,
             155,
             55
            ],
            "sizemode": "area",
            "sizeref": 0.53,
            "symbol": "circle"
           },
           "mode": "markers",
           "name": "Europe",
           "orientation": "v",
           "showlegend": true,
           "type": "scatter",
           "x": [
            12.1,
            11,
            11.3,
            12.4,
            11.9,
            12.1,
            13,
            12.4
           ],
           "xaxis": "x",
           "y": [
            62,
            135,
            88,
            52,
            126,
            59,
            155,
            55
           ],
           "yaxis": "y"
          },
          {
           "hovertemplate": "<b>%{hovertext}</b><br><br>Continent=North America<br>Year=2016<br>avg_years_of_schooling=%{x}<br>Both sexes=%{marker.size}<extra></extra>",
           "hovertext": [
            "Grenada"
           ],
           "ids": [
            "Grenada"
           ],
           "legendgroup": "North America",
           "marker": {
            "color": "#D62728",
            "size": [
             140
            ],
            "sizemode": "area",
            "sizeref": 0.53,
            "symbol": "circle"
           },
           "mode": "markers",
           "name": "North America",
           "orientation": "v",
           "showlegend": true,
           "type": "scatter",
           "x": [
            8.7
           ],
           "xaxis": "x",
           "y": [
            140
           ],
           "yaxis": "y"
          },
          {
           "hovertemplate": "<b>%{hovertext}</b><br><br>Continent=Asia<br>Year=2016<br>avg_years_of_schooling=%{x}<br>Both sexes=%{marker.size}<extra></extra>",
           "hovertext": [
            "Armenia",
            "Qatar",
            "Thailand",
            "Mongolia",
            "Cyprus"
           ],
           "ids": [
            "Armenia",
            "Qatar",
            "Thailand",
            "Mongolia",
            "Cyprus"
           ],
           "legendgroup": "Asia",
           "marker": {
            "color": "#9467BD",
            "size": [
             116,
             62,
             147,
             211,
             55
            ],
            "sizemode": "area",
            "sizeref": 0.53,
            "symbol": "circle"
           },
           "mode": "markers",
           "name": "Asia",
           "orientation": "v",
           "showlegend": true,
           "type": "scatter",
           "x": [
            11.7,
            9.8,
            7.6,
            10.1,
            12.1
           ],
           "xaxis": "x",
           "y": [
            116,
            62,
            147,
            211,
            55
           ],
           "yaxis": "y"
          },
          {
           "hovertemplate": "<b>%{hovertext}</b><br><br>Continent=Africa<br>Year=2016<br>avg_years_of_schooling=%{x}<br>Both sexes=%{marker.size}<extra></extra>",
           "hovertext": [
            "Mauritius"
           ],
           "ids": [
            "Mauritius"
           ],
           "legendgroup": "Africa",
           "marker": {
            "color": "#8C564B",
            "size": [
             145
            ],
            "sizemode": "area",
            "sizeref": 0.53,
            "symbol": "circle"
           },
           "mode": "markers",
           "name": "Africa",
           "orientation": "v",
           "showlegend": true,
           "type": "scatter",
           "x": [
            9.3
           ],
           "xaxis": "x",
           "y": [
            145
           ],
           "yaxis": "y"
          }
         ],
         "name": "2016"
        }
       ],
       "layout": {
        "height": 700,
        "legend": {
         "itemsizing": "constant",
         "title": {
          "text": "Continent"
         },
         "tracegroupgap": 0
        },
        "margin": {
         "t": 60
        },
        "sliders": [
         {
          "active": 0,
          "currentvalue": {
           "prefix": "Year="
          },
          "len": 0.9,
          "pad": {
           "b": 10,
           "t": 60
          },
          "steps": [
           {
            "args": [
             [
              "2000"
             ],
             {
              "frame": {
               "duration": 0,
               "redraw": false
              },
              "fromcurrent": true,
              "mode": "immediate",
              "transition": {
               "duration": 0,
               "easing": "linear"
              }
             }
            ],
            "label": "2000",
            "method": "animate"
           },
           {
            "args": [
             [
              "2001"
             ],
             {
              "frame": {
               "duration": 0,
               "redraw": false
              },
              "fromcurrent": true,
              "mode": "immediate",
              "transition": {
               "duration": 0,
               "easing": "linear"
              }
             }
            ],
            "label": "2001",
            "method": "animate"
           },
           {
            "args": [
             [
              "2002"
             ],
             {
              "frame": {
               "duration": 0,
               "redraw": false
              },
              "fromcurrent": true,
              "mode": "immediate",
              "transition": {
               "duration": 0,
               "easing": "linear"
              }
             }
            ],
            "label": "2002",
            "method": "animate"
           },
           {
            "args": [
             [
              "2003"
             ],
             {
              "frame": {
               "duration": 0,
               "redraw": false
              },
              "fromcurrent": true,
              "mode": "immediate",
              "transition": {
               "duration": 0,
               "easing": "linear"
              }
             }
            ],
            "label": "2003",
            "method": "animate"
           },
           {
            "args": [
             [
              "2004"
             ],
             {
              "frame": {
               "duration": 0,
               "redraw": false
              },
              "fromcurrent": true,
              "mode": "immediate",
              "transition": {
               "duration": 0,
               "easing": "linear"
              }
             }
            ],
            "label": "2004",
            "method": "animate"
           },
           {
            "args": [
             [
              "2005"
             ],
             {
              "frame": {
               "duration": 0,
               "redraw": false
              },
              "fromcurrent": true,
              "mode": "immediate",
              "transition": {
               "duration": 0,
               "easing": "linear"
              }
             }
            ],
            "label": "2005",
            "method": "animate"
           },
           {
            "args": [
             [
              "2006"
             ],
             {
              "frame": {
               "duration": 0,
               "redraw": false
              },
              "fromcurrent": true,
              "mode": "immediate",
              "transition": {
               "duration": 0,
               "easing": "linear"
              }
             }
            ],
            "label": "2006",
            "method": "animate"
           },
           {
            "args": [
             [
              "2007"
             ],
             {
              "frame": {
               "duration": 0,
               "redraw": false
              },
              "fromcurrent": true,
              "mode": "immediate",
              "transition": {
               "duration": 0,
               "easing": "linear"
              }
             }
            ],
            "label": "2007",
            "method": "animate"
           },
           {
            "args": [
             [
              "2008"
             ],
             {
              "frame": {
               "duration": 0,
               "redraw": false
              },
              "fromcurrent": true,
              "mode": "immediate",
              "transition": {
               "duration": 0,
               "easing": "linear"
              }
             }
            ],
            "label": "2008",
            "method": "animate"
           },
           {
            "args": [
             [
              "2009"
             ],
             {
              "frame": {
               "duration": 0,
               "redraw": false
              },
              "fromcurrent": true,
              "mode": "immediate",
              "transition": {
               "duration": 0,
               "easing": "linear"
              }
             }
            ],
            "label": "2009",
            "method": "animate"
           },
           {
            "args": [
             [
              "2010"
             ],
             {
              "frame": {
               "duration": 0,
               "redraw": false
              },
              "fromcurrent": true,
              "mode": "immediate",
              "transition": {
               "duration": 0,
               "easing": "linear"
              }
             }
            ],
            "label": "2010",
            "method": "animate"
           },
           {
            "args": [
             [
              "2011"
             ],
             {
              "frame": {
               "duration": 0,
               "redraw": false
              },
              "fromcurrent": true,
              "mode": "immediate",
              "transition": {
               "duration": 0,
               "easing": "linear"
              }
             }
            ],
            "label": "2011",
            "method": "animate"
           },
           {
            "args": [
             [
              "2012"
             ],
             {
              "frame": {
               "duration": 0,
               "redraw": false
              },
              "fromcurrent": true,
              "mode": "immediate",
              "transition": {
               "duration": 0,
               "easing": "linear"
              }
             }
            ],
            "label": "2012",
            "method": "animate"
           },
           {
            "args": [
             [
              "2013"
             ],
             {
              "frame": {
               "duration": 0,
               "redraw": false
              },
              "fromcurrent": true,
              "mode": "immediate",
              "transition": {
               "duration": 0,
               "easing": "linear"
              }
             }
            ],
            "label": "2013",
            "method": "animate"
           },
           {
            "args": [
             [
              "2014"
             ],
             {
              "frame": {
               "duration": 0,
               "redraw": false
              },
              "fromcurrent": true,
              "mode": "immediate",
              "transition": {
               "duration": 0,
               "easing": "linear"
              }
             }
            ],
            "label": "2014",
            "method": "animate"
           },
           {
            "args": [
             [
              "2015"
             ],
             {
              "frame": {
               "duration": 0,
               "redraw": false
              },
              "fromcurrent": true,
              "mode": "immediate",
              "transition": {
               "duration": 0,
               "easing": "linear"
              }
             }
            ],
            "label": "2015",
            "method": "animate"
           },
           {
            "args": [
             [
              "2016"
             ],
             {
              "frame": {
               "duration": 0,
               "redraw": false
              },
              "fromcurrent": true,
              "mode": "immediate",
              "transition": {
               "duration": 0,
               "easing": "linear"
              }
             }
            ],
            "label": "2016",
            "method": "animate"
           }
          ],
          "x": 0.1,
          "xanchor": "left",
          "y": 0,
          "yanchor": "top"
         }
        ],
        "template": {
         "data": {
          "bar": [
           {
            "error_x": {
             "color": "rgb(36,36,36)"
            },
            "error_y": {
             "color": "rgb(36,36,36)"
            },
            "marker": {
             "line": {
              "color": "white",
              "width": 0.5
             },
             "pattern": {
              "fillmode": "overlay",
              "size": 10,
              "solidity": 0.2
             }
            },
            "type": "bar"
           }
          ],
          "barpolar": [
           {
            "marker": {
             "line": {
              "color": "white",
              "width": 0.5
             },
             "pattern": {
              "fillmode": "overlay",
              "size": 10,
              "solidity": 0.2
             }
            },
            "type": "barpolar"
           }
          ],
          "carpet": [
           {
            "aaxis": {
             "endlinecolor": "rgb(36,36,36)",
             "gridcolor": "white",
             "linecolor": "white",
             "minorgridcolor": "white",
             "startlinecolor": "rgb(36,36,36)"
            },
            "baxis": {
             "endlinecolor": "rgb(36,36,36)",
             "gridcolor": "white",
             "linecolor": "white",
             "minorgridcolor": "white",
             "startlinecolor": "rgb(36,36,36)"
            },
            "type": "carpet"
           }
          ],
          "choropleth": [
           {
            "colorbar": {
             "outlinewidth": 1,
             "tickcolor": "rgb(36,36,36)",
             "ticks": "outside"
            },
            "type": "choropleth"
           }
          ],
          "contour": [
           {
            "colorbar": {
             "outlinewidth": 1,
             "tickcolor": "rgb(36,36,36)",
             "ticks": "outside"
            },
            "colorscale": [
             [
              0,
              "#440154"
             ],
             [
              0.1111111111111111,
              "#482878"
             ],
             [
              0.2222222222222222,
              "#3e4989"
             ],
             [
              0.3333333333333333,
              "#31688e"
             ],
             [
              0.4444444444444444,
              "#26828e"
             ],
             [
              0.5555555555555556,
              "#1f9e89"
             ],
             [
              0.6666666666666666,
              "#35b779"
             ],
             [
              0.7777777777777778,
              "#6ece58"
             ],
             [
              0.8888888888888888,
              "#b5de2b"
             ],
             [
              1,
              "#fde725"
             ]
            ],
            "type": "contour"
           }
          ],
          "contourcarpet": [
           {
            "colorbar": {
             "outlinewidth": 1,
             "tickcolor": "rgb(36,36,36)",
             "ticks": "outside"
            },
            "type": "contourcarpet"
           }
          ],
          "heatmap": [
           {
            "colorbar": {
             "outlinewidth": 1,
             "tickcolor": "rgb(36,36,36)",
             "ticks": "outside"
            },
            "colorscale": [
             [
              0,
              "#440154"
             ],
             [
              0.1111111111111111,
              "#482878"
             ],
             [
              0.2222222222222222,
              "#3e4989"
             ],
             [
              0.3333333333333333,
              "#31688e"
             ],
             [
              0.4444444444444444,
              "#26828e"
             ],
             [
              0.5555555555555556,
              "#1f9e89"
             ],
             [
              0.6666666666666666,
              "#35b779"
             ],
             [
              0.7777777777777778,
              "#6ece58"
             ],
             [
              0.8888888888888888,
              "#b5de2b"
             ],
             [
              1,
              "#fde725"
             ]
            ],
            "type": "heatmap"
           }
          ],
          "heatmapgl": [
           {
            "colorbar": {
             "outlinewidth": 1,
             "tickcolor": "rgb(36,36,36)",
             "ticks": "outside"
            },
            "colorscale": [
             [
              0,
              "#440154"
             ],
             [
              0.1111111111111111,
              "#482878"
             ],
             [
              0.2222222222222222,
              "#3e4989"
             ],
             [
              0.3333333333333333,
              "#31688e"
             ],
             [
              0.4444444444444444,
              "#26828e"
             ],
             [
              0.5555555555555556,
              "#1f9e89"
             ],
             [
              0.6666666666666666,
              "#35b779"
             ],
             [
              0.7777777777777778,
              "#6ece58"
             ],
             [
              0.8888888888888888,
              "#b5de2b"
             ],
             [
              1,
              "#fde725"
             ]
            ],
            "type": "heatmapgl"
           }
          ],
          "histogram": [
           {
            "marker": {
             "line": {
              "color": "white",
              "width": 0.6
             }
            },
            "type": "histogram"
           }
          ],
          "histogram2d": [
           {
            "colorbar": {
             "outlinewidth": 1,
             "tickcolor": "rgb(36,36,36)",
             "ticks": "outside"
            },
            "colorscale": [
             [
              0,
              "#440154"
             ],
             [
              0.1111111111111111,
              "#482878"
             ],
             [
              0.2222222222222222,
              "#3e4989"
             ],
             [
              0.3333333333333333,
              "#31688e"
             ],
             [
              0.4444444444444444,
              "#26828e"
             ],
             [
              0.5555555555555556,
              "#1f9e89"
             ],
             [
              0.6666666666666666,
              "#35b779"
             ],
             [
              0.7777777777777778,
              "#6ece58"
             ],
             [
              0.8888888888888888,
              "#b5de2b"
             ],
             [
              1,
              "#fde725"
             ]
            ],
            "type": "histogram2d"
           }
          ],
          "histogram2dcontour": [
           {
            "colorbar": {
             "outlinewidth": 1,
             "tickcolor": "rgb(36,36,36)",
             "ticks": "outside"
            },
            "colorscale": [
             [
              0,
              "#440154"
             ],
             [
              0.1111111111111111,
              "#482878"
             ],
             [
              0.2222222222222222,
              "#3e4989"
             ],
             [
              0.3333333333333333,
              "#31688e"
             ],
             [
              0.4444444444444444,
              "#26828e"
             ],
             [
              0.5555555555555556,
              "#1f9e89"
             ],
             [
              0.6666666666666666,
              "#35b779"
             ],
             [
              0.7777777777777778,
              "#6ece58"
             ],
             [
              0.8888888888888888,
              "#b5de2b"
             ],
             [
              1,
              "#fde725"
             ]
            ],
            "type": "histogram2dcontour"
           }
          ],
          "mesh3d": [
           {
            "colorbar": {
             "outlinewidth": 1,
             "tickcolor": "rgb(36,36,36)",
             "ticks": "outside"
            },
            "type": "mesh3d"
           }
          ],
          "parcoords": [
           {
            "line": {
             "colorbar": {
              "outlinewidth": 1,
              "tickcolor": "rgb(36,36,36)",
              "ticks": "outside"
             }
            },
            "type": "parcoords"
           }
          ],
          "pie": [
           {
            "automargin": true,
            "type": "pie"
           }
          ],
          "scatter": [
           {
            "fillpattern": {
             "fillmode": "overlay",
             "size": 10,
             "solidity": 0.2
            },
            "type": "scatter"
           }
          ],
          "scatter3d": [
           {
            "line": {
             "colorbar": {
              "outlinewidth": 1,
              "tickcolor": "rgb(36,36,36)",
              "ticks": "outside"
             }
            },
            "marker": {
             "colorbar": {
              "outlinewidth": 1,
              "tickcolor": "rgb(36,36,36)",
              "ticks": "outside"
             }
            },
            "type": "scatter3d"
           }
          ],
          "scattercarpet": [
           {
            "marker": {
             "colorbar": {
              "outlinewidth": 1,
              "tickcolor": "rgb(36,36,36)",
              "ticks": "outside"
             }
            },
            "type": "scattercarpet"
           }
          ],
          "scattergeo": [
           {
            "marker": {
             "colorbar": {
              "outlinewidth": 1,
              "tickcolor": "rgb(36,36,36)",
              "ticks": "outside"
             }
            },
            "type": "scattergeo"
           }
          ],
          "scattergl": [
           {
            "marker": {
             "colorbar": {
              "outlinewidth": 1,
              "tickcolor": "rgb(36,36,36)",
              "ticks": "outside"
             }
            },
            "type": "scattergl"
           }
          ],
          "scattermapbox": [
           {
            "marker": {
             "colorbar": {
              "outlinewidth": 1,
              "tickcolor": "rgb(36,36,36)",
              "ticks": "outside"
             }
            },
            "type": "scattermapbox"
           }
          ],
          "scatterpolar": [
           {
            "marker": {
             "colorbar": {
              "outlinewidth": 1,
              "tickcolor": "rgb(36,36,36)",
              "ticks": "outside"
             }
            },
            "type": "scatterpolar"
           }
          ],
          "scatterpolargl": [
           {
            "marker": {
             "colorbar": {
              "outlinewidth": 1,
              "tickcolor": "rgb(36,36,36)",
              "ticks": "outside"
             }
            },
            "type": "scatterpolargl"
           }
          ],
          "scatterternary": [
           {
            "marker": {
             "colorbar": {
              "outlinewidth": 1,
              "tickcolor": "rgb(36,36,36)",
              "ticks": "outside"
             }
            },
            "type": "scatterternary"
           }
          ],
          "surface": [
           {
            "colorbar": {
             "outlinewidth": 1,
             "tickcolor": "rgb(36,36,36)",
             "ticks": "outside"
            },
            "colorscale": [
             [
              0,
              "#440154"
             ],
             [
              0.1111111111111111,
              "#482878"
             ],
             [
              0.2222222222222222,
              "#3e4989"
             ],
             [
              0.3333333333333333,
              "#31688e"
             ],
             [
              0.4444444444444444,
              "#26828e"
             ],
             [
              0.5555555555555556,
              "#1f9e89"
             ],
             [
              0.6666666666666666,
              "#35b779"
             ],
             [
              0.7777777777777778,
              "#6ece58"
             ],
             [
              0.8888888888888888,
              "#b5de2b"
             ],
             [
              1,
              "#fde725"
             ]
            ],
            "type": "surface"
           }
          ],
          "table": [
           {
            "cells": {
             "fill": {
              "color": "rgb(237,237,237)"
             },
             "line": {
              "color": "white"
             }
            },
            "header": {
             "fill": {
              "color": "rgb(217,217,217)"
             },
             "line": {
              "color": "white"
             }
            },
            "type": "table"
           }
          ]
         },
         "layout": {
          "annotationdefaults": {
           "arrowhead": 0,
           "arrowwidth": 1
          },
          "autotypenumbers": "strict",
          "coloraxis": {
           "colorbar": {
            "outlinewidth": 1,
            "tickcolor": "rgb(36,36,36)",
            "ticks": "outside"
           }
          },
          "colorscale": {
           "diverging": [
            [
             0,
             "rgb(103,0,31)"
            ],
            [
             0.1,
             "rgb(178,24,43)"
            ],
            [
             0.2,
             "rgb(214,96,77)"
            ],
            [
             0.3,
             "rgb(244,165,130)"
            ],
            [
             0.4,
             "rgb(253,219,199)"
            ],
            [
             0.5,
             "rgb(247,247,247)"
            ],
            [
             0.6,
             "rgb(209,229,240)"
            ],
            [
             0.7,
             "rgb(146,197,222)"
            ],
            [
             0.8,
             "rgb(67,147,195)"
            ],
            [
             0.9,
             "rgb(33,102,172)"
            ],
            [
             1,
             "rgb(5,48,97)"
            ]
           ],
           "sequential": [
            [
             0,
             "#440154"
            ],
            [
             0.1111111111111111,
             "#482878"
            ],
            [
             0.2222222222222222,
             "#3e4989"
            ],
            [
             0.3333333333333333,
             "#31688e"
            ],
            [
             0.4444444444444444,
             "#26828e"
            ],
            [
             0.5555555555555556,
             "#1f9e89"
            ],
            [
             0.6666666666666666,
             "#35b779"
            ],
            [
             0.7777777777777778,
             "#6ece58"
            ],
            [
             0.8888888888888888,
             "#b5de2b"
            ],
            [
             1,
             "#fde725"
            ]
           ],
           "sequentialminus": [
            [
             0,
             "#440154"
            ],
            [
             0.1111111111111111,
             "#482878"
            ],
            [
             0.2222222222222222,
             "#3e4989"
            ],
            [
             0.3333333333333333,
             "#31688e"
            ],
            [
             0.4444444444444444,
             "#26828e"
            ],
            [
             0.5555555555555556,
             "#1f9e89"
            ],
            [
             0.6666666666666666,
             "#35b779"
            ],
            [
             0.7777777777777778,
             "#6ece58"
            ],
            [
             0.8888888888888888,
             "#b5de2b"
            ],
            [
             1,
             "#fde725"
            ]
           ]
          },
          "colorway": [
           "#1F77B4",
           "#FF7F0E",
           "#2CA02C",
           "#D62728",
           "#9467BD",
           "#8C564B",
           "#E377C2",
           "#7F7F7F",
           "#BCBD22",
           "#17BECF"
          ],
          "font": {
           "color": "rgb(36,36,36)"
          },
          "geo": {
           "bgcolor": "white",
           "lakecolor": "white",
           "landcolor": "white",
           "showlakes": true,
           "showland": true,
           "subunitcolor": "white"
          },
          "hoverlabel": {
           "align": "left"
          },
          "hovermode": "closest",
          "mapbox": {
           "style": "light"
          },
          "paper_bgcolor": "white",
          "plot_bgcolor": "white",
          "polar": {
           "angularaxis": {
            "gridcolor": "rgb(232,232,232)",
            "linecolor": "rgb(36,36,36)",
            "showgrid": false,
            "showline": true,
            "ticks": "outside"
           },
           "bgcolor": "white",
           "radialaxis": {
            "gridcolor": "rgb(232,232,232)",
            "linecolor": "rgb(36,36,36)",
            "showgrid": false,
            "showline": true,
            "ticks": "outside"
           }
          },
          "scene": {
           "xaxis": {
            "backgroundcolor": "white",
            "gridcolor": "rgb(232,232,232)",
            "gridwidth": 2,
            "linecolor": "rgb(36,36,36)",
            "showbackground": true,
            "showgrid": false,
            "showline": true,
            "ticks": "outside",
            "zeroline": false,
            "zerolinecolor": "rgb(36,36,36)"
           },
           "yaxis": {
            "backgroundcolor": "white",
            "gridcolor": "rgb(232,232,232)",
            "gridwidth": 2,
            "linecolor": "rgb(36,36,36)",
            "showbackground": true,
            "showgrid": false,
            "showline": true,
            "ticks": "outside",
            "zeroline": false,
            "zerolinecolor": "rgb(36,36,36)"
           },
           "zaxis": {
            "backgroundcolor": "white",
            "gridcolor": "rgb(232,232,232)",
            "gridwidth": 2,
            "linecolor": "rgb(36,36,36)",
            "showbackground": true,
            "showgrid": false,
            "showline": true,
            "ticks": "outside",
            "zeroline": false,
            "zerolinecolor": "rgb(36,36,36)"
           }
          },
          "shapedefaults": {
           "fillcolor": "black",
           "line": {
            "width": 0
           },
           "opacity": 0.3
          },
          "ternary": {
           "aaxis": {
            "gridcolor": "rgb(232,232,232)",
            "linecolor": "rgb(36,36,36)",
            "showgrid": false,
            "showline": true,
            "ticks": "outside"
           },
           "baxis": {
            "gridcolor": "rgb(232,232,232)",
            "linecolor": "rgb(36,36,36)",
            "showgrid": false,
            "showline": true,
            "ticks": "outside"
           },
           "bgcolor": "white",
           "caxis": {
            "gridcolor": "rgb(232,232,232)",
            "linecolor": "rgb(36,36,36)",
            "showgrid": false,
            "showline": true,
            "ticks": "outside"
           }
          },
          "title": {
           "x": 0.05
          },
          "xaxis": {
           "automargin": true,
           "gridcolor": "rgb(232,232,232)",
           "linecolor": "rgb(36,36,36)",
           "showgrid": false,
           "showline": true,
           "ticks": "outside",
           "title": {
            "standoff": 15
           },
           "zeroline": false,
           "zerolinecolor": "rgb(36,36,36)"
          },
          "yaxis": {
           "automargin": true,
           "gridcolor": "rgb(232,232,232)",
           "linecolor": "rgb(36,36,36)",
           "showgrid": false,
           "showline": true,
           "ticks": "outside",
           "title": {
            "standoff": 15
           },
           "zeroline": false,
           "zerolinecolor": "rgb(36,36,36)"
          }
         }
        },
        "updatemenus": [
         {
          "buttons": [
           {
            "args": [
             null,
             {
              "frame": {
               "duration": 500,
               "redraw": false
              },
              "fromcurrent": true,
              "mode": "immediate",
              "transition": {
               "duration": 500,
               "easing": "linear"
              }
             }
            ],
            "label": "&#9654;",
            "method": "animate"
           },
           {
            "args": [
             [
              null
             ],
             {
              "frame": {
               "duration": 0,
               "redraw": false
              },
              "fromcurrent": true,
              "mode": "immediate",
              "transition": {
               "duration": 0,
               "easing": "linear"
              }
             }
            ],
            "label": "&#9724;",
            "method": "animate"
           }
          ],
          "direction": "left",
          "pad": {
           "r": 10,
           "t": 70
          },
          "showactive": false,
          "type": "buttons",
          "x": 0.1,
          "xanchor": "right",
          "y": 0,
          "yanchor": "top"
         }
        ],
        "width": 1000,
        "xaxis": {
         "anchor": "y",
         "domain": [
          0,
          1
         ],
         "title": {
          "text": "avg_years_of_schooling"
         }
        },
        "yaxis": {
         "anchor": "x",
         "domain": [
          0,
          1
         ],
         "title": {
          "text": "Both sexes"
         }
        }
       }
      }
     },
     "metadata": {},
     "output_type": "display_data"
    }
   ],
   "source": [
    "import plotly.express as px\n",
    "px.scatter(final_df_2, x='avg_years_of_schooling', y='Both sexes',\n",
    "           size='Both sexes', size_max=30, color='Continent', animation_frame='Year', animation_group=\"Country\",\n",
    "           template='simple_white', width=1000, height=700,hover_name='Country')\n"
   ]
  },
  {
   "cell_type": "code",
   "execution_count": 88,
   "metadata": {},
   "outputs": [
    {
     "data": {
      "application/vnd.plotly.v1+json": {
       "config": {
        "plotlyServerURL": "https://plot.ly"
       },
       "data": [
        {
         "hovertemplate": "<b>%{hovertext}</b><br><br>Continent=Europe<br>Year=2000<br>avg_years_of_schooling=%{x}<br>suicides_per_100k=%{y}<br>Both sexes=%{marker.size}<extra></extra>",
         "hovertext": [
          "Albania",
          "Netherlands",
          "Norway",
          "Bulgaria",
          "Poland",
          "Portugal",
          "Romania",
          "Serbia",
          "Belarus",
          "Slovakia",
          "Slovenia",
          "Spain",
          "Belgium",
          "Austria",
          "Malta",
          "Germany",
          "France",
          "Greece",
          "Finland",
          "Hungary",
          "Estonia",
          "Iceland",
          "Ireland",
          "Italy",
          "Denmark",
          "Latvia",
          "Lithuania",
          "Croatia",
          "Luxembourg",
          "Sweden",
          "Switzerland",
          "Ukraine"
         ],
         "ids": [
          "Albania",
          "Netherlands",
          "Norway",
          "Bulgaria",
          "Poland",
          "Portugal",
          "Romania",
          "Serbia",
          "Belarus",
          "Slovakia",
          "Slovenia",
          "Spain",
          "Belgium",
          "Austria",
          "Malta",
          "Germany",
          "France",
          "Greece",
          "Finland",
          "Hungary",
          "Estonia",
          "Iceland",
          "Ireland",
          "Italy",
          "Denmark",
          "Latvia",
          "Lithuania",
          "Croatia",
          "Luxembourg",
          "Sweden",
          "Switzerland",
          "Ukraine"
         ],
         "legendgroup": "Europe",
         "marker": {
          "color": "#1F77B4",
          "size": [
           106,
           83,
           84,
           163,
           152,
           110,
           175,
           141,
           247,
           147,
           122,
           84,
           99,
           94,
           70,
           95,
           99,
           82,
           104,
           193,
           216,
           76,
           93,
           75,
           100,
           217,
           200,
           133,
           90,
           72,
           78,
           258
          ],
          "sizemode": "area",
          "sizeref": 0.53,
          "symbol": "circle"
         },
         "mode": "markers",
         "name": "Europe",
         "orientation": "v",
         "showlegend": true,
         "type": "scatter",
         "x": [
          8.8,
          10.8,
          12,
          9.5,
          11.1,
          6.8,
          9.9,
          9.4,
          8.9,
          10.3,
          11.6,
          8.4,
          10,
          9,
          8.1,
          11.2,
          9.8,
          8.6,
          9.3,
          10.2,
          11.7,
          9.4,
          10.8,
          8.6,
          10.7,
          9.5,
          10.7,
          9.4,
          10.3,
          11.4,
          11.4,
          10.7
         ],
         "xaxis": "x",
         "y": [
          30.7,
          118.99,
          150.32999999999998,
          259.21999999999997,
          191.01000000000002,
          85.88,
          159.19,
          324.16,
          447.3,
          180.07999999999998,
          404.12,
          122.21000000000001,
          267.8,
          289.77,
          78.05,
          185.55,
          257.23,
          44.86,
          265.65,
          464.56,
          364.64,
          207.99,
          142.36,
          99.22,
          181.07,
          453.2,
          571.8000000000001,
          322.75,
          222.64,
          162.5,
          266.2,
          377.19
         ],
         "yaxis": "y"
        },
        {
         "hovertemplate": "<b>%{hovertext}</b><br><br>Continent=South America<br>Year=2000<br>avg_years_of_schooling=%{x}<br>suicides_per_100k=%{y}<br>Both sexes=%{marker.size}<extra></extra>",
         "hovertext": [
          "Chile",
          "Paraguay",
          "Brazil",
          "Colombia",
          "Ecuador",
          "Argentina",
          "Uruguay"
         ],
         "ids": [
          "Chile",
          "Paraguay",
          "Brazil",
          "Colombia",
          "Ecuador",
          "Argentina",
          "Uruguay"
         ],
         "legendgroup": "South America",
         "marker": {
          "color": "#FF7F0E",
          "size": [
           103,
           171,
           184,
           171,
           160,
           139,
           134
          ],
          "sizemode": "area",
          "sizeref": 0.53,
          "symbol": "circle"
         },
         "mode": "markers",
         "name": "South America",
         "orientation": "v",
         "showlegend": true,
         "type": "scatter",
         "x": [
          8.8,
          5.9,
          5.6,
          6.5,
          7,
          9.1,
          8
         ],
         "xaxis": "x",
         "y": [
          149.18,
          42.78,
          68.23,
          89.78,
          57.17,
          131.39,
          274.27
         ],
         "yaxis": "y"
        },
        {
         "hovertemplate": "<b>%{hovertext}</b><br><br>Continent=Oceania<br>Year=2000<br>avg_years_of_schooling=%{x}<br>suicides_per_100k=%{y}<br>Both sexes=%{marker.size}<extra></extra>",
         "hovertext": [
          "New Zealand",
          "Kiribati",
          "Australia"
         ],
         "ids": [
          "New Zealand",
          "Kiribati",
          "Australia"
         ],
         "legendgroup": "Oceania",
         "marker": {
          "color": "#2CA02C",
          "size": [
           86,
           222,
           77
          ],
          "sizemode": "area",
          "sizeref": 0.53,
          "symbol": "circle"
         },
         "mode": "markers",
         "name": "Oceania",
         "orientation": "v",
         "showlegend": true,
         "type": "scatter",
         "x": [
          11.6,
          6.8,
          11.9
         ],
         "xaxis": "x",
         "y": [
          157.54,
          0,
          157.82
         ],
         "yaxis": "y"
        },
        {
         "hovertemplate": "<b>%{hovertext}</b><br><br>Continent=North America<br>Year=2000<br>avg_years_of_schooling=%{x}<br>suicides_per_100k=%{y}<br>Both sexes=%{marker.size}<extra></extra>",
         "hovertext": [
          "Canada",
          "Panama",
          "Belize",
          "Mexico",
          "Saint Lucia",
          "Barbados",
          "Bahamas",
          "Guatemala",
          "El Salvador",
          "Jamaica",
          "Cuba",
          "Costa Rica",
          "Antigua and Barbuda",
          "Trinidad and Tobago"
         ],
         "ids": [
          "Canada",
          "Panama",
          "Belize",
          "Mexico",
          "Saint Lucia",
          "Barbados",
          "Bahamas",
          "Guatemala",
          "El Salvador",
          "Jamaica",
          "Cuba",
          "Costa Rica",
          "Antigua and Barbuda",
          "Trinidad and Tobago"
         ],
         "legendgroup": "North America",
         "marker": {
          "color": "#D62728",
          "size": [
           81,
           120,
           198,
           138,
           186,
           128,
           202,
           220,
           218,
           173,
           121,
           100,
           157,
           202
          ],
          "sizemode": "area",
          "sizeref": 0.53,
          "symbol": "circle"
         },
         "mode": "markers",
         "name": "North America",
         "orientation": "v",
         "showlegend": true,
         "type": "scatter",
         "x": [
          11,
          8.5,
          10.1,
          6.7,
          7,
          9,
          10.9,
          3.7,
          5.2,
          7.3,
          9.6,
          8,
          7,
          9.2
         ],
         "xaxis": "x",
         "y": [
          139,
          85.58,
          160.8,
          54.89,
          197.86,
          37.13,
          40.66,
          27.419999999999998,
          110.55,
          1.16,
          272.77,
          88.29,
          39.97,
          198.32
         ],
         "yaxis": "y"
        },
        {
         "hovertemplate": "<b>%{hovertext}</b><br><br>Continent=Asia<br>Year=2000<br>avg_years_of_schooling=%{x}<br>suicides_per_100k=%{y}<br>Both sexes=%{marker.size}<extra></extra>",
         "hovertext": [
          "Philippines",
          "Singapore",
          "Bahrain",
          "Azerbaijan",
          "Sri Lanka",
          "Israel",
          "Kazakhstan",
          "Kuwait",
          "Cyprus",
          "Kyrgyzstan",
          "Maldives",
          "Japan",
          "Georgia",
          "Thailand",
          "Armenia",
          "Uzbekistan"
         ],
         "ids": [
          "Philippines",
          "Singapore",
          "Bahrain",
          "Azerbaijan",
          "Sri Lanka",
          "Israel",
          "Kazakhstan",
          "Kuwait",
          "Cyprus",
          "Kyrgyzstan",
          "Maldives",
          "Japan",
          "Georgia",
          "Thailand",
          "Armenia",
          "Uzbekistan"
         ],
         "legendgroup": "Asia",
         "marker": {
          "color": "#9467BD",
          "size": [
           213,
           79,
           101,
           161,
           171,
           80,
           287,
           94,
           80,
           228,
           142,
           72,
           129,
           204,
           143,
           183
          ],
          "sizemode": "area",
          "sizeref": 0.53,
          "symbol": "circle"
         },
         "mode": "markers",
         "name": "Asia",
         "orientation": "v",
         "showlegend": true,
         "type": "scatter",
         "x": [
          7.6,
          8.9,
          8.3,
          10.6,
          10,
          12,
          10.5,
          6.2,
          10,
          9.8,
          3,
          10.7,
          11.7,
          6.1,
          10.8,
          9.1
         ],
         "xaxis": "x",
         "y": [
          32.21,
          164.34,
          32.730000000000004,
          14.41,
          427.29,
          108.56,
          426.05,
          15.23,
          8.36,
          182.63,
          0,
          278.52,
          46.64,
          106.1,
          34.300000000000004,
          120.31
         ],
         "yaxis": "y"
        },
        {
         "hovertemplate": "<b>%{hovertext}</b><br><br>Continent=Africa<br>Year=2000<br>avg_years_of_schooling=%{x}<br>suicides_per_100k=%{y}<br>Both sexes=%{marker.size}<extra></extra>",
         "hovertext": [
          "South Africa",
          "Mauritius"
         ],
         "ids": [
          "South Africa",
          "Mauritius"
         ],
         "legendgroup": "Africa",
         "marker": {
          "color": "#8C564B",
          "size": [
           362,
           172
          ],
          "sizemode": "area",
          "sizeref": 0.53,
          "symbol": "circle"
         },
         "mode": "markers",
         "name": "Africa",
         "orientation": "v",
         "showlegend": true,
         "type": "scatter",
         "x": [
          8.8,
          6.2
         ],
         "xaxis": "x",
         "y": [
          9.54,
          140.82
         ],
         "yaxis": "y"
        }
       ],
       "frames": [
        {
         "data": [
          {
           "hovertemplate": "<b>%{hovertext}</b><br><br>Continent=Europe<br>Year=2000<br>avg_years_of_schooling=%{x}<br>suicides_per_100k=%{y}<br>Both sexes=%{marker.size}<extra></extra>",
           "hovertext": [
            "Albania",
            "Netherlands",
            "Norway",
            "Bulgaria",
            "Poland",
            "Portugal",
            "Romania",
            "Serbia",
            "Belarus",
            "Slovakia",
            "Slovenia",
            "Spain",
            "Belgium",
            "Austria",
            "Malta",
            "Germany",
            "France",
            "Greece",
            "Finland",
            "Hungary",
            "Estonia",
            "Iceland",
            "Ireland",
            "Italy",
            "Denmark",
            "Latvia",
            "Lithuania",
            "Croatia",
            "Luxembourg",
            "Sweden",
            "Switzerland",
            "Ukraine"
           ],
           "ids": [
            "Albania",
            "Netherlands",
            "Norway",
            "Bulgaria",
            "Poland",
            "Portugal",
            "Romania",
            "Serbia",
            "Belarus",
            "Slovakia",
            "Slovenia",
            "Spain",
            "Belgium",
            "Austria",
            "Malta",
            "Germany",
            "France",
            "Greece",
            "Finland",
            "Hungary",
            "Estonia",
            "Iceland",
            "Ireland",
            "Italy",
            "Denmark",
            "Latvia",
            "Lithuania",
            "Croatia",
            "Luxembourg",
            "Sweden",
            "Switzerland",
            "Ukraine"
           ],
           "legendgroup": "Europe",
           "marker": {
            "color": "#1F77B4",
            "size": [
             106,
             83,
             84,
             163,
             152,
             110,
             175,
             141,
             247,
             147,
             122,
             84,
             99,
             94,
             70,
             95,
             99,
             82,
             104,
             193,
             216,
             76,
             93,
             75,
             100,
             217,
             200,
             133,
             90,
             72,
             78,
             258
            ],
            "sizemode": "area",
            "sizeref": 0.53,
            "symbol": "circle"
           },
           "mode": "markers",
           "name": "Europe",
           "orientation": "v",
           "showlegend": true,
           "type": "scatter",
           "x": [
            8.8,
            10.8,
            12,
            9.5,
            11.1,
            6.8,
            9.9,
            9.4,
            8.9,
            10.3,
            11.6,
            8.4,
            10,
            9,
            8.1,
            11.2,
            9.8,
            8.6,
            9.3,
            10.2,
            11.7,
            9.4,
            10.8,
            8.6,
            10.7,
            9.5,
            10.7,
            9.4,
            10.3,
            11.4,
            11.4,
            10.7
           ],
           "xaxis": "x",
           "y": [
            30.7,
            118.99,
            150.32999999999998,
            259.21999999999997,
            191.01000000000002,
            85.88,
            159.19,
            324.16,
            447.3,
            180.07999999999998,
            404.12,
            122.21000000000001,
            267.8,
            289.77,
            78.05,
            185.55,
            257.23,
            44.86,
            265.65,
            464.56,
            364.64,
            207.99,
            142.36,
            99.22,
            181.07,
            453.2,
            571.8000000000001,
            322.75,
            222.64,
            162.5,
            266.2,
            377.19
           ],
           "yaxis": "y"
          },
          {
           "hovertemplate": "<b>%{hovertext}</b><br><br>Continent=South America<br>Year=2000<br>avg_years_of_schooling=%{x}<br>suicides_per_100k=%{y}<br>Both sexes=%{marker.size}<extra></extra>",
           "hovertext": [
            "Chile",
            "Paraguay",
            "Brazil",
            "Colombia",
            "Ecuador",
            "Argentina",
            "Uruguay"
           ],
           "ids": [
            "Chile",
            "Paraguay",
            "Brazil",
            "Colombia",
            "Ecuador",
            "Argentina",
            "Uruguay"
           ],
           "legendgroup": "South America",
           "marker": {
            "color": "#FF7F0E",
            "size": [
             103,
             171,
             184,
             171,
             160,
             139,
             134
            ],
            "sizemode": "area",
            "sizeref": 0.53,
            "symbol": "circle"
           },
           "mode": "markers",
           "name": "South America",
           "orientation": "v",
           "showlegend": true,
           "type": "scatter",
           "x": [
            8.8,
            5.9,
            5.6,
            6.5,
            7,
            9.1,
            8
           ],
           "xaxis": "x",
           "y": [
            149.18,
            42.78,
            68.23,
            89.78,
            57.17,
            131.39,
            274.27
           ],
           "yaxis": "y"
          },
          {
           "hovertemplate": "<b>%{hovertext}</b><br><br>Continent=Oceania<br>Year=2000<br>avg_years_of_schooling=%{x}<br>suicides_per_100k=%{y}<br>Both sexes=%{marker.size}<extra></extra>",
           "hovertext": [
            "New Zealand",
            "Kiribati",
            "Australia"
           ],
           "ids": [
            "New Zealand",
            "Kiribati",
            "Australia"
           ],
           "legendgroup": "Oceania",
           "marker": {
            "color": "#2CA02C",
            "size": [
             86,
             222,
             77
            ],
            "sizemode": "area",
            "sizeref": 0.53,
            "symbol": "circle"
           },
           "mode": "markers",
           "name": "Oceania",
           "orientation": "v",
           "showlegend": true,
           "type": "scatter",
           "x": [
            11.6,
            6.8,
            11.9
           ],
           "xaxis": "x",
           "y": [
            157.54,
            0,
            157.82
           ],
           "yaxis": "y"
          },
          {
           "hovertemplate": "<b>%{hovertext}</b><br><br>Continent=North America<br>Year=2000<br>avg_years_of_schooling=%{x}<br>suicides_per_100k=%{y}<br>Both sexes=%{marker.size}<extra></extra>",
           "hovertext": [
            "Canada",
            "Panama",
            "Belize",
            "Mexico",
            "Saint Lucia",
            "Barbados",
            "Bahamas",
            "Guatemala",
            "El Salvador",
            "Jamaica",
            "Cuba",
            "Costa Rica",
            "Antigua and Barbuda",
            "Trinidad and Tobago"
           ],
           "ids": [
            "Canada",
            "Panama",
            "Belize",
            "Mexico",
            "Saint Lucia",
            "Barbados",
            "Bahamas",
            "Guatemala",
            "El Salvador",
            "Jamaica",
            "Cuba",
            "Costa Rica",
            "Antigua and Barbuda",
            "Trinidad and Tobago"
           ],
           "legendgroup": "North America",
           "marker": {
            "color": "#D62728",
            "size": [
             81,
             120,
             198,
             138,
             186,
             128,
             202,
             220,
             218,
             173,
             121,
             100,
             157,
             202
            ],
            "sizemode": "area",
            "sizeref": 0.53,
            "symbol": "circle"
           },
           "mode": "markers",
           "name": "North America",
           "orientation": "v",
           "showlegend": true,
           "type": "scatter",
           "x": [
            11,
            8.5,
            10.1,
            6.7,
            7,
            9,
            10.9,
            3.7,
            5.2,
            7.3,
            9.6,
            8,
            7,
            9.2
           ],
           "xaxis": "x",
           "y": [
            139,
            85.58,
            160.8,
            54.89,
            197.86,
            37.13,
            40.66,
            27.419999999999998,
            110.55,
            1.16,
            272.77,
            88.29,
            39.97,
            198.32
           ],
           "yaxis": "y"
          },
          {
           "hovertemplate": "<b>%{hovertext}</b><br><br>Continent=Asia<br>Year=2000<br>avg_years_of_schooling=%{x}<br>suicides_per_100k=%{y}<br>Both sexes=%{marker.size}<extra></extra>",
           "hovertext": [
            "Philippines",
            "Singapore",
            "Bahrain",
            "Azerbaijan",
            "Sri Lanka",
            "Israel",
            "Kazakhstan",
            "Kuwait",
            "Cyprus",
            "Kyrgyzstan",
            "Maldives",
            "Japan",
            "Georgia",
            "Thailand",
            "Armenia",
            "Uzbekistan"
           ],
           "ids": [
            "Philippines",
            "Singapore",
            "Bahrain",
            "Azerbaijan",
            "Sri Lanka",
            "Israel",
            "Kazakhstan",
            "Kuwait",
            "Cyprus",
            "Kyrgyzstan",
            "Maldives",
            "Japan",
            "Georgia",
            "Thailand",
            "Armenia",
            "Uzbekistan"
           ],
           "legendgroup": "Asia",
           "marker": {
            "color": "#9467BD",
            "size": [
             213,
             79,
             101,
             161,
             171,
             80,
             287,
             94,
             80,
             228,
             142,
             72,
             129,
             204,
             143,
             183
            ],
            "sizemode": "area",
            "sizeref": 0.53,
            "symbol": "circle"
           },
           "mode": "markers",
           "name": "Asia",
           "orientation": "v",
           "showlegend": true,
           "type": "scatter",
           "x": [
            7.6,
            8.9,
            8.3,
            10.6,
            10,
            12,
            10.5,
            6.2,
            10,
            9.8,
            3,
            10.7,
            11.7,
            6.1,
            10.8,
            9.1
           ],
           "xaxis": "x",
           "y": [
            32.21,
            164.34,
            32.730000000000004,
            14.41,
            427.29,
            108.56,
            426.05,
            15.23,
            8.36,
            182.63,
            0,
            278.52,
            46.64,
            106.1,
            34.300000000000004,
            120.31
           ],
           "yaxis": "y"
          },
          {
           "hovertemplate": "<b>%{hovertext}</b><br><br>Continent=Africa<br>Year=2000<br>avg_years_of_schooling=%{x}<br>suicides_per_100k=%{y}<br>Both sexes=%{marker.size}<extra></extra>",
           "hovertext": [
            "South Africa",
            "Mauritius"
           ],
           "ids": [
            "South Africa",
            "Mauritius"
           ],
           "legendgroup": "Africa",
           "marker": {
            "color": "#8C564B",
            "size": [
             362,
             172
            ],
            "sizemode": "area",
            "sizeref": 0.53,
            "symbol": "circle"
           },
           "mode": "markers",
           "name": "Africa",
           "orientation": "v",
           "showlegend": true,
           "type": "scatter",
           "x": [
            8.8,
            6.2
           ],
           "xaxis": "x",
           "y": [
            9.54,
            140.82
           ],
           "yaxis": "y"
          }
         ],
         "name": "2000"
        },
        {
         "data": [
          {
           "hovertemplate": "<b>%{hovertext}</b><br><br>Continent=Europe<br>Year=2001<br>avg_years_of_schooling=%{x}<br>suicides_per_100k=%{y}<br>Both sexes=%{marker.size}<extra></extra>",
           "hovertext": [
            "Croatia",
            "Lithuania",
            "Latvia",
            "Sweden",
            "Belgium",
            "Serbia",
            "Denmark",
            "Belarus",
            "Bulgaria",
            "Norway",
            "Netherlands",
            "Poland",
            "Portugal",
            "Ukraine",
            "Malta",
            "Romania",
            "Luxembourg",
            "Iceland",
            "Estonia",
            "Hungary",
            "Spain",
            "Finland",
            "Greece",
            "Austria",
            "France",
            "Germany",
            "Albania",
            "Ireland",
            "Italy",
            "Slovakia",
            "Switzerland",
            "Slovenia"
           ],
           "ids": [
            "Croatia",
            "Lithuania",
            "Latvia",
            "Sweden",
            "Belgium",
            "Serbia",
            "Denmark",
            "Belarus",
            "Bulgaria",
            "Norway",
            "Netherlands",
            "Poland",
            "Portugal",
            "Ukraine",
            "Malta",
            "Romania",
            "Luxembourg",
            "Iceland",
            "Estonia",
            "Hungary",
            "Spain",
            "Finland",
            "Greece",
            "Austria",
            "France",
            "Germany",
            "Albania",
            "Ireland",
            "Italy",
            "Slovakia",
            "Switzerland",
            "Slovenia"
           ],
           "legendgroup": "Europe",
           "marker": {
            "color": "#1F77B4",
            "size": [
             129,
             214,
             229,
             72,
             98,
             134,
             100,
             255,
             159,
             81,
             82,
             147,
             109,
             254,
             69,
             179,
             90,
             73,
             224,
             185,
             83,
             99,
             81,
             90,
             99,
             92,
             100,
             88,
             73,
             145,
             75,
             123
            ],
            "sizemode": "area",
            "sizeref": 0.53,
            "symbol": "circle"
           },
           "mode": "markers",
           "name": "Europe",
           "orientation": "v",
           "showlegend": true,
           "type": "scatter",
           "x": [
            9.8,
            10.9,
            10,
            11.5,
            10.2,
            9.6,
            11.4,
            9,
            9.9,
            12.1,
            11,
            11.1,
            6.9,
            10.4,
            8.2,
            9.7,
            10.5,
            9.6,
            11.8,
            10.3,
            8.5,
            9.4,
            8.8,
            9.2,
            10,
            11.7,
            8.7,
            11,
            8.7,
            10.1,
            11.6,
            11.5
           ],
           "xaxis": "x",
           "y": [
            287.54,
            568.98,
            383.49,
            167.49,
            261.21999999999997,
            297,
            186.17,
            419.65,
            244.62,
            154.29,
            116.3,
            180.65,
            115.73,
            348.14,
            85.28999999999999,
            149.10999999999999,
            239.82,
            163.06,
            371.68,
            408.98,
            112.4,
            267.19,
            38.81,
            261.91,
            239.94,
            185.78,
            50.620000000000005,
            148.97,
            95.87,
            171.88,
            261.69,
            423.4
           ],
           "yaxis": "y"
          },
          {
           "hovertemplate": "<b>%{hovertext}</b><br><br>Continent=South America<br>Year=2001<br>avg_years_of_schooling=%{x}<br>suicides_per_100k=%{y}<br>Both sexes=%{marker.size}<extra></extra>",
           "hovertext": [
            "Argentina",
            "Paraguay",
            "Brazil",
            "Chile",
            "Colombia",
            "Uruguay",
            "Guyana",
            "Ecuador"
           ],
           "ids": [
            "Argentina",
            "Paraguay",
            "Brazil",
            "Chile",
            "Colombia",
            "Uruguay",
            "Guyana",
            "Ecuador"
           ],
           "legendgroup": "South America",
           "marker": {
            "color": "#FF7F0E",
            "size": [
             138,
             169,
             180,
             106,
             170,
             127,
             273,
             154
            ],
            "sizemode": "area",
            "sizeref": 0.53,
            "symbol": "circle"
           },
           "mode": "markers",
           "name": "South America",
           "orientation": "v",
           "showlegend": true,
           "type": "scatter",
           "x": [
            9.1,
            6.2,
            5.8,
            9,
            6.5,
            8,
            7.8,
            7
           ],
           "xaxis": "x",
           "y": [
            143.56,
            56.52,
            73.49,
            147.58,
            88.27,
            236.12,
            380.76,
            67.24
           ],
           "yaxis": "y"
          },
          {
           "hovertemplate": "<b>%{hovertext}</b><br><br>Continent=Oceania<br>Year=2001<br>avg_years_of_schooling=%{x}<br>suicides_per_100k=%{y}<br>Both sexes=%{marker.size}<extra></extra>",
           "hovertext": [
            "Kiribati",
            "New Zealand",
            "Australia",
            "Fiji"
           ],
           "ids": [
            "Kiribati",
            "New Zealand",
            "Australia",
            "Fiji"
           ],
           "legendgroup": "Oceania",
           "marker": {
            "color": "#2CA02C",
            "size": [
             219,
             83,
             74,
             221
            ],
            "sizemode": "area",
            "sizeref": 0.53,
            "symbol": "circle"
           },
           "mode": "markers",
           "name": "Oceania",
           "orientation": "v",
           "showlegend": true,
           "type": "scatter",
           "x": [
            6.9,
            11.6,
            11.9,
            9.5
           ],
           "xaxis": "x",
           "y": [
            0,
            179.9,
            158.79,
            54.95
           ],
           "yaxis": "y"
          },
          {
           "hovertemplate": "<b>%{hovertext}</b><br><br>Continent=North America<br>Year=2001<br>avg_years_of_schooling=%{x}<br>suicides_per_100k=%{y}<br>Both sexes=%{marker.size}<extra></extra>",
           "hovertext": [
            "Saint Lucia",
            "Cuba",
            "Barbados",
            "Trinidad and Tobago",
            "Canada",
            "Mexico",
            "Belize",
            "Costa Rica",
            "Jamaica",
            "Bahamas",
            "Guatemala",
            "Panama",
            "El Salvador",
            "Antigua and Barbuda"
           ],
           "ids": [
            "Saint Lucia",
            "Cuba",
            "Barbados",
            "Trinidad and Tobago",
            "Canada",
            "Mexico",
            "Belize",
            "Costa Rica",
            "Jamaica",
            "Bahamas",
            "Guatemala",
            "Panama",
            "El Salvador",
            "Antigua and Barbuda"
           ],
           "legendgroup": "North America",
           "marker": {
            "color": "#D62728",
            "size": [
             181,
             119,
             127,
             204,
             79,
             135,
             203,
             101,
             175,
             204,
             214,
             120,
             222,
             154
            ],
            "sizemode": "area",
            "sizeref": 0.53,
            "symbol": "circle"
           },
           "mode": "markers",
           "name": "North America",
           "orientation": "v",
           "showlegend": true,
           "type": "scatter",
           "x": [
            7.1,
            9.7,
            9,
            9.3,
            11.2,
            6.8,
            10.1,
            8,
            7.5,
            10.9,
            3.8,
            8.6,
            5.3,
            8.9
           ],
           "xaxis": "x",
           "y": [
            59.08,
            244.51,
            8.65,
            205.33,
            137.43,
            63.3,
            151.7,
            76.03,
            2.8,
            2.68,
            30.59,
            86.77,
            129.71,
            19.45
           ],
           "yaxis": "y"
          },
          {
           "hovertemplate": "<b>%{hovertext}</b><br><br>Continent=Asia<br>Year=2001<br>avg_years_of_schooling=%{x}<br>suicides_per_100k=%{y}<br>Both sexes=%{marker.size}<extra></extra>",
           "hovertext": [
            "Kyrgyzstan",
            "Kuwait",
            "Kazakhstan",
            "Maldives",
            "Singapore",
            "Georgia",
            "Armenia",
            "Philippines",
            "Qatar",
            "Japan",
            "Sri Lanka",
            "Uzbekistan",
            "Azerbaijan",
            "Bahrain",
            "Israel"
           ],
           "ids": [
            "Kyrgyzstan",
            "Kuwait",
            "Kazakhstan",
            "Maldives",
            "Singapore",
            "Georgia",
            "Armenia",
            "Philippines",
            "Qatar",
            "Japan",
            "Sri Lanka",
            "Uzbekistan",
            "Azerbaijan",
            "Bahrain",
            "Israel"
           ],
           "legendgroup": "Asia",
           "marker": {
            "color": "#9467BD",
            "size": [
             219,
             92,
             283,
             135,
             77,
             125,
             143,
             215,
             73,
             70,
             158,
             177,
             149,
             98,
             79
            ],
            "sizemode": "area",
            "sizeref": 0.53,
            "symbol": "circle"
           },
           "mode": "markers",
           "name": "Asia",
           "orientation": "v",
           "showlegend": true,
           "type": "scatter",
           "x": [
            9.9,
            6.2,
            10.7,
            3.1,
            9.2,
            11.8,
            10.7,
            7.7,
            8,
            10.8,
            10.2,
            9.2,
            10.6,
            8.4,
            12.1
           ],
           "xaxis": "x",
           "y": [
            193.29999999999998,
            9.13,
            422.49,
            110.49,
            167.8,
            35.19,
            29.78,
            27.08,
            27.3,
            267.16,
            358.06,
            115.92,
            60.05,
            30.66,
            108.23
           ],
           "yaxis": "y"
          },
          {
           "hovertemplate": "<b>%{hovertext}</b><br><br>Continent=Africa<br>Year=2001<br>avg_years_of_schooling=%{x}<br>suicides_per_100k=%{y}<br>Both sexes=%{marker.size}<extra></extra>",
           "hovertext": [
            "Seychelles",
            "Mauritius",
            "South Africa"
           ],
           "ids": [
            "Seychelles",
            "Mauritius",
            "South Africa"
           ],
           "legendgroup": "Africa",
           "marker": {
            "color": "#8C564B",
            "size": [
             187,
             172,
             387
            ],
            "sizemode": "area",
            "sizeref": 0.53,
            "symbol": "circle"
           },
           "mode": "markers",
           "name": "Africa",
           "orientation": "v",
           "showlegend": true,
           "type": "scatter",
           "x": [
            7.5,
            6.4,
            7.5
           ],
           "xaxis": "x",
           "y": [
            87.57,
            121.83999999999999,
            12.43
           ],
           "yaxis": "y"
          }
         ],
         "name": "2001"
        },
        {
         "data": [
          {
           "hovertemplate": "<b>%{hovertext}</b><br><br>Continent=Europe<br>Year=2002<br>avg_years_of_schooling=%{x}<br>suicides_per_100k=%{y}<br>Both sexes=%{marker.size}<extra></extra>",
           "hovertext": [
            "Bulgaria",
            "Finland",
            "Netherlands",
            "Greece",
            "Germany",
            "Albania",
            "Norway",
            "Denmark",
            "France",
            "Latvia",
            "Ireland",
            "Lithuania",
            "Croatia",
            "Iceland",
            "Luxembourg",
            "Estonia",
            "Malta",
            "Hungary",
            "Italy",
            "Sweden",
            "Ukraine",
            "Belgium",
            "Poland",
            "Portugal",
            "Slovenia",
            "Switzerland",
            "Slovakia",
            "Spain",
            "Romania",
            "Serbia",
            "Belarus",
            "Austria"
           ],
           "ids": [
            "Bulgaria",
            "Finland",
            "Netherlands",
            "Greece",
            "Germany",
            "Albania",
            "Norway",
            "Denmark",
            "France",
            "Latvia",
            "Ireland",
            "Lithuania",
            "Croatia",
            "Iceland",
            "Luxembourg",
            "Estonia",
            "Malta",
            "Hungary",
            "Italy",
            "Sweden",
            "Ukraine",
            "Belgium",
            "Poland",
            "Portugal",
            "Slovenia",
            "Switzerland",
            "Slovakia",
            "Spain",
            "Romania",
            "Serbia",
            "Belarus",
            "Austria"
           ],
           "legendgroup": "Europe",
           "marker": {
            "color": "#1F77B4",
            "size": [
             156,
             97,
             81,
             79,
             91,
             102,
             80,
             101,
             98,
             221,
             86,
             207,
             124,
             66,
             87,
             210,
             68,
             184,
             71,
             70,
             257,
             97,
             143,
             107,
             117,
             73,
             144,
             82,
             178,
             131,
             264,
             87
            ],
            "sizemode": "area",
            "sizeref": 0.53,
            "symbol": "circle"
           },
           "mode": "markers",
           "name": "Europe",
           "orientation": "v",
           "showlegend": true,
           "type": "scatter",
           "x": [
            10,
            9.5,
            11.1,
            9.1,
            12.1,
            9,
            12.1,
            12.1,
            10.1,
            10.6,
            11.2,
            11.1,
            9.8,
            9.7,
            10.7,
            11.9,
            8.3,
            10.3,
            8.8,
            11.6,
            10.5,
            10.3,
            11.4,
            7,
            11.5,
            11.7,
            10.3,
            8.5,
            9.6,
            9.7,
            9.1,
            9.4
           ],
           "xaxis": "x",
           "y": [
            247.35,
            255.51999999999998,
            119.73,
            38.35,
            183.96,
            62.51,
            141,
            176.51,
            238.64000000000001,
            367.76,
            135.82,
            555.62,
            304.12,
            131.24,
            264.14,
            358.3,
            55.28,
            382.75,
            94.61,
            162.71,
            344.05,
            247.85999999999999,
            183.27,
            171.82999999999998,
            354.3,
            273.7,
            191.77,
            115.64,
            173.6,
            295.91,
            411,
            276.92
           ],
           "yaxis": "y"
          },
          {
           "hovertemplate": "<b>%{hovertext}</b><br><br>Continent=South America<br>Year=2002<br>avg_years_of_schooling=%{x}<br>suicides_per_100k=%{y}<br>Both sexes=%{marker.size}<extra></extra>",
           "hovertext": [
            "Ecuador",
            "Chile",
            "Uruguay",
            "Argentina",
            "Colombia",
            "Guyana",
            "Brazil",
            "Paraguay"
           ],
           "ids": [
            "Ecuador",
            "Chile",
            "Uruguay",
            "Argentina",
            "Colombia",
            "Guyana",
            "Brazil",
            "Paraguay"
           ],
           "legendgroup": "South America",
           "marker": {
            "color": "#FF7F0E",
            "size": [
             153,
             100,
             129,
             137,
             169,
             280,
             176,
             167
            ],
            "sizemode": "area",
            "sizeref": 0.53,
            "symbol": "circle"
           },
           "mode": "markers",
           "name": "South America",
           "orientation": "v",
           "showlegend": true,
           "type": "scatter",
           "x": [
            7.1,
            9.2,
            8,
            9.2,
            6.5,
            7.8,
            6,
            6.5
           ],
           "xaxis": "x",
           "y": [
            61.42,
            149.28,
            331.69,
            139.42000000000002,
            81.38,
            311.93,
            69.77,
            43.45
           ],
           "yaxis": "y"
          },
          {
           "hovertemplate": "<b>%{hovertext}</b><br><br>Continent=Oceania<br>Year=2002<br>avg_years_of_schooling=%{x}<br>suicides_per_100k=%{y}<br>Both sexes=%{marker.size}<extra></extra>",
           "hovertext": [
            "New Zealand",
            "Fiji",
            "Australia"
           ],
           "ids": [
            "New Zealand",
            "Fiji",
            "Australia"
           ],
           "legendgroup": "Oceania",
           "marker": {
            "color": "#2CA02C",
            "size": [
             82,
             220,
             72
            ],
            "sizemode": "area",
            "sizeref": 0.53,
            "symbol": "circle"
           },
           "mode": "markers",
           "name": "Oceania",
           "orientation": "v",
           "showlegend": true,
           "type": "scatter",
           "x": [
            11.6,
            9.4,
            11.8
           ],
           "xaxis": "x",
           "y": [
            152.03,
            110.54,
            144.68
           ],
           "yaxis": "y"
          },
          {
           "hovertemplate": "<b>%{hovertext}</b><br><br>Continent=North America<br>Year=2002<br>avg_years_of_schooling=%{x}<br>suicides_per_100k=%{y}<br>Both sexes=%{marker.size}<extra></extra>",
           "hovertext": [
            "Trinidad and Tobago",
            "Antigua and Barbuda",
            "Guatemala",
            "Grenada",
            "Canada",
            "Mexico",
            "El Salvador",
            "Cuba",
            "Costa Rica",
            "Jamaica",
            "Belize",
            "Panama",
            "Bahamas",
            "Barbados",
            "Saint Lucia"
           ],
           "ids": [
            "Trinidad and Tobago",
            "Antigua and Barbuda",
            "Guatemala",
            "Grenada",
            "Canada",
            "Mexico",
            "El Salvador",
            "Cuba",
            "Costa Rica",
            "Jamaica",
            "Belize",
            "Panama",
            "Bahamas",
            "Barbados",
            "Saint Lucia"
           ],
           "legendgroup": "North America",
           "marker": {
            "color": "#D62728",
            "size": [
             195,
             149,
             206,
             175,
             78,
             136,
             213,
             112,
             100,
             171,
             200,
             120,
             206,
             126,
             176
            ],
            "sizemode": "area",
            "sizeref": 0.53,
            "symbol": "circle"
           },
           "mode": "markers",
           "name": "North America",
           "orientation": "v",
           "showlegend": true,
           "type": "scatter",
           "x": [
            9.4,
            9,
            3.8,
            7.4,
            11.5,
            7,
            5.5,
            9.5,
            8,
            7.7,
            10.2,
            8.7,
            10.9,
            9.1,
            7.2
           ],
           "xaxis": "x",
           "y": [
            159.01,
            0,
            40.53,
            0,
            137.73,
            58.36,
            113.19,
            240.42000000000002,
            95.62,
            0.7,
            69.62,
            78.94,
            9.969999999999999,
            0,
            187.51999999999998
           ],
           "yaxis": "y"
          },
          {
           "hovertemplate": "<b>%{hovertext}</b><br><br>Continent=Asia<br>Year=2002<br>avg_years_of_schooling=%{x}<br>suicides_per_100k=%{y}<br>Both sexes=%{marker.size}<extra></extra>",
           "hovertext": [
            "Japan",
            "Kazakhstan",
            "Kyrgyzstan",
            "Israel",
            "Uzbekistan",
            "Kuwait",
            "Maldives",
            "Azerbaijan",
            "Armenia",
            "Thailand",
            "Bahrain",
            "Singapore",
            "Philippines",
            "Sri Lanka"
           ],
           "ids": [
            "Japan",
            "Kazakhstan",
            "Kyrgyzstan",
            "Israel",
            "Uzbekistan",
            "Kuwait",
            "Maldives",
            "Azerbaijan",
            "Armenia",
            "Thailand",
            "Bahrain",
            "Singapore",
            "Philippines",
            "Sri Lanka"
           ],
           "legendgroup": "Asia",
           "marker": {
            "color": "#9467BD",
            "size": [
             68,
             276,
             217,
             81,
             176,
             91,
             128,
             144,
             137,
             197,
             99,
             76,
             216,
             150
            ],
            "sizemode": "area",
            "sizeref": 0.53,
            "symbol": "circle"
           },
           "mode": "markers",
           "name": "Asia",
           "orientation": "v",
           "showlegend": true,
           "type": "scatter",
           "x": [
            10.9,
            11,
            10,
            12.1,
            9.4,
            6.1,
            3.2,
            10.6,
            10.8,
            6.5,
            8.4,
            9.5,
            7.9,
            10.2
           ],
           "xaxis": "x",
           "y": [
            265.84,
            405.89,
            173.11,
            93.49,
            95.28,
            14.56,
            9.84,
            19.419999999999998,
            38.07,
            103.12,
            27.68,
            172.39,
            28.54,
            339.41
           ],
           "yaxis": "y"
          },
          {
           "hovertemplate": "<b>%{hovertext}</b><br><br>Continent=Africa<br>Year=2002<br>avg_years_of_schooling=%{x}<br>suicides_per_100k=%{y}<br>Both sexes=%{marker.size}<extra></extra>",
           "hovertext": [
            "Mauritius",
            "Seychelles",
            "South Africa"
           ],
           "ids": [
            "Mauritius",
            "Seychelles",
            "South Africa"
           ],
           "legendgroup": "Africa",
           "marker": {
            "color": "#8C564B",
            "size": [
             173,
             185,
             412
            ],
            "sizemode": "area",
            "sizeref": 0.53,
            "symbol": "circle"
           },
           "mode": "markers",
           "name": "Africa",
           "orientation": "v",
           "showlegend": true,
           "type": "scatter",
           "x": [
            6.6,
            7.6,
            8.5
           ],
           "xaxis": "x",
           "y": [
            131.9,
            154.12,
            6.9799999999999995
           ],
           "yaxis": "y"
          }
         ],
         "name": "2002"
        },
        {
         "data": [
          {
           "hovertemplate": "<b>%{hovertext}</b><br><br>Continent=Europe<br>Year=2003<br>avg_years_of_schooling=%{x}<br>suicides_per_100k=%{y}<br>Both sexes=%{marker.size}<extra></extra>",
           "hovertext": [
            "Croatia",
            "Lithuania",
            "Latvia",
            "Denmark",
            "Belarus",
            "Serbia",
            "Switzerland",
            "Italy",
            "Sweden",
            "Germany",
            "France",
            "Albania",
            "Austria",
            "Greece",
            "Finland",
            "Spain",
            "Hungary",
            "Estonia",
            "Iceland",
            "Ireland",
            "Slovenia",
            "Slovakia",
            "Malta",
            "Netherlands",
            "Poland",
            "Portugal",
            "Montenegro",
            "Belgium",
            "Ukraine",
            "Norway",
            "Luxembourg",
            "Romania",
            "Bulgaria"
           ],
           "ids": [
            "Croatia",
            "Lithuania",
            "Latvia",
            "Denmark",
            "Belarus",
            "Serbia",
            "Switzerland",
            "Italy",
            "Sweden",
            "Germany",
            "France",
            "Albania",
            "Austria",
            "Greece",
            "Finland",
            "Spain",
            "Hungary",
            "Estonia",
            "Iceland",
            "Ireland",
            "Slovenia",
            "Slovakia",
            "Malta",
            "Netherlands",
            "Poland",
            "Portugal",
            "Montenegro",
            "Belgium",
            "Ukraine",
            "Norway",
            "Luxembourg",
            "Romania",
            "Bulgaria"
           ],
           "legendgroup": "Europe",
           "marker": {
            "color": "#1F77B4",
            "size": [
             121,
             207,
             212,
             98,
             254,
             131,
             71,
             70,
             68,
             89,
             97,
             107,
             86,
             80,
             97,
             82,
             184,
             197,
             63,
             80,
             119,
             143,
             66,
             80,
             140,
             104,
             132,
             94,
             258,
             77,
             85,
             174,
             154
            ],
            "sizemode": "area",
            "sizeref": 0.53,
            "symbol": "circle"
           },
           "mode": "markers",
           "name": "Europe",
           "orientation": "v",
           "showlegend": true,
           "type": "scatter",
           "x": [
            9.8,
            11.3,
            11.2,
            12.8,
            9.1,
            9.9,
            11.8,
            8.9,
            11.8,
            12.5,
            10.2,
            9,
            9.6,
            9.3,
            9.6,
            8.6,
            10.5,
            11.9,
            9.8,
            11.4,
            11.5,
            10.4,
            8.5,
            11.3,
            11.5,
            7.2,
            10.3,
            10.4,
            10.6,
            12.2,
            10.9,
            9.7,
            10.1
           ],
           "xaxis": "x",
           "y": [
            281.69,
            530.52,
            361.63,
            156.7,
            444.86,
            271.27,
            242.66,
            94.42,
            153.41,
            181.24,
            241.31,
            58.6,
            257.06,
            40.67,
            243.45000000000002,
            116.49,
            372.04,
            338.24,
            100.97,
            134.77,
            376.56,
            169.16,
            74.94,
            113.33,
            180.15,
            166.46,
            0,
            248.73,
            337.07,
            138.07999999999998,
            164.37,
            159.71,
            207.65
           ],
           "yaxis": "y"
          },
          {
           "hovertemplate": "<b>%{hovertext}</b><br><br>Continent=South America<br>Year=2003<br>avg_years_of_schooling=%{x}<br>suicides_per_100k=%{y}<br>Both sexes=%{marker.size}<extra></extra>",
           "hovertext": [
            "Uruguay",
            "Guyana",
            "Ecuador",
            "Argentina",
            "Brazil",
            "Chile",
            "Colombia",
            "Paraguay"
           ],
           "ids": [
            "Uruguay",
            "Guyana",
            "Ecuador",
            "Argentina",
            "Brazil",
            "Chile",
            "Colombia",
            "Paraguay"
           ],
           "legendgroup": "South America",
           "marker": {
            "color": "#FF7F0E",
            "size": [
             125,
             277,
             146,
             134,
             172,
             100,
             155,
             166
            ],
            "sizemode": "area",
            "sizeref": 0.53,
            "symbol": "circle"
           },
           "mode": "markers",
           "name": "South America",
           "orientation": "v",
           "showlegend": true,
           "type": "scatter",
           "x": [
            8,
            7.8,
            7.1,
            9.3,
            6.2,
            9.4,
            6.5,
            7
           ],
           "xaxis": "x",
           "y": [
            259.25,
            382.54,
            70.56,
            146.29,
            68.07,
            153.54,
            79.85,
            51.35
           ],
           "yaxis": "y"
          },
          {
           "hovertemplate": "<b>%{hovertext}</b><br><br>Continent=Oceania<br>Year=2003<br>avg_years_of_schooling=%{x}<br>suicides_per_100k=%{y}<br>Both sexes=%{marker.size}<extra></extra>",
           "hovertext": [
            "Fiji",
            "Australia",
            "New Zealand"
           ],
           "ids": [
            "Fiji",
            "Australia",
            "New Zealand"
           ],
           "legendgroup": "Oceania",
           "marker": {
            "color": "#2CA02C",
            "size": [
             220,
             69,
             81
            ],
            "sizemode": "area",
            "sizeref": 0.53,
            "symbol": "circle"
           },
           "mode": "markers",
           "name": "Oceania",
           "orientation": "v",
           "showlegend": true,
           "type": "scatter",
           "x": [
            9.3,
            11.8,
            11.6
           ],
           "xaxis": "x",
           "y": [
            16.12,
            133.84,
            172.35
           ],
           "yaxis": "y"
          },
          {
           "hovertemplate": "<b>%{hovertext}</b><br><br>Continent=North America<br>Year=2003<br>avg_years_of_schooling=%{x}<br>suicides_per_100k=%{y}<br>Both sexes=%{marker.size}<extra></extra>",
           "hovertext": [
            "Jamaica",
            "Saint Lucia",
            "Barbados",
            "Cuba",
            "Panama",
            "Grenada",
            "Guatemala",
            "Bahamas",
            "El Salvador",
            "Antigua and Barbuda",
            "Canada",
            "Trinidad and Tobago",
            "Mexico",
            "Belize",
            "Costa Rica"
           ],
           "ids": [
            "Jamaica",
            "Saint Lucia",
            "Barbados",
            "Cuba",
            "Panama",
            "Grenada",
            "Guatemala",
            "Bahamas",
            "El Salvador",
            "Antigua and Barbuda",
            "Canada",
            "Trinidad and Tobago",
            "Mexico",
            "Belize",
            "Costa Rica"
           ],
           "legendgroup": "North America",
           "marker": {
            "color": "#D62728",
            "size": [
             170,
             169,
             123,
             112,
             120,
             175,
             209,
             203,
             211,
             151,
             77,
             199,
             136,
             199,
             101
            ],
            "sizemode": "area",
            "sizeref": 0.53,
            "symbol": "circle"
           },
           "mode": "markers",
           "name": "North America",
           "orientation": "v",
           "showlegend": true,
           "type": "scatter",
           "x": [
            7.8,
            7.3,
            9.1,
            9.8,
            8.8,
            7.6,
            3.7,
            10.9,
            5.7,
            9,
            11.7,
            9.5,
            7.1,
            10.2,
            7.9
           ],
           "xaxis": "x",
           "y": [
            0.9099999999999999,
            133.26,
            0,
            221.12,
            97.24,
            69.18,
            37.34,
            2.49,
            128.92,
            27.82,
            137.27,
            158.25,
            63,
            59,
            115.88
           ],
           "yaxis": "y"
          },
          {
           "hovertemplate": "<b>%{hovertext}</b><br><br>Continent=Asia<br>Year=2003<br>avg_years_of_schooling=%{x}<br>suicides_per_100k=%{y}<br>Both sexes=%{marker.size}<extra></extra>",
           "hovertext": [
            "Japan",
            "Kuwait",
            "Kazakhstan",
            "Kyrgyzstan",
            "Singapore",
            "Sri Lanka",
            "Uzbekistan",
            "Azerbaijan",
            "Bahrain",
            "Israel",
            "Philippines",
            "Thailand",
            "Armenia",
            "Maldives"
           ],
           "ids": [
            "Japan",
            "Kuwait",
            "Kazakhstan",
            "Kyrgyzstan",
            "Singapore",
            "Sri Lanka",
            "Uzbekistan",
            "Azerbaijan",
            "Bahrain",
            "Israel",
            "Philippines",
            "Thailand",
            "Armenia",
            "Maldives"
           ],
           "legendgroup": "Asia",
           "marker": {
            "color": "#9467BD",
            "size": [
             68,
             90,
             283,
             217,
             73,
             147,
             173,
             151,
             92,
             76,
             212,
             194,
             137,
             114
            ],
            "sizemode": "area",
            "sizeref": 0.53,
            "symbol": "circle"
           },
           "mode": "markers",
           "name": "Asia",
           "orientation": "v",
           "showlegend": true,
           "type": "scatter",
           "x": [
            11,
            6.1,
            11.2,
            10,
            9.8,
            10.2,
            9.5,
            10.6,
            8.4,
            12.2,
            8,
            6.7,
            10.8,
            3.3
           ],
           "xaxis": "x",
           "y": [
            279.40999999999997,
            16.44,
            411.71,
            137.86,
            172.74,
            352.75,
            82.06,
            27.07,
            32.39,
            97.17,
            33.41,
            91.16,
            33.43,
            15.52
           ],
           "yaxis": "y"
          },
          {
           "hovertemplate": "<b>%{hovertext}</b><br><br>Continent=Africa<br>Year=2003<br>avg_years_of_schooling=%{x}<br>suicides_per_100k=%{y}<br>Both sexes=%{marker.size}<extra></extra>",
           "hovertext": [
            "Seychelles",
            "South Africa",
            "Mauritius"
           ],
           "ids": [
            "Seychelles",
            "South Africa",
            "Mauritius"
           ],
           "legendgroup": "Africa",
           "marker": {
            "color": "#8C564B",
            "size": [
             185,
             437,
             168
            ],
            "sizemode": "area",
            "sizeref": 0.53,
            "symbol": "circle"
           },
           "mode": "markers",
           "name": "Africa",
           "orientation": "v",
           "showlegend": true,
           "type": "scatter",
           "x": [
            7.6,
            8.8,
            6.8
           ],
           "xaxis": "x",
           "y": [
            100,
            9.24,
            94.02
           ],
           "yaxis": "y"
          }
         ],
         "name": "2003"
        },
        {
         "data": [
          {
           "hovertemplate": "<b>%{hovertext}</b><br><br>Continent=Europe<br>Year=2004<br>avg_years_of_schooling=%{x}<br>suicides_per_100k=%{y}<br>Both sexes=%{marker.size}<extra></extra>",
           "hovertext": [
            "Poland",
            "Sweden",
            "Iceland",
            "Bulgaria",
            "France",
            "Montenegro",
            "Slovenia",
            "Ireland",
            "Slovakia",
            "Germany",
            "Norway",
            "Netherlands",
            "Albania",
            "Spain",
            "Finland",
            "Greece",
            "Hungary",
            "Estonia",
            "Austria",
            "Belgium",
            "Denmark",
            "Switzerland",
            "Ukraine",
            "Malta",
            "Latvia",
            "Romania",
            "Luxembourg",
            "Croatia",
            "Serbia",
            "Italy",
            "Lithuania"
           ],
           "ids": [
            "Poland",
            "Sweden",
            "Iceland",
            "Bulgaria",
            "France",
            "Montenegro",
            "Slovenia",
            "Ireland",
            "Slovakia",
            "Germany",
            "Norway",
            "Netherlands",
            "Albania",
            "Spain",
            "Finland",
            "Greece",
            "Hungary",
            "Estonia",
            "Austria",
            "Belgium",
            "Denmark",
            "Switzerland",
            "Ukraine",
            "Malta",
            "Latvia",
            "Romania",
            "Luxembourg",
            "Croatia",
            "Serbia",
            "Italy",
            "Lithuania"
           ],
           "legendgroup": "Europe",
           "marker": {
            "color": "#1F77B4",
            "size": [
             142,
             70,
             61,
             154,
             92,
             131,
             113,
             79,
             137,
             85,
             76,
             76,
             101,
             79,
             101,
             80,
             180,
             193,
             84,
             89,
             95,
             68,
             269,
             64,
             209,
             166,
             79,
             113,
             129,
             66,
             209
            ],
            "sizemode": "area",
            "sizeref": 0.53,
            "symbol": "circle"
           },
           "mode": "markers",
           "name": "Europe",
           "orientation": "v",
           "showlegend": true,
           "type": "scatter",
           "x": [
            11.6,
            12.3,
            9.9,
            10.1,
            10.3,
            10.4,
            12,
            11.6,
            10.6,
            12.9,
            12.7,
            11.5,
            9.1,
            8.6,
            11.9,
            9.6,
            10.6,
            12,
            9.8,
            10.5,
            12.8,
            11.9,
            10.7,
            8.6,
            11.7,
            9.9,
            11.1,
            9.7,
            10,
            9.1,
            11.5
           ],
           "xaxis": "x",
           "y": [
            187.74,
            157.41,
            168.81,
            184.12,
            232.51000000000002,
            0,
            298.48,
            129.42000000000002,
            150.9,
            172.23,
            141.37,
            111.16,
            65.39,
            112.63000000000001,
            243.95000000000002,
            40.92,
            369.46999999999997,
            299.46,
            254.04,
            231.06,
            161.78,
            242.27,
            307.05,
            85.82000000000001,
            328.38,
            151.19,
            189.54,
            302.24,
            262.51,
            91.33,
            503.37
           ],
           "yaxis": "y"
          },
          {
           "hovertemplate": "<b>%{hovertext}</b><br><br>Continent=South America<br>Year=2004<br>avg_years_of_schooling=%{x}<br>suicides_per_100k=%{y}<br>Both sexes=%{marker.size}<extra></extra>",
           "hovertext": [
            "Suriname",
            "Chile",
            "Brazil",
            "Paraguay",
            "Guyana",
            "Argentina",
            "Ecuador",
            "Uruguay",
            "Colombia"
           ],
           "ids": [
            "Suriname",
            "Chile",
            "Brazil",
            "Paraguay",
            "Guyana",
            "Argentina",
            "Ecuador",
            "Uruguay",
            "Colombia"
           ],
           "legendgroup": "South America",
           "marker": {
            "color": "#FF7F0E",
            "size": [
             216,
             98,
             169,
             165,
             270,
             128,
             145,
             125,
             152
            ],
            "sizemode": "area",
            "sizeref": 0.53,
            "symbol": "circle"
           },
           "mode": "markers",
           "name": "South America",
           "orientation": "v",
           "showlegend": true,
           "type": "scatter",
           "x": [
            7.7,
            9.6,
            6.2,
            7.1,
            7.9,
            9.2,
            7.2,
            8,
            6.6
           ],
           "xaxis": "x",
           "y": [
            202.1,
            155.69,
            70.22,
            65.44,
            400,
            131.06,
            84.39,
            258.49,
            84.25
           ],
           "yaxis": "y"
          },
          {
           "hovertemplate": "<b>%{hovertext}</b><br><br>Continent=Oceania<br>Year=2004<br>avg_years_of_schooling=%{x}<br>suicides_per_100k=%{y}<br>Both sexes=%{marker.size}<extra></extra>",
           "hovertext": [
            "Australia",
            "New Zealand",
            "Fiji"
           ],
           "ids": [
            "Australia",
            "New Zealand",
            "Fiji"
           ],
           "legendgroup": "Oceania",
           "marker": {
            "color": "#2CA02C",
            "size": [
             67,
             79,
             218
            ],
            "sizemode": "area",
            "sizeref": 0.53,
            "symbol": "circle"
           },
           "mode": "markers",
           "name": "Oceania",
           "orientation": "v",
           "showlegend": true,
           "type": "scatter",
           "x": [
            11.8,
            11.6,
            9.3
           ],
           "xaxis": "x",
           "y": [
            133.76,
            163.41,
            90.49000000000001
           ],
           "yaxis": "y"
          },
          {
           "hovertemplate": "<b>%{hovertext}</b><br><br>Continent=North America<br>Year=2004<br>avg_years_of_schooling=%{x}<br>suicides_per_100k=%{y}<br>Both sexes=%{marker.size}<extra></extra>",
           "hovertext": [
            "Bahamas",
            "El Salvador",
            "Panama",
            "Mexico",
            "Guatemala",
            "Grenada",
            "Canada",
            "Trinidad and Tobago",
            "Barbados",
            "Saint Lucia",
            "Antigua and Barbuda",
            "Belize",
            "Costa Rica",
            "Cuba",
            "Jamaica"
           ],
           "ids": [
            "Bahamas",
            "El Salvador",
            "Panama",
            "Mexico",
            "Guatemala",
            "Grenada",
            "Canada",
            "Trinidad and Tobago",
            "Barbados",
            "Saint Lucia",
            "Antigua and Barbuda",
            "Belize",
            "Costa Rica",
            "Cuba",
            "Jamaica"
           ],
           "legendgroup": "North America",
           "marker": {
            "color": "#D62728",
            "size": [
             187,
             209,
             117,
             132,
             206,
             186,
             76,
             196,
             116,
             162,
             153,
             195,
             102,
             109,
             168
            ],
            "sizemode": "area",
            "sizeref": 0.53,
            "symbol": "circle"
           },
           "mode": "markers",
           "name": "North America",
           "orientation": "v",
           "showlegend": true,
           "type": "scatter",
           "x": [
            10.9,
            5.8,
            8.9,
            7.4,
            3.6,
            7.7,
            12,
            9.8,
            9.2,
            7.4,
            9.1,
            10.3,
            7.9,
            9.8,
            8
           ],
           "xaxis": "x",
           "y": [
            5.93,
            111.56,
            81.76,
            60.75,
            29.93,
            13.37,
            131.66,
            188.28,
            7.79,
            66.17,
            36.06,
            117.38,
            100.72,
            216.12,
            0.74
           ],
           "yaxis": "y"
          },
          {
           "hovertemplate": "<b>%{hovertext}</b><br><br>Continent=Asia<br>Year=2004<br>avg_years_of_schooling=%{x}<br>suicides_per_100k=%{y}<br>Both sexes=%{marker.size}<extra></extra>",
           "hovertext": [
            "Georgia",
            "Israel",
            "Azerbaijan",
            "Uzbekistan",
            "Kuwait",
            "Japan",
            "Maldives",
            "Qatar",
            "Kazakhstan",
            "Cyprus",
            "Bahrain",
            "Kyrgyzstan",
            "Singapore",
            "Thailand"
           ],
           "ids": [
            "Georgia",
            "Israel",
            "Azerbaijan",
            "Uzbekistan",
            "Kuwait",
            "Japan",
            "Maldives",
            "Qatar",
            "Kazakhstan",
            "Cyprus",
            "Bahrain",
            "Kyrgyzstan",
            "Singapore",
            "Thailand"
           ],
           "legendgroup": "Asia",
           "marker": {
            "color": "#9467BD",
            "size": [
             148,
             73,
             151,
             174,
             89,
             67,
             118,
             69,
             289,
             74,
             94,
             217,
             73,
             194
            ],
            "sizemode": "area",
            "sizeref": 0.53,
            "symbol": "circle"
           },
           "mode": "markers",
           "name": "Asia",
           "orientation": "v",
           "showlegend": true,
           "type": "scatter",
           "x": [
            12,
            12.2,
            10.6,
            9.7,
            6.1,
            11.1,
            3.4,
            8.4,
            11.5,
            10.5,
            8.4,
            10.1,
            10.2,
            6.8
           ],
           "xaxis": "x",
           "y": [
            66.54,
            98.44,
            18.33,
            68.03999999999999,
            17.26,
            266.25,
            3.74,
            15.25,
            413.86,
            9.17,
            54.21,
            141.33,
            167.48,
            86.06
           ],
           "yaxis": "y"
          },
          {
           "hovertemplate": "<b>%{hovertext}</b><br><br>Continent=Africa<br>Year=2004<br>avg_years_of_schooling=%{x}<br>suicides_per_100k=%{y}<br>Both sexes=%{marker.size}<extra></extra>",
           "hovertext": [
            "South Africa",
            "Seychelles",
            "Mauritius"
           ],
           "ids": [
            "South Africa",
            "Seychelles",
            "Mauritius"
           ],
           "legendgroup": "Africa",
           "marker": {
            "color": "#8C564B",
            "size": [
             459,
             186,
             164
            ],
            "sizemode": "area",
            "sizeref": 0.53,
            "symbol": "circle"
           },
           "mode": "markers",
           "name": "Africa",
           "orientation": "v",
           "showlegend": true,
           "type": "scatter",
           "x": [
            8.8,
            7.7,
            7
           ],
           "xaxis": "x",
           "y": [
            12.63,
            63.27,
            100.99
           ],
           "yaxis": "y"
          }
         ],
         "name": "2004"
        },
        {
         "data": [
          {
           "hovertemplate": "<b>%{hovertext}</b><br><br>Continent=Europe<br>Year=2005<br>avg_years_of_schooling=%{x}<br>suicides_per_100k=%{y}<br>Both sexes=%{marker.size}<extra></extra>",
           "hovertext": [
            "Ukraine",
            "Poland",
            "Norway",
            "Switzerland",
            "Romania",
            "Latvia",
            "Spain",
            "Germany",
            "Luxembourg",
            "Lithuania",
            "Greece",
            "Sweden",
            "Ireland",
            "Italy",
            "Slovenia",
            "Iceland",
            "Malta",
            "Montenegro",
            "Hungary",
            "Netherlands",
            "Serbia",
            "Slovakia",
            "Albania",
            "Croatia",
            "Belgium",
            "Estonia",
            "Finland",
            "Bulgaria",
            "France",
            "Denmark",
            "Austria"
           ],
           "ids": [
            "Ukraine",
            "Poland",
            "Norway",
            "Switzerland",
            "Romania",
            "Latvia",
            "Spain",
            "Germany",
            "Luxembourg",
            "Lithuania",
            "Greece",
            "Sweden",
            "Ireland",
            "Italy",
            "Slovenia",
            "Iceland",
            "Malta",
            "Montenegro",
            "Hungary",
            "Netherlands",
            "Serbia",
            "Slovakia",
            "Albania",
            "Croatia",
            "Belgium",
            "Estonia",
            "Finland",
            "Bulgaria",
            "France",
            "Denmark",
            "Austria"
           ],
           "legendgroup": "Europe",
           "marker": {
            "color": "#1F77B4",
            "size": [
             280,
             144,
             72,
             66,
             162,
             220,
             76,
             84,
             81,
             228,
             79,
             66,
             75,
             65,
             104,
             61,
             63,
             130,
             182,
             72,
             128,
             140,
             106,
             116,
             88,
             187,
             100,
             156,
             92,
             89,
             84
            ],
            "sizemode": "area",
            "sizeref": 0.53,
            "symbol": "circle"
           },
           "mode": "markers",
           "name": "Europe",
           "orientation": "v",
           "showlegend": true,
           "type": "scatter",
           "x": [
            11.2,
            11.6,
            12.4,
            12,
            10.1,
            12.1,
            8.9,
            13.3,
            11.3,
            11.8,
            9.8,
            12.4,
            11.7,
            9.2,
            11.7,
            10,
            9.8,
            10.5,
            10.9,
            11.6,
            10.2,
            10.8,
            9.1,
            9.7,
            10.7,
            12.1,
            12,
            10.2,
            10.4,
            12.8,
            9.9
           ],
           "xaxis": "x",
           "y": [
            297.18,
            186.04,
            142.09,
            246.19,
            146.01,
            312.06,
            107.66,
            161.49,
            159.07,
            485.78999999999996,
            46.53,
            164.62,
            121.11,
            82.59,
            337.40999999999997,
            115,
            67.94,
            274.48,
            352.01,
            113.28,
            286.32,
            165.37,
            0,
            269.57,
            231.75,
            256.43,
            230.52,
            178.06,
            232.09,
            164.23,
            235.25
           ],
           "yaxis": "y"
          },
          {
           "hovertemplate": "<b>%{hovertext}</b><br><br>Continent=South America<br>Year=2005<br>avg_years_of_schooling=%{x}<br>suicides_per_100k=%{y}<br>Both sexes=%{marker.size}<extra></extra>",
           "hovertext": [
            "Suriname",
            "Uruguay",
            "Guyana",
            "Paraguay",
            "Ecuador",
            "Brazil",
            "Colombia",
            "Chile",
            "Argentina"
           ],
           "ids": [
            "Suriname",
            "Uruguay",
            "Guyana",
            "Paraguay",
            "Ecuador",
            "Brazil",
            "Colombia",
            "Chile",
            "Argentina"
           ],
           "legendgroup": "South America",
           "marker": {
            "color": "#FF7F0E",
            "size": [
             207,
             125,
             267,
             164,
             149,
             162,
             144,
             95,
             125
            ],
            "sizemode": "area",
            "sizeref": 0.53,
            "symbol": "circle"
           },
           "mode": "markers",
           "name": "South America",
           "orientation": "v",
           "showlegend": true,
           "type": "scatter",
           "x": [
            7.7,
            8,
            7.9,
            7.3,
            7.3,
            6.3,
            6.8,
            9.5,
            9.1
           ],
           "xaxis": "x",
           "y": [
            211.17,
            241.31,
            333.96,
            62.81,
            96.73,
            73.6,
            74.84,
            147.43,
            128.18
           ],
           "yaxis": "y"
          },
          {
           "hovertemplate": "<b>%{hovertext}</b><br><br>Continent=Oceania<br>Year=2005<br>avg_years_of_schooling=%{x}<br>suicides_per_100k=%{y}<br>Both sexes=%{marker.size}<extra></extra>",
           "hovertext": [
            "New Zealand",
            "Fiji"
           ],
           "ids": [
            "New Zealand",
            "Fiji"
           ],
           "legendgroup": "Oceania",
           "marker": {
            "color": "#2CA02C",
            "size": [
             77,
             214
            ],
            "sizemode": "area",
            "sizeref": 0.53,
            "symbol": "circle"
           },
           "mode": "markers",
           "name": "Oceania",
           "orientation": "v",
           "showlegend": true,
           "type": "scatter",
           "x": [
            11.7,
            9.2
           ],
           "xaxis": "x",
           "y": [
            157.93,
            52.83
           ],
           "yaxis": "y"
          },
          {
           "hovertemplate": "<b>%{hovertext}</b><br><br>Continent=North America<br>Year=2005<br>avg_years_of_schooling=%{x}<br>suicides_per_100k=%{y}<br>Both sexes=%{marker.size}<extra></extra>",
           "hovertext": [
            "Saint Lucia",
            "Panama",
            "Mexico",
            "Trinidad and Tobago",
            "Guatemala",
            "Grenada",
            "Jamaica",
            "Costa Rica",
            "Barbados",
            "Antigua and Barbuda",
            "Canada",
            "Belize",
            "El Salvador",
            "Cuba",
            "Bahamas"
           ],
           "ids": [
            "Saint Lucia",
            "Panama",
            "Mexico",
            "Trinidad and Tobago",
            "Guatemala",
            "Grenada",
            "Jamaica",
            "Costa Rica",
            "Barbados",
            "Antigua and Barbuda",
            "Canada",
            "Belize",
            "El Salvador",
            "Cuba",
            "Bahamas"
           ],
           "legendgroup": "North America",
           "marker": {
            "color": "#D62728",
            "size": [
             158,
             116,
             134,
             195,
             211,
             171,
             164,
             96,
             114,
             156,
             76,
             190,
             206,
             110,
             180
            ],
            "sizemode": "area",
            "sizeref": 0.53,
            "symbol": "circle"
           },
           "mode": "markers",
           "name": "North America",
           "orientation": "v",
           "showlegend": true,
           "type": "scatter",
           "x": [
            7.5,
            9,
            7.6,
            10,
            3.5,
            7.8,
            8.1,
            7.9,
            9.2,
            9.1,
            12.2,
            10.3,
            6,
            9.9,
            10.9
           ],
           "xaxis": "x",
           "y": [
            24.82,
            77.81,
            62.22,
            144.14000000000001,
            32.61,
            160.82,
            26.169999999999998,
            78.73,
            2.58,
            0,
            133.84,
            46.1,
            115.73,
            205.94,
            13.32
           ],
           "yaxis": "y"
          },
          {
           "hovertemplate": "<b>%{hovertext}</b><br><br>Continent=Asia<br>Year=2005<br>avg_years_of_schooling=%{x}<br>suicides_per_100k=%{y}<br>Both sexes=%{marker.size}<extra></extra>",
           "hovertext": [
            "United Arab Emirates",
            "Thailand",
            "Georgia",
            "Kyrgyzstan",
            "Uzbekistan",
            "Israel",
            "Singapore",
            "Japan",
            "Kazakhstan",
            "Qatar",
            "Maldives",
            "Kuwait",
            "Bahrain",
            "Cyprus"
           ],
           "ids": [
            "United Arab Emirates",
            "Thailand",
            "Georgia",
            "Kyrgyzstan",
            "Uzbekistan",
            "Israel",
            "Singapore",
            "Japan",
            "Kazakhstan",
            "Qatar",
            "Maldives",
            "Kuwait",
            "Bahrain",
            "Cyprus"
           ],
           "legendgroup": "Asia",
           "marker": {
            "color": "#9467BD",
            "size": [
             91,
             183,
             144,
             223,
             183,
             72,
             74,
             68,
             297,
             67,
             93,
             88,
             83,
             75
            ],
            "sizemode": "area",
            "sizeref": 0.53,
            "symbol": "circle"
           },
           "mode": "markers",
           "name": "Asia",
           "orientation": "v",
           "showlegend": true,
           "type": "scatter",
           "x": [
            9.1,
            7,
            12.1,
            10.2,
            9.8,
            12.3,
            10.5,
            11.2,
            11.7,
            8.8,
            3.5,
            5.8,
            8.4,
            10.7
           ],
           "xaxis": "x",
           "y": [
            16.05,
            77.99,
            28.36,
            135.48,
            67.81,
            102.91,
            180.33,
            266.89,
            357.8,
            18.8,
            2.75,
            18.18,
            40.22,
            24.740000000000002
           ],
           "yaxis": "y"
          },
          {
           "hovertemplate": "<b>%{hovertext}</b><br><br>Continent=Africa<br>Year=2005<br>avg_years_of_schooling=%{x}<br>suicides_per_100k=%{y}<br>Both sexes=%{marker.size}<extra></extra>",
           "hovertext": [
            "South Africa",
            "Mauritius",
            "Seychelles"
           ],
           "ids": [
            "South Africa",
            "Mauritius",
            "Seychelles"
           ],
           "legendgroup": "Africa",
           "marker": {
            "color": "#8C564B",
            "size": [
             474,
             164,
             185
            ],
            "sizemode": "area",
            "sizeref": 0.53,
            "symbol": "circle"
           },
           "mode": "markers",
           "name": "Africa",
           "orientation": "v",
           "showlegend": true,
           "type": "scatter",
           "x": [
            8.9,
            7.2,
            7.7
           ],
           "xaxis": "x",
           "y": [
            15.290000000000001,
            102.51,
            71.5
           ],
           "yaxis": "y"
          }
         ],
         "name": "2005"
        },
        {
         "data": [
          {
           "hovertemplate": "<b>%{hovertext}</b><br><br>Continent=Europe<br>Year=2006<br>avg_years_of_schooling=%{x}<br>suicides_per_100k=%{y}<br>Both sexes=%{marker.size}<extra></extra>",
           "hovertext": [
            "Estonia",
            "Denmark",
            "Montenegro",
            "Netherlands",
            "Italy",
            "Bulgaria",
            "Hungary",
            "Ireland",
            "Latvia",
            "Croatia",
            "Lithuania",
            "Luxembourg",
            "Iceland",
            "Ukraine",
            "Malta",
            "Romania",
            "Serbia",
            "Greece",
            "Albania",
            "Sweden",
            "Belgium",
            "Slovakia",
            "Germany",
            "France",
            "Slovenia",
            "Austria",
            "Spain",
            "Finland",
            "Norway",
            "Switzerland",
            "Poland"
           ],
           "ids": [
            "Estonia",
            "Denmark",
            "Montenegro",
            "Netherlands",
            "Italy",
            "Bulgaria",
            "Hungary",
            "Ireland",
            "Latvia",
            "Croatia",
            "Lithuania",
            "Luxembourg",
            "Iceland",
            "Ukraine",
            "Malta",
            "Romania",
            "Serbia",
            "Greece",
            "Albania",
            "Sweden",
            "Belgium",
            "Slovakia",
            "Germany",
            "France",
            "Slovenia",
            "Austria",
            "Spain",
            "Finland",
            "Norway",
            "Switzerland",
            "Poland"
           ],
           "legendgroup": "Europe",
           "marker": {
            "color": "#1F77B4",
            "size": [
             186,
             91,
             127,
             70,
             64,
             157,
             178,
             75,
             232,
             114,
             235,
             78,
             62,
             268,
             63,
             158,
             126,
             76,
             101,
             64,
             85,
             138,
             83,
             90,
             107,
             80,
             73,
             95,
             69,
             64,
             145
            ],
            "sizemode": "area",
            "sizeref": 0.53,
            "symbol": "circle"
           },
           "mode": "markers",
           "name": "Europe",
           "orientation": "v",
           "showlegend": true,
           "type": "scatter",
           "x": [
            12.2,
            12.8,
            10.7,
            11.8,
            9.3,
            10.4,
            11.1,
            11.8,
            12.2,
            9.9,
            12,
            11.5,
            10.2,
            11.2,
            9.8,
            10.3,
            10.2,
            9.9,
            9.2,
            12.4,
            11.1,
            10.9,
            13.6,
            10.6,
            11.8,
            10.1,
            9,
            12,
            12.5,
            12.3,
            11.7
           ],
           "xaxis": "x",
           "y": [
            242.63,
            162.07999999999998,
            0,
            113.19,
            81.61,
            186.53,
            312.65999999999997,
            126.46,
            288.9,
            248.22,
            400.57,
            183.79,
            106.39,
            282.78999999999996,
            87.21000000000001,
            149.09,
            286.07,
            45.410000000000004,
            0,
            160.76,
            214.9,
            0,
            152.52,
            220.63,
            347.87,
            218.9,
            99.86999999999999,
            233.8,
            142.67,
            241.63,
            182.85
           ],
           "yaxis": "y"
          },
          {
           "hovertemplate": "<b>%{hovertext}</b><br><br>Continent=South America<br>Year=2006<br>avg_years_of_schooling=%{x}<br>suicides_per_100k=%{y}<br>Both sexes=%{marker.size}<extra></extra>",
           "hovertext": [
            "Chile",
            "Guyana",
            "Ecuador",
            "Brazil",
            "Argentina",
            "Uruguay",
            "Colombia",
            "Suriname",
            "Paraguay"
           ],
           "ids": [
            "Chile",
            "Guyana",
            "Ecuador",
            "Brazil",
            "Argentina",
            "Uruguay",
            "Colombia",
            "Suriname",
            "Paraguay"
           ],
           "legendgroup": "South America",
           "marker": {
            "color": "#FF7F0E",
            "size": [
             93,
             267,
             144,
             160,
             124,
             118,
             146,
             203,
             161
            ],
            "sizemode": "area",
            "sizeref": 0.53,
            "symbol": "circle"
           },
           "mode": "markers",
           "name": "South America",
           "orientation": "v",
           "showlegend": true,
           "type": "scatter",
           "x": [
            9.5,
            7.9,
            7.3,
            6.4,
            9,
            8,
            6.7,
            7.7,
            7.1
           ],
           "xaxis": "x",
           "y": [
            155.06,
            394.6,
            93.07,
            69.89999999999999,
            128.22,
            248.11,
            78.41,
            298.26,
            65.57000000000001
           ],
           "yaxis": "y"
          },
          {
           "hovertemplate": "<b>%{hovertext}</b><br><br>Continent=Oceania<br>Year=2006<br>avg_years_of_schooling=%{x}<br>suicides_per_100k=%{y}<br>Both sexes=%{marker.size}<extra></extra>",
           "hovertext": [
            "New Zealand",
            "Fiji",
            "Australia"
           ],
           "ids": [
            "New Zealand",
            "Fiji",
            "Australia"
           ],
           "legendgroup": "Oceania",
           "marker": {
            "color": "#2CA02C",
            "size": [
             75,
             212,
             65
            ],
            "sizemode": "area",
            "sizeref": 0.53,
            "symbol": "circle"
           },
           "mode": "markers",
           "name": "Oceania",
           "orientation": "v",
           "showlegend": true,
           "type": "scatter",
           "x": [
            11.7,
            9.3,
            11.9
           ],
           "xaxis": "x",
           "y": [
            156.74,
            30.77,
            127.89
           ],
           "yaxis": "y"
          },
          {
           "hovertemplate": "<b>%{hovertext}</b><br><br>Continent=North America<br>Year=2006<br>avg_years_of_schooling=%{x}<br>suicides_per_100k=%{y}<br>Both sexes=%{marker.size}<extra></extra>",
           "hovertext": [
            "Jamaica",
            "Canada",
            "Panama",
            "Cuba",
            "El Salvador",
            "Antigua and Barbuda",
            "Trinidad and Tobago",
            "Mexico",
            "Costa Rica",
            "Saint Lucia",
            "Barbados",
            "Guatemala",
            "Bahamas",
            "Grenada",
            "Belize"
           ],
           "ids": [
            "Jamaica",
            "Canada",
            "Panama",
            "Cuba",
            "El Salvador",
            "Antigua and Barbuda",
            "Trinidad and Tobago",
            "Mexico",
            "Costa Rica",
            "Saint Lucia",
            "Barbados",
            "Guatemala",
            "Bahamas",
            "Grenada",
            "Belize"
           ],
           "legendgroup": "North America",
           "marker": {
            "color": "#D62728",
            "size": [
             154,
             74,
             119,
             103,
             203,
             155,
             189,
             131,
             104,
             155,
             113,
             205,
             177,
             167,
             185
            ],
            "sizemode": "area",
            "sizeref": 0.53,
            "symbol": "circle"
           },
           "mode": "markers",
           "name": "North America",
           "orientation": "v",
           "showlegend": true,
           "type": "scatter",
           "x": [
            8.3,
            12.3,
            9.1,
            10.1,
            6.4,
            9.2,
            9.9,
            8,
            7.9,
            7.6,
            9.2,
            3.7,
            10.9,
            7.9,
            10.3
           ],
           "xaxis": "x",
           "y": [
            0,
            126.42999999999999,
            91.63,
            202.55,
            99.57,
            0,
            133.89000000000001,
            59.22,
            100.83,
            17.83,
            45.38,
            41.95,
            5.640000000000001,
            9.89,
            37.92
           ],
           "yaxis": "y"
          },
          {
           "hovertemplate": "<b>%{hovertext}</b><br><br>Continent=Asia<br>Year=2006<br>avg_years_of_schooling=%{x}<br>suicides_per_100k=%{y}<br>Both sexes=%{marker.size}<extra></extra>",
           "hovertext": [
            "United Arab Emirates",
            "Thailand",
            "Armenia",
            "Japan",
            "Kyrgyzstan",
            "Kuwait",
            "Cyprus",
            "Kazakhstan",
            "Israel",
            "Singapore",
            "Georgia",
            "Sri Lanka",
            "Bahrain",
            "Philippines",
            "Qatar"
           ],
           "ids": [
            "United Arab Emirates",
            "Thailand",
            "Armenia",
            "Japan",
            "Kyrgyzstan",
            "Kuwait",
            "Cyprus",
            "Kazakhstan",
            "Israel",
            "Singapore",
            "Georgia",
            "Sri Lanka",
            "Bahrain",
            "Philippines",
            "Qatar"
           ],
           "legendgroup": "Asia",
           "marker": {
            "color": "#9467BD",
            "size": [
             88,
             174,
             145,
             67,
             233,
             87,
             64,
             299,
             69,
             71,
             145,
             145,
             89,
             215,
             66
            ],
            "sizemode": "area",
            "sizeref": 0.53,
            "symbol": "circle"
           },
           "mode": "markers",
           "name": "Asia",
           "orientation": "v",
           "showlegend": true,
           "type": "scatter",
           "x": [
            9.3,
            7,
            10.9,
            11.2,
            10.2,
            6.2,
            10.9,
            11.7,
            12.1,
            10.1,
            12.1,
            10.5,
            8.4,
            8.8,
            9.2
           ],
           "xaxis": "x",
           "y": [
            16.55,
            69.04,
            43.67,
            262.24,
            145.99,
            15.83,
            27.64,
            374.73,
            80.52,
            148.75,
            23.51,
            328.73,
            27.18,
            36.66,
            87.30000000000001
           ],
           "yaxis": "y"
          },
          {
           "hovertemplate": "<b>%{hovertext}</b><br><br>Continent=Africa<br>Year=2006<br>avg_years_of_schooling=%{x}<br>suicides_per_100k=%{y}<br>Both sexes=%{marker.size}<extra></extra>",
           "hovertext": [
            "Mauritius",
            "Seychelles",
            "South Africa"
           ],
           "ids": [
            "Mauritius",
            "Seychelles",
            "South Africa"
           ],
           "legendgroup": "Africa",
           "marker": {
            "color": "#8C564B",
            "size": [
             162,
             185,
             477
            ],
            "sizemode": "area",
            "sizeref": 0.53,
            "symbol": "circle"
           },
           "mode": "markers",
           "name": "Africa",
           "orientation": "v",
           "showlegend": true,
           "type": "scatter",
           "x": [
            7.4,
            7.8,
            9
           ],
           "xaxis": "x",
           "y": [
            163.68,
            275.75,
            17.92
           ],
           "yaxis": "y"
          }
         ],
         "name": "2006"
        },
        {
         "data": [
          {
           "hovertemplate": "<b>%{hovertext}</b><br><br>Continent=Europe<br>Year=2007<br>avg_years_of_schooling=%{x}<br>suicides_per_100k=%{y}<br>Both sexes=%{marker.size}<extra></extra>",
           "hovertext": [
            "Denmark",
            "Slovakia",
            "Norway",
            "Slovenia",
            "Spain",
            "Austria",
            "Italy",
            "Ukraine",
            "Belgium",
            "Montenegro",
            "Romania",
            "Belarus",
            "Serbia",
            "Netherlands",
            "Malta",
            "Portugal",
            "Switzerland",
            "Sweden",
            "Luxembourg",
            "Lithuania",
            "Bulgaria",
            "Poland",
            "Croatia",
            "Latvia",
            "Germany",
            "France",
            "Finland",
            "Hungary",
            "Albania",
            "Greece",
            "Iceland",
            "Ireland",
            "Estonia"
           ],
           "ids": [
            "Denmark",
            "Slovakia",
            "Norway",
            "Slovenia",
            "Spain",
            "Austria",
            "Italy",
            "Ukraine",
            "Belgium",
            "Montenegro",
            "Romania",
            "Belarus",
            "Serbia",
            "Netherlands",
            "Malta",
            "Portugal",
            "Switzerland",
            "Sweden",
            "Luxembourg",
            "Lithuania",
            "Bulgaria",
            "Poland",
            "Croatia",
            "Latvia",
            "Germany",
            "France",
            "Finland",
            "Hungary",
            "Albania",
            "Greece",
            "Iceland",
            "Ireland",
            "Estonia"
           ],
           "legendgroup": "Europe",
           "marker": {
            "color": "#1F77B4",
            "size": [
             91,
             139,
             67,
             102,
             72,
             80,
             62,
             278,
             86,
             123,
             155,
             230,
             123,
             67,
             65,
             92,
             62,
             63,
             75,
             246,
             153,
             145,
             115,
             224,
             82,
             88,
             96,
             176,
             101,
             78,
             60,
             72,
             187
            ],
            "sizemode": "area",
            "sizeref": 0.53,
            "symbol": "circle"
           },
           "mode": "markers",
           "name": "Europe",
           "orientation": "v",
           "showlegend": true,
           "type": "scatter",
           "x": [
            12.5,
            11.1,
            12.6,
            11.8,
            9.1,
            11.6,
            9.4,
            11.2,
            11.1,
            10.8,
            10.5,
            10.6,
            10.2,
            12,
            9.9,
            7.7,
            12.6,
            12.5,
            11.7,
            12.1,
            10.5,
            11.8,
            10.1,
            12.3,
            13.7,
            10.7,
            12,
            11.3,
            9.2,
            10,
            10.3,
            11.9,
            12.2
           ],
           "xaxis": "x",
           "y": [
            139.96,
            0,
            127.77,
            291.45,
            98.95,
            217.31,
            81.96000000000001,
            281.12,
            208.57,
            335.53,
            136.06,
            355.89,
            258.45,
            97.44,
            73.84,
            143.55,
            255.81,
            147.39,
            183.89000000000001,
            406.79,
            173.76999999999998,
            166.47,
            243.45,
            295.75,
            146.52,
            213.69,
            223.08,
            327.32,
            65.85,
            33.91,
            163.29,
            121.77,
            265.05
           ],
           "yaxis": "y"
          },
          {
           "hovertemplate": "<b>%{hovertext}</b><br><br>Continent=South America<br>Year=2007<br>avg_years_of_schooling=%{x}<br>suicides_per_100k=%{y}<br>Both sexes=%{marker.size}<extra></extra>",
           "hovertext": [
            "Suriname",
            "Paraguay",
            "Brazil",
            "Argentina",
            "Chile",
            "Colombia",
            "Uruguay",
            "Ecuador",
            "Guyana"
           ],
           "ids": [
            "Suriname",
            "Paraguay",
            "Brazil",
            "Argentina",
            "Chile",
            "Colombia",
            "Uruguay",
            "Ecuador",
            "Guyana"
           ],
           "legendgroup": "South America",
           "marker": {
            "color": "#FF7F0E",
            "size": [
             200,
             159,
             158,
             126,
             93,
             141,
             124,
             141,
             257
            ],
            "sizemode": "area",
            "sizeref": 0.53,
            "symbol": "circle"
           },
           "mode": "markers",
           "name": "South America",
           "orientation": "v",
           "showlegend": true,
           "type": "scatter",
           "x": [
            7.7,
            7.1,
            6.5,
            8.9,
            9.4,
            7.2,
            8.2,
            7.3,
            8
           ],
           "xaxis": "x",
           "y": [
            356.14,
            62.51,
            71.68,
            118.35,
            150.92000000000002,
            74.25,
            266.31,
            95.97,
            373.75
           ],
           "yaxis": "y"
          },
          {
           "hovertemplate": "<b>%{hovertext}</b><br><br>Continent=Oceania<br>Year=2007<br>avg_years_of_schooling=%{x}<br>suicides_per_100k=%{y}<br>Both sexes=%{marker.size}<extra></extra>",
           "hovertext": [
            "Australia",
            "New Zealand",
            "Fiji"
           ],
           "ids": [
            "Australia",
            "New Zealand",
            "Fiji"
           ],
           "legendgroup": "Oceania",
           "marker": {
            "color": "#2CA02C",
            "size": [
             65,
             76,
             209
            ],
            "sizemode": "area",
            "sizeref": 0.53,
            "symbol": "circle"
           },
           "mode": "markers",
           "name": "Oceania",
           "orientation": "v",
           "showlegend": true,
           "type": "scatter",
           "x": [
            12,
            11.8,
            9.3
           ],
           "xaxis": "x",
           "y": [
            130.25,
            148.19,
            20.46
           ],
           "yaxis": "y"
          },
          {
           "hovertemplate": "<b>%{hovertext}</b><br><br>Continent=North America<br>Year=2007<br>avg_years_of_schooling=%{x}<br>suicides_per_100k=%{y}<br>Both sexes=%{marker.size}<extra></extra>",
           "hovertext": [
            "Bahamas",
            "Cuba",
            "Panama",
            "Mexico",
            "Canada",
            "Barbados",
            "Costa Rica",
            "Belize",
            "Trinidad and Tobago",
            "Guatemala",
            "Antigua and Barbuda",
            "Grenada",
            "El Salvador"
           ],
           "ids": [
            "Bahamas",
            "Cuba",
            "Panama",
            "Mexico",
            "Canada",
            "Barbados",
            "Costa Rica",
            "Belize",
            "Trinidad and Tobago",
            "Guatemala",
            "Antigua and Barbuda",
            "Grenada",
            "El Salvador"
           ],
           "legendgroup": "North America",
           "marker": {
            "color": "#D62728",
            "size": [
             171,
             102,
             119,
             129,
             74,
             112,
             91,
             181,
             188,
             191,
             149,
             164,
             200
            ],
            "sizemode": "area",
            "sizeref": 0.53,
            "symbol": "circle"
           },
           "mode": "markers",
           "name": "North America",
           "orientation": "v",
           "showlegend": true,
           "type": "scatter",
           "x": [
            10.9,
            10.4,
            9.2,
            8,
            12.4,
            9.3,
            8.1,
            10.4,
            10.5,
            3.9,
            9.2,
            8,
            5.8
           ],
           "xaxis": "x",
           "y": [
            13.42,
            188.18,
            71.9,
            58.01,
            127.45,
            0,
            75.35,
            78.49000000000001,
            143.58,
            40.27,
            7.98,
            48.34,
            127.14
           ],
           "yaxis": "y"
          },
          {
           "hovertemplate": "<b>%{hovertext}</b><br><br>Continent=Asia<br>Year=2007<br>avg_years_of_schooling=%{x}<br>suicides_per_100k=%{y}<br>Both sexes=%{marker.size}<extra></extra>",
           "hovertext": [
            "United Arab Emirates",
            "Thailand",
            "Kuwait",
            "Philippines",
            "Azerbaijan",
            "Armenia",
            "Kyrgyzstan",
            "Kazakhstan",
            "Japan",
            "Cyprus",
            "Qatar",
            "Maldives",
            "Singapore",
            "Bahrain",
            "Georgia",
            "Israel"
           ],
           "ids": [
            "United Arab Emirates",
            "Thailand",
            "Kuwait",
            "Philippines",
            "Azerbaijan",
            "Armenia",
            "Kyrgyzstan",
            "Kazakhstan",
            "Japan",
            "Cyprus",
            "Qatar",
            "Maldives",
            "Singapore",
            "Bahrain",
            "Georgia",
            "Israel"
           ],
           "legendgroup": "Asia",
           "marker": {
            "color": "#9467BD",
            "size": [
             86,
             170,
             86,
             208,
             141,
             137,
             230,
             293,
             66,
             70,
             66,
             83,
             68,
             80,
             140,
             67
            ],
            "sizemode": "area",
            "sizeref": 0.53,
            "symbol": "circle"
           },
           "mode": "markers",
           "name": "Asia",
           "orientation": "v",
           "showlegend": true,
           "type": "scatter",
           "x": [
            9.4,
            7.1,
            6.3,
            8.9,
            10.2,
            11,
            10.3,
            11.6,
            11.3,
            11.2,
            9.6,
            3.9,
            10.2,
            8.4,
            12.1,
            12.5
           ],
           "xaxis": "x",
           "y": [
            15.99,
            79.14,
            13.02,
            29.169999999999998,
            11.83,
            39.019999999999996,
            125.89,
            375.63,
            268.76,
            36.17,
            28.61,
            14.36,
            165.76,
            32.09,
            36.59,
            73.67
           ],
           "yaxis": "y"
          },
          {
           "hovertemplate": "<b>%{hovertext}</b><br><br>Continent=Africa<br>Year=2007<br>avg_years_of_schooling=%{x}<br>suicides_per_100k=%{y}<br>Both sexes=%{marker.size}<extra></extra>",
           "hovertext": [
            "South Africa",
            "Mauritius",
            "Seychelles"
           ],
           "ids": [
            "South Africa",
            "Mauritius",
            "Seychelles"
           ],
           "legendgroup": "Africa",
           "marker": {
            "color": "#8C564B",
            "size": [
             475,
             160,
             185
            ],
            "sizemode": "area",
            "sizeref": 0.53,
            "symbol": "circle"
           },
           "mode": "markers",
           "name": "Africa",
           "orientation": "v",
           "showlegend": true,
           "type": "scatter",
           "x": [
            9.1,
            7.6,
            7.9
           ],
           "xaxis": "x",
           "y": [
            12.12,
            141.45,
            147.64000000000001
           ],
           "yaxis": "y"
          }
         ],
         "name": "2007"
        },
        {
         "data": [
          {
           "hovertemplate": "<b>%{hovertext}</b><br><br>Continent=Europe<br>Year=2008<br>avg_years_of_schooling=%{x}<br>suicides_per_100k=%{y}<br>Both sexes=%{marker.size}<extra></extra>",
           "hovertext": [
            "Belgium",
            "Iceland",
            "Luxembourg",
            "Albania",
            "Belarus",
            "Croatia",
            "Latvia",
            "Serbia",
            "Greece",
            "Finland",
            "Lithuania",
            "Portugal",
            "Poland",
            "Netherlands",
            "Bulgaria",
            "Montenegro",
            "Estonia",
            "Norway",
            "Hungary",
            "Malta",
            "Ireland",
            "Switzerland",
            "Romania",
            "Germany",
            "Slovakia",
            "Ukraine",
            "Austria",
            "Denmark",
            "Spain",
            "Slovenia",
            "France",
            "Sweden",
            "Italy"
           ],
           "ids": [
            "Belgium",
            "Iceland",
            "Luxembourg",
            "Albania",
            "Belarus",
            "Croatia",
            "Latvia",
            "Serbia",
            "Greece",
            "Finland",
            "Lithuania",
            "Portugal",
            "Poland",
            "Netherlands",
            "Bulgaria",
            "Montenegro",
            "Estonia",
            "Norway",
            "Hungary",
            "Malta",
            "Ireland",
            "Switzerland",
            "Romania",
            "Germany",
            "Slovakia",
            "Ukraine",
            "Austria",
            "Denmark",
            "Spain",
            "Slovenia",
            "France",
            "Sweden",
            "Italy"
           ],
           "legendgroup": "Europe",
           "marker": {
            "color": "#1F77B4",
            "size": [
             86,
             57,
             69,
             102,
             228,
             117,
             200,
             122,
             75,
             94,
             229,
             89,
             142,
             67,
             150,
             119,
             164,
             66,
             164,
             62,
             72,
             59,
             160,
             81,
             135,
             275,
             76,
             86,
             70,
             96,
             87,
             62,
             61
            ],
            "sizemode": "area",
            "sizeref": 0.53,
            "symbol": "circle"
           },
           "mode": "markers",
           "name": "Europe",
           "orientation": "v",
           "showlegend": true,
           "type": "scatter",
           "x": [
            11,
            10.4,
            11.7,
            9.2,
            11.3,
            10.3,
            12.2,
            10.4,
            10.1,
            12.2,
            12.2,
            7.8,
            11.9,
            12,
            10.5,
            10.9,
            12.3,
            12.7,
            11.5,
            10,
            12,
            12.9,
            10.6,
            13.7,
            11.2,
            11.3,
            11.5,
            12.9,
            9.2,
            11.9,
            10.7,
            12.2,
            9.5
           ],
           "xaxis": "x",
           "y": [
            221.54,
            136.09,
            112.31,
            71.05,
            352.15999999999997,
            265.69,
            323.69,
            242.61,
            40.3,
            220.29,
            430.05,
            141.02,
            177.38,
            102.09,
            170.34,
            308.09000000000003,
            244.57,
            132.03,
            331.68,
            38.68,
            129.56,
            237.51,
            140.4,
            145.52,
            134.2,
            274.5,
            216.45,
            143.05,
            98.52,
            263.09,
            216.21,
            155.68,
            81.69
           ],
           "yaxis": "y"
          },
          {
           "hovertemplate": "<b>%{hovertext}</b><br><br>Continent=South America<br>Year=2008<br>avg_years_of_schooling=%{x}<br>suicides_per_100k=%{y}<br>Both sexes=%{marker.size}<extra></extra>",
           "hovertext": [
            "Argentina",
            "Guyana",
            "Chile",
            "Brazil",
            "Paraguay",
            "Uruguay",
            "Colombia",
            "Ecuador",
            "Suriname"
           ],
           "ids": [
            "Argentina",
            "Guyana",
            "Chile",
            "Brazil",
            "Paraguay",
            "Uruguay",
            "Colombia",
            "Ecuador",
            "Suriname"
           ],
           "legendgroup": "South America",
           "marker": {
            "color": "#FF7F0E",
            "size": [
             123,
             249,
             91,
             157,
             157,
             119,
             142,
             141,
             200
            ],
            "sizemode": "area",
            "sizeref": 0.53,
            "symbol": "circle"
           },
           "mode": "markers",
           "name": "South America",
           "orientation": "v",
           "showlegend": true,
           "type": "scatter",
           "x": [
            8.9,
            8,
            9.9,
            6.7,
            7.4,
            8.4,
            7.3,
            7.9,
            7.7
           ],
           "xaxis": "x",
           "y": [
            118.11,
            353.62,
            167.88,
            72.21,
            58.32,
            234.53,
            74.22,
            95.29,
            416.82
           ],
           "yaxis": "y"
          },
          {
           "hovertemplate": "<b>%{hovertext}</b><br><br>Continent=Oceania<br>Year=2008<br>avg_years_of_schooling=%{x}<br>suicides_per_100k=%{y}<br>Both sexes=%{marker.size}<extra></extra>",
           "hovertext": [
            "New Zealand",
            "Fiji",
            "Australia"
           ],
           "ids": [
            "New Zealand",
            "Fiji",
            "Australia"
           ],
           "legendgroup": "Oceania",
           "marker": {
            "color": "#2CA02C",
            "size": [
             74,
             206,
             64
            ],
            "sizemode": "area",
            "sizeref": 0.53,
            "symbol": "circle"
           },
           "mode": "markers",
           "name": "Oceania",
           "orientation": "v",
           "showlegend": true,
           "type": "scatter",
           "x": [
            11.8,
            9.4,
            12.3
           ],
           "xaxis": "x",
           "y": [
            151.78,
            47.48,
            130.49
           ],
           "yaxis": "y"
          },
          {
           "hovertemplate": "<b>%{hovertext}</b><br><br>Continent=North America<br>Year=2008<br>avg_years_of_schooling=%{x}<br>suicides_per_100k=%{y}<br>Both sexes=%{marker.size}<extra></extra>",
           "hovertext": [
            "Grenada",
            "Saint Lucia",
            "Antigua and Barbuda",
            "El Salvador",
            "Barbados",
            "Costa Rica",
            "Canada",
            "Mexico",
            "Panama",
            "Guatemala",
            "Trinidad and Tobago",
            "Belize",
            "Cuba",
            "Bahamas"
           ],
           "ids": [
            "Grenada",
            "Saint Lucia",
            "Antigua and Barbuda",
            "El Salvador",
            "Barbados",
            "Costa Rica",
            "Canada",
            "Mexico",
            "Panama",
            "Guatemala",
            "Trinidad and Tobago",
            "Belize",
            "Cuba",
            "Bahamas"
           ],
           "legendgroup": "North America",
           "marker": {
            "color": "#D62728",
            "size": [
             162,
             152,
             147,
             198,
             112,
             97,
             73,
             133,
             122,
             186,
             195,
             183,
             100,
             168
            ],
            "sizemode": "area",
            "sizeref": 0.53,
            "symbol": "circle"
           },
           "mode": "markers",
           "name": "North America",
           "orientation": "v",
           "showlegend": true,
           "type": "scatter",
           "x": [
            8.1,
            7.8,
            9.3,
            6.4,
            9.3,
            8.4,
            12.4,
            8,
            9.2,
            4.3,
            10.7,
            10.4,
            10.6,
            10.9
           ],
           "xaxis": "x",
           "y": [
            0,
            0,
            0,
            125.82,
            2.31,
            72.27,
            127.59,
            60.83,
            73.3,
            54.76,
            178.25,
            86.36,
            190.99,
            12.49
           ],
           "yaxis": "y"
          },
          {
           "hovertemplate": "<b>%{hovertext}</b><br><br>Continent=Asia<br>Year=2008<br>avg_years_of_schooling=%{x}<br>suicides_per_100k=%{y}<br>Both sexes=%{marker.size}<extra></extra>",
           "hovertext": [
            "Qatar",
            "United Arab Emirates",
            "Kyrgyzstan",
            "Thailand",
            "Armenia",
            "Philippines",
            "Maldives",
            "Israel",
            "Japan",
            "Kazakhstan",
            "Singapore",
            "Bahrain",
            "Cyprus",
            "Kuwait"
           ],
           "ids": [
            "Qatar",
            "United Arab Emirates",
            "Kyrgyzstan",
            "Thailand",
            "Armenia",
            "Philippines",
            "Maldives",
            "Israel",
            "Japan",
            "Kazakhstan",
            "Singapore",
            "Bahrain",
            "Cyprus",
            "Kuwait"
           ],
           "legendgroup": "Asia",
           "marker": {
            "color": "#9467BD",
            "size": [
             65,
             85,
             218,
             167,
             144,
             207,
             80,
             64,
             64,
             264,
             67,
             73,
             68,
             85
            ],
            "sizemode": "area",
            "sizeref": 0.53,
            "symbol": "circle"
           },
           "mode": "markers",
           "name": "Asia",
           "orientation": "v",
           "showlegend": true,
           "type": "scatter",
           "x": [
            9.7,
            9.6,
            10.3,
            7.3,
            11,
            9,
            4.3,
            12.6,
            11.4,
            11.5,
            10.5,
            8.4,
            11.3,
            6.5
           ],
           "xaxis": "x",
           "y": [
            13.55,
            11.86,
            135.96,
            78.18,
            35.15,
            33.05,
            0,
            87.33,
            265.32,
            366.94,
            150.25,
            27.89,
            59.07,
            11.76
           ],
           "yaxis": "y"
          },
          {
           "hovertemplate": "<b>%{hovertext}</b><br><br>Continent=Africa<br>Year=2008<br>avg_years_of_schooling=%{x}<br>suicides_per_100k=%{y}<br>Both sexes=%{marker.size}<extra></extra>",
           "hovertext": [
            "Mauritius",
            "South Africa",
            "Seychelles"
           ],
           "ids": [
            "Mauritius",
            "South Africa",
            "Seychelles"
           ],
           "legendgroup": "Africa",
           "marker": {
            "color": "#8C564B",
            "size": [
             165,
             458,
             185
            ],
            "sizemode": "area",
            "sizeref": 0.53,
            "symbol": "circle"
           },
           "mode": "markers",
           "name": "Africa",
           "orientation": "v",
           "showlegend": true,
           "type": "scatter",
           "x": [
            7.8,
            9.7,
            8
           ],
           "xaxis": "x",
           "y": [
            78.13,
            14.14,
            39.07
           ],
           "yaxis": "y"
          }
         ],
         "name": "2008"
        },
        {
         "data": [
          {
           "hovertemplate": "<b>%{hovertext}</b><br><br>Continent=Europe<br>Year=2009<br>avg_years_of_schooling=%{x}<br>suicides_per_100k=%{y}<br>Both sexes=%{marker.size}<extra></extra>",
           "hovertext": [
            "Ukraine",
            "Slovenia",
            "Malta",
            "Sweden",
            "Netherlands",
            "Italy",
            "Bulgaria",
            "Montenegro",
            "Estonia",
            "Spain",
            "Norway",
            "Denmark",
            "Hungary",
            "Austria",
            "France",
            "Poland",
            "Albania",
            "Latvia",
            "Germany",
            "Belgium",
            "Belarus",
            "Lithuania",
            "Greece",
            "Switzerland",
            "Slovakia",
            "Romania",
            "Croatia",
            "Serbia",
            "Finland",
            "Ireland",
            "Portugal",
            "Luxembourg",
            "Iceland"
           ],
           "ids": [
            "Ukraine",
            "Slovenia",
            "Malta",
            "Sweden",
            "Netherlands",
            "Italy",
            "Bulgaria",
            "Montenegro",
            "Estonia",
            "Spain",
            "Norway",
            "Denmark",
            "Hungary",
            "Austria",
            "France",
            "Poland",
            "Albania",
            "Latvia",
            "Germany",
            "Belgium",
            "Belarus",
            "Lithuania",
            "Greece",
            "Switzerland",
            "Slovakia",
            "Romania",
            "Croatia",
            "Serbia",
            "Finland",
            "Ireland",
            "Portugal",
            "Luxembourg",
            "Iceland"
           ],
           "legendgroup": "Europe",
           "marker": {
            "color": "#1F77B4",
            "size": [
             235,
             91,
             61,
             61,
             65,
             60,
             147,
             115,
             154,
             67,
             67,
             84,
             160,
             77,
             87,
             137,
             103,
             185,
             80,
             84,
             225,
             197,
             76,
             59,
             130,
             160,
             109,
             120,
             90,
             74,
             88,
             67,
             55
            ],
            "sizemode": "area",
            "sizeref": 0.53,
            "symbol": "circle"
           },
           "mode": "markers",
           "name": "Europe",
           "orientation": "v",
           "showlegend": true,
           "type": "scatter",
           "x": [
            11.3,
            12.1,
            10.2,
            12.2,
            11.9,
            9.6,
            10.6,
            11,
            12.4,
            9.3,
            12.7,
            12.7,
            11.7,
            11.7,
            10.8,
            12.1,
            9.3,
            12.3,
            13.8,
            11.1,
            11.9,
            11.5,
            10.1,
            13.3,
            11.4,
            10.6,
            10.6,
            10.4,
            12.2,
            12.1,
            7.9,
            11.8,
            10.5
           ],
           "xaxis": "x",
           "y": [
            279.26,
            268.71,
            107.12,
            160.4,
            108.3,
            81.92999999999999,
            154.42,
            275.93,
            248.67,
            98.02,
            145.74,
            144.7,
            310.72,
            213.22,
            216.24,
            197.1,
            0,
            307.8,
            145.52,
            218.35,
            375.54,
            437.07,
            40.97,
            180.13,
            139.08,
            144.02,
            254.29,
            258.43,
            228.48999999999998,
            132.63,
            139.7,
            110.95,
            123.73
           ],
           "yaxis": "y"
          },
          {
           "hovertemplate": "<b>%{hovertext}</b><br><br>Continent=South America<br>Year=2009<br>avg_years_of_schooling=%{x}<br>suicides_per_100k=%{y}<br>Both sexes=%{marker.size}<extra></extra>",
           "hovertext": [
            "Paraguay",
            "Colombia",
            "Suriname",
            "Uruguay",
            "Brazil",
            "Chile",
            "Argentina",
            "Guyana",
            "Ecuador"
           ],
           "ids": [
            "Paraguay",
            "Colombia",
            "Suriname",
            "Uruguay",
            "Brazil",
            "Chile",
            "Argentina",
            "Guyana",
            "Ecuador"
           ],
           "legendgroup": "South America",
           "marker": {
            "color": "#FF7F0E",
            "size": [
             154,
             147,
             197,
             118,
             156,
             94,
             123,
             252,
             137
            ],
            "sizemode": "area",
            "sizeref": 0.53,
            "symbol": "circle"
           },
           "mode": "markers",
           "name": "South America",
           "orientation": "v",
           "showlegend": true,
           "type": "scatter",
           "x": [
            7,
            7.3,
            7.7,
            8.4,
            6.8,
            9.9,
            9.3,
            8,
            7.9
           ],
           "xaxis": "x",
           "y": [
            67.33,
            73.83,
            369.71,
            237.75,
            70.37,
            174.29999999999998,
            107.32,
            301.78,
            94.25
           ],
           "yaxis": "y"
          },
          {
           "hovertemplate": "<b>%{hovertext}</b><br><br>Continent=Oceania<br>Year=2009<br>avg_years_of_schooling=%{x}<br>suicides_per_100k=%{y}<br>Both sexes=%{marker.size}<extra></extra>",
           "hovertext": [
            "Australia",
            "Fiji",
            "New Zealand"
           ],
           "ids": [
            "Australia",
            "Fiji",
            "New Zealand"
           ],
           "legendgroup": "Oceania",
           "marker": {
            "color": "#2CA02C",
            "size": [
             65,
             203,
             73
            ],
            "sizemode": "area",
            "sizeref": 0.53,
            "symbol": "circle"
           },
           "mode": "markers",
           "name": "Oceania",
           "orientation": "v",
           "showlegend": true,
           "type": "scatter",
           "x": [
            12.3,
            9.5,
            11.9
           ],
           "xaxis": "x",
           "y": [
            130.12,
            51.67,
            153
           ],
           "yaxis": "y"
          },
          {
           "hovertemplate": "<b>%{hovertext}</b><br><br>Continent=North America<br>Year=2009<br>avg_years_of_schooling=%{x}<br>suicides_per_100k=%{y}<br>Both sexes=%{marker.size}<extra></extra>",
           "hovertext": [
            "Trinidad and Tobago",
            "Belize",
            "Guatemala",
            "Cuba",
            "Canada",
            "Mexico",
            "Panama",
            "Jamaica",
            "Costa Rica",
            "El Salvador",
            "Bahamas",
            "Grenada",
            "Antigua and Barbuda",
            "Barbados",
            "Saint Lucia"
           ],
           "ids": [
            "Trinidad and Tobago",
            "Belize",
            "Guatemala",
            "Cuba",
            "Canada",
            "Mexico",
            "Panama",
            "Jamaica",
            "Costa Rica",
            "El Salvador",
            "Bahamas",
            "Grenada",
            "Antigua and Barbuda",
            "Barbados",
            "Saint Lucia"
           ],
           "legendgroup": "North America",
           "marker": {
            "color": "#D62728",
            "size": [
             185,
             183,
             191,
             99,
             71,
             136,
             122,
             143,
             96,
             197,
             166,
             158,
             138,
             110,
             152
            ],
            "sizemode": "area",
            "sizeref": 0.53,
            "symbol": "circle"
           },
           "mode": "markers",
           "name": "North America",
           "orientation": "v",
           "showlegend": true,
           "type": "scatter",
           "x": [
            10.7,
            10.4,
            4.6,
            10.8,
            12.5,
            8.2,
            9.3,
            8.8,
            8.4,
            6.5,
            10.9,
            8.2,
            9.3,
            9.3,
            7.9
           ],
           "xaxis": "x",
           "y": [
            120.24,
            57.76,
            57.57,
            201.32999999999998,
            130.67,
            64.14,
            68.29,
            21.13,
            77.37,
            124.12,
            15.98,
            0,
            0,
            28.8,
            82.32
           ],
           "yaxis": "y"
          },
          {
           "hovertemplate": "<b>%{hovertext}</b><br><br>Continent=Asia<br>Year=2009<br>avg_years_of_schooling=%{x}<br>suicides_per_100k=%{y}<br>Both sexes=%{marker.size}<extra></extra>",
           "hovertext": [
            "Israel",
            "Philippines",
            "Japan",
            "Armenia",
            "United Arab Emirates",
            "Thailand",
            "Georgia",
            "Oman",
            "Qatar",
            "Kyrgyzstan",
            "Kuwait",
            "Kazakhstan",
            "Uzbekistan",
            "Bahrain",
            "Turkey",
            "Singapore",
            "Cyprus"
           ],
           "ids": [
            "Israel",
            "Philippines",
            "Japan",
            "Armenia",
            "United Arab Emirates",
            "Thailand",
            "Georgia",
            "Oman",
            "Qatar",
            "Kyrgyzstan",
            "Kuwait",
            "Kazakhstan",
            "Uzbekistan",
            "Bahrain",
            "Turkey",
            "Singapore",
            "Cyprus"
           ],
           "legendgroup": "Asia",
           "marker": {
            "color": "#9467BD",
            "size": [
             61,
             207,
             63,
             142,
             83,
             164,
             156,
             108,
             65,
             204,
             85,
             240,
             149,
             69,
             118,
             62,
             68
            ],
            "sizemode": "area",
            "sizeref": 0.53,
            "symbol": "circle"
           },
           "mode": "markers",
           "name": "Asia",
           "orientation": "v",
           "showlegend": true,
           "type": "scatter",
           "x": [
            12.6,
            9,
            11.4,
            11.1,
            9.7,
            7.5,
            12.2,
            7.7,
            9.2,
            10.4,
            6.6,
            11.5,
            10.5,
            8.4,
            6.5,
            10.5,
            11.3
           ],
           "xaxis": "x",
           "y": [
            80.32,
            34.89,
            266.69,
            33.7,
            11.73,
            78.56,
            65.06,
            21.19,
            19.900000000000002,
            113.28,
            14.81,
            330.07,
            60.86,
            24.59,
            21.29,
            149.58,
            55.53
           ],
           "yaxis": "y"
          },
          {
           "hovertemplate": "<b>%{hovertext}</b><br><br>Continent=Africa<br>Year=2009<br>avg_years_of_schooling=%{x}<br>suicides_per_100k=%{y}<br>Both sexes=%{marker.size}<extra></extra>",
           "hovertext": [
            "South Africa",
            "Mauritius",
            "Seychelles"
           ],
           "ids": [
            "South Africa",
            "Mauritius",
            "Seychelles"
           ],
           "legendgroup": "Africa",
           "marker": {
            "color": "#8C564B",
            "size": [
             435,
             165,
             183
            ],
            "sizemode": "area",
            "sizeref": 0.53,
            "symbol": "circle"
           },
           "mode": "markers",
           "name": "Africa",
           "orientation": "v",
           "showlegend": true,
           "type": "scatter",
           "x": [
            10.1,
            8,
            8
           ],
           "xaxis": "x",
           "y": [
            10.71,
            106.07,
            43.81
           ],
           "yaxis": "y"
          }
         ],
         "name": "2009"
        },
        {
         "data": [
          {
           "hovertemplate": "<b>%{hovertext}</b><br><br>Continent=Europe<br>Year=2010<br>avg_years_of_schooling=%{x}<br>suicides_per_100k=%{y}<br>Both sexes=%{marker.size}<extra></extra>",
           "hovertext": [
            "Norway",
            "Greece",
            "Switzerland",
            "Spain",
            "Bulgaria",
            "Finland",
            "France",
            "Serbia",
            "Sweden",
            "Belarus",
            "Poland",
            "Albania",
            "Portugal",
            "Slovenia",
            "Belgium",
            "Slovakia",
            "Austria",
            "Romania",
            "Germany",
            "Latvia",
            "Ukraine",
            "Lithuania",
            "Iceland",
            "Malta",
            "Hungary",
            "Ireland",
            "Estonia",
            "Croatia",
            "Italy",
            "Netherlands",
            "Denmark",
            "Luxembourg"
           ],
           "ids": [
            "Norway",
            "Greece",
            "Switzerland",
            "Spain",
            "Bulgaria",
            "Finland",
            "France",
            "Serbia",
            "Sweden",
            "Belarus",
            "Poland",
            "Albania",
            "Portugal",
            "Slovenia",
            "Belgium",
            "Slovakia",
            "Austria",
            "Romania",
            "Germany",
            "Latvia",
            "Ukraine",
            "Lithuania",
            "Iceland",
            "Malta",
            "Hungary",
            "Ireland",
            "Estonia",
            "Croatia",
            "Italy",
            "Netherlands",
            "Denmark",
            "Luxembourg"
           ],
           "legendgroup": "Europe",
           "marker": {
            "color": "#1F77B4",
            "size": [
             65,
             74,
             57,
             65,
             143,
             88,
             85,
             115,
             58,
             226,
             131,
             103,
             86,
             87,
             81,
             122,
             74,
             155,
             78,
             178,
             218,
             188,
             53,
             58,
             152,
             65,
             134,
             106,
             58,
             64,
             83,
             67
            ],
            "sizemode": "area",
            "sizeref": 0.53,
            "symbol": "circle"
           },
           "mode": "markers",
           "name": "Europe",
           "orientation": "v",
           "showlegend": true,
           "type": "scatter",
           "x": [
            12.7,
            10.3,
            13.3,
            9.4,
            10.6,
            12.3,
            10.9,
            10.4,
            12.3,
            12,
            12.2,
            9.3,
            8.1,
            12.1,
            11.1,
            11.6,
            11.8,
            10.7,
            13.8,
            12.5,
            11.3,
            11.6,
            10.6,
            10.3,
            11.9,
            12.2,
            12.5,
            10.8,
            9.7,
            12,
            12.7,
            11.8
           ],
           "xaxis": "x",
           "y": [
            136.43,
            39.9,
            160.52,
            87.44,
            158.25,
            215.21,
            211.17000000000002,
            234.48,
            146.54,
            331.98,
            190.64,
            41.66,
            148.84,
            265.59000000000003,
            220.18,
            143.68,
            207.55,
            150.04,
            152.17000000000002,
            259.34000000000003,
            263.07,
            395.24,
            184.27,
            82.11,
            321.31,
            120.3,
            229.07,
            241.97,
            80.77,
            109.49000000000001,
            130.02,
            141.16
           ],
           "yaxis": "y"
          },
          {
           "hovertemplate": "<b>%{hovertext}</b><br><br>Continent=South America<br>Year=2010<br>avg_years_of_schooling=%{x}<br>suicides_per_100k=%{y}<br>Both sexes=%{marker.size}<extra></extra>",
           "hovertext": [
            "Uruguay",
            "Suriname",
            "Paraguay",
            "Brazil",
            "Guyana",
            "Chile",
            "Colombia",
            "Argentina",
            "Ecuador"
           ],
           "ids": [
            "Uruguay",
            "Suriname",
            "Paraguay",
            "Brazil",
            "Guyana",
            "Chile",
            "Colombia",
            "Argentina",
            "Ecuador"
           ],
           "legendgroup": "South America",
           "marker": {
            "color": "#FF7F0E",
            "size": [
             118,
             194,
             152,
             154,
             258,
             94,
             146,
             119,
             134
            ],
            "sizemode": "area",
            "sizeref": 0.53,
            "symbol": "circle"
           },
           "mode": "markers",
           "name": "South America",
           "orientation": "v",
           "showlegend": true,
           "type": "scatter",
           "x": [
            8.4,
            7.7,
            7.7,
            6.9,
            8.1,
            9.8,
            7.4,
            9.8,
            7.9
           ],
           "xaxis": "x",
           "y": [
            257.43,
            425.3,
            54.56,
            72.73,
            403.07,
            162.88,
            67.24,
            111.24,
            81.49
           ],
           "yaxis": "y"
          },
          {
           "hovertemplate": "<b>%{hovertext}</b><br><br>Continent=Oceania<br>Year=2010<br>avg_years_of_schooling=%{x}<br>suicides_per_100k=%{y}<br>Both sexes=%{marker.size}<extra></extra>",
           "hovertext": [
            "Australia",
            "New Zealand"
           ],
           "ids": [
            "Australia",
            "New Zealand"
           ],
           "legendgroup": "Oceania",
           "marker": {
            "color": "#2CA02C",
            "size": [
             63,
             71
            ],
            "sizemode": "area",
            "sizeref": 0.53,
            "symbol": "circle"
           },
           "mode": "markers",
           "name": "Oceania",
           "orientation": "v",
           "showlegend": true,
           "type": "scatter",
           "x": [
            12.4,
            12
           ],
           "xaxis": "x",
           "y": [
            132.64000000000001,
            152.62
           ],
           "yaxis": "y"
          },
          {
           "hovertemplate": "<b>%{hovertext}</b><br><br>Continent=North America<br>Year=2010<br>avg_years_of_schooling=%{x}<br>suicides_per_100k=%{y}<br>Both sexes=%{marker.size}<extra></extra>",
           "hovertext": [
            "Nicaragua",
            "Barbados",
            "Grenada",
            "Belize",
            "Bahamas",
            "Panama",
            "Guatemala",
            "Saint Lucia",
            "Cuba",
            "El Salvador",
            "Trinidad and Tobago",
            "Mexico",
            "Jamaica",
            "Costa Rica",
            "Canada"
           ],
           "ids": [
            "Nicaragua",
            "Barbados",
            "Grenada",
            "Belize",
            "Bahamas",
            "Panama",
            "Guatemala",
            "Saint Lucia",
            "Cuba",
            "El Salvador",
            "Trinidad and Tobago",
            "Mexico",
            "Jamaica",
            "Costa Rica",
            "Canada"
           ],
           "legendgroup": "North America",
           "marker": {
            "color": "#D62728",
            "size": [
             160,
             108,
             154,
             182,
             159,
             117,
             186,
             153,
             97,
             192,
             179,
             136,
             139,
             106,
             69
            ],
            "sizemode": "area",
            "sizeref": 0.53,
            "symbol": "circle"
           },
           "mode": "markers",
           "name": "North America",
           "orientation": "v",
           "showlegend": true,
           "type": "scatter",
           "x": [
            6,
            9.4,
            8.3,
            10.5,
            10.9,
            9.3,
            4.9,
            8.4,
            11,
            7.1,
            10.7,
            8,
            8.9,
            8.3,
            12.6
           ],
           "xaxis": "x",
           "y": [
            88.74,
            7.62,
            0,
            61.48,
            58.32,
            64,
            35.43,
            30.31,
            202.13,
            97.92,
            150.5,
            61.01,
            1.16,
            84.35,
            132.67
           ],
           "yaxis": "y"
          },
          {
           "hovertemplate": "<b>%{hovertext}</b><br><br>Continent=Asia<br>Year=2010<br>avg_years_of_schooling=%{x}<br>suicides_per_100k=%{y}<br>Both sexes=%{marker.size}<extra></extra>",
           "hovertext": [
            "Bahrain",
            "Singapore",
            "Thailand",
            "Uzbekistan",
            "Philippines",
            "Qatar",
            "Armenia",
            "Oman",
            "Georgia",
            "Maldives",
            "United Arab Emirates",
            "Japan",
            "Cyprus",
            "Kazakhstan",
            "Turkey",
            "Israel",
            "Kyrgyzstan",
            "Kuwait",
            "Turkmenistan"
           ],
           "ids": [
            "Bahrain",
            "Singapore",
            "Thailand",
            "Uzbekistan",
            "Philippines",
            "Qatar",
            "Armenia",
            "Oman",
            "Georgia",
            "Maldives",
            "United Arab Emirates",
            "Japan",
            "Cyprus",
            "Kazakhstan",
            "Turkey",
            "Israel",
            "Kyrgyzstan",
            "Kuwait",
            "Turkmenistan"
           ],
           "legendgroup": "Asia",
           "marker": {
            "color": "#9467BD",
            "size": [
             66,
             60,
             161,
             145,
             203,
             65,
             138,
             107,
             157,
             71,
             81,
             61,
             65,
             243,
             116,
             60,
             209,
             84,
             188
            ],
            "sizemode": "area",
            "sizeref": 0.53,
            "symbol": "circle"
           },
           "mode": "markers",
           "name": "Asia",
           "orientation": "v",
           "showlegend": true,
           "type": "scatter",
           "x": [
            8.4,
            11.2,
            7.7,
            10.7,
            8.9,
            8.4,
            11.1,
            7.9,
            12.2,
            4.9,
            9.9,
            11.5,
            11.5,
            11.4,
            6.7,
            12.6,
            10.6,
            6.8,
            9.9
           ],
           "xaxis": "x",
           "y": [
            11.89,
            129.23,
            80.5,
            63.230000000000004,
            36.96,
            12.83,
            40.410000000000004,
            3.8000000000000003,
            34.33,
            1.99,
            22.71,
            255.48,
            58.88,
            320.81,
            31.69,
            99.47,
            143.20000000000002,
            10.040000000000001,
            45.75
           ],
           "yaxis": "y"
          },
          {
           "hovertemplate": "<b>%{hovertext}</b><br><br>Continent=Africa<br>Year=2010<br>avg_years_of_schooling=%{x}<br>suicides_per_100k=%{y}<br>Both sexes=%{marker.size}<extra></extra>",
           "hovertext": [
            "Seychelles",
            "South Africa",
            "Mauritius"
           ],
           "ids": [
            "Seychelles",
            "South Africa",
            "Mauritius"
           ],
           "legendgroup": "Africa",
           "marker": {
            "color": "#8C564B",
            "size": [
             181,
             416,
             162
            ],
            "sizemode": "area",
            "sizeref": 0.53,
            "symbol": "circle"
           },
           "mode": "markers",
           "name": "Africa",
           "orientation": "v",
           "showlegend": true,
           "type": "scatter",
           "x": [
            8.1,
            10,
            8.2
           ],
           "xaxis": "x",
           "y": [
            51.989999999999995,
            13.09,
            111.83
           ],
           "yaxis": "y"
          }
         ],
         "name": "2010"
        },
        {
         "data": [
          {
           "hovertemplate": "<b>%{hovertext}</b><br><br>Continent=Europe<br>Year=2011<br>avg_years_of_schooling=%{x}<br>suicides_per_100k=%{y}<br>Both sexes=%{marker.size}<extra></extra>",
           "hovertext": [
            "Switzerland",
            "Malta",
            "Belgium",
            "Luxembourg",
            "Sweden",
            "Bosnia and Herzegovina",
            "Portugal",
            "Finland",
            "Lithuania",
            "Ireland",
            "Poland",
            "Germany",
            "Latvia",
            "Iceland",
            "Norway",
            "Greece",
            "Austria",
            "Estonia",
            "Denmark",
            "Belarus",
            "Spain",
            "Netherlands",
            "Italy",
            "Bulgaria",
            "France",
            "Serbia",
            "Hungary",
            "Romania",
            "Slovenia",
            "Ukraine",
            "Croatia"
           ],
           "ids": [
            "Switzerland",
            "Malta",
            "Belgium",
            "Luxembourg",
            "Sweden",
            "Bosnia and Herzegovina",
            "Portugal",
            "Finland",
            "Lithuania",
            "Ireland",
            "Poland",
            "Germany",
            "Latvia",
            "Iceland",
            "Norway",
            "Greece",
            "Austria",
            "Estonia",
            "Denmark",
            "Belarus",
            "Spain",
            "Netherlands",
            "Italy",
            "Bulgaria",
            "France",
            "Serbia",
            "Hungary",
            "Romania",
            "Slovenia",
            "Ukraine",
            "Croatia"
           ],
           "legendgroup": "Europe",
           "marker": {
            "color": "#1F77B4",
            "size": [
             54,
             59,
             81,
             66,
             58,
             100,
             84,
             84,
             184,
             67,
             128,
             75,
             167,
             51,
             66,
             73,
             72,
             136,
             78,
             227,
             63,
             64,
             58,
             141,
             83,
             113,
             147,
             141,
             82,
             209,
             103
            ],
            "sizemode": "area",
            "sizeref": 0.53,
            "symbol": "circle"
           },
           "mode": "markers",
           "name": "Europe",
           "orientation": "v",
           "showlegend": true,
           "type": "scatter",
           "x": [
            13.3,
            10.5,
            11.2,
            11.8,
            12.4,
            7.2,
            8.3,
            12.3,
            11.8,
            10.9,
            12.3,
            13.9,
            12.6,
            11,
            12.8,
            10.3,
            11.8,
            12.5,
            12.7,
            12,
            9.5,
            12,
            9.8,
            10.7,
            10.9,
            10.6,
            12,
            10.8,
            12.2,
            11.3,
            11
           ],
           "xaxis": "x",
           "y": [
            168.22,
            47.5,
            226.71,
            136.53,
            141.77,
            1.31,
            127.86,
            203.61,
            407.69,
            138.58,
            183.86,
            152.82,
            288.75,
            92.95,
            146.49,
            48.68,
            211.49,
            229.26,
            126.33,
            299.36,
            88.59,
            113.08,
            86.08,
            133.52,
            211.18,
            243.45,
            299.85,
            138.78,
            281.66,
            264,
            221.10999999999999
           ],
           "yaxis": "y"
          },
          {
           "hovertemplate": "<b>%{hovertext}</b><br><br>Continent=South America<br>Year=2011<br>avg_years_of_schooling=%{x}<br>suicides_per_100k=%{y}<br>Both sexes=%{marker.size}<extra></extra>",
           "hovertext": [
            "Ecuador",
            "Colombia",
            "Suriname",
            "Guyana",
            "Paraguay",
            "Argentina",
            "Chile",
            "Brazil"
           ],
           "ids": [
            "Ecuador",
            "Colombia",
            "Suriname",
            "Guyana",
            "Paraguay",
            "Argentina",
            "Chile",
            "Brazil"
           ],
           "legendgroup": "South America",
           "marker": {
            "color": "#FF7F0E",
            "size": [
             130,
             140,
             191,
             263,
             150,
             118,
             90,
             153
            ],
            "sizemode": "area",
            "sizeref": 0.53,
            "symbol": "circle"
           },
           "mode": "markers",
           "name": "South America",
           "orientation": "v",
           "showlegend": true,
           "type": "scatter",
           "x": [
            8,
            7.5,
            7.8,
            8.2,
            7.8,
            9.8,
            9.8,
            7.1
           ],
           "xaxis": "x",
           "y": [
            81.8,
            62.879999999999995,
            353.31,
            349.53000000000003,
            67.83,
            105.87,
            160.84,
            72.41
           ],
           "yaxis": "y"
          },
          {
           "hovertemplate": "<b>%{hovertext}</b><br><br>Continent=Oceania<br>Year=2011<br>avg_years_of_schooling=%{x}<br>suicides_per_100k=%{y}<br>Both sexes=%{marker.size}<extra></extra>",
           "hovertext": [
            "Fiji",
            "New Zealand",
            "Australia"
           ],
           "ids": [
            "Fiji",
            "New Zealand",
            "Australia"
           ],
           "legendgroup": "Oceania",
           "marker": {
            "color": "#2CA02C",
            "size": [
             197,
             71,
             62
            ],
            "sizemode": "area",
            "sizeref": 0.53,
            "symbol": "circle"
           },
           "mode": "markers",
           "name": "Oceania",
           "orientation": "v",
           "showlegend": true,
           "type": "scatter",
           "x": [
            9.8,
            12,
            12.5
           ],
           "xaxis": "x",
           "y": [
            106.97,
            142.82,
            133.22
           ],
           "yaxis": "y"
          },
          {
           "hovertemplate": "<b>%{hovertext}</b><br><br>Continent=North America<br>Year=2011<br>avg_years_of_schooling=%{x}<br>suicides_per_100k=%{y}<br>Both sexes=%{marker.size}<extra></extra>",
           "hovertext": [
            "Saint Lucia",
            "Bahamas",
            "Costa Rica",
            "Grenada",
            "Cuba",
            "Trinidad and Tobago",
            "Belize",
            "El Salvador",
            "Canada",
            "Nicaragua",
            "Jamaica",
            "Mexico",
            "Barbados",
            "Panama",
            "Guatemala"
           ],
           "ids": [
            "Saint Lucia",
            "Bahamas",
            "Costa Rica",
            "Grenada",
            "Cuba",
            "Trinidad and Tobago",
            "Belize",
            "El Salvador",
            "Canada",
            "Nicaragua",
            "Jamaica",
            "Mexico",
            "Barbados",
            "Panama",
            "Guatemala"
           ],
           "legendgroup": "North America",
           "marker": {
            "color": "#D62728",
            "size": [
             153,
             158,
             100,
             150,
             92,
             180,
             182,
             189,
             67,
             158,
             139,
             133,
             106,
             117,
             180
            ],
            "sizemode": "area",
            "sizeref": 0.53,
            "symbol": "circle"
           },
           "mode": "markers",
           "name": "North America",
           "orientation": "v",
           "showlegend": true,
           "type": "scatter",
           "x": [
            8.4,
            11,
            8.4,
            8.4,
            11.3,
            10.8,
            10.5,
            6.5,
            12.7,
            6.1,
            9,
            8.4,
            9.9,
            9.3,
            5.3
           ],
           "xaxis": "x",
           "y": [
            53.32,
            12.99,
            89.83,
            20.73,
            207.05,
            138.69,
            153.3,
            115.46,
            125.02,
            89.55,
            27.86,
            65.52,
            0,
            62.730000000000004,
            34.69
           ],
           "yaxis": "y"
          },
          {
           "hovertemplate": "<b>%{hovertext}</b><br><br>Continent=Asia<br>Year=2011<br>avg_years_of_schooling=%{x}<br>suicides_per_100k=%{y}<br>Both sexes=%{marker.size}<extra></extra>",
           "hovertext": [
            "Kuwait",
            "Turkey",
            "Qatar",
            "Philippines",
            "Armenia",
            "Bahrain",
            "Kyrgyzstan",
            "Singapore",
            "Maldives",
            "Turkmenistan",
            "Thailand",
            "Israel",
            "Georgia",
            "Kazakhstan",
            "Cyprus",
            "Japan",
            "Uzbekistan"
           ],
           "ids": [
            "Kuwait",
            "Turkey",
            "Qatar",
            "Philippines",
            "Armenia",
            "Bahrain",
            "Kyrgyzstan",
            "Singapore",
            "Maldives",
            "Turkmenistan",
            "Thailand",
            "Israel",
            "Georgia",
            "Kazakhstan",
            "Cyprus",
            "Japan",
            "Uzbekistan"
           ],
           "legendgroup": "Asia",
           "marker": {
            "color": "#9467BD",
            "size": [
             84,
             114,
             65,
             202,
             135,
             66,
             196,
             59,
             66,
             190,
             158,
             59,
             153,
             232,
             58,
             62,
             144
            ],
            "sizemode": "area",
            "sizeref": 0.53,
            "symbol": "circle"
           },
           "mode": "markers",
           "name": "Asia",
           "orientation": "v",
           "showlegend": true,
           "type": "scatter",
           "x": [
            7,
            7.2,
            8.7,
            9,
            11.2,
            8.6,
            10.6,
            11.2,
            5.2,
            9.9,
            7.5,
            12.7,
            12.2,
            11.5,
            11.6,
            11.8,
            10.9
           ],
           "xaxis": "x",
           "y": [
            11.41,
            23.07,
            18.85,
            44.910000000000004,
            32.98,
            14.96,
            126.89,
            116.96000000000001,
            5.39,
            31.63,
            77.59,
            87.41,
            36.309999999999995,
            293.76,
            43.78,
            252.41,
            67.14
           ],
           "yaxis": "y"
          },
          {
           "hovertemplate": "<b>%{hovertext}</b><br><br>Continent=Africa<br>Year=2011<br>avg_years_of_schooling=%{x}<br>suicides_per_100k=%{y}<br>Both sexes=%{marker.size}<extra></extra>",
           "hovertext": [
            "Seychelles",
            "South Africa",
            "Mauritius"
           ],
           "ids": [
            "Seychelles",
            "South Africa",
            "Mauritius"
           ],
           "legendgroup": "Africa",
           "marker": {
            "color": "#8C564B",
            "size": [
             177,
             397,
             156
            ],
            "sizemode": "area",
            "sizeref": 0.53,
            "symbol": "circle"
           },
           "mode": "markers",
           "name": "Africa",
           "orientation": "v",
           "showlegend": true,
           "type": "scatter",
           "x": [
            8.4,
            9.9,
            8.5
           ],
           "xaxis": "x",
           "y": [
            51.339999999999996,
            9.31,
            120.04
           ],
           "yaxis": "y"
          }
         ],
         "name": "2011"
        },
        {
         "data": [
          {
           "hovertemplate": "<b>%{hovertext}</b><br><br>Continent=Europe<br>Year=2012<br>avg_years_of_schooling=%{x}<br>suicides_per_100k=%{y}<br>Both sexes=%{marker.size}<extra></extra>",
           "hovertext": [
            "Croatia",
            "Serbia",
            "Sweden",
            "Romania",
            "France",
            "Spain",
            "Italy",
            "Denmark",
            "Austria",
            "Ukraine",
            "Slovenia",
            "Slovakia",
            "Germany",
            "Finland",
            "Ireland",
            "Estonia",
            "Belgium",
            "Hungary",
            "Portugal",
            "Luxembourg",
            "Norway",
            "Lithuania",
            "Greece",
            "Bulgaria",
            "Malta",
            "Netherlands",
            "Poland",
            "Switzerland",
            "Iceland",
            "Latvia"
           ],
           "ids": [
            "Croatia",
            "Serbia",
            "Sweden",
            "Romania",
            "France",
            "Spain",
            "Italy",
            "Denmark",
            "Austria",
            "Ukraine",
            "Slovenia",
            "Slovakia",
            "Germany",
            "Finland",
            "Ireland",
            "Estonia",
            "Belgium",
            "Hungary",
            "Portugal",
            "Luxembourg",
            "Norway",
            "Lithuania",
            "Greece",
            "Bulgaria",
            "Malta",
            "Netherlands",
            "Poland",
            "Switzerland",
            "Iceland",
            "Latvia"
           ],
           "legendgroup": "Europe",
           "marker": {
            "color": "#1F77B4",
            "size": [
             103,
             111,
             56,
             141,
             80,
             61,
             57,
             75,
             68,
             211,
             81,
             115,
             73,
             80,
             66,
             134,
             79,
             143,
             81,
             63,
             60,
             180,
             72,
             137,
             57,
             63,
             126,
             54,
             50,
             162
            ],
            "sizemode": "area",
            "sizeref": 0.53,
            "symbol": "circle"
           },
           "mode": "markers",
           "name": "Europe",
           "orientation": "v",
           "showlegend": true,
           "type": "scatter",
           "x": [
            11,
            10.5,
            12.4,
            10.9,
            11,
            9.5,
            9.9,
            12.8,
            11.8,
            11.3,
            11.7,
            12.3,
            14,
            12.4,
            11.3,
            12.5,
            11.2,
            12.2,
            8.5,
            11.8,
            12.6,
            11.7,
            10.3,
            10.8,
            10.8,
            12,
            11.7,
            13.4,
            11.5,
            12.6
           ],
           "xaxis": "x",
           "y": [
            239.01,
            234.53,
            148.10999999999999,
            142.03,
            198.98,
            96.88,
            85.45,
            143.21,
            206.63,
            268.47,
            279.74,
            129.48,
            148.31,
            187.01,
            137.66,
            241.60999999999999,
            217.13,
            305.96,
            139.4,
            140.18,
            126,
            374.12,
            53.32,
            164.17,
            59.87,
            118.51,
            192.37,
            165.39,
            145.41,
            267.68
           ],
           "yaxis": "y"
          },
          {
           "hovertemplate": "<b>%{hovertext}</b><br><br>Continent=South America<br>Year=2012<br>avg_years_of_schooling=%{x}<br>suicides_per_100k=%{y}<br>Both sexes=%{marker.size}<extra></extra>",
           "hovertext": [
            "Suriname",
            "Ecuador",
            "Argentina",
            "Brazil",
            "Colombia",
            "Uruguay",
            "Guyana",
            "Paraguay",
            "Chile"
           ],
           "ids": [
            "Suriname",
            "Ecuador",
            "Argentina",
            "Brazil",
            "Colombia",
            "Uruguay",
            "Guyana",
            "Paraguay",
            "Chile"
           ],
           "legendgroup": "South America",
           "marker": {
            "color": "#FF7F0E",
            "size": [
             188,
             127,
             118,
             150,
             140,
             118,
             272,
             149,
             89
            ],
            "sizemode": "area",
            "sizeref": 0.53,
            "symbol": "circle"
           },
           "mode": "markers",
           "name": "South America",
           "orientation": "v",
           "showlegend": true,
           "type": "scatter",
           "x": [
            7.9,
            8.1,
            9.8,
            7.3,
            7.6,
            8.5,
            8.3,
            7.8,
            9.9
           ],
           "xaxis": "x",
           "y": [
            454.11,
            84.88,
            119.82,
            74.45,
            66.45,
            264.35,
            367.98,
            63.3,
            148.41
           ],
           "yaxis": "y"
          },
          {
           "hovertemplate": "<b>%{hovertext}</b><br><br>Continent=Oceania<br>Year=2012<br>avg_years_of_schooling=%{x}<br>suicides_per_100k=%{y}<br>Both sexes=%{marker.size}<extra></extra>",
           "hovertext": [
            "Australia",
            "Fiji",
            "New Zealand"
           ],
           "ids": [
            "Australia",
            "Fiji",
            "New Zealand"
           ],
           "legendgroup": "Oceania",
           "marker": {
            "color": "#2CA02C",
            "size": [
             60,
             195,
             68
            ],
            "sizemode": "area",
            "sizeref": 0.53,
            "symbol": "circle"
           },
           "mode": "markers",
           "name": "Oceania",
           "orientation": "v",
           "showlegend": true,
           "type": "scatter",
           "x": [
            12.6,
            10.1,
            12.1
           ],
           "xaxis": "x",
           "y": [
            139.57,
            91.58,
            158.03
           ],
           "yaxis": "y"
          },
          {
           "hovertemplate": "<b>%{hovertext}</b><br><br>Continent=North America<br>Year=2012<br>avg_years_of_schooling=%{x}<br>suicides_per_100k=%{y}<br>Both sexes=%{marker.size}<extra></extra>",
           "hovertext": [
            "Antigua and Barbuda",
            "Barbados",
            "Saint Lucia",
            "Bahamas",
            "Cuba",
            "Canada",
            "Belize",
            "Costa Rica",
            "Guatemala",
            "Grenada",
            "Mexico",
            "El Salvador",
            "Panama",
            "Nicaragua"
           ],
           "ids": [
            "Antigua and Barbuda",
            "Barbados",
            "Saint Lucia",
            "Bahamas",
            "Cuba",
            "Canada",
            "Belize",
            "Costa Rica",
            "Guatemala",
            "Grenada",
            "Mexico",
            "El Salvador",
            "Panama",
            "Nicaragua"
           ],
           "legendgroup": "North America",
           "marker": {
            "color": "#D62728",
            "size": [
             127,
             108,
             153,
             163,
             96,
             68,
             183,
             99,
             173,
             147,
             131,
             186,
             116,
             155
            ],
            "sizemode": "area",
            "sizeref": 0.53,
            "symbol": "circle"
           },
           "mode": "markers",
           "name": "North America",
           "orientation": "v",
           "showlegend": true,
           "type": "scatter",
           "x": [
            9.2,
            10.5,
            8.4,
            11.1,
            10.8,
            12.8,
            10.5,
            8.5,
            4.6,
            8.4,
            8.6,
            6.7,
            9.5,
            6.3
           ],
           "xaxis": "x",
           "y": [
            0,
            0,
            85.03,
            11.84,
            204,
            127.88,
            73.45,
            80.76,
            41.8,
            18.009999999999998,
            63.43,
            123.14,
            55.52,
            72.29
           ],
           "yaxis": "y"
          },
          {
           "hovertemplate": "<b>%{hovertext}</b><br><br>Continent=Asia<br>Year=2012<br>avg_years_of_schooling=%{x}<br>suicides_per_100k=%{y}<br>Both sexes=%{marker.size}<extra></extra>",
           "hovertext": [
            "Turkmenistan",
            "Kyrgyzstan",
            "Israel",
            "Georgia",
            "Kuwait",
            "Uzbekistan",
            "Cyprus",
            "Kazakhstan",
            "Singapore",
            "Bahrain",
            "Japan",
            "Armenia",
            "Qatar",
            "Turkey",
            "Thailand"
           ],
           "ids": [
            "Turkmenistan",
            "Kyrgyzstan",
            "Israel",
            "Georgia",
            "Kuwait",
            "Uzbekistan",
            "Cyprus",
            "Kazakhstan",
            "Singapore",
            "Bahrain",
            "Japan",
            "Armenia",
            "Qatar",
            "Turkey",
            "Thailand"
           ],
           "legendgroup": "Asia",
           "marker": {
            "color": "#9467BD",
            "size": [
             189,
             189,
             58,
             157,
             83,
             145,
             55,
             224,
             57,
             66,
             57,
             131,
             65,
             112,
             155
            ],
            "sizemode": "area",
            "sizeref": 0.53,
            "symbol": "circle"
           },
           "mode": "markers",
           "name": "Asia",
           "orientation": "v",
           "showlegend": true,
           "type": "scatter",
           "x": [
            9.8,
            10.7,
            12.8,
            12.5,
            7.2,
            11.1,
            11.8,
            11.5,
            11.3,
            8.8,
            12,
            11.3,
            9.2,
            7.5,
            7.7
           ],
           "xaxis": "x",
           "y": [
            30.599999999999998,
            140.66,
            83.79,
            34.88,
            15.59,
            77.53,
            42.9,
            271.02,
            141.62,
            8.68,
            233.7,
            36.57,
            13.27,
            28.400000000000002,
            80.69
           ],
           "yaxis": "y"
          },
          {
           "hovertemplate": "<b>%{hovertext}</b><br><br>Continent=Africa<br>Year=2012<br>avg_years_of_schooling=%{x}<br>suicides_per_100k=%{y}<br>Both sexes=%{marker.size}<extra></extra>",
           "hovertext": [
            "Seychelles",
            "South Africa",
            "Mauritius"
           ],
           "ids": [
            "Seychelles",
            "South Africa",
            "Mauritius"
           ],
           "legendgroup": "Africa",
           "marker": {
            "color": "#8C564B",
            "size": [
             174,
             361,
             152
            ],
            "sizemode": "area",
            "sizeref": 0.53,
            "symbol": "circle"
           },
           "mode": "markers",
           "name": "Africa",
           "orientation": "v",
           "showlegend": true,
           "type": "scatter",
           "x": [
            8.8,
            9.8,
            8.6
           ],
           "xaxis": "x",
           "y": [
            33.5,
            13.56,
            114.25
           ],
           "yaxis": "y"
          }
         ],
         "name": "2012"
        },
        {
         "data": [
          {
           "hovertemplate": "<b>%{hovertext}</b><br><br>Continent=Europe<br>Year=2013<br>avg_years_of_schooling=%{x}<br>suicides_per_100k=%{y}<br>Both sexes=%{marker.size}<extra></extra>",
           "hovertext": [
            "Slovenia",
            "Latvia",
            "Austria",
            "Bulgaria",
            "Denmark",
            "Netherlands",
            "Spain",
            "France",
            "Italy",
            "Estonia",
            "Norway",
            "Hungary",
            "Lithuania",
            "Serbia",
            "Belgium",
            "Greece",
            "Iceland",
            "Croatia",
            "Romania",
            "Sweden",
            "Belarus",
            "Portugal",
            "Luxembourg",
            "Germany",
            "Switzerland",
            "Malta",
            "Ireland",
            "Finland",
            "Poland",
            "Slovakia"
           ],
           "ids": [
            "Slovenia",
            "Latvia",
            "Austria",
            "Bulgaria",
            "Denmark",
            "Netherlands",
            "Spain",
            "France",
            "Italy",
            "Estonia",
            "Norway",
            "Hungary",
            "Lithuania",
            "Serbia",
            "Belgium",
            "Greece",
            "Iceland",
            "Croatia",
            "Romania",
            "Sweden",
            "Belarus",
            "Portugal",
            "Luxembourg",
            "Germany",
            "Switzerland",
            "Malta",
            "Ireland",
            "Finland",
            "Poland",
            "Slovakia"
           ],
           "legendgroup": "Europe",
           "marker": {
            "color": "#1F77B4",
            "size": [
             78,
             164,
             67,
             135,
             72,
             61,
             59,
             77,
             56,
             122,
             61,
             136,
             179,
             107,
             77,
             68,
             53,
             96,
             134,
             56,
             183,
             78,
             60,
             73,
             53,
             57,
             64,
             78,
             121,
             111
            ],
            "sizemode": "area",
            "sizeref": 0.53,
            "symbol": "circle"
           },
           "mode": "markers",
           "name": "Europe",
           "orientation": "v",
           "showlegend": true,
           "type": "scatter",
           "x": [
            11.7,
            12.7,
            11.9,
            10.9,
            13.2,
            12.1,
            9.5,
            11.2,
            10.3,
            12.6,
            12.7,
            12,
            11.9,
            10.4,
            11.4,
            10.4,
            11.9,
            11,
            10.9,
            12.2,
            12,
            8.6,
            11.8,
            14,
            13.4,
            11,
            11.8,
            12.3,
            12.1,
            12.2
           ],
           "xaxis": "x",
           "y": [
            283.02,
            242.19,
            212.12,
            134.16,
            134.55,
            125.53,
            101.32,
            192.33,
            84.86,
            231.92000000000002,
            127.01,
            266.23,
            444.56,
            217.73,
            201.54999999999998,
            55.11,
            221.24,
            210.3,
            137.99,
            158.20000000000002,
            273.32,
            132.73,
            91.48,
            153.07999999999998,
            170.26,
            57.22,
            117.41,
            196.83,
            187.59,
            143.91
           ],
           "yaxis": "y"
          },
          {
           "hovertemplate": "<b>%{hovertext}</b><br><br>Continent=South America<br>Year=2013<br>avg_years_of_schooling=%{x}<br>suicides_per_100k=%{y}<br>Both sexes=%{marker.size}<extra></extra>",
           "hovertext": [
            "Brazil",
            "Chile",
            "Suriname",
            "Guyana",
            "Argentina",
            "Uruguay",
            "Ecuador",
            "Colombia",
            "Paraguay"
           ],
           "ids": [
            "Brazil",
            "Chile",
            "Suriname",
            "Guyana",
            "Argentina",
            "Uruguay",
            "Ecuador",
            "Colombia",
            "Paraguay"
           ],
           "legendgroup": "South America",
           "marker": {
            "color": "#FF7F0E",
            "size": [
             148,
             90,
             186,
             263,
             116,
             117,
             122,
             139,
             148
            ],
            "sizemode": "area",
            "sizeref": 0.53,
            "symbol": "circle"
           },
           "mode": "markers",
           "name": "South America",
           "orientation": "v",
           "showlegend": true,
           "type": "scatter",
           "x": [
            7.4,
            9.9,
            8.1,
            8.3,
            9.8,
            8.5,
            8.3,
            7.8,
            8.3
           ],
           "xaxis": "x",
           "y": [
            73.41,
            134.52,
            286.8,
            356.38,
            103.42,
            249.09,
            62.88,
            63.53,
            75.39
           ],
           "yaxis": "y"
          },
          {
           "hovertemplate": "<b>%{hovertext}</b><br><br>Continent=Oceania<br>Year=2013<br>avg_years_of_schooling=%{x}<br>suicides_per_100k=%{y}<br>Both sexes=%{marker.size}<extra></extra>",
           "hovertext": [
            "Australia",
            "New Zealand"
           ],
           "ids": [
            "Australia",
            "New Zealand"
           ],
           "legendgroup": "Oceania",
           "marker": {
            "color": "#2CA02C",
            "size": [
             60,
             66
            ],
            "sizemode": "area",
            "sizeref": 0.53,
            "symbol": "circle"
           },
           "mode": "markers",
           "name": "Oceania",
           "orientation": "v",
           "showlegend": true,
           "type": "scatter",
           "x": [
            12.6,
            12.1
           ],
           "xaxis": "x",
           "y": [
            138.78,
            144.55
           ],
           "yaxis": "y"
          },
          {
           "hovertemplate": "<b>%{hovertext}</b><br><br>Continent=North America<br>Year=2013<br>avg_years_of_schooling=%{x}<br>suicides_per_100k=%{y}<br>Both sexes=%{marker.size}<extra></extra>",
           "hovertext": [
            "Panama",
            "Guatemala",
            "Antigua and Barbuda",
            "Canada",
            "Mexico",
            "Nicaragua",
            "Costa Rica",
            "Barbados",
            "Saint Lucia",
            "Bahamas",
            "El Salvador",
            "Cuba",
            "Grenada",
            "Belize"
           ],
           "ids": [
            "Panama",
            "Guatemala",
            "Antigua and Barbuda",
            "Canada",
            "Mexico",
            "Nicaragua",
            "Costa Rica",
            "Barbados",
            "Saint Lucia",
            "Bahamas",
            "El Salvador",
            "Cuba",
            "Grenada",
            "Belize"
           ],
           "legendgroup": "North America",
           "marker": {
            "color": "#D62728",
            "size": [
             114,
             172,
             127,
             66,
             127,
             153,
             97,
             101,
             149,
             166,
             184,
             96,
             145,
             184
            ],
            "sizemode": "area",
            "sizeref": 0.53,
            "symbol": "circle"
           },
           "mode": "markers",
           "name": "North America",
           "orientation": "v",
           "showlegend": true,
           "type": "scatter",
           "x": [
            9.7,
            4.7,
            9.2,
            12.9,
            8.4,
            6.4,
            8.5,
            10.5,
            8.4,
            11.1,
            6.6,
            11,
            8.5,
            10.5
           ],
           "xaxis": "x",
           "y": [
            49.31,
            40.69,
            0,
            133.09,
            64.99,
            80.97,
            89.26,
            0,
            114.1,
            13.91,
            116.06,
            190.46,
            0,
            56.4
           ],
           "yaxis": "y"
          },
          {
           "hovertemplate": "<b>%{hovertext}</b><br><br>Continent=Asia<br>Year=2013<br>avg_years_of_schooling=%{x}<br>suicides_per_100k=%{y}<br>Both sexes=%{marker.size}<extra></extra>",
           "hovertext": [
            "Georgia",
            "Japan",
            "Israel",
            "Uzbekistan",
            "Cyprus",
            "Kazakhstan",
            "Kuwait",
            "Qatar",
            "Turkey",
            "Kyrgyzstan",
            "Armenia",
            "Turkmenistan",
            "Thailand",
            "Bahrain",
            "Singapore"
           ],
           "ids": [
            "Georgia",
            "Japan",
            "Israel",
            "Uzbekistan",
            "Cyprus",
            "Kazakhstan",
            "Kuwait",
            "Qatar",
            "Turkey",
            "Kyrgyzstan",
            "Armenia",
            "Turkmenistan",
            "Thailand",
            "Bahrain",
            "Singapore"
           ],
           "legendgroup": "Asia",
           "marker": {
            "color": "#9467BD",
            "size": [
             158,
             56,
             59,
             141,
             58,
             211,
             82,
             65,
             109,
             183,
             121,
             196,
             154,
             63,
             56
            ],
            "sizemode": "area",
            "sizeref": 0.53,
            "symbol": "circle"
           },
           "mode": "markers",
           "name": "Asia",
           "orientation": "v",
           "showlegend": true,
           "type": "scatter",
           "x": [
            12.6,
            12.2,
            12.8,
            11.3,
            12,
            11.6,
            6.7,
            9.9,
            7.7,
            10.7,
            11.4,
            9.8,
            7.5,
            9,
            11.4
           ],
           "xaxis": "x",
           "y": [
            55.57,
            231.16,
            74.21,
            78.86,
            64.61,
            296.67,
            9.879999999999999,
            8.23,
            35.42,
            109.84,
            37.48,
            23.29,
            79.56,
            2.49,
            137.87
           ],
           "yaxis": "y"
          },
          {
           "hovertemplate": "<b>%{hovertext}</b><br><br>Continent=Africa<br>Year=2013<br>avg_years_of_schooling=%{x}<br>suicides_per_100k=%{y}<br>Both sexes=%{marker.size}<extra></extra>",
           "hovertext": [
            "Mauritius",
            "South Africa",
            "Seychelles"
           ],
           "ids": [
            "Mauritius",
            "South Africa",
            "Seychelles"
           ],
           "legendgroup": "Africa",
           "marker": {
            "color": "#8C564B",
            "size": [
             145,
             335,
             171
            ],
            "sizemode": "area",
            "sizeref": 0.53,
            "symbol": "circle"
           },
           "mode": "markers",
           "name": "Africa",
           "orientation": "v",
           "showlegend": true,
           "type": "scatter",
           "x": [
            8.9,
            9.9,
            9.1
           ],
           "xaxis": "x",
           "y": [
            97.67,
            14.9,
            131.4
           ],
           "yaxis": "y"
          }
         ],
         "name": "2013"
        },
        {
         "data": [
          {
           "hovertemplate": "<b>%{hovertext}</b><br><br>Continent=Europe<br>Year=2014<br>avg_years_of_schooling=%{x}<br>suicides_per_100k=%{y}<br>Both sexes=%{marker.size}<extra></extra>",
           "hovertext": [
            "Sweden",
            "Ukraine",
            "Switzerland",
            "France",
            "Luxembourg",
            "Poland",
            "Iceland",
            "Bosnia and Herzegovina",
            "Ireland",
            "Norway",
            "Bulgaria",
            "Denmark",
            "Netherlands",
            "Italy",
            "Malta",
            "Portugal",
            "Belgium",
            "Hungary",
            "Spain",
            "Croatia",
            "Austria",
            "Latvia",
            "Finland",
            "Germany",
            "Slovenia",
            "Slovakia",
            "Greece",
            "Serbia",
            "Belarus",
            "Lithuania",
            "Romania",
            "Estonia"
           ],
           "ids": [
            "Sweden",
            "Ukraine",
            "Switzerland",
            "France",
            "Luxembourg",
            "Poland",
            "Iceland",
            "Bosnia and Herzegovina",
            "Ireland",
            "Norway",
            "Bulgaria",
            "Denmark",
            "Netherlands",
            "Italy",
            "Malta",
            "Portugal",
            "Belgium",
            "Hungary",
            "Spain",
            "Croatia",
            "Austria",
            "Latvia",
            "Finland",
            "Germany",
            "Slovenia",
            "Slovakia",
            "Greece",
            "Serbia",
            "Belarus",
            "Lithuania",
            "Romania",
            "Estonia"
           ],
           "legendgroup": "Europe",
           "marker": {
            "color": "#1F77B4",
            "size": [
             55,
             212,
             50,
             74,
             55,
             115,
             55,
             96,
             62,
             57,
             141,
             68,
             59,
             54,
             53,
             77,
             73,
             133,
             58,
             94,
             65,
             159,
             73,
             70,
             70,
             109,
             67,
             106,
             175,
             167,
             140,
             124
            ],
            "sizemode": "area",
            "sizeref": 0.53,
            "symbol": "circle"
           },
           "mode": "markers",
           "name": "Europe",
           "orientation": "v",
           "showlegend": true,
           "type": "scatter",
           "x": [
            12.3,
            11.3,
            13.4,
            11.4,
            12,
            11.3,
            12.2,
            9.2,
            12.3,
            12.5,
            10.9,
            12.8,
            12.1,
            10.1,
            11.1,
            8.9,
            11.5,
            11.8,
            9.7,
            11.1,
            12.1,
            12.9,
            12.4,
            14,
            11.9,
            12.3,
            10.5,
            10.7,
            12.1,
            13,
            10.9,
            12.6
           ],
           "xaxis": "x",
           "y": [
            149.05,
            250.5,
            162.1,
            179.56,
            147.88,
            178.3,
            197.96,
            109.5,
            119.68,
            127.22999999999999,
            139.77,
            137.73,
            121.42,
            82.13,
            102.08,
            153.89000000000001,
            201.85,
            244.31,
            104.35000000000001,
            222.04,
            209.82,
            248.81,
            177.16,
            153.04,
            240.37,
            132.82,
            59.82,
            216.78,
            252.91,
            401.27,
            131.03,
            258.91
           ],
           "yaxis": "y"
          },
          {
           "hovertemplate": "<b>%{hovertext}</b><br><br>Continent=South America<br>Year=2014<br>avg_years_of_schooling=%{x}<br>suicides_per_100k=%{y}<br>Both sexes=%{marker.size}<extra></extra>",
           "hovertext": [
            "Uruguay",
            "Suriname",
            "Argentina",
            "Paraguay",
            "Brazil",
            "Ecuador",
            "Colombia",
            "Chile"
           ],
           "ids": [
            "Uruguay",
            "Suriname",
            "Argentina",
            "Paraguay",
            "Brazil",
            "Ecuador",
            "Colombia",
            "Chile"
           ],
           "legendgroup": "South America",
           "marker": {
            "color": "#FF7F0E",
            "size": [
             114,
             184,
             113,
             147,
             145,
             119,
             139,
             88
            ],
            "sizemode": "area",
            "sizeref": 0.53,
            "symbol": "circle"
           },
           "mode": "markers",
           "name": "South America",
           "orientation": "v",
           "showlegend": true,
           "type": "scatter",
           "x": [
            8.6,
            8.2,
            9.8,
            8.2,
            7.4,
            8.5,
            8,
            10.1
           ],
           "xaxis": "x",
           "y": [
            248.64,
            357.34000000000003,
            111.35,
            72.15,
            73.13,
            66.02,
            66.62,
            137.37
           ],
           "yaxis": "y"
          },
          {
           "hovertemplate": "<b>%{hovertext}</b><br><br>Continent=Oceania<br>Year=2014<br>avg_years_of_schooling=%{x}<br>suicides_per_100k=%{y}<br>Both sexes=%{marker.size}<extra></extra>",
           "hovertext": [
            "Australia"
           ],
           "ids": [
            "Australia"
           ],
           "legendgroup": "Oceania",
           "marker": {
            "color": "#2CA02C",
            "size": [
             61
            ],
            "sizemode": "area",
            "sizeref": 0.53,
            "symbol": "circle"
           },
           "mode": "markers",
           "name": "Oceania",
           "orientation": "v",
           "showlegend": true,
           "type": "scatter",
           "x": [
            12.7
           ],
           "xaxis": "x",
           "y": [
            149.07
           ],
           "yaxis": "y"
          },
          {
           "hovertemplate": "<b>%{hovertext}</b><br><br>Continent=North America<br>Year=2014<br>avg_years_of_schooling=%{x}<br>suicides_per_100k=%{y}<br>Both sexes=%{marker.size}<extra></extra>",
           "hovertext": [
            "Antigua and Barbuda",
            "El Salvador",
            "Belize",
            "Panama",
            "Nicaragua",
            "Mexico",
            "Cuba",
            "Grenada",
            "Saint Lucia",
            "Guatemala",
            "Costa Rica"
           ],
           "ids": [
            "Antigua and Barbuda",
            "El Salvador",
            "Belize",
            "Panama",
            "Nicaragua",
            "Mexico",
            "Cuba",
            "Grenada",
            "Saint Lucia",
            "Guatemala",
            "Costa Rica"
           ],
           "legendgroup": "North America",
           "marker": {
            "color": "#D62728",
            "size": [
             127,
             182,
             183,
             111,
             150,
             129,
             95,
             143,
             145,
             169,
             95
            ],
            "sizemode": "area",
            "sizeref": 0.53,
            "symbol": "circle"
           },
           "mode": "markers",
           "name": "North America",
           "orientation": "v",
           "showlegend": true,
           "type": "scatter",
           "x": [
            9.2,
            6.5,
            10.5,
            9.9,
            6.5,
            8.4,
            11.2,
            8.6,
            8.7,
            6.4,
            8.6
           ],
           "xaxis": "x",
           "y": [
            0,
            101.84,
            90.95,
            55.980000000000004,
            71.4,
            68.38,
            184.63,
            0,
            91.56,
            45.88,
            70.85
           ],
           "yaxis": "y"
          },
          {
           "hovertemplate": "<b>%{hovertext}</b><br><br>Continent=Asia<br>Year=2014<br>avg_years_of_schooling=%{x}<br>suicides_per_100k=%{y}<br>Both sexes=%{marker.size}<extra></extra>",
           "hovertext": [
            "Thailand",
            "Turkmenistan",
            "Turkey",
            "Armenia",
            "Uzbekistan",
            "Kyrgyzstan",
            "Oman",
            "Israel",
            "Kazakhstan",
            "Cyprus",
            "Japan",
            "Georgia",
            "Kuwait",
            "Singapore",
            "Qatar",
            "Bahrain"
           ],
           "ids": [
            "Thailand",
            "Turkmenistan",
            "Turkey",
            "Armenia",
            "Uzbekistan",
            "Kyrgyzstan",
            "Oman",
            "Israel",
            "Kazakhstan",
            "Cyprus",
            "Japan",
            "Georgia",
            "Kuwait",
            "Singapore",
            "Qatar",
            "Bahrain"
           ],
           "legendgroup": "Asia",
           "marker": {
            "color": "#9467BD",
            "size": [
             151,
             199,
             107,
             118,
             139,
             175,
             100,
             58,
             199,
             61,
             54,
             155,
             81,
             55,
             64,
             62
            ],
            "sizemode": "area",
            "sizeref": 0.53,
            "symbol": "circle"
           },
           "mode": "markers",
           "name": "Asia",
           "orientation": "v",
           "showlegend": true,
           "type": "scatter",
           "x": [
            7.6,
            9.8,
            7.6,
            11.5,
            11.3,
            10.8,
            9.3,
            12.9,
            11.7,
            11.9,
            12.5,
            12.6,
            6.9,
            11.4,
            9.8,
            9.1
           ],
           "xaxis": "x",
           "y": [
            76.96000000000001,
            28.15,
            30.83,
            37.01,
            85.12,
            111.79,
            1.51,
            71.25999999999999,
            257.09,
            57.1,
            218.21,
            74.49,
            15.86,
            131.78,
            18.99,
            6.5200000000000005
           ],
           "yaxis": "y"
          },
          {
           "hovertemplate": "<b>%{hovertext}</b><br><br>Continent=Africa<br>Year=2014<br>avg_years_of_schooling=%{x}<br>suicides_per_100k=%{y}<br>Both sexes=%{marker.size}<extra></extra>",
           "hovertext": [
            "Mauritius",
            "South Africa",
            "Seychelles"
           ],
           "ids": [
            "Mauritius",
            "South Africa",
            "Seychelles"
           ],
           "legendgroup": "Africa",
           "marker": {
            "color": "#8C564B",
            "size": [
             148,
             316,
             168
            ],
            "sizemode": "area",
            "sizeref": 0.53,
            "symbol": "circle"
           },
           "mode": "markers",
           "name": "Africa",
           "orientation": "v",
           "showlegend": true,
           "type": "scatter",
           "x": [
            9.1,
            10,
            9.4
           ],
           "xaxis": "x",
           "y": [
            115.45,
            15.08,
            43.33
           ],
           "yaxis": "y"
          }
         ],
         "name": "2014"
        },
        {
         "data": [
          {
           "hovertemplate": "<b>%{hovertext}</b><br><br>Continent=Europe<br>Year=2015<br>avg_years_of_schooling=%{x}<br>suicides_per_100k=%{y}<br>Both sexes=%{marker.size}<extra></extra>",
           "hovertext": [
            "Iceland",
            "Italy",
            "Ukraine",
            "Denmark",
            "Hungary",
            "Estonia",
            "Greece",
            "Germany",
            "Finland",
            "Malta",
            "Serbia",
            "Romania",
            "Belgium",
            "Poland",
            "Switzerland",
            "Norway",
            "Croatia",
            "Latvia",
            "Lithuania",
            "Spain",
            "Luxembourg",
            "Netherlands",
            "Sweden",
            "Austria",
            "Slovenia"
           ],
           "ids": [
            "Iceland",
            "Italy",
            "Ukraine",
            "Denmark",
            "Hungary",
            "Estonia",
            "Greece",
            "Germany",
            "Finland",
            "Malta",
            "Serbia",
            "Romania",
            "Belgium",
            "Poland",
            "Switzerland",
            "Norway",
            "Croatia",
            "Latvia",
            "Lithuania",
            "Spain",
            "Luxembourg",
            "Netherlands",
            "Sweden",
            "Austria",
            "Slovenia"
           ],
           "legendgroup": "Europe",
           "marker": {
            "color": "#1F77B4",
            "size": [
             54,
             55,
             188,
             66,
             132,
             116,
             68,
             71,
             70,
             55,
             106,
             136,
             72,
             115,
             50,
             54,
             96,
             154,
             165,
             58,
             52,
             58,
             54,
             64,
             74
            ],
            "sizemode": "area",
            "sizeref": 0.53,
            "symbol": "circle"
           },
           "mode": "markers",
           "name": "Europe",
           "orientation": "v",
           "showlegend": true,
           "type": "scatter",
           "x": [
            12.2,
            10.2,
            11.3,
            12.5,
            11.8,
            12.7,
            10.6,
            14.1,
            12.4,
            11.2,
            11,
            10.9,
            11.7,
            12.1,
            13.4,
            12.5,
            11.2,
            12.8,
            13,
            9.7,
            12,
            12.1,
            12.4,
            12.1,
            12
           ],
           "xaxis": "x",
           "y": [
            140.65,
            78.45,
            244.72,
            121.42,
            257.27,
            205.38,
            56.06,
            150.34,
            161.19,
            78.27,
            205.97,
            133.54999999999998,
            196.66,
            166.99,
            164.66,
            136.43,
            229.68,
            251.47,
            385.48,
            97.38000000000001,
            134.4,
            126.93,
            149.3,
            194.62,
            264.81
           ],
           "yaxis": "y"
          },
          {
           "hovertemplate": "<b>%{hovertext}</b><br><br>Continent=South America<br>Year=2015<br>avg_years_of_schooling=%{x}<br>suicides_per_100k=%{y}<br>Both sexes=%{marker.size}<extra></extra>",
           "hovertext": [
            "Ecuador",
            "Uruguay",
            "Brazil",
            "Argentina",
            "Colombia",
            "Chile"
           ],
           "ids": [
            "Ecuador",
            "Uruguay",
            "Brazil",
            "Argentina",
            "Colombia",
            "Chile"
           ],
           "legendgroup": "South America",
           "marker": {
            "color": "#FF7F0E",
            "size": [
             117,
             114,
             145,
             113,
             138,
             88
            ],
            "sizemode": "area",
            "sizeref": 0.53,
            "symbol": "circle"
           },
           "mode": "markers",
           "name": "South America",
           "orientation": "v",
           "showlegend": true,
           "type": "scatter",
           "x": [
            8.4,
            8.7,
            7.6,
            9.8,
            8.1,
            10.3
           ],
           "xaxis": "x",
           "y": [
            97.39,
            270.02,
            77.45,
            112.13,
            70.39999999999999,
            147.68
           ],
           "yaxis": "y"
          },
          {
           "hovertemplate": "<b>%{hovertext}</b><br><br>Continent=Oceania<br>Year=2015<br>avg_years_of_schooling=%{x}<br>suicides_per_100k=%{y}<br>Both sexes=%{marker.size}<extra></extra>",
           "hovertext": [
            "Australia"
           ],
           "ids": [
            "Australia"
           ],
           "legendgroup": "Oceania",
           "marker": {
            "color": "#2CA02C",
            "size": [
             62
            ],
            "sizemode": "area",
            "sizeref": 0.53,
            "symbol": "circle"
           },
           "mode": "markers",
           "name": "Oceania",
           "orientation": "v",
           "showlegend": true,
           "type": "scatter",
           "x": [
            12.8
           ],
           "xaxis": "x",
           "y": [
            154.18
           ],
           "yaxis": "y"
          },
          {
           "hovertemplate": "<b>%{hovertext}</b><br><br>Continent=North America<br>Year=2015<br>avg_years_of_schooling=%{x}<br>suicides_per_100k=%{y}<br>Both sexes=%{marker.size}<extra></extra>",
           "hovertext": [
            "Antigua and Barbuda",
            "Cuba",
            "Guatemala",
            "Grenada",
            "Belize",
            "Panama",
            "Nicaragua",
            "Mexico"
           ],
           "ids": [
            "Antigua and Barbuda",
            "Cuba",
            "Guatemala",
            "Grenada",
            "Belize",
            "Panama",
            "Nicaragua",
            "Mexico"
           ],
           "legendgroup": "North America",
           "marker": {
            "color": "#D62728",
            "size": [
             122,
             94,
             165,
             141,
             182,
             112,
             148,
             128
            ],
            "sizemode": "area",
            "sizeref": 0.53,
            "symbol": "circle"
           },
           "mode": "markers",
           "name": "North America",
           "orientation": "v",
           "showlegend": true,
           "type": "scatter",
           "x": [
            9.2,
            11.4,
            6.3,
            8.7,
            10.5,
            9.9,
            6.5,
            8.6
           ],
           "xaxis": "x",
           "y": [
            15.62,
            194.31,
            44.85,
            0,
            135.46,
            44.9,
            69.87,
            66.57
           ],
           "yaxis": "y"
          },
          {
           "hovertemplate": "<b>%{hovertext}</b><br><br>Continent=Asia<br>Year=2015<br>avg_years_of_schooling=%{x}<br>suicides_per_100k=%{y}<br>Both sexes=%{marker.size}<extra></extra>",
           "hovertext": [
            "Kazakhstan",
            "Japan",
            "Israel",
            "Georgia",
            "Cyprus",
            "Kyrgyzstan",
            "Armenia",
            "Qatar",
            "Turkmenistan",
            "Singapore",
            "Turkey",
            "Thailand"
           ],
           "ids": [
            "Kazakhstan",
            "Japan",
            "Israel",
            "Georgia",
            "Cyprus",
            "Kyrgyzstan",
            "Armenia",
            "Qatar",
            "Turkmenistan",
            "Singapore",
            "Turkey",
            "Thailand"
           ],
           "legendgroup": "Asia",
           "marker": {
            "color": "#9467BD",
            "size": [
             192,
             53,
             58,
             156,
             57,
             167,
             121,
             63,
             198,
             54,
             106,
             149
            ],
            "sizemode": "area",
            "sizeref": 0.53,
            "symbol": "circle"
           },
           "mode": "markers",
           "name": "Asia",
           "orientation": "v",
           "showlegend": true,
           "type": "scatter",
           "x": [
            11.7,
            12.5,
            13,
            12.7,
            11.9,
            10.8,
            11.6,
            9.8,
            9.8,
            11.5,
            7.8,
            7.6
           ],
           "xaxis": "x",
           "y": [
            238.01999999999998,
            206.04,
            65.91,
            84.67999999999999,
            49.589999999999996,
            98.37,
            45.28,
            18.84,
            28.48,
            109.28999999999999,
            28.47,
            81.15
           ],
           "yaxis": "y"
          },
          {
           "hovertemplate": "<b>%{hovertext}</b><br><br>Continent=Africa<br>Year=2015<br>avg_years_of_schooling=%{x}<br>suicides_per_100k=%{y}<br>Both sexes=%{marker.size}<extra></extra>",
           "hovertext": [
            "Seychelles",
            "Mauritius",
            "South Africa"
           ],
           "ids": [
            "Seychelles",
            "Mauritius",
            "South Africa"
           ],
           "legendgroup": "Africa",
           "marker": {
            "color": "#8C564B",
            "size": [
             166,
             148,
             305
            ],
            "sizemode": "area",
            "sizeref": 0.53,
            "symbol": "circle"
           },
           "mode": "markers",
           "name": "Africa",
           "orientation": "v",
           "showlegend": true,
           "type": "scatter",
           "x": [
            9.5,
            9.1,
            10.1
           ],
           "xaxis": "x",
           "y": [
            81.25,
            99.97,
            13
           ],
           "yaxis": "y"
          }
         ],
         "name": "2015"
        },
        {
         "data": [
          {
           "hovertemplate": "<b>%{hovertext}</b><br><br>Continent=Europe<br>Year=2016<br>avg_years_of_schooling=%{x}<br>suicides_per_100k=%{y}<br>Both sexes=%{marker.size}<extra></extra>",
           "hovertext": [
            "Austria",
            "Romania",
            "Croatia",
            "Sweden",
            "Hungary",
            "Netherlands",
            "Lithuania",
            "Iceland"
           ],
           "ids": [
            "Austria",
            "Romania",
            "Croatia",
            "Sweden",
            "Hungary",
            "Netherlands",
            "Lithuania",
            "Iceland"
           ],
           "legendgroup": "Europe",
           "marker": {
            "color": "#1F77B4",
            "size": [
             62,
             135,
             88,
             52,
             126,
             59,
             155,
             55
            ],
            "sizemode": "area",
            "sizeref": 0.53,
            "symbol": "circle"
           },
           "mode": "markers",
           "name": "Europe",
           "orientation": "v",
           "showlegend": true,
           "type": "scatter",
           "x": [
            12.1,
            11,
            11.3,
            12.4,
            11.9,
            12.1,
            13,
            12.4
           ],
           "xaxis": "x",
           "y": [
            183.23,
            116.33,
            213.56,
            138.84,
            241.34,
            127.39,
            361.72,
            138.07
           ],
           "yaxis": "y"
          },
          {
           "hovertemplate": "<b>%{hovertext}</b><br><br>Continent=North America<br>Year=2016<br>avg_years_of_schooling=%{x}<br>suicides_per_100k=%{y}<br>Both sexes=%{marker.size}<extra></extra>",
           "hovertext": [
            "Grenada"
           ],
           "ids": [
            "Grenada"
           ],
           "legendgroup": "North America",
           "marker": {
            "color": "#D62728",
            "size": [
             140
            ],
            "sizemode": "area",
            "sizeref": 0.53,
            "symbol": "circle"
           },
           "mode": "markers",
           "name": "North America",
           "orientation": "v",
           "showlegend": true,
           "type": "scatter",
           "x": [
            8.7
           ],
           "xaxis": "x",
           "y": [
            0
           ],
           "yaxis": "y"
          },
          {
           "hovertemplate": "<b>%{hovertext}</b><br><br>Continent=Asia<br>Year=2016<br>avg_years_of_schooling=%{x}<br>suicides_per_100k=%{y}<br>Both sexes=%{marker.size}<extra></extra>",
           "hovertext": [
            "Armenia",
            "Qatar",
            "Thailand",
            "Mongolia",
            "Cyprus"
           ],
           "ids": [
            "Armenia",
            "Qatar",
            "Thailand",
            "Mongolia",
            "Cyprus"
           ],
           "legendgroup": "Asia",
           "marker": {
            "color": "#9467BD",
            "size": [
             116,
             62,
             147,
             211,
             55
            ],
            "sizemode": "area",
            "sizeref": 0.53,
            "symbol": "circle"
           },
           "mode": "markers",
           "name": "Asia",
           "orientation": "v",
           "showlegend": true,
           "type": "scatter",
           "x": [
            11.7,
            9.8,
            7.6,
            10.1,
            12.1
           ],
           "xaxis": "x",
           "y": [
            40.56,
            16.43,
            77.32,
            184.39,
            47.15
           ],
           "yaxis": "y"
          },
          {
           "hovertemplate": "<b>%{hovertext}</b><br><br>Continent=Africa<br>Year=2016<br>avg_years_of_schooling=%{x}<br>suicides_per_100k=%{y}<br>Both sexes=%{marker.size}<extra></extra>",
           "hovertext": [
            "Mauritius"
           ],
           "ids": [
            "Mauritius"
           ],
           "legendgroup": "Africa",
           "marker": {
            "color": "#8C564B",
            "size": [
             145
            ],
            "sizemode": "area",
            "sizeref": 0.53,
            "symbol": "circle"
           },
           "mode": "markers",
           "name": "Africa",
           "orientation": "v",
           "showlegend": true,
           "type": "scatter",
           "x": [
            9.3
           ],
           "xaxis": "x",
           "y": [
            99.3
           ],
           "yaxis": "y"
          }
         ],
         "name": "2016"
        }
       ],
       "layout": {
        "height": 700,
        "legend": {
         "itemsizing": "constant",
         "title": {
          "text": "Continent"
         },
         "tracegroupgap": 0
        },
        "margin": {
         "t": 60
        },
        "sliders": [
         {
          "active": 0,
          "currentvalue": {
           "prefix": "Year="
          },
          "len": 0.9,
          "pad": {
           "b": 10,
           "t": 60
          },
          "steps": [
           {
            "args": [
             [
              "2000"
             ],
             {
              "frame": {
               "duration": 0,
               "redraw": false
              },
              "fromcurrent": true,
              "mode": "immediate",
              "transition": {
               "duration": 0,
               "easing": "linear"
              }
             }
            ],
            "label": "2000",
            "method": "animate"
           },
           {
            "args": [
             [
              "2001"
             ],
             {
              "frame": {
               "duration": 0,
               "redraw": false
              },
              "fromcurrent": true,
              "mode": "immediate",
              "transition": {
               "duration": 0,
               "easing": "linear"
              }
             }
            ],
            "label": "2001",
            "method": "animate"
           },
           {
            "args": [
             [
              "2002"
             ],
             {
              "frame": {
               "duration": 0,
               "redraw": false
              },
              "fromcurrent": true,
              "mode": "immediate",
              "transition": {
               "duration": 0,
               "easing": "linear"
              }
             }
            ],
            "label": "2002",
            "method": "animate"
           },
           {
            "args": [
             [
              "2003"
             ],
             {
              "frame": {
               "duration": 0,
               "redraw": false
              },
              "fromcurrent": true,
              "mode": "immediate",
              "transition": {
               "duration": 0,
               "easing": "linear"
              }
             }
            ],
            "label": "2003",
            "method": "animate"
           },
           {
            "args": [
             [
              "2004"
             ],
             {
              "frame": {
               "duration": 0,
               "redraw": false
              },
              "fromcurrent": true,
              "mode": "immediate",
              "transition": {
               "duration": 0,
               "easing": "linear"
              }
             }
            ],
            "label": "2004",
            "method": "animate"
           },
           {
            "args": [
             [
              "2005"
             ],
             {
              "frame": {
               "duration": 0,
               "redraw": false
              },
              "fromcurrent": true,
              "mode": "immediate",
              "transition": {
               "duration": 0,
               "easing": "linear"
              }
             }
            ],
            "label": "2005",
            "method": "animate"
           },
           {
            "args": [
             [
              "2006"
             ],
             {
              "frame": {
               "duration": 0,
               "redraw": false
              },
              "fromcurrent": true,
              "mode": "immediate",
              "transition": {
               "duration": 0,
               "easing": "linear"
              }
             }
            ],
            "label": "2006",
            "method": "animate"
           },
           {
            "args": [
             [
              "2007"
             ],
             {
              "frame": {
               "duration": 0,
               "redraw": false
              },
              "fromcurrent": true,
              "mode": "immediate",
              "transition": {
               "duration": 0,
               "easing": "linear"
              }
             }
            ],
            "label": "2007",
            "method": "animate"
           },
           {
            "args": [
             [
              "2008"
             ],
             {
              "frame": {
               "duration": 0,
               "redraw": false
              },
              "fromcurrent": true,
              "mode": "immediate",
              "transition": {
               "duration": 0,
               "easing": "linear"
              }
             }
            ],
            "label": "2008",
            "method": "animate"
           },
           {
            "args": [
             [
              "2009"
             ],
             {
              "frame": {
               "duration": 0,
               "redraw": false
              },
              "fromcurrent": true,
              "mode": "immediate",
              "transition": {
               "duration": 0,
               "easing": "linear"
              }
             }
            ],
            "label": "2009",
            "method": "animate"
           },
           {
            "args": [
             [
              "2010"
             ],
             {
              "frame": {
               "duration": 0,
               "redraw": false
              },
              "fromcurrent": true,
              "mode": "immediate",
              "transition": {
               "duration": 0,
               "easing": "linear"
              }
             }
            ],
            "label": "2010",
            "method": "animate"
           },
           {
            "args": [
             [
              "2011"
             ],
             {
              "frame": {
               "duration": 0,
               "redraw": false
              },
              "fromcurrent": true,
              "mode": "immediate",
              "transition": {
               "duration": 0,
               "easing": "linear"
              }
             }
            ],
            "label": "2011",
            "method": "animate"
           },
           {
            "args": [
             [
              "2012"
             ],
             {
              "frame": {
               "duration": 0,
               "redraw": false
              },
              "fromcurrent": true,
              "mode": "immediate",
              "transition": {
               "duration": 0,
               "easing": "linear"
              }
             }
            ],
            "label": "2012",
            "method": "animate"
           },
           {
            "args": [
             [
              "2013"
             ],
             {
              "frame": {
               "duration": 0,
               "redraw": false
              },
              "fromcurrent": true,
              "mode": "immediate",
              "transition": {
               "duration": 0,
               "easing": "linear"
              }
             }
            ],
            "label": "2013",
            "method": "animate"
           },
           {
            "args": [
             [
              "2014"
             ],
             {
              "frame": {
               "duration": 0,
               "redraw": false
              },
              "fromcurrent": true,
              "mode": "immediate",
              "transition": {
               "duration": 0,
               "easing": "linear"
              }
             }
            ],
            "label": "2014",
            "method": "animate"
           },
           {
            "args": [
             [
              "2015"
             ],
             {
              "frame": {
               "duration": 0,
               "redraw": false
              },
              "fromcurrent": true,
              "mode": "immediate",
              "transition": {
               "duration": 0,
               "easing": "linear"
              }
             }
            ],
            "label": "2015",
            "method": "animate"
           },
           {
            "args": [
             [
              "2016"
             ],
             {
              "frame": {
               "duration": 0,
               "redraw": false
              },
              "fromcurrent": true,
              "mode": "immediate",
              "transition": {
               "duration": 0,
               "easing": "linear"
              }
             }
            ],
            "label": "2016",
            "method": "animate"
           }
          ],
          "x": 0.1,
          "xanchor": "left",
          "y": 0,
          "yanchor": "top"
         }
        ],
        "template": {
         "data": {
          "bar": [
           {
            "error_x": {
             "color": "rgb(36,36,36)"
            },
            "error_y": {
             "color": "rgb(36,36,36)"
            },
            "marker": {
             "line": {
              "color": "white",
              "width": 0.5
             },
             "pattern": {
              "fillmode": "overlay",
              "size": 10,
              "solidity": 0.2
             }
            },
            "type": "bar"
           }
          ],
          "barpolar": [
           {
            "marker": {
             "line": {
              "color": "white",
              "width": 0.5
             },
             "pattern": {
              "fillmode": "overlay",
              "size": 10,
              "solidity": 0.2
             }
            },
            "type": "barpolar"
           }
          ],
          "carpet": [
           {
            "aaxis": {
             "endlinecolor": "rgb(36,36,36)",
             "gridcolor": "white",
             "linecolor": "white",
             "minorgridcolor": "white",
             "startlinecolor": "rgb(36,36,36)"
            },
            "baxis": {
             "endlinecolor": "rgb(36,36,36)",
             "gridcolor": "white",
             "linecolor": "white",
             "minorgridcolor": "white",
             "startlinecolor": "rgb(36,36,36)"
            },
            "type": "carpet"
           }
          ],
          "choropleth": [
           {
            "colorbar": {
             "outlinewidth": 1,
             "tickcolor": "rgb(36,36,36)",
             "ticks": "outside"
            },
            "type": "choropleth"
           }
          ],
          "contour": [
           {
            "colorbar": {
             "outlinewidth": 1,
             "tickcolor": "rgb(36,36,36)",
             "ticks": "outside"
            },
            "colorscale": [
             [
              0,
              "#440154"
             ],
             [
              0.1111111111111111,
              "#482878"
             ],
             [
              0.2222222222222222,
              "#3e4989"
             ],
             [
              0.3333333333333333,
              "#31688e"
             ],
             [
              0.4444444444444444,
              "#26828e"
             ],
             [
              0.5555555555555556,
              "#1f9e89"
             ],
             [
              0.6666666666666666,
              "#35b779"
             ],
             [
              0.7777777777777778,
              "#6ece58"
             ],
             [
              0.8888888888888888,
              "#b5de2b"
             ],
             [
              1,
              "#fde725"
             ]
            ],
            "type": "contour"
           }
          ],
          "contourcarpet": [
           {
            "colorbar": {
             "outlinewidth": 1,
             "tickcolor": "rgb(36,36,36)",
             "ticks": "outside"
            },
            "type": "contourcarpet"
           }
          ],
          "heatmap": [
           {
            "colorbar": {
             "outlinewidth": 1,
             "tickcolor": "rgb(36,36,36)",
             "ticks": "outside"
            },
            "colorscale": [
             [
              0,
              "#440154"
             ],
             [
              0.1111111111111111,
              "#482878"
             ],
             [
              0.2222222222222222,
              "#3e4989"
             ],
             [
              0.3333333333333333,
              "#31688e"
             ],
             [
              0.4444444444444444,
              "#26828e"
             ],
             [
              0.5555555555555556,
              "#1f9e89"
             ],
             [
              0.6666666666666666,
              "#35b779"
             ],
             [
              0.7777777777777778,
              "#6ece58"
             ],
             [
              0.8888888888888888,
              "#b5de2b"
             ],
             [
              1,
              "#fde725"
             ]
            ],
            "type": "heatmap"
           }
          ],
          "heatmapgl": [
           {
            "colorbar": {
             "outlinewidth": 1,
             "tickcolor": "rgb(36,36,36)",
             "ticks": "outside"
            },
            "colorscale": [
             [
              0,
              "#440154"
             ],
             [
              0.1111111111111111,
              "#482878"
             ],
             [
              0.2222222222222222,
              "#3e4989"
             ],
             [
              0.3333333333333333,
              "#31688e"
             ],
             [
              0.4444444444444444,
              "#26828e"
             ],
             [
              0.5555555555555556,
              "#1f9e89"
             ],
             [
              0.6666666666666666,
              "#35b779"
             ],
             [
              0.7777777777777778,
              "#6ece58"
             ],
             [
              0.8888888888888888,
              "#b5de2b"
             ],
             [
              1,
              "#fde725"
             ]
            ],
            "type": "heatmapgl"
           }
          ],
          "histogram": [
           {
            "marker": {
             "line": {
              "color": "white",
              "width": 0.6
             }
            },
            "type": "histogram"
           }
          ],
          "histogram2d": [
           {
            "colorbar": {
             "outlinewidth": 1,
             "tickcolor": "rgb(36,36,36)",
             "ticks": "outside"
            },
            "colorscale": [
             [
              0,
              "#440154"
             ],
             [
              0.1111111111111111,
              "#482878"
             ],
             [
              0.2222222222222222,
              "#3e4989"
             ],
             [
              0.3333333333333333,
              "#31688e"
             ],
             [
              0.4444444444444444,
              "#26828e"
             ],
             [
              0.5555555555555556,
              "#1f9e89"
             ],
             [
              0.6666666666666666,
              "#35b779"
             ],
             [
              0.7777777777777778,
              "#6ece58"
             ],
             [
              0.8888888888888888,
              "#b5de2b"
             ],
             [
              1,
              "#fde725"
             ]
            ],
            "type": "histogram2d"
           }
          ],
          "histogram2dcontour": [
           {
            "colorbar": {
             "outlinewidth": 1,
             "tickcolor": "rgb(36,36,36)",
             "ticks": "outside"
            },
            "colorscale": [
             [
              0,
              "#440154"
             ],
             [
              0.1111111111111111,
              "#482878"
             ],
             [
              0.2222222222222222,
              "#3e4989"
             ],
             [
              0.3333333333333333,
              "#31688e"
             ],
             [
              0.4444444444444444,
              "#26828e"
             ],
             [
              0.5555555555555556,
              "#1f9e89"
             ],
             [
              0.6666666666666666,
              "#35b779"
             ],
             [
              0.7777777777777778,
              "#6ece58"
             ],
             [
              0.8888888888888888,
              "#b5de2b"
             ],
             [
              1,
              "#fde725"
             ]
            ],
            "type": "histogram2dcontour"
           }
          ],
          "mesh3d": [
           {
            "colorbar": {
             "outlinewidth": 1,
             "tickcolor": "rgb(36,36,36)",
             "ticks": "outside"
            },
            "type": "mesh3d"
           }
          ],
          "parcoords": [
           {
            "line": {
             "colorbar": {
              "outlinewidth": 1,
              "tickcolor": "rgb(36,36,36)",
              "ticks": "outside"
             }
            },
            "type": "parcoords"
           }
          ],
          "pie": [
           {
            "automargin": true,
            "type": "pie"
           }
          ],
          "scatter": [
           {
            "fillpattern": {
             "fillmode": "overlay",
             "size": 10,
             "solidity": 0.2
            },
            "type": "scatter"
           }
          ],
          "scatter3d": [
           {
            "line": {
             "colorbar": {
              "outlinewidth": 1,
              "tickcolor": "rgb(36,36,36)",
              "ticks": "outside"
             }
            },
            "marker": {
             "colorbar": {
              "outlinewidth": 1,
              "tickcolor": "rgb(36,36,36)",
              "ticks": "outside"
             }
            },
            "type": "scatter3d"
           }
          ],
          "scattercarpet": [
           {
            "marker": {
             "colorbar": {
              "outlinewidth": 1,
              "tickcolor": "rgb(36,36,36)",
              "ticks": "outside"
             }
            },
            "type": "scattercarpet"
           }
          ],
          "scattergeo": [
           {
            "marker": {
             "colorbar": {
              "outlinewidth": 1,
              "tickcolor": "rgb(36,36,36)",
              "ticks": "outside"
             }
            },
            "type": "scattergeo"
           }
          ],
          "scattergl": [
           {
            "marker": {
             "colorbar": {
              "outlinewidth": 1,
              "tickcolor": "rgb(36,36,36)",
              "ticks": "outside"
             }
            },
            "type": "scattergl"
           }
          ],
          "scattermapbox": [
           {
            "marker": {
             "colorbar": {
              "outlinewidth": 1,
              "tickcolor": "rgb(36,36,36)",
              "ticks": "outside"
             }
            },
            "type": "scattermapbox"
           }
          ],
          "scatterpolar": [
           {
            "marker": {
             "colorbar": {
              "outlinewidth": 1,
              "tickcolor": "rgb(36,36,36)",
              "ticks": "outside"
             }
            },
            "type": "scatterpolar"
           }
          ],
          "scatterpolargl": [
           {
            "marker": {
             "colorbar": {
              "outlinewidth": 1,
              "tickcolor": "rgb(36,36,36)",
              "ticks": "outside"
             }
            },
            "type": "scatterpolargl"
           }
          ],
          "scatterternary": [
           {
            "marker": {
             "colorbar": {
              "outlinewidth": 1,
              "tickcolor": "rgb(36,36,36)",
              "ticks": "outside"
             }
            },
            "type": "scatterternary"
           }
          ],
          "surface": [
           {
            "colorbar": {
             "outlinewidth": 1,
             "tickcolor": "rgb(36,36,36)",
             "ticks": "outside"
            },
            "colorscale": [
             [
              0,
              "#440154"
             ],
             [
              0.1111111111111111,
              "#482878"
             ],
             [
              0.2222222222222222,
              "#3e4989"
             ],
             [
              0.3333333333333333,
              "#31688e"
             ],
             [
              0.4444444444444444,
              "#26828e"
             ],
             [
              0.5555555555555556,
              "#1f9e89"
             ],
             [
              0.6666666666666666,
              "#35b779"
             ],
             [
              0.7777777777777778,
              "#6ece58"
             ],
             [
              0.8888888888888888,
              "#b5de2b"
             ],
             [
              1,
              "#fde725"
             ]
            ],
            "type": "surface"
           }
          ],
          "table": [
           {
            "cells": {
             "fill": {
              "color": "rgb(237,237,237)"
             },
             "line": {
              "color": "white"
             }
            },
            "header": {
             "fill": {
              "color": "rgb(217,217,217)"
             },
             "line": {
              "color": "white"
             }
            },
            "type": "table"
           }
          ]
         },
         "layout": {
          "annotationdefaults": {
           "arrowhead": 0,
           "arrowwidth": 1
          },
          "autotypenumbers": "strict",
          "coloraxis": {
           "colorbar": {
            "outlinewidth": 1,
            "tickcolor": "rgb(36,36,36)",
            "ticks": "outside"
           }
          },
          "colorscale": {
           "diverging": [
            [
             0,
             "rgb(103,0,31)"
            ],
            [
             0.1,
             "rgb(178,24,43)"
            ],
            [
             0.2,
             "rgb(214,96,77)"
            ],
            [
             0.3,
             "rgb(244,165,130)"
            ],
            [
             0.4,
             "rgb(253,219,199)"
            ],
            [
             0.5,
             "rgb(247,247,247)"
            ],
            [
             0.6,
             "rgb(209,229,240)"
            ],
            [
             0.7,
             "rgb(146,197,222)"
            ],
            [
             0.8,
             "rgb(67,147,195)"
            ],
            [
             0.9,
             "rgb(33,102,172)"
            ],
            [
             1,
             "rgb(5,48,97)"
            ]
           ],
           "sequential": [
            [
             0,
             "#440154"
            ],
            [
             0.1111111111111111,
             "#482878"
            ],
            [
             0.2222222222222222,
             "#3e4989"
            ],
            [
             0.3333333333333333,
             "#31688e"
            ],
            [
             0.4444444444444444,
             "#26828e"
            ],
            [
             0.5555555555555556,
             "#1f9e89"
            ],
            [
             0.6666666666666666,
             "#35b779"
            ],
            [
             0.7777777777777778,
             "#6ece58"
            ],
            [
             0.8888888888888888,
             "#b5de2b"
            ],
            [
             1,
             "#fde725"
            ]
           ],
           "sequentialminus": [
            [
             0,
             "#440154"
            ],
            [
             0.1111111111111111,
             "#482878"
            ],
            [
             0.2222222222222222,
             "#3e4989"
            ],
            [
             0.3333333333333333,
             "#31688e"
            ],
            [
             0.4444444444444444,
             "#26828e"
            ],
            [
             0.5555555555555556,
             "#1f9e89"
            ],
            [
             0.6666666666666666,
             "#35b779"
            ],
            [
             0.7777777777777778,
             "#6ece58"
            ],
            [
             0.8888888888888888,
             "#b5de2b"
            ],
            [
             1,
             "#fde725"
            ]
           ]
          },
          "colorway": [
           "#1F77B4",
           "#FF7F0E",
           "#2CA02C",
           "#D62728",
           "#9467BD",
           "#8C564B",
           "#E377C2",
           "#7F7F7F",
           "#BCBD22",
           "#17BECF"
          ],
          "font": {
           "color": "rgb(36,36,36)"
          },
          "geo": {
           "bgcolor": "white",
           "lakecolor": "white",
           "landcolor": "white",
           "showlakes": true,
           "showland": true,
           "subunitcolor": "white"
          },
          "hoverlabel": {
           "align": "left"
          },
          "hovermode": "closest",
          "mapbox": {
           "style": "light"
          },
          "paper_bgcolor": "white",
          "plot_bgcolor": "white",
          "polar": {
           "angularaxis": {
            "gridcolor": "rgb(232,232,232)",
            "linecolor": "rgb(36,36,36)",
            "showgrid": false,
            "showline": true,
            "ticks": "outside"
           },
           "bgcolor": "white",
           "radialaxis": {
            "gridcolor": "rgb(232,232,232)",
            "linecolor": "rgb(36,36,36)",
            "showgrid": false,
            "showline": true,
            "ticks": "outside"
           }
          },
          "scene": {
           "xaxis": {
            "backgroundcolor": "white",
            "gridcolor": "rgb(232,232,232)",
            "gridwidth": 2,
            "linecolor": "rgb(36,36,36)",
            "showbackground": true,
            "showgrid": false,
            "showline": true,
            "ticks": "outside",
            "zeroline": false,
            "zerolinecolor": "rgb(36,36,36)"
           },
           "yaxis": {
            "backgroundcolor": "white",
            "gridcolor": "rgb(232,232,232)",
            "gridwidth": 2,
            "linecolor": "rgb(36,36,36)",
            "showbackground": true,
            "showgrid": false,
            "showline": true,
            "ticks": "outside",
            "zeroline": false,
            "zerolinecolor": "rgb(36,36,36)"
           },
           "zaxis": {
            "backgroundcolor": "white",
            "gridcolor": "rgb(232,232,232)",
            "gridwidth": 2,
            "linecolor": "rgb(36,36,36)",
            "showbackground": true,
            "showgrid": false,
            "showline": true,
            "ticks": "outside",
            "zeroline": false,
            "zerolinecolor": "rgb(36,36,36)"
           }
          },
          "shapedefaults": {
           "fillcolor": "black",
           "line": {
            "width": 0
           },
           "opacity": 0.3
          },
          "ternary": {
           "aaxis": {
            "gridcolor": "rgb(232,232,232)",
            "linecolor": "rgb(36,36,36)",
            "showgrid": false,
            "showline": true,
            "ticks": "outside"
           },
           "baxis": {
            "gridcolor": "rgb(232,232,232)",
            "linecolor": "rgb(36,36,36)",
            "showgrid": false,
            "showline": true,
            "ticks": "outside"
           },
           "bgcolor": "white",
           "caxis": {
            "gridcolor": "rgb(232,232,232)",
            "linecolor": "rgb(36,36,36)",
            "showgrid": false,
            "showline": true,
            "ticks": "outside"
           }
          },
          "title": {
           "x": 0.05
          },
          "xaxis": {
           "automargin": true,
           "gridcolor": "rgb(232,232,232)",
           "linecolor": "rgb(36,36,36)",
           "showgrid": false,
           "showline": true,
           "ticks": "outside",
           "title": {
            "standoff": 15
           },
           "zeroline": false,
           "zerolinecolor": "rgb(36,36,36)"
          },
          "yaxis": {
           "automargin": true,
           "gridcolor": "rgb(232,232,232)",
           "linecolor": "rgb(36,36,36)",
           "showgrid": false,
           "showline": true,
           "ticks": "outside",
           "title": {
            "standoff": 15
           },
           "zeroline": false,
           "zerolinecolor": "rgb(36,36,36)"
          }
         }
        },
        "updatemenus": [
         {
          "buttons": [
           {
            "args": [
             null,
             {
              "frame": {
               "duration": 500,
               "redraw": false
              },
              "fromcurrent": true,
              "mode": "immediate",
              "transition": {
               "duration": 500,
               "easing": "linear"
              }
             }
            ],
            "label": "&#9654;",
            "method": "animate"
           },
           {
            "args": [
             [
              null
             ],
             {
              "frame": {
               "duration": 0,
               "redraw": false
              },
              "fromcurrent": true,
              "mode": "immediate",
              "transition": {
               "duration": 0,
               "easing": "linear"
              }
             }
            ],
            "label": "&#9724;",
            "method": "animate"
           }
          ],
          "direction": "left",
          "pad": {
           "r": 10,
           "t": 70
          },
          "showactive": false,
          "type": "buttons",
          "x": 0.1,
          "xanchor": "right",
          "y": 0,
          "yanchor": "top"
         }
        ],
        "width": 1000,
        "xaxis": {
         "anchor": "y",
         "domain": [
          0,
          1
         ],
         "title": {
          "text": "avg_years_of_schooling"
         }
        },
        "yaxis": {
         "anchor": "x",
         "domain": [
          0,
          1
         ],
         "title": {
          "text": "suicides_per_100k"
         }
        }
       }
      }
     },
     "metadata": {},
     "output_type": "display_data"
    }
   ],
   "source": [
    "import plotly.express as px\n",
    "px.scatter(final_df_2, x='avg_years_of_schooling', y='suicides_per_100k',\n",
    "           size='Both sexes', size_max=30, color='Continent', animation_frame=\"Year\", animation_group=\"Country\",\n",
    "           template='simple_white', width=1000, height=700,hover_name='Country')"
   ]
  },
  {
   "cell_type": "code",
   "execution_count": 86,
   "metadata": {},
   "outputs": [
    {
     "data": {
      "text/html": [
       "<div>\n",
       "<style scoped>\n",
       "    .dataframe tbody tr th:only-of-type {\n",
       "        vertical-align: middle;\n",
       "    }\n",
       "\n",
       "    .dataframe tbody tr th {\n",
       "        vertical-align: top;\n",
       "    }\n",
       "\n",
       "    .dataframe thead th {\n",
       "        text-align: right;\n",
       "    }\n",
       "</style>\n",
       "<table border=\"1\" class=\"dataframe\">\n",
       "  <thead>\n",
       "    <tr style=\"text-align: right;\">\n",
       "      <th></th>\n",
       "      <th>Country</th>\n",
       "      <th>Code</th>\n",
       "      <th>Year</th>\n",
       "      <th>avg_years_of_schooling</th>\n",
       "      <th>Both sexes</th>\n",
       "      <th>Male</th>\n",
       "      <th>Female</th>\n",
       "      <th>Continent</th>\n",
       "      <th>suicides_per_100k</th>\n",
       "      <th>gdp</th>\n",
       "    </tr>\n",
       "  </thead>\n",
       "  <tbody>\n",
       "    <tr>\n",
       "      <th>0</th>\n",
       "      <td>Albania</td>\n",
       "      <td>ALB</td>\n",
       "      <td>2000</td>\n",
       "      <td>8.8</td>\n",
       "      <td>106</td>\n",
       "      <td>133</td>\n",
       "      <td>76</td>\n",
       "      <td>Europe</td>\n",
       "      <td>30.70</td>\n",
       "      <td>3,632,043,908</td>\n",
       "    </tr>\n",
       "    <tr>\n",
       "      <th>227</th>\n",
       "      <td>Chile</td>\n",
       "      <td>CHL</td>\n",
       "      <td>2000</td>\n",
       "      <td>8.8</td>\n",
       "      <td>103</td>\n",
       "      <td>137</td>\n",
       "      <td>69</td>\n",
       "      <td>South America</td>\n",
       "      <td>149.18</td>\n",
       "      <td>77,860,932,152</td>\n",
       "    </tr>\n",
       "    <tr>\n",
       "      <th>787</th>\n",
       "      <td>Netherlands</td>\n",
       "      <td>NLD</td>\n",
       "      <td>2000</td>\n",
       "      <td>10.8</td>\n",
       "      <td>83</td>\n",
       "      <td>99</td>\n",
       "      <td>67</td>\n",
       "      <td>Europe</td>\n",
       "      <td>118.99</td>\n",
       "      <td>412,807,259,996</td>\n",
       "    </tr>\n",
       "    <tr>\n",
       "      <th>804</th>\n",
       "      <td>New Zealand</td>\n",
       "      <td>NZL</td>\n",
       "      <td>2000</td>\n",
       "      <td>11.6</td>\n",
       "      <td>86</td>\n",
       "      <td>105</td>\n",
       "      <td>67</td>\n",
       "      <td>Oceania</td>\n",
       "      <td>157.54</td>\n",
       "      <td>52,622,842,840</td>\n",
       "    </tr>\n",
       "    <tr>\n",
       "      <th>213</th>\n",
       "      <td>Canada</td>\n",
       "      <td>CAN</td>\n",
       "      <td>2000</td>\n",
       "      <td>11.0</td>\n",
       "      <td>81</td>\n",
       "      <td>100</td>\n",
       "      <td>61</td>\n",
       "      <td>North America</td>\n",
       "      <td>139.00</td>\n",
       "      <td>742,293,448,253</td>\n",
       "    </tr>\n",
       "    <tr>\n",
       "      <th>...</th>\n",
       "      <td>...</td>\n",
       "      <td>...</td>\n",
       "      <td>...</td>\n",
       "      <td>...</td>\n",
       "      <td>...</td>\n",
       "      <td>...</td>\n",
       "      <td>...</td>\n",
       "      <td>...</td>\n",
       "      <td>...</td>\n",
       "      <td>...</td>\n",
       "    </tr>\n",
       "    <tr>\n",
       "      <th>320</th>\n",
       "      <td>Cyprus</td>\n",
       "      <td>CYP</td>\n",
       "      <td>2016</td>\n",
       "      <td>12.1</td>\n",
       "      <td>55</td>\n",
       "      <td>73</td>\n",
       "      <td>37</td>\n",
       "      <td>Asia</td>\n",
       "      <td>47.15</td>\n",
       "      <td>20,153,871,681</td>\n",
       "    </tr>\n",
       "    <tr>\n",
       "      <th>762</th>\n",
       "      <td>Mauritius</td>\n",
       "      <td>MUS</td>\n",
       "      <td>2016</td>\n",
       "      <td>9.3</td>\n",
       "      <td>145</td>\n",
       "      <td>194</td>\n",
       "      <td>94</td>\n",
       "      <td>Africa</td>\n",
       "      <td>99.30</td>\n",
       "      <td>12,232,463,656</td>\n",
       "    </tr>\n",
       "    <tr>\n",
       "      <th>703</th>\n",
       "      <td>Lithuania</td>\n",
       "      <td>LTU</td>\n",
       "      <td>2016</td>\n",
       "      <td>13.0</td>\n",
       "      <td>155</td>\n",
       "      <td>231</td>\n",
       "      <td>79</td>\n",
       "      <td>Europe</td>\n",
       "      <td>361.72</td>\n",
       "      <td>42,773,029,835</td>\n",
       "    </tr>\n",
       "    <tr>\n",
       "      <th>485</th>\n",
       "      <td>Grenada</td>\n",
       "      <td>GRD</td>\n",
       "      <td>2016</td>\n",
       "      <td>8.7</td>\n",
       "      <td>140</td>\n",
       "      <td>183</td>\n",
       "      <td>96</td>\n",
       "      <td>North America</td>\n",
       "      <td>0.00</td>\n",
       "      <td>1,056,188,593</td>\n",
       "    </tr>\n",
       "    <tr>\n",
       "      <th>548</th>\n",
       "      <td>Iceland</td>\n",
       "      <td>ISL</td>\n",
       "      <td>2016</td>\n",
       "      <td>12.4</td>\n",
       "      <td>55</td>\n",
       "      <td>67</td>\n",
       "      <td>42</td>\n",
       "      <td>Europe</td>\n",
       "      <td>138.07</td>\n",
       "      <td>20,304,098,101</td>\n",
       "    </tr>\n",
       "  </tbody>\n",
       "</table>\n",
       "<p>1204 rows × 10 columns</p>\n",
       "</div>"
      ],
      "text/plain": [
       "         Country Code  Year  avg_years_of_schooling  Both sexes  Male  Female  \\\n",
       "0        Albania  ALB  2000                     8.8         106   133      76   \n",
       "227        Chile  CHL  2000                     8.8         103   137      69   \n",
       "787  Netherlands  NLD  2000                    10.8          83    99      67   \n",
       "804  New Zealand  NZL  2000                    11.6          86   105      67   \n",
       "213       Canada  CAN  2000                    11.0          81   100      61   \n",
       "..           ...  ...   ...                     ...         ...   ...     ...   \n",
       "320       Cyprus  CYP  2016                    12.1          55    73      37   \n",
       "762    Mauritius  MUS  2016                     9.3         145   194      94   \n",
       "703    Lithuania  LTU  2016                    13.0         155   231      79   \n",
       "485      Grenada  GRD  2016                     8.7         140   183      96   \n",
       "548      Iceland  ISL  2016                    12.4          55    67      42   \n",
       "\n",
       "         Continent  suicides_per_100k              gdp  \n",
       "0           Europe              30.70    3,632,043,908  \n",
       "227  South America             149.18   77,860,932,152  \n",
       "787         Europe             118.99  412,807,259,996  \n",
       "804        Oceania             157.54   52,622,842,840  \n",
       "213  North America             139.00  742,293,448,253  \n",
       "..             ...                ...              ...  \n",
       "320           Asia              47.15   20,153,871,681  \n",
       "762         Africa              99.30   12,232,463,656  \n",
       "703         Europe             361.72   42,773,029,835  \n",
       "485  North America               0.00    1,056,188,593  \n",
       "548         Europe             138.07   20,304,098,101  \n",
       "\n",
       "[1204 rows x 10 columns]"
      ]
     },
     "execution_count": 86,
     "metadata": {},
     "output_type": "execute_result"
    }
   ],
   "source": [
    "final_df_2"
   ]
  },
  {
   "cell_type": "code",
   "execution_count": null,
   "metadata": {},
   "outputs": [],
   "source": []
  }
 ],
 "metadata": {
  "kernelspec": {
   "display_name": "Python 3 (ipykernel)",
   "language": "python",
   "name": "python3"
  },
  "language_info": {
   "codemirror_mode": {
    "name": "ipython",
    "version": 3
   },
   "file_extension": ".py",
   "mimetype": "text/x-python",
   "name": "python",
   "nbconvert_exporter": "python",
   "pygments_lexer": "ipython3",
   "version": "3.10.10"
  },
  "vscode": {
   "interpreter": {
    "hash": "b1b36b063993772ac0562bc8d8b6eb957454c97760e4751b586aaa9fa2f1e4a2"
   }
  }
 },
 "nbformat": 4,
 "nbformat_minor": 2
}
