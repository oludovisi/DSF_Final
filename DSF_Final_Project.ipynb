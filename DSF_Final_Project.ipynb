{
 "cells": [
  {
   "cell_type": "code",
   "execution_count": 30,
   "metadata": {},
   "outputs": [],
   "source": [
    "import pandas as pd\n",
    "import numpy as np\n",
    "import matplotlib.pyplot as plt\n",
    "import seaborn as sns\n",
    "import pycountry_convert as pc\n",
    "sns.set_style('white')\n",
    "plt.rcParams[\"figure.figsize\"] = (12, 8)"
   ]
  },
  {
   "cell_type": "code",
   "execution_count": 174,
   "metadata": {},
   "outputs": [
    {
     "name": "stdout",
     "output_type": "stream",
     "text": [
      "Requirement already satisfied: kaleido in c:\\users\\oludo\\appdata\\local\\packages\\pythonsoftwarefoundation.python.3.10_qbz5n2kfra8p0\\localcache\\local-packages\\python310\\site-packages (0.2.1)\n"
     ]
    },
    {
     "name": "stderr",
     "output_type": "stream",
     "text": [
      "\n",
      "[notice] A new release of pip is available: 23.0 -> 23.0.1\n",
      "[notice] To update, run: C:\\Users\\oludo\\AppData\\Local\\Microsoft\\WindowsApps\\PythonSoftwareFoundation.Python.3.10_qbz5n2kfra8p0\\python.exe -m pip install --upgrade pip\n"
     ]
    }
   ],
   "source": [
    "!pip install -U kaleido"
   ]
  },
  {
   "cell_type": "code",
   "execution_count": 31,
   "metadata": {},
   "outputs": [
    {
     "data": {
      "text/html": [
       "<div>\n",
       "<style scoped>\n",
       "    .dataframe tbody tr th:only-of-type {\n",
       "        vertical-align: middle;\n",
       "    }\n",
       "\n",
       "    .dataframe tbody tr th {\n",
       "        vertical-align: top;\n",
       "    }\n",
       "\n",
       "    .dataframe thead th {\n",
       "        text-align: right;\n",
       "    }\n",
       "</style>\n",
       "<table border=\"1\" class=\"dataframe\">\n",
       "  <thead>\n",
       "    <tr style=\"text-align: right;\">\n",
       "      <th></th>\n",
       "      <th>Entity</th>\n",
       "      <th>Code</th>\n",
       "      <th>Year</th>\n",
       "      <th>avg_years_of_schooling</th>\n",
       "    </tr>\n",
       "  </thead>\n",
       "  <tbody>\n",
       "    <tr>\n",
       "      <th>0</th>\n",
       "      <td>Afghanistan</td>\n",
       "      <td>AFG</td>\n",
       "      <td>1870</td>\n",
       "      <td>0.01</td>\n",
       "    </tr>\n",
       "    <tr>\n",
       "      <th>1</th>\n",
       "      <td>Afghanistan</td>\n",
       "      <td>AFG</td>\n",
       "      <td>1875</td>\n",
       "      <td>0.01</td>\n",
       "    </tr>\n",
       "    <tr>\n",
       "      <th>2</th>\n",
       "      <td>Afghanistan</td>\n",
       "      <td>AFG</td>\n",
       "      <td>1880</td>\n",
       "      <td>0.01</td>\n",
       "    </tr>\n",
       "    <tr>\n",
       "      <th>3</th>\n",
       "      <td>Afghanistan</td>\n",
       "      <td>AFG</td>\n",
       "      <td>1885</td>\n",
       "      <td>0.01</td>\n",
       "    </tr>\n",
       "    <tr>\n",
       "      <th>4</th>\n",
       "      <td>Afghanistan</td>\n",
       "      <td>AFG</td>\n",
       "      <td>1890</td>\n",
       "      <td>0.01</td>\n",
       "    </tr>\n",
       "    <tr>\n",
       "      <th>...</th>\n",
       "      <td>...</td>\n",
       "      <td>...</td>\n",
       "      <td>...</td>\n",
       "      <td>...</td>\n",
       "    </tr>\n",
       "    <tr>\n",
       "      <th>7758</th>\n",
       "      <td>Zimbabwe</td>\n",
       "      <td>ZWE</td>\n",
       "      <td>2013</td>\n",
       "      <td>8.00</td>\n",
       "    </tr>\n",
       "    <tr>\n",
       "      <th>7759</th>\n",
       "      <td>Zimbabwe</td>\n",
       "      <td>ZWE</td>\n",
       "      <td>2014</td>\n",
       "      <td>8.20</td>\n",
       "    </tr>\n",
       "    <tr>\n",
       "      <th>7760</th>\n",
       "      <td>Zimbabwe</td>\n",
       "      <td>ZWE</td>\n",
       "      <td>2015</td>\n",
       "      <td>8.20</td>\n",
       "    </tr>\n",
       "    <tr>\n",
       "      <th>7761</th>\n",
       "      <td>Zimbabwe</td>\n",
       "      <td>ZWE</td>\n",
       "      <td>2016</td>\n",
       "      <td>8.20</td>\n",
       "    </tr>\n",
       "    <tr>\n",
       "      <th>7762</th>\n",
       "      <td>Zimbabwe</td>\n",
       "      <td>ZWE</td>\n",
       "      <td>2017</td>\n",
       "      <td>8.20</td>\n",
       "    </tr>\n",
       "  </tbody>\n",
       "</table>\n",
       "<p>7763 rows × 4 columns</p>\n",
       "</div>"
      ],
      "text/plain": [
       "           Entity Code  Year  avg_years_of_schooling\n",
       "0     Afghanistan  AFG  1870                    0.01\n",
       "1     Afghanistan  AFG  1875                    0.01\n",
       "2     Afghanistan  AFG  1880                    0.01\n",
       "3     Afghanistan  AFG  1885                    0.01\n",
       "4     Afghanistan  AFG  1890                    0.01\n",
       "...           ...  ...   ...                     ...\n",
       "7758     Zimbabwe  ZWE  2013                    8.00\n",
       "7759     Zimbabwe  ZWE  2014                    8.20\n",
       "7760     Zimbabwe  ZWE  2015                    8.20\n",
       "7761     Zimbabwe  ZWE  2016                    8.20\n",
       "7762     Zimbabwe  ZWE  2017                    8.20\n",
       "\n",
       "[7763 rows x 4 columns]"
      ]
     },
     "execution_count": 31,
     "metadata": {},
     "output_type": "execute_result"
    }
   ],
   "source": [
    "mean_years = pd.read_csv('mean-years-of-schooling-long-run.csv', sep=';')\n",
    "mean_years"
   ]
  },
  {
   "cell_type": "code",
   "execution_count": 32,
   "metadata": {},
   "outputs": [
    {
     "data": {
      "text/html": [
       "<div>\n",
       "<style scoped>\n",
       "    .dataframe tbody tr th:only-of-type {\n",
       "        vertical-align: middle;\n",
       "    }\n",
       "\n",
       "    .dataframe tbody tr th {\n",
       "        vertical-align: top;\n",
       "    }\n",
       "\n",
       "    .dataframe thead th {\n",
       "        text-align: right;\n",
       "    }\n",
       "</style>\n",
       "<table border=\"1\" class=\"dataframe\">\n",
       "  <thead>\n",
       "    <tr style=\"text-align: right;\">\n",
       "      <th></th>\n",
       "      <th>Country</th>\n",
       "      <th>Year</th>\n",
       "      <th>Both sexes</th>\n",
       "      <th>Male</th>\n",
       "      <th>Female</th>\n",
       "    </tr>\n",
       "  </thead>\n",
       "  <tbody>\n",
       "    <tr>\n",
       "      <th>0</th>\n",
       "      <td>Afghanistan</td>\n",
       "      <td>2016</td>\n",
       "      <td>245</td>\n",
       "      <td>272</td>\n",
       "      <td>216</td>\n",
       "    </tr>\n",
       "    <tr>\n",
       "      <th>1</th>\n",
       "      <td>Afghanistan</td>\n",
       "      <td>2015</td>\n",
       "      <td>233</td>\n",
       "      <td>254</td>\n",
       "      <td>210</td>\n",
       "    </tr>\n",
       "    <tr>\n",
       "      <th>2</th>\n",
       "      <td>Afghanistan</td>\n",
       "      <td>2014</td>\n",
       "      <td>234</td>\n",
       "      <td>254</td>\n",
       "      <td>213</td>\n",
       "    </tr>\n",
       "    <tr>\n",
       "      <th>3</th>\n",
       "      <td>Afghanistan</td>\n",
       "      <td>2013</td>\n",
       "      <td>235</td>\n",
       "      <td>254</td>\n",
       "      <td>215</td>\n",
       "    </tr>\n",
       "    <tr>\n",
       "      <th>4</th>\n",
       "      <td>Afghanistan</td>\n",
       "      <td>2012</td>\n",
       "      <td>242</td>\n",
       "      <td>262</td>\n",
       "      <td>221</td>\n",
       "    </tr>\n",
       "    <tr>\n",
       "      <th>...</th>\n",
       "      <td>...</td>\n",
       "      <td>...</td>\n",
       "      <td>...</td>\n",
       "      <td>...</td>\n",
       "      <td>...</td>\n",
       "    </tr>\n",
       "    <tr>\n",
       "      <th>3106</th>\n",
       "      <td>Zimbabwe</td>\n",
       "      <td>2004</td>\n",
       "      <td>694</td>\n",
       "      <td>725</td>\n",
       "      <td>670</td>\n",
       "    </tr>\n",
       "    <tr>\n",
       "      <th>3107</th>\n",
       "      <td>Zimbabwe</td>\n",
       "      <td>2003</td>\n",
       "      <td>697</td>\n",
       "      <td>728</td>\n",
       "      <td>671</td>\n",
       "    </tr>\n",
       "    <tr>\n",
       "      <th>3108</th>\n",
       "      <td>Zimbabwe</td>\n",
       "      <td>2002</td>\n",
       "      <td>695</td>\n",
       "      <td>728</td>\n",
       "      <td>667</td>\n",
       "    </tr>\n",
       "    <tr>\n",
       "      <th>3109</th>\n",
       "      <td>Zimbabwe</td>\n",
       "      <td>2001</td>\n",
       "      <td>688</td>\n",
       "      <td>723</td>\n",
       "      <td>656</td>\n",
       "    </tr>\n",
       "    <tr>\n",
       "      <th>3110</th>\n",
       "      <td>Zimbabwe</td>\n",
       "      <td>2000</td>\n",
       "      <td>675</td>\n",
       "      <td>715</td>\n",
       "      <td>640</td>\n",
       "    </tr>\n",
       "  </tbody>\n",
       "</table>\n",
       "<p>3111 rows × 5 columns</p>\n",
       "</div>"
      ],
      "text/plain": [
       "          Country  Year  Both sexes  Male  Female\n",
       "0     Afghanistan  2016         245   272     216\n",
       "1     Afghanistan  2015         233   254     210\n",
       "2     Afghanistan  2014         234   254     213\n",
       "3     Afghanistan  2013         235   254     215\n",
       "4     Afghanistan  2012         242   262     221\n",
       "...           ...   ...         ...   ...     ...\n",
       "3106     Zimbabwe  2004         694   725     670\n",
       "3107     Zimbabwe  2003         697   728     671\n",
       "3108     Zimbabwe  2002         695   728     667\n",
       "3109     Zimbabwe  2001         688   723     656\n",
       "3110     Zimbabwe  2000         675   715     640\n",
       "\n",
       "[3111 rows x 5 columns]"
      ]
     },
     "execution_count": 32,
     "metadata": {},
     "output_type": "execute_result"
    }
   ],
   "source": [
    "ad_mort = pd.read_csv('Adult mortality.csv', skiprows=1)\n",
    "#ad_mort = ad_mort[(ad_mort['Year'] >= 2013) & (ad_mort['Year'] <2017)]\n",
    "ad_mort"
   ]
  },
  {
   "cell_type": "code",
   "execution_count": 33,
   "metadata": {},
   "outputs": [
    {
     "data": {
      "text/html": [
       "<div>\n",
       "<style scoped>\n",
       "    .dataframe tbody tr th:only-of-type {\n",
       "        vertical-align: middle;\n",
       "    }\n",
       "\n",
       "    .dataframe tbody tr th {\n",
       "        vertical-align: top;\n",
       "    }\n",
       "\n",
       "    .dataframe thead th {\n",
       "        text-align: right;\n",
       "    }\n",
       "</style>\n",
       "<table border=\"1\" class=\"dataframe\">\n",
       "  <thead>\n",
       "    <tr style=\"text-align: right;\">\n",
       "      <th></th>\n",
       "      <th>Country</th>\n",
       "      <th>Year</th>\n",
       "      <th>Maternal mortality ratio (per 100 000 live births)</th>\n",
       "      <th>Number of maternal deaths</th>\n",
       "    </tr>\n",
       "  </thead>\n",
       "  <tbody>\n",
       "    <tr>\n",
       "      <th>0</th>\n",
       "      <td>Afghanistan</td>\n",
       "      <td>2017</td>\n",
       "      <td>638 [ 427 - 1 010 ]</td>\n",
       "      <td>7 700 [ 5 100 - 12 000 ]</td>\n",
       "    </tr>\n",
       "    <tr>\n",
       "      <th>1</th>\n",
       "      <td>Afghanistan</td>\n",
       "      <td>2016</td>\n",
       "      <td>673 [ 457 - 1 040 ]</td>\n",
       "      <td>8 100 [ 5 500 - 12 000 ]</td>\n",
       "    </tr>\n",
       "    <tr>\n",
       "      <th>2</th>\n",
       "      <td>Afghanistan</td>\n",
       "      <td>2015</td>\n",
       "      <td>701 [ 501 - 1 020 ]</td>\n",
       "      <td>8 400 [ 6 000 - 12 000 ]</td>\n",
       "    </tr>\n",
       "    <tr>\n",
       "      <th>3</th>\n",
       "      <td>Afghanistan</td>\n",
       "      <td>2014</td>\n",
       "      <td>786 [ 592 - 1 080 ]</td>\n",
       "      <td>9 300 [ 7 000 - 13 000 ]</td>\n",
       "    </tr>\n",
       "    <tr>\n",
       "      <th>4</th>\n",
       "      <td>Afghanistan</td>\n",
       "      <td>2013</td>\n",
       "      <td>810 [ 617 - 1 080 ]</td>\n",
       "      <td>9 600 [ 7 300 - 13 000 ]</td>\n",
       "    </tr>\n",
       "    <tr>\n",
       "      <th>...</th>\n",
       "      <td>...</td>\n",
       "      <td>...</td>\n",
       "      <td>...</td>\n",
       "      <td>...</td>\n",
       "    </tr>\n",
       "    <tr>\n",
       "      <th>3289</th>\n",
       "      <td>Zimbabwe</td>\n",
       "      <td>2004</td>\n",
       "      <td>686 [ 597 - 784 ]</td>\n",
       "      <td>2 800 [ 2 400 - 3 100 ]</td>\n",
       "    </tr>\n",
       "    <tr>\n",
       "      <th>3290</th>\n",
       "      <td>Zimbabwe</td>\n",
       "      <td>2003</td>\n",
       "      <td>680 [ 590 - 779 ]</td>\n",
       "      <td>2 700 [ 2 300 - 3 100 ]</td>\n",
       "    </tr>\n",
       "    <tr>\n",
       "      <th>3291</th>\n",
       "      <td>Zimbabwe</td>\n",
       "      <td>2002</td>\n",
       "      <td>666 [ 577 - 766 ]</td>\n",
       "      <td>2 600 [ 2 200 - 3 000 ]</td>\n",
       "    </tr>\n",
       "    <tr>\n",
       "      <th>3292</th>\n",
       "      <td>Zimbabwe</td>\n",
       "      <td>2001</td>\n",
       "      <td>629 [ 544 - 723 ]</td>\n",
       "      <td>2 400 [ 2 100 - 2 800 ]</td>\n",
       "    </tr>\n",
       "    <tr>\n",
       "      <th>3293</th>\n",
       "      <td>Zimbabwe</td>\n",
       "      <td>2000</td>\n",
       "      <td>579 [ 500 - 667 ]</td>\n",
       "      <td>2 200 [ 1 900 - 2 500 ]</td>\n",
       "    </tr>\n",
       "  </tbody>\n",
       "</table>\n",
       "<p>3294 rows × 4 columns</p>\n",
       "</div>"
      ],
      "text/plain": [
       "          Country  Year Maternal mortality ratio (per 100 000 live births)  \\\n",
       "0     Afghanistan  2017                                638 [ 427 - 1 010 ]   \n",
       "1     Afghanistan  2016                                673 [ 457 - 1 040 ]   \n",
       "2     Afghanistan  2015                                701 [ 501 - 1 020 ]   \n",
       "3     Afghanistan  2014                                786 [ 592 - 1 080 ]   \n",
       "4     Afghanistan  2013                                810 [ 617 - 1 080 ]   \n",
       "...           ...   ...                                                ...   \n",
       "3289     Zimbabwe  2004                                  686 [ 597 - 784 ]   \n",
       "3290     Zimbabwe  2003                                  680 [ 590 - 779 ]   \n",
       "3291     Zimbabwe  2002                                  666 [ 577 - 766 ]   \n",
       "3292     Zimbabwe  2001                                  629 [ 544 - 723 ]   \n",
       "3293     Zimbabwe  2000                                  579 [ 500 - 667 ]   \n",
       "\n",
       "     Number of maternal deaths  \n",
       "0     7 700 [ 5 100 - 12 000 ]  \n",
       "1     8 100 [ 5 500 - 12 000 ]  \n",
       "2     8 400 [ 6 000 - 12 000 ]  \n",
       "3     9 300 [ 7 000 - 13 000 ]  \n",
       "4     9 600 [ 7 300 - 13 000 ]  \n",
       "...                        ...  \n",
       "3289   2 800 [ 2 400 - 3 100 ]  \n",
       "3290   2 700 [ 2 300 - 3 100 ]  \n",
       "3291   2 600 [ 2 200 - 3 000 ]  \n",
       "3292   2 400 [ 2 100 - 2 800 ]  \n",
       "3293   2 200 [ 1 900 - 2 500 ]  \n",
       "\n",
       "[3294 rows x 4 columns]"
      ]
     },
     "execution_count": 33,
     "metadata": {},
     "output_type": "execute_result"
    }
   ],
   "source": [
    "mat_mort = pd.read_csv('Maternal mortality.csv')\n",
    "mat_mort"
   ]
  },
  {
   "cell_type": "code",
   "execution_count": 34,
   "metadata": {},
   "outputs": [
    {
     "data": {
      "text/html": [
       "<div>\n",
       "<style scoped>\n",
       "    .dataframe tbody tr th:only-of-type {\n",
       "        vertical-align: middle;\n",
       "    }\n",
       "\n",
       "    .dataframe tbody tr th {\n",
       "        vertical-align: top;\n",
       "    }\n",
       "\n",
       "    .dataframe thead th {\n",
       "        text-align: right;\n",
       "    }\n",
       "</style>\n",
       "<table border=\"1\" class=\"dataframe\">\n",
       "  <thead>\n",
       "    <tr style=\"text-align: right;\">\n",
       "      <th></th>\n",
       "      <th>Country</th>\n",
       "      <th>Year</th>\n",
       "      <th>inf_both_sexes</th>\n",
       "      <th>inf_male</th>\n",
       "      <th>inf_female</th>\n",
       "      <th>neonat_both_sexes</th>\n",
       "      <th>u5_both_sexes</th>\n",
       "      <th>u5_male</th>\n",
       "      <th>u5_female</th>\n",
       "    </tr>\n",
       "  </thead>\n",
       "  <tbody>\n",
       "    <tr>\n",
       "      <th>2</th>\n",
       "      <td>Afghanistan</td>\n",
       "      <td>2016</td>\n",
       "      <td>51.2</td>\n",
       "      <td>54.5</td>\n",
       "      <td>47.7</td>\n",
       "      <td>39.3</td>\n",
       "      <td>67.5</td>\n",
       "      <td>70.9</td>\n",
       "      <td>63.7</td>\n",
       "    </tr>\n",
       "    <tr>\n",
       "      <th>3</th>\n",
       "      <td>Afghanistan</td>\n",
       "      <td>2015</td>\n",
       "      <td>53.1</td>\n",
       "      <td>56.5</td>\n",
       "      <td>49.6</td>\n",
       "      <td>40.5</td>\n",
       "      <td>70.4</td>\n",
       "      <td>73.8</td>\n",
       "      <td>66.7</td>\n",
       "    </tr>\n",
       "    <tr>\n",
       "      <th>4</th>\n",
       "      <td>Afghanistan</td>\n",
       "      <td>2014</td>\n",
       "      <td>55.1</td>\n",
       "      <td>58.6</td>\n",
       "      <td>51.5</td>\n",
       "      <td>41.9</td>\n",
       "      <td>73.6</td>\n",
       "      <td>77.0</td>\n",
       "      <td>69.9</td>\n",
       "    </tr>\n",
       "    <tr>\n",
       "      <th>5</th>\n",
       "      <td>Afghanistan</td>\n",
       "      <td>2013</td>\n",
       "      <td>57.3</td>\n",
       "      <td>60.8</td>\n",
       "      <td>53.6</td>\n",
       "      <td>43.3</td>\n",
       "      <td>76.9</td>\n",
       "      <td>80.5</td>\n",
       "      <td>73.2</td>\n",
       "    </tr>\n",
       "    <tr>\n",
       "      <th>8</th>\n",
       "      <td>Albania</td>\n",
       "      <td>2016</td>\n",
       "      <td>8.2</td>\n",
       "      <td>8.9</td>\n",
       "      <td>7.6</td>\n",
       "      <td>6.2</td>\n",
       "      <td>9.3</td>\n",
       "      <td>9.9</td>\n",
       "      <td>8.6</td>\n",
       "    </tr>\n",
       "    <tr>\n",
       "      <th>...</th>\n",
       "      <td>...</td>\n",
       "      <td>...</td>\n",
       "      <td>...</td>\n",
       "      <td>...</td>\n",
       "      <td>...</td>\n",
       "      <td>...</td>\n",
       "      <td>...</td>\n",
       "      <td>...</td>\n",
       "      <td>...</td>\n",
       "    </tr>\n",
       "    <tr>\n",
       "      <th>1157</th>\n",
       "      <td>Zambia</td>\n",
       "      <td>2013</td>\n",
       "      <td>47.8</td>\n",
       "      <td>52.0</td>\n",
       "      <td>43.4</td>\n",
       "      <td>25.3</td>\n",
       "      <td>70.7</td>\n",
       "      <td>75.9</td>\n",
       "      <td>65.1</td>\n",
       "    </tr>\n",
       "    <tr>\n",
       "      <th>1160</th>\n",
       "      <td>Zimbabwe</td>\n",
       "      <td>2016</td>\n",
       "      <td>36.3</td>\n",
       "      <td>40.4</td>\n",
       "      <td>32.0</td>\n",
       "      <td>22.3</td>\n",
       "      <td>50.4</td>\n",
       "      <td>55.0</td>\n",
       "      <td>45.5</td>\n",
       "    </tr>\n",
       "    <tr>\n",
       "      <th>1161</th>\n",
       "      <td>Zimbabwe</td>\n",
       "      <td>2015</td>\n",
       "      <td>38.5</td>\n",
       "      <td>42.8</td>\n",
       "      <td>34.0</td>\n",
       "      <td>23.1</td>\n",
       "      <td>54.3</td>\n",
       "      <td>59.2</td>\n",
       "      <td>49.2</td>\n",
       "    </tr>\n",
       "    <tr>\n",
       "      <th>1162</th>\n",
       "      <td>Zimbabwe</td>\n",
       "      <td>2014</td>\n",
       "      <td>40.4</td>\n",
       "      <td>44.9</td>\n",
       "      <td>35.6</td>\n",
       "      <td>24.2</td>\n",
       "      <td>57.5</td>\n",
       "      <td>62.5</td>\n",
       "      <td>52.3</td>\n",
       "    </tr>\n",
       "    <tr>\n",
       "      <th>1163</th>\n",
       "      <td>Zimbabwe</td>\n",
       "      <td>2013</td>\n",
       "      <td>42.8</td>\n",
       "      <td>47.5</td>\n",
       "      <td>37.9</td>\n",
       "      <td>25.3</td>\n",
       "      <td>62.3</td>\n",
       "      <td>67.4</td>\n",
       "      <td>56.8</td>\n",
       "    </tr>\n",
       "  </tbody>\n",
       "</table>\n",
       "<p>776 rows × 9 columns</p>\n",
       "</div>"
      ],
      "text/plain": [
       "          Country  Year  inf_both_sexes  inf_male  inf_female  \\\n",
       "2     Afghanistan  2016            51.2      54.5        47.7   \n",
       "3     Afghanistan  2015            53.1      56.5        49.6   \n",
       "4     Afghanistan  2014            55.1      58.6        51.5   \n",
       "5     Afghanistan  2013            57.3      60.8        53.6   \n",
       "8         Albania  2016             8.2       8.9         7.6   \n",
       "...           ...   ...             ...       ...         ...   \n",
       "1157       Zambia  2013            47.8      52.0        43.4   \n",
       "1160     Zimbabwe  2016            36.3      40.4        32.0   \n",
       "1161     Zimbabwe  2015            38.5      42.8        34.0   \n",
       "1162     Zimbabwe  2014            40.4      44.9        35.6   \n",
       "1163     Zimbabwe  2013            42.8      47.5        37.9   \n",
       "\n",
       "      neonat_both_sexes  u5_both_sexes  u5_male  u5_female  \n",
       "2                  39.3           67.5     70.9       63.7  \n",
       "3                  40.5           70.4     73.8       66.7  \n",
       "4                  41.9           73.6     77.0       69.9  \n",
       "5                  43.3           76.9     80.5       73.2  \n",
       "8                   6.2            9.3      9.9        8.6  \n",
       "...                 ...            ...      ...        ...  \n",
       "1157               25.3           70.7     75.9       65.1  \n",
       "1160               22.3           50.4     55.0       45.5  \n",
       "1161               23.1           54.3     59.2       49.2  \n",
       "1162               24.2           57.5     62.5       52.3  \n",
       "1163               25.3           62.3     67.4       56.8  \n",
       "\n",
       "[776 rows x 9 columns]"
      ]
     },
     "execution_count": 34,
     "metadata": {},
     "output_type": "execute_result"
    }
   ],
   "source": [
    "prob_dth = pd.read_csv('Probability of dying per 1000 live births.csv',skiprows=1)\n",
    "prob_dth.rename(columns={' Both sexes':'inf_both_sexes',\n",
    "                         ' Male':'inf_male',\n",
    "                         ' Female':'inf_female',\n",
    "                         ' Both sexes.1':'neonat_both_sexes',\n",
    "                         ' Both sexes.2':'u5_both_sexes',\n",
    "                         ' Male.1':'u5_male',\n",
    "                         ' Female.1':'u5_female'}, inplace=True)\n",
    "prob_dth = prob_dth[(prob_dth['Year'] >= 2013) & (prob_dth['Year'] <2017)]\n",
    "prob_dth"
   ]
  },
  {
   "cell_type": "code",
   "execution_count": 35,
   "metadata": {},
   "outputs": [
    {
     "data": {
      "text/html": [
       "<div>\n",
       "<style scoped>\n",
       "    .dataframe tbody tr th:only-of-type {\n",
       "        vertical-align: middle;\n",
       "    }\n",
       "\n",
       "    .dataframe tbody tr th {\n",
       "        vertical-align: top;\n",
       "    }\n",
       "\n",
       "    .dataframe thead th {\n",
       "        text-align: right;\n",
       "    }\n",
       "</style>\n",
       "<table border=\"1\" class=\"dataframe\">\n",
       "  <thead>\n",
       "    <tr style=\"text-align: right;\">\n",
       "      <th></th>\n",
       "      <th>Unnamed: 0</th>\n",
       "      <th>Unnamed: 1</th>\n",
       "      <th>Number of under-five deaths (thousands)</th>\n",
       "      <th>Number of under-five deaths (thousands).1</th>\n",
       "      <th>Number of under-five deaths (thousands).2</th>\n",
       "      <th>Number of infant deaths (thousands)</th>\n",
       "      <th>Number of infant deaths (thousands).1</th>\n",
       "      <th>Number of infant deaths (thousands).2</th>\n",
       "      <th>Number of neonatal deaths (thousands)</th>\n",
       "    </tr>\n",
       "  </thead>\n",
       "  <tbody>\n",
       "    <tr>\n",
       "      <th>0</th>\n",
       "      <td>Country</td>\n",
       "      <td>Year</td>\n",
       "      <td>Both sexes</td>\n",
       "      <td>Male</td>\n",
       "      <td>Female</td>\n",
       "      <td>Both sexes</td>\n",
       "      <td>Male</td>\n",
       "      <td>Female</td>\n",
       "      <td>Both sexes</td>\n",
       "    </tr>\n",
       "    <tr>\n",
       "      <th>1</th>\n",
       "      <td>Afghanistan</td>\n",
       "      <td>2018</td>\n",
       "      <td>74278</td>\n",
       "      <td>40312</td>\n",
       "      <td>33966</td>\n",
       "      <td>57182</td>\n",
       "      <td>31394</td>\n",
       "      <td>25788</td>\n",
       "      <td>44725</td>\n",
       "    </tr>\n",
       "    <tr>\n",
       "      <th>2</th>\n",
       "      <td>Afghanistan</td>\n",
       "      <td>2017</td>\n",
       "      <td>76877</td>\n",
       "      <td>41631</td>\n",
       "      <td>35246</td>\n",
       "      <td>58846</td>\n",
       "      <td>32244</td>\n",
       "      <td>26602</td>\n",
       "      <td>45771</td>\n",
       "    </tr>\n",
       "    <tr>\n",
       "      <th>3</th>\n",
       "      <td>Afghanistan</td>\n",
       "      <td>2016</td>\n",
       "      <td>79770</td>\n",
       "      <td>43134</td>\n",
       "      <td>36636</td>\n",
       "      <td>60673</td>\n",
       "      <td>33222</td>\n",
       "      <td>27451</td>\n",
       "      <td>46963</td>\n",
       "    </tr>\n",
       "    <tr>\n",
       "      <th>4</th>\n",
       "      <td>Afghanistan</td>\n",
       "      <td>2015</td>\n",
       "      <td>82918</td>\n",
       "      <td>44733</td>\n",
       "      <td>38185</td>\n",
       "      <td>62652</td>\n",
       "      <td>34257</td>\n",
       "      <td>28395</td>\n",
       "      <td>48237</td>\n",
       "    </tr>\n",
       "    <tr>\n",
       "      <th>...</th>\n",
       "      <td>...</td>\n",
       "      <td>...</td>\n",
       "      <td>...</td>\n",
       "      <td>...</td>\n",
       "      <td>...</td>\n",
       "      <td>...</td>\n",
       "      <td>...</td>\n",
       "      <td>...</td>\n",
       "      <td>...</td>\n",
       "    </tr>\n",
       "    <tr>\n",
       "      <th>1160</th>\n",
       "      <td>Zimbabwe</td>\n",
       "      <td>2017</td>\n",
       "      <td>22519</td>\n",
       "      <td>12419</td>\n",
       "      <td>10100</td>\n",
       "      <td>16015</td>\n",
       "      <td>9010</td>\n",
       "      <td>7005</td>\n",
       "      <td>9696</td>\n",
       "    </tr>\n",
       "    <tr>\n",
       "      <th>1161</th>\n",
       "      <td>Zimbabwe</td>\n",
       "      <td>2016</td>\n",
       "      <td>23326</td>\n",
       "      <td>12867</td>\n",
       "      <td>10459</td>\n",
       "      <td>16693</td>\n",
       "      <td>9396</td>\n",
       "      <td>7297</td>\n",
       "      <td>10235</td>\n",
       "    </tr>\n",
       "    <tr>\n",
       "      <th>1162</th>\n",
       "      <td>Zimbabwe</td>\n",
       "      <td>2015</td>\n",
       "      <td>25433</td>\n",
       "      <td>14001</td>\n",
       "      <td>11432</td>\n",
       "      <td>18006</td>\n",
       "      <td>10121</td>\n",
       "      <td>7885</td>\n",
       "      <td>10815</td>\n",
       "    </tr>\n",
       "    <tr>\n",
       "      <th>1163</th>\n",
       "      <td>Zimbabwe</td>\n",
       "      <td>2014</td>\n",
       "      <td>27058</td>\n",
       "      <td>14866</td>\n",
       "      <td>12192</td>\n",
       "      <td>19051</td>\n",
       "      <td>10707</td>\n",
       "      <td>8344</td>\n",
       "      <td>11447</td>\n",
       "    </tr>\n",
       "    <tr>\n",
       "      <th>1164</th>\n",
       "      <td>Zimbabwe</td>\n",
       "      <td>2013</td>\n",
       "      <td>29200</td>\n",
       "      <td>15984</td>\n",
       "      <td>13216</td>\n",
       "      <td>20265</td>\n",
       "      <td>11363</td>\n",
       "      <td>8902</td>\n",
       "      <td>12063</td>\n",
       "    </tr>\n",
       "  </tbody>\n",
       "</table>\n",
       "<p>1165 rows × 9 columns</p>\n",
       "</div>"
      ],
      "text/plain": [
       "       Unnamed: 0 Unnamed: 1 Number of under-five deaths (thousands)  \\\n",
       "0         Country       Year                              Both sexes   \n",
       "1     Afghanistan       2018                                   74278   \n",
       "2     Afghanistan       2017                                   76877   \n",
       "3     Afghanistan       2016                                   79770   \n",
       "4     Afghanistan       2015                                   82918   \n",
       "...           ...        ...                                     ...   \n",
       "1160     Zimbabwe       2017                                   22519   \n",
       "1161     Zimbabwe       2016                                   23326   \n",
       "1162     Zimbabwe       2015                                   25433   \n",
       "1163     Zimbabwe       2014                                   27058   \n",
       "1164     Zimbabwe       2013                                   29200   \n",
       "\n",
       "     Number of under-five deaths (thousands).1  \\\n",
       "0                                         Male   \n",
       "1                                        40312   \n",
       "2                                        41631   \n",
       "3                                        43134   \n",
       "4                                        44733   \n",
       "...                                        ...   \n",
       "1160                                     12419   \n",
       "1161                                     12867   \n",
       "1162                                     14001   \n",
       "1163                                     14866   \n",
       "1164                                     15984   \n",
       "\n",
       "     Number of under-five deaths (thousands).2  \\\n",
       "0                                       Female   \n",
       "1                                        33966   \n",
       "2                                        35246   \n",
       "3                                        36636   \n",
       "4                                        38185   \n",
       "...                                        ...   \n",
       "1160                                     10100   \n",
       "1161                                     10459   \n",
       "1162                                     11432   \n",
       "1163                                     12192   \n",
       "1164                                     13216   \n",
       "\n",
       "     Number of infant deaths (thousands)  \\\n",
       "0                             Both sexes   \n",
       "1                                  57182   \n",
       "2                                  58846   \n",
       "3                                  60673   \n",
       "4                                  62652   \n",
       "...                                  ...   \n",
       "1160                               16015   \n",
       "1161                               16693   \n",
       "1162                               18006   \n",
       "1163                               19051   \n",
       "1164                               20265   \n",
       "\n",
       "     Number of infant deaths (thousands).1  \\\n",
       "0                                     Male   \n",
       "1                                    31394   \n",
       "2                                    32244   \n",
       "3                                    33222   \n",
       "4                                    34257   \n",
       "...                                    ...   \n",
       "1160                                  9010   \n",
       "1161                                  9396   \n",
       "1162                                 10121   \n",
       "1163                                 10707   \n",
       "1164                                 11363   \n",
       "\n",
       "     Number of infant deaths (thousands).2  \\\n",
       "0                                   Female   \n",
       "1                                    25788   \n",
       "2                                    26602   \n",
       "3                                    27451   \n",
       "4                                    28395   \n",
       "...                                    ...   \n",
       "1160                                  7005   \n",
       "1161                                  7297   \n",
       "1162                                  7885   \n",
       "1163                                  8344   \n",
       "1164                                  8902   \n",
       "\n",
       "     Number of neonatal deaths (thousands)  \n",
       "0                               Both sexes  \n",
       "1                                    44725  \n",
       "2                                    45771  \n",
       "3                                    46963  \n",
       "4                                    48237  \n",
       "...                                    ...  \n",
       "1160                                  9696  \n",
       "1161                                 10235  \n",
       "1162                                 10815  \n",
       "1163                                 11447  \n",
       "1164                                 12063  \n",
       "\n",
       "[1165 rows x 9 columns]"
      ]
     },
     "execution_count": 35,
     "metadata": {},
     "output_type": "execute_result"
    }
   ],
   "source": [
    "num_dth = pd.read_csv('Number of deaths (thousands).csv')\n",
    "num_dth"
   ]
  },
  {
   "cell_type": "code",
   "execution_count": 36,
   "metadata": {},
   "outputs": [],
   "source": [
    "mean_years.rename(columns={'Entity':'Country'},inplace=True)"
   ]
  },
  {
   "cell_type": "code",
   "execution_count": 37,
   "metadata": {},
   "outputs": [
    {
     "data": {
      "text/html": [
       "<div>\n",
       "<style scoped>\n",
       "    .dataframe tbody tr th:only-of-type {\n",
       "        vertical-align: middle;\n",
       "    }\n",
       "\n",
       "    .dataframe tbody tr th {\n",
       "        vertical-align: top;\n",
       "    }\n",
       "\n",
       "    .dataframe thead th {\n",
       "        text-align: right;\n",
       "    }\n",
       "</style>\n",
       "<table border=\"1\" class=\"dataframe\">\n",
       "  <thead>\n",
       "    <tr style=\"text-align: right;\">\n",
       "      <th></th>\n",
       "      <th>Country</th>\n",
       "      <th>Code</th>\n",
       "      <th>Year</th>\n",
       "      <th>avg_years_of_schooling</th>\n",
       "    </tr>\n",
       "  </thead>\n",
       "  <tbody>\n",
       "    <tr>\n",
       "      <th>34</th>\n",
       "      <td>Afghanistan</td>\n",
       "      <td>AFG</td>\n",
       "      <td>2000</td>\n",
       "      <td>2.2</td>\n",
       "    </tr>\n",
       "    <tr>\n",
       "      <th>35</th>\n",
       "      <td>Afghanistan</td>\n",
       "      <td>AFG</td>\n",
       "      <td>2001</td>\n",
       "      <td>2.2</td>\n",
       "    </tr>\n",
       "    <tr>\n",
       "      <th>36</th>\n",
       "      <td>Afghanistan</td>\n",
       "      <td>AFG</td>\n",
       "      <td>2002</td>\n",
       "      <td>2.3</td>\n",
       "    </tr>\n",
       "    <tr>\n",
       "      <th>37</th>\n",
       "      <td>Afghanistan</td>\n",
       "      <td>AFG</td>\n",
       "      <td>2003</td>\n",
       "      <td>2.4</td>\n",
       "    </tr>\n",
       "    <tr>\n",
       "      <th>38</th>\n",
       "      <td>Afghanistan</td>\n",
       "      <td>AFG</td>\n",
       "      <td>2004</td>\n",
       "      <td>2.5</td>\n",
       "    </tr>\n",
       "    <tr>\n",
       "      <th>...</th>\n",
       "      <td>...</td>\n",
       "      <td>...</td>\n",
       "      <td>...</td>\n",
       "      <td>...</td>\n",
       "    </tr>\n",
       "    <tr>\n",
       "      <th>7757</th>\n",
       "      <td>Zimbabwe</td>\n",
       "      <td>ZWE</td>\n",
       "      <td>2012</td>\n",
       "      <td>7.9</td>\n",
       "    </tr>\n",
       "    <tr>\n",
       "      <th>7758</th>\n",
       "      <td>Zimbabwe</td>\n",
       "      <td>ZWE</td>\n",
       "      <td>2013</td>\n",
       "      <td>8.0</td>\n",
       "    </tr>\n",
       "    <tr>\n",
       "      <th>7759</th>\n",
       "      <td>Zimbabwe</td>\n",
       "      <td>ZWE</td>\n",
       "      <td>2014</td>\n",
       "      <td>8.2</td>\n",
       "    </tr>\n",
       "    <tr>\n",
       "      <th>7760</th>\n",
       "      <td>Zimbabwe</td>\n",
       "      <td>ZWE</td>\n",
       "      <td>2015</td>\n",
       "      <td>8.2</td>\n",
       "    </tr>\n",
       "    <tr>\n",
       "      <th>7761</th>\n",
       "      <td>Zimbabwe</td>\n",
       "      <td>ZWE</td>\n",
       "      <td>2016</td>\n",
       "      <td>8.2</td>\n",
       "    </tr>\n",
       "  </tbody>\n",
       "</table>\n",
       "<p>3135 rows × 4 columns</p>\n",
       "</div>"
      ],
      "text/plain": [
       "          Country Code  Year  avg_years_of_schooling\n",
       "34    Afghanistan  AFG  2000                     2.2\n",
       "35    Afghanistan  AFG  2001                     2.2\n",
       "36    Afghanistan  AFG  2002                     2.3\n",
       "37    Afghanistan  AFG  2003                     2.4\n",
       "38    Afghanistan  AFG  2004                     2.5\n",
       "...           ...  ...   ...                     ...\n",
       "7757     Zimbabwe  ZWE  2012                     7.9\n",
       "7758     Zimbabwe  ZWE  2013                     8.0\n",
       "7759     Zimbabwe  ZWE  2014                     8.2\n",
       "7760     Zimbabwe  ZWE  2015                     8.2\n",
       "7761     Zimbabwe  ZWE  2016                     8.2\n",
       "\n",
       "[3135 rows x 4 columns]"
      ]
     },
     "execution_count": 37,
     "metadata": {},
     "output_type": "execute_result"
    }
   ],
   "source": [
    "mean_years = mean_years[(mean_years['Year'] >= 2000) & (mean_years['Year'] < 2017)]\n",
    "mean_years"
   ]
  },
  {
   "cell_type": "code",
   "execution_count": 38,
   "metadata": {},
   "outputs": [
    {
     "data": {
      "text/html": [
       "<div>\n",
       "<style scoped>\n",
       "    .dataframe tbody tr th:only-of-type {\n",
       "        vertical-align: middle;\n",
       "    }\n",
       "\n",
       "    .dataframe tbody tr th {\n",
       "        vertical-align: top;\n",
       "    }\n",
       "\n",
       "    .dataframe thead th {\n",
       "        text-align: right;\n",
       "    }\n",
       "</style>\n",
       "<table border=\"1\" class=\"dataframe\">\n",
       "  <thead>\n",
       "    <tr style=\"text-align: right;\">\n",
       "      <th></th>\n",
       "      <th>Country</th>\n",
       "      <th>Code</th>\n",
       "      <th>Year</th>\n",
       "      <th>avg_years_of_schooling</th>\n",
       "      <th>Both sexes</th>\n",
       "      <th>Male</th>\n",
       "      <th>Female</th>\n",
       "    </tr>\n",
       "  </thead>\n",
       "  <tbody>\n",
       "    <tr>\n",
       "      <th>0</th>\n",
       "      <td>Afghanistan</td>\n",
       "      <td>AFG</td>\n",
       "      <td>2000</td>\n",
       "      <td>2.2</td>\n",
       "      <td>316</td>\n",
       "      <td>340</td>\n",
       "      <td>290</td>\n",
       "    </tr>\n",
       "    <tr>\n",
       "      <th>1</th>\n",
       "      <td>Afghanistan</td>\n",
       "      <td>AFG</td>\n",
       "      <td>2001</td>\n",
       "      <td>2.2</td>\n",
       "      <td>307</td>\n",
       "      <td>330</td>\n",
       "      <td>283</td>\n",
       "    </tr>\n",
       "    <tr>\n",
       "      <th>2</th>\n",
       "      <td>Afghanistan</td>\n",
       "      <td>AFG</td>\n",
       "      <td>2002</td>\n",
       "      <td>2.3</td>\n",
       "      <td>292</td>\n",
       "      <td>309</td>\n",
       "      <td>275</td>\n",
       "    </tr>\n",
       "    <tr>\n",
       "      <th>3</th>\n",
       "      <td>Afghanistan</td>\n",
       "      <td>AFG</td>\n",
       "      <td>2003</td>\n",
       "      <td>2.4</td>\n",
       "      <td>286</td>\n",
       "      <td>304</td>\n",
       "      <td>268</td>\n",
       "    </tr>\n",
       "    <tr>\n",
       "      <th>4</th>\n",
       "      <td>Afghanistan</td>\n",
       "      <td>AFG</td>\n",
       "      <td>2004</td>\n",
       "      <td>2.5</td>\n",
       "      <td>282</td>\n",
       "      <td>300</td>\n",
       "      <td>263</td>\n",
       "    </tr>\n",
       "    <tr>\n",
       "      <th>...</th>\n",
       "      <td>...</td>\n",
       "      <td>...</td>\n",
       "      <td>...</td>\n",
       "      <td>...</td>\n",
       "      <td>...</td>\n",
       "      <td>...</td>\n",
       "      <td>...</td>\n",
       "    </tr>\n",
       "    <tr>\n",
       "      <th>2691</th>\n",
       "      <td>Zimbabwe</td>\n",
       "      <td>ZWE</td>\n",
       "      <td>2012</td>\n",
       "      <td>7.9</td>\n",
       "      <td>407</td>\n",
       "      <td>464</td>\n",
       "      <td>357</td>\n",
       "    </tr>\n",
       "    <tr>\n",
       "      <th>2692</th>\n",
       "      <td>Zimbabwe</td>\n",
       "      <td>ZWE</td>\n",
       "      <td>2013</td>\n",
       "      <td>8.0</td>\n",
       "      <td>383</td>\n",
       "      <td>437</td>\n",
       "      <td>336</td>\n",
       "    </tr>\n",
       "    <tr>\n",
       "      <th>2693</th>\n",
       "      <td>Zimbabwe</td>\n",
       "      <td>ZWE</td>\n",
       "      <td>2014</td>\n",
       "      <td>8.2</td>\n",
       "      <td>358</td>\n",
       "      <td>395</td>\n",
       "      <td>328</td>\n",
       "    </tr>\n",
       "    <tr>\n",
       "      <th>2694</th>\n",
       "      <td>Zimbabwe</td>\n",
       "      <td>ZWE</td>\n",
       "      <td>2015</td>\n",
       "      <td>8.2</td>\n",
       "      <td>346</td>\n",
       "      <td>383</td>\n",
       "      <td>314</td>\n",
       "    </tr>\n",
       "    <tr>\n",
       "      <th>2695</th>\n",
       "      <td>Zimbabwe</td>\n",
       "      <td>ZWE</td>\n",
       "      <td>2016</td>\n",
       "      <td>8.2</td>\n",
       "      <td>334</td>\n",
       "      <td>371</td>\n",
       "      <td>303</td>\n",
       "    </tr>\n",
       "  </tbody>\n",
       "</table>\n",
       "<p>2696 rows × 7 columns</p>\n",
       "</div>"
      ],
      "text/plain": [
       "          Country Code  Year  avg_years_of_schooling  Both sexes  Male  Female\n",
       "0     Afghanistan  AFG  2000                     2.2         316   340     290\n",
       "1     Afghanistan  AFG  2001                     2.2         307   330     283\n",
       "2     Afghanistan  AFG  2002                     2.3         292   309     275\n",
       "3     Afghanistan  AFG  2003                     2.4         286   304     268\n",
       "4     Afghanistan  AFG  2004                     2.5         282   300     263\n",
       "...           ...  ...   ...                     ...         ...   ...     ...\n",
       "2691     Zimbabwe  ZWE  2012                     7.9         407   464     357\n",
       "2692     Zimbabwe  ZWE  2013                     8.0         383   437     336\n",
       "2693     Zimbabwe  ZWE  2014                     8.2         358   395     328\n",
       "2694     Zimbabwe  ZWE  2015                     8.2         346   383     314\n",
       "2695     Zimbabwe  ZWE  2016                     8.2         334   371     303\n",
       "\n",
       "[2696 rows x 7 columns]"
      ]
     },
     "execution_count": 38,
     "metadata": {},
     "output_type": "execute_result"
    }
   ],
   "source": [
    "merge_df = pd.merge(mean_years,ad_mort, on=['Country','Year'])\n",
    "#merge_df = pd.merge(merge_df,prob_dth, on=['Country','Year'])\n",
    "merge_df"
   ]
  },
  {
   "cell_type": "code",
   "execution_count": 39,
   "metadata": {},
   "outputs": [],
   "source": [
    "def country_to_continent(country_name):\n",
    "    country_alpha2 = pc.country_name_to_country_alpha2(country_name)\n",
    "    country_continent_code = pc.country_alpha2_to_continent_code(country_alpha2)\n",
    "    country_continent_name = pc.convert_continent_code_to_continent_name(country_continent_code)\n",
    "    return country_continent_name"
   ]
  },
  {
   "cell_type": "code",
   "execution_count": 40,
   "metadata": {},
   "outputs": [],
   "source": [
    "merge_df['Continent'] = merge_df['Country'].apply(lambda row: country_to_continent(row))"
   ]
  },
  {
   "cell_type": "code",
   "execution_count": 41,
   "metadata": {},
   "outputs": [
    {
     "data": {
      "text/html": [
       "<div>\n",
       "<style scoped>\n",
       "    .dataframe tbody tr th:only-of-type {\n",
       "        vertical-align: middle;\n",
       "    }\n",
       "\n",
       "    .dataframe tbody tr th {\n",
       "        vertical-align: top;\n",
       "    }\n",
       "\n",
       "    .dataframe thead th {\n",
       "        text-align: right;\n",
       "    }\n",
       "</style>\n",
       "<table border=\"1\" class=\"dataframe\">\n",
       "  <thead>\n",
       "    <tr style=\"text-align: right;\">\n",
       "      <th></th>\n",
       "      <th>Country</th>\n",
       "      <th>Code</th>\n",
       "      <th>Year</th>\n",
       "      <th>avg_years_of_schooling</th>\n",
       "      <th>Both sexes</th>\n",
       "      <th>Male</th>\n",
       "      <th>Female</th>\n",
       "      <th>Continent</th>\n",
       "    </tr>\n",
       "  </thead>\n",
       "  <tbody>\n",
       "    <tr>\n",
       "      <th>0</th>\n",
       "      <td>Afghanistan</td>\n",
       "      <td>AFG</td>\n",
       "      <td>2016</td>\n",
       "      <td>3.6</td>\n",
       "      <td>245</td>\n",
       "      <td>272</td>\n",
       "      <td>216</td>\n",
       "      <td>Asia</td>\n",
       "    </tr>\n",
       "    <tr>\n",
       "      <th>1</th>\n",
       "      <td>Afghanistan</td>\n",
       "      <td>AFG</td>\n",
       "      <td>2015</td>\n",
       "      <td>3.6</td>\n",
       "      <td>233</td>\n",
       "      <td>254</td>\n",
       "      <td>210</td>\n",
       "      <td>Asia</td>\n",
       "    </tr>\n",
       "    <tr>\n",
       "      <th>2</th>\n",
       "      <td>Afghanistan</td>\n",
       "      <td>AFG</td>\n",
       "      <td>2014</td>\n",
       "      <td>3.5</td>\n",
       "      <td>234</td>\n",
       "      <td>254</td>\n",
       "      <td>213</td>\n",
       "      <td>Asia</td>\n",
       "    </tr>\n",
       "    <tr>\n",
       "      <th>3</th>\n",
       "      <td>Afghanistan</td>\n",
       "      <td>AFG</td>\n",
       "      <td>2013</td>\n",
       "      <td>3.5</td>\n",
       "      <td>235</td>\n",
       "      <td>254</td>\n",
       "      <td>215</td>\n",
       "      <td>Asia</td>\n",
       "    </tr>\n",
       "    <tr>\n",
       "      <th>4</th>\n",
       "      <td>Afghanistan</td>\n",
       "      <td>AFG</td>\n",
       "      <td>2012</td>\n",
       "      <td>3.4</td>\n",
       "      <td>242</td>\n",
       "      <td>262</td>\n",
       "      <td>221</td>\n",
       "      <td>Asia</td>\n",
       "    </tr>\n",
       "    <tr>\n",
       "      <th>...</th>\n",
       "      <td>...</td>\n",
       "      <td>...</td>\n",
       "      <td>...</td>\n",
       "      <td>...</td>\n",
       "      <td>...</td>\n",
       "      <td>...</td>\n",
       "      <td>...</td>\n",
       "      <td>...</td>\n",
       "    </tr>\n",
       "    <tr>\n",
       "      <th>2691</th>\n",
       "      <td>Zimbabwe</td>\n",
       "      <td>ZWE</td>\n",
       "      <td>2004</td>\n",
       "      <td>6.8</td>\n",
       "      <td>694</td>\n",
       "      <td>725</td>\n",
       "      <td>670</td>\n",
       "      <td>Africa</td>\n",
       "    </tr>\n",
       "    <tr>\n",
       "      <th>2692</th>\n",
       "      <td>Zimbabwe</td>\n",
       "      <td>ZWE</td>\n",
       "      <td>2003</td>\n",
       "      <td>6.8</td>\n",
       "      <td>697</td>\n",
       "      <td>728</td>\n",
       "      <td>671</td>\n",
       "      <td>Africa</td>\n",
       "    </tr>\n",
       "    <tr>\n",
       "      <th>2693</th>\n",
       "      <td>Zimbabwe</td>\n",
       "      <td>ZWE</td>\n",
       "      <td>2002</td>\n",
       "      <td>6.9</td>\n",
       "      <td>695</td>\n",
       "      <td>728</td>\n",
       "      <td>667</td>\n",
       "      <td>Africa</td>\n",
       "    </tr>\n",
       "    <tr>\n",
       "      <th>2694</th>\n",
       "      <td>Zimbabwe</td>\n",
       "      <td>ZWE</td>\n",
       "      <td>2001</td>\n",
       "      <td>6.7</td>\n",
       "      <td>688</td>\n",
       "      <td>723</td>\n",
       "      <td>656</td>\n",
       "      <td>Africa</td>\n",
       "    </tr>\n",
       "    <tr>\n",
       "      <th>2695</th>\n",
       "      <td>Zimbabwe</td>\n",
       "      <td>ZWE</td>\n",
       "      <td>2000</td>\n",
       "      <td>6.5</td>\n",
       "      <td>675</td>\n",
       "      <td>715</td>\n",
       "      <td>640</td>\n",
       "      <td>Africa</td>\n",
       "    </tr>\n",
       "  </tbody>\n",
       "</table>\n",
       "<p>2696 rows × 8 columns</p>\n",
       "</div>"
      ],
      "text/plain": [
       "          Country Code  Year  avg_years_of_schooling  Both sexes  Male  \\\n",
       "0     Afghanistan  AFG  2016                     3.6         245   272   \n",
       "1     Afghanistan  AFG  2015                     3.6         233   254   \n",
       "2     Afghanistan  AFG  2014                     3.5         234   254   \n",
       "3     Afghanistan  AFG  2013                     3.5         235   254   \n",
       "4     Afghanistan  AFG  2012                     3.4         242   262   \n",
       "...           ...  ...   ...                     ...         ...   ...   \n",
       "2691     Zimbabwe  ZWE  2004                     6.8         694   725   \n",
       "2692     Zimbabwe  ZWE  2003                     6.8         697   728   \n",
       "2693     Zimbabwe  ZWE  2002                     6.9         695   728   \n",
       "2694     Zimbabwe  ZWE  2001                     6.7         688   723   \n",
       "2695     Zimbabwe  ZWE  2000                     6.5         675   715   \n",
       "\n",
       "      Female Continent  \n",
       "0        216      Asia  \n",
       "1        210      Asia  \n",
       "2        213      Asia  \n",
       "3        215      Asia  \n",
       "4        221      Asia  \n",
       "...      ...       ...  \n",
       "2691     670    Africa  \n",
       "2692     671    Africa  \n",
       "2693     667    Africa  \n",
       "2694     656    Africa  \n",
       "2695     640    Africa  \n",
       "\n",
       "[2696 rows x 8 columns]"
      ]
     },
     "execution_count": 41,
     "metadata": {},
     "output_type": "execute_result"
    }
   ],
   "source": [
    "final_df = merge_df.sort_values(['Country','Year'], ascending=[True,False]).reset_index()\n",
    "final_df.drop(columns='index', inplace=True)\n",
    "final_df"
   ]
  },
  {
   "cell_type": "code",
   "execution_count": 17,
   "metadata": {},
   "outputs": [
    {
     "name": "stdout",
     "output_type": "stream",
     "text": [
      "<class 'pandas.core.frame.DataFrame'>\n",
      "RangeIndex: 648 entries, 0 to 647\n",
      "Data columns (total 15 columns):\n",
      " #   Column                  Non-Null Count  Dtype  \n",
      "---  ------                  --------------  -----  \n",
      " 0   Continent               648 non-null    object \n",
      " 1   Country                 648 non-null    object \n",
      " 2   Code                    648 non-null    object \n",
      " 3   Year                    648 non-null    int64  \n",
      " 4   avg_years_of_schooling  648 non-null    float64\n",
      " 5   mort_rate_both_sexes    648 non-null    int64  \n",
      " 6   mort_rate_male          648 non-null    int64  \n",
      " 7   mort_rate_female        648 non-null    int64  \n",
      " 8   inf_both_sexes          648 non-null    float64\n",
      " 9   inf_male                648 non-null    float64\n",
      " 10  inf_female              648 non-null    float64\n",
      " 11  neonat_both_sexes       648 non-null    float64\n",
      " 12  u5_both_sexes           648 non-null    float64\n",
      " 13  u5_male                 648 non-null    float64\n",
      " 14  u5_female               648 non-null    float64\n",
      "dtypes: float64(8), int64(4), object(3)\n",
      "memory usage: 76.1+ KB\n"
     ]
    }
   ],
   "source": [
    "final_df.info()"
   ]
  },
  {
   "cell_type": "code",
   "execution_count": 67,
   "metadata": {},
   "outputs": [
    {
     "data": {
      "text/html": [
       "<div>\n",
       "<style scoped>\n",
       "    .dataframe tbody tr th:only-of-type {\n",
       "        vertical-align: middle;\n",
       "    }\n",
       "\n",
       "    .dataframe tbody tr th {\n",
       "        vertical-align: top;\n",
       "    }\n",
       "\n",
       "    .dataframe thead th {\n",
       "        text-align: right;\n",
       "    }\n",
       "</style>\n",
       "<table border=\"1\" class=\"dataframe\">\n",
       "  <thead>\n",
       "    <tr style=\"text-align: right;\">\n",
       "      <th></th>\n",
       "      <th>Country</th>\n",
       "      <th>Code</th>\n",
       "      <th>Year</th>\n",
       "      <th>avg_years_of_schooling</th>\n",
       "      <th>Both sexes</th>\n",
       "      <th>Male</th>\n",
       "      <th>Female</th>\n",
       "      <th>Continent</th>\n",
       "    </tr>\n",
       "  </thead>\n",
       "  <tbody>\n",
       "    <tr>\n",
       "      <th>0</th>\n",
       "      <td>Afghanistan</td>\n",
       "      <td>AFG</td>\n",
       "      <td>2000</td>\n",
       "      <td>2.2</td>\n",
       "      <td>316</td>\n",
       "      <td>340</td>\n",
       "      <td>290</td>\n",
       "      <td>Asia</td>\n",
       "    </tr>\n",
       "    <tr>\n",
       "      <th>1</th>\n",
       "      <td>Afghanistan</td>\n",
       "      <td>AFG</td>\n",
       "      <td>2001</td>\n",
       "      <td>2.2</td>\n",
       "      <td>307</td>\n",
       "      <td>330</td>\n",
       "      <td>283</td>\n",
       "      <td>Asia</td>\n",
       "    </tr>\n",
       "    <tr>\n",
       "      <th>2</th>\n",
       "      <td>Afghanistan</td>\n",
       "      <td>AFG</td>\n",
       "      <td>2002</td>\n",
       "      <td>2.3</td>\n",
       "      <td>292</td>\n",
       "      <td>309</td>\n",
       "      <td>275</td>\n",
       "      <td>Asia</td>\n",
       "    </tr>\n",
       "    <tr>\n",
       "      <th>3</th>\n",
       "      <td>Afghanistan</td>\n",
       "      <td>AFG</td>\n",
       "      <td>2003</td>\n",
       "      <td>2.4</td>\n",
       "      <td>286</td>\n",
       "      <td>304</td>\n",
       "      <td>268</td>\n",
       "      <td>Asia</td>\n",
       "    </tr>\n",
       "    <tr>\n",
       "      <th>4</th>\n",
       "      <td>Afghanistan</td>\n",
       "      <td>AFG</td>\n",
       "      <td>2004</td>\n",
       "      <td>2.5</td>\n",
       "      <td>282</td>\n",
       "      <td>300</td>\n",
       "      <td>263</td>\n",
       "      <td>Asia</td>\n",
       "    </tr>\n",
       "    <tr>\n",
       "      <th>...</th>\n",
       "      <td>...</td>\n",
       "      <td>...</td>\n",
       "      <td>...</td>\n",
       "      <td>...</td>\n",
       "      <td>...</td>\n",
       "      <td>...</td>\n",
       "      <td>...</td>\n",
       "      <td>...</td>\n",
       "    </tr>\n",
       "    <tr>\n",
       "      <th>2691</th>\n",
       "      <td>Zimbabwe</td>\n",
       "      <td>ZWE</td>\n",
       "      <td>2012</td>\n",
       "      <td>7.9</td>\n",
       "      <td>407</td>\n",
       "      <td>464</td>\n",
       "      <td>357</td>\n",
       "      <td>Africa</td>\n",
       "    </tr>\n",
       "    <tr>\n",
       "      <th>2692</th>\n",
       "      <td>Zimbabwe</td>\n",
       "      <td>ZWE</td>\n",
       "      <td>2013</td>\n",
       "      <td>8.0</td>\n",
       "      <td>383</td>\n",
       "      <td>437</td>\n",
       "      <td>336</td>\n",
       "      <td>Africa</td>\n",
       "    </tr>\n",
       "    <tr>\n",
       "      <th>2693</th>\n",
       "      <td>Zimbabwe</td>\n",
       "      <td>ZWE</td>\n",
       "      <td>2014</td>\n",
       "      <td>8.2</td>\n",
       "      <td>358</td>\n",
       "      <td>395</td>\n",
       "      <td>328</td>\n",
       "      <td>Africa</td>\n",
       "    </tr>\n",
       "    <tr>\n",
       "      <th>2694</th>\n",
       "      <td>Zimbabwe</td>\n",
       "      <td>ZWE</td>\n",
       "      <td>2015</td>\n",
       "      <td>8.2</td>\n",
       "      <td>346</td>\n",
       "      <td>383</td>\n",
       "      <td>314</td>\n",
       "      <td>Africa</td>\n",
       "    </tr>\n",
       "    <tr>\n",
       "      <th>2695</th>\n",
       "      <td>Zimbabwe</td>\n",
       "      <td>ZWE</td>\n",
       "      <td>2016</td>\n",
       "      <td>8.2</td>\n",
       "      <td>334</td>\n",
       "      <td>371</td>\n",
       "      <td>303</td>\n",
       "      <td>Africa</td>\n",
       "    </tr>\n",
       "  </tbody>\n",
       "</table>\n",
       "<p>2696 rows × 8 columns</p>\n",
       "</div>"
      ],
      "text/plain": [
       "          Country Code  Year  avg_years_of_schooling  Both sexes  Male  \\\n",
       "0     Afghanistan  AFG  2000                     2.2         316   340   \n",
       "1     Afghanistan  AFG  2001                     2.2         307   330   \n",
       "2     Afghanistan  AFG  2002                     2.3         292   309   \n",
       "3     Afghanistan  AFG  2003                     2.4         286   304   \n",
       "4     Afghanistan  AFG  2004                     2.5         282   300   \n",
       "...           ...  ...   ...                     ...         ...   ...   \n",
       "2691     Zimbabwe  ZWE  2012                     7.9         407   464   \n",
       "2692     Zimbabwe  ZWE  2013                     8.0         383   437   \n",
       "2693     Zimbabwe  ZWE  2014                     8.2         358   395   \n",
       "2694     Zimbabwe  ZWE  2015                     8.2         346   383   \n",
       "2695     Zimbabwe  ZWE  2016                     8.2         334   371   \n",
       "\n",
       "      Female Continent  \n",
       "0        290      Asia  \n",
       "1        283      Asia  \n",
       "2        275      Asia  \n",
       "3        268      Asia  \n",
       "4        263      Asia  \n",
       "...      ...       ...  \n",
       "2691     357    Africa  \n",
       "2692     336    Africa  \n",
       "2693     328    Africa  \n",
       "2694     314    Africa  \n",
       "2695     303    Africa  \n",
       "\n",
       "[2696 rows x 8 columns]"
      ]
     },
     "execution_count": 67,
     "metadata": {},
     "output_type": "execute_result"
    }
   ],
   "source": [
    "merge_df"
   ]
  },
  {
   "cell_type": "code",
   "execution_count": 102,
   "metadata": {},
   "outputs": [
    {
     "name": "stderr",
     "output_type": "stream",
     "text": [
      "C:\\Users\\oludo\\AppData\\Local\\Temp\\ipykernel_27216\\3413100836.py:3: FutureWarning:\n",
      "\n",
      "Indexing with multiple keys (implicitly converted to a tuple of keys) will be deprecated, use a list instead.\n",
      "\n"
     ]
    },
    {
     "data": {
      "application/vnd.plotly.v1+json": {
       "config": {
        "plotlyServerURL": "https://plot.ly"
       },
       "data": [
        {
         "hovertemplate": "Continent=Africa<br>Year=%{x}<br>Both sexes=%{y}<extra></extra>",
         "legendgroup": "Africa",
         "line": {
          "color": "#1F77B4",
          "dash": "solid"
         },
         "marker": {
          "symbol": "circle"
         },
         "mode": "lines",
         "name": "Africa",
         "orientation": "v",
         "showlegend": true,
         "type": "scatter",
         "x": [
          2000,
          2001,
          2002,
          2003,
          2004,
          2005,
          2006,
          2007,
          2008,
          2009,
          2010,
          2011,
          2012,
          2013,
          2014,
          2015,
          2016
         ],
         "xaxis": "x",
         "y": [
          358.3863636363636,
          361.90909090909093,
          364.3181818181818,
          366.46666666666664,
          360.0652173913044,
          350.0208333333333,
          338.9591836734694,
          326.7291666666667,
          315.44897959183675,
          303.3061224489796,
          292.6326530612245,
          284.3061224489796,
          276,
          270.57142857142856,
          268.9183673469388,
          261.51020408163265,
          255.3265306122449
         ],
         "yaxis": "y"
        },
        {
         "hovertemplate": "Continent=Asia<br>Year=%{x}<br>Both sexes=%{y}<extra></extra>",
         "legendgroup": "Asia",
         "line": {
          "color": "#FF7F0E",
          "dash": "solid"
         },
         "marker": {
          "symbol": "circle"
         },
         "mode": "lines",
         "name": "Asia",
         "orientation": "v",
         "showlegend": true,
         "type": "scatter",
         "x": [
          2000,
          2001,
          2002,
          2003,
          2004,
          2005,
          2006,
          2007,
          2008,
          2009,
          2010,
          2011,
          2012,
          2013,
          2014,
          2015,
          2016
         ],
         "xaxis": "x",
         "y": [
          167.47222222222223,
          163.38888888888889,
          161.66666666666666,
          160.69444444444446,
          161.41666666666666,
          159.39473684210526,
          157.81578947368422,
          153.3421052631579,
          151.73684210526315,
          145.6578947368421,
          143.30769230769232,
          141,
          138.46153846153845,
          136.66666666666666,
          135.56410256410257,
          133.92307692307693,
          131.02564102564102
         ],
         "yaxis": "y"
        },
        {
         "hovertemplate": "Continent=Europe<br>Year=%{x}<br>Both sexes=%{y}<extra></extra>",
         "legendgroup": "Europe",
         "line": {
          "color": "#2CA02C",
          "dash": "solid"
         },
         "marker": {
          "symbol": "circle"
         },
         "mode": "lines",
         "name": "Europe",
         "orientation": "v",
         "showlegend": true,
         "type": "scatter",
         "x": [
          2000,
          2001,
          2002,
          2003,
          2004,
          2005,
          2006,
          2007,
          2008,
          2009,
          2010,
          2011,
          2012,
          2013,
          2014,
          2015,
          2016
         ],
         "xaxis": "x",
         "y": [
          126.76470588235294,
          125.79411764705883,
          123.20588235294117,
          121.54285714285714,
          118.88571428571429,
          119.22857142857143,
          117.48571428571428,
          116.42857142857143,
          112.34285714285714,
          107.85714285714286,
          103.65714285714286,
          101.25714285714285,
          98.08571428571429,
          95.25714285714285,
          92.91428571428571,
          90.62857142857143,
          89
         ],
         "yaxis": "y"
        },
        {
         "hovertemplate": "Continent=North America<br>Year=%{x}<br>Both sexes=%{y}<extra></extra>",
         "legendgroup": "North America",
         "line": {
          "color": "#D62728",
          "dash": "solid"
         },
         "marker": {
          "symbol": "circle"
         },
         "mode": "lines",
         "name": "North America",
         "orientation": "v",
         "showlegend": true,
         "type": "scatter",
         "x": [
          2000,
          2001,
          2002,
          2003,
          2004,
          2005,
          2006,
          2007,
          2008,
          2009,
          2010,
          2011,
          2012,
          2013,
          2014,
          2015,
          2016
         ],
         "xaxis": "x",
         "y": [
          175.31578947368422,
          174.68421052631578,
          171.9,
          170.9,
          169.45,
          165.25,
          161.9,
          157.55,
          156.25,
          153.45,
          172.7,
          149.15,
          148.65,
          146.85,
          145.05,
          143.4,
          142
         ],
         "yaxis": "y"
        },
        {
         "hovertemplate": "Continent=Oceania<br>Year=%{x}<br>Both sexes=%{y}<extra></extra>",
         "legendgroup": "Oceania",
         "line": {
          "color": "#9467BD",
          "dash": "solid"
         },
         "marker": {
          "symbol": "circle"
         },
         "mode": "lines",
         "name": "Oceania",
         "orientation": "v",
         "showlegend": true,
         "type": "scatter",
         "x": [
          2000,
          2001,
          2002,
          2003,
          2004,
          2005,
          2006,
          2007,
          2008,
          2009,
          2010,
          2011,
          2012,
          2013,
          2014,
          2015,
          2016
         ],
         "xaxis": "x",
         "y": [
          181.625,
          178.5,
          176,
          172.875,
          169.375,
          166.22222222222223,
          162.44444444444446,
          160.11111111111111,
          156.55555555555554,
          158,
          152,
          149.55555555555554,
          147.11111111111111,
          144.66666666666666,
          143.33333333333334,
          141.22222222222223,
          139.11111111111111
         ],
         "yaxis": "y"
        },
        {
         "hovertemplate": "Continent=South America<br>Year=%{x}<br>Both sexes=%{y}<extra></extra>",
         "legendgroup": "South America",
         "line": {
          "color": "#8C564B",
          "dash": "solid"
         },
         "marker": {
          "symbol": "circle"
         },
         "mode": "lines",
         "name": "South America",
         "orientation": "v",
         "showlegend": true,
         "type": "scatter",
         "x": [
          2000,
          2001,
          2002,
          2003,
          2004,
          2005,
          2006,
          2007,
          2008,
          2009,
          2010,
          2011,
          2012,
          2013,
          2014,
          2015,
          2016
         ],
         "xaxis": "x",
         "y": [
          166.55555555555554,
          163.33333333333334,
          162.33333333333334,
          158.11111111111111,
          161.3,
          158.1,
          155.7,
          153.8,
          151.5,
          151.3,
          150.1,
          148.2,
          148,
          145.7,
          144,
          143.2,
          142
         ],
         "yaxis": "y"
        }
       ],
       "layout": {
        "legend": {
         "title": {
          "text": "Continent"
         },
         "tracegroupgap": 0
        },
        "margin": {
         "t": 60
        },
        "template": {
         "data": {
          "bar": [
           {
            "error_x": {
             "color": "rgb(36,36,36)"
            },
            "error_y": {
             "color": "rgb(36,36,36)"
            },
            "marker": {
             "line": {
              "color": "white",
              "width": 0.5
             },
             "pattern": {
              "fillmode": "overlay",
              "size": 10,
              "solidity": 0.2
             }
            },
            "type": "bar"
           }
          ],
          "barpolar": [
           {
            "marker": {
             "line": {
              "color": "white",
              "width": 0.5
             },
             "pattern": {
              "fillmode": "overlay",
              "size": 10,
              "solidity": 0.2
             }
            },
            "type": "barpolar"
           }
          ],
          "carpet": [
           {
            "aaxis": {
             "endlinecolor": "rgb(36,36,36)",
             "gridcolor": "white",
             "linecolor": "white",
             "minorgridcolor": "white",
             "startlinecolor": "rgb(36,36,36)"
            },
            "baxis": {
             "endlinecolor": "rgb(36,36,36)",
             "gridcolor": "white",
             "linecolor": "white",
             "minorgridcolor": "white",
             "startlinecolor": "rgb(36,36,36)"
            },
            "type": "carpet"
           }
          ],
          "choropleth": [
           {
            "colorbar": {
             "outlinewidth": 1,
             "tickcolor": "rgb(36,36,36)",
             "ticks": "outside"
            },
            "type": "choropleth"
           }
          ],
          "contour": [
           {
            "colorbar": {
             "outlinewidth": 1,
             "tickcolor": "rgb(36,36,36)",
             "ticks": "outside"
            },
            "colorscale": [
             [
              0,
              "#440154"
             ],
             [
              0.1111111111111111,
              "#482878"
             ],
             [
              0.2222222222222222,
              "#3e4989"
             ],
             [
              0.3333333333333333,
              "#31688e"
             ],
             [
              0.4444444444444444,
              "#26828e"
             ],
             [
              0.5555555555555556,
              "#1f9e89"
             ],
             [
              0.6666666666666666,
              "#35b779"
             ],
             [
              0.7777777777777778,
              "#6ece58"
             ],
             [
              0.8888888888888888,
              "#b5de2b"
             ],
             [
              1,
              "#fde725"
             ]
            ],
            "type": "contour"
           }
          ],
          "contourcarpet": [
           {
            "colorbar": {
             "outlinewidth": 1,
             "tickcolor": "rgb(36,36,36)",
             "ticks": "outside"
            },
            "type": "contourcarpet"
           }
          ],
          "heatmap": [
           {
            "colorbar": {
             "outlinewidth": 1,
             "tickcolor": "rgb(36,36,36)",
             "ticks": "outside"
            },
            "colorscale": [
             [
              0,
              "#440154"
             ],
             [
              0.1111111111111111,
              "#482878"
             ],
             [
              0.2222222222222222,
              "#3e4989"
             ],
             [
              0.3333333333333333,
              "#31688e"
             ],
             [
              0.4444444444444444,
              "#26828e"
             ],
             [
              0.5555555555555556,
              "#1f9e89"
             ],
             [
              0.6666666666666666,
              "#35b779"
             ],
             [
              0.7777777777777778,
              "#6ece58"
             ],
             [
              0.8888888888888888,
              "#b5de2b"
             ],
             [
              1,
              "#fde725"
             ]
            ],
            "type": "heatmap"
           }
          ],
          "heatmapgl": [
           {
            "colorbar": {
             "outlinewidth": 1,
             "tickcolor": "rgb(36,36,36)",
             "ticks": "outside"
            },
            "colorscale": [
             [
              0,
              "#440154"
             ],
             [
              0.1111111111111111,
              "#482878"
             ],
             [
              0.2222222222222222,
              "#3e4989"
             ],
             [
              0.3333333333333333,
              "#31688e"
             ],
             [
              0.4444444444444444,
              "#26828e"
             ],
             [
              0.5555555555555556,
              "#1f9e89"
             ],
             [
              0.6666666666666666,
              "#35b779"
             ],
             [
              0.7777777777777778,
              "#6ece58"
             ],
             [
              0.8888888888888888,
              "#b5de2b"
             ],
             [
              1,
              "#fde725"
             ]
            ],
            "type": "heatmapgl"
           }
          ],
          "histogram": [
           {
            "marker": {
             "line": {
              "color": "white",
              "width": 0.6
             }
            },
            "type": "histogram"
           }
          ],
          "histogram2d": [
           {
            "colorbar": {
             "outlinewidth": 1,
             "tickcolor": "rgb(36,36,36)",
             "ticks": "outside"
            },
            "colorscale": [
             [
              0,
              "#440154"
             ],
             [
              0.1111111111111111,
              "#482878"
             ],
             [
              0.2222222222222222,
              "#3e4989"
             ],
             [
              0.3333333333333333,
              "#31688e"
             ],
             [
              0.4444444444444444,
              "#26828e"
             ],
             [
              0.5555555555555556,
              "#1f9e89"
             ],
             [
              0.6666666666666666,
              "#35b779"
             ],
             [
              0.7777777777777778,
              "#6ece58"
             ],
             [
              0.8888888888888888,
              "#b5de2b"
             ],
             [
              1,
              "#fde725"
             ]
            ],
            "type": "histogram2d"
           }
          ],
          "histogram2dcontour": [
           {
            "colorbar": {
             "outlinewidth": 1,
             "tickcolor": "rgb(36,36,36)",
             "ticks": "outside"
            },
            "colorscale": [
             [
              0,
              "#440154"
             ],
             [
              0.1111111111111111,
              "#482878"
             ],
             [
              0.2222222222222222,
              "#3e4989"
             ],
             [
              0.3333333333333333,
              "#31688e"
             ],
             [
              0.4444444444444444,
              "#26828e"
             ],
             [
              0.5555555555555556,
              "#1f9e89"
             ],
             [
              0.6666666666666666,
              "#35b779"
             ],
             [
              0.7777777777777778,
              "#6ece58"
             ],
             [
              0.8888888888888888,
              "#b5de2b"
             ],
             [
              1,
              "#fde725"
             ]
            ],
            "type": "histogram2dcontour"
           }
          ],
          "mesh3d": [
           {
            "colorbar": {
             "outlinewidth": 1,
             "tickcolor": "rgb(36,36,36)",
             "ticks": "outside"
            },
            "type": "mesh3d"
           }
          ],
          "parcoords": [
           {
            "line": {
             "colorbar": {
              "outlinewidth": 1,
              "tickcolor": "rgb(36,36,36)",
              "ticks": "outside"
             }
            },
            "type": "parcoords"
           }
          ],
          "pie": [
           {
            "automargin": true,
            "type": "pie"
           }
          ],
          "scatter": [
           {
            "fillpattern": {
             "fillmode": "overlay",
             "size": 10,
             "solidity": 0.2
            },
            "type": "scatter"
           }
          ],
          "scatter3d": [
           {
            "line": {
             "colorbar": {
              "outlinewidth": 1,
              "tickcolor": "rgb(36,36,36)",
              "ticks": "outside"
             }
            },
            "marker": {
             "colorbar": {
              "outlinewidth": 1,
              "tickcolor": "rgb(36,36,36)",
              "ticks": "outside"
             }
            },
            "type": "scatter3d"
           }
          ],
          "scattercarpet": [
           {
            "marker": {
             "colorbar": {
              "outlinewidth": 1,
              "tickcolor": "rgb(36,36,36)",
              "ticks": "outside"
             }
            },
            "type": "scattercarpet"
           }
          ],
          "scattergeo": [
           {
            "marker": {
             "colorbar": {
              "outlinewidth": 1,
              "tickcolor": "rgb(36,36,36)",
              "ticks": "outside"
             }
            },
            "type": "scattergeo"
           }
          ],
          "scattergl": [
           {
            "marker": {
             "colorbar": {
              "outlinewidth": 1,
              "tickcolor": "rgb(36,36,36)",
              "ticks": "outside"
             }
            },
            "type": "scattergl"
           }
          ],
          "scattermapbox": [
           {
            "marker": {
             "colorbar": {
              "outlinewidth": 1,
              "tickcolor": "rgb(36,36,36)",
              "ticks": "outside"
             }
            },
            "type": "scattermapbox"
           }
          ],
          "scatterpolar": [
           {
            "marker": {
             "colorbar": {
              "outlinewidth": 1,
              "tickcolor": "rgb(36,36,36)",
              "ticks": "outside"
             }
            },
            "type": "scatterpolar"
           }
          ],
          "scatterpolargl": [
           {
            "marker": {
             "colorbar": {
              "outlinewidth": 1,
              "tickcolor": "rgb(36,36,36)",
              "ticks": "outside"
             }
            },
            "type": "scatterpolargl"
           }
          ],
          "scatterternary": [
           {
            "marker": {
             "colorbar": {
              "outlinewidth": 1,
              "tickcolor": "rgb(36,36,36)",
              "ticks": "outside"
             }
            },
            "type": "scatterternary"
           }
          ],
          "surface": [
           {
            "colorbar": {
             "outlinewidth": 1,
             "tickcolor": "rgb(36,36,36)",
             "ticks": "outside"
            },
            "colorscale": [
             [
              0,
              "#440154"
             ],
             [
              0.1111111111111111,
              "#482878"
             ],
             [
              0.2222222222222222,
              "#3e4989"
             ],
             [
              0.3333333333333333,
              "#31688e"
             ],
             [
              0.4444444444444444,
              "#26828e"
             ],
             [
              0.5555555555555556,
              "#1f9e89"
             ],
             [
              0.6666666666666666,
              "#35b779"
             ],
             [
              0.7777777777777778,
              "#6ece58"
             ],
             [
              0.8888888888888888,
              "#b5de2b"
             ],
             [
              1,
              "#fde725"
             ]
            ],
            "type": "surface"
           }
          ],
          "table": [
           {
            "cells": {
             "fill": {
              "color": "rgb(237,237,237)"
             },
             "line": {
              "color": "white"
             }
            },
            "header": {
             "fill": {
              "color": "rgb(217,217,217)"
             },
             "line": {
              "color": "white"
             }
            },
            "type": "table"
           }
          ]
         },
         "layout": {
          "annotationdefaults": {
           "arrowhead": 0,
           "arrowwidth": 1
          },
          "autotypenumbers": "strict",
          "coloraxis": {
           "colorbar": {
            "outlinewidth": 1,
            "tickcolor": "rgb(36,36,36)",
            "ticks": "outside"
           }
          },
          "colorscale": {
           "diverging": [
            [
             0,
             "rgb(103,0,31)"
            ],
            [
             0.1,
             "rgb(178,24,43)"
            ],
            [
             0.2,
             "rgb(214,96,77)"
            ],
            [
             0.3,
             "rgb(244,165,130)"
            ],
            [
             0.4,
             "rgb(253,219,199)"
            ],
            [
             0.5,
             "rgb(247,247,247)"
            ],
            [
             0.6,
             "rgb(209,229,240)"
            ],
            [
             0.7,
             "rgb(146,197,222)"
            ],
            [
             0.8,
             "rgb(67,147,195)"
            ],
            [
             0.9,
             "rgb(33,102,172)"
            ],
            [
             1,
             "rgb(5,48,97)"
            ]
           ],
           "sequential": [
            [
             0,
             "#440154"
            ],
            [
             0.1111111111111111,
             "#482878"
            ],
            [
             0.2222222222222222,
             "#3e4989"
            ],
            [
             0.3333333333333333,
             "#31688e"
            ],
            [
             0.4444444444444444,
             "#26828e"
            ],
            [
             0.5555555555555556,
             "#1f9e89"
            ],
            [
             0.6666666666666666,
             "#35b779"
            ],
            [
             0.7777777777777778,
             "#6ece58"
            ],
            [
             0.8888888888888888,
             "#b5de2b"
            ],
            [
             1,
             "#fde725"
            ]
           ],
           "sequentialminus": [
            [
             0,
             "#440154"
            ],
            [
             0.1111111111111111,
             "#482878"
            ],
            [
             0.2222222222222222,
             "#3e4989"
            ],
            [
             0.3333333333333333,
             "#31688e"
            ],
            [
             0.4444444444444444,
             "#26828e"
            ],
            [
             0.5555555555555556,
             "#1f9e89"
            ],
            [
             0.6666666666666666,
             "#35b779"
            ],
            [
             0.7777777777777778,
             "#6ece58"
            ],
            [
             0.8888888888888888,
             "#b5de2b"
            ],
            [
             1,
             "#fde725"
            ]
           ]
          },
          "colorway": [
           "#1F77B4",
           "#FF7F0E",
           "#2CA02C",
           "#D62728",
           "#9467BD",
           "#8C564B",
           "#E377C2",
           "#7F7F7F",
           "#BCBD22",
           "#17BECF"
          ],
          "font": {
           "color": "rgb(36,36,36)"
          },
          "geo": {
           "bgcolor": "white",
           "lakecolor": "white",
           "landcolor": "white",
           "showlakes": true,
           "showland": true,
           "subunitcolor": "white"
          },
          "hoverlabel": {
           "align": "left"
          },
          "hovermode": "closest",
          "mapbox": {
           "style": "light"
          },
          "paper_bgcolor": "white",
          "plot_bgcolor": "white",
          "polar": {
           "angularaxis": {
            "gridcolor": "rgb(232,232,232)",
            "linecolor": "rgb(36,36,36)",
            "showgrid": false,
            "showline": true,
            "ticks": "outside"
           },
           "bgcolor": "white",
           "radialaxis": {
            "gridcolor": "rgb(232,232,232)",
            "linecolor": "rgb(36,36,36)",
            "showgrid": false,
            "showline": true,
            "ticks": "outside"
           }
          },
          "scene": {
           "xaxis": {
            "backgroundcolor": "white",
            "gridcolor": "rgb(232,232,232)",
            "gridwidth": 2,
            "linecolor": "rgb(36,36,36)",
            "showbackground": true,
            "showgrid": false,
            "showline": true,
            "ticks": "outside",
            "zeroline": false,
            "zerolinecolor": "rgb(36,36,36)"
           },
           "yaxis": {
            "backgroundcolor": "white",
            "gridcolor": "rgb(232,232,232)",
            "gridwidth": 2,
            "linecolor": "rgb(36,36,36)",
            "showbackground": true,
            "showgrid": false,
            "showline": true,
            "ticks": "outside",
            "zeroline": false,
            "zerolinecolor": "rgb(36,36,36)"
           },
           "zaxis": {
            "backgroundcolor": "white",
            "gridcolor": "rgb(232,232,232)",
            "gridwidth": 2,
            "linecolor": "rgb(36,36,36)",
            "showbackground": true,
            "showgrid": false,
            "showline": true,
            "ticks": "outside",
            "zeroline": false,
            "zerolinecolor": "rgb(36,36,36)"
           }
          },
          "shapedefaults": {
           "fillcolor": "black",
           "line": {
            "width": 0
           },
           "opacity": 0.3
          },
          "ternary": {
           "aaxis": {
            "gridcolor": "rgb(232,232,232)",
            "linecolor": "rgb(36,36,36)",
            "showgrid": false,
            "showline": true,
            "ticks": "outside"
           },
           "baxis": {
            "gridcolor": "rgb(232,232,232)",
            "linecolor": "rgb(36,36,36)",
            "showgrid": false,
            "showline": true,
            "ticks": "outside"
           },
           "bgcolor": "white",
           "caxis": {
            "gridcolor": "rgb(232,232,232)",
            "linecolor": "rgb(36,36,36)",
            "showgrid": false,
            "showline": true,
            "ticks": "outside"
           }
          },
          "title": {
           "x": 0.05
          },
          "xaxis": {
           "automargin": true,
           "gridcolor": "rgb(232,232,232)",
           "linecolor": "rgb(36,36,36)",
           "showgrid": false,
           "showline": true,
           "ticks": "outside",
           "title": {
            "standoff": 15
           },
           "zeroline": false,
           "zerolinecolor": "rgb(36,36,36)"
          },
          "yaxis": {
           "automargin": true,
           "gridcolor": "rgb(232,232,232)",
           "linecolor": "rgb(36,36,36)",
           "showgrid": false,
           "showline": true,
           "ticks": "outside",
           "title": {
            "standoff": 15
           },
           "zeroline": false,
           "zerolinecolor": "rgb(36,36,36)"
          }
         }
        },
        "xaxis": {
         "anchor": "y",
         "domain": [
          0,
          1
         ],
         "title": {
          "text": "Year"
         }
        },
        "yaxis": {
         "anchor": "x",
         "domain": [
          0,
          1
         ],
         "title": {
          "text": "Both sexes"
         }
        }
       }
      }
     },
     "metadata": {},
     "output_type": "display_data"
    }
   ],
   "source": [
    "import plotly.express as px\n",
    "\n",
    "px.line(merge_df.groupby(['Year','Continent'], as_index=False)['Both sexes','avg_years_of_schooling'].mean(), y='Both sexes',x='Year',template='simple_white',\n",
    "        color='Continent')\n"
   ]
  },
  {
   "cell_type": "code",
   "execution_count": 92,
   "metadata": {},
   "outputs": [
    {
     "name": "stderr",
     "output_type": "stream",
     "text": [
      "C:\\Users\\oludo\\AppData\\Local\\Temp\\ipykernel_27216\\2552727673.py:1: FutureWarning:\n",
      "\n",
      "Indexing with multiple keys (implicitly converted to a tuple of keys) will be deprecated, use a list instead.\n",
      "\n"
     ]
    },
    {
     "data": {
      "text/html": [
       "<div>\n",
       "<style scoped>\n",
       "    .dataframe tbody tr th:only-of-type {\n",
       "        vertical-align: middle;\n",
       "    }\n",
       "\n",
       "    .dataframe tbody tr th {\n",
       "        vertical-align: top;\n",
       "    }\n",
       "\n",
       "    .dataframe thead th {\n",
       "        text-align: right;\n",
       "    }\n",
       "</style>\n",
       "<table border=\"1\" class=\"dataframe\">\n",
       "  <thead>\n",
       "    <tr style=\"text-align: right;\">\n",
       "      <th></th>\n",
       "      <th>Year</th>\n",
       "      <th>Continent</th>\n",
       "      <th>Both sexes</th>\n",
       "      <th>avg_years_of_schooling</th>\n",
       "    </tr>\n",
       "  </thead>\n",
       "  <tbody>\n",
       "    <tr>\n",
       "      <th>0</th>\n",
       "      <td>2000</td>\n",
       "      <td>Africa</td>\n",
       "      <td>358.386364</td>\n",
       "      <td>4.031818</td>\n",
       "    </tr>\n",
       "    <tr>\n",
       "      <th>1</th>\n",
       "      <td>2000</td>\n",
       "      <td>Asia</td>\n",
       "      <td>167.472222</td>\n",
       "      <td>7.166667</td>\n",
       "    </tr>\n",
       "    <tr>\n",
       "      <th>2</th>\n",
       "      <td>2000</td>\n",
       "      <td>Europe</td>\n",
       "      <td>126.764706</td>\n",
       "      <td>9.879412</td>\n",
       "    </tr>\n",
       "    <tr>\n",
       "      <th>3</th>\n",
       "      <td>2000</td>\n",
       "      <td>North America</td>\n",
       "      <td>175.315789</td>\n",
       "      <td>7.389474</td>\n",
       "    </tr>\n",
       "    <tr>\n",
       "      <th>4</th>\n",
       "      <td>2000</td>\n",
       "      <td>Oceania</td>\n",
       "      <td>181.625000</td>\n",
       "      <td>8.212500</td>\n",
       "    </tr>\n",
       "    <tr>\n",
       "      <th>...</th>\n",
       "      <td>...</td>\n",
       "      <td>...</td>\n",
       "      <td>...</td>\n",
       "      <td>...</td>\n",
       "    </tr>\n",
       "    <tr>\n",
       "      <th>97</th>\n",
       "      <td>2016</td>\n",
       "      <td>Asia</td>\n",
       "      <td>131.025641</td>\n",
       "      <td>8.715385</td>\n",
       "    </tr>\n",
       "    <tr>\n",
       "      <th>98</th>\n",
       "      <td>2016</td>\n",
       "      <td>Europe</td>\n",
       "      <td>89.000000</td>\n",
       "      <td>11.802857</td>\n",
       "    </tr>\n",
       "    <tr>\n",
       "      <th>99</th>\n",
       "      <td>2016</td>\n",
       "      <td>North America</td>\n",
       "      <td>142.000000</td>\n",
       "      <td>9.000000</td>\n",
       "    </tr>\n",
       "    <tr>\n",
       "      <th>100</th>\n",
       "      <td>2016</td>\n",
       "      <td>Oceania</td>\n",
       "      <td>139.111111</td>\n",
       "      <td>9.155556</td>\n",
       "    </tr>\n",
       "    <tr>\n",
       "      <th>101</th>\n",
       "      <td>2016</td>\n",
       "      <td>South America</td>\n",
       "      <td>142.000000</td>\n",
       "      <td>8.820000</td>\n",
       "    </tr>\n",
       "  </tbody>\n",
       "</table>\n",
       "<p>102 rows × 4 columns</p>\n",
       "</div>"
      ],
      "text/plain": [
       "     Year      Continent  Both sexes  avg_years_of_schooling\n",
       "0    2000         Africa  358.386364                4.031818\n",
       "1    2000           Asia  167.472222                7.166667\n",
       "2    2000         Europe  126.764706                9.879412\n",
       "3    2000  North America  175.315789                7.389474\n",
       "4    2000        Oceania  181.625000                8.212500\n",
       "..    ...            ...         ...                     ...\n",
       "97   2016           Asia  131.025641                8.715385\n",
       "98   2016         Europe   89.000000               11.802857\n",
       "99   2016  North America  142.000000                9.000000\n",
       "100  2016        Oceania  139.111111                9.155556\n",
       "101  2016  South America  142.000000                8.820000\n",
       "\n",
       "[102 rows x 4 columns]"
      ]
     },
     "execution_count": 92,
     "metadata": {},
     "output_type": "execute_result"
    }
   ],
   "source": [
    "merge_df.groupby(['Year','Continent'], as_index=False)['Both sexes','avg_years_of_schooling'].mean()"
   ]
  },
  {
   "cell_type": "code",
   "execution_count": 42,
   "metadata": {},
   "outputs": [],
   "source": [
    "final_df.to_csv('Complete_mortality_y_of_schooling.csv', index=False)"
   ]
  },
  {
   "cell_type": "code",
   "execution_count": 115,
   "metadata": {},
   "outputs": [
    {
     "name": "stderr",
     "output_type": "stream",
     "text": [
      "C:\\Users\\oludo\\AppData\\Local\\Temp\\ipykernel_22980\\3978011245.py:3: FutureWarning:\n",
      "\n",
      "The default value of numeric_only in DataFrameGroupBy.sum is deprecated. In a future version, numeric_only will default to False. Either specify numeric_only or select only columns which should be valid for the function.\n",
      "\n"
     ]
    }
   ],
   "source": [
    "sui_rate = pd.read_csv('suicide.csv')\n",
    "sui_rate.columns\n",
    "sui_rate_f = sui_rate.groupby(['country','year'], as_index=False)[['suicides/100k pop',' gdp_for_year ($) ']].sum()"
   ]
  },
  {
   "cell_type": "code",
   "execution_count": 117,
   "metadata": {},
   "outputs": [
    {
     "data": {
      "text/html": [
       "<div>\n",
       "<style scoped>\n",
       "    .dataframe tbody tr th:only-of-type {\n",
       "        vertical-align: middle;\n",
       "    }\n",
       "\n",
       "    .dataframe tbody tr th {\n",
       "        vertical-align: top;\n",
       "    }\n",
       "\n",
       "    .dataframe thead th {\n",
       "        text-align: right;\n",
       "    }\n",
       "</style>\n",
       "<table border=\"1\" class=\"dataframe\">\n",
       "  <thead>\n",
       "    <tr style=\"text-align: right;\">\n",
       "      <th></th>\n",
       "      <th>country</th>\n",
       "      <th>year</th>\n",
       "      <th>suicides/100k pop</th>\n",
       "      <th>gdp</th>\n",
       "    </tr>\n",
       "  </thead>\n",
       "  <tbody>\n",
       "    <tr>\n",
       "      <th>0</th>\n",
       "      <td>Albania</td>\n",
       "      <td>1987</td>\n",
       "      <td>31.85</td>\n",
       "      <td>796</td>\n",
       "    </tr>\n",
       "    <tr>\n",
       "      <th>1</th>\n",
       "      <td>Albania</td>\n",
       "      <td>1988</td>\n",
       "      <td>32.46</td>\n",
       "      <td>769</td>\n",
       "    </tr>\n",
       "    <tr>\n",
       "      <th>2</th>\n",
       "      <td>Albania</td>\n",
       "      <td>1989</td>\n",
       "      <td>33.40</td>\n",
       "      <td>833</td>\n",
       "    </tr>\n",
       "    <tr>\n",
       "      <th>3</th>\n",
       "      <td>Albania</td>\n",
       "      <td>1992</td>\n",
       "      <td>18.00</td>\n",
       "      <td>251</td>\n",
       "    </tr>\n",
       "    <tr>\n",
       "      <th>4</th>\n",
       "      <td>Albania</td>\n",
       "      <td>1993</td>\n",
       "      <td>32.56</td>\n",
       "      <td>437</td>\n",
       "    </tr>\n",
       "    <tr>\n",
       "      <th>...</th>\n",
       "      <td>...</td>\n",
       "      <td>...</td>\n",
       "      <td>...</td>\n",
       "      <td>...</td>\n",
       "    </tr>\n",
       "    <tr>\n",
       "      <th>2316</th>\n",
       "      <td>Uzbekistan</td>\n",
       "      <td>2010</td>\n",
       "      <td>63.23</td>\n",
       "      <td>1533</td>\n",
       "    </tr>\n",
       "    <tr>\n",
       "      <th>2317</th>\n",
       "      <td>Uzbekistan</td>\n",
       "      <td>2011</td>\n",
       "      <td>67.14</td>\n",
       "      <td>1767</td>\n",
       "    </tr>\n",
       "    <tr>\n",
       "      <th>2318</th>\n",
       "      <td>Uzbekistan</td>\n",
       "      <td>2012</td>\n",
       "      <td>77.53</td>\n",
       "      <td>1964</td>\n",
       "    </tr>\n",
       "    <tr>\n",
       "      <th>2319</th>\n",
       "      <td>Uzbekistan</td>\n",
       "      <td>2013</td>\n",
       "      <td>78.86</td>\n",
       "      <td>2150</td>\n",
       "    </tr>\n",
       "    <tr>\n",
       "      <th>2320</th>\n",
       "      <td>Uzbekistan</td>\n",
       "      <td>2014</td>\n",
       "      <td>85.12</td>\n",
       "      <td>2309</td>\n",
       "    </tr>\n",
       "  </tbody>\n",
       "</table>\n",
       "<p>2321 rows × 4 columns</p>\n",
       "</div>"
      ],
      "text/plain": [
       "         country  year  suicides/100k pop   gdp\n",
       "0        Albania  1987              31.85   796\n",
       "1        Albania  1988              32.46   769\n",
       "2        Albania  1989              33.40   833\n",
       "3        Albania  1992              18.00   251\n",
       "4        Albania  1993              32.56   437\n",
       "...          ...   ...                ...   ...\n",
       "2316  Uzbekistan  2010              63.23  1533\n",
       "2317  Uzbekistan  2011              67.14  1767\n",
       "2318  Uzbekistan  2012              77.53  1964\n",
       "2319  Uzbekistan  2013              78.86  2150\n",
       "2320  Uzbekistan  2014              85.12  2309\n",
       "\n",
       "[2321 rows x 4 columns]"
      ]
     },
     "execution_count": 117,
     "metadata": {},
     "output_type": "execute_result"
    }
   ],
   "source": [
    "gdp = sui_rate.groupby(['country','year'], as_index=False)['gdp_per_capita ($)'].min()\n",
    "sui_rate_f['gdp'] = gdp['gdp_per_capita ($)']\n",
    "sui_rate_f"
   ]
  },
  {
   "cell_type": "code",
   "execution_count": 118,
   "metadata": {},
   "outputs": [
    {
     "data": {
      "text/html": [
       "<div>\n",
       "<style scoped>\n",
       "    .dataframe tbody tr th:only-of-type {\n",
       "        vertical-align: middle;\n",
       "    }\n",
       "\n",
       "    .dataframe tbody tr th {\n",
       "        vertical-align: top;\n",
       "    }\n",
       "\n",
       "    .dataframe thead th {\n",
       "        text-align: right;\n",
       "    }\n",
       "</style>\n",
       "<table border=\"1\" class=\"dataframe\">\n",
       "  <thead>\n",
       "    <tr style=\"text-align: right;\">\n",
       "      <th></th>\n",
       "      <th>Country</th>\n",
       "      <th>Year</th>\n",
       "      <th>suicides_per_100k</th>\n",
       "      <th>gdp</th>\n",
       "    </tr>\n",
       "  </thead>\n",
       "  <tbody>\n",
       "    <tr>\n",
       "      <th>0</th>\n",
       "      <td>Albania</td>\n",
       "      <td>1987</td>\n",
       "      <td>31.85</td>\n",
       "      <td>796</td>\n",
       "    </tr>\n",
       "    <tr>\n",
       "      <th>1</th>\n",
       "      <td>Albania</td>\n",
       "      <td>1988</td>\n",
       "      <td>32.46</td>\n",
       "      <td>769</td>\n",
       "    </tr>\n",
       "    <tr>\n",
       "      <th>2</th>\n",
       "      <td>Albania</td>\n",
       "      <td>1989</td>\n",
       "      <td>33.40</td>\n",
       "      <td>833</td>\n",
       "    </tr>\n",
       "    <tr>\n",
       "      <th>3</th>\n",
       "      <td>Albania</td>\n",
       "      <td>1992</td>\n",
       "      <td>18.00</td>\n",
       "      <td>251</td>\n",
       "    </tr>\n",
       "    <tr>\n",
       "      <th>4</th>\n",
       "      <td>Albania</td>\n",
       "      <td>1993</td>\n",
       "      <td>32.56</td>\n",
       "      <td>437</td>\n",
       "    </tr>\n",
       "    <tr>\n",
       "      <th>...</th>\n",
       "      <td>...</td>\n",
       "      <td>...</td>\n",
       "      <td>...</td>\n",
       "      <td>...</td>\n",
       "    </tr>\n",
       "    <tr>\n",
       "      <th>2316</th>\n",
       "      <td>Uzbekistan</td>\n",
       "      <td>2010</td>\n",
       "      <td>63.23</td>\n",
       "      <td>1533</td>\n",
       "    </tr>\n",
       "    <tr>\n",
       "      <th>2317</th>\n",
       "      <td>Uzbekistan</td>\n",
       "      <td>2011</td>\n",
       "      <td>67.14</td>\n",
       "      <td>1767</td>\n",
       "    </tr>\n",
       "    <tr>\n",
       "      <th>2318</th>\n",
       "      <td>Uzbekistan</td>\n",
       "      <td>2012</td>\n",
       "      <td>77.53</td>\n",
       "      <td>1964</td>\n",
       "    </tr>\n",
       "    <tr>\n",
       "      <th>2319</th>\n",
       "      <td>Uzbekistan</td>\n",
       "      <td>2013</td>\n",
       "      <td>78.86</td>\n",
       "      <td>2150</td>\n",
       "    </tr>\n",
       "    <tr>\n",
       "      <th>2320</th>\n",
       "      <td>Uzbekistan</td>\n",
       "      <td>2014</td>\n",
       "      <td>85.12</td>\n",
       "      <td>2309</td>\n",
       "    </tr>\n",
       "  </tbody>\n",
       "</table>\n",
       "<p>2321 rows × 4 columns</p>\n",
       "</div>"
      ],
      "text/plain": [
       "         Country  Year  suicides_per_100k   gdp\n",
       "0        Albania  1987              31.85   796\n",
       "1        Albania  1988              32.46   769\n",
       "2        Albania  1989              33.40   833\n",
       "3        Albania  1992              18.00   251\n",
       "4        Albania  1993              32.56   437\n",
       "...          ...   ...                ...   ...\n",
       "2316  Uzbekistan  2010              63.23  1533\n",
       "2317  Uzbekistan  2011              67.14  1767\n",
       "2318  Uzbekistan  2012              77.53  1964\n",
       "2319  Uzbekistan  2013              78.86  2150\n",
       "2320  Uzbekistan  2014              85.12  2309\n",
       "\n",
       "[2321 rows x 4 columns]"
      ]
     },
     "execution_count": 118,
     "metadata": {},
     "output_type": "execute_result"
    }
   ],
   "source": [
    "sui_rate_f.rename(columns={'country':'Country','year':'Year','suicides/100k pop':'suicides_per_100k'}, inplace=True)\n",
    "sui_rate_f"
   ]
  },
  {
   "cell_type": "code",
   "execution_count": 119,
   "metadata": {},
   "outputs": [],
   "source": [
    "final_df_2 = pd.merge(final_df,sui_rate_f)\n",
    "final_df_2['Year'] = pd.to_numeric(final_df_2['Year'])"
   ]
  },
  {
   "cell_type": "code",
   "execution_count": 120,
   "metadata": {},
   "outputs": [],
   "source": [
    "#final_df_2.sort_values(['Country','Year'], ascending=[True,True], inplace=True, ignore_index=True)\n",
    "final_df_2.sort_values('Year',inplace=True)\n"
   ]
  },
  {
   "cell_type": "code",
   "execution_count": 121,
   "metadata": {},
   "outputs": [],
   "source": [
    "final_df_2.to_csv('final_df_2.csv', index=False)"
   ]
  },
  {
   "cell_type": "code",
   "execution_count": 122,
   "metadata": {},
   "outputs": [
    {
     "data": {
      "text/plain": [
       "array([2000, 2001, 2002, 2003, 2004, 2005, 2006, 2007, 2008, 2009, 2010,\n",
       "       2011, 2012, 2013, 2014, 2015, 2016], dtype=int64)"
      ]
     },
     "execution_count": 122,
     "metadata": {},
     "output_type": "execute_result"
    }
   ],
   "source": [
    "final_df_2.Year.unique()"
   ]
  },
  {
   "cell_type": "code",
   "execution_count": 123,
   "metadata": {},
   "outputs": [
    {
     "data": {
      "application/vnd.plotly.v1+json": {
       "config": {
        "plotlyServerURL": "https://plot.ly"
       },
       "data": [
        {
         "hovertemplate": "<b>%{hovertext}</b><br><br>Continent=Asia<br>Year=2000<br>avg_years_of_schooling=%{x}<br>Both sexes=%{marker.size}<extra></extra>",
         "hovertext": [
          "Uzbekistan",
          "Maldives",
          "Philippines",
          "Bahrain",
          "Azerbaijan",
          "Singapore",
          "Cyprus",
          "Georgia",
          "Israel",
          "Japan",
          "Kazakhstan",
          "Kuwait",
          "Kyrgyzstan",
          "Armenia",
          "Sri Lanka",
          "Thailand"
         ],
         "ids": [
          "Uzbekistan",
          "Maldives",
          "Philippines",
          "Bahrain",
          "Azerbaijan",
          "Singapore",
          "Cyprus",
          "Georgia",
          "Israel",
          "Japan",
          "Kazakhstan",
          "Kuwait",
          "Kyrgyzstan",
          "Armenia",
          "Sri Lanka",
          "Thailand"
         ],
         "legendgroup": "Asia",
         "marker": {
          "color": "#1F77B4",
          "size": [
           183,
           142,
           213,
           101,
           161,
           79,
           80,
           129,
           80,
           72,
           287,
           94,
           228,
           143,
           171,
           204
          ],
          "sizemode": "area",
          "sizeref": 0.53,
          "symbol": "circle"
         },
         "mode": "markers",
         "name": "Asia",
         "orientation": "v",
         "showlegend": true,
         "type": "scatter",
         "x": [
          9.1,
          3,
          7.6,
          8.3,
          10.6,
          8.9,
          10,
          11.7,
          12,
          10.7,
          10.5,
          6.2,
          9.8,
          10.8,
          10,
          6.1
         ],
         "xaxis": "x",
         "y": [
          183,
          142,
          213,
          101,
          161,
          79,
          80,
          129,
          80,
          72,
          287,
          94,
          228,
          143,
          171,
          204
         ],
         "yaxis": "y"
        },
        {
         "hovertemplate": "<b>%{hovertext}</b><br><br>Continent=South America<br>Year=2000<br>avg_years_of_schooling=%{x}<br>Both sexes=%{marker.size}<extra></extra>",
         "hovertext": [
          "Brazil",
          "Paraguay",
          "Colombia",
          "Chile",
          "Ecuador",
          "Argentina",
          "Uruguay"
         ],
         "ids": [
          "Brazil",
          "Paraguay",
          "Colombia",
          "Chile",
          "Ecuador",
          "Argentina",
          "Uruguay"
         ],
         "legendgroup": "South America",
         "marker": {
          "color": "#FF7F0E",
          "size": [
           184,
           171,
           171,
           103,
           160,
           139,
           134
          ],
          "sizemode": "area",
          "sizeref": 0.53,
          "symbol": "circle"
         },
         "mode": "markers",
         "name": "South America",
         "orientation": "v",
         "showlegend": true,
         "type": "scatter",
         "x": [
          5.6,
          5.9,
          6.5,
          8.8,
          7,
          9.1,
          8
         ],
         "xaxis": "x",
         "y": [
          184,
          171,
          171,
          103,
          160,
          139,
          134
         ],
         "yaxis": "y"
        },
        {
         "hovertemplate": "<b>%{hovertext}</b><br><br>Continent=Europe<br>Year=2000<br>avg_years_of_schooling=%{x}<br>Both sexes=%{marker.size}<extra></extra>",
         "hovertext": [
          "Malta",
          "Netherlands",
          "Belgium",
          "Norway",
          "Belarus",
          "Luxembourg",
          "Poland",
          "Portugal",
          "Romania",
          "Serbia",
          "Austria",
          "Slovakia",
          "Lithuania",
          "Bulgaria",
          "Latvia",
          "Estonia",
          "Denmark",
          "Finland",
          "France",
          "Germany",
          "Greece",
          "Croatia",
          "Hungary",
          "Iceland",
          "Ireland",
          "Italy",
          "Slovenia",
          "Ukraine",
          "Albania",
          "Sweden",
          "Switzerland",
          "Spain"
         ],
         "ids": [
          "Malta",
          "Netherlands",
          "Belgium",
          "Norway",
          "Belarus",
          "Luxembourg",
          "Poland",
          "Portugal",
          "Romania",
          "Serbia",
          "Austria",
          "Slovakia",
          "Lithuania",
          "Bulgaria",
          "Latvia",
          "Estonia",
          "Denmark",
          "Finland",
          "France",
          "Germany",
          "Greece",
          "Croatia",
          "Hungary",
          "Iceland",
          "Ireland",
          "Italy",
          "Slovenia",
          "Ukraine",
          "Albania",
          "Sweden",
          "Switzerland",
          "Spain"
         ],
         "legendgroup": "Europe",
         "marker": {
          "color": "#2CA02C",
          "size": [
           70,
           83,
           99,
           84,
           247,
           90,
           152,
           110,
           175,
           141,
           94,
           147,
           200,
           163,
           217,
           216,
           100,
           104,
           99,
           95,
           82,
           133,
           193,
           76,
           93,
           75,
           122,
           258,
           106,
           72,
           78,
           84
          ],
          "sizemode": "area",
          "sizeref": 0.53,
          "symbol": "circle"
         },
         "mode": "markers",
         "name": "Europe",
         "orientation": "v",
         "showlegend": true,
         "type": "scatter",
         "x": [
          8.1,
          10.8,
          10,
          12,
          8.9,
          10.3,
          11.1,
          6.8,
          9.9,
          9.4,
          9,
          10.3,
          10.7,
          9.5,
          9.5,
          11.7,
          10.7,
          9.3,
          9.8,
          11.2,
          8.6,
          9.4,
          10.2,
          9.4,
          10.8,
          8.6,
          11.6,
          10.7,
          8.8,
          11.4,
          11.4,
          8.4
         ],
         "xaxis": "x",
         "y": [
          70,
          83,
          99,
          84,
          247,
          90,
          152,
          110,
          175,
          141,
          94,
          147,
          200,
          163,
          217,
          216,
          100,
          104,
          99,
          95,
          82,
          133,
          193,
          76,
          93,
          75,
          122,
          258,
          106,
          72,
          78,
          84
         ],
         "yaxis": "y"
        },
        {
         "hovertemplate": "<b>%{hovertext}</b><br><br>Continent=Africa<br>Year=2000<br>avg_years_of_schooling=%{x}<br>Both sexes=%{marker.size}<extra></extra>",
         "hovertext": [
          "Mauritius",
          "South Africa"
         ],
         "ids": [
          "Mauritius",
          "South Africa"
         ],
         "legendgroup": "Africa",
         "marker": {
          "color": "#D62728",
          "size": [
           172,
           362
          ],
          "sizemode": "area",
          "sizeref": 0.53,
          "symbol": "circle"
         },
         "mode": "markers",
         "name": "Africa",
         "orientation": "v",
         "showlegend": true,
         "type": "scatter",
         "x": [
          6.2,
          8.8
         ],
         "xaxis": "x",
         "y": [
          172,
          362
         ],
         "yaxis": "y"
        },
        {
         "hovertemplate": "<b>%{hovertext}</b><br><br>Continent=North America<br>Year=2000<br>avg_years_of_schooling=%{x}<br>Both sexes=%{marker.size}<extra></extra>",
         "hovertext": [
          "Belize",
          "Mexico",
          "Panama",
          "Bahamas",
          "Saint Lucia",
          "Barbados",
          "El Salvador",
          "Cuba",
          "Guatemala",
          "Costa Rica",
          "Jamaica",
          "Canada",
          "Antigua and Barbuda",
          "Trinidad and Tobago"
         ],
         "ids": [
          "Belize",
          "Mexico",
          "Panama",
          "Bahamas",
          "Saint Lucia",
          "Barbados",
          "El Salvador",
          "Cuba",
          "Guatemala",
          "Costa Rica",
          "Jamaica",
          "Canada",
          "Antigua and Barbuda",
          "Trinidad and Tobago"
         ],
         "legendgroup": "North America",
         "marker": {
          "color": "#9467BD",
          "size": [
           198,
           138,
           120,
           202,
           186,
           128,
           218,
           121,
           220,
           100,
           173,
           81,
           157,
           202
          ],
          "sizemode": "area",
          "sizeref": 0.53,
          "symbol": "circle"
         },
         "mode": "markers",
         "name": "North America",
         "orientation": "v",
         "showlegend": true,
         "type": "scatter",
         "x": [
          10.1,
          6.7,
          8.5,
          10.9,
          7,
          9,
          5.2,
          9.6,
          3.7,
          8,
          7.3,
          11,
          7,
          9.2
         ],
         "xaxis": "x",
         "y": [
          198,
          138,
          120,
          202,
          186,
          128,
          218,
          121,
          220,
          100,
          173,
          81,
          157,
          202
         ],
         "yaxis": "y"
        },
        {
         "hovertemplate": "<b>%{hovertext}</b><br><br>Continent=Oceania<br>Year=2000<br>avg_years_of_schooling=%{x}<br>Both sexes=%{marker.size}<extra></extra>",
         "hovertext": [
          "New Zealand",
          "Kiribati",
          "Australia"
         ],
         "ids": [
          "New Zealand",
          "Kiribati",
          "Australia"
         ],
         "legendgroup": "Oceania",
         "marker": {
          "color": "#8C564B",
          "size": [
           86,
           222,
           77
          ],
          "sizemode": "area",
          "sizeref": 0.53,
          "symbol": "circle"
         },
         "mode": "markers",
         "name": "Oceania",
         "orientation": "v",
         "showlegend": true,
         "type": "scatter",
         "x": [
          11.6,
          6.8,
          11.9
         ],
         "xaxis": "x",
         "y": [
          86,
          222,
          77
         ],
         "yaxis": "y"
        }
       ],
       "frames": [
        {
         "data": [
          {
           "hovertemplate": "<b>%{hovertext}</b><br><br>Continent=Asia<br>Year=2000<br>avg_years_of_schooling=%{x}<br>Both sexes=%{marker.size}<extra></extra>",
           "hovertext": [
            "Uzbekistan",
            "Maldives",
            "Philippines",
            "Bahrain",
            "Azerbaijan",
            "Singapore",
            "Cyprus",
            "Georgia",
            "Israel",
            "Japan",
            "Kazakhstan",
            "Kuwait",
            "Kyrgyzstan",
            "Armenia",
            "Sri Lanka",
            "Thailand"
           ],
           "ids": [
            "Uzbekistan",
            "Maldives",
            "Philippines",
            "Bahrain",
            "Azerbaijan",
            "Singapore",
            "Cyprus",
            "Georgia",
            "Israel",
            "Japan",
            "Kazakhstan",
            "Kuwait",
            "Kyrgyzstan",
            "Armenia",
            "Sri Lanka",
            "Thailand"
           ],
           "legendgroup": "Asia",
           "marker": {
            "color": "#1F77B4",
            "size": [
             183,
             142,
             213,
             101,
             161,
             79,
             80,
             129,
             80,
             72,
             287,
             94,
             228,
             143,
             171,
             204
            ],
            "sizemode": "area",
            "sizeref": 0.53,
            "symbol": "circle"
           },
           "mode": "markers",
           "name": "Asia",
           "orientation": "v",
           "showlegend": true,
           "type": "scatter",
           "x": [
            9.1,
            3,
            7.6,
            8.3,
            10.6,
            8.9,
            10,
            11.7,
            12,
            10.7,
            10.5,
            6.2,
            9.8,
            10.8,
            10,
            6.1
           ],
           "xaxis": "x",
           "y": [
            183,
            142,
            213,
            101,
            161,
            79,
            80,
            129,
            80,
            72,
            287,
            94,
            228,
            143,
            171,
            204
           ],
           "yaxis": "y"
          },
          {
           "hovertemplate": "<b>%{hovertext}</b><br><br>Continent=South America<br>Year=2000<br>avg_years_of_schooling=%{x}<br>Both sexes=%{marker.size}<extra></extra>",
           "hovertext": [
            "Brazil",
            "Paraguay",
            "Colombia",
            "Chile",
            "Ecuador",
            "Argentina",
            "Uruguay"
           ],
           "ids": [
            "Brazil",
            "Paraguay",
            "Colombia",
            "Chile",
            "Ecuador",
            "Argentina",
            "Uruguay"
           ],
           "legendgroup": "South America",
           "marker": {
            "color": "#FF7F0E",
            "size": [
             184,
             171,
             171,
             103,
             160,
             139,
             134
            ],
            "sizemode": "area",
            "sizeref": 0.53,
            "symbol": "circle"
           },
           "mode": "markers",
           "name": "South America",
           "orientation": "v",
           "showlegend": true,
           "type": "scatter",
           "x": [
            5.6,
            5.9,
            6.5,
            8.8,
            7,
            9.1,
            8
           ],
           "xaxis": "x",
           "y": [
            184,
            171,
            171,
            103,
            160,
            139,
            134
           ],
           "yaxis": "y"
          },
          {
           "hovertemplate": "<b>%{hovertext}</b><br><br>Continent=Europe<br>Year=2000<br>avg_years_of_schooling=%{x}<br>Both sexes=%{marker.size}<extra></extra>",
           "hovertext": [
            "Malta",
            "Netherlands",
            "Belgium",
            "Norway",
            "Belarus",
            "Luxembourg",
            "Poland",
            "Portugal",
            "Romania",
            "Serbia",
            "Austria",
            "Slovakia",
            "Lithuania",
            "Bulgaria",
            "Latvia",
            "Estonia",
            "Denmark",
            "Finland",
            "France",
            "Germany",
            "Greece",
            "Croatia",
            "Hungary",
            "Iceland",
            "Ireland",
            "Italy",
            "Slovenia",
            "Ukraine",
            "Albania",
            "Sweden",
            "Switzerland",
            "Spain"
           ],
           "ids": [
            "Malta",
            "Netherlands",
            "Belgium",
            "Norway",
            "Belarus",
            "Luxembourg",
            "Poland",
            "Portugal",
            "Romania",
            "Serbia",
            "Austria",
            "Slovakia",
            "Lithuania",
            "Bulgaria",
            "Latvia",
            "Estonia",
            "Denmark",
            "Finland",
            "France",
            "Germany",
            "Greece",
            "Croatia",
            "Hungary",
            "Iceland",
            "Ireland",
            "Italy",
            "Slovenia",
            "Ukraine",
            "Albania",
            "Sweden",
            "Switzerland",
            "Spain"
           ],
           "legendgroup": "Europe",
           "marker": {
            "color": "#2CA02C",
            "size": [
             70,
             83,
             99,
             84,
             247,
             90,
             152,
             110,
             175,
             141,
             94,
             147,
             200,
             163,
             217,
             216,
             100,
             104,
             99,
             95,
             82,
             133,
             193,
             76,
             93,
             75,
             122,
             258,
             106,
             72,
             78,
             84
            ],
            "sizemode": "area",
            "sizeref": 0.53,
            "symbol": "circle"
           },
           "mode": "markers",
           "name": "Europe",
           "orientation": "v",
           "showlegend": true,
           "type": "scatter",
           "x": [
            8.1,
            10.8,
            10,
            12,
            8.9,
            10.3,
            11.1,
            6.8,
            9.9,
            9.4,
            9,
            10.3,
            10.7,
            9.5,
            9.5,
            11.7,
            10.7,
            9.3,
            9.8,
            11.2,
            8.6,
            9.4,
            10.2,
            9.4,
            10.8,
            8.6,
            11.6,
            10.7,
            8.8,
            11.4,
            11.4,
            8.4
           ],
           "xaxis": "x",
           "y": [
            70,
            83,
            99,
            84,
            247,
            90,
            152,
            110,
            175,
            141,
            94,
            147,
            200,
            163,
            217,
            216,
            100,
            104,
            99,
            95,
            82,
            133,
            193,
            76,
            93,
            75,
            122,
            258,
            106,
            72,
            78,
            84
           ],
           "yaxis": "y"
          },
          {
           "hovertemplate": "<b>%{hovertext}</b><br><br>Continent=Africa<br>Year=2000<br>avg_years_of_schooling=%{x}<br>Both sexes=%{marker.size}<extra></extra>",
           "hovertext": [
            "Mauritius",
            "South Africa"
           ],
           "ids": [
            "Mauritius",
            "South Africa"
           ],
           "legendgroup": "Africa",
           "marker": {
            "color": "#D62728",
            "size": [
             172,
             362
            ],
            "sizemode": "area",
            "sizeref": 0.53,
            "symbol": "circle"
           },
           "mode": "markers",
           "name": "Africa",
           "orientation": "v",
           "showlegend": true,
           "type": "scatter",
           "x": [
            6.2,
            8.8
           ],
           "xaxis": "x",
           "y": [
            172,
            362
           ],
           "yaxis": "y"
          },
          {
           "hovertemplate": "<b>%{hovertext}</b><br><br>Continent=North America<br>Year=2000<br>avg_years_of_schooling=%{x}<br>Both sexes=%{marker.size}<extra></extra>",
           "hovertext": [
            "Belize",
            "Mexico",
            "Panama",
            "Bahamas",
            "Saint Lucia",
            "Barbados",
            "El Salvador",
            "Cuba",
            "Guatemala",
            "Costa Rica",
            "Jamaica",
            "Canada",
            "Antigua and Barbuda",
            "Trinidad and Tobago"
           ],
           "ids": [
            "Belize",
            "Mexico",
            "Panama",
            "Bahamas",
            "Saint Lucia",
            "Barbados",
            "El Salvador",
            "Cuba",
            "Guatemala",
            "Costa Rica",
            "Jamaica",
            "Canada",
            "Antigua and Barbuda",
            "Trinidad and Tobago"
           ],
           "legendgroup": "North America",
           "marker": {
            "color": "#9467BD",
            "size": [
             198,
             138,
             120,
             202,
             186,
             128,
             218,
             121,
             220,
             100,
             173,
             81,
             157,
             202
            ],
            "sizemode": "area",
            "sizeref": 0.53,
            "symbol": "circle"
           },
           "mode": "markers",
           "name": "North America",
           "orientation": "v",
           "showlegend": true,
           "type": "scatter",
           "x": [
            10.1,
            6.7,
            8.5,
            10.9,
            7,
            9,
            5.2,
            9.6,
            3.7,
            8,
            7.3,
            11,
            7,
            9.2
           ],
           "xaxis": "x",
           "y": [
            198,
            138,
            120,
            202,
            186,
            128,
            218,
            121,
            220,
            100,
            173,
            81,
            157,
            202
           ],
           "yaxis": "y"
          },
          {
           "hovertemplate": "<b>%{hovertext}</b><br><br>Continent=Oceania<br>Year=2000<br>avg_years_of_schooling=%{x}<br>Both sexes=%{marker.size}<extra></extra>",
           "hovertext": [
            "New Zealand",
            "Kiribati",
            "Australia"
           ],
           "ids": [
            "New Zealand",
            "Kiribati",
            "Australia"
           ],
           "legendgroup": "Oceania",
           "marker": {
            "color": "#8C564B",
            "size": [
             86,
             222,
             77
            ],
            "sizemode": "area",
            "sizeref": 0.53,
            "symbol": "circle"
           },
           "mode": "markers",
           "name": "Oceania",
           "orientation": "v",
           "showlegend": true,
           "type": "scatter",
           "x": [
            11.6,
            6.8,
            11.9
           ],
           "xaxis": "x",
           "y": [
            86,
            222,
            77
           ],
           "yaxis": "y"
          }
         ],
         "name": "2000"
        },
        {
         "data": [
          {
           "hovertemplate": "<b>%{hovertext}</b><br><br>Continent=Asia<br>Year=2001<br>avg_years_of_schooling=%{x}<br>Both sexes=%{marker.size}<extra></extra>",
           "hovertext": [
            "Bahrain",
            "Uzbekistan",
            "Japan",
            "Sri Lanka",
            "Israel",
            "Philippines",
            "Kyrgyzstan",
            "Kuwait",
            "Kazakhstan",
            "Maldives",
            "Armenia",
            "Qatar",
            "Singapore",
            "Georgia",
            "Azerbaijan"
           ],
           "ids": [
            "Bahrain",
            "Uzbekistan",
            "Japan",
            "Sri Lanka",
            "Israel",
            "Philippines",
            "Kyrgyzstan",
            "Kuwait",
            "Kazakhstan",
            "Maldives",
            "Armenia",
            "Qatar",
            "Singapore",
            "Georgia",
            "Azerbaijan"
           ],
           "legendgroup": "Asia",
           "marker": {
            "color": "#1F77B4",
            "size": [
             98,
             177,
             70,
             158,
             79,
             215,
             219,
             92,
             283,
             135,
             143,
             73,
             77,
             125,
             149
            ],
            "sizemode": "area",
            "sizeref": 0.53,
            "symbol": "circle"
           },
           "mode": "markers",
           "name": "Asia",
           "orientation": "v",
           "showlegend": true,
           "type": "scatter",
           "x": [
            8.4,
            9.2,
            10.8,
            10.2,
            12.1,
            7.7,
            9.9,
            6.2,
            10.7,
            3.1,
            10.7,
            8,
            9.2,
            11.8,
            10.6
           ],
           "xaxis": "x",
           "y": [
            98,
            177,
            70,
            158,
            79,
            215,
            219,
            92,
            283,
            135,
            143,
            73,
            77,
            125,
            149
           ],
           "yaxis": "y"
          },
          {
           "hovertemplate": "<b>%{hovertext}</b><br><br>Continent=South America<br>Year=2001<br>avg_years_of_schooling=%{x}<br>Both sexes=%{marker.size}<extra></extra>",
           "hovertext": [
            "Colombia",
            "Paraguay",
            "Chile",
            "Brazil",
            "Ecuador",
            "Argentina",
            "Uruguay",
            "Guyana"
           ],
           "ids": [
            "Colombia",
            "Paraguay",
            "Chile",
            "Brazil",
            "Ecuador",
            "Argentina",
            "Uruguay",
            "Guyana"
           ],
           "legendgroup": "South America",
           "marker": {
            "color": "#FF7F0E",
            "size": [
             170,
             169,
             106,
             180,
             154,
             138,
             127,
             273
            ],
            "sizemode": "area",
            "sizeref": 0.53,
            "symbol": "circle"
           },
           "mode": "markers",
           "name": "South America",
           "orientation": "v",
           "showlegend": true,
           "type": "scatter",
           "x": [
            6.5,
            6.2,
            9,
            5.8,
            7,
            9.1,
            8,
            7.8
           ],
           "xaxis": "x",
           "y": [
            170,
            169,
            106,
            180,
            154,
            138,
            127,
            273
           ],
           "yaxis": "y"
          },
          {
           "hovertemplate": "<b>%{hovertext}</b><br><br>Continent=Europe<br>Year=2001<br>avg_years_of_schooling=%{x}<br>Both sexes=%{marker.size}<extra></extra>",
           "hovertext": [
            "Ireland",
            "Belarus",
            "Ukraine",
            "Italy",
            "Lithuania",
            "Norway",
            "Malta",
            "Switzerland",
            "Luxembourg",
            "Bulgaria",
            "Latvia",
            "Netherlands",
            "Belgium",
            "Sweden",
            "Iceland",
            "Poland",
            "Greece",
            "Albania",
            "Slovakia",
            "Portugal",
            "Serbia",
            "France",
            "Germany",
            "Finland",
            "Denmark",
            "Estonia",
            "Austria",
            "Hungary",
            "Slovenia",
            "Romania",
            "Croatia",
            "Spain"
           ],
           "ids": [
            "Ireland",
            "Belarus",
            "Ukraine",
            "Italy",
            "Lithuania",
            "Norway",
            "Malta",
            "Switzerland",
            "Luxembourg",
            "Bulgaria",
            "Latvia",
            "Netherlands",
            "Belgium",
            "Sweden",
            "Iceland",
            "Poland",
            "Greece",
            "Albania",
            "Slovakia",
            "Portugal",
            "Serbia",
            "France",
            "Germany",
            "Finland",
            "Denmark",
            "Estonia",
            "Austria",
            "Hungary",
            "Slovenia",
            "Romania",
            "Croatia",
            "Spain"
           ],
           "legendgroup": "Europe",
           "marker": {
            "color": "#2CA02C",
            "size": [
             88,
             255,
             254,
             73,
             214,
             81,
             69,
             75,
             90,
             159,
             229,
             82,
             98,
             72,
             73,
             147,
             81,
             100,
             145,
             109,
             134,
             99,
             92,
             99,
             100,
             224,
             90,
             185,
             123,
             179,
             129,
             83
            ],
            "sizemode": "area",
            "sizeref": 0.53,
            "symbol": "circle"
           },
           "mode": "markers",
           "name": "Europe",
           "orientation": "v",
           "showlegend": true,
           "type": "scatter",
           "x": [
            11,
            9,
            10.4,
            8.7,
            10.9,
            12.1,
            8.2,
            11.6,
            10.5,
            9.9,
            10,
            11,
            10.2,
            11.5,
            9.6,
            11.1,
            8.8,
            8.7,
            10.1,
            6.9,
            9.6,
            10,
            11.7,
            9.4,
            11.4,
            11.8,
            9.2,
            10.3,
            11.5,
            9.7,
            9.8,
            8.5
           ],
           "xaxis": "x",
           "y": [
            88,
            255,
            254,
            73,
            214,
            81,
            69,
            75,
            90,
            159,
            229,
            82,
            98,
            72,
            73,
            147,
            81,
            100,
            145,
            109,
            134,
            99,
            92,
            99,
            100,
            224,
            90,
            185,
            123,
            179,
            129,
            83
           ],
           "yaxis": "y"
          },
          {
           "hovertemplate": "<b>%{hovertext}</b><br><br>Continent=Africa<br>Year=2001<br>avg_years_of_schooling=%{x}<br>Both sexes=%{marker.size}<extra></extra>",
           "hovertext": [
            "Mauritius",
            "South Africa",
            "Seychelles"
           ],
           "ids": [
            "Mauritius",
            "South Africa",
            "Seychelles"
           ],
           "legendgroup": "Africa",
           "marker": {
            "color": "#D62728",
            "size": [
             172,
             387,
             187
            ],
            "sizemode": "area",
            "sizeref": 0.53,
            "symbol": "circle"
           },
           "mode": "markers",
           "name": "Africa",
           "orientation": "v",
           "showlegend": true,
           "type": "scatter",
           "x": [
            6.4,
            7.5,
            7.5
           ],
           "xaxis": "x",
           "y": [
            172,
            387,
            187
           ],
           "yaxis": "y"
          },
          {
           "hovertemplate": "<b>%{hovertext}</b><br><br>Continent=North America<br>Year=2001<br>avg_years_of_schooling=%{x}<br>Both sexes=%{marker.size}<extra></extra>",
           "hovertext": [
            "Panama",
            "Costa Rica",
            "Jamaica",
            "Trinidad and Tobago",
            "Barbados",
            "Belize",
            "Mexico",
            "Canada",
            "Antigua and Barbuda",
            "Cuba",
            "Saint Lucia",
            "Guatemala",
            "Bahamas",
            "El Salvador"
           ],
           "ids": [
            "Panama",
            "Costa Rica",
            "Jamaica",
            "Trinidad and Tobago",
            "Barbados",
            "Belize",
            "Mexico",
            "Canada",
            "Antigua and Barbuda",
            "Cuba",
            "Saint Lucia",
            "Guatemala",
            "Bahamas",
            "El Salvador"
           ],
           "legendgroup": "North America",
           "marker": {
            "color": "#9467BD",
            "size": [
             120,
             101,
             175,
             204,
             127,
             203,
             135,
             79,
             154,
             119,
             181,
             214,
             204,
             222
            ],
            "sizemode": "area",
            "sizeref": 0.53,
            "symbol": "circle"
           },
           "mode": "markers",
           "name": "North America",
           "orientation": "v",
           "showlegend": true,
           "type": "scatter",
           "x": [
            8.6,
            8,
            7.5,
            9.3,
            9,
            10.1,
            6.8,
            11.2,
            8.9,
            9.7,
            7.1,
            3.8,
            10.9,
            5.3
           ],
           "xaxis": "x",
           "y": [
            120,
            101,
            175,
            204,
            127,
            203,
            135,
            79,
            154,
            119,
            181,
            214,
            204,
            222
           ],
           "yaxis": "y"
          },
          {
           "hovertemplate": "<b>%{hovertext}</b><br><br>Continent=Oceania<br>Year=2001<br>avg_years_of_schooling=%{x}<br>Both sexes=%{marker.size}<extra></extra>",
           "hovertext": [
            "Kiribati",
            "New Zealand",
            "Fiji",
            "Australia"
           ],
           "ids": [
            "Kiribati",
            "New Zealand",
            "Fiji",
            "Australia"
           ],
           "legendgroup": "Oceania",
           "marker": {
            "color": "#8C564B",
            "size": [
             219,
             83,
             221,
             74
            ],
            "sizemode": "area",
            "sizeref": 0.53,
            "symbol": "circle"
           },
           "mode": "markers",
           "name": "Oceania",
           "orientation": "v",
           "showlegend": true,
           "type": "scatter",
           "x": [
            6.9,
            11.6,
            9.5,
            11.9
           ],
           "xaxis": "x",
           "y": [
            219,
            83,
            221,
            74
           ],
           "yaxis": "y"
          }
         ],
         "name": "2001"
        },
        {
         "data": [
          {
           "hovertemplate": "<b>%{hovertext}</b><br><br>Continent=Asia<br>Year=2002<br>avg_years_of_schooling=%{x}<br>Both sexes=%{marker.size}<extra></extra>",
           "hovertext": [
            "Kyrgyzstan",
            "Thailand",
            "Uzbekistan",
            "Kuwait",
            "Maldives",
            "Israel",
            "Japan",
            "Kazakhstan",
            "Azerbaijan",
            "Armenia",
            "Philippines",
            "Singapore",
            "Sri Lanka",
            "Bahrain"
           ],
           "ids": [
            "Kyrgyzstan",
            "Thailand",
            "Uzbekistan",
            "Kuwait",
            "Maldives",
            "Israel",
            "Japan",
            "Kazakhstan",
            "Azerbaijan",
            "Armenia",
            "Philippines",
            "Singapore",
            "Sri Lanka",
            "Bahrain"
           ],
           "legendgroup": "Asia",
           "marker": {
            "color": "#1F77B4",
            "size": [
             217,
             197,
             176,
             91,
             128,
             81,
             68,
             276,
             144,
             137,
             216,
             76,
             150,
             99
            ],
            "sizemode": "area",
            "sizeref": 0.53,
            "symbol": "circle"
           },
           "mode": "markers",
           "name": "Asia",
           "orientation": "v",
           "showlegend": true,
           "type": "scatter",
           "x": [
            10,
            6.5,
            9.4,
            6.1,
            3.2,
            12.1,
            10.9,
            11,
            10.6,
            10.8,
            7.9,
            9.5,
            10.2,
            8.4
           ],
           "xaxis": "x",
           "y": [
            217,
            197,
            176,
            91,
            128,
            81,
            68,
            276,
            144,
            137,
            216,
            76,
            150,
            99
           ],
           "yaxis": "y"
          },
          {
           "hovertemplate": "<b>%{hovertext}</b><br><br>Continent=South America<br>Year=2002<br>avg_years_of_schooling=%{x}<br>Both sexes=%{marker.size}<extra></extra>",
           "hovertext": [
            "Ecuador",
            "Brazil",
            "Guyana",
            "Colombia",
            "Chile",
            "Uruguay",
            "Argentina",
            "Paraguay"
           ],
           "ids": [
            "Ecuador",
            "Brazil",
            "Guyana",
            "Colombia",
            "Chile",
            "Uruguay",
            "Argentina",
            "Paraguay"
           ],
           "legendgroup": "South America",
           "marker": {
            "color": "#FF7F0E",
            "size": [
             153,
             176,
             280,
             169,
             100,
             129,
             137,
             167
            ],
            "sizemode": "area",
            "sizeref": 0.53,
            "symbol": "circle"
           },
           "mode": "markers",
           "name": "South America",
           "orientation": "v",
           "showlegend": true,
           "type": "scatter",
           "x": [
            7.1,
            6,
            7.8,
            6.5,
            9.2,
            8,
            9.2,
            6.5
           ],
           "xaxis": "x",
           "y": [
            153,
            176,
            280,
            169,
            100,
            129,
            137,
            167
           ],
           "yaxis": "y"
          },
          {
           "hovertemplate": "<b>%{hovertext}</b><br><br>Continent=Europe<br>Year=2002<br>avg_years_of_schooling=%{x}<br>Both sexes=%{marker.size}<extra></extra>",
           "hovertext": [
            "Finland",
            "Bulgaria",
            "Denmark",
            "Lithuania",
            "Luxembourg",
            "Estonia",
            "Latvia",
            "Iceland",
            "Ireland",
            "Ukraine",
            "Hungary",
            "Croatia",
            "Italy",
            "France",
            "Greece",
            "Germany",
            "Albania",
            "Serbia",
            "Austria",
            "Netherlands",
            "Belarus",
            "Sweden",
            "Romania",
            "Belgium",
            "Spain",
            "Malta",
            "Slovenia",
            "Poland",
            "Switzerland",
            "Portugal",
            "Norway",
            "Slovakia"
           ],
           "ids": [
            "Finland",
            "Bulgaria",
            "Denmark",
            "Lithuania",
            "Luxembourg",
            "Estonia",
            "Latvia",
            "Iceland",
            "Ireland",
            "Ukraine",
            "Hungary",
            "Croatia",
            "Italy",
            "France",
            "Greece",
            "Germany",
            "Albania",
            "Serbia",
            "Austria",
            "Netherlands",
            "Belarus",
            "Sweden",
            "Romania",
            "Belgium",
            "Spain",
            "Malta",
            "Slovenia",
            "Poland",
            "Switzerland",
            "Portugal",
            "Norway",
            "Slovakia"
           ],
           "legendgroup": "Europe",
           "marker": {
            "color": "#2CA02C",
            "size": [
             97,
             156,
             101,
             207,
             87,
             210,
             221,
             66,
             86,
             257,
             184,
             124,
             71,
             98,
             79,
             91,
             102,
             131,
             87,
             81,
             264,
             70,
             178,
             97,
             82,
             68,
             117,
             143,
             73,
             107,
             80,
             144
            ],
            "sizemode": "area",
            "sizeref": 0.53,
            "symbol": "circle"
           },
           "mode": "markers",
           "name": "Europe",
           "orientation": "v",
           "showlegend": true,
           "type": "scatter",
           "x": [
            9.5,
            10,
            12.1,
            11.1,
            10.7,
            11.9,
            10.6,
            9.7,
            11.2,
            10.5,
            10.3,
            9.8,
            8.8,
            10.1,
            9.1,
            12.1,
            9,
            9.7,
            9.4,
            11.1,
            9.1,
            11.6,
            9.6,
            10.3,
            8.5,
            8.3,
            11.5,
            11.4,
            11.7,
            7,
            12.1,
            10.3
           ],
           "xaxis": "x",
           "y": [
            97,
            156,
            101,
            207,
            87,
            210,
            221,
            66,
            86,
            257,
            184,
            124,
            71,
            98,
            79,
            91,
            102,
            131,
            87,
            81,
            264,
            70,
            178,
            97,
            82,
            68,
            117,
            143,
            73,
            107,
            80,
            144
           ],
           "yaxis": "y"
          },
          {
           "hovertemplate": "<b>%{hovertext}</b><br><br>Continent=Africa<br>Year=2002<br>avg_years_of_schooling=%{x}<br>Both sexes=%{marker.size}<extra></extra>",
           "hovertext": [
            "South Africa",
            "Seychelles",
            "Mauritius"
           ],
           "ids": [
            "South Africa",
            "Seychelles",
            "Mauritius"
           ],
           "legendgroup": "Africa",
           "marker": {
            "color": "#D62728",
            "size": [
             412,
             185,
             173
            ],
            "sizemode": "area",
            "sizeref": 0.53,
            "symbol": "circle"
           },
           "mode": "markers",
           "name": "Africa",
           "orientation": "v",
           "showlegend": true,
           "type": "scatter",
           "x": [
            8.5,
            7.6,
            6.6
           ],
           "xaxis": "x",
           "y": [
            412,
            185,
            173
           ],
           "yaxis": "y"
          },
          {
           "hovertemplate": "<b>%{hovertext}</b><br><br>Continent=North America<br>Year=2002<br>avg_years_of_schooling=%{x}<br>Both sexes=%{marker.size}<extra></extra>",
           "hovertext": [
            "El Salvador",
            "Canada",
            "Costa Rica",
            "Guatemala",
            "Cuba",
            "Jamaica",
            "Trinidad and Tobago",
            "Antigua and Barbuda",
            "Grenada",
            "Saint Lucia",
            "Bahamas",
            "Panama",
            "Mexico",
            "Barbados",
            "Belize"
           ],
           "ids": [
            "El Salvador",
            "Canada",
            "Costa Rica",
            "Guatemala",
            "Cuba",
            "Jamaica",
            "Trinidad and Tobago",
            "Antigua and Barbuda",
            "Grenada",
            "Saint Lucia",
            "Bahamas",
            "Panama",
            "Mexico",
            "Barbados",
            "Belize"
           ],
           "legendgroup": "North America",
           "marker": {
            "color": "#9467BD",
            "size": [
             213,
             78,
             100,
             206,
             112,
             171,
             195,
             149,
             175,
             176,
             206,
             120,
             136,
             126,
             200
            ],
            "sizemode": "area",
            "sizeref": 0.53,
            "symbol": "circle"
           },
           "mode": "markers",
           "name": "North America",
           "orientation": "v",
           "showlegend": true,
           "type": "scatter",
           "x": [
            5.5,
            11.5,
            8,
            3.8,
            9.5,
            7.7,
            9.4,
            9,
            7.4,
            7.2,
            10.9,
            8.7,
            7,
            9.1,
            10.2
           ],
           "xaxis": "x",
           "y": [
            213,
            78,
            100,
            206,
            112,
            171,
            195,
            149,
            175,
            176,
            206,
            120,
            136,
            126,
            200
           ],
           "yaxis": "y"
          },
          {
           "hovertemplate": "<b>%{hovertext}</b><br><br>Continent=Oceania<br>Year=2002<br>avg_years_of_schooling=%{x}<br>Both sexes=%{marker.size}<extra></extra>",
           "hovertext": [
            "Fiji",
            "New Zealand",
            "Australia"
           ],
           "ids": [
            "Fiji",
            "New Zealand",
            "Australia"
           ],
           "legendgroup": "Oceania",
           "marker": {
            "color": "#8C564B",
            "size": [
             220,
             82,
             72
            ],
            "sizemode": "area",
            "sizeref": 0.53,
            "symbol": "circle"
           },
           "mode": "markers",
           "name": "Oceania",
           "orientation": "v",
           "showlegend": true,
           "type": "scatter",
           "x": [
            9.4,
            11.6,
            11.8
           ],
           "xaxis": "x",
           "y": [
            220,
            82,
            72
           ],
           "yaxis": "y"
          }
         ],
         "name": "2002"
        },
        {
         "data": [
          {
           "hovertemplate": "<b>%{hovertext}</b><br><br>Continent=Asia<br>Year=2003<br>avg_years_of_schooling=%{x}<br>Both sexes=%{marker.size}<extra></extra>",
           "hovertext": [
            "Sri Lanka",
            "Bahrain",
            "Uzbekistan",
            "Singapore",
            "Azerbaijan",
            "Armenia",
            "Israel",
            "Japan",
            "Thailand",
            "Kyrgyzstan",
            "Kazakhstan",
            "Kuwait",
            "Philippines",
            "Maldives"
           ],
           "ids": [
            "Sri Lanka",
            "Bahrain",
            "Uzbekistan",
            "Singapore",
            "Azerbaijan",
            "Armenia",
            "Israel",
            "Japan",
            "Thailand",
            "Kyrgyzstan",
            "Kazakhstan",
            "Kuwait",
            "Philippines",
            "Maldives"
           ],
           "legendgroup": "Asia",
           "marker": {
            "color": "#1F77B4",
            "size": [
             147,
             92,
             173,
             73,
             151,
             137,
             76,
             68,
             194,
             217,
             283,
             90,
             212,
             114
            ],
            "sizemode": "area",
            "sizeref": 0.53,
            "symbol": "circle"
           },
           "mode": "markers",
           "name": "Asia",
           "orientation": "v",
           "showlegend": true,
           "type": "scatter",
           "x": [
            10.2,
            8.4,
            9.5,
            9.8,
            10.6,
            10.8,
            12.2,
            11,
            6.7,
            10,
            11.2,
            6.1,
            8,
            3.3
           ],
           "xaxis": "x",
           "y": [
            147,
            92,
            173,
            73,
            151,
            137,
            76,
            68,
            194,
            217,
            283,
            90,
            212,
            114
           ],
           "yaxis": "y"
          },
          {
           "hovertemplate": "<b>%{hovertext}</b><br><br>Continent=South America<br>Year=2003<br>avg_years_of_schooling=%{x}<br>Both sexes=%{marker.size}<extra></extra>",
           "hovertext": [
            "Guyana",
            "Uruguay",
            "Ecuador",
            "Chile",
            "Brazil",
            "Colombia",
            "Paraguay",
            "Argentina"
           ],
           "ids": [
            "Guyana",
            "Uruguay",
            "Ecuador",
            "Chile",
            "Brazil",
            "Colombia",
            "Paraguay",
            "Argentina"
           ],
           "legendgroup": "South America",
           "marker": {
            "color": "#FF7F0E",
            "size": [
             277,
             125,
             146,
             100,
             172,
             155,
             166,
             134
            ],
            "sizemode": "area",
            "sizeref": 0.53,
            "symbol": "circle"
           },
           "mode": "markers",
           "name": "South America",
           "orientation": "v",
           "showlegend": true,
           "type": "scatter",
           "x": [
            7.8,
            8,
            7.1,
            9.4,
            6.2,
            6.5,
            7,
            9.3
           ],
           "xaxis": "x",
           "y": [
            277,
            125,
            146,
            100,
            172,
            155,
            166,
            134
           ],
           "yaxis": "y"
          },
          {
           "hovertemplate": "<b>%{hovertext}</b><br><br>Continent=Europe<br>Year=2003<br>avg_years_of_schooling=%{x}<br>Both sexes=%{marker.size}<extra></extra>",
           "hovertext": [
            "Croatia",
            "Hungary",
            "Romania",
            "Iceland",
            "Poland",
            "Ukraine",
            "Ireland",
            "Portugal",
            "Estonia",
            "Slovenia",
            "Denmark",
            "Spain",
            "Finland",
            "Slovakia",
            "Austria",
            "Albania",
            "Germany",
            "Greece",
            "Serbia",
            "France",
            "Montenegro",
            "Luxembourg",
            "Norway",
            "Bulgaria",
            "Lithuania",
            "Netherlands",
            "Malta",
            "Italy",
            "Latvia",
            "Switzerland",
            "Belgium",
            "Sweden",
            "Belarus"
           ],
           "ids": [
            "Croatia",
            "Hungary",
            "Romania",
            "Iceland",
            "Poland",
            "Ukraine",
            "Ireland",
            "Portugal",
            "Estonia",
            "Slovenia",
            "Denmark",
            "Spain",
            "Finland",
            "Slovakia",
            "Austria",
            "Albania",
            "Germany",
            "Greece",
            "Serbia",
            "France",
            "Montenegro",
            "Luxembourg",
            "Norway",
            "Bulgaria",
            "Lithuania",
            "Netherlands",
            "Malta",
            "Italy",
            "Latvia",
            "Switzerland",
            "Belgium",
            "Sweden",
            "Belarus"
           ],
           "legendgroup": "Europe",
           "marker": {
            "color": "#2CA02C",
            "size": [
             121,
             184,
             174,
             63,
             140,
             258,
             80,
             104,
             197,
             119,
             98,
             82,
             97,
             143,
             86,
             107,
             89,
             80,
             131,
             97,
             132,
             85,
             77,
             154,
             207,
             80,
             66,
             70,
             212,
             71,
             94,
             68,
             254
            ],
            "sizemode": "area",
            "sizeref": 0.53,
            "symbol": "circle"
           },
           "mode": "markers",
           "name": "Europe",
           "orientation": "v",
           "showlegend": true,
           "type": "scatter",
           "x": [
            9.8,
            10.5,
            9.7,
            9.8,
            11.5,
            10.6,
            11.4,
            7.2,
            11.9,
            11.5,
            12.8,
            8.6,
            9.6,
            10.4,
            9.6,
            9,
            12.5,
            9.3,
            9.9,
            10.2,
            10.3,
            10.9,
            12.2,
            10.1,
            11.3,
            11.3,
            8.5,
            8.9,
            11.2,
            11.8,
            10.4,
            11.8,
            9.1
           ],
           "xaxis": "x",
           "y": [
            121,
            184,
            174,
            63,
            140,
            258,
            80,
            104,
            197,
            119,
            98,
            82,
            97,
            143,
            86,
            107,
            89,
            80,
            131,
            97,
            132,
            85,
            77,
            154,
            207,
            80,
            66,
            70,
            212,
            71,
            94,
            68,
            254
           ],
           "yaxis": "y"
          },
          {
           "hovertemplate": "<b>%{hovertext}</b><br><br>Continent=Africa<br>Year=2003<br>avg_years_of_schooling=%{x}<br>Both sexes=%{marker.size}<extra></extra>",
           "hovertext": [
            "South Africa",
            "Seychelles",
            "Mauritius"
           ],
           "ids": [
            "South Africa",
            "Seychelles",
            "Mauritius"
           ],
           "legendgroup": "Africa",
           "marker": {
            "color": "#D62728",
            "size": [
             437,
             185,
             168
            ],
            "sizemode": "area",
            "sizeref": 0.53,
            "symbol": "circle"
           },
           "mode": "markers",
           "name": "Africa",
           "orientation": "v",
           "showlegend": true,
           "type": "scatter",
           "x": [
            8.8,
            7.6,
            6.8
           ],
           "xaxis": "x",
           "y": [
            437,
            185,
            168
           ],
           "yaxis": "y"
          },
          {
           "hovertemplate": "<b>%{hovertext}</b><br><br>Continent=North America<br>Year=2003<br>avg_years_of_schooling=%{x}<br>Both sexes=%{marker.size}<extra></extra>",
           "hovertext": [
            "Costa Rica",
            "Bahamas",
            "Guatemala",
            "El Salvador",
            "Saint Lucia",
            "Cuba",
            "Grenada",
            "Belize",
            "Antigua and Barbuda",
            "Canada",
            "Panama",
            "Mexico",
            "Trinidad and Tobago",
            "Barbados",
            "Jamaica"
           ],
           "ids": [
            "Costa Rica",
            "Bahamas",
            "Guatemala",
            "El Salvador",
            "Saint Lucia",
            "Cuba",
            "Grenada",
            "Belize",
            "Antigua and Barbuda",
            "Canada",
            "Panama",
            "Mexico",
            "Trinidad and Tobago",
            "Barbados",
            "Jamaica"
           ],
           "legendgroup": "North America",
           "marker": {
            "color": "#9467BD",
            "size": [
             101,
             203,
             209,
             211,
             169,
             112,
             175,
             199,
             151,
             77,
             120,
             136,
             199,
             123,
             170
            ],
            "sizemode": "area",
            "sizeref": 0.53,
            "symbol": "circle"
           },
           "mode": "markers",
           "name": "North America",
           "orientation": "v",
           "showlegend": true,
           "type": "scatter",
           "x": [
            7.9,
            10.9,
            3.7,
            5.7,
            7.3,
            9.8,
            7.6,
            10.2,
            9,
            11.7,
            8.8,
            7.1,
            9.5,
            9.1,
            7.8
           ],
           "xaxis": "x",
           "y": [
            101,
            203,
            209,
            211,
            169,
            112,
            175,
            199,
            151,
            77,
            120,
            136,
            199,
            123,
            170
           ],
           "yaxis": "y"
          },
          {
           "hovertemplate": "<b>%{hovertext}</b><br><br>Continent=Oceania<br>Year=2003<br>avg_years_of_schooling=%{x}<br>Both sexes=%{marker.size}<extra></extra>",
           "hovertext": [
            "Australia",
            "Fiji",
            "New Zealand"
           ],
           "ids": [
            "Australia",
            "Fiji",
            "New Zealand"
           ],
           "legendgroup": "Oceania",
           "marker": {
            "color": "#8C564B",
            "size": [
             69,
             220,
             81
            ],
            "sizemode": "area",
            "sizeref": 0.53,
            "symbol": "circle"
           },
           "mode": "markers",
           "name": "Oceania",
           "orientation": "v",
           "showlegend": true,
           "type": "scatter",
           "x": [
            11.8,
            9.3,
            11.6
           ],
           "xaxis": "x",
           "y": [
            69,
            220,
            81
           ],
           "yaxis": "y"
          }
         ],
         "name": "2003"
        },
        {
         "data": [
          {
           "hovertemplate": "<b>%{hovertext}</b><br><br>Continent=Asia<br>Year=2004<br>avg_years_of_schooling=%{x}<br>Both sexes=%{marker.size}<extra></extra>",
           "hovertext": [
            "Israel",
            "Thailand",
            "Singapore",
            "Maldives",
            "Uzbekistan",
            "Qatar",
            "Japan",
            "Georgia",
            "Kazakhstan",
            "Kuwait",
            "Kyrgyzstan",
            "Azerbaijan",
            "Cyprus",
            "Bahrain"
           ],
           "ids": [
            "Israel",
            "Thailand",
            "Singapore",
            "Maldives",
            "Uzbekistan",
            "Qatar",
            "Japan",
            "Georgia",
            "Kazakhstan",
            "Kuwait",
            "Kyrgyzstan",
            "Azerbaijan",
            "Cyprus",
            "Bahrain"
           ],
           "legendgroup": "Asia",
           "marker": {
            "color": "#1F77B4",
            "size": [
             73,
             194,
             73,
             118,
             174,
             69,
             67,
             148,
             289,
             89,
             217,
             151,
             74,
             94
            ],
            "sizemode": "area",
            "sizeref": 0.53,
            "symbol": "circle"
           },
           "mode": "markers",
           "name": "Asia",
           "orientation": "v",
           "showlegend": true,
           "type": "scatter",
           "x": [
            12.2,
            6.8,
            10.2,
            3.4,
            9.7,
            8.4,
            11.1,
            12,
            11.5,
            6.1,
            10.1,
            10.6,
            10.5,
            8.4
           ],
           "xaxis": "x",
           "y": [
            73,
            194,
            73,
            118,
            174,
            69,
            67,
            148,
            289,
            89,
            217,
            151,
            74,
            94
           ],
           "yaxis": "y"
          },
          {
           "hovertemplate": "<b>%{hovertext}</b><br><br>Continent=South America<br>Year=2004<br>avg_years_of_schooling=%{x}<br>Both sexes=%{marker.size}<extra></extra>",
           "hovertext": [
            "Suriname",
            "Paraguay",
            "Uruguay",
            "Guyana",
            "Colombia",
            "Chile",
            "Brazil",
            "Ecuador",
            "Argentina"
           ],
           "ids": [
            "Suriname",
            "Paraguay",
            "Uruguay",
            "Guyana",
            "Colombia",
            "Chile",
            "Brazil",
            "Ecuador",
            "Argentina"
           ],
           "legendgroup": "South America",
           "marker": {
            "color": "#FF7F0E",
            "size": [
             216,
             165,
             125,
             270,
             152,
             98,
             169,
             145,
             128
            ],
            "sizemode": "area",
            "sizeref": 0.53,
            "symbol": "circle"
           },
           "mode": "markers",
           "name": "South America",
           "orientation": "v",
           "showlegend": true,
           "type": "scatter",
           "x": [
            7.7,
            7.1,
            8,
            7.9,
            6.6,
            9.6,
            6.2,
            7.2,
            9.2
           ],
           "xaxis": "x",
           "y": [
            216,
            165,
            125,
            270,
            152,
            98,
            169,
            145,
            128
           ],
           "yaxis": "y"
          },
          {
           "hovertemplate": "<b>%{hovertext}</b><br><br>Continent=Europe<br>Year=2004<br>avg_years_of_schooling=%{x}<br>Both sexes=%{marker.size}<extra></extra>",
           "hovertext": [
            "Montenegro",
            "France",
            "Lithuania",
            "Slovakia",
            "Slovenia",
            "Luxembourg",
            "Switzerland",
            "Spain",
            "Estonia",
            "Finland",
            "Latvia",
            "Ukraine",
            "Italy",
            "Sweden",
            "Ireland",
            "Iceland",
            "Romania",
            "Hungary",
            "Norway",
            "Serbia",
            "Poland",
            "Greece",
            "Netherlands",
            "Germany",
            "Malta",
            "Croatia",
            "Austria",
            "Denmark",
            "Bulgaria",
            "Albania",
            "Belgium"
           ],
           "ids": [
            "Montenegro",
            "France",
            "Lithuania",
            "Slovakia",
            "Slovenia",
            "Luxembourg",
            "Switzerland",
            "Spain",
            "Estonia",
            "Finland",
            "Latvia",
            "Ukraine",
            "Italy",
            "Sweden",
            "Ireland",
            "Iceland",
            "Romania",
            "Hungary",
            "Norway",
            "Serbia",
            "Poland",
            "Greece",
            "Netherlands",
            "Germany",
            "Malta",
            "Croatia",
            "Austria",
            "Denmark",
            "Bulgaria",
            "Albania",
            "Belgium"
           ],
           "legendgroup": "Europe",
           "marker": {
            "color": "#2CA02C",
            "size": [
             131,
             92,
             209,
             137,
             113,
             79,
             68,
             79,
             193,
             101,
             209,
             269,
             66,
             70,
             79,
             61,
             166,
             180,
             76,
             129,
             142,
             80,
             76,
             85,
             64,
             113,
             84,
             95,
             154,
             101,
             89
            ],
            "sizemode": "area",
            "sizeref": 0.53,
            "symbol": "circle"
           },
           "mode": "markers",
           "name": "Europe",
           "orientation": "v",
           "showlegend": true,
           "type": "scatter",
           "x": [
            10.4,
            10.3,
            11.5,
            10.6,
            12,
            11.1,
            11.9,
            8.6,
            12,
            11.9,
            11.7,
            10.7,
            9.1,
            12.3,
            11.6,
            9.9,
            9.9,
            10.6,
            12.7,
            10,
            11.6,
            9.6,
            11.5,
            12.9,
            8.6,
            9.7,
            9.8,
            12.8,
            10.1,
            9.1,
            10.5
           ],
           "xaxis": "x",
           "y": [
            131,
            92,
            209,
            137,
            113,
            79,
            68,
            79,
            193,
            101,
            209,
            269,
            66,
            70,
            79,
            61,
            166,
            180,
            76,
            129,
            142,
            80,
            76,
            85,
            64,
            113,
            84,
            95,
            154,
            101,
            89
           ],
           "yaxis": "y"
          },
          {
           "hovertemplate": "<b>%{hovertext}</b><br><br>Continent=Africa<br>Year=2004<br>avg_years_of_schooling=%{x}<br>Both sexes=%{marker.size}<extra></extra>",
           "hovertext": [
            "Mauritius",
            "South Africa",
            "Seychelles"
           ],
           "ids": [
            "Mauritius",
            "South Africa",
            "Seychelles"
           ],
           "legendgroup": "Africa",
           "marker": {
            "color": "#D62728",
            "size": [
             164,
             459,
             186
            ],
            "sizemode": "area",
            "sizeref": 0.53,
            "symbol": "circle"
           },
           "mode": "markers",
           "name": "Africa",
           "orientation": "v",
           "showlegend": true,
           "type": "scatter",
           "x": [
            7,
            8.8,
            7.7
           ],
           "xaxis": "x",
           "y": [
            164,
            459,
            186
           ],
           "yaxis": "y"
          },
          {
           "hovertemplate": "<b>%{hovertext}</b><br><br>Continent=North America<br>Year=2004<br>avg_years_of_schooling=%{x}<br>Both sexes=%{marker.size}<extra></extra>",
           "hovertext": [
            "Mexico",
            "El Salvador",
            "Trinidad and Tobago",
            "Saint Lucia",
            "Guatemala",
            "Grenada",
            "Panama",
            "Jamaica",
            "Bahamas",
            "Cuba",
            "Antigua and Barbuda",
            "Barbados",
            "Belize",
            "Costa Rica",
            "Canada"
           ],
           "ids": [
            "Mexico",
            "El Salvador",
            "Trinidad and Tobago",
            "Saint Lucia",
            "Guatemala",
            "Grenada",
            "Panama",
            "Jamaica",
            "Bahamas",
            "Cuba",
            "Antigua and Barbuda",
            "Barbados",
            "Belize",
            "Costa Rica",
            "Canada"
           ],
           "legendgroup": "North America",
           "marker": {
            "color": "#9467BD",
            "size": [
             132,
             209,
             196,
             162,
             206,
             186,
             117,
             168,
             187,
             109,
             153,
             116,
             195,
             102,
             76
            ],
            "sizemode": "area",
            "sizeref": 0.53,
            "symbol": "circle"
           },
           "mode": "markers",
           "name": "North America",
           "orientation": "v",
           "showlegend": true,
           "type": "scatter",
           "x": [
            7.4,
            5.8,
            9.8,
            7.4,
            3.6,
            7.7,
            8.9,
            8,
            10.9,
            9.8,
            9.1,
            9.2,
            10.3,
            7.9,
            12
           ],
           "xaxis": "x",
           "y": [
            132,
            209,
            196,
            162,
            206,
            186,
            117,
            168,
            187,
            109,
            153,
            116,
            195,
            102,
            76
           ],
           "yaxis": "y"
          },
          {
           "hovertemplate": "<b>%{hovertext}</b><br><br>Continent=Oceania<br>Year=2004<br>avg_years_of_schooling=%{x}<br>Both sexes=%{marker.size}<extra></extra>",
           "hovertext": [
            "Fiji",
            "New Zealand",
            "Australia"
           ],
           "ids": [
            "Fiji",
            "New Zealand",
            "Australia"
           ],
           "legendgroup": "Oceania",
           "marker": {
            "color": "#8C564B",
            "size": [
             218,
             79,
             67
            ],
            "sizemode": "area",
            "sizeref": 0.53,
            "symbol": "circle"
           },
           "mode": "markers",
           "name": "Oceania",
           "orientation": "v",
           "showlegend": true,
           "type": "scatter",
           "x": [
            9.3,
            11.6,
            11.8
           ],
           "xaxis": "x",
           "y": [
            218,
            79,
            67
           ],
           "yaxis": "y"
          }
         ],
         "name": "2004"
        },
        {
         "data": [
          {
           "hovertemplate": "<b>%{hovertext}</b><br><br>Continent=Asia<br>Year=2005<br>avg_years_of_schooling=%{x}<br>Both sexes=%{marker.size}<extra></extra>",
           "hovertext": [
            "Georgia",
            "Japan",
            "Kyrgyzstan",
            "Qatar",
            "Cyprus",
            "Bahrain",
            "Kuwait",
            "Kazakhstan",
            "Maldives",
            "Thailand",
            "Singapore",
            "Uzbekistan",
            "Israel",
            "United Arab Emirates"
           ],
           "ids": [
            "Georgia",
            "Japan",
            "Kyrgyzstan",
            "Qatar",
            "Cyprus",
            "Bahrain",
            "Kuwait",
            "Kazakhstan",
            "Maldives",
            "Thailand",
            "Singapore",
            "Uzbekistan",
            "Israel",
            "United Arab Emirates"
           ],
           "legendgroup": "Asia",
           "marker": {
            "color": "#1F77B4",
            "size": [
             144,
             68,
             223,
             67,
             75,
             83,
             88,
             297,
             93,
             183,
             74,
             183,
             72,
             91
            ],
            "sizemode": "area",
            "sizeref": 0.53,
            "symbol": "circle"
           },
           "mode": "markers",
           "name": "Asia",
           "orientation": "v",
           "showlegend": true,
           "type": "scatter",
           "x": [
            12.1,
            11.2,
            10.2,
            8.8,
            10.7,
            8.4,
            5.8,
            11.7,
            3.5,
            7,
            10.5,
            9.8,
            12.3,
            9.1
           ],
           "xaxis": "x",
           "y": [
            144,
            68,
            223,
            67,
            75,
            83,
            88,
            297,
            93,
            183,
            74,
            183,
            72,
            91
           ],
           "yaxis": "y"
          },
          {
           "hovertemplate": "<b>%{hovertext}</b><br><br>Continent=South America<br>Year=2005<br>avg_years_of_schooling=%{x}<br>Both sexes=%{marker.size}<extra></extra>",
           "hovertext": [
            "Suriname",
            "Argentina",
            "Colombia",
            "Guyana",
            "Chile",
            "Brazil",
            "Paraguay",
            "Uruguay",
            "Ecuador"
           ],
           "ids": [
            "Suriname",
            "Argentina",
            "Colombia",
            "Guyana",
            "Chile",
            "Brazil",
            "Paraguay",
            "Uruguay",
            "Ecuador"
           ],
           "legendgroup": "South America",
           "marker": {
            "color": "#FF7F0E",
            "size": [
             207,
             125,
             144,
             267,
             95,
             162,
             164,
             125,
             149
            ],
            "sizemode": "area",
            "sizeref": 0.53,
            "symbol": "circle"
           },
           "mode": "markers",
           "name": "South America",
           "orientation": "v",
           "showlegend": true,
           "type": "scatter",
           "x": [
            7.7,
            9.1,
            6.8,
            7.9,
            9.5,
            6.3,
            7.3,
            8,
            7.3
           ],
           "xaxis": "x",
           "y": [
            207,
            125,
            144,
            267,
            95,
            162,
            164,
            125,
            149
           ],
           "yaxis": "y"
          },
          {
           "hovertemplate": "<b>%{hovertext}</b><br><br>Continent=Europe<br>Year=2005<br>avg_years_of_schooling=%{x}<br>Both sexes=%{marker.size}<extra></extra>",
           "hovertext": [
            "Romania",
            "Spain",
            "Sweden",
            "Serbia",
            "Luxembourg",
            "France",
            "Greece",
            "Switzerland",
            "Latvia",
            "Poland",
            "Germany",
            "Lithuania",
            "Bulgaria",
            "Netherlands",
            "Norway",
            "Iceland",
            "Slovenia",
            "Estonia",
            "Austria",
            "Slovakia",
            "Belgium",
            "Ireland",
            "Montenegro",
            "Albania",
            "Finland",
            "Denmark",
            "Italy",
            "Croatia",
            "Malta",
            "Hungary",
            "Ukraine"
           ],
           "ids": [
            "Romania",
            "Spain",
            "Sweden",
            "Serbia",
            "Luxembourg",
            "France",
            "Greece",
            "Switzerland",
            "Latvia",
            "Poland",
            "Germany",
            "Lithuania",
            "Bulgaria",
            "Netherlands",
            "Norway",
            "Iceland",
            "Slovenia",
            "Estonia",
            "Austria",
            "Slovakia",
            "Belgium",
            "Ireland",
            "Montenegro",
            "Albania",
            "Finland",
            "Denmark",
            "Italy",
            "Croatia",
            "Malta",
            "Hungary",
            "Ukraine"
           ],
           "legendgroup": "Europe",
           "marker": {
            "color": "#2CA02C",
            "size": [
             162,
             76,
             66,
             128,
             81,
             92,
             79,
             66,
             220,
             144,
             84,
             228,
             156,
             72,
             72,
             61,
             104,
             187,
             84,
             140,
             88,
             75,
             130,
             106,
             100,
             89,
             65,
             116,
             63,
             182,
             280
            ],
            "sizemode": "area",
            "sizeref": 0.53,
            "symbol": "circle"
           },
           "mode": "markers",
           "name": "Europe",
           "orientation": "v",
           "showlegend": true,
           "type": "scatter",
           "x": [
            10.1,
            8.9,
            12.4,
            10.2,
            11.3,
            10.4,
            9.8,
            12,
            12.1,
            11.6,
            13.3,
            11.8,
            10.2,
            11.6,
            12.4,
            10,
            11.7,
            12.1,
            9.9,
            10.8,
            10.7,
            11.7,
            10.5,
            9.1,
            12,
            12.8,
            9.2,
            9.7,
            9.8,
            10.9,
            11.2
           ],
           "xaxis": "x",
           "y": [
            162,
            76,
            66,
            128,
            81,
            92,
            79,
            66,
            220,
            144,
            84,
            228,
            156,
            72,
            72,
            61,
            104,
            187,
            84,
            140,
            88,
            75,
            130,
            106,
            100,
            89,
            65,
            116,
            63,
            182,
            280
           ],
           "yaxis": "y"
          },
          {
           "hovertemplate": "<b>%{hovertext}</b><br><br>Continent=Africa<br>Year=2005<br>avg_years_of_schooling=%{x}<br>Both sexes=%{marker.size}<extra></extra>",
           "hovertext": [
            "South Africa",
            "Mauritius",
            "Seychelles"
           ],
           "ids": [
            "South Africa",
            "Mauritius",
            "Seychelles"
           ],
           "legendgroup": "Africa",
           "marker": {
            "color": "#D62728",
            "size": [
             474,
             164,
             185
            ],
            "sizemode": "area",
            "sizeref": 0.53,
            "symbol": "circle"
           },
           "mode": "markers",
           "name": "Africa",
           "orientation": "v",
           "showlegend": true,
           "type": "scatter",
           "x": [
            8.9,
            7.2,
            7.7
           ],
           "xaxis": "x",
           "y": [
            474,
            164,
            185
           ],
           "yaxis": "y"
          },
          {
           "hovertemplate": "<b>%{hovertext}</b><br><br>Continent=North America<br>Year=2005<br>avg_years_of_schooling=%{x}<br>Both sexes=%{marker.size}<extra></extra>",
           "hovertext": [
            "Barbados",
            "Trinidad and Tobago",
            "Antigua and Barbuda",
            "Cuba",
            "Costa Rica",
            "Saint Lucia",
            "Canada",
            "Bahamas",
            "Guatemala",
            "Jamaica",
            "Mexico",
            "Belize",
            "El Salvador",
            "Grenada",
            "Panama"
           ],
           "ids": [
            "Barbados",
            "Trinidad and Tobago",
            "Antigua and Barbuda",
            "Cuba",
            "Costa Rica",
            "Saint Lucia",
            "Canada",
            "Bahamas",
            "Guatemala",
            "Jamaica",
            "Mexico",
            "Belize",
            "El Salvador",
            "Grenada",
            "Panama"
           ],
           "legendgroup": "North America",
           "marker": {
            "color": "#9467BD",
            "size": [
             114,
             195,
             156,
             110,
             96,
             158,
             76,
             180,
             211,
             164,
             134,
             190,
             206,
             171,
             116
            ],
            "sizemode": "area",
            "sizeref": 0.53,
            "symbol": "circle"
           },
           "mode": "markers",
           "name": "North America",
           "orientation": "v",
           "showlegend": true,
           "type": "scatter",
           "x": [
            9.2,
            10,
            9.1,
            9.9,
            7.9,
            7.5,
            12.2,
            10.9,
            3.5,
            8.1,
            7.6,
            10.3,
            6,
            7.8,
            9
           ],
           "xaxis": "x",
           "y": [
            114,
            195,
            156,
            110,
            96,
            158,
            76,
            180,
            211,
            164,
            134,
            190,
            206,
            171,
            116
           ],
           "yaxis": "y"
          },
          {
           "hovertemplate": "<b>%{hovertext}</b><br><br>Continent=Oceania<br>Year=2005<br>avg_years_of_schooling=%{x}<br>Both sexes=%{marker.size}<extra></extra>",
           "hovertext": [
            "New Zealand",
            "Fiji"
           ],
           "ids": [
            "New Zealand",
            "Fiji"
           ],
           "legendgroup": "Oceania",
           "marker": {
            "color": "#8C564B",
            "size": [
             77,
             214
            ],
            "sizemode": "area",
            "sizeref": 0.53,
            "symbol": "circle"
           },
           "mode": "markers",
           "name": "Oceania",
           "orientation": "v",
           "showlegend": true,
           "type": "scatter",
           "x": [
            11.7,
            9.2
           ],
           "xaxis": "x",
           "y": [
            77,
            214
           ],
           "yaxis": "y"
          }
         ],
         "name": "2005"
        },
        {
         "data": [
          {
           "hovertemplate": "<b>%{hovertext}</b><br><br>Continent=Asia<br>Year=2006<br>avg_years_of_schooling=%{x}<br>Both sexes=%{marker.size}<extra></extra>",
           "hovertext": [
            "Japan",
            "Israel",
            "Kuwait",
            "Armenia",
            "Sri Lanka",
            "Singapore",
            "Kazakhstan",
            "Cyprus",
            "Georgia",
            "United Arab Emirates",
            "Thailand",
            "Philippines",
            "Qatar",
            "Kyrgyzstan",
            "Bahrain"
           ],
           "ids": [
            "Japan",
            "Israel",
            "Kuwait",
            "Armenia",
            "Sri Lanka",
            "Singapore",
            "Kazakhstan",
            "Cyprus",
            "Georgia",
            "United Arab Emirates",
            "Thailand",
            "Philippines",
            "Qatar",
            "Kyrgyzstan",
            "Bahrain"
           ],
           "legendgroup": "Asia",
           "marker": {
            "color": "#1F77B4",
            "size": [
             67,
             69,
             87,
             145,
             145,
             71,
             299,
             64,
             145,
             88,
             174,
             215,
             66,
             233,
             89
            ],
            "sizemode": "area",
            "sizeref": 0.53,
            "symbol": "circle"
           },
           "mode": "markers",
           "name": "Asia",
           "orientation": "v",
           "showlegend": true,
           "type": "scatter",
           "x": [
            11.2,
            12.1,
            6.2,
            10.9,
            10.5,
            10.1,
            11.7,
            10.9,
            12.1,
            9.3,
            7,
            8.8,
            9.2,
            10.2,
            8.4
           ],
           "xaxis": "x",
           "y": [
            67,
            69,
            87,
            145,
            145,
            71,
            299,
            64,
            145,
            88,
            174,
            215,
            66,
            233,
            89
           ],
           "yaxis": "y"
          },
          {
           "hovertemplate": "<b>%{hovertext}</b><br><br>Continent=South America<br>Year=2006<br>avg_years_of_schooling=%{x}<br>Both sexes=%{marker.size}<extra></extra>",
           "hovertext": [
            "Colombia",
            "Suriname",
            "Guyana",
            "Chile",
            "Argentina",
            "Uruguay",
            "Paraguay",
            "Ecuador",
            "Brazil"
           ],
           "ids": [
            "Colombia",
            "Suriname",
            "Guyana",
            "Chile",
            "Argentina",
            "Uruguay",
            "Paraguay",
            "Ecuador",
            "Brazil"
           ],
           "legendgroup": "South America",
           "marker": {
            "color": "#FF7F0E",
            "size": [
             146,
             203,
             267,
             93,
             124,
             118,
             161,
             144,
             160
            ],
            "sizemode": "area",
            "sizeref": 0.53,
            "symbol": "circle"
           },
           "mode": "markers",
           "name": "South America",
           "orientation": "v",
           "showlegend": true,
           "type": "scatter",
           "x": [
            6.7,
            7.7,
            7.9,
            9.5,
            9,
            8,
            7.1,
            7.3,
            6.4
           ],
           "xaxis": "x",
           "y": [
            146,
            203,
            267,
            93,
            124,
            118,
            161,
            144,
            160
           ],
           "yaxis": "y"
          },
          {
           "hovertemplate": "<b>%{hovertext}</b><br><br>Continent=Europe<br>Year=2006<br>avg_years_of_schooling=%{x}<br>Both sexes=%{marker.size}<extra></extra>",
           "hovertext": [
            "Croatia",
            "Ireland",
            "Hungary",
            "Romania",
            "Slovakia",
            "Austria",
            "Iceland",
            "Italy",
            "Spain",
            "Serbia",
            "Netherlands",
            "Slovenia",
            "Bulgaria",
            "Estonia",
            "Denmark",
            "Norway",
            "Luxembourg",
            "France",
            "Lithuania",
            "Belgium",
            "Germany",
            "Malta",
            "Sweden",
            "Switzerland",
            "Greece",
            "Ukraine",
            "Montenegro",
            "Finland",
            "Latvia",
            "Poland",
            "Albania"
           ],
           "ids": [
            "Croatia",
            "Ireland",
            "Hungary",
            "Romania",
            "Slovakia",
            "Austria",
            "Iceland",
            "Italy",
            "Spain",
            "Serbia",
            "Netherlands",
            "Slovenia",
            "Bulgaria",
            "Estonia",
            "Denmark",
            "Norway",
            "Luxembourg",
            "France",
            "Lithuania",
            "Belgium",
            "Germany",
            "Malta",
            "Sweden",
            "Switzerland",
            "Greece",
            "Ukraine",
            "Montenegro",
            "Finland",
            "Latvia",
            "Poland",
            "Albania"
           ],
           "legendgroup": "Europe",
           "marker": {
            "color": "#2CA02C",
            "size": [
             114,
             75,
             178,
             158,
             138,
             80,
             62,
             64,
             73,
             126,
             70,
             107,
             157,
             186,
             91,
             69,
             78,
             90,
             235,
             85,
             83,
             63,
             64,
             64,
             76,
             268,
             127,
             95,
             232,
             145,
             101
            ],
            "sizemode": "area",
            "sizeref": 0.53,
            "symbol": "circle"
           },
           "mode": "markers",
           "name": "Europe",
           "orientation": "v",
           "showlegend": true,
           "type": "scatter",
           "x": [
            9.9,
            11.8,
            11.1,
            10.3,
            10.9,
            10.1,
            10.2,
            9.3,
            9,
            10.2,
            11.8,
            11.8,
            10.4,
            12.2,
            12.8,
            12.5,
            11.5,
            10.6,
            12,
            11.1,
            13.6,
            9.8,
            12.4,
            12.3,
            9.9,
            11.2,
            10.7,
            12,
            12.2,
            11.7,
            9.2
           ],
           "xaxis": "x",
           "y": [
            114,
            75,
            178,
            158,
            138,
            80,
            62,
            64,
            73,
            126,
            70,
            107,
            157,
            186,
            91,
            69,
            78,
            90,
            235,
            85,
            83,
            63,
            64,
            64,
            76,
            268,
            127,
            95,
            232,
            145,
            101
           ],
           "yaxis": "y"
          },
          {
           "hovertemplate": "<b>%{hovertext}</b><br><br>Continent=Africa<br>Year=2006<br>avg_years_of_schooling=%{x}<br>Both sexes=%{marker.size}<extra></extra>",
           "hovertext": [
            "Seychelles",
            "South Africa",
            "Mauritius"
           ],
           "ids": [
            "Seychelles",
            "South Africa",
            "Mauritius"
           ],
           "legendgroup": "Africa",
           "marker": {
            "color": "#D62728",
            "size": [
             185,
             477,
             162
            ],
            "sizemode": "area",
            "sizeref": 0.53,
            "symbol": "circle"
           },
           "mode": "markers",
           "name": "Africa",
           "orientation": "v",
           "showlegend": true,
           "type": "scatter",
           "x": [
            7.8,
            9,
            7.4
           ],
           "xaxis": "x",
           "y": [
            185,
            477,
            162
           ],
           "yaxis": "y"
          },
          {
           "hovertemplate": "<b>%{hovertext}</b><br><br>Continent=North America<br>Year=2006<br>avg_years_of_schooling=%{x}<br>Both sexes=%{marker.size}<extra></extra>",
           "hovertext": [
            "Cuba",
            "Jamaica",
            "Bahamas",
            "Guatemala",
            "Saint Lucia",
            "Costa Rica",
            "Panama",
            "Mexico",
            "Barbados",
            "Trinidad and Tobago",
            "Grenada",
            "Antigua and Barbuda",
            "El Salvador",
            "Belize",
            "Canada"
           ],
           "ids": [
            "Cuba",
            "Jamaica",
            "Bahamas",
            "Guatemala",
            "Saint Lucia",
            "Costa Rica",
            "Panama",
            "Mexico",
            "Barbados",
            "Trinidad and Tobago",
            "Grenada",
            "Antigua and Barbuda",
            "El Salvador",
            "Belize",
            "Canada"
           ],
           "legendgroup": "North America",
           "marker": {
            "color": "#9467BD",
            "size": [
             103,
             154,
             177,
             205,
             155,
             104,
             119,
             131,
             113,
             189,
             167,
             155,
             203,
             185,
             74
            ],
            "sizemode": "area",
            "sizeref": 0.53,
            "symbol": "circle"
           },
           "mode": "markers",
           "name": "North America",
           "orientation": "v",
           "showlegend": true,
           "type": "scatter",
           "x": [
            10.1,
            8.3,
            10.9,
            3.7,
            7.6,
            7.9,
            9.1,
            8,
            9.2,
            9.9,
            7.9,
            9.2,
            6.4,
            10.3,
            12.3
           ],
           "xaxis": "x",
           "y": [
            103,
            154,
            177,
            205,
            155,
            104,
            119,
            131,
            113,
            189,
            167,
            155,
            203,
            185,
            74
           ],
           "yaxis": "y"
          },
          {
           "hovertemplate": "<b>%{hovertext}</b><br><br>Continent=Oceania<br>Year=2006<br>avg_years_of_schooling=%{x}<br>Both sexes=%{marker.size}<extra></extra>",
           "hovertext": [
            "Australia",
            "Fiji",
            "New Zealand"
           ],
           "ids": [
            "Australia",
            "Fiji",
            "New Zealand"
           ],
           "legendgroup": "Oceania",
           "marker": {
            "color": "#8C564B",
            "size": [
             65,
             212,
             75
            ],
            "sizemode": "area",
            "sizeref": 0.53,
            "symbol": "circle"
           },
           "mode": "markers",
           "name": "Oceania",
           "orientation": "v",
           "showlegend": true,
           "type": "scatter",
           "x": [
            11.9,
            9.3,
            11.7
           ],
           "xaxis": "x",
           "y": [
            65,
            212,
            75
           ],
           "yaxis": "y"
          }
         ],
         "name": "2006"
        },
        {
         "data": [
          {
           "hovertemplate": "<b>%{hovertext}</b><br><br>Continent=Asia<br>Year=2007<br>avg_years_of_schooling=%{x}<br>Both sexes=%{marker.size}<extra></extra>",
           "hovertext": [
            "Singapore",
            "Israel",
            "Philippines",
            "Bahrain",
            "Qatar",
            "Kyrgyzstan",
            "Kuwait",
            "Kazakhstan",
            "Japan",
            "Maldives",
            "Azerbaijan",
            "Georgia",
            "Thailand",
            "Armenia",
            "Cyprus",
            "United Arab Emirates"
           ],
           "ids": [
            "Singapore",
            "Israel",
            "Philippines",
            "Bahrain",
            "Qatar",
            "Kyrgyzstan",
            "Kuwait",
            "Kazakhstan",
            "Japan",
            "Maldives",
            "Azerbaijan",
            "Georgia",
            "Thailand",
            "Armenia",
            "Cyprus",
            "United Arab Emirates"
           ],
           "legendgroup": "Asia",
           "marker": {
            "color": "#1F77B4",
            "size": [
             68,
             67,
             208,
             80,
             66,
             230,
             86,
             293,
             66,
             83,
             141,
             140,
             170,
             137,
             70,
             86
            ],
            "sizemode": "area",
            "sizeref": 0.53,
            "symbol": "circle"
           },
           "mode": "markers",
           "name": "Asia",
           "orientation": "v",
           "showlegend": true,
           "type": "scatter",
           "x": [
            10.2,
            12.5,
            8.9,
            8.4,
            9.6,
            10.3,
            6.3,
            11.6,
            11.3,
            3.9,
            10.2,
            12.1,
            7.1,
            11,
            11.2,
            9.4
           ],
           "xaxis": "x",
           "y": [
            68,
            67,
            208,
            80,
            66,
            230,
            86,
            293,
            66,
            83,
            141,
            140,
            170,
            137,
            70,
            86
           ],
           "yaxis": "y"
          },
          {
           "hovertemplate": "<b>%{hovertext}</b><br><br>Continent=South America<br>Year=2007<br>avg_years_of_schooling=%{x}<br>Both sexes=%{marker.size}<extra></extra>",
           "hovertext": [
            "Chile",
            "Colombia",
            "Paraguay",
            "Brazil",
            "Guyana",
            "Argentina",
            "Suriname",
            "Uruguay",
            "Ecuador"
           ],
           "ids": [
            "Chile",
            "Colombia",
            "Paraguay",
            "Brazil",
            "Guyana",
            "Argentina",
            "Suriname",
            "Uruguay",
            "Ecuador"
           ],
           "legendgroup": "South America",
           "marker": {
            "color": "#FF7F0E",
            "size": [
             93,
             141,
             159,
             158,
             257,
             126,
             200,
             124,
             141
            ],
            "sizemode": "area",
            "sizeref": 0.53,
            "symbol": "circle"
           },
           "mode": "markers",
           "name": "South America",
           "orientation": "v",
           "showlegend": true,
           "type": "scatter",
           "x": [
            9.4,
            7.2,
            7.1,
            6.5,
            8,
            8.9,
            7.7,
            8.2,
            7.3
           ],
           "xaxis": "x",
           "y": [
            93,
            141,
            159,
            158,
            257,
            126,
            200,
            124,
            141
           ],
           "yaxis": "y"
          },
          {
           "hovertemplate": "<b>%{hovertext}</b><br><br>Continent=Europe<br>Year=2007<br>avg_years_of_schooling=%{x}<br>Both sexes=%{marker.size}<extra></extra>",
           "hovertext": [
            "Romania",
            "Norway",
            "Belgium",
            "Montenegro",
            "Netherlands",
            "Italy",
            "Belarus",
            "Portugal",
            "Latvia",
            "Poland",
            "Lithuania",
            "Bulgaria",
            "Serbia",
            "Luxembourg",
            "Malta",
            "Austria",
            "Croatia",
            "Hungary",
            "Finland",
            "Denmark",
            "Ukraine",
            "France",
            "Spain",
            "Germany",
            "Greece",
            "Switzerland",
            "Sweden",
            "Ireland",
            "Estonia",
            "Slovenia",
            "Albania",
            "Slovakia",
            "Iceland"
           ],
           "ids": [
            "Romania",
            "Norway",
            "Belgium",
            "Montenegro",
            "Netherlands",
            "Italy",
            "Belarus",
            "Portugal",
            "Latvia",
            "Poland",
            "Lithuania",
            "Bulgaria",
            "Serbia",
            "Luxembourg",
            "Malta",
            "Austria",
            "Croatia",
            "Hungary",
            "Finland",
            "Denmark",
            "Ukraine",
            "France",
            "Spain",
            "Germany",
            "Greece",
            "Switzerland",
            "Sweden",
            "Ireland",
            "Estonia",
            "Slovenia",
            "Albania",
            "Slovakia",
            "Iceland"
           ],
           "legendgroup": "Europe",
           "marker": {
            "color": "#2CA02C",
            "size": [
             155,
             67,
             86,
             123,
             67,
             62,
             230,
             92,
             224,
             145,
             246,
             153,
             123,
             75,
             65,
             80,
             115,
             176,
             96,
             91,
             278,
             88,
             72,
             82,
             78,
             62,
             63,
             72,
             187,
             102,
             101,
             139,
             60
            ],
            "sizemode": "area",
            "sizeref": 0.53,
            "symbol": "circle"
           },
           "mode": "markers",
           "name": "Europe",
           "orientation": "v",
           "showlegend": true,
           "type": "scatter",
           "x": [
            10.5,
            12.6,
            11.1,
            10.8,
            12,
            9.4,
            10.6,
            7.7,
            12.3,
            11.8,
            12.1,
            10.5,
            10.2,
            11.7,
            9.9,
            11.6,
            10.1,
            11.3,
            12,
            12.5,
            11.2,
            10.7,
            9.1,
            13.7,
            10,
            12.6,
            12.5,
            11.9,
            12.2,
            11.8,
            9.2,
            11.1,
            10.3
           ],
           "xaxis": "x",
           "y": [
            155,
            67,
            86,
            123,
            67,
            62,
            230,
            92,
            224,
            145,
            246,
            153,
            123,
            75,
            65,
            80,
            115,
            176,
            96,
            91,
            278,
            88,
            72,
            82,
            78,
            62,
            63,
            72,
            187,
            102,
            101,
            139,
            60
           ],
           "yaxis": "y"
          },
          {
           "hovertemplate": "<b>%{hovertext}</b><br><br>Continent=Africa<br>Year=2007<br>avg_years_of_schooling=%{x}<br>Both sexes=%{marker.size}<extra></extra>",
           "hovertext": [
            "Mauritius",
            "Seychelles",
            "South Africa"
           ],
           "ids": [
            "Mauritius",
            "Seychelles",
            "South Africa"
           ],
           "legendgroup": "Africa",
           "marker": {
            "color": "#D62728",
            "size": [
             160,
             185,
             475
            ],
            "sizemode": "area",
            "sizeref": 0.53,
            "symbol": "circle"
           },
           "mode": "markers",
           "name": "Africa",
           "orientation": "v",
           "showlegend": true,
           "type": "scatter",
           "x": [
            7.6,
            7.9,
            9.1
           ],
           "xaxis": "x",
           "y": [
            160,
            185,
            475
           ],
           "yaxis": "y"
          },
          {
           "hovertemplate": "<b>%{hovertext}</b><br><br>Continent=North America<br>Year=2007<br>avg_years_of_schooling=%{x}<br>Both sexes=%{marker.size}<extra></extra>",
           "hovertext": [
            "Mexico",
            "Panama",
            "Canada",
            "Bahamas",
            "Barbados",
            "Belize",
            "Costa Rica",
            "Grenada",
            "Trinidad and Tobago",
            "Cuba",
            "Guatemala",
            "Antigua and Barbuda",
            "El Salvador"
           ],
           "ids": [
            "Mexico",
            "Panama",
            "Canada",
            "Bahamas",
            "Barbados",
            "Belize",
            "Costa Rica",
            "Grenada",
            "Trinidad and Tobago",
            "Cuba",
            "Guatemala",
            "Antigua and Barbuda",
            "El Salvador"
           ],
           "legendgroup": "North America",
           "marker": {
            "color": "#9467BD",
            "size": [
             129,
             119,
             74,
             171,
             112,
             181,
             91,
             164,
             188,
             102,
             191,
             149,
             200
            ],
            "sizemode": "area",
            "sizeref": 0.53,
            "symbol": "circle"
           },
           "mode": "markers",
           "name": "North America",
           "orientation": "v",
           "showlegend": true,
           "type": "scatter",
           "x": [
            8,
            9.2,
            12.4,
            10.9,
            9.3,
            10.4,
            8.1,
            8,
            10.5,
            10.4,
            3.9,
            9.2,
            5.8
           ],
           "xaxis": "x",
           "y": [
            129,
            119,
            74,
            171,
            112,
            181,
            91,
            164,
            188,
            102,
            191,
            149,
            200
           ],
           "yaxis": "y"
          },
          {
           "hovertemplate": "<b>%{hovertext}</b><br><br>Continent=Oceania<br>Year=2007<br>avg_years_of_schooling=%{x}<br>Both sexes=%{marker.size}<extra></extra>",
           "hovertext": [
            "New Zealand",
            "Australia",
            "Fiji"
           ],
           "ids": [
            "New Zealand",
            "Australia",
            "Fiji"
           ],
           "legendgroup": "Oceania",
           "marker": {
            "color": "#8C564B",
            "size": [
             76,
             65,
             209
            ],
            "sizemode": "area",
            "sizeref": 0.53,
            "symbol": "circle"
           },
           "mode": "markers",
           "name": "Oceania",
           "orientation": "v",
           "showlegend": true,
           "type": "scatter",
           "x": [
            11.8,
            12,
            9.3
           ],
           "xaxis": "x",
           "y": [
            76,
            65,
            209
           ],
           "yaxis": "y"
          }
         ],
         "name": "2007"
        },
        {
         "data": [
          {
           "hovertemplate": "<b>%{hovertext}</b><br><br>Continent=Asia<br>Year=2008<br>avg_years_of_schooling=%{x}<br>Both sexes=%{marker.size}<extra></extra>",
           "hovertext": [
            "Bahrain",
            "Cyprus",
            "Qatar",
            "Kyrgyzstan",
            "Thailand",
            "United Arab Emirates",
            "Maldives",
            "Philippines",
            "Singapore",
            "Kazakhstan",
            "Armenia",
            "Israel",
            "Japan",
            "Kuwait"
           ],
           "ids": [
            "Bahrain",
            "Cyprus",
            "Qatar",
            "Kyrgyzstan",
            "Thailand",
            "United Arab Emirates",
            "Maldives",
            "Philippines",
            "Singapore",
            "Kazakhstan",
            "Armenia",
            "Israel",
            "Japan",
            "Kuwait"
           ],
           "legendgroup": "Asia",
           "marker": {
            "color": "#1F77B4",
            "size": [
             73,
             68,
             65,
             218,
             167,
             85,
             80,
             207,
             67,
             264,
             144,
             64,
             64,
             85
            ],
            "sizemode": "area",
            "sizeref": 0.53,
            "symbol": "circle"
           },
           "mode": "markers",
           "name": "Asia",
           "orientation": "v",
           "showlegend": true,
           "type": "scatter",
           "x": [
            8.4,
            11.3,
            9.7,
            10.3,
            7.3,
            9.6,
            4.3,
            9,
            10.5,
            11.5,
            11,
            12.6,
            11.4,
            6.5
           ],
           "xaxis": "x",
           "y": [
            73,
            68,
            65,
            218,
            167,
            85,
            80,
            207,
            67,
            264,
            144,
            64,
            64,
            85
           ],
           "yaxis": "y"
          },
          {
           "hovertemplate": "<b>%{hovertext}</b><br><br>Continent=South America<br>Year=2008<br>avg_years_of_schooling=%{x}<br>Both sexes=%{marker.size}<extra></extra>",
           "hovertext": [
            "Argentina",
            "Ecuador",
            "Brazil",
            "Uruguay",
            "Paraguay",
            "Chile",
            "Guyana",
            "Colombia",
            "Suriname"
           ],
           "ids": [
            "Argentina",
            "Ecuador",
            "Brazil",
            "Uruguay",
            "Paraguay",
            "Chile",
            "Guyana",
            "Colombia",
            "Suriname"
           ],
           "legendgroup": "South America",
           "marker": {
            "color": "#FF7F0E",
            "size": [
             123,
             141,
             157,
             119,
             157,
             91,
             249,
             142,
             200
            ],
            "sizemode": "area",
            "sizeref": 0.53,
            "symbol": "circle"
           },
           "mode": "markers",
           "name": "South America",
           "orientation": "v",
           "showlegend": true,
           "type": "scatter",
           "x": [
            8.9,
            7.9,
            6.7,
            8.4,
            7.4,
            9.9,
            8,
            7.3,
            7.7
           ],
           "xaxis": "x",
           "y": [
            123,
            141,
            157,
            119,
            157,
            91,
            249,
            142,
            200
           ],
           "yaxis": "y"
          },
          {
           "hovertemplate": "<b>%{hovertext}</b><br><br>Continent=Europe<br>Year=2008<br>avg_years_of_schooling=%{x}<br>Both sexes=%{marker.size}<extra></extra>",
           "hovertext": [
            "Lithuania",
            "Poland",
            "Romania",
            "Portugal",
            "Latvia",
            "Sweden",
            "Greece",
            "Albania",
            "Switzerland",
            "Netherlands",
            "Finland",
            "Belgium",
            "Norway",
            "Malta",
            "Germany",
            "Belarus",
            "Denmark",
            "Ukraine",
            "France",
            "Bulgaria",
            "Luxembourg",
            "Estonia",
            "Montenegro",
            "Spain",
            "Slovenia",
            "Hungary",
            "Serbia",
            "Italy",
            "Iceland",
            "Croatia",
            "Austria",
            "Ireland",
            "Slovakia"
           ],
           "ids": [
            "Lithuania",
            "Poland",
            "Romania",
            "Portugal",
            "Latvia",
            "Sweden",
            "Greece",
            "Albania",
            "Switzerland",
            "Netherlands",
            "Finland",
            "Belgium",
            "Norway",
            "Malta",
            "Germany",
            "Belarus",
            "Denmark",
            "Ukraine",
            "France",
            "Bulgaria",
            "Luxembourg",
            "Estonia",
            "Montenegro",
            "Spain",
            "Slovenia",
            "Hungary",
            "Serbia",
            "Italy",
            "Iceland",
            "Croatia",
            "Austria",
            "Ireland",
            "Slovakia"
           ],
           "legendgroup": "Europe",
           "marker": {
            "color": "#2CA02C",
            "size": [
             229,
             142,
             160,
             89,
             200,
             62,
             75,
             102,
             59,
             67,
             94,
             86,
             66,
             62,
             81,
             228,
             86,
             275,
             87,
             150,
             69,
             164,
             119,
             70,
             96,
             164,
             122,
             61,
             57,
             117,
             76,
             72,
             135
            ],
            "sizemode": "area",
            "sizeref": 0.53,
            "symbol": "circle"
           },
           "mode": "markers",
           "name": "Europe",
           "orientation": "v",
           "showlegend": true,
           "type": "scatter",
           "x": [
            12.2,
            11.9,
            10.6,
            7.8,
            12.2,
            12.2,
            10.1,
            9.2,
            12.9,
            12,
            12.2,
            11,
            12.7,
            10,
            13.7,
            11.3,
            12.9,
            11.3,
            10.7,
            10.5,
            11.7,
            12.3,
            10.9,
            9.2,
            11.9,
            11.5,
            10.4,
            9.5,
            10.4,
            10.3,
            11.5,
            12,
            11.2
           ],
           "xaxis": "x",
           "y": [
            229,
            142,
            160,
            89,
            200,
            62,
            75,
            102,
            59,
            67,
            94,
            86,
            66,
            62,
            81,
            228,
            86,
            275,
            87,
            150,
            69,
            164,
            119,
            70,
            96,
            164,
            122,
            61,
            57,
            117,
            76,
            72,
            135
           ],
           "yaxis": "y"
          },
          {
           "hovertemplate": "<b>%{hovertext}</b><br><br>Continent=Africa<br>Year=2008<br>avg_years_of_schooling=%{x}<br>Both sexes=%{marker.size}<extra></extra>",
           "hovertext": [
            "Mauritius",
            "South Africa",
            "Seychelles"
           ],
           "ids": [
            "Mauritius",
            "South Africa",
            "Seychelles"
           ],
           "legendgroup": "Africa",
           "marker": {
            "color": "#D62728",
            "size": [
             165,
             458,
             185
            ],
            "sizemode": "area",
            "sizeref": 0.53,
            "symbol": "circle"
           },
           "mode": "markers",
           "name": "Africa",
           "orientation": "v",
           "showlegend": true,
           "type": "scatter",
           "x": [
            7.8,
            9.7,
            8
           ],
           "xaxis": "x",
           "y": [
            165,
            458,
            185
           ],
           "yaxis": "y"
          },
          {
           "hovertemplate": "<b>%{hovertext}</b><br><br>Continent=North America<br>Year=2008<br>avg_years_of_schooling=%{x}<br>Both sexes=%{marker.size}<extra></extra>",
           "hovertext": [
            "El Salvador",
            "Barbados",
            "Grenada",
            "Belize",
            "Panama",
            "Antigua and Barbuda",
            "Mexico",
            "Trinidad and Tobago",
            "Canada",
            "Bahamas",
            "Guatemala",
            "Cuba",
            "Costa Rica",
            "Saint Lucia"
           ],
           "ids": [
            "El Salvador",
            "Barbados",
            "Grenada",
            "Belize",
            "Panama",
            "Antigua and Barbuda",
            "Mexico",
            "Trinidad and Tobago",
            "Canada",
            "Bahamas",
            "Guatemala",
            "Cuba",
            "Costa Rica",
            "Saint Lucia"
           ],
           "legendgroup": "North America",
           "marker": {
            "color": "#9467BD",
            "size": [
             198,
             112,
             162,
             183,
             122,
             147,
             133,
             195,
             73,
             168,
             186,
             100,
             97,
             152
            ],
            "sizemode": "area",
            "sizeref": 0.53,
            "symbol": "circle"
           },
           "mode": "markers",
           "name": "North America",
           "orientation": "v",
           "showlegend": true,
           "type": "scatter",
           "x": [
            6.4,
            9.3,
            8.1,
            10.4,
            9.2,
            9.3,
            8,
            10.7,
            12.4,
            10.9,
            4.3,
            10.6,
            8.4,
            7.8
           ],
           "xaxis": "x",
           "y": [
            198,
            112,
            162,
            183,
            122,
            147,
            133,
            195,
            73,
            168,
            186,
            100,
            97,
            152
           ],
           "yaxis": "y"
          },
          {
           "hovertemplate": "<b>%{hovertext}</b><br><br>Continent=Oceania<br>Year=2008<br>avg_years_of_schooling=%{x}<br>Both sexes=%{marker.size}<extra></extra>",
           "hovertext": [
            "New Zealand",
            "Fiji",
            "Australia"
           ],
           "ids": [
            "New Zealand",
            "Fiji",
            "Australia"
           ],
           "legendgroup": "Oceania",
           "marker": {
            "color": "#8C564B",
            "size": [
             74,
             206,
             64
            ],
            "sizemode": "area",
            "sizeref": 0.53,
            "symbol": "circle"
           },
           "mode": "markers",
           "name": "Oceania",
           "orientation": "v",
           "showlegend": true,
           "type": "scatter",
           "x": [
            11.8,
            9.4,
            12.3
           ],
           "xaxis": "x",
           "y": [
            74,
            206,
            64
           ],
           "yaxis": "y"
          }
         ],
         "name": "2008"
        },
        {
         "data": [
          {
           "hovertemplate": "<b>%{hovertext}</b><br><br>Continent=Asia<br>Year=2009<br>avg_years_of_schooling=%{x}<br>Both sexes=%{marker.size}<extra></extra>",
           "hovertext": [
            "United Arab Emirates",
            "Oman",
            "Israel",
            "Uzbekistan",
            "Singapore",
            "Armenia",
            "Thailand",
            "Kazakhstan",
            "Cyprus",
            "Qatar",
            "Kyrgyzstan",
            "Philippines",
            "Japan",
            "Bahrain",
            "Turkey",
            "Kuwait",
            "Georgia"
           ],
           "ids": [
            "United Arab Emirates",
            "Oman",
            "Israel",
            "Uzbekistan",
            "Singapore",
            "Armenia",
            "Thailand",
            "Kazakhstan",
            "Cyprus",
            "Qatar",
            "Kyrgyzstan",
            "Philippines",
            "Japan",
            "Bahrain",
            "Turkey",
            "Kuwait",
            "Georgia"
           ],
           "legendgroup": "Asia",
           "marker": {
            "color": "#1F77B4",
            "size": [
             83,
             108,
             61,
             149,
             62,
             142,
             164,
             240,
             68,
             65,
             204,
             207,
             63,
             69,
             118,
             85,
             156
            ],
            "sizemode": "area",
            "sizeref": 0.53,
            "symbol": "circle"
           },
           "mode": "markers",
           "name": "Asia",
           "orientation": "v",
           "showlegend": true,
           "type": "scatter",
           "x": [
            9.7,
            7.7,
            12.6,
            10.5,
            10.5,
            11.1,
            7.5,
            11.5,
            11.3,
            9.2,
            10.4,
            9,
            11.4,
            8.4,
            6.5,
            6.6,
            12.2
           ],
           "xaxis": "x",
           "y": [
            83,
            108,
            61,
            149,
            62,
            142,
            164,
            240,
            68,
            65,
            204,
            207,
            63,
            69,
            118,
            85,
            156
           ],
           "yaxis": "y"
          },
          {
           "hovertemplate": "<b>%{hovertext}</b><br><br>Continent=South America<br>Year=2009<br>avg_years_of_schooling=%{x}<br>Both sexes=%{marker.size}<extra></extra>",
           "hovertext": [
            "Paraguay",
            "Colombia",
            "Brazil",
            "Ecuador",
            "Uruguay",
            "Guyana",
            "Chile",
            "Argentina",
            "Suriname"
           ],
           "ids": [
            "Paraguay",
            "Colombia",
            "Brazil",
            "Ecuador",
            "Uruguay",
            "Guyana",
            "Chile",
            "Argentina",
            "Suriname"
           ],
           "legendgroup": "South America",
           "marker": {
            "color": "#FF7F0E",
            "size": [
             154,
             147,
             156,
             137,
             118,
             252,
             94,
             123,
             197
            ],
            "sizemode": "area",
            "sizeref": 0.53,
            "symbol": "circle"
           },
           "mode": "markers",
           "name": "South America",
           "orientation": "v",
           "showlegend": true,
           "type": "scatter",
           "x": [
            7,
            7.3,
            6.8,
            7.9,
            8.4,
            8,
            9.9,
            9.3,
            7.7
           ],
           "xaxis": "x",
           "y": [
            154,
            147,
            156,
            137,
            118,
            252,
            94,
            123,
            197
           ],
           "yaxis": "y"
          },
          {
           "hovertemplate": "<b>%{hovertext}</b><br><br>Continent=Europe<br>Year=2009<br>avg_years_of_schooling=%{x}<br>Both sexes=%{marker.size}<extra></extra>",
           "hovertext": [
            "Belarus",
            "Finland",
            "Ukraine",
            "Denmark",
            "Hungary",
            "Malta",
            "France",
            "Albania",
            "Netherlands",
            "Slovakia",
            "Ireland",
            "Montenegro",
            "Estonia",
            "Norway",
            "Italy",
            "Croatia",
            "Iceland",
            "Slovenia",
            "Belgium",
            "Austria",
            "Germany",
            "Lithuania",
            "Switzerland",
            "Portugal",
            "Greece",
            "Latvia",
            "Poland",
            "Serbia",
            "Bulgaria",
            "Romania",
            "Luxembourg",
            "Spain",
            "Sweden"
           ],
           "ids": [
            "Belarus",
            "Finland",
            "Ukraine",
            "Denmark",
            "Hungary",
            "Malta",
            "France",
            "Albania",
            "Netherlands",
            "Slovakia",
            "Ireland",
            "Montenegro",
            "Estonia",
            "Norway",
            "Italy",
            "Croatia",
            "Iceland",
            "Slovenia",
            "Belgium",
            "Austria",
            "Germany",
            "Lithuania",
            "Switzerland",
            "Portugal",
            "Greece",
            "Latvia",
            "Poland",
            "Serbia",
            "Bulgaria",
            "Romania",
            "Luxembourg",
            "Spain",
            "Sweden"
           ],
           "legendgroup": "Europe",
           "marker": {
            "color": "#2CA02C",
            "size": [
             225,
             90,
             235,
             84,
             160,
             61,
             87,
             103,
             65,
             130,
             74,
             115,
             154,
             67,
             60,
             109,
             55,
             91,
             84,
             77,
             80,
             197,
             59,
             88,
             76,
             185,
             137,
             120,
             147,
             160,
             67,
             67,
             61
            ],
            "sizemode": "area",
            "sizeref": 0.53,
            "symbol": "circle"
           },
           "mode": "markers",
           "name": "Europe",
           "orientation": "v",
           "showlegend": true,
           "type": "scatter",
           "x": [
            11.9,
            12.2,
            11.3,
            12.7,
            11.7,
            10.2,
            10.8,
            9.3,
            11.9,
            11.4,
            12.1,
            11,
            12.4,
            12.7,
            9.6,
            10.6,
            10.5,
            12.1,
            11.1,
            11.7,
            13.8,
            11.5,
            13.3,
            7.9,
            10.1,
            12.3,
            12.1,
            10.4,
            10.6,
            10.6,
            11.8,
            9.3,
            12.2
           ],
           "xaxis": "x",
           "y": [
            225,
            90,
            235,
            84,
            160,
            61,
            87,
            103,
            65,
            130,
            74,
            115,
            154,
            67,
            60,
            109,
            55,
            91,
            84,
            77,
            80,
            197,
            59,
            88,
            76,
            185,
            137,
            120,
            147,
            160,
            67,
            67,
            61
           ],
           "yaxis": "y"
          },
          {
           "hovertemplate": "<b>%{hovertext}</b><br><br>Continent=Africa<br>Year=2009<br>avg_years_of_schooling=%{x}<br>Both sexes=%{marker.size}<extra></extra>",
           "hovertext": [
            "Seychelles",
            "South Africa",
            "Mauritius"
           ],
           "ids": [
            "Seychelles",
            "South Africa",
            "Mauritius"
           ],
           "legendgroup": "Africa",
           "marker": {
            "color": "#D62728",
            "size": [
             183,
             435,
             165
            ],
            "sizemode": "area",
            "sizeref": 0.53,
            "symbol": "circle"
           },
           "mode": "markers",
           "name": "Africa",
           "orientation": "v",
           "showlegend": true,
           "type": "scatter",
           "x": [
            8,
            10.1,
            8
           ],
           "xaxis": "x",
           "y": [
            183,
            435,
            165
           ],
           "yaxis": "y"
          },
          {
           "hovertemplate": "<b>%{hovertext}</b><br><br>Continent=North America<br>Year=2009<br>avg_years_of_schooling=%{x}<br>Both sexes=%{marker.size}<extra></extra>",
           "hovertext": [
            "Antigua and Barbuda",
            "Jamaica",
            "El Salvador",
            "Belize",
            "Costa Rica",
            "Panama",
            "Mexico",
            "Bahamas",
            "Barbados",
            "Saint Lucia",
            "Canada",
            "Cuba",
            "Trinidad and Tobago",
            "Guatemala",
            "Grenada"
           ],
           "ids": [
            "Antigua and Barbuda",
            "Jamaica",
            "El Salvador",
            "Belize",
            "Costa Rica",
            "Panama",
            "Mexico",
            "Bahamas",
            "Barbados",
            "Saint Lucia",
            "Canada",
            "Cuba",
            "Trinidad and Tobago",
            "Guatemala",
            "Grenada"
           ],
           "legendgroup": "North America",
           "marker": {
            "color": "#9467BD",
            "size": [
             138,
             143,
             197,
             183,
             96,
             122,
             136,
             166,
             110,
             152,
             71,
             99,
             185,
             191,
             158
            ],
            "sizemode": "area",
            "sizeref": 0.53,
            "symbol": "circle"
           },
           "mode": "markers",
           "name": "North America",
           "orientation": "v",
           "showlegend": true,
           "type": "scatter",
           "x": [
            9.3,
            8.8,
            6.5,
            10.4,
            8.4,
            9.3,
            8.2,
            10.9,
            9.3,
            7.9,
            12.5,
            10.8,
            10.7,
            4.6,
            8.2
           ],
           "xaxis": "x",
           "y": [
            138,
            143,
            197,
            183,
            96,
            122,
            136,
            166,
            110,
            152,
            71,
            99,
            185,
            191,
            158
           ],
           "yaxis": "y"
          },
          {
           "hovertemplate": "<b>%{hovertext}</b><br><br>Continent=Oceania<br>Year=2009<br>avg_years_of_schooling=%{x}<br>Both sexes=%{marker.size}<extra></extra>",
           "hovertext": [
            "New Zealand",
            "Fiji",
            "Australia"
           ],
           "ids": [
            "New Zealand",
            "Fiji",
            "Australia"
           ],
           "legendgroup": "Oceania",
           "marker": {
            "color": "#8C564B",
            "size": [
             73,
             203,
             65
            ],
            "sizemode": "area",
            "sizeref": 0.53,
            "symbol": "circle"
           },
           "mode": "markers",
           "name": "Oceania",
           "orientation": "v",
           "showlegend": true,
           "type": "scatter",
           "x": [
            11.9,
            9.5,
            12.3
           ],
           "xaxis": "x",
           "y": [
            73,
            203,
            65
           ],
           "yaxis": "y"
          }
         ],
         "name": "2009"
        },
        {
         "data": [
          {
           "hovertemplate": "<b>%{hovertext}</b><br><br>Continent=Asia<br>Year=2010<br>avg_years_of_schooling=%{x}<br>Both sexes=%{marker.size}<extra></extra>",
           "hovertext": [
            "Uzbekistan",
            "Qatar",
            "Bahrain",
            "Philippines",
            "Turkmenistan",
            "Turkey",
            "United Arab Emirates",
            "Oman",
            "Singapore",
            "Armenia",
            "Thailand",
            "Kazakhstan",
            "Japan",
            "Maldives",
            "Cyprus",
            "Israel",
            "Kyrgyzstan",
            "Kuwait",
            "Georgia"
           ],
           "ids": [
            "Uzbekistan",
            "Qatar",
            "Bahrain",
            "Philippines",
            "Turkmenistan",
            "Turkey",
            "United Arab Emirates",
            "Oman",
            "Singapore",
            "Armenia",
            "Thailand",
            "Kazakhstan",
            "Japan",
            "Maldives",
            "Cyprus",
            "Israel",
            "Kyrgyzstan",
            "Kuwait",
            "Georgia"
           ],
           "legendgroup": "Asia",
           "marker": {
            "color": "#1F77B4",
            "size": [
             145,
             65,
             66,
             203,
             188,
             116,
             81,
             107,
             60,
             138,
             161,
             243,
             61,
             71,
             65,
             60,
             209,
             84,
             157
            ],
            "sizemode": "area",
            "sizeref": 0.53,
            "symbol": "circle"
           },
           "mode": "markers",
           "name": "Asia",
           "orientation": "v",
           "showlegend": true,
           "type": "scatter",
           "x": [
            10.7,
            8.4,
            8.4,
            8.9,
            9.9,
            6.7,
            9.9,
            7.9,
            11.2,
            11.1,
            7.7,
            11.4,
            11.5,
            4.9,
            11.5,
            12.6,
            10.6,
            6.8,
            12.2
           ],
           "xaxis": "x",
           "y": [
            145,
            65,
            66,
            203,
            188,
            116,
            81,
            107,
            60,
            138,
            161,
            243,
            61,
            71,
            65,
            60,
            209,
            84,
            157
           ],
           "yaxis": "y"
          },
          {
           "hovertemplate": "<b>%{hovertext}</b><br><br>Continent=South America<br>Year=2010<br>avg_years_of_schooling=%{x}<br>Both sexes=%{marker.size}<extra></extra>",
           "hovertext": [
            "Suriname",
            "Paraguay",
            "Argentina",
            "Uruguay",
            "Brazil",
            "Colombia",
            "Guyana",
            "Ecuador",
            "Chile"
           ],
           "ids": [
            "Suriname",
            "Paraguay",
            "Argentina",
            "Uruguay",
            "Brazil",
            "Colombia",
            "Guyana",
            "Ecuador",
            "Chile"
           ],
           "legendgroup": "South America",
           "marker": {
            "color": "#FF7F0E",
            "size": [
             194,
             152,
             119,
             118,
             154,
             146,
             258,
             134,
             94
            ],
            "sizemode": "area",
            "sizeref": 0.53,
            "symbol": "circle"
           },
           "mode": "markers",
           "name": "South America",
           "orientation": "v",
           "showlegend": true,
           "type": "scatter",
           "x": [
            7.7,
            7.7,
            9.8,
            8.4,
            6.9,
            7.4,
            8.1,
            7.9,
            9.8
           ],
           "xaxis": "x",
           "y": [
            194,
            152,
            119,
            118,
            154,
            146,
            258,
            134,
            94
           ],
           "yaxis": "y"
          },
          {
           "hovertemplate": "<b>%{hovertext}</b><br><br>Continent=Europe<br>Year=2010<br>avg_years_of_schooling=%{x}<br>Both sexes=%{marker.size}<extra></extra>",
           "hovertext": [
            "Austria",
            "Switzerland",
            "Slovenia",
            "Romania",
            "Ukraine",
            "Spain",
            "Poland",
            "Serbia",
            "Portugal",
            "Belgium",
            "Belarus",
            "Slovakia",
            "Norway",
            "Sweden",
            "Albania",
            "Greece",
            "Bulgaria",
            "Hungary",
            "Iceland",
            "Croatia",
            "Italy",
            "Ireland",
            "Netherlands",
            "Germany",
            "Malta",
            "Denmark",
            "Finland",
            "Luxembourg",
            "France",
            "Latvia",
            "Estonia",
            "Lithuania"
           ],
           "ids": [
            "Austria",
            "Switzerland",
            "Slovenia",
            "Romania",
            "Ukraine",
            "Spain",
            "Poland",
            "Serbia",
            "Portugal",
            "Belgium",
            "Belarus",
            "Slovakia",
            "Norway",
            "Sweden",
            "Albania",
            "Greece",
            "Bulgaria",
            "Hungary",
            "Iceland",
            "Croatia",
            "Italy",
            "Ireland",
            "Netherlands",
            "Germany",
            "Malta",
            "Denmark",
            "Finland",
            "Luxembourg",
            "France",
            "Latvia",
            "Estonia",
            "Lithuania"
           ],
           "legendgroup": "Europe",
           "marker": {
            "color": "#2CA02C",
            "size": [
             74,
             57,
             87,
             155,
             218,
             65,
             131,
             115,
             86,
             81,
             226,
             122,
             65,
             58,
             103,
             74,
             143,
             152,
             53,
             106,
             58,
             65,
             64,
             78,
             58,
             83,
             88,
             67,
             85,
             178,
             134,
             188
            ],
            "sizemode": "area",
            "sizeref": 0.53,
            "symbol": "circle"
           },
           "mode": "markers",
           "name": "Europe",
           "orientation": "v",
           "showlegend": true,
           "type": "scatter",
           "x": [
            11.8,
            13.3,
            12.1,
            10.7,
            11.3,
            9.4,
            12.2,
            10.4,
            8.1,
            11.1,
            12,
            11.6,
            12.7,
            12.3,
            9.3,
            10.3,
            10.6,
            11.9,
            10.6,
            10.8,
            9.7,
            12.2,
            12,
            13.8,
            10.3,
            12.7,
            12.3,
            11.8,
            10.9,
            12.5,
            12.5,
            11.6
           ],
           "xaxis": "x",
           "y": [
            74,
            57,
            87,
            155,
            218,
            65,
            131,
            115,
            86,
            81,
            226,
            122,
            65,
            58,
            103,
            74,
            143,
            152,
            53,
            106,
            58,
            65,
            64,
            78,
            58,
            83,
            88,
            67,
            85,
            178,
            134,
            188
           ],
           "yaxis": "y"
          },
          {
           "hovertemplate": "<b>%{hovertext}</b><br><br>Continent=Africa<br>Year=2010<br>avg_years_of_schooling=%{x}<br>Both sexes=%{marker.size}<extra></extra>",
           "hovertext": [
            "Seychelles",
            "South Africa",
            "Mauritius"
           ],
           "ids": [
            "Seychelles",
            "South Africa",
            "Mauritius"
           ],
           "legendgroup": "Africa",
           "marker": {
            "color": "#D62728",
            "size": [
             181,
             416,
             162
            ],
            "sizemode": "area",
            "sizeref": 0.53,
            "symbol": "circle"
           },
           "mode": "markers",
           "name": "Africa",
           "orientation": "v",
           "showlegend": true,
           "type": "scatter",
           "x": [
            8.1,
            10,
            8.2
           ],
           "xaxis": "x",
           "y": [
            181,
            416,
            162
           ],
           "yaxis": "y"
          },
          {
           "hovertemplate": "<b>%{hovertext}</b><br><br>Continent=North America<br>Year=2010<br>avg_years_of_schooling=%{x}<br>Both sexes=%{marker.size}<extra></extra>",
           "hovertext": [
            "Belize",
            "Saint Lucia",
            "Nicaragua",
            "Bahamas",
            "Trinidad and Tobago",
            "Panama",
            "Barbados",
            "Grenada",
            "Guatemala",
            "Cuba",
            "Jamaica",
            "Costa Rica",
            "Mexico",
            "Canada",
            "El Salvador"
           ],
           "ids": [
            "Belize",
            "Saint Lucia",
            "Nicaragua",
            "Bahamas",
            "Trinidad and Tobago",
            "Panama",
            "Barbados",
            "Grenada",
            "Guatemala",
            "Cuba",
            "Jamaica",
            "Costa Rica",
            "Mexico",
            "Canada",
            "El Salvador"
           ],
           "legendgroup": "North America",
           "marker": {
            "color": "#9467BD",
            "size": [
             182,
             153,
             160,
             159,
             179,
             117,
             108,
             154,
             186,
             97,
             139,
             106,
             136,
             69,
             192
            ],
            "sizemode": "area",
            "sizeref": 0.53,
            "symbol": "circle"
           },
           "mode": "markers",
           "name": "North America",
           "orientation": "v",
           "showlegend": true,
           "type": "scatter",
           "x": [
            10.5,
            8.4,
            6,
            10.9,
            10.7,
            9.3,
            9.4,
            8.3,
            4.9,
            11,
            8.9,
            8.3,
            8,
            12.6,
            7.1
           ],
           "xaxis": "x",
           "y": [
            182,
            153,
            160,
            159,
            179,
            117,
            108,
            154,
            186,
            97,
            139,
            106,
            136,
            69,
            192
           ],
           "yaxis": "y"
          },
          {
           "hovertemplate": "<b>%{hovertext}</b><br><br>Continent=Oceania<br>Year=2010<br>avg_years_of_schooling=%{x}<br>Both sexes=%{marker.size}<extra></extra>",
           "hovertext": [
            "New Zealand",
            "Australia"
           ],
           "ids": [
            "New Zealand",
            "Australia"
           ],
           "legendgroup": "Oceania",
           "marker": {
            "color": "#8C564B",
            "size": [
             71,
             63
            ],
            "sizemode": "area",
            "sizeref": 0.53,
            "symbol": "circle"
           },
           "mode": "markers",
           "name": "Oceania",
           "orientation": "v",
           "showlegend": true,
           "type": "scatter",
           "x": [
            12,
            12.4
           ],
           "xaxis": "x",
           "y": [
            71,
            63
           ],
           "yaxis": "y"
          }
         ],
         "name": "2010"
        },
        {
         "data": [
          {
           "hovertemplate": "<b>%{hovertext}</b><br><br>Continent=Asia<br>Year=2011<br>avg_years_of_schooling=%{x}<br>Both sexes=%{marker.size}<extra></extra>",
           "hovertext": [
            "Singapore",
            "Bahrain",
            "Japan",
            "Kyrgyzstan",
            "Kazakhstan",
            "Kuwait",
            "Qatar",
            "Georgia",
            "Turkey",
            "Turkmenistan",
            "Uzbekistan",
            "Cyprus",
            "Thailand",
            "Armenia",
            "Israel",
            "Maldives",
            "Philippines"
           ],
           "ids": [
            "Singapore",
            "Bahrain",
            "Japan",
            "Kyrgyzstan",
            "Kazakhstan",
            "Kuwait",
            "Qatar",
            "Georgia",
            "Turkey",
            "Turkmenistan",
            "Uzbekistan",
            "Cyprus",
            "Thailand",
            "Armenia",
            "Israel",
            "Maldives",
            "Philippines"
           ],
           "legendgroup": "Asia",
           "marker": {
            "color": "#1F77B4",
            "size": [
             59,
             66,
             62,
             196,
             232,
             84,
             65,
             153,
             114,
             190,
             144,
             58,
             158,
             135,
             59,
             66,
             202
            ],
            "sizemode": "area",
            "sizeref": 0.53,
            "symbol": "circle"
           },
           "mode": "markers",
           "name": "Asia",
           "orientation": "v",
           "showlegend": true,
           "type": "scatter",
           "x": [
            11.2,
            8.6,
            11.8,
            10.6,
            11.5,
            7,
            8.7,
            12.2,
            7.2,
            9.9,
            10.9,
            11.6,
            7.5,
            11.2,
            12.7,
            5.2,
            9
           ],
           "xaxis": "x",
           "y": [
            59,
            66,
            62,
            196,
            232,
            84,
            65,
            153,
            114,
            190,
            144,
            58,
            158,
            135,
            59,
            66,
            202
           ],
           "yaxis": "y"
          },
          {
           "hovertemplate": "<b>%{hovertext}</b><br><br>Continent=South America<br>Year=2011<br>avg_years_of_schooling=%{x}<br>Both sexes=%{marker.size}<extra></extra>",
           "hovertext": [
            "Chile",
            "Colombia",
            "Argentina",
            "Ecuador",
            "Guyana",
            "Suriname",
            "Paraguay",
            "Brazil"
           ],
           "ids": [
            "Chile",
            "Colombia",
            "Argentina",
            "Ecuador",
            "Guyana",
            "Suriname",
            "Paraguay",
            "Brazil"
           ],
           "legendgroup": "South America",
           "marker": {
            "color": "#FF7F0E",
            "size": [
             90,
             140,
             118,
             130,
             263,
             191,
             150,
             153
            ],
            "sizemode": "area",
            "sizeref": 0.53,
            "symbol": "circle"
           },
           "mode": "markers",
           "name": "South America",
           "orientation": "v",
           "showlegend": true,
           "type": "scatter",
           "x": [
            9.8,
            7.5,
            9.8,
            8,
            8.2,
            7.8,
            7.8,
            7.1
           ],
           "xaxis": "x",
           "y": [
            90,
            140,
            118,
            130,
            263,
            191,
            150,
            153
           ],
           "yaxis": "y"
          },
          {
           "hovertemplate": "<b>%{hovertext}</b><br><br>Continent=Europe<br>Year=2011<br>avg_years_of_schooling=%{x}<br>Both sexes=%{marker.size}<extra></extra>",
           "hovertext": [
            "Italy",
            "Latvia",
            "Romania",
            "Serbia",
            "Austria",
            "Ukraine",
            "Germany",
            "Denmark",
            "Finland",
            "Estonia",
            "France",
            "Greece",
            "Slovenia",
            "Croatia",
            "Iceland",
            "Portugal",
            "Hungary",
            "Spain",
            "Sweden",
            "Switzerland",
            "Ireland",
            "Bosnia and Herzegovina",
            "Malta",
            "Netherlands",
            "Poland",
            "Belgium",
            "Norway",
            "Luxembourg",
            "Lithuania",
            "Bulgaria",
            "Belarus"
           ],
           "ids": [
            "Italy",
            "Latvia",
            "Romania",
            "Serbia",
            "Austria",
            "Ukraine",
            "Germany",
            "Denmark",
            "Finland",
            "Estonia",
            "France",
            "Greece",
            "Slovenia",
            "Croatia",
            "Iceland",
            "Portugal",
            "Hungary",
            "Spain",
            "Sweden",
            "Switzerland",
            "Ireland",
            "Bosnia and Herzegovina",
            "Malta",
            "Netherlands",
            "Poland",
            "Belgium",
            "Norway",
            "Luxembourg",
            "Lithuania",
            "Bulgaria",
            "Belarus"
           ],
           "legendgroup": "Europe",
           "marker": {
            "color": "#2CA02C",
            "size": [
             58,
             167,
             141,
             113,
             72,
             209,
             75,
             78,
             84,
             136,
             83,
             73,
             82,
             103,
             51,
             84,
             147,
             63,
             58,
             54,
             67,
             100,
             59,
             64,
             128,
             81,
             66,
             66,
             184,
             141,
             227
            ],
            "sizemode": "area",
            "sizeref": 0.53,
            "symbol": "circle"
           },
           "mode": "markers",
           "name": "Europe",
           "orientation": "v",
           "showlegend": true,
           "type": "scatter",
           "x": [
            9.8,
            12.6,
            10.8,
            10.6,
            11.8,
            11.3,
            13.9,
            12.7,
            12.3,
            12.5,
            10.9,
            10.3,
            12.2,
            11,
            11,
            8.3,
            12,
            9.5,
            12.4,
            13.3,
            10.9,
            7.2,
            10.5,
            12,
            12.3,
            11.2,
            12.8,
            11.8,
            11.8,
            10.7,
            12
           ],
           "xaxis": "x",
           "y": [
            58,
            167,
            141,
            113,
            72,
            209,
            75,
            78,
            84,
            136,
            83,
            73,
            82,
            103,
            51,
            84,
            147,
            63,
            58,
            54,
            67,
            100,
            59,
            64,
            128,
            81,
            66,
            66,
            184,
            141,
            227
           ],
           "yaxis": "y"
          },
          {
           "hovertemplate": "<b>%{hovertext}</b><br><br>Continent=Africa<br>Year=2011<br>avg_years_of_schooling=%{x}<br>Both sexes=%{marker.size}<extra></extra>",
           "hovertext": [
            "Seychelles",
            "South Africa",
            "Mauritius"
           ],
           "ids": [
            "Seychelles",
            "South Africa",
            "Mauritius"
           ],
           "legendgroup": "Africa",
           "marker": {
            "color": "#D62728",
            "size": [
             177,
             397,
             156
            ],
            "sizemode": "area",
            "sizeref": 0.53,
            "symbol": "circle"
           },
           "mode": "markers",
           "name": "Africa",
           "orientation": "v",
           "showlegend": true,
           "type": "scatter",
           "x": [
            8.4,
            9.9,
            8.5
           ],
           "xaxis": "x",
           "y": [
            177,
            397,
            156
           ],
           "yaxis": "y"
          },
          {
           "hovertemplate": "<b>%{hovertext}</b><br><br>Continent=North America<br>Year=2011<br>avg_years_of_schooling=%{x}<br>Both sexes=%{marker.size}<extra></extra>",
           "hovertext": [
            "Costa Rica",
            "Canada",
            "Jamaica",
            "Bahamas",
            "Saint Lucia",
            "Belize",
            "Trinidad and Tobago",
            "El Salvador",
            "Cuba",
            "Guatemala",
            "Grenada",
            "Barbados",
            "Mexico",
            "Nicaragua",
            "Panama"
           ],
           "ids": [
            "Costa Rica",
            "Canada",
            "Jamaica",
            "Bahamas",
            "Saint Lucia",
            "Belize",
            "Trinidad and Tobago",
            "El Salvador",
            "Cuba",
            "Guatemala",
            "Grenada",
            "Barbados",
            "Mexico",
            "Nicaragua",
            "Panama"
           ],
           "legendgroup": "North America",
           "marker": {
            "color": "#9467BD",
            "size": [
             100,
             67,
             139,
             158,
             153,
             182,
             180,
             189,
             92,
             180,
             150,
             106,
             133,
             158,
             117
            ],
            "sizemode": "area",
            "sizeref": 0.53,
            "symbol": "circle"
           },
           "mode": "markers",
           "name": "North America",
           "orientation": "v",
           "showlegend": true,
           "type": "scatter",
           "x": [
            8.4,
            12.7,
            9,
            11,
            8.4,
            10.5,
            10.8,
            6.5,
            11.3,
            5.3,
            8.4,
            9.9,
            8.4,
            6.1,
            9.3
           ],
           "xaxis": "x",
           "y": [
            100,
            67,
            139,
            158,
            153,
            182,
            180,
            189,
            92,
            180,
            150,
            106,
            133,
            158,
            117
           ],
           "yaxis": "y"
          },
          {
           "hovertemplate": "<b>%{hovertext}</b><br><br>Continent=Oceania<br>Year=2011<br>avg_years_of_schooling=%{x}<br>Both sexes=%{marker.size}<extra></extra>",
           "hovertext": [
            "Fiji",
            "Australia",
            "New Zealand"
           ],
           "ids": [
            "Fiji",
            "Australia",
            "New Zealand"
           ],
           "legendgroup": "Oceania",
           "marker": {
            "color": "#8C564B",
            "size": [
             197,
             62,
             71
            ],
            "sizemode": "area",
            "sizeref": 0.53,
            "symbol": "circle"
           },
           "mode": "markers",
           "name": "Oceania",
           "orientation": "v",
           "showlegend": true,
           "type": "scatter",
           "x": [
            9.8,
            12.5,
            12
           ],
           "xaxis": "x",
           "y": [
            197,
            62,
            71
           ],
           "yaxis": "y"
          }
         ],
         "name": "2011"
        },
        {
         "data": [
          {
           "hovertemplate": "<b>%{hovertext}</b><br><br>Continent=Asia<br>Year=2012<br>avg_years_of_schooling=%{x}<br>Both sexes=%{marker.size}<extra></extra>",
           "hovertext": [
            "Armenia",
            "Japan",
            "Israel",
            "Singapore",
            "Cyprus",
            "Uzbekistan",
            "Kazakhstan",
            "Thailand",
            "Kyrgyzstan",
            "Turkmenistan",
            "Turkey",
            "Georgia",
            "Kuwait",
            "Bahrain",
            "Qatar"
           ],
           "ids": [
            "Armenia",
            "Japan",
            "Israel",
            "Singapore",
            "Cyprus",
            "Uzbekistan",
            "Kazakhstan",
            "Thailand",
            "Kyrgyzstan",
            "Turkmenistan",
            "Turkey",
            "Georgia",
            "Kuwait",
            "Bahrain",
            "Qatar"
           ],
           "legendgroup": "Asia",
           "marker": {
            "color": "#1F77B4",
            "size": [
             131,
             57,
             58,
             57,
             55,
             145,
             224,
             155,
             189,
             189,
             112,
             157,
             83,
             66,
             65
            ],
            "sizemode": "area",
            "sizeref": 0.53,
            "symbol": "circle"
           },
           "mode": "markers",
           "name": "Asia",
           "orientation": "v",
           "showlegend": true,
           "type": "scatter",
           "x": [
            11.3,
            12,
            12.8,
            11.3,
            11.8,
            11.1,
            11.5,
            7.7,
            10.7,
            9.8,
            7.5,
            12.5,
            7.2,
            8.8,
            9.2
           ],
           "xaxis": "x",
           "y": [
            131,
            57,
            58,
            57,
            55,
            145,
            224,
            155,
            189,
            189,
            112,
            157,
            83,
            66,
            65
           ],
           "yaxis": "y"
          },
          {
           "hovertemplate": "<b>%{hovertext}</b><br><br>Continent=South America<br>Year=2012<br>avg_years_of_schooling=%{x}<br>Both sexes=%{marker.size}<extra></extra>",
           "hovertext": [
            "Suriname",
            "Guyana",
            "Colombia",
            "Brazil",
            "Uruguay",
            "Ecuador",
            "Paraguay",
            "Chile",
            "Argentina"
           ],
           "ids": [
            "Suriname",
            "Guyana",
            "Colombia",
            "Brazil",
            "Uruguay",
            "Ecuador",
            "Paraguay",
            "Chile",
            "Argentina"
           ],
           "legendgroup": "South America",
           "marker": {
            "color": "#FF7F0E",
            "size": [
             188,
             272,
             140,
             150,
             118,
             127,
             149,
             89,
             118
            ],
            "sizemode": "area",
            "sizeref": 0.53,
            "symbol": "circle"
           },
           "mode": "markers",
           "name": "South America",
           "orientation": "v",
           "showlegend": true,
           "type": "scatter",
           "x": [
            7.9,
            8.3,
            7.6,
            7.3,
            8.5,
            8.1,
            7.8,
            9.9,
            9.8
           ],
           "xaxis": "x",
           "y": [
            188,
            272,
            140,
            150,
            118,
            127,
            149,
            89,
            118
           ],
           "yaxis": "y"
          },
          {
           "hovertemplate": "<b>%{hovertext}</b><br><br>Continent=Europe<br>Year=2012<br>avg_years_of_schooling=%{x}<br>Both sexes=%{marker.size}<extra></extra>",
           "hovertext": [
            "Sweden",
            "Estonia",
            "Belgium",
            "Serbia",
            "Malta",
            "Slovenia",
            "Croatia",
            "Austria",
            "Netherlands",
            "Iceland",
            "Slovakia",
            "Hungary",
            "Italy",
            "Finland",
            "Spain",
            "Ireland",
            "France",
            "Latvia",
            "Romania",
            "Greece",
            "Norway",
            "Poland",
            "Germany",
            "Lithuania",
            "Bulgaria",
            "Denmark",
            "Portugal",
            "Switzerland",
            "Luxembourg",
            "Ukraine"
           ],
           "ids": [
            "Sweden",
            "Estonia",
            "Belgium",
            "Serbia",
            "Malta",
            "Slovenia",
            "Croatia",
            "Austria",
            "Netherlands",
            "Iceland",
            "Slovakia",
            "Hungary",
            "Italy",
            "Finland",
            "Spain",
            "Ireland",
            "France",
            "Latvia",
            "Romania",
            "Greece",
            "Norway",
            "Poland",
            "Germany",
            "Lithuania",
            "Bulgaria",
            "Denmark",
            "Portugal",
            "Switzerland",
            "Luxembourg",
            "Ukraine"
           ],
           "legendgroup": "Europe",
           "marker": {
            "color": "#2CA02C",
            "size": [
             56,
             134,
             79,
             111,
             57,
             81,
             103,
             68,
             63,
             50,
             115,
             143,
             57,
             80,
             61,
             66,
             80,
             162,
             141,
             72,
             60,
             126,
             73,
             180,
             137,
             75,
             81,
             54,
             63,
             211
            ],
            "sizemode": "area",
            "sizeref": 0.53,
            "symbol": "circle"
           },
           "mode": "markers",
           "name": "Europe",
           "orientation": "v",
           "showlegend": true,
           "type": "scatter",
           "x": [
            12.4,
            12.5,
            11.2,
            10.5,
            10.8,
            11.7,
            11,
            11.8,
            12,
            11.5,
            12.3,
            12.2,
            9.9,
            12.4,
            9.5,
            11.3,
            11,
            12.6,
            10.9,
            10.3,
            12.6,
            11.7,
            14,
            11.7,
            10.8,
            12.8,
            8.5,
            13.4,
            11.8,
            11.3
           ],
           "xaxis": "x",
           "y": [
            56,
            134,
            79,
            111,
            57,
            81,
            103,
            68,
            63,
            50,
            115,
            143,
            57,
            80,
            61,
            66,
            80,
            162,
            141,
            72,
            60,
            126,
            73,
            180,
            137,
            75,
            81,
            54,
            63,
            211
           ],
           "yaxis": "y"
          },
          {
           "hovertemplate": "<b>%{hovertext}</b><br><br>Continent=Africa<br>Year=2012<br>avg_years_of_schooling=%{x}<br>Both sexes=%{marker.size}<extra></extra>",
           "hovertext": [
            "Seychelles",
            "Mauritius",
            "South Africa"
           ],
           "ids": [
            "Seychelles",
            "Mauritius",
            "South Africa"
           ],
           "legendgroup": "Africa",
           "marker": {
            "color": "#D62728",
            "size": [
             174,
             152,
             361
            ],
            "sizemode": "area",
            "sizeref": 0.53,
            "symbol": "circle"
           },
           "mode": "markers",
           "name": "Africa",
           "orientation": "v",
           "showlegend": true,
           "type": "scatter",
           "x": [
            8.8,
            8.6,
            9.8
           ],
           "xaxis": "x",
           "y": [
            174,
            152,
            361
           ],
           "yaxis": "y"
          },
          {
           "hovertemplate": "<b>%{hovertext}</b><br><br>Continent=North America<br>Year=2012<br>avg_years_of_schooling=%{x}<br>Both sexes=%{marker.size}<extra></extra>",
           "hovertext": [
            "Cuba",
            "Bahamas",
            "Guatemala",
            "Antigua and Barbuda",
            "Panama",
            "Costa Rica",
            "Nicaragua",
            "El Salvador",
            "Mexico",
            "Belize",
            "Canada",
            "Grenada",
            "Barbados",
            "Saint Lucia"
           ],
           "ids": [
            "Cuba",
            "Bahamas",
            "Guatemala",
            "Antigua and Barbuda",
            "Panama",
            "Costa Rica",
            "Nicaragua",
            "El Salvador",
            "Mexico",
            "Belize",
            "Canada",
            "Grenada",
            "Barbados",
            "Saint Lucia"
           ],
           "legendgroup": "North America",
           "marker": {
            "color": "#9467BD",
            "size": [
             96,
             163,
             173,
             127,
             116,
             99,
             155,
             186,
             131,
             183,
             68,
             147,
             108,
             153
            ],
            "sizemode": "area",
            "sizeref": 0.53,
            "symbol": "circle"
           },
           "mode": "markers",
           "name": "North America",
           "orientation": "v",
           "showlegend": true,
           "type": "scatter",
           "x": [
            10.8,
            11.1,
            4.6,
            9.2,
            9.5,
            8.5,
            6.3,
            6.7,
            8.6,
            10.5,
            12.8,
            8.4,
            10.5,
            8.4
           ],
           "xaxis": "x",
           "y": [
            96,
            163,
            173,
            127,
            116,
            99,
            155,
            186,
            131,
            183,
            68,
            147,
            108,
            153
           ],
           "yaxis": "y"
          },
          {
           "hovertemplate": "<b>%{hovertext}</b><br><br>Continent=Oceania<br>Year=2012<br>avg_years_of_schooling=%{x}<br>Both sexes=%{marker.size}<extra></extra>",
           "hovertext": [
            "New Zealand",
            "Fiji",
            "Australia"
           ],
           "ids": [
            "New Zealand",
            "Fiji",
            "Australia"
           ],
           "legendgroup": "Oceania",
           "marker": {
            "color": "#8C564B",
            "size": [
             68,
             195,
             60
            ],
            "sizemode": "area",
            "sizeref": 0.53,
            "symbol": "circle"
           },
           "mode": "markers",
           "name": "Oceania",
           "orientation": "v",
           "showlegend": true,
           "type": "scatter",
           "x": [
            12.1,
            10.1,
            12.6
           ],
           "xaxis": "x",
           "y": [
            68,
            195,
            60
           ],
           "yaxis": "y"
          }
         ],
         "name": "2012"
        },
        {
         "data": [
          {
           "hovertemplate": "<b>%{hovertext}</b><br><br>Continent=Asia<br>Year=2013<br>avg_years_of_schooling=%{x}<br>Both sexes=%{marker.size}<extra></extra>",
           "hovertext": [
            "Georgia",
            "Turkmenistan",
            "Armenia",
            "Cyprus",
            "Thailand",
            "Bahrain",
            "Singapore",
            "Kyrgyzstan",
            "Japan",
            "Uzbekistan",
            "Kuwait",
            "Israel",
            "Turkey",
            "Kazakhstan",
            "Qatar"
           ],
           "ids": [
            "Georgia",
            "Turkmenistan",
            "Armenia",
            "Cyprus",
            "Thailand",
            "Bahrain",
            "Singapore",
            "Kyrgyzstan",
            "Japan",
            "Uzbekistan",
            "Kuwait",
            "Israel",
            "Turkey",
            "Kazakhstan",
            "Qatar"
           ],
           "legendgroup": "Asia",
           "marker": {
            "color": "#1F77B4",
            "size": [
             158,
             196,
             121,
             58,
             154,
             63,
             56,
             183,
             56,
             141,
             82,
             59,
             109,
             211,
             65
            ],
            "sizemode": "area",
            "sizeref": 0.53,
            "symbol": "circle"
           },
           "mode": "markers",
           "name": "Asia",
           "orientation": "v",
           "showlegend": true,
           "type": "scatter",
           "x": [
            12.6,
            9.8,
            11.4,
            12,
            7.5,
            9,
            11.4,
            10.7,
            12.2,
            11.3,
            6.7,
            12.8,
            7.7,
            11.6,
            9.9
           ],
           "xaxis": "x",
           "y": [
            158,
            196,
            121,
            58,
            154,
            63,
            56,
            183,
            56,
            141,
            82,
            59,
            109,
            211,
            65
           ],
           "yaxis": "y"
          },
          {
           "hovertemplate": "<b>%{hovertext}</b><br><br>Continent=South America<br>Year=2013<br>avg_years_of_schooling=%{x}<br>Both sexes=%{marker.size}<extra></extra>",
           "hovertext": [
            "Argentina",
            "Brazil",
            "Suriname",
            "Guyana",
            "Paraguay",
            "Colombia",
            "Chile",
            "Uruguay",
            "Ecuador"
           ],
           "ids": [
            "Argentina",
            "Brazil",
            "Suriname",
            "Guyana",
            "Paraguay",
            "Colombia",
            "Chile",
            "Uruguay",
            "Ecuador"
           ],
           "legendgroup": "South America",
           "marker": {
            "color": "#FF7F0E",
            "size": [
             116,
             148,
             186,
             263,
             148,
             139,
             90,
             117,
             122
            ],
            "sizemode": "area",
            "sizeref": 0.53,
            "symbol": "circle"
           },
           "mode": "markers",
           "name": "South America",
           "orientation": "v",
           "showlegend": true,
           "type": "scatter",
           "x": [
            9.8,
            7.4,
            8.1,
            8.3,
            8.3,
            7.8,
            9.9,
            8.5,
            8.3
           ],
           "xaxis": "x",
           "y": [
            116,
            148,
            186,
            263,
            148,
            139,
            90,
            117,
            122
           ],
           "yaxis": "y"
          },
          {
           "hovertemplate": "<b>%{hovertext}</b><br><br>Continent=Europe<br>Year=2013<br>avg_years_of_schooling=%{x}<br>Both sexes=%{marker.size}<extra></extra>",
           "hovertext": [
            "Iceland",
            "Croatia",
            "Hungary",
            "Germany",
            "Finland",
            "Sweden",
            "France",
            "Ireland",
            "Switzerland",
            "Denmark",
            "Netherlands",
            "Greece",
            "Norway",
            "Spain",
            "Slovenia",
            "Poland",
            "Italy",
            "Luxembourg",
            "Malta",
            "Estonia",
            "Belarus",
            "Romania",
            "Bulgaria",
            "Slovakia",
            "Portugal",
            "Austria",
            "Belgium",
            "Lithuania",
            "Latvia",
            "Serbia"
           ],
           "ids": [
            "Iceland",
            "Croatia",
            "Hungary",
            "Germany",
            "Finland",
            "Sweden",
            "France",
            "Ireland",
            "Switzerland",
            "Denmark",
            "Netherlands",
            "Greece",
            "Norway",
            "Spain",
            "Slovenia",
            "Poland",
            "Italy",
            "Luxembourg",
            "Malta",
            "Estonia",
            "Belarus",
            "Romania",
            "Bulgaria",
            "Slovakia",
            "Portugal",
            "Austria",
            "Belgium",
            "Lithuania",
            "Latvia",
            "Serbia"
           ],
           "legendgroup": "Europe",
           "marker": {
            "color": "#2CA02C",
            "size": [
             53,
             96,
             136,
             73,
             78,
             56,
             77,
             64,
             53,
             72,
             61,
             68,
             61,
             59,
             78,
             121,
             56,
             60,
             57,
             122,
             183,
             134,
             135,
             111,
             78,
             67,
             77,
             179,
             164,
             107
            ],
            "sizemode": "area",
            "sizeref": 0.53,
            "symbol": "circle"
           },
           "mode": "markers",
           "name": "Europe",
           "orientation": "v",
           "showlegend": true,
           "type": "scatter",
           "x": [
            11.9,
            11,
            12,
            14,
            12.3,
            12.2,
            11.2,
            11.8,
            13.4,
            13.2,
            12.1,
            10.4,
            12.7,
            9.5,
            11.7,
            12.1,
            10.3,
            11.8,
            11,
            12.6,
            12,
            10.9,
            10.9,
            12.2,
            8.6,
            11.9,
            11.4,
            11.9,
            12.7,
            10.4
           ],
           "xaxis": "x",
           "y": [
            53,
            96,
            136,
            73,
            78,
            56,
            77,
            64,
            53,
            72,
            61,
            68,
            61,
            59,
            78,
            121,
            56,
            60,
            57,
            122,
            183,
            134,
            135,
            111,
            78,
            67,
            77,
            179,
            164,
            107
           ],
           "yaxis": "y"
          },
          {
           "hovertemplate": "<b>%{hovertext}</b><br><br>Continent=Africa<br>Year=2013<br>avg_years_of_schooling=%{x}<br>Both sexes=%{marker.size}<extra></extra>",
           "hovertext": [
            "Mauritius",
            "South Africa",
            "Seychelles"
           ],
           "ids": [
            "Mauritius",
            "South Africa",
            "Seychelles"
           ],
           "legendgroup": "Africa",
           "marker": {
            "color": "#D62728",
            "size": [
             145,
             335,
             171
            ],
            "sizemode": "area",
            "sizeref": 0.53,
            "symbol": "circle"
           },
           "mode": "markers",
           "name": "Africa",
           "orientation": "v",
           "showlegend": true,
           "type": "scatter",
           "x": [
            8.9,
            9.9,
            9.1
           ],
           "xaxis": "x",
           "y": [
            145,
            335,
            171
           ],
           "yaxis": "y"
          },
          {
           "hovertemplate": "<b>%{hovertext}</b><br><br>Continent=North America<br>Year=2013<br>avg_years_of_schooling=%{x}<br>Both sexes=%{marker.size}<extra></extra>",
           "hovertext": [
            "Nicaragua",
            "Panama",
            "Grenada",
            "Guatemala",
            "Mexico",
            "Cuba",
            "Antigua and Barbuda",
            "El Salvador",
            "Costa Rica",
            "Bahamas",
            "Saint Lucia",
            "Canada",
            "Barbados",
            "Belize"
           ],
           "ids": [
            "Nicaragua",
            "Panama",
            "Grenada",
            "Guatemala",
            "Mexico",
            "Cuba",
            "Antigua and Barbuda",
            "El Salvador",
            "Costa Rica",
            "Bahamas",
            "Saint Lucia",
            "Canada",
            "Barbados",
            "Belize"
           ],
           "legendgroup": "North America",
           "marker": {
            "color": "#9467BD",
            "size": [
             153,
             114,
             145,
             172,
             127,
             96,
             127,
             184,
             97,
             166,
             149,
             66,
             101,
             184
            ],
            "sizemode": "area",
            "sizeref": 0.53,
            "symbol": "circle"
           },
           "mode": "markers",
           "name": "North America",
           "orientation": "v",
           "showlegend": true,
           "type": "scatter",
           "x": [
            6.4,
            9.7,
            8.5,
            4.7,
            8.4,
            11,
            9.2,
            6.6,
            8.5,
            11.1,
            8.4,
            12.9,
            10.5,
            10.5
           ],
           "xaxis": "x",
           "y": [
            153,
            114,
            145,
            172,
            127,
            96,
            127,
            184,
            97,
            166,
            149,
            66,
            101,
            184
           ],
           "yaxis": "y"
          },
          {
           "hovertemplate": "<b>%{hovertext}</b><br><br>Continent=Oceania<br>Year=2013<br>avg_years_of_schooling=%{x}<br>Both sexes=%{marker.size}<extra></extra>",
           "hovertext": [
            "Australia",
            "New Zealand"
           ],
           "ids": [
            "Australia",
            "New Zealand"
           ],
           "legendgroup": "Oceania",
           "marker": {
            "color": "#8C564B",
            "size": [
             60,
             66
            ],
            "sizemode": "area",
            "sizeref": 0.53,
            "symbol": "circle"
           },
           "mode": "markers",
           "name": "Oceania",
           "orientation": "v",
           "showlegend": true,
           "type": "scatter",
           "x": [
            12.6,
            12.1
           ],
           "xaxis": "x",
           "y": [
            60,
            66
           ],
           "yaxis": "y"
          }
         ],
         "name": "2013"
        },
        {
         "data": [
          {
           "hovertemplate": "<b>%{hovertext}</b><br><br>Continent=Asia<br>Year=2014<br>avg_years_of_schooling=%{x}<br>Both sexes=%{marker.size}<extra></extra>",
           "hovertext": [
            "Armenia",
            "Thailand",
            "Georgia",
            "Qatar",
            "Kyrgyzstan",
            "Turkmenistan",
            "Cyprus",
            "Uzbekistan",
            "Kuwait",
            "Singapore",
            "Israel",
            "Bahrain",
            "Kazakhstan",
            "Turkey",
            "Japan",
            "Oman"
           ],
           "ids": [
            "Armenia",
            "Thailand",
            "Georgia",
            "Qatar",
            "Kyrgyzstan",
            "Turkmenistan",
            "Cyprus",
            "Uzbekistan",
            "Kuwait",
            "Singapore",
            "Israel",
            "Bahrain",
            "Kazakhstan",
            "Turkey",
            "Japan",
            "Oman"
           ],
           "legendgroup": "Asia",
           "marker": {
            "color": "#1F77B4",
            "size": [
             118,
             151,
             155,
             64,
             175,
             199,
             61,
             139,
             81,
             55,
             58,
             62,
             199,
             107,
             54,
             100
            ],
            "sizemode": "area",
            "sizeref": 0.53,
            "symbol": "circle"
           },
           "mode": "markers",
           "name": "Asia",
           "orientation": "v",
           "showlegend": true,
           "type": "scatter",
           "x": [
            11.5,
            7.6,
            12.6,
            9.8,
            10.8,
            9.8,
            11.9,
            11.3,
            6.9,
            11.4,
            12.9,
            9.1,
            11.7,
            7.6,
            12.5,
            9.3
           ],
           "xaxis": "x",
           "y": [
            118,
            151,
            155,
            64,
            175,
            199,
            61,
            139,
            81,
            55,
            58,
            62,
            199,
            107,
            54,
            100
           ],
           "yaxis": "y"
          },
          {
           "hovertemplate": "<b>%{hovertext}</b><br><br>Continent=South America<br>Year=2014<br>avg_years_of_schooling=%{x}<br>Both sexes=%{marker.size}<extra></extra>",
           "hovertext": [
            "Chile",
            "Argentina",
            "Paraguay",
            "Ecuador",
            "Uruguay",
            "Colombia",
            "Brazil",
            "Suriname"
           ],
           "ids": [
            "Chile",
            "Argentina",
            "Paraguay",
            "Ecuador",
            "Uruguay",
            "Colombia",
            "Brazil",
            "Suriname"
           ],
           "legendgroup": "South America",
           "marker": {
            "color": "#FF7F0E",
            "size": [
             88,
             113,
             147,
             119,
             114,
             139,
             145,
             184
            ],
            "sizemode": "area",
            "sizeref": 0.53,
            "symbol": "circle"
           },
           "mode": "markers",
           "name": "South America",
           "orientation": "v",
           "showlegend": true,
           "type": "scatter",
           "x": [
            10.1,
            9.8,
            8.2,
            8.5,
            8.6,
            8,
            7.4,
            8.2
           ],
           "xaxis": "x",
           "y": [
            88,
            113,
            147,
            119,
            114,
            139,
            145,
            184
           ],
           "yaxis": "y"
          },
          {
           "hovertemplate": "<b>%{hovertext}</b><br><br>Continent=Europe<br>Year=2014<br>avg_years_of_schooling=%{x}<br>Both sexes=%{marker.size}<extra></extra>",
           "hovertext": [
            "Ukraine",
            "Luxembourg",
            "Bosnia and Herzegovina",
            "Switzerland",
            "Ireland",
            "Lithuania",
            "Portugal",
            "Denmark",
            "Germany",
            "Latvia",
            "Norway",
            "Estonia",
            "Greece",
            "Romania",
            "Poland",
            "Sweden",
            "Spain",
            "Italy",
            "Slovakia",
            "Finland",
            "Iceland",
            "Croatia",
            "Belgium",
            "Austria",
            "Slovenia",
            "Malta",
            "Hungary",
            "Netherlands",
            "Serbia",
            "France",
            "Bulgaria",
            "Belarus"
           ],
           "ids": [
            "Ukraine",
            "Luxembourg",
            "Bosnia and Herzegovina",
            "Switzerland",
            "Ireland",
            "Lithuania",
            "Portugal",
            "Denmark",
            "Germany",
            "Latvia",
            "Norway",
            "Estonia",
            "Greece",
            "Romania",
            "Poland",
            "Sweden",
            "Spain",
            "Italy",
            "Slovakia",
            "Finland",
            "Iceland",
            "Croatia",
            "Belgium",
            "Austria",
            "Slovenia",
            "Malta",
            "Hungary",
            "Netherlands",
            "Serbia",
            "France",
            "Bulgaria",
            "Belarus"
           ],
           "legendgroup": "Europe",
           "marker": {
            "color": "#2CA02C",
            "size": [
             212,
             55,
             96,
             50,
             62,
             167,
             77,
             68,
             70,
             159,
             57,
             124,
             67,
             140,
             115,
             55,
             58,
             54,
             109,
             73,
             55,
             94,
             73,
             65,
             70,
             53,
             133,
             59,
             106,
             74,
             141,
             175
            ],
            "sizemode": "area",
            "sizeref": 0.53,
            "symbol": "circle"
           },
           "mode": "markers",
           "name": "Europe",
           "orientation": "v",
           "showlegend": true,
           "type": "scatter",
           "x": [
            11.3,
            12,
            9.2,
            13.4,
            12.3,
            13,
            8.9,
            12.8,
            14,
            12.9,
            12.5,
            12.6,
            10.5,
            10.9,
            11.3,
            12.3,
            9.7,
            10.1,
            12.3,
            12.4,
            12.2,
            11.1,
            11.5,
            12.1,
            11.9,
            11.1,
            11.8,
            12.1,
            10.7,
            11.4,
            10.9,
            12.1
           ],
           "xaxis": "x",
           "y": [
            212,
            55,
            96,
            50,
            62,
            167,
            77,
            68,
            70,
            159,
            57,
            124,
            67,
            140,
            115,
            55,
            58,
            54,
            109,
            73,
            55,
            94,
            73,
            65,
            70,
            53,
            133,
            59,
            106,
            74,
            141,
            175
           ],
           "yaxis": "y"
          },
          {
           "hovertemplate": "<b>%{hovertext}</b><br><br>Continent=Africa<br>Year=2014<br>avg_years_of_schooling=%{x}<br>Both sexes=%{marker.size}<extra></extra>",
           "hovertext": [
            "South Africa",
            "Mauritius",
            "Seychelles"
           ],
           "ids": [
            "South Africa",
            "Mauritius",
            "Seychelles"
           ],
           "legendgroup": "Africa",
           "marker": {
            "color": "#D62728",
            "size": [
             316,
             148,
             168
            ],
            "sizemode": "area",
            "sizeref": 0.53,
            "symbol": "circle"
           },
           "mode": "markers",
           "name": "Africa",
           "orientation": "v",
           "showlegend": true,
           "type": "scatter",
           "x": [
            10,
            9.1,
            9.4
           ],
           "xaxis": "x",
           "y": [
            316,
            148,
            168
           ],
           "yaxis": "y"
          },
          {
           "hovertemplate": "<b>%{hovertext}</b><br><br>Continent=North America<br>Year=2014<br>avg_years_of_schooling=%{x}<br>Both sexes=%{marker.size}<extra></extra>",
           "hovertext": [
            "El Salvador",
            "Saint Lucia",
            "Nicaragua",
            "Belize",
            "Grenada",
            "Costa Rica",
            "Panama",
            "Cuba",
            "Mexico",
            "Guatemala",
            "Antigua and Barbuda"
           ],
           "ids": [
            "El Salvador",
            "Saint Lucia",
            "Nicaragua",
            "Belize",
            "Grenada",
            "Costa Rica",
            "Panama",
            "Cuba",
            "Mexico",
            "Guatemala",
            "Antigua and Barbuda"
           ],
           "legendgroup": "North America",
           "marker": {
            "color": "#9467BD",
            "size": [
             182,
             145,
             150,
             183,
             143,
             95,
             111,
             95,
             129,
             169,
             127
            ],
            "sizemode": "area",
            "sizeref": 0.53,
            "symbol": "circle"
           },
           "mode": "markers",
           "name": "North America",
           "orientation": "v",
           "showlegend": true,
           "type": "scatter",
           "x": [
            6.5,
            8.7,
            6.5,
            10.5,
            8.6,
            8.6,
            9.9,
            11.2,
            8.4,
            6.4,
            9.2
           ],
           "xaxis": "x",
           "y": [
            182,
            145,
            150,
            183,
            143,
            95,
            111,
            95,
            129,
            169,
            127
           ],
           "yaxis": "y"
          },
          {
           "hovertemplate": "<b>%{hovertext}</b><br><br>Continent=Oceania<br>Year=2014<br>avg_years_of_schooling=%{x}<br>Both sexes=%{marker.size}<extra></extra>",
           "hovertext": [
            "Australia"
           ],
           "ids": [
            "Australia"
           ],
           "legendgroup": "Oceania",
           "marker": {
            "color": "#8C564B",
            "size": [
             61
            ],
            "sizemode": "area",
            "sizeref": 0.53,
            "symbol": "circle"
           },
           "mode": "markers",
           "name": "Oceania",
           "orientation": "v",
           "showlegend": true,
           "type": "scatter",
           "x": [
            12.7
           ],
           "xaxis": "x",
           "y": [
            61
           ],
           "yaxis": "y"
          }
         ],
         "name": "2014"
        },
        {
         "data": [
          {
           "hovertemplate": "<b>%{hovertext}</b><br><br>Continent=Asia<br>Year=2015<br>avg_years_of_schooling=%{x}<br>Both sexes=%{marker.size}<extra></extra>",
           "hovertext": [
            "Turkmenistan",
            "Turkey",
            "Israel",
            "Singapore",
            "Japan",
            "Kazakhstan",
            "Kyrgyzstan",
            "Qatar",
            "Thailand",
            "Armenia",
            "Cyprus",
            "Georgia"
           ],
           "ids": [
            "Turkmenistan",
            "Turkey",
            "Israel",
            "Singapore",
            "Japan",
            "Kazakhstan",
            "Kyrgyzstan",
            "Qatar",
            "Thailand",
            "Armenia",
            "Cyprus",
            "Georgia"
           ],
           "legendgroup": "Asia",
           "marker": {
            "color": "#1F77B4",
            "size": [
             198,
             106,
             58,
             54,
             53,
             192,
             167,
             63,
             149,
             121,
             57,
             156
            ],
            "sizemode": "area",
            "sizeref": 0.53,
            "symbol": "circle"
           },
           "mode": "markers",
           "name": "Asia",
           "orientation": "v",
           "showlegend": true,
           "type": "scatter",
           "x": [
            9.8,
            7.8,
            13,
            11.5,
            12.5,
            11.7,
            10.8,
            9.8,
            7.6,
            11.6,
            11.9,
            12.7
           ],
           "xaxis": "x",
           "y": [
            198,
            106,
            58,
            54,
            53,
            192,
            167,
            63,
            149,
            121,
            57,
            156
           ],
           "yaxis": "y"
          },
          {
           "hovertemplate": "<b>%{hovertext}</b><br><br>Continent=South America<br>Year=2015<br>avg_years_of_schooling=%{x}<br>Both sexes=%{marker.size}<extra></extra>",
           "hovertext": [
            "Uruguay",
            "Ecuador",
            "Colombia",
            "Chile",
            "Argentina",
            "Brazil"
           ],
           "ids": [
            "Uruguay",
            "Ecuador",
            "Colombia",
            "Chile",
            "Argentina",
            "Brazil"
           ],
           "legendgroup": "South America",
           "marker": {
            "color": "#FF7F0E",
            "size": [
             114,
             117,
             138,
             88,
             113,
             145
            ],
            "sizemode": "area",
            "sizeref": 0.53,
            "symbol": "circle"
           },
           "mode": "markers",
           "name": "South America",
           "orientation": "v",
           "showlegend": true,
           "type": "scatter",
           "x": [
            8.7,
            8.4,
            8.1,
            10.3,
            9.8,
            7.6
           ],
           "xaxis": "x",
           "y": [
            114,
            117,
            138,
            88,
            113,
            145
           ],
           "yaxis": "y"
          },
          {
           "hovertemplate": "<b>%{hovertext}</b><br><br>Continent=Europe<br>Year=2015<br>avg_years_of_schooling=%{x}<br>Both sexes=%{marker.size}<extra></extra>",
           "hovertext": [
            "Ukraine",
            "Estonia",
            "Finland",
            "Netherlands",
            "Spain",
            "Denmark",
            "Austria",
            "Slovenia",
            "Croatia",
            "Belgium",
            "Italy",
            "Malta",
            "Serbia",
            "Poland",
            "Romania",
            "Latvia",
            "Luxembourg",
            "Lithuania",
            "Iceland",
            "Norway",
            "Switzerland",
            "Hungary",
            "Greece",
            "Germany",
            "Sweden"
           ],
           "ids": [
            "Ukraine",
            "Estonia",
            "Finland",
            "Netherlands",
            "Spain",
            "Denmark",
            "Austria",
            "Slovenia",
            "Croatia",
            "Belgium",
            "Italy",
            "Malta",
            "Serbia",
            "Poland",
            "Romania",
            "Latvia",
            "Luxembourg",
            "Lithuania",
            "Iceland",
            "Norway",
            "Switzerland",
            "Hungary",
            "Greece",
            "Germany",
            "Sweden"
           ],
           "legendgroup": "Europe",
           "marker": {
            "color": "#2CA02C",
            "size": [
             188,
             116,
             70,
             58,
             58,
             66,
             64,
             74,
             96,
             72,
             55,
             55,
             106,
             115,
             136,
             154,
             52,
             165,
             54,
             54,
             50,
             132,
             68,
             71,
             54
            ],
            "sizemode": "area",
            "sizeref": 0.53,
            "symbol": "circle"
           },
           "mode": "markers",
           "name": "Europe",
           "orientation": "v",
           "showlegend": true,
           "type": "scatter",
           "x": [
            11.3,
            12.7,
            12.4,
            12.1,
            9.7,
            12.5,
            12.1,
            12,
            11.2,
            11.7,
            10.2,
            11.2,
            11,
            12.1,
            10.9,
            12.8,
            12,
            13,
            12.2,
            12.5,
            13.4,
            11.8,
            10.6,
            14.1,
            12.4
           ],
           "xaxis": "x",
           "y": [
            188,
            116,
            70,
            58,
            58,
            66,
            64,
            74,
            96,
            72,
            55,
            55,
            106,
            115,
            136,
            154,
            52,
            165,
            54,
            54,
            50,
            132,
            68,
            71,
            54
           ],
           "yaxis": "y"
          },
          {
           "hovertemplate": "<b>%{hovertext}</b><br><br>Continent=Africa<br>Year=2015<br>avg_years_of_schooling=%{x}<br>Both sexes=%{marker.size}<extra></extra>",
           "hovertext": [
            "South Africa",
            "Mauritius",
            "Seychelles"
           ],
           "ids": [
            "South Africa",
            "Mauritius",
            "Seychelles"
           ],
           "legendgroup": "Africa",
           "marker": {
            "color": "#D62728",
            "size": [
             305,
             148,
             166
            ],
            "sizemode": "area",
            "sizeref": 0.53,
            "symbol": "circle"
           },
           "mode": "markers",
           "name": "Africa",
           "orientation": "v",
           "showlegend": true,
           "type": "scatter",
           "x": [
            10.1,
            9.1,
            9.5
           ],
           "xaxis": "x",
           "y": [
            305,
            148,
            166
           ],
           "yaxis": "y"
          },
          {
           "hovertemplate": "<b>%{hovertext}</b><br><br>Continent=North America<br>Year=2015<br>avg_years_of_schooling=%{x}<br>Both sexes=%{marker.size}<extra></extra>",
           "hovertext": [
            "Belize",
            "Nicaragua",
            "Antigua and Barbuda",
            "Panama",
            "Grenada",
            "Mexico",
            "Guatemala",
            "Cuba"
           ],
           "ids": [
            "Belize",
            "Nicaragua",
            "Antigua and Barbuda",
            "Panama",
            "Grenada",
            "Mexico",
            "Guatemala",
            "Cuba"
           ],
           "legendgroup": "North America",
           "marker": {
            "color": "#9467BD",
            "size": [
             182,
             148,
             122,
             112,
             141,
             128,
             165,
             94
            ],
            "sizemode": "area",
            "sizeref": 0.53,
            "symbol": "circle"
           },
           "mode": "markers",
           "name": "North America",
           "orientation": "v",
           "showlegend": true,
           "type": "scatter",
           "x": [
            10.5,
            6.5,
            9.2,
            9.9,
            8.7,
            8.6,
            6.3,
            11.4
           ],
           "xaxis": "x",
           "y": [
            182,
            148,
            122,
            112,
            141,
            128,
            165,
            94
           ],
           "yaxis": "y"
          },
          {
           "hovertemplate": "<b>%{hovertext}</b><br><br>Continent=Oceania<br>Year=2015<br>avg_years_of_schooling=%{x}<br>Both sexes=%{marker.size}<extra></extra>",
           "hovertext": [
            "Australia"
           ],
           "ids": [
            "Australia"
           ],
           "legendgroup": "Oceania",
           "marker": {
            "color": "#8C564B",
            "size": [
             62
            ],
            "sizemode": "area",
            "sizeref": 0.53,
            "symbol": "circle"
           },
           "mode": "markers",
           "name": "Oceania",
           "orientation": "v",
           "showlegend": true,
           "type": "scatter",
           "x": [
            12.8
           ],
           "xaxis": "x",
           "y": [
            62
           ],
           "yaxis": "y"
          }
         ],
         "name": "2015"
        },
        {
         "data": [
          {
           "hovertemplate": "<b>%{hovertext}</b><br><br>Continent=Asia<br>Year=2016<br>avg_years_of_schooling=%{x}<br>Both sexes=%{marker.size}<extra></extra>",
           "hovertext": [
            "Thailand",
            "Qatar",
            "Armenia",
            "Mongolia",
            "Cyprus"
           ],
           "ids": [
            "Thailand",
            "Qatar",
            "Armenia",
            "Mongolia",
            "Cyprus"
           ],
           "legendgroup": "Asia",
           "marker": {
            "color": "#1F77B4",
            "size": [
             147,
             62,
             116,
             211,
             55
            ],
            "sizemode": "area",
            "sizeref": 0.53,
            "symbol": "circle"
           },
           "mode": "markers",
           "name": "Asia",
           "orientation": "v",
           "showlegend": true,
           "type": "scatter",
           "x": [
            7.6,
            9.8,
            11.7,
            10.1,
            12.1
           ],
           "xaxis": "x",
           "y": [
            147,
            62,
            116,
            211,
            55
           ],
           "yaxis": "y"
          },
          {
           "hovertemplate": "<b>%{hovertext}</b><br><br>Continent=Europe<br>Year=2016<br>avg_years_of_schooling=%{x}<br>Both sexes=%{marker.size}<extra></extra>",
           "hovertext": [
            "Romania",
            "Hungary",
            "Netherlands",
            "Croatia",
            "Sweden",
            "Austria",
            "Iceland",
            "Lithuania"
           ],
           "ids": [
            "Romania",
            "Hungary",
            "Netherlands",
            "Croatia",
            "Sweden",
            "Austria",
            "Iceland",
            "Lithuania"
           ],
           "legendgroup": "Europe",
           "marker": {
            "color": "#2CA02C",
            "size": [
             135,
             126,
             59,
             88,
             52,
             62,
             55,
             155
            ],
            "sizemode": "area",
            "sizeref": 0.53,
            "symbol": "circle"
           },
           "mode": "markers",
           "name": "Europe",
           "orientation": "v",
           "showlegend": true,
           "type": "scatter",
           "x": [
            11,
            11.9,
            12.1,
            11.3,
            12.4,
            12.1,
            12.4,
            13
           ],
           "xaxis": "x",
           "y": [
            135,
            126,
            59,
            88,
            52,
            62,
            55,
            155
           ],
           "yaxis": "y"
          },
          {
           "hovertemplate": "<b>%{hovertext}</b><br><br>Continent=Africa<br>Year=2016<br>avg_years_of_schooling=%{x}<br>Both sexes=%{marker.size}<extra></extra>",
           "hovertext": [
            "Mauritius"
           ],
           "ids": [
            "Mauritius"
           ],
           "legendgroup": "Africa",
           "marker": {
            "color": "#D62728",
            "size": [
             145
            ],
            "sizemode": "area",
            "sizeref": 0.53,
            "symbol": "circle"
           },
           "mode": "markers",
           "name": "Africa",
           "orientation": "v",
           "showlegend": true,
           "type": "scatter",
           "x": [
            9.3
           ],
           "xaxis": "x",
           "y": [
            145
           ],
           "yaxis": "y"
          },
          {
           "hovertemplate": "<b>%{hovertext}</b><br><br>Continent=North America<br>Year=2016<br>avg_years_of_schooling=%{x}<br>Both sexes=%{marker.size}<extra></extra>",
           "hovertext": [
            "Grenada"
           ],
           "ids": [
            "Grenada"
           ],
           "legendgroup": "North America",
           "marker": {
            "color": "#9467BD",
            "size": [
             140
            ],
            "sizemode": "area",
            "sizeref": 0.53,
            "symbol": "circle"
           },
           "mode": "markers",
           "name": "North America",
           "orientation": "v",
           "showlegend": true,
           "type": "scatter",
           "x": [
            8.7
           ],
           "xaxis": "x",
           "y": [
            140
           ],
           "yaxis": "y"
          }
         ],
         "name": "2016"
        }
       ],
       "layout": {
        "height": 700,
        "legend": {
         "itemsizing": "constant",
         "title": {
          "text": "Continent"
         },
         "tracegroupgap": 0
        },
        "margin": {
         "t": 60
        },
        "sliders": [
         {
          "active": 0,
          "currentvalue": {
           "prefix": "Year="
          },
          "len": 0.9,
          "pad": {
           "b": 10,
           "t": 60
          },
          "steps": [
           {
            "args": [
             [
              "2000"
             ],
             {
              "frame": {
               "duration": 0,
               "redraw": false
              },
              "fromcurrent": true,
              "mode": "immediate",
              "transition": {
               "duration": 0,
               "easing": "linear"
              }
             }
            ],
            "label": "2000",
            "method": "animate"
           },
           {
            "args": [
             [
              "2001"
             ],
             {
              "frame": {
               "duration": 0,
               "redraw": false
              },
              "fromcurrent": true,
              "mode": "immediate",
              "transition": {
               "duration": 0,
               "easing": "linear"
              }
             }
            ],
            "label": "2001",
            "method": "animate"
           },
           {
            "args": [
             [
              "2002"
             ],
             {
              "frame": {
               "duration": 0,
               "redraw": false
              },
              "fromcurrent": true,
              "mode": "immediate",
              "transition": {
               "duration": 0,
               "easing": "linear"
              }
             }
            ],
            "label": "2002",
            "method": "animate"
           },
           {
            "args": [
             [
              "2003"
             ],
             {
              "frame": {
               "duration": 0,
               "redraw": false
              },
              "fromcurrent": true,
              "mode": "immediate",
              "transition": {
               "duration": 0,
               "easing": "linear"
              }
             }
            ],
            "label": "2003",
            "method": "animate"
           },
           {
            "args": [
             [
              "2004"
             ],
             {
              "frame": {
               "duration": 0,
               "redraw": false
              },
              "fromcurrent": true,
              "mode": "immediate",
              "transition": {
               "duration": 0,
               "easing": "linear"
              }
             }
            ],
            "label": "2004",
            "method": "animate"
           },
           {
            "args": [
             [
              "2005"
             ],
             {
              "frame": {
               "duration": 0,
               "redraw": false
              },
              "fromcurrent": true,
              "mode": "immediate",
              "transition": {
               "duration": 0,
               "easing": "linear"
              }
             }
            ],
            "label": "2005",
            "method": "animate"
           },
           {
            "args": [
             [
              "2006"
             ],
             {
              "frame": {
               "duration": 0,
               "redraw": false
              },
              "fromcurrent": true,
              "mode": "immediate",
              "transition": {
               "duration": 0,
               "easing": "linear"
              }
             }
            ],
            "label": "2006",
            "method": "animate"
           },
           {
            "args": [
             [
              "2007"
             ],
             {
              "frame": {
               "duration": 0,
               "redraw": false
              },
              "fromcurrent": true,
              "mode": "immediate",
              "transition": {
               "duration": 0,
               "easing": "linear"
              }
             }
            ],
            "label": "2007",
            "method": "animate"
           },
           {
            "args": [
             [
              "2008"
             ],
             {
              "frame": {
               "duration": 0,
               "redraw": false
              },
              "fromcurrent": true,
              "mode": "immediate",
              "transition": {
               "duration": 0,
               "easing": "linear"
              }
             }
            ],
            "label": "2008",
            "method": "animate"
           },
           {
            "args": [
             [
              "2009"
             ],
             {
              "frame": {
               "duration": 0,
               "redraw": false
              },
              "fromcurrent": true,
              "mode": "immediate",
              "transition": {
               "duration": 0,
               "easing": "linear"
              }
             }
            ],
            "label": "2009",
            "method": "animate"
           },
           {
            "args": [
             [
              "2010"
             ],
             {
              "frame": {
               "duration": 0,
               "redraw": false
              },
              "fromcurrent": true,
              "mode": "immediate",
              "transition": {
               "duration": 0,
               "easing": "linear"
              }
             }
            ],
            "label": "2010",
            "method": "animate"
           },
           {
            "args": [
             [
              "2011"
             ],
             {
              "frame": {
               "duration": 0,
               "redraw": false
              },
              "fromcurrent": true,
              "mode": "immediate",
              "transition": {
               "duration": 0,
               "easing": "linear"
              }
             }
            ],
            "label": "2011",
            "method": "animate"
           },
           {
            "args": [
             [
              "2012"
             ],
             {
              "frame": {
               "duration": 0,
               "redraw": false
              },
              "fromcurrent": true,
              "mode": "immediate",
              "transition": {
               "duration": 0,
               "easing": "linear"
              }
             }
            ],
            "label": "2012",
            "method": "animate"
           },
           {
            "args": [
             [
              "2013"
             ],
             {
              "frame": {
               "duration": 0,
               "redraw": false
              },
              "fromcurrent": true,
              "mode": "immediate",
              "transition": {
               "duration": 0,
               "easing": "linear"
              }
             }
            ],
            "label": "2013",
            "method": "animate"
           },
           {
            "args": [
             [
              "2014"
             ],
             {
              "frame": {
               "duration": 0,
               "redraw": false
              },
              "fromcurrent": true,
              "mode": "immediate",
              "transition": {
               "duration": 0,
               "easing": "linear"
              }
             }
            ],
            "label": "2014",
            "method": "animate"
           },
           {
            "args": [
             [
              "2015"
             ],
             {
              "frame": {
               "duration": 0,
               "redraw": false
              },
              "fromcurrent": true,
              "mode": "immediate",
              "transition": {
               "duration": 0,
               "easing": "linear"
              }
             }
            ],
            "label": "2015",
            "method": "animate"
           },
           {
            "args": [
             [
              "2016"
             ],
             {
              "frame": {
               "duration": 0,
               "redraw": false
              },
              "fromcurrent": true,
              "mode": "immediate",
              "transition": {
               "duration": 0,
               "easing": "linear"
              }
             }
            ],
            "label": "2016",
            "method": "animate"
           }
          ],
          "x": 0.1,
          "xanchor": "left",
          "y": 0,
          "yanchor": "top"
         }
        ],
        "template": {
         "data": {
          "bar": [
           {
            "error_x": {
             "color": "rgb(36,36,36)"
            },
            "error_y": {
             "color": "rgb(36,36,36)"
            },
            "marker": {
             "line": {
              "color": "white",
              "width": 0.5
             },
             "pattern": {
              "fillmode": "overlay",
              "size": 10,
              "solidity": 0.2
             }
            },
            "type": "bar"
           }
          ],
          "barpolar": [
           {
            "marker": {
             "line": {
              "color": "white",
              "width": 0.5
             },
             "pattern": {
              "fillmode": "overlay",
              "size": 10,
              "solidity": 0.2
             }
            },
            "type": "barpolar"
           }
          ],
          "carpet": [
           {
            "aaxis": {
             "endlinecolor": "rgb(36,36,36)",
             "gridcolor": "white",
             "linecolor": "white",
             "minorgridcolor": "white",
             "startlinecolor": "rgb(36,36,36)"
            },
            "baxis": {
             "endlinecolor": "rgb(36,36,36)",
             "gridcolor": "white",
             "linecolor": "white",
             "minorgridcolor": "white",
             "startlinecolor": "rgb(36,36,36)"
            },
            "type": "carpet"
           }
          ],
          "choropleth": [
           {
            "colorbar": {
             "outlinewidth": 1,
             "tickcolor": "rgb(36,36,36)",
             "ticks": "outside"
            },
            "type": "choropleth"
           }
          ],
          "contour": [
           {
            "colorbar": {
             "outlinewidth": 1,
             "tickcolor": "rgb(36,36,36)",
             "ticks": "outside"
            },
            "colorscale": [
             [
              0,
              "#440154"
             ],
             [
              0.1111111111111111,
              "#482878"
             ],
             [
              0.2222222222222222,
              "#3e4989"
             ],
             [
              0.3333333333333333,
              "#31688e"
             ],
             [
              0.4444444444444444,
              "#26828e"
             ],
             [
              0.5555555555555556,
              "#1f9e89"
             ],
             [
              0.6666666666666666,
              "#35b779"
             ],
             [
              0.7777777777777778,
              "#6ece58"
             ],
             [
              0.8888888888888888,
              "#b5de2b"
             ],
             [
              1,
              "#fde725"
             ]
            ],
            "type": "contour"
           }
          ],
          "contourcarpet": [
           {
            "colorbar": {
             "outlinewidth": 1,
             "tickcolor": "rgb(36,36,36)",
             "ticks": "outside"
            },
            "type": "contourcarpet"
           }
          ],
          "heatmap": [
           {
            "colorbar": {
             "outlinewidth": 1,
             "tickcolor": "rgb(36,36,36)",
             "ticks": "outside"
            },
            "colorscale": [
             [
              0,
              "#440154"
             ],
             [
              0.1111111111111111,
              "#482878"
             ],
             [
              0.2222222222222222,
              "#3e4989"
             ],
             [
              0.3333333333333333,
              "#31688e"
             ],
             [
              0.4444444444444444,
              "#26828e"
             ],
             [
              0.5555555555555556,
              "#1f9e89"
             ],
             [
              0.6666666666666666,
              "#35b779"
             ],
             [
              0.7777777777777778,
              "#6ece58"
             ],
             [
              0.8888888888888888,
              "#b5de2b"
             ],
             [
              1,
              "#fde725"
             ]
            ],
            "type": "heatmap"
           }
          ],
          "heatmapgl": [
           {
            "colorbar": {
             "outlinewidth": 1,
             "tickcolor": "rgb(36,36,36)",
             "ticks": "outside"
            },
            "colorscale": [
             [
              0,
              "#440154"
             ],
             [
              0.1111111111111111,
              "#482878"
             ],
             [
              0.2222222222222222,
              "#3e4989"
             ],
             [
              0.3333333333333333,
              "#31688e"
             ],
             [
              0.4444444444444444,
              "#26828e"
             ],
             [
              0.5555555555555556,
              "#1f9e89"
             ],
             [
              0.6666666666666666,
              "#35b779"
             ],
             [
              0.7777777777777778,
              "#6ece58"
             ],
             [
              0.8888888888888888,
              "#b5de2b"
             ],
             [
              1,
              "#fde725"
             ]
            ],
            "type": "heatmapgl"
           }
          ],
          "histogram": [
           {
            "marker": {
             "line": {
              "color": "white",
              "width": 0.6
             }
            },
            "type": "histogram"
           }
          ],
          "histogram2d": [
           {
            "colorbar": {
             "outlinewidth": 1,
             "tickcolor": "rgb(36,36,36)",
             "ticks": "outside"
            },
            "colorscale": [
             [
              0,
              "#440154"
             ],
             [
              0.1111111111111111,
              "#482878"
             ],
             [
              0.2222222222222222,
              "#3e4989"
             ],
             [
              0.3333333333333333,
              "#31688e"
             ],
             [
              0.4444444444444444,
              "#26828e"
             ],
             [
              0.5555555555555556,
              "#1f9e89"
             ],
             [
              0.6666666666666666,
              "#35b779"
             ],
             [
              0.7777777777777778,
              "#6ece58"
             ],
             [
              0.8888888888888888,
              "#b5de2b"
             ],
             [
              1,
              "#fde725"
             ]
            ],
            "type": "histogram2d"
           }
          ],
          "histogram2dcontour": [
           {
            "colorbar": {
             "outlinewidth": 1,
             "tickcolor": "rgb(36,36,36)",
             "ticks": "outside"
            },
            "colorscale": [
             [
              0,
              "#440154"
             ],
             [
              0.1111111111111111,
              "#482878"
             ],
             [
              0.2222222222222222,
              "#3e4989"
             ],
             [
              0.3333333333333333,
              "#31688e"
             ],
             [
              0.4444444444444444,
              "#26828e"
             ],
             [
              0.5555555555555556,
              "#1f9e89"
             ],
             [
              0.6666666666666666,
              "#35b779"
             ],
             [
              0.7777777777777778,
              "#6ece58"
             ],
             [
              0.8888888888888888,
              "#b5de2b"
             ],
             [
              1,
              "#fde725"
             ]
            ],
            "type": "histogram2dcontour"
           }
          ],
          "mesh3d": [
           {
            "colorbar": {
             "outlinewidth": 1,
             "tickcolor": "rgb(36,36,36)",
             "ticks": "outside"
            },
            "type": "mesh3d"
           }
          ],
          "parcoords": [
           {
            "line": {
             "colorbar": {
              "outlinewidth": 1,
              "tickcolor": "rgb(36,36,36)",
              "ticks": "outside"
             }
            },
            "type": "parcoords"
           }
          ],
          "pie": [
           {
            "automargin": true,
            "type": "pie"
           }
          ],
          "scatter": [
           {
            "fillpattern": {
             "fillmode": "overlay",
             "size": 10,
             "solidity": 0.2
            },
            "type": "scatter"
           }
          ],
          "scatter3d": [
           {
            "line": {
             "colorbar": {
              "outlinewidth": 1,
              "tickcolor": "rgb(36,36,36)",
              "ticks": "outside"
             }
            },
            "marker": {
             "colorbar": {
              "outlinewidth": 1,
              "tickcolor": "rgb(36,36,36)",
              "ticks": "outside"
             }
            },
            "type": "scatter3d"
           }
          ],
          "scattercarpet": [
           {
            "marker": {
             "colorbar": {
              "outlinewidth": 1,
              "tickcolor": "rgb(36,36,36)",
              "ticks": "outside"
             }
            },
            "type": "scattercarpet"
           }
          ],
          "scattergeo": [
           {
            "marker": {
             "colorbar": {
              "outlinewidth": 1,
              "tickcolor": "rgb(36,36,36)",
              "ticks": "outside"
             }
            },
            "type": "scattergeo"
           }
          ],
          "scattergl": [
           {
            "marker": {
             "colorbar": {
              "outlinewidth": 1,
              "tickcolor": "rgb(36,36,36)",
              "ticks": "outside"
             }
            },
            "type": "scattergl"
           }
          ],
          "scattermapbox": [
           {
            "marker": {
             "colorbar": {
              "outlinewidth": 1,
              "tickcolor": "rgb(36,36,36)",
              "ticks": "outside"
             }
            },
            "type": "scattermapbox"
           }
          ],
          "scatterpolar": [
           {
            "marker": {
             "colorbar": {
              "outlinewidth": 1,
              "tickcolor": "rgb(36,36,36)",
              "ticks": "outside"
             }
            },
            "type": "scatterpolar"
           }
          ],
          "scatterpolargl": [
           {
            "marker": {
             "colorbar": {
              "outlinewidth": 1,
              "tickcolor": "rgb(36,36,36)",
              "ticks": "outside"
             }
            },
            "type": "scatterpolargl"
           }
          ],
          "scatterternary": [
           {
            "marker": {
             "colorbar": {
              "outlinewidth": 1,
              "tickcolor": "rgb(36,36,36)",
              "ticks": "outside"
             }
            },
            "type": "scatterternary"
           }
          ],
          "surface": [
           {
            "colorbar": {
             "outlinewidth": 1,
             "tickcolor": "rgb(36,36,36)",
             "ticks": "outside"
            },
            "colorscale": [
             [
              0,
              "#440154"
             ],
             [
              0.1111111111111111,
              "#482878"
             ],
             [
              0.2222222222222222,
              "#3e4989"
             ],
             [
              0.3333333333333333,
              "#31688e"
             ],
             [
              0.4444444444444444,
              "#26828e"
             ],
             [
              0.5555555555555556,
              "#1f9e89"
             ],
             [
              0.6666666666666666,
              "#35b779"
             ],
             [
              0.7777777777777778,
              "#6ece58"
             ],
             [
              0.8888888888888888,
              "#b5de2b"
             ],
             [
              1,
              "#fde725"
             ]
            ],
            "type": "surface"
           }
          ],
          "table": [
           {
            "cells": {
             "fill": {
              "color": "rgb(237,237,237)"
             },
             "line": {
              "color": "white"
             }
            },
            "header": {
             "fill": {
              "color": "rgb(217,217,217)"
             },
             "line": {
              "color": "white"
             }
            },
            "type": "table"
           }
          ]
         },
         "layout": {
          "annotationdefaults": {
           "arrowhead": 0,
           "arrowwidth": 1
          },
          "autotypenumbers": "strict",
          "coloraxis": {
           "colorbar": {
            "outlinewidth": 1,
            "tickcolor": "rgb(36,36,36)",
            "ticks": "outside"
           }
          },
          "colorscale": {
           "diverging": [
            [
             0,
             "rgb(103,0,31)"
            ],
            [
             0.1,
             "rgb(178,24,43)"
            ],
            [
             0.2,
             "rgb(214,96,77)"
            ],
            [
             0.3,
             "rgb(244,165,130)"
            ],
            [
             0.4,
             "rgb(253,219,199)"
            ],
            [
             0.5,
             "rgb(247,247,247)"
            ],
            [
             0.6,
             "rgb(209,229,240)"
            ],
            [
             0.7,
             "rgb(146,197,222)"
            ],
            [
             0.8,
             "rgb(67,147,195)"
            ],
            [
             0.9,
             "rgb(33,102,172)"
            ],
            [
             1,
             "rgb(5,48,97)"
            ]
           ],
           "sequential": [
            [
             0,
             "#440154"
            ],
            [
             0.1111111111111111,
             "#482878"
            ],
            [
             0.2222222222222222,
             "#3e4989"
            ],
            [
             0.3333333333333333,
             "#31688e"
            ],
            [
             0.4444444444444444,
             "#26828e"
            ],
            [
             0.5555555555555556,
             "#1f9e89"
            ],
            [
             0.6666666666666666,
             "#35b779"
            ],
            [
             0.7777777777777778,
             "#6ece58"
            ],
            [
             0.8888888888888888,
             "#b5de2b"
            ],
            [
             1,
             "#fde725"
            ]
           ],
           "sequentialminus": [
            [
             0,
             "#440154"
            ],
            [
             0.1111111111111111,
             "#482878"
            ],
            [
             0.2222222222222222,
             "#3e4989"
            ],
            [
             0.3333333333333333,
             "#31688e"
            ],
            [
             0.4444444444444444,
             "#26828e"
            ],
            [
             0.5555555555555556,
             "#1f9e89"
            ],
            [
             0.6666666666666666,
             "#35b779"
            ],
            [
             0.7777777777777778,
             "#6ece58"
            ],
            [
             0.8888888888888888,
             "#b5de2b"
            ],
            [
             1,
             "#fde725"
            ]
           ]
          },
          "colorway": [
           "#1F77B4",
           "#FF7F0E",
           "#2CA02C",
           "#D62728",
           "#9467BD",
           "#8C564B",
           "#E377C2",
           "#7F7F7F",
           "#BCBD22",
           "#17BECF"
          ],
          "font": {
           "color": "rgb(36,36,36)"
          },
          "geo": {
           "bgcolor": "white",
           "lakecolor": "white",
           "landcolor": "white",
           "showlakes": true,
           "showland": true,
           "subunitcolor": "white"
          },
          "hoverlabel": {
           "align": "left"
          },
          "hovermode": "closest",
          "mapbox": {
           "style": "light"
          },
          "paper_bgcolor": "white",
          "plot_bgcolor": "white",
          "polar": {
           "angularaxis": {
            "gridcolor": "rgb(232,232,232)",
            "linecolor": "rgb(36,36,36)",
            "showgrid": false,
            "showline": true,
            "ticks": "outside"
           },
           "bgcolor": "white",
           "radialaxis": {
            "gridcolor": "rgb(232,232,232)",
            "linecolor": "rgb(36,36,36)",
            "showgrid": false,
            "showline": true,
            "ticks": "outside"
           }
          },
          "scene": {
           "xaxis": {
            "backgroundcolor": "white",
            "gridcolor": "rgb(232,232,232)",
            "gridwidth": 2,
            "linecolor": "rgb(36,36,36)",
            "showbackground": true,
            "showgrid": false,
            "showline": true,
            "ticks": "outside",
            "zeroline": false,
            "zerolinecolor": "rgb(36,36,36)"
           },
           "yaxis": {
            "backgroundcolor": "white",
            "gridcolor": "rgb(232,232,232)",
            "gridwidth": 2,
            "linecolor": "rgb(36,36,36)",
            "showbackground": true,
            "showgrid": false,
            "showline": true,
            "ticks": "outside",
            "zeroline": false,
            "zerolinecolor": "rgb(36,36,36)"
           },
           "zaxis": {
            "backgroundcolor": "white",
            "gridcolor": "rgb(232,232,232)",
            "gridwidth": 2,
            "linecolor": "rgb(36,36,36)",
            "showbackground": true,
            "showgrid": false,
            "showline": true,
            "ticks": "outside",
            "zeroline": false,
            "zerolinecolor": "rgb(36,36,36)"
           }
          },
          "shapedefaults": {
           "fillcolor": "black",
           "line": {
            "width": 0
           },
           "opacity": 0.3
          },
          "ternary": {
           "aaxis": {
            "gridcolor": "rgb(232,232,232)",
            "linecolor": "rgb(36,36,36)",
            "showgrid": false,
            "showline": true,
            "ticks": "outside"
           },
           "baxis": {
            "gridcolor": "rgb(232,232,232)",
            "linecolor": "rgb(36,36,36)",
            "showgrid": false,
            "showline": true,
            "ticks": "outside"
           },
           "bgcolor": "white",
           "caxis": {
            "gridcolor": "rgb(232,232,232)",
            "linecolor": "rgb(36,36,36)",
            "showgrid": false,
            "showline": true,
            "ticks": "outside"
           }
          },
          "title": {
           "x": 0.05
          },
          "xaxis": {
           "automargin": true,
           "gridcolor": "rgb(232,232,232)",
           "linecolor": "rgb(36,36,36)",
           "showgrid": false,
           "showline": true,
           "ticks": "outside",
           "title": {
            "standoff": 15
           },
           "zeroline": false,
           "zerolinecolor": "rgb(36,36,36)"
          },
          "yaxis": {
           "automargin": true,
           "gridcolor": "rgb(232,232,232)",
           "linecolor": "rgb(36,36,36)",
           "showgrid": false,
           "showline": true,
           "ticks": "outside",
           "title": {
            "standoff": 15
           },
           "zeroline": false,
           "zerolinecolor": "rgb(36,36,36)"
          }
         }
        },
        "updatemenus": [
         {
          "buttons": [
           {
            "args": [
             null,
             {
              "frame": {
               "duration": 500,
               "redraw": false
              },
              "fromcurrent": true,
              "mode": "immediate",
              "transition": {
               "duration": 500,
               "easing": "linear"
              }
             }
            ],
            "label": "&#9654;",
            "method": "animate"
           },
           {
            "args": [
             [
              null
             ],
             {
              "frame": {
               "duration": 0,
               "redraw": false
              },
              "fromcurrent": true,
              "mode": "immediate",
              "transition": {
               "duration": 0,
               "easing": "linear"
              }
             }
            ],
            "label": "&#9724;",
            "method": "animate"
           }
          ],
          "direction": "left",
          "pad": {
           "r": 10,
           "t": 70
          },
          "showactive": false,
          "type": "buttons",
          "x": 0.1,
          "xanchor": "right",
          "y": 0,
          "yanchor": "top"
         }
        ],
        "width": 1000,
        "xaxis": {
         "anchor": "y",
         "domain": [
          0,
          1
         ],
         "title": {
          "text": "avg_years_of_schooling"
         }
        },
        "yaxis": {
         "anchor": "x",
         "domain": [
          0,
          1
         ],
         "title": {
          "text": "Both sexes"
         }
        }
       }
      }
     },
     "metadata": {},
     "output_type": "display_data"
    }
   ],
   "source": [
    "import plotly.express as px\n",
    "px.scatter(final_df_2, x='avg_years_of_schooling', y='Both sexes',\n",
    "           size='Both sexes', size_max=30, color='Continent', animation_frame='Year', animation_group=\"Country\",\n",
    "           template='simple_white', width=1000, height=700,hover_name='Country')\n"
   ]
  },
  {
   "cell_type": "code",
   "execution_count": 124,
   "metadata": {},
   "outputs": [
    {
     "data": {
      "application/vnd.plotly.v1+json": {
       "config": {
        "plotlyServerURL": "https://plot.ly"
       },
       "data": [
        {
         "hovertemplate": "<b>%{hovertext}</b><br><br>Continent=Asia<br>Year=2000<br>avg_years_of_schooling=%{x}<br>suicides_per_100k=%{y}<br>Both sexes=%{marker.size}<extra></extra>",
         "hovertext": [
          "Uzbekistan",
          "Maldives",
          "Philippines",
          "Bahrain",
          "Azerbaijan",
          "Singapore",
          "Cyprus",
          "Georgia",
          "Israel",
          "Japan",
          "Kazakhstan",
          "Kuwait",
          "Kyrgyzstan",
          "Armenia",
          "Sri Lanka",
          "Thailand"
         ],
         "ids": [
          "Uzbekistan",
          "Maldives",
          "Philippines",
          "Bahrain",
          "Azerbaijan",
          "Singapore",
          "Cyprus",
          "Georgia",
          "Israel",
          "Japan",
          "Kazakhstan",
          "Kuwait",
          "Kyrgyzstan",
          "Armenia",
          "Sri Lanka",
          "Thailand"
         ],
         "legendgroup": "Asia",
         "marker": {
          "color": "#1F77B4",
          "size": [
           183,
           142,
           213,
           101,
           161,
           79,
           80,
           129,
           80,
           72,
           287,
           94,
           228,
           143,
           171,
           204
          ],
          "sizemode": "area",
          "sizeref": 0.53,
          "symbol": "circle"
         },
         "mode": "markers",
         "name": "Asia",
         "orientation": "v",
         "showlegend": true,
         "type": "scatter",
         "x": [
          9.1,
          3,
          7.6,
          8.3,
          10.6,
          8.9,
          10,
          11.7,
          12,
          10.7,
          10.5,
          6.2,
          9.8,
          10.8,
          10,
          6.1
         ],
         "xaxis": "x",
         "y": [
          120.31,
          0,
          32.21,
          32.730000000000004,
          14.41,
          164.34,
          8.36,
          46.64,
          108.56,
          278.52,
          426.05,
          15.23,
          182.63,
          34.300000000000004,
          427.29,
          106.1
         ],
         "yaxis": "y"
        },
        {
         "hovertemplate": "<b>%{hovertext}</b><br><br>Continent=South America<br>Year=2000<br>avg_years_of_schooling=%{x}<br>suicides_per_100k=%{y}<br>Both sexes=%{marker.size}<extra></extra>",
         "hovertext": [
          "Brazil",
          "Paraguay",
          "Colombia",
          "Chile",
          "Ecuador",
          "Argentina",
          "Uruguay"
         ],
         "ids": [
          "Brazil",
          "Paraguay",
          "Colombia",
          "Chile",
          "Ecuador",
          "Argentina",
          "Uruguay"
         ],
         "legendgroup": "South America",
         "marker": {
          "color": "#FF7F0E",
          "size": [
           184,
           171,
           171,
           103,
           160,
           139,
           134
          ],
          "sizemode": "area",
          "sizeref": 0.53,
          "symbol": "circle"
         },
         "mode": "markers",
         "name": "South America",
         "orientation": "v",
         "showlegend": true,
         "type": "scatter",
         "x": [
          5.6,
          5.9,
          6.5,
          8.8,
          7,
          9.1,
          8
         ],
         "xaxis": "x",
         "y": [
          68.23,
          42.78,
          89.78,
          149.18,
          57.17,
          131.39,
          274.27
         ],
         "yaxis": "y"
        },
        {
         "hovertemplate": "<b>%{hovertext}</b><br><br>Continent=Europe<br>Year=2000<br>avg_years_of_schooling=%{x}<br>suicides_per_100k=%{y}<br>Both sexes=%{marker.size}<extra></extra>",
         "hovertext": [
          "Malta",
          "Netherlands",
          "Belgium",
          "Norway",
          "Belarus",
          "Luxembourg",
          "Poland",
          "Portugal",
          "Romania",
          "Serbia",
          "Austria",
          "Slovakia",
          "Lithuania",
          "Bulgaria",
          "Latvia",
          "Estonia",
          "Denmark",
          "Finland",
          "France",
          "Germany",
          "Greece",
          "Croatia",
          "Hungary",
          "Iceland",
          "Ireland",
          "Italy",
          "Slovenia",
          "Ukraine",
          "Albania",
          "Sweden",
          "Switzerland",
          "Spain"
         ],
         "ids": [
          "Malta",
          "Netherlands",
          "Belgium",
          "Norway",
          "Belarus",
          "Luxembourg",
          "Poland",
          "Portugal",
          "Romania",
          "Serbia",
          "Austria",
          "Slovakia",
          "Lithuania",
          "Bulgaria",
          "Latvia",
          "Estonia",
          "Denmark",
          "Finland",
          "France",
          "Germany",
          "Greece",
          "Croatia",
          "Hungary",
          "Iceland",
          "Ireland",
          "Italy",
          "Slovenia",
          "Ukraine",
          "Albania",
          "Sweden",
          "Switzerland",
          "Spain"
         ],
         "legendgroup": "Europe",
         "marker": {
          "color": "#2CA02C",
          "size": [
           70,
           83,
           99,
           84,
           247,
           90,
           152,
           110,
           175,
           141,
           94,
           147,
           200,
           163,
           217,
           216,
           100,
           104,
           99,
           95,
           82,
           133,
           193,
           76,
           93,
           75,
           122,
           258,
           106,
           72,
           78,
           84
          ],
          "sizemode": "area",
          "sizeref": 0.53,
          "symbol": "circle"
         },
         "mode": "markers",
         "name": "Europe",
         "orientation": "v",
         "showlegend": true,
         "type": "scatter",
         "x": [
          8.1,
          10.8,
          10,
          12,
          8.9,
          10.3,
          11.1,
          6.8,
          9.9,
          9.4,
          9,
          10.3,
          10.7,
          9.5,
          9.5,
          11.7,
          10.7,
          9.3,
          9.8,
          11.2,
          8.6,
          9.4,
          10.2,
          9.4,
          10.8,
          8.6,
          11.6,
          10.7,
          8.8,
          11.4,
          11.4,
          8.4
         ],
         "xaxis": "x",
         "y": [
          78.05,
          118.99,
          267.8,
          150.32999999999998,
          447.3,
          222.64,
          191.01000000000002,
          85.88,
          159.19,
          324.16,
          289.77,
          180.07999999999998,
          571.8000000000001,
          259.21999999999997,
          453.2,
          364.64,
          181.07,
          265.65,
          257.23,
          185.55,
          44.86,
          322.75,
          464.56,
          207.99,
          142.36,
          99.22,
          404.12,
          377.19,
          30.7,
          162.5,
          266.2,
          122.21000000000001
         ],
         "yaxis": "y"
        },
        {
         "hovertemplate": "<b>%{hovertext}</b><br><br>Continent=Africa<br>Year=2000<br>avg_years_of_schooling=%{x}<br>suicides_per_100k=%{y}<br>Both sexes=%{marker.size}<extra></extra>",
         "hovertext": [
          "Mauritius",
          "South Africa"
         ],
         "ids": [
          "Mauritius",
          "South Africa"
         ],
         "legendgroup": "Africa",
         "marker": {
          "color": "#D62728",
          "size": [
           172,
           362
          ],
          "sizemode": "area",
          "sizeref": 0.53,
          "symbol": "circle"
         },
         "mode": "markers",
         "name": "Africa",
         "orientation": "v",
         "showlegend": true,
         "type": "scatter",
         "x": [
          6.2,
          8.8
         ],
         "xaxis": "x",
         "y": [
          140.82,
          9.54
         ],
         "yaxis": "y"
        },
        {
         "hovertemplate": "<b>%{hovertext}</b><br><br>Continent=North America<br>Year=2000<br>avg_years_of_schooling=%{x}<br>suicides_per_100k=%{y}<br>Both sexes=%{marker.size}<extra></extra>",
         "hovertext": [
          "Belize",
          "Mexico",
          "Panama",
          "Bahamas",
          "Saint Lucia",
          "Barbados",
          "El Salvador",
          "Cuba",
          "Guatemala",
          "Costa Rica",
          "Jamaica",
          "Canada",
          "Antigua and Barbuda",
          "Trinidad and Tobago"
         ],
         "ids": [
          "Belize",
          "Mexico",
          "Panama",
          "Bahamas",
          "Saint Lucia",
          "Barbados",
          "El Salvador",
          "Cuba",
          "Guatemala",
          "Costa Rica",
          "Jamaica",
          "Canada",
          "Antigua and Barbuda",
          "Trinidad and Tobago"
         ],
         "legendgroup": "North America",
         "marker": {
          "color": "#9467BD",
          "size": [
           198,
           138,
           120,
           202,
           186,
           128,
           218,
           121,
           220,
           100,
           173,
           81,
           157,
           202
          ],
          "sizemode": "area",
          "sizeref": 0.53,
          "symbol": "circle"
         },
         "mode": "markers",
         "name": "North America",
         "orientation": "v",
         "showlegend": true,
         "type": "scatter",
         "x": [
          10.1,
          6.7,
          8.5,
          10.9,
          7,
          9,
          5.2,
          9.6,
          3.7,
          8,
          7.3,
          11,
          7,
          9.2
         ],
         "xaxis": "x",
         "y": [
          160.8,
          54.89,
          85.58,
          40.66,
          197.86,
          37.13,
          110.55,
          272.77,
          27.419999999999998,
          88.29,
          1.16,
          139,
          39.97,
          198.32
         ],
         "yaxis": "y"
        },
        {
         "hovertemplate": "<b>%{hovertext}</b><br><br>Continent=Oceania<br>Year=2000<br>avg_years_of_schooling=%{x}<br>suicides_per_100k=%{y}<br>Both sexes=%{marker.size}<extra></extra>",
         "hovertext": [
          "New Zealand",
          "Kiribati",
          "Australia"
         ],
         "ids": [
          "New Zealand",
          "Kiribati",
          "Australia"
         ],
         "legendgroup": "Oceania",
         "marker": {
          "color": "#8C564B",
          "size": [
           86,
           222,
           77
          ],
          "sizemode": "area",
          "sizeref": 0.53,
          "symbol": "circle"
         },
         "mode": "markers",
         "name": "Oceania",
         "orientation": "v",
         "showlegend": true,
         "type": "scatter",
         "x": [
          11.6,
          6.8,
          11.9
         ],
         "xaxis": "x",
         "y": [
          157.54,
          0,
          157.82
         ],
         "yaxis": "y"
        }
       ],
       "frames": [
        {
         "data": [
          {
           "hovertemplate": "<b>%{hovertext}</b><br><br>Continent=Asia<br>Year=2000<br>avg_years_of_schooling=%{x}<br>suicides_per_100k=%{y}<br>Both sexes=%{marker.size}<extra></extra>",
           "hovertext": [
            "Uzbekistan",
            "Maldives",
            "Philippines",
            "Bahrain",
            "Azerbaijan",
            "Singapore",
            "Cyprus",
            "Georgia",
            "Israel",
            "Japan",
            "Kazakhstan",
            "Kuwait",
            "Kyrgyzstan",
            "Armenia",
            "Sri Lanka",
            "Thailand"
           ],
           "ids": [
            "Uzbekistan",
            "Maldives",
            "Philippines",
            "Bahrain",
            "Azerbaijan",
            "Singapore",
            "Cyprus",
            "Georgia",
            "Israel",
            "Japan",
            "Kazakhstan",
            "Kuwait",
            "Kyrgyzstan",
            "Armenia",
            "Sri Lanka",
            "Thailand"
           ],
           "legendgroup": "Asia",
           "marker": {
            "color": "#1F77B4",
            "size": [
             183,
             142,
             213,
             101,
             161,
             79,
             80,
             129,
             80,
             72,
             287,
             94,
             228,
             143,
             171,
             204
            ],
            "sizemode": "area",
            "sizeref": 0.53,
            "symbol": "circle"
           },
           "mode": "markers",
           "name": "Asia",
           "orientation": "v",
           "showlegend": true,
           "type": "scatter",
           "x": [
            9.1,
            3,
            7.6,
            8.3,
            10.6,
            8.9,
            10,
            11.7,
            12,
            10.7,
            10.5,
            6.2,
            9.8,
            10.8,
            10,
            6.1
           ],
           "xaxis": "x",
           "y": [
            120.31,
            0,
            32.21,
            32.730000000000004,
            14.41,
            164.34,
            8.36,
            46.64,
            108.56,
            278.52,
            426.05,
            15.23,
            182.63,
            34.300000000000004,
            427.29,
            106.1
           ],
           "yaxis": "y"
          },
          {
           "hovertemplate": "<b>%{hovertext}</b><br><br>Continent=South America<br>Year=2000<br>avg_years_of_schooling=%{x}<br>suicides_per_100k=%{y}<br>Both sexes=%{marker.size}<extra></extra>",
           "hovertext": [
            "Brazil",
            "Paraguay",
            "Colombia",
            "Chile",
            "Ecuador",
            "Argentina",
            "Uruguay"
           ],
           "ids": [
            "Brazil",
            "Paraguay",
            "Colombia",
            "Chile",
            "Ecuador",
            "Argentina",
            "Uruguay"
           ],
           "legendgroup": "South America",
           "marker": {
            "color": "#FF7F0E",
            "size": [
             184,
             171,
             171,
             103,
             160,
             139,
             134
            ],
            "sizemode": "area",
            "sizeref": 0.53,
            "symbol": "circle"
           },
           "mode": "markers",
           "name": "South America",
           "orientation": "v",
           "showlegend": true,
           "type": "scatter",
           "x": [
            5.6,
            5.9,
            6.5,
            8.8,
            7,
            9.1,
            8
           ],
           "xaxis": "x",
           "y": [
            68.23,
            42.78,
            89.78,
            149.18,
            57.17,
            131.39,
            274.27
           ],
           "yaxis": "y"
          },
          {
           "hovertemplate": "<b>%{hovertext}</b><br><br>Continent=Europe<br>Year=2000<br>avg_years_of_schooling=%{x}<br>suicides_per_100k=%{y}<br>Both sexes=%{marker.size}<extra></extra>",
           "hovertext": [
            "Malta",
            "Netherlands",
            "Belgium",
            "Norway",
            "Belarus",
            "Luxembourg",
            "Poland",
            "Portugal",
            "Romania",
            "Serbia",
            "Austria",
            "Slovakia",
            "Lithuania",
            "Bulgaria",
            "Latvia",
            "Estonia",
            "Denmark",
            "Finland",
            "France",
            "Germany",
            "Greece",
            "Croatia",
            "Hungary",
            "Iceland",
            "Ireland",
            "Italy",
            "Slovenia",
            "Ukraine",
            "Albania",
            "Sweden",
            "Switzerland",
            "Spain"
           ],
           "ids": [
            "Malta",
            "Netherlands",
            "Belgium",
            "Norway",
            "Belarus",
            "Luxembourg",
            "Poland",
            "Portugal",
            "Romania",
            "Serbia",
            "Austria",
            "Slovakia",
            "Lithuania",
            "Bulgaria",
            "Latvia",
            "Estonia",
            "Denmark",
            "Finland",
            "France",
            "Germany",
            "Greece",
            "Croatia",
            "Hungary",
            "Iceland",
            "Ireland",
            "Italy",
            "Slovenia",
            "Ukraine",
            "Albania",
            "Sweden",
            "Switzerland",
            "Spain"
           ],
           "legendgroup": "Europe",
           "marker": {
            "color": "#2CA02C",
            "size": [
             70,
             83,
             99,
             84,
             247,
             90,
             152,
             110,
             175,
             141,
             94,
             147,
             200,
             163,
             217,
             216,
             100,
             104,
             99,
             95,
             82,
             133,
             193,
             76,
             93,
             75,
             122,
             258,
             106,
             72,
             78,
             84
            ],
            "sizemode": "area",
            "sizeref": 0.53,
            "symbol": "circle"
           },
           "mode": "markers",
           "name": "Europe",
           "orientation": "v",
           "showlegend": true,
           "type": "scatter",
           "x": [
            8.1,
            10.8,
            10,
            12,
            8.9,
            10.3,
            11.1,
            6.8,
            9.9,
            9.4,
            9,
            10.3,
            10.7,
            9.5,
            9.5,
            11.7,
            10.7,
            9.3,
            9.8,
            11.2,
            8.6,
            9.4,
            10.2,
            9.4,
            10.8,
            8.6,
            11.6,
            10.7,
            8.8,
            11.4,
            11.4,
            8.4
           ],
           "xaxis": "x",
           "y": [
            78.05,
            118.99,
            267.8,
            150.32999999999998,
            447.3,
            222.64,
            191.01000000000002,
            85.88,
            159.19,
            324.16,
            289.77,
            180.07999999999998,
            571.8000000000001,
            259.21999999999997,
            453.2,
            364.64,
            181.07,
            265.65,
            257.23,
            185.55,
            44.86,
            322.75,
            464.56,
            207.99,
            142.36,
            99.22,
            404.12,
            377.19,
            30.7,
            162.5,
            266.2,
            122.21000000000001
           ],
           "yaxis": "y"
          },
          {
           "hovertemplate": "<b>%{hovertext}</b><br><br>Continent=Africa<br>Year=2000<br>avg_years_of_schooling=%{x}<br>suicides_per_100k=%{y}<br>Both sexes=%{marker.size}<extra></extra>",
           "hovertext": [
            "Mauritius",
            "South Africa"
           ],
           "ids": [
            "Mauritius",
            "South Africa"
           ],
           "legendgroup": "Africa",
           "marker": {
            "color": "#D62728",
            "size": [
             172,
             362
            ],
            "sizemode": "area",
            "sizeref": 0.53,
            "symbol": "circle"
           },
           "mode": "markers",
           "name": "Africa",
           "orientation": "v",
           "showlegend": true,
           "type": "scatter",
           "x": [
            6.2,
            8.8
           ],
           "xaxis": "x",
           "y": [
            140.82,
            9.54
           ],
           "yaxis": "y"
          },
          {
           "hovertemplate": "<b>%{hovertext}</b><br><br>Continent=North America<br>Year=2000<br>avg_years_of_schooling=%{x}<br>suicides_per_100k=%{y}<br>Both sexes=%{marker.size}<extra></extra>",
           "hovertext": [
            "Belize",
            "Mexico",
            "Panama",
            "Bahamas",
            "Saint Lucia",
            "Barbados",
            "El Salvador",
            "Cuba",
            "Guatemala",
            "Costa Rica",
            "Jamaica",
            "Canada",
            "Antigua and Barbuda",
            "Trinidad and Tobago"
           ],
           "ids": [
            "Belize",
            "Mexico",
            "Panama",
            "Bahamas",
            "Saint Lucia",
            "Barbados",
            "El Salvador",
            "Cuba",
            "Guatemala",
            "Costa Rica",
            "Jamaica",
            "Canada",
            "Antigua and Barbuda",
            "Trinidad and Tobago"
           ],
           "legendgroup": "North America",
           "marker": {
            "color": "#9467BD",
            "size": [
             198,
             138,
             120,
             202,
             186,
             128,
             218,
             121,
             220,
             100,
             173,
             81,
             157,
             202
            ],
            "sizemode": "area",
            "sizeref": 0.53,
            "symbol": "circle"
           },
           "mode": "markers",
           "name": "North America",
           "orientation": "v",
           "showlegend": true,
           "type": "scatter",
           "x": [
            10.1,
            6.7,
            8.5,
            10.9,
            7,
            9,
            5.2,
            9.6,
            3.7,
            8,
            7.3,
            11,
            7,
            9.2
           ],
           "xaxis": "x",
           "y": [
            160.8,
            54.89,
            85.58,
            40.66,
            197.86,
            37.13,
            110.55,
            272.77,
            27.419999999999998,
            88.29,
            1.16,
            139,
            39.97,
            198.32
           ],
           "yaxis": "y"
          },
          {
           "hovertemplate": "<b>%{hovertext}</b><br><br>Continent=Oceania<br>Year=2000<br>avg_years_of_schooling=%{x}<br>suicides_per_100k=%{y}<br>Both sexes=%{marker.size}<extra></extra>",
           "hovertext": [
            "New Zealand",
            "Kiribati",
            "Australia"
           ],
           "ids": [
            "New Zealand",
            "Kiribati",
            "Australia"
           ],
           "legendgroup": "Oceania",
           "marker": {
            "color": "#8C564B",
            "size": [
             86,
             222,
             77
            ],
            "sizemode": "area",
            "sizeref": 0.53,
            "symbol": "circle"
           },
           "mode": "markers",
           "name": "Oceania",
           "orientation": "v",
           "showlegend": true,
           "type": "scatter",
           "x": [
            11.6,
            6.8,
            11.9
           ],
           "xaxis": "x",
           "y": [
            157.54,
            0,
            157.82
           ],
           "yaxis": "y"
          }
         ],
         "name": "2000"
        },
        {
         "data": [
          {
           "hovertemplate": "<b>%{hovertext}</b><br><br>Continent=Asia<br>Year=2001<br>avg_years_of_schooling=%{x}<br>suicides_per_100k=%{y}<br>Both sexes=%{marker.size}<extra></extra>",
           "hovertext": [
            "Bahrain",
            "Uzbekistan",
            "Japan",
            "Sri Lanka",
            "Israel",
            "Philippines",
            "Kyrgyzstan",
            "Kuwait",
            "Kazakhstan",
            "Maldives",
            "Armenia",
            "Qatar",
            "Singapore",
            "Georgia",
            "Azerbaijan"
           ],
           "ids": [
            "Bahrain",
            "Uzbekistan",
            "Japan",
            "Sri Lanka",
            "Israel",
            "Philippines",
            "Kyrgyzstan",
            "Kuwait",
            "Kazakhstan",
            "Maldives",
            "Armenia",
            "Qatar",
            "Singapore",
            "Georgia",
            "Azerbaijan"
           ],
           "legendgroup": "Asia",
           "marker": {
            "color": "#1F77B4",
            "size": [
             98,
             177,
             70,
             158,
             79,
             215,
             219,
             92,
             283,
             135,
             143,
             73,
             77,
             125,
             149
            ],
            "sizemode": "area",
            "sizeref": 0.53,
            "symbol": "circle"
           },
           "mode": "markers",
           "name": "Asia",
           "orientation": "v",
           "showlegend": true,
           "type": "scatter",
           "x": [
            8.4,
            9.2,
            10.8,
            10.2,
            12.1,
            7.7,
            9.9,
            6.2,
            10.7,
            3.1,
            10.7,
            8,
            9.2,
            11.8,
            10.6
           ],
           "xaxis": "x",
           "y": [
            30.66,
            115.92,
            267.16,
            358.06,
            108.23,
            27.08,
            193.29999999999998,
            9.13,
            422.49,
            110.49,
            29.78,
            27.3,
            167.8,
            35.19,
            60.05
           ],
           "yaxis": "y"
          },
          {
           "hovertemplate": "<b>%{hovertext}</b><br><br>Continent=South America<br>Year=2001<br>avg_years_of_schooling=%{x}<br>suicides_per_100k=%{y}<br>Both sexes=%{marker.size}<extra></extra>",
           "hovertext": [
            "Colombia",
            "Paraguay",
            "Chile",
            "Brazil",
            "Ecuador",
            "Argentina",
            "Uruguay",
            "Guyana"
           ],
           "ids": [
            "Colombia",
            "Paraguay",
            "Chile",
            "Brazil",
            "Ecuador",
            "Argentina",
            "Uruguay",
            "Guyana"
           ],
           "legendgroup": "South America",
           "marker": {
            "color": "#FF7F0E",
            "size": [
             170,
             169,
             106,
             180,
             154,
             138,
             127,
             273
            ],
            "sizemode": "area",
            "sizeref": 0.53,
            "symbol": "circle"
           },
           "mode": "markers",
           "name": "South America",
           "orientation": "v",
           "showlegend": true,
           "type": "scatter",
           "x": [
            6.5,
            6.2,
            9,
            5.8,
            7,
            9.1,
            8,
            7.8
           ],
           "xaxis": "x",
           "y": [
            88.27,
            56.52,
            147.58,
            73.49,
            67.24,
            143.56,
            236.12,
            380.76
           ],
           "yaxis": "y"
          },
          {
           "hovertemplate": "<b>%{hovertext}</b><br><br>Continent=Europe<br>Year=2001<br>avg_years_of_schooling=%{x}<br>suicides_per_100k=%{y}<br>Both sexes=%{marker.size}<extra></extra>",
           "hovertext": [
            "Ireland",
            "Belarus",
            "Ukraine",
            "Italy",
            "Lithuania",
            "Norway",
            "Malta",
            "Switzerland",
            "Luxembourg",
            "Bulgaria",
            "Latvia",
            "Netherlands",
            "Belgium",
            "Sweden",
            "Iceland",
            "Poland",
            "Greece",
            "Albania",
            "Slovakia",
            "Portugal",
            "Serbia",
            "France",
            "Germany",
            "Finland",
            "Denmark",
            "Estonia",
            "Austria",
            "Hungary",
            "Slovenia",
            "Romania",
            "Croatia",
            "Spain"
           ],
           "ids": [
            "Ireland",
            "Belarus",
            "Ukraine",
            "Italy",
            "Lithuania",
            "Norway",
            "Malta",
            "Switzerland",
            "Luxembourg",
            "Bulgaria",
            "Latvia",
            "Netherlands",
            "Belgium",
            "Sweden",
            "Iceland",
            "Poland",
            "Greece",
            "Albania",
            "Slovakia",
            "Portugal",
            "Serbia",
            "France",
            "Germany",
            "Finland",
            "Denmark",
            "Estonia",
            "Austria",
            "Hungary",
            "Slovenia",
            "Romania",
            "Croatia",
            "Spain"
           ],
           "legendgroup": "Europe",
           "marker": {
            "color": "#2CA02C",
            "size": [
             88,
             255,
             254,
             73,
             214,
             81,
             69,
             75,
             90,
             159,
             229,
             82,
             98,
             72,
             73,
             147,
             81,
             100,
             145,
             109,
             134,
             99,
             92,
             99,
             100,
             224,
             90,
             185,
             123,
             179,
             129,
             83
            ],
            "sizemode": "area",
            "sizeref": 0.53,
            "symbol": "circle"
           },
           "mode": "markers",
           "name": "Europe",
           "orientation": "v",
           "showlegend": true,
           "type": "scatter",
           "x": [
            11,
            9,
            10.4,
            8.7,
            10.9,
            12.1,
            8.2,
            11.6,
            10.5,
            9.9,
            10,
            11,
            10.2,
            11.5,
            9.6,
            11.1,
            8.8,
            8.7,
            10.1,
            6.9,
            9.6,
            10,
            11.7,
            9.4,
            11.4,
            11.8,
            9.2,
            10.3,
            11.5,
            9.7,
            9.8,
            8.5
           ],
           "xaxis": "x",
           "y": [
            148.97,
            419.65,
            348.14,
            95.87,
            568.98,
            154.29,
            85.28999999999999,
            261.69,
            239.82,
            244.62,
            383.49,
            116.3,
            261.21999999999997,
            167.49,
            163.06,
            180.65,
            38.81,
            50.620000000000005,
            171.88,
            115.73,
            297,
            239.94,
            185.78,
            267.19,
            186.17,
            371.68,
            261.91,
            408.98,
            423.4,
            149.10999999999999,
            287.54,
            112.4
           ],
           "yaxis": "y"
          },
          {
           "hovertemplate": "<b>%{hovertext}</b><br><br>Continent=Africa<br>Year=2001<br>avg_years_of_schooling=%{x}<br>suicides_per_100k=%{y}<br>Both sexes=%{marker.size}<extra></extra>",
           "hovertext": [
            "Mauritius",
            "South Africa",
            "Seychelles"
           ],
           "ids": [
            "Mauritius",
            "South Africa",
            "Seychelles"
           ],
           "legendgroup": "Africa",
           "marker": {
            "color": "#D62728",
            "size": [
             172,
             387,
             187
            ],
            "sizemode": "area",
            "sizeref": 0.53,
            "symbol": "circle"
           },
           "mode": "markers",
           "name": "Africa",
           "orientation": "v",
           "showlegend": true,
           "type": "scatter",
           "x": [
            6.4,
            7.5,
            7.5
           ],
           "xaxis": "x",
           "y": [
            121.83999999999999,
            12.43,
            87.57
           ],
           "yaxis": "y"
          },
          {
           "hovertemplate": "<b>%{hovertext}</b><br><br>Continent=North America<br>Year=2001<br>avg_years_of_schooling=%{x}<br>suicides_per_100k=%{y}<br>Both sexes=%{marker.size}<extra></extra>",
           "hovertext": [
            "Panama",
            "Costa Rica",
            "Jamaica",
            "Trinidad and Tobago",
            "Barbados",
            "Belize",
            "Mexico",
            "Canada",
            "Antigua and Barbuda",
            "Cuba",
            "Saint Lucia",
            "Guatemala",
            "Bahamas",
            "El Salvador"
           ],
           "ids": [
            "Panama",
            "Costa Rica",
            "Jamaica",
            "Trinidad and Tobago",
            "Barbados",
            "Belize",
            "Mexico",
            "Canada",
            "Antigua and Barbuda",
            "Cuba",
            "Saint Lucia",
            "Guatemala",
            "Bahamas",
            "El Salvador"
           ],
           "legendgroup": "North America",
           "marker": {
            "color": "#9467BD",
            "size": [
             120,
             101,
             175,
             204,
             127,
             203,
             135,
             79,
             154,
             119,
             181,
             214,
             204,
             222
            ],
            "sizemode": "area",
            "sizeref": 0.53,
            "symbol": "circle"
           },
           "mode": "markers",
           "name": "North America",
           "orientation": "v",
           "showlegend": true,
           "type": "scatter",
           "x": [
            8.6,
            8,
            7.5,
            9.3,
            9,
            10.1,
            6.8,
            11.2,
            8.9,
            9.7,
            7.1,
            3.8,
            10.9,
            5.3
           ],
           "xaxis": "x",
           "y": [
            86.77,
            76.03,
            2.8,
            205.33,
            8.65,
            151.7,
            63.3,
            137.43,
            19.45,
            244.51,
            59.08,
            30.59,
            2.68,
            129.71
           ],
           "yaxis": "y"
          },
          {
           "hovertemplate": "<b>%{hovertext}</b><br><br>Continent=Oceania<br>Year=2001<br>avg_years_of_schooling=%{x}<br>suicides_per_100k=%{y}<br>Both sexes=%{marker.size}<extra></extra>",
           "hovertext": [
            "Kiribati",
            "New Zealand",
            "Fiji",
            "Australia"
           ],
           "ids": [
            "Kiribati",
            "New Zealand",
            "Fiji",
            "Australia"
           ],
           "legendgroup": "Oceania",
           "marker": {
            "color": "#8C564B",
            "size": [
             219,
             83,
             221,
             74
            ],
            "sizemode": "area",
            "sizeref": 0.53,
            "symbol": "circle"
           },
           "mode": "markers",
           "name": "Oceania",
           "orientation": "v",
           "showlegend": true,
           "type": "scatter",
           "x": [
            6.9,
            11.6,
            9.5,
            11.9
           ],
           "xaxis": "x",
           "y": [
            0,
            179.9,
            54.95,
            158.79
           ],
           "yaxis": "y"
          }
         ],
         "name": "2001"
        },
        {
         "data": [
          {
           "hovertemplate": "<b>%{hovertext}</b><br><br>Continent=Asia<br>Year=2002<br>avg_years_of_schooling=%{x}<br>suicides_per_100k=%{y}<br>Both sexes=%{marker.size}<extra></extra>",
           "hovertext": [
            "Kyrgyzstan",
            "Thailand",
            "Uzbekistan",
            "Kuwait",
            "Maldives",
            "Israel",
            "Japan",
            "Kazakhstan",
            "Azerbaijan",
            "Armenia",
            "Philippines",
            "Singapore",
            "Sri Lanka",
            "Bahrain"
           ],
           "ids": [
            "Kyrgyzstan",
            "Thailand",
            "Uzbekistan",
            "Kuwait",
            "Maldives",
            "Israel",
            "Japan",
            "Kazakhstan",
            "Azerbaijan",
            "Armenia",
            "Philippines",
            "Singapore",
            "Sri Lanka",
            "Bahrain"
           ],
           "legendgroup": "Asia",
           "marker": {
            "color": "#1F77B4",
            "size": [
             217,
             197,
             176,
             91,
             128,
             81,
             68,
             276,
             144,
             137,
             216,
             76,
             150,
             99
            ],
            "sizemode": "area",
            "sizeref": 0.53,
            "symbol": "circle"
           },
           "mode": "markers",
           "name": "Asia",
           "orientation": "v",
           "showlegend": true,
           "type": "scatter",
           "x": [
            10,
            6.5,
            9.4,
            6.1,
            3.2,
            12.1,
            10.9,
            11,
            10.6,
            10.8,
            7.9,
            9.5,
            10.2,
            8.4
           ],
           "xaxis": "x",
           "y": [
            173.11,
            103.12,
            95.28,
            14.56,
            9.84,
            93.49,
            265.84,
            405.89,
            19.419999999999998,
            38.07,
            28.54,
            172.39,
            339.41,
            27.68
           ],
           "yaxis": "y"
          },
          {
           "hovertemplate": "<b>%{hovertext}</b><br><br>Continent=South America<br>Year=2002<br>avg_years_of_schooling=%{x}<br>suicides_per_100k=%{y}<br>Both sexes=%{marker.size}<extra></extra>",
           "hovertext": [
            "Ecuador",
            "Brazil",
            "Guyana",
            "Colombia",
            "Chile",
            "Uruguay",
            "Argentina",
            "Paraguay"
           ],
           "ids": [
            "Ecuador",
            "Brazil",
            "Guyana",
            "Colombia",
            "Chile",
            "Uruguay",
            "Argentina",
            "Paraguay"
           ],
           "legendgroup": "South America",
           "marker": {
            "color": "#FF7F0E",
            "size": [
             153,
             176,
             280,
             169,
             100,
             129,
             137,
             167
            ],
            "sizemode": "area",
            "sizeref": 0.53,
            "symbol": "circle"
           },
           "mode": "markers",
           "name": "South America",
           "orientation": "v",
           "showlegend": true,
           "type": "scatter",
           "x": [
            7.1,
            6,
            7.8,
            6.5,
            9.2,
            8,
            9.2,
            6.5
           ],
           "xaxis": "x",
           "y": [
            61.42,
            69.77,
            311.93,
            81.38,
            149.28,
            331.69,
            139.42000000000002,
            43.45
           ],
           "yaxis": "y"
          },
          {
           "hovertemplate": "<b>%{hovertext}</b><br><br>Continent=Europe<br>Year=2002<br>avg_years_of_schooling=%{x}<br>suicides_per_100k=%{y}<br>Both sexes=%{marker.size}<extra></extra>",
           "hovertext": [
            "Finland",
            "Bulgaria",
            "Denmark",
            "Lithuania",
            "Luxembourg",
            "Estonia",
            "Latvia",
            "Iceland",
            "Ireland",
            "Ukraine",
            "Hungary",
            "Croatia",
            "Italy",
            "France",
            "Greece",
            "Germany",
            "Albania",
            "Serbia",
            "Austria",
            "Netherlands",
            "Belarus",
            "Sweden",
            "Romania",
            "Belgium",
            "Spain",
            "Malta",
            "Slovenia",
            "Poland",
            "Switzerland",
            "Portugal",
            "Norway",
            "Slovakia"
           ],
           "ids": [
            "Finland",
            "Bulgaria",
            "Denmark",
            "Lithuania",
            "Luxembourg",
            "Estonia",
            "Latvia",
            "Iceland",
            "Ireland",
            "Ukraine",
            "Hungary",
            "Croatia",
            "Italy",
            "France",
            "Greece",
            "Germany",
            "Albania",
            "Serbia",
            "Austria",
            "Netherlands",
            "Belarus",
            "Sweden",
            "Romania",
            "Belgium",
            "Spain",
            "Malta",
            "Slovenia",
            "Poland",
            "Switzerland",
            "Portugal",
            "Norway",
            "Slovakia"
           ],
           "legendgroup": "Europe",
           "marker": {
            "color": "#2CA02C",
            "size": [
             97,
             156,
             101,
             207,
             87,
             210,
             221,
             66,
             86,
             257,
             184,
             124,
             71,
             98,
             79,
             91,
             102,
             131,
             87,
             81,
             264,
             70,
             178,
             97,
             82,
             68,
             117,
             143,
             73,
             107,
             80,
             144
            ],
            "sizemode": "area",
            "sizeref": 0.53,
            "symbol": "circle"
           },
           "mode": "markers",
           "name": "Europe",
           "orientation": "v",
           "showlegend": true,
           "type": "scatter",
           "x": [
            9.5,
            10,
            12.1,
            11.1,
            10.7,
            11.9,
            10.6,
            9.7,
            11.2,
            10.5,
            10.3,
            9.8,
            8.8,
            10.1,
            9.1,
            12.1,
            9,
            9.7,
            9.4,
            11.1,
            9.1,
            11.6,
            9.6,
            10.3,
            8.5,
            8.3,
            11.5,
            11.4,
            11.7,
            7,
            12.1,
            10.3
           ],
           "xaxis": "x",
           "y": [
            255.51999999999998,
            247.35,
            176.51,
            555.62,
            264.14,
            358.3,
            367.76,
            131.24,
            135.82,
            344.05,
            382.75,
            304.12,
            94.61,
            238.64000000000001,
            38.35,
            183.96,
            62.51,
            295.91,
            276.92,
            119.73,
            411,
            162.71,
            173.6,
            247.85999999999999,
            115.64,
            55.28,
            354.3,
            183.27,
            273.7,
            171.82999999999998,
            141,
            191.77
           ],
           "yaxis": "y"
          },
          {
           "hovertemplate": "<b>%{hovertext}</b><br><br>Continent=Africa<br>Year=2002<br>avg_years_of_schooling=%{x}<br>suicides_per_100k=%{y}<br>Both sexes=%{marker.size}<extra></extra>",
           "hovertext": [
            "South Africa",
            "Seychelles",
            "Mauritius"
           ],
           "ids": [
            "South Africa",
            "Seychelles",
            "Mauritius"
           ],
           "legendgroup": "Africa",
           "marker": {
            "color": "#D62728",
            "size": [
             412,
             185,
             173
            ],
            "sizemode": "area",
            "sizeref": 0.53,
            "symbol": "circle"
           },
           "mode": "markers",
           "name": "Africa",
           "orientation": "v",
           "showlegend": true,
           "type": "scatter",
           "x": [
            8.5,
            7.6,
            6.6
           ],
           "xaxis": "x",
           "y": [
            6.9799999999999995,
            154.12,
            131.9
           ],
           "yaxis": "y"
          },
          {
           "hovertemplate": "<b>%{hovertext}</b><br><br>Continent=North America<br>Year=2002<br>avg_years_of_schooling=%{x}<br>suicides_per_100k=%{y}<br>Both sexes=%{marker.size}<extra></extra>",
           "hovertext": [
            "El Salvador",
            "Canada",
            "Costa Rica",
            "Guatemala",
            "Cuba",
            "Jamaica",
            "Trinidad and Tobago",
            "Antigua and Barbuda",
            "Grenada",
            "Saint Lucia",
            "Bahamas",
            "Panama",
            "Mexico",
            "Barbados",
            "Belize"
           ],
           "ids": [
            "El Salvador",
            "Canada",
            "Costa Rica",
            "Guatemala",
            "Cuba",
            "Jamaica",
            "Trinidad and Tobago",
            "Antigua and Barbuda",
            "Grenada",
            "Saint Lucia",
            "Bahamas",
            "Panama",
            "Mexico",
            "Barbados",
            "Belize"
           ],
           "legendgroup": "North America",
           "marker": {
            "color": "#9467BD",
            "size": [
             213,
             78,
             100,
             206,
             112,
             171,
             195,
             149,
             175,
             176,
             206,
             120,
             136,
             126,
             200
            ],
            "sizemode": "area",
            "sizeref": 0.53,
            "symbol": "circle"
           },
           "mode": "markers",
           "name": "North America",
           "orientation": "v",
           "showlegend": true,
           "type": "scatter",
           "x": [
            5.5,
            11.5,
            8,
            3.8,
            9.5,
            7.7,
            9.4,
            9,
            7.4,
            7.2,
            10.9,
            8.7,
            7,
            9.1,
            10.2
           ],
           "xaxis": "x",
           "y": [
            113.19,
            137.73,
            95.62,
            40.53,
            240.42000000000002,
            0.7,
            159.01,
            0,
            0,
            187.51999999999998,
            9.969999999999999,
            78.94,
            58.36,
            0,
            69.62
           ],
           "yaxis": "y"
          },
          {
           "hovertemplate": "<b>%{hovertext}</b><br><br>Continent=Oceania<br>Year=2002<br>avg_years_of_schooling=%{x}<br>suicides_per_100k=%{y}<br>Both sexes=%{marker.size}<extra></extra>",
           "hovertext": [
            "Fiji",
            "New Zealand",
            "Australia"
           ],
           "ids": [
            "Fiji",
            "New Zealand",
            "Australia"
           ],
           "legendgroup": "Oceania",
           "marker": {
            "color": "#8C564B",
            "size": [
             220,
             82,
             72
            ],
            "sizemode": "area",
            "sizeref": 0.53,
            "symbol": "circle"
           },
           "mode": "markers",
           "name": "Oceania",
           "orientation": "v",
           "showlegend": true,
           "type": "scatter",
           "x": [
            9.4,
            11.6,
            11.8
           ],
           "xaxis": "x",
           "y": [
            110.54,
            152.03,
            144.68
           ],
           "yaxis": "y"
          }
         ],
         "name": "2002"
        },
        {
         "data": [
          {
           "hovertemplate": "<b>%{hovertext}</b><br><br>Continent=Asia<br>Year=2003<br>avg_years_of_schooling=%{x}<br>suicides_per_100k=%{y}<br>Both sexes=%{marker.size}<extra></extra>",
           "hovertext": [
            "Sri Lanka",
            "Bahrain",
            "Uzbekistan",
            "Singapore",
            "Azerbaijan",
            "Armenia",
            "Israel",
            "Japan",
            "Thailand",
            "Kyrgyzstan",
            "Kazakhstan",
            "Kuwait",
            "Philippines",
            "Maldives"
           ],
           "ids": [
            "Sri Lanka",
            "Bahrain",
            "Uzbekistan",
            "Singapore",
            "Azerbaijan",
            "Armenia",
            "Israel",
            "Japan",
            "Thailand",
            "Kyrgyzstan",
            "Kazakhstan",
            "Kuwait",
            "Philippines",
            "Maldives"
           ],
           "legendgroup": "Asia",
           "marker": {
            "color": "#1F77B4",
            "size": [
             147,
             92,
             173,
             73,
             151,
             137,
             76,
             68,
             194,
             217,
             283,
             90,
             212,
             114
            ],
            "sizemode": "area",
            "sizeref": 0.53,
            "symbol": "circle"
           },
           "mode": "markers",
           "name": "Asia",
           "orientation": "v",
           "showlegend": true,
           "type": "scatter",
           "x": [
            10.2,
            8.4,
            9.5,
            9.8,
            10.6,
            10.8,
            12.2,
            11,
            6.7,
            10,
            11.2,
            6.1,
            8,
            3.3
           ],
           "xaxis": "x",
           "y": [
            352.75,
            32.39,
            82.06,
            172.74,
            27.07,
            33.43,
            97.17,
            279.40999999999997,
            91.16,
            137.86,
            411.71,
            16.44,
            33.41,
            15.52
           ],
           "yaxis": "y"
          },
          {
           "hovertemplate": "<b>%{hovertext}</b><br><br>Continent=South America<br>Year=2003<br>avg_years_of_schooling=%{x}<br>suicides_per_100k=%{y}<br>Both sexes=%{marker.size}<extra></extra>",
           "hovertext": [
            "Guyana",
            "Uruguay",
            "Ecuador",
            "Chile",
            "Brazil",
            "Colombia",
            "Paraguay",
            "Argentina"
           ],
           "ids": [
            "Guyana",
            "Uruguay",
            "Ecuador",
            "Chile",
            "Brazil",
            "Colombia",
            "Paraguay",
            "Argentina"
           ],
           "legendgroup": "South America",
           "marker": {
            "color": "#FF7F0E",
            "size": [
             277,
             125,
             146,
             100,
             172,
             155,
             166,
             134
            ],
            "sizemode": "area",
            "sizeref": 0.53,
            "symbol": "circle"
           },
           "mode": "markers",
           "name": "South America",
           "orientation": "v",
           "showlegend": true,
           "type": "scatter",
           "x": [
            7.8,
            8,
            7.1,
            9.4,
            6.2,
            6.5,
            7,
            9.3
           ],
           "xaxis": "x",
           "y": [
            382.54,
            259.25,
            70.56,
            153.54,
            68.07,
            79.85,
            51.35,
            146.29
           ],
           "yaxis": "y"
          },
          {
           "hovertemplate": "<b>%{hovertext}</b><br><br>Continent=Europe<br>Year=2003<br>avg_years_of_schooling=%{x}<br>suicides_per_100k=%{y}<br>Both sexes=%{marker.size}<extra></extra>",
           "hovertext": [
            "Croatia",
            "Hungary",
            "Romania",
            "Iceland",
            "Poland",
            "Ukraine",
            "Ireland",
            "Portugal",
            "Estonia",
            "Slovenia",
            "Denmark",
            "Spain",
            "Finland",
            "Slovakia",
            "Austria",
            "Albania",
            "Germany",
            "Greece",
            "Serbia",
            "France",
            "Montenegro",
            "Luxembourg",
            "Norway",
            "Bulgaria",
            "Lithuania",
            "Netherlands",
            "Malta",
            "Italy",
            "Latvia",
            "Switzerland",
            "Belgium",
            "Sweden",
            "Belarus"
           ],
           "ids": [
            "Croatia",
            "Hungary",
            "Romania",
            "Iceland",
            "Poland",
            "Ukraine",
            "Ireland",
            "Portugal",
            "Estonia",
            "Slovenia",
            "Denmark",
            "Spain",
            "Finland",
            "Slovakia",
            "Austria",
            "Albania",
            "Germany",
            "Greece",
            "Serbia",
            "France",
            "Montenegro",
            "Luxembourg",
            "Norway",
            "Bulgaria",
            "Lithuania",
            "Netherlands",
            "Malta",
            "Italy",
            "Latvia",
            "Switzerland",
            "Belgium",
            "Sweden",
            "Belarus"
           ],
           "legendgroup": "Europe",
           "marker": {
            "color": "#2CA02C",
            "size": [
             121,
             184,
             174,
             63,
             140,
             258,
             80,
             104,
             197,
             119,
             98,
             82,
             97,
             143,
             86,
             107,
             89,
             80,
             131,
             97,
             132,
             85,
             77,
             154,
             207,
             80,
             66,
             70,
             212,
             71,
             94,
             68,
             254
            ],
            "sizemode": "area",
            "sizeref": 0.53,
            "symbol": "circle"
           },
           "mode": "markers",
           "name": "Europe",
           "orientation": "v",
           "showlegend": true,
           "type": "scatter",
           "x": [
            9.8,
            10.5,
            9.7,
            9.8,
            11.5,
            10.6,
            11.4,
            7.2,
            11.9,
            11.5,
            12.8,
            8.6,
            9.6,
            10.4,
            9.6,
            9,
            12.5,
            9.3,
            9.9,
            10.2,
            10.3,
            10.9,
            12.2,
            10.1,
            11.3,
            11.3,
            8.5,
            8.9,
            11.2,
            11.8,
            10.4,
            11.8,
            9.1
           ],
           "xaxis": "x",
           "y": [
            281.69,
            372.04,
            159.71,
            100.97,
            180.15,
            337.07,
            134.77,
            166.46,
            338.24,
            376.56,
            156.7,
            116.49,
            243.45000000000002,
            169.16,
            257.06,
            58.6,
            181.24,
            40.67,
            271.27,
            241.31,
            0,
            164.37,
            138.07999999999998,
            207.65,
            530.52,
            113.33,
            74.94,
            94.42,
            361.63,
            242.66,
            248.73,
            153.41,
            444.86
           ],
           "yaxis": "y"
          },
          {
           "hovertemplate": "<b>%{hovertext}</b><br><br>Continent=Africa<br>Year=2003<br>avg_years_of_schooling=%{x}<br>suicides_per_100k=%{y}<br>Both sexes=%{marker.size}<extra></extra>",
           "hovertext": [
            "South Africa",
            "Seychelles",
            "Mauritius"
           ],
           "ids": [
            "South Africa",
            "Seychelles",
            "Mauritius"
           ],
           "legendgroup": "Africa",
           "marker": {
            "color": "#D62728",
            "size": [
             437,
             185,
             168
            ],
            "sizemode": "area",
            "sizeref": 0.53,
            "symbol": "circle"
           },
           "mode": "markers",
           "name": "Africa",
           "orientation": "v",
           "showlegend": true,
           "type": "scatter",
           "x": [
            8.8,
            7.6,
            6.8
           ],
           "xaxis": "x",
           "y": [
            9.24,
            100,
            94.02
           ],
           "yaxis": "y"
          },
          {
           "hovertemplate": "<b>%{hovertext}</b><br><br>Continent=North America<br>Year=2003<br>avg_years_of_schooling=%{x}<br>suicides_per_100k=%{y}<br>Both sexes=%{marker.size}<extra></extra>",
           "hovertext": [
            "Costa Rica",
            "Bahamas",
            "Guatemala",
            "El Salvador",
            "Saint Lucia",
            "Cuba",
            "Grenada",
            "Belize",
            "Antigua and Barbuda",
            "Canada",
            "Panama",
            "Mexico",
            "Trinidad and Tobago",
            "Barbados",
            "Jamaica"
           ],
           "ids": [
            "Costa Rica",
            "Bahamas",
            "Guatemala",
            "El Salvador",
            "Saint Lucia",
            "Cuba",
            "Grenada",
            "Belize",
            "Antigua and Barbuda",
            "Canada",
            "Panama",
            "Mexico",
            "Trinidad and Tobago",
            "Barbados",
            "Jamaica"
           ],
           "legendgroup": "North America",
           "marker": {
            "color": "#9467BD",
            "size": [
             101,
             203,
             209,
             211,
             169,
             112,
             175,
             199,
             151,
             77,
             120,
             136,
             199,
             123,
             170
            ],
            "sizemode": "area",
            "sizeref": 0.53,
            "symbol": "circle"
           },
           "mode": "markers",
           "name": "North America",
           "orientation": "v",
           "showlegend": true,
           "type": "scatter",
           "x": [
            7.9,
            10.9,
            3.7,
            5.7,
            7.3,
            9.8,
            7.6,
            10.2,
            9,
            11.7,
            8.8,
            7.1,
            9.5,
            9.1,
            7.8
           ],
           "xaxis": "x",
           "y": [
            115.88,
            2.49,
            37.34,
            128.92,
            133.26,
            221.12,
            69.18,
            59,
            27.82,
            137.27,
            97.24,
            63,
            158.25,
            0,
            0.9099999999999999
           ],
           "yaxis": "y"
          },
          {
           "hovertemplate": "<b>%{hovertext}</b><br><br>Continent=Oceania<br>Year=2003<br>avg_years_of_schooling=%{x}<br>suicides_per_100k=%{y}<br>Both sexes=%{marker.size}<extra></extra>",
           "hovertext": [
            "Australia",
            "Fiji",
            "New Zealand"
           ],
           "ids": [
            "Australia",
            "Fiji",
            "New Zealand"
           ],
           "legendgroup": "Oceania",
           "marker": {
            "color": "#8C564B",
            "size": [
             69,
             220,
             81
            ],
            "sizemode": "area",
            "sizeref": 0.53,
            "symbol": "circle"
           },
           "mode": "markers",
           "name": "Oceania",
           "orientation": "v",
           "showlegend": true,
           "type": "scatter",
           "x": [
            11.8,
            9.3,
            11.6
           ],
           "xaxis": "x",
           "y": [
            133.84,
            16.12,
            172.35
           ],
           "yaxis": "y"
          }
         ],
         "name": "2003"
        },
        {
         "data": [
          {
           "hovertemplate": "<b>%{hovertext}</b><br><br>Continent=Asia<br>Year=2004<br>avg_years_of_schooling=%{x}<br>suicides_per_100k=%{y}<br>Both sexes=%{marker.size}<extra></extra>",
           "hovertext": [
            "Israel",
            "Thailand",
            "Singapore",
            "Maldives",
            "Uzbekistan",
            "Qatar",
            "Japan",
            "Georgia",
            "Kazakhstan",
            "Kuwait",
            "Kyrgyzstan",
            "Azerbaijan",
            "Cyprus",
            "Bahrain"
           ],
           "ids": [
            "Israel",
            "Thailand",
            "Singapore",
            "Maldives",
            "Uzbekistan",
            "Qatar",
            "Japan",
            "Georgia",
            "Kazakhstan",
            "Kuwait",
            "Kyrgyzstan",
            "Azerbaijan",
            "Cyprus",
            "Bahrain"
           ],
           "legendgroup": "Asia",
           "marker": {
            "color": "#1F77B4",
            "size": [
             73,
             194,
             73,
             118,
             174,
             69,
             67,
             148,
             289,
             89,
             217,
             151,
             74,
             94
            ],
            "sizemode": "area",
            "sizeref": 0.53,
            "symbol": "circle"
           },
           "mode": "markers",
           "name": "Asia",
           "orientation": "v",
           "showlegend": true,
           "type": "scatter",
           "x": [
            12.2,
            6.8,
            10.2,
            3.4,
            9.7,
            8.4,
            11.1,
            12,
            11.5,
            6.1,
            10.1,
            10.6,
            10.5,
            8.4
           ],
           "xaxis": "x",
           "y": [
            98.44,
            86.06,
            167.48,
            3.74,
            68.03999999999999,
            15.25,
            266.25,
            66.54,
            413.86,
            17.26,
            141.33,
            18.33,
            9.17,
            54.21
           ],
           "yaxis": "y"
          },
          {
           "hovertemplate": "<b>%{hovertext}</b><br><br>Continent=South America<br>Year=2004<br>avg_years_of_schooling=%{x}<br>suicides_per_100k=%{y}<br>Both sexes=%{marker.size}<extra></extra>",
           "hovertext": [
            "Suriname",
            "Paraguay",
            "Uruguay",
            "Guyana",
            "Colombia",
            "Chile",
            "Brazil",
            "Ecuador",
            "Argentina"
           ],
           "ids": [
            "Suriname",
            "Paraguay",
            "Uruguay",
            "Guyana",
            "Colombia",
            "Chile",
            "Brazil",
            "Ecuador",
            "Argentina"
           ],
           "legendgroup": "South America",
           "marker": {
            "color": "#FF7F0E",
            "size": [
             216,
             165,
             125,
             270,
             152,
             98,
             169,
             145,
             128
            ],
            "sizemode": "area",
            "sizeref": 0.53,
            "symbol": "circle"
           },
           "mode": "markers",
           "name": "South America",
           "orientation": "v",
           "showlegend": true,
           "type": "scatter",
           "x": [
            7.7,
            7.1,
            8,
            7.9,
            6.6,
            9.6,
            6.2,
            7.2,
            9.2
           ],
           "xaxis": "x",
           "y": [
            202.1,
            65.44,
            258.49,
            400,
            84.25,
            155.69,
            70.22,
            84.39,
            131.06
           ],
           "yaxis": "y"
          },
          {
           "hovertemplate": "<b>%{hovertext}</b><br><br>Continent=Europe<br>Year=2004<br>avg_years_of_schooling=%{x}<br>suicides_per_100k=%{y}<br>Both sexes=%{marker.size}<extra></extra>",
           "hovertext": [
            "Montenegro",
            "France",
            "Lithuania",
            "Slovakia",
            "Slovenia",
            "Luxembourg",
            "Switzerland",
            "Spain",
            "Estonia",
            "Finland",
            "Latvia",
            "Ukraine",
            "Italy",
            "Sweden",
            "Ireland",
            "Iceland",
            "Romania",
            "Hungary",
            "Norway",
            "Serbia",
            "Poland",
            "Greece",
            "Netherlands",
            "Germany",
            "Malta",
            "Croatia",
            "Austria",
            "Denmark",
            "Bulgaria",
            "Albania",
            "Belgium"
           ],
           "ids": [
            "Montenegro",
            "France",
            "Lithuania",
            "Slovakia",
            "Slovenia",
            "Luxembourg",
            "Switzerland",
            "Spain",
            "Estonia",
            "Finland",
            "Latvia",
            "Ukraine",
            "Italy",
            "Sweden",
            "Ireland",
            "Iceland",
            "Romania",
            "Hungary",
            "Norway",
            "Serbia",
            "Poland",
            "Greece",
            "Netherlands",
            "Germany",
            "Malta",
            "Croatia",
            "Austria",
            "Denmark",
            "Bulgaria",
            "Albania",
            "Belgium"
           ],
           "legendgroup": "Europe",
           "marker": {
            "color": "#2CA02C",
            "size": [
             131,
             92,
             209,
             137,
             113,
             79,
             68,
             79,
             193,
             101,
             209,
             269,
             66,
             70,
             79,
             61,
             166,
             180,
             76,
             129,
             142,
             80,
             76,
             85,
             64,
             113,
             84,
             95,
             154,
             101,
             89
            ],
            "sizemode": "area",
            "sizeref": 0.53,
            "symbol": "circle"
           },
           "mode": "markers",
           "name": "Europe",
           "orientation": "v",
           "showlegend": true,
           "type": "scatter",
           "x": [
            10.4,
            10.3,
            11.5,
            10.6,
            12,
            11.1,
            11.9,
            8.6,
            12,
            11.9,
            11.7,
            10.7,
            9.1,
            12.3,
            11.6,
            9.9,
            9.9,
            10.6,
            12.7,
            10,
            11.6,
            9.6,
            11.5,
            12.9,
            8.6,
            9.7,
            9.8,
            12.8,
            10.1,
            9.1,
            10.5
           ],
           "xaxis": "x",
           "y": [
            0,
            232.51000000000002,
            503.37,
            150.9,
            298.48,
            189.54,
            242.27,
            112.63000000000001,
            299.46,
            243.95000000000002,
            328.38,
            307.05,
            91.33,
            157.41,
            129.42000000000002,
            168.81,
            151.19,
            369.46999999999997,
            141.37,
            262.51,
            187.74,
            40.92,
            111.16,
            172.23,
            85.82000000000001,
            302.24,
            254.04,
            161.78,
            184.12,
            65.39,
            231.06
           ],
           "yaxis": "y"
          },
          {
           "hovertemplate": "<b>%{hovertext}</b><br><br>Continent=Africa<br>Year=2004<br>avg_years_of_schooling=%{x}<br>suicides_per_100k=%{y}<br>Both sexes=%{marker.size}<extra></extra>",
           "hovertext": [
            "Mauritius",
            "South Africa",
            "Seychelles"
           ],
           "ids": [
            "Mauritius",
            "South Africa",
            "Seychelles"
           ],
           "legendgroup": "Africa",
           "marker": {
            "color": "#D62728",
            "size": [
             164,
             459,
             186
            ],
            "sizemode": "area",
            "sizeref": 0.53,
            "symbol": "circle"
           },
           "mode": "markers",
           "name": "Africa",
           "orientation": "v",
           "showlegend": true,
           "type": "scatter",
           "x": [
            7,
            8.8,
            7.7
           ],
           "xaxis": "x",
           "y": [
            100.99,
            12.63,
            63.27
           ],
           "yaxis": "y"
          },
          {
           "hovertemplate": "<b>%{hovertext}</b><br><br>Continent=North America<br>Year=2004<br>avg_years_of_schooling=%{x}<br>suicides_per_100k=%{y}<br>Both sexes=%{marker.size}<extra></extra>",
           "hovertext": [
            "Mexico",
            "El Salvador",
            "Trinidad and Tobago",
            "Saint Lucia",
            "Guatemala",
            "Grenada",
            "Panama",
            "Jamaica",
            "Bahamas",
            "Cuba",
            "Antigua and Barbuda",
            "Barbados",
            "Belize",
            "Costa Rica",
            "Canada"
           ],
           "ids": [
            "Mexico",
            "El Salvador",
            "Trinidad and Tobago",
            "Saint Lucia",
            "Guatemala",
            "Grenada",
            "Panama",
            "Jamaica",
            "Bahamas",
            "Cuba",
            "Antigua and Barbuda",
            "Barbados",
            "Belize",
            "Costa Rica",
            "Canada"
           ],
           "legendgroup": "North America",
           "marker": {
            "color": "#9467BD",
            "size": [
             132,
             209,
             196,
             162,
             206,
             186,
             117,
             168,
             187,
             109,
             153,
             116,
             195,
             102,
             76
            ],
            "sizemode": "area",
            "sizeref": 0.53,
            "symbol": "circle"
           },
           "mode": "markers",
           "name": "North America",
           "orientation": "v",
           "showlegend": true,
           "type": "scatter",
           "x": [
            7.4,
            5.8,
            9.8,
            7.4,
            3.6,
            7.7,
            8.9,
            8,
            10.9,
            9.8,
            9.1,
            9.2,
            10.3,
            7.9,
            12
           ],
           "xaxis": "x",
           "y": [
            60.75,
            111.56,
            188.28,
            66.17,
            29.93,
            13.37,
            81.76,
            0.74,
            5.93,
            216.12,
            36.06,
            7.79,
            117.38,
            100.72,
            131.66
           ],
           "yaxis": "y"
          },
          {
           "hovertemplate": "<b>%{hovertext}</b><br><br>Continent=Oceania<br>Year=2004<br>avg_years_of_schooling=%{x}<br>suicides_per_100k=%{y}<br>Both sexes=%{marker.size}<extra></extra>",
           "hovertext": [
            "Fiji",
            "New Zealand",
            "Australia"
           ],
           "ids": [
            "Fiji",
            "New Zealand",
            "Australia"
           ],
           "legendgroup": "Oceania",
           "marker": {
            "color": "#8C564B",
            "size": [
             218,
             79,
             67
            ],
            "sizemode": "area",
            "sizeref": 0.53,
            "symbol": "circle"
           },
           "mode": "markers",
           "name": "Oceania",
           "orientation": "v",
           "showlegend": true,
           "type": "scatter",
           "x": [
            9.3,
            11.6,
            11.8
           ],
           "xaxis": "x",
           "y": [
            90.49000000000001,
            163.41,
            133.76
           ],
           "yaxis": "y"
          }
         ],
         "name": "2004"
        },
        {
         "data": [
          {
           "hovertemplate": "<b>%{hovertext}</b><br><br>Continent=Asia<br>Year=2005<br>avg_years_of_schooling=%{x}<br>suicides_per_100k=%{y}<br>Both sexes=%{marker.size}<extra></extra>",
           "hovertext": [
            "Georgia",
            "Japan",
            "Kyrgyzstan",
            "Qatar",
            "Cyprus",
            "Bahrain",
            "Kuwait",
            "Kazakhstan",
            "Maldives",
            "Thailand",
            "Singapore",
            "Uzbekistan",
            "Israel",
            "United Arab Emirates"
           ],
           "ids": [
            "Georgia",
            "Japan",
            "Kyrgyzstan",
            "Qatar",
            "Cyprus",
            "Bahrain",
            "Kuwait",
            "Kazakhstan",
            "Maldives",
            "Thailand",
            "Singapore",
            "Uzbekistan",
            "Israel",
            "United Arab Emirates"
           ],
           "legendgroup": "Asia",
           "marker": {
            "color": "#1F77B4",
            "size": [
             144,
             68,
             223,
             67,
             75,
             83,
             88,
             297,
             93,
             183,
             74,
             183,
             72,
             91
            ],
            "sizemode": "area",
            "sizeref": 0.53,
            "symbol": "circle"
           },
           "mode": "markers",
           "name": "Asia",
           "orientation": "v",
           "showlegend": true,
           "type": "scatter",
           "x": [
            12.1,
            11.2,
            10.2,
            8.8,
            10.7,
            8.4,
            5.8,
            11.7,
            3.5,
            7,
            10.5,
            9.8,
            12.3,
            9.1
           ],
           "xaxis": "x",
           "y": [
            28.36,
            266.89,
            135.48,
            18.8,
            24.740000000000002,
            40.22,
            18.18,
            357.8,
            2.75,
            77.99,
            180.33,
            67.81,
            102.91,
            16.05
           ],
           "yaxis": "y"
          },
          {
           "hovertemplate": "<b>%{hovertext}</b><br><br>Continent=South America<br>Year=2005<br>avg_years_of_schooling=%{x}<br>suicides_per_100k=%{y}<br>Both sexes=%{marker.size}<extra></extra>",
           "hovertext": [
            "Suriname",
            "Argentina",
            "Colombia",
            "Guyana",
            "Chile",
            "Brazil",
            "Paraguay",
            "Uruguay",
            "Ecuador"
           ],
           "ids": [
            "Suriname",
            "Argentina",
            "Colombia",
            "Guyana",
            "Chile",
            "Brazil",
            "Paraguay",
            "Uruguay",
            "Ecuador"
           ],
           "legendgroup": "South America",
           "marker": {
            "color": "#FF7F0E",
            "size": [
             207,
             125,
             144,
             267,
             95,
             162,
             164,
             125,
             149
            ],
            "sizemode": "area",
            "sizeref": 0.53,
            "symbol": "circle"
           },
           "mode": "markers",
           "name": "South America",
           "orientation": "v",
           "showlegend": true,
           "type": "scatter",
           "x": [
            7.7,
            9.1,
            6.8,
            7.9,
            9.5,
            6.3,
            7.3,
            8,
            7.3
           ],
           "xaxis": "x",
           "y": [
            211.17,
            128.18,
            74.84,
            333.96,
            147.43,
            73.6,
            62.81,
            241.31,
            96.73
           ],
           "yaxis": "y"
          },
          {
           "hovertemplate": "<b>%{hovertext}</b><br><br>Continent=Europe<br>Year=2005<br>avg_years_of_schooling=%{x}<br>suicides_per_100k=%{y}<br>Both sexes=%{marker.size}<extra></extra>",
           "hovertext": [
            "Romania",
            "Spain",
            "Sweden",
            "Serbia",
            "Luxembourg",
            "France",
            "Greece",
            "Switzerland",
            "Latvia",
            "Poland",
            "Germany",
            "Lithuania",
            "Bulgaria",
            "Netherlands",
            "Norway",
            "Iceland",
            "Slovenia",
            "Estonia",
            "Austria",
            "Slovakia",
            "Belgium",
            "Ireland",
            "Montenegro",
            "Albania",
            "Finland",
            "Denmark",
            "Italy",
            "Croatia",
            "Malta",
            "Hungary",
            "Ukraine"
           ],
           "ids": [
            "Romania",
            "Spain",
            "Sweden",
            "Serbia",
            "Luxembourg",
            "France",
            "Greece",
            "Switzerland",
            "Latvia",
            "Poland",
            "Germany",
            "Lithuania",
            "Bulgaria",
            "Netherlands",
            "Norway",
            "Iceland",
            "Slovenia",
            "Estonia",
            "Austria",
            "Slovakia",
            "Belgium",
            "Ireland",
            "Montenegro",
            "Albania",
            "Finland",
            "Denmark",
            "Italy",
            "Croatia",
            "Malta",
            "Hungary",
            "Ukraine"
           ],
           "legendgroup": "Europe",
           "marker": {
            "color": "#2CA02C",
            "size": [
             162,
             76,
             66,
             128,
             81,
             92,
             79,
             66,
             220,
             144,
             84,
             228,
             156,
             72,
             72,
             61,
             104,
             187,
             84,
             140,
             88,
             75,
             130,
             106,
             100,
             89,
             65,
             116,
             63,
             182,
             280
            ],
            "sizemode": "area",
            "sizeref": 0.53,
            "symbol": "circle"
           },
           "mode": "markers",
           "name": "Europe",
           "orientation": "v",
           "showlegend": true,
           "type": "scatter",
           "x": [
            10.1,
            8.9,
            12.4,
            10.2,
            11.3,
            10.4,
            9.8,
            12,
            12.1,
            11.6,
            13.3,
            11.8,
            10.2,
            11.6,
            12.4,
            10,
            11.7,
            12.1,
            9.9,
            10.8,
            10.7,
            11.7,
            10.5,
            9.1,
            12,
            12.8,
            9.2,
            9.7,
            9.8,
            10.9,
            11.2
           ],
           "xaxis": "x",
           "y": [
            146.01,
            107.66,
            164.62,
            286.32,
            159.07,
            232.09,
            46.53,
            246.19,
            312.06,
            186.04,
            161.49,
            485.78999999999996,
            178.06,
            113.28,
            142.09,
            115,
            337.40999999999997,
            256.43,
            235.25,
            165.37,
            231.75,
            121.11,
            274.48,
            0,
            230.52,
            164.23,
            82.59,
            269.57,
            67.94,
            352.01,
            297.18
           ],
           "yaxis": "y"
          },
          {
           "hovertemplate": "<b>%{hovertext}</b><br><br>Continent=Africa<br>Year=2005<br>avg_years_of_schooling=%{x}<br>suicides_per_100k=%{y}<br>Both sexes=%{marker.size}<extra></extra>",
           "hovertext": [
            "South Africa",
            "Mauritius",
            "Seychelles"
           ],
           "ids": [
            "South Africa",
            "Mauritius",
            "Seychelles"
           ],
           "legendgroup": "Africa",
           "marker": {
            "color": "#D62728",
            "size": [
             474,
             164,
             185
            ],
            "sizemode": "area",
            "sizeref": 0.53,
            "symbol": "circle"
           },
           "mode": "markers",
           "name": "Africa",
           "orientation": "v",
           "showlegend": true,
           "type": "scatter",
           "x": [
            8.9,
            7.2,
            7.7
           ],
           "xaxis": "x",
           "y": [
            15.290000000000001,
            102.51,
            71.5
           ],
           "yaxis": "y"
          },
          {
           "hovertemplate": "<b>%{hovertext}</b><br><br>Continent=North America<br>Year=2005<br>avg_years_of_schooling=%{x}<br>suicides_per_100k=%{y}<br>Both sexes=%{marker.size}<extra></extra>",
           "hovertext": [
            "Barbados",
            "Trinidad and Tobago",
            "Antigua and Barbuda",
            "Cuba",
            "Costa Rica",
            "Saint Lucia",
            "Canada",
            "Bahamas",
            "Guatemala",
            "Jamaica",
            "Mexico",
            "Belize",
            "El Salvador",
            "Grenada",
            "Panama"
           ],
           "ids": [
            "Barbados",
            "Trinidad and Tobago",
            "Antigua and Barbuda",
            "Cuba",
            "Costa Rica",
            "Saint Lucia",
            "Canada",
            "Bahamas",
            "Guatemala",
            "Jamaica",
            "Mexico",
            "Belize",
            "El Salvador",
            "Grenada",
            "Panama"
           ],
           "legendgroup": "North America",
           "marker": {
            "color": "#9467BD",
            "size": [
             114,
             195,
             156,
             110,
             96,
             158,
             76,
             180,
             211,
             164,
             134,
             190,
             206,
             171,
             116
            ],
            "sizemode": "area",
            "sizeref": 0.53,
            "symbol": "circle"
           },
           "mode": "markers",
           "name": "North America",
           "orientation": "v",
           "showlegend": true,
           "type": "scatter",
           "x": [
            9.2,
            10,
            9.1,
            9.9,
            7.9,
            7.5,
            12.2,
            10.9,
            3.5,
            8.1,
            7.6,
            10.3,
            6,
            7.8,
            9
           ],
           "xaxis": "x",
           "y": [
            2.58,
            144.14000000000001,
            0,
            205.94,
            78.73,
            24.82,
            133.84,
            13.32,
            32.61,
            26.169999999999998,
            62.22,
            46.1,
            115.73,
            160.82,
            77.81
           ],
           "yaxis": "y"
          },
          {
           "hovertemplate": "<b>%{hovertext}</b><br><br>Continent=Oceania<br>Year=2005<br>avg_years_of_schooling=%{x}<br>suicides_per_100k=%{y}<br>Both sexes=%{marker.size}<extra></extra>",
           "hovertext": [
            "New Zealand",
            "Fiji"
           ],
           "ids": [
            "New Zealand",
            "Fiji"
           ],
           "legendgroup": "Oceania",
           "marker": {
            "color": "#8C564B",
            "size": [
             77,
             214
            ],
            "sizemode": "area",
            "sizeref": 0.53,
            "symbol": "circle"
           },
           "mode": "markers",
           "name": "Oceania",
           "orientation": "v",
           "showlegend": true,
           "type": "scatter",
           "x": [
            11.7,
            9.2
           ],
           "xaxis": "x",
           "y": [
            157.93,
            52.83
           ],
           "yaxis": "y"
          }
         ],
         "name": "2005"
        },
        {
         "data": [
          {
           "hovertemplate": "<b>%{hovertext}</b><br><br>Continent=Asia<br>Year=2006<br>avg_years_of_schooling=%{x}<br>suicides_per_100k=%{y}<br>Both sexes=%{marker.size}<extra></extra>",
           "hovertext": [
            "Japan",
            "Israel",
            "Kuwait",
            "Armenia",
            "Sri Lanka",
            "Singapore",
            "Kazakhstan",
            "Cyprus",
            "Georgia",
            "United Arab Emirates",
            "Thailand",
            "Philippines",
            "Qatar",
            "Kyrgyzstan",
            "Bahrain"
           ],
           "ids": [
            "Japan",
            "Israel",
            "Kuwait",
            "Armenia",
            "Sri Lanka",
            "Singapore",
            "Kazakhstan",
            "Cyprus",
            "Georgia",
            "United Arab Emirates",
            "Thailand",
            "Philippines",
            "Qatar",
            "Kyrgyzstan",
            "Bahrain"
           ],
           "legendgroup": "Asia",
           "marker": {
            "color": "#1F77B4",
            "size": [
             67,
             69,
             87,
             145,
             145,
             71,
             299,
             64,
             145,
             88,
             174,
             215,
             66,
             233,
             89
            ],
            "sizemode": "area",
            "sizeref": 0.53,
            "symbol": "circle"
           },
           "mode": "markers",
           "name": "Asia",
           "orientation": "v",
           "showlegend": true,
           "type": "scatter",
           "x": [
            11.2,
            12.1,
            6.2,
            10.9,
            10.5,
            10.1,
            11.7,
            10.9,
            12.1,
            9.3,
            7,
            8.8,
            9.2,
            10.2,
            8.4
           ],
           "xaxis": "x",
           "y": [
            262.24,
            80.52,
            15.83,
            43.67,
            328.73,
            148.75,
            374.73,
            27.64,
            23.51,
            16.55,
            69.04,
            36.66,
            87.30000000000001,
            145.99,
            27.18
           ],
           "yaxis": "y"
          },
          {
           "hovertemplate": "<b>%{hovertext}</b><br><br>Continent=South America<br>Year=2006<br>avg_years_of_schooling=%{x}<br>suicides_per_100k=%{y}<br>Both sexes=%{marker.size}<extra></extra>",
           "hovertext": [
            "Colombia",
            "Suriname",
            "Guyana",
            "Chile",
            "Argentina",
            "Uruguay",
            "Paraguay",
            "Ecuador",
            "Brazil"
           ],
           "ids": [
            "Colombia",
            "Suriname",
            "Guyana",
            "Chile",
            "Argentina",
            "Uruguay",
            "Paraguay",
            "Ecuador",
            "Brazil"
           ],
           "legendgroup": "South America",
           "marker": {
            "color": "#FF7F0E",
            "size": [
             146,
             203,
             267,
             93,
             124,
             118,
             161,
             144,
             160
            ],
            "sizemode": "area",
            "sizeref": 0.53,
            "symbol": "circle"
           },
           "mode": "markers",
           "name": "South America",
           "orientation": "v",
           "showlegend": true,
           "type": "scatter",
           "x": [
            6.7,
            7.7,
            7.9,
            9.5,
            9,
            8,
            7.1,
            7.3,
            6.4
           ],
           "xaxis": "x",
           "y": [
            78.41,
            298.26,
            394.6,
            155.06,
            128.22,
            248.11,
            65.57000000000001,
            93.07,
            69.89999999999999
           ],
           "yaxis": "y"
          },
          {
           "hovertemplate": "<b>%{hovertext}</b><br><br>Continent=Europe<br>Year=2006<br>avg_years_of_schooling=%{x}<br>suicides_per_100k=%{y}<br>Both sexes=%{marker.size}<extra></extra>",
           "hovertext": [
            "Croatia",
            "Ireland",
            "Hungary",
            "Romania",
            "Slovakia",
            "Austria",
            "Iceland",
            "Italy",
            "Spain",
            "Serbia",
            "Netherlands",
            "Slovenia",
            "Bulgaria",
            "Estonia",
            "Denmark",
            "Norway",
            "Luxembourg",
            "France",
            "Lithuania",
            "Belgium",
            "Germany",
            "Malta",
            "Sweden",
            "Switzerland",
            "Greece",
            "Ukraine",
            "Montenegro",
            "Finland",
            "Latvia",
            "Poland",
            "Albania"
           ],
           "ids": [
            "Croatia",
            "Ireland",
            "Hungary",
            "Romania",
            "Slovakia",
            "Austria",
            "Iceland",
            "Italy",
            "Spain",
            "Serbia",
            "Netherlands",
            "Slovenia",
            "Bulgaria",
            "Estonia",
            "Denmark",
            "Norway",
            "Luxembourg",
            "France",
            "Lithuania",
            "Belgium",
            "Germany",
            "Malta",
            "Sweden",
            "Switzerland",
            "Greece",
            "Ukraine",
            "Montenegro",
            "Finland",
            "Latvia",
            "Poland",
            "Albania"
           ],
           "legendgroup": "Europe",
           "marker": {
            "color": "#2CA02C",
            "size": [
             114,
             75,
             178,
             158,
             138,
             80,
             62,
             64,
             73,
             126,
             70,
             107,
             157,
             186,
             91,
             69,
             78,
             90,
             235,
             85,
             83,
             63,
             64,
             64,
             76,
             268,
             127,
             95,
             232,
             145,
             101
            ],
            "sizemode": "area",
            "sizeref": 0.53,
            "symbol": "circle"
           },
           "mode": "markers",
           "name": "Europe",
           "orientation": "v",
           "showlegend": true,
           "type": "scatter",
           "x": [
            9.9,
            11.8,
            11.1,
            10.3,
            10.9,
            10.1,
            10.2,
            9.3,
            9,
            10.2,
            11.8,
            11.8,
            10.4,
            12.2,
            12.8,
            12.5,
            11.5,
            10.6,
            12,
            11.1,
            13.6,
            9.8,
            12.4,
            12.3,
            9.9,
            11.2,
            10.7,
            12,
            12.2,
            11.7,
            9.2
           ],
           "xaxis": "x",
           "y": [
            248.22,
            126.46,
            312.65999999999997,
            149.09,
            0,
            218.9,
            106.39,
            81.61,
            99.86999999999999,
            286.07,
            113.19,
            347.87,
            186.53,
            242.63,
            162.07999999999998,
            142.67,
            183.79,
            220.63,
            400.57,
            214.9,
            152.52,
            87.21000000000001,
            160.76,
            241.63,
            45.410000000000004,
            282.78999999999996,
            0,
            233.8,
            288.9,
            182.85,
            0
           ],
           "yaxis": "y"
          },
          {
           "hovertemplate": "<b>%{hovertext}</b><br><br>Continent=Africa<br>Year=2006<br>avg_years_of_schooling=%{x}<br>suicides_per_100k=%{y}<br>Both sexes=%{marker.size}<extra></extra>",
           "hovertext": [
            "Seychelles",
            "South Africa",
            "Mauritius"
           ],
           "ids": [
            "Seychelles",
            "South Africa",
            "Mauritius"
           ],
           "legendgroup": "Africa",
           "marker": {
            "color": "#D62728",
            "size": [
             185,
             477,
             162
            ],
            "sizemode": "area",
            "sizeref": 0.53,
            "symbol": "circle"
           },
           "mode": "markers",
           "name": "Africa",
           "orientation": "v",
           "showlegend": true,
           "type": "scatter",
           "x": [
            7.8,
            9,
            7.4
           ],
           "xaxis": "x",
           "y": [
            275.75,
            17.92,
            163.68
           ],
           "yaxis": "y"
          },
          {
           "hovertemplate": "<b>%{hovertext}</b><br><br>Continent=North America<br>Year=2006<br>avg_years_of_schooling=%{x}<br>suicides_per_100k=%{y}<br>Both sexes=%{marker.size}<extra></extra>",
           "hovertext": [
            "Cuba",
            "Jamaica",
            "Bahamas",
            "Guatemala",
            "Saint Lucia",
            "Costa Rica",
            "Panama",
            "Mexico",
            "Barbados",
            "Trinidad and Tobago",
            "Grenada",
            "Antigua and Barbuda",
            "El Salvador",
            "Belize",
            "Canada"
           ],
           "ids": [
            "Cuba",
            "Jamaica",
            "Bahamas",
            "Guatemala",
            "Saint Lucia",
            "Costa Rica",
            "Panama",
            "Mexico",
            "Barbados",
            "Trinidad and Tobago",
            "Grenada",
            "Antigua and Barbuda",
            "El Salvador",
            "Belize",
            "Canada"
           ],
           "legendgroup": "North America",
           "marker": {
            "color": "#9467BD",
            "size": [
             103,
             154,
             177,
             205,
             155,
             104,
             119,
             131,
             113,
             189,
             167,
             155,
             203,
             185,
             74
            ],
            "sizemode": "area",
            "sizeref": 0.53,
            "symbol": "circle"
           },
           "mode": "markers",
           "name": "North America",
           "orientation": "v",
           "showlegend": true,
           "type": "scatter",
           "x": [
            10.1,
            8.3,
            10.9,
            3.7,
            7.6,
            7.9,
            9.1,
            8,
            9.2,
            9.9,
            7.9,
            9.2,
            6.4,
            10.3,
            12.3
           ],
           "xaxis": "x",
           "y": [
            202.55,
            0,
            5.640000000000001,
            41.95,
            17.83,
            100.83,
            91.63,
            59.22,
            45.38,
            133.89000000000001,
            9.89,
            0,
            99.57,
            37.92,
            126.42999999999999
           ],
           "yaxis": "y"
          },
          {
           "hovertemplate": "<b>%{hovertext}</b><br><br>Continent=Oceania<br>Year=2006<br>avg_years_of_schooling=%{x}<br>suicides_per_100k=%{y}<br>Both sexes=%{marker.size}<extra></extra>",
           "hovertext": [
            "Australia",
            "Fiji",
            "New Zealand"
           ],
           "ids": [
            "Australia",
            "Fiji",
            "New Zealand"
           ],
           "legendgroup": "Oceania",
           "marker": {
            "color": "#8C564B",
            "size": [
             65,
             212,
             75
            ],
            "sizemode": "area",
            "sizeref": 0.53,
            "symbol": "circle"
           },
           "mode": "markers",
           "name": "Oceania",
           "orientation": "v",
           "showlegend": true,
           "type": "scatter",
           "x": [
            11.9,
            9.3,
            11.7
           ],
           "xaxis": "x",
           "y": [
            127.89,
            30.77,
            156.74
           ],
           "yaxis": "y"
          }
         ],
         "name": "2006"
        },
        {
         "data": [
          {
           "hovertemplate": "<b>%{hovertext}</b><br><br>Continent=Asia<br>Year=2007<br>avg_years_of_schooling=%{x}<br>suicides_per_100k=%{y}<br>Both sexes=%{marker.size}<extra></extra>",
           "hovertext": [
            "Singapore",
            "Israel",
            "Philippines",
            "Bahrain",
            "Qatar",
            "Kyrgyzstan",
            "Kuwait",
            "Kazakhstan",
            "Japan",
            "Maldives",
            "Azerbaijan",
            "Georgia",
            "Thailand",
            "Armenia",
            "Cyprus",
            "United Arab Emirates"
           ],
           "ids": [
            "Singapore",
            "Israel",
            "Philippines",
            "Bahrain",
            "Qatar",
            "Kyrgyzstan",
            "Kuwait",
            "Kazakhstan",
            "Japan",
            "Maldives",
            "Azerbaijan",
            "Georgia",
            "Thailand",
            "Armenia",
            "Cyprus",
            "United Arab Emirates"
           ],
           "legendgroup": "Asia",
           "marker": {
            "color": "#1F77B4",
            "size": [
             68,
             67,
             208,
             80,
             66,
             230,
             86,
             293,
             66,
             83,
             141,
             140,
             170,
             137,
             70,
             86
            ],
            "sizemode": "area",
            "sizeref": 0.53,
            "symbol": "circle"
           },
           "mode": "markers",
           "name": "Asia",
           "orientation": "v",
           "showlegend": true,
           "type": "scatter",
           "x": [
            10.2,
            12.5,
            8.9,
            8.4,
            9.6,
            10.3,
            6.3,
            11.6,
            11.3,
            3.9,
            10.2,
            12.1,
            7.1,
            11,
            11.2,
            9.4
           ],
           "xaxis": "x",
           "y": [
            165.76,
            73.67,
            29.169999999999998,
            32.09,
            28.61,
            125.89,
            13.02,
            375.63,
            268.76,
            14.36,
            11.83,
            36.59,
            79.14,
            39.019999999999996,
            36.17,
            15.99
           ],
           "yaxis": "y"
          },
          {
           "hovertemplate": "<b>%{hovertext}</b><br><br>Continent=South America<br>Year=2007<br>avg_years_of_schooling=%{x}<br>suicides_per_100k=%{y}<br>Both sexes=%{marker.size}<extra></extra>",
           "hovertext": [
            "Chile",
            "Colombia",
            "Paraguay",
            "Brazil",
            "Guyana",
            "Argentina",
            "Suriname",
            "Uruguay",
            "Ecuador"
           ],
           "ids": [
            "Chile",
            "Colombia",
            "Paraguay",
            "Brazil",
            "Guyana",
            "Argentina",
            "Suriname",
            "Uruguay",
            "Ecuador"
           ],
           "legendgroup": "South America",
           "marker": {
            "color": "#FF7F0E",
            "size": [
             93,
             141,
             159,
             158,
             257,
             126,
             200,
             124,
             141
            ],
            "sizemode": "area",
            "sizeref": 0.53,
            "symbol": "circle"
           },
           "mode": "markers",
           "name": "South America",
           "orientation": "v",
           "showlegend": true,
           "type": "scatter",
           "x": [
            9.4,
            7.2,
            7.1,
            6.5,
            8,
            8.9,
            7.7,
            8.2,
            7.3
           ],
           "xaxis": "x",
           "y": [
            150.92000000000002,
            74.25,
            62.51,
            71.68,
            373.75,
            118.35,
            356.14,
            266.31,
            95.97
           ],
           "yaxis": "y"
          },
          {
           "hovertemplate": "<b>%{hovertext}</b><br><br>Continent=Europe<br>Year=2007<br>avg_years_of_schooling=%{x}<br>suicides_per_100k=%{y}<br>Both sexes=%{marker.size}<extra></extra>",
           "hovertext": [
            "Romania",
            "Norway",
            "Belgium",
            "Montenegro",
            "Netherlands",
            "Italy",
            "Belarus",
            "Portugal",
            "Latvia",
            "Poland",
            "Lithuania",
            "Bulgaria",
            "Serbia",
            "Luxembourg",
            "Malta",
            "Austria",
            "Croatia",
            "Hungary",
            "Finland",
            "Denmark",
            "Ukraine",
            "France",
            "Spain",
            "Germany",
            "Greece",
            "Switzerland",
            "Sweden",
            "Ireland",
            "Estonia",
            "Slovenia",
            "Albania",
            "Slovakia",
            "Iceland"
           ],
           "ids": [
            "Romania",
            "Norway",
            "Belgium",
            "Montenegro",
            "Netherlands",
            "Italy",
            "Belarus",
            "Portugal",
            "Latvia",
            "Poland",
            "Lithuania",
            "Bulgaria",
            "Serbia",
            "Luxembourg",
            "Malta",
            "Austria",
            "Croatia",
            "Hungary",
            "Finland",
            "Denmark",
            "Ukraine",
            "France",
            "Spain",
            "Germany",
            "Greece",
            "Switzerland",
            "Sweden",
            "Ireland",
            "Estonia",
            "Slovenia",
            "Albania",
            "Slovakia",
            "Iceland"
           ],
           "legendgroup": "Europe",
           "marker": {
            "color": "#2CA02C",
            "size": [
             155,
             67,
             86,
             123,
             67,
             62,
             230,
             92,
             224,
             145,
             246,
             153,
             123,
             75,
             65,
             80,
             115,
             176,
             96,
             91,
             278,
             88,
             72,
             82,
             78,
             62,
             63,
             72,
             187,
             102,
             101,
             139,
             60
            ],
            "sizemode": "area",
            "sizeref": 0.53,
            "symbol": "circle"
           },
           "mode": "markers",
           "name": "Europe",
           "orientation": "v",
           "showlegend": true,
           "type": "scatter",
           "x": [
            10.5,
            12.6,
            11.1,
            10.8,
            12,
            9.4,
            10.6,
            7.7,
            12.3,
            11.8,
            12.1,
            10.5,
            10.2,
            11.7,
            9.9,
            11.6,
            10.1,
            11.3,
            12,
            12.5,
            11.2,
            10.7,
            9.1,
            13.7,
            10,
            12.6,
            12.5,
            11.9,
            12.2,
            11.8,
            9.2,
            11.1,
            10.3
           ],
           "xaxis": "x",
           "y": [
            136.06,
            127.77,
            208.57,
            335.53,
            97.44,
            81.96000000000001,
            355.89,
            143.55,
            295.75,
            166.47,
            406.79,
            173.76999999999998,
            258.45,
            183.89000000000001,
            73.84,
            217.31,
            243.45,
            327.32,
            223.08,
            139.96,
            281.12,
            213.69,
            98.95,
            146.52,
            33.91,
            255.81,
            147.39,
            121.77,
            265.05,
            291.45,
            65.85,
            0,
            163.29
           ],
           "yaxis": "y"
          },
          {
           "hovertemplate": "<b>%{hovertext}</b><br><br>Continent=Africa<br>Year=2007<br>avg_years_of_schooling=%{x}<br>suicides_per_100k=%{y}<br>Both sexes=%{marker.size}<extra></extra>",
           "hovertext": [
            "Mauritius",
            "Seychelles",
            "South Africa"
           ],
           "ids": [
            "Mauritius",
            "Seychelles",
            "South Africa"
           ],
           "legendgroup": "Africa",
           "marker": {
            "color": "#D62728",
            "size": [
             160,
             185,
             475
            ],
            "sizemode": "area",
            "sizeref": 0.53,
            "symbol": "circle"
           },
           "mode": "markers",
           "name": "Africa",
           "orientation": "v",
           "showlegend": true,
           "type": "scatter",
           "x": [
            7.6,
            7.9,
            9.1
           ],
           "xaxis": "x",
           "y": [
            141.45,
            147.64000000000001,
            12.12
           ],
           "yaxis": "y"
          },
          {
           "hovertemplate": "<b>%{hovertext}</b><br><br>Continent=North America<br>Year=2007<br>avg_years_of_schooling=%{x}<br>suicides_per_100k=%{y}<br>Both sexes=%{marker.size}<extra></extra>",
           "hovertext": [
            "Mexico",
            "Panama",
            "Canada",
            "Bahamas",
            "Barbados",
            "Belize",
            "Costa Rica",
            "Grenada",
            "Trinidad and Tobago",
            "Cuba",
            "Guatemala",
            "Antigua and Barbuda",
            "El Salvador"
           ],
           "ids": [
            "Mexico",
            "Panama",
            "Canada",
            "Bahamas",
            "Barbados",
            "Belize",
            "Costa Rica",
            "Grenada",
            "Trinidad and Tobago",
            "Cuba",
            "Guatemala",
            "Antigua and Barbuda",
            "El Salvador"
           ],
           "legendgroup": "North America",
           "marker": {
            "color": "#9467BD",
            "size": [
             129,
             119,
             74,
             171,
             112,
             181,
             91,
             164,
             188,
             102,
             191,
             149,
             200
            ],
            "sizemode": "area",
            "sizeref": 0.53,
            "symbol": "circle"
           },
           "mode": "markers",
           "name": "North America",
           "orientation": "v",
           "showlegend": true,
           "type": "scatter",
           "x": [
            8,
            9.2,
            12.4,
            10.9,
            9.3,
            10.4,
            8.1,
            8,
            10.5,
            10.4,
            3.9,
            9.2,
            5.8
           ],
           "xaxis": "x",
           "y": [
            58.01,
            71.9,
            127.45,
            13.42,
            0,
            78.49000000000001,
            75.35,
            48.34,
            143.58,
            188.18,
            40.27,
            7.98,
            127.14
           ],
           "yaxis": "y"
          },
          {
           "hovertemplate": "<b>%{hovertext}</b><br><br>Continent=Oceania<br>Year=2007<br>avg_years_of_schooling=%{x}<br>suicides_per_100k=%{y}<br>Both sexes=%{marker.size}<extra></extra>",
           "hovertext": [
            "New Zealand",
            "Australia",
            "Fiji"
           ],
           "ids": [
            "New Zealand",
            "Australia",
            "Fiji"
           ],
           "legendgroup": "Oceania",
           "marker": {
            "color": "#8C564B",
            "size": [
             76,
             65,
             209
            ],
            "sizemode": "area",
            "sizeref": 0.53,
            "symbol": "circle"
           },
           "mode": "markers",
           "name": "Oceania",
           "orientation": "v",
           "showlegend": true,
           "type": "scatter",
           "x": [
            11.8,
            12,
            9.3
           ],
           "xaxis": "x",
           "y": [
            148.19,
            130.25,
            20.46
           ],
           "yaxis": "y"
          }
         ],
         "name": "2007"
        },
        {
         "data": [
          {
           "hovertemplate": "<b>%{hovertext}</b><br><br>Continent=Asia<br>Year=2008<br>avg_years_of_schooling=%{x}<br>suicides_per_100k=%{y}<br>Both sexes=%{marker.size}<extra></extra>",
           "hovertext": [
            "Bahrain",
            "Cyprus",
            "Qatar",
            "Kyrgyzstan",
            "Thailand",
            "United Arab Emirates",
            "Maldives",
            "Philippines",
            "Singapore",
            "Kazakhstan",
            "Armenia",
            "Israel",
            "Japan",
            "Kuwait"
           ],
           "ids": [
            "Bahrain",
            "Cyprus",
            "Qatar",
            "Kyrgyzstan",
            "Thailand",
            "United Arab Emirates",
            "Maldives",
            "Philippines",
            "Singapore",
            "Kazakhstan",
            "Armenia",
            "Israel",
            "Japan",
            "Kuwait"
           ],
           "legendgroup": "Asia",
           "marker": {
            "color": "#1F77B4",
            "size": [
             73,
             68,
             65,
             218,
             167,
             85,
             80,
             207,
             67,
             264,
             144,
             64,
             64,
             85
            ],
            "sizemode": "area",
            "sizeref": 0.53,
            "symbol": "circle"
           },
           "mode": "markers",
           "name": "Asia",
           "orientation": "v",
           "showlegend": true,
           "type": "scatter",
           "x": [
            8.4,
            11.3,
            9.7,
            10.3,
            7.3,
            9.6,
            4.3,
            9,
            10.5,
            11.5,
            11,
            12.6,
            11.4,
            6.5
           ],
           "xaxis": "x",
           "y": [
            27.89,
            59.07,
            13.55,
            135.96,
            78.18,
            11.86,
            0,
            33.05,
            150.25,
            366.94,
            35.15,
            87.33,
            265.32,
            11.76
           ],
           "yaxis": "y"
          },
          {
           "hovertemplate": "<b>%{hovertext}</b><br><br>Continent=South America<br>Year=2008<br>avg_years_of_schooling=%{x}<br>suicides_per_100k=%{y}<br>Both sexes=%{marker.size}<extra></extra>",
           "hovertext": [
            "Argentina",
            "Ecuador",
            "Brazil",
            "Uruguay",
            "Paraguay",
            "Chile",
            "Guyana",
            "Colombia",
            "Suriname"
           ],
           "ids": [
            "Argentina",
            "Ecuador",
            "Brazil",
            "Uruguay",
            "Paraguay",
            "Chile",
            "Guyana",
            "Colombia",
            "Suriname"
           ],
           "legendgroup": "South America",
           "marker": {
            "color": "#FF7F0E",
            "size": [
             123,
             141,
             157,
             119,
             157,
             91,
             249,
             142,
             200
            ],
            "sizemode": "area",
            "sizeref": 0.53,
            "symbol": "circle"
           },
           "mode": "markers",
           "name": "South America",
           "orientation": "v",
           "showlegend": true,
           "type": "scatter",
           "x": [
            8.9,
            7.9,
            6.7,
            8.4,
            7.4,
            9.9,
            8,
            7.3,
            7.7
           ],
           "xaxis": "x",
           "y": [
            118.11,
            95.29,
            72.21,
            234.53,
            58.32,
            167.88,
            353.62,
            74.22,
            416.82
           ],
           "yaxis": "y"
          },
          {
           "hovertemplate": "<b>%{hovertext}</b><br><br>Continent=Europe<br>Year=2008<br>avg_years_of_schooling=%{x}<br>suicides_per_100k=%{y}<br>Both sexes=%{marker.size}<extra></extra>",
           "hovertext": [
            "Lithuania",
            "Poland",
            "Romania",
            "Portugal",
            "Latvia",
            "Sweden",
            "Greece",
            "Albania",
            "Switzerland",
            "Netherlands",
            "Finland",
            "Belgium",
            "Norway",
            "Malta",
            "Germany",
            "Belarus",
            "Denmark",
            "Ukraine",
            "France",
            "Bulgaria",
            "Luxembourg",
            "Estonia",
            "Montenegro",
            "Spain",
            "Slovenia",
            "Hungary",
            "Serbia",
            "Italy",
            "Iceland",
            "Croatia",
            "Austria",
            "Ireland",
            "Slovakia"
           ],
           "ids": [
            "Lithuania",
            "Poland",
            "Romania",
            "Portugal",
            "Latvia",
            "Sweden",
            "Greece",
            "Albania",
            "Switzerland",
            "Netherlands",
            "Finland",
            "Belgium",
            "Norway",
            "Malta",
            "Germany",
            "Belarus",
            "Denmark",
            "Ukraine",
            "France",
            "Bulgaria",
            "Luxembourg",
            "Estonia",
            "Montenegro",
            "Spain",
            "Slovenia",
            "Hungary",
            "Serbia",
            "Italy",
            "Iceland",
            "Croatia",
            "Austria",
            "Ireland",
            "Slovakia"
           ],
           "legendgroup": "Europe",
           "marker": {
            "color": "#2CA02C",
            "size": [
             229,
             142,
             160,
             89,
             200,
             62,
             75,
             102,
             59,
             67,
             94,
             86,
             66,
             62,
             81,
             228,
             86,
             275,
             87,
             150,
             69,
             164,
             119,
             70,
             96,
             164,
             122,
             61,
             57,
             117,
             76,
             72,
             135
            ],
            "sizemode": "area",
            "sizeref": 0.53,
            "symbol": "circle"
           },
           "mode": "markers",
           "name": "Europe",
           "orientation": "v",
           "showlegend": true,
           "type": "scatter",
           "x": [
            12.2,
            11.9,
            10.6,
            7.8,
            12.2,
            12.2,
            10.1,
            9.2,
            12.9,
            12,
            12.2,
            11,
            12.7,
            10,
            13.7,
            11.3,
            12.9,
            11.3,
            10.7,
            10.5,
            11.7,
            12.3,
            10.9,
            9.2,
            11.9,
            11.5,
            10.4,
            9.5,
            10.4,
            10.3,
            11.5,
            12,
            11.2
           ],
           "xaxis": "x",
           "y": [
            430.05,
            177.38,
            140.4,
            141.02,
            323.69,
            155.68,
            40.3,
            71.05,
            237.51,
            102.09,
            220.29,
            221.54,
            132.03,
            38.68,
            145.52,
            352.15999999999997,
            143.05,
            274.5,
            216.21,
            170.34,
            112.31,
            244.57,
            308.09000000000003,
            98.52,
            263.09,
            331.68,
            242.61,
            81.69,
            136.09,
            265.69,
            216.45,
            129.56,
            134.2
           ],
           "yaxis": "y"
          },
          {
           "hovertemplate": "<b>%{hovertext}</b><br><br>Continent=Africa<br>Year=2008<br>avg_years_of_schooling=%{x}<br>suicides_per_100k=%{y}<br>Both sexes=%{marker.size}<extra></extra>",
           "hovertext": [
            "Mauritius",
            "South Africa",
            "Seychelles"
           ],
           "ids": [
            "Mauritius",
            "South Africa",
            "Seychelles"
           ],
           "legendgroup": "Africa",
           "marker": {
            "color": "#D62728",
            "size": [
             165,
             458,
             185
            ],
            "sizemode": "area",
            "sizeref": 0.53,
            "symbol": "circle"
           },
           "mode": "markers",
           "name": "Africa",
           "orientation": "v",
           "showlegend": true,
           "type": "scatter",
           "x": [
            7.8,
            9.7,
            8
           ],
           "xaxis": "x",
           "y": [
            78.13,
            14.14,
            39.07
           ],
           "yaxis": "y"
          },
          {
           "hovertemplate": "<b>%{hovertext}</b><br><br>Continent=North America<br>Year=2008<br>avg_years_of_schooling=%{x}<br>suicides_per_100k=%{y}<br>Both sexes=%{marker.size}<extra></extra>",
           "hovertext": [
            "El Salvador",
            "Barbados",
            "Grenada",
            "Belize",
            "Panama",
            "Antigua and Barbuda",
            "Mexico",
            "Trinidad and Tobago",
            "Canada",
            "Bahamas",
            "Guatemala",
            "Cuba",
            "Costa Rica",
            "Saint Lucia"
           ],
           "ids": [
            "El Salvador",
            "Barbados",
            "Grenada",
            "Belize",
            "Panama",
            "Antigua and Barbuda",
            "Mexico",
            "Trinidad and Tobago",
            "Canada",
            "Bahamas",
            "Guatemala",
            "Cuba",
            "Costa Rica",
            "Saint Lucia"
           ],
           "legendgroup": "North America",
           "marker": {
            "color": "#9467BD",
            "size": [
             198,
             112,
             162,
             183,
             122,
             147,
             133,
             195,
             73,
             168,
             186,
             100,
             97,
             152
            ],
            "sizemode": "area",
            "sizeref": 0.53,
            "symbol": "circle"
           },
           "mode": "markers",
           "name": "North America",
           "orientation": "v",
           "showlegend": true,
           "type": "scatter",
           "x": [
            6.4,
            9.3,
            8.1,
            10.4,
            9.2,
            9.3,
            8,
            10.7,
            12.4,
            10.9,
            4.3,
            10.6,
            8.4,
            7.8
           ],
           "xaxis": "x",
           "y": [
            125.82,
            2.31,
            0,
            86.36,
            73.3,
            0,
            60.83,
            178.25,
            127.59,
            12.49,
            54.76,
            190.99,
            72.27,
            0
           ],
           "yaxis": "y"
          },
          {
           "hovertemplate": "<b>%{hovertext}</b><br><br>Continent=Oceania<br>Year=2008<br>avg_years_of_schooling=%{x}<br>suicides_per_100k=%{y}<br>Both sexes=%{marker.size}<extra></extra>",
           "hovertext": [
            "New Zealand",
            "Fiji",
            "Australia"
           ],
           "ids": [
            "New Zealand",
            "Fiji",
            "Australia"
           ],
           "legendgroup": "Oceania",
           "marker": {
            "color": "#8C564B",
            "size": [
             74,
             206,
             64
            ],
            "sizemode": "area",
            "sizeref": 0.53,
            "symbol": "circle"
           },
           "mode": "markers",
           "name": "Oceania",
           "orientation": "v",
           "showlegend": true,
           "type": "scatter",
           "x": [
            11.8,
            9.4,
            12.3
           ],
           "xaxis": "x",
           "y": [
            151.78,
            47.48,
            130.49
           ],
           "yaxis": "y"
          }
         ],
         "name": "2008"
        },
        {
         "data": [
          {
           "hovertemplate": "<b>%{hovertext}</b><br><br>Continent=Asia<br>Year=2009<br>avg_years_of_schooling=%{x}<br>suicides_per_100k=%{y}<br>Both sexes=%{marker.size}<extra></extra>",
           "hovertext": [
            "United Arab Emirates",
            "Oman",
            "Israel",
            "Uzbekistan",
            "Singapore",
            "Armenia",
            "Thailand",
            "Kazakhstan",
            "Cyprus",
            "Qatar",
            "Kyrgyzstan",
            "Philippines",
            "Japan",
            "Bahrain",
            "Turkey",
            "Kuwait",
            "Georgia"
           ],
           "ids": [
            "United Arab Emirates",
            "Oman",
            "Israel",
            "Uzbekistan",
            "Singapore",
            "Armenia",
            "Thailand",
            "Kazakhstan",
            "Cyprus",
            "Qatar",
            "Kyrgyzstan",
            "Philippines",
            "Japan",
            "Bahrain",
            "Turkey",
            "Kuwait",
            "Georgia"
           ],
           "legendgroup": "Asia",
           "marker": {
            "color": "#1F77B4",
            "size": [
             83,
             108,
             61,
             149,
             62,
             142,
             164,
             240,
             68,
             65,
             204,
             207,
             63,
             69,
             118,
             85,
             156
            ],
            "sizemode": "area",
            "sizeref": 0.53,
            "symbol": "circle"
           },
           "mode": "markers",
           "name": "Asia",
           "orientation": "v",
           "showlegend": true,
           "type": "scatter",
           "x": [
            9.7,
            7.7,
            12.6,
            10.5,
            10.5,
            11.1,
            7.5,
            11.5,
            11.3,
            9.2,
            10.4,
            9,
            11.4,
            8.4,
            6.5,
            6.6,
            12.2
           ],
           "xaxis": "x",
           "y": [
            11.73,
            21.19,
            80.32,
            60.86,
            149.58,
            33.7,
            78.56,
            330.07,
            55.53,
            19.900000000000002,
            113.28,
            34.89,
            266.69,
            24.59,
            21.29,
            14.81,
            65.06
           ],
           "yaxis": "y"
          },
          {
           "hovertemplate": "<b>%{hovertext}</b><br><br>Continent=South America<br>Year=2009<br>avg_years_of_schooling=%{x}<br>suicides_per_100k=%{y}<br>Both sexes=%{marker.size}<extra></extra>",
           "hovertext": [
            "Paraguay",
            "Colombia",
            "Brazil",
            "Ecuador",
            "Uruguay",
            "Guyana",
            "Chile",
            "Argentina",
            "Suriname"
           ],
           "ids": [
            "Paraguay",
            "Colombia",
            "Brazil",
            "Ecuador",
            "Uruguay",
            "Guyana",
            "Chile",
            "Argentina",
            "Suriname"
           ],
           "legendgroup": "South America",
           "marker": {
            "color": "#FF7F0E",
            "size": [
             154,
             147,
             156,
             137,
             118,
             252,
             94,
             123,
             197
            ],
            "sizemode": "area",
            "sizeref": 0.53,
            "symbol": "circle"
           },
           "mode": "markers",
           "name": "South America",
           "orientation": "v",
           "showlegend": true,
           "type": "scatter",
           "x": [
            7,
            7.3,
            6.8,
            7.9,
            8.4,
            8,
            9.9,
            9.3,
            7.7
           ],
           "xaxis": "x",
           "y": [
            67.33,
            73.83,
            70.37,
            94.25,
            237.75,
            301.78,
            174.29999999999998,
            107.32,
            369.71
           ],
           "yaxis": "y"
          },
          {
           "hovertemplate": "<b>%{hovertext}</b><br><br>Continent=Europe<br>Year=2009<br>avg_years_of_schooling=%{x}<br>suicides_per_100k=%{y}<br>Both sexes=%{marker.size}<extra></extra>",
           "hovertext": [
            "Belarus",
            "Finland",
            "Ukraine",
            "Denmark",
            "Hungary",
            "Malta",
            "France",
            "Albania",
            "Netherlands",
            "Slovakia",
            "Ireland",
            "Montenegro",
            "Estonia",
            "Norway",
            "Italy",
            "Croatia",
            "Iceland",
            "Slovenia",
            "Belgium",
            "Austria",
            "Germany",
            "Lithuania",
            "Switzerland",
            "Portugal",
            "Greece",
            "Latvia",
            "Poland",
            "Serbia",
            "Bulgaria",
            "Romania",
            "Luxembourg",
            "Spain",
            "Sweden"
           ],
           "ids": [
            "Belarus",
            "Finland",
            "Ukraine",
            "Denmark",
            "Hungary",
            "Malta",
            "France",
            "Albania",
            "Netherlands",
            "Slovakia",
            "Ireland",
            "Montenegro",
            "Estonia",
            "Norway",
            "Italy",
            "Croatia",
            "Iceland",
            "Slovenia",
            "Belgium",
            "Austria",
            "Germany",
            "Lithuania",
            "Switzerland",
            "Portugal",
            "Greece",
            "Latvia",
            "Poland",
            "Serbia",
            "Bulgaria",
            "Romania",
            "Luxembourg",
            "Spain",
            "Sweden"
           ],
           "legendgroup": "Europe",
           "marker": {
            "color": "#2CA02C",
            "size": [
             225,
             90,
             235,
             84,
             160,
             61,
             87,
             103,
             65,
             130,
             74,
             115,
             154,
             67,
             60,
             109,
             55,
             91,
             84,
             77,
             80,
             197,
             59,
             88,
             76,
             185,
             137,
             120,
             147,
             160,
             67,
             67,
             61
            ],
            "sizemode": "area",
            "sizeref": 0.53,
            "symbol": "circle"
           },
           "mode": "markers",
           "name": "Europe",
           "orientation": "v",
           "showlegend": true,
           "type": "scatter",
           "x": [
            11.9,
            12.2,
            11.3,
            12.7,
            11.7,
            10.2,
            10.8,
            9.3,
            11.9,
            11.4,
            12.1,
            11,
            12.4,
            12.7,
            9.6,
            10.6,
            10.5,
            12.1,
            11.1,
            11.7,
            13.8,
            11.5,
            13.3,
            7.9,
            10.1,
            12.3,
            12.1,
            10.4,
            10.6,
            10.6,
            11.8,
            9.3,
            12.2
           ],
           "xaxis": "x",
           "y": [
            375.54,
            228.48999999999998,
            279.26,
            144.7,
            310.72,
            107.12,
            216.24,
            0,
            108.3,
            139.08,
            132.63,
            275.93,
            248.67,
            145.74,
            81.92999999999999,
            254.29,
            123.73,
            268.71,
            218.35,
            213.22,
            145.52,
            437.07,
            180.13,
            139.7,
            40.97,
            307.8,
            197.1,
            258.43,
            154.42,
            144.02,
            110.95,
            98.02,
            160.4
           ],
           "yaxis": "y"
          },
          {
           "hovertemplate": "<b>%{hovertext}</b><br><br>Continent=Africa<br>Year=2009<br>avg_years_of_schooling=%{x}<br>suicides_per_100k=%{y}<br>Both sexes=%{marker.size}<extra></extra>",
           "hovertext": [
            "Seychelles",
            "South Africa",
            "Mauritius"
           ],
           "ids": [
            "Seychelles",
            "South Africa",
            "Mauritius"
           ],
           "legendgroup": "Africa",
           "marker": {
            "color": "#D62728",
            "size": [
             183,
             435,
             165
            ],
            "sizemode": "area",
            "sizeref": 0.53,
            "symbol": "circle"
           },
           "mode": "markers",
           "name": "Africa",
           "orientation": "v",
           "showlegend": true,
           "type": "scatter",
           "x": [
            8,
            10.1,
            8
           ],
           "xaxis": "x",
           "y": [
            43.81,
            10.71,
            106.07
           ],
           "yaxis": "y"
          },
          {
           "hovertemplate": "<b>%{hovertext}</b><br><br>Continent=North America<br>Year=2009<br>avg_years_of_schooling=%{x}<br>suicides_per_100k=%{y}<br>Both sexes=%{marker.size}<extra></extra>",
           "hovertext": [
            "Antigua and Barbuda",
            "Jamaica",
            "El Salvador",
            "Belize",
            "Costa Rica",
            "Panama",
            "Mexico",
            "Bahamas",
            "Barbados",
            "Saint Lucia",
            "Canada",
            "Cuba",
            "Trinidad and Tobago",
            "Guatemala",
            "Grenada"
           ],
           "ids": [
            "Antigua and Barbuda",
            "Jamaica",
            "El Salvador",
            "Belize",
            "Costa Rica",
            "Panama",
            "Mexico",
            "Bahamas",
            "Barbados",
            "Saint Lucia",
            "Canada",
            "Cuba",
            "Trinidad and Tobago",
            "Guatemala",
            "Grenada"
           ],
           "legendgroup": "North America",
           "marker": {
            "color": "#9467BD",
            "size": [
             138,
             143,
             197,
             183,
             96,
             122,
             136,
             166,
             110,
             152,
             71,
             99,
             185,
             191,
             158
            ],
            "sizemode": "area",
            "sizeref": 0.53,
            "symbol": "circle"
           },
           "mode": "markers",
           "name": "North America",
           "orientation": "v",
           "showlegend": true,
           "type": "scatter",
           "x": [
            9.3,
            8.8,
            6.5,
            10.4,
            8.4,
            9.3,
            8.2,
            10.9,
            9.3,
            7.9,
            12.5,
            10.8,
            10.7,
            4.6,
            8.2
           ],
           "xaxis": "x",
           "y": [
            0,
            21.13,
            124.12,
            57.76,
            77.37,
            68.29,
            64.14,
            15.98,
            28.8,
            82.32,
            130.67,
            201.32999999999998,
            120.24,
            57.57,
            0
           ],
           "yaxis": "y"
          },
          {
           "hovertemplate": "<b>%{hovertext}</b><br><br>Continent=Oceania<br>Year=2009<br>avg_years_of_schooling=%{x}<br>suicides_per_100k=%{y}<br>Both sexes=%{marker.size}<extra></extra>",
           "hovertext": [
            "New Zealand",
            "Fiji",
            "Australia"
           ],
           "ids": [
            "New Zealand",
            "Fiji",
            "Australia"
           ],
           "legendgroup": "Oceania",
           "marker": {
            "color": "#8C564B",
            "size": [
             73,
             203,
             65
            ],
            "sizemode": "area",
            "sizeref": 0.53,
            "symbol": "circle"
           },
           "mode": "markers",
           "name": "Oceania",
           "orientation": "v",
           "showlegend": true,
           "type": "scatter",
           "x": [
            11.9,
            9.5,
            12.3
           ],
           "xaxis": "x",
           "y": [
            153,
            51.67,
            130.12
           ],
           "yaxis": "y"
          }
         ],
         "name": "2009"
        },
        {
         "data": [
          {
           "hovertemplate": "<b>%{hovertext}</b><br><br>Continent=Asia<br>Year=2010<br>avg_years_of_schooling=%{x}<br>suicides_per_100k=%{y}<br>Both sexes=%{marker.size}<extra></extra>",
           "hovertext": [
            "Uzbekistan",
            "Qatar",
            "Bahrain",
            "Philippines",
            "Turkmenistan",
            "Turkey",
            "United Arab Emirates",
            "Oman",
            "Singapore",
            "Armenia",
            "Thailand",
            "Kazakhstan",
            "Japan",
            "Maldives",
            "Cyprus",
            "Israel",
            "Kyrgyzstan",
            "Kuwait",
            "Georgia"
           ],
           "ids": [
            "Uzbekistan",
            "Qatar",
            "Bahrain",
            "Philippines",
            "Turkmenistan",
            "Turkey",
            "United Arab Emirates",
            "Oman",
            "Singapore",
            "Armenia",
            "Thailand",
            "Kazakhstan",
            "Japan",
            "Maldives",
            "Cyprus",
            "Israel",
            "Kyrgyzstan",
            "Kuwait",
            "Georgia"
           ],
           "legendgroup": "Asia",
           "marker": {
            "color": "#1F77B4",
            "size": [
             145,
             65,
             66,
             203,
             188,
             116,
             81,
             107,
             60,
             138,
             161,
             243,
             61,
             71,
             65,
             60,
             209,
             84,
             157
            ],
            "sizemode": "area",
            "sizeref": 0.53,
            "symbol": "circle"
           },
           "mode": "markers",
           "name": "Asia",
           "orientation": "v",
           "showlegend": true,
           "type": "scatter",
           "x": [
            10.7,
            8.4,
            8.4,
            8.9,
            9.9,
            6.7,
            9.9,
            7.9,
            11.2,
            11.1,
            7.7,
            11.4,
            11.5,
            4.9,
            11.5,
            12.6,
            10.6,
            6.8,
            12.2
           ],
           "xaxis": "x",
           "y": [
            63.230000000000004,
            12.83,
            11.89,
            36.96,
            45.75,
            31.69,
            22.71,
            3.8000000000000003,
            129.23,
            40.410000000000004,
            80.5,
            320.81,
            255.48,
            1.99,
            58.88,
            99.47,
            143.20000000000002,
            10.040000000000001,
            34.33
           ],
           "yaxis": "y"
          },
          {
           "hovertemplate": "<b>%{hovertext}</b><br><br>Continent=South America<br>Year=2010<br>avg_years_of_schooling=%{x}<br>suicides_per_100k=%{y}<br>Both sexes=%{marker.size}<extra></extra>",
           "hovertext": [
            "Suriname",
            "Paraguay",
            "Argentina",
            "Uruguay",
            "Brazil",
            "Colombia",
            "Guyana",
            "Ecuador",
            "Chile"
           ],
           "ids": [
            "Suriname",
            "Paraguay",
            "Argentina",
            "Uruguay",
            "Brazil",
            "Colombia",
            "Guyana",
            "Ecuador",
            "Chile"
           ],
           "legendgroup": "South America",
           "marker": {
            "color": "#FF7F0E",
            "size": [
             194,
             152,
             119,
             118,
             154,
             146,
             258,
             134,
             94
            ],
            "sizemode": "area",
            "sizeref": 0.53,
            "symbol": "circle"
           },
           "mode": "markers",
           "name": "South America",
           "orientation": "v",
           "showlegend": true,
           "type": "scatter",
           "x": [
            7.7,
            7.7,
            9.8,
            8.4,
            6.9,
            7.4,
            8.1,
            7.9,
            9.8
           ],
           "xaxis": "x",
           "y": [
            425.3,
            54.56,
            111.24,
            257.43,
            72.73,
            67.24,
            403.07,
            81.49,
            162.88
           ],
           "yaxis": "y"
          },
          {
           "hovertemplate": "<b>%{hovertext}</b><br><br>Continent=Europe<br>Year=2010<br>avg_years_of_schooling=%{x}<br>suicides_per_100k=%{y}<br>Both sexes=%{marker.size}<extra></extra>",
           "hovertext": [
            "Austria",
            "Switzerland",
            "Slovenia",
            "Romania",
            "Ukraine",
            "Spain",
            "Poland",
            "Serbia",
            "Portugal",
            "Belgium",
            "Belarus",
            "Slovakia",
            "Norway",
            "Sweden",
            "Albania",
            "Greece",
            "Bulgaria",
            "Hungary",
            "Iceland",
            "Croatia",
            "Italy",
            "Ireland",
            "Netherlands",
            "Germany",
            "Malta",
            "Denmark",
            "Finland",
            "Luxembourg",
            "France",
            "Latvia",
            "Estonia",
            "Lithuania"
           ],
           "ids": [
            "Austria",
            "Switzerland",
            "Slovenia",
            "Romania",
            "Ukraine",
            "Spain",
            "Poland",
            "Serbia",
            "Portugal",
            "Belgium",
            "Belarus",
            "Slovakia",
            "Norway",
            "Sweden",
            "Albania",
            "Greece",
            "Bulgaria",
            "Hungary",
            "Iceland",
            "Croatia",
            "Italy",
            "Ireland",
            "Netherlands",
            "Germany",
            "Malta",
            "Denmark",
            "Finland",
            "Luxembourg",
            "France",
            "Latvia",
            "Estonia",
            "Lithuania"
           ],
           "legendgroup": "Europe",
           "marker": {
            "color": "#2CA02C",
            "size": [
             74,
             57,
             87,
             155,
             218,
             65,
             131,
             115,
             86,
             81,
             226,
             122,
             65,
             58,
             103,
             74,
             143,
             152,
             53,
             106,
             58,
             65,
             64,
             78,
             58,
             83,
             88,
             67,
             85,
             178,
             134,
             188
            ],
            "sizemode": "area",
            "sizeref": 0.53,
            "symbol": "circle"
           },
           "mode": "markers",
           "name": "Europe",
           "orientation": "v",
           "showlegend": true,
           "type": "scatter",
           "x": [
            11.8,
            13.3,
            12.1,
            10.7,
            11.3,
            9.4,
            12.2,
            10.4,
            8.1,
            11.1,
            12,
            11.6,
            12.7,
            12.3,
            9.3,
            10.3,
            10.6,
            11.9,
            10.6,
            10.8,
            9.7,
            12.2,
            12,
            13.8,
            10.3,
            12.7,
            12.3,
            11.8,
            10.9,
            12.5,
            12.5,
            11.6
           ],
           "xaxis": "x",
           "y": [
            207.55,
            160.52,
            265.59000000000003,
            150.04,
            263.07,
            87.44,
            190.64,
            234.48,
            148.84,
            220.18,
            331.98,
            143.68,
            136.43,
            146.54,
            41.66,
            39.9,
            158.25,
            321.31,
            184.27,
            241.97,
            80.77,
            120.3,
            109.49000000000001,
            152.17000000000002,
            82.11,
            130.02,
            215.21,
            141.16,
            211.17000000000002,
            259.34000000000003,
            229.07,
            395.24
           ],
           "yaxis": "y"
          },
          {
           "hovertemplate": "<b>%{hovertext}</b><br><br>Continent=Africa<br>Year=2010<br>avg_years_of_schooling=%{x}<br>suicides_per_100k=%{y}<br>Both sexes=%{marker.size}<extra></extra>",
           "hovertext": [
            "Seychelles",
            "South Africa",
            "Mauritius"
           ],
           "ids": [
            "Seychelles",
            "South Africa",
            "Mauritius"
           ],
           "legendgroup": "Africa",
           "marker": {
            "color": "#D62728",
            "size": [
             181,
             416,
             162
            ],
            "sizemode": "area",
            "sizeref": 0.53,
            "symbol": "circle"
           },
           "mode": "markers",
           "name": "Africa",
           "orientation": "v",
           "showlegend": true,
           "type": "scatter",
           "x": [
            8.1,
            10,
            8.2
           ],
           "xaxis": "x",
           "y": [
            51.989999999999995,
            13.09,
            111.83
           ],
           "yaxis": "y"
          },
          {
           "hovertemplate": "<b>%{hovertext}</b><br><br>Continent=North America<br>Year=2010<br>avg_years_of_schooling=%{x}<br>suicides_per_100k=%{y}<br>Both sexes=%{marker.size}<extra></extra>",
           "hovertext": [
            "Belize",
            "Saint Lucia",
            "Nicaragua",
            "Bahamas",
            "Trinidad and Tobago",
            "Panama",
            "Barbados",
            "Grenada",
            "Guatemala",
            "Cuba",
            "Jamaica",
            "Costa Rica",
            "Mexico",
            "Canada",
            "El Salvador"
           ],
           "ids": [
            "Belize",
            "Saint Lucia",
            "Nicaragua",
            "Bahamas",
            "Trinidad and Tobago",
            "Panama",
            "Barbados",
            "Grenada",
            "Guatemala",
            "Cuba",
            "Jamaica",
            "Costa Rica",
            "Mexico",
            "Canada",
            "El Salvador"
           ],
           "legendgroup": "North America",
           "marker": {
            "color": "#9467BD",
            "size": [
             182,
             153,
             160,
             159,
             179,
             117,
             108,
             154,
             186,
             97,
             139,
             106,
             136,
             69,
             192
            ],
            "sizemode": "area",
            "sizeref": 0.53,
            "symbol": "circle"
           },
           "mode": "markers",
           "name": "North America",
           "orientation": "v",
           "showlegend": true,
           "type": "scatter",
           "x": [
            10.5,
            8.4,
            6,
            10.9,
            10.7,
            9.3,
            9.4,
            8.3,
            4.9,
            11,
            8.9,
            8.3,
            8,
            12.6,
            7.1
           ],
           "xaxis": "x",
           "y": [
            61.48,
            30.31,
            88.74,
            58.32,
            150.5,
            64,
            7.62,
            0,
            35.43,
            202.13,
            1.16,
            84.35,
            61.01,
            132.67,
            97.92
           ],
           "yaxis": "y"
          },
          {
           "hovertemplate": "<b>%{hovertext}</b><br><br>Continent=Oceania<br>Year=2010<br>avg_years_of_schooling=%{x}<br>suicides_per_100k=%{y}<br>Both sexes=%{marker.size}<extra></extra>",
           "hovertext": [
            "New Zealand",
            "Australia"
           ],
           "ids": [
            "New Zealand",
            "Australia"
           ],
           "legendgroup": "Oceania",
           "marker": {
            "color": "#8C564B",
            "size": [
             71,
             63
            ],
            "sizemode": "area",
            "sizeref": 0.53,
            "symbol": "circle"
           },
           "mode": "markers",
           "name": "Oceania",
           "orientation": "v",
           "showlegend": true,
           "type": "scatter",
           "x": [
            12,
            12.4
           ],
           "xaxis": "x",
           "y": [
            152.62,
            132.64000000000001
           ],
           "yaxis": "y"
          }
         ],
         "name": "2010"
        },
        {
         "data": [
          {
           "hovertemplate": "<b>%{hovertext}</b><br><br>Continent=Asia<br>Year=2011<br>avg_years_of_schooling=%{x}<br>suicides_per_100k=%{y}<br>Both sexes=%{marker.size}<extra></extra>",
           "hovertext": [
            "Singapore",
            "Bahrain",
            "Japan",
            "Kyrgyzstan",
            "Kazakhstan",
            "Kuwait",
            "Qatar",
            "Georgia",
            "Turkey",
            "Turkmenistan",
            "Uzbekistan",
            "Cyprus",
            "Thailand",
            "Armenia",
            "Israel",
            "Maldives",
            "Philippines"
           ],
           "ids": [
            "Singapore",
            "Bahrain",
            "Japan",
            "Kyrgyzstan",
            "Kazakhstan",
            "Kuwait",
            "Qatar",
            "Georgia",
            "Turkey",
            "Turkmenistan",
            "Uzbekistan",
            "Cyprus",
            "Thailand",
            "Armenia",
            "Israel",
            "Maldives",
            "Philippines"
           ],
           "legendgroup": "Asia",
           "marker": {
            "color": "#1F77B4",
            "size": [
             59,
             66,
             62,
             196,
             232,
             84,
             65,
             153,
             114,
             190,
             144,
             58,
             158,
             135,
             59,
             66,
             202
            ],
            "sizemode": "area",
            "sizeref": 0.53,
            "symbol": "circle"
           },
           "mode": "markers",
           "name": "Asia",
           "orientation": "v",
           "showlegend": true,
           "type": "scatter",
           "x": [
            11.2,
            8.6,
            11.8,
            10.6,
            11.5,
            7,
            8.7,
            12.2,
            7.2,
            9.9,
            10.9,
            11.6,
            7.5,
            11.2,
            12.7,
            5.2,
            9
           ],
           "xaxis": "x",
           "y": [
            116.96000000000001,
            14.96,
            252.41,
            126.89,
            293.76,
            11.41,
            18.85,
            36.309999999999995,
            23.07,
            31.63,
            67.14,
            43.78,
            77.59,
            32.98,
            87.41,
            5.39,
            44.910000000000004
           ],
           "yaxis": "y"
          },
          {
           "hovertemplate": "<b>%{hovertext}</b><br><br>Continent=South America<br>Year=2011<br>avg_years_of_schooling=%{x}<br>suicides_per_100k=%{y}<br>Both sexes=%{marker.size}<extra></extra>",
           "hovertext": [
            "Chile",
            "Colombia",
            "Argentina",
            "Ecuador",
            "Guyana",
            "Suriname",
            "Paraguay",
            "Brazil"
           ],
           "ids": [
            "Chile",
            "Colombia",
            "Argentina",
            "Ecuador",
            "Guyana",
            "Suriname",
            "Paraguay",
            "Brazil"
           ],
           "legendgroup": "South America",
           "marker": {
            "color": "#FF7F0E",
            "size": [
             90,
             140,
             118,
             130,
             263,
             191,
             150,
             153
            ],
            "sizemode": "area",
            "sizeref": 0.53,
            "symbol": "circle"
           },
           "mode": "markers",
           "name": "South America",
           "orientation": "v",
           "showlegend": true,
           "type": "scatter",
           "x": [
            9.8,
            7.5,
            9.8,
            8,
            8.2,
            7.8,
            7.8,
            7.1
           ],
           "xaxis": "x",
           "y": [
            160.84,
            62.879999999999995,
            105.87,
            81.8,
            349.53000000000003,
            353.31,
            67.83,
            72.41
           ],
           "yaxis": "y"
          },
          {
           "hovertemplate": "<b>%{hovertext}</b><br><br>Continent=Europe<br>Year=2011<br>avg_years_of_schooling=%{x}<br>suicides_per_100k=%{y}<br>Both sexes=%{marker.size}<extra></extra>",
           "hovertext": [
            "Italy",
            "Latvia",
            "Romania",
            "Serbia",
            "Austria",
            "Ukraine",
            "Germany",
            "Denmark",
            "Finland",
            "Estonia",
            "France",
            "Greece",
            "Slovenia",
            "Croatia",
            "Iceland",
            "Portugal",
            "Hungary",
            "Spain",
            "Sweden",
            "Switzerland",
            "Ireland",
            "Bosnia and Herzegovina",
            "Malta",
            "Netherlands",
            "Poland",
            "Belgium",
            "Norway",
            "Luxembourg",
            "Lithuania",
            "Bulgaria",
            "Belarus"
           ],
           "ids": [
            "Italy",
            "Latvia",
            "Romania",
            "Serbia",
            "Austria",
            "Ukraine",
            "Germany",
            "Denmark",
            "Finland",
            "Estonia",
            "France",
            "Greece",
            "Slovenia",
            "Croatia",
            "Iceland",
            "Portugal",
            "Hungary",
            "Spain",
            "Sweden",
            "Switzerland",
            "Ireland",
            "Bosnia and Herzegovina",
            "Malta",
            "Netherlands",
            "Poland",
            "Belgium",
            "Norway",
            "Luxembourg",
            "Lithuania",
            "Bulgaria",
            "Belarus"
           ],
           "legendgroup": "Europe",
           "marker": {
            "color": "#2CA02C",
            "size": [
             58,
             167,
             141,
             113,
             72,
             209,
             75,
             78,
             84,
             136,
             83,
             73,
             82,
             103,
             51,
             84,
             147,
             63,
             58,
             54,
             67,
             100,
             59,
             64,
             128,
             81,
             66,
             66,
             184,
             141,
             227
            ],
            "sizemode": "area",
            "sizeref": 0.53,
            "symbol": "circle"
           },
           "mode": "markers",
           "name": "Europe",
           "orientation": "v",
           "showlegend": true,
           "type": "scatter",
           "x": [
            9.8,
            12.6,
            10.8,
            10.6,
            11.8,
            11.3,
            13.9,
            12.7,
            12.3,
            12.5,
            10.9,
            10.3,
            12.2,
            11,
            11,
            8.3,
            12,
            9.5,
            12.4,
            13.3,
            10.9,
            7.2,
            10.5,
            12,
            12.3,
            11.2,
            12.8,
            11.8,
            11.8,
            10.7,
            12
           ],
           "xaxis": "x",
           "y": [
            86.08,
            288.75,
            138.78,
            243.45,
            211.49,
            264,
            152.82,
            126.33,
            203.61,
            229.26,
            211.18,
            48.68,
            281.66,
            221.10999999999999,
            92.95,
            127.86,
            299.85,
            88.59,
            141.77,
            168.22,
            138.58,
            1.31,
            47.5,
            113.08,
            183.86,
            226.71,
            146.49,
            136.53,
            407.69,
            133.52,
            299.36
           ],
           "yaxis": "y"
          },
          {
           "hovertemplate": "<b>%{hovertext}</b><br><br>Continent=Africa<br>Year=2011<br>avg_years_of_schooling=%{x}<br>suicides_per_100k=%{y}<br>Both sexes=%{marker.size}<extra></extra>",
           "hovertext": [
            "Seychelles",
            "South Africa",
            "Mauritius"
           ],
           "ids": [
            "Seychelles",
            "South Africa",
            "Mauritius"
           ],
           "legendgroup": "Africa",
           "marker": {
            "color": "#D62728",
            "size": [
             177,
             397,
             156
            ],
            "sizemode": "area",
            "sizeref": 0.53,
            "symbol": "circle"
           },
           "mode": "markers",
           "name": "Africa",
           "orientation": "v",
           "showlegend": true,
           "type": "scatter",
           "x": [
            8.4,
            9.9,
            8.5
           ],
           "xaxis": "x",
           "y": [
            51.339999999999996,
            9.31,
            120.04
           ],
           "yaxis": "y"
          },
          {
           "hovertemplate": "<b>%{hovertext}</b><br><br>Continent=North America<br>Year=2011<br>avg_years_of_schooling=%{x}<br>suicides_per_100k=%{y}<br>Both sexes=%{marker.size}<extra></extra>",
           "hovertext": [
            "Costa Rica",
            "Canada",
            "Jamaica",
            "Bahamas",
            "Saint Lucia",
            "Belize",
            "Trinidad and Tobago",
            "El Salvador",
            "Cuba",
            "Guatemala",
            "Grenada",
            "Barbados",
            "Mexico",
            "Nicaragua",
            "Panama"
           ],
           "ids": [
            "Costa Rica",
            "Canada",
            "Jamaica",
            "Bahamas",
            "Saint Lucia",
            "Belize",
            "Trinidad and Tobago",
            "El Salvador",
            "Cuba",
            "Guatemala",
            "Grenada",
            "Barbados",
            "Mexico",
            "Nicaragua",
            "Panama"
           ],
           "legendgroup": "North America",
           "marker": {
            "color": "#9467BD",
            "size": [
             100,
             67,
             139,
             158,
             153,
             182,
             180,
             189,
             92,
             180,
             150,
             106,
             133,
             158,
             117
            ],
            "sizemode": "area",
            "sizeref": 0.53,
            "symbol": "circle"
           },
           "mode": "markers",
           "name": "North America",
           "orientation": "v",
           "showlegend": true,
           "type": "scatter",
           "x": [
            8.4,
            12.7,
            9,
            11,
            8.4,
            10.5,
            10.8,
            6.5,
            11.3,
            5.3,
            8.4,
            9.9,
            8.4,
            6.1,
            9.3
           ],
           "xaxis": "x",
           "y": [
            89.83,
            125.02,
            27.86,
            12.99,
            53.32,
            153.3,
            138.69,
            115.46,
            207.05,
            34.69,
            20.73,
            0,
            65.52,
            89.55,
            62.730000000000004
           ],
           "yaxis": "y"
          },
          {
           "hovertemplate": "<b>%{hovertext}</b><br><br>Continent=Oceania<br>Year=2011<br>avg_years_of_schooling=%{x}<br>suicides_per_100k=%{y}<br>Both sexes=%{marker.size}<extra></extra>",
           "hovertext": [
            "Fiji",
            "Australia",
            "New Zealand"
           ],
           "ids": [
            "Fiji",
            "Australia",
            "New Zealand"
           ],
           "legendgroup": "Oceania",
           "marker": {
            "color": "#8C564B",
            "size": [
             197,
             62,
             71
            ],
            "sizemode": "area",
            "sizeref": 0.53,
            "symbol": "circle"
           },
           "mode": "markers",
           "name": "Oceania",
           "orientation": "v",
           "showlegend": true,
           "type": "scatter",
           "x": [
            9.8,
            12.5,
            12
           ],
           "xaxis": "x",
           "y": [
            106.97,
            133.22,
            142.82
           ],
           "yaxis": "y"
          }
         ],
         "name": "2011"
        },
        {
         "data": [
          {
           "hovertemplate": "<b>%{hovertext}</b><br><br>Continent=Asia<br>Year=2012<br>avg_years_of_schooling=%{x}<br>suicides_per_100k=%{y}<br>Both sexes=%{marker.size}<extra></extra>",
           "hovertext": [
            "Armenia",
            "Japan",
            "Israel",
            "Singapore",
            "Cyprus",
            "Uzbekistan",
            "Kazakhstan",
            "Thailand",
            "Kyrgyzstan",
            "Turkmenistan",
            "Turkey",
            "Georgia",
            "Kuwait",
            "Bahrain",
            "Qatar"
           ],
           "ids": [
            "Armenia",
            "Japan",
            "Israel",
            "Singapore",
            "Cyprus",
            "Uzbekistan",
            "Kazakhstan",
            "Thailand",
            "Kyrgyzstan",
            "Turkmenistan",
            "Turkey",
            "Georgia",
            "Kuwait",
            "Bahrain",
            "Qatar"
           ],
           "legendgroup": "Asia",
           "marker": {
            "color": "#1F77B4",
            "size": [
             131,
             57,
             58,
             57,
             55,
             145,
             224,
             155,
             189,
             189,
             112,
             157,
             83,
             66,
             65
            ],
            "sizemode": "area",
            "sizeref": 0.53,
            "symbol": "circle"
           },
           "mode": "markers",
           "name": "Asia",
           "orientation": "v",
           "showlegend": true,
           "type": "scatter",
           "x": [
            11.3,
            12,
            12.8,
            11.3,
            11.8,
            11.1,
            11.5,
            7.7,
            10.7,
            9.8,
            7.5,
            12.5,
            7.2,
            8.8,
            9.2
           ],
           "xaxis": "x",
           "y": [
            36.57,
            233.7,
            83.79,
            141.62,
            42.9,
            77.53,
            271.02,
            80.69,
            140.66,
            30.599999999999998,
            28.400000000000002,
            34.88,
            15.59,
            8.68,
            13.27
           ],
           "yaxis": "y"
          },
          {
           "hovertemplate": "<b>%{hovertext}</b><br><br>Continent=South America<br>Year=2012<br>avg_years_of_schooling=%{x}<br>suicides_per_100k=%{y}<br>Both sexes=%{marker.size}<extra></extra>",
           "hovertext": [
            "Suriname",
            "Guyana",
            "Colombia",
            "Brazil",
            "Uruguay",
            "Ecuador",
            "Paraguay",
            "Chile",
            "Argentina"
           ],
           "ids": [
            "Suriname",
            "Guyana",
            "Colombia",
            "Brazil",
            "Uruguay",
            "Ecuador",
            "Paraguay",
            "Chile",
            "Argentina"
           ],
           "legendgroup": "South America",
           "marker": {
            "color": "#FF7F0E",
            "size": [
             188,
             272,
             140,
             150,
             118,
             127,
             149,
             89,
             118
            ],
            "sizemode": "area",
            "sizeref": 0.53,
            "symbol": "circle"
           },
           "mode": "markers",
           "name": "South America",
           "orientation": "v",
           "showlegend": true,
           "type": "scatter",
           "x": [
            7.9,
            8.3,
            7.6,
            7.3,
            8.5,
            8.1,
            7.8,
            9.9,
            9.8
           ],
           "xaxis": "x",
           "y": [
            454.11,
            367.98,
            66.45,
            74.45,
            264.35,
            84.88,
            63.3,
            148.41,
            119.82
           ],
           "yaxis": "y"
          },
          {
           "hovertemplate": "<b>%{hovertext}</b><br><br>Continent=Europe<br>Year=2012<br>avg_years_of_schooling=%{x}<br>suicides_per_100k=%{y}<br>Both sexes=%{marker.size}<extra></extra>",
           "hovertext": [
            "Sweden",
            "Estonia",
            "Belgium",
            "Serbia",
            "Malta",
            "Slovenia",
            "Croatia",
            "Austria",
            "Netherlands",
            "Iceland",
            "Slovakia",
            "Hungary",
            "Italy",
            "Finland",
            "Spain",
            "Ireland",
            "France",
            "Latvia",
            "Romania",
            "Greece",
            "Norway",
            "Poland",
            "Germany",
            "Lithuania",
            "Bulgaria",
            "Denmark",
            "Portugal",
            "Switzerland",
            "Luxembourg",
            "Ukraine"
           ],
           "ids": [
            "Sweden",
            "Estonia",
            "Belgium",
            "Serbia",
            "Malta",
            "Slovenia",
            "Croatia",
            "Austria",
            "Netherlands",
            "Iceland",
            "Slovakia",
            "Hungary",
            "Italy",
            "Finland",
            "Spain",
            "Ireland",
            "France",
            "Latvia",
            "Romania",
            "Greece",
            "Norway",
            "Poland",
            "Germany",
            "Lithuania",
            "Bulgaria",
            "Denmark",
            "Portugal",
            "Switzerland",
            "Luxembourg",
            "Ukraine"
           ],
           "legendgroup": "Europe",
           "marker": {
            "color": "#2CA02C",
            "size": [
             56,
             134,
             79,
             111,
             57,
             81,
             103,
             68,
             63,
             50,
             115,
             143,
             57,
             80,
             61,
             66,
             80,
             162,
             141,
             72,
             60,
             126,
             73,
             180,
             137,
             75,
             81,
             54,
             63,
             211
            ],
            "sizemode": "area",
            "sizeref": 0.53,
            "symbol": "circle"
           },
           "mode": "markers",
           "name": "Europe",
           "orientation": "v",
           "showlegend": true,
           "type": "scatter",
           "x": [
            12.4,
            12.5,
            11.2,
            10.5,
            10.8,
            11.7,
            11,
            11.8,
            12,
            11.5,
            12.3,
            12.2,
            9.9,
            12.4,
            9.5,
            11.3,
            11,
            12.6,
            10.9,
            10.3,
            12.6,
            11.7,
            14,
            11.7,
            10.8,
            12.8,
            8.5,
            13.4,
            11.8,
            11.3
           ],
           "xaxis": "x",
           "y": [
            148.10999999999999,
            241.60999999999999,
            217.13,
            234.53,
            59.87,
            279.74,
            239.01,
            206.63,
            118.51,
            145.41,
            129.48,
            305.96,
            85.45,
            187.01,
            96.88,
            137.66,
            198.98,
            267.68,
            142.03,
            53.32,
            126,
            192.37,
            148.31,
            374.12,
            164.17,
            143.21,
            139.4,
            165.39,
            140.18,
            268.47
           ],
           "yaxis": "y"
          },
          {
           "hovertemplate": "<b>%{hovertext}</b><br><br>Continent=Africa<br>Year=2012<br>avg_years_of_schooling=%{x}<br>suicides_per_100k=%{y}<br>Both sexes=%{marker.size}<extra></extra>",
           "hovertext": [
            "Seychelles",
            "Mauritius",
            "South Africa"
           ],
           "ids": [
            "Seychelles",
            "Mauritius",
            "South Africa"
           ],
           "legendgroup": "Africa",
           "marker": {
            "color": "#D62728",
            "size": [
             174,
             152,
             361
            ],
            "sizemode": "area",
            "sizeref": 0.53,
            "symbol": "circle"
           },
           "mode": "markers",
           "name": "Africa",
           "orientation": "v",
           "showlegend": true,
           "type": "scatter",
           "x": [
            8.8,
            8.6,
            9.8
           ],
           "xaxis": "x",
           "y": [
            33.5,
            114.25,
            13.56
           ],
           "yaxis": "y"
          },
          {
           "hovertemplate": "<b>%{hovertext}</b><br><br>Continent=North America<br>Year=2012<br>avg_years_of_schooling=%{x}<br>suicides_per_100k=%{y}<br>Both sexes=%{marker.size}<extra></extra>",
           "hovertext": [
            "Cuba",
            "Bahamas",
            "Guatemala",
            "Antigua and Barbuda",
            "Panama",
            "Costa Rica",
            "Nicaragua",
            "El Salvador",
            "Mexico",
            "Belize",
            "Canada",
            "Grenada",
            "Barbados",
            "Saint Lucia"
           ],
           "ids": [
            "Cuba",
            "Bahamas",
            "Guatemala",
            "Antigua and Barbuda",
            "Panama",
            "Costa Rica",
            "Nicaragua",
            "El Salvador",
            "Mexico",
            "Belize",
            "Canada",
            "Grenada",
            "Barbados",
            "Saint Lucia"
           ],
           "legendgroup": "North America",
           "marker": {
            "color": "#9467BD",
            "size": [
             96,
             163,
             173,
             127,
             116,
             99,
             155,
             186,
             131,
             183,
             68,
             147,
             108,
             153
            ],
            "sizemode": "area",
            "sizeref": 0.53,
            "symbol": "circle"
           },
           "mode": "markers",
           "name": "North America",
           "orientation": "v",
           "showlegend": true,
           "type": "scatter",
           "x": [
            10.8,
            11.1,
            4.6,
            9.2,
            9.5,
            8.5,
            6.3,
            6.7,
            8.6,
            10.5,
            12.8,
            8.4,
            10.5,
            8.4
           ],
           "xaxis": "x",
           "y": [
            204,
            11.84,
            41.8,
            0,
            55.52,
            80.76,
            72.29,
            123.14,
            63.43,
            73.45,
            127.88,
            18.009999999999998,
            0,
            85.03
           ],
           "yaxis": "y"
          },
          {
           "hovertemplate": "<b>%{hovertext}</b><br><br>Continent=Oceania<br>Year=2012<br>avg_years_of_schooling=%{x}<br>suicides_per_100k=%{y}<br>Both sexes=%{marker.size}<extra></extra>",
           "hovertext": [
            "New Zealand",
            "Fiji",
            "Australia"
           ],
           "ids": [
            "New Zealand",
            "Fiji",
            "Australia"
           ],
           "legendgroup": "Oceania",
           "marker": {
            "color": "#8C564B",
            "size": [
             68,
             195,
             60
            ],
            "sizemode": "area",
            "sizeref": 0.53,
            "symbol": "circle"
           },
           "mode": "markers",
           "name": "Oceania",
           "orientation": "v",
           "showlegend": true,
           "type": "scatter",
           "x": [
            12.1,
            10.1,
            12.6
           ],
           "xaxis": "x",
           "y": [
            158.03,
            91.58,
            139.57
           ],
           "yaxis": "y"
          }
         ],
         "name": "2012"
        },
        {
         "data": [
          {
           "hovertemplate": "<b>%{hovertext}</b><br><br>Continent=Asia<br>Year=2013<br>avg_years_of_schooling=%{x}<br>suicides_per_100k=%{y}<br>Both sexes=%{marker.size}<extra></extra>",
           "hovertext": [
            "Georgia",
            "Turkmenistan",
            "Armenia",
            "Cyprus",
            "Thailand",
            "Bahrain",
            "Singapore",
            "Kyrgyzstan",
            "Japan",
            "Uzbekistan",
            "Kuwait",
            "Israel",
            "Turkey",
            "Kazakhstan",
            "Qatar"
           ],
           "ids": [
            "Georgia",
            "Turkmenistan",
            "Armenia",
            "Cyprus",
            "Thailand",
            "Bahrain",
            "Singapore",
            "Kyrgyzstan",
            "Japan",
            "Uzbekistan",
            "Kuwait",
            "Israel",
            "Turkey",
            "Kazakhstan",
            "Qatar"
           ],
           "legendgroup": "Asia",
           "marker": {
            "color": "#1F77B4",
            "size": [
             158,
             196,
             121,
             58,
             154,
             63,
             56,
             183,
             56,
             141,
             82,
             59,
             109,
             211,
             65
            ],
            "sizemode": "area",
            "sizeref": 0.53,
            "symbol": "circle"
           },
           "mode": "markers",
           "name": "Asia",
           "orientation": "v",
           "showlegend": true,
           "type": "scatter",
           "x": [
            12.6,
            9.8,
            11.4,
            12,
            7.5,
            9,
            11.4,
            10.7,
            12.2,
            11.3,
            6.7,
            12.8,
            7.7,
            11.6,
            9.9
           ],
           "xaxis": "x",
           "y": [
            55.57,
            23.29,
            37.48,
            64.61,
            79.56,
            2.49,
            137.87,
            109.84,
            231.16,
            78.86,
            9.879999999999999,
            74.21,
            35.42,
            296.67,
            8.23
           ],
           "yaxis": "y"
          },
          {
           "hovertemplate": "<b>%{hovertext}</b><br><br>Continent=South America<br>Year=2013<br>avg_years_of_schooling=%{x}<br>suicides_per_100k=%{y}<br>Both sexes=%{marker.size}<extra></extra>",
           "hovertext": [
            "Argentina",
            "Brazil",
            "Suriname",
            "Guyana",
            "Paraguay",
            "Colombia",
            "Chile",
            "Uruguay",
            "Ecuador"
           ],
           "ids": [
            "Argentina",
            "Brazil",
            "Suriname",
            "Guyana",
            "Paraguay",
            "Colombia",
            "Chile",
            "Uruguay",
            "Ecuador"
           ],
           "legendgroup": "South America",
           "marker": {
            "color": "#FF7F0E",
            "size": [
             116,
             148,
             186,
             263,
             148,
             139,
             90,
             117,
             122
            ],
            "sizemode": "area",
            "sizeref": 0.53,
            "symbol": "circle"
           },
           "mode": "markers",
           "name": "South America",
           "orientation": "v",
           "showlegend": true,
           "type": "scatter",
           "x": [
            9.8,
            7.4,
            8.1,
            8.3,
            8.3,
            7.8,
            9.9,
            8.5,
            8.3
           ],
           "xaxis": "x",
           "y": [
            103.42,
            73.41,
            286.8,
            356.38,
            75.39,
            63.53,
            134.52,
            249.09,
            62.88
           ],
           "yaxis": "y"
          },
          {
           "hovertemplate": "<b>%{hovertext}</b><br><br>Continent=Europe<br>Year=2013<br>avg_years_of_schooling=%{x}<br>suicides_per_100k=%{y}<br>Both sexes=%{marker.size}<extra></extra>",
           "hovertext": [
            "Iceland",
            "Croatia",
            "Hungary",
            "Germany",
            "Finland",
            "Sweden",
            "France",
            "Ireland",
            "Switzerland",
            "Denmark",
            "Netherlands",
            "Greece",
            "Norway",
            "Spain",
            "Slovenia",
            "Poland",
            "Italy",
            "Luxembourg",
            "Malta",
            "Estonia",
            "Belarus",
            "Romania",
            "Bulgaria",
            "Slovakia",
            "Portugal",
            "Austria",
            "Belgium",
            "Lithuania",
            "Latvia",
            "Serbia"
           ],
           "ids": [
            "Iceland",
            "Croatia",
            "Hungary",
            "Germany",
            "Finland",
            "Sweden",
            "France",
            "Ireland",
            "Switzerland",
            "Denmark",
            "Netherlands",
            "Greece",
            "Norway",
            "Spain",
            "Slovenia",
            "Poland",
            "Italy",
            "Luxembourg",
            "Malta",
            "Estonia",
            "Belarus",
            "Romania",
            "Bulgaria",
            "Slovakia",
            "Portugal",
            "Austria",
            "Belgium",
            "Lithuania",
            "Latvia",
            "Serbia"
           ],
           "legendgroup": "Europe",
           "marker": {
            "color": "#2CA02C",
            "size": [
             53,
             96,
             136,
             73,
             78,
             56,
             77,
             64,
             53,
             72,
             61,
             68,
             61,
             59,
             78,
             121,
             56,
             60,
             57,
             122,
             183,
             134,
             135,
             111,
             78,
             67,
             77,
             179,
             164,
             107
            ],
            "sizemode": "area",
            "sizeref": 0.53,
            "symbol": "circle"
           },
           "mode": "markers",
           "name": "Europe",
           "orientation": "v",
           "showlegend": true,
           "type": "scatter",
           "x": [
            11.9,
            11,
            12,
            14,
            12.3,
            12.2,
            11.2,
            11.8,
            13.4,
            13.2,
            12.1,
            10.4,
            12.7,
            9.5,
            11.7,
            12.1,
            10.3,
            11.8,
            11,
            12.6,
            12,
            10.9,
            10.9,
            12.2,
            8.6,
            11.9,
            11.4,
            11.9,
            12.7,
            10.4
           ],
           "xaxis": "x",
           "y": [
            221.24,
            210.3,
            266.23,
            153.07999999999998,
            196.83,
            158.20000000000002,
            192.33,
            117.41,
            170.26,
            134.55,
            125.53,
            55.11,
            127.01,
            101.32,
            283.02,
            187.59,
            84.86,
            91.48,
            57.22,
            231.92000000000002,
            273.32,
            137.99,
            134.16,
            143.91,
            132.73,
            212.12,
            201.54999999999998,
            444.56,
            242.19,
            217.73
           ],
           "yaxis": "y"
          },
          {
           "hovertemplate": "<b>%{hovertext}</b><br><br>Continent=Africa<br>Year=2013<br>avg_years_of_schooling=%{x}<br>suicides_per_100k=%{y}<br>Both sexes=%{marker.size}<extra></extra>",
           "hovertext": [
            "Mauritius",
            "South Africa",
            "Seychelles"
           ],
           "ids": [
            "Mauritius",
            "South Africa",
            "Seychelles"
           ],
           "legendgroup": "Africa",
           "marker": {
            "color": "#D62728",
            "size": [
             145,
             335,
             171
            ],
            "sizemode": "area",
            "sizeref": 0.53,
            "symbol": "circle"
           },
           "mode": "markers",
           "name": "Africa",
           "orientation": "v",
           "showlegend": true,
           "type": "scatter",
           "x": [
            8.9,
            9.9,
            9.1
           ],
           "xaxis": "x",
           "y": [
            97.67,
            14.9,
            131.4
           ],
           "yaxis": "y"
          },
          {
           "hovertemplate": "<b>%{hovertext}</b><br><br>Continent=North America<br>Year=2013<br>avg_years_of_schooling=%{x}<br>suicides_per_100k=%{y}<br>Both sexes=%{marker.size}<extra></extra>",
           "hovertext": [
            "Nicaragua",
            "Panama",
            "Grenada",
            "Guatemala",
            "Mexico",
            "Cuba",
            "Antigua and Barbuda",
            "El Salvador",
            "Costa Rica",
            "Bahamas",
            "Saint Lucia",
            "Canada",
            "Barbados",
            "Belize"
           ],
           "ids": [
            "Nicaragua",
            "Panama",
            "Grenada",
            "Guatemala",
            "Mexico",
            "Cuba",
            "Antigua and Barbuda",
            "El Salvador",
            "Costa Rica",
            "Bahamas",
            "Saint Lucia",
            "Canada",
            "Barbados",
            "Belize"
           ],
           "legendgroup": "North America",
           "marker": {
            "color": "#9467BD",
            "size": [
             153,
             114,
             145,
             172,
             127,
             96,
             127,
             184,
             97,
             166,
             149,
             66,
             101,
             184
            ],
            "sizemode": "area",
            "sizeref": 0.53,
            "symbol": "circle"
           },
           "mode": "markers",
           "name": "North America",
           "orientation": "v",
           "showlegend": true,
           "type": "scatter",
           "x": [
            6.4,
            9.7,
            8.5,
            4.7,
            8.4,
            11,
            9.2,
            6.6,
            8.5,
            11.1,
            8.4,
            12.9,
            10.5,
            10.5
           ],
           "xaxis": "x",
           "y": [
            80.97,
            49.31,
            0,
            40.69,
            64.99,
            190.46,
            0,
            116.06,
            89.26,
            13.91,
            114.1,
            133.09,
            0,
            56.4
           ],
           "yaxis": "y"
          },
          {
           "hovertemplate": "<b>%{hovertext}</b><br><br>Continent=Oceania<br>Year=2013<br>avg_years_of_schooling=%{x}<br>suicides_per_100k=%{y}<br>Both sexes=%{marker.size}<extra></extra>",
           "hovertext": [
            "Australia",
            "New Zealand"
           ],
           "ids": [
            "Australia",
            "New Zealand"
           ],
           "legendgroup": "Oceania",
           "marker": {
            "color": "#8C564B",
            "size": [
             60,
             66
            ],
            "sizemode": "area",
            "sizeref": 0.53,
            "symbol": "circle"
           },
           "mode": "markers",
           "name": "Oceania",
           "orientation": "v",
           "showlegend": true,
           "type": "scatter",
           "x": [
            12.6,
            12.1
           ],
           "xaxis": "x",
           "y": [
            138.78,
            144.55
           ],
           "yaxis": "y"
          }
         ],
         "name": "2013"
        },
        {
         "data": [
          {
           "hovertemplate": "<b>%{hovertext}</b><br><br>Continent=Asia<br>Year=2014<br>avg_years_of_schooling=%{x}<br>suicides_per_100k=%{y}<br>Both sexes=%{marker.size}<extra></extra>",
           "hovertext": [
            "Armenia",
            "Thailand",
            "Georgia",
            "Qatar",
            "Kyrgyzstan",
            "Turkmenistan",
            "Cyprus",
            "Uzbekistan",
            "Kuwait",
            "Singapore",
            "Israel",
            "Bahrain",
            "Kazakhstan",
            "Turkey",
            "Japan",
            "Oman"
           ],
           "ids": [
            "Armenia",
            "Thailand",
            "Georgia",
            "Qatar",
            "Kyrgyzstan",
            "Turkmenistan",
            "Cyprus",
            "Uzbekistan",
            "Kuwait",
            "Singapore",
            "Israel",
            "Bahrain",
            "Kazakhstan",
            "Turkey",
            "Japan",
            "Oman"
           ],
           "legendgroup": "Asia",
           "marker": {
            "color": "#1F77B4",
            "size": [
             118,
             151,
             155,
             64,
             175,
             199,
             61,
             139,
             81,
             55,
             58,
             62,
             199,
             107,
             54,
             100
            ],
            "sizemode": "area",
            "sizeref": 0.53,
            "symbol": "circle"
           },
           "mode": "markers",
           "name": "Asia",
           "orientation": "v",
           "showlegend": true,
           "type": "scatter",
           "x": [
            11.5,
            7.6,
            12.6,
            9.8,
            10.8,
            9.8,
            11.9,
            11.3,
            6.9,
            11.4,
            12.9,
            9.1,
            11.7,
            7.6,
            12.5,
            9.3
           ],
           "xaxis": "x",
           "y": [
            37.01,
            76.96000000000001,
            74.49,
            18.99,
            111.79,
            28.15,
            57.1,
            85.12,
            15.86,
            131.78,
            71.25999999999999,
            6.5200000000000005,
            257.09,
            30.83,
            218.21,
            1.51
           ],
           "yaxis": "y"
          },
          {
           "hovertemplate": "<b>%{hovertext}</b><br><br>Continent=South America<br>Year=2014<br>avg_years_of_schooling=%{x}<br>suicides_per_100k=%{y}<br>Both sexes=%{marker.size}<extra></extra>",
           "hovertext": [
            "Chile",
            "Argentina",
            "Paraguay",
            "Ecuador",
            "Uruguay",
            "Colombia",
            "Brazil",
            "Suriname"
           ],
           "ids": [
            "Chile",
            "Argentina",
            "Paraguay",
            "Ecuador",
            "Uruguay",
            "Colombia",
            "Brazil",
            "Suriname"
           ],
           "legendgroup": "South America",
           "marker": {
            "color": "#FF7F0E",
            "size": [
             88,
             113,
             147,
             119,
             114,
             139,
             145,
             184
            ],
            "sizemode": "area",
            "sizeref": 0.53,
            "symbol": "circle"
           },
           "mode": "markers",
           "name": "South America",
           "orientation": "v",
           "showlegend": true,
           "type": "scatter",
           "x": [
            10.1,
            9.8,
            8.2,
            8.5,
            8.6,
            8,
            7.4,
            8.2
           ],
           "xaxis": "x",
           "y": [
            137.37,
            111.35,
            72.15,
            66.02,
            248.64,
            66.62,
            73.13,
            357.34000000000003
           ],
           "yaxis": "y"
          },
          {
           "hovertemplate": "<b>%{hovertext}</b><br><br>Continent=Europe<br>Year=2014<br>avg_years_of_schooling=%{x}<br>suicides_per_100k=%{y}<br>Both sexes=%{marker.size}<extra></extra>",
           "hovertext": [
            "Ukraine",
            "Luxembourg",
            "Bosnia and Herzegovina",
            "Switzerland",
            "Ireland",
            "Lithuania",
            "Portugal",
            "Denmark",
            "Germany",
            "Latvia",
            "Norway",
            "Estonia",
            "Greece",
            "Romania",
            "Poland",
            "Sweden",
            "Spain",
            "Italy",
            "Slovakia",
            "Finland",
            "Iceland",
            "Croatia",
            "Belgium",
            "Austria",
            "Slovenia",
            "Malta",
            "Hungary",
            "Netherlands",
            "Serbia",
            "France",
            "Bulgaria",
            "Belarus"
           ],
           "ids": [
            "Ukraine",
            "Luxembourg",
            "Bosnia and Herzegovina",
            "Switzerland",
            "Ireland",
            "Lithuania",
            "Portugal",
            "Denmark",
            "Germany",
            "Latvia",
            "Norway",
            "Estonia",
            "Greece",
            "Romania",
            "Poland",
            "Sweden",
            "Spain",
            "Italy",
            "Slovakia",
            "Finland",
            "Iceland",
            "Croatia",
            "Belgium",
            "Austria",
            "Slovenia",
            "Malta",
            "Hungary",
            "Netherlands",
            "Serbia",
            "France",
            "Bulgaria",
            "Belarus"
           ],
           "legendgroup": "Europe",
           "marker": {
            "color": "#2CA02C",
            "size": [
             212,
             55,
             96,
             50,
             62,
             167,
             77,
             68,
             70,
             159,
             57,
             124,
             67,
             140,
             115,
             55,
             58,
             54,
             109,
             73,
             55,
             94,
             73,
             65,
             70,
             53,
             133,
             59,
             106,
             74,
             141,
             175
            ],
            "sizemode": "area",
            "sizeref": 0.53,
            "symbol": "circle"
           },
           "mode": "markers",
           "name": "Europe",
           "orientation": "v",
           "showlegend": true,
           "type": "scatter",
           "x": [
            11.3,
            12,
            9.2,
            13.4,
            12.3,
            13,
            8.9,
            12.8,
            14,
            12.9,
            12.5,
            12.6,
            10.5,
            10.9,
            11.3,
            12.3,
            9.7,
            10.1,
            12.3,
            12.4,
            12.2,
            11.1,
            11.5,
            12.1,
            11.9,
            11.1,
            11.8,
            12.1,
            10.7,
            11.4,
            10.9,
            12.1
           ],
           "xaxis": "x",
           "y": [
            250.5,
            147.88,
            109.5,
            162.1,
            119.68,
            401.27,
            153.89000000000001,
            137.73,
            153.04,
            248.81,
            127.22999999999999,
            258.91,
            59.82,
            131.03,
            178.3,
            149.05,
            104.35000000000001,
            82.13,
            132.82,
            177.16,
            197.96,
            222.04,
            201.85,
            209.82,
            240.37,
            102.08,
            244.31,
            121.42,
            216.78,
            179.56,
            139.77,
            252.91
           ],
           "yaxis": "y"
          },
          {
           "hovertemplate": "<b>%{hovertext}</b><br><br>Continent=Africa<br>Year=2014<br>avg_years_of_schooling=%{x}<br>suicides_per_100k=%{y}<br>Both sexes=%{marker.size}<extra></extra>",
           "hovertext": [
            "South Africa",
            "Mauritius",
            "Seychelles"
           ],
           "ids": [
            "South Africa",
            "Mauritius",
            "Seychelles"
           ],
           "legendgroup": "Africa",
           "marker": {
            "color": "#D62728",
            "size": [
             316,
             148,
             168
            ],
            "sizemode": "area",
            "sizeref": 0.53,
            "symbol": "circle"
           },
           "mode": "markers",
           "name": "Africa",
           "orientation": "v",
           "showlegend": true,
           "type": "scatter",
           "x": [
            10,
            9.1,
            9.4
           ],
           "xaxis": "x",
           "y": [
            15.08,
            115.45,
            43.33
           ],
           "yaxis": "y"
          },
          {
           "hovertemplate": "<b>%{hovertext}</b><br><br>Continent=North America<br>Year=2014<br>avg_years_of_schooling=%{x}<br>suicides_per_100k=%{y}<br>Both sexes=%{marker.size}<extra></extra>",
           "hovertext": [
            "El Salvador",
            "Saint Lucia",
            "Nicaragua",
            "Belize",
            "Grenada",
            "Costa Rica",
            "Panama",
            "Cuba",
            "Mexico",
            "Guatemala",
            "Antigua and Barbuda"
           ],
           "ids": [
            "El Salvador",
            "Saint Lucia",
            "Nicaragua",
            "Belize",
            "Grenada",
            "Costa Rica",
            "Panama",
            "Cuba",
            "Mexico",
            "Guatemala",
            "Antigua and Barbuda"
           ],
           "legendgroup": "North America",
           "marker": {
            "color": "#9467BD",
            "size": [
             182,
             145,
             150,
             183,
             143,
             95,
             111,
             95,
             129,
             169,
             127
            ],
            "sizemode": "area",
            "sizeref": 0.53,
            "symbol": "circle"
           },
           "mode": "markers",
           "name": "North America",
           "orientation": "v",
           "showlegend": true,
           "type": "scatter",
           "x": [
            6.5,
            8.7,
            6.5,
            10.5,
            8.6,
            8.6,
            9.9,
            11.2,
            8.4,
            6.4,
            9.2
           ],
           "xaxis": "x",
           "y": [
            101.84,
            91.56,
            71.4,
            90.95,
            0,
            70.85,
            55.980000000000004,
            184.63,
            68.38,
            45.88,
            0
           ],
           "yaxis": "y"
          },
          {
           "hovertemplate": "<b>%{hovertext}</b><br><br>Continent=Oceania<br>Year=2014<br>avg_years_of_schooling=%{x}<br>suicides_per_100k=%{y}<br>Both sexes=%{marker.size}<extra></extra>",
           "hovertext": [
            "Australia"
           ],
           "ids": [
            "Australia"
           ],
           "legendgroup": "Oceania",
           "marker": {
            "color": "#8C564B",
            "size": [
             61
            ],
            "sizemode": "area",
            "sizeref": 0.53,
            "symbol": "circle"
           },
           "mode": "markers",
           "name": "Oceania",
           "orientation": "v",
           "showlegend": true,
           "type": "scatter",
           "x": [
            12.7
           ],
           "xaxis": "x",
           "y": [
            149.07
           ],
           "yaxis": "y"
          }
         ],
         "name": "2014"
        },
        {
         "data": [
          {
           "hovertemplate": "<b>%{hovertext}</b><br><br>Continent=Asia<br>Year=2015<br>avg_years_of_schooling=%{x}<br>suicides_per_100k=%{y}<br>Both sexes=%{marker.size}<extra></extra>",
           "hovertext": [
            "Turkmenistan",
            "Turkey",
            "Israel",
            "Singapore",
            "Japan",
            "Kazakhstan",
            "Kyrgyzstan",
            "Qatar",
            "Thailand",
            "Armenia",
            "Cyprus",
            "Georgia"
           ],
           "ids": [
            "Turkmenistan",
            "Turkey",
            "Israel",
            "Singapore",
            "Japan",
            "Kazakhstan",
            "Kyrgyzstan",
            "Qatar",
            "Thailand",
            "Armenia",
            "Cyprus",
            "Georgia"
           ],
           "legendgroup": "Asia",
           "marker": {
            "color": "#1F77B4",
            "size": [
             198,
             106,
             58,
             54,
             53,
             192,
             167,
             63,
             149,
             121,
             57,
             156
            ],
            "sizemode": "area",
            "sizeref": 0.53,
            "symbol": "circle"
           },
           "mode": "markers",
           "name": "Asia",
           "orientation": "v",
           "showlegend": true,
           "type": "scatter",
           "x": [
            9.8,
            7.8,
            13,
            11.5,
            12.5,
            11.7,
            10.8,
            9.8,
            7.6,
            11.6,
            11.9,
            12.7
           ],
           "xaxis": "x",
           "y": [
            28.48,
            28.47,
            65.91,
            109.28999999999999,
            206.04,
            238.01999999999998,
            98.37,
            18.84,
            81.15,
            45.28,
            49.589999999999996,
            84.67999999999999
           ],
           "yaxis": "y"
          },
          {
           "hovertemplate": "<b>%{hovertext}</b><br><br>Continent=South America<br>Year=2015<br>avg_years_of_schooling=%{x}<br>suicides_per_100k=%{y}<br>Both sexes=%{marker.size}<extra></extra>",
           "hovertext": [
            "Uruguay",
            "Ecuador",
            "Colombia",
            "Chile",
            "Argentina",
            "Brazil"
           ],
           "ids": [
            "Uruguay",
            "Ecuador",
            "Colombia",
            "Chile",
            "Argentina",
            "Brazil"
           ],
           "legendgroup": "South America",
           "marker": {
            "color": "#FF7F0E",
            "size": [
             114,
             117,
             138,
             88,
             113,
             145
            ],
            "sizemode": "area",
            "sizeref": 0.53,
            "symbol": "circle"
           },
           "mode": "markers",
           "name": "South America",
           "orientation": "v",
           "showlegend": true,
           "type": "scatter",
           "x": [
            8.7,
            8.4,
            8.1,
            10.3,
            9.8,
            7.6
           ],
           "xaxis": "x",
           "y": [
            270.02,
            97.39,
            70.39999999999999,
            147.68,
            112.13,
            77.45
           ],
           "yaxis": "y"
          },
          {
           "hovertemplate": "<b>%{hovertext}</b><br><br>Continent=Europe<br>Year=2015<br>avg_years_of_schooling=%{x}<br>suicides_per_100k=%{y}<br>Both sexes=%{marker.size}<extra></extra>",
           "hovertext": [
            "Ukraine",
            "Estonia",
            "Finland",
            "Netherlands",
            "Spain",
            "Denmark",
            "Austria",
            "Slovenia",
            "Croatia",
            "Belgium",
            "Italy",
            "Malta",
            "Serbia",
            "Poland",
            "Romania",
            "Latvia",
            "Luxembourg",
            "Lithuania",
            "Iceland",
            "Norway",
            "Switzerland",
            "Hungary",
            "Greece",
            "Germany",
            "Sweden"
           ],
           "ids": [
            "Ukraine",
            "Estonia",
            "Finland",
            "Netherlands",
            "Spain",
            "Denmark",
            "Austria",
            "Slovenia",
            "Croatia",
            "Belgium",
            "Italy",
            "Malta",
            "Serbia",
            "Poland",
            "Romania",
            "Latvia",
            "Luxembourg",
            "Lithuania",
            "Iceland",
            "Norway",
            "Switzerland",
            "Hungary",
            "Greece",
            "Germany",
            "Sweden"
           ],
           "legendgroup": "Europe",
           "marker": {
            "color": "#2CA02C",
            "size": [
             188,
             116,
             70,
             58,
             58,
             66,
             64,
             74,
             96,
             72,
             55,
             55,
             106,
             115,
             136,
             154,
             52,
             165,
             54,
             54,
             50,
             132,
             68,
             71,
             54
            ],
            "sizemode": "area",
            "sizeref": 0.53,
            "symbol": "circle"
           },
           "mode": "markers",
           "name": "Europe",
           "orientation": "v",
           "showlegend": true,
           "type": "scatter",
           "x": [
            11.3,
            12.7,
            12.4,
            12.1,
            9.7,
            12.5,
            12.1,
            12,
            11.2,
            11.7,
            10.2,
            11.2,
            11,
            12.1,
            10.9,
            12.8,
            12,
            13,
            12.2,
            12.5,
            13.4,
            11.8,
            10.6,
            14.1,
            12.4
           ],
           "xaxis": "x",
           "y": [
            244.72,
            205.38,
            161.19,
            126.93,
            97.38000000000001,
            121.42,
            194.62,
            264.81,
            229.68,
            196.66,
            78.45,
            78.27,
            205.97,
            166.99,
            133.54999999999998,
            251.47,
            134.4,
            385.48,
            140.65,
            136.43,
            164.66,
            257.27,
            56.06,
            150.34,
            149.3
           ],
           "yaxis": "y"
          },
          {
           "hovertemplate": "<b>%{hovertext}</b><br><br>Continent=Africa<br>Year=2015<br>avg_years_of_schooling=%{x}<br>suicides_per_100k=%{y}<br>Both sexes=%{marker.size}<extra></extra>",
           "hovertext": [
            "South Africa",
            "Mauritius",
            "Seychelles"
           ],
           "ids": [
            "South Africa",
            "Mauritius",
            "Seychelles"
           ],
           "legendgroup": "Africa",
           "marker": {
            "color": "#D62728",
            "size": [
             305,
             148,
             166
            ],
            "sizemode": "area",
            "sizeref": 0.53,
            "symbol": "circle"
           },
           "mode": "markers",
           "name": "Africa",
           "orientation": "v",
           "showlegend": true,
           "type": "scatter",
           "x": [
            10.1,
            9.1,
            9.5
           ],
           "xaxis": "x",
           "y": [
            13,
            99.97,
            81.25
           ],
           "yaxis": "y"
          },
          {
           "hovertemplate": "<b>%{hovertext}</b><br><br>Continent=North America<br>Year=2015<br>avg_years_of_schooling=%{x}<br>suicides_per_100k=%{y}<br>Both sexes=%{marker.size}<extra></extra>",
           "hovertext": [
            "Belize",
            "Nicaragua",
            "Antigua and Barbuda",
            "Panama",
            "Grenada",
            "Mexico",
            "Guatemala",
            "Cuba"
           ],
           "ids": [
            "Belize",
            "Nicaragua",
            "Antigua and Barbuda",
            "Panama",
            "Grenada",
            "Mexico",
            "Guatemala",
            "Cuba"
           ],
           "legendgroup": "North America",
           "marker": {
            "color": "#9467BD",
            "size": [
             182,
             148,
             122,
             112,
             141,
             128,
             165,
             94
            ],
            "sizemode": "area",
            "sizeref": 0.53,
            "symbol": "circle"
           },
           "mode": "markers",
           "name": "North America",
           "orientation": "v",
           "showlegend": true,
           "type": "scatter",
           "x": [
            10.5,
            6.5,
            9.2,
            9.9,
            8.7,
            8.6,
            6.3,
            11.4
           ],
           "xaxis": "x",
           "y": [
            135.46,
            69.87,
            15.62,
            44.9,
            0,
            66.57,
            44.85,
            194.31
           ],
           "yaxis": "y"
          },
          {
           "hovertemplate": "<b>%{hovertext}</b><br><br>Continent=Oceania<br>Year=2015<br>avg_years_of_schooling=%{x}<br>suicides_per_100k=%{y}<br>Both sexes=%{marker.size}<extra></extra>",
           "hovertext": [
            "Australia"
           ],
           "ids": [
            "Australia"
           ],
           "legendgroup": "Oceania",
           "marker": {
            "color": "#8C564B",
            "size": [
             62
            ],
            "sizemode": "area",
            "sizeref": 0.53,
            "symbol": "circle"
           },
           "mode": "markers",
           "name": "Oceania",
           "orientation": "v",
           "showlegend": true,
           "type": "scatter",
           "x": [
            12.8
           ],
           "xaxis": "x",
           "y": [
            154.18
           ],
           "yaxis": "y"
          }
         ],
         "name": "2015"
        },
        {
         "data": [
          {
           "hovertemplate": "<b>%{hovertext}</b><br><br>Continent=Asia<br>Year=2016<br>avg_years_of_schooling=%{x}<br>suicides_per_100k=%{y}<br>Both sexes=%{marker.size}<extra></extra>",
           "hovertext": [
            "Thailand",
            "Qatar",
            "Armenia",
            "Mongolia",
            "Cyprus"
           ],
           "ids": [
            "Thailand",
            "Qatar",
            "Armenia",
            "Mongolia",
            "Cyprus"
           ],
           "legendgroup": "Asia",
           "marker": {
            "color": "#1F77B4",
            "size": [
             147,
             62,
             116,
             211,
             55
            ],
            "sizemode": "area",
            "sizeref": 0.53,
            "symbol": "circle"
           },
           "mode": "markers",
           "name": "Asia",
           "orientation": "v",
           "showlegend": true,
           "type": "scatter",
           "x": [
            7.6,
            9.8,
            11.7,
            10.1,
            12.1
           ],
           "xaxis": "x",
           "y": [
            77.32,
            16.43,
            40.56,
            184.39,
            47.15
           ],
           "yaxis": "y"
          },
          {
           "hovertemplate": "<b>%{hovertext}</b><br><br>Continent=Europe<br>Year=2016<br>avg_years_of_schooling=%{x}<br>suicides_per_100k=%{y}<br>Both sexes=%{marker.size}<extra></extra>",
           "hovertext": [
            "Romania",
            "Hungary",
            "Netherlands",
            "Croatia",
            "Sweden",
            "Austria",
            "Iceland",
            "Lithuania"
           ],
           "ids": [
            "Romania",
            "Hungary",
            "Netherlands",
            "Croatia",
            "Sweden",
            "Austria",
            "Iceland",
            "Lithuania"
           ],
           "legendgroup": "Europe",
           "marker": {
            "color": "#2CA02C",
            "size": [
             135,
             126,
             59,
             88,
             52,
             62,
             55,
             155
            ],
            "sizemode": "area",
            "sizeref": 0.53,
            "symbol": "circle"
           },
           "mode": "markers",
           "name": "Europe",
           "orientation": "v",
           "showlegend": true,
           "type": "scatter",
           "x": [
            11,
            11.9,
            12.1,
            11.3,
            12.4,
            12.1,
            12.4,
            13
           ],
           "xaxis": "x",
           "y": [
            116.33,
            241.34,
            127.39,
            213.56,
            138.84,
            183.23,
            138.07,
            361.72
           ],
           "yaxis": "y"
          },
          {
           "hovertemplate": "<b>%{hovertext}</b><br><br>Continent=Africa<br>Year=2016<br>avg_years_of_schooling=%{x}<br>suicides_per_100k=%{y}<br>Both sexes=%{marker.size}<extra></extra>",
           "hovertext": [
            "Mauritius"
           ],
           "ids": [
            "Mauritius"
           ],
           "legendgroup": "Africa",
           "marker": {
            "color": "#D62728",
            "size": [
             145
            ],
            "sizemode": "area",
            "sizeref": 0.53,
            "symbol": "circle"
           },
           "mode": "markers",
           "name": "Africa",
           "orientation": "v",
           "showlegend": true,
           "type": "scatter",
           "x": [
            9.3
           ],
           "xaxis": "x",
           "y": [
            99.3
           ],
           "yaxis": "y"
          },
          {
           "hovertemplate": "<b>%{hovertext}</b><br><br>Continent=North America<br>Year=2016<br>avg_years_of_schooling=%{x}<br>suicides_per_100k=%{y}<br>Both sexes=%{marker.size}<extra></extra>",
           "hovertext": [
            "Grenada"
           ],
           "ids": [
            "Grenada"
           ],
           "legendgroup": "North America",
           "marker": {
            "color": "#9467BD",
            "size": [
             140
            ],
            "sizemode": "area",
            "sizeref": 0.53,
            "symbol": "circle"
           },
           "mode": "markers",
           "name": "North America",
           "orientation": "v",
           "showlegend": true,
           "type": "scatter",
           "x": [
            8.7
           ],
           "xaxis": "x",
           "y": [
            0
           ],
           "yaxis": "y"
          }
         ],
         "name": "2016"
        }
       ],
       "layout": {
        "height": 700,
        "legend": {
         "itemsizing": "constant",
         "title": {
          "text": "Continent"
         },
         "tracegroupgap": 0
        },
        "margin": {
         "t": 60
        },
        "sliders": [
         {
          "active": 0,
          "currentvalue": {
           "prefix": "Year="
          },
          "len": 0.9,
          "pad": {
           "b": 10,
           "t": 60
          },
          "steps": [
           {
            "args": [
             [
              "2000"
             ],
             {
              "frame": {
               "duration": 0,
               "redraw": false
              },
              "fromcurrent": true,
              "mode": "immediate",
              "transition": {
               "duration": 0,
               "easing": "linear"
              }
             }
            ],
            "label": "2000",
            "method": "animate"
           },
           {
            "args": [
             [
              "2001"
             ],
             {
              "frame": {
               "duration": 0,
               "redraw": false
              },
              "fromcurrent": true,
              "mode": "immediate",
              "transition": {
               "duration": 0,
               "easing": "linear"
              }
             }
            ],
            "label": "2001",
            "method": "animate"
           },
           {
            "args": [
             [
              "2002"
             ],
             {
              "frame": {
               "duration": 0,
               "redraw": false
              },
              "fromcurrent": true,
              "mode": "immediate",
              "transition": {
               "duration": 0,
               "easing": "linear"
              }
             }
            ],
            "label": "2002",
            "method": "animate"
           },
           {
            "args": [
             [
              "2003"
             ],
             {
              "frame": {
               "duration": 0,
               "redraw": false
              },
              "fromcurrent": true,
              "mode": "immediate",
              "transition": {
               "duration": 0,
               "easing": "linear"
              }
             }
            ],
            "label": "2003",
            "method": "animate"
           },
           {
            "args": [
             [
              "2004"
             ],
             {
              "frame": {
               "duration": 0,
               "redraw": false
              },
              "fromcurrent": true,
              "mode": "immediate",
              "transition": {
               "duration": 0,
               "easing": "linear"
              }
             }
            ],
            "label": "2004",
            "method": "animate"
           },
           {
            "args": [
             [
              "2005"
             ],
             {
              "frame": {
               "duration": 0,
               "redraw": false
              },
              "fromcurrent": true,
              "mode": "immediate",
              "transition": {
               "duration": 0,
               "easing": "linear"
              }
             }
            ],
            "label": "2005",
            "method": "animate"
           },
           {
            "args": [
             [
              "2006"
             ],
             {
              "frame": {
               "duration": 0,
               "redraw": false
              },
              "fromcurrent": true,
              "mode": "immediate",
              "transition": {
               "duration": 0,
               "easing": "linear"
              }
             }
            ],
            "label": "2006",
            "method": "animate"
           },
           {
            "args": [
             [
              "2007"
             ],
             {
              "frame": {
               "duration": 0,
               "redraw": false
              },
              "fromcurrent": true,
              "mode": "immediate",
              "transition": {
               "duration": 0,
               "easing": "linear"
              }
             }
            ],
            "label": "2007",
            "method": "animate"
           },
           {
            "args": [
             [
              "2008"
             ],
             {
              "frame": {
               "duration": 0,
               "redraw": false
              },
              "fromcurrent": true,
              "mode": "immediate",
              "transition": {
               "duration": 0,
               "easing": "linear"
              }
             }
            ],
            "label": "2008",
            "method": "animate"
           },
           {
            "args": [
             [
              "2009"
             ],
             {
              "frame": {
               "duration": 0,
               "redraw": false
              },
              "fromcurrent": true,
              "mode": "immediate",
              "transition": {
               "duration": 0,
               "easing": "linear"
              }
             }
            ],
            "label": "2009",
            "method": "animate"
           },
           {
            "args": [
             [
              "2010"
             ],
             {
              "frame": {
               "duration": 0,
               "redraw": false
              },
              "fromcurrent": true,
              "mode": "immediate",
              "transition": {
               "duration": 0,
               "easing": "linear"
              }
             }
            ],
            "label": "2010",
            "method": "animate"
           },
           {
            "args": [
             [
              "2011"
             ],
             {
              "frame": {
               "duration": 0,
               "redraw": false
              },
              "fromcurrent": true,
              "mode": "immediate",
              "transition": {
               "duration": 0,
               "easing": "linear"
              }
             }
            ],
            "label": "2011",
            "method": "animate"
           },
           {
            "args": [
             [
              "2012"
             ],
             {
              "frame": {
               "duration": 0,
               "redraw": false
              },
              "fromcurrent": true,
              "mode": "immediate",
              "transition": {
               "duration": 0,
               "easing": "linear"
              }
             }
            ],
            "label": "2012",
            "method": "animate"
           },
           {
            "args": [
             [
              "2013"
             ],
             {
              "frame": {
               "duration": 0,
               "redraw": false
              },
              "fromcurrent": true,
              "mode": "immediate",
              "transition": {
               "duration": 0,
               "easing": "linear"
              }
             }
            ],
            "label": "2013",
            "method": "animate"
           },
           {
            "args": [
             [
              "2014"
             ],
             {
              "frame": {
               "duration": 0,
               "redraw": false
              },
              "fromcurrent": true,
              "mode": "immediate",
              "transition": {
               "duration": 0,
               "easing": "linear"
              }
             }
            ],
            "label": "2014",
            "method": "animate"
           },
           {
            "args": [
             [
              "2015"
             ],
             {
              "frame": {
               "duration": 0,
               "redraw": false
              },
              "fromcurrent": true,
              "mode": "immediate",
              "transition": {
               "duration": 0,
               "easing": "linear"
              }
             }
            ],
            "label": "2015",
            "method": "animate"
           },
           {
            "args": [
             [
              "2016"
             ],
             {
              "frame": {
               "duration": 0,
               "redraw": false
              },
              "fromcurrent": true,
              "mode": "immediate",
              "transition": {
               "duration": 0,
               "easing": "linear"
              }
             }
            ],
            "label": "2016",
            "method": "animate"
           }
          ],
          "x": 0.1,
          "xanchor": "left",
          "y": 0,
          "yanchor": "top"
         }
        ],
        "template": {
         "data": {
          "bar": [
           {
            "error_x": {
             "color": "rgb(36,36,36)"
            },
            "error_y": {
             "color": "rgb(36,36,36)"
            },
            "marker": {
             "line": {
              "color": "white",
              "width": 0.5
             },
             "pattern": {
              "fillmode": "overlay",
              "size": 10,
              "solidity": 0.2
             }
            },
            "type": "bar"
           }
          ],
          "barpolar": [
           {
            "marker": {
             "line": {
              "color": "white",
              "width": 0.5
             },
             "pattern": {
              "fillmode": "overlay",
              "size": 10,
              "solidity": 0.2
             }
            },
            "type": "barpolar"
           }
          ],
          "carpet": [
           {
            "aaxis": {
             "endlinecolor": "rgb(36,36,36)",
             "gridcolor": "white",
             "linecolor": "white",
             "minorgridcolor": "white",
             "startlinecolor": "rgb(36,36,36)"
            },
            "baxis": {
             "endlinecolor": "rgb(36,36,36)",
             "gridcolor": "white",
             "linecolor": "white",
             "minorgridcolor": "white",
             "startlinecolor": "rgb(36,36,36)"
            },
            "type": "carpet"
           }
          ],
          "choropleth": [
           {
            "colorbar": {
             "outlinewidth": 1,
             "tickcolor": "rgb(36,36,36)",
             "ticks": "outside"
            },
            "type": "choropleth"
           }
          ],
          "contour": [
           {
            "colorbar": {
             "outlinewidth": 1,
             "tickcolor": "rgb(36,36,36)",
             "ticks": "outside"
            },
            "colorscale": [
             [
              0,
              "#440154"
             ],
             [
              0.1111111111111111,
              "#482878"
             ],
             [
              0.2222222222222222,
              "#3e4989"
             ],
             [
              0.3333333333333333,
              "#31688e"
             ],
             [
              0.4444444444444444,
              "#26828e"
             ],
             [
              0.5555555555555556,
              "#1f9e89"
             ],
             [
              0.6666666666666666,
              "#35b779"
             ],
             [
              0.7777777777777778,
              "#6ece58"
             ],
             [
              0.8888888888888888,
              "#b5de2b"
             ],
             [
              1,
              "#fde725"
             ]
            ],
            "type": "contour"
           }
          ],
          "contourcarpet": [
           {
            "colorbar": {
             "outlinewidth": 1,
             "tickcolor": "rgb(36,36,36)",
             "ticks": "outside"
            },
            "type": "contourcarpet"
           }
          ],
          "heatmap": [
           {
            "colorbar": {
             "outlinewidth": 1,
             "tickcolor": "rgb(36,36,36)",
             "ticks": "outside"
            },
            "colorscale": [
             [
              0,
              "#440154"
             ],
             [
              0.1111111111111111,
              "#482878"
             ],
             [
              0.2222222222222222,
              "#3e4989"
             ],
             [
              0.3333333333333333,
              "#31688e"
             ],
             [
              0.4444444444444444,
              "#26828e"
             ],
             [
              0.5555555555555556,
              "#1f9e89"
             ],
             [
              0.6666666666666666,
              "#35b779"
             ],
             [
              0.7777777777777778,
              "#6ece58"
             ],
             [
              0.8888888888888888,
              "#b5de2b"
             ],
             [
              1,
              "#fde725"
             ]
            ],
            "type": "heatmap"
           }
          ],
          "heatmapgl": [
           {
            "colorbar": {
             "outlinewidth": 1,
             "tickcolor": "rgb(36,36,36)",
             "ticks": "outside"
            },
            "colorscale": [
             [
              0,
              "#440154"
             ],
             [
              0.1111111111111111,
              "#482878"
             ],
             [
              0.2222222222222222,
              "#3e4989"
             ],
             [
              0.3333333333333333,
              "#31688e"
             ],
             [
              0.4444444444444444,
              "#26828e"
             ],
             [
              0.5555555555555556,
              "#1f9e89"
             ],
             [
              0.6666666666666666,
              "#35b779"
             ],
             [
              0.7777777777777778,
              "#6ece58"
             ],
             [
              0.8888888888888888,
              "#b5de2b"
             ],
             [
              1,
              "#fde725"
             ]
            ],
            "type": "heatmapgl"
           }
          ],
          "histogram": [
           {
            "marker": {
             "line": {
              "color": "white",
              "width": 0.6
             }
            },
            "type": "histogram"
           }
          ],
          "histogram2d": [
           {
            "colorbar": {
             "outlinewidth": 1,
             "tickcolor": "rgb(36,36,36)",
             "ticks": "outside"
            },
            "colorscale": [
             [
              0,
              "#440154"
             ],
             [
              0.1111111111111111,
              "#482878"
             ],
             [
              0.2222222222222222,
              "#3e4989"
             ],
             [
              0.3333333333333333,
              "#31688e"
             ],
             [
              0.4444444444444444,
              "#26828e"
             ],
             [
              0.5555555555555556,
              "#1f9e89"
             ],
             [
              0.6666666666666666,
              "#35b779"
             ],
             [
              0.7777777777777778,
              "#6ece58"
             ],
             [
              0.8888888888888888,
              "#b5de2b"
             ],
             [
              1,
              "#fde725"
             ]
            ],
            "type": "histogram2d"
           }
          ],
          "histogram2dcontour": [
           {
            "colorbar": {
             "outlinewidth": 1,
             "tickcolor": "rgb(36,36,36)",
             "ticks": "outside"
            },
            "colorscale": [
             [
              0,
              "#440154"
             ],
             [
              0.1111111111111111,
              "#482878"
             ],
             [
              0.2222222222222222,
              "#3e4989"
             ],
             [
              0.3333333333333333,
              "#31688e"
             ],
             [
              0.4444444444444444,
              "#26828e"
             ],
             [
              0.5555555555555556,
              "#1f9e89"
             ],
             [
              0.6666666666666666,
              "#35b779"
             ],
             [
              0.7777777777777778,
              "#6ece58"
             ],
             [
              0.8888888888888888,
              "#b5de2b"
             ],
             [
              1,
              "#fde725"
             ]
            ],
            "type": "histogram2dcontour"
           }
          ],
          "mesh3d": [
           {
            "colorbar": {
             "outlinewidth": 1,
             "tickcolor": "rgb(36,36,36)",
             "ticks": "outside"
            },
            "type": "mesh3d"
           }
          ],
          "parcoords": [
           {
            "line": {
             "colorbar": {
              "outlinewidth": 1,
              "tickcolor": "rgb(36,36,36)",
              "ticks": "outside"
             }
            },
            "type": "parcoords"
           }
          ],
          "pie": [
           {
            "automargin": true,
            "type": "pie"
           }
          ],
          "scatter": [
           {
            "fillpattern": {
             "fillmode": "overlay",
             "size": 10,
             "solidity": 0.2
            },
            "type": "scatter"
           }
          ],
          "scatter3d": [
           {
            "line": {
             "colorbar": {
              "outlinewidth": 1,
              "tickcolor": "rgb(36,36,36)",
              "ticks": "outside"
             }
            },
            "marker": {
             "colorbar": {
              "outlinewidth": 1,
              "tickcolor": "rgb(36,36,36)",
              "ticks": "outside"
             }
            },
            "type": "scatter3d"
           }
          ],
          "scattercarpet": [
           {
            "marker": {
             "colorbar": {
              "outlinewidth": 1,
              "tickcolor": "rgb(36,36,36)",
              "ticks": "outside"
             }
            },
            "type": "scattercarpet"
           }
          ],
          "scattergeo": [
           {
            "marker": {
             "colorbar": {
              "outlinewidth": 1,
              "tickcolor": "rgb(36,36,36)",
              "ticks": "outside"
             }
            },
            "type": "scattergeo"
           }
          ],
          "scattergl": [
           {
            "marker": {
             "colorbar": {
              "outlinewidth": 1,
              "tickcolor": "rgb(36,36,36)",
              "ticks": "outside"
             }
            },
            "type": "scattergl"
           }
          ],
          "scattermapbox": [
           {
            "marker": {
             "colorbar": {
              "outlinewidth": 1,
              "tickcolor": "rgb(36,36,36)",
              "ticks": "outside"
             }
            },
            "type": "scattermapbox"
           }
          ],
          "scatterpolar": [
           {
            "marker": {
             "colorbar": {
              "outlinewidth": 1,
              "tickcolor": "rgb(36,36,36)",
              "ticks": "outside"
             }
            },
            "type": "scatterpolar"
           }
          ],
          "scatterpolargl": [
           {
            "marker": {
             "colorbar": {
              "outlinewidth": 1,
              "tickcolor": "rgb(36,36,36)",
              "ticks": "outside"
             }
            },
            "type": "scatterpolargl"
           }
          ],
          "scatterternary": [
           {
            "marker": {
             "colorbar": {
              "outlinewidth": 1,
              "tickcolor": "rgb(36,36,36)",
              "ticks": "outside"
             }
            },
            "type": "scatterternary"
           }
          ],
          "surface": [
           {
            "colorbar": {
             "outlinewidth": 1,
             "tickcolor": "rgb(36,36,36)",
             "ticks": "outside"
            },
            "colorscale": [
             [
              0,
              "#440154"
             ],
             [
              0.1111111111111111,
              "#482878"
             ],
             [
              0.2222222222222222,
              "#3e4989"
             ],
             [
              0.3333333333333333,
              "#31688e"
             ],
             [
              0.4444444444444444,
              "#26828e"
             ],
             [
              0.5555555555555556,
              "#1f9e89"
             ],
             [
              0.6666666666666666,
              "#35b779"
             ],
             [
              0.7777777777777778,
              "#6ece58"
             ],
             [
              0.8888888888888888,
              "#b5de2b"
             ],
             [
              1,
              "#fde725"
             ]
            ],
            "type": "surface"
           }
          ],
          "table": [
           {
            "cells": {
             "fill": {
              "color": "rgb(237,237,237)"
             },
             "line": {
              "color": "white"
             }
            },
            "header": {
             "fill": {
              "color": "rgb(217,217,217)"
             },
             "line": {
              "color": "white"
             }
            },
            "type": "table"
           }
          ]
         },
         "layout": {
          "annotationdefaults": {
           "arrowhead": 0,
           "arrowwidth": 1
          },
          "autotypenumbers": "strict",
          "coloraxis": {
           "colorbar": {
            "outlinewidth": 1,
            "tickcolor": "rgb(36,36,36)",
            "ticks": "outside"
           }
          },
          "colorscale": {
           "diverging": [
            [
             0,
             "rgb(103,0,31)"
            ],
            [
             0.1,
             "rgb(178,24,43)"
            ],
            [
             0.2,
             "rgb(214,96,77)"
            ],
            [
             0.3,
             "rgb(244,165,130)"
            ],
            [
             0.4,
             "rgb(253,219,199)"
            ],
            [
             0.5,
             "rgb(247,247,247)"
            ],
            [
             0.6,
             "rgb(209,229,240)"
            ],
            [
             0.7,
             "rgb(146,197,222)"
            ],
            [
             0.8,
             "rgb(67,147,195)"
            ],
            [
             0.9,
             "rgb(33,102,172)"
            ],
            [
             1,
             "rgb(5,48,97)"
            ]
           ],
           "sequential": [
            [
             0,
             "#440154"
            ],
            [
             0.1111111111111111,
             "#482878"
            ],
            [
             0.2222222222222222,
             "#3e4989"
            ],
            [
             0.3333333333333333,
             "#31688e"
            ],
            [
             0.4444444444444444,
             "#26828e"
            ],
            [
             0.5555555555555556,
             "#1f9e89"
            ],
            [
             0.6666666666666666,
             "#35b779"
            ],
            [
             0.7777777777777778,
             "#6ece58"
            ],
            [
             0.8888888888888888,
             "#b5de2b"
            ],
            [
             1,
             "#fde725"
            ]
           ],
           "sequentialminus": [
            [
             0,
             "#440154"
            ],
            [
             0.1111111111111111,
             "#482878"
            ],
            [
             0.2222222222222222,
             "#3e4989"
            ],
            [
             0.3333333333333333,
             "#31688e"
            ],
            [
             0.4444444444444444,
             "#26828e"
            ],
            [
             0.5555555555555556,
             "#1f9e89"
            ],
            [
             0.6666666666666666,
             "#35b779"
            ],
            [
             0.7777777777777778,
             "#6ece58"
            ],
            [
             0.8888888888888888,
             "#b5de2b"
            ],
            [
             1,
             "#fde725"
            ]
           ]
          },
          "colorway": [
           "#1F77B4",
           "#FF7F0E",
           "#2CA02C",
           "#D62728",
           "#9467BD",
           "#8C564B",
           "#E377C2",
           "#7F7F7F",
           "#BCBD22",
           "#17BECF"
          ],
          "font": {
           "color": "rgb(36,36,36)"
          },
          "geo": {
           "bgcolor": "white",
           "lakecolor": "white",
           "landcolor": "white",
           "showlakes": true,
           "showland": true,
           "subunitcolor": "white"
          },
          "hoverlabel": {
           "align": "left"
          },
          "hovermode": "closest",
          "mapbox": {
           "style": "light"
          },
          "paper_bgcolor": "white",
          "plot_bgcolor": "white",
          "polar": {
           "angularaxis": {
            "gridcolor": "rgb(232,232,232)",
            "linecolor": "rgb(36,36,36)",
            "showgrid": false,
            "showline": true,
            "ticks": "outside"
           },
           "bgcolor": "white",
           "radialaxis": {
            "gridcolor": "rgb(232,232,232)",
            "linecolor": "rgb(36,36,36)",
            "showgrid": false,
            "showline": true,
            "ticks": "outside"
           }
          },
          "scene": {
           "xaxis": {
            "backgroundcolor": "white",
            "gridcolor": "rgb(232,232,232)",
            "gridwidth": 2,
            "linecolor": "rgb(36,36,36)",
            "showbackground": true,
            "showgrid": false,
            "showline": true,
            "ticks": "outside",
            "zeroline": false,
            "zerolinecolor": "rgb(36,36,36)"
           },
           "yaxis": {
            "backgroundcolor": "white",
            "gridcolor": "rgb(232,232,232)",
            "gridwidth": 2,
            "linecolor": "rgb(36,36,36)",
            "showbackground": true,
            "showgrid": false,
            "showline": true,
            "ticks": "outside",
            "zeroline": false,
            "zerolinecolor": "rgb(36,36,36)"
           },
           "zaxis": {
            "backgroundcolor": "white",
            "gridcolor": "rgb(232,232,232)",
            "gridwidth": 2,
            "linecolor": "rgb(36,36,36)",
            "showbackground": true,
            "showgrid": false,
            "showline": true,
            "ticks": "outside",
            "zeroline": false,
            "zerolinecolor": "rgb(36,36,36)"
           }
          },
          "shapedefaults": {
           "fillcolor": "black",
           "line": {
            "width": 0
           },
           "opacity": 0.3
          },
          "ternary": {
           "aaxis": {
            "gridcolor": "rgb(232,232,232)",
            "linecolor": "rgb(36,36,36)",
            "showgrid": false,
            "showline": true,
            "ticks": "outside"
           },
           "baxis": {
            "gridcolor": "rgb(232,232,232)",
            "linecolor": "rgb(36,36,36)",
            "showgrid": false,
            "showline": true,
            "ticks": "outside"
           },
           "bgcolor": "white",
           "caxis": {
            "gridcolor": "rgb(232,232,232)",
            "linecolor": "rgb(36,36,36)",
            "showgrid": false,
            "showline": true,
            "ticks": "outside"
           }
          },
          "title": {
           "x": 0.05
          },
          "xaxis": {
           "automargin": true,
           "gridcolor": "rgb(232,232,232)",
           "linecolor": "rgb(36,36,36)",
           "showgrid": false,
           "showline": true,
           "ticks": "outside",
           "title": {
            "standoff": 15
           },
           "zeroline": false,
           "zerolinecolor": "rgb(36,36,36)"
          },
          "yaxis": {
           "automargin": true,
           "gridcolor": "rgb(232,232,232)",
           "linecolor": "rgb(36,36,36)",
           "showgrid": false,
           "showline": true,
           "ticks": "outside",
           "title": {
            "standoff": 15
           },
           "zeroline": false,
           "zerolinecolor": "rgb(36,36,36)"
          }
         }
        },
        "updatemenus": [
         {
          "buttons": [
           {
            "args": [
             null,
             {
              "frame": {
               "duration": 500,
               "redraw": false
              },
              "fromcurrent": true,
              "mode": "immediate",
              "transition": {
               "duration": 500,
               "easing": "linear"
              }
             }
            ],
            "label": "&#9654;",
            "method": "animate"
           },
           {
            "args": [
             [
              null
             ],
             {
              "frame": {
               "duration": 0,
               "redraw": false
              },
              "fromcurrent": true,
              "mode": "immediate",
              "transition": {
               "duration": 0,
               "easing": "linear"
              }
             }
            ],
            "label": "&#9724;",
            "method": "animate"
           }
          ],
          "direction": "left",
          "pad": {
           "r": 10,
           "t": 70
          },
          "showactive": false,
          "type": "buttons",
          "x": 0.1,
          "xanchor": "right",
          "y": 0,
          "yanchor": "top"
         }
        ],
        "width": 1000,
        "xaxis": {
         "anchor": "y",
         "domain": [
          0,
          1
         ],
         "title": {
          "text": "avg_years_of_schooling"
         }
        },
        "yaxis": {
         "anchor": "x",
         "domain": [
          0,
          1
         ],
         "title": {
          "text": "suicides_per_100k"
         }
        }
       }
      }
     },
     "metadata": {},
     "output_type": "display_data"
    }
   ],
   "source": [
    "import plotly.express as px\n",
    "px.scatter(final_df_2, x='avg_years_of_schooling', y='suicides_per_100k',\n",
    "           size='Both sexes', size_max=30, color='Continent', animation_frame=\"Year\", animation_group=\"Country\",\n",
    "           template='simple_white', width=1000, height=700,hover_name='Country')"
   ]
  },
  {
   "cell_type": "code",
   "execution_count": 125,
   "metadata": {},
   "outputs": [
    {
     "ename": "AttributeError",
     "evalue": "'int' object has no attribute 'replace'",
     "output_type": "error",
     "traceback": [
      "\u001b[1;31m---------------------------------------------------------------------------\u001b[0m",
      "\u001b[1;31mAttributeError\u001b[0m                            Traceback (most recent call last)",
      "Cell \u001b[1;32mIn [125], line 1\u001b[0m\n\u001b[1;32m----> 1\u001b[0m final_df_2[\u001b[39m'\u001b[39m\u001b[39mgdp\u001b[39m\u001b[39m'\u001b[39m] \u001b[39m=\u001b[39m [x\u001b[39m.\u001b[39mreplace(\u001b[39m'\u001b[39m\u001b[39m,\u001b[39m\u001b[39m'\u001b[39m,\u001b[39m'\u001b[39m\u001b[39m'\u001b[39m) \u001b[39mfor\u001b[39;00m x \u001b[39min\u001b[39;00m final_df_2[\u001b[39m'\u001b[39m\u001b[39mgdp\u001b[39m\u001b[39m'\u001b[39m]]\n\u001b[0;32m      2\u001b[0m final_df_2\n",
      "Cell \u001b[1;32mIn [125], line 1\u001b[0m, in \u001b[0;36m<listcomp>\u001b[1;34m(.0)\u001b[0m\n\u001b[1;32m----> 1\u001b[0m final_df_2[\u001b[39m'\u001b[39m\u001b[39mgdp\u001b[39m\u001b[39m'\u001b[39m] \u001b[39m=\u001b[39m [x\u001b[39m.\u001b[39;49mreplace(\u001b[39m'\u001b[39m\u001b[39m,\u001b[39m\u001b[39m'\u001b[39m,\u001b[39m'\u001b[39m\u001b[39m'\u001b[39m) \u001b[39mfor\u001b[39;00m x \u001b[39min\u001b[39;00m final_df_2[\u001b[39m'\u001b[39m\u001b[39mgdp\u001b[39m\u001b[39m'\u001b[39m]]\n\u001b[0;32m      2\u001b[0m final_df_2\n",
      "\u001b[1;31mAttributeError\u001b[0m: 'int' object has no attribute 'replace'"
     ]
    }
   ],
   "source": [
    "final_df_2['gdp'] = [x.replace(',','') for x in final_df_2['gdp']]\n",
    "final_df_2\n"
   ]
  },
  {
   "cell_type": "code",
   "execution_count": 133,
   "metadata": {},
   "outputs": [
    {
     "data": {
      "text/html": [
       "<div>\n",
       "<style scoped>\n",
       "    .dataframe tbody tr th:only-of-type {\n",
       "        vertical-align: middle;\n",
       "    }\n",
       "\n",
       "    .dataframe tbody tr th {\n",
       "        vertical-align: top;\n",
       "    }\n",
       "\n",
       "    .dataframe thead th {\n",
       "        text-align: right;\n",
       "    }\n",
       "</style>\n",
       "<table border=\"1\" class=\"dataframe\">\n",
       "  <thead>\n",
       "    <tr style=\"text-align: right;\">\n",
       "      <th></th>\n",
       "      <th></th>\n",
       "      <th>Country</th>\n",
       "      <th>Code</th>\n",
       "      <th>Year</th>\n",
       "      <th>avg_years_of_schooling</th>\n",
       "      <th>Both sexes</th>\n",
       "      <th>Male</th>\n",
       "      <th>Female</th>\n",
       "      <th>Continent</th>\n",
       "      <th>suicides_per_100k</th>\n",
       "      <th>gdp</th>\n",
       "    </tr>\n",
       "    <tr>\n",
       "      <th>Year</th>\n",
       "      <th></th>\n",
       "      <th></th>\n",
       "      <th></th>\n",
       "      <th></th>\n",
       "      <th></th>\n",
       "      <th></th>\n",
       "      <th></th>\n",
       "      <th></th>\n",
       "      <th></th>\n",
       "      <th></th>\n",
       "      <th></th>\n",
       "    </tr>\n",
       "  </thead>\n",
       "  <tbody>\n",
       "    <tr>\n",
       "      <th rowspan=\"5\" valign=\"top\">2000</th>\n",
       "      <th>0</th>\n",
       "      <td>Luxembourg</td>\n",
       "      <td>LUX</td>\n",
       "      <td>2000</td>\n",
       "      <td>10.3</td>\n",
       "      <td>90</td>\n",
       "      <td>113</td>\n",
       "      <td>65</td>\n",
       "      <td>Europe</td>\n",
       "      <td>222.64</td>\n",
       "      <td>51841</td>\n",
       "    </tr>\n",
       "    <tr>\n",
       "      <th>1</th>\n",
       "      <td>Norway</td>\n",
       "      <td>NOR</td>\n",
       "      <td>2000</td>\n",
       "      <td>12.0</td>\n",
       "      <td>84</td>\n",
       "      <td>106</td>\n",
       "      <td>61</td>\n",
       "      <td>Europe</td>\n",
       "      <td>150.33</td>\n",
       "      <td>41099</td>\n",
       "    </tr>\n",
       "    <tr>\n",
       "      <th>2</th>\n",
       "      <td>Japan</td>\n",
       "      <td>JPN</td>\n",
       "      <td>2000</td>\n",
       "      <td>10.7</td>\n",
       "      <td>72</td>\n",
       "      <td>96</td>\n",
       "      <td>47</td>\n",
       "      <td>Asia</td>\n",
       "      <td>278.52</td>\n",
       "      <td>40813</td>\n",
       "    </tr>\n",
       "    <tr>\n",
       "      <th>3</th>\n",
       "      <td>Switzerland</td>\n",
       "      <td>CHE</td>\n",
       "      <td>2000</td>\n",
       "      <td>11.4</td>\n",
       "      <td>78</td>\n",
       "      <td>100</td>\n",
       "      <td>54</td>\n",
       "      <td>Europe</td>\n",
       "      <td>266.20</td>\n",
       "      <td>39952</td>\n",
       "    </tr>\n",
       "    <tr>\n",
       "      <th>4</th>\n",
       "      <td>Iceland</td>\n",
       "      <td>ISL</td>\n",
       "      <td>2000</td>\n",
       "      <td>9.4</td>\n",
       "      <td>76</td>\n",
       "      <td>95</td>\n",
       "      <td>57</td>\n",
       "      <td>Europe</td>\n",
       "      <td>207.99</td>\n",
       "      <td>34372</td>\n",
       "    </tr>\n",
       "    <tr>\n",
       "      <th>...</th>\n",
       "      <th>...</th>\n",
       "      <td>...</td>\n",
       "      <td>...</td>\n",
       "      <td>...</td>\n",
       "      <td>...</td>\n",
       "      <td>...</td>\n",
       "      <td>...</td>\n",
       "      <td>...</td>\n",
       "      <td>...</td>\n",
       "      <td>...</td>\n",
       "      <td>...</td>\n",
       "    </tr>\n",
       "    <tr>\n",
       "      <th rowspan=\"5\" valign=\"top\">2016</th>\n",
       "      <th>0</th>\n",
       "      <td>Iceland</td>\n",
       "      <td>ISL</td>\n",
       "      <td>2016</td>\n",
       "      <td>12.4</td>\n",
       "      <td>55</td>\n",
       "      <td>67</td>\n",
       "      <td>42</td>\n",
       "      <td>Europe</td>\n",
       "      <td>138.07</td>\n",
       "      <td>64708</td>\n",
       "    </tr>\n",
       "    <tr>\n",
       "      <th>1</th>\n",
       "      <td>Qatar</td>\n",
       "      <td>QAT</td>\n",
       "      <td>2016</td>\n",
       "      <td>9.8</td>\n",
       "      <td>62</td>\n",
       "      <td>66</td>\n",
       "      <td>47</td>\n",
       "      <td>Asia</td>\n",
       "      <td>16.43</td>\n",
       "      <td>62484</td>\n",
       "    </tr>\n",
       "    <tr>\n",
       "      <th>2</th>\n",
       "      <td>Sweden</td>\n",
       "      <td>SWE</td>\n",
       "      <td>2016</td>\n",
       "      <td>12.4</td>\n",
       "      <td>52</td>\n",
       "      <td>64</td>\n",
       "      <td>40</td>\n",
       "      <td>Europe</td>\n",
       "      <td>138.84</td>\n",
       "      <td>55594</td>\n",
       "    </tr>\n",
       "    <tr>\n",
       "      <th>3</th>\n",
       "      <td>Netherlands</td>\n",
       "      <td>NLD</td>\n",
       "      <td>2016</td>\n",
       "      <td>12.1</td>\n",
       "      <td>59</td>\n",
       "      <td>66</td>\n",
       "      <td>52</td>\n",
       "      <td>Europe</td>\n",
       "      <td>127.39</td>\n",
       "      <td>48108</td>\n",
       "    </tr>\n",
       "    <tr>\n",
       "      <th>4</th>\n",
       "      <td>Austria</td>\n",
       "      <td>AUT</td>\n",
       "      <td>2016</td>\n",
       "      <td>12.1</td>\n",
       "      <td>62</td>\n",
       "      <td>80</td>\n",
       "      <td>44</td>\n",
       "      <td>Europe</td>\n",
       "      <td>183.23</td>\n",
       "      <td>46976</td>\n",
       "    </tr>\n",
       "  </tbody>\n",
       "</table>\n",
       "<p>85 rows × 10 columns</p>\n",
       "</div>"
      ],
      "text/plain": [
       "            Country Code  Year  avg_years_of_schooling  Both sexes  Male  \\\n",
       "Year                                                                       \n",
       "2000 0   Luxembourg  LUX  2000                    10.3          90   113   \n",
       "     1       Norway  NOR  2000                    12.0          84   106   \n",
       "     2        Japan  JPN  2000                    10.7          72    96   \n",
       "     3  Switzerland  CHE  2000                    11.4          78   100   \n",
       "     4      Iceland  ISL  2000                     9.4          76    95   \n",
       "...             ...  ...   ...                     ...         ...   ...   \n",
       "2016 0      Iceland  ISL  2016                    12.4          55    67   \n",
       "     1        Qatar  QAT  2016                     9.8          62    66   \n",
       "     2       Sweden  SWE  2016                    12.4          52    64   \n",
       "     3  Netherlands  NLD  2016                    12.1          59    66   \n",
       "     4      Austria  AUT  2016                    12.1          62    80   \n",
       "\n",
       "        Female Continent  suicides_per_100k    gdp  \n",
       "Year                                                \n",
       "2000 0      65    Europe             222.64  51841  \n",
       "     1      61    Europe             150.33  41099  \n",
       "     2      47      Asia             278.52  40813  \n",
       "     3      54    Europe             266.20  39952  \n",
       "     4      57    Europe             207.99  34372  \n",
       "...        ...       ...                ...    ...  \n",
       "2016 0      42    Europe             138.07  64708  \n",
       "     1      47      Asia              16.43  62484  \n",
       "     2      40    Europe             138.84  55594  \n",
       "     3      52    Europe             127.39  48108  \n",
       "     4      44    Europe             183.23  46976  \n",
       "\n",
       "[85 rows x 10 columns]"
      ]
     },
     "execution_count": 133,
     "metadata": {},
     "output_type": "execute_result"
    }
   ],
   "source": [
    "top_gdp = final_df_2.groupby('Year').apply(lambda x : x.sort_values(by = 'gdp', ascending = False).head(5).reset_index(drop = True))\n",
    "top_gdp"
   ]
  },
  {
   "cell_type": "code",
   "execution_count": 139,
   "metadata": {},
   "outputs": [
    {
     "data": {
      "text/plain": [
       "Index(['Country', 'Code', 'Year', 'avg_years_of_schooling', 'Both sexes',\n",
       "       'Male', 'Female', 'Continent', 'suicides_per_100k', 'gdp'],\n",
       "      dtype='object')"
      ]
     },
     "execution_count": 139,
     "metadata": {},
     "output_type": "execute_result"
    }
   ],
   "source": [
    "final_df_2.columns"
   ]
  },
  {
   "cell_type": "code",
   "execution_count": 178,
   "metadata": {},
   "outputs": [
    {
     "data": {
      "application/vnd.plotly.v1+json": {
       "config": {
        "plotlyServerURL": "https://plot.ly"
       },
       "data": [
        {
         "alignmentgroup": "True",
         "hovertemplate": "Continent=Europe<br>Country=%{x}<br>GDP Per Capita ($)=%{text}<extra></extra>",
         "legendgroup": "Europe",
         "marker": {
          "color": "#1F77B4",
          "pattern": {
           "shape": ""
          }
         },
         "name": "Europe",
         "offsetgroup": "Europe",
         "orientation": "v",
         "showlegend": true,
         "text": [
          107456,
          86068,
          79187,
          55972,
          54909,
          54629,
          47206
         ],
         "textposition": "auto",
         "type": "bar",
         "x": [
          "Luxembourg",
          "Switzerland",
          "Norway",
          "Denmark",
          "Iceland",
          "Sweden",
          "Netherlands"
         ],
         "xaxis": "x",
         "y": [
          107456,
          86068,
          79187,
          55972,
          54909,
          54629,
          47206
         ],
         "yaxis": "y"
        },
        {
         "alignmentgroup": "True",
         "hovertemplate": "Continent=Asia<br>Country=%{x}<br>GDP Per Capita ($)=%{text}<extra></extra>",
         "legendgroup": "Asia",
         "marker": {
          "color": "#FF7F0E",
          "pattern": {
           "shape": ""
          }
         },
         "name": "Asia",
         "offsetgroup": "Asia",
         "orientation": "v",
         "showlegend": true,
         "text": [
          81766,
          69937
         ],
         "textposition": "auto",
         "type": "bar",
         "x": [
          "Singapore",
          "Qatar"
         ],
         "xaxis": "x",
         "y": [
          81766,
          69937
         ],
         "yaxis": "y"
        },
        {
         "alignmentgroup": "True",
         "hovertemplate": "Continent=Oceania<br>Country=%{x}<br>GDP Per Capita ($)=%{text}<extra></extra>",
         "legendgroup": "Oceania",
         "marker": {
          "color": "#2CA02C",
          "pattern": {
           "shape": ""
          }
         },
         "name": "Oceania",
         "offsetgroup": "Oceania",
         "orientation": "v",
         "showlegend": true,
         "text": [
          60656
         ],
         "textposition": "auto",
         "type": "bar",
         "x": [
          "Australia"
         ],
         "xaxis": "x",
         "y": [
          60656
         ],
         "yaxis": "y"
        }
       ],
       "layout": {
        "barmode": "relative",
        "height": 700,
        "legend": {
         "title": {
          "text": "Continent"
         },
         "tracegroupgap": 0
        },
        "margin": {
         "t": 60
        },
        "template": {
         "data": {
          "bar": [
           {
            "error_x": {
             "color": "rgb(36,36,36)"
            },
            "error_y": {
             "color": "rgb(36,36,36)"
            },
            "marker": {
             "line": {
              "color": "white",
              "width": 0.5
             },
             "pattern": {
              "fillmode": "overlay",
              "size": 10,
              "solidity": 0.2
             }
            },
            "type": "bar"
           }
          ],
          "barpolar": [
           {
            "marker": {
             "line": {
              "color": "white",
              "width": 0.5
             },
             "pattern": {
              "fillmode": "overlay",
              "size": 10,
              "solidity": 0.2
             }
            },
            "type": "barpolar"
           }
          ],
          "carpet": [
           {
            "aaxis": {
             "endlinecolor": "rgb(36,36,36)",
             "gridcolor": "white",
             "linecolor": "white",
             "minorgridcolor": "white",
             "startlinecolor": "rgb(36,36,36)"
            },
            "baxis": {
             "endlinecolor": "rgb(36,36,36)",
             "gridcolor": "white",
             "linecolor": "white",
             "minorgridcolor": "white",
             "startlinecolor": "rgb(36,36,36)"
            },
            "type": "carpet"
           }
          ],
          "choropleth": [
           {
            "colorbar": {
             "outlinewidth": 1,
             "tickcolor": "rgb(36,36,36)",
             "ticks": "outside"
            },
            "type": "choropleth"
           }
          ],
          "contour": [
           {
            "colorbar": {
             "outlinewidth": 1,
             "tickcolor": "rgb(36,36,36)",
             "ticks": "outside"
            },
            "colorscale": [
             [
              0,
              "#440154"
             ],
             [
              0.1111111111111111,
              "#482878"
             ],
             [
              0.2222222222222222,
              "#3e4989"
             ],
             [
              0.3333333333333333,
              "#31688e"
             ],
             [
              0.4444444444444444,
              "#26828e"
             ],
             [
              0.5555555555555556,
              "#1f9e89"
             ],
             [
              0.6666666666666666,
              "#35b779"
             ],
             [
              0.7777777777777778,
              "#6ece58"
             ],
             [
              0.8888888888888888,
              "#b5de2b"
             ],
             [
              1,
              "#fde725"
             ]
            ],
            "type": "contour"
           }
          ],
          "contourcarpet": [
           {
            "colorbar": {
             "outlinewidth": 1,
             "tickcolor": "rgb(36,36,36)",
             "ticks": "outside"
            },
            "type": "contourcarpet"
           }
          ],
          "heatmap": [
           {
            "colorbar": {
             "outlinewidth": 1,
             "tickcolor": "rgb(36,36,36)",
             "ticks": "outside"
            },
            "colorscale": [
             [
              0,
              "#440154"
             ],
             [
              0.1111111111111111,
              "#482878"
             ],
             [
              0.2222222222222222,
              "#3e4989"
             ],
             [
              0.3333333333333333,
              "#31688e"
             ],
             [
              0.4444444444444444,
              "#26828e"
             ],
             [
              0.5555555555555556,
              "#1f9e89"
             ],
             [
              0.6666666666666666,
              "#35b779"
             ],
             [
              0.7777777777777778,
              "#6ece58"
             ],
             [
              0.8888888888888888,
              "#b5de2b"
             ],
             [
              1,
              "#fde725"
             ]
            ],
            "type": "heatmap"
           }
          ],
          "heatmapgl": [
           {
            "colorbar": {
             "outlinewidth": 1,
             "tickcolor": "rgb(36,36,36)",
             "ticks": "outside"
            },
            "colorscale": [
             [
              0,
              "#440154"
             ],
             [
              0.1111111111111111,
              "#482878"
             ],
             [
              0.2222222222222222,
              "#3e4989"
             ],
             [
              0.3333333333333333,
              "#31688e"
             ],
             [
              0.4444444444444444,
              "#26828e"
             ],
             [
              0.5555555555555556,
              "#1f9e89"
             ],
             [
              0.6666666666666666,
              "#35b779"
             ],
             [
              0.7777777777777778,
              "#6ece58"
             ],
             [
              0.8888888888888888,
              "#b5de2b"
             ],
             [
              1,
              "#fde725"
             ]
            ],
            "type": "heatmapgl"
           }
          ],
          "histogram": [
           {
            "marker": {
             "line": {
              "color": "white",
              "width": 0.6
             }
            },
            "type": "histogram"
           }
          ],
          "histogram2d": [
           {
            "colorbar": {
             "outlinewidth": 1,
             "tickcolor": "rgb(36,36,36)",
             "ticks": "outside"
            },
            "colorscale": [
             [
              0,
              "#440154"
             ],
             [
              0.1111111111111111,
              "#482878"
             ],
             [
              0.2222222222222222,
              "#3e4989"
             ],
             [
              0.3333333333333333,
              "#31688e"
             ],
             [
              0.4444444444444444,
              "#26828e"
             ],
             [
              0.5555555555555556,
              "#1f9e89"
             ],
             [
              0.6666666666666666,
              "#35b779"
             ],
             [
              0.7777777777777778,
              "#6ece58"
             ],
             [
              0.8888888888888888,
              "#b5de2b"
             ],
             [
              1,
              "#fde725"
             ]
            ],
            "type": "histogram2d"
           }
          ],
          "histogram2dcontour": [
           {
            "colorbar": {
             "outlinewidth": 1,
             "tickcolor": "rgb(36,36,36)",
             "ticks": "outside"
            },
            "colorscale": [
             [
              0,
              "#440154"
             ],
             [
              0.1111111111111111,
              "#482878"
             ],
             [
              0.2222222222222222,
              "#3e4989"
             ],
             [
              0.3333333333333333,
              "#31688e"
             ],
             [
              0.4444444444444444,
              "#26828e"
             ],
             [
              0.5555555555555556,
              "#1f9e89"
             ],
             [
              0.6666666666666666,
              "#35b779"
             ],
             [
              0.7777777777777778,
              "#6ece58"
             ],
             [
              0.8888888888888888,
              "#b5de2b"
             ],
             [
              1,
              "#fde725"
             ]
            ],
            "type": "histogram2dcontour"
           }
          ],
          "mesh3d": [
           {
            "colorbar": {
             "outlinewidth": 1,
             "tickcolor": "rgb(36,36,36)",
             "ticks": "outside"
            },
            "type": "mesh3d"
           }
          ],
          "parcoords": [
           {
            "line": {
             "colorbar": {
              "outlinewidth": 1,
              "tickcolor": "rgb(36,36,36)",
              "ticks": "outside"
             }
            },
            "type": "parcoords"
           }
          ],
          "pie": [
           {
            "automargin": true,
            "type": "pie"
           }
          ],
          "scatter": [
           {
            "fillpattern": {
             "fillmode": "overlay",
             "size": 10,
             "solidity": 0.2
            },
            "type": "scatter"
           }
          ],
          "scatter3d": [
           {
            "line": {
             "colorbar": {
              "outlinewidth": 1,
              "tickcolor": "rgb(36,36,36)",
              "ticks": "outside"
             }
            },
            "marker": {
             "colorbar": {
              "outlinewidth": 1,
              "tickcolor": "rgb(36,36,36)",
              "ticks": "outside"
             }
            },
            "type": "scatter3d"
           }
          ],
          "scattercarpet": [
           {
            "marker": {
             "colorbar": {
              "outlinewidth": 1,
              "tickcolor": "rgb(36,36,36)",
              "ticks": "outside"
             }
            },
            "type": "scattercarpet"
           }
          ],
          "scattergeo": [
           {
            "marker": {
             "colorbar": {
              "outlinewidth": 1,
              "tickcolor": "rgb(36,36,36)",
              "ticks": "outside"
             }
            },
            "type": "scattergeo"
           }
          ],
          "scattergl": [
           {
            "marker": {
             "colorbar": {
              "outlinewidth": 1,
              "tickcolor": "rgb(36,36,36)",
              "ticks": "outside"
             }
            },
            "type": "scattergl"
           }
          ],
          "scattermapbox": [
           {
            "marker": {
             "colorbar": {
              "outlinewidth": 1,
              "tickcolor": "rgb(36,36,36)",
              "ticks": "outside"
             }
            },
            "type": "scattermapbox"
           }
          ],
          "scatterpolar": [
           {
            "marker": {
             "colorbar": {
              "outlinewidth": 1,
              "tickcolor": "rgb(36,36,36)",
              "ticks": "outside"
             }
            },
            "type": "scatterpolar"
           }
          ],
          "scatterpolargl": [
           {
            "marker": {
             "colorbar": {
              "outlinewidth": 1,
              "tickcolor": "rgb(36,36,36)",
              "ticks": "outside"
             }
            },
            "type": "scatterpolargl"
           }
          ],
          "scatterternary": [
           {
            "marker": {
             "colorbar": {
              "outlinewidth": 1,
              "tickcolor": "rgb(36,36,36)",
              "ticks": "outside"
             }
            },
            "type": "scatterternary"
           }
          ],
          "surface": [
           {
            "colorbar": {
             "outlinewidth": 1,
             "tickcolor": "rgb(36,36,36)",
             "ticks": "outside"
            },
            "colorscale": [
             [
              0,
              "#440154"
             ],
             [
              0.1111111111111111,
              "#482878"
             ],
             [
              0.2222222222222222,
              "#3e4989"
             ],
             [
              0.3333333333333333,
              "#31688e"
             ],
             [
              0.4444444444444444,
              "#26828e"
             ],
             [
              0.5555555555555556,
              "#1f9e89"
             ],
             [
              0.6666666666666666,
              "#35b779"
             ],
             [
              0.7777777777777778,
              "#6ece58"
             ],
             [
              0.8888888888888888,
              "#b5de2b"
             ],
             [
              1,
              "#fde725"
             ]
            ],
            "type": "surface"
           }
          ],
          "table": [
           {
            "cells": {
             "fill": {
              "color": "rgb(237,237,237)"
             },
             "line": {
              "color": "white"
             }
            },
            "header": {
             "fill": {
              "color": "rgb(217,217,217)"
             },
             "line": {
              "color": "white"
             }
            },
            "type": "table"
           }
          ]
         },
         "layout": {
          "annotationdefaults": {
           "arrowhead": 0,
           "arrowwidth": 1
          },
          "autotypenumbers": "strict",
          "coloraxis": {
           "colorbar": {
            "outlinewidth": 1,
            "tickcolor": "rgb(36,36,36)",
            "ticks": "outside"
           }
          },
          "colorscale": {
           "diverging": [
            [
             0,
             "rgb(103,0,31)"
            ],
            [
             0.1,
             "rgb(178,24,43)"
            ],
            [
             0.2,
             "rgb(214,96,77)"
            ],
            [
             0.3,
             "rgb(244,165,130)"
            ],
            [
             0.4,
             "rgb(253,219,199)"
            ],
            [
             0.5,
             "rgb(247,247,247)"
            ],
            [
             0.6,
             "rgb(209,229,240)"
            ],
            [
             0.7,
             "rgb(146,197,222)"
            ],
            [
             0.8,
             "rgb(67,147,195)"
            ],
            [
             0.9,
             "rgb(33,102,172)"
            ],
            [
             1,
             "rgb(5,48,97)"
            ]
           ],
           "sequential": [
            [
             0,
             "#440154"
            ],
            [
             0.1111111111111111,
             "#482878"
            ],
            [
             0.2222222222222222,
             "#3e4989"
            ],
            [
             0.3333333333333333,
             "#31688e"
            ],
            [
             0.4444444444444444,
             "#26828e"
            ],
            [
             0.5555555555555556,
             "#1f9e89"
            ],
            [
             0.6666666666666666,
             "#35b779"
            ],
            [
             0.7777777777777778,
             "#6ece58"
            ],
            [
             0.8888888888888888,
             "#b5de2b"
            ],
            [
             1,
             "#fde725"
            ]
           ],
           "sequentialminus": [
            [
             0,
             "#440154"
            ],
            [
             0.1111111111111111,
             "#482878"
            ],
            [
             0.2222222222222222,
             "#3e4989"
            ],
            [
             0.3333333333333333,
             "#31688e"
            ],
            [
             0.4444444444444444,
             "#26828e"
            ],
            [
             0.5555555555555556,
             "#1f9e89"
            ],
            [
             0.6666666666666666,
             "#35b779"
            ],
            [
             0.7777777777777778,
             "#6ece58"
            ],
            [
             0.8888888888888888,
             "#b5de2b"
            ],
            [
             1,
             "#fde725"
            ]
           ]
          },
          "colorway": [
           "#1F77B4",
           "#FF7F0E",
           "#2CA02C",
           "#D62728",
           "#9467BD",
           "#8C564B",
           "#E377C2",
           "#7F7F7F",
           "#BCBD22",
           "#17BECF"
          ],
          "font": {
           "color": "rgb(36,36,36)"
          },
          "geo": {
           "bgcolor": "white",
           "lakecolor": "white",
           "landcolor": "white",
           "showlakes": true,
           "showland": true,
           "subunitcolor": "white"
          },
          "hoverlabel": {
           "align": "left"
          },
          "hovermode": "closest",
          "mapbox": {
           "style": "light"
          },
          "paper_bgcolor": "white",
          "plot_bgcolor": "white",
          "polar": {
           "angularaxis": {
            "gridcolor": "rgb(232,232,232)",
            "linecolor": "rgb(36,36,36)",
            "showgrid": false,
            "showline": true,
            "ticks": "outside"
           },
           "bgcolor": "white",
           "radialaxis": {
            "gridcolor": "rgb(232,232,232)",
            "linecolor": "rgb(36,36,36)",
            "showgrid": false,
            "showline": true,
            "ticks": "outside"
           }
          },
          "scene": {
           "xaxis": {
            "backgroundcolor": "white",
            "gridcolor": "rgb(232,232,232)",
            "gridwidth": 2,
            "linecolor": "rgb(36,36,36)",
            "showbackground": true,
            "showgrid": false,
            "showline": true,
            "ticks": "outside",
            "zeroline": false,
            "zerolinecolor": "rgb(36,36,36)"
           },
           "yaxis": {
            "backgroundcolor": "white",
            "gridcolor": "rgb(232,232,232)",
            "gridwidth": 2,
            "linecolor": "rgb(36,36,36)",
            "showbackground": true,
            "showgrid": false,
            "showline": true,
            "ticks": "outside",
            "zeroline": false,
            "zerolinecolor": "rgb(36,36,36)"
           },
           "zaxis": {
            "backgroundcolor": "white",
            "gridcolor": "rgb(232,232,232)",
            "gridwidth": 2,
            "linecolor": "rgb(36,36,36)",
            "showbackground": true,
            "showgrid": false,
            "showline": true,
            "ticks": "outside",
            "zeroline": false,
            "zerolinecolor": "rgb(36,36,36)"
           }
          },
          "shapedefaults": {
           "fillcolor": "black",
           "line": {
            "width": 0
           },
           "opacity": 0.3
          },
          "ternary": {
           "aaxis": {
            "gridcolor": "rgb(232,232,232)",
            "linecolor": "rgb(36,36,36)",
            "showgrid": false,
            "showline": true,
            "ticks": "outside"
           },
           "baxis": {
            "gridcolor": "rgb(232,232,232)",
            "linecolor": "rgb(36,36,36)",
            "showgrid": false,
            "showline": true,
            "ticks": "outside"
           },
           "bgcolor": "white",
           "caxis": {
            "gridcolor": "rgb(232,232,232)",
            "linecolor": "rgb(36,36,36)",
            "showgrid": false,
            "showline": true,
            "ticks": "outside"
           }
          },
          "title": {
           "x": 0.05
          },
          "xaxis": {
           "automargin": true,
           "gridcolor": "rgb(232,232,232)",
           "linecolor": "rgb(36,36,36)",
           "showgrid": false,
           "showline": true,
           "ticks": "outside",
           "title": {
            "standoff": 15
           },
           "zeroline": false,
           "zerolinecolor": "rgb(36,36,36)"
          },
          "yaxis": {
           "automargin": true,
           "gridcolor": "rgb(232,232,232)",
           "linecolor": "rgb(36,36,36)",
           "showgrid": false,
           "showline": true,
           "ticks": "outside",
           "title": {
            "standoff": 15
           },
           "zeroline": false,
           "zerolinecolor": "rgb(36,36,36)"
          }
         }
        },
        "width": 1000,
        "xaxis": {
         "anchor": "y",
         "domain": [
          0,
          1
         ],
         "title": {
          "text": "Country"
         }
        },
        "yaxis": {
         "anchor": "x",
         "domain": [
          0,
          1
         ],
         "title": {
          "text": "GDP Per Capita ($)"
         }
        }
       }
      }
     },
     "metadata": {},
     "output_type": "display_data"
    }
   ],
   "source": [
    "import plotly.io as pi\n",
    "fig = px.bar(final_df_2[final_df_2['Year'] == 2015].sort_values('gdp',ascending=False).head(10),x='Country', y='gdp',\n",
    "        color='Continent',template='simple_white', width=1000, height=700, text='gdp',\n",
    "        labels={'gdp':'GDP Per Capita ($)'})\n",
    "fig"
   ]
  },
  {
   "cell_type": "code",
   "execution_count": 182,
   "metadata": {},
   "outputs": [
    {
     "data": {
      "text/html": [
       "<div>\n",
       "<style scoped>\n",
       "    .dataframe tbody tr th:only-of-type {\n",
       "        vertical-align: middle;\n",
       "    }\n",
       "\n",
       "    .dataframe tbody tr th {\n",
       "        vertical-align: top;\n",
       "    }\n",
       "\n",
       "    .dataframe thead th {\n",
       "        text-align: right;\n",
       "    }\n",
       "</style>\n",
       "<table border=\"1\" class=\"dataframe\">\n",
       "  <thead>\n",
       "    <tr style=\"text-align: right;\">\n",
       "      <th></th>\n",
       "      <th>Country</th>\n",
       "      <th>Happiness Score</th>\n",
       "      <th>Year</th>\n",
       "    </tr>\n",
       "  </thead>\n",
       "  <tbody>\n",
       "    <tr>\n",
       "      <th>0</th>\n",
       "      <td>Switzerland</td>\n",
       "      <td>7.587</td>\n",
       "      <td>2015</td>\n",
       "    </tr>\n",
       "    <tr>\n",
       "      <th>1</th>\n",
       "      <td>Iceland</td>\n",
       "      <td>7.561</td>\n",
       "      <td>2015</td>\n",
       "    </tr>\n",
       "    <tr>\n",
       "      <th>2</th>\n",
       "      <td>Denmark</td>\n",
       "      <td>7.527</td>\n",
       "      <td>2015</td>\n",
       "    </tr>\n",
       "    <tr>\n",
       "      <th>3</th>\n",
       "      <td>Norway</td>\n",
       "      <td>7.522</td>\n",
       "      <td>2015</td>\n",
       "    </tr>\n",
       "    <tr>\n",
       "      <th>4</th>\n",
       "      <td>Canada</td>\n",
       "      <td>7.427</td>\n",
       "      <td>2015</td>\n",
       "    </tr>\n",
       "    <tr>\n",
       "      <th>...</th>\n",
       "      <td>...</td>\n",
       "      <td>...</td>\n",
       "      <td>...</td>\n",
       "    </tr>\n",
       "    <tr>\n",
       "      <th>153</th>\n",
       "      <td>Rwanda</td>\n",
       "      <td>3.465</td>\n",
       "      <td>2015</td>\n",
       "    </tr>\n",
       "    <tr>\n",
       "      <th>154</th>\n",
       "      <td>Benin</td>\n",
       "      <td>3.340</td>\n",
       "      <td>2015</td>\n",
       "    </tr>\n",
       "    <tr>\n",
       "      <th>155</th>\n",
       "      <td>Syria</td>\n",
       "      <td>3.006</td>\n",
       "      <td>2015</td>\n",
       "    </tr>\n",
       "    <tr>\n",
       "      <th>156</th>\n",
       "      <td>Burundi</td>\n",
       "      <td>2.905</td>\n",
       "      <td>2015</td>\n",
       "    </tr>\n",
       "    <tr>\n",
       "      <th>157</th>\n",
       "      <td>Togo</td>\n",
       "      <td>2.839</td>\n",
       "      <td>2015</td>\n",
       "    </tr>\n",
       "  </tbody>\n",
       "</table>\n",
       "<p>158 rows × 3 columns</p>\n",
       "</div>"
      ],
      "text/plain": [
       "         Country  Happiness Score  Year\n",
       "0    Switzerland            7.587  2015\n",
       "1        Iceland            7.561  2015\n",
       "2        Denmark            7.527  2015\n",
       "3         Norway            7.522  2015\n",
       "4         Canada            7.427  2015\n",
       "..           ...              ...   ...\n",
       "153       Rwanda            3.465  2015\n",
       "154        Benin            3.340  2015\n",
       "155        Syria            3.006  2015\n",
       "156      Burundi            2.905  2015\n",
       "157         Togo            2.839  2015\n",
       "\n",
       "[158 rows x 3 columns]"
      ]
     },
     "execution_count": 182,
     "metadata": {},
     "output_type": "execute_result"
    }
   ],
   "source": [
    "happiness = pd.read_csv('2015.csv')\n",
    "happiness = happiness[['Country','Happiness Score']]\n",
    "happiness['Year'] = 2015\n",
    "happiness"
   ]
  },
  {
   "cell_type": "code",
   "execution_count": 185,
   "metadata": {},
   "outputs": [
    {
     "data": {
      "text/html": [
       "<div>\n",
       "<style scoped>\n",
       "    .dataframe tbody tr th:only-of-type {\n",
       "        vertical-align: middle;\n",
       "    }\n",
       "\n",
       "    .dataframe tbody tr th {\n",
       "        vertical-align: top;\n",
       "    }\n",
       "\n",
       "    .dataframe thead th {\n",
       "        text-align: right;\n",
       "    }\n",
       "</style>\n",
       "<table border=\"1\" class=\"dataframe\">\n",
       "  <thead>\n",
       "    <tr style=\"text-align: right;\">\n",
       "      <th></th>\n",
       "      <th>Country</th>\n",
       "      <th>Code</th>\n",
       "      <th>Year</th>\n",
       "      <th>avg_years_of_schooling</th>\n",
       "      <th>Both sexes</th>\n",
       "      <th>Male</th>\n",
       "      <th>Female</th>\n",
       "      <th>Continent</th>\n",
       "      <th>suicides_per_100k</th>\n",
       "      <th>gdp</th>\n",
       "      <th>Happiness Score</th>\n",
       "    </tr>\n",
       "  </thead>\n",
       "  <tbody>\n",
       "    <tr>\n",
       "      <th>0</th>\n",
       "      <td>Nicaragua</td>\n",
       "      <td>NIC</td>\n",
       "      <td>2015</td>\n",
       "      <td>6.5</td>\n",
       "      <td>148</td>\n",
       "      <td>193</td>\n",
       "      <td>105</td>\n",
       "      <td>North America</td>\n",
       "      <td>69.87</td>\n",
       "      <td>2303</td>\n",
       "      <td>5.828</td>\n",
       "    </tr>\n",
       "    <tr>\n",
       "      <th>1</th>\n",
       "      <td>Uruguay</td>\n",
       "      <td>URY</td>\n",
       "      <td>2015</td>\n",
       "      <td>8.7</td>\n",
       "      <td>114</td>\n",
       "      <td>149</td>\n",
       "      <td>80</td>\n",
       "      <td>South America</td>\n",
       "      <td>270.02</td>\n",
       "      <td>16696</td>\n",
       "      <td>6.485</td>\n",
       "    </tr>\n",
       "    <tr>\n",
       "      <th>2</th>\n",
       "      <td>Ukraine</td>\n",
       "      <td>UKR</td>\n",
       "      <td>2015</td>\n",
       "      <td>11.3</td>\n",
       "      <td>188</td>\n",
       "      <td>276</td>\n",
       "      <td>102</td>\n",
       "      <td>Europe</td>\n",
       "      <td>244.72</td>\n",
       "      <td>2256</td>\n",
       "      <td>4.681</td>\n",
       "    </tr>\n",
       "    <tr>\n",
       "      <th>3</th>\n",
       "      <td>Turkmenistan</td>\n",
       "      <td>TKM</td>\n",
       "      <td>2015</td>\n",
       "      <td>9.8</td>\n",
       "      <td>198</td>\n",
       "      <td>262</td>\n",
       "      <td>136</td>\n",
       "      <td>Asia</td>\n",
       "      <td>28.48</td>\n",
       "      <td>7326</td>\n",
       "      <td>5.548</td>\n",
       "    </tr>\n",
       "    <tr>\n",
       "      <th>4</th>\n",
       "      <td>Estonia</td>\n",
       "      <td>EST</td>\n",
       "      <td>2015</td>\n",
       "      <td>12.7</td>\n",
       "      <td>116</td>\n",
       "      <td>169</td>\n",
       "      <td>63</td>\n",
       "      <td>Europe</td>\n",
       "      <td>205.38</td>\n",
       "      <td>18149</td>\n",
       "      <td>5.429</td>\n",
       "    </tr>\n",
       "    <tr>\n",
       "      <th>5</th>\n",
       "      <td>Finland</td>\n",
       "      <td>FIN</td>\n",
       "      <td>2015</td>\n",
       "      <td>12.4</td>\n",
       "      <td>70</td>\n",
       "      <td>94</td>\n",
       "      <td>44</td>\n",
       "      <td>Europe</td>\n",
       "      <td>161.19</td>\n",
       "      <td>44862</td>\n",
       "      <td>7.406</td>\n",
       "    </tr>\n",
       "    <tr>\n",
       "      <th>6</th>\n",
       "      <td>Ecuador</td>\n",
       "      <td>ECU</td>\n",
       "      <td>2015</td>\n",
       "      <td>8.4</td>\n",
       "      <td>117</td>\n",
       "      <td>146</td>\n",
       "      <td>88</td>\n",
       "      <td>South America</td>\n",
       "      <td>97.39</td>\n",
       "      <td>6832</td>\n",
       "      <td>5.975</td>\n",
       "    </tr>\n",
       "    <tr>\n",
       "      <th>7</th>\n",
       "      <td>Netherlands</td>\n",
       "      <td>NLD</td>\n",
       "      <td>2015</td>\n",
       "      <td>12.1</td>\n",
       "      <td>58</td>\n",
       "      <td>66</td>\n",
       "      <td>50</td>\n",
       "      <td>Europe</td>\n",
       "      <td>126.93</td>\n",
       "      <td>47206</td>\n",
       "      <td>7.378</td>\n",
       "    </tr>\n",
       "    <tr>\n",
       "      <th>8</th>\n",
       "      <td>Spain</td>\n",
       "      <td>ESP</td>\n",
       "      <td>2015</td>\n",
       "      <td>9.7</td>\n",
       "      <td>58</td>\n",
       "      <td>77</td>\n",
       "      <td>39</td>\n",
       "      <td>Europe</td>\n",
       "      <td>97.38</td>\n",
       "      <td>27108</td>\n",
       "      <td>6.329</td>\n",
       "    </tr>\n",
       "    <tr>\n",
       "      <th>9</th>\n",
       "      <td>Denmark</td>\n",
       "      <td>DNK</td>\n",
       "      <td>2015</td>\n",
       "      <td>12.5</td>\n",
       "      <td>66</td>\n",
       "      <td>81</td>\n",
       "      <td>51</td>\n",
       "      <td>Europe</td>\n",
       "      <td>121.42</td>\n",
       "      <td>55972</td>\n",
       "      <td>7.527</td>\n",
       "    </tr>\n",
       "    <tr>\n",
       "      <th>10</th>\n",
       "      <td>Turkey</td>\n",
       "      <td>TUR</td>\n",
       "      <td>2015</td>\n",
       "      <td>7.8</td>\n",
       "      <td>106</td>\n",
       "      <td>141</td>\n",
       "      <td>72</td>\n",
       "      <td>Asia</td>\n",
       "      <td>28.47</td>\n",
       "      <td>11961</td>\n",
       "      <td>5.332</td>\n",
       "    </tr>\n",
       "    <tr>\n",
       "      <th>11</th>\n",
       "      <td>South Africa</td>\n",
       "      <td>ZAF</td>\n",
       "      <td>2015</td>\n",
       "      <td>10.1</td>\n",
       "      <td>305</td>\n",
       "      <td>362</td>\n",
       "      <td>250</td>\n",
       "      <td>Africa</td>\n",
       "      <td>13.00</td>\n",
       "      <td>6403</td>\n",
       "      <td>4.642</td>\n",
       "    </tr>\n",
       "    <tr>\n",
       "      <th>12</th>\n",
       "      <td>Austria</td>\n",
       "      <td>AUT</td>\n",
       "      <td>2015</td>\n",
       "      <td>12.1</td>\n",
       "      <td>64</td>\n",
       "      <td>84</td>\n",
       "      <td>44</td>\n",
       "      <td>Europe</td>\n",
       "      <td>194.62</td>\n",
       "      <td>46484</td>\n",
       "      <td>7.200</td>\n",
       "    </tr>\n",
       "    <tr>\n",
       "      <th>13</th>\n",
       "      <td>Mauritius</td>\n",
       "      <td>MUS</td>\n",
       "      <td>2015</td>\n",
       "      <td>9.1</td>\n",
       "      <td>148</td>\n",
       "      <td>195</td>\n",
       "      <td>98</td>\n",
       "      <td>Africa</td>\n",
       "      <td>99.97</td>\n",
       "      <td>10125</td>\n",
       "      <td>5.477</td>\n",
       "    </tr>\n",
       "    <tr>\n",
       "      <th>14</th>\n",
       "      <td>Slovenia</td>\n",
       "      <td>SVN</td>\n",
       "      <td>2015</td>\n",
       "      <td>12.0</td>\n",
       "      <td>74</td>\n",
       "      <td>101</td>\n",
       "      <td>45</td>\n",
       "      <td>Europe</td>\n",
       "      <td>264.81</td>\n",
       "      <td>22036</td>\n",
       "      <td>5.848</td>\n",
       "    </tr>\n",
       "    <tr>\n",
       "      <th>15</th>\n",
       "      <td>Croatia</td>\n",
       "      <td>HRV</td>\n",
       "      <td>2015</td>\n",
       "      <td>11.2</td>\n",
       "      <td>96</td>\n",
       "      <td>132</td>\n",
       "      <td>59</td>\n",
       "      <td>Europe</td>\n",
       "      <td>229.68</td>\n",
       "      <td>12351</td>\n",
       "      <td>5.759</td>\n",
       "    </tr>\n",
       "    <tr>\n",
       "      <th>16</th>\n",
       "      <td>Israel</td>\n",
       "      <td>ISR</td>\n",
       "      <td>2015</td>\n",
       "      <td>13.0</td>\n",
       "      <td>58</td>\n",
       "      <td>75</td>\n",
       "      <td>41</td>\n",
       "      <td>Asia</td>\n",
       "      <td>65.91</td>\n",
       "      <td>39793</td>\n",
       "      <td>7.278</td>\n",
       "    </tr>\n",
       "    <tr>\n",
       "      <th>17</th>\n",
       "      <td>Belgium</td>\n",
       "      <td>BEL</td>\n",
       "      <td>2015</td>\n",
       "      <td>11.7</td>\n",
       "      <td>72</td>\n",
       "      <td>89</td>\n",
       "      <td>54</td>\n",
       "      <td>Europe</td>\n",
       "      <td>196.66</td>\n",
       "      <td>42830</td>\n",
       "      <td>6.937</td>\n",
       "    </tr>\n",
       "    <tr>\n",
       "      <th>18</th>\n",
       "      <td>Italy</td>\n",
       "      <td>ITA</td>\n",
       "      <td>2015</td>\n",
       "      <td>10.2</td>\n",
       "      <td>55</td>\n",
       "      <td>70</td>\n",
       "      <td>40</td>\n",
       "      <td>Europe</td>\n",
       "      <td>78.45</td>\n",
       "      <td>31537</td>\n",
       "      <td>5.948</td>\n",
       "    </tr>\n",
       "    <tr>\n",
       "      <th>19</th>\n",
       "      <td>Singapore</td>\n",
       "      <td>SGP</td>\n",
       "      <td>2015</td>\n",
       "      <td>11.5</td>\n",
       "      <td>54</td>\n",
       "      <td>67</td>\n",
       "      <td>40</td>\n",
       "      <td>Asia</td>\n",
       "      <td>109.29</td>\n",
       "      <td>81766</td>\n",
       "      <td>6.798</td>\n",
       "    </tr>\n",
       "    <tr>\n",
       "      <th>20</th>\n",
       "      <td>Japan</td>\n",
       "      <td>JPN</td>\n",
       "      <td>2015</td>\n",
       "      <td>12.5</td>\n",
       "      <td>53</td>\n",
       "      <td>68</td>\n",
       "      <td>36</td>\n",
       "      <td>Asia</td>\n",
       "      <td>206.04</td>\n",
       "      <td>36510</td>\n",
       "      <td>5.987</td>\n",
       "    </tr>\n",
       "    <tr>\n",
       "      <th>21</th>\n",
       "      <td>Malta</td>\n",
       "      <td>MLT</td>\n",
       "      <td>2015</td>\n",
       "      <td>11.2</td>\n",
       "      <td>55</td>\n",
       "      <td>70</td>\n",
       "      <td>39</td>\n",
       "      <td>Europe</td>\n",
       "      <td>78.27</td>\n",
       "      <td>25750</td>\n",
       "      <td>6.302</td>\n",
       "    </tr>\n",
       "    <tr>\n",
       "      <th>22</th>\n",
       "      <td>Kazakhstan</td>\n",
       "      <td>KAZ</td>\n",
       "      <td>2015</td>\n",
       "      <td>11.7</td>\n",
       "      <td>192</td>\n",
       "      <td>272</td>\n",
       "      <td>114</td>\n",
       "      <td>Asia</td>\n",
       "      <td>238.02</td>\n",
       "      <td>11784</td>\n",
       "      <td>5.855</td>\n",
       "    </tr>\n",
       "    <tr>\n",
       "      <th>23</th>\n",
       "      <td>Serbia</td>\n",
       "      <td>SRB</td>\n",
       "      <td>2015</td>\n",
       "      <td>11.0</td>\n",
       "      <td>106</td>\n",
       "      <td>140</td>\n",
       "      <td>72</td>\n",
       "      <td>Europe</td>\n",
       "      <td>205.97</td>\n",
       "      <td>5492</td>\n",
       "      <td>5.123</td>\n",
       "    </tr>\n",
       "    <tr>\n",
       "      <th>24</th>\n",
       "      <td>Colombia</td>\n",
       "      <td>COL</td>\n",
       "      <td>2015</td>\n",
       "      <td>8.1</td>\n",
       "      <td>138</td>\n",
       "      <td>183</td>\n",
       "      <td>92</td>\n",
       "      <td>South America</td>\n",
       "      <td>70.40</td>\n",
       "      <td>6552</td>\n",
       "      <td>6.477</td>\n",
       "    </tr>\n",
       "    <tr>\n",
       "      <th>25</th>\n",
       "      <td>Poland</td>\n",
       "      <td>POL</td>\n",
       "      <td>2015</td>\n",
       "      <td>12.1</td>\n",
       "      <td>115</td>\n",
       "      <td>165</td>\n",
       "      <td>63</td>\n",
       "      <td>Europe</td>\n",
       "      <td>166.99</td>\n",
       "      <td>13228</td>\n",
       "      <td>5.791</td>\n",
       "    </tr>\n",
       "    <tr>\n",
       "      <th>26</th>\n",
       "      <td>Kyrgyzstan</td>\n",
       "      <td>KGZ</td>\n",
       "      <td>2015</td>\n",
       "      <td>10.8</td>\n",
       "      <td>167</td>\n",
       "      <td>229</td>\n",
       "      <td>106</td>\n",
       "      <td>Asia</td>\n",
       "      <td>98.37</td>\n",
       "      <td>1285</td>\n",
       "      <td>5.286</td>\n",
       "    </tr>\n",
       "    <tr>\n",
       "      <th>27</th>\n",
       "      <td>Romania</td>\n",
       "      <td>ROU</td>\n",
       "      <td>2015</td>\n",
       "      <td>10.9</td>\n",
       "      <td>136</td>\n",
       "      <td>191</td>\n",
       "      <td>79</td>\n",
       "      <td>Europe</td>\n",
       "      <td>133.55</td>\n",
       "      <td>9431</td>\n",
       "      <td>5.124</td>\n",
       "    </tr>\n",
       "    <tr>\n",
       "      <th>28</th>\n",
       "      <td>Chile</td>\n",
       "      <td>CHL</td>\n",
       "      <td>2015</td>\n",
       "      <td>10.3</td>\n",
       "      <td>88</td>\n",
       "      <td>115</td>\n",
       "      <td>60</td>\n",
       "      <td>South America</td>\n",
       "      <td>147.68</td>\n",
       "      <td>14729</td>\n",
       "      <td>6.670</td>\n",
       "    </tr>\n",
       "    <tr>\n",
       "      <th>29</th>\n",
       "      <td>Latvia</td>\n",
       "      <td>LVA</td>\n",
       "      <td>2015</td>\n",
       "      <td>12.8</td>\n",
       "      <td>154</td>\n",
       "      <td>227</td>\n",
       "      <td>83</td>\n",
       "      <td>Europe</td>\n",
       "      <td>251.47</td>\n",
       "      <td>14382</td>\n",
       "      <td>5.098</td>\n",
       "    </tr>\n",
       "    <tr>\n",
       "      <th>30</th>\n",
       "      <td>Qatar</td>\n",
       "      <td>QAT</td>\n",
       "      <td>2015</td>\n",
       "      <td>9.8</td>\n",
       "      <td>63</td>\n",
       "      <td>67</td>\n",
       "      <td>47</td>\n",
       "      <td>Asia</td>\n",
       "      <td>18.84</td>\n",
       "      <td>69937</td>\n",
       "      <td>6.611</td>\n",
       "    </tr>\n",
       "    <tr>\n",
       "      <th>31</th>\n",
       "      <td>Luxembourg</td>\n",
       "      <td>LUX</td>\n",
       "      <td>2015</td>\n",
       "      <td>12.0</td>\n",
       "      <td>52</td>\n",
       "      <td>69</td>\n",
       "      <td>33</td>\n",
       "      <td>Europe</td>\n",
       "      <td>134.40</td>\n",
       "      <td>107456</td>\n",
       "      <td>6.946</td>\n",
       "    </tr>\n",
       "    <tr>\n",
       "      <th>32</th>\n",
       "      <td>Lithuania</td>\n",
       "      <td>LTU</td>\n",
       "      <td>2015</td>\n",
       "      <td>13.0</td>\n",
       "      <td>165</td>\n",
       "      <td>247</td>\n",
       "      <td>85</td>\n",
       "      <td>Europe</td>\n",
       "      <td>385.48</td>\n",
       "      <td>15073</td>\n",
       "      <td>5.833</td>\n",
       "    </tr>\n",
       "    <tr>\n",
       "      <th>33</th>\n",
       "      <td>Panama</td>\n",
       "      <td>PAN</td>\n",
       "      <td>2015</td>\n",
       "      <td>9.9</td>\n",
       "      <td>112</td>\n",
       "      <td>146</td>\n",
       "      <td>77</td>\n",
       "      <td>North America</td>\n",
       "      <td>44.90</td>\n",
       "      <td>15158</td>\n",
       "      <td>6.786</td>\n",
       "    </tr>\n",
       "    <tr>\n",
       "      <th>34</th>\n",
       "      <td>Iceland</td>\n",
       "      <td>ISL</td>\n",
       "      <td>2015</td>\n",
       "      <td>12.2</td>\n",
       "      <td>54</td>\n",
       "      <td>68</td>\n",
       "      <td>40</td>\n",
       "      <td>Europe</td>\n",
       "      <td>140.65</td>\n",
       "      <td>54909</td>\n",
       "      <td>7.561</td>\n",
       "    </tr>\n",
       "    <tr>\n",
       "      <th>35</th>\n",
       "      <td>Norway</td>\n",
       "      <td>NOR</td>\n",
       "      <td>2015</td>\n",
       "      <td>12.5</td>\n",
       "      <td>54</td>\n",
       "      <td>65</td>\n",
       "      <td>42</td>\n",
       "      <td>Europe</td>\n",
       "      <td>136.43</td>\n",
       "      <td>79187</td>\n",
       "      <td>7.522</td>\n",
       "    </tr>\n",
       "    <tr>\n",
       "      <th>36</th>\n",
       "      <td>Thailand</td>\n",
       "      <td>THA</td>\n",
       "      <td>2015</td>\n",
       "      <td>7.6</td>\n",
       "      <td>149</td>\n",
       "      <td>205</td>\n",
       "      <td>92</td>\n",
       "      <td>Asia</td>\n",
       "      <td>81.15</td>\n",
       "      <td>6552</td>\n",
       "      <td>6.455</td>\n",
       "    </tr>\n",
       "    <tr>\n",
       "      <th>37</th>\n",
       "      <td>Switzerland</td>\n",
       "      <td>CHE</td>\n",
       "      <td>2015</td>\n",
       "      <td>13.4</td>\n",
       "      <td>50</td>\n",
       "      <td>62</td>\n",
       "      <td>37</td>\n",
       "      <td>Europe</td>\n",
       "      <td>164.66</td>\n",
       "      <td>86068</td>\n",
       "      <td>7.587</td>\n",
       "    </tr>\n",
       "    <tr>\n",
       "      <th>38</th>\n",
       "      <td>Hungary</td>\n",
       "      <td>HUN</td>\n",
       "      <td>2015</td>\n",
       "      <td>11.8</td>\n",
       "      <td>132</td>\n",
       "      <td>179</td>\n",
       "      <td>86</td>\n",
       "      <td>Europe</td>\n",
       "      <td>257.27</td>\n",
       "      <td>13087</td>\n",
       "      <td>4.800</td>\n",
       "    </tr>\n",
       "    <tr>\n",
       "      <th>39</th>\n",
       "      <td>Armenia</td>\n",
       "      <td>ARM</td>\n",
       "      <td>2015</td>\n",
       "      <td>11.6</td>\n",
       "      <td>121</td>\n",
       "      <td>182</td>\n",
       "      <td>69</td>\n",
       "      <td>Asia</td>\n",
       "      <td>45.28</td>\n",
       "      <td>3775</td>\n",
       "      <td>4.350</td>\n",
       "    </tr>\n",
       "    <tr>\n",
       "      <th>40</th>\n",
       "      <td>Greece</td>\n",
       "      <td>GRC</td>\n",
       "      <td>2015</td>\n",
       "      <td>10.6</td>\n",
       "      <td>68</td>\n",
       "      <td>92</td>\n",
       "      <td>42</td>\n",
       "      <td>Europe</td>\n",
       "      <td>56.06</td>\n",
       "      <td>18927</td>\n",
       "      <td>4.857</td>\n",
       "    </tr>\n",
       "    <tr>\n",
       "      <th>41</th>\n",
       "      <td>Mexico</td>\n",
       "      <td>MEX</td>\n",
       "      <td>2015</td>\n",
       "      <td>8.6</td>\n",
       "      <td>128</td>\n",
       "      <td>167</td>\n",
       "      <td>90</td>\n",
       "      <td>North America</td>\n",
       "      <td>66.57</td>\n",
       "      <td>10228</td>\n",
       "      <td>7.187</td>\n",
       "    </tr>\n",
       "    <tr>\n",
       "      <th>42</th>\n",
       "      <td>Guatemala</td>\n",
       "      <td>GTM</td>\n",
       "      <td>2015</td>\n",
       "      <td>6.3</td>\n",
       "      <td>165</td>\n",
       "      <td>213</td>\n",
       "      <td>120</td>\n",
       "      <td>North America</td>\n",
       "      <td>44.85</td>\n",
       "      <td>4472</td>\n",
       "      <td>6.123</td>\n",
       "    </tr>\n",
       "    <tr>\n",
       "      <th>43</th>\n",
       "      <td>Cyprus</td>\n",
       "      <td>CYP</td>\n",
       "      <td>2015</td>\n",
       "      <td>11.9</td>\n",
       "      <td>57</td>\n",
       "      <td>75</td>\n",
       "      <td>38</td>\n",
       "      <td>Asia</td>\n",
       "      <td>49.59</td>\n",
       "      <td>24718</td>\n",
       "      <td>5.689</td>\n",
       "    </tr>\n",
       "    <tr>\n",
       "      <th>44</th>\n",
       "      <td>Germany</td>\n",
       "      <td>DEU</td>\n",
       "      <td>2015</td>\n",
       "      <td>14.1</td>\n",
       "      <td>71</td>\n",
       "      <td>92</td>\n",
       "      <td>50</td>\n",
       "      <td>Europe</td>\n",
       "      <td>150.34</td>\n",
       "      <td>43201</td>\n",
       "      <td>6.750</td>\n",
       "    </tr>\n",
       "    <tr>\n",
       "      <th>45</th>\n",
       "      <td>Argentina</td>\n",
       "      <td>ARG</td>\n",
       "      <td>2015</td>\n",
       "      <td>9.8</td>\n",
       "      <td>113</td>\n",
       "      <td>145</td>\n",
       "      <td>80</td>\n",
       "      <td>South America</td>\n",
       "      <td>112.13</td>\n",
       "      <td>14981</td>\n",
       "      <td>6.574</td>\n",
       "    </tr>\n",
       "    <tr>\n",
       "      <th>46</th>\n",
       "      <td>Brazil</td>\n",
       "      <td>BRA</td>\n",
       "      <td>2015</td>\n",
       "      <td>7.6</td>\n",
       "      <td>145</td>\n",
       "      <td>196</td>\n",
       "      <td>93</td>\n",
       "      <td>South America</td>\n",
       "      <td>77.45</td>\n",
       "      <td>9431</td>\n",
       "      <td>6.983</td>\n",
       "    </tr>\n",
       "    <tr>\n",
       "      <th>47</th>\n",
       "      <td>Australia</td>\n",
       "      <td>AUS</td>\n",
       "      <td>2015</td>\n",
       "      <td>12.8</td>\n",
       "      <td>62</td>\n",
       "      <td>79</td>\n",
       "      <td>46</td>\n",
       "      <td>Oceania</td>\n",
       "      <td>154.18</td>\n",
       "      <td>60656</td>\n",
       "      <td>7.284</td>\n",
       "    </tr>\n",
       "    <tr>\n",
       "      <th>48</th>\n",
       "      <td>Georgia</td>\n",
       "      <td>GEO</td>\n",
       "      <td>2015</td>\n",
       "      <td>12.7</td>\n",
       "      <td>156</td>\n",
       "      <td>232</td>\n",
       "      <td>82</td>\n",
       "      <td>Asia</td>\n",
       "      <td>84.68</td>\n",
       "      <td>4046</td>\n",
       "      <td>4.297</td>\n",
       "    </tr>\n",
       "    <tr>\n",
       "      <th>49</th>\n",
       "      <td>Sweden</td>\n",
       "      <td>SWE</td>\n",
       "      <td>2015</td>\n",
       "      <td>12.4</td>\n",
       "      <td>54</td>\n",
       "      <td>67</td>\n",
       "      <td>40</td>\n",
       "      <td>Europe</td>\n",
       "      <td>149.30</td>\n",
       "      <td>54629</td>\n",
       "      <td>7.364</td>\n",
       "    </tr>\n",
       "  </tbody>\n",
       "</table>\n",
       "</div>"
      ],
      "text/plain": [
       "         Country Code  Year  avg_years_of_schooling  Both sexes  Male  Female  \\\n",
       "0      Nicaragua  NIC  2015                     6.5         148   193     105   \n",
       "1        Uruguay  URY  2015                     8.7         114   149      80   \n",
       "2        Ukraine  UKR  2015                    11.3         188   276     102   \n",
       "3   Turkmenistan  TKM  2015                     9.8         198   262     136   \n",
       "4        Estonia  EST  2015                    12.7         116   169      63   \n",
       "5        Finland  FIN  2015                    12.4          70    94      44   \n",
       "6        Ecuador  ECU  2015                     8.4         117   146      88   \n",
       "7    Netherlands  NLD  2015                    12.1          58    66      50   \n",
       "8          Spain  ESP  2015                     9.7          58    77      39   \n",
       "9        Denmark  DNK  2015                    12.5          66    81      51   \n",
       "10        Turkey  TUR  2015                     7.8         106   141      72   \n",
       "11  South Africa  ZAF  2015                    10.1         305   362     250   \n",
       "12       Austria  AUT  2015                    12.1          64    84      44   \n",
       "13     Mauritius  MUS  2015                     9.1         148   195      98   \n",
       "14      Slovenia  SVN  2015                    12.0          74   101      45   \n",
       "15       Croatia  HRV  2015                    11.2          96   132      59   \n",
       "16        Israel  ISR  2015                    13.0          58    75      41   \n",
       "17       Belgium  BEL  2015                    11.7          72    89      54   \n",
       "18         Italy  ITA  2015                    10.2          55    70      40   \n",
       "19     Singapore  SGP  2015                    11.5          54    67      40   \n",
       "20         Japan  JPN  2015                    12.5          53    68      36   \n",
       "21         Malta  MLT  2015                    11.2          55    70      39   \n",
       "22    Kazakhstan  KAZ  2015                    11.7         192   272     114   \n",
       "23        Serbia  SRB  2015                    11.0         106   140      72   \n",
       "24      Colombia  COL  2015                     8.1         138   183      92   \n",
       "25        Poland  POL  2015                    12.1         115   165      63   \n",
       "26    Kyrgyzstan  KGZ  2015                    10.8         167   229     106   \n",
       "27       Romania  ROU  2015                    10.9         136   191      79   \n",
       "28         Chile  CHL  2015                    10.3          88   115      60   \n",
       "29        Latvia  LVA  2015                    12.8         154   227      83   \n",
       "30         Qatar  QAT  2015                     9.8          63    67      47   \n",
       "31    Luxembourg  LUX  2015                    12.0          52    69      33   \n",
       "32     Lithuania  LTU  2015                    13.0         165   247      85   \n",
       "33        Panama  PAN  2015                     9.9         112   146      77   \n",
       "34       Iceland  ISL  2015                    12.2          54    68      40   \n",
       "35        Norway  NOR  2015                    12.5          54    65      42   \n",
       "36      Thailand  THA  2015                     7.6         149   205      92   \n",
       "37   Switzerland  CHE  2015                    13.4          50    62      37   \n",
       "38       Hungary  HUN  2015                    11.8         132   179      86   \n",
       "39       Armenia  ARM  2015                    11.6         121   182      69   \n",
       "40        Greece  GRC  2015                    10.6          68    92      42   \n",
       "41        Mexico  MEX  2015                     8.6         128   167      90   \n",
       "42     Guatemala  GTM  2015                     6.3         165   213     120   \n",
       "43        Cyprus  CYP  2015                    11.9          57    75      38   \n",
       "44       Germany  DEU  2015                    14.1          71    92      50   \n",
       "45     Argentina  ARG  2015                     9.8         113   145      80   \n",
       "46        Brazil  BRA  2015                     7.6         145   196      93   \n",
       "47     Australia  AUS  2015                    12.8          62    79      46   \n",
       "48       Georgia  GEO  2015                    12.7         156   232      82   \n",
       "49        Sweden  SWE  2015                    12.4          54    67      40   \n",
       "\n",
       "        Continent  suicides_per_100k     gdp  Happiness Score  \n",
       "0   North America              69.87    2303            5.828  \n",
       "1   South America             270.02   16696            6.485  \n",
       "2          Europe             244.72    2256            4.681  \n",
       "3            Asia              28.48    7326            5.548  \n",
       "4          Europe             205.38   18149            5.429  \n",
       "5          Europe             161.19   44862            7.406  \n",
       "6   South America              97.39    6832            5.975  \n",
       "7          Europe             126.93   47206            7.378  \n",
       "8          Europe              97.38   27108            6.329  \n",
       "9          Europe             121.42   55972            7.527  \n",
       "10           Asia              28.47   11961            5.332  \n",
       "11         Africa              13.00    6403            4.642  \n",
       "12         Europe             194.62   46484            7.200  \n",
       "13         Africa              99.97   10125            5.477  \n",
       "14         Europe             264.81   22036            5.848  \n",
       "15         Europe             229.68   12351            5.759  \n",
       "16           Asia              65.91   39793            7.278  \n",
       "17         Europe             196.66   42830            6.937  \n",
       "18         Europe              78.45   31537            5.948  \n",
       "19           Asia             109.29   81766            6.798  \n",
       "20           Asia             206.04   36510            5.987  \n",
       "21         Europe              78.27   25750            6.302  \n",
       "22           Asia             238.02   11784            5.855  \n",
       "23         Europe             205.97    5492            5.123  \n",
       "24  South America              70.40    6552            6.477  \n",
       "25         Europe             166.99   13228            5.791  \n",
       "26           Asia              98.37    1285            5.286  \n",
       "27         Europe             133.55    9431            5.124  \n",
       "28  South America             147.68   14729            6.670  \n",
       "29         Europe             251.47   14382            5.098  \n",
       "30           Asia              18.84   69937            6.611  \n",
       "31         Europe             134.40  107456            6.946  \n",
       "32         Europe             385.48   15073            5.833  \n",
       "33  North America              44.90   15158            6.786  \n",
       "34         Europe             140.65   54909            7.561  \n",
       "35         Europe             136.43   79187            7.522  \n",
       "36           Asia              81.15    6552            6.455  \n",
       "37         Europe             164.66   86068            7.587  \n",
       "38         Europe             257.27   13087            4.800  \n",
       "39           Asia              45.28    3775            4.350  \n",
       "40         Europe              56.06   18927            4.857  \n",
       "41  North America              66.57   10228            7.187  \n",
       "42  North America              44.85    4472            6.123  \n",
       "43           Asia              49.59   24718            5.689  \n",
       "44         Europe             150.34   43201            6.750  \n",
       "45  South America             112.13   14981            6.574  \n",
       "46  South America              77.45    9431            6.983  \n",
       "47        Oceania             154.18   60656            7.284  \n",
       "48           Asia              84.68    4046            4.297  \n",
       "49         Europe             149.30   54629            7.364  "
      ]
     },
     "execution_count": 185,
     "metadata": {},
     "output_type": "execute_result"
    }
   ],
   "source": [
    "final_2015 = final_df_2[final_df_2['Year'] == 2015]\n",
    "happiness_final = pd.merge(final_2015,happiness)\n",
    "happiness_final"
   ]
  },
  {
   "cell_type": "code",
   "execution_count": 196,
   "metadata": {},
   "outputs": [
    {
     "data": {
      "text/html": [
       "<div>\n",
       "<style scoped>\n",
       "    .dataframe tbody tr th:only-of-type {\n",
       "        vertical-align: middle;\n",
       "    }\n",
       "\n",
       "    .dataframe tbody tr th {\n",
       "        vertical-align: top;\n",
       "    }\n",
       "\n",
       "    .dataframe thead th {\n",
       "        text-align: right;\n",
       "    }\n",
       "</style>\n",
       "<table border=\"1\" class=\"dataframe\">\n",
       "  <thead>\n",
       "    <tr style=\"text-align: right;\">\n",
       "      <th></th>\n",
       "      <th>Year</th>\n",
       "      <th>suicides_per_100k</th>\n",
       "    </tr>\n",
       "  </thead>\n",
       "  <tbody>\n",
       "    <tr>\n",
       "      <th>0</th>\n",
       "      <td>2000</td>\n",
       "      <td>167.957027</td>\n",
       "    </tr>\n",
       "    <tr>\n",
       "      <th>1</th>\n",
       "      <td>2001</td>\n",
       "      <td>163.123158</td>\n",
       "    </tr>\n",
       "    <tr>\n",
       "      <th>2</th>\n",
       "      <td>2002</td>\n",
       "      <td>162.434800</td>\n",
       "    </tr>\n",
       "    <tr>\n",
       "      <th>3</th>\n",
       "      <td>2003</td>\n",
       "      <td>154.342500</td>\n",
       "    </tr>\n",
       "    <tr>\n",
       "      <th>4</th>\n",
       "      <td>2004</td>\n",
       "      <td>143.825600</td>\n",
       "    </tr>\n",
       "    <tr>\n",
       "      <th>5</th>\n",
       "      <td>2005</td>\n",
       "      <td>140.559054</td>\n",
       "    </tr>\n",
       "    <tr>\n",
       "      <th>6</th>\n",
       "      <td>2006</td>\n",
       "      <td>137.960789</td>\n",
       "    </tr>\n",
       "    <tr>\n",
       "      <th>7</th>\n",
       "      <td>2007</td>\n",
       "      <td>139.966883</td>\n",
       "    </tr>\n",
       "    <tr>\n",
       "      <th>8</th>\n",
       "      <td>2008</td>\n",
       "      <td>139.623816</td>\n",
       "    </tr>\n",
       "    <tr>\n",
       "      <th>9</th>\n",
       "      <td>2009</td>\n",
       "      <td>133.387125</td>\n",
       "    </tr>\n",
       "    <tr>\n",
       "      <th>10</th>\n",
       "      <td>2010</td>\n",
       "      <td>129.716750</td>\n",
       "    </tr>\n",
       "    <tr>\n",
       "      <th>11</th>\n",
       "      <td>2011</td>\n",
       "      <td>126.771818</td>\n",
       "    </tr>\n",
       "    <tr>\n",
       "      <th>12</th>\n",
       "      <td>2012</td>\n",
       "      <td>131.728514</td>\n",
       "    </tr>\n",
       "    <tr>\n",
       "      <th>13</th>\n",
       "      <td>2013</td>\n",
       "      <td>129.217123</td>\n",
       "    </tr>\n",
       "    <tr>\n",
       "      <th>14</th>\n",
       "      <td>2014</td>\n",
       "      <td>127.799437</td>\n",
       "    </tr>\n",
       "    <tr>\n",
       "      <th>15</th>\n",
       "      <td>2015</td>\n",
       "      <td>128.750000</td>\n",
       "    </tr>\n",
       "    <tr>\n",
       "      <th>16</th>\n",
       "      <td>2016</td>\n",
       "      <td>132.375333</td>\n",
       "    </tr>\n",
       "  </tbody>\n",
       "</table>\n",
       "</div>"
      ],
      "text/plain": [
       "    Year  suicides_per_100k\n",
       "0   2000         167.957027\n",
       "1   2001         163.123158\n",
       "2   2002         162.434800\n",
       "3   2003         154.342500\n",
       "4   2004         143.825600\n",
       "5   2005         140.559054\n",
       "6   2006         137.960789\n",
       "7   2007         139.966883\n",
       "8   2008         139.623816\n",
       "9   2009         133.387125\n",
       "10  2010         129.716750\n",
       "11  2011         126.771818\n",
       "12  2012         131.728514\n",
       "13  2013         129.217123\n",
       "14  2014         127.799437\n",
       "15  2015         128.750000\n",
       "16  2016         132.375333"
      ]
     },
     "execution_count": 196,
     "metadata": {},
     "output_type": "execute_result"
    }
   ],
   "source": [
    "avg_sui = final_df_2.groupby('Year', as_index=False)['suicides_per_100k'].mean()\n",
    "avg_sui"
   ]
  },
  {
   "cell_type": "code",
   "execution_count": 207,
   "metadata": {},
   "outputs": [
    {
     "data": {
      "application/vnd.plotly.v1+json": {
       "config": {
        "plotlyServerURL": "https://plot.ly"
       },
       "data": [
        {
         "hovertemplate": "Country=Norway<br>Year=%{x}<br>suicides_per_100k=%{y}<extra></extra>",
         "legendgroup": "Norway",
         "line": {
          "color": "#636efa",
          "dash": "solid"
         },
         "marker": {
          "symbol": "circle"
         },
         "mode": "lines",
         "name": "Norway",
         "orientation": "v",
         "showlegend": true,
         "type": "scatter",
         "x": [
          2000,
          2001,
          2002,
          2003,
          2004,
          2005,
          2006,
          2007,
          2008,
          2009,
          2010,
          2011,
          2012,
          2013,
          2014,
          2015
         ],
         "xaxis": "x",
         "y": [
          150.32999999999998,
          154.29,
          141,
          138.07999999999998,
          141.37,
          142.09,
          142.67,
          127.77,
          132.03,
          145.74,
          136.43,
          146.49,
          126,
          127.01,
          127.22999999999999,
          136.43
         ],
         "yaxis": "y"
        },
        {
         "hovertemplate": "Country=Luxembourg<br>Year=%{x}<br>suicides_per_100k=%{y}<extra></extra>",
         "legendgroup": "Luxembourg",
         "line": {
          "color": "#EF553B",
          "dash": "solid"
         },
         "marker": {
          "symbol": "circle"
         },
         "mode": "lines",
         "name": "Luxembourg",
         "orientation": "v",
         "showlegend": true,
         "type": "scatter",
         "x": [
          2000,
          2001,
          2002,
          2003,
          2004,
          2005,
          2006,
          2007,
          2008,
          2009,
          2010,
          2011,
          2012,
          2013,
          2014,
          2015
         ],
         "xaxis": "x",
         "y": [
          222.64,
          239.82,
          264.14,
          164.37,
          189.54,
          159.07,
          183.79,
          183.89000000000001,
          112.31,
          110.95,
          141.16,
          136.53,
          140.18,
          91.48,
          147.88,
          134.4
         ],
         "yaxis": "y"
        },
        {
         "hovertemplate": "Country=Iceland<br>Year=%{x}<br>suicides_per_100k=%{y}<extra></extra>",
         "legendgroup": "Iceland",
         "line": {
          "color": "#00cc96",
          "dash": "solid"
         },
         "marker": {
          "symbol": "circle"
         },
         "mode": "lines",
         "name": "Iceland",
         "orientation": "v",
         "showlegend": true,
         "type": "scatter",
         "x": [
          2000,
          2001,
          2002,
          2003,
          2004,
          2005,
          2006,
          2007,
          2008,
          2009,
          2010,
          2011,
          2012,
          2013,
          2014,
          2015,
          2016
         ],
         "xaxis": "x",
         "y": [
          207.99,
          163.06,
          131.24,
          100.97,
          168.81,
          115,
          106.39,
          163.29,
          136.09,
          123.73,
          184.27,
          92.95,
          145.41,
          221.24,
          197.96,
          140.65,
          138.07
         ],
         "yaxis": "y"
        },
        {
         "hovertemplate": "Country=Japan<br>Year=%{x}<br>suicides_per_100k=%{y}<extra></extra>",
         "legendgroup": "Japan",
         "line": {
          "color": "#ab63fa",
          "dash": "solid"
         },
         "marker": {
          "symbol": "circle"
         },
         "mode": "lines",
         "name": "Japan",
         "orientation": "v",
         "showlegend": true,
         "type": "scatter",
         "x": [
          2000,
          2001,
          2002,
          2003,
          2004,
          2005,
          2006,
          2007,
          2008,
          2009,
          2010,
          2011,
          2012,
          2013,
          2014,
          2015
         ],
         "xaxis": "x",
         "y": [
          278.52,
          267.16,
          265.84,
          279.40999999999997,
          266.25,
          266.89,
          262.24,
          268.76,
          265.32,
          266.69,
          255.48,
          252.41,
          233.7,
          231.16,
          218.21,
          206.04
         ],
         "yaxis": "y"
        },
        {
         "hovertemplate": "Country=Sweden<br>Year=%{x}<br>suicides_per_100k=%{y}<extra></extra>",
         "legendgroup": "Sweden",
         "line": {
          "color": "#FFA15A",
          "dash": "solid"
         },
         "marker": {
          "symbol": "circle"
         },
         "mode": "lines",
         "name": "Sweden",
         "orientation": "v",
         "showlegend": true,
         "type": "scatter",
         "x": [
          2000,
          2001,
          2002,
          2003,
          2004,
          2005,
          2006,
          2007,
          2008,
          2009,
          2010,
          2011,
          2012,
          2013,
          2014,
          2015,
          2016
         ],
         "xaxis": "x",
         "y": [
          162.5,
          167.49,
          162.71,
          153.41,
          157.41,
          164.62,
          160.76,
          147.39,
          155.68,
          160.4,
          146.54,
          141.77,
          148.10999999999999,
          158.20000000000002,
          149.05,
          149.3,
          138.84
         ],
         "yaxis": "y"
        },
        {
         "line": {
          "color": "gray"
         },
         "mode": "lines",
         "showlegend": false,
         "type": "scatter",
         "x": [
          2000,
          2001,
          2002,
          2003,
          2004,
          2005,
          2006,
          2007,
          2008,
          2009,
          2010,
          2011,
          2012,
          2013,
          2014,
          2015,
          2016
         ],
         "y": [
          167.957027027027,
          163.12315789473686,
          162.4348,
          154.3425,
          143.8256,
          140.55905405405406,
          137.96078947368423,
          139.96688311688314,
          139.6238157894737,
          133.387125,
          129.71675,
          126.77181818181819,
          131.72851351351352,
          129.21712328767123,
          127.7994366197183,
          128.75,
          132.37533333333334
         ]
        }
       ],
       "layout": {
        "legend": {
         "title": {
          "text": "Country"
         },
         "tracegroupgap": 0
        },
        "margin": {
         "t": 60
        },
        "template": {
         "data": {
          "bar": [
           {
            "error_x": {
             "color": "#2a3f5f"
            },
            "error_y": {
             "color": "#2a3f5f"
            },
            "marker": {
             "line": {
              "color": "#E5ECF6",
              "width": 0.5
             },
             "pattern": {
              "fillmode": "overlay",
              "size": 10,
              "solidity": 0.2
             }
            },
            "type": "bar"
           }
          ],
          "barpolar": [
           {
            "marker": {
             "line": {
              "color": "#E5ECF6",
              "width": 0.5
             },
             "pattern": {
              "fillmode": "overlay",
              "size": 10,
              "solidity": 0.2
             }
            },
            "type": "barpolar"
           }
          ],
          "carpet": [
           {
            "aaxis": {
             "endlinecolor": "#2a3f5f",
             "gridcolor": "white",
             "linecolor": "white",
             "minorgridcolor": "white",
             "startlinecolor": "#2a3f5f"
            },
            "baxis": {
             "endlinecolor": "#2a3f5f",
             "gridcolor": "white",
             "linecolor": "white",
             "minorgridcolor": "white",
             "startlinecolor": "#2a3f5f"
            },
            "type": "carpet"
           }
          ],
          "choropleth": [
           {
            "colorbar": {
             "outlinewidth": 0,
             "ticks": ""
            },
            "type": "choropleth"
           }
          ],
          "contour": [
           {
            "colorbar": {
             "outlinewidth": 0,
             "ticks": ""
            },
            "colorscale": [
             [
              0,
              "#0d0887"
             ],
             [
              0.1111111111111111,
              "#46039f"
             ],
             [
              0.2222222222222222,
              "#7201a8"
             ],
             [
              0.3333333333333333,
              "#9c179e"
             ],
             [
              0.4444444444444444,
              "#bd3786"
             ],
             [
              0.5555555555555556,
              "#d8576b"
             ],
             [
              0.6666666666666666,
              "#ed7953"
             ],
             [
              0.7777777777777778,
              "#fb9f3a"
             ],
             [
              0.8888888888888888,
              "#fdca26"
             ],
             [
              1,
              "#f0f921"
             ]
            ],
            "type": "contour"
           }
          ],
          "contourcarpet": [
           {
            "colorbar": {
             "outlinewidth": 0,
             "ticks": ""
            },
            "type": "contourcarpet"
           }
          ],
          "heatmap": [
           {
            "colorbar": {
             "outlinewidth": 0,
             "ticks": ""
            },
            "colorscale": [
             [
              0,
              "#0d0887"
             ],
             [
              0.1111111111111111,
              "#46039f"
             ],
             [
              0.2222222222222222,
              "#7201a8"
             ],
             [
              0.3333333333333333,
              "#9c179e"
             ],
             [
              0.4444444444444444,
              "#bd3786"
             ],
             [
              0.5555555555555556,
              "#d8576b"
             ],
             [
              0.6666666666666666,
              "#ed7953"
             ],
             [
              0.7777777777777778,
              "#fb9f3a"
             ],
             [
              0.8888888888888888,
              "#fdca26"
             ],
             [
              1,
              "#f0f921"
             ]
            ],
            "type": "heatmap"
           }
          ],
          "heatmapgl": [
           {
            "colorbar": {
             "outlinewidth": 0,
             "ticks": ""
            },
            "colorscale": [
             [
              0,
              "#0d0887"
             ],
             [
              0.1111111111111111,
              "#46039f"
             ],
             [
              0.2222222222222222,
              "#7201a8"
             ],
             [
              0.3333333333333333,
              "#9c179e"
             ],
             [
              0.4444444444444444,
              "#bd3786"
             ],
             [
              0.5555555555555556,
              "#d8576b"
             ],
             [
              0.6666666666666666,
              "#ed7953"
             ],
             [
              0.7777777777777778,
              "#fb9f3a"
             ],
             [
              0.8888888888888888,
              "#fdca26"
             ],
             [
              1,
              "#f0f921"
             ]
            ],
            "type": "heatmapgl"
           }
          ],
          "histogram": [
           {
            "marker": {
             "pattern": {
              "fillmode": "overlay",
              "size": 10,
              "solidity": 0.2
             }
            },
            "type": "histogram"
           }
          ],
          "histogram2d": [
           {
            "colorbar": {
             "outlinewidth": 0,
             "ticks": ""
            },
            "colorscale": [
             [
              0,
              "#0d0887"
             ],
             [
              0.1111111111111111,
              "#46039f"
             ],
             [
              0.2222222222222222,
              "#7201a8"
             ],
             [
              0.3333333333333333,
              "#9c179e"
             ],
             [
              0.4444444444444444,
              "#bd3786"
             ],
             [
              0.5555555555555556,
              "#d8576b"
             ],
             [
              0.6666666666666666,
              "#ed7953"
             ],
             [
              0.7777777777777778,
              "#fb9f3a"
             ],
             [
              0.8888888888888888,
              "#fdca26"
             ],
             [
              1,
              "#f0f921"
             ]
            ],
            "type": "histogram2d"
           }
          ],
          "histogram2dcontour": [
           {
            "colorbar": {
             "outlinewidth": 0,
             "ticks": ""
            },
            "colorscale": [
             [
              0,
              "#0d0887"
             ],
             [
              0.1111111111111111,
              "#46039f"
             ],
             [
              0.2222222222222222,
              "#7201a8"
             ],
             [
              0.3333333333333333,
              "#9c179e"
             ],
             [
              0.4444444444444444,
              "#bd3786"
             ],
             [
              0.5555555555555556,
              "#d8576b"
             ],
             [
              0.6666666666666666,
              "#ed7953"
             ],
             [
              0.7777777777777778,
              "#fb9f3a"
             ],
             [
              0.8888888888888888,
              "#fdca26"
             ],
             [
              1,
              "#f0f921"
             ]
            ],
            "type": "histogram2dcontour"
           }
          ],
          "mesh3d": [
           {
            "colorbar": {
             "outlinewidth": 0,
             "ticks": ""
            },
            "type": "mesh3d"
           }
          ],
          "parcoords": [
           {
            "line": {
             "colorbar": {
              "outlinewidth": 0,
              "ticks": ""
             }
            },
            "type": "parcoords"
           }
          ],
          "pie": [
           {
            "automargin": true,
            "type": "pie"
           }
          ],
          "scatter": [
           {
            "fillpattern": {
             "fillmode": "overlay",
             "size": 10,
             "solidity": 0.2
            },
            "type": "scatter"
           }
          ],
          "scatter3d": [
           {
            "line": {
             "colorbar": {
              "outlinewidth": 0,
              "ticks": ""
             }
            },
            "marker": {
             "colorbar": {
              "outlinewidth": 0,
              "ticks": ""
             }
            },
            "type": "scatter3d"
           }
          ],
          "scattercarpet": [
           {
            "marker": {
             "colorbar": {
              "outlinewidth": 0,
              "ticks": ""
             }
            },
            "type": "scattercarpet"
           }
          ],
          "scattergeo": [
           {
            "marker": {
             "colorbar": {
              "outlinewidth": 0,
              "ticks": ""
             }
            },
            "type": "scattergeo"
           }
          ],
          "scattergl": [
           {
            "marker": {
             "colorbar": {
              "outlinewidth": 0,
              "ticks": ""
             }
            },
            "type": "scattergl"
           }
          ],
          "scattermapbox": [
           {
            "marker": {
             "colorbar": {
              "outlinewidth": 0,
              "ticks": ""
             }
            },
            "type": "scattermapbox"
           }
          ],
          "scatterpolar": [
           {
            "marker": {
             "colorbar": {
              "outlinewidth": 0,
              "ticks": ""
             }
            },
            "type": "scatterpolar"
           }
          ],
          "scatterpolargl": [
           {
            "marker": {
             "colorbar": {
              "outlinewidth": 0,
              "ticks": ""
             }
            },
            "type": "scatterpolargl"
           }
          ],
          "scatterternary": [
           {
            "marker": {
             "colorbar": {
              "outlinewidth": 0,
              "ticks": ""
             }
            },
            "type": "scatterternary"
           }
          ],
          "surface": [
           {
            "colorbar": {
             "outlinewidth": 0,
             "ticks": ""
            },
            "colorscale": [
             [
              0,
              "#0d0887"
             ],
             [
              0.1111111111111111,
              "#46039f"
             ],
             [
              0.2222222222222222,
              "#7201a8"
             ],
             [
              0.3333333333333333,
              "#9c179e"
             ],
             [
              0.4444444444444444,
              "#bd3786"
             ],
             [
              0.5555555555555556,
              "#d8576b"
             ],
             [
              0.6666666666666666,
              "#ed7953"
             ],
             [
              0.7777777777777778,
              "#fb9f3a"
             ],
             [
              0.8888888888888888,
              "#fdca26"
             ],
             [
              1,
              "#f0f921"
             ]
            ],
            "type": "surface"
           }
          ],
          "table": [
           {
            "cells": {
             "fill": {
              "color": "#EBF0F8"
             },
             "line": {
              "color": "white"
             }
            },
            "header": {
             "fill": {
              "color": "#C8D4E3"
             },
             "line": {
              "color": "white"
             }
            },
            "type": "table"
           }
          ]
         },
         "layout": {
          "annotationdefaults": {
           "arrowcolor": "#2a3f5f",
           "arrowhead": 0,
           "arrowwidth": 1
          },
          "autotypenumbers": "strict",
          "coloraxis": {
           "colorbar": {
            "outlinewidth": 0,
            "ticks": ""
           }
          },
          "colorscale": {
           "diverging": [
            [
             0,
             "#8e0152"
            ],
            [
             0.1,
             "#c51b7d"
            ],
            [
             0.2,
             "#de77ae"
            ],
            [
             0.3,
             "#f1b6da"
            ],
            [
             0.4,
             "#fde0ef"
            ],
            [
             0.5,
             "#f7f7f7"
            ],
            [
             0.6,
             "#e6f5d0"
            ],
            [
             0.7,
             "#b8e186"
            ],
            [
             0.8,
             "#7fbc41"
            ],
            [
             0.9,
             "#4d9221"
            ],
            [
             1,
             "#276419"
            ]
           ],
           "sequential": [
            [
             0,
             "#0d0887"
            ],
            [
             0.1111111111111111,
             "#46039f"
            ],
            [
             0.2222222222222222,
             "#7201a8"
            ],
            [
             0.3333333333333333,
             "#9c179e"
            ],
            [
             0.4444444444444444,
             "#bd3786"
            ],
            [
             0.5555555555555556,
             "#d8576b"
            ],
            [
             0.6666666666666666,
             "#ed7953"
            ],
            [
             0.7777777777777778,
             "#fb9f3a"
            ],
            [
             0.8888888888888888,
             "#fdca26"
            ],
            [
             1,
             "#f0f921"
            ]
           ],
           "sequentialminus": [
            [
             0,
             "#0d0887"
            ],
            [
             0.1111111111111111,
             "#46039f"
            ],
            [
             0.2222222222222222,
             "#7201a8"
            ],
            [
             0.3333333333333333,
             "#9c179e"
            ],
            [
             0.4444444444444444,
             "#bd3786"
            ],
            [
             0.5555555555555556,
             "#d8576b"
            ],
            [
             0.6666666666666666,
             "#ed7953"
            ],
            [
             0.7777777777777778,
             "#fb9f3a"
            ],
            [
             0.8888888888888888,
             "#fdca26"
            ],
            [
             1,
             "#f0f921"
            ]
           ]
          },
          "colorway": [
           "#636efa",
           "#EF553B",
           "#00cc96",
           "#ab63fa",
           "#FFA15A",
           "#19d3f3",
           "#FF6692",
           "#B6E880",
           "#FF97FF",
           "#FECB52"
          ],
          "font": {
           "color": "#2a3f5f"
          },
          "geo": {
           "bgcolor": "white",
           "lakecolor": "white",
           "landcolor": "#E5ECF6",
           "showlakes": true,
           "showland": true,
           "subunitcolor": "white"
          },
          "hoverlabel": {
           "align": "left"
          },
          "hovermode": "closest",
          "mapbox": {
           "style": "light"
          },
          "paper_bgcolor": "white",
          "plot_bgcolor": "#E5ECF6",
          "polar": {
           "angularaxis": {
            "gridcolor": "white",
            "linecolor": "white",
            "ticks": ""
           },
           "bgcolor": "#E5ECF6",
           "radialaxis": {
            "gridcolor": "white",
            "linecolor": "white",
            "ticks": ""
           }
          },
          "scene": {
           "xaxis": {
            "backgroundcolor": "#E5ECF6",
            "gridcolor": "white",
            "gridwidth": 2,
            "linecolor": "white",
            "showbackground": true,
            "ticks": "",
            "zerolinecolor": "white"
           },
           "yaxis": {
            "backgroundcolor": "#E5ECF6",
            "gridcolor": "white",
            "gridwidth": 2,
            "linecolor": "white",
            "showbackground": true,
            "ticks": "",
            "zerolinecolor": "white"
           },
           "zaxis": {
            "backgroundcolor": "#E5ECF6",
            "gridcolor": "white",
            "gridwidth": 2,
            "linecolor": "white",
            "showbackground": true,
            "ticks": "",
            "zerolinecolor": "white"
           }
          },
          "shapedefaults": {
           "line": {
            "color": "#2a3f5f"
           }
          },
          "ternary": {
           "aaxis": {
            "gridcolor": "white",
            "linecolor": "white",
            "ticks": ""
           },
           "baxis": {
            "gridcolor": "white",
            "linecolor": "white",
            "ticks": ""
           },
           "bgcolor": "#E5ECF6",
           "caxis": {
            "gridcolor": "white",
            "linecolor": "white",
            "ticks": ""
           }
          },
          "title": {
           "x": 0.05
          },
          "xaxis": {
           "automargin": true,
           "gridcolor": "white",
           "linecolor": "white",
           "ticks": "",
           "title": {
            "standoff": 15
           },
           "zerolinecolor": "white",
           "zerolinewidth": 2
          },
          "yaxis": {
           "automargin": true,
           "gridcolor": "white",
           "linecolor": "white",
           "ticks": "",
           "title": {
            "standoff": 15
           },
           "zerolinecolor": "white",
           "zerolinewidth": 2
          }
         }
        },
        "xaxis": {
         "anchor": "y",
         "domain": [
          0,
          1
         ],
         "title": {
          "text": "Year"
         }
        },
        "yaxis": {
         "anchor": "x",
         "domain": [
          0,
          1
         ],
         "title": {
          "text": "suicides_per_100k"
         }
        }
       }
      }
     },
     "metadata": {},
     "output_type": "display_data"
    }
   ],
   "source": [
    "import plotly.graph_objects as go\n",
    "countries = ['Japan','Iceland','Sweden','Luxembourg','Norway']\n",
    "fig = px.line(final_df_2[final_df_2['Country'].isin(countries)], x='Year', y='suicides_per_100k', color='Country')\n",
    "\n",
    "fig.add_trace(go.Scatter(x=avg_sui['Year'],y=avg_sui['suicides_per_100k'],mode=\"lines\",line=go.scatter.Line(color=\"gray\"),showlegend=False))"
   ]
  },
  {
   "cell_type": "code",
   "execution_count": 200,
   "metadata": {},
   "outputs": [
    {
     "data": {
      "application/vnd.plotly.v1+json": {
       "config": {
        "plotlyServerURL": "https://plot.ly"
       },
       "data": [
        {
         "hovertemplate": "year=%{x}<br>lifeexp=%{y}<extra></extra>",
         "legendgroup": "",
         "line": {
          "color": "#636efa",
          "dash": "solid"
         },
         "marker": {
          "symbol": "circle"
         },
         "mode": "lines",
         "name": "",
         "orientation": "v",
         "showlegend": false,
         "type": "scatter",
         "x": [
          2015,
          2016,
          2017,
          2018,
          2019
         ],
         "xaxis": "x",
         "y": [
          75,
          74,
          72,
          70,
          69
         ],
         "yaxis": "y"
        },
        {
         "type": "scatter",
         "x": [
          2015,
          2016,
          2017,
          2018,
          2019
         ],
         "y": [
          74,
          73.9,
          71.5,
          69.8,
          69
         ]
        }
       ],
       "layout": {
        "legend": {
         "tracegroupgap": 0
        },
        "margin": {
         "t": 60
        },
        "template": {
         "data": {
          "bar": [
           {
            "error_x": {
             "color": "#2a3f5f"
            },
            "error_y": {
             "color": "#2a3f5f"
            },
            "marker": {
             "line": {
              "color": "#E5ECF6",
              "width": 0.5
             },
             "pattern": {
              "fillmode": "overlay",
              "size": 10,
              "solidity": 0.2
             }
            },
            "type": "bar"
           }
          ],
          "barpolar": [
           {
            "marker": {
             "line": {
              "color": "#E5ECF6",
              "width": 0.5
             },
             "pattern": {
              "fillmode": "overlay",
              "size": 10,
              "solidity": 0.2
             }
            },
            "type": "barpolar"
           }
          ],
          "carpet": [
           {
            "aaxis": {
             "endlinecolor": "#2a3f5f",
             "gridcolor": "white",
             "linecolor": "white",
             "minorgridcolor": "white",
             "startlinecolor": "#2a3f5f"
            },
            "baxis": {
             "endlinecolor": "#2a3f5f",
             "gridcolor": "white",
             "linecolor": "white",
             "minorgridcolor": "white",
             "startlinecolor": "#2a3f5f"
            },
            "type": "carpet"
           }
          ],
          "choropleth": [
           {
            "colorbar": {
             "outlinewidth": 0,
             "ticks": ""
            },
            "type": "choropleth"
           }
          ],
          "contour": [
           {
            "colorbar": {
             "outlinewidth": 0,
             "ticks": ""
            },
            "colorscale": [
             [
              0,
              "#0d0887"
             ],
             [
              0.1111111111111111,
              "#46039f"
             ],
             [
              0.2222222222222222,
              "#7201a8"
             ],
             [
              0.3333333333333333,
              "#9c179e"
             ],
             [
              0.4444444444444444,
              "#bd3786"
             ],
             [
              0.5555555555555556,
              "#d8576b"
             ],
             [
              0.6666666666666666,
              "#ed7953"
             ],
             [
              0.7777777777777778,
              "#fb9f3a"
             ],
             [
              0.8888888888888888,
              "#fdca26"
             ],
             [
              1,
              "#f0f921"
             ]
            ],
            "type": "contour"
           }
          ],
          "contourcarpet": [
           {
            "colorbar": {
             "outlinewidth": 0,
             "ticks": ""
            },
            "type": "contourcarpet"
           }
          ],
          "heatmap": [
           {
            "colorbar": {
             "outlinewidth": 0,
             "ticks": ""
            },
            "colorscale": [
             [
              0,
              "#0d0887"
             ],
             [
              0.1111111111111111,
              "#46039f"
             ],
             [
              0.2222222222222222,
              "#7201a8"
             ],
             [
              0.3333333333333333,
              "#9c179e"
             ],
             [
              0.4444444444444444,
              "#bd3786"
             ],
             [
              0.5555555555555556,
              "#d8576b"
             ],
             [
              0.6666666666666666,
              "#ed7953"
             ],
             [
              0.7777777777777778,
              "#fb9f3a"
             ],
             [
              0.8888888888888888,
              "#fdca26"
             ],
             [
              1,
              "#f0f921"
             ]
            ],
            "type": "heatmap"
           }
          ],
          "heatmapgl": [
           {
            "colorbar": {
             "outlinewidth": 0,
             "ticks": ""
            },
            "colorscale": [
             [
              0,
              "#0d0887"
             ],
             [
              0.1111111111111111,
              "#46039f"
             ],
             [
              0.2222222222222222,
              "#7201a8"
             ],
             [
              0.3333333333333333,
              "#9c179e"
             ],
             [
              0.4444444444444444,
              "#bd3786"
             ],
             [
              0.5555555555555556,
              "#d8576b"
             ],
             [
              0.6666666666666666,
              "#ed7953"
             ],
             [
              0.7777777777777778,
              "#fb9f3a"
             ],
             [
              0.8888888888888888,
              "#fdca26"
             ],
             [
              1,
              "#f0f921"
             ]
            ],
            "type": "heatmapgl"
           }
          ],
          "histogram": [
           {
            "marker": {
             "pattern": {
              "fillmode": "overlay",
              "size": 10,
              "solidity": 0.2
             }
            },
            "type": "histogram"
           }
          ],
          "histogram2d": [
           {
            "colorbar": {
             "outlinewidth": 0,
             "ticks": ""
            },
            "colorscale": [
             [
              0,
              "#0d0887"
             ],
             [
              0.1111111111111111,
              "#46039f"
             ],
             [
              0.2222222222222222,
              "#7201a8"
             ],
             [
              0.3333333333333333,
              "#9c179e"
             ],
             [
              0.4444444444444444,
              "#bd3786"
             ],
             [
              0.5555555555555556,
              "#d8576b"
             ],
             [
              0.6666666666666666,
              "#ed7953"
             ],
             [
              0.7777777777777778,
              "#fb9f3a"
             ],
             [
              0.8888888888888888,
              "#fdca26"
             ],
             [
              1,
              "#f0f921"
             ]
            ],
            "type": "histogram2d"
           }
          ],
          "histogram2dcontour": [
           {
            "colorbar": {
             "outlinewidth": 0,
             "ticks": ""
            },
            "colorscale": [
             [
              0,
              "#0d0887"
             ],
             [
              0.1111111111111111,
              "#46039f"
             ],
             [
              0.2222222222222222,
              "#7201a8"
             ],
             [
              0.3333333333333333,
              "#9c179e"
             ],
             [
              0.4444444444444444,
              "#bd3786"
             ],
             [
              0.5555555555555556,
              "#d8576b"
             ],
             [
              0.6666666666666666,
              "#ed7953"
             ],
             [
              0.7777777777777778,
              "#fb9f3a"
             ],
             [
              0.8888888888888888,
              "#fdca26"
             ],
             [
              1,
              "#f0f921"
             ]
            ],
            "type": "histogram2dcontour"
           }
          ],
          "mesh3d": [
           {
            "colorbar": {
             "outlinewidth": 0,
             "ticks": ""
            },
            "type": "mesh3d"
           }
          ],
          "parcoords": [
           {
            "line": {
             "colorbar": {
              "outlinewidth": 0,
              "ticks": ""
             }
            },
            "type": "parcoords"
           }
          ],
          "pie": [
           {
            "automargin": true,
            "type": "pie"
           }
          ],
          "scatter": [
           {
            "fillpattern": {
             "fillmode": "overlay",
             "size": 10,
             "solidity": 0.2
            },
            "type": "scatter"
           }
          ],
          "scatter3d": [
           {
            "line": {
             "colorbar": {
              "outlinewidth": 0,
              "ticks": ""
             }
            },
            "marker": {
             "colorbar": {
              "outlinewidth": 0,
              "ticks": ""
             }
            },
            "type": "scatter3d"
           }
          ],
          "scattercarpet": [
           {
            "marker": {
             "colorbar": {
              "outlinewidth": 0,
              "ticks": ""
             }
            },
            "type": "scattercarpet"
           }
          ],
          "scattergeo": [
           {
            "marker": {
             "colorbar": {
              "outlinewidth": 0,
              "ticks": ""
             }
            },
            "type": "scattergeo"
           }
          ],
          "scattergl": [
           {
            "marker": {
             "colorbar": {
              "outlinewidth": 0,
              "ticks": ""
             }
            },
            "type": "scattergl"
           }
          ],
          "scattermapbox": [
           {
            "marker": {
             "colorbar": {
              "outlinewidth": 0,
              "ticks": ""
             }
            },
            "type": "scattermapbox"
           }
          ],
          "scatterpolar": [
           {
            "marker": {
             "colorbar": {
              "outlinewidth": 0,
              "ticks": ""
             }
            },
            "type": "scatterpolar"
           }
          ],
          "scatterpolargl": [
           {
            "marker": {
             "colorbar": {
              "outlinewidth": 0,
              "ticks": ""
             }
            },
            "type": "scatterpolargl"
           }
          ],
          "scatterternary": [
           {
            "marker": {
             "colorbar": {
              "outlinewidth": 0,
              "ticks": ""
             }
            },
            "type": "scatterternary"
           }
          ],
          "surface": [
           {
            "colorbar": {
             "outlinewidth": 0,
             "ticks": ""
            },
            "colorscale": [
             [
              0,
              "#0d0887"
             ],
             [
              0.1111111111111111,
              "#46039f"
             ],
             [
              0.2222222222222222,
              "#7201a8"
             ],
             [
              0.3333333333333333,
              "#9c179e"
             ],
             [
              0.4444444444444444,
              "#bd3786"
             ],
             [
              0.5555555555555556,
              "#d8576b"
             ],
             [
              0.6666666666666666,
              "#ed7953"
             ],
             [
              0.7777777777777778,
              "#fb9f3a"
             ],
             [
              0.8888888888888888,
              "#fdca26"
             ],
             [
              1,
              "#f0f921"
             ]
            ],
            "type": "surface"
           }
          ],
          "table": [
           {
            "cells": {
             "fill": {
              "color": "#EBF0F8"
             },
             "line": {
              "color": "white"
             }
            },
            "header": {
             "fill": {
              "color": "#C8D4E3"
             },
             "line": {
              "color": "white"
             }
            },
            "type": "table"
           }
          ]
         },
         "layout": {
          "annotationdefaults": {
           "arrowcolor": "#2a3f5f",
           "arrowhead": 0,
           "arrowwidth": 1
          },
          "autotypenumbers": "strict",
          "coloraxis": {
           "colorbar": {
            "outlinewidth": 0,
            "ticks": ""
           }
          },
          "colorscale": {
           "diverging": [
            [
             0,
             "#8e0152"
            ],
            [
             0.1,
             "#c51b7d"
            ],
            [
             0.2,
             "#de77ae"
            ],
            [
             0.3,
             "#f1b6da"
            ],
            [
             0.4,
             "#fde0ef"
            ],
            [
             0.5,
             "#f7f7f7"
            ],
            [
             0.6,
             "#e6f5d0"
            ],
            [
             0.7,
             "#b8e186"
            ],
            [
             0.8,
             "#7fbc41"
            ],
            [
             0.9,
             "#4d9221"
            ],
            [
             1,
             "#276419"
            ]
           ],
           "sequential": [
            [
             0,
             "#0d0887"
            ],
            [
             0.1111111111111111,
             "#46039f"
            ],
            [
             0.2222222222222222,
             "#7201a8"
            ],
            [
             0.3333333333333333,
             "#9c179e"
            ],
            [
             0.4444444444444444,
             "#bd3786"
            ],
            [
             0.5555555555555556,
             "#d8576b"
            ],
            [
             0.6666666666666666,
             "#ed7953"
            ],
            [
             0.7777777777777778,
             "#fb9f3a"
            ],
            [
             0.8888888888888888,
             "#fdca26"
            ],
            [
             1,
             "#f0f921"
            ]
           ],
           "sequentialminus": [
            [
             0,
             "#0d0887"
            ],
            [
             0.1111111111111111,
             "#46039f"
            ],
            [
             0.2222222222222222,
             "#7201a8"
            ],
            [
             0.3333333333333333,
             "#9c179e"
            ],
            [
             0.4444444444444444,
             "#bd3786"
            ],
            [
             0.5555555555555556,
             "#d8576b"
            ],
            [
             0.6666666666666666,
             "#ed7953"
            ],
            [
             0.7777777777777778,
             "#fb9f3a"
            ],
            [
             0.8888888888888888,
             "#fdca26"
            ],
            [
             1,
             "#f0f921"
            ]
           ]
          },
          "colorway": [
           "#636efa",
           "#EF553B",
           "#00cc96",
           "#ab63fa",
           "#FFA15A",
           "#19d3f3",
           "#FF6692",
           "#B6E880",
           "#FF97FF",
           "#FECB52"
          ],
          "font": {
           "color": "#2a3f5f"
          },
          "geo": {
           "bgcolor": "white",
           "lakecolor": "white",
           "landcolor": "#E5ECF6",
           "showlakes": true,
           "showland": true,
           "subunitcolor": "white"
          },
          "hoverlabel": {
           "align": "left"
          },
          "hovermode": "closest",
          "mapbox": {
           "style": "light"
          },
          "paper_bgcolor": "white",
          "plot_bgcolor": "#E5ECF6",
          "polar": {
           "angularaxis": {
            "gridcolor": "white",
            "linecolor": "white",
            "ticks": ""
           },
           "bgcolor": "#E5ECF6",
           "radialaxis": {
            "gridcolor": "white",
            "linecolor": "white",
            "ticks": ""
           }
          },
          "scene": {
           "xaxis": {
            "backgroundcolor": "#E5ECF6",
            "gridcolor": "white",
            "gridwidth": 2,
            "linecolor": "white",
            "showbackground": true,
            "ticks": "",
            "zerolinecolor": "white"
           },
           "yaxis": {
            "backgroundcolor": "#E5ECF6",
            "gridcolor": "white",
            "gridwidth": 2,
            "linecolor": "white",
            "showbackground": true,
            "ticks": "",
            "zerolinecolor": "white"
           },
           "zaxis": {
            "backgroundcolor": "#E5ECF6",
            "gridcolor": "white",
            "gridwidth": 2,
            "linecolor": "white",
            "showbackground": true,
            "ticks": "",
            "zerolinecolor": "white"
           }
          },
          "shapedefaults": {
           "line": {
            "color": "#2a3f5f"
           }
          },
          "ternary": {
           "aaxis": {
            "gridcolor": "white",
            "linecolor": "white",
            "ticks": ""
           },
           "baxis": {
            "gridcolor": "white",
            "linecolor": "white",
            "ticks": ""
           },
           "bgcolor": "#E5ECF6",
           "caxis": {
            "gridcolor": "white",
            "linecolor": "white",
            "ticks": ""
           }
          },
          "title": {
           "x": 0.05
          },
          "xaxis": {
           "automargin": true,
           "gridcolor": "white",
           "linecolor": "white",
           "ticks": "",
           "title": {
            "standoff": 15
           },
           "zerolinecolor": "white",
           "zerolinewidth": 2
          },
          "yaxis": {
           "automargin": true,
           "gridcolor": "white",
           "linecolor": "white",
           "ticks": "",
           "title": {
            "standoff": 15
           },
           "zerolinecolor": "white",
           "zerolinewidth": 2
          }
         }
        },
        "xaxis": {
         "anchor": "y",
         "domain": [
          0,
          1
         ],
         "title": {
          "text": "year"
         }
        },
        "yaxis": {
         "anchor": "x",
         "domain": [
          0,
          1
         ],
         "title": {
          "text": "lifeexp"
         }
        }
       }
      }
     },
     "metadata": {},
     "output_type": "display_data"
    }
   ],
   "source": [
    "data = {\n",
    "   'year':[2015,2016,2017,2018,2019],\n",
    "   'lifeexp':[75,74,72,70,69],\n",
    "   'state':['kerala','punjab','karnataka','andhra','odisha'],\n",
    "   'ratio':[74,73.9,71.5,69.8,69]\n",
    "}\n",
    "\n",
    "# Create dataframe\n",
    "df = pd.DataFrame(data)\n",
    "\n",
    "# Create Line plot\n",
    "fig = px.line(df, x=df['year'], y=df['lifeexp'])\n",
    "\n",
    "# Add Scatter plot\n",
    "fig.add_scatter(x=df['year'], y=df['ratio'])\n",
    "\n",
    "# Display the plot\n",
    "fig.show()"
   ]
  },
  {
   "cell_type": "code",
   "execution_count": 208,
   "metadata": {},
   "outputs": [
    {
     "data": {
      "text/html": [
       "<div>\n",
       "<style scoped>\n",
       "    .dataframe tbody tr th:only-of-type {\n",
       "        vertical-align: middle;\n",
       "    }\n",
       "\n",
       "    .dataframe tbody tr th {\n",
       "        vertical-align: top;\n",
       "    }\n",
       "\n",
       "    .dataframe thead th {\n",
       "        text-align: right;\n",
       "    }\n",
       "</style>\n",
       "<table border=\"1\" class=\"dataframe\">\n",
       "  <thead>\n",
       "    <tr style=\"text-align: right;\">\n",
       "      <th></th>\n",
       "      <th>Country</th>\n",
       "      <th>Code</th>\n",
       "      <th>Year</th>\n",
       "      <th>avg_years_of_schooling</th>\n",
       "      <th>Both sexes</th>\n",
       "      <th>Male</th>\n",
       "      <th>Female</th>\n",
       "      <th>Continent</th>\n",
       "      <th>suicides_per_100k</th>\n",
       "      <th>gdp</th>\n",
       "    </tr>\n",
       "  </thead>\n",
       "  <tbody>\n",
       "    <tr>\n",
       "      <th>1203</th>\n",
       "      <td>Uzbekistan</td>\n",
       "      <td>UZB</td>\n",
       "      <td>2000</td>\n",
       "      <td>9.1</td>\n",
       "      <td>183</td>\n",
       "      <td>230</td>\n",
       "      <td>135</td>\n",
       "      <td>Asia</td>\n",
       "      <td>120.31</td>\n",
       "      <td>632</td>\n",
       "    </tr>\n",
       "    <tr>\n",
       "      <th>197</th>\n",
       "      <td>Brazil</td>\n",
       "      <td>BRA</td>\n",
       "      <td>2000</td>\n",
       "      <td>5.6</td>\n",
       "      <td>184</td>\n",
       "      <td>244</td>\n",
       "      <td>122</td>\n",
       "      <td>South America</td>\n",
       "      <td>68.23</td>\n",
       "      <td>4156</td>\n",
       "    </tr>\n",
       "    <tr>\n",
       "      <th>729</th>\n",
       "      <td>Maldives</td>\n",
       "      <td>MDV</td>\n",
       "      <td>2000</td>\n",
       "      <td>3.0</td>\n",
       "      <td>142</td>\n",
       "      <td>155</td>\n",
       "      <td>129</td>\n",
       "      <td>Asia</td>\n",
       "      <td>0.00</td>\n",
       "      <td>2524</td>\n",
       "    </tr>\n",
       "    <tr>\n",
       "      <th>745</th>\n",
       "      <td>Malta</td>\n",
       "      <td>MLT</td>\n",
       "      <td>2000</td>\n",
       "      <td>8.1</td>\n",
       "      <td>70</td>\n",
       "      <td>88</td>\n",
       "      <td>51</td>\n",
       "      <td>Europe</td>\n",
       "      <td>78.05</td>\n",
       "      <td>11873</td>\n",
       "    </tr>\n",
       "    <tr>\n",
       "      <th>762</th>\n",
       "      <td>Mauritius</td>\n",
       "      <td>MUS</td>\n",
       "      <td>2000</td>\n",
       "      <td>6.2</td>\n",
       "      <td>172</td>\n",
       "      <td>221</td>\n",
       "      <td>121</td>\n",
       "      <td>Africa</td>\n",
       "      <td>140.82</td>\n",
       "      <td>4339</td>\n",
       "    </tr>\n",
       "    <tr>\n",
       "      <th>...</th>\n",
       "      <td>...</td>\n",
       "      <td>...</td>\n",
       "      <td>...</td>\n",
       "      <td>...</td>\n",
       "      <td>...</td>\n",
       "      <td>...</td>\n",
       "      <td>...</td>\n",
       "      <td>...</td>\n",
       "      <td>...</td>\n",
       "      <td>...</td>\n",
       "    </tr>\n",
       "    <tr>\n",
       "      <th>1082</th>\n",
       "      <td>Sweden</td>\n",
       "      <td>SWE</td>\n",
       "      <td>2016</td>\n",
       "      <td>12.4</td>\n",
       "      <td>52</td>\n",
       "      <td>64</td>\n",
       "      <td>40</td>\n",
       "      <td>Europe</td>\n",
       "      <td>138.84</td>\n",
       "      <td>55594</td>\n",
       "    </tr>\n",
       "    <tr>\n",
       "      <th>71</th>\n",
       "      <td>Austria</td>\n",
       "      <td>AUT</td>\n",
       "      <td>2016</td>\n",
       "      <td>12.1</td>\n",
       "      <td>62</td>\n",
       "      <td>80</td>\n",
       "      <td>44</td>\n",
       "      <td>Europe</td>\n",
       "      <td>183.23</td>\n",
       "      <td>46976</td>\n",
       "    </tr>\n",
       "    <tr>\n",
       "      <th>532</th>\n",
       "      <td>Iceland</td>\n",
       "      <td>ISL</td>\n",
       "      <td>2016</td>\n",
       "      <td>12.4</td>\n",
       "      <td>55</td>\n",
       "      <td>67</td>\n",
       "      <td>42</td>\n",
       "      <td>Europe</td>\n",
       "      <td>138.07</td>\n",
       "      <td>64708</td>\n",
       "    </tr>\n",
       "    <tr>\n",
       "      <th>307</th>\n",
       "      <td>Cyprus</td>\n",
       "      <td>CYP</td>\n",
       "      <td>2016</td>\n",
       "      <td>12.1</td>\n",
       "      <td>55</td>\n",
       "      <td>73</td>\n",
       "      <td>37</td>\n",
       "      <td>Asia</td>\n",
       "      <td>47.15</td>\n",
       "      <td>25098</td>\n",
       "    </tr>\n",
       "    <tr>\n",
       "      <th>687</th>\n",
       "      <td>Lithuania</td>\n",
       "      <td>LTU</td>\n",
       "      <td>2016</td>\n",
       "      <td>13.0</td>\n",
       "      <td>155</td>\n",
       "      <td>231</td>\n",
       "      <td>79</td>\n",
       "      <td>Europe</td>\n",
       "      <td>361.72</td>\n",
       "      <td>15742</td>\n",
       "    </tr>\n",
       "  </tbody>\n",
       "</table>\n",
       "<p>1204 rows × 10 columns</p>\n",
       "</div>"
      ],
      "text/plain": [
       "         Country Code  Year  avg_years_of_schooling  Both sexes  Male  Female  \\\n",
       "1203  Uzbekistan  UZB  2000                     9.1         183   230     135   \n",
       "197       Brazil  BRA  2000                     5.6         184   244     122   \n",
       "729     Maldives  MDV  2000                     3.0         142   155     129   \n",
       "745        Malta  MLT  2000                     8.1          70    88      51   \n",
       "762    Mauritius  MUS  2000                     6.2         172   221     121   \n",
       "...          ...  ...   ...                     ...         ...   ...     ...   \n",
       "1082      Sweden  SWE  2016                    12.4          52    64      40   \n",
       "71       Austria  AUT  2016                    12.1          62    80      44   \n",
       "532      Iceland  ISL  2016                    12.4          55    67      42   \n",
       "307       Cyprus  CYP  2016                    12.1          55    73      37   \n",
       "687    Lithuania  LTU  2016                    13.0         155   231      79   \n",
       "\n",
       "          Continent  suicides_per_100k    gdp  \n",
       "1203           Asia             120.31    632  \n",
       "197   South America              68.23   4156  \n",
       "729            Asia               0.00   2524  \n",
       "745          Europe              78.05  11873  \n",
       "762          Africa             140.82   4339  \n",
       "...             ...                ...    ...  \n",
       "1082         Europe             138.84  55594  \n",
       "71           Europe             183.23  46976  \n",
       "532          Europe             138.07  64708  \n",
       "307            Asia              47.15  25098  \n",
       "687          Europe             361.72  15742  \n",
       "\n",
       "[1204 rows x 10 columns]"
      ]
     },
     "execution_count": 208,
     "metadata": {},
     "output_type": "execute_result"
    }
   ],
   "source": [
    "final_df_2"
   ]
  },
  {
   "cell_type": "code",
   "execution_count": null,
   "metadata": {},
   "outputs": [],
   "source": []
  }
 ],
 "metadata": {
  "kernelspec": {
   "display_name": "Python 3 (ipykernel)",
   "language": "python",
   "name": "python3"
  },
  "language_info": {
   "codemirror_mode": {
    "name": "ipython",
    "version": 3
   },
   "file_extension": ".py",
   "mimetype": "text/x-python",
   "name": "python",
   "nbconvert_exporter": "python",
   "pygments_lexer": "ipython3",
   "version": "3.10.10"
  },
  "vscode": {
   "interpreter": {
    "hash": "b1b36b063993772ac0562bc8d8b6eb957454c97760e4751b586aaa9fa2f1e4a2"
   }
  }
 },
 "nbformat": 4,
 "nbformat_minor": 2
}
