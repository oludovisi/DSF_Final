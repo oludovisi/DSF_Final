{
 "cells": [
  {
   "cell_type": "code",
   "execution_count": 108,
   "id": "cdd38922",
   "metadata": {},
   "outputs": [],
   "source": [
    "import pandas as pd\n",
    "import pycountry\n",
    "import pycountry_convert as pc\n",
    "import matplotlib.pyplot as plt"
   ]
  },
  {
   "cell_type": "code",
   "execution_count": 204,
   "id": "8dd82957",
   "metadata": {},
   "outputs": [
    {
     "data": {
      "text/html": [
       "<div>\n",
       "<style scoped>\n",
       "    .dataframe tbody tr th:only-of-type {\n",
       "        vertical-align: middle;\n",
       "    }\n",
       "\n",
       "    .dataframe tbody tr th {\n",
       "        vertical-align: top;\n",
       "    }\n",
       "\n",
       "    .dataframe thead th {\n",
       "        text-align: right;\n",
       "    }\n",
       "</style>\n",
       "<table border=\"1\" class=\"dataframe\">\n",
       "  <thead>\n",
       "    <tr style=\"text-align: right;\">\n",
       "      <th></th>\n",
       "      <th>Country Name</th>\n",
       "      <th>Country Code</th>\n",
       "      <th>2000 [YR2000]</th>\n",
       "      <th>2001 [YR2001]</th>\n",
       "      <th>2002 [YR2002]</th>\n",
       "      <th>2003 [YR2003]</th>\n",
       "      <th>2004 [YR2004]</th>\n",
       "      <th>2005 [YR2005]</th>\n",
       "      <th>2006 [YR2006]</th>\n",
       "      <th>2007 [YR2007]</th>\n",
       "      <th>...</th>\n",
       "      <th>2009 [YR2009]</th>\n",
       "      <th>2010 [YR2010]</th>\n",
       "      <th>2011 [YR2011]</th>\n",
       "      <th>2012 [YR2012]</th>\n",
       "      <th>2013 [YR2013]</th>\n",
       "      <th>2014 [YR2014]</th>\n",
       "      <th>2015 [YR2015]</th>\n",
       "      <th>2016 [YR2016]</th>\n",
       "      <th>2017 [YR2017]</th>\n",
       "      <th>2018 [YR2018]</th>\n",
       "    </tr>\n",
       "  </thead>\n",
       "  <tbody>\n",
       "    <tr>\n",
       "      <th>0</th>\n",
       "      <td>Afghanistan</td>\n",
       "      <td>AFG</td>\n",
       "      <td>NaN</td>\n",
       "      <td>NaN</td>\n",
       "      <td>9.443390</td>\n",
       "      <td>8.941258</td>\n",
       "      <td>9.808474</td>\n",
       "      <td>9.948290</td>\n",
       "      <td>10.622766</td>\n",
       "      <td>9.904675</td>\n",
       "      <td>...</td>\n",
       "      <td>9.818487</td>\n",
       "      <td>8.569672</td>\n",
       "      <td>8.561907</td>\n",
       "      <td>7.897176</td>\n",
       "      <td>8.805941</td>\n",
       "      <td>9.528871</td>\n",
       "      <td>10.105348</td>\n",
       "      <td>11.818562</td>\n",
       "      <td>12.620817</td>\n",
       "      <td>14.126743</td>\n",
       "    </tr>\n",
       "    <tr>\n",
       "      <th>1</th>\n",
       "      <td>Africa Eastern and Southern</td>\n",
       "      <td>AFE</td>\n",
       "      <td>6.252428</td>\n",
       "      <td>6.390627</td>\n",
       "      <td>5.969416</td>\n",
       "      <td>6.635666</td>\n",
       "      <td>6.710734</td>\n",
       "      <td>6.528098</td>\n",
       "      <td>6.493183</td>\n",
       "      <td>6.469144</td>\n",
       "      <td>...</td>\n",
       "      <td>6.881587</td>\n",
       "      <td>6.923020</td>\n",
       "      <td>6.774233</td>\n",
       "      <td>6.563003</td>\n",
       "      <td>6.565593</td>\n",
       "      <td>6.151985</td>\n",
       "      <td>6.482030</td>\n",
       "      <td>6.390371</td>\n",
       "      <td>6.317424</td>\n",
       "      <td>6.323236</td>\n",
       "    </tr>\n",
       "    <tr>\n",
       "      <th>2</th>\n",
       "      <td>Africa Western and Central</td>\n",
       "      <td>AFW</td>\n",
       "      <td>3.771302</td>\n",
       "      <td>3.775136</td>\n",
       "      <td>3.389315</td>\n",
       "      <td>4.680784</td>\n",
       "      <td>4.481509</td>\n",
       "      <td>4.276980</td>\n",
       "      <td>4.140280</td>\n",
       "      <td>3.908468</td>\n",
       "      <td>...</td>\n",
       "      <td>3.786789</td>\n",
       "      <td>3.519651</td>\n",
       "      <td>3.547476</td>\n",
       "      <td>3.503394</td>\n",
       "      <td>3.619163</td>\n",
       "      <td>3.606540</td>\n",
       "      <td>3.832625</td>\n",
       "      <td>3.811249</td>\n",
       "      <td>3.789624</td>\n",
       "      <td>3.383501</td>\n",
       "    </tr>\n",
       "    <tr>\n",
       "      <th>3</th>\n",
       "      <td>Albania</td>\n",
       "      <td>ALB</td>\n",
       "      <td>7.233370</td>\n",
       "      <td>7.139524</td>\n",
       "      <td>6.909341</td>\n",
       "      <td>7.063490</td>\n",
       "      <td>6.773372</td>\n",
       "      <td>6.335542</td>\n",
       "      <td>6.009277</td>\n",
       "      <td>6.316834</td>\n",
       "      <td>...</td>\n",
       "      <td>4.602225</td>\n",
       "      <td>4.745796</td>\n",
       "      <td>4.795341</td>\n",
       "      <td>5.055265</td>\n",
       "      <td>5.385611</td>\n",
       "      <td>5.503473</td>\n",
       "      <td>4.896312</td>\n",
       "      <td>4.916017</td>\n",
       "      <td>5.012636</td>\n",
       "      <td>5.232072</td>\n",
       "    </tr>\n",
       "    <tr>\n",
       "      <th>4</th>\n",
       "      <td>Algeria</td>\n",
       "      <td>DZA</td>\n",
       "      <td>3.489033</td>\n",
       "      <td>3.837877</td>\n",
       "      <td>3.730042</td>\n",
       "      <td>3.601041</td>\n",
       "      <td>3.544073</td>\n",
       "      <td>3.235161</td>\n",
       "      <td>3.355102</td>\n",
       "      <td>3.821416</td>\n",
       "      <td>...</td>\n",
       "      <td>5.359395</td>\n",
       "      <td>5.117172</td>\n",
       "      <td>5.267481</td>\n",
       "      <td>6.000510</td>\n",
       "      <td>6.035763</td>\n",
       "      <td>6.547214</td>\n",
       "      <td>6.978489</td>\n",
       "      <td>6.607496</td>\n",
       "      <td>6.279384</td>\n",
       "      <td>6.163026</td>\n",
       "    </tr>\n",
       "  </tbody>\n",
       "</table>\n",
       "<p>5 rows × 21 columns</p>\n",
       "</div>"
      ],
      "text/plain": [
       "                  Country Name Country Code  2000 [YR2000]  2001 [YR2001]  \\\n",
       "0                  Afghanistan          AFG            NaN            NaN   \n",
       "1  Africa Eastern and Southern          AFE       6.252428       6.390627   \n",
       "2   Africa Western and Central          AFW       3.771302       3.775136   \n",
       "3                      Albania          ALB       7.233370       7.139524   \n",
       "4                      Algeria          DZA       3.489033       3.837877   \n",
       "\n",
       "   2002 [YR2002]  2003 [YR2003]  2004 [YR2004]  2005 [YR2005]  2006 [YR2006]  \\\n",
       "0       9.443390       8.941258       9.808474       9.948290      10.622766   \n",
       "1       5.969416       6.635666       6.710734       6.528098       6.493183   \n",
       "2       3.389315       4.680784       4.481509       4.276980       4.140280   \n",
       "3       6.909341       7.063490       6.773372       6.335542       6.009277   \n",
       "4       3.730042       3.601041       3.544073       3.235161       3.355102   \n",
       "\n",
       "   2007 [YR2007]  ...  2009 [YR2009]  2010 [YR2010]  2011 [YR2011]  \\\n",
       "0       9.904675  ...       9.818487       8.569672       8.561907   \n",
       "1       6.469144  ...       6.881587       6.923020       6.774233   \n",
       "2       3.908468  ...       3.786789       3.519651       3.547476   \n",
       "3       6.316834  ...       4.602225       4.745796       4.795341   \n",
       "4       3.821416  ...       5.359395       5.117172       5.267481   \n",
       "\n",
       "   2012 [YR2012]  2013 [YR2013]  2014 [YR2014]  2015 [YR2015]  2016 [YR2016]  \\\n",
       "0       7.897176       8.805941       9.528871      10.105348      11.818562   \n",
       "1       6.563003       6.565593       6.151985       6.482030       6.390371   \n",
       "2       3.503394       3.619163       3.606540       3.832625       3.811249   \n",
       "3       5.055265       5.385611       5.503473       4.896312       4.916017   \n",
       "4       6.000510       6.035763       6.547214       6.978489       6.607496   \n",
       "\n",
       "   2017 [YR2017]  2018 [YR2018]  \n",
       "0      12.620817      14.126743  \n",
       "1       6.317424       6.323236  \n",
       "2       3.789624       3.383501  \n",
       "3       5.012636       5.232072  \n",
       "4       6.279384       6.163026  \n",
       "\n",
       "[5 rows x 21 columns]"
      ]
     },
     "execution_count": 204,
     "metadata": {},
     "output_type": "execute_result"
    }
   ],
   "source": [
    "df = pd.read_csv('current health expenditure.csv')\n",
    "df.head()"
   ]
  },
  {
   "cell_type": "code",
   "execution_count": 205,
   "id": "0f575017",
   "metadata": {},
   "outputs": [],
   "source": [
    "# df.groupby('Country Name').count()"
   ]
  },
  {
   "cell_type": "code",
   "execution_count": 206,
   "id": "09c30c08",
   "metadata": {},
   "outputs": [],
   "source": [
    "df = pd.melt(\n",
    "        df,\n",
    "        id_vars = ['Country Name','Country Code'],\n",
    "        var_name = 'year',\n",
    "        value_name='current health expenditure'\n",
    "        )\n",
    "# print(df)"
   ]
  },
  {
   "cell_type": "code",
   "execution_count": 207,
   "id": "731306ef",
   "metadata": {},
   "outputs": [
    {
     "data": {
      "text/html": [
       "<div>\n",
       "<style scoped>\n",
       "    .dataframe tbody tr th:only-of-type {\n",
       "        vertical-align: middle;\n",
       "    }\n",
       "\n",
       "    .dataframe tbody tr th {\n",
       "        vertical-align: top;\n",
       "    }\n",
       "\n",
       "    .dataframe thead th {\n",
       "        text-align: right;\n",
       "    }\n",
       "</style>\n",
       "<table border=\"1\" class=\"dataframe\">\n",
       "  <thead>\n",
       "    <tr style=\"text-align: right;\">\n",
       "      <th></th>\n",
       "      <th>Country Name</th>\n",
       "      <th>Country Code</th>\n",
       "      <th>year</th>\n",
       "      <th>current health expenditure</th>\n",
       "    </tr>\n",
       "  </thead>\n",
       "  <tbody>\n",
       "    <tr>\n",
       "      <th>0</th>\n",
       "      <td>Afghanistan</td>\n",
       "      <td>AFG</td>\n",
       "      <td>2000 [YR2000]</td>\n",
       "      <td>NaN</td>\n",
       "    </tr>\n",
       "    <tr>\n",
       "      <th>1</th>\n",
       "      <td>Africa Eastern and Southern</td>\n",
       "      <td>AFE</td>\n",
       "      <td>2000 [YR2000]</td>\n",
       "      <td>6.252428</td>\n",
       "    </tr>\n",
       "    <tr>\n",
       "      <th>2</th>\n",
       "      <td>Africa Western and Central</td>\n",
       "      <td>AFW</td>\n",
       "      <td>2000 [YR2000]</td>\n",
       "      <td>3.771302</td>\n",
       "    </tr>\n",
       "    <tr>\n",
       "      <th>3</th>\n",
       "      <td>Albania</td>\n",
       "      <td>ALB</td>\n",
       "      <td>2000 [YR2000]</td>\n",
       "      <td>7.233370</td>\n",
       "    </tr>\n",
       "    <tr>\n",
       "      <th>4</th>\n",
       "      <td>Algeria</td>\n",
       "      <td>DZA</td>\n",
       "      <td>2000 [YR2000]</td>\n",
       "      <td>3.489033</td>\n",
       "    </tr>\n",
       "    <tr>\n",
       "      <th>...</th>\n",
       "      <td>...</td>\n",
       "      <td>...</td>\n",
       "      <td>...</td>\n",
       "      <td>...</td>\n",
       "    </tr>\n",
       "    <tr>\n",
       "      <th>4441</th>\n",
       "      <td>Vietnam</td>\n",
       "      <td>VNM</td>\n",
       "      <td>2018 [YR2018]</td>\n",
       "      <td>5.034489</td>\n",
       "    </tr>\n",
       "    <tr>\n",
       "      <th>4442</th>\n",
       "      <td>World</td>\n",
       "      <td>WLD</td>\n",
       "      <td>2018 [YR2018]</td>\n",
       "      <td>9.701241</td>\n",
       "    </tr>\n",
       "    <tr>\n",
       "      <th>4443</th>\n",
       "      <td>Yemen, Rep.</td>\n",
       "      <td>YEM</td>\n",
       "      <td>2018 [YR2018]</td>\n",
       "      <td>NaN</td>\n",
       "    </tr>\n",
       "    <tr>\n",
       "      <th>4444</th>\n",
       "      <td>Zambia</td>\n",
       "      <td>ZMB</td>\n",
       "      <td>2018 [YR2018]</td>\n",
       "      <td>5.032715</td>\n",
       "    </tr>\n",
       "    <tr>\n",
       "      <th>4445</th>\n",
       "      <td>Zimbabwe</td>\n",
       "      <td>ZWE</td>\n",
       "      <td>2018 [YR2018]</td>\n",
       "      <td>8.680062</td>\n",
       "    </tr>\n",
       "  </tbody>\n",
       "</table>\n",
       "<p>4446 rows × 4 columns</p>\n",
       "</div>"
      ],
      "text/plain": [
       "                     Country Name Country Code           year  \\\n",
       "0                     Afghanistan          AFG  2000 [YR2000]   \n",
       "1     Africa Eastern and Southern          AFE  2000 [YR2000]   \n",
       "2      Africa Western and Central          AFW  2000 [YR2000]   \n",
       "3                         Albania          ALB  2000 [YR2000]   \n",
       "4                         Algeria          DZA  2000 [YR2000]   \n",
       "...                           ...          ...            ...   \n",
       "4441                      Vietnam          VNM  2018 [YR2018]   \n",
       "4442                        World          WLD  2018 [YR2018]   \n",
       "4443                  Yemen, Rep.          YEM  2018 [YR2018]   \n",
       "4444                       Zambia          ZMB  2018 [YR2018]   \n",
       "4445                     Zimbabwe          ZWE  2018 [YR2018]   \n",
       "\n",
       "      current health expenditure  \n",
       "0                            NaN  \n",
       "1                       6.252428  \n",
       "2                       3.771302  \n",
       "3                       7.233370  \n",
       "4                       3.489033  \n",
       "...                          ...  \n",
       "4441                    5.034489  \n",
       "4442                    9.701241  \n",
       "4443                         NaN  \n",
       "4444                    5.032715  \n",
       "4445                    8.680062  \n",
       "\n",
       "[4446 rows x 4 columns]"
      ]
     },
     "execution_count": 207,
     "metadata": {},
     "output_type": "execute_result"
    }
   ],
   "source": [
    "df"
   ]
  },
  {
   "cell_type": "code",
   "execution_count": 208,
   "id": "1595ee04",
   "metadata": {},
   "outputs": [],
   "source": [
    "df['year'] = df.year.apply(lambda row: row[:4])\n",
    "df['current health expenditure'] = df['current health expenditure'].astype(float)\n",
    "df = df.sort_values(['Country Name', 'year'], ascending = True)\n",
    "df = df.dropna(subset = ['current health expenditure'], axis = 0, how = 'any')\n",
    "df.reset_index(drop = True, inplace = True)"
   ]
  },
  {
   "cell_type": "code",
   "execution_count": 224,
   "id": "34ade0ed",
   "metadata": {},
   "outputs": [
    {
     "data": {
      "text/html": [
       "<div>\n",
       "<style scoped>\n",
       "    .dataframe tbody tr th:only-of-type {\n",
       "        vertical-align: middle;\n",
       "    }\n",
       "\n",
       "    .dataframe tbody tr th {\n",
       "        vertical-align: top;\n",
       "    }\n",
       "\n",
       "    .dataframe thead th {\n",
       "        text-align: right;\n",
       "    }\n",
       "</style>\n",
       "<table border=\"1\" class=\"dataframe\">\n",
       "  <thead>\n",
       "    <tr style=\"text-align: right;\">\n",
       "      <th></th>\n",
       "      <th>Country Name</th>\n",
       "      <th>Country Code</th>\n",
       "      <th>year</th>\n",
       "      <th>current health expenditure</th>\n",
       "    </tr>\n",
       "  </thead>\n",
       "  <tbody>\n",
       "    <tr>\n",
       "      <th>0</th>\n",
       "      <td>Afghanistan</td>\n",
       "      <td>AFG</td>\n",
       "      <td>2002</td>\n",
       "      <td>9.443390</td>\n",
       "    </tr>\n",
       "    <tr>\n",
       "      <th>1</th>\n",
       "      <td>Afghanistan</td>\n",
       "      <td>AFG</td>\n",
       "      <td>2003</td>\n",
       "      <td>8.941258</td>\n",
       "    </tr>\n",
       "    <tr>\n",
       "      <th>2</th>\n",
       "      <td>Afghanistan</td>\n",
       "      <td>AFG</td>\n",
       "      <td>2004</td>\n",
       "      <td>9.808474</td>\n",
       "    </tr>\n",
       "    <tr>\n",
       "      <th>3</th>\n",
       "      <td>Afghanistan</td>\n",
       "      <td>AFG</td>\n",
       "      <td>2005</td>\n",
       "      <td>9.948290</td>\n",
       "    </tr>\n",
       "    <tr>\n",
       "      <th>4</th>\n",
       "      <td>Afghanistan</td>\n",
       "      <td>AFG</td>\n",
       "      <td>2006</td>\n",
       "      <td>10.622766</td>\n",
       "    </tr>\n",
       "    <tr>\n",
       "      <th>...</th>\n",
       "      <td>...</td>\n",
       "      <td>...</td>\n",
       "      <td>...</td>\n",
       "      <td>...</td>\n",
       "    </tr>\n",
       "    <tr>\n",
       "      <th>4377</th>\n",
       "      <td>Zimbabwe</td>\n",
       "      <td>ZWE</td>\n",
       "      <td>2014</td>\n",
       "      <td>8.133525</td>\n",
       "    </tr>\n",
       "    <tr>\n",
       "      <th>4378</th>\n",
       "      <td>Zimbabwe</td>\n",
       "      <td>ZWE</td>\n",
       "      <td>2015</td>\n",
       "      <td>7.452066</td>\n",
       "    </tr>\n",
       "    <tr>\n",
       "      <th>4379</th>\n",
       "      <td>Zimbabwe</td>\n",
       "      <td>ZWE</td>\n",
       "      <td>2016</td>\n",
       "      <td>7.675163</td>\n",
       "    </tr>\n",
       "    <tr>\n",
       "      <th>4380</th>\n",
       "      <td>Zimbabwe</td>\n",
       "      <td>ZWE</td>\n",
       "      <td>2017</td>\n",
       "      <td>7.469752</td>\n",
       "    </tr>\n",
       "    <tr>\n",
       "      <th>4381</th>\n",
       "      <td>Zimbabwe</td>\n",
       "      <td>ZWE</td>\n",
       "      <td>2018</td>\n",
       "      <td>8.680062</td>\n",
       "    </tr>\n",
       "  </tbody>\n",
       "</table>\n",
       "<p>4382 rows × 4 columns</p>\n",
       "</div>"
      ],
      "text/plain": [
       "     Country Name Country Code  year  current health expenditure\n",
       "0     Afghanistan          AFG  2002                    9.443390\n",
       "1     Afghanistan          AFG  2003                    8.941258\n",
       "2     Afghanistan          AFG  2004                    9.808474\n",
       "3     Afghanistan          AFG  2005                    9.948290\n",
       "4     Afghanistan          AFG  2006                   10.622766\n",
       "...           ...          ...   ...                         ...\n",
       "4377     Zimbabwe          ZWE  2014                    8.133525\n",
       "4378     Zimbabwe          ZWE  2015                    7.452066\n",
       "4379     Zimbabwe          ZWE  2016                    7.675163\n",
       "4380     Zimbabwe          ZWE  2017                    7.469752\n",
       "4381     Zimbabwe          ZWE  2018                    8.680062\n",
       "\n",
       "[4382 rows x 4 columns]"
      ]
     },
     "execution_count": 224,
     "metadata": {},
     "output_type": "execute_result"
    }
   ],
   "source": [
    "df['year'] = df['year'].astype(int)\n",
    "# df['Continent'] = df['Country Name'].apply(lambda row: country_to_continent(row))\n",
    "df"
   ]
  },
  {
   "cell_type": "code",
   "execution_count": 210,
   "id": "b0e72800",
   "metadata": {},
   "outputs": [
    {
     "data": {
      "text/html": [
       "<div>\n",
       "<style scoped>\n",
       "    .dataframe tbody tr th:only-of-type {\n",
       "        vertical-align: middle;\n",
       "    }\n",
       "\n",
       "    .dataframe tbody tr th {\n",
       "        vertical-align: top;\n",
       "    }\n",
       "\n",
       "    .dataframe thead th {\n",
       "        text-align: right;\n",
       "    }\n",
       "</style>\n",
       "<table border=\"1\" class=\"dataframe\">\n",
       "  <thead>\n",
       "    <tr style=\"text-align: right;\">\n",
       "      <th></th>\n",
       "      <th>Country Name</th>\n",
       "      <th>Country Code</th>\n",
       "      <th>year</th>\n",
       "      <th>current health expenditure</th>\n",
       "    </tr>\n",
       "  </thead>\n",
       "  <tbody>\n",
       "    <tr>\n",
       "      <th>0</th>\n",
       "      <td>Afghanistan</td>\n",
       "      <td>AFG</td>\n",
       "      <td>2002</td>\n",
       "      <td>9.443390</td>\n",
       "    </tr>\n",
       "    <tr>\n",
       "      <th>1</th>\n",
       "      <td>Afghanistan</td>\n",
       "      <td>AFG</td>\n",
       "      <td>2003</td>\n",
       "      <td>8.941258</td>\n",
       "    </tr>\n",
       "    <tr>\n",
       "      <th>2</th>\n",
       "      <td>Afghanistan</td>\n",
       "      <td>AFG</td>\n",
       "      <td>2004</td>\n",
       "      <td>9.808474</td>\n",
       "    </tr>\n",
       "    <tr>\n",
       "      <th>3</th>\n",
       "      <td>Afghanistan</td>\n",
       "      <td>AFG</td>\n",
       "      <td>2005</td>\n",
       "      <td>9.948290</td>\n",
       "    </tr>\n",
       "    <tr>\n",
       "      <th>4</th>\n",
       "      <td>Afghanistan</td>\n",
       "      <td>AFG</td>\n",
       "      <td>2006</td>\n",
       "      <td>10.622766</td>\n",
       "    </tr>\n",
       "    <tr>\n",
       "      <th>...</th>\n",
       "      <td>...</td>\n",
       "      <td>...</td>\n",
       "      <td>...</td>\n",
       "      <td>...</td>\n",
       "    </tr>\n",
       "    <tr>\n",
       "      <th>4377</th>\n",
       "      <td>Zimbabwe</td>\n",
       "      <td>ZWE</td>\n",
       "      <td>2014</td>\n",
       "      <td>8.133525</td>\n",
       "    </tr>\n",
       "    <tr>\n",
       "      <th>4378</th>\n",
       "      <td>Zimbabwe</td>\n",
       "      <td>ZWE</td>\n",
       "      <td>2015</td>\n",
       "      <td>7.452066</td>\n",
       "    </tr>\n",
       "    <tr>\n",
       "      <th>4379</th>\n",
       "      <td>Zimbabwe</td>\n",
       "      <td>ZWE</td>\n",
       "      <td>2016</td>\n",
       "      <td>7.675163</td>\n",
       "    </tr>\n",
       "    <tr>\n",
       "      <th>4380</th>\n",
       "      <td>Zimbabwe</td>\n",
       "      <td>ZWE</td>\n",
       "      <td>2017</td>\n",
       "      <td>7.469752</td>\n",
       "    </tr>\n",
       "    <tr>\n",
       "      <th>4381</th>\n",
       "      <td>Zimbabwe</td>\n",
       "      <td>ZWE</td>\n",
       "      <td>2018</td>\n",
       "      <td>8.680062</td>\n",
       "    </tr>\n",
       "  </tbody>\n",
       "</table>\n",
       "<p>4382 rows × 4 columns</p>\n",
       "</div>"
      ],
      "text/plain": [
       "     Country Name Country Code  year  current health expenditure\n",
       "0     Afghanistan          AFG  2002                    9.443390\n",
       "1     Afghanistan          AFG  2003                    8.941258\n",
       "2     Afghanistan          AFG  2004                    9.808474\n",
       "3     Afghanistan          AFG  2005                    9.948290\n",
       "4     Afghanistan          AFG  2006                   10.622766\n",
       "...           ...          ...   ...                         ...\n",
       "4377     Zimbabwe          ZWE  2014                    8.133525\n",
       "4378     Zimbabwe          ZWE  2015                    7.452066\n",
       "4379     Zimbabwe          ZWE  2016                    7.675163\n",
       "4380     Zimbabwe          ZWE  2017                    7.469752\n",
       "4381     Zimbabwe          ZWE  2018                    8.680062\n",
       "\n",
       "[4382 rows x 4 columns]"
      ]
     },
     "execution_count": 210,
     "metadata": {},
     "output_type": "execute_result"
    }
   ],
   "source": [
    "df"
   ]
  },
  {
   "cell_type": "code",
   "execution_count": 211,
   "id": "8a3d5dd9",
   "metadata": {},
   "outputs": [
    {
     "data": {
      "application/vnd.plotly.v1+json": {
       "config": {
        "plotlyServerURL": "https://plot.ly"
       },
       "data": [
        {
         "hovertemplate": "Country Name=Iceland<br>year=%{x}<br>current health expenditure=%{y}<extra></extra>",
         "legendgroup": "Iceland",
         "line": {
          "color": "#636efa",
          "dash": "solid"
         },
         "marker": {
          "symbol": "circle"
         },
         "mode": "lines",
         "name": "Iceland",
         "orientation": "v",
         "showlegend": true,
         "type": "scatter",
         "x": [
          2000,
          2001,
          2002,
          2003,
          2004,
          2005,
          2006,
          2007,
          2008,
          2009,
          2010,
          2011,
          2012,
          2013,
          2014,
          2015,
          2016,
          2017,
          2018
         ],
         "xaxis": "x",
         "y": [
          8.929286,
          8.78546429,
          9.46551323,
          9.72930241,
          9.32854366,
          8.94695091,
          8.55709076,
          8.3535862,
          8.34370804,
          8.77518463,
          8.36173058,
          8.20293236,
          8.18118858,
          8.17555237,
          8.22888947,
          8.06978989,
          8.09714699,
          8.30908108,
          8.44292068
         ],
         "yaxis": "y"
        },
        {
         "hovertemplate": "Country Name=Japan<br>year=%{x}<br>current health expenditure=%{y}<extra></extra>",
         "legendgroup": "Japan",
         "line": {
          "color": "#EF553B",
          "dash": "solid"
         },
         "marker": {
          "symbol": "circle"
         },
         "mode": "lines",
         "name": "Japan",
         "orientation": "v",
         "showlegend": true,
         "type": "scatter",
         "x": [
          2000,
          2001,
          2002,
          2003,
          2004,
          2005,
          2006,
          2007,
          2008,
          2009,
          2010,
          2011,
          2012,
          2013,
          2014,
          2015,
          2016,
          2017,
          2018
         ],
         "xaxis": "x",
         "y": [
          7.03456163,
          7.23947954,
          7.35235357,
          7.48654842,
          7.53518438,
          7.65818596,
          7.68688822,
          7.77935696,
          8.08909321,
          8.9587822,
          9.0630064,
          10.48780155,
          10.67169189,
          10.67438602,
          10.7290144,
          10.74969959,
          10.65891647,
          10.65627003,
          10.74838829
         ],
         "yaxis": "y"
        },
        {
         "hovertemplate": "Country Name=Luxembourg<br>year=%{x}<br>current health expenditure=%{y}<extra></extra>",
         "legendgroup": "Luxembourg",
         "line": {
          "color": "#00cc96",
          "dash": "solid"
         },
         "marker": {
          "symbol": "circle"
         },
         "mode": "lines",
         "name": "Luxembourg",
         "orientation": "v",
         "showlegend": true,
         "type": "scatter",
         "x": [
          2000,
          2001,
          2002,
          2003,
          2004,
          2005,
          2006,
          2007,
          2008,
          2009,
          2010,
          2011,
          2012,
          2013,
          2014,
          2015,
          2016,
          2017,
          2018
         ],
         "xaxis": "x",
         "y": [
          5.90136147,
          6.410923,
          6.73847198,
          6.97271538,
          7.34548569,
          7.18256855,
          6.70838261,
          6.23472404,
          6.53840208,
          7.33979321,
          7.03158236,
          6.11205053,
          5.58377266,
          5.52774715,
          5.43687868,
          5.28378248,
          5.19496346,
          5.25779152,
          5.28587103
         ],
         "yaxis": "y"
        },
        {
         "hovertemplate": "Country Name=Norway<br>year=%{x}<br>current health expenditure=%{y}<extra></extra>",
         "legendgroup": "Norway",
         "line": {
          "color": "#ab63fa",
          "dash": "solid"
         },
         "marker": {
          "symbol": "circle"
         },
         "mode": "lines",
         "name": "Norway",
         "orientation": "v",
         "showlegend": true,
         "type": "scatter",
         "x": [
          2000,
          2001,
          2002,
          2003,
          2004,
          2005,
          2006,
          2007,
          2008,
          2009,
          2010,
          2011,
          2012,
          2013,
          2014,
          2015,
          2016,
          2017,
          2018
         ],
         "xaxis": "x",
         "y": [
          7.71215487,
          8.02202415,
          9.00061893,
          9.21471977,
          8.82115746,
          8.32839584,
          7.91272211,
          8.05085373,
          7.96075296,
          9.07431507,
          8.90553188,
          8.78868103,
          8.77787876,
          8.92953396,
          9.34493351,
          10.13146877,
          10.59129524,
          10.31589031,
          10.02394581
         ],
         "yaxis": "y"
        },
        {
         "hovertemplate": "Country Name=Sweden<br>year=%{x}<br>current health expenditure=%{y}<extra></extra>",
         "legendgroup": "Sweden",
         "line": {
          "color": "#FFA15A",
          "dash": "solid"
         },
         "marker": {
          "symbol": "circle"
         },
         "mode": "lines",
         "name": "Sweden",
         "orientation": "v",
         "showlegend": true,
         "type": "scatter",
         "x": [
          2000,
          2001,
          2002,
          2003,
          2004,
          2005,
          2006,
          2007,
          2008,
          2009,
          2010,
          2011,
          2012,
          2013,
          2014,
          2015,
          2016,
          2017,
          2018
         ],
         "xaxis": "x",
         "y": [
          7.32689953,
          7.90032959,
          8.21006203,
          8.31724644,
          8.12961864,
          8.1508379,
          8.05226517,
          7.99607706,
          8.20824242,
          8.77037907,
          8.31963825,
          10.41646767,
          10.73515224,
          10.9049139,
          10.9479475,
          10.80418396,
          10.85240364,
          10.78509998,
          10.94106293
         ],
         "yaxis": "y"
        }
       ],
       "layout": {
        "legend": {
         "title": {
          "text": "Country Name"
         },
         "tracegroupgap": 0
        },
        "margin": {
         "t": 60
        },
        "template": {
         "data": {
          "bar": [
           {
            "error_x": {
             "color": "#2a3f5f"
            },
            "error_y": {
             "color": "#2a3f5f"
            },
            "marker": {
             "line": {
              "color": "#E5ECF6",
              "width": 0.5
             },
             "pattern": {
              "fillmode": "overlay",
              "size": 10,
              "solidity": 0.2
             }
            },
            "type": "bar"
           }
          ],
          "barpolar": [
           {
            "marker": {
             "line": {
              "color": "#E5ECF6",
              "width": 0.5
             },
             "pattern": {
              "fillmode": "overlay",
              "size": 10,
              "solidity": 0.2
             }
            },
            "type": "barpolar"
           }
          ],
          "carpet": [
           {
            "aaxis": {
             "endlinecolor": "#2a3f5f",
             "gridcolor": "white",
             "linecolor": "white",
             "minorgridcolor": "white",
             "startlinecolor": "#2a3f5f"
            },
            "baxis": {
             "endlinecolor": "#2a3f5f",
             "gridcolor": "white",
             "linecolor": "white",
             "minorgridcolor": "white",
             "startlinecolor": "#2a3f5f"
            },
            "type": "carpet"
           }
          ],
          "choropleth": [
           {
            "colorbar": {
             "outlinewidth": 0,
             "ticks": ""
            },
            "type": "choropleth"
           }
          ],
          "contour": [
           {
            "colorbar": {
             "outlinewidth": 0,
             "ticks": ""
            },
            "colorscale": [
             [
              0,
              "#0d0887"
             ],
             [
              0.1111111111111111,
              "#46039f"
             ],
             [
              0.2222222222222222,
              "#7201a8"
             ],
             [
              0.3333333333333333,
              "#9c179e"
             ],
             [
              0.4444444444444444,
              "#bd3786"
             ],
             [
              0.5555555555555556,
              "#d8576b"
             ],
             [
              0.6666666666666666,
              "#ed7953"
             ],
             [
              0.7777777777777778,
              "#fb9f3a"
             ],
             [
              0.8888888888888888,
              "#fdca26"
             ],
             [
              1,
              "#f0f921"
             ]
            ],
            "type": "contour"
           }
          ],
          "contourcarpet": [
           {
            "colorbar": {
             "outlinewidth": 0,
             "ticks": ""
            },
            "type": "contourcarpet"
           }
          ],
          "heatmap": [
           {
            "colorbar": {
             "outlinewidth": 0,
             "ticks": ""
            },
            "colorscale": [
             [
              0,
              "#0d0887"
             ],
             [
              0.1111111111111111,
              "#46039f"
             ],
             [
              0.2222222222222222,
              "#7201a8"
             ],
             [
              0.3333333333333333,
              "#9c179e"
             ],
             [
              0.4444444444444444,
              "#bd3786"
             ],
             [
              0.5555555555555556,
              "#d8576b"
             ],
             [
              0.6666666666666666,
              "#ed7953"
             ],
             [
              0.7777777777777778,
              "#fb9f3a"
             ],
             [
              0.8888888888888888,
              "#fdca26"
             ],
             [
              1,
              "#f0f921"
             ]
            ],
            "type": "heatmap"
           }
          ],
          "heatmapgl": [
           {
            "colorbar": {
             "outlinewidth": 0,
             "ticks": ""
            },
            "colorscale": [
             [
              0,
              "#0d0887"
             ],
             [
              0.1111111111111111,
              "#46039f"
             ],
             [
              0.2222222222222222,
              "#7201a8"
             ],
             [
              0.3333333333333333,
              "#9c179e"
             ],
             [
              0.4444444444444444,
              "#bd3786"
             ],
             [
              0.5555555555555556,
              "#d8576b"
             ],
             [
              0.6666666666666666,
              "#ed7953"
             ],
             [
              0.7777777777777778,
              "#fb9f3a"
             ],
             [
              0.8888888888888888,
              "#fdca26"
             ],
             [
              1,
              "#f0f921"
             ]
            ],
            "type": "heatmapgl"
           }
          ],
          "histogram": [
           {
            "marker": {
             "pattern": {
              "fillmode": "overlay",
              "size": 10,
              "solidity": 0.2
             }
            },
            "type": "histogram"
           }
          ],
          "histogram2d": [
           {
            "colorbar": {
             "outlinewidth": 0,
             "ticks": ""
            },
            "colorscale": [
             [
              0,
              "#0d0887"
             ],
             [
              0.1111111111111111,
              "#46039f"
             ],
             [
              0.2222222222222222,
              "#7201a8"
             ],
             [
              0.3333333333333333,
              "#9c179e"
             ],
             [
              0.4444444444444444,
              "#bd3786"
             ],
             [
              0.5555555555555556,
              "#d8576b"
             ],
             [
              0.6666666666666666,
              "#ed7953"
             ],
             [
              0.7777777777777778,
              "#fb9f3a"
             ],
             [
              0.8888888888888888,
              "#fdca26"
             ],
             [
              1,
              "#f0f921"
             ]
            ],
            "type": "histogram2d"
           }
          ],
          "histogram2dcontour": [
           {
            "colorbar": {
             "outlinewidth": 0,
             "ticks": ""
            },
            "colorscale": [
             [
              0,
              "#0d0887"
             ],
             [
              0.1111111111111111,
              "#46039f"
             ],
             [
              0.2222222222222222,
              "#7201a8"
             ],
             [
              0.3333333333333333,
              "#9c179e"
             ],
             [
              0.4444444444444444,
              "#bd3786"
             ],
             [
              0.5555555555555556,
              "#d8576b"
             ],
             [
              0.6666666666666666,
              "#ed7953"
             ],
             [
              0.7777777777777778,
              "#fb9f3a"
             ],
             [
              0.8888888888888888,
              "#fdca26"
             ],
             [
              1,
              "#f0f921"
             ]
            ],
            "type": "histogram2dcontour"
           }
          ],
          "mesh3d": [
           {
            "colorbar": {
             "outlinewidth": 0,
             "ticks": ""
            },
            "type": "mesh3d"
           }
          ],
          "parcoords": [
           {
            "line": {
             "colorbar": {
              "outlinewidth": 0,
              "ticks": ""
             }
            },
            "type": "parcoords"
           }
          ],
          "pie": [
           {
            "automargin": true,
            "type": "pie"
           }
          ],
          "scatter": [
           {
            "fillpattern": {
             "fillmode": "overlay",
             "size": 10,
             "solidity": 0.2
            },
            "type": "scatter"
           }
          ],
          "scatter3d": [
           {
            "line": {
             "colorbar": {
              "outlinewidth": 0,
              "ticks": ""
             }
            },
            "marker": {
             "colorbar": {
              "outlinewidth": 0,
              "ticks": ""
             }
            },
            "type": "scatter3d"
           }
          ],
          "scattercarpet": [
           {
            "marker": {
             "colorbar": {
              "outlinewidth": 0,
              "ticks": ""
             }
            },
            "type": "scattercarpet"
           }
          ],
          "scattergeo": [
           {
            "marker": {
             "colorbar": {
              "outlinewidth": 0,
              "ticks": ""
             }
            },
            "type": "scattergeo"
           }
          ],
          "scattergl": [
           {
            "marker": {
             "colorbar": {
              "outlinewidth": 0,
              "ticks": ""
             }
            },
            "type": "scattergl"
           }
          ],
          "scattermapbox": [
           {
            "marker": {
             "colorbar": {
              "outlinewidth": 0,
              "ticks": ""
             }
            },
            "type": "scattermapbox"
           }
          ],
          "scatterpolar": [
           {
            "marker": {
             "colorbar": {
              "outlinewidth": 0,
              "ticks": ""
             }
            },
            "type": "scatterpolar"
           }
          ],
          "scatterpolargl": [
           {
            "marker": {
             "colorbar": {
              "outlinewidth": 0,
              "ticks": ""
             }
            },
            "type": "scatterpolargl"
           }
          ],
          "scatterternary": [
           {
            "marker": {
             "colorbar": {
              "outlinewidth": 0,
              "ticks": ""
             }
            },
            "type": "scatterternary"
           }
          ],
          "surface": [
           {
            "colorbar": {
             "outlinewidth": 0,
             "ticks": ""
            },
            "colorscale": [
             [
              0,
              "#0d0887"
             ],
             [
              0.1111111111111111,
              "#46039f"
             ],
             [
              0.2222222222222222,
              "#7201a8"
             ],
             [
              0.3333333333333333,
              "#9c179e"
             ],
             [
              0.4444444444444444,
              "#bd3786"
             ],
             [
              0.5555555555555556,
              "#d8576b"
             ],
             [
              0.6666666666666666,
              "#ed7953"
             ],
             [
              0.7777777777777778,
              "#fb9f3a"
             ],
             [
              0.8888888888888888,
              "#fdca26"
             ],
             [
              1,
              "#f0f921"
             ]
            ],
            "type": "surface"
           }
          ],
          "table": [
           {
            "cells": {
             "fill": {
              "color": "#EBF0F8"
             },
             "line": {
              "color": "white"
             }
            },
            "header": {
             "fill": {
              "color": "#C8D4E3"
             },
             "line": {
              "color": "white"
             }
            },
            "type": "table"
           }
          ]
         },
         "layout": {
          "annotationdefaults": {
           "arrowcolor": "#2a3f5f",
           "arrowhead": 0,
           "arrowwidth": 1
          },
          "autotypenumbers": "strict",
          "coloraxis": {
           "colorbar": {
            "outlinewidth": 0,
            "ticks": ""
           }
          },
          "colorscale": {
           "diverging": [
            [
             0,
             "#8e0152"
            ],
            [
             0.1,
             "#c51b7d"
            ],
            [
             0.2,
             "#de77ae"
            ],
            [
             0.3,
             "#f1b6da"
            ],
            [
             0.4,
             "#fde0ef"
            ],
            [
             0.5,
             "#f7f7f7"
            ],
            [
             0.6,
             "#e6f5d0"
            ],
            [
             0.7,
             "#b8e186"
            ],
            [
             0.8,
             "#7fbc41"
            ],
            [
             0.9,
             "#4d9221"
            ],
            [
             1,
             "#276419"
            ]
           ],
           "sequential": [
            [
             0,
             "#0d0887"
            ],
            [
             0.1111111111111111,
             "#46039f"
            ],
            [
             0.2222222222222222,
             "#7201a8"
            ],
            [
             0.3333333333333333,
             "#9c179e"
            ],
            [
             0.4444444444444444,
             "#bd3786"
            ],
            [
             0.5555555555555556,
             "#d8576b"
            ],
            [
             0.6666666666666666,
             "#ed7953"
            ],
            [
             0.7777777777777778,
             "#fb9f3a"
            ],
            [
             0.8888888888888888,
             "#fdca26"
            ],
            [
             1,
             "#f0f921"
            ]
           ],
           "sequentialminus": [
            [
             0,
             "#0d0887"
            ],
            [
             0.1111111111111111,
             "#46039f"
            ],
            [
             0.2222222222222222,
             "#7201a8"
            ],
            [
             0.3333333333333333,
             "#9c179e"
            ],
            [
             0.4444444444444444,
             "#bd3786"
            ],
            [
             0.5555555555555556,
             "#d8576b"
            ],
            [
             0.6666666666666666,
             "#ed7953"
            ],
            [
             0.7777777777777778,
             "#fb9f3a"
            ],
            [
             0.8888888888888888,
             "#fdca26"
            ],
            [
             1,
             "#f0f921"
            ]
           ]
          },
          "colorway": [
           "#636efa",
           "#EF553B",
           "#00cc96",
           "#ab63fa",
           "#FFA15A",
           "#19d3f3",
           "#FF6692",
           "#B6E880",
           "#FF97FF",
           "#FECB52"
          ],
          "font": {
           "color": "#2a3f5f"
          },
          "geo": {
           "bgcolor": "white",
           "lakecolor": "white",
           "landcolor": "#E5ECF6",
           "showlakes": true,
           "showland": true,
           "subunitcolor": "white"
          },
          "hoverlabel": {
           "align": "left"
          },
          "hovermode": "closest",
          "mapbox": {
           "style": "light"
          },
          "paper_bgcolor": "white",
          "plot_bgcolor": "#E5ECF6",
          "polar": {
           "angularaxis": {
            "gridcolor": "white",
            "linecolor": "white",
            "ticks": ""
           },
           "bgcolor": "#E5ECF6",
           "radialaxis": {
            "gridcolor": "white",
            "linecolor": "white",
            "ticks": ""
           }
          },
          "scene": {
           "xaxis": {
            "backgroundcolor": "#E5ECF6",
            "gridcolor": "white",
            "gridwidth": 2,
            "linecolor": "white",
            "showbackground": true,
            "ticks": "",
            "zerolinecolor": "white"
           },
           "yaxis": {
            "backgroundcolor": "#E5ECF6",
            "gridcolor": "white",
            "gridwidth": 2,
            "linecolor": "white",
            "showbackground": true,
            "ticks": "",
            "zerolinecolor": "white"
           },
           "zaxis": {
            "backgroundcolor": "#E5ECF6",
            "gridcolor": "white",
            "gridwidth": 2,
            "linecolor": "white",
            "showbackground": true,
            "ticks": "",
            "zerolinecolor": "white"
           }
          },
          "shapedefaults": {
           "line": {
            "color": "#2a3f5f"
           }
          },
          "ternary": {
           "aaxis": {
            "gridcolor": "white",
            "linecolor": "white",
            "ticks": ""
           },
           "baxis": {
            "gridcolor": "white",
            "linecolor": "white",
            "ticks": ""
           },
           "bgcolor": "#E5ECF6",
           "caxis": {
            "gridcolor": "white",
            "linecolor": "white",
            "ticks": ""
           }
          },
          "title": {
           "x": 0.05
          },
          "xaxis": {
           "automargin": true,
           "gridcolor": "white",
           "linecolor": "white",
           "ticks": "",
           "title": {
            "standoff": 15
           },
           "zerolinecolor": "white",
           "zerolinewidth": 2
          },
          "yaxis": {
           "automargin": true,
           "gridcolor": "white",
           "linecolor": "white",
           "ticks": "",
           "title": {
            "standoff": 15
           },
           "zerolinecolor": "white",
           "zerolinewidth": 2
          }
         }
        },
        "xaxis": {
         "anchor": "y",
         "domain": [
          0,
          1
         ],
         "title": {
          "text": "year"
         }
        },
        "yaxis": {
         "anchor": "x",
         "domain": [
          0,
          1
         ],
         "title": {
          "text": "current health expenditure"
         }
        }
       }
      }
     },
     "metadata": {},
     "output_type": "display_data"
    }
   ],
   "source": [
    "import plotly.express as px\n",
    "countries = ['Japan','Iceland','Sweden','Luxembourg','Norway']\n",
    "px.line(df[df['Country Name'].isin(countries)], x='year', y='current health expenditure', color='Country Name')"
   ]
  },
  {
   "cell_type": "code",
   "execution_count": 212,
   "id": "933f89fe",
   "metadata": {},
   "outputs": [],
   "source": [
    "import pycountry\n",
    "\n",
    "def is_valid_country(country_name):\n",
    "    try:\n",
    "        pycountry.countries.search_fuzzy(country_name)\n",
    "        return country_name\n",
    "    except LookupError:\n",
    "        return \n",
    "def country_to_continent(country_name):\n",
    "    country_alpha2 = pc.country_name_to_country_alpha2(country_name)\n",
    "    try:\n",
    "        country_continent_code = pc.country_alpha2_to_continent_code(country_alpha2)\n",
    "        country_continent_name = pc.convert_continent_code_to_continent_name(country_continent_code)\n",
    "    except: \n",
    "        country_continent_name = None\n",
    "    # country_continent_name = pc.convert_continent_code_to_continent_name(country_continent_code)\n",
    "    return country_continent_name"
   ]
  },
  {
   "cell_type": "code",
   "execution_count": 215,
   "id": "0615f8fc",
   "metadata": {},
   "outputs": [
    {
     "data": {
      "text/html": [
       "<div>\n",
       "<style scoped>\n",
       "    .dataframe tbody tr th:only-of-type {\n",
       "        vertical-align: middle;\n",
       "    }\n",
       "\n",
       "    .dataframe tbody tr th {\n",
       "        vertical-align: top;\n",
       "    }\n",
       "\n",
       "    .dataframe thead th {\n",
       "        text-align: right;\n",
       "    }\n",
       "</style>\n",
       "<table border=\"1\" class=\"dataframe\">\n",
       "  <thead>\n",
       "    <tr style=\"text-align: right;\">\n",
       "      <th></th>\n",
       "      <th>Country Code</th>\n",
       "      <th>year</th>\n",
       "      <th>current health expenditure</th>\n",
       "      <th>country</th>\n",
       "    </tr>\n",
       "  </thead>\n",
       "  <tbody>\n",
       "    <tr>\n",
       "      <th>0</th>\n",
       "      <td>TUV</td>\n",
       "      <td>2018.0</td>\n",
       "      <td>19.036005</td>\n",
       "      <td>Tuvalu</td>\n",
       "    </tr>\n",
       "    <tr>\n",
       "      <th>1</th>\n",
       "      <td>MHL</td>\n",
       "      <td>2018.0</td>\n",
       "      <td>17.002190</td>\n",
       "      <td>Marshall Islands</td>\n",
       "    </tr>\n",
       "    <tr>\n",
       "      <th>2</th>\n",
       "      <td>USA</td>\n",
       "      <td>2018.0</td>\n",
       "      <td>16.687105</td>\n",
       "      <td>United States</td>\n",
       "    </tr>\n",
       "    <tr>\n",
       "      <th>3</th>\n",
       "      <td>AFG</td>\n",
       "      <td>2018.0</td>\n",
       "      <td>14.126743</td>\n",
       "      <td>Afghanistan</td>\n",
       "    </tr>\n",
       "    <tr>\n",
       "      <th>4</th>\n",
       "      <td>KIR</td>\n",
       "      <td>2018.0</td>\n",
       "      <td>11.698363</td>\n",
       "      <td>Kiribati</td>\n",
       "    </tr>\n",
       "    <tr>\n",
       "      <th>...</th>\n",
       "      <td>...</td>\n",
       "      <td>...</td>\n",
       "      <td>...</td>\n",
       "      <td>...</td>\n",
       "    </tr>\n",
       "    <tr>\n",
       "      <th>166</th>\n",
       "      <td>BEN</td>\n",
       "      <td>2018.0</td>\n",
       "      <td>2.504164</td>\n",
       "      <td>Benin</td>\n",
       "    </tr>\n",
       "    <tr>\n",
       "      <th>167</th>\n",
       "      <td>BRN</td>\n",
       "      <td>2018.0</td>\n",
       "      <td>2.412894</td>\n",
       "      <td>Brunei Darussalam</td>\n",
       "    </tr>\n",
       "    <tr>\n",
       "      <th>168</th>\n",
       "      <td>PNG</td>\n",
       "      <td>2018.0</td>\n",
       "      <td>2.266304</td>\n",
       "      <td>Papua New Guinea</td>\n",
       "    </tr>\n",
       "    <tr>\n",
       "      <th>169</th>\n",
       "      <td>DJI</td>\n",
       "      <td>2018.0</td>\n",
       "      <td>2.262542</td>\n",
       "      <td>Djibouti</td>\n",
       "    </tr>\n",
       "    <tr>\n",
       "      <th>170</th>\n",
       "      <td>MCO</td>\n",
       "      <td>2018.0</td>\n",
       "      <td>1.596288</td>\n",
       "      <td>Monaco</td>\n",
       "    </tr>\n",
       "  </tbody>\n",
       "</table>\n",
       "<p>171 rows × 4 columns</p>\n",
       "</div>"
      ],
      "text/plain": [
       "    Country Code    year  current health expenditure            country\n",
       "0            TUV  2018.0                   19.036005             Tuvalu\n",
       "1            MHL  2018.0                   17.002190   Marshall Islands\n",
       "2            USA  2018.0                   16.687105      United States\n",
       "3            AFG  2018.0                   14.126743        Afghanistan\n",
       "4            KIR  2018.0                   11.698363           Kiribati\n",
       "..           ...     ...                         ...                ...\n",
       "166          BEN  2018.0                    2.504164              Benin\n",
       "167          BRN  2018.0                    2.412894  Brunei Darussalam\n",
       "168          PNG  2018.0                    2.266304   Papua New Guinea\n",
       "169          DJI  2018.0                    2.262542           Djibouti\n",
       "170          MCO  2018.0                    1.596288             Monaco\n",
       "\n",
       "[171 rows x 4 columns]"
      ]
     },
     "execution_count": 215,
     "metadata": {},
     "output_type": "execute_result"
    }
   ],
   "source": [
    "df_2018 = df[df.year==2018]\n",
    "df_2018 = df_2018.sort_values(['current health expenditure'], ascending=False)\n",
    "df_2018['country'] = df_2018['Country Name'].apply(lambda x: is_valid_country(x))\n",
    "df_2018[df_2018.country == \"Cote d'Ivoire\"] = None\n",
    "df_2018 = df_2018.dropna(subset = ['country'], axis = 0, how = 'any')\n",
    "df_2018 = df_2018.drop('Country Name', axis=1)\n",
    "df_2018.reset_index(inplace=True, drop=True)\n",
    "df_2018"
   ]
  },
  {
   "cell_type": "code",
   "execution_count": 245,
   "id": "a5d9da5d",
   "metadata": {},
   "outputs": [
    {
     "data": {
      "text/html": [
       "<div>\n",
       "<style scoped>\n",
       "    .dataframe tbody tr th:only-of-type {\n",
       "        vertical-align: middle;\n",
       "    }\n",
       "\n",
       "    .dataframe tbody tr th {\n",
       "        vertical-align: top;\n",
       "    }\n",
       "\n",
       "    .dataframe thead th {\n",
       "        text-align: right;\n",
       "    }\n",
       "</style>\n",
       "<table border=\"1\" class=\"dataframe\">\n",
       "  <thead>\n",
       "    <tr style=\"text-align: right;\">\n",
       "      <th></th>\n",
       "      <th>Country Code</th>\n",
       "      <th>year</th>\n",
       "      <th>current health expenditure</th>\n",
       "      <th>country</th>\n",
       "      <th>Continent</th>\n",
       "    </tr>\n",
       "  </thead>\n",
       "  <tbody>\n",
       "    <tr>\n",
       "      <th>0</th>\n",
       "      <td>TUV</td>\n",
       "      <td>2018.0</td>\n",
       "      <td>19.04</td>\n",
       "      <td>Tuvalu</td>\n",
       "      <td>Oceania</td>\n",
       "    </tr>\n",
       "    <tr>\n",
       "      <th>1</th>\n",
       "      <td>MHL</td>\n",
       "      <td>2018.0</td>\n",
       "      <td>17.00</td>\n",
       "      <td>Marshall Islands</td>\n",
       "      <td>Oceania</td>\n",
       "    </tr>\n",
       "    <tr>\n",
       "      <th>2</th>\n",
       "      <td>USA</td>\n",
       "      <td>2018.0</td>\n",
       "      <td>16.69</td>\n",
       "      <td>United States</td>\n",
       "      <td>North America</td>\n",
       "    </tr>\n",
       "    <tr>\n",
       "      <th>3</th>\n",
       "      <td>AFG</td>\n",
       "      <td>2018.0</td>\n",
       "      <td>14.13</td>\n",
       "      <td>Afghanistan</td>\n",
       "      <td>Asia</td>\n",
       "    </tr>\n",
       "    <tr>\n",
       "      <th>4</th>\n",
       "      <td>KIR</td>\n",
       "      <td>2018.0</td>\n",
       "      <td>11.70</td>\n",
       "      <td>Kiribati</td>\n",
       "      <td>Oceania</td>\n",
       "    </tr>\n",
       "    <tr>\n",
       "      <th>...</th>\n",
       "      <td>...</td>\n",
       "      <td>...</td>\n",
       "      <td>...</td>\n",
       "      <td>...</td>\n",
       "      <td>...</td>\n",
       "    </tr>\n",
       "    <tr>\n",
       "      <th>166</th>\n",
       "      <td>BEN</td>\n",
       "      <td>2018.0</td>\n",
       "      <td>2.50</td>\n",
       "      <td>Benin</td>\n",
       "      <td>Africa</td>\n",
       "    </tr>\n",
       "    <tr>\n",
       "      <th>167</th>\n",
       "      <td>BRN</td>\n",
       "      <td>2018.0</td>\n",
       "      <td>2.41</td>\n",
       "      <td>Brunei Darussalam</td>\n",
       "      <td>Asia</td>\n",
       "    </tr>\n",
       "    <tr>\n",
       "      <th>168</th>\n",
       "      <td>PNG</td>\n",
       "      <td>2018.0</td>\n",
       "      <td>2.27</td>\n",
       "      <td>Papua New Guinea</td>\n",
       "      <td>Oceania</td>\n",
       "    </tr>\n",
       "    <tr>\n",
       "      <th>169</th>\n",
       "      <td>DJI</td>\n",
       "      <td>2018.0</td>\n",
       "      <td>2.26</td>\n",
       "      <td>Djibouti</td>\n",
       "      <td>Africa</td>\n",
       "    </tr>\n",
       "    <tr>\n",
       "      <th>170</th>\n",
       "      <td>MCO</td>\n",
       "      <td>2018.0</td>\n",
       "      <td>1.60</td>\n",
       "      <td>Monaco</td>\n",
       "      <td>Europe</td>\n",
       "    </tr>\n",
       "  </tbody>\n",
       "</table>\n",
       "<p>171 rows × 5 columns</p>\n",
       "</div>"
      ],
      "text/plain": [
       "    Country Code    year  current health expenditure            country  \\\n",
       "0            TUV  2018.0                       19.04             Tuvalu   \n",
       "1            MHL  2018.0                       17.00   Marshall Islands   \n",
       "2            USA  2018.0                       16.69      United States   \n",
       "3            AFG  2018.0                       14.13        Afghanistan   \n",
       "4            KIR  2018.0                       11.70           Kiribati   \n",
       "..           ...     ...                         ...                ...   \n",
       "166          BEN  2018.0                        2.50              Benin   \n",
       "167          BRN  2018.0                        2.41  Brunei Darussalam   \n",
       "168          PNG  2018.0                        2.27   Papua New Guinea   \n",
       "169          DJI  2018.0                        2.26           Djibouti   \n",
       "170          MCO  2018.0                        1.60             Monaco   \n",
       "\n",
       "         Continent  \n",
       "0          Oceania  \n",
       "1          Oceania  \n",
       "2    North America  \n",
       "3             Asia  \n",
       "4          Oceania  \n",
       "..             ...  \n",
       "166         Africa  \n",
       "167           Asia  \n",
       "168        Oceania  \n",
       "169         Africa  \n",
       "170         Europe  \n",
       "\n",
       "[171 rows x 5 columns]"
      ]
     },
     "execution_count": 245,
     "metadata": {},
     "output_type": "execute_result"
    }
   ],
   "source": [
    "df_2018['Continent'] = df_2018['country'].apply(lambda row: country_to_continent(row))\n",
    "df_2018[['current health expenditure']] = df_2018[['current health expenditure']].round(2)\n",
    "df_2018"
   ]
  },
  {
   "cell_type": "code",
   "execution_count": 183,
   "id": "686cb920",
   "metadata": {},
   "outputs": [],
   "source": [
    "# df_2018[df_2018.country == \"Cote d'Ivoire\"] = None"
   ]
  },
  {
   "cell_type": "code",
   "execution_count": 184,
   "id": "916c77a8",
   "metadata": {},
   "outputs": [
    {
     "data": {
      "text/html": [
       "<div>\n",
       "<style scoped>\n",
       "    .dataframe tbody tr th:only-of-type {\n",
       "        vertical-align: middle;\n",
       "    }\n",
       "\n",
       "    .dataframe tbody tr th {\n",
       "        vertical-align: top;\n",
       "    }\n",
       "\n",
       "    .dataframe thead th {\n",
       "        text-align: right;\n",
       "    }\n",
       "</style>\n",
       "<table border=\"1\" class=\"dataframe\">\n",
       "  <thead>\n",
       "    <tr style=\"text-align: right;\">\n",
       "      <th></th>\n",
       "      <th>Country Code</th>\n",
       "      <th>year</th>\n",
       "      <th>current health expenditure</th>\n",
       "      <th>country</th>\n",
       "    </tr>\n",
       "  </thead>\n",
       "  <tbody>\n",
       "  </tbody>\n",
       "</table>\n",
       "</div>"
      ],
      "text/plain": [
       "Empty DataFrame\n",
       "Columns: [Country Code, year, current health expenditure, country]\n",
       "Index: []"
      ]
     },
     "execution_count": 184,
     "metadata": {},
     "output_type": "execute_result"
    }
   ],
   "source": [
    "# df_2018[df_2018.country == \"Cote d'Ivoire\"]"
   ]
  },
  {
   "cell_type": "code",
   "execution_count": 185,
   "id": "3fc77e17",
   "metadata": {},
   "outputs": [
    {
     "data": {
      "text/html": [
       "<div>\n",
       "<style scoped>\n",
       "    .dataframe tbody tr th:only-of-type {\n",
       "        vertical-align: middle;\n",
       "    }\n",
       "\n",
       "    .dataframe tbody tr th {\n",
       "        vertical-align: top;\n",
       "    }\n",
       "\n",
       "    .dataframe thead th {\n",
       "        text-align: right;\n",
       "    }\n",
       "</style>\n",
       "<table border=\"1\" class=\"dataframe\">\n",
       "  <thead>\n",
       "    <tr style=\"text-align: right;\">\n",
       "      <th></th>\n",
       "      <th>Country Code</th>\n",
       "      <th>year</th>\n",
       "      <th>current health expenditure</th>\n",
       "      <th>country</th>\n",
       "    </tr>\n",
       "  </thead>\n",
       "  <tbody>\n",
       "  </tbody>\n",
       "</table>\n",
       "</div>"
      ],
      "text/plain": [
       "Empty DataFrame\n",
       "Columns: [Country Code, year, current health expenditure, country]\n",
       "Index: []"
      ]
     },
     "execution_count": 185,
     "metadata": {},
     "output_type": "execute_result"
    }
   ],
   "source": [
    "# df_2018 = df_2018.dropna(subset = ['country'], axis = 0, how = 'any')\n",
    "# df_2018"
   ]
  },
  {
   "cell_type": "code",
   "execution_count": 242,
   "id": "97d80d16",
   "metadata": {},
   "outputs": [
    {
     "data": {
      "text/html": [
       "<div>\n",
       "<style scoped>\n",
       "    .dataframe tbody tr th:only-of-type {\n",
       "        vertical-align: middle;\n",
       "    }\n",
       "\n",
       "    .dataframe tbody tr th {\n",
       "        vertical-align: top;\n",
       "    }\n",
       "\n",
       "    .dataframe thead th {\n",
       "        text-align: right;\n",
       "    }\n",
       "</style>\n",
       "<table border=\"1\" class=\"dataframe\">\n",
       "  <thead>\n",
       "    <tr style=\"text-align: right;\">\n",
       "      <th></th>\n",
       "      <th>Continent</th>\n",
       "      <th>year</th>\n",
       "      <th>current health expenditure</th>\n",
       "    </tr>\n",
       "  </thead>\n",
       "  <tbody>\n",
       "    <tr>\n",
       "      <th>0</th>\n",
       "      <td>Oceania</td>\n",
       "      <td>2018.0</td>\n",
       "      <td>8.40</td>\n",
       "    </tr>\n",
       "    <tr>\n",
       "      <th>1</th>\n",
       "      <td>Europe</td>\n",
       "      <td>2018.0</td>\n",
       "      <td>7.90</td>\n",
       "    </tr>\n",
       "    <tr>\n",
       "      <th>2</th>\n",
       "      <td>South America</td>\n",
       "      <td>2018.0</td>\n",
       "      <td>7.65</td>\n",
       "    </tr>\n",
       "    <tr>\n",
       "      <th>3</th>\n",
       "      <td>North America</td>\n",
       "      <td>2018.0</td>\n",
       "      <td>7.31</td>\n",
       "    </tr>\n",
       "    <tr>\n",
       "      <th>4</th>\n",
       "      <td>Africa</td>\n",
       "      <td>2018.0</td>\n",
       "      <td>5.58</td>\n",
       "    </tr>\n",
       "    <tr>\n",
       "      <th>5</th>\n",
       "      <td>Asia</td>\n",
       "      <td>2018.0</td>\n",
       "      <td>5.32</td>\n",
       "    </tr>\n",
       "  </tbody>\n",
       "</table>\n",
       "</div>"
      ],
      "text/plain": [
       "       Continent    year  current health expenditure\n",
       "0        Oceania  2018.0                        8.40\n",
       "1         Europe  2018.0                        7.90\n",
       "2  South America  2018.0                        7.65\n",
       "3  North America  2018.0                        7.31\n",
       "4         Africa  2018.0                        5.58\n",
       "5           Asia  2018.0                        5.32"
      ]
     },
     "execution_count": 242,
     "metadata": {},
     "output_type": "execute_result"
    }
   ],
   "source": [
    "df_2018_continent = df_2018.groupby('Continent').mean()\n",
    "df_2018_continent.sort_values(by='current health expenditure',ascending=False, inplace=True)\n",
    "df_2018_continent.reset_index(inplace=True)\n",
    "df_2018_continent[['current health expenditure']] = df_2018_continent[['current health expenditure']].round(2)\n",
    "df_2018_continent"
   ]
  },
  {
   "cell_type": "code",
   "execution_count": 243,
   "id": "2bf3f6e2",
   "metadata": {},
   "outputs": [
    {
     "data": {
      "application/vnd.plotly.v1+json": {
       "config": {
        "plotlyServerURL": "https://plot.ly"
       },
       "data": [
        {
         "alignmentgroup": "True",
         "hovertemplate": "Continent=%{x}<br>current health expenditure=%{text}<extra></extra>",
         "legendgroup": "Oceania",
         "marker": {
          "color": "#1F77B4",
          "pattern": {
           "shape": ""
          }
         },
         "name": "Oceania",
         "offsetgroup": "Oceania",
         "orientation": "v",
         "showlegend": true,
         "text": [
          8.4
         ],
         "textposition": "auto",
         "type": "bar",
         "x": [
          "Oceania"
         ],
         "xaxis": "x",
         "y": [
          8.4
         ],
         "yaxis": "y"
        },
        {
         "alignmentgroup": "True",
         "hovertemplate": "Continent=%{x}<br>current health expenditure=%{text}<extra></extra>",
         "legendgroup": "Europe",
         "marker": {
          "color": "#FF7F0E",
          "pattern": {
           "shape": ""
          }
         },
         "name": "Europe",
         "offsetgroup": "Europe",
         "orientation": "v",
         "showlegend": true,
         "text": [
          7.9
         ],
         "textposition": "auto",
         "type": "bar",
         "x": [
          "Europe"
         ],
         "xaxis": "x",
         "y": [
          7.9
         ],
         "yaxis": "y"
        },
        {
         "alignmentgroup": "True",
         "hovertemplate": "Continent=%{x}<br>current health expenditure=%{text}<extra></extra>",
         "legendgroup": "South America",
         "marker": {
          "color": "#2CA02C",
          "pattern": {
           "shape": ""
          }
         },
         "name": "South America",
         "offsetgroup": "South America",
         "orientation": "v",
         "showlegend": true,
         "text": [
          7.65
         ],
         "textposition": "auto",
         "type": "bar",
         "x": [
          "South America"
         ],
         "xaxis": "x",
         "y": [
          7.65
         ],
         "yaxis": "y"
        },
        {
         "alignmentgroup": "True",
         "hovertemplate": "Continent=%{x}<br>current health expenditure=%{text}<extra></extra>",
         "legendgroup": "North America",
         "marker": {
          "color": "#D62728",
          "pattern": {
           "shape": ""
          }
         },
         "name": "North America",
         "offsetgroup": "North America",
         "orientation": "v",
         "showlegend": true,
         "text": [
          7.31
         ],
         "textposition": "auto",
         "type": "bar",
         "x": [
          "North America"
         ],
         "xaxis": "x",
         "y": [
          7.31
         ],
         "yaxis": "y"
        },
        {
         "alignmentgroup": "True",
         "hovertemplate": "Continent=%{x}<br>current health expenditure=%{text}<extra></extra>",
         "legendgroup": "Africa",
         "marker": {
          "color": "#9467BD",
          "pattern": {
           "shape": ""
          }
         },
         "name": "Africa",
         "offsetgroup": "Africa",
         "orientation": "v",
         "showlegend": true,
         "text": [
          5.58
         ],
         "textposition": "auto",
         "type": "bar",
         "x": [
          "Africa"
         ],
         "xaxis": "x",
         "y": [
          5.58
         ],
         "yaxis": "y"
        },
        {
         "alignmentgroup": "True",
         "hovertemplate": "Continent=%{x}<br>current health expenditure=%{text}<extra></extra>",
         "legendgroup": "Asia",
         "marker": {
          "color": "#8C564B",
          "pattern": {
           "shape": ""
          }
         },
         "name": "Asia",
         "offsetgroup": "Asia",
         "orientation": "v",
         "showlegend": true,
         "text": [
          5.32
         ],
         "textposition": "auto",
         "type": "bar",
         "x": [
          "Asia"
         ],
         "xaxis": "x",
         "y": [
          5.32
         ],
         "yaxis": "y"
        }
       ],
       "layout": {
        "barmode": "relative",
        "height": 700,
        "legend": {
         "title": {
          "text": "Continent"
         },
         "tracegroupgap": 0
        },
        "margin": {
         "t": 60
        },
        "template": {
         "data": {
          "bar": [
           {
            "error_x": {
             "color": "rgb(36,36,36)"
            },
            "error_y": {
             "color": "rgb(36,36,36)"
            },
            "marker": {
             "line": {
              "color": "white",
              "width": 0.5
             },
             "pattern": {
              "fillmode": "overlay",
              "size": 10,
              "solidity": 0.2
             }
            },
            "type": "bar"
           }
          ],
          "barpolar": [
           {
            "marker": {
             "line": {
              "color": "white",
              "width": 0.5
             },
             "pattern": {
              "fillmode": "overlay",
              "size": 10,
              "solidity": 0.2
             }
            },
            "type": "barpolar"
           }
          ],
          "carpet": [
           {
            "aaxis": {
             "endlinecolor": "rgb(36,36,36)",
             "gridcolor": "white",
             "linecolor": "white",
             "minorgridcolor": "white",
             "startlinecolor": "rgb(36,36,36)"
            },
            "baxis": {
             "endlinecolor": "rgb(36,36,36)",
             "gridcolor": "white",
             "linecolor": "white",
             "minorgridcolor": "white",
             "startlinecolor": "rgb(36,36,36)"
            },
            "type": "carpet"
           }
          ],
          "choropleth": [
           {
            "colorbar": {
             "outlinewidth": 1,
             "tickcolor": "rgb(36,36,36)",
             "ticks": "outside"
            },
            "type": "choropleth"
           }
          ],
          "contour": [
           {
            "colorbar": {
             "outlinewidth": 1,
             "tickcolor": "rgb(36,36,36)",
             "ticks": "outside"
            },
            "colorscale": [
             [
              0,
              "#440154"
             ],
             [
              0.1111111111111111,
              "#482878"
             ],
             [
              0.2222222222222222,
              "#3e4989"
             ],
             [
              0.3333333333333333,
              "#31688e"
             ],
             [
              0.4444444444444444,
              "#26828e"
             ],
             [
              0.5555555555555556,
              "#1f9e89"
             ],
             [
              0.6666666666666666,
              "#35b779"
             ],
             [
              0.7777777777777778,
              "#6ece58"
             ],
             [
              0.8888888888888888,
              "#b5de2b"
             ],
             [
              1,
              "#fde725"
             ]
            ],
            "type": "contour"
           }
          ],
          "contourcarpet": [
           {
            "colorbar": {
             "outlinewidth": 1,
             "tickcolor": "rgb(36,36,36)",
             "ticks": "outside"
            },
            "type": "contourcarpet"
           }
          ],
          "heatmap": [
           {
            "colorbar": {
             "outlinewidth": 1,
             "tickcolor": "rgb(36,36,36)",
             "ticks": "outside"
            },
            "colorscale": [
             [
              0,
              "#440154"
             ],
             [
              0.1111111111111111,
              "#482878"
             ],
             [
              0.2222222222222222,
              "#3e4989"
             ],
             [
              0.3333333333333333,
              "#31688e"
             ],
             [
              0.4444444444444444,
              "#26828e"
             ],
             [
              0.5555555555555556,
              "#1f9e89"
             ],
             [
              0.6666666666666666,
              "#35b779"
             ],
             [
              0.7777777777777778,
              "#6ece58"
             ],
             [
              0.8888888888888888,
              "#b5de2b"
             ],
             [
              1,
              "#fde725"
             ]
            ],
            "type": "heatmap"
           }
          ],
          "heatmapgl": [
           {
            "colorbar": {
             "outlinewidth": 1,
             "tickcolor": "rgb(36,36,36)",
             "ticks": "outside"
            },
            "colorscale": [
             [
              0,
              "#440154"
             ],
             [
              0.1111111111111111,
              "#482878"
             ],
             [
              0.2222222222222222,
              "#3e4989"
             ],
             [
              0.3333333333333333,
              "#31688e"
             ],
             [
              0.4444444444444444,
              "#26828e"
             ],
             [
              0.5555555555555556,
              "#1f9e89"
             ],
             [
              0.6666666666666666,
              "#35b779"
             ],
             [
              0.7777777777777778,
              "#6ece58"
             ],
             [
              0.8888888888888888,
              "#b5de2b"
             ],
             [
              1,
              "#fde725"
             ]
            ],
            "type": "heatmapgl"
           }
          ],
          "histogram": [
           {
            "marker": {
             "line": {
              "color": "white",
              "width": 0.6
             }
            },
            "type": "histogram"
           }
          ],
          "histogram2d": [
           {
            "colorbar": {
             "outlinewidth": 1,
             "tickcolor": "rgb(36,36,36)",
             "ticks": "outside"
            },
            "colorscale": [
             [
              0,
              "#440154"
             ],
             [
              0.1111111111111111,
              "#482878"
             ],
             [
              0.2222222222222222,
              "#3e4989"
             ],
             [
              0.3333333333333333,
              "#31688e"
             ],
             [
              0.4444444444444444,
              "#26828e"
             ],
             [
              0.5555555555555556,
              "#1f9e89"
             ],
             [
              0.6666666666666666,
              "#35b779"
             ],
             [
              0.7777777777777778,
              "#6ece58"
             ],
             [
              0.8888888888888888,
              "#b5de2b"
             ],
             [
              1,
              "#fde725"
             ]
            ],
            "type": "histogram2d"
           }
          ],
          "histogram2dcontour": [
           {
            "colorbar": {
             "outlinewidth": 1,
             "tickcolor": "rgb(36,36,36)",
             "ticks": "outside"
            },
            "colorscale": [
             [
              0,
              "#440154"
             ],
             [
              0.1111111111111111,
              "#482878"
             ],
             [
              0.2222222222222222,
              "#3e4989"
             ],
             [
              0.3333333333333333,
              "#31688e"
             ],
             [
              0.4444444444444444,
              "#26828e"
             ],
             [
              0.5555555555555556,
              "#1f9e89"
             ],
             [
              0.6666666666666666,
              "#35b779"
             ],
             [
              0.7777777777777778,
              "#6ece58"
             ],
             [
              0.8888888888888888,
              "#b5de2b"
             ],
             [
              1,
              "#fde725"
             ]
            ],
            "type": "histogram2dcontour"
           }
          ],
          "mesh3d": [
           {
            "colorbar": {
             "outlinewidth": 1,
             "tickcolor": "rgb(36,36,36)",
             "ticks": "outside"
            },
            "type": "mesh3d"
           }
          ],
          "parcoords": [
           {
            "line": {
             "colorbar": {
              "outlinewidth": 1,
              "tickcolor": "rgb(36,36,36)",
              "ticks": "outside"
             }
            },
            "type": "parcoords"
           }
          ],
          "pie": [
           {
            "automargin": true,
            "type": "pie"
           }
          ],
          "scatter": [
           {
            "fillpattern": {
             "fillmode": "overlay",
             "size": 10,
             "solidity": 0.2
            },
            "type": "scatter"
           }
          ],
          "scatter3d": [
           {
            "line": {
             "colorbar": {
              "outlinewidth": 1,
              "tickcolor": "rgb(36,36,36)",
              "ticks": "outside"
             }
            },
            "marker": {
             "colorbar": {
              "outlinewidth": 1,
              "tickcolor": "rgb(36,36,36)",
              "ticks": "outside"
             }
            },
            "type": "scatter3d"
           }
          ],
          "scattercarpet": [
           {
            "marker": {
             "colorbar": {
              "outlinewidth": 1,
              "tickcolor": "rgb(36,36,36)",
              "ticks": "outside"
             }
            },
            "type": "scattercarpet"
           }
          ],
          "scattergeo": [
           {
            "marker": {
             "colorbar": {
              "outlinewidth": 1,
              "tickcolor": "rgb(36,36,36)",
              "ticks": "outside"
             }
            },
            "type": "scattergeo"
           }
          ],
          "scattergl": [
           {
            "marker": {
             "colorbar": {
              "outlinewidth": 1,
              "tickcolor": "rgb(36,36,36)",
              "ticks": "outside"
             }
            },
            "type": "scattergl"
           }
          ],
          "scattermapbox": [
           {
            "marker": {
             "colorbar": {
              "outlinewidth": 1,
              "tickcolor": "rgb(36,36,36)",
              "ticks": "outside"
             }
            },
            "type": "scattermapbox"
           }
          ],
          "scatterpolar": [
           {
            "marker": {
             "colorbar": {
              "outlinewidth": 1,
              "tickcolor": "rgb(36,36,36)",
              "ticks": "outside"
             }
            },
            "type": "scatterpolar"
           }
          ],
          "scatterpolargl": [
           {
            "marker": {
             "colorbar": {
              "outlinewidth": 1,
              "tickcolor": "rgb(36,36,36)",
              "ticks": "outside"
             }
            },
            "type": "scatterpolargl"
           }
          ],
          "scatterternary": [
           {
            "marker": {
             "colorbar": {
              "outlinewidth": 1,
              "tickcolor": "rgb(36,36,36)",
              "ticks": "outside"
             }
            },
            "type": "scatterternary"
           }
          ],
          "surface": [
           {
            "colorbar": {
             "outlinewidth": 1,
             "tickcolor": "rgb(36,36,36)",
             "ticks": "outside"
            },
            "colorscale": [
             [
              0,
              "#440154"
             ],
             [
              0.1111111111111111,
              "#482878"
             ],
             [
              0.2222222222222222,
              "#3e4989"
             ],
             [
              0.3333333333333333,
              "#31688e"
             ],
             [
              0.4444444444444444,
              "#26828e"
             ],
             [
              0.5555555555555556,
              "#1f9e89"
             ],
             [
              0.6666666666666666,
              "#35b779"
             ],
             [
              0.7777777777777778,
              "#6ece58"
             ],
             [
              0.8888888888888888,
              "#b5de2b"
             ],
             [
              1,
              "#fde725"
             ]
            ],
            "type": "surface"
           }
          ],
          "table": [
           {
            "cells": {
             "fill": {
              "color": "rgb(237,237,237)"
             },
             "line": {
              "color": "white"
             }
            },
            "header": {
             "fill": {
              "color": "rgb(217,217,217)"
             },
             "line": {
              "color": "white"
             }
            },
            "type": "table"
           }
          ]
         },
         "layout": {
          "annotationdefaults": {
           "arrowhead": 0,
           "arrowwidth": 1
          },
          "autotypenumbers": "strict",
          "coloraxis": {
           "colorbar": {
            "outlinewidth": 1,
            "tickcolor": "rgb(36,36,36)",
            "ticks": "outside"
           }
          },
          "colorscale": {
           "diverging": [
            [
             0,
             "rgb(103,0,31)"
            ],
            [
             0.1,
             "rgb(178,24,43)"
            ],
            [
             0.2,
             "rgb(214,96,77)"
            ],
            [
             0.3,
             "rgb(244,165,130)"
            ],
            [
             0.4,
             "rgb(253,219,199)"
            ],
            [
             0.5,
             "rgb(247,247,247)"
            ],
            [
             0.6,
             "rgb(209,229,240)"
            ],
            [
             0.7,
             "rgb(146,197,222)"
            ],
            [
             0.8,
             "rgb(67,147,195)"
            ],
            [
             0.9,
             "rgb(33,102,172)"
            ],
            [
             1,
             "rgb(5,48,97)"
            ]
           ],
           "sequential": [
            [
             0,
             "#440154"
            ],
            [
             0.1111111111111111,
             "#482878"
            ],
            [
             0.2222222222222222,
             "#3e4989"
            ],
            [
             0.3333333333333333,
             "#31688e"
            ],
            [
             0.4444444444444444,
             "#26828e"
            ],
            [
             0.5555555555555556,
             "#1f9e89"
            ],
            [
             0.6666666666666666,
             "#35b779"
            ],
            [
             0.7777777777777778,
             "#6ece58"
            ],
            [
             0.8888888888888888,
             "#b5de2b"
            ],
            [
             1,
             "#fde725"
            ]
           ],
           "sequentialminus": [
            [
             0,
             "#440154"
            ],
            [
             0.1111111111111111,
             "#482878"
            ],
            [
             0.2222222222222222,
             "#3e4989"
            ],
            [
             0.3333333333333333,
             "#31688e"
            ],
            [
             0.4444444444444444,
             "#26828e"
            ],
            [
             0.5555555555555556,
             "#1f9e89"
            ],
            [
             0.6666666666666666,
             "#35b779"
            ],
            [
             0.7777777777777778,
             "#6ece58"
            ],
            [
             0.8888888888888888,
             "#b5de2b"
            ],
            [
             1,
             "#fde725"
            ]
           ]
          },
          "colorway": [
           "#1F77B4",
           "#FF7F0E",
           "#2CA02C",
           "#D62728",
           "#9467BD",
           "#8C564B",
           "#E377C2",
           "#7F7F7F",
           "#BCBD22",
           "#17BECF"
          ],
          "font": {
           "color": "rgb(36,36,36)"
          },
          "geo": {
           "bgcolor": "white",
           "lakecolor": "white",
           "landcolor": "white",
           "showlakes": true,
           "showland": true,
           "subunitcolor": "white"
          },
          "hoverlabel": {
           "align": "left"
          },
          "hovermode": "closest",
          "mapbox": {
           "style": "light"
          },
          "paper_bgcolor": "white",
          "plot_bgcolor": "white",
          "polar": {
           "angularaxis": {
            "gridcolor": "rgb(232,232,232)",
            "linecolor": "rgb(36,36,36)",
            "showgrid": false,
            "showline": true,
            "ticks": "outside"
           },
           "bgcolor": "white",
           "radialaxis": {
            "gridcolor": "rgb(232,232,232)",
            "linecolor": "rgb(36,36,36)",
            "showgrid": false,
            "showline": true,
            "ticks": "outside"
           }
          },
          "scene": {
           "xaxis": {
            "backgroundcolor": "white",
            "gridcolor": "rgb(232,232,232)",
            "gridwidth": 2,
            "linecolor": "rgb(36,36,36)",
            "showbackground": true,
            "showgrid": false,
            "showline": true,
            "ticks": "outside",
            "zeroline": false,
            "zerolinecolor": "rgb(36,36,36)"
           },
           "yaxis": {
            "backgroundcolor": "white",
            "gridcolor": "rgb(232,232,232)",
            "gridwidth": 2,
            "linecolor": "rgb(36,36,36)",
            "showbackground": true,
            "showgrid": false,
            "showline": true,
            "ticks": "outside",
            "zeroline": false,
            "zerolinecolor": "rgb(36,36,36)"
           },
           "zaxis": {
            "backgroundcolor": "white",
            "gridcolor": "rgb(232,232,232)",
            "gridwidth": 2,
            "linecolor": "rgb(36,36,36)",
            "showbackground": true,
            "showgrid": false,
            "showline": true,
            "ticks": "outside",
            "zeroline": false,
            "zerolinecolor": "rgb(36,36,36)"
           }
          },
          "shapedefaults": {
           "fillcolor": "black",
           "line": {
            "width": 0
           },
           "opacity": 0.3
          },
          "ternary": {
           "aaxis": {
            "gridcolor": "rgb(232,232,232)",
            "linecolor": "rgb(36,36,36)",
            "showgrid": false,
            "showline": true,
            "ticks": "outside"
           },
           "baxis": {
            "gridcolor": "rgb(232,232,232)",
            "linecolor": "rgb(36,36,36)",
            "showgrid": false,
            "showline": true,
            "ticks": "outside"
           },
           "bgcolor": "white",
           "caxis": {
            "gridcolor": "rgb(232,232,232)",
            "linecolor": "rgb(36,36,36)",
            "showgrid": false,
            "showline": true,
            "ticks": "outside"
           }
          },
          "title": {
           "x": 0.05
          },
          "xaxis": {
           "automargin": true,
           "gridcolor": "rgb(232,232,232)",
           "linecolor": "rgb(36,36,36)",
           "showgrid": false,
           "showline": true,
           "ticks": "outside",
           "title": {
            "standoff": 15
           },
           "zeroline": false,
           "zerolinecolor": "rgb(36,36,36)"
          },
          "yaxis": {
           "automargin": true,
           "gridcolor": "rgb(232,232,232)",
           "linecolor": "rgb(36,36,36)",
           "showgrid": false,
           "showline": true,
           "ticks": "outside",
           "title": {
            "standoff": 15
           },
           "zeroline": false,
           "zerolinecolor": "rgb(36,36,36)"
          }
         }
        },
        "width": 1000,
        "xaxis": {
         "anchor": "y",
         "categoryarray": [
          "Oceania",
          "Europe",
          "South America",
          "North America",
          "Africa",
          "Asia"
         ],
         "categoryorder": "array",
         "domain": [
          0,
          1
         ],
         "title": {
          "text": "Continent"
         }
        },
        "yaxis": {
         "anchor": "x",
         "domain": [
          0,
          1
         ],
         "title": {
          "text": "current health expenditure"
         }
        }
       }
      }
     },
     "metadata": {},
     "output_type": "display_data"
    }
   ],
   "source": [
    "import plotly.io as pi\n",
    "fig = px.bar(df_2018_continent,x='Continent', y='current health expenditure',\n",
    "        color='Continent',template='simple_white', width=1000, height=700, text='current health expenditure',\n",
    "        labels={'current health expenditure':'current health expenditure'})\n",
    "fig"
   ]
  },
  {
   "cell_type": "code",
   "execution_count": 250,
   "id": "6fb73b58",
   "metadata": {},
   "outputs": [
    {
     "data": {
      "application/vnd.plotly.v1+json": {
       "config": {
        "plotlyServerURL": "https://plot.ly"
       },
       "data": [
        {
         "alignmentgroup": "True",
         "hovertemplate": "Continent=Oceania<br>country=%{x}<br>current health expenditure=%{text}<extra></extra>",
         "legendgroup": "Oceania",
         "marker": {
          "color": "#1F77B4",
          "pattern": {
           "shape": ""
          }
         },
         "name": "Oceania",
         "offsetgroup": "Oceania",
         "orientation": "v",
         "showlegend": true,
         "text": [
          19.04,
          17,
          11.7,
          10.85,
          9.21,
          9.16
         ],
         "textposition": "auto",
         "type": "bar",
         "x": [
          "Tuvalu",
          "Marshall Islands",
          "Kiribati",
          "Palau",
          "New Zealand",
          "Australia"
         ],
         "xaxis": "x",
         "y": [
          19.04,
          17,
          11.7,
          10.85,
          9.21,
          9.16
         ],
         "yaxis": "y"
        },
        {
         "alignmentgroup": "True",
         "hovertemplate": "Continent=North America<br>country=%{x}<br>current health expenditure=%{text}<extra></extra>",
         "legendgroup": "North America",
         "marker": {
          "color": "#FF7F0E",
          "pattern": {
           "shape": ""
          }
         },
         "name": "North America",
         "offsetgroup": "North America",
         "orientation": "v",
         "showlegend": true,
         "text": [
          16.69,
          11.19,
          10.81
         ],
         "textposition": "auto",
         "type": "bar",
         "x": [
          "United States",
          "Cuba",
          "Canada"
         ],
         "xaxis": "x",
         "y": [
          16.69,
          11.19,
          10.81
         ],
         "yaxis": "y"
        },
        {
         "alignmentgroup": "True",
         "hovertemplate": "Continent=Asia<br>country=%{x}<br>current health expenditure=%{text}<extra></extra>",
         "legendgroup": "Asia",
         "marker": {
          "color": "#2CA02C",
          "pattern": {
           "shape": ""
          }
         },
         "name": "Asia",
         "offsetgroup": "Asia",
         "orientation": "v",
         "showlegend": true,
         "text": [
          14.13,
          10.75,
          10.01
         ],
         "textposition": "auto",
         "type": "bar",
         "x": [
          "Afghanistan",
          "Japan",
          "Armenia"
         ],
         "xaxis": "x",
         "y": [
          14.13,
          10.75,
          10.01
         ],
         "yaxis": "y"
        },
        {
         "alignmentgroup": "True",
         "hovertemplate": "Continent=Europe<br>country=%{x}<br>current health expenditure=%{text}<extra></extra>",
         "legendgroup": "Europe",
         "marker": {
          "color": "#D62728",
          "pattern": {
           "shape": ""
          }
         },
         "name": "Europe",
         "offsetgroup": "Europe",
         "orientation": "v",
         "showlegend": true,
         "text": [
          11.45,
          11.38,
          11.19,
          10.94,
          10.76,
          10.32,
          10.07,
          10.03,
          10.02,
          9.9,
          9.41
         ],
         "textposition": "auto",
         "type": "bar",
         "x": [
          "Germany",
          "Switzerland",
          "France",
          "Sweden",
          "Belgium",
          "Austria",
          "Denmark",
          "Netherlands",
          "Norway",
          "United Kingdom",
          "Portugal"
         ],
         "xaxis": "x",
         "y": [
          11.45,
          11.38,
          11.19,
          10.94,
          10.76,
          10.32,
          10.07,
          10.03,
          10.02,
          9.9,
          9.41
         ],
         "yaxis": "y"
        },
        {
         "alignmentgroup": "True",
         "hovertemplate": "Continent=Africa<br>country=%{x}<br>current health expenditure=%{text}<extra></extra>",
         "legendgroup": "Africa",
         "marker": {
          "color": "#9467BD",
          "pattern": {
           "shape": ""
          }
         },
         "name": "Africa",
         "offsetgroup": "Africa",
         "orientation": "v",
         "showlegend": true,
         "text": [
          11,
          10.9,
          9.83,
          9.04
         ],
         "textposition": "auto",
         "type": "bar",
         "x": [
          "Central African Republic",
          "Lesotho",
          "Malawi",
          "Liberia"
         ],
         "xaxis": "x",
         "y": [
          11,
          10.9,
          9.83,
          9.04
         ],
         "yaxis": "y"
        },
        {
         "alignmentgroup": "True",
         "hovertemplate": "Continent=South America<br>country=%{x}<br>current health expenditure=%{text}<extra></extra>",
         "legendgroup": "South America",
         "marker": {
          "color": "#8C564B",
          "pattern": {
           "shape": ""
          }
         },
         "name": "South America",
         "offsetgroup": "South America",
         "orientation": "v",
         "showlegend": true,
         "text": [
          9.67,
          9.46,
          9.16
         ],
         "textposition": "auto",
         "type": "bar",
         "x": [
          "Argentina",
          "Brazil",
          "Chile"
         ],
         "xaxis": "x",
         "y": [
          9.67,
          9.46,
          9.16
         ],
         "yaxis": "y"
        }
       ],
       "layout": {
        "barmode": "relative",
        "height": 700,
        "legend": {
         "title": {
          "text": "Continent"
         },
         "tracegroupgap": 0
        },
        "margin": {
         "t": 60
        },
        "template": {
         "data": {
          "bar": [
           {
            "error_x": {
             "color": "rgb(36,36,36)"
            },
            "error_y": {
             "color": "rgb(36,36,36)"
            },
            "marker": {
             "line": {
              "color": "white",
              "width": 0.5
             },
             "pattern": {
              "fillmode": "overlay",
              "size": 10,
              "solidity": 0.2
             }
            },
            "type": "bar"
           }
          ],
          "barpolar": [
           {
            "marker": {
             "line": {
              "color": "white",
              "width": 0.5
             },
             "pattern": {
              "fillmode": "overlay",
              "size": 10,
              "solidity": 0.2
             }
            },
            "type": "barpolar"
           }
          ],
          "carpet": [
           {
            "aaxis": {
             "endlinecolor": "rgb(36,36,36)",
             "gridcolor": "white",
             "linecolor": "white",
             "minorgridcolor": "white",
             "startlinecolor": "rgb(36,36,36)"
            },
            "baxis": {
             "endlinecolor": "rgb(36,36,36)",
             "gridcolor": "white",
             "linecolor": "white",
             "minorgridcolor": "white",
             "startlinecolor": "rgb(36,36,36)"
            },
            "type": "carpet"
           }
          ],
          "choropleth": [
           {
            "colorbar": {
             "outlinewidth": 1,
             "tickcolor": "rgb(36,36,36)",
             "ticks": "outside"
            },
            "type": "choropleth"
           }
          ],
          "contour": [
           {
            "colorbar": {
             "outlinewidth": 1,
             "tickcolor": "rgb(36,36,36)",
             "ticks": "outside"
            },
            "colorscale": [
             [
              0,
              "#440154"
             ],
             [
              0.1111111111111111,
              "#482878"
             ],
             [
              0.2222222222222222,
              "#3e4989"
             ],
             [
              0.3333333333333333,
              "#31688e"
             ],
             [
              0.4444444444444444,
              "#26828e"
             ],
             [
              0.5555555555555556,
              "#1f9e89"
             ],
             [
              0.6666666666666666,
              "#35b779"
             ],
             [
              0.7777777777777778,
              "#6ece58"
             ],
             [
              0.8888888888888888,
              "#b5de2b"
             ],
             [
              1,
              "#fde725"
             ]
            ],
            "type": "contour"
           }
          ],
          "contourcarpet": [
           {
            "colorbar": {
             "outlinewidth": 1,
             "tickcolor": "rgb(36,36,36)",
             "ticks": "outside"
            },
            "type": "contourcarpet"
           }
          ],
          "heatmap": [
           {
            "colorbar": {
             "outlinewidth": 1,
             "tickcolor": "rgb(36,36,36)",
             "ticks": "outside"
            },
            "colorscale": [
             [
              0,
              "#440154"
             ],
             [
              0.1111111111111111,
              "#482878"
             ],
             [
              0.2222222222222222,
              "#3e4989"
             ],
             [
              0.3333333333333333,
              "#31688e"
             ],
             [
              0.4444444444444444,
              "#26828e"
             ],
             [
              0.5555555555555556,
              "#1f9e89"
             ],
             [
              0.6666666666666666,
              "#35b779"
             ],
             [
              0.7777777777777778,
              "#6ece58"
             ],
             [
              0.8888888888888888,
              "#b5de2b"
             ],
             [
              1,
              "#fde725"
             ]
            ],
            "type": "heatmap"
           }
          ],
          "heatmapgl": [
           {
            "colorbar": {
             "outlinewidth": 1,
             "tickcolor": "rgb(36,36,36)",
             "ticks": "outside"
            },
            "colorscale": [
             [
              0,
              "#440154"
             ],
             [
              0.1111111111111111,
              "#482878"
             ],
             [
              0.2222222222222222,
              "#3e4989"
             ],
             [
              0.3333333333333333,
              "#31688e"
             ],
             [
              0.4444444444444444,
              "#26828e"
             ],
             [
              0.5555555555555556,
              "#1f9e89"
             ],
             [
              0.6666666666666666,
              "#35b779"
             ],
             [
              0.7777777777777778,
              "#6ece58"
             ],
             [
              0.8888888888888888,
              "#b5de2b"
             ],
             [
              1,
              "#fde725"
             ]
            ],
            "type": "heatmapgl"
           }
          ],
          "histogram": [
           {
            "marker": {
             "line": {
              "color": "white",
              "width": 0.6
             }
            },
            "type": "histogram"
           }
          ],
          "histogram2d": [
           {
            "colorbar": {
             "outlinewidth": 1,
             "tickcolor": "rgb(36,36,36)",
             "ticks": "outside"
            },
            "colorscale": [
             [
              0,
              "#440154"
             ],
             [
              0.1111111111111111,
              "#482878"
             ],
             [
              0.2222222222222222,
              "#3e4989"
             ],
             [
              0.3333333333333333,
              "#31688e"
             ],
             [
              0.4444444444444444,
              "#26828e"
             ],
             [
              0.5555555555555556,
              "#1f9e89"
             ],
             [
              0.6666666666666666,
              "#35b779"
             ],
             [
              0.7777777777777778,
              "#6ece58"
             ],
             [
              0.8888888888888888,
              "#b5de2b"
             ],
             [
              1,
              "#fde725"
             ]
            ],
            "type": "histogram2d"
           }
          ],
          "histogram2dcontour": [
           {
            "colorbar": {
             "outlinewidth": 1,
             "tickcolor": "rgb(36,36,36)",
             "ticks": "outside"
            },
            "colorscale": [
             [
              0,
              "#440154"
             ],
             [
              0.1111111111111111,
              "#482878"
             ],
             [
              0.2222222222222222,
              "#3e4989"
             ],
             [
              0.3333333333333333,
              "#31688e"
             ],
             [
              0.4444444444444444,
              "#26828e"
             ],
             [
              0.5555555555555556,
              "#1f9e89"
             ],
             [
              0.6666666666666666,
              "#35b779"
             ],
             [
              0.7777777777777778,
              "#6ece58"
             ],
             [
              0.8888888888888888,
              "#b5de2b"
             ],
             [
              1,
              "#fde725"
             ]
            ],
            "type": "histogram2dcontour"
           }
          ],
          "mesh3d": [
           {
            "colorbar": {
             "outlinewidth": 1,
             "tickcolor": "rgb(36,36,36)",
             "ticks": "outside"
            },
            "type": "mesh3d"
           }
          ],
          "parcoords": [
           {
            "line": {
             "colorbar": {
              "outlinewidth": 1,
              "tickcolor": "rgb(36,36,36)",
              "ticks": "outside"
             }
            },
            "type": "parcoords"
           }
          ],
          "pie": [
           {
            "automargin": true,
            "type": "pie"
           }
          ],
          "scatter": [
           {
            "fillpattern": {
             "fillmode": "overlay",
             "size": 10,
             "solidity": 0.2
            },
            "type": "scatter"
           }
          ],
          "scatter3d": [
           {
            "line": {
             "colorbar": {
              "outlinewidth": 1,
              "tickcolor": "rgb(36,36,36)",
              "ticks": "outside"
             }
            },
            "marker": {
             "colorbar": {
              "outlinewidth": 1,
              "tickcolor": "rgb(36,36,36)",
              "ticks": "outside"
             }
            },
            "type": "scatter3d"
           }
          ],
          "scattercarpet": [
           {
            "marker": {
             "colorbar": {
              "outlinewidth": 1,
              "tickcolor": "rgb(36,36,36)",
              "ticks": "outside"
             }
            },
            "type": "scattercarpet"
           }
          ],
          "scattergeo": [
           {
            "marker": {
             "colorbar": {
              "outlinewidth": 1,
              "tickcolor": "rgb(36,36,36)",
              "ticks": "outside"
             }
            },
            "type": "scattergeo"
           }
          ],
          "scattergl": [
           {
            "marker": {
             "colorbar": {
              "outlinewidth": 1,
              "tickcolor": "rgb(36,36,36)",
              "ticks": "outside"
             }
            },
            "type": "scattergl"
           }
          ],
          "scattermapbox": [
           {
            "marker": {
             "colorbar": {
              "outlinewidth": 1,
              "tickcolor": "rgb(36,36,36)",
              "ticks": "outside"
             }
            },
            "type": "scattermapbox"
           }
          ],
          "scatterpolar": [
           {
            "marker": {
             "colorbar": {
              "outlinewidth": 1,
              "tickcolor": "rgb(36,36,36)",
              "ticks": "outside"
             }
            },
            "type": "scatterpolar"
           }
          ],
          "scatterpolargl": [
           {
            "marker": {
             "colorbar": {
              "outlinewidth": 1,
              "tickcolor": "rgb(36,36,36)",
              "ticks": "outside"
             }
            },
            "type": "scatterpolargl"
           }
          ],
          "scatterternary": [
           {
            "marker": {
             "colorbar": {
              "outlinewidth": 1,
              "tickcolor": "rgb(36,36,36)",
              "ticks": "outside"
             }
            },
            "type": "scatterternary"
           }
          ],
          "surface": [
           {
            "colorbar": {
             "outlinewidth": 1,
             "tickcolor": "rgb(36,36,36)",
             "ticks": "outside"
            },
            "colorscale": [
             [
              0,
              "#440154"
             ],
             [
              0.1111111111111111,
              "#482878"
             ],
             [
              0.2222222222222222,
              "#3e4989"
             ],
             [
              0.3333333333333333,
              "#31688e"
             ],
             [
              0.4444444444444444,
              "#26828e"
             ],
             [
              0.5555555555555556,
              "#1f9e89"
             ],
             [
              0.6666666666666666,
              "#35b779"
             ],
             [
              0.7777777777777778,
              "#6ece58"
             ],
             [
              0.8888888888888888,
              "#b5de2b"
             ],
             [
              1,
              "#fde725"
             ]
            ],
            "type": "surface"
           }
          ],
          "table": [
           {
            "cells": {
             "fill": {
              "color": "rgb(237,237,237)"
             },
             "line": {
              "color": "white"
             }
            },
            "header": {
             "fill": {
              "color": "rgb(217,217,217)"
             },
             "line": {
              "color": "white"
             }
            },
            "type": "table"
           }
          ]
         },
         "layout": {
          "annotationdefaults": {
           "arrowhead": 0,
           "arrowwidth": 1
          },
          "autotypenumbers": "strict",
          "coloraxis": {
           "colorbar": {
            "outlinewidth": 1,
            "tickcolor": "rgb(36,36,36)",
            "ticks": "outside"
           }
          },
          "colorscale": {
           "diverging": [
            [
             0,
             "rgb(103,0,31)"
            ],
            [
             0.1,
             "rgb(178,24,43)"
            ],
            [
             0.2,
             "rgb(214,96,77)"
            ],
            [
             0.3,
             "rgb(244,165,130)"
            ],
            [
             0.4,
             "rgb(253,219,199)"
            ],
            [
             0.5,
             "rgb(247,247,247)"
            ],
            [
             0.6,
             "rgb(209,229,240)"
            ],
            [
             0.7,
             "rgb(146,197,222)"
            ],
            [
             0.8,
             "rgb(67,147,195)"
            ],
            [
             0.9,
             "rgb(33,102,172)"
            ],
            [
             1,
             "rgb(5,48,97)"
            ]
           ],
           "sequential": [
            [
             0,
             "#440154"
            ],
            [
             0.1111111111111111,
             "#482878"
            ],
            [
             0.2222222222222222,
             "#3e4989"
            ],
            [
             0.3333333333333333,
             "#31688e"
            ],
            [
             0.4444444444444444,
             "#26828e"
            ],
            [
             0.5555555555555556,
             "#1f9e89"
            ],
            [
             0.6666666666666666,
             "#35b779"
            ],
            [
             0.7777777777777778,
             "#6ece58"
            ],
            [
             0.8888888888888888,
             "#b5de2b"
            ],
            [
             1,
             "#fde725"
            ]
           ],
           "sequentialminus": [
            [
             0,
             "#440154"
            ],
            [
             0.1111111111111111,
             "#482878"
            ],
            [
             0.2222222222222222,
             "#3e4989"
            ],
            [
             0.3333333333333333,
             "#31688e"
            ],
            [
             0.4444444444444444,
             "#26828e"
            ],
            [
             0.5555555555555556,
             "#1f9e89"
            ],
            [
             0.6666666666666666,
             "#35b779"
            ],
            [
             0.7777777777777778,
             "#6ece58"
            ],
            [
             0.8888888888888888,
             "#b5de2b"
            ],
            [
             1,
             "#fde725"
            ]
           ]
          },
          "colorway": [
           "#1F77B4",
           "#FF7F0E",
           "#2CA02C",
           "#D62728",
           "#9467BD",
           "#8C564B",
           "#E377C2",
           "#7F7F7F",
           "#BCBD22",
           "#17BECF"
          ],
          "font": {
           "color": "rgb(36,36,36)"
          },
          "geo": {
           "bgcolor": "white",
           "lakecolor": "white",
           "landcolor": "white",
           "showlakes": true,
           "showland": true,
           "subunitcolor": "white"
          },
          "hoverlabel": {
           "align": "left"
          },
          "hovermode": "closest",
          "mapbox": {
           "style": "light"
          },
          "paper_bgcolor": "white",
          "plot_bgcolor": "white",
          "polar": {
           "angularaxis": {
            "gridcolor": "rgb(232,232,232)",
            "linecolor": "rgb(36,36,36)",
            "showgrid": false,
            "showline": true,
            "ticks": "outside"
           },
           "bgcolor": "white",
           "radialaxis": {
            "gridcolor": "rgb(232,232,232)",
            "linecolor": "rgb(36,36,36)",
            "showgrid": false,
            "showline": true,
            "ticks": "outside"
           }
          },
          "scene": {
           "xaxis": {
            "backgroundcolor": "white",
            "gridcolor": "rgb(232,232,232)",
            "gridwidth": 2,
            "linecolor": "rgb(36,36,36)",
            "showbackground": true,
            "showgrid": false,
            "showline": true,
            "ticks": "outside",
            "zeroline": false,
            "zerolinecolor": "rgb(36,36,36)"
           },
           "yaxis": {
            "backgroundcolor": "white",
            "gridcolor": "rgb(232,232,232)",
            "gridwidth": 2,
            "linecolor": "rgb(36,36,36)",
            "showbackground": true,
            "showgrid": false,
            "showline": true,
            "ticks": "outside",
            "zeroline": false,
            "zerolinecolor": "rgb(36,36,36)"
           },
           "zaxis": {
            "backgroundcolor": "white",
            "gridcolor": "rgb(232,232,232)",
            "gridwidth": 2,
            "linecolor": "rgb(36,36,36)",
            "showbackground": true,
            "showgrid": false,
            "showline": true,
            "ticks": "outside",
            "zeroline": false,
            "zerolinecolor": "rgb(36,36,36)"
           }
          },
          "shapedefaults": {
           "fillcolor": "black",
           "line": {
            "width": 0
           },
           "opacity": 0.3
          },
          "ternary": {
           "aaxis": {
            "gridcolor": "rgb(232,232,232)",
            "linecolor": "rgb(36,36,36)",
            "showgrid": false,
            "showline": true,
            "ticks": "outside"
           },
           "baxis": {
            "gridcolor": "rgb(232,232,232)",
            "linecolor": "rgb(36,36,36)",
            "showgrid": false,
            "showline": true,
            "ticks": "outside"
           },
           "bgcolor": "white",
           "caxis": {
            "gridcolor": "rgb(232,232,232)",
            "linecolor": "rgb(36,36,36)",
            "showgrid": false,
            "showline": true,
            "ticks": "outside"
           }
          },
          "title": {
           "x": 0.05
          },
          "xaxis": {
           "automargin": true,
           "gridcolor": "rgb(232,232,232)",
           "linecolor": "rgb(36,36,36)",
           "showgrid": false,
           "showline": true,
           "ticks": "outside",
           "title": {
            "standoff": 15
           },
           "zeroline": false,
           "zerolinecolor": "rgb(36,36,36)"
          },
          "yaxis": {
           "automargin": true,
           "gridcolor": "rgb(232,232,232)",
           "linecolor": "rgb(36,36,36)",
           "showgrid": false,
           "showline": true,
           "ticks": "outside",
           "title": {
            "standoff": 15
           },
           "zeroline": false,
           "zerolinecolor": "rgb(36,36,36)"
          }
         }
        },
        "width": 1000,
        "xaxis": {
         "anchor": "y",
         "domain": [
          0,
          1
         ],
         "title": {
          "text": "country"
         }
        },
        "yaxis": {
         "anchor": "x",
         "domain": [
          0,
          1
         ],
         "title": {
          "text": "current health expenditure"
         }
        }
       }
      }
     },
     "metadata": {},
     "output_type": "display_data"
    }
   ],
   "source": [
    "import plotly.io as pi\n",
    "fig = px.bar(df_2018.sort_values('current health expenditure',ascending=False).head(30),x='country', y='current health expenditure',\n",
    "        color='Continent',template='simple_white', width=1000, height=700, text='current health expenditure',\n",
    "        labels={'current health expenditure':'current health expenditure'})\n",
    "fig"
   ]
  },
  {
   "cell_type": "code",
   "execution_count": 226,
   "id": "12cd524b",
   "metadata": {},
   "outputs": [
    {
     "data": {
      "text/html": [
       "<div>\n",
       "<style scoped>\n",
       "    .dataframe tbody tr th:only-of-type {\n",
       "        vertical-align: middle;\n",
       "    }\n",
       "\n",
       "    .dataframe tbody tr th {\n",
       "        vertical-align: top;\n",
       "    }\n",
       "\n",
       "    .dataframe thead th {\n",
       "        text-align: right;\n",
       "    }\n",
       "</style>\n",
       "<table border=\"1\" class=\"dataframe\">\n",
       "  <thead>\n",
       "    <tr style=\"text-align: right;\">\n",
       "      <th></th>\n",
       "      <th>Country</th>\n",
       "      <th>Code</th>\n",
       "      <th>Year</th>\n",
       "      <th>avg_years_of_schooling</th>\n",
       "      <th>Both sexes</th>\n",
       "      <th>Male</th>\n",
       "      <th>Female</th>\n",
       "      <th>Continent</th>\n",
       "      <th>suicides_per_100k</th>\n",
       "      <th>gdp</th>\n",
       "    </tr>\n",
       "  </thead>\n",
       "  <tbody>\n",
       "    <tr>\n",
       "      <th>0</th>\n",
       "      <td>Uzbekistan</td>\n",
       "      <td>UZB</td>\n",
       "      <td>2000</td>\n",
       "      <td>9.1</td>\n",
       "      <td>183</td>\n",
       "      <td>230</td>\n",
       "      <td>135</td>\n",
       "      <td>Asia</td>\n",
       "      <td>120.31</td>\n",
       "      <td>632</td>\n",
       "    </tr>\n",
       "    <tr>\n",
       "      <th>1</th>\n",
       "      <td>Brazil</td>\n",
       "      <td>BRA</td>\n",
       "      <td>2000</td>\n",
       "      <td>5.6</td>\n",
       "      <td>184</td>\n",
       "      <td>244</td>\n",
       "      <td>122</td>\n",
       "      <td>South America</td>\n",
       "      <td>68.23</td>\n",
       "      <td>4156</td>\n",
       "    </tr>\n",
       "    <tr>\n",
       "      <th>2</th>\n",
       "      <td>Maldives</td>\n",
       "      <td>MDV</td>\n",
       "      <td>2000</td>\n",
       "      <td>3.0</td>\n",
       "      <td>142</td>\n",
       "      <td>155</td>\n",
       "      <td>129</td>\n",
       "      <td>Asia</td>\n",
       "      <td>0.00</td>\n",
       "      <td>2524</td>\n",
       "    </tr>\n",
       "    <tr>\n",
       "      <th>3</th>\n",
       "      <td>Malta</td>\n",
       "      <td>MLT</td>\n",
       "      <td>2000</td>\n",
       "      <td>8.1</td>\n",
       "      <td>70</td>\n",
       "      <td>88</td>\n",
       "      <td>51</td>\n",
       "      <td>Europe</td>\n",
       "      <td>78.05</td>\n",
       "      <td>11873</td>\n",
       "    </tr>\n",
       "    <tr>\n",
       "      <th>4</th>\n",
       "      <td>Mauritius</td>\n",
       "      <td>MUS</td>\n",
       "      <td>2000</td>\n",
       "      <td>6.2</td>\n",
       "      <td>172</td>\n",
       "      <td>221</td>\n",
       "      <td>121</td>\n",
       "      <td>Africa</td>\n",
       "      <td>140.82</td>\n",
       "      <td>4339</td>\n",
       "    </tr>\n",
       "    <tr>\n",
       "      <th>...</th>\n",
       "      <td>...</td>\n",
       "      <td>...</td>\n",
       "      <td>...</td>\n",
       "      <td>...</td>\n",
       "      <td>...</td>\n",
       "      <td>...</td>\n",
       "      <td>...</td>\n",
       "      <td>...</td>\n",
       "      <td>...</td>\n",
       "      <td>...</td>\n",
       "    </tr>\n",
       "    <tr>\n",
       "      <th>1199</th>\n",
       "      <td>Sweden</td>\n",
       "      <td>SWE</td>\n",
       "      <td>2016</td>\n",
       "      <td>12.4</td>\n",
       "      <td>52</td>\n",
       "      <td>64</td>\n",
       "      <td>40</td>\n",
       "      <td>Europe</td>\n",
       "      <td>138.84</td>\n",
       "      <td>55594</td>\n",
       "    </tr>\n",
       "    <tr>\n",
       "      <th>1200</th>\n",
       "      <td>Austria</td>\n",
       "      <td>AUT</td>\n",
       "      <td>2016</td>\n",
       "      <td>12.1</td>\n",
       "      <td>62</td>\n",
       "      <td>80</td>\n",
       "      <td>44</td>\n",
       "      <td>Europe</td>\n",
       "      <td>183.23</td>\n",
       "      <td>46976</td>\n",
       "    </tr>\n",
       "    <tr>\n",
       "      <th>1201</th>\n",
       "      <td>Iceland</td>\n",
       "      <td>ISL</td>\n",
       "      <td>2016</td>\n",
       "      <td>12.4</td>\n",
       "      <td>55</td>\n",
       "      <td>67</td>\n",
       "      <td>42</td>\n",
       "      <td>Europe</td>\n",
       "      <td>138.07</td>\n",
       "      <td>64708</td>\n",
       "    </tr>\n",
       "    <tr>\n",
       "      <th>1202</th>\n",
       "      <td>Cyprus</td>\n",
       "      <td>CYP</td>\n",
       "      <td>2016</td>\n",
       "      <td>12.1</td>\n",
       "      <td>55</td>\n",
       "      <td>73</td>\n",
       "      <td>37</td>\n",
       "      <td>Asia</td>\n",
       "      <td>47.15</td>\n",
       "      <td>25098</td>\n",
       "    </tr>\n",
       "    <tr>\n",
       "      <th>1203</th>\n",
       "      <td>Lithuania</td>\n",
       "      <td>LTU</td>\n",
       "      <td>2016</td>\n",
       "      <td>13.0</td>\n",
       "      <td>155</td>\n",
       "      <td>231</td>\n",
       "      <td>79</td>\n",
       "      <td>Europe</td>\n",
       "      <td>361.72</td>\n",
       "      <td>15742</td>\n",
       "    </tr>\n",
       "  </tbody>\n",
       "</table>\n",
       "<p>1204 rows × 10 columns</p>\n",
       "</div>"
      ],
      "text/plain": [
       "         Country Code  Year  avg_years_of_schooling  Both sexes  Male  Female  \\\n",
       "0     Uzbekistan  UZB  2000                     9.1         183   230     135   \n",
       "1         Brazil  BRA  2000                     5.6         184   244     122   \n",
       "2       Maldives  MDV  2000                     3.0         142   155     129   \n",
       "3          Malta  MLT  2000                     8.1          70    88      51   \n",
       "4      Mauritius  MUS  2000                     6.2         172   221     121   \n",
       "...          ...  ...   ...                     ...         ...   ...     ...   \n",
       "1199      Sweden  SWE  2016                    12.4          52    64      40   \n",
       "1200     Austria  AUT  2016                    12.1          62    80      44   \n",
       "1201     Iceland  ISL  2016                    12.4          55    67      42   \n",
       "1202      Cyprus  CYP  2016                    12.1          55    73      37   \n",
       "1203   Lithuania  LTU  2016                    13.0         155   231      79   \n",
       "\n",
       "          Continent  suicides_per_100k    gdp  \n",
       "0              Asia             120.31    632  \n",
       "1     South America              68.23   4156  \n",
       "2              Asia               0.00   2524  \n",
       "3            Europe              78.05  11873  \n",
       "4            Africa             140.82   4339  \n",
       "...             ...                ...    ...  \n",
       "1199         Europe             138.84  55594  \n",
       "1200         Europe             183.23  46976  \n",
       "1201         Europe             138.07  64708  \n",
       "1202           Asia              47.15  25098  \n",
       "1203         Europe             361.72  15742  \n",
       "\n",
       "[1204 rows x 10 columns]"
      ]
     },
     "execution_count": 226,
     "metadata": {},
     "output_type": "execute_result"
    }
   ],
   "source": [
    "final_df = pd.read_csv('final_df_2.csv')\n",
    "final_df"
   ]
  },
  {
   "cell_type": "code",
   "execution_count": 227,
   "id": "3a6177df",
   "metadata": {},
   "outputs": [
    {
     "data": {
      "text/html": [
       "<div>\n",
       "<style scoped>\n",
       "    .dataframe tbody tr th:only-of-type {\n",
       "        vertical-align: middle;\n",
       "    }\n",
       "\n",
       "    .dataframe tbody tr th {\n",
       "        vertical-align: top;\n",
       "    }\n",
       "\n",
       "    .dataframe thead th {\n",
       "        text-align: right;\n",
       "    }\n",
       "</style>\n",
       "<table border=\"1\" class=\"dataframe\">\n",
       "  <thead>\n",
       "    <tr style=\"text-align: right;\">\n",
       "      <th></th>\n",
       "      <th>current health expenditure</th>\n",
       "      <th>Country</th>\n",
       "      <th>Code</th>\n",
       "      <th>Year</th>\n",
       "      <th>avg_years_of_schooling</th>\n",
       "      <th>Both sexes</th>\n",
       "      <th>Male</th>\n",
       "      <th>Female</th>\n",
       "      <th>Continent</th>\n",
       "      <th>suicides_per_100k</th>\n",
       "      <th>gdp</th>\n",
       "    </tr>\n",
       "  </thead>\n",
       "  <tbody>\n",
       "    <tr>\n",
       "      <th>0</th>\n",
       "      <td>7.233370</td>\n",
       "      <td>Albania</td>\n",
       "      <td>ALB</td>\n",
       "      <td>2000</td>\n",
       "      <td>8.8</td>\n",
       "      <td>106</td>\n",
       "      <td>133</td>\n",
       "      <td>76</td>\n",
       "      <td>Europe</td>\n",
       "      <td>30.70</td>\n",
       "      <td>1299</td>\n",
       "    </tr>\n",
       "    <tr>\n",
       "      <th>1</th>\n",
       "      <td>7.139524</td>\n",
       "      <td>Albania</td>\n",
       "      <td>ALB</td>\n",
       "      <td>2001</td>\n",
       "      <td>8.7</td>\n",
       "      <td>100</td>\n",
       "      <td>125</td>\n",
       "      <td>73</td>\n",
       "      <td>Europe</td>\n",
       "      <td>50.62</td>\n",
       "      <td>1451</td>\n",
       "    </tr>\n",
       "    <tr>\n",
       "      <th>2</th>\n",
       "      <td>6.909341</td>\n",
       "      <td>Albania</td>\n",
       "      <td>ALB</td>\n",
       "      <td>2002</td>\n",
       "      <td>9.0</td>\n",
       "      <td>102</td>\n",
       "      <td>126</td>\n",
       "      <td>77</td>\n",
       "      <td>Europe</td>\n",
       "      <td>62.51</td>\n",
       "      <td>1573</td>\n",
       "    </tr>\n",
       "    <tr>\n",
       "      <th>3</th>\n",
       "      <td>7.063490</td>\n",
       "      <td>Albania</td>\n",
       "      <td>ALB</td>\n",
       "      <td>2003</td>\n",
       "      <td>9.0</td>\n",
       "      <td>107</td>\n",
       "      <td>129</td>\n",
       "      <td>82</td>\n",
       "      <td>Europe</td>\n",
       "      <td>58.60</td>\n",
       "      <td>2021</td>\n",
       "    </tr>\n",
       "    <tr>\n",
       "      <th>4</th>\n",
       "      <td>6.773372</td>\n",
       "      <td>Albania</td>\n",
       "      <td>ALB</td>\n",
       "      <td>2004</td>\n",
       "      <td>9.1</td>\n",
       "      <td>101</td>\n",
       "      <td>127</td>\n",
       "      <td>74</td>\n",
       "      <td>Europe</td>\n",
       "      <td>65.39</td>\n",
       "      <td>2544</td>\n",
       "    </tr>\n",
       "    <tr>\n",
       "      <th>...</th>\n",
       "      <td>...</td>\n",
       "      <td>...</td>\n",
       "      <td>...</td>\n",
       "      <td>...</td>\n",
       "      <td>...</td>\n",
       "      <td>...</td>\n",
       "      <td>...</td>\n",
       "      <td>...</td>\n",
       "      <td>...</td>\n",
       "      <td>...</td>\n",
       "      <td>...</td>\n",
       "    </tr>\n",
       "    <tr>\n",
       "      <th>1127</th>\n",
       "      <td>5.221669</td>\n",
       "      <td>Uzbekistan</td>\n",
       "      <td>UZB</td>\n",
       "      <td>2010</td>\n",
       "      <td>10.7</td>\n",
       "      <td>145</td>\n",
       "      <td>182</td>\n",
       "      <td>108</td>\n",
       "      <td>Asia</td>\n",
       "      <td>63.23</td>\n",
       "      <td>1533</td>\n",
       "    </tr>\n",
       "    <tr>\n",
       "      <th>1128</th>\n",
       "      <td>5.143769</td>\n",
       "      <td>Uzbekistan</td>\n",
       "      <td>UZB</td>\n",
       "      <td>2011</td>\n",
       "      <td>10.9</td>\n",
       "      <td>144</td>\n",
       "      <td>182</td>\n",
       "      <td>107</td>\n",
       "      <td>Asia</td>\n",
       "      <td>67.14</td>\n",
       "      <td>1767</td>\n",
       "    </tr>\n",
       "    <tr>\n",
       "      <th>1129</th>\n",
       "      <td>5.457236</td>\n",
       "      <td>Uzbekistan</td>\n",
       "      <td>UZB</td>\n",
       "      <td>2012</td>\n",
       "      <td>11.1</td>\n",
       "      <td>145</td>\n",
       "      <td>184</td>\n",
       "      <td>107</td>\n",
       "      <td>Asia</td>\n",
       "      <td>77.53</td>\n",
       "      <td>1964</td>\n",
       "    </tr>\n",
       "    <tr>\n",
       "      <th>1130</th>\n",
       "      <td>5.661737</td>\n",
       "      <td>Uzbekistan</td>\n",
       "      <td>UZB</td>\n",
       "      <td>2013</td>\n",
       "      <td>11.3</td>\n",
       "      <td>141</td>\n",
       "      <td>179</td>\n",
       "      <td>104</td>\n",
       "      <td>Asia</td>\n",
       "      <td>78.86</td>\n",
       "      <td>2150</td>\n",
       "    </tr>\n",
       "    <tr>\n",
       "      <th>1131</th>\n",
       "      <td>4.672927</td>\n",
       "      <td>Uzbekistan</td>\n",
       "      <td>UZB</td>\n",
       "      <td>2014</td>\n",
       "      <td>11.3</td>\n",
       "      <td>139</td>\n",
       "      <td>177</td>\n",
       "      <td>102</td>\n",
       "      <td>Asia</td>\n",
       "      <td>85.12</td>\n",
       "      <td>2309</td>\n",
       "    </tr>\n",
       "  </tbody>\n",
       "</table>\n",
       "<p>1132 rows × 11 columns</p>\n",
       "</div>"
      ],
      "text/plain": [
       "      current health expenditure     Country Code  Year  \\\n",
       "0                       7.233370     Albania  ALB  2000   \n",
       "1                       7.139524     Albania  ALB  2001   \n",
       "2                       6.909341     Albania  ALB  2002   \n",
       "3                       7.063490     Albania  ALB  2003   \n",
       "4                       6.773372     Albania  ALB  2004   \n",
       "...                          ...         ...  ...   ...   \n",
       "1127                    5.221669  Uzbekistan  UZB  2010   \n",
       "1128                    5.143769  Uzbekistan  UZB  2011   \n",
       "1129                    5.457236  Uzbekistan  UZB  2012   \n",
       "1130                    5.661737  Uzbekistan  UZB  2013   \n",
       "1131                    4.672927  Uzbekistan  UZB  2014   \n",
       "\n",
       "      avg_years_of_schooling  Both sexes  Male  Female Continent  \\\n",
       "0                        8.8         106   133      76    Europe   \n",
       "1                        8.7         100   125      73    Europe   \n",
       "2                        9.0         102   126      77    Europe   \n",
       "3                        9.0         107   129      82    Europe   \n",
       "4                        9.1         101   127      74    Europe   \n",
       "...                      ...         ...   ...     ...       ...   \n",
       "1127                    10.7         145   182     108      Asia   \n",
       "1128                    10.9         144   182     107      Asia   \n",
       "1129                    11.1         145   184     107      Asia   \n",
       "1130                    11.3         141   179     104      Asia   \n",
       "1131                    11.3         139   177     102      Asia   \n",
       "\n",
       "      suicides_per_100k   gdp  \n",
       "0                 30.70  1299  \n",
       "1                 50.62  1451  \n",
       "2                 62.51  1573  \n",
       "3                 58.60  2021  \n",
       "4                 65.39  2544  \n",
       "...                 ...   ...  \n",
       "1127              63.23  1533  \n",
       "1128              67.14  1767  \n",
       "1129              77.53  1964  \n",
       "1130              78.86  2150  \n",
       "1131              85.12  2309  \n",
       "\n",
       "[1132 rows x 11 columns]"
      ]
     },
     "execution_count": 227,
     "metadata": {},
     "output_type": "execute_result"
    }
   ],
   "source": [
    "df_comb = pd.merge(df, final_df, left_on=['Country Name','year'], right_on = ['Country','Year'], how='inner')\n",
    "df_comb = df_comb.drop(['Country Name','year','Country Code'], axis=1)\n",
    "df_comb"
   ]
  },
  {
   "cell_type": "code",
   "execution_count": 152,
   "id": "1cac7c78",
   "metadata": {},
   "outputs": [],
   "source": [
    "df_comb = df_comb.sort_values(['Country', 'Year'], ascending = True)"
   ]
  },
  {
   "cell_type": "code",
   "execution_count": 231,
   "id": "dcd574aa",
   "metadata": {},
   "outputs": [
    {
     "data": {
      "application/vnd.plotly.v1+json": {
       "config": {
        "plotlyServerURL": "https://plot.ly"
       },
       "data": [
        {
         "hovertemplate": "<b>%{hovertext}</b><br><br>Continent=Europe<br>Year=2000<br>current health expenditure=%{x}<br>suicides_per_100k=%{y}<br>Both sexes=%{marker.size}<extra></extra>",
         "hovertext": [
          "Albania",
          "Iceland",
          "Greece",
          "Germany",
          "France",
          "Ukraine",
          "Finland",
          "Estonia",
          "Denmark",
          "Croatia",
          "Bulgaria",
          "Belgium",
          "Belarus",
          "Ireland",
          "Spain",
          "Slovenia",
          "Serbia",
          "Sweden",
          "Romania",
          "Portugal",
          "Poland",
          "Norway",
          "Switzerland",
          "Netherlands",
          "Malta",
          "Luxembourg",
          "Lithuania",
          "Latvia",
          "Italy",
          "Austria",
          "Hungary"
         ],
         "ids": [
          "Albania",
          "Iceland",
          "Greece",
          "Germany",
          "France",
          "Ukraine",
          "Finland",
          "Estonia",
          "Denmark",
          "Croatia",
          "Bulgaria",
          "Belgium",
          "Belarus",
          "Ireland",
          "Spain",
          "Slovenia",
          "Serbia",
          "Sweden",
          "Romania",
          "Portugal",
          "Poland",
          "Norway",
          "Switzerland",
          "Netherlands",
          "Malta",
          "Luxembourg",
          "Lithuania",
          "Latvia",
          "Italy",
          "Austria",
          "Hungary"
         ],
         "legendgroup": "Europe",
         "marker": {
          "color": "#1F77B4",
          "size": [
           106,
           76,
           82,
           95,
           99,
           258,
           104,
           216,
           100,
           133,
           163,
           99,
           247,
           93,
           84,
           122,
           141,
           72,
           175,
           110,
           152,
           84,
           78,
           83,
           70,
           90,
           200,
           217,
           75,
           94,
           193
          ],
          "sizemode": "area",
          "sizeref": 0.53,
          "symbol": "circle"
         },
         "mode": "markers",
         "name": "Europe",
         "orientation": "v",
         "showlegend": true,
         "type": "scatter",
         "x": [
          7.2333703,
          8.929286,
          7.24332571,
          9.8881979,
          9.58447742,
          5.30685234,
          7.09253168,
          5.15698433,
          8.10438347,
          7.71451426,
          5.82971001,
          7.9991765,
          5.2760601,
          5.90420008,
          6.79921818,
          7.80406952,
          6.49934578,
          7.32689953,
          4.20876122,
          8.60104179,
          5.28789568,
          7.71215487,
          9.11401939,
          7.70687819,
          6.57308626,
          5.90136147,
          6.19950438,
          5.4399581,
          7.56665564,
          9.20371437,
          6.77804375
         ],
         "xaxis": "x",
         "y": [
          30.7,
          207.99,
          44.86,
          185.55,
          257.23,
          377.19,
          265.65,
          364.64,
          181.07,
          322.75,
          259.22,
          267.8,
          447.3,
          142.36,
          122.21,
          404.12,
          324.16,
          162.5,
          159.19,
          85.88,
          191.01,
          150.32999999999998,
          266.2,
          118.99,
          78.05,
          222.64,
          571.8000000000001,
          453.2,
          99.22,
          289.77,
          464.56
         ],
         "yaxis": "y"
        },
        {
         "hovertemplate": "<b>%{hovertext}</b><br><br>Continent=North America<br>Year=2000<br>current health expenditure=%{x}<br>suicides_per_100k=%{y}<br>Both sexes=%{marker.size}<extra></extra>",
         "hovertext": [
          "Trinidad and Tobago",
          "Guatemala",
          "El Salvador",
          "Cuba",
          "Costa Rica",
          "Canada",
          "Belize",
          "Barbados",
          "Jamaica",
          "Panama",
          "Mexico",
          "Antigua and Barbuda"
         ],
         "ids": [
          "Trinidad and Tobago",
          "Guatemala",
          "El Salvador",
          "Cuba",
          "Costa Rica",
          "Canada",
          "Belize",
          "Barbados",
          "Jamaica",
          "Panama",
          "Mexico",
          "Antigua and Barbuda"
         ],
         "legendgroup": "North America",
         "marker": {
          "color": "#FF7F0E",
          "size": [
           202,
           220,
           218,
           121,
           100,
           81,
           198,
           128,
           173,
           120,
           138,
           157
          ],
          "sizemode": "area",
          "sizeref": 0.53,
          "symbol": "circle"
         },
         "mode": "markers",
         "name": "North America",
         "orientation": "v",
         "showlegend": true,
         "type": "scatter",
         "x": [
          4.23492432,
          5.39686108,
          8.92467785,
          6.58189821,
          6.56498814,
          8.24814415,
          3.99033976,
          5.33187246,
          5.64462566,
          6.9129467,
          4.44912481,
          4.69438457
         ],
         "xaxis": "x",
         "y": [
          198.32,
          27.42,
          110.55,
          272.77,
          88.29,
          139,
          160.8,
          37.13,
          1.16,
          85.58,
          54.89,
          39.97
         ],
         "yaxis": "y"
        },
        {
         "hovertemplate": "<b>%{hovertext}</b><br><br>Continent=Asia<br>Year=2000<br>current health expenditure=%{x}<br>suicides_per_100k=%{y}<br>Both sexes=%{marker.size}<extra></extra>",
         "hovertext": [
          "Georgia",
          "Cyprus",
          "Bahrain",
          "Azerbaijan",
          "Uzbekistan",
          "Israel",
          "Sri Lanka",
          "Singapore",
          "Philippines",
          "Maldives",
          "Thailand",
          "Kuwait",
          "Kazakhstan",
          "Japan",
          "Armenia"
         ],
         "ids": [
          "Georgia",
          "Cyprus",
          "Bahrain",
          "Azerbaijan",
          "Uzbekistan",
          "Israel",
          "Sri Lanka",
          "Singapore",
          "Philippines",
          "Maldives",
          "Thailand",
          "Kuwait",
          "Kazakhstan",
          "Japan",
          "Armenia"
         ],
         "legendgroup": "Asia",
         "marker": {
          "color": "#2CA02C",
          "size": [
           129,
           80,
           101,
           161,
           183,
           80,
           171,
           79,
           213,
           142,
           204,
           94,
           287,
           72,
           143
          ],
          "sizemode": "area",
          "sizeref": 0.53,
          "symbol": "circle"
         },
         "mode": "markers",
         "name": "Asia",
         "orientation": "v",
         "showlegend": true,
         "type": "scatter",
         "x": [
          7.194592,
          5.30800056,
          3.56132603,
          2.94894385,
          5.42173624,
          6.7833848,
          4.24652863,
          3.34336376,
          3.05511928,
          7.73655844,
          3.10125375,
          2.20343947,
          4.16031361,
          7.03456163,
          4.19580364
         ],
         "xaxis": "x",
         "y": [
          46.64,
          8.36,
          32.730000000000004,
          14.41,
          120.31,
          108.56,
          427.29,
          164.34,
          32.21,
          0,
          106.1,
          15.23,
          426.05,
          278.52,
          34.300000000000004
         ],
         "yaxis": "y"
        },
        {
         "hovertemplate": "<b>%{hovertext}</b><br><br>Continent=South America<br>Year=2000<br>current health expenditure=%{x}<br>suicides_per_100k=%{y}<br>Both sexes=%{marker.size}<extra></extra>",
         "hovertext": [
          "Ecuador",
          "Colombia",
          "Uruguay",
          "Chile",
          "Brazil",
          "Paraguay",
          "Argentina"
         ],
         "ids": [
          "Ecuador",
          "Colombia",
          "Uruguay",
          "Chile",
          "Brazil",
          "Paraguay",
          "Argentina"
         ],
         "legendgroup": "South America",
         "marker": {
          "color": "#D62728",
          "size": [
           160,
           171,
           134,
           103,
           184,
           171,
           139
          ],
          "sizemode": "area",
          "sizeref": 0.53,
          "symbol": "circle"
         },
         "mode": "markers",
         "name": "South America",
         "orientation": "v",
         "showlegend": true,
         "type": "scatter",
         "x": [
          3.33109641,
          5.63529348,
          9.21095848,
          7.03517628,
          8.33459282,
          6.01865196,
          8.2200098
         ],
         "xaxis": "x",
         "y": [
          57.17,
          89.78,
          274.27,
          149.18,
          68.23,
          42.78,
          131.39
         ],
         "yaxis": "y"
        },
        {
         "hovertemplate": "<b>%{hovertext}</b><br><br>Continent=Africa<br>Year=2000<br>current health expenditure=%{x}<br>suicides_per_100k=%{y}<br>Both sexes=%{marker.size}<extra></extra>",
         "hovertext": [
          "South Africa",
          "Mauritius"
         ],
         "ids": [
          "South Africa",
          "Mauritius"
         ],
         "legendgroup": "Africa",
         "marker": {
          "color": "#9467BD",
          "size": [
           362,
           172
          ],
          "sizemode": "area",
          "sizeref": 0.53,
          "symbol": "circle"
         },
         "mode": "markers",
         "name": "Africa",
         "orientation": "v",
         "showlegend": true,
         "type": "scatter",
         "x": [
          8.16472149,
          2.89581966
         ],
         "xaxis": "x",
         "y": [
          9.54,
          140.82
         ],
         "yaxis": "y"
        },
        {
         "hovertemplate": "<b>%{hovertext}</b><br><br>Continent=Oceania<br>Year=2000<br>current health expenditure=%{x}<br>suicides_per_100k=%{y}<br>Both sexes=%{marker.size}<extra></extra>",
         "hovertext": [
          "New Zealand",
          "Kiribati",
          "Australia"
         ],
         "ids": [
          "New Zealand",
          "Kiribati",
          "Australia"
         ],
         "legendgroup": "Oceania",
         "marker": {
          "color": "#8C564B",
          "size": [
           86,
           222,
           77
          ],
          "sizemode": "area",
          "sizeref": 0.53,
          "symbol": "circle"
         },
         "mode": "markers",
         "name": "Oceania",
         "orientation": "v",
         "showlegend": true,
         "type": "scatter",
         "x": [
          7.4700222,
          8.64500046,
          7.61383343
         ],
         "xaxis": "x",
         "y": [
          157.54,
          0,
          157.82
         ],
         "yaxis": "y"
        }
       ],
       "frames": [
        {
         "data": [
          {
           "hovertemplate": "<b>%{hovertext}</b><br><br>Continent=Europe<br>Year=2000<br>current health expenditure=%{x}<br>suicides_per_100k=%{y}<br>Both sexes=%{marker.size}<extra></extra>",
           "hovertext": [
            "Albania",
            "Iceland",
            "Greece",
            "Germany",
            "France",
            "Ukraine",
            "Finland",
            "Estonia",
            "Denmark",
            "Croatia",
            "Bulgaria",
            "Belgium",
            "Belarus",
            "Ireland",
            "Spain",
            "Slovenia",
            "Serbia",
            "Sweden",
            "Romania",
            "Portugal",
            "Poland",
            "Norway",
            "Switzerland",
            "Netherlands",
            "Malta",
            "Luxembourg",
            "Lithuania",
            "Latvia",
            "Italy",
            "Austria",
            "Hungary"
           ],
           "ids": [
            "Albania",
            "Iceland",
            "Greece",
            "Germany",
            "France",
            "Ukraine",
            "Finland",
            "Estonia",
            "Denmark",
            "Croatia",
            "Bulgaria",
            "Belgium",
            "Belarus",
            "Ireland",
            "Spain",
            "Slovenia",
            "Serbia",
            "Sweden",
            "Romania",
            "Portugal",
            "Poland",
            "Norway",
            "Switzerland",
            "Netherlands",
            "Malta",
            "Luxembourg",
            "Lithuania",
            "Latvia",
            "Italy",
            "Austria",
            "Hungary"
           ],
           "legendgroup": "Europe",
           "marker": {
            "color": "#1F77B4",
            "size": [
             106,
             76,
             82,
             95,
             99,
             258,
             104,
             216,
             100,
             133,
             163,
             99,
             247,
             93,
             84,
             122,
             141,
             72,
             175,
             110,
             152,
             84,
             78,
             83,
             70,
             90,
             200,
             217,
             75,
             94,
             193
            ],
            "sizemode": "area",
            "sizeref": 0.53,
            "symbol": "circle"
           },
           "mode": "markers",
           "name": "Europe",
           "orientation": "v",
           "showlegend": true,
           "type": "scatter",
           "x": [
            7.2333703,
            8.929286,
            7.24332571,
            9.8881979,
            9.58447742,
            5.30685234,
            7.09253168,
            5.15698433,
            8.10438347,
            7.71451426,
            5.82971001,
            7.9991765,
            5.2760601,
            5.90420008,
            6.79921818,
            7.80406952,
            6.49934578,
            7.32689953,
            4.20876122,
            8.60104179,
            5.28789568,
            7.71215487,
            9.11401939,
            7.70687819,
            6.57308626,
            5.90136147,
            6.19950438,
            5.4399581,
            7.56665564,
            9.20371437,
            6.77804375
           ],
           "xaxis": "x",
           "y": [
            30.7,
            207.99,
            44.86,
            185.55,
            257.23,
            377.19,
            265.65,
            364.64,
            181.07,
            322.75,
            259.22,
            267.8,
            447.3,
            142.36,
            122.21,
            404.12,
            324.16,
            162.5,
            159.19,
            85.88,
            191.01,
            150.32999999999998,
            266.2,
            118.99,
            78.05,
            222.64,
            571.8000000000001,
            453.2,
            99.22,
            289.77,
            464.56
           ],
           "yaxis": "y"
          },
          {
           "hovertemplate": "<b>%{hovertext}</b><br><br>Continent=North America<br>Year=2000<br>current health expenditure=%{x}<br>suicides_per_100k=%{y}<br>Both sexes=%{marker.size}<extra></extra>",
           "hovertext": [
            "Trinidad and Tobago",
            "Guatemala",
            "El Salvador",
            "Cuba",
            "Costa Rica",
            "Canada",
            "Belize",
            "Barbados",
            "Jamaica",
            "Panama",
            "Mexico",
            "Antigua and Barbuda"
           ],
           "ids": [
            "Trinidad and Tobago",
            "Guatemala",
            "El Salvador",
            "Cuba",
            "Costa Rica",
            "Canada",
            "Belize",
            "Barbados",
            "Jamaica",
            "Panama",
            "Mexico",
            "Antigua and Barbuda"
           ],
           "legendgroup": "North America",
           "marker": {
            "color": "#FF7F0E",
            "size": [
             202,
             220,
             218,
             121,
             100,
             81,
             198,
             128,
             173,
             120,
             138,
             157
            ],
            "sizemode": "area",
            "sizeref": 0.53,
            "symbol": "circle"
           },
           "mode": "markers",
           "name": "North America",
           "orientation": "v",
           "showlegend": true,
           "type": "scatter",
           "x": [
            4.23492432,
            5.39686108,
            8.92467785,
            6.58189821,
            6.56498814,
            8.24814415,
            3.99033976,
            5.33187246,
            5.64462566,
            6.9129467,
            4.44912481,
            4.69438457
           ],
           "xaxis": "x",
           "y": [
            198.32,
            27.42,
            110.55,
            272.77,
            88.29,
            139,
            160.8,
            37.13,
            1.16,
            85.58,
            54.89,
            39.97
           ],
           "yaxis": "y"
          },
          {
           "hovertemplate": "<b>%{hovertext}</b><br><br>Continent=Asia<br>Year=2000<br>current health expenditure=%{x}<br>suicides_per_100k=%{y}<br>Both sexes=%{marker.size}<extra></extra>",
           "hovertext": [
            "Georgia",
            "Cyprus",
            "Bahrain",
            "Azerbaijan",
            "Uzbekistan",
            "Israel",
            "Sri Lanka",
            "Singapore",
            "Philippines",
            "Maldives",
            "Thailand",
            "Kuwait",
            "Kazakhstan",
            "Japan",
            "Armenia"
           ],
           "ids": [
            "Georgia",
            "Cyprus",
            "Bahrain",
            "Azerbaijan",
            "Uzbekistan",
            "Israel",
            "Sri Lanka",
            "Singapore",
            "Philippines",
            "Maldives",
            "Thailand",
            "Kuwait",
            "Kazakhstan",
            "Japan",
            "Armenia"
           ],
           "legendgroup": "Asia",
           "marker": {
            "color": "#2CA02C",
            "size": [
             129,
             80,
             101,
             161,
             183,
             80,
             171,
             79,
             213,
             142,
             204,
             94,
             287,
             72,
             143
            ],
            "sizemode": "area",
            "sizeref": 0.53,
            "symbol": "circle"
           },
           "mode": "markers",
           "name": "Asia",
           "orientation": "v",
           "showlegend": true,
           "type": "scatter",
           "x": [
            7.194592,
            5.30800056,
            3.56132603,
            2.94894385,
            5.42173624,
            6.7833848,
            4.24652863,
            3.34336376,
            3.05511928,
            7.73655844,
            3.10125375,
            2.20343947,
            4.16031361,
            7.03456163,
            4.19580364
           ],
           "xaxis": "x",
           "y": [
            46.64,
            8.36,
            32.730000000000004,
            14.41,
            120.31,
            108.56,
            427.29,
            164.34,
            32.21,
            0,
            106.1,
            15.23,
            426.05,
            278.52,
            34.300000000000004
           ],
           "yaxis": "y"
          },
          {
           "hovertemplate": "<b>%{hovertext}</b><br><br>Continent=South America<br>Year=2000<br>current health expenditure=%{x}<br>suicides_per_100k=%{y}<br>Both sexes=%{marker.size}<extra></extra>",
           "hovertext": [
            "Ecuador",
            "Colombia",
            "Uruguay",
            "Chile",
            "Brazil",
            "Paraguay",
            "Argentina"
           ],
           "ids": [
            "Ecuador",
            "Colombia",
            "Uruguay",
            "Chile",
            "Brazil",
            "Paraguay",
            "Argentina"
           ],
           "legendgroup": "South America",
           "marker": {
            "color": "#D62728",
            "size": [
             160,
             171,
             134,
             103,
             184,
             171,
             139
            ],
            "sizemode": "area",
            "sizeref": 0.53,
            "symbol": "circle"
           },
           "mode": "markers",
           "name": "South America",
           "orientation": "v",
           "showlegend": true,
           "type": "scatter",
           "x": [
            3.33109641,
            5.63529348,
            9.21095848,
            7.03517628,
            8.33459282,
            6.01865196,
            8.2200098
           ],
           "xaxis": "x",
           "y": [
            57.17,
            89.78,
            274.27,
            149.18,
            68.23,
            42.78,
            131.39
           ],
           "yaxis": "y"
          },
          {
           "hovertemplate": "<b>%{hovertext}</b><br><br>Continent=Africa<br>Year=2000<br>current health expenditure=%{x}<br>suicides_per_100k=%{y}<br>Both sexes=%{marker.size}<extra></extra>",
           "hovertext": [
            "South Africa",
            "Mauritius"
           ],
           "ids": [
            "South Africa",
            "Mauritius"
           ],
           "legendgroup": "Africa",
           "marker": {
            "color": "#9467BD",
            "size": [
             362,
             172
            ],
            "sizemode": "area",
            "sizeref": 0.53,
            "symbol": "circle"
           },
           "mode": "markers",
           "name": "Africa",
           "orientation": "v",
           "showlegend": true,
           "type": "scatter",
           "x": [
            8.16472149,
            2.89581966
           ],
           "xaxis": "x",
           "y": [
            9.54,
            140.82
           ],
           "yaxis": "y"
          },
          {
           "hovertemplate": "<b>%{hovertext}</b><br><br>Continent=Oceania<br>Year=2000<br>current health expenditure=%{x}<br>suicides_per_100k=%{y}<br>Both sexes=%{marker.size}<extra></extra>",
           "hovertext": [
            "New Zealand",
            "Kiribati",
            "Australia"
           ],
           "ids": [
            "New Zealand",
            "Kiribati",
            "Australia"
           ],
           "legendgroup": "Oceania",
           "marker": {
            "color": "#8C564B",
            "size": [
             86,
             222,
             77
            ],
            "sizemode": "area",
            "sizeref": 0.53,
            "symbol": "circle"
           },
           "mode": "markers",
           "name": "Oceania",
           "orientation": "v",
           "showlegend": true,
           "type": "scatter",
           "x": [
            7.4700222,
            8.64500046,
            7.61383343
           ],
           "xaxis": "x",
           "y": [
            157.54,
            0,
            157.82
           ],
           "yaxis": "y"
          }
         ],
         "name": "2000"
        },
        {
         "data": [
          {
           "hovertemplate": "<b>%{hovertext}</b><br><br>Continent=Europe<br>Year=2001<br>current health expenditure=%{x}<br>suicides_per_100k=%{y}<br>Both sexes=%{marker.size}<extra></extra>",
           "hovertext": [
            "Romania",
            "Belgium",
            "Belarus",
            "Luxembourg",
            "Estonia",
            "Spain",
            "Hungary",
            "Netherlands",
            "Poland",
            "France",
            "Serbia",
            "Germany",
            "Ukraine",
            "Lithuania",
            "Slovenia",
            "Switzerland",
            "Sweden",
            "Greece",
            "Bulgaria",
            "Finland",
            "Latvia",
            "Norway",
            "Portugal",
            "Italy",
            "Austria",
            "Croatia",
            "Albania",
            "Iceland",
            "Ireland",
            "Denmark",
            "Malta"
           ],
           "ids": [
            "Romania",
            "Belgium",
            "Belarus",
            "Luxembourg",
            "Estonia",
            "Spain",
            "Hungary",
            "Netherlands",
            "Poland",
            "France",
            "Serbia",
            "Germany",
            "Ukraine",
            "Lithuania",
            "Slovenia",
            "Switzerland",
            "Sweden",
            "Greece",
            "Bulgaria",
            "Finland",
            "Latvia",
            "Norway",
            "Portugal",
            "Italy",
            "Austria",
            "Croatia",
            "Albania",
            "Iceland",
            "Ireland",
            "Denmark",
            "Malta"
           ],
           "legendgroup": "Europe",
           "marker": {
            "color": "#1F77B4",
            "size": [
             179,
             98,
             255,
             90,
             224,
             83,
             185,
             82,
             147,
             99,
             134,
             92,
             254,
             214,
             123,
             75,
             72,
             81,
             159,
             99,
             229,
             81,
             109,
             73,
             90,
             129,
             100,
             73,
             88,
             100,
             69
            ],
            "sizemode": "area",
            "sizeref": 0.53,
            "symbol": "circle"
           },
           "mode": "markers",
           "name": "Europe",
           "orientation": "v",
           "showlegend": true,
           "type": "scatter",
           "x": [
            4.37598133,
            8.14988804,
            5.70827103,
            6.410923,
            4.77708292,
            6.76895761,
            6.82614756,
            8.05946636,
            5.66721439,
            9.70562744,
            6.86061621,
            9.92046165,
            5.72534418,
            6.01339579,
            7.87602425,
            9.43919373,
            7.90032959,
            7.9878397,
            6.85958767,
            7.25090408,
            5.7776227,
            8.02202415,
            8.62751484,
            7.73760843,
            9.26942921,
            7.2349987,
            7.13952398,
            8.78546429,
            6.39664602,
            8.44832611,
            6.99985981
           ],
           "xaxis": "x",
           "y": [
            149.11,
            261.22,
            419.65,
            239.82,
            371.68,
            112.4,
            408.98,
            116.3,
            180.65,
            239.94,
            297,
            185.78,
            348.14,
            568.98,
            423.4,
            261.69,
            167.49,
            38.81,
            244.62,
            267.19,
            383.49,
            154.29,
            115.73,
            95.87,
            261.91,
            287.54,
            50.620000000000005,
            163.06,
            148.97,
            186.17,
            85.28999999999999
           ],
           "yaxis": "y"
          },
          {
           "hovertemplate": "<b>%{hovertext}</b><br><br>Continent=North America<br>Year=2001<br>current health expenditure=%{x}<br>suicides_per_100k=%{y}<br>Both sexes=%{marker.size}<extra></extra>",
           "hovertext": [
            "Antigua and Barbuda",
            "Guatemala",
            "Canada",
            "El Salvador",
            "Belize",
            "Barbados",
            "Cuba",
            "Costa Rica",
            "Jamaica",
            "Mexico",
            "Trinidad and Tobago",
            "Panama"
           ],
           "ids": [
            "Antigua and Barbuda",
            "Guatemala",
            "Canada",
            "El Salvador",
            "Belize",
            "Barbados",
            "Cuba",
            "Costa Rica",
            "Jamaica",
            "Mexico",
            "Trinidad and Tobago",
            "Panama"
           ],
           "legendgroup": "North America",
           "marker": {
            "color": "#FF7F0E",
            "size": [
             154,
             214,
             79,
             222,
             203,
             127,
             119,
             101,
             175,
             135,
             204,
             120
            ],
            "sizemode": "area",
            "sizeref": 0.53,
            "symbol": "circle"
           },
           "mode": "markers",
           "name": "North America",
           "orientation": "v",
           "showlegend": true,
           "type": "scatter",
           "x": [
            5.43587589,
            6.07015848,
            8.62482357,
            8.82467365,
            4.63241482,
            5.52529192,
            6.98209763,
            6.47410393,
            5.15652943,
            4.8203578,
            4.0346489,
            6.8341074
           ],
           "xaxis": "x",
           "y": [
            19.45,
            30.59,
            137.43,
            129.71,
            151.7,
            8.65,
            244.51,
            76.03,
            2.8,
            63.3,
            205.33,
            86.77
           ],
           "yaxis": "y"
          },
          {
           "hovertemplate": "<b>%{hovertext}</b><br><br>Continent=Asia<br>Year=2001<br>current health expenditure=%{x}<br>suicides_per_100k=%{y}<br>Both sexes=%{marker.size}<extra></extra>",
           "hovertext": [
            "Kuwait",
            "Sri Lanka",
            "Armenia",
            "Philippines",
            "Singapore",
            "Kazakhstan",
            "Israel",
            "Maldives",
            "Azerbaijan",
            "Japan",
            "Uzbekistan",
            "Bahrain",
            "Georgia",
            "Qatar"
           ],
           "ids": [
            "Kuwait",
            "Sri Lanka",
            "Armenia",
            "Philippines",
            "Singapore",
            "Kazakhstan",
            "Israel",
            "Maldives",
            "Azerbaijan",
            "Japan",
            "Uzbekistan",
            "Bahrain",
            "Georgia",
            "Qatar"
           ],
           "legendgroup": "Asia",
           "marker": {
            "color": "#2CA02C",
            "size": [
             92,
             158,
             143,
             215,
             77,
             283,
             79,
             135,
             149,
             70,
             177,
             98,
             125,
             73
            ],
            "sizemode": "area",
            "sizeref": 0.53,
            "symbol": "circle"
           },
           "mode": "markers",
           "name": "Asia",
           "orientation": "v",
           "showlegend": true,
           "type": "scatter",
           "x": [
            3.18838811,
            4.19323874,
            4.64562702,
            2.84775901,
            3.16302657,
            3.47096992,
            7.20983076,
            8.21364975,
            2.75590682,
            7.23947954,
            5.54972124,
            3.68104196,
            7.16950893,
            2.3197093
           ],
           "xaxis": "x",
           "y": [
            9.13,
            358.06,
            29.78,
            27.08,
            167.8,
            422.49,
            108.23,
            110.49,
            60.05,
            267.16,
            115.92,
            30.66,
            35.19,
            27.3
           ],
           "yaxis": "y"
          },
          {
           "hovertemplate": "<b>%{hovertext}</b><br><br>Continent=South America<br>Year=2001<br>current health expenditure=%{x}<br>suicides_per_100k=%{y}<br>Both sexes=%{marker.size}<extra></extra>",
           "hovertext": [
            "Guyana",
            "Chile",
            "Brazil",
            "Argentina",
            "Colombia",
            "Paraguay",
            "Uruguay",
            "Ecuador"
           ],
           "ids": [
            "Guyana",
            "Chile",
            "Brazil",
            "Argentina",
            "Colombia",
            "Paraguay",
            "Uruguay",
            "Ecuador"
           ],
           "legendgroup": "South America",
           "marker": {
            "color": "#D62728",
            "size": [
             273,
             106,
             180,
             138,
             170,
             169,
             127,
             154
            ],
            "sizemode": "area",
            "sizeref": 0.53,
            "symbol": "circle"
           },
           "mode": "markers",
           "name": "South America",
           "orientation": "v",
           "showlegend": true,
           "type": "scatter",
           "x": [
            3.05506778,
            7.15104103,
            8.54960632,
            8.37179756,
            5.94238234,
            5.60815763,
            9.79864407,
            3.75336552
           ],
           "xaxis": "x",
           "y": [
            380.76,
            147.58,
            73.49,
            143.56,
            88.27,
            56.52,
            236.12,
            67.24
           ],
           "yaxis": "y"
          },
          {
           "hovertemplate": "<b>%{hovertext}</b><br><br>Continent=Africa<br>Year=2001<br>current health expenditure=%{x}<br>suicides_per_100k=%{y}<br>Both sexes=%{marker.size}<extra></extra>",
           "hovertext": [
            "South Africa",
            "Seychelles",
            "Mauritius"
           ],
           "ids": [
            "South Africa",
            "Seychelles",
            "Mauritius"
           ],
           "legendgroup": "Africa",
           "marker": {
            "color": "#9467BD",
            "size": [
             387,
             187,
             172
            ],
            "sizemode": "area",
            "sizeref": 0.53,
            "symbol": "circle"
           },
           "mode": "markers",
           "name": "Africa",
           "orientation": "v",
           "showlegend": true,
           "type": "scatter",
           "x": [
            7.93901682,
            5.39628124,
            2.96084642
           ],
           "xaxis": "x",
           "y": [
            12.43,
            87.57,
            121.84
           ],
           "yaxis": "y"
          },
          {
           "hovertemplate": "<b>%{hovertext}</b><br><br>Continent=Oceania<br>Year=2001<br>current health expenditure=%{x}<br>suicides_per_100k=%{y}<br>Both sexes=%{marker.size}<extra></extra>",
           "hovertext": [
            "Fiji",
            "Kiribati",
            "Australia",
            "New Zealand"
           ],
           "ids": [
            "Fiji",
            "Kiribati",
            "Australia",
            "New Zealand"
           ],
           "legendgroup": "Oceania",
           "marker": {
            "color": "#8C564B",
            "size": [
             221,
             219,
             74,
             83
            ],
            "sizemode": "area",
            "sizeref": 0.53,
            "symbol": "circle"
           },
           "mode": "markers",
           "name": "Oceania",
           "orientation": "v",
           "showlegend": true,
           "type": "scatter",
           "x": [
            2.90547323,
            12.32934475,
            7.69622898,
            7.5789361
           ],
           "xaxis": "x",
           "y": [
            54.95,
            0,
            158.79,
            179.9
           ],
           "yaxis": "y"
          }
         ],
         "name": "2001"
        },
        {
         "data": [
          {
           "hovertemplate": "<b>%{hovertext}</b><br><br>Continent=Europe<br>Year=2002<br>current health expenditure=%{x}<br>suicides_per_100k=%{y}<br>Both sexes=%{marker.size}<extra></extra>",
           "hovertext": [
            "Slovenia",
            "France",
            "Croatia",
            "Finland",
            "Ukraine",
            "Denmark",
            "Bulgaria",
            "Luxembourg",
            "Estonia",
            "Malta",
            "Netherlands",
            "Switzerland",
            "Albania",
            "Sweden",
            "Norway",
            "Belarus",
            "Spain",
            "Lithuania",
            "Hungary",
            "Iceland",
            "Belgium",
            "Ireland",
            "Italy",
            "Greece",
            "Portugal",
            "Latvia",
            "Germany",
            "Austria",
            "Serbia",
            "Poland",
            "Romania"
           ],
           "ids": [
            "Slovenia",
            "France",
            "Croatia",
            "Finland",
            "Ukraine",
            "Denmark",
            "Bulgaria",
            "Luxembourg",
            "Estonia",
            "Malta",
            "Netherlands",
            "Switzerland",
            "Albania",
            "Sweden",
            "Norway",
            "Belarus",
            "Spain",
            "Lithuania",
            "Hungary",
            "Iceland",
            "Belgium",
            "Ireland",
            "Italy",
            "Greece",
            "Portugal",
            "Latvia",
            "Germany",
            "Austria",
            "Serbia",
            "Poland",
            "Romania"
           ],
           "legendgroup": "Europe",
           "marker": {
            "color": "#1F77B4",
            "size": [
             117,
             98,
             124,
             97,
             257,
             101,
             156,
             87,
             210,
             68,
             81,
             73,
             102,
             70,
             80,
             264,
             82,
             207,
             184,
             66,
             97,
             86,
             71,
             79,
             107,
             221,
             91,
             87,
             131,
             143,
             178
            ],
            "sizemode": "area",
            "sizeref": 0.53,
            "symbol": "circle"
           },
           "mode": "markers",
           "name": "Europe",
           "orientation": "v",
           "showlegend": true,
           "type": "scatter",
           "x": [
            8.02119923,
            10.02218628,
            6.20509815,
            7.62769508,
            5.99220037,
            8.70251179,
            7.0809865,
            6.73847198,
            4.70043564,
            7.70661688,
            8.64911556,
            9.85215092,
            6.90934134,
            8.21006203,
            9.00061893,
            5.62329483,
            6.80052805,
            6.14446115,
            7.12101698,
            9.46551323,
            8.3182106,
            6.67468452,
            7.86693525,
            8.23378086,
            8.78642941,
            5.77001858,
            10.18365669,
            9.3947649,
            8.0600071,
            6.0672431,
            4.57694626
           ],
           "xaxis": "x",
           "y": [
            354.3,
            238.64,
            304.12,
            255.52,
            344.05,
            176.51,
            247.35,
            264.14,
            358.3,
            55.28,
            119.73,
            273.7,
            62.51,
            162.71,
            141,
            411,
            115.64,
            555.62,
            382.75,
            131.24,
            247.86,
            135.82,
            94.61,
            38.35,
            171.82999999999998,
            367.76,
            183.96,
            276.92,
            295.91,
            183.27,
            173.6
           ],
           "yaxis": "y"
          },
          {
           "hovertemplate": "<b>%{hovertext}</b><br><br>Continent=North America<br>Year=2002<br>current health expenditure=%{x}<br>suicides_per_100k=%{y}<br>Both sexes=%{marker.size}<extra></extra>",
           "hovertext": [
            "Costa Rica",
            "El Salvador",
            "Canada",
            "Cuba",
            "Mexico",
            "Guatemala",
            "Panama",
            "Barbados",
            "Trinidad and Tobago",
            "Jamaica",
            "Belize",
            "Grenada",
            "Antigua and Barbuda"
           ],
           "ids": [
            "Costa Rica",
            "El Salvador",
            "Canada",
            "Cuba",
            "Mexico",
            "Guatemala",
            "Panama",
            "Barbados",
            "Trinidad and Tobago",
            "Jamaica",
            "Belize",
            "Grenada",
            "Antigua and Barbuda"
           ],
           "legendgroup": "North America",
           "marker": {
            "color": "#FF7F0E",
            "size": [
             100,
             213,
             78,
             112,
             136,
             206,
             120,
             126,
             195,
             171,
             200,
             175,
             149
            ],
            "sizemode": "area",
            "sizeref": 0.53,
            "symbol": "circle"
           },
           "mode": "markers",
           "name": "North America",
           "orientation": "v",
           "showlegend": true,
           "type": "scatter",
           "x": [
            6.8690896,
            8.77833939,
            8.85670376,
            7.11481667,
            5.0716424,
            6.01308298,
            6.96316957,
            5.86123419,
            4.72302485,
            4.74544334,
            4.71499634,
            6.1756978,
            5.28793621
           ],
           "xaxis": "x",
           "y": [
            95.62,
            113.19,
            137.73,
            240.42,
            58.36,
            40.53,
            78.94,
            0,
            159.01,
            0.7,
            69.62,
            0,
            0
           ],
           "yaxis": "y"
          },
          {
           "hovertemplate": "<b>%{hovertext}</b><br><br>Continent=Asia<br>Year=2002<br>current health expenditure=%{x}<br>suicides_per_100k=%{y}<br>Both sexes=%{marker.size}<extra></extra>",
           "hovertext": [
            "Philippines",
            "Thailand",
            "Armenia",
            "Singapore",
            "Maldives",
            "Sri Lanka",
            "Israel",
            "Azerbaijan",
            "Kuwait",
            "Kazakhstan",
            "Bahrain",
            "Japan",
            "Uzbekistan"
           ],
           "ids": [
            "Philippines",
            "Thailand",
            "Armenia",
            "Singapore",
            "Maldives",
            "Sri Lanka",
            "Israel",
            "Azerbaijan",
            "Kuwait",
            "Kazakhstan",
            "Bahrain",
            "Japan",
            "Uzbekistan"
           ],
           "legendgroup": "Asia",
           "marker": {
            "color": "#2CA02C",
            "size": [
             216,
             197,
             137,
             76,
             128,
             150,
             81,
             144,
             91,
             276,
             99,
             68,
             176
            ],
            "sizemode": "area",
            "sizeref": 0.53,
            "symbol": "circle"
           },
           "mode": "markers",
           "name": "Asia",
           "orientation": "v",
           "showlegend": true,
           "type": "scatter",
           "x": [
            2.63767314,
            3.334723,
            7.61359835,
            3.358464,
            8.78440094,
            4.1731143,
            7.13073444,
            2.73279428,
            3.12468719,
            3.61480069,
            3.85486555,
            7.35235357,
            5.44828367
           ],
           "xaxis": "x",
           "y": [
            28.54,
            103.12,
            38.07,
            172.39,
            9.84,
            339.41,
            93.49,
            19.42,
            14.56,
            405.89,
            27.68,
            265.84,
            95.28
           ],
           "yaxis": "y"
          },
          {
           "hovertemplate": "<b>%{hovertext}</b><br><br>Continent=South America<br>Year=2002<br>current health expenditure=%{x}<br>suicides_per_100k=%{y}<br>Both sexes=%{marker.size}<extra></extra>",
           "hovertext": [
            "Uruguay",
            "Chile",
            "Paraguay",
            "Ecuador",
            "Colombia",
            "Guyana",
            "Argentina",
            "Brazil"
           ],
           "ids": [
            "Uruguay",
            "Chile",
            "Paraguay",
            "Ecuador",
            "Colombia",
            "Guyana",
            "Argentina",
            "Brazil"
           ],
           "legendgroup": "South America",
           "marker": {
            "color": "#D62728",
            "size": [
             129,
             100,
             167,
             153,
             169,
             280,
             137,
             176
            ],
            "sizemode": "area",
            "sizeref": 0.53,
            "symbol": "circle"
           },
           "mode": "markers",
           "name": "South America",
           "orientation": "v",
           "showlegend": true,
           "type": "scatter",
           "x": [
            9.68134212,
            7.26602364,
            4.75770569,
            4.4733963,
            5.73295689,
            3.19353795,
            7.3933115,
            8.69685745
           ],
           "xaxis": "x",
           "y": [
            331.69,
            149.28,
            43.45,
            61.42,
            81.38,
            311.93,
            139.42000000000002,
            69.77
           ],
           "yaxis": "y"
          },
          {
           "hovertemplate": "<b>%{hovertext}</b><br><br>Continent=Africa<br>Year=2002<br>current health expenditure=%{x}<br>suicides_per_100k=%{y}<br>Both sexes=%{marker.size}<extra></extra>",
           "hovertext": [
            "Mauritius",
            "South Africa",
            "Seychelles"
           ],
           "ids": [
            "Mauritius",
            "South Africa",
            "Seychelles"
           ],
           "legendgroup": "Africa",
           "marker": {
            "color": "#9467BD",
            "size": [
             173,
             412,
             185
            ],
            "sizemode": "area",
            "sizeref": 0.53,
            "symbol": "circle"
           },
           "mode": "markers",
           "name": "Africa",
           "orientation": "v",
           "showlegend": true,
           "type": "scatter",
           "x": [
            3.23190355,
            7.46446323,
            4.56042624
           ],
           "xaxis": "x",
           "y": [
            131.9,
            6.98,
            154.12
           ],
           "yaxis": "y"
          },
          {
           "hovertemplate": "<b>%{hovertext}</b><br><br>Continent=Oceania<br>Year=2002<br>current health expenditure=%{x}<br>suicides_per_100k=%{y}<br>Both sexes=%{marker.size}<extra></extra>",
           "hovertext": [
            "Fiji",
            "Australia",
            "New Zealand"
           ],
           "ids": [
            "Fiji",
            "Australia",
            "New Zealand"
           ],
           "legendgroup": "Oceania",
           "marker": {
            "color": "#8C564B",
            "size": [
             220,
             72,
             82
            ],
            "sizemode": "area",
            "sizeref": 0.53,
            "symbol": "circle"
           },
           "mode": "markers",
           "name": "Oceania",
           "orientation": "v",
           "showlegend": true,
           "type": "scatter",
           "x": [
            2.983495,
            7.89332151,
            7.90045929
           ],
           "xaxis": "x",
           "y": [
            110.54,
            144.68,
            152.03
           ],
           "yaxis": "y"
          }
         ],
         "name": "2002"
        },
        {
         "data": [
          {
           "hovertemplate": "<b>%{hovertext}</b><br><br>Continent=Europe<br>Year=2003<br>current health expenditure=%{x}<br>suicides_per_100k=%{y}<br>Both sexes=%{marker.size}<extra></extra>",
           "hovertext": [
            "Malta",
            "Ireland",
            "Italy",
            "Croatia",
            "Portugal",
            "Lithuania",
            "Serbia",
            "France",
            "Germany",
            "Greece",
            "Finland",
            "Latvia",
            "Romania",
            "Poland",
            "Sweden",
            "Ukraine",
            "Luxembourg",
            "Estonia",
            "Hungary",
            "Iceland",
            "Denmark",
            "Switzerland",
            "Spain",
            "Belgium",
            "Belarus",
            "Norway",
            "Slovenia",
            "Netherlands",
            "Austria",
            "Bulgaria",
            "Albania"
           ],
           "ids": [
            "Malta",
            "Ireland",
            "Italy",
            "Croatia",
            "Portugal",
            "Lithuania",
            "Serbia",
            "France",
            "Germany",
            "Greece",
            "Finland",
            "Latvia",
            "Romania",
            "Poland",
            "Sweden",
            "Ukraine",
            "Luxembourg",
            "Estonia",
            "Hungary",
            "Iceland",
            "Denmark",
            "Switzerland",
            "Spain",
            "Belgium",
            "Belarus",
            "Norway",
            "Slovenia",
            "Netherlands",
            "Austria",
            "Bulgaria",
            "Albania"
           ],
           "legendgroup": "Europe",
           "marker": {
            "color": "#1F77B4",
            "size": [
             66,
             80,
             70,
             121,
             104,
             207,
             131,
             97,
             89,
             80,
             97,
             212,
             174,
             140,
             68,
             258,
             85,
             197,
             184,
             63,
             98,
             71,
             82,
             94,
             254,
             77,
             119,
             80,
             86,
             154,
             107
            ],
            "sizemode": "area",
            "sizeref": 0.53,
            "symbol": "circle"
           },
           "mode": "markers",
           "name": "Europe",
           "orientation": "v",
           "showlegend": true,
           "type": "scatter",
           "x": [
            7.89556122,
            7.0096755,
            7.83297729,
            6.35763264,
            9.12415695,
            6.18627787,
            8.1294651,
            10.08283329,
            10.40202236,
            8.44915676,
            7.93805122,
            5.48984146,
            5.37136745,
            5.95371294,
            8.31724644,
            6.54574108,
            6.97271538,
            4.85959911,
            8.11923409,
            9.72930241,
            8.9036293,
            10.10937595,
            7.56392097,
            9.20823288,
            5.76984167,
            9.21471977,
            8.09883595,
            9.0565691,
            9.5472393,
            7.19987392,
            7.06348991
           ],
           "xaxis": "x",
           "y": [
            74.94,
            134.77,
            94.42,
            281.69,
            166.46,
            530.52,
            271.27,
            241.31,
            181.24,
            40.67,
            243.45,
            361.63,
            159.71,
            180.15,
            153.41,
            337.07,
            164.37,
            338.24,
            372.04,
            100.97,
            156.7,
            242.66,
            116.49,
            248.73,
            444.86,
            138.07999999999998,
            376.56,
            113.33,
            257.06,
            207.65,
            58.6
           ],
           "yaxis": "y"
          },
          {
           "hovertemplate": "<b>%{hovertext}</b><br><br>Continent=North America<br>Year=2003<br>current health expenditure=%{x}<br>suicides_per_100k=%{y}<br>Both sexes=%{marker.size}<extra></extra>",
           "hovertext": [
            "Jamaica",
            "Cuba",
            "Grenada",
            "Guatemala",
            "Trinidad and Tobago",
            "El Salvador",
            "Mexico",
            "Antigua and Barbuda",
            "Belize",
            "Barbados",
            "Panama",
            "Canada",
            "Costa Rica"
           ],
           "ids": [
            "Jamaica",
            "Cuba",
            "Grenada",
            "Guatemala",
            "Trinidad and Tobago",
            "El Salvador",
            "Mexico",
            "Antigua and Barbuda",
            "Belize",
            "Barbados",
            "Panama",
            "Canada",
            "Costa Rica"
           ],
           "legendgroup": "North America",
           "marker": {
            "color": "#FF7F0E",
            "size": [
             170,
             112,
             175,
             209,
             199,
             211,
             136,
             151,
             199,
             123,
             120,
             77,
             101
            ],
            "sizemode": "area",
            "sizeref": 0.53,
            "symbol": "circle"
           },
           "mode": "markers",
           "name": "North America",
           "orientation": "v",
           "showlegend": true,
           "type": "scatter",
           "x": [
            4.22014093,
            7.10295439,
            5.28485727,
            6.15313578,
            4.18767166,
            8.4062252,
            5.81486464,
            5.58626556,
            4.62012959,
            6.68377304,
            6.61838865,
            9.01090145,
            6.9691925
           ],
           "xaxis": "x",
           "y": [
            0.91,
            221.12,
            69.18,
            37.34,
            158.25,
            128.92,
            63,
            27.82,
            59,
            0,
            97.24,
            137.27,
            115.88
           ],
           "yaxis": "y"
          },
          {
           "hovertemplate": "<b>%{hovertext}</b><br><br>Continent=Asia<br>Year=2003<br>current health expenditure=%{x}<br>suicides_per_100k=%{y}<br>Both sexes=%{marker.size}<extra></extra>",
           "hovertext": [
            "Japan",
            "Singapore",
            "Israel",
            "Kazakhstan",
            "Thailand",
            "Philippines",
            "Kuwait",
            "Armenia",
            "Maldives",
            "Azerbaijan",
            "Bahrain",
            "Uzbekistan",
            "Sri Lanka"
           ],
           "ids": [
            "Japan",
            "Singapore",
            "Israel",
            "Kazakhstan",
            "Thailand",
            "Philippines",
            "Kuwait",
            "Armenia",
            "Maldives",
            "Azerbaijan",
            "Bahrain",
            "Uzbekistan",
            "Sri Lanka"
           ],
           "legendgroup": "Asia",
           "marker": {
            "color": "#2CA02C",
            "size": [
             68,
             73,
             76,
             283,
             194,
             212,
             90,
             137,
             114,
             151,
             92,
             173,
             147
            ],
            "sizemode": "area",
            "sizeref": 0.53,
            "symbol": "circle"
           },
           "mode": "markers",
           "name": "Asia",
           "orientation": "v",
           "showlegend": true,
           "type": "scatter",
           "x": [
            7.48654842,
            3.60699248,
            7.06917286,
            3.72334647,
            3.24312782,
            3.0766356,
            2.76216865,
            7.17937517,
            6.77857542,
            2.73471093,
            3.98856878,
            5.49766588,
            3.76927328
           ],
           "xaxis": "x",
           "y": [
            279.41,
            172.74,
            97.17,
            411.71,
            91.16,
            33.41,
            16.44,
            33.43,
            15.52,
            27.07,
            32.39,
            82.06,
            352.75
           ],
           "yaxis": "y"
          },
          {
           "hovertemplate": "<b>%{hovertext}</b><br><br>Continent=South America<br>Year=2003<br>current health expenditure=%{x}<br>suicides_per_100k=%{y}<br>Both sexes=%{marker.size}<extra></extra>",
           "hovertext": [
            "Argentina",
            "Paraguay",
            "Guyana",
            "Ecuador",
            "Brazil",
            "Chile",
            "Colombia",
            "Uruguay"
           ],
           "ids": [
            "Argentina",
            "Paraguay",
            "Guyana",
            "Ecuador",
            "Brazil",
            "Chile",
            "Colombia",
            "Uruguay"
           ],
           "legendgroup": "South America",
           "marker": {
            "color": "#D62728",
            "size": [
             134,
             166,
             277,
             146,
             172,
             100,
             155,
             125
            ],
            "sizemode": "area",
            "sizeref": 0.53,
            "symbol": "circle"
           },
           "mode": "markers",
           "name": "South America",
           "orientation": "v",
           "showlegend": true,
           "type": "scatter",
           "x": [
            6.89451599,
            4.90703869,
            3.26884198,
            5.44066668,
            8.18899918,
            7.33330393,
            5.77505875,
            9.61753464
           ],
           "xaxis": "x",
           "y": [
            146.29,
            51.35,
            382.54,
            70.56,
            68.07,
            153.54,
            79.85,
            259.25
           ],
           "yaxis": "y"
          },
          {
           "hovertemplate": "<b>%{hovertext}</b><br><br>Continent=Africa<br>Year=2003<br>current health expenditure=%{x}<br>suicides_per_100k=%{y}<br>Both sexes=%{marker.size}<extra></extra>",
           "hovertext": [
            "Mauritius",
            "Seychelles",
            "South Africa"
           ],
           "ids": [
            "Mauritius",
            "Seychelles",
            "South Africa"
           ],
           "legendgroup": "Africa",
           "marker": {
            "color": "#9467BD",
            "size": [
             168,
             185,
             437
            ],
            "sizemode": "area",
            "sizeref": 0.53,
            "symbol": "circle"
           },
           "mode": "markers",
           "name": "Africa",
           "orientation": "v",
           "showlegend": true,
           "type": "scatter",
           "x": [
            3.22486687,
            5.35933495,
            7.91530371
           ],
           "xaxis": "x",
           "y": [
            94.02,
            100,
            9.24
           ],
           "yaxis": "y"
          },
          {
           "hovertemplate": "<b>%{hovertext}</b><br><br>Continent=Oceania<br>Year=2003<br>current health expenditure=%{x}<br>suicides_per_100k=%{y}<br>Both sexes=%{marker.size}<extra></extra>",
           "hovertext": [
            "Fiji",
            "New Zealand",
            "Australia"
           ],
           "ids": [
            "Fiji",
            "New Zealand",
            "Australia"
           ],
           "legendgroup": "Oceania",
           "marker": {
            "color": "#8C564B",
            "size": [
             220,
             81,
             69
            ],
            "sizemode": "area",
            "sizeref": 0.53,
            "symbol": "circle"
           },
           "mode": "markers",
           "name": "Oceania",
           "orientation": "v",
           "showlegend": true,
           "type": "scatter",
           "x": [
            2.97298193,
            7.72169209,
            7.90449524
           ],
           "xaxis": "x",
           "y": [
            16.12,
            172.35,
            133.84
           ],
           "yaxis": "y"
          }
         ],
         "name": "2003"
        },
        {
         "data": [
          {
           "hovertemplate": "<b>%{hovertext}</b><br><br>Continent=Europe<br>Year=2004<br>current health expenditure=%{x}<br>suicides_per_100k=%{y}<br>Both sexes=%{marker.size}<extra></extra>",
           "hovertext": [
            "Belgium",
            "Finland",
            "Sweden",
            "France",
            "Romania",
            "Serbia",
            "Germany",
            "Luxembourg",
            "Netherlands",
            "Lithuania",
            "Latvia",
            "Greece",
            "Ukraine",
            "Bulgaria",
            "Switzerland",
            "Estonia",
            "Ireland",
            "Slovenia",
            "Norway",
            "Italy",
            "Croatia",
            "Austria",
            "Albania",
            "Iceland",
            "Malta",
            "Spain",
            "Denmark",
            "Poland",
            "Hungary"
           ],
           "ids": [
            "Belgium",
            "Finland",
            "Sweden",
            "France",
            "Romania",
            "Serbia",
            "Germany",
            "Luxembourg",
            "Netherlands",
            "Lithuania",
            "Latvia",
            "Greece",
            "Ukraine",
            "Bulgaria",
            "Switzerland",
            "Estonia",
            "Ireland",
            "Slovenia",
            "Norway",
            "Italy",
            "Croatia",
            "Austria",
            "Albania",
            "Iceland",
            "Malta",
            "Spain",
            "Denmark",
            "Poland",
            "Hungary"
           ],
           "legendgroup": "Europe",
           "marker": {
            "color": "#1F77B4",
            "size": [
             89,
             101,
             70,
             92,
             166,
             129,
             85,
             79,
             76,
             209,
             209,
             80,
             269,
             154,
             68,
             193,
             79,
             113,
             76,
             66,
             113,
             84,
             101,
             61,
             64,
             79,
             95,
             142,
             180
            ],
            "sizemode": "area",
            "sizeref": 0.53,
            "symbol": "circle"
           },
           "mode": "markers",
           "name": "Europe",
           "orientation": "v",
           "showlegend": true,
           "type": "scatter",
           "x": [
            9.36721516,
            8.05912876,
            8.12961864,
            10.16429329,
            5.47733545,
            8.24021435,
            10.14603138,
            7.34548569,
            9.11067963,
            5.5114994,
            6.21677923,
            8.09390354,
            6.16856956,
            6.89090872,
            10.1849556,
            5.119555,
            7.22300482,
            7.93957281,
            8.82115746,
            8.16549301,
            6.57048893,
            9.70939827,
            6.77337217,
            9.32854366,
            8.04820728,
            7.65912247,
            9.00743198,
            5.86845255,
            7.77005482
           ],
           "xaxis": "x",
           "y": [
            231.06,
            243.95,
            157.41,
            232.51,
            151.19,
            262.51,
            172.23,
            189.54,
            111.16,
            503.37,
            328.38,
            40.92,
            307.05,
            184.12,
            242.27,
            299.46,
            129.42000000000002,
            298.48,
            141.37,
            91.33,
            302.24,
            254.04,
            65.39,
            168.81,
            85.82000000000001,
            112.63,
            161.78,
            187.74,
            369.47
           ],
           "yaxis": "y"
          },
          {
           "hovertemplate": "<b>%{hovertext}</b><br><br>Continent=North America<br>Year=2004<br>current health expenditure=%{x}<br>suicides_per_100k=%{y}<br>Both sexes=%{marker.size}<extra></extra>",
           "hovertext": [
            "Grenada",
            "Guatemala",
            "Jamaica",
            "Canada",
            "Belize",
            "El Salvador",
            "Panama",
            "Cuba",
            "Mexico",
            "Costa Rica",
            "Antigua and Barbuda",
            "Barbados",
            "Trinidad and Tobago"
           ],
           "ids": [
            "Grenada",
            "Guatemala",
            "Jamaica",
            "Canada",
            "Belize",
            "El Salvador",
            "Panama",
            "Cuba",
            "Mexico",
            "Costa Rica",
            "Antigua and Barbuda",
            "Barbados",
            "Trinidad and Tobago"
           ],
           "legendgroup": "North America",
           "marker": {
            "color": "#FF7F0E",
            "size": [
             186,
             206,
             168,
             76,
             195,
             209,
             117,
             109,
             132,
             102,
             153,
             116,
             196
            ],
            "sizemode": "area",
            "sizeref": 0.53,
            "symbol": "circle"
           },
           "mode": "markers",
           "name": "North America",
           "orientation": "v",
           "showlegend": true,
           "type": "scatter",
           "x": [
            5.36568451,
            6.26182795,
            4.80435324,
            9.06628132,
            4.48231363,
            8.49746799,
            6.99114799,
            6.83178759,
            5.9539032,
            6.63005924,
            5.11667967,
            7.31510305,
            4.30805206
           ],
           "xaxis": "x",
           "y": [
            13.37,
            29.93,
            0.74,
            131.66,
            117.38,
            111.56,
            81.76,
            216.12,
            60.75,
            100.72,
            36.06,
            7.79,
            188.28
           ],
           "yaxis": "y"
          },
          {
           "hovertemplate": "<b>%{hovertext}</b><br><br>Continent=Asia<br>Year=2004<br>current health expenditure=%{x}<br>suicides_per_100k=%{y}<br>Both sexes=%{marker.size}<extra></extra>",
           "hovertext": [
            "Uzbekistan",
            "Maldives",
            "Kuwait",
            "Thailand",
            "Georgia",
            "Qatar",
            "Cyprus",
            "Kazakhstan",
            "Azerbaijan",
            "Israel",
            "Japan",
            "Bahrain",
            "Singapore"
           ],
           "ids": [
            "Uzbekistan",
            "Maldives",
            "Kuwait",
            "Thailand",
            "Georgia",
            "Qatar",
            "Cyprus",
            "Kazakhstan",
            "Azerbaijan",
            "Israel",
            "Japan",
            "Bahrain",
            "Singapore"
           ],
           "legendgroup": "Asia",
           "marker": {
            "color": "#2CA02C",
            "size": [
             174,
             118,
             89,
             194,
             148,
             69,
             74,
             289,
             151,
             73,
             67,
             94,
             73
            ],
            "sizemode": "area",
            "sizeref": 0.53,
            "symbol": "circle"
           },
           "mode": "markers",
           "name": "Asia",
           "orientation": "v",
           "showlegend": true,
           "type": "scatter",
           "x": [
            5.12983561,
            7.48356962,
            2.35702443,
            3.13893151,
            8.08910847,
            3.18311739,
            5.40558147,
            3.98308039,
            2.66530418,
            7.01328945,
            7.53518438,
            3.47338176,
            3.15019822
           ],
           "xaxis": "x",
           "y": [
            68.03999999999999,
            3.74,
            17.26,
            86.06,
            66.54,
            15.25,
            9.17,
            413.86,
            18.33,
            98.44,
            266.25,
            54.21,
            167.48
           ],
           "yaxis": "y"
          },
          {
           "hovertemplate": "<b>%{hovertext}</b><br><br>Continent=South America<br>Year=2004<br>current health expenditure=%{x}<br>suicides_per_100k=%{y}<br>Both sexes=%{marker.size}<extra></extra>",
           "hovertext": [
            "Chile",
            "Suriname",
            "Ecuador",
            "Uruguay",
            "Guyana",
            "Brazil",
            "Paraguay",
            "Argentina",
            "Colombia"
           ],
           "ids": [
            "Chile",
            "Suriname",
            "Ecuador",
            "Uruguay",
            "Guyana",
            "Brazil",
            "Paraguay",
            "Argentina",
            "Colombia"
           ],
           "legendgroup": "South America",
           "marker": {
            "color": "#D62728",
            "size": [
             98,
             216,
             145,
             125,
             270,
             169,
             165,
             128,
             152
            ],
            "sizemode": "area",
            "sizeref": 0.53,
            "symbol": "circle"
           },
           "mode": "markers",
           "name": "South America",
           "orientation": "v",
           "showlegend": true,
           "type": "scatter",
           "x": [
            6.90115023,
            5.84803867,
            5.56659126,
            8.30145359,
            3.43770432,
            8.12491989,
            4.93224382,
            7.22868299,
            5.79892778
           ],
           "xaxis": "x",
           "y": [
            155.69,
            202.1,
            84.39,
            258.49,
            400,
            70.22,
            65.44,
            131.06,
            84.25
           ],
           "yaxis": "y"
          },
          {
           "hovertemplate": "<b>%{hovertext}</b><br><br>Continent=Africa<br>Year=2004<br>current health expenditure=%{x}<br>suicides_per_100k=%{y}<br>Both sexes=%{marker.size}<extra></extra>",
           "hovertext": [
            "Seychelles",
            "South Africa",
            "Mauritius"
           ],
           "ids": [
            "Seychelles",
            "South Africa",
            "Mauritius"
           ],
           "legendgroup": "Africa",
           "marker": {
            "color": "#9467BD",
            "size": [
             186,
             459,
             164
            ],
            "sizemode": "area",
            "sizeref": 0.53,
            "symbol": "circle"
           },
           "mode": "markers",
           "name": "Africa",
           "orientation": "v",
           "showlegend": true,
           "type": "scatter",
           "x": [
            5.1972785,
            7.76453447,
            3.36119127
           ],
           "xaxis": "x",
           "y": [
            63.27,
            12.63,
            100.99
           ],
           "yaxis": "y"
          },
          {
           "hovertemplate": "<b>%{hovertext}</b><br><br>Continent=Oceania<br>Year=2004<br>current health expenditure=%{x}<br>suicides_per_100k=%{y}<br>Both sexes=%{marker.size}<extra></extra>",
           "hovertext": [
            "New Zealand",
            "Fiji",
            "Australia"
           ],
           "ids": [
            "New Zealand",
            "Fiji",
            "Australia"
           ],
           "legendgroup": "Oceania",
           "marker": {
            "color": "#8C564B",
            "size": [
             79,
             218,
             67
            ],
            "sizemode": "area",
            "sizeref": 0.53,
            "symbol": "circle"
           },
           "mode": "markers",
           "name": "Oceania",
           "orientation": "v",
           "showlegend": true,
           "type": "scatter",
           "x": [
            7.90090561,
            3.25768542,
            8.10948753
           ],
           "xaxis": "x",
           "y": [
            163.41,
            90.49,
            133.76
           ],
           "yaxis": "y"
          }
         ],
         "name": "2004"
        },
        {
         "data": [
          {
           "hovertemplate": "<b>%{hovertext}</b><br><br>Continent=Europe<br>Year=2005<br>current health expenditure=%{x}<br>suicides_per_100k=%{y}<br>Both sexes=%{marker.size}<extra></extra>",
           "hovertext": [
            "Norway",
            "Serbia",
            "Italy",
            "Lithuania",
            "Austria",
            "France",
            "Hungary",
            "Poland",
            "Spain",
            "Iceland",
            "Romania",
            "Greece",
            "Latvia",
            "Belgium",
            "Ireland",
            "Germany",
            "Sweden",
            "Albania",
            "Luxembourg",
            "Estonia",
            "Switzerland",
            "Ukraine",
            "Netherlands",
            "Slovenia",
            "Finland",
            "Malta",
            "Denmark",
            "Bulgaria",
            "Croatia"
           ],
           "ids": [
            "Norway",
            "Serbia",
            "Italy",
            "Lithuania",
            "Austria",
            "France",
            "Hungary",
            "Poland",
            "Spain",
            "Iceland",
            "Romania",
            "Greece",
            "Latvia",
            "Belgium",
            "Ireland",
            "Germany",
            "Sweden",
            "Albania",
            "Luxembourg",
            "Estonia",
            "Switzerland",
            "Ukraine",
            "Netherlands",
            "Slovenia",
            "Finland",
            "Malta",
            "Denmark",
            "Bulgaria",
            "Croatia"
           ],
           "legendgroup": "Europe",
           "marker": {
            "color": "#1F77B4",
            "size": [
             72,
             128,
             65,
             228,
             84,
             92,
             182,
             144,
             76,
             61,
             162,
             79,
             220,
             88,
             75,
             84,
             66,
             106,
             81,
             187,
             66,
             280,
             72,
             104,
             100,
             63,
             89,
             156,
             116
            ],
            "sizemode": "area",
            "sizeref": 0.53,
            "symbol": "circle"
           },
           "mode": "markers",
           "name": "Europe",
           "orientation": "v",
           "showlegend": true,
           "type": "scatter",
           "x": [
            8.32839584,
            8.27808189,
            8.33931828,
            5.64800453,
            9.62702942,
            10.2148447,
            8.00078201,
            5.80689144,
            7.73195314,
            8.94695091,
            5.52778149,
            8.56466961,
            5.84766769,
            9.26114464,
            7.64583445,
            10.3115406,
            8.1508379,
            6.33554173,
            7.18256855,
            5.05801439,
            10.004179,
            6.3461585,
            9.09671688,
            7.99595737,
            8.28795624,
            8.66396618,
            9.0905695,
            6.89011431,
            6.90785742
           ],
           "xaxis": "x",
           "y": [
            142.09,
            286.32,
            82.59,
            485.79,
            235.25,
            232.09,
            352.01,
            186.04,
            107.66,
            115,
            146.01,
            46.53,
            312.06,
            231.75,
            121.11,
            161.49,
            164.62,
            0,
            159.07,
            256.43,
            246.19,
            297.18,
            113.28,
            337.41,
            230.52,
            67.94,
            164.23,
            178.06,
            269.57
           ],
           "yaxis": "y"
          },
          {
           "hovertemplate": "<b>%{hovertext}</b><br><br>Continent=North America<br>Year=2005<br>current health expenditure=%{x}<br>suicides_per_100k=%{y}<br>Both sexes=%{marker.size}<extra></extra>",
           "hovertext": [
            "Guatemala",
            "Panama",
            "Barbados",
            "Grenada",
            "Belize",
            "Antigua and Barbuda",
            "Trinidad and Tobago",
            "Jamaica",
            "Canada",
            "Cuba",
            "El Salvador",
            "Costa Rica",
            "Mexico"
           ],
           "ids": [
            "Guatemala",
            "Panama",
            "Barbados",
            "Grenada",
            "Belize",
            "Antigua and Barbuda",
            "Trinidad and Tobago",
            "Jamaica",
            "Canada",
            "Cuba",
            "El Salvador",
            "Costa Rica",
            "Mexico"
           ],
           "legendgroup": "North America",
           "marker": {
            "color": "#FF7F0E",
            "size": [
             211,
             116,
             114,
             171,
             190,
             156,
             195,
             164,
             76,
             110,
             206,
             96,
             134
            ],
            "sizemode": "area",
            "sizeref": 0.53,
            "symbol": "circle"
           },
           "mode": "markers",
           "name": "North America",
           "orientation": "v",
           "showlegend": true,
           "type": "scatter",
           "x": [
            6.14832115,
            6.09434938,
            6.76892185,
            5.14460278,
            4.49777079,
            4.9945569,
            4.43451166,
            4.54581738,
            9.03540611,
            8.75525475,
            8.43694401,
            6.66429853,
            5.83612156
           ],
           "xaxis": "x",
           "y": [
            32.61,
            77.81,
            2.58,
            160.82,
            46.1,
            0,
            144.14,
            26.17,
            133.84,
            205.94,
            115.73,
            78.73,
            62.22
           ],
           "yaxis": "y"
          },
          {
           "hovertemplate": "<b>%{hovertext}</b><br><br>Continent=Asia<br>Year=2005<br>current health expenditure=%{x}<br>suicides_per_100k=%{y}<br>Both sexes=%{marker.size}<extra></extra>",
           "hovertext": [
            "Kuwait",
            "Georgia",
            "Japan",
            "Qatar",
            "Kazakhstan",
            "Bahrain",
            "Israel",
            "Thailand",
            "Maldives",
            "Singapore",
            "United Arab Emirates",
            "Uzbekistan",
            "Cyprus"
           ],
           "ids": [
            "Kuwait",
            "Georgia",
            "Japan",
            "Qatar",
            "Kazakhstan",
            "Bahrain",
            "Israel",
            "Thailand",
            "Maldives",
            "Singapore",
            "United Arab Emirates",
            "Uzbekistan",
            "Cyprus"
           ],
           "legendgroup": "Asia",
           "marker": {
            "color": "#2CA02C",
            "size": [
             88,
             144,
             68,
             67,
             297,
             83,
             72,
             183,
             93,
             74,
             91,
             183,
             75
            ],
            "sizemode": "area",
            "sizeref": 0.53,
            "symbol": "circle"
           },
           "mode": "markers",
           "name": "Asia",
           "orientation": "v",
           "showlegend": true,
           "type": "scatter",
           "x": [
            2.01313829,
            8.07734108,
            7.65818596,
            2.56300044,
            3.90172553,
            3.17561626,
            7.11729813,
            3.15972233,
            8.82753468,
            3.03367925,
            2.32019687,
            5.06766796,
            5.43580961
           ],
           "xaxis": "x",
           "y": [
            18.18,
            28.36,
            266.89,
            18.8,
            357.8,
            40.22,
            102.91,
            77.99,
            2.75,
            180.33,
            16.05,
            67.81,
            24.74
           ],
           "yaxis": "y"
          },
          {
           "hovertemplate": "<b>%{hovertext}</b><br><br>Continent=South America<br>Year=2005<br>current health expenditure=%{x}<br>suicides_per_100k=%{y}<br>Both sexes=%{marker.size}<extra></extra>",
           "hovertext": [
            "Suriname",
            "Brazil",
            "Argentina",
            "Uruguay",
            "Guyana",
            "Ecuador",
            "Paraguay",
            "Chile",
            "Colombia"
           ],
           "ids": [
            "Suriname",
            "Brazil",
            "Argentina",
            "Uruguay",
            "Guyana",
            "Ecuador",
            "Paraguay",
            "Chile",
            "Colombia"
           ],
           "legendgroup": "South America",
           "marker": {
            "color": "#D62728",
            "size": [
             207,
             162,
             125,
             125,
             267,
             149,
             164,
             95,
             144
            ],
            "sizemode": "area",
            "sizeref": 0.53,
            "symbol": "circle"
           },
           "mode": "markers",
           "name": "South America",
           "orientation": "v",
           "showlegend": true,
           "type": "scatter",
           "x": [
            5.61497545,
            8.03540993,
            7.61078882,
            7.75686073,
            3.79409742,
            5.59422016,
            4.82934666,
            6.58871555,
            6.06709814
           ],
           "xaxis": "x",
           "y": [
            211.17,
            73.6,
            128.18,
            241.31,
            333.96,
            96.73,
            62.81,
            147.43,
            74.84
           ],
           "yaxis": "y"
          },
          {
           "hovertemplate": "<b>%{hovertext}</b><br><br>Continent=Africa<br>Year=2005<br>current health expenditure=%{x}<br>suicides_per_100k=%{y}<br>Both sexes=%{marker.size}<extra></extra>",
           "hovertext": [
            "South Africa",
            "Seychelles",
            "Mauritius"
           ],
           "ids": [
            "South Africa",
            "Seychelles",
            "Mauritius"
           ],
           "legendgroup": "Africa",
           "marker": {
            "color": "#9467BD",
            "size": [
             474,
             185,
             164
            ],
            "sizemode": "area",
            "sizeref": 0.53,
            "symbol": "circle"
           },
           "mode": "markers",
           "name": "Africa",
           "orientation": "v",
           "showlegend": true,
           "type": "scatter",
           "x": [
            7.68997431,
            4.97854805,
            3.56529307
           ],
           "xaxis": "x",
           "y": [
            15.29,
            71.5,
            102.51
           ],
           "yaxis": "y"
          },
          {
           "hovertemplate": "<b>%{hovertext}</b><br><br>Continent=Oceania<br>Year=2005<br>current health expenditure=%{x}<br>suicides_per_100k=%{y}<br>Both sexes=%{marker.size}<extra></extra>",
           "hovertext": [
            "New Zealand",
            "Fiji"
           ],
           "ids": [
            "New Zealand",
            "Fiji"
           ],
           "legendgroup": "Oceania",
           "marker": {
            "color": "#8C564B",
            "size": [
             77,
             214
            ],
            "sizemode": "area",
            "sizeref": 0.53,
            "symbol": "circle"
           },
           "mode": "markers",
           "name": "Oceania",
           "orientation": "v",
           "showlegend": true,
           "type": "scatter",
           "x": [
            8.27334881,
            3.25656676
           ],
           "xaxis": "x",
           "y": [
            157.93,
            52.83
           ],
           "yaxis": "y"
          }
         ],
         "name": "2005"
        },
        {
         "data": [
          {
           "hovertemplate": "<b>%{hovertext}</b><br><br>Continent=Europe<br>Year=2006<br>current health expenditure=%{x}<br>suicides_per_100k=%{y}<br>Both sexes=%{marker.size}<extra></extra>",
           "hovertext": [
            "Ireland",
            "Malta",
            "Ukraine",
            "Belgium",
            "Denmark",
            "Hungary",
            "Slovenia",
            "Switzerland",
            "Iceland",
            "Spain",
            "Romania",
            "Germany",
            "Poland",
            "Albania",
            "Italy",
            "Bulgaria",
            "Serbia",
            "Austria",
            "Lithuania",
            "Croatia",
            "Sweden",
            "France",
            "Finland",
            "Netherlands",
            "Norway",
            "Estonia",
            "Greece",
            "Luxembourg",
            "Latvia"
           ],
           "ids": [
            "Ireland",
            "Malta",
            "Ukraine",
            "Belgium",
            "Denmark",
            "Hungary",
            "Slovenia",
            "Switzerland",
            "Iceland",
            "Spain",
            "Romania",
            "Germany",
            "Poland",
            "Albania",
            "Italy",
            "Bulgaria",
            "Serbia",
            "Austria",
            "Lithuania",
            "Croatia",
            "Sweden",
            "France",
            "Finland",
            "Netherlands",
            "Norway",
            "Estonia",
            "Greece",
            "Luxembourg",
            "Latvia"
           ],
           "legendgroup": "Europe",
           "marker": {
            "color": "#1F77B4",
            "size": [
             75,
             63,
             268,
             85,
             91,
             178,
             107,
             64,
             62,
             73,
             158,
             83,
             145,
             101,
             64,
             157,
             126,
             80,
             235,
             114,
             64,
             90,
             95,
             70,
             69,
             186,
             76,
             78,
             232
            ],
            "sizemode": "area",
            "sizeref": 0.53,
            "symbol": "circle"
           },
           "mode": "markers",
           "name": "Europe",
           "orientation": "v",
           "showlegend": true,
           "type": "scatter",
           "x": [
            7.51655483,
            8.80992031,
            6.41695166,
            9.16102505,
            9.16879559,
            7.78737354,
            7.82322741,
            9.53341675,
            8.55709076,
            7.82912683,
            5.07106066,
            10.17961693,
            5.80280542,
            6.00927734,
            8.43673038,
            6.52544594,
            8.48804665,
            9.5311327,
            5.84418154,
            6.97907209,
            8.05226517,
            10.38566494,
            8.2841177,
            9.08058071,
            7.91272211,
            4.76530361,
            8.25866985,
            6.70838261,
            5.71834707
           ],
           "xaxis": "x",
           "y": [
            126.46,
            87.21000000000001,
            282.79,
            214.9,
            162.07999999999998,
            312.66,
            347.87,
            241.63,
            106.39,
            99.87,
            149.09,
            152.52,
            182.85,
            0,
            81.61,
            186.53,
            286.07,
            218.9,
            400.57,
            248.22,
            160.76,
            220.63,
            233.8,
            113.19,
            142.67,
            242.63,
            45.41,
            183.79,
            288.9
           ],
           "yaxis": "y"
          },
          {
           "hovertemplate": "<b>%{hovertext}</b><br><br>Continent=North America<br>Year=2006<br>current health expenditure=%{x}<br>suicides_per_100k=%{y}<br>Both sexes=%{marker.size}<extra></extra>",
           "hovertext": [
            "Guatemala",
            "Cuba",
            "Grenada",
            "Barbados",
            "Mexico",
            "Trinidad and Tobago",
            "Panama",
            "El Salvador",
            "Canada",
            "Jamaica",
            "Costa Rica",
            "Belize",
            "Antigua and Barbuda"
           ],
           "ids": [
            "Guatemala",
            "Cuba",
            "Grenada",
            "Barbados",
            "Mexico",
            "Trinidad and Tobago",
            "Panama",
            "El Salvador",
            "Canada",
            "Jamaica",
            "Costa Rica",
            "Belize",
            "Antigua and Barbuda"
           ],
           "legendgroup": "North America",
           "marker": {
            "color": "#FF7F0E",
            "size": [
             205,
             103,
             167,
             113,
             131,
             189,
             119,
             203,
             74,
             154,
             104,
             185,
             155
            ],
            "sizemode": "area",
            "sizeref": 0.53,
            "symbol": "circle"
           },
           "mode": "markers",
           "name": "North America",
           "orientation": "v",
           "showlegend": true,
           "type": "scatter",
           "x": [
            6.36372948,
            8.2719059,
            5.11352158,
            6.58324289,
            5.65525532,
            4.15432024,
            6.45193529,
            7.92342138,
            9.34210205,
            4.20788145,
            6.93530893,
            4.56418276,
            4.63347101
           ],
           "xaxis": "x",
           "y": [
            41.95,
            202.55,
            9.89,
            45.38,
            59.22,
            133.89,
            91.63,
            99.57,
            126.43,
            0,
            100.83,
            37.92,
            0
           ],
           "yaxis": "y"
          },
          {
           "hovertemplate": "<b>%{hovertext}</b><br><br>Continent=Asia<br>Year=2006<br>current health expenditure=%{x}<br>suicides_per_100k=%{y}<br>Both sexes=%{marker.size}<extra></extra>",
           "hovertext": [
            "Cyprus",
            "Qatar",
            "Kuwait",
            "Kazakhstan",
            "Singapore",
            "Philippines",
            "Bahrain",
            "Thailand",
            "Armenia",
            "Georgia",
            "Sri Lanka",
            "Japan",
            "Israel",
            "United Arab Emirates"
           ],
           "ids": [
            "Cyprus",
            "Qatar",
            "Kuwait",
            "Kazakhstan",
            "Singapore",
            "Philippines",
            "Bahrain",
            "Thailand",
            "Armenia",
            "Georgia",
            "Sri Lanka",
            "Japan",
            "Israel",
            "United Arab Emirates"
           ],
           "legendgroup": "Asia",
           "marker": {
            "color": "#2CA02C",
            "size": [
             64,
             66,
             87,
             299,
             71,
             215,
             89,
             174,
             145,
             145,
             145,
             67,
             69,
             88
            ],
            "sizemode": "area",
            "sizeref": 0.53,
            "symbol": "circle"
           },
           "mode": "markers",
           "name": "Asia",
           "orientation": "v",
           "showlegend": true,
           "type": "scatter",
           "x": [
            5.46357489,
            2.28806424,
            1.82130992,
            3.39824939,
            2.9347465,
            3.77762771,
            3.06248927,
            3.09970856,
            5.85007095,
            7.63208055,
            3.97986174,
            7.68688822,
            6.9061389,
            2.3254137
           ],
           "xaxis": "x",
           "y": [
            27.64,
            87.30000000000001,
            15.83,
            374.73,
            148.75,
            36.66,
            27.18,
            69.04,
            43.67,
            23.51,
            328.73,
            262.24,
            80.52,
            16.55
           ],
           "yaxis": "y"
          },
          {
           "hovertemplate": "<b>%{hovertext}</b><br><br>Continent=South America<br>Year=2006<br>current health expenditure=%{x}<br>suicides_per_100k=%{y}<br>Both sexes=%{marker.size}<extra></extra>",
           "hovertext": [
            "Chile",
            "Colombia",
            "Guyana",
            "Paraguay",
            "Ecuador",
            "Uruguay",
            "Brazil",
            "Argentina",
            "Suriname"
           ],
           "ids": [
            "Chile",
            "Colombia",
            "Guyana",
            "Paraguay",
            "Ecuador",
            "Uruguay",
            "Brazil",
            "Argentina",
            "Suriname"
           ],
           "legendgroup": "South America",
           "marker": {
            "color": "#D62728",
            "size": [
             93,
             146,
             267,
             161,
             144,
             118,
             160,
             124,
             203
            ],
            "sizemode": "area",
            "sizeref": 0.53,
            "symbol": "circle"
           },
           "mode": "markers",
           "name": "South America",
           "orientation": "v",
           "showlegend": true,
           "type": "scatter",
           "x": [
            6.03516722,
            6.33551502,
            3.93144441,
            5.01927567,
            5.70302916,
            7.74287415,
            8.24952602,
            7.64032841,
            6.27044153
           ],
           "xaxis": "x",
           "y": [
            155.06,
            78.41,
            394.6,
            65.57000000000001,
            93.07,
            248.11,
            69.89999999999999,
            128.22,
            298.26
           ],
           "yaxis": "y"
          },
          {
           "hovertemplate": "<b>%{hovertext}</b><br><br>Continent=Africa<br>Year=2006<br>current health expenditure=%{x}<br>suicides_per_100k=%{y}<br>Both sexes=%{marker.size}<extra></extra>",
           "hovertext": [
            "South Africa",
            "Mauritius",
            "Seychelles"
           ],
           "ids": [
            "South Africa",
            "Mauritius",
            "Seychelles"
           ],
           "legendgroup": "Africa",
           "marker": {
            "color": "#9467BD",
            "size": [
             477,
             162,
             185
            ],
            "sizemode": "area",
            "sizeref": 0.53,
            "symbol": "circle"
           },
           "mode": "markers",
           "name": "Africa",
           "orientation": "v",
           "showlegend": true,
           "type": "scatter",
           "x": [
            7.6922164,
            3.65428853,
            4.67937088
           ],
           "xaxis": "x",
           "y": [
            17.92,
            163.68,
            275.75
           ],
           "yaxis": "y"
          },
          {
           "hovertemplate": "<b>%{hovertext}</b><br><br>Continent=Oceania<br>Year=2006<br>current health expenditure=%{x}<br>suicides_per_100k=%{y}<br>Both sexes=%{marker.size}<extra></extra>",
           "hovertext": [
            "Australia",
            "New Zealand",
            "Fiji"
           ],
           "ids": [
            "Australia",
            "New Zealand",
            "Fiji"
           ],
           "legendgroup": "Oceania",
           "marker": {
            "color": "#8C564B",
            "size": [
             65,
             75,
             212
            ],
            "sizemode": "area",
            "sizeref": 0.53,
            "symbol": "circle"
           },
           "mode": "markers",
           "name": "Oceania",
           "orientation": "v",
           "showlegend": true,
           "type": "scatter",
           "x": [
            7.98943853,
            8.63841629,
            3.34798169
           ],
           "xaxis": "x",
           "y": [
            127.89,
            156.74,
            30.77
           ],
           "yaxis": "y"
          }
         ],
         "name": "2006"
        },
        {
         "data": [
          {
           "hovertemplate": "<b>%{hovertext}</b><br><br>Continent=Europe<br>Year=2007<br>current health expenditure=%{x}<br>suicides_per_100k=%{y}<br>Both sexes=%{marker.size}<extra></extra>",
           "hovertext": [
            "Malta",
            "Sweden",
            "Iceland",
            "Austria",
            "Poland",
            "Croatia",
            "Italy",
            "Ireland",
            "Portugal",
            "Norway",
            "Ukraine",
            "Spain",
            "Romania",
            "Luxembourg",
            "Greece",
            "Latvia",
            "Estonia",
            "Germany",
            "Albania",
            "Bulgaria",
            "Serbia",
            "Lithuania",
            "France",
            "Netherlands",
            "Finland",
            "Belgium",
            "Switzerland",
            "Denmark",
            "Belarus",
            "Slovenia",
            "Hungary"
           ],
           "ids": [
            "Malta",
            "Sweden",
            "Iceland",
            "Austria",
            "Poland",
            "Croatia",
            "Italy",
            "Ireland",
            "Portugal",
            "Norway",
            "Ukraine",
            "Spain",
            "Romania",
            "Luxembourg",
            "Greece",
            "Latvia",
            "Estonia",
            "Germany",
            "Albania",
            "Bulgaria",
            "Serbia",
            "Lithuania",
            "France",
            "Netherlands",
            "Finland",
            "Belgium",
            "Switzerland",
            "Denmark",
            "Belarus",
            "Slovenia",
            "Hungary"
           ],
           "legendgroup": "Europe",
           "marker": {
            "color": "#1F77B4",
            "size": [
             65,
             63,
             60,
             80,
             145,
             115,
             62,
             72,
             92,
             67,
             278,
             72,
             155,
             75,
             78,
             224,
             187,
             82,
             101,
             153,
             123,
             246,
             88,
             67,
             96,
             86,
             62,
             91,
             230,
             102,
             176
            ],
            "sizemode": "area",
            "sizeref": 0.53,
            "symbol": "circle"
           },
           "mode": "markers",
           "name": "Europe",
           "orientation": "v",
           "showlegend": true,
           "type": "scatter",
           "x": [
            8.16883469,
            7.99607706,
            8.3535862,
            9.53209686,
            5.87339211,
            7.47507524,
            8.13610077,
            7.80535555,
            9.25186634,
            8.05085373,
            6.01705217,
            7.9183569,
            5.02223349,
            6.23472404,
            8.39808178,
            5.52228498,
            4.98330879,
            10.05104923,
            6.31683397,
            6.16035938,
            9.37001324,
            5.7643218,
            10.31564426,
            9.05291939,
            8.08359337,
            9.16611385,
            9.36357594,
            9.3251543,
            5.69203281,
            7.51139164,
            7.21529293
           ],
           "xaxis": "x",
           "y": [
            73.84,
            147.39,
            163.29,
            217.31,
            166.47,
            243.45,
            81.96000000000001,
            121.77,
            143.55,
            127.77,
            281.12,
            98.95,
            136.06,
            183.89,
            33.91,
            295.75,
            265.05,
            146.52,
            65.85,
            173.76999999999998,
            258.45,
            406.79,
            213.69,
            97.44,
            223.08,
            208.57,
            255.81,
            139.96,
            355.89,
            291.45,
            327.32
           ],
           "yaxis": "y"
          },
          {
           "hovertemplate": "<b>%{hovertext}</b><br><br>Continent=North America<br>Year=2007<br>current health expenditure=%{x}<br>suicides_per_100k=%{y}<br>Both sexes=%{marker.size}<extra></extra>",
           "hovertext": [
            "Costa Rica",
            "Cuba",
            "Antigua and Barbuda",
            "Grenada",
            "El Salvador",
            "Belize",
            "Canada",
            "Barbados",
            "Panama",
            "Guatemala",
            "Mexico",
            "Trinidad and Tobago"
           ],
           "ids": [
            "Costa Rica",
            "Cuba",
            "Antigua and Barbuda",
            "Grenada",
            "El Salvador",
            "Belize",
            "Canada",
            "Barbados",
            "Panama",
            "Guatemala",
            "Mexico",
            "Trinidad and Tobago"
           ],
           "legendgroup": "North America",
           "marker": {
            "color": "#FF7F0E",
            "size": [
             91,
             102,
             149,
             164,
             200,
             181,
             74,
             112,
             119,
             191,
             129,
             188
            ],
            "sizemode": "area",
            "sizeref": 0.53,
            "symbol": "circle"
           },
           "mode": "markers",
           "name": "North America",
           "orientation": "v",
           "showlegend": true,
           "type": "scatter",
           "x": [
            6.99642754,
            10.96749115,
            4.44986248,
            5.23867893,
            7.63829565,
            5.32664824,
            9.44500446,
            6.05583191,
            6.92857409,
            6.19192553,
            5.76644516,
            4.1536026
           ],
           "xaxis": "x",
           "y": [
            75.35,
            188.18,
            7.98,
            48.34,
            127.14,
            78.49000000000001,
            127.45,
            0,
            71.9,
            40.27,
            58.01,
            143.58
           ],
           "yaxis": "y"
          },
          {
           "hovertemplate": "<b>%{hovertext}</b><br><br>Continent=Asia<br>Year=2007<br>current health expenditure=%{x}<br>suicides_per_100k=%{y}<br>Both sexes=%{marker.size}<extra></extra>",
           "hovertext": [
            "Japan",
            "Israel",
            "Cyprus",
            "Bahrain",
            "Azerbaijan",
            "United Arab Emirates",
            "Singapore",
            "Kazakhstan",
            "Philippines",
            "Qatar",
            "Georgia",
            "Maldives",
            "Thailand",
            "Kuwait",
            "Armenia"
           ],
           "ids": [
            "Japan",
            "Israel",
            "Cyprus",
            "Bahrain",
            "Azerbaijan",
            "United Arab Emirates",
            "Singapore",
            "Kazakhstan",
            "Philippines",
            "Qatar",
            "Georgia",
            "Maldives",
            "Thailand",
            "Kuwait",
            "Armenia"
           ],
           "legendgroup": "Asia",
           "marker": {
            "color": "#2CA02C",
            "size": [
             66,
             67,
             70,
             80,
             141,
             86,
             68,
             293,
             208,
             66,
             140,
             83,
             170,
             86,
             137
            ],
            "sizemode": "area",
            "sizeref": 0.53,
            "symbol": "circle"
           },
           "mode": "markers",
           "name": "Asia",
           "orientation": "v",
           "showlegend": true,
           "type": "scatter",
           "x": [
            7.77935696,
            6.88173389,
            5.35744858,
            3.30373311,
            1.99021435,
            2.56569624,
            2.83749056,
            2.70314932,
            3.75318241,
            2.07008052,
            7.4351778,
            8.30568123,
            3.19277525,
            1.92673659,
            5.49814558
           ],
           "xaxis": "x",
           "y": [
            268.76,
            73.67,
            36.17,
            32.09,
            11.83,
            15.99,
            165.76,
            375.63,
            29.17,
            28.61,
            36.59,
            14.36,
            79.14,
            13.02,
            39.02
           ],
           "yaxis": "y"
          },
          {
           "hovertemplate": "<b>%{hovertext}</b><br><br>Continent=South America<br>Year=2007<br>current health expenditure=%{x}<br>suicides_per_100k=%{y}<br>Both sexes=%{marker.size}<extra></extra>",
           "hovertext": [
            "Argentina",
            "Colombia",
            "Suriname",
            "Uruguay",
            "Brazil",
            "Guyana",
            "Ecuador",
            "Chile",
            "Paraguay"
           ],
           "ids": [
            "Argentina",
            "Colombia",
            "Suriname",
            "Uruguay",
            "Brazil",
            "Guyana",
            "Ecuador",
            "Chile",
            "Paraguay"
           ],
           "legendgroup": "South America",
           "marker": {
            "color": "#D62728",
            "size": [
             126,
             141,
             200,
             124,
             158,
             257,
             141,
             93,
             159
            ],
            "sizemode": "area",
            "sizeref": 0.53,
            "symbol": "circle"
           },
           "mode": "markers",
           "name": "South America",
           "orientation": "v",
           "showlegend": true,
           "type": "scatter",
           "x": [
            7.83455086,
            6.49102831,
            5.59070206,
            7.49349833,
            8.20183945,
            4.28126192,
            5.33981323,
            6.17537546,
            5.02042675
           ],
           "xaxis": "x",
           "y": [
            118.35,
            74.25,
            356.14,
            266.31,
            71.68,
            373.75,
            95.97,
            150.92000000000002,
            62.51
           ],
           "yaxis": "y"
          },
          {
           "hovertemplate": "<b>%{hovertext}</b><br><br>Continent=Africa<br>Year=2007<br>current health expenditure=%{x}<br>suicides_per_100k=%{y}<br>Both sexes=%{marker.size}<extra></extra>",
           "hovertext": [
            "Mauritius",
            "Seychelles",
            "South Africa"
           ],
           "ids": [
            "Mauritius",
            "Seychelles",
            "South Africa"
           ],
           "legendgroup": "Africa",
           "marker": {
            "color": "#9467BD",
            "size": [
             160,
             185,
             475
            ],
            "sizemode": "area",
            "sizeref": 0.53,
            "symbol": "circle"
           },
           "mode": "markers",
           "name": "Africa",
           "orientation": "v",
           "showlegend": true,
           "type": "scatter",
           "x": [
            3.57065129,
            4.09072113,
            7.68138409
           ],
           "xaxis": "x",
           "y": [
            141.45,
            147.64,
            12.12
           ],
           "yaxis": "y"
          },
          {
           "hovertemplate": "<b>%{hovertext}</b><br><br>Continent=Oceania<br>Year=2007<br>current health expenditure=%{x}<br>suicides_per_100k=%{y}<br>Both sexes=%{marker.size}<extra></extra>",
           "hovertext": [
            "Australia",
            "Fiji",
            "New Zealand"
           ],
           "ids": [
            "Australia",
            "Fiji",
            "New Zealand"
           ],
           "legendgroup": "Oceania",
           "marker": {
            "color": "#8C564B",
            "size": [
             65,
             209,
             76
            ],
            "sizemode": "area",
            "sizeref": 0.53,
            "symbol": "circle"
           },
           "mode": "markers",
           "name": "Oceania",
           "orientation": "v",
           "showlegend": true,
           "type": "scatter",
           "x": [
            8.06755352,
            3.41514993,
            8.32904434
           ],
           "xaxis": "x",
           "y": [
            130.25,
            20.46,
            148.19
           ],
           "yaxis": "y"
          }
         ],
         "name": "2007"
        },
        {
         "data": [
          {
           "hovertemplate": "<b>%{hovertext}</b><br><br>Continent=Europe<br>Year=2008<br>current health expenditure=%{x}<br>suicides_per_100k=%{y}<br>Both sexes=%{marker.size}<extra></extra>",
           "hovertext": [
            "Netherlands",
            "Lithuania",
            "Sweden",
            "Malta",
            "Norway",
            "Poland",
            "Latvia",
            "Switzerland",
            "Luxembourg",
            "Germany",
            "Ukraine",
            "Hungary",
            "Bulgaria",
            "Slovenia",
            "Greece",
            "Romania",
            "Croatia",
            "Serbia",
            "Denmark",
            "France",
            "Finland",
            "Albania",
            "Estonia",
            "Spain",
            "Portugal",
            "Belarus",
            "Italy",
            "Belgium",
            "Ireland",
            "Iceland",
            "Austria"
           ],
           "ids": [
            "Netherlands",
            "Lithuania",
            "Sweden",
            "Malta",
            "Norway",
            "Poland",
            "Latvia",
            "Switzerland",
            "Luxembourg",
            "Germany",
            "Ukraine",
            "Hungary",
            "Bulgaria",
            "Slovenia",
            "Greece",
            "Romania",
            "Croatia",
            "Serbia",
            "Denmark",
            "France",
            "Finland",
            "Albania",
            "Estonia",
            "Spain",
            "Portugal",
            "Belarus",
            "Italy",
            "Belgium",
            "Ireland",
            "Iceland",
            "Austria"
           ],
           "legendgroup": "Europe",
           "marker": {
            "color": "#1F77B4",
            "size": [
             67,
             229,
             62,
             62,
             66,
             142,
             200,
             59,
             69,
             81,
             275,
             164,
             150,
             96,
             75,
             160,
             117,
             122,
             86,
             87,
             94,
             102,
             164,
             70,
             89,
             228,
             61,
             86,
             72,
             57,
             76
            ],
            "sizemode": "area",
            "sizeref": 0.53,
            "symbol": "circle"
           },
           "mode": "markers",
           "name": "Europe",
           "orientation": "v",
           "showlegend": true,
           "type": "scatter",
           "x": [
            9.27664948,
            6.29453754,
            8.20824242,
            7.8633585,
            7.96075296,
            6.37592173,
            5.6001029,
            9.48092747,
            6.53840208,
            10.25105095,
            5.49728012,
            7.09688091,
            6.28771019,
            7.85466576,
            8.82774258,
            5.02274227,
            7.72871161,
            9.47590065,
            9.51134396,
            10.50084686,
            8.34310627,
            5.1390624,
            5.71032381,
            8.3818779,
            9.58307838,
            5.29415369,
            8.53282356,
            9.63002014,
            9.10927963,
            8.34370804,
            9.72564602
           ],
           "xaxis": "x",
           "y": [
            102.09,
            430.05,
            155.68,
            38.68,
            132.03,
            177.38,
            323.69,
            237.51,
            112.31,
            145.52,
            274.5,
            331.68,
            170.34,
            263.09,
            40.3,
            140.4,
            265.69,
            242.61,
            143.05,
            216.21,
            220.29,
            71.05,
            244.57,
            98.52,
            141.02,
            352.16,
            81.69,
            221.54,
            129.56,
            136.09,
            216.45
           ],
           "yaxis": "y"
          },
          {
           "hovertemplate": "<b>%{hovertext}</b><br><br>Continent=North America<br>Year=2008<br>current health expenditure=%{x}<br>suicides_per_100k=%{y}<br>Both sexes=%{marker.size}<extra></extra>",
           "hovertext": [
            "Panama",
            "Mexico",
            "Antigua and Barbuda",
            "Canada",
            "Guatemala",
            "Trinidad and Tobago",
            "Grenada",
            "Costa Rica",
            "Cuba",
            "El Salvador",
            "Barbados",
            "Belize"
           ],
           "ids": [
            "Panama",
            "Mexico",
            "Antigua and Barbuda",
            "Canada",
            "Guatemala",
            "Trinidad and Tobago",
            "Grenada",
            "Costa Rica",
            "Cuba",
            "El Salvador",
            "Barbados",
            "Belize"
           ],
           "legendgroup": "North America",
           "marker": {
            "color": "#FF7F0E",
            "size": [
             122,
             133,
             147,
             73,
             186,
             195,
             162,
             97,
             100,
             198,
             112,
             183
            ],
            "sizemode": "area",
            "sizeref": 0.53,
            "symbol": "circle"
           },
           "mode": "markers",
           "name": "North America",
           "orientation": "v",
           "showlegend": true,
           "type": "scatter",
           "x": [
            6.84644938,
            5.69886971,
            4.2048173,
            9.60709858,
            6.08125973,
            3.65757036,
            5.386199,
            7.46854544,
            11.31422806,
            7.66487646,
            6.47676373,
            5.68234491
           ],
           "xaxis": "x",
           "y": [
            73.3,
            60.83,
            0,
            127.59,
            54.76,
            178.25,
            0,
            72.27,
            190.99,
            125.82,
            2.31,
            86.36
           ],
           "yaxis": "y"
          },
          {
           "hovertemplate": "<b>%{hovertext}</b><br><br>Continent=Asia<br>Year=2008<br>current health expenditure=%{x}<br>suicides_per_100k=%{y}<br>Both sexes=%{marker.size}<extra></extra>",
           "hovertext": [
            "Kazakhstan",
            "Philippines",
            "Maldives",
            "Japan",
            "Kuwait",
            "Thailand",
            "United Arab Emirates",
            "Singapore",
            "Armenia",
            "Cyprus",
            "Qatar",
            "Bahrain",
            "Israel"
           ],
           "ids": [
            "Kazakhstan",
            "Philippines",
            "Maldives",
            "Japan",
            "Kuwait",
            "Thailand",
            "United Arab Emirates",
            "Singapore",
            "Armenia",
            "Cyprus",
            "Qatar",
            "Bahrain",
            "Israel"
           ],
           "legendgroup": "Asia",
           "marker": {
            "color": "#2CA02C",
            "size": [
             264,
             207,
             80,
             64,
             85,
             167,
             85,
             67,
             144,
             68,
             65,
             73,
             64
            ],
            "sizemode": "area",
            "sizeref": 0.53,
            "symbol": "circle"
           },
           "mode": "markers",
           "name": "Asia",
           "orientation": "v",
           "showlegend": true,
           "type": "scatter",
           "x": [
            3.04952621,
            3.8631587,
            11.47104168,
            8.08909321,
            1.92400312,
            3.45933914,
            2.92847776,
            3.19488454,
            6.6397624,
            6.01427698,
            1.63775349,
            3.28510404,
            6.96061993
           ],
           "xaxis": "x",
           "y": [
            366.94,
            33.05,
            0,
            265.32,
            11.76,
            78.18,
            11.86,
            150.25,
            35.15,
            59.07,
            13.55,
            27.89,
            87.33
           ],
           "yaxis": "y"
          },
          {
           "hovertemplate": "<b>%{hovertext}</b><br><br>Continent=South America<br>Year=2008<br>current health expenditure=%{x}<br>suicides_per_100k=%{y}<br>Both sexes=%{marker.size}<extra></extra>",
           "hovertext": [
            "Paraguay",
            "Chile",
            "Guyana",
            "Colombia",
            "Brazil",
            "Ecuador",
            "Suriname",
            "Argentina",
            "Uruguay"
           ],
           "ids": [
            "Paraguay",
            "Chile",
            "Guyana",
            "Colombia",
            "Brazil",
            "Ecuador",
            "Suriname",
            "Argentina",
            "Uruguay"
           ],
           "legendgroup": "South America",
           "marker": {
            "color": "#D62728",
            "size": [
             157,
             91,
             249,
             142,
             157,
             141,
             200,
             123,
             119
            ],
            "sizemode": "area",
            "sizeref": 0.53,
            "symbol": "circle"
           },
           "mode": "markers",
           "name": "South America",
           "orientation": "v",
           "showlegend": true,
           "type": "scatter",
           "x": [
            5.04564476,
            6.74047899,
            4.20242214,
            6.84192705,
            8.01129246,
            5.3773427,
            5.08278036,
            8.18266869,
            8.12533188
           ],
           "xaxis": "x",
           "y": [
            58.32,
            167.88,
            353.62,
            74.22,
            72.21,
            95.29,
            416.82,
            118.11,
            234.53
           ],
           "yaxis": "y"
          },
          {
           "hovertemplate": "<b>%{hovertext}</b><br><br>Continent=Africa<br>Year=2008<br>current health expenditure=%{x}<br>suicides_per_100k=%{y}<br>Both sexes=%{marker.size}<extra></extra>",
           "hovertext": [
            "Mauritius",
            "Seychelles",
            "South Africa"
           ],
           "ids": [
            "Mauritius",
            "Seychelles",
            "South Africa"
           ],
           "legendgroup": "Africa",
           "marker": {
            "color": "#9467BD",
            "size": [
             165,
             185,
             458
            ],
            "sizemode": "area",
            "sizeref": 0.53,
            "symbol": "circle"
           },
           "mode": "markers",
           "name": "Africa",
           "orientation": "v",
           "showlegend": true,
           "type": "scatter",
           "x": [
            3.99199653,
            3.98245716,
            7.88024807
           ],
           "xaxis": "x",
           "y": [
            78.13,
            39.07,
            14.14
           ],
           "yaxis": "y"
          },
          {
           "hovertemplate": "<b>%{hovertext}</b><br><br>Continent=Oceania<br>Year=2008<br>current health expenditure=%{x}<br>suicides_per_100k=%{y}<br>Both sexes=%{marker.size}<extra></extra>",
           "hovertext": [
            "New Zealand",
            "Fiji",
            "Australia"
           ],
           "ids": [
            "New Zealand",
            "Fiji",
            "Australia"
           ],
           "legendgroup": "Oceania",
           "marker": {
            "color": "#8C564B",
            "size": [
             74,
             206,
             64
            ],
            "sizemode": "area",
            "sizeref": 0.53,
            "symbol": "circle"
           },
           "mode": "markers",
           "name": "Oceania",
           "orientation": "v",
           "showlegend": true,
           "type": "scatter",
           "x": [
            9.12382889,
            3.1846714,
            8.25585651
           ],
           "xaxis": "x",
           "y": [
            151.78,
            47.48,
            130.49
           ],
           "yaxis": "y"
          }
         ],
         "name": "2008"
        },
        {
         "data": [
          {
           "hovertemplate": "<b>%{hovertext}</b><br><br>Continent=Europe<br>Year=2009<br>current health expenditure=%{x}<br>suicides_per_100k=%{y}<br>Both sexes=%{marker.size}<extra></extra>",
           "hovertext": [
            "Malta",
            "Norway",
            "Luxembourg",
            "Ukraine",
            "Spain",
            "Denmark",
            "Austria",
            "Bulgaria",
            "Sweden",
            "Slovenia",
            "Belgium",
            "Belarus",
            "Switzerland",
            "Netherlands",
            "Croatia",
            "Portugal",
            "Ireland",
            "Iceland",
            "France",
            "Latvia",
            "Hungary",
            "Greece",
            "Estonia",
            "Romania",
            "Lithuania",
            "Germany",
            "Italy",
            "Finland",
            "Albania",
            "Serbia",
            "Poland"
           ],
           "ids": [
            "Malta",
            "Norway",
            "Luxembourg",
            "Ukraine",
            "Spain",
            "Denmark",
            "Austria",
            "Bulgaria",
            "Sweden",
            "Slovenia",
            "Belgium",
            "Belarus",
            "Switzerland",
            "Netherlands",
            "Croatia",
            "Portugal",
            "Ireland",
            "Iceland",
            "France",
            "Latvia",
            "Hungary",
            "Greece",
            "Estonia",
            "Romania",
            "Lithuania",
            "Germany",
            "Italy",
            "Finland",
            "Albania",
            "Serbia",
            "Poland"
           ],
           "legendgroup": "Europe",
           "marker": {
            "color": "#1F77B4",
            "size": [
             61,
             67,
             67,
             235,
             67,
             84,
             77,
             147,
             61,
             91,
             84,
             225,
             59,
             65,
             109,
             88,
             74,
             55,
             87,
             185,
             160,
             76,
             154,
             160,
             197,
             80,
             60,
             90,
             103,
             120,
             137
            ],
            "sizemode": "area",
            "sizeref": 0.53,
            "symbol": "circle"
           },
           "mode": "markers",
           "name": "Europe",
           "orientation": "v",
           "showlegend": true,
           "type": "scatter",
           "x": [
            7.9238286,
            9.07431507,
            7.33979321,
            6.60771894,
            9.10707188,
            10.67432022,
            10.22582531,
            6.59577608,
            8.77037907,
            8.540802,
            10.35455036,
            5.39037848,
            10.06906986,
            9.99291134,
            8.17583179,
            10.13070393,
            10.5062685,
            8.77518463,
            11.28756237,
            6.11926985,
            7.2392807,
            9.40688515,
            6.51218891,
            5.27841282,
            7.36587334,
            11.23758507,
            8.95162296,
            9.16122246,
            4.6022253,
            9.3397665,
            6.587708
           ],
           "xaxis": "x",
           "y": [
            107.12,
            145.74,
            110.95,
            279.26,
            98.02,
            144.7,
            213.22,
            154.42,
            160.4,
            268.71,
            218.35,
            375.54,
            180.13,
            108.3,
            254.29,
            139.7,
            132.63,
            123.73,
            216.24,
            307.8,
            310.72,
            40.97,
            248.67,
            144.02,
            437.07,
            145.52,
            81.92999999999999,
            228.49,
            0,
            258.43,
            197.1
           ],
           "yaxis": "y"
          },
          {
           "hovertemplate": "<b>%{hovertext}</b><br><br>Continent=North America<br>Year=2009<br>current health expenditure=%{x}<br>suicides_per_100k=%{y}<br>Both sexes=%{marker.size}<extra></extra>",
           "hovertext": [
            "El Salvador",
            "Cuba",
            "Antigua and Barbuda",
            "Panama",
            "Canada",
            "Belize",
            "Mexico",
            "Costa Rica",
            "Barbados",
            "Jamaica",
            "Grenada",
            "Trinidad and Tobago",
            "Guatemala"
           ],
           "ids": [
            "El Salvador",
            "Cuba",
            "Antigua and Barbuda",
            "Panama",
            "Canada",
            "Belize",
            "Mexico",
            "Costa Rica",
            "Barbados",
            "Jamaica",
            "Grenada",
            "Trinidad and Tobago",
            "Guatemala"
           ],
           "legendgroup": "North America",
           "marker": {
            "color": "#FF7F0E",
            "size": [
             197,
             99,
             138,
             122,
             71,
             183,
             136,
             96,
             110,
             143,
             158,
             185,
             191
            ],
            "sizemode": "area",
            "sizeref": 0.53,
            "symbol": "circle"
           },
           "mode": "markers",
           "name": "North America",
           "orientation": "v",
           "showlegend": true,
           "type": "scatter",
           "x": [
            8.39771748,
            12.29053974,
            4.19123125,
            6.99648428,
            10.71716499,
            5.85314894,
            6.12978458,
            7.86019039,
            7.1486845,
            5.14652538,
            5.43471003,
            5.48676443,
            6.33950901
           ],
           "xaxis": "x",
           "y": [
            124.12,
            201.33,
            0,
            68.29,
            130.67,
            57.76,
            64.14,
            77.37,
            28.8,
            21.13,
            0,
            120.24,
            57.57
           ],
           "yaxis": "y"
          },
          {
           "hovertemplate": "<b>%{hovertext}</b><br><br>Continent=Asia<br>Year=2009<br>current health expenditure=%{x}<br>suicides_per_100k=%{y}<br>Both sexes=%{marker.size}<extra></extra>",
           "hovertext": [
            "Singapore",
            "Cyprus",
            "United Arab Emirates",
            "Bahrain",
            "Armenia",
            "Oman",
            "Georgia",
            "Thailand",
            "Philippines",
            "Kazakhstan",
            "Qatar",
            "Kuwait",
            "Israel",
            "Uzbekistan",
            "Japan"
           ],
           "ids": [
            "Singapore",
            "Cyprus",
            "United Arab Emirates",
            "Bahrain",
            "Armenia",
            "Oman",
            "Georgia",
            "Thailand",
            "Philippines",
            "Kazakhstan",
            "Qatar",
            "Kuwait",
            "Israel",
            "Uzbekistan",
            "Japan"
           ],
           "legendgroup": "Asia",
           "marker": {
            "color": "#2CA02C",
            "size": [
             62,
             68,
             83,
             69,
             142,
             108,
             156,
             164,
             207,
             240,
             65,
             85,
             61,
             149,
             63
            ],
            "sizemode": "area",
            "sizeref": 0.53,
            "symbol": "circle"
           },
           "mode": "markers",
           "name": "Asia",
           "orientation": "v",
           "showlegend": true,
           "type": "scatter",
           "x": [
            3.39853096,
            6.46531582,
            4.04999352,
            4.05684614,
            8.44377995,
            2.8300879,
            9.56681633,
            3.61939621,
            4.16451931,
            3.49913716,
            2.38356304,
            2.70638752,
            7.06538868,
            5.08302879,
            8.9587822
           ],
           "xaxis": "x",
           "y": [
            149.58,
            55.53,
            11.73,
            24.59,
            33.7,
            21.19,
            65.06,
            78.56,
            34.89,
            330.07,
            19.9,
            14.81,
            80.32,
            60.86,
            266.69
           ],
           "yaxis": "y"
          },
          {
           "hovertemplate": "<b>%{hovertext}</b><br><br>Continent=South America<br>Year=2009<br>current health expenditure=%{x}<br>suicides_per_100k=%{y}<br>Both sexes=%{marker.size}<extra></extra>",
           "hovertext": [
            "Paraguay",
            "Ecuador",
            "Suriname",
            "Brazil",
            "Chile",
            "Uruguay",
            "Colombia",
            "Argentina",
            "Guyana"
           ],
           "ids": [
            "Paraguay",
            "Ecuador",
            "Suriname",
            "Brazil",
            "Chile",
            "Uruguay",
            "Colombia",
            "Argentina",
            "Guyana"
           ],
           "legendgroup": "South America",
           "marker": {
            "color": "#D62728",
            "size": [
             154,
             137,
             197,
             156,
             94,
             118,
             147,
             123,
             252
            ],
            "sizemode": "area",
            "sizeref": 0.53,
            "symbol": "circle"
           },
           "mode": "markers",
           "name": "South America",
           "orientation": "v",
           "showlegend": true,
           "type": "scatter",
           "x": [
            5.52839279,
            5.6990099,
            5.33047295,
            8.39480209,
            7.20918465,
            7.9498806,
            7.31134653,
            9.45598793,
            4.35117102
           ],
           "xaxis": "x",
           "y": [
            67.33,
            94.25,
            369.71,
            70.37,
            174.29999999999998,
            237.75,
            73.83,
            107.32,
            301.78
           ],
           "yaxis": "y"
          },
          {
           "hovertemplate": "<b>%{hovertext}</b><br><br>Continent=Africa<br>Year=2009<br>current health expenditure=%{x}<br>suicides_per_100k=%{y}<br>Both sexes=%{marker.size}<extra></extra>",
           "hovertext": [
            "Seychelles",
            "South Africa",
            "Mauritius"
           ],
           "ids": [
            "Seychelles",
            "South Africa",
            "Mauritius"
           ],
           "legendgroup": "Africa",
           "marker": {
            "color": "#9467BD",
            "size": [
             183,
             435,
             165
            ],
            "sizemode": "area",
            "sizeref": 0.53,
            "symbol": "circle"
           },
           "mode": "markers",
           "name": "Africa",
           "orientation": "v",
           "showlegend": true,
           "type": "scatter",
           "x": [
            3.88551354,
            8.52350235,
            4.2265029
           ],
           "xaxis": "x",
           "y": [
            43.81,
            10.71,
            106.07
           ],
           "yaxis": "y"
          },
          {
           "hovertemplate": "<b>%{hovertext}</b><br><br>Continent=Oceania<br>Year=2009<br>current health expenditure=%{x}<br>suicides_per_100k=%{y}<br>Both sexes=%{marker.size}<extra></extra>",
           "hovertext": [
            "Australia",
            "New Zealand",
            "Fiji"
           ],
           "ids": [
            "Australia",
            "New Zealand",
            "Fiji"
           ],
           "legendgroup": "Oceania",
           "marker": {
            "color": "#8C564B",
            "size": [
             65,
             73,
             203
            ],
            "sizemode": "area",
            "sizeref": 0.53,
            "symbol": "circle"
           },
           "mode": "markers",
           "name": "Oceania",
           "orientation": "v",
           "showlegend": true,
           "type": "scatter",
           "x": [
            8.56316471,
            9.62076378,
            3.53587651
           ],
           "xaxis": "x",
           "y": [
            130.12,
            153,
            51.67
           ],
           "yaxis": "y"
          }
         ],
         "name": "2009"
        },
        {
         "data": [
          {
           "hovertemplate": "<b>%{hovertext}</b><br><br>Continent=Europe<br>Year=2010<br>current health expenditure=%{x}<br>suicides_per_100k=%{y}<br>Both sexes=%{marker.size}<extra></extra>",
           "hovertext": [
            "Portugal",
            "Norway",
            "Poland",
            "Bulgaria",
            "Belarus",
            "Austria",
            "Spain",
            "Italy",
            "Hungary",
            "Sweden",
            "Belgium",
            "Ireland",
            "Iceland",
            "Netherlands",
            "Estonia",
            "Malta",
            "Ukraine",
            "France",
            "Lithuania",
            "Germany",
            "Denmark",
            "Serbia",
            "Finland",
            "Luxembourg",
            "Switzerland",
            "Slovenia",
            "Romania",
            "Greece",
            "Croatia",
            "Albania",
            "Latvia"
           ],
           "ids": [
            "Portugal",
            "Norway",
            "Poland",
            "Bulgaria",
            "Belarus",
            "Austria",
            "Spain",
            "Italy",
            "Hungary",
            "Sweden",
            "Belgium",
            "Ireland",
            "Iceland",
            "Netherlands",
            "Estonia",
            "Malta",
            "Ukraine",
            "France",
            "Lithuania",
            "Germany",
            "Denmark",
            "Serbia",
            "Finland",
            "Luxembourg",
            "Switzerland",
            "Slovenia",
            "Romania",
            "Greece",
            "Croatia",
            "Albania",
            "Latvia"
           ],
           "legendgroup": "Europe",
           "marker": {
            "color": "#1F77B4",
            "size": [
             86,
             65,
             131,
             143,
             226,
             74,
             65,
             58,
             152,
             58,
             81,
             65,
             53,
             64,
             134,
             58,
             218,
             85,
             188,
             78,
             83,
             115,
             88,
             67,
             57,
             87,
             155,
             74,
             106,
             103,
             178
            ],
            "sizemode": "area",
            "sizeref": 0.53,
            "symbol": "circle"
           },
           "mode": "markers",
           "name": "Europe",
           "orientation": "v",
           "showlegend": true,
           "type": "scatter",
           "x": [
            10.03250504,
            8.90553188,
            6.41223288,
            7.13800573,
            5.65693998,
            10.22101879,
            9.1185751,
            8.91602039,
            7.46319818,
            8.31963825,
            10.23324585,
            10.50632477,
            8.36173058,
            10.15515518,
            6.27124023,
            7.95211124,
            6.8122654,
            11.22560215,
            6.81462288,
            11.09557819,
            10.33315945,
            9.52071667,
            9.14202785,
            7.03158236,
            9.94159698,
            8.56503296,
            5.76614237,
            9.59662342,
            8.0887022,
            4.7457962,
            6.11952686
           ],
           "xaxis": "x",
           "y": [
            148.84,
            136.43,
            190.64,
            158.25,
            331.98,
            207.55,
            87.44,
            80.77,
            321.31,
            146.54,
            220.18,
            120.3,
            184.27,
            109.49,
            229.07,
            82.11,
            263.07,
            211.17,
            395.24,
            152.17000000000002,
            130.02,
            234.48,
            215.21,
            141.16,
            160.52,
            265.59000000000003,
            150.04,
            39.9,
            241.97,
            41.66,
            259.34000000000003
           ],
           "yaxis": "y"
          },
          {
           "hovertemplate": "<b>%{hovertext}</b><br><br>Continent=North America<br>Year=2010<br>current health expenditure=%{x}<br>suicides_per_100k=%{y}<br>Both sexes=%{marker.size}<extra></extra>",
           "hovertext": [
            "Jamaica",
            "Guatemala",
            "Canada",
            "Nicaragua",
            "Panama",
            "Belize",
            "Barbados",
            "Cuba",
            "Mexico",
            "El Salvador",
            "Costa Rica",
            "Grenada",
            "Trinidad and Tobago"
           ],
           "ids": [
            "Jamaica",
            "Guatemala",
            "Canada",
            "Nicaragua",
            "Panama",
            "Belize",
            "Barbados",
            "Cuba",
            "Mexico",
            "El Salvador",
            "Costa Rica",
            "Grenada",
            "Trinidad and Tobago"
           ],
           "legendgroup": "North America",
           "marker": {
            "color": "#FF7F0E",
            "size": [
             139,
             186,
             69,
             160,
             117,
             182,
             108,
             97,
             136,
             192,
             106,
             154,
             179
            ],
            "sizemode": "area",
            "sizeref": 0.53,
            "symbol": "circle"
           },
           "mode": "markers",
           "name": "North America",
           "orientation": "v",
           "showlegend": true,
           "type": "scatter",
           "x": [
            5.29506874,
            6.12487125,
            10.69585419,
            7.71019173,
            7.08509684,
            5.68149519,
            6.77398682,
            10.6880827,
            5.73688889,
            8.23629189,
            8.02937698,
            5.41881227,
            5.08042908
           ],
           "xaxis": "x",
           "y": [
            1.16,
            35.43,
            132.67,
            88.74,
            64,
            61.48,
            7.62,
            202.13,
            61.01,
            97.92,
            84.35,
            0,
            150.5
           ],
           "yaxis": "y"
          },
          {
           "hovertemplate": "<b>%{hovertext}</b><br><br>Continent=Asia<br>Year=2010<br>current health expenditure=%{x}<br>suicides_per_100k=%{y}<br>Both sexes=%{marker.size}<extra></extra>",
           "hovertext": [
            "Qatar",
            "Bahrain",
            "Japan",
            "Israel",
            "Kazakhstan",
            "Oman",
            "Georgia",
            "Uzbekistan",
            "Cyprus",
            "Thailand",
            "Maldives",
            "Philippines",
            "Turkmenistan",
            "Armenia",
            "Kuwait",
            "Singapore",
            "United Arab Emirates"
           ],
           "ids": [
            "Qatar",
            "Bahrain",
            "Japan",
            "Israel",
            "Kazakhstan",
            "Oman",
            "Georgia",
            "Uzbekistan",
            "Cyprus",
            "Thailand",
            "Maldives",
            "Philippines",
            "Turkmenistan",
            "Armenia",
            "Kuwait",
            "Singapore",
            "United Arab Emirates"
           ],
           "legendgroup": "Asia",
           "marker": {
            "color": "#2CA02C",
            "size": [
             65,
             66,
             61,
             60,
             243,
             107,
             157,
             145,
             65,
             161,
             71,
             203,
             188,
             138,
             84,
             60,
             81
            ],
            "sizemode": "area",
            "sizeref": 0.53,
            "symbol": "circle"
           },
           "mode": "markers",
           "name": "Asia",
           "orientation": "v",
           "showlegend": true,
           "type": "scatter",
           "x": [
            1.87017775,
            3.84291482,
            9.0630064,
            7.01663876,
            2.73641348,
            2.82071519,
            9.07341194,
            5.22166872,
            6.51767111,
            3.39009833,
            8.48759079,
            4.1310792,
            4.9963603,
            9.23539066,
            2.67879915,
            3.20265365,
            3.87874508
           ],
           "xaxis": "x",
           "y": [
            12.83,
            11.89,
            255.48,
            99.47,
            320.81,
            3.8,
            34.33,
            63.23,
            58.88,
            80.5,
            1.99,
            36.96,
            45.75,
            40.41,
            10.04,
            129.23,
            22.71
           ],
           "yaxis": "y"
          },
          {
           "hovertemplate": "<b>%{hovertext}</b><br><br>Continent=South America<br>Year=2010<br>current health expenditure=%{x}<br>suicides_per_100k=%{y}<br>Both sexes=%{marker.size}<extra></extra>",
           "hovertext": [
            "Uruguay",
            "Guyana",
            "Brazil",
            "Argentina",
            "Suriname",
            "Ecuador",
            "Paraguay",
            "Chile",
            "Colombia"
           ],
           "ids": [
            "Uruguay",
            "Guyana",
            "Brazil",
            "Argentina",
            "Suriname",
            "Ecuador",
            "Paraguay",
            "Chile",
            "Colombia"
           ],
           "legendgroup": "South America",
           "marker": {
            "color": "#D62728",
            "size": [
             118,
             258,
             154,
             119,
             194,
             134,
             152,
             94,
             146
            ],
            "sizemode": "area",
            "sizeref": 0.53,
            "symbol": "circle"
           },
           "mode": "markers",
           "name": "South America",
           "orientation": "v",
           "showlegend": true,
           "type": "scatter",
           "x": [
            7.91117096,
            4.21897697,
            7.94515991,
            9.44546986,
            5.03042459,
            6.11657906,
            5.47032022,
            6.77489328,
            7.07130146
           ],
           "xaxis": "x",
           "y": [
            257.43,
            403.07,
            72.73,
            111.24,
            425.3,
            81.49,
            54.56,
            162.88,
            67.24
           ],
           "yaxis": "y"
          },
          {
           "hovertemplate": "<b>%{hovertext}</b><br><br>Continent=Africa<br>Year=2010<br>current health expenditure=%{x}<br>suicides_per_100k=%{y}<br>Both sexes=%{marker.size}<extra></extra>",
           "hovertext": [
            "South Africa",
            "Seychelles",
            "Mauritius"
           ],
           "ids": [
            "South Africa",
            "Seychelles",
            "Mauritius"
           ],
           "legendgroup": "Africa",
           "marker": {
            "color": "#9467BD",
            "size": [
             416,
             181,
             162
            ],
            "sizemode": "area",
            "sizeref": 0.53,
            "symbol": "circle"
           },
           "mode": "markers",
           "name": "Africa",
           "orientation": "v",
           "showlegend": true,
           "type": "scatter",
           "x": [
            8.66596985,
            4.82908678,
            4.57982111
           ],
           "xaxis": "x",
           "y": [
            13.09,
            51.99,
            111.83
           ],
           "yaxis": "y"
          },
          {
           "hovertemplate": "<b>%{hovertext}</b><br><br>Continent=Oceania<br>Year=2010<br>current health expenditure=%{x}<br>suicides_per_100k=%{y}<br>Both sexes=%{marker.size}<extra></extra>",
           "hovertext": [
            "Australia",
            "New Zealand"
           ],
           "ids": [
            "Australia",
            "New Zealand"
           ],
           "legendgroup": "Oceania",
           "marker": {
            "color": "#8C564B",
            "size": [
             63,
             71
            ],
            "sizemode": "area",
            "sizeref": 0.53,
            "symbol": "circle"
           },
           "mode": "markers",
           "name": "Oceania",
           "orientation": "v",
           "showlegend": true,
           "type": "scatter",
           "x": [
            8.4308424,
            9.59277534
           ],
           "xaxis": "x",
           "y": [
            132.64,
            152.62
           ],
           "yaxis": "y"
          }
         ],
         "name": "2010"
        },
        {
         "data": [
          {
           "hovertemplate": "<b>%{hovertext}</b><br><br>Continent=Europe<br>Year=2011<br>current health expenditure=%{x}<br>suicides_per_100k=%{y}<br>Both sexes=%{marker.size}<extra></extra>",
           "hovertext": [
            "Serbia",
            "Slovenia",
            "Sweden",
            "Poland",
            "Romania",
            "Portugal",
            "Spain",
            "Germany",
            "Bulgaria",
            "Hungary",
            "Iceland",
            "Ireland",
            "Bosnia and Herzegovina",
            "Italy",
            "Belgium",
            "Latvia",
            "Croatia",
            "Ukraine",
            "Denmark",
            "Estonia",
            "Finland",
            "France",
            "Greece",
            "Belarus",
            "Lithuania",
            "Switzerland",
            "Malta",
            "Netherlands",
            "Austria",
            "Luxembourg",
            "Norway"
           ],
           "ids": [
            "Serbia",
            "Slovenia",
            "Sweden",
            "Poland",
            "Romania",
            "Portugal",
            "Spain",
            "Germany",
            "Bulgaria",
            "Hungary",
            "Iceland",
            "Ireland",
            "Bosnia and Herzegovina",
            "Italy",
            "Belgium",
            "Latvia",
            "Croatia",
            "Ukraine",
            "Denmark",
            "Estonia",
            "Finland",
            "France",
            "Greece",
            "Belarus",
            "Lithuania",
            "Switzerland",
            "Malta",
            "Netherlands",
            "Austria",
            "Luxembourg",
            "Norway"
           ],
           "legendgroup": "Europe",
           "marker": {
            "color": "#1F77B4",
            "size": [
             113,
             82,
             58,
             128,
             141,
             84,
             63,
             75,
             141,
             147,
             51,
             67,
             100,
             58,
             81,
             167,
             103,
             209,
             78,
             136,
             84,
             83,
             73,
             227,
             184,
             54,
             59,
             64,
             72,
             66,
             66
            ],
            "sizemode": "area",
            "sizeref": 0.53,
            "symbol": "circle"
           },
           "mode": "markers",
           "name": "Europe",
           "orientation": "v",
           "showlegend": true,
           "type": "scatter",
           "x": [
            9.10749245,
            8.53639603,
            10.41646767,
            6.2400856,
            4.70199966,
            9.73071671,
            9.16859245,
            10.77818966,
            7.13881254,
            7.49094248,
            8.20293236,
            10.676898,
            9.17856026,
            8.77413177,
            10.39208412,
            5.54237556,
            7.76850891,
            6.81617689,
            10.15291023,
            5.7667613,
            9.22303009,
            11.18497658,
            9.19330311,
            4.87438536,
            6.4878149,
            10.0191288,
            8.4481411,
            10.23353291,
            10.02613258,
            6.11205053,
            8.78868103
           ],
           "xaxis": "x",
           "y": [
            243.45,
            281.66,
            141.77,
            183.86,
            138.78,
            127.86,
            88.59,
            152.82,
            133.52,
            299.85,
            92.95,
            138.58,
            1.31,
            86.08,
            226.71,
            288.75,
            221.11,
            264,
            126.33,
            229.26,
            203.61,
            211.18,
            48.68,
            299.36,
            407.69,
            168.22,
            47.5,
            113.08,
            211.49,
            136.53,
            146.49
           ],
           "yaxis": "y"
          },
          {
           "hovertemplate": "<b>%{hovertext}</b><br><br>Continent=North America<br>Year=2011<br>current health expenditure=%{x}<br>suicides_per_100k=%{y}<br>Both sexes=%{marker.size}<extra></extra>",
           "hovertext": [
            "Panama",
            "Guatemala",
            "Cuba",
            "Belize",
            "Jamaica",
            "Grenada",
            "Canada",
            "Costa Rica",
            "El Salvador",
            "Trinidad and Tobago",
            "Nicaragua",
            "Mexico",
            "Barbados"
           ],
           "ids": [
            "Panama",
            "Guatemala",
            "Cuba",
            "Belize",
            "Jamaica",
            "Grenada",
            "Canada",
            "Costa Rica",
            "El Salvador",
            "Trinidad and Tobago",
            "Nicaragua",
            "Mexico",
            "Barbados"
           ],
           "legendgroup": "North America",
           "marker": {
            "color": "#FF7F0E",
            "size": [
             117,
             180,
             92,
             182,
             139,
             150,
             67,
             100,
             189,
             180,
             158,
             133,
             106
            ],
            "sizemode": "area",
            "sizeref": 0.53,
            "symbol": "circle"
           },
           "mode": "markers",
           "name": "North America",
           "orientation": "v",
           "showlegend": true,
           "type": "scatter",
           "x": [
            6.59314489,
            5.96316576,
            11.31298637,
            5.72256994,
            5.23800802,
            5.80423355,
            10.40052414,
            8.1219759,
            8.14439964,
            4.72197914,
            7.44982004,
            5.51883602,
            6.89933872
           ],
           "xaxis": "x",
           "y": [
            62.73,
            34.69,
            207.05,
            153.3,
            27.86,
            20.73,
            125.02,
            89.83,
            115.46,
            138.69,
            89.55,
            65.52,
            0
           ],
           "yaxis": "y"
          },
          {
           "hovertemplate": "<b>%{hovertext}</b><br><br>Continent=Asia<br>Year=2011<br>current health expenditure=%{x}<br>suicides_per_100k=%{y}<br>Both sexes=%{marker.size}<extra></extra>",
           "hovertext": [
            "Philippines",
            "Qatar",
            "Singapore",
            "Israel",
            "Thailand",
            "Japan",
            "Kazakhstan",
            "Kuwait",
            "Cyprus",
            "Armenia",
            "Georgia",
            "Turkmenistan",
            "Uzbekistan",
            "Bahrain",
            "Maldives"
           ],
           "ids": [
            "Philippines",
            "Qatar",
            "Singapore",
            "Israel",
            "Thailand",
            "Japan",
            "Kazakhstan",
            "Kuwait",
            "Cyprus",
            "Armenia",
            "Georgia",
            "Turkmenistan",
            "Uzbekistan",
            "Bahrain",
            "Maldives"
           ],
           "legendgroup": "Asia",
           "marker": {
            "color": "#2CA02C",
            "size": [
             202,
             65,
             59,
             59,
             158,
             62,
             232,
             84,
             58,
             135,
             153,
             190,
             144,
             66,
             66
            ],
            "sizemode": "area",
            "sizeref": 0.53,
            "symbol": "circle"
           },
           "mode": "markers",
           "name": "Asia",
           "orientation": "v",
           "showlegend": true,
           "type": "scatter",
           "x": [
            4.02518606,
            1.59996212,
            3.15792179,
            6.99058676,
            3.56825471,
            10.48780155,
            2.60236716,
            2.33303523,
            6.44928503,
            9.37587833,
            8.0144434,
            4.89650869,
            5.14376926,
            3.57691312,
            7.92251587
           ],
           "xaxis": "x",
           "y": [
            44.91,
            18.85,
            116.96,
            87.41,
            77.59,
            252.41,
            293.76,
            11.41,
            43.78,
            32.98,
            36.31,
            31.63,
            67.14,
            14.96,
            5.39
           ],
           "yaxis": "y"
          },
          {
           "hovertemplate": "<b>%{hovertext}</b><br><br>Continent=South America<br>Year=2011<br>current health expenditure=%{x}<br>suicides_per_100k=%{y}<br>Both sexes=%{marker.size}<extra></extra>",
           "hovertext": [
            "Paraguay",
            "Suriname",
            "Guyana",
            "Argentina",
            "Ecuador",
            "Colombia",
            "Chile",
            "Brazil"
           ],
           "ids": [
            "Paraguay",
            "Suriname",
            "Guyana",
            "Argentina",
            "Ecuador",
            "Colombia",
            "Chile",
            "Brazil"
           ],
           "legendgroup": "South America",
           "marker": {
            "color": "#D62728",
            "size": [
             150,
             191,
             263,
             118,
             130,
             140,
             90,
             153
            ],
            "sizemode": "area",
            "sizeref": 0.53,
            "symbol": "circle"
           },
           "mode": "markers",
           "name": "South America",
           "orientation": "v",
           "showlegend": true,
           "type": "scatter",
           "x": [
            5.82928896,
            4.72143984,
            4.17213488,
            9.41821575,
            6.47737551,
            6.78076839,
            6.7717886,
            7.78819466
           ],
           "xaxis": "x",
           "y": [
            67.83,
            353.31,
            349.53000000000003,
            105.87,
            81.8,
            62.88,
            160.84,
            72.41
           ],
           "yaxis": "y"
          },
          {
           "hovertemplate": "<b>%{hovertext}</b><br><br>Continent=Africa<br>Year=2011<br>current health expenditure=%{x}<br>suicides_per_100k=%{y}<br>Both sexes=%{marker.size}<extra></extra>",
           "hovertext": [
            "Seychelles",
            "South Africa",
            "Mauritius"
           ],
           "ids": [
            "Seychelles",
            "South Africa",
            "Mauritius"
           ],
           "legendgroup": "Africa",
           "marker": {
            "color": "#9467BD",
            "size": [
             177,
             397,
             156
            ],
            "sizemode": "area",
            "sizeref": 0.53,
            "symbol": "circle"
           },
           "mode": "markers",
           "name": "Africa",
           "orientation": "v",
           "showlegend": true,
           "type": "scatter",
           "x": [
            4.80053091,
            8.74146175,
            4.3078289
           ],
           "xaxis": "x",
           "y": [
            51.34,
            9.31,
            120.04
           ],
           "yaxis": "y"
          },
          {
           "hovertemplate": "<b>%{hovertext}</b><br><br>Continent=Oceania<br>Year=2011<br>current health expenditure=%{x}<br>suicides_per_100k=%{y}<br>Both sexes=%{marker.size}<extra></extra>",
           "hovertext": [
            "Australia",
            "Fiji",
            "New Zealand"
           ],
           "ids": [
            "Australia",
            "Fiji",
            "New Zealand"
           ],
           "legendgroup": "Oceania",
           "marker": {
            "color": "#8C564B",
            "size": [
             62,
             197,
             71
            ],
            "sizemode": "area",
            "sizeref": 0.53,
            "symbol": "circle"
           },
           "mode": "markers",
           "name": "Oceania",
           "orientation": "v",
           "showlegend": true,
           "type": "scatter",
           "x": [
            8.54153824,
            3.14293504,
            9.51987362
           ],
           "xaxis": "x",
           "y": [
            133.22,
            106.97,
            142.82
           ],
           "yaxis": "y"
          }
         ],
         "name": "2011"
        },
        {
         "data": [
          {
           "hovertemplate": "<b>%{hovertext}</b><br><br>Continent=Europe<br>Year=2012<br>current health expenditure=%{x}<br>suicides_per_100k=%{y}<br>Both sexes=%{marker.size}<extra></extra>",
           "hovertext": [
            "Slovenia",
            "Norway",
            "Romania",
            "Germany",
            "Ukraine",
            "Sweden",
            "Austria",
            "Estonia",
            "France",
            "Denmark",
            "Greece",
            "Serbia",
            "Netherlands",
            "Finland",
            "Spain",
            "Italy",
            "Belgium",
            "Ireland",
            "Poland",
            "Lithuania",
            "Latvia",
            "Luxembourg",
            "Portugal",
            "Switzerland",
            "Bulgaria",
            "Malta",
            "Hungary",
            "Croatia",
            "Iceland"
           ],
           "ids": [
            "Slovenia",
            "Norway",
            "Romania",
            "Germany",
            "Ukraine",
            "Sweden",
            "Austria",
            "Estonia",
            "France",
            "Denmark",
            "Greece",
            "Serbia",
            "Netherlands",
            "Finland",
            "Spain",
            "Italy",
            "Belgium",
            "Ireland",
            "Poland",
            "Lithuania",
            "Latvia",
            "Luxembourg",
            "Portugal",
            "Switzerland",
            "Bulgaria",
            "Malta",
            "Hungary",
            "Croatia",
            "Iceland"
           ],
           "legendgroup": "Europe",
           "marker": {
            "color": "#1F77B4",
            "size": [
             81,
             60,
             141,
             73,
             211,
             56,
             68,
             134,
             80,
             75,
             72,
             111,
             63,
             80,
             61,
             57,
             79,
             66,
             126,
             180,
             162,
             63,
             81,
             54,
             137,
             57,
             143,
             103,
             50
            ],
            "sizemode": "area",
            "sizeref": 0.53,
            "symbol": "circle"
           },
           "mode": "markers",
           "name": "Europe",
           "orientation": "v",
           "showlegend": true,
           "type": "scatter",
           "x": [
            8.71509933,
            8.77787876,
            4.73353195,
            10.85323715,
            7.11665535,
            10.73515224,
            10.19915581,
            5.79034519,
            11.29740047,
            10.24135303,
            8.92377281,
            9.32176399,
            10.53905964,
            9.5857954,
            9.15699196,
            8.78352833,
            10.50650597,
            10.65266323,
            6.22393656,
            6.2759347,
            5.38090277,
            5.58377266,
            9.65393162,
            10.24875641,
            7.57609081,
            8.37802982,
            7.43017483,
            7.78380489,
            8.18118858
           ],
           "xaxis": "x",
           "y": [
            279.74,
            126,
            142.03,
            148.31,
            268.47,
            148.11,
            206.63,
            241.61,
            198.98,
            143.21,
            53.32,
            234.53,
            118.51,
            187.01,
            96.88,
            85.45,
            217.13,
            137.66,
            192.37,
            374.12,
            267.68,
            140.18,
            139.4,
            165.39,
            164.17,
            59.87,
            305.96,
            239.01,
            145.41
           ],
           "yaxis": "y"
          },
          {
           "hovertemplate": "<b>%{hovertext}</b><br><br>Continent=North America<br>Year=2012<br>current health expenditure=%{x}<br>suicides_per_100k=%{y}<br>Both sexes=%{marker.size}<extra></extra>",
           "hovertext": [
            "Panama",
            "Canada",
            "Cuba",
            "Nicaragua",
            "Costa Rica",
            "El Salvador",
            "Mexico",
            "Belize",
            "Barbados",
            "Grenada",
            "Guatemala",
            "Antigua and Barbuda"
           ],
           "ids": [
            "Panama",
            "Canada",
            "Cuba",
            "Nicaragua",
            "Costa Rica",
            "El Salvador",
            "Mexico",
            "Belize",
            "Barbados",
            "Grenada",
            "Guatemala",
            "Antigua and Barbuda"
           ],
           "legendgroup": "North America",
           "marker": {
            "color": "#FF7F0E",
            "size": [
             116,
             68,
             96,
             155,
             99,
             186,
             131,
             183,
             108,
             147,
             173,
             127
            ],
            "sizemode": "area",
            "sizeref": 0.53,
            "symbol": "circle"
           },
           "mode": "markers",
           "name": "North America",
           "orientation": "v",
           "showlegend": true,
           "type": "scatter",
           "x": [
            6.56412029,
            10.50637913,
            9.29940987,
            7.48836899,
            7.78642225,
            7.53931999,
            5.66522121,
            5.46800852,
            7.77819967,
            5.82235813,
            6.07307673,
            5.47921419
           ],
           "xaxis": "x",
           "y": [
            55.52,
            127.88,
            204,
            72.29,
            80.76,
            123.14,
            63.43,
            73.45,
            0,
            18.009999999999998,
            41.8,
            0
           ],
           "yaxis": "y"
          },
          {
           "hovertemplate": "<b>%{hovertext}</b><br><br>Continent=Asia<br>Year=2012<br>current health expenditure=%{x}<br>suicides_per_100k=%{y}<br>Both sexes=%{marker.size}<extra></extra>",
           "hovertext": [
            "Georgia",
            "Cyprus",
            "Turkmenistan",
            "Singapore",
            "Armenia",
            "Thailand",
            "Japan",
            "Kazakhstan",
            "Uzbekistan",
            "Kuwait",
            "Israel",
            "Qatar",
            "Bahrain"
           ],
           "ids": [
            "Georgia",
            "Cyprus",
            "Turkmenistan",
            "Singapore",
            "Armenia",
            "Thailand",
            "Japan",
            "Kazakhstan",
            "Uzbekistan",
            "Kuwait",
            "Israel",
            "Qatar",
            "Bahrain"
           ],
           "legendgroup": "Asia",
           "marker": {
            "color": "#2CA02C",
            "size": [
             157,
             55,
             189,
             57,
             131,
             155,
             57,
             224,
             145,
             83,
             58,
             65,
             66
            ],
            "sizemode": "area",
            "sizeref": 0.53,
            "symbol": "circle"
           },
           "mode": "markers",
           "name": "Asia",
           "orientation": "v",
           "showlegend": true,
           "type": "scatter",
           "x": [
            8.04715919,
            6.55474567,
            4.77595139,
            3.32783675,
            9.134552,
            3.5229404,
            10.67169189,
            3.03725958,
            5.45723581,
            2.33311439,
            7.11508703,
            1.74822152,
            4.10642147
           ],
           "xaxis": "x",
           "y": [
            34.88,
            42.9,
            30.6,
            141.62,
            36.57,
            80.69,
            233.7,
            271.02,
            77.53,
            15.59,
            83.79,
            13.27,
            8.68
           ],
           "yaxis": "y"
          },
          {
           "hovertemplate": "<b>%{hovertext}</b><br><br>Continent=South America<br>Year=2012<br>current health expenditure=%{x}<br>suicides_per_100k=%{y}<br>Both sexes=%{marker.size}<extra></extra>",
           "hovertext": [
            "Chile",
            "Argentina",
            "Ecuador",
            "Suriname",
            "Colombia",
            "Paraguay",
            "Uruguay",
            "Guyana",
            "Brazil"
           ],
           "ids": [
            "Chile",
            "Argentina",
            "Ecuador",
            "Suriname",
            "Colombia",
            "Paraguay",
            "Uruguay",
            "Guyana",
            "Brazil"
           ],
           "legendgroup": "South America",
           "marker": {
            "color": "#D62728",
            "size": [
             89,
             118,
             127,
             188,
             140,
             149,
             118,
             272,
             150
            ],
            "sizemode": "area",
            "sizeref": 0.53,
            "symbol": "circle"
           },
           "mode": "markers",
           "name": "South America",
           "orientation": "v",
           "showlegend": true,
           "type": "scatter",
           "x": [
            7.0209198,
            9.82728195,
            6.7622118,
            4.58755207,
            6.74599648,
            6.52922678,
            8.0675621,
            3.7081871,
            7.73637724
           ],
           "xaxis": "x",
           "y": [
            148.41,
            119.82,
            84.88,
            454.11,
            66.45,
            63.3,
            264.35,
            367.98,
            74.45
           ],
           "yaxis": "y"
          },
          {
           "hovertemplate": "<b>%{hovertext}</b><br><br>Continent=Africa<br>Year=2012<br>current health expenditure=%{x}<br>suicides_per_100k=%{y}<br>Both sexes=%{marker.size}<extra></extra>",
           "hovertext": [
            "Seychelles",
            "Mauritius",
            "South Africa"
           ],
           "ids": [
            "Seychelles",
            "Mauritius",
            "South Africa"
           ],
           "legendgroup": "Africa",
           "marker": {
            "color": "#9467BD",
            "size": [
             174,
             152,
             361
            ],
            "sizemode": "area",
            "sizeref": 0.53,
            "symbol": "circle"
           },
           "mode": "markers",
           "name": "Africa",
           "orientation": "v",
           "showlegend": true,
           "type": "scatter",
           "x": [
            5.73247576,
            4.27675056,
            8.77310753
           ],
           "xaxis": "x",
           "y": [
            33.5,
            114.25,
            13.56
           ],
           "yaxis": "y"
          },
          {
           "hovertemplate": "<b>%{hovertext}</b><br><br>Continent=Oceania<br>Year=2012<br>current health expenditure=%{x}<br>suicides_per_100k=%{y}<br>Both sexes=%{marker.size}<extra></extra>",
           "hovertext": [
            "Australia",
            "New Zealand",
            "Fiji"
           ],
           "ids": [
            "Australia",
            "New Zealand",
            "Fiji"
           ],
           "legendgroup": "Oceania",
           "marker": {
            "color": "#8C564B",
            "size": [
             60,
             68,
             195
            ],
            "sizemode": "area",
            "sizeref": 0.53,
            "symbol": "circle"
           },
           "mode": "markers",
           "name": "Oceania",
           "orientation": "v",
           "showlegend": true,
           "type": "scatter",
           "x": [
            8.67564774,
            9.65163612,
            3.2655499
           ],
           "xaxis": "x",
           "y": [
            139.57,
            158.03,
            91.58
           ],
           "yaxis": "y"
          }
         ],
         "name": "2012"
        },
        {
         "data": [
          {
           "hovertemplate": "<b>%{hovertext}</b><br><br>Continent=Europe<br>Year=2013<br>current health expenditure=%{x}<br>suicides_per_100k=%{y}<br>Both sexes=%{marker.size}<extra></extra>",
           "hovertext": [
            "Spain",
            "Austria",
            "Belarus",
            "Bulgaria",
            "Slovenia",
            "Belgium",
            "Sweden",
            "Italy",
            "Poland",
            "Latvia",
            "Lithuania",
            "Croatia",
            "Luxembourg",
            "Switzerland",
            "Malta",
            "Netherlands",
            "Norway",
            "Portugal",
            "Ireland",
            "Hungary",
            "Denmark",
            "Estonia",
            "Serbia",
            "Finland",
            "Iceland",
            "France",
            "Greece",
            "Romania",
            "Germany"
           ],
           "ids": [
            "Spain",
            "Austria",
            "Belarus",
            "Bulgaria",
            "Slovenia",
            "Belgium",
            "Sweden",
            "Italy",
            "Poland",
            "Latvia",
            "Lithuania",
            "Croatia",
            "Luxembourg",
            "Switzerland",
            "Malta",
            "Netherlands",
            "Norway",
            "Portugal",
            "Ireland",
            "Hungary",
            "Denmark",
            "Estonia",
            "Serbia",
            "Finland",
            "Iceland",
            "France",
            "Greece",
            "Romania",
            "Germany"
           ],
           "legendgroup": "Europe",
           "marker": {
            "color": "#1F77B4",
            "size": [
             59,
             67,
             183,
             135,
             78,
             77,
             56,
             56,
             121,
             164,
             179,
             96,
             60,
             53,
             57,
             61,
             61,
             78,
             64,
             136,
             72,
             122,
             107,
             78,
             53,
             77,
             68,
             134,
             73
            ],
            "sizemode": "area",
            "sizeref": 0.53,
            "symbol": "circle"
           },
           "mode": "markers",
           "name": "Europe",
           "orientation": "v",
           "showlegend": true,
           "type": "scatter",
           "x": [
            9.06737709,
            10.28574944,
            5.69559479,
            7.16768599,
            8.74028301,
            10.56133938,
            10.9049139,
            8.77543831,
            6.41485739,
            5.36752796,
            6.12593651,
            6.51796293,
            5.52774715,
            10.46214485,
            8.49665737,
            10.5835619,
            8.92953396,
            9.40486622,
            10.29696083,
            7.24897766,
            10.16958141,
            5.97791481,
            9.30588913,
            9.80534649,
            8.17555237,
            11.41635036,
            8.36682224,
            5.19664145,
            10.99795437
           ],
           "xaxis": "x",
           "y": [
            101.32,
            212.12,
            273.32,
            134.16,
            283.02,
            201.55,
            158.20000000000002,
            84.86,
            187.59,
            242.19,
            444.56,
            210.3,
            91.48,
            170.26,
            57.22,
            125.53,
            127.01,
            132.73,
            117.41,
            266.23,
            134.55,
            231.92,
            217.73,
            196.83,
            221.24,
            192.33,
            55.11,
            137.99,
            153.07999999999998
           ],
           "yaxis": "y"
          },
          {
           "hovertemplate": "<b>%{hovertext}</b><br><br>Continent=North America<br>Year=2013<br>current health expenditure=%{x}<br>suicides_per_100k=%{y}<br>Both sexes=%{marker.size}<extra></extra>",
           "hovertext": [
            "Barbados",
            "Belize",
            "Costa Rica",
            "Canada",
            "Cuba",
            "Antigua and Barbuda",
            "Panama",
            "Mexico",
            "Nicaragua",
            "El Salvador",
            "Grenada",
            "Guatemala"
           ],
           "ids": [
            "Barbados",
            "Belize",
            "Costa Rica",
            "Canada",
            "Cuba",
            "Antigua and Barbuda",
            "Panama",
            "Mexico",
            "Nicaragua",
            "El Salvador",
            "Grenada",
            "Guatemala"
           ],
           "legendgroup": "North America",
           "marker": {
            "color": "#FF7F0E",
            "size": [
             101,
             184,
             97,
             66,
             96,
             127,
             114,
             127,
             153,
             184,
             145,
             172
            ],
            "sizemode": "area",
            "sizeref": 0.53,
            "symbol": "circle"
           },
           "mode": "markers",
           "name": "North America",
           "orientation": "v",
           "showlegend": true,
           "type": "scatter",
           "x": [
            7.49560881,
            5.65393209,
            7.68229151,
            10.40513706,
            10.43099499,
            5.50909281,
            6.65125561,
            5.80923605,
            7.6386919,
            7.71839237,
            5.62652922,
            5.77188921
           ],
           "xaxis": "x",
           "y": [
            0,
            56.4,
            89.26,
            133.09,
            190.46,
            0,
            49.31,
            64.99,
            80.97,
            116.06,
            0,
            40.69
           ],
           "yaxis": "y"
          },
          {
           "hovertemplate": "<b>%{hovertext}</b><br><br>Continent=Asia<br>Year=2013<br>current health expenditure=%{x}<br>suicides_per_100k=%{y}<br>Both sexes=%{marker.size}<extra></extra>",
           "hovertext": [
            "Singapore",
            "Armenia",
            "Bahrain",
            "Thailand",
            "Israel",
            "Uzbekistan",
            "Japan",
            "Kazakhstan",
            "Kuwait",
            "Cyprus",
            "Turkmenistan",
            "Georgia",
            "Qatar"
           ],
           "ids": [
            "Singapore",
            "Armenia",
            "Bahrain",
            "Thailand",
            "Israel",
            "Uzbekistan",
            "Japan",
            "Kazakhstan",
            "Kuwait",
            "Cyprus",
            "Turkmenistan",
            "Georgia",
            "Qatar"
           ],
           "legendgroup": "Asia",
           "marker": {
            "color": "#2CA02C",
            "size": [
             56,
             121,
             63,
             154,
             59,
             141,
             56,
             211,
             82,
             58,
             196,
             158,
             65
            ],
            "sizemode": "area",
            "sizeref": 0.53,
            "symbol": "circle"
           },
           "mode": "markers",
           "name": "Asia",
           "orientation": "v",
           "showlegend": true,
           "type": "scatter",
           "x": [
            3.68562651,
            10.32344532,
            4.30853891,
            3.45313334,
            7.07797098,
            5.66173697,
            10.67438602,
            2.66286707,
            2.48789287,
            6.94518471,
            5.15063286,
            7.88304806,
            2.07620168
           ],
           "xaxis": "x",
           "y": [
            137.87,
            37.48,
            2.49,
            79.56,
            74.21,
            78.86,
            231.16,
            296.67,
            9.88,
            64.61,
            23.29,
            55.57,
            8.23
           ],
           "yaxis": "y"
          },
          {
           "hovertemplate": "<b>%{hovertext}</b><br><br>Continent=South America<br>Year=2013<br>current health expenditure=%{x}<br>suicides_per_100k=%{y}<br>Both sexes=%{marker.size}<extra></extra>",
           "hovertext": [
            "Uruguay",
            "Chile",
            "Brazil",
            "Colombia",
            "Paraguay",
            "Ecuador",
            "Suriname",
            "Argentina",
            "Guyana"
           ],
           "ids": [
            "Uruguay",
            "Chile",
            "Brazil",
            "Colombia",
            "Paraguay",
            "Ecuador",
            "Suriname",
            "Argentina",
            "Guyana"
           ],
           "legendgroup": "South America",
           "marker": {
            "color": "#D62728",
            "size": [
             117,
             90,
             148,
             139,
             148,
             122,
             186,
             116,
             263
            ],
            "sizemode": "area",
            "sizeref": 0.53,
            "symbol": "circle"
           },
           "mode": "markers",
           "name": "South America",
           "orientation": "v",
           "showlegend": true,
           "type": "scatter",
           "x": [
            8.11896133,
            7.44478321,
            7.97659969,
            7.01724052,
            6.05105257,
            6.80123425,
            4.80475569,
            9.78097343,
            3.80231333
           ],
           "xaxis": "x",
           "y": [
            249.09,
            134.52,
            73.41,
            63.53,
            75.39,
            62.88,
            286.8,
            103.42,
            356.38
           ],
           "yaxis": "y"
          },
          {
           "hovertemplate": "<b>%{hovertext}</b><br><br>Continent=Africa<br>Year=2013<br>current health expenditure=%{x}<br>suicides_per_100k=%{y}<br>Both sexes=%{marker.size}<extra></extra>",
           "hovertext": [
            "South Africa",
            "Mauritius",
            "Seychelles"
           ],
           "ids": [
            "South Africa",
            "Mauritius",
            "Seychelles"
           ],
           "legendgroup": "Africa",
           "marker": {
            "color": "#9467BD",
            "size": [
             335,
             145,
             171
            ],
            "sizemode": "area",
            "sizeref": 0.53,
            "symbol": "circle"
           },
           "mode": "markers",
           "name": "Africa",
           "orientation": "v",
           "showlegend": true,
           "type": "scatter",
           "x": [
            8.85552406,
            4.68303633,
            4.50912476
           ],
           "xaxis": "x",
           "y": [
            14.9,
            97.67,
            131.4
           ],
           "yaxis": "y"
          },
          {
           "hovertemplate": "<b>%{hovertext}</b><br><br>Continent=Oceania<br>Year=2013<br>current health expenditure=%{x}<br>suicides_per_100k=%{y}<br>Both sexes=%{marker.size}<extra></extra>",
           "hovertext": [
            "Australia",
            "New Zealand"
           ],
           "ids": [
            "Australia",
            "New Zealand"
           ],
           "legendgroup": "Oceania",
           "marker": {
            "color": "#8C564B",
            "size": [
             60,
             66
            ],
            "sizemode": "area",
            "sizeref": 0.53,
            "symbol": "circle"
           },
           "mode": "markers",
           "name": "Oceania",
           "orientation": "v",
           "showlegend": true,
           "type": "scatter",
           "x": [
            8.76116371,
            9.3601923
           ],
           "xaxis": "x",
           "y": [
            138.78,
            144.55
           ],
           "yaxis": "y"
          }
         ],
         "name": "2013"
        },
        {
         "data": [
          {
           "hovertemplate": "<b>%{hovertext}</b><br><br>Continent=Europe<br>Year=2014<br>current health expenditure=%{x}<br>suicides_per_100k=%{y}<br>Both sexes=%{marker.size}<extra></extra>",
           "hovertext": [
            "Ukraine",
            "Sweden",
            "Switzerland",
            "Spain",
            "Bulgaria",
            "Malta",
            "Luxembourg",
            "Lithuania",
            "Croatia",
            "Latvia",
            "Ireland",
            "Denmark",
            "Iceland",
            "Hungary",
            "Estonia",
            "Greece",
            "Finland",
            "Germany",
            "Italy",
            "Bosnia and Herzegovina",
            "Austria",
            "Slovenia",
            "Serbia",
            "Romania",
            "Netherlands",
            "Portugal",
            "Poland",
            "France",
            "Belgium",
            "Norway",
            "Belarus"
           ],
           "ids": [
            "Ukraine",
            "Sweden",
            "Switzerland",
            "Spain",
            "Bulgaria",
            "Malta",
            "Luxembourg",
            "Lithuania",
            "Croatia",
            "Latvia",
            "Ireland",
            "Denmark",
            "Iceland",
            "Hungary",
            "Estonia",
            "Greece",
            "Finland",
            "Germany",
            "Italy",
            "Bosnia and Herzegovina",
            "Austria",
            "Slovenia",
            "Serbia",
            "Romania",
            "Netherlands",
            "Portugal",
            "Poland",
            "France",
            "Belgium",
            "Norway",
            "Belarus"
           ],
           "legendgroup": "Europe",
           "marker": {
            "color": "#1F77B4",
            "size": [
             212,
             55,
             50,
             58,
             141,
             53,
             55,
             167,
             94,
             159,
             62,
             68,
             55,
             133,
             124,
             67,
             73,
             70,
             54,
             96,
             65,
             70,
             106,
             140,
             59,
             77,
             115,
             74,
             73,
             57,
             175
            ],
            "sizemode": "area",
            "sizeref": 0.53,
            "symbol": "circle"
           },
           "mode": "markers",
           "name": "Europe",
           "orientation": "v",
           "showlegend": true,
           "type": "scatter",
           "x": [
            7.18958139,
            10.9479475,
            10.61642265,
            9.08936405,
            7.70713234,
            9.08505249,
            5.43687868,
            6.19332647,
            6.70013046,
            5.46614885,
            9.53489971,
            10.17190456,
            8.22888947,
            7.06011677,
            6.08077621,
            7.90779018,
            9.78115082,
            11.02157784,
            8.86791897,
            9.49011135,
            10.36809254,
            8.50197506,
            9.23958969,
            5.02168465,
            10.56706905,
            9.34288025,
            6.38664055,
            11.54441643,
            10.59411144,
            9.34493351,
            5.38793373
           ],
           "xaxis": "x",
           "y": [
            250.5,
            149.05,
            162.1,
            104.35,
            139.77,
            102.08,
            147.88,
            401.27,
            222.04,
            248.81,
            119.68,
            137.73,
            197.96,
            244.31,
            258.91,
            59.82,
            177.16,
            153.04,
            82.13,
            109.5,
            209.82,
            240.37,
            216.78,
            131.03,
            121.42,
            153.89,
            178.3,
            179.56,
            201.85,
            127.23,
            252.91
           ],
           "yaxis": "y"
          },
          {
           "hovertemplate": "<b>%{hovertext}</b><br><br>Continent=North America<br>Year=2014<br>current health expenditure=%{x}<br>suicides_per_100k=%{y}<br>Both sexes=%{marker.size}<extra></extra>",
           "hovertext": [
            "Mexico",
            "Costa Rica",
            "Cuba",
            "Guatemala",
            "El Salvador",
            "Grenada",
            "Antigua and Barbuda",
            "Belize",
            "Panama",
            "Nicaragua"
           ],
           "ids": [
            "Mexico",
            "Costa Rica",
            "Cuba",
            "Guatemala",
            "El Salvador",
            "Grenada",
            "Antigua and Barbuda",
            "Belize",
            "Panama",
            "Nicaragua"
           ],
           "legendgroup": "North America",
           "marker": {
            "color": "#FF7F0E",
            "size": [
             129,
             95,
             95,
             169,
             182,
             143,
             127,
             183,
             111,
             150
            ],
            "sizemode": "area",
            "sizeref": 0.53,
            "symbol": "circle"
           },
           "mode": "markers",
           "name": "North America",
           "orientation": "v",
           "showlegend": true,
           "type": "scatter",
           "x": [
            5.55341005,
            7.66376114,
            12.1412344,
            5.8885684,
            7.68152761,
            4.77353573,
            5.87269974,
            6.19277191,
            6.92144489,
            7.97716141
           ],
           "xaxis": "x",
           "y": [
            68.38,
            70.85,
            184.63,
            45.88,
            101.84,
            0,
            0,
            90.95,
            55.98,
            71.4
           ],
           "yaxis": "y"
          },
          {
           "hovertemplate": "<b>%{hovertext}</b><br><br>Continent=Asia<br>Year=2014<br>current health expenditure=%{x}<br>suicides_per_100k=%{y}<br>Both sexes=%{marker.size}<extra></extra>",
           "hovertext": [
            "Turkmenistan",
            "Thailand",
            "Uzbekistan",
            "Georgia",
            "Kuwait",
            "Kazakhstan",
            "Japan",
            "Israel",
            "Cyprus",
            "Singapore",
            "Armenia",
            "Qatar",
            "Oman",
            "Bahrain"
           ],
           "ids": [
            "Turkmenistan",
            "Thailand",
            "Uzbekistan",
            "Georgia",
            "Kuwait",
            "Kazakhstan",
            "Japan",
            "Israel",
            "Cyprus",
            "Singapore",
            "Armenia",
            "Qatar",
            "Oman",
            "Bahrain"
           ],
           "legendgroup": "Asia",
           "marker": {
            "color": "#2CA02C",
            "size": [
             199,
             151,
             139,
             155,
             81,
             199,
             54,
             58,
             61,
             55,
             118,
             64,
             100,
             62
            ],
            "sizemode": "area",
            "sizeref": 0.53,
            "symbol": "circle"
           },
           "mode": "markers",
           "name": "Asia",
           "orientation": "v",
           "showlegend": true,
           "type": "scatter",
           "x": [
            5.49777317,
            3.68448091,
            4.6729269,
            7.90386868,
            2.9159987,
            2.97468472,
            10.7290144,
            7.14262056,
            6.95228958,
            3.87155676,
            10.17827034,
            2.42293572,
            3.52693391,
            4.40681839
           ],
           "xaxis": "x",
           "y": [
            28.15,
            76.96000000000001,
            85.12,
            74.49,
            15.86,
            257.09,
            218.21,
            71.25999999999999,
            57.1,
            131.78,
            37.01,
            18.99,
            1.51,
            6.5200000000000005
           ],
           "yaxis": "y"
          },
          {
           "hovertemplate": "<b>%{hovertext}</b><br><br>Continent=South America<br>Year=2014<br>current health expenditure=%{x}<br>suicides_per_100k=%{y}<br>Both sexes=%{marker.size}<extra></extra>",
           "hovertext": [
            "Suriname",
            "Uruguay",
            "Chile",
            "Colombia",
            "Brazil",
            "Ecuador",
            "Argentina",
            "Paraguay"
           ],
           "ids": [
            "Suriname",
            "Uruguay",
            "Chile",
            "Colombia",
            "Brazil",
            "Ecuador",
            "Argentina",
            "Paraguay"
           ],
           "legendgroup": "South America",
           "marker": {
            "color": "#D62728",
            "size": [
             184,
             114,
             88,
             139,
             145,
             119,
             113,
             147
            ],
            "sizemode": "area",
            "sizeref": 0.53,
            "symbol": "circle"
           },
           "mode": "markers",
           "name": "South America",
           "orientation": "v",
           "showlegend": true,
           "type": "scatter",
           "x": [
            4.84127617,
            8.07321835,
            7.80729866,
            7.18553209,
            8.39644623,
            6.72399426,
            9.67129135,
            6.64387417
           ],
           "xaxis": "x",
           "y": [
            357.34000000000003,
            248.64,
            137.37,
            66.62,
            73.13,
            66.02,
            111.35,
            72.15
           ],
           "yaxis": "y"
          },
          {
           "hovertemplate": "<b>%{hovertext}</b><br><br>Continent=Africa<br>Year=2014<br>current health expenditure=%{x}<br>suicides_per_100k=%{y}<br>Both sexes=%{marker.size}<extra></extra>",
           "hovertext": [
            "Mauritius",
            "South Africa",
            "Seychelles"
           ],
           "ids": [
            "Mauritius",
            "South Africa",
            "Seychelles"
           ],
           "legendgroup": "Africa",
           "marker": {
            "color": "#9467BD",
            "size": [
             148,
             316,
             168
            ],
            "sizemode": "area",
            "sizeref": 0.53,
            "symbol": "circle"
           },
           "mode": "markers",
           "name": "Africa",
           "orientation": "v",
           "showlegend": true,
           "type": "scatter",
           "x": [
            5.49399614,
            8.55091476,
            4.7388773
           ],
           "xaxis": "x",
           "y": [
            115.45,
            15.08,
            43.33
           ],
           "yaxis": "y"
          },
          {
           "hovertemplate": "<b>%{hovertext}</b><br><br>Continent=Oceania<br>Year=2014<br>current health expenditure=%{x}<br>suicides_per_100k=%{y}<br>Both sexes=%{marker.size}<extra></extra>",
           "hovertext": [
            "Australia"
           ],
           "ids": [
            "Australia"
           ],
           "legendgroup": "Oceania",
           "marker": {
            "color": "#8C564B",
            "size": [
             61
            ],
            "sizemode": "area",
            "sizeref": 0.53,
            "symbol": "circle"
           },
           "mode": "markers",
           "name": "Oceania",
           "orientation": "v",
           "showlegend": true,
           "type": "scatter",
           "x": [
            9.03597069
           ],
           "xaxis": "x",
           "y": [
            149.07
           ],
           "yaxis": "y"
          }
         ],
         "name": "2014"
        },
        {
         "data": [
          {
           "hovertemplate": "<b>%{hovertext}</b><br><br>Continent=Europe<br>Year=2015<br>current health expenditure=%{x}<br>suicides_per_100k=%{y}<br>Both sexes=%{marker.size}<extra></extra>",
           "hovertext": [
            "Croatia",
            "Finland",
            "Estonia",
            "Belgium",
            "Denmark",
            "Austria",
            "Ukraine",
            "Malta",
            "Netherlands",
            "Sweden",
            "Norway",
            "Luxembourg",
            "Romania",
            "Serbia",
            "Slovenia",
            "Poland",
            "Switzerland",
            "Spain",
            "Latvia",
            "Germany",
            "Greece",
            "Italy",
            "Iceland",
            "Hungary",
            "Lithuania"
           ],
           "ids": [
            "Croatia",
            "Finland",
            "Estonia",
            "Belgium",
            "Denmark",
            "Austria",
            "Ukraine",
            "Malta",
            "Netherlands",
            "Sweden",
            "Norway",
            "Luxembourg",
            "Romania",
            "Serbia",
            "Slovenia",
            "Poland",
            "Switzerland",
            "Spain",
            "Latvia",
            "Germany",
            "Greece",
            "Italy",
            "Iceland",
            "Hungary",
            "Lithuania"
           ],
           "legendgroup": "Europe",
           "marker": {
            "color": "#1F77B4",
            "size": [
             96,
             70,
             116,
             72,
             66,
             64,
             188,
             55,
             58,
             54,
             54,
             52,
             136,
             106,
             74,
             115,
             50,
             58,
             154,
             71,
             68,
             55,
             54,
             132,
             165
            ],
            "sizemode": "area",
            "sizeref": 0.53,
            "symbol": "circle"
           },
           "mode": "markers",
           "name": "Europe",
           "orientation": "v",
           "showlegend": true,
           "type": "scatter",
           "x": [
            6.78702879,
            9.64523888,
            6.34629202,
            10.43065357,
            10.22716618,
            10.36746693,
            7.77609348,
            8.89759541,
            10.32393837,
            10.80418396,
            10.13146877,
            5.28378248,
            4.94721556,
            8.8132,
            8.49823952,
            6.39477158,
            11.00794983,
            9.12617207,
            5.65469503,
            11.18370342,
            8.06892395,
            8.85689163,
            8.06978989,
            6.85949564,
            6.49043989
           ],
           "xaxis": "x",
           "y": [
            229.68,
            161.19,
            205.38,
            196.66,
            121.42,
            194.62,
            244.72,
            78.27,
            126.93,
            149.3,
            136.43,
            134.4,
            133.54999999999998,
            205.97,
            264.81,
            166.99,
            164.66,
            97.38,
            251.47,
            150.34,
            56.06,
            78.45,
            140.65,
            257.27,
            385.48
           ],
           "yaxis": "y"
          },
          {
           "hovertemplate": "<b>%{hovertext}</b><br><br>Continent=North America<br>Year=2015<br>current health expenditure=%{x}<br>suicides_per_100k=%{y}<br>Both sexes=%{marker.size}<extra></extra>",
           "hovertext": [
            "Antigua and Barbuda",
            "Cuba",
            "Belize",
            "Mexico",
            "Nicaragua",
            "Panama",
            "Grenada",
            "Guatemala"
           ],
           "ids": [
            "Antigua and Barbuda",
            "Cuba",
            "Belize",
            "Mexico",
            "Nicaragua",
            "Panama",
            "Grenada",
            "Guatemala"
           ],
           "legendgroup": "North America",
           "marker": {
            "color": "#FF7F0E",
            "size": [
             122,
             94,
             182,
             128,
             148,
             112,
             141,
             165
            ],
            "sizemode": "area",
            "sizeref": 0.53,
            "symbol": "circle"
           },
           "mode": "markers",
           "name": "North America",
           "orientation": "v",
           "showlegend": true,
           "type": "scatter",
           "x": [
            5.27965546,
            12.81401348,
            5.9350915,
            5.72277403,
            7.96303225,
            6.8090291,
            4.64675617,
            6.00602055
           ],
           "xaxis": "x",
           "y": [
            15.62,
            194.31,
            135.46,
            66.57,
            69.87,
            44.9,
            0,
            44.85
           ],
           "yaxis": "y"
          },
          {
           "hovertemplate": "<b>%{hovertext}</b><br><br>Continent=Asia<br>Year=2015<br>current health expenditure=%{x}<br>suicides_per_100k=%{y}<br>Both sexes=%{marker.size}<extra></extra>",
           "hovertext": [
            "Armenia",
            "Cyprus",
            "Israel",
            "Georgia",
            "Turkmenistan",
            "Qatar",
            "Singapore",
            "Kazakhstan",
            "Japan",
            "Thailand"
           ],
           "ids": [
            "Armenia",
            "Cyprus",
            "Israel",
            "Georgia",
            "Turkmenistan",
            "Qatar",
            "Singapore",
            "Kazakhstan",
            "Japan",
            "Thailand"
           ],
           "legendgroup": "Asia",
           "marker": {
            "color": "#2CA02C",
            "size": [
             121,
             57,
             58,
             156,
             198,
             63,
             54,
             192,
             53,
             149
            ],
            "sizemode": "area",
            "sizeref": 0.53,
            "symbol": "circle"
           },
           "mode": "markers",
           "name": "Asia",
           "orientation": "v",
           "showlegend": true,
           "type": "scatter",
           "x": [
            10.11763382,
            6.75352287,
            7.09919786,
            7.42301512,
            6.29793644,
            3.00097346,
            4.18069839,
            3.04051137,
            10.74969959,
            3.66788888
           ],
           "xaxis": "x",
           "y": [
            45.28,
            49.59,
            65.91,
            84.67999999999999,
            28.48,
            18.84,
            109.29,
            238.02,
            206.04,
            81.15
           ],
           "yaxis": "y"
          },
          {
           "hovertemplate": "<b>%{hovertext}</b><br><br>Continent=South America<br>Year=2015<br>current health expenditure=%{x}<br>suicides_per_100k=%{y}<br>Both sexes=%{marker.size}<extra></extra>",
           "hovertext": [
            "Brazil",
            "Argentina",
            "Chile",
            "Colombia",
            "Uruguay",
            "Ecuador"
           ],
           "ids": [
            "Brazil",
            "Argentina",
            "Chile",
            "Colombia",
            "Uruguay",
            "Ecuador"
           ],
           "legendgroup": "South America",
           "marker": {
            "color": "#D62728",
            "size": [
             145,
             113,
             88,
             138,
             114,
             117
            ],
            "sizemode": "area",
            "sizeref": 0.53,
            "symbol": "circle"
           },
           "mode": "markers",
           "name": "South America",
           "orientation": "v",
           "showlegend": true,
           "type": "scatter",
           "x": [
            8.90929508,
            10.22933865,
            8.30269146,
            7.52338552,
            8.29223633,
            7.49149466
           ],
           "xaxis": "x",
           "y": [
            77.45,
            112.13,
            147.68,
            70.39999999999999,
            270.02,
            97.39
           ],
           "yaxis": "y"
          },
          {
           "hovertemplate": "<b>%{hovertext}</b><br><br>Continent=Africa<br>Year=2015<br>current health expenditure=%{x}<br>suicides_per_100k=%{y}<br>Both sexes=%{marker.size}<extra></extra>",
           "hovertext": [
            "Seychelles",
            "South Africa",
            "Mauritius"
           ],
           "ids": [
            "Seychelles",
            "South Africa",
            "Mauritius"
           ],
           "legendgroup": "Africa",
           "marker": {
            "color": "#9467BD",
            "size": [
             166,
             305,
             148
            ],
            "sizemode": "area",
            "sizeref": 0.53,
            "symbol": "circle"
           },
           "mode": "markers",
           "name": "Africa",
           "orientation": "v",
           "showlegend": true,
           "type": "scatter",
           "x": [
            4.5895319,
            8.79018974,
            5.6999588
           ],
           "xaxis": "x",
           "y": [
            81.25,
            13,
            99.97
           ],
           "yaxis": "y"
          },
          {
           "hovertemplate": "<b>%{hovertext}</b><br><br>Continent=Oceania<br>Year=2015<br>current health expenditure=%{x}<br>suicides_per_100k=%{y}<br>Both sexes=%{marker.size}<extra></extra>",
           "hovertext": [
            "Australia"
           ],
           "ids": [
            "Australia"
           ],
           "legendgroup": "Oceania",
           "marker": {
            "color": "#8C564B",
            "size": [
             62
            ],
            "sizemode": "area",
            "sizeref": 0.53,
            "symbol": "circle"
           },
           "mode": "markers",
           "name": "Oceania",
           "orientation": "v",
           "showlegend": true,
           "type": "scatter",
           "x": [
            9.32758904
           ],
           "xaxis": "x",
           "y": [
            154.18
           ],
           "yaxis": "y"
          }
         ],
         "name": "2015"
        },
        {
         "data": [
          {
           "hovertemplate": "<b>%{hovertext}</b><br><br>Continent=Europe<br>Year=2016<br>current health expenditure=%{x}<br>suicides_per_100k=%{y}<br>Both sexes=%{marker.size}<extra></extra>",
           "hovertext": [
            "Lithuania",
            "Romania",
            "Austria",
            "Iceland",
            "Sweden",
            "Netherlands",
            "Croatia",
            "Hungary"
           ],
           "ids": [
            "Lithuania",
            "Romania",
            "Austria",
            "Iceland",
            "Sweden",
            "Netherlands",
            "Croatia",
            "Hungary"
           ],
           "legendgroup": "Europe",
           "marker": {
            "color": "#1F77B4",
            "size": [
             155,
             135,
             62,
             55,
             52,
             59,
             88,
             126
            ],
            "sizemode": "area",
            "sizeref": 0.53,
            "symbol": "circle"
           },
           "mode": "markers",
           "name": "Europe",
           "orientation": "v",
           "showlegend": true,
           "type": "scatter",
           "x": [
            6.63746214,
            5.00346899,
            10.3522625,
            8.09714699,
            10.85240364,
            10.2942524,
            6.82921791,
            6.99535179
           ],
           "xaxis": "x",
           "y": [
            361.72,
            116.33,
            183.23,
            138.07,
            138.84,
            127.39,
            213.56,
            241.34
           ],
           "yaxis": "y"
          },
          {
           "hovertemplate": "<b>%{hovertext}</b><br><br>Continent=North America<br>Year=2016<br>current health expenditure=%{x}<br>suicides_per_100k=%{y}<br>Both sexes=%{marker.size}<extra></extra>",
           "hovertext": [
            "Grenada"
           ],
           "ids": [
            "Grenada"
           ],
           "legendgroup": "North America",
           "marker": {
            "color": "#FF7F0E",
            "size": [
             140
            ],
            "sizemode": "area",
            "sizeref": 0.53,
            "symbol": "circle"
           },
           "mode": "markers",
           "name": "North America",
           "orientation": "v",
           "showlegend": true,
           "type": "scatter",
           "x": [
            4.43910027
           ],
           "xaxis": "x",
           "y": [
            0
           ],
           "yaxis": "y"
          },
          {
           "hovertemplate": "<b>%{hovertext}</b><br><br>Continent=Asia<br>Year=2016<br>current health expenditure=%{x}<br>suicides_per_100k=%{y}<br>Both sexes=%{marker.size}<extra></extra>",
           "hovertext": [
            "Armenia",
            "Cyprus",
            "Thailand",
            "Mongolia",
            "Qatar"
           ],
           "ids": [
            "Armenia",
            "Cyprus",
            "Thailand",
            "Mongolia",
            "Qatar"
           ],
           "legendgroup": "Asia",
           "marker": {
            "color": "#2CA02C",
            "size": [
             116,
             55,
             147,
             211,
             62
            ],
            "sizemode": "area",
            "sizeref": 0.53,
            "symbol": "circle"
           },
           "mode": "markers",
           "name": "Asia",
           "orientation": "v",
           "showlegend": true,
           "type": "scatter",
           "x": [
            9.95196629,
            6.62359428,
            3.7540946,
            4.42355633,
            3.24747443
           ],
           "xaxis": "x",
           "y": [
            40.56,
            47.15,
            77.32,
            184.39,
            16.43
           ],
           "yaxis": "y"
          },
          {
           "hovertemplate": "<b>%{hovertext}</b><br><br>Continent=Africa<br>Year=2016<br>current health expenditure=%{x}<br>suicides_per_100k=%{y}<br>Both sexes=%{marker.size}<extra></extra>",
           "hovertext": [
            "Mauritius"
           ],
           "ids": [
            "Mauritius"
           ],
           "legendgroup": "Africa",
           "marker": {
            "color": "#9467BD",
            "size": [
             145
            ],
            "sizemode": "area",
            "sizeref": 0.53,
            "symbol": "circle"
           },
           "mode": "markers",
           "name": "Africa",
           "orientation": "v",
           "showlegend": true,
           "type": "scatter",
           "x": [
            5.70678568
           ],
           "xaxis": "x",
           "y": [
            99.3
           ],
           "yaxis": "y"
          }
         ],
         "name": "2016"
        }
       ],
       "layout": {
        "height": 700,
        "legend": {
         "itemsizing": "constant",
         "title": {
          "text": "Continent"
         },
         "tracegroupgap": 0
        },
        "margin": {
         "t": 60
        },
        "sliders": [
         {
          "active": 0,
          "currentvalue": {
           "prefix": "Year="
          },
          "len": 0.9,
          "pad": {
           "b": 10,
           "t": 60
          },
          "steps": [
           {
            "args": [
             [
              "2000"
             ],
             {
              "frame": {
               "duration": 0,
               "redraw": false
              },
              "fromcurrent": true,
              "mode": "immediate",
              "transition": {
               "duration": 0,
               "easing": "linear"
              }
             }
            ],
            "label": "2000",
            "method": "animate"
           },
           {
            "args": [
             [
              "2001"
             ],
             {
              "frame": {
               "duration": 0,
               "redraw": false
              },
              "fromcurrent": true,
              "mode": "immediate",
              "transition": {
               "duration": 0,
               "easing": "linear"
              }
             }
            ],
            "label": "2001",
            "method": "animate"
           },
           {
            "args": [
             [
              "2002"
             ],
             {
              "frame": {
               "duration": 0,
               "redraw": false
              },
              "fromcurrent": true,
              "mode": "immediate",
              "transition": {
               "duration": 0,
               "easing": "linear"
              }
             }
            ],
            "label": "2002",
            "method": "animate"
           },
           {
            "args": [
             [
              "2003"
             ],
             {
              "frame": {
               "duration": 0,
               "redraw": false
              },
              "fromcurrent": true,
              "mode": "immediate",
              "transition": {
               "duration": 0,
               "easing": "linear"
              }
             }
            ],
            "label": "2003",
            "method": "animate"
           },
           {
            "args": [
             [
              "2004"
             ],
             {
              "frame": {
               "duration": 0,
               "redraw": false
              },
              "fromcurrent": true,
              "mode": "immediate",
              "transition": {
               "duration": 0,
               "easing": "linear"
              }
             }
            ],
            "label": "2004",
            "method": "animate"
           },
           {
            "args": [
             [
              "2005"
             ],
             {
              "frame": {
               "duration": 0,
               "redraw": false
              },
              "fromcurrent": true,
              "mode": "immediate",
              "transition": {
               "duration": 0,
               "easing": "linear"
              }
             }
            ],
            "label": "2005",
            "method": "animate"
           },
           {
            "args": [
             [
              "2006"
             ],
             {
              "frame": {
               "duration": 0,
               "redraw": false
              },
              "fromcurrent": true,
              "mode": "immediate",
              "transition": {
               "duration": 0,
               "easing": "linear"
              }
             }
            ],
            "label": "2006",
            "method": "animate"
           },
           {
            "args": [
             [
              "2007"
             ],
             {
              "frame": {
               "duration": 0,
               "redraw": false
              },
              "fromcurrent": true,
              "mode": "immediate",
              "transition": {
               "duration": 0,
               "easing": "linear"
              }
             }
            ],
            "label": "2007",
            "method": "animate"
           },
           {
            "args": [
             [
              "2008"
             ],
             {
              "frame": {
               "duration": 0,
               "redraw": false
              },
              "fromcurrent": true,
              "mode": "immediate",
              "transition": {
               "duration": 0,
               "easing": "linear"
              }
             }
            ],
            "label": "2008",
            "method": "animate"
           },
           {
            "args": [
             [
              "2009"
             ],
             {
              "frame": {
               "duration": 0,
               "redraw": false
              },
              "fromcurrent": true,
              "mode": "immediate",
              "transition": {
               "duration": 0,
               "easing": "linear"
              }
             }
            ],
            "label": "2009",
            "method": "animate"
           },
           {
            "args": [
             [
              "2010"
             ],
             {
              "frame": {
               "duration": 0,
               "redraw": false
              },
              "fromcurrent": true,
              "mode": "immediate",
              "transition": {
               "duration": 0,
               "easing": "linear"
              }
             }
            ],
            "label": "2010",
            "method": "animate"
           },
           {
            "args": [
             [
              "2011"
             ],
             {
              "frame": {
               "duration": 0,
               "redraw": false
              },
              "fromcurrent": true,
              "mode": "immediate",
              "transition": {
               "duration": 0,
               "easing": "linear"
              }
             }
            ],
            "label": "2011",
            "method": "animate"
           },
           {
            "args": [
             [
              "2012"
             ],
             {
              "frame": {
               "duration": 0,
               "redraw": false
              },
              "fromcurrent": true,
              "mode": "immediate",
              "transition": {
               "duration": 0,
               "easing": "linear"
              }
             }
            ],
            "label": "2012",
            "method": "animate"
           },
           {
            "args": [
             [
              "2013"
             ],
             {
              "frame": {
               "duration": 0,
               "redraw": false
              },
              "fromcurrent": true,
              "mode": "immediate",
              "transition": {
               "duration": 0,
               "easing": "linear"
              }
             }
            ],
            "label": "2013",
            "method": "animate"
           },
           {
            "args": [
             [
              "2014"
             ],
             {
              "frame": {
               "duration": 0,
               "redraw": false
              },
              "fromcurrent": true,
              "mode": "immediate",
              "transition": {
               "duration": 0,
               "easing": "linear"
              }
             }
            ],
            "label": "2014",
            "method": "animate"
           },
           {
            "args": [
             [
              "2015"
             ],
             {
              "frame": {
               "duration": 0,
               "redraw": false
              },
              "fromcurrent": true,
              "mode": "immediate",
              "transition": {
               "duration": 0,
               "easing": "linear"
              }
             }
            ],
            "label": "2015",
            "method": "animate"
           },
           {
            "args": [
             [
              "2016"
             ],
             {
              "frame": {
               "duration": 0,
               "redraw": false
              },
              "fromcurrent": true,
              "mode": "immediate",
              "transition": {
               "duration": 0,
               "easing": "linear"
              }
             }
            ],
            "label": "2016",
            "method": "animate"
           }
          ],
          "x": 0.1,
          "xanchor": "left",
          "y": 0,
          "yanchor": "top"
         }
        ],
        "template": {
         "data": {
          "bar": [
           {
            "error_x": {
             "color": "rgb(36,36,36)"
            },
            "error_y": {
             "color": "rgb(36,36,36)"
            },
            "marker": {
             "line": {
              "color": "white",
              "width": 0.5
             },
             "pattern": {
              "fillmode": "overlay",
              "size": 10,
              "solidity": 0.2
             }
            },
            "type": "bar"
           }
          ],
          "barpolar": [
           {
            "marker": {
             "line": {
              "color": "white",
              "width": 0.5
             },
             "pattern": {
              "fillmode": "overlay",
              "size": 10,
              "solidity": 0.2
             }
            },
            "type": "barpolar"
           }
          ],
          "carpet": [
           {
            "aaxis": {
             "endlinecolor": "rgb(36,36,36)",
             "gridcolor": "white",
             "linecolor": "white",
             "minorgridcolor": "white",
             "startlinecolor": "rgb(36,36,36)"
            },
            "baxis": {
             "endlinecolor": "rgb(36,36,36)",
             "gridcolor": "white",
             "linecolor": "white",
             "minorgridcolor": "white",
             "startlinecolor": "rgb(36,36,36)"
            },
            "type": "carpet"
           }
          ],
          "choropleth": [
           {
            "colorbar": {
             "outlinewidth": 1,
             "tickcolor": "rgb(36,36,36)",
             "ticks": "outside"
            },
            "type": "choropleth"
           }
          ],
          "contour": [
           {
            "colorbar": {
             "outlinewidth": 1,
             "tickcolor": "rgb(36,36,36)",
             "ticks": "outside"
            },
            "colorscale": [
             [
              0,
              "#440154"
             ],
             [
              0.1111111111111111,
              "#482878"
             ],
             [
              0.2222222222222222,
              "#3e4989"
             ],
             [
              0.3333333333333333,
              "#31688e"
             ],
             [
              0.4444444444444444,
              "#26828e"
             ],
             [
              0.5555555555555556,
              "#1f9e89"
             ],
             [
              0.6666666666666666,
              "#35b779"
             ],
             [
              0.7777777777777778,
              "#6ece58"
             ],
             [
              0.8888888888888888,
              "#b5de2b"
             ],
             [
              1,
              "#fde725"
             ]
            ],
            "type": "contour"
           }
          ],
          "contourcarpet": [
           {
            "colorbar": {
             "outlinewidth": 1,
             "tickcolor": "rgb(36,36,36)",
             "ticks": "outside"
            },
            "type": "contourcarpet"
           }
          ],
          "heatmap": [
           {
            "colorbar": {
             "outlinewidth": 1,
             "tickcolor": "rgb(36,36,36)",
             "ticks": "outside"
            },
            "colorscale": [
             [
              0,
              "#440154"
             ],
             [
              0.1111111111111111,
              "#482878"
             ],
             [
              0.2222222222222222,
              "#3e4989"
             ],
             [
              0.3333333333333333,
              "#31688e"
             ],
             [
              0.4444444444444444,
              "#26828e"
             ],
             [
              0.5555555555555556,
              "#1f9e89"
             ],
             [
              0.6666666666666666,
              "#35b779"
             ],
             [
              0.7777777777777778,
              "#6ece58"
             ],
             [
              0.8888888888888888,
              "#b5de2b"
             ],
             [
              1,
              "#fde725"
             ]
            ],
            "type": "heatmap"
           }
          ],
          "heatmapgl": [
           {
            "colorbar": {
             "outlinewidth": 1,
             "tickcolor": "rgb(36,36,36)",
             "ticks": "outside"
            },
            "colorscale": [
             [
              0,
              "#440154"
             ],
             [
              0.1111111111111111,
              "#482878"
             ],
             [
              0.2222222222222222,
              "#3e4989"
             ],
             [
              0.3333333333333333,
              "#31688e"
             ],
             [
              0.4444444444444444,
              "#26828e"
             ],
             [
              0.5555555555555556,
              "#1f9e89"
             ],
             [
              0.6666666666666666,
              "#35b779"
             ],
             [
              0.7777777777777778,
              "#6ece58"
             ],
             [
              0.8888888888888888,
              "#b5de2b"
             ],
             [
              1,
              "#fde725"
             ]
            ],
            "type": "heatmapgl"
           }
          ],
          "histogram": [
           {
            "marker": {
             "line": {
              "color": "white",
              "width": 0.6
             }
            },
            "type": "histogram"
           }
          ],
          "histogram2d": [
           {
            "colorbar": {
             "outlinewidth": 1,
             "tickcolor": "rgb(36,36,36)",
             "ticks": "outside"
            },
            "colorscale": [
             [
              0,
              "#440154"
             ],
             [
              0.1111111111111111,
              "#482878"
             ],
             [
              0.2222222222222222,
              "#3e4989"
             ],
             [
              0.3333333333333333,
              "#31688e"
             ],
             [
              0.4444444444444444,
              "#26828e"
             ],
             [
              0.5555555555555556,
              "#1f9e89"
             ],
             [
              0.6666666666666666,
              "#35b779"
             ],
             [
              0.7777777777777778,
              "#6ece58"
             ],
             [
              0.8888888888888888,
              "#b5de2b"
             ],
             [
              1,
              "#fde725"
             ]
            ],
            "type": "histogram2d"
           }
          ],
          "histogram2dcontour": [
           {
            "colorbar": {
             "outlinewidth": 1,
             "tickcolor": "rgb(36,36,36)",
             "ticks": "outside"
            },
            "colorscale": [
             [
              0,
              "#440154"
             ],
             [
              0.1111111111111111,
              "#482878"
             ],
             [
              0.2222222222222222,
              "#3e4989"
             ],
             [
              0.3333333333333333,
              "#31688e"
             ],
             [
              0.4444444444444444,
              "#26828e"
             ],
             [
              0.5555555555555556,
              "#1f9e89"
             ],
             [
              0.6666666666666666,
              "#35b779"
             ],
             [
              0.7777777777777778,
              "#6ece58"
             ],
             [
              0.8888888888888888,
              "#b5de2b"
             ],
             [
              1,
              "#fde725"
             ]
            ],
            "type": "histogram2dcontour"
           }
          ],
          "mesh3d": [
           {
            "colorbar": {
             "outlinewidth": 1,
             "tickcolor": "rgb(36,36,36)",
             "ticks": "outside"
            },
            "type": "mesh3d"
           }
          ],
          "parcoords": [
           {
            "line": {
             "colorbar": {
              "outlinewidth": 1,
              "tickcolor": "rgb(36,36,36)",
              "ticks": "outside"
             }
            },
            "type": "parcoords"
           }
          ],
          "pie": [
           {
            "automargin": true,
            "type": "pie"
           }
          ],
          "scatter": [
           {
            "fillpattern": {
             "fillmode": "overlay",
             "size": 10,
             "solidity": 0.2
            },
            "type": "scatter"
           }
          ],
          "scatter3d": [
           {
            "line": {
             "colorbar": {
              "outlinewidth": 1,
              "tickcolor": "rgb(36,36,36)",
              "ticks": "outside"
             }
            },
            "marker": {
             "colorbar": {
              "outlinewidth": 1,
              "tickcolor": "rgb(36,36,36)",
              "ticks": "outside"
             }
            },
            "type": "scatter3d"
           }
          ],
          "scattercarpet": [
           {
            "marker": {
             "colorbar": {
              "outlinewidth": 1,
              "tickcolor": "rgb(36,36,36)",
              "ticks": "outside"
             }
            },
            "type": "scattercarpet"
           }
          ],
          "scattergeo": [
           {
            "marker": {
             "colorbar": {
              "outlinewidth": 1,
              "tickcolor": "rgb(36,36,36)",
              "ticks": "outside"
             }
            },
            "type": "scattergeo"
           }
          ],
          "scattergl": [
           {
            "marker": {
             "colorbar": {
              "outlinewidth": 1,
              "tickcolor": "rgb(36,36,36)",
              "ticks": "outside"
             }
            },
            "type": "scattergl"
           }
          ],
          "scattermapbox": [
           {
            "marker": {
             "colorbar": {
              "outlinewidth": 1,
              "tickcolor": "rgb(36,36,36)",
              "ticks": "outside"
             }
            },
            "type": "scattermapbox"
           }
          ],
          "scatterpolar": [
           {
            "marker": {
             "colorbar": {
              "outlinewidth": 1,
              "tickcolor": "rgb(36,36,36)",
              "ticks": "outside"
             }
            },
            "type": "scatterpolar"
           }
          ],
          "scatterpolargl": [
           {
            "marker": {
             "colorbar": {
              "outlinewidth": 1,
              "tickcolor": "rgb(36,36,36)",
              "ticks": "outside"
             }
            },
            "type": "scatterpolargl"
           }
          ],
          "scatterternary": [
           {
            "marker": {
             "colorbar": {
              "outlinewidth": 1,
              "tickcolor": "rgb(36,36,36)",
              "ticks": "outside"
             }
            },
            "type": "scatterternary"
           }
          ],
          "surface": [
           {
            "colorbar": {
             "outlinewidth": 1,
             "tickcolor": "rgb(36,36,36)",
             "ticks": "outside"
            },
            "colorscale": [
             [
              0,
              "#440154"
             ],
             [
              0.1111111111111111,
              "#482878"
             ],
             [
              0.2222222222222222,
              "#3e4989"
             ],
             [
              0.3333333333333333,
              "#31688e"
             ],
             [
              0.4444444444444444,
              "#26828e"
             ],
             [
              0.5555555555555556,
              "#1f9e89"
             ],
             [
              0.6666666666666666,
              "#35b779"
             ],
             [
              0.7777777777777778,
              "#6ece58"
             ],
             [
              0.8888888888888888,
              "#b5de2b"
             ],
             [
              1,
              "#fde725"
             ]
            ],
            "type": "surface"
           }
          ],
          "table": [
           {
            "cells": {
             "fill": {
              "color": "rgb(237,237,237)"
             },
             "line": {
              "color": "white"
             }
            },
            "header": {
             "fill": {
              "color": "rgb(217,217,217)"
             },
             "line": {
              "color": "white"
             }
            },
            "type": "table"
           }
          ]
         },
         "layout": {
          "annotationdefaults": {
           "arrowhead": 0,
           "arrowwidth": 1
          },
          "autotypenumbers": "strict",
          "coloraxis": {
           "colorbar": {
            "outlinewidth": 1,
            "tickcolor": "rgb(36,36,36)",
            "ticks": "outside"
           }
          },
          "colorscale": {
           "diverging": [
            [
             0,
             "rgb(103,0,31)"
            ],
            [
             0.1,
             "rgb(178,24,43)"
            ],
            [
             0.2,
             "rgb(214,96,77)"
            ],
            [
             0.3,
             "rgb(244,165,130)"
            ],
            [
             0.4,
             "rgb(253,219,199)"
            ],
            [
             0.5,
             "rgb(247,247,247)"
            ],
            [
             0.6,
             "rgb(209,229,240)"
            ],
            [
             0.7,
             "rgb(146,197,222)"
            ],
            [
             0.8,
             "rgb(67,147,195)"
            ],
            [
             0.9,
             "rgb(33,102,172)"
            ],
            [
             1,
             "rgb(5,48,97)"
            ]
           ],
           "sequential": [
            [
             0,
             "#440154"
            ],
            [
             0.1111111111111111,
             "#482878"
            ],
            [
             0.2222222222222222,
             "#3e4989"
            ],
            [
             0.3333333333333333,
             "#31688e"
            ],
            [
             0.4444444444444444,
             "#26828e"
            ],
            [
             0.5555555555555556,
             "#1f9e89"
            ],
            [
             0.6666666666666666,
             "#35b779"
            ],
            [
             0.7777777777777778,
             "#6ece58"
            ],
            [
             0.8888888888888888,
             "#b5de2b"
            ],
            [
             1,
             "#fde725"
            ]
           ],
           "sequentialminus": [
            [
             0,
             "#440154"
            ],
            [
             0.1111111111111111,
             "#482878"
            ],
            [
             0.2222222222222222,
             "#3e4989"
            ],
            [
             0.3333333333333333,
             "#31688e"
            ],
            [
             0.4444444444444444,
             "#26828e"
            ],
            [
             0.5555555555555556,
             "#1f9e89"
            ],
            [
             0.6666666666666666,
             "#35b779"
            ],
            [
             0.7777777777777778,
             "#6ece58"
            ],
            [
             0.8888888888888888,
             "#b5de2b"
            ],
            [
             1,
             "#fde725"
            ]
           ]
          },
          "colorway": [
           "#1F77B4",
           "#FF7F0E",
           "#2CA02C",
           "#D62728",
           "#9467BD",
           "#8C564B",
           "#E377C2",
           "#7F7F7F",
           "#BCBD22",
           "#17BECF"
          ],
          "font": {
           "color": "rgb(36,36,36)"
          },
          "geo": {
           "bgcolor": "white",
           "lakecolor": "white",
           "landcolor": "white",
           "showlakes": true,
           "showland": true,
           "subunitcolor": "white"
          },
          "hoverlabel": {
           "align": "left"
          },
          "hovermode": "closest",
          "mapbox": {
           "style": "light"
          },
          "paper_bgcolor": "white",
          "plot_bgcolor": "white",
          "polar": {
           "angularaxis": {
            "gridcolor": "rgb(232,232,232)",
            "linecolor": "rgb(36,36,36)",
            "showgrid": false,
            "showline": true,
            "ticks": "outside"
           },
           "bgcolor": "white",
           "radialaxis": {
            "gridcolor": "rgb(232,232,232)",
            "linecolor": "rgb(36,36,36)",
            "showgrid": false,
            "showline": true,
            "ticks": "outside"
           }
          },
          "scene": {
           "xaxis": {
            "backgroundcolor": "white",
            "gridcolor": "rgb(232,232,232)",
            "gridwidth": 2,
            "linecolor": "rgb(36,36,36)",
            "showbackground": true,
            "showgrid": false,
            "showline": true,
            "ticks": "outside",
            "zeroline": false,
            "zerolinecolor": "rgb(36,36,36)"
           },
           "yaxis": {
            "backgroundcolor": "white",
            "gridcolor": "rgb(232,232,232)",
            "gridwidth": 2,
            "linecolor": "rgb(36,36,36)",
            "showbackground": true,
            "showgrid": false,
            "showline": true,
            "ticks": "outside",
            "zeroline": false,
            "zerolinecolor": "rgb(36,36,36)"
           },
           "zaxis": {
            "backgroundcolor": "white",
            "gridcolor": "rgb(232,232,232)",
            "gridwidth": 2,
            "linecolor": "rgb(36,36,36)",
            "showbackground": true,
            "showgrid": false,
            "showline": true,
            "ticks": "outside",
            "zeroline": false,
            "zerolinecolor": "rgb(36,36,36)"
           }
          },
          "shapedefaults": {
           "fillcolor": "black",
           "line": {
            "width": 0
           },
           "opacity": 0.3
          },
          "ternary": {
           "aaxis": {
            "gridcolor": "rgb(232,232,232)",
            "linecolor": "rgb(36,36,36)",
            "showgrid": false,
            "showline": true,
            "ticks": "outside"
           },
           "baxis": {
            "gridcolor": "rgb(232,232,232)",
            "linecolor": "rgb(36,36,36)",
            "showgrid": false,
            "showline": true,
            "ticks": "outside"
           },
           "bgcolor": "white",
           "caxis": {
            "gridcolor": "rgb(232,232,232)",
            "linecolor": "rgb(36,36,36)",
            "showgrid": false,
            "showline": true,
            "ticks": "outside"
           }
          },
          "title": {
           "x": 0.05
          },
          "xaxis": {
           "automargin": true,
           "gridcolor": "rgb(232,232,232)",
           "linecolor": "rgb(36,36,36)",
           "showgrid": false,
           "showline": true,
           "ticks": "outside",
           "title": {
            "standoff": 15
           },
           "zeroline": false,
           "zerolinecolor": "rgb(36,36,36)"
          },
          "yaxis": {
           "automargin": true,
           "gridcolor": "rgb(232,232,232)",
           "linecolor": "rgb(36,36,36)",
           "showgrid": false,
           "showline": true,
           "ticks": "outside",
           "title": {
            "standoff": 15
           },
           "zeroline": false,
           "zerolinecolor": "rgb(36,36,36)"
          }
         }
        },
        "updatemenus": [
         {
          "buttons": [
           {
            "args": [
             null,
             {
              "frame": {
               "duration": 500,
               "redraw": false
              },
              "fromcurrent": true,
              "mode": "immediate",
              "transition": {
               "duration": 500,
               "easing": "linear"
              }
             }
            ],
            "label": "&#9654;",
            "method": "animate"
           },
           {
            "args": [
             [
              null
             ],
             {
              "frame": {
               "duration": 0,
               "redraw": false
              },
              "fromcurrent": true,
              "mode": "immediate",
              "transition": {
               "duration": 0,
               "easing": "linear"
              }
             }
            ],
            "label": "&#9724;",
            "method": "animate"
           }
          ],
          "direction": "left",
          "pad": {
           "r": 10,
           "t": 70
          },
          "showactive": false,
          "type": "buttons",
          "x": 0.1,
          "xanchor": "right",
          "y": 0,
          "yanchor": "top"
         }
        ],
        "width": 1000,
        "xaxis": {
         "anchor": "y",
         "domain": [
          0,
          1
         ],
         "title": {
          "text": "current health expenditure"
         }
        },
        "yaxis": {
         "anchor": "x",
         "domain": [
          0,
          1
         ],
         "title": {
          "text": "suicides_per_100k"
         }
        }
       }
      }
     },
     "metadata": {},
     "output_type": "display_data"
    }
   ],
   "source": [
    "import plotly.express as px\n",
    "px.scatter(df_comb.sort_values('Year',ascending=True), x='current health expenditure', y='suicides_per_100k',\n",
    "           size='Both sexes', size_max=30, color='Continent', animation_frame=\"Year\", animation_group=\"Country\",\n",
    "           template='simple_white', width=1000, height=700,hover_name='Country')"
   ]
  },
  {
   "cell_type": "code",
   "execution_count": 249,
   "id": "c43a5707",
   "metadata": {},
   "outputs": [
    {
     "data": {
      "application/vnd.plotly.v1+json": {
       "config": {
        "plotlyServerURL": "https://plot.ly"
       },
       "data": [
        {
         "hovertemplate": "<b>%{hovertext}</b><br><br>Continent=Europe<br>Year=2000<br>current health expenditure=%{x}<br>Both sexes=%{marker.size}<extra></extra>",
         "hovertext": [
          "Albania",
          "Iceland",
          "Greece",
          "Germany",
          "France",
          "Ukraine",
          "Finland",
          "Estonia",
          "Denmark",
          "Croatia",
          "Bulgaria",
          "Belgium",
          "Belarus",
          "Ireland",
          "Spain",
          "Slovenia",
          "Serbia",
          "Sweden",
          "Romania",
          "Portugal",
          "Poland",
          "Norway",
          "Switzerland",
          "Netherlands",
          "Malta",
          "Luxembourg",
          "Lithuania",
          "Latvia",
          "Italy",
          "Austria",
          "Hungary"
         ],
         "ids": [
          "Albania",
          "Iceland",
          "Greece",
          "Germany",
          "France",
          "Ukraine",
          "Finland",
          "Estonia",
          "Denmark",
          "Croatia",
          "Bulgaria",
          "Belgium",
          "Belarus",
          "Ireland",
          "Spain",
          "Slovenia",
          "Serbia",
          "Sweden",
          "Romania",
          "Portugal",
          "Poland",
          "Norway",
          "Switzerland",
          "Netherlands",
          "Malta",
          "Luxembourg",
          "Lithuania",
          "Latvia",
          "Italy",
          "Austria",
          "Hungary"
         ],
         "legendgroup": "Europe",
         "marker": {
          "color": "#1F77B4",
          "size": [
           106,
           76,
           82,
           95,
           99,
           258,
           104,
           216,
           100,
           133,
           163,
           99,
           247,
           93,
           84,
           122,
           141,
           72,
           175,
           110,
           152,
           84,
           78,
           83,
           70,
           90,
           200,
           217,
           75,
           94,
           193
          ],
          "sizemode": "area",
          "sizeref": 0.53,
          "symbol": "circle"
         },
         "mode": "markers",
         "name": "Europe",
         "orientation": "v",
         "showlegend": true,
         "type": "scatter",
         "x": [
          7.2333703,
          8.929286,
          7.24332571,
          9.8881979,
          9.58447742,
          5.30685234,
          7.09253168,
          5.15698433,
          8.10438347,
          7.71451426,
          5.82971001,
          7.9991765,
          5.2760601,
          5.90420008,
          6.79921818,
          7.80406952,
          6.49934578,
          7.32689953,
          4.20876122,
          8.60104179,
          5.28789568,
          7.71215487,
          9.11401939,
          7.70687819,
          6.57308626,
          5.90136147,
          6.19950438,
          5.4399581,
          7.56665564,
          9.20371437,
          6.77804375
         ],
         "xaxis": "x",
         "y": [
          106,
          76,
          82,
          95,
          99,
          258,
          104,
          216,
          100,
          133,
          163,
          99,
          247,
          93,
          84,
          122,
          141,
          72,
          175,
          110,
          152,
          84,
          78,
          83,
          70,
          90,
          200,
          217,
          75,
          94,
          193
         ],
         "yaxis": "y"
        },
        {
         "hovertemplate": "<b>%{hovertext}</b><br><br>Continent=North America<br>Year=2000<br>current health expenditure=%{x}<br>Both sexes=%{marker.size}<extra></extra>",
         "hovertext": [
          "Trinidad and Tobago",
          "Guatemala",
          "El Salvador",
          "Cuba",
          "Costa Rica",
          "Canada",
          "Belize",
          "Barbados",
          "Jamaica",
          "Panama",
          "Mexico",
          "Antigua and Barbuda"
         ],
         "ids": [
          "Trinidad and Tobago",
          "Guatemala",
          "El Salvador",
          "Cuba",
          "Costa Rica",
          "Canada",
          "Belize",
          "Barbados",
          "Jamaica",
          "Panama",
          "Mexico",
          "Antigua and Barbuda"
         ],
         "legendgroup": "North America",
         "marker": {
          "color": "#FF7F0E",
          "size": [
           202,
           220,
           218,
           121,
           100,
           81,
           198,
           128,
           173,
           120,
           138,
           157
          ],
          "sizemode": "area",
          "sizeref": 0.53,
          "symbol": "circle"
         },
         "mode": "markers",
         "name": "North America",
         "orientation": "v",
         "showlegend": true,
         "type": "scatter",
         "x": [
          4.23492432,
          5.39686108,
          8.92467785,
          6.58189821,
          6.56498814,
          8.24814415,
          3.99033976,
          5.33187246,
          5.64462566,
          6.9129467,
          4.44912481,
          4.69438457
         ],
         "xaxis": "x",
         "y": [
          202,
          220,
          218,
          121,
          100,
          81,
          198,
          128,
          173,
          120,
          138,
          157
         ],
         "yaxis": "y"
        },
        {
         "hovertemplate": "<b>%{hovertext}</b><br><br>Continent=Asia<br>Year=2000<br>current health expenditure=%{x}<br>Both sexes=%{marker.size}<extra></extra>",
         "hovertext": [
          "Georgia",
          "Cyprus",
          "Bahrain",
          "Azerbaijan",
          "Uzbekistan",
          "Israel",
          "Sri Lanka",
          "Singapore",
          "Philippines",
          "Maldives",
          "Thailand",
          "Kuwait",
          "Kazakhstan",
          "Japan",
          "Armenia"
         ],
         "ids": [
          "Georgia",
          "Cyprus",
          "Bahrain",
          "Azerbaijan",
          "Uzbekistan",
          "Israel",
          "Sri Lanka",
          "Singapore",
          "Philippines",
          "Maldives",
          "Thailand",
          "Kuwait",
          "Kazakhstan",
          "Japan",
          "Armenia"
         ],
         "legendgroup": "Asia",
         "marker": {
          "color": "#2CA02C",
          "size": [
           129,
           80,
           101,
           161,
           183,
           80,
           171,
           79,
           213,
           142,
           204,
           94,
           287,
           72,
           143
          ],
          "sizemode": "area",
          "sizeref": 0.53,
          "symbol": "circle"
         },
         "mode": "markers",
         "name": "Asia",
         "orientation": "v",
         "showlegend": true,
         "type": "scatter",
         "x": [
          7.194592,
          5.30800056,
          3.56132603,
          2.94894385,
          5.42173624,
          6.7833848,
          4.24652863,
          3.34336376,
          3.05511928,
          7.73655844,
          3.10125375,
          2.20343947,
          4.16031361,
          7.03456163,
          4.19580364
         ],
         "xaxis": "x",
         "y": [
          129,
          80,
          101,
          161,
          183,
          80,
          171,
          79,
          213,
          142,
          204,
          94,
          287,
          72,
          143
         ],
         "yaxis": "y"
        },
        {
         "hovertemplate": "<b>%{hovertext}</b><br><br>Continent=South America<br>Year=2000<br>current health expenditure=%{x}<br>Both sexes=%{marker.size}<extra></extra>",
         "hovertext": [
          "Ecuador",
          "Colombia",
          "Uruguay",
          "Chile",
          "Brazil",
          "Paraguay",
          "Argentina"
         ],
         "ids": [
          "Ecuador",
          "Colombia",
          "Uruguay",
          "Chile",
          "Brazil",
          "Paraguay",
          "Argentina"
         ],
         "legendgroup": "South America",
         "marker": {
          "color": "#D62728",
          "size": [
           160,
           171,
           134,
           103,
           184,
           171,
           139
          ],
          "sizemode": "area",
          "sizeref": 0.53,
          "symbol": "circle"
         },
         "mode": "markers",
         "name": "South America",
         "orientation": "v",
         "showlegend": true,
         "type": "scatter",
         "x": [
          3.33109641,
          5.63529348,
          9.21095848,
          7.03517628,
          8.33459282,
          6.01865196,
          8.2200098
         ],
         "xaxis": "x",
         "y": [
          160,
          171,
          134,
          103,
          184,
          171,
          139
         ],
         "yaxis": "y"
        },
        {
         "hovertemplate": "<b>%{hovertext}</b><br><br>Continent=Africa<br>Year=2000<br>current health expenditure=%{x}<br>Both sexes=%{marker.size}<extra></extra>",
         "hovertext": [
          "South Africa",
          "Mauritius"
         ],
         "ids": [
          "South Africa",
          "Mauritius"
         ],
         "legendgroup": "Africa",
         "marker": {
          "color": "#9467BD",
          "size": [
           362,
           172
          ],
          "sizemode": "area",
          "sizeref": 0.53,
          "symbol": "circle"
         },
         "mode": "markers",
         "name": "Africa",
         "orientation": "v",
         "showlegend": true,
         "type": "scatter",
         "x": [
          8.16472149,
          2.89581966
         ],
         "xaxis": "x",
         "y": [
          362,
          172
         ],
         "yaxis": "y"
        },
        {
         "hovertemplate": "<b>%{hovertext}</b><br><br>Continent=Oceania<br>Year=2000<br>current health expenditure=%{x}<br>Both sexes=%{marker.size}<extra></extra>",
         "hovertext": [
          "New Zealand",
          "Kiribati",
          "Australia"
         ],
         "ids": [
          "New Zealand",
          "Kiribati",
          "Australia"
         ],
         "legendgroup": "Oceania",
         "marker": {
          "color": "#8C564B",
          "size": [
           86,
           222,
           77
          ],
          "sizemode": "area",
          "sizeref": 0.53,
          "symbol": "circle"
         },
         "mode": "markers",
         "name": "Oceania",
         "orientation": "v",
         "showlegend": true,
         "type": "scatter",
         "x": [
          7.4700222,
          8.64500046,
          7.61383343
         ],
         "xaxis": "x",
         "y": [
          86,
          222,
          77
         ],
         "yaxis": "y"
        }
       ],
       "frames": [
        {
         "data": [
          {
           "hovertemplate": "<b>%{hovertext}</b><br><br>Continent=Europe<br>Year=2000<br>current health expenditure=%{x}<br>Both sexes=%{marker.size}<extra></extra>",
           "hovertext": [
            "Albania",
            "Iceland",
            "Greece",
            "Germany",
            "France",
            "Ukraine",
            "Finland",
            "Estonia",
            "Denmark",
            "Croatia",
            "Bulgaria",
            "Belgium",
            "Belarus",
            "Ireland",
            "Spain",
            "Slovenia",
            "Serbia",
            "Sweden",
            "Romania",
            "Portugal",
            "Poland",
            "Norway",
            "Switzerland",
            "Netherlands",
            "Malta",
            "Luxembourg",
            "Lithuania",
            "Latvia",
            "Italy",
            "Austria",
            "Hungary"
           ],
           "ids": [
            "Albania",
            "Iceland",
            "Greece",
            "Germany",
            "France",
            "Ukraine",
            "Finland",
            "Estonia",
            "Denmark",
            "Croatia",
            "Bulgaria",
            "Belgium",
            "Belarus",
            "Ireland",
            "Spain",
            "Slovenia",
            "Serbia",
            "Sweden",
            "Romania",
            "Portugal",
            "Poland",
            "Norway",
            "Switzerland",
            "Netherlands",
            "Malta",
            "Luxembourg",
            "Lithuania",
            "Latvia",
            "Italy",
            "Austria",
            "Hungary"
           ],
           "legendgroup": "Europe",
           "marker": {
            "color": "#1F77B4",
            "size": [
             106,
             76,
             82,
             95,
             99,
             258,
             104,
             216,
             100,
             133,
             163,
             99,
             247,
             93,
             84,
             122,
             141,
             72,
             175,
             110,
             152,
             84,
             78,
             83,
             70,
             90,
             200,
             217,
             75,
             94,
             193
            ],
            "sizemode": "area",
            "sizeref": 0.53,
            "symbol": "circle"
           },
           "mode": "markers",
           "name": "Europe",
           "orientation": "v",
           "showlegend": true,
           "type": "scatter",
           "x": [
            7.2333703,
            8.929286,
            7.24332571,
            9.8881979,
            9.58447742,
            5.30685234,
            7.09253168,
            5.15698433,
            8.10438347,
            7.71451426,
            5.82971001,
            7.9991765,
            5.2760601,
            5.90420008,
            6.79921818,
            7.80406952,
            6.49934578,
            7.32689953,
            4.20876122,
            8.60104179,
            5.28789568,
            7.71215487,
            9.11401939,
            7.70687819,
            6.57308626,
            5.90136147,
            6.19950438,
            5.4399581,
            7.56665564,
            9.20371437,
            6.77804375
           ],
           "xaxis": "x",
           "y": [
            106,
            76,
            82,
            95,
            99,
            258,
            104,
            216,
            100,
            133,
            163,
            99,
            247,
            93,
            84,
            122,
            141,
            72,
            175,
            110,
            152,
            84,
            78,
            83,
            70,
            90,
            200,
            217,
            75,
            94,
            193
           ],
           "yaxis": "y"
          },
          {
           "hovertemplate": "<b>%{hovertext}</b><br><br>Continent=North America<br>Year=2000<br>current health expenditure=%{x}<br>Both sexes=%{marker.size}<extra></extra>",
           "hovertext": [
            "Trinidad and Tobago",
            "Guatemala",
            "El Salvador",
            "Cuba",
            "Costa Rica",
            "Canada",
            "Belize",
            "Barbados",
            "Jamaica",
            "Panama",
            "Mexico",
            "Antigua and Barbuda"
           ],
           "ids": [
            "Trinidad and Tobago",
            "Guatemala",
            "El Salvador",
            "Cuba",
            "Costa Rica",
            "Canada",
            "Belize",
            "Barbados",
            "Jamaica",
            "Panama",
            "Mexico",
            "Antigua and Barbuda"
           ],
           "legendgroup": "North America",
           "marker": {
            "color": "#FF7F0E",
            "size": [
             202,
             220,
             218,
             121,
             100,
             81,
             198,
             128,
             173,
             120,
             138,
             157
            ],
            "sizemode": "area",
            "sizeref": 0.53,
            "symbol": "circle"
           },
           "mode": "markers",
           "name": "North America",
           "orientation": "v",
           "showlegend": true,
           "type": "scatter",
           "x": [
            4.23492432,
            5.39686108,
            8.92467785,
            6.58189821,
            6.56498814,
            8.24814415,
            3.99033976,
            5.33187246,
            5.64462566,
            6.9129467,
            4.44912481,
            4.69438457
           ],
           "xaxis": "x",
           "y": [
            202,
            220,
            218,
            121,
            100,
            81,
            198,
            128,
            173,
            120,
            138,
            157
           ],
           "yaxis": "y"
          },
          {
           "hovertemplate": "<b>%{hovertext}</b><br><br>Continent=Asia<br>Year=2000<br>current health expenditure=%{x}<br>Both sexes=%{marker.size}<extra></extra>",
           "hovertext": [
            "Georgia",
            "Cyprus",
            "Bahrain",
            "Azerbaijan",
            "Uzbekistan",
            "Israel",
            "Sri Lanka",
            "Singapore",
            "Philippines",
            "Maldives",
            "Thailand",
            "Kuwait",
            "Kazakhstan",
            "Japan",
            "Armenia"
           ],
           "ids": [
            "Georgia",
            "Cyprus",
            "Bahrain",
            "Azerbaijan",
            "Uzbekistan",
            "Israel",
            "Sri Lanka",
            "Singapore",
            "Philippines",
            "Maldives",
            "Thailand",
            "Kuwait",
            "Kazakhstan",
            "Japan",
            "Armenia"
           ],
           "legendgroup": "Asia",
           "marker": {
            "color": "#2CA02C",
            "size": [
             129,
             80,
             101,
             161,
             183,
             80,
             171,
             79,
             213,
             142,
             204,
             94,
             287,
             72,
             143
            ],
            "sizemode": "area",
            "sizeref": 0.53,
            "symbol": "circle"
           },
           "mode": "markers",
           "name": "Asia",
           "orientation": "v",
           "showlegend": true,
           "type": "scatter",
           "x": [
            7.194592,
            5.30800056,
            3.56132603,
            2.94894385,
            5.42173624,
            6.7833848,
            4.24652863,
            3.34336376,
            3.05511928,
            7.73655844,
            3.10125375,
            2.20343947,
            4.16031361,
            7.03456163,
            4.19580364
           ],
           "xaxis": "x",
           "y": [
            129,
            80,
            101,
            161,
            183,
            80,
            171,
            79,
            213,
            142,
            204,
            94,
            287,
            72,
            143
           ],
           "yaxis": "y"
          },
          {
           "hovertemplate": "<b>%{hovertext}</b><br><br>Continent=South America<br>Year=2000<br>current health expenditure=%{x}<br>Both sexes=%{marker.size}<extra></extra>",
           "hovertext": [
            "Ecuador",
            "Colombia",
            "Uruguay",
            "Chile",
            "Brazil",
            "Paraguay",
            "Argentina"
           ],
           "ids": [
            "Ecuador",
            "Colombia",
            "Uruguay",
            "Chile",
            "Brazil",
            "Paraguay",
            "Argentina"
           ],
           "legendgroup": "South America",
           "marker": {
            "color": "#D62728",
            "size": [
             160,
             171,
             134,
             103,
             184,
             171,
             139
            ],
            "sizemode": "area",
            "sizeref": 0.53,
            "symbol": "circle"
           },
           "mode": "markers",
           "name": "South America",
           "orientation": "v",
           "showlegend": true,
           "type": "scatter",
           "x": [
            3.33109641,
            5.63529348,
            9.21095848,
            7.03517628,
            8.33459282,
            6.01865196,
            8.2200098
           ],
           "xaxis": "x",
           "y": [
            160,
            171,
            134,
            103,
            184,
            171,
            139
           ],
           "yaxis": "y"
          },
          {
           "hovertemplate": "<b>%{hovertext}</b><br><br>Continent=Africa<br>Year=2000<br>current health expenditure=%{x}<br>Both sexes=%{marker.size}<extra></extra>",
           "hovertext": [
            "South Africa",
            "Mauritius"
           ],
           "ids": [
            "South Africa",
            "Mauritius"
           ],
           "legendgroup": "Africa",
           "marker": {
            "color": "#9467BD",
            "size": [
             362,
             172
            ],
            "sizemode": "area",
            "sizeref": 0.53,
            "symbol": "circle"
           },
           "mode": "markers",
           "name": "Africa",
           "orientation": "v",
           "showlegend": true,
           "type": "scatter",
           "x": [
            8.16472149,
            2.89581966
           ],
           "xaxis": "x",
           "y": [
            362,
            172
           ],
           "yaxis": "y"
          },
          {
           "hovertemplate": "<b>%{hovertext}</b><br><br>Continent=Oceania<br>Year=2000<br>current health expenditure=%{x}<br>Both sexes=%{marker.size}<extra></extra>",
           "hovertext": [
            "New Zealand",
            "Kiribati",
            "Australia"
           ],
           "ids": [
            "New Zealand",
            "Kiribati",
            "Australia"
           ],
           "legendgroup": "Oceania",
           "marker": {
            "color": "#8C564B",
            "size": [
             86,
             222,
             77
            ],
            "sizemode": "area",
            "sizeref": 0.53,
            "symbol": "circle"
           },
           "mode": "markers",
           "name": "Oceania",
           "orientation": "v",
           "showlegend": true,
           "type": "scatter",
           "x": [
            7.4700222,
            8.64500046,
            7.61383343
           ],
           "xaxis": "x",
           "y": [
            86,
            222,
            77
           ],
           "yaxis": "y"
          }
         ],
         "name": "2000"
        },
        {
         "data": [
          {
           "hovertemplate": "<b>%{hovertext}</b><br><br>Continent=Europe<br>Year=2001<br>current health expenditure=%{x}<br>Both sexes=%{marker.size}<extra></extra>",
           "hovertext": [
            "Romania",
            "Belgium",
            "Belarus",
            "Luxembourg",
            "Estonia",
            "Spain",
            "Hungary",
            "Netherlands",
            "Poland",
            "France",
            "Serbia",
            "Germany",
            "Ukraine",
            "Lithuania",
            "Slovenia",
            "Switzerland",
            "Sweden",
            "Greece",
            "Bulgaria",
            "Finland",
            "Latvia",
            "Norway",
            "Portugal",
            "Italy",
            "Austria",
            "Croatia",
            "Albania",
            "Iceland",
            "Ireland",
            "Denmark",
            "Malta"
           ],
           "ids": [
            "Romania",
            "Belgium",
            "Belarus",
            "Luxembourg",
            "Estonia",
            "Spain",
            "Hungary",
            "Netherlands",
            "Poland",
            "France",
            "Serbia",
            "Germany",
            "Ukraine",
            "Lithuania",
            "Slovenia",
            "Switzerland",
            "Sweden",
            "Greece",
            "Bulgaria",
            "Finland",
            "Latvia",
            "Norway",
            "Portugal",
            "Italy",
            "Austria",
            "Croatia",
            "Albania",
            "Iceland",
            "Ireland",
            "Denmark",
            "Malta"
           ],
           "legendgroup": "Europe",
           "marker": {
            "color": "#1F77B4",
            "size": [
             179,
             98,
             255,
             90,
             224,
             83,
             185,
             82,
             147,
             99,
             134,
             92,
             254,
             214,
             123,
             75,
             72,
             81,
             159,
             99,
             229,
             81,
             109,
             73,
             90,
             129,
             100,
             73,
             88,
             100,
             69
            ],
            "sizemode": "area",
            "sizeref": 0.53,
            "symbol": "circle"
           },
           "mode": "markers",
           "name": "Europe",
           "orientation": "v",
           "showlegend": true,
           "type": "scatter",
           "x": [
            4.37598133,
            8.14988804,
            5.70827103,
            6.410923,
            4.77708292,
            6.76895761,
            6.82614756,
            8.05946636,
            5.66721439,
            9.70562744,
            6.86061621,
            9.92046165,
            5.72534418,
            6.01339579,
            7.87602425,
            9.43919373,
            7.90032959,
            7.9878397,
            6.85958767,
            7.25090408,
            5.7776227,
            8.02202415,
            8.62751484,
            7.73760843,
            9.26942921,
            7.2349987,
            7.13952398,
            8.78546429,
            6.39664602,
            8.44832611,
            6.99985981
           ],
           "xaxis": "x",
           "y": [
            179,
            98,
            255,
            90,
            224,
            83,
            185,
            82,
            147,
            99,
            134,
            92,
            254,
            214,
            123,
            75,
            72,
            81,
            159,
            99,
            229,
            81,
            109,
            73,
            90,
            129,
            100,
            73,
            88,
            100,
            69
           ],
           "yaxis": "y"
          },
          {
           "hovertemplate": "<b>%{hovertext}</b><br><br>Continent=North America<br>Year=2001<br>current health expenditure=%{x}<br>Both sexes=%{marker.size}<extra></extra>",
           "hovertext": [
            "Antigua and Barbuda",
            "Guatemala",
            "Canada",
            "El Salvador",
            "Belize",
            "Barbados",
            "Cuba",
            "Costa Rica",
            "Jamaica",
            "Mexico",
            "Trinidad and Tobago",
            "Panama"
           ],
           "ids": [
            "Antigua and Barbuda",
            "Guatemala",
            "Canada",
            "El Salvador",
            "Belize",
            "Barbados",
            "Cuba",
            "Costa Rica",
            "Jamaica",
            "Mexico",
            "Trinidad and Tobago",
            "Panama"
           ],
           "legendgroup": "North America",
           "marker": {
            "color": "#FF7F0E",
            "size": [
             154,
             214,
             79,
             222,
             203,
             127,
             119,
             101,
             175,
             135,
             204,
             120
            ],
            "sizemode": "area",
            "sizeref": 0.53,
            "symbol": "circle"
           },
           "mode": "markers",
           "name": "North America",
           "orientation": "v",
           "showlegend": true,
           "type": "scatter",
           "x": [
            5.43587589,
            6.07015848,
            8.62482357,
            8.82467365,
            4.63241482,
            5.52529192,
            6.98209763,
            6.47410393,
            5.15652943,
            4.8203578,
            4.0346489,
            6.8341074
           ],
           "xaxis": "x",
           "y": [
            154,
            214,
            79,
            222,
            203,
            127,
            119,
            101,
            175,
            135,
            204,
            120
           ],
           "yaxis": "y"
          },
          {
           "hovertemplate": "<b>%{hovertext}</b><br><br>Continent=Asia<br>Year=2001<br>current health expenditure=%{x}<br>Both sexes=%{marker.size}<extra></extra>",
           "hovertext": [
            "Kuwait",
            "Sri Lanka",
            "Armenia",
            "Philippines",
            "Singapore",
            "Kazakhstan",
            "Israel",
            "Maldives",
            "Azerbaijan",
            "Japan",
            "Uzbekistan",
            "Bahrain",
            "Georgia",
            "Qatar"
           ],
           "ids": [
            "Kuwait",
            "Sri Lanka",
            "Armenia",
            "Philippines",
            "Singapore",
            "Kazakhstan",
            "Israel",
            "Maldives",
            "Azerbaijan",
            "Japan",
            "Uzbekistan",
            "Bahrain",
            "Georgia",
            "Qatar"
           ],
           "legendgroup": "Asia",
           "marker": {
            "color": "#2CA02C",
            "size": [
             92,
             158,
             143,
             215,
             77,
             283,
             79,
             135,
             149,
             70,
             177,
             98,
             125,
             73
            ],
            "sizemode": "area",
            "sizeref": 0.53,
            "symbol": "circle"
           },
           "mode": "markers",
           "name": "Asia",
           "orientation": "v",
           "showlegend": true,
           "type": "scatter",
           "x": [
            3.18838811,
            4.19323874,
            4.64562702,
            2.84775901,
            3.16302657,
            3.47096992,
            7.20983076,
            8.21364975,
            2.75590682,
            7.23947954,
            5.54972124,
            3.68104196,
            7.16950893,
            2.3197093
           ],
           "xaxis": "x",
           "y": [
            92,
            158,
            143,
            215,
            77,
            283,
            79,
            135,
            149,
            70,
            177,
            98,
            125,
            73
           ],
           "yaxis": "y"
          },
          {
           "hovertemplate": "<b>%{hovertext}</b><br><br>Continent=South America<br>Year=2001<br>current health expenditure=%{x}<br>Both sexes=%{marker.size}<extra></extra>",
           "hovertext": [
            "Guyana",
            "Chile",
            "Brazil",
            "Argentina",
            "Colombia",
            "Paraguay",
            "Uruguay",
            "Ecuador"
           ],
           "ids": [
            "Guyana",
            "Chile",
            "Brazil",
            "Argentina",
            "Colombia",
            "Paraguay",
            "Uruguay",
            "Ecuador"
           ],
           "legendgroup": "South America",
           "marker": {
            "color": "#D62728",
            "size": [
             273,
             106,
             180,
             138,
             170,
             169,
             127,
             154
            ],
            "sizemode": "area",
            "sizeref": 0.53,
            "symbol": "circle"
           },
           "mode": "markers",
           "name": "South America",
           "orientation": "v",
           "showlegend": true,
           "type": "scatter",
           "x": [
            3.05506778,
            7.15104103,
            8.54960632,
            8.37179756,
            5.94238234,
            5.60815763,
            9.79864407,
            3.75336552
           ],
           "xaxis": "x",
           "y": [
            273,
            106,
            180,
            138,
            170,
            169,
            127,
            154
           ],
           "yaxis": "y"
          },
          {
           "hovertemplate": "<b>%{hovertext}</b><br><br>Continent=Africa<br>Year=2001<br>current health expenditure=%{x}<br>Both sexes=%{marker.size}<extra></extra>",
           "hovertext": [
            "South Africa",
            "Seychelles",
            "Mauritius"
           ],
           "ids": [
            "South Africa",
            "Seychelles",
            "Mauritius"
           ],
           "legendgroup": "Africa",
           "marker": {
            "color": "#9467BD",
            "size": [
             387,
             187,
             172
            ],
            "sizemode": "area",
            "sizeref": 0.53,
            "symbol": "circle"
           },
           "mode": "markers",
           "name": "Africa",
           "orientation": "v",
           "showlegend": true,
           "type": "scatter",
           "x": [
            7.93901682,
            5.39628124,
            2.96084642
           ],
           "xaxis": "x",
           "y": [
            387,
            187,
            172
           ],
           "yaxis": "y"
          },
          {
           "hovertemplate": "<b>%{hovertext}</b><br><br>Continent=Oceania<br>Year=2001<br>current health expenditure=%{x}<br>Both sexes=%{marker.size}<extra></extra>",
           "hovertext": [
            "Fiji",
            "Kiribati",
            "Australia",
            "New Zealand"
           ],
           "ids": [
            "Fiji",
            "Kiribati",
            "Australia",
            "New Zealand"
           ],
           "legendgroup": "Oceania",
           "marker": {
            "color": "#8C564B",
            "size": [
             221,
             219,
             74,
             83
            ],
            "sizemode": "area",
            "sizeref": 0.53,
            "symbol": "circle"
           },
           "mode": "markers",
           "name": "Oceania",
           "orientation": "v",
           "showlegend": true,
           "type": "scatter",
           "x": [
            2.90547323,
            12.32934475,
            7.69622898,
            7.5789361
           ],
           "xaxis": "x",
           "y": [
            221,
            219,
            74,
            83
           ],
           "yaxis": "y"
          }
         ],
         "name": "2001"
        },
        {
         "data": [
          {
           "hovertemplate": "<b>%{hovertext}</b><br><br>Continent=Europe<br>Year=2002<br>current health expenditure=%{x}<br>Both sexes=%{marker.size}<extra></extra>",
           "hovertext": [
            "Slovenia",
            "France",
            "Croatia",
            "Finland",
            "Ukraine",
            "Denmark",
            "Bulgaria",
            "Luxembourg",
            "Estonia",
            "Malta",
            "Netherlands",
            "Switzerland",
            "Albania",
            "Sweden",
            "Norway",
            "Belarus",
            "Spain",
            "Lithuania",
            "Hungary",
            "Iceland",
            "Belgium",
            "Ireland",
            "Italy",
            "Greece",
            "Portugal",
            "Latvia",
            "Germany",
            "Austria",
            "Serbia",
            "Poland",
            "Romania"
           ],
           "ids": [
            "Slovenia",
            "France",
            "Croatia",
            "Finland",
            "Ukraine",
            "Denmark",
            "Bulgaria",
            "Luxembourg",
            "Estonia",
            "Malta",
            "Netherlands",
            "Switzerland",
            "Albania",
            "Sweden",
            "Norway",
            "Belarus",
            "Spain",
            "Lithuania",
            "Hungary",
            "Iceland",
            "Belgium",
            "Ireland",
            "Italy",
            "Greece",
            "Portugal",
            "Latvia",
            "Germany",
            "Austria",
            "Serbia",
            "Poland",
            "Romania"
           ],
           "legendgroup": "Europe",
           "marker": {
            "color": "#1F77B4",
            "size": [
             117,
             98,
             124,
             97,
             257,
             101,
             156,
             87,
             210,
             68,
             81,
             73,
             102,
             70,
             80,
             264,
             82,
             207,
             184,
             66,
             97,
             86,
             71,
             79,
             107,
             221,
             91,
             87,
             131,
             143,
             178
            ],
            "sizemode": "area",
            "sizeref": 0.53,
            "symbol": "circle"
           },
           "mode": "markers",
           "name": "Europe",
           "orientation": "v",
           "showlegend": true,
           "type": "scatter",
           "x": [
            8.02119923,
            10.02218628,
            6.20509815,
            7.62769508,
            5.99220037,
            8.70251179,
            7.0809865,
            6.73847198,
            4.70043564,
            7.70661688,
            8.64911556,
            9.85215092,
            6.90934134,
            8.21006203,
            9.00061893,
            5.62329483,
            6.80052805,
            6.14446115,
            7.12101698,
            9.46551323,
            8.3182106,
            6.67468452,
            7.86693525,
            8.23378086,
            8.78642941,
            5.77001858,
            10.18365669,
            9.3947649,
            8.0600071,
            6.0672431,
            4.57694626
           ],
           "xaxis": "x",
           "y": [
            117,
            98,
            124,
            97,
            257,
            101,
            156,
            87,
            210,
            68,
            81,
            73,
            102,
            70,
            80,
            264,
            82,
            207,
            184,
            66,
            97,
            86,
            71,
            79,
            107,
            221,
            91,
            87,
            131,
            143,
            178
           ],
           "yaxis": "y"
          },
          {
           "hovertemplate": "<b>%{hovertext}</b><br><br>Continent=North America<br>Year=2002<br>current health expenditure=%{x}<br>Both sexes=%{marker.size}<extra></extra>",
           "hovertext": [
            "Costa Rica",
            "El Salvador",
            "Canada",
            "Cuba",
            "Mexico",
            "Guatemala",
            "Panama",
            "Barbados",
            "Trinidad and Tobago",
            "Jamaica",
            "Belize",
            "Grenada",
            "Antigua and Barbuda"
           ],
           "ids": [
            "Costa Rica",
            "El Salvador",
            "Canada",
            "Cuba",
            "Mexico",
            "Guatemala",
            "Panama",
            "Barbados",
            "Trinidad and Tobago",
            "Jamaica",
            "Belize",
            "Grenada",
            "Antigua and Barbuda"
           ],
           "legendgroup": "North America",
           "marker": {
            "color": "#FF7F0E",
            "size": [
             100,
             213,
             78,
             112,
             136,
             206,
             120,
             126,
             195,
             171,
             200,
             175,
             149
            ],
            "sizemode": "area",
            "sizeref": 0.53,
            "symbol": "circle"
           },
           "mode": "markers",
           "name": "North America",
           "orientation": "v",
           "showlegend": true,
           "type": "scatter",
           "x": [
            6.8690896,
            8.77833939,
            8.85670376,
            7.11481667,
            5.0716424,
            6.01308298,
            6.96316957,
            5.86123419,
            4.72302485,
            4.74544334,
            4.71499634,
            6.1756978,
            5.28793621
           ],
           "xaxis": "x",
           "y": [
            100,
            213,
            78,
            112,
            136,
            206,
            120,
            126,
            195,
            171,
            200,
            175,
            149
           ],
           "yaxis": "y"
          },
          {
           "hovertemplate": "<b>%{hovertext}</b><br><br>Continent=Asia<br>Year=2002<br>current health expenditure=%{x}<br>Both sexes=%{marker.size}<extra></extra>",
           "hovertext": [
            "Philippines",
            "Thailand",
            "Armenia",
            "Singapore",
            "Maldives",
            "Sri Lanka",
            "Israel",
            "Azerbaijan",
            "Kuwait",
            "Kazakhstan",
            "Bahrain",
            "Japan",
            "Uzbekistan"
           ],
           "ids": [
            "Philippines",
            "Thailand",
            "Armenia",
            "Singapore",
            "Maldives",
            "Sri Lanka",
            "Israel",
            "Azerbaijan",
            "Kuwait",
            "Kazakhstan",
            "Bahrain",
            "Japan",
            "Uzbekistan"
           ],
           "legendgroup": "Asia",
           "marker": {
            "color": "#2CA02C",
            "size": [
             216,
             197,
             137,
             76,
             128,
             150,
             81,
             144,
             91,
             276,
             99,
             68,
             176
            ],
            "sizemode": "area",
            "sizeref": 0.53,
            "symbol": "circle"
           },
           "mode": "markers",
           "name": "Asia",
           "orientation": "v",
           "showlegend": true,
           "type": "scatter",
           "x": [
            2.63767314,
            3.334723,
            7.61359835,
            3.358464,
            8.78440094,
            4.1731143,
            7.13073444,
            2.73279428,
            3.12468719,
            3.61480069,
            3.85486555,
            7.35235357,
            5.44828367
           ],
           "xaxis": "x",
           "y": [
            216,
            197,
            137,
            76,
            128,
            150,
            81,
            144,
            91,
            276,
            99,
            68,
            176
           ],
           "yaxis": "y"
          },
          {
           "hovertemplate": "<b>%{hovertext}</b><br><br>Continent=South America<br>Year=2002<br>current health expenditure=%{x}<br>Both sexes=%{marker.size}<extra></extra>",
           "hovertext": [
            "Uruguay",
            "Chile",
            "Paraguay",
            "Ecuador",
            "Colombia",
            "Guyana",
            "Argentina",
            "Brazil"
           ],
           "ids": [
            "Uruguay",
            "Chile",
            "Paraguay",
            "Ecuador",
            "Colombia",
            "Guyana",
            "Argentina",
            "Brazil"
           ],
           "legendgroup": "South America",
           "marker": {
            "color": "#D62728",
            "size": [
             129,
             100,
             167,
             153,
             169,
             280,
             137,
             176
            ],
            "sizemode": "area",
            "sizeref": 0.53,
            "symbol": "circle"
           },
           "mode": "markers",
           "name": "South America",
           "orientation": "v",
           "showlegend": true,
           "type": "scatter",
           "x": [
            9.68134212,
            7.26602364,
            4.75770569,
            4.4733963,
            5.73295689,
            3.19353795,
            7.3933115,
            8.69685745
           ],
           "xaxis": "x",
           "y": [
            129,
            100,
            167,
            153,
            169,
            280,
            137,
            176
           ],
           "yaxis": "y"
          },
          {
           "hovertemplate": "<b>%{hovertext}</b><br><br>Continent=Africa<br>Year=2002<br>current health expenditure=%{x}<br>Both sexes=%{marker.size}<extra></extra>",
           "hovertext": [
            "Mauritius",
            "South Africa",
            "Seychelles"
           ],
           "ids": [
            "Mauritius",
            "South Africa",
            "Seychelles"
           ],
           "legendgroup": "Africa",
           "marker": {
            "color": "#9467BD",
            "size": [
             173,
             412,
             185
            ],
            "sizemode": "area",
            "sizeref": 0.53,
            "symbol": "circle"
           },
           "mode": "markers",
           "name": "Africa",
           "orientation": "v",
           "showlegend": true,
           "type": "scatter",
           "x": [
            3.23190355,
            7.46446323,
            4.56042624
           ],
           "xaxis": "x",
           "y": [
            173,
            412,
            185
           ],
           "yaxis": "y"
          },
          {
           "hovertemplate": "<b>%{hovertext}</b><br><br>Continent=Oceania<br>Year=2002<br>current health expenditure=%{x}<br>Both sexes=%{marker.size}<extra></extra>",
           "hovertext": [
            "Fiji",
            "Australia",
            "New Zealand"
           ],
           "ids": [
            "Fiji",
            "Australia",
            "New Zealand"
           ],
           "legendgroup": "Oceania",
           "marker": {
            "color": "#8C564B",
            "size": [
             220,
             72,
             82
            ],
            "sizemode": "area",
            "sizeref": 0.53,
            "symbol": "circle"
           },
           "mode": "markers",
           "name": "Oceania",
           "orientation": "v",
           "showlegend": true,
           "type": "scatter",
           "x": [
            2.983495,
            7.89332151,
            7.90045929
           ],
           "xaxis": "x",
           "y": [
            220,
            72,
            82
           ],
           "yaxis": "y"
          }
         ],
         "name": "2002"
        },
        {
         "data": [
          {
           "hovertemplate": "<b>%{hovertext}</b><br><br>Continent=Europe<br>Year=2003<br>current health expenditure=%{x}<br>Both sexes=%{marker.size}<extra></extra>",
           "hovertext": [
            "Malta",
            "Ireland",
            "Italy",
            "Croatia",
            "Portugal",
            "Lithuania",
            "Serbia",
            "France",
            "Germany",
            "Greece",
            "Finland",
            "Latvia",
            "Romania",
            "Poland",
            "Sweden",
            "Ukraine",
            "Luxembourg",
            "Estonia",
            "Hungary",
            "Iceland",
            "Denmark",
            "Switzerland",
            "Spain",
            "Belgium",
            "Belarus",
            "Norway",
            "Slovenia",
            "Netherlands",
            "Austria",
            "Bulgaria",
            "Albania"
           ],
           "ids": [
            "Malta",
            "Ireland",
            "Italy",
            "Croatia",
            "Portugal",
            "Lithuania",
            "Serbia",
            "France",
            "Germany",
            "Greece",
            "Finland",
            "Latvia",
            "Romania",
            "Poland",
            "Sweden",
            "Ukraine",
            "Luxembourg",
            "Estonia",
            "Hungary",
            "Iceland",
            "Denmark",
            "Switzerland",
            "Spain",
            "Belgium",
            "Belarus",
            "Norway",
            "Slovenia",
            "Netherlands",
            "Austria",
            "Bulgaria",
            "Albania"
           ],
           "legendgroup": "Europe",
           "marker": {
            "color": "#1F77B4",
            "size": [
             66,
             80,
             70,
             121,
             104,
             207,
             131,
             97,
             89,
             80,
             97,
             212,
             174,
             140,
             68,
             258,
             85,
             197,
             184,
             63,
             98,
             71,
             82,
             94,
             254,
             77,
             119,
             80,
             86,
             154,
             107
            ],
            "sizemode": "area",
            "sizeref": 0.53,
            "symbol": "circle"
           },
           "mode": "markers",
           "name": "Europe",
           "orientation": "v",
           "showlegend": true,
           "type": "scatter",
           "x": [
            7.89556122,
            7.0096755,
            7.83297729,
            6.35763264,
            9.12415695,
            6.18627787,
            8.1294651,
            10.08283329,
            10.40202236,
            8.44915676,
            7.93805122,
            5.48984146,
            5.37136745,
            5.95371294,
            8.31724644,
            6.54574108,
            6.97271538,
            4.85959911,
            8.11923409,
            9.72930241,
            8.9036293,
            10.10937595,
            7.56392097,
            9.20823288,
            5.76984167,
            9.21471977,
            8.09883595,
            9.0565691,
            9.5472393,
            7.19987392,
            7.06348991
           ],
           "xaxis": "x",
           "y": [
            66,
            80,
            70,
            121,
            104,
            207,
            131,
            97,
            89,
            80,
            97,
            212,
            174,
            140,
            68,
            258,
            85,
            197,
            184,
            63,
            98,
            71,
            82,
            94,
            254,
            77,
            119,
            80,
            86,
            154,
            107
           ],
           "yaxis": "y"
          },
          {
           "hovertemplate": "<b>%{hovertext}</b><br><br>Continent=North America<br>Year=2003<br>current health expenditure=%{x}<br>Both sexes=%{marker.size}<extra></extra>",
           "hovertext": [
            "Jamaica",
            "Cuba",
            "Grenada",
            "Guatemala",
            "Trinidad and Tobago",
            "El Salvador",
            "Mexico",
            "Antigua and Barbuda",
            "Belize",
            "Barbados",
            "Panama",
            "Canada",
            "Costa Rica"
           ],
           "ids": [
            "Jamaica",
            "Cuba",
            "Grenada",
            "Guatemala",
            "Trinidad and Tobago",
            "El Salvador",
            "Mexico",
            "Antigua and Barbuda",
            "Belize",
            "Barbados",
            "Panama",
            "Canada",
            "Costa Rica"
           ],
           "legendgroup": "North America",
           "marker": {
            "color": "#FF7F0E",
            "size": [
             170,
             112,
             175,
             209,
             199,
             211,
             136,
             151,
             199,
             123,
             120,
             77,
             101
            ],
            "sizemode": "area",
            "sizeref": 0.53,
            "symbol": "circle"
           },
           "mode": "markers",
           "name": "North America",
           "orientation": "v",
           "showlegend": true,
           "type": "scatter",
           "x": [
            4.22014093,
            7.10295439,
            5.28485727,
            6.15313578,
            4.18767166,
            8.4062252,
            5.81486464,
            5.58626556,
            4.62012959,
            6.68377304,
            6.61838865,
            9.01090145,
            6.9691925
           ],
           "xaxis": "x",
           "y": [
            170,
            112,
            175,
            209,
            199,
            211,
            136,
            151,
            199,
            123,
            120,
            77,
            101
           ],
           "yaxis": "y"
          },
          {
           "hovertemplate": "<b>%{hovertext}</b><br><br>Continent=Asia<br>Year=2003<br>current health expenditure=%{x}<br>Both sexes=%{marker.size}<extra></extra>",
           "hovertext": [
            "Japan",
            "Singapore",
            "Israel",
            "Kazakhstan",
            "Thailand",
            "Philippines",
            "Kuwait",
            "Armenia",
            "Maldives",
            "Azerbaijan",
            "Bahrain",
            "Uzbekistan",
            "Sri Lanka"
           ],
           "ids": [
            "Japan",
            "Singapore",
            "Israel",
            "Kazakhstan",
            "Thailand",
            "Philippines",
            "Kuwait",
            "Armenia",
            "Maldives",
            "Azerbaijan",
            "Bahrain",
            "Uzbekistan",
            "Sri Lanka"
           ],
           "legendgroup": "Asia",
           "marker": {
            "color": "#2CA02C",
            "size": [
             68,
             73,
             76,
             283,
             194,
             212,
             90,
             137,
             114,
             151,
             92,
             173,
             147
            ],
            "sizemode": "area",
            "sizeref": 0.53,
            "symbol": "circle"
           },
           "mode": "markers",
           "name": "Asia",
           "orientation": "v",
           "showlegend": true,
           "type": "scatter",
           "x": [
            7.48654842,
            3.60699248,
            7.06917286,
            3.72334647,
            3.24312782,
            3.0766356,
            2.76216865,
            7.17937517,
            6.77857542,
            2.73471093,
            3.98856878,
            5.49766588,
            3.76927328
           ],
           "xaxis": "x",
           "y": [
            68,
            73,
            76,
            283,
            194,
            212,
            90,
            137,
            114,
            151,
            92,
            173,
            147
           ],
           "yaxis": "y"
          },
          {
           "hovertemplate": "<b>%{hovertext}</b><br><br>Continent=South America<br>Year=2003<br>current health expenditure=%{x}<br>Both sexes=%{marker.size}<extra></extra>",
           "hovertext": [
            "Argentina",
            "Paraguay",
            "Guyana",
            "Ecuador",
            "Brazil",
            "Chile",
            "Colombia",
            "Uruguay"
           ],
           "ids": [
            "Argentina",
            "Paraguay",
            "Guyana",
            "Ecuador",
            "Brazil",
            "Chile",
            "Colombia",
            "Uruguay"
           ],
           "legendgroup": "South America",
           "marker": {
            "color": "#D62728",
            "size": [
             134,
             166,
             277,
             146,
             172,
             100,
             155,
             125
            ],
            "sizemode": "area",
            "sizeref": 0.53,
            "symbol": "circle"
           },
           "mode": "markers",
           "name": "South America",
           "orientation": "v",
           "showlegend": true,
           "type": "scatter",
           "x": [
            6.89451599,
            4.90703869,
            3.26884198,
            5.44066668,
            8.18899918,
            7.33330393,
            5.77505875,
            9.61753464
           ],
           "xaxis": "x",
           "y": [
            134,
            166,
            277,
            146,
            172,
            100,
            155,
            125
           ],
           "yaxis": "y"
          },
          {
           "hovertemplate": "<b>%{hovertext}</b><br><br>Continent=Africa<br>Year=2003<br>current health expenditure=%{x}<br>Both sexes=%{marker.size}<extra></extra>",
           "hovertext": [
            "Mauritius",
            "Seychelles",
            "South Africa"
           ],
           "ids": [
            "Mauritius",
            "Seychelles",
            "South Africa"
           ],
           "legendgroup": "Africa",
           "marker": {
            "color": "#9467BD",
            "size": [
             168,
             185,
             437
            ],
            "sizemode": "area",
            "sizeref": 0.53,
            "symbol": "circle"
           },
           "mode": "markers",
           "name": "Africa",
           "orientation": "v",
           "showlegend": true,
           "type": "scatter",
           "x": [
            3.22486687,
            5.35933495,
            7.91530371
           ],
           "xaxis": "x",
           "y": [
            168,
            185,
            437
           ],
           "yaxis": "y"
          },
          {
           "hovertemplate": "<b>%{hovertext}</b><br><br>Continent=Oceania<br>Year=2003<br>current health expenditure=%{x}<br>Both sexes=%{marker.size}<extra></extra>",
           "hovertext": [
            "Fiji",
            "New Zealand",
            "Australia"
           ],
           "ids": [
            "Fiji",
            "New Zealand",
            "Australia"
           ],
           "legendgroup": "Oceania",
           "marker": {
            "color": "#8C564B",
            "size": [
             220,
             81,
             69
            ],
            "sizemode": "area",
            "sizeref": 0.53,
            "symbol": "circle"
           },
           "mode": "markers",
           "name": "Oceania",
           "orientation": "v",
           "showlegend": true,
           "type": "scatter",
           "x": [
            2.97298193,
            7.72169209,
            7.90449524
           ],
           "xaxis": "x",
           "y": [
            220,
            81,
            69
           ],
           "yaxis": "y"
          }
         ],
         "name": "2003"
        },
        {
         "data": [
          {
           "hovertemplate": "<b>%{hovertext}</b><br><br>Continent=Europe<br>Year=2004<br>current health expenditure=%{x}<br>Both sexes=%{marker.size}<extra></extra>",
           "hovertext": [
            "Belgium",
            "Finland",
            "Sweden",
            "France",
            "Romania",
            "Serbia",
            "Germany",
            "Luxembourg",
            "Netherlands",
            "Lithuania",
            "Latvia",
            "Greece",
            "Ukraine",
            "Bulgaria",
            "Switzerland",
            "Estonia",
            "Ireland",
            "Slovenia",
            "Norway",
            "Italy",
            "Croatia",
            "Austria",
            "Albania",
            "Iceland",
            "Malta",
            "Spain",
            "Denmark",
            "Poland",
            "Hungary"
           ],
           "ids": [
            "Belgium",
            "Finland",
            "Sweden",
            "France",
            "Romania",
            "Serbia",
            "Germany",
            "Luxembourg",
            "Netherlands",
            "Lithuania",
            "Latvia",
            "Greece",
            "Ukraine",
            "Bulgaria",
            "Switzerland",
            "Estonia",
            "Ireland",
            "Slovenia",
            "Norway",
            "Italy",
            "Croatia",
            "Austria",
            "Albania",
            "Iceland",
            "Malta",
            "Spain",
            "Denmark",
            "Poland",
            "Hungary"
           ],
           "legendgroup": "Europe",
           "marker": {
            "color": "#1F77B4",
            "size": [
             89,
             101,
             70,
             92,
             166,
             129,
             85,
             79,
             76,
             209,
             209,
             80,
             269,
             154,
             68,
             193,
             79,
             113,
             76,
             66,
             113,
             84,
             101,
             61,
             64,
             79,
             95,
             142,
             180
            ],
            "sizemode": "area",
            "sizeref": 0.53,
            "symbol": "circle"
           },
           "mode": "markers",
           "name": "Europe",
           "orientation": "v",
           "showlegend": true,
           "type": "scatter",
           "x": [
            9.36721516,
            8.05912876,
            8.12961864,
            10.16429329,
            5.47733545,
            8.24021435,
            10.14603138,
            7.34548569,
            9.11067963,
            5.5114994,
            6.21677923,
            8.09390354,
            6.16856956,
            6.89090872,
            10.1849556,
            5.119555,
            7.22300482,
            7.93957281,
            8.82115746,
            8.16549301,
            6.57048893,
            9.70939827,
            6.77337217,
            9.32854366,
            8.04820728,
            7.65912247,
            9.00743198,
            5.86845255,
            7.77005482
           ],
           "xaxis": "x",
           "y": [
            89,
            101,
            70,
            92,
            166,
            129,
            85,
            79,
            76,
            209,
            209,
            80,
            269,
            154,
            68,
            193,
            79,
            113,
            76,
            66,
            113,
            84,
            101,
            61,
            64,
            79,
            95,
            142,
            180
           ],
           "yaxis": "y"
          },
          {
           "hovertemplate": "<b>%{hovertext}</b><br><br>Continent=North America<br>Year=2004<br>current health expenditure=%{x}<br>Both sexes=%{marker.size}<extra></extra>",
           "hovertext": [
            "Grenada",
            "Guatemala",
            "Jamaica",
            "Canada",
            "Belize",
            "El Salvador",
            "Panama",
            "Cuba",
            "Mexico",
            "Costa Rica",
            "Antigua and Barbuda",
            "Barbados",
            "Trinidad and Tobago"
           ],
           "ids": [
            "Grenada",
            "Guatemala",
            "Jamaica",
            "Canada",
            "Belize",
            "El Salvador",
            "Panama",
            "Cuba",
            "Mexico",
            "Costa Rica",
            "Antigua and Barbuda",
            "Barbados",
            "Trinidad and Tobago"
           ],
           "legendgroup": "North America",
           "marker": {
            "color": "#FF7F0E",
            "size": [
             186,
             206,
             168,
             76,
             195,
             209,
             117,
             109,
             132,
             102,
             153,
             116,
             196
            ],
            "sizemode": "area",
            "sizeref": 0.53,
            "symbol": "circle"
           },
           "mode": "markers",
           "name": "North America",
           "orientation": "v",
           "showlegend": true,
           "type": "scatter",
           "x": [
            5.36568451,
            6.26182795,
            4.80435324,
            9.06628132,
            4.48231363,
            8.49746799,
            6.99114799,
            6.83178759,
            5.9539032,
            6.63005924,
            5.11667967,
            7.31510305,
            4.30805206
           ],
           "xaxis": "x",
           "y": [
            186,
            206,
            168,
            76,
            195,
            209,
            117,
            109,
            132,
            102,
            153,
            116,
            196
           ],
           "yaxis": "y"
          },
          {
           "hovertemplate": "<b>%{hovertext}</b><br><br>Continent=Asia<br>Year=2004<br>current health expenditure=%{x}<br>Both sexes=%{marker.size}<extra></extra>",
           "hovertext": [
            "Uzbekistan",
            "Maldives",
            "Kuwait",
            "Thailand",
            "Georgia",
            "Qatar",
            "Cyprus",
            "Kazakhstan",
            "Azerbaijan",
            "Israel",
            "Japan",
            "Bahrain",
            "Singapore"
           ],
           "ids": [
            "Uzbekistan",
            "Maldives",
            "Kuwait",
            "Thailand",
            "Georgia",
            "Qatar",
            "Cyprus",
            "Kazakhstan",
            "Azerbaijan",
            "Israel",
            "Japan",
            "Bahrain",
            "Singapore"
           ],
           "legendgroup": "Asia",
           "marker": {
            "color": "#2CA02C",
            "size": [
             174,
             118,
             89,
             194,
             148,
             69,
             74,
             289,
             151,
             73,
             67,
             94,
             73
            ],
            "sizemode": "area",
            "sizeref": 0.53,
            "symbol": "circle"
           },
           "mode": "markers",
           "name": "Asia",
           "orientation": "v",
           "showlegend": true,
           "type": "scatter",
           "x": [
            5.12983561,
            7.48356962,
            2.35702443,
            3.13893151,
            8.08910847,
            3.18311739,
            5.40558147,
            3.98308039,
            2.66530418,
            7.01328945,
            7.53518438,
            3.47338176,
            3.15019822
           ],
           "xaxis": "x",
           "y": [
            174,
            118,
            89,
            194,
            148,
            69,
            74,
            289,
            151,
            73,
            67,
            94,
            73
           ],
           "yaxis": "y"
          },
          {
           "hovertemplate": "<b>%{hovertext}</b><br><br>Continent=South America<br>Year=2004<br>current health expenditure=%{x}<br>Both sexes=%{marker.size}<extra></extra>",
           "hovertext": [
            "Chile",
            "Suriname",
            "Ecuador",
            "Uruguay",
            "Guyana",
            "Brazil",
            "Paraguay",
            "Argentina",
            "Colombia"
           ],
           "ids": [
            "Chile",
            "Suriname",
            "Ecuador",
            "Uruguay",
            "Guyana",
            "Brazil",
            "Paraguay",
            "Argentina",
            "Colombia"
           ],
           "legendgroup": "South America",
           "marker": {
            "color": "#D62728",
            "size": [
             98,
             216,
             145,
             125,
             270,
             169,
             165,
             128,
             152
            ],
            "sizemode": "area",
            "sizeref": 0.53,
            "symbol": "circle"
           },
           "mode": "markers",
           "name": "South America",
           "orientation": "v",
           "showlegend": true,
           "type": "scatter",
           "x": [
            6.90115023,
            5.84803867,
            5.56659126,
            8.30145359,
            3.43770432,
            8.12491989,
            4.93224382,
            7.22868299,
            5.79892778
           ],
           "xaxis": "x",
           "y": [
            98,
            216,
            145,
            125,
            270,
            169,
            165,
            128,
            152
           ],
           "yaxis": "y"
          },
          {
           "hovertemplate": "<b>%{hovertext}</b><br><br>Continent=Africa<br>Year=2004<br>current health expenditure=%{x}<br>Both sexes=%{marker.size}<extra></extra>",
           "hovertext": [
            "Seychelles",
            "South Africa",
            "Mauritius"
           ],
           "ids": [
            "Seychelles",
            "South Africa",
            "Mauritius"
           ],
           "legendgroup": "Africa",
           "marker": {
            "color": "#9467BD",
            "size": [
             186,
             459,
             164
            ],
            "sizemode": "area",
            "sizeref": 0.53,
            "symbol": "circle"
           },
           "mode": "markers",
           "name": "Africa",
           "orientation": "v",
           "showlegend": true,
           "type": "scatter",
           "x": [
            5.1972785,
            7.76453447,
            3.36119127
           ],
           "xaxis": "x",
           "y": [
            186,
            459,
            164
           ],
           "yaxis": "y"
          },
          {
           "hovertemplate": "<b>%{hovertext}</b><br><br>Continent=Oceania<br>Year=2004<br>current health expenditure=%{x}<br>Both sexes=%{marker.size}<extra></extra>",
           "hovertext": [
            "New Zealand",
            "Fiji",
            "Australia"
           ],
           "ids": [
            "New Zealand",
            "Fiji",
            "Australia"
           ],
           "legendgroup": "Oceania",
           "marker": {
            "color": "#8C564B",
            "size": [
             79,
             218,
             67
            ],
            "sizemode": "area",
            "sizeref": 0.53,
            "symbol": "circle"
           },
           "mode": "markers",
           "name": "Oceania",
           "orientation": "v",
           "showlegend": true,
           "type": "scatter",
           "x": [
            7.90090561,
            3.25768542,
            8.10948753
           ],
           "xaxis": "x",
           "y": [
            79,
            218,
            67
           ],
           "yaxis": "y"
          }
         ],
         "name": "2004"
        },
        {
         "data": [
          {
           "hovertemplate": "<b>%{hovertext}</b><br><br>Continent=Europe<br>Year=2005<br>current health expenditure=%{x}<br>Both sexes=%{marker.size}<extra></extra>",
           "hovertext": [
            "Norway",
            "Serbia",
            "Italy",
            "Lithuania",
            "Austria",
            "France",
            "Hungary",
            "Poland",
            "Spain",
            "Iceland",
            "Romania",
            "Greece",
            "Latvia",
            "Belgium",
            "Ireland",
            "Germany",
            "Sweden",
            "Albania",
            "Luxembourg",
            "Estonia",
            "Switzerland",
            "Ukraine",
            "Netherlands",
            "Slovenia",
            "Finland",
            "Malta",
            "Denmark",
            "Bulgaria",
            "Croatia"
           ],
           "ids": [
            "Norway",
            "Serbia",
            "Italy",
            "Lithuania",
            "Austria",
            "France",
            "Hungary",
            "Poland",
            "Spain",
            "Iceland",
            "Romania",
            "Greece",
            "Latvia",
            "Belgium",
            "Ireland",
            "Germany",
            "Sweden",
            "Albania",
            "Luxembourg",
            "Estonia",
            "Switzerland",
            "Ukraine",
            "Netherlands",
            "Slovenia",
            "Finland",
            "Malta",
            "Denmark",
            "Bulgaria",
            "Croatia"
           ],
           "legendgroup": "Europe",
           "marker": {
            "color": "#1F77B4",
            "size": [
             72,
             128,
             65,
             228,
             84,
             92,
             182,
             144,
             76,
             61,
             162,
             79,
             220,
             88,
             75,
             84,
             66,
             106,
             81,
             187,
             66,
             280,
             72,
             104,
             100,
             63,
             89,
             156,
             116
            ],
            "sizemode": "area",
            "sizeref": 0.53,
            "symbol": "circle"
           },
           "mode": "markers",
           "name": "Europe",
           "orientation": "v",
           "showlegend": true,
           "type": "scatter",
           "x": [
            8.32839584,
            8.27808189,
            8.33931828,
            5.64800453,
            9.62702942,
            10.2148447,
            8.00078201,
            5.80689144,
            7.73195314,
            8.94695091,
            5.52778149,
            8.56466961,
            5.84766769,
            9.26114464,
            7.64583445,
            10.3115406,
            8.1508379,
            6.33554173,
            7.18256855,
            5.05801439,
            10.004179,
            6.3461585,
            9.09671688,
            7.99595737,
            8.28795624,
            8.66396618,
            9.0905695,
            6.89011431,
            6.90785742
           ],
           "xaxis": "x",
           "y": [
            72,
            128,
            65,
            228,
            84,
            92,
            182,
            144,
            76,
            61,
            162,
            79,
            220,
            88,
            75,
            84,
            66,
            106,
            81,
            187,
            66,
            280,
            72,
            104,
            100,
            63,
            89,
            156,
            116
           ],
           "yaxis": "y"
          },
          {
           "hovertemplate": "<b>%{hovertext}</b><br><br>Continent=North America<br>Year=2005<br>current health expenditure=%{x}<br>Both sexes=%{marker.size}<extra></extra>",
           "hovertext": [
            "Guatemala",
            "Panama",
            "Barbados",
            "Grenada",
            "Belize",
            "Antigua and Barbuda",
            "Trinidad and Tobago",
            "Jamaica",
            "Canada",
            "Cuba",
            "El Salvador",
            "Costa Rica",
            "Mexico"
           ],
           "ids": [
            "Guatemala",
            "Panama",
            "Barbados",
            "Grenada",
            "Belize",
            "Antigua and Barbuda",
            "Trinidad and Tobago",
            "Jamaica",
            "Canada",
            "Cuba",
            "El Salvador",
            "Costa Rica",
            "Mexico"
           ],
           "legendgroup": "North America",
           "marker": {
            "color": "#FF7F0E",
            "size": [
             211,
             116,
             114,
             171,
             190,
             156,
             195,
             164,
             76,
             110,
             206,
             96,
             134
            ],
            "sizemode": "area",
            "sizeref": 0.53,
            "symbol": "circle"
           },
           "mode": "markers",
           "name": "North America",
           "orientation": "v",
           "showlegend": true,
           "type": "scatter",
           "x": [
            6.14832115,
            6.09434938,
            6.76892185,
            5.14460278,
            4.49777079,
            4.9945569,
            4.43451166,
            4.54581738,
            9.03540611,
            8.75525475,
            8.43694401,
            6.66429853,
            5.83612156
           ],
           "xaxis": "x",
           "y": [
            211,
            116,
            114,
            171,
            190,
            156,
            195,
            164,
            76,
            110,
            206,
            96,
            134
           ],
           "yaxis": "y"
          },
          {
           "hovertemplate": "<b>%{hovertext}</b><br><br>Continent=Asia<br>Year=2005<br>current health expenditure=%{x}<br>Both sexes=%{marker.size}<extra></extra>",
           "hovertext": [
            "Kuwait",
            "Georgia",
            "Japan",
            "Qatar",
            "Kazakhstan",
            "Bahrain",
            "Israel",
            "Thailand",
            "Maldives",
            "Singapore",
            "United Arab Emirates",
            "Uzbekistan",
            "Cyprus"
           ],
           "ids": [
            "Kuwait",
            "Georgia",
            "Japan",
            "Qatar",
            "Kazakhstan",
            "Bahrain",
            "Israel",
            "Thailand",
            "Maldives",
            "Singapore",
            "United Arab Emirates",
            "Uzbekistan",
            "Cyprus"
           ],
           "legendgroup": "Asia",
           "marker": {
            "color": "#2CA02C",
            "size": [
             88,
             144,
             68,
             67,
             297,
             83,
             72,
             183,
             93,
             74,
             91,
             183,
             75
            ],
            "sizemode": "area",
            "sizeref": 0.53,
            "symbol": "circle"
           },
           "mode": "markers",
           "name": "Asia",
           "orientation": "v",
           "showlegend": true,
           "type": "scatter",
           "x": [
            2.01313829,
            8.07734108,
            7.65818596,
            2.56300044,
            3.90172553,
            3.17561626,
            7.11729813,
            3.15972233,
            8.82753468,
            3.03367925,
            2.32019687,
            5.06766796,
            5.43580961
           ],
           "xaxis": "x",
           "y": [
            88,
            144,
            68,
            67,
            297,
            83,
            72,
            183,
            93,
            74,
            91,
            183,
            75
           ],
           "yaxis": "y"
          },
          {
           "hovertemplate": "<b>%{hovertext}</b><br><br>Continent=South America<br>Year=2005<br>current health expenditure=%{x}<br>Both sexes=%{marker.size}<extra></extra>",
           "hovertext": [
            "Suriname",
            "Brazil",
            "Argentina",
            "Uruguay",
            "Guyana",
            "Ecuador",
            "Paraguay",
            "Chile",
            "Colombia"
           ],
           "ids": [
            "Suriname",
            "Brazil",
            "Argentina",
            "Uruguay",
            "Guyana",
            "Ecuador",
            "Paraguay",
            "Chile",
            "Colombia"
           ],
           "legendgroup": "South America",
           "marker": {
            "color": "#D62728",
            "size": [
             207,
             162,
             125,
             125,
             267,
             149,
             164,
             95,
             144
            ],
            "sizemode": "area",
            "sizeref": 0.53,
            "symbol": "circle"
           },
           "mode": "markers",
           "name": "South America",
           "orientation": "v",
           "showlegend": true,
           "type": "scatter",
           "x": [
            5.61497545,
            8.03540993,
            7.61078882,
            7.75686073,
            3.79409742,
            5.59422016,
            4.82934666,
            6.58871555,
            6.06709814
           ],
           "xaxis": "x",
           "y": [
            207,
            162,
            125,
            125,
            267,
            149,
            164,
            95,
            144
           ],
           "yaxis": "y"
          },
          {
           "hovertemplate": "<b>%{hovertext}</b><br><br>Continent=Africa<br>Year=2005<br>current health expenditure=%{x}<br>Both sexes=%{marker.size}<extra></extra>",
           "hovertext": [
            "South Africa",
            "Seychelles",
            "Mauritius"
           ],
           "ids": [
            "South Africa",
            "Seychelles",
            "Mauritius"
           ],
           "legendgroup": "Africa",
           "marker": {
            "color": "#9467BD",
            "size": [
             474,
             185,
             164
            ],
            "sizemode": "area",
            "sizeref": 0.53,
            "symbol": "circle"
           },
           "mode": "markers",
           "name": "Africa",
           "orientation": "v",
           "showlegend": true,
           "type": "scatter",
           "x": [
            7.68997431,
            4.97854805,
            3.56529307
           ],
           "xaxis": "x",
           "y": [
            474,
            185,
            164
           ],
           "yaxis": "y"
          },
          {
           "hovertemplate": "<b>%{hovertext}</b><br><br>Continent=Oceania<br>Year=2005<br>current health expenditure=%{x}<br>Both sexes=%{marker.size}<extra></extra>",
           "hovertext": [
            "New Zealand",
            "Fiji"
           ],
           "ids": [
            "New Zealand",
            "Fiji"
           ],
           "legendgroup": "Oceania",
           "marker": {
            "color": "#8C564B",
            "size": [
             77,
             214
            ],
            "sizemode": "area",
            "sizeref": 0.53,
            "symbol": "circle"
           },
           "mode": "markers",
           "name": "Oceania",
           "orientation": "v",
           "showlegend": true,
           "type": "scatter",
           "x": [
            8.27334881,
            3.25656676
           ],
           "xaxis": "x",
           "y": [
            77,
            214
           ],
           "yaxis": "y"
          }
         ],
         "name": "2005"
        },
        {
         "data": [
          {
           "hovertemplate": "<b>%{hovertext}</b><br><br>Continent=Europe<br>Year=2006<br>current health expenditure=%{x}<br>Both sexes=%{marker.size}<extra></extra>",
           "hovertext": [
            "Ireland",
            "Malta",
            "Ukraine",
            "Belgium",
            "Denmark",
            "Hungary",
            "Slovenia",
            "Switzerland",
            "Iceland",
            "Spain",
            "Romania",
            "Germany",
            "Poland",
            "Albania",
            "Italy",
            "Bulgaria",
            "Serbia",
            "Austria",
            "Lithuania",
            "Croatia",
            "Sweden",
            "France",
            "Finland",
            "Netherlands",
            "Norway",
            "Estonia",
            "Greece",
            "Luxembourg",
            "Latvia"
           ],
           "ids": [
            "Ireland",
            "Malta",
            "Ukraine",
            "Belgium",
            "Denmark",
            "Hungary",
            "Slovenia",
            "Switzerland",
            "Iceland",
            "Spain",
            "Romania",
            "Germany",
            "Poland",
            "Albania",
            "Italy",
            "Bulgaria",
            "Serbia",
            "Austria",
            "Lithuania",
            "Croatia",
            "Sweden",
            "France",
            "Finland",
            "Netherlands",
            "Norway",
            "Estonia",
            "Greece",
            "Luxembourg",
            "Latvia"
           ],
           "legendgroup": "Europe",
           "marker": {
            "color": "#1F77B4",
            "size": [
             75,
             63,
             268,
             85,
             91,
             178,
             107,
             64,
             62,
             73,
             158,
             83,
             145,
             101,
             64,
             157,
             126,
             80,
             235,
             114,
             64,
             90,
             95,
             70,
             69,
             186,
             76,
             78,
             232
            ],
            "sizemode": "area",
            "sizeref": 0.53,
            "symbol": "circle"
           },
           "mode": "markers",
           "name": "Europe",
           "orientation": "v",
           "showlegend": true,
           "type": "scatter",
           "x": [
            7.51655483,
            8.80992031,
            6.41695166,
            9.16102505,
            9.16879559,
            7.78737354,
            7.82322741,
            9.53341675,
            8.55709076,
            7.82912683,
            5.07106066,
            10.17961693,
            5.80280542,
            6.00927734,
            8.43673038,
            6.52544594,
            8.48804665,
            9.5311327,
            5.84418154,
            6.97907209,
            8.05226517,
            10.38566494,
            8.2841177,
            9.08058071,
            7.91272211,
            4.76530361,
            8.25866985,
            6.70838261,
            5.71834707
           ],
           "xaxis": "x",
           "y": [
            75,
            63,
            268,
            85,
            91,
            178,
            107,
            64,
            62,
            73,
            158,
            83,
            145,
            101,
            64,
            157,
            126,
            80,
            235,
            114,
            64,
            90,
            95,
            70,
            69,
            186,
            76,
            78,
            232
           ],
           "yaxis": "y"
          },
          {
           "hovertemplate": "<b>%{hovertext}</b><br><br>Continent=North America<br>Year=2006<br>current health expenditure=%{x}<br>Both sexes=%{marker.size}<extra></extra>",
           "hovertext": [
            "Guatemala",
            "Cuba",
            "Grenada",
            "Barbados",
            "Mexico",
            "Trinidad and Tobago",
            "Panama",
            "El Salvador",
            "Canada",
            "Jamaica",
            "Costa Rica",
            "Belize",
            "Antigua and Barbuda"
           ],
           "ids": [
            "Guatemala",
            "Cuba",
            "Grenada",
            "Barbados",
            "Mexico",
            "Trinidad and Tobago",
            "Panama",
            "El Salvador",
            "Canada",
            "Jamaica",
            "Costa Rica",
            "Belize",
            "Antigua and Barbuda"
           ],
           "legendgroup": "North America",
           "marker": {
            "color": "#FF7F0E",
            "size": [
             205,
             103,
             167,
             113,
             131,
             189,
             119,
             203,
             74,
             154,
             104,
             185,
             155
            ],
            "sizemode": "area",
            "sizeref": 0.53,
            "symbol": "circle"
           },
           "mode": "markers",
           "name": "North America",
           "orientation": "v",
           "showlegend": true,
           "type": "scatter",
           "x": [
            6.36372948,
            8.2719059,
            5.11352158,
            6.58324289,
            5.65525532,
            4.15432024,
            6.45193529,
            7.92342138,
            9.34210205,
            4.20788145,
            6.93530893,
            4.56418276,
            4.63347101
           ],
           "xaxis": "x",
           "y": [
            205,
            103,
            167,
            113,
            131,
            189,
            119,
            203,
            74,
            154,
            104,
            185,
            155
           ],
           "yaxis": "y"
          },
          {
           "hovertemplate": "<b>%{hovertext}</b><br><br>Continent=Asia<br>Year=2006<br>current health expenditure=%{x}<br>Both sexes=%{marker.size}<extra></extra>",
           "hovertext": [
            "Cyprus",
            "Qatar",
            "Kuwait",
            "Kazakhstan",
            "Singapore",
            "Philippines",
            "Bahrain",
            "Thailand",
            "Armenia",
            "Georgia",
            "Sri Lanka",
            "Japan",
            "Israel",
            "United Arab Emirates"
           ],
           "ids": [
            "Cyprus",
            "Qatar",
            "Kuwait",
            "Kazakhstan",
            "Singapore",
            "Philippines",
            "Bahrain",
            "Thailand",
            "Armenia",
            "Georgia",
            "Sri Lanka",
            "Japan",
            "Israel",
            "United Arab Emirates"
           ],
           "legendgroup": "Asia",
           "marker": {
            "color": "#2CA02C",
            "size": [
             64,
             66,
             87,
             299,
             71,
             215,
             89,
             174,
             145,
             145,
             145,
             67,
             69,
             88
            ],
            "sizemode": "area",
            "sizeref": 0.53,
            "symbol": "circle"
           },
           "mode": "markers",
           "name": "Asia",
           "orientation": "v",
           "showlegend": true,
           "type": "scatter",
           "x": [
            5.46357489,
            2.28806424,
            1.82130992,
            3.39824939,
            2.9347465,
            3.77762771,
            3.06248927,
            3.09970856,
            5.85007095,
            7.63208055,
            3.97986174,
            7.68688822,
            6.9061389,
            2.3254137
           ],
           "xaxis": "x",
           "y": [
            64,
            66,
            87,
            299,
            71,
            215,
            89,
            174,
            145,
            145,
            145,
            67,
            69,
            88
           ],
           "yaxis": "y"
          },
          {
           "hovertemplate": "<b>%{hovertext}</b><br><br>Continent=South America<br>Year=2006<br>current health expenditure=%{x}<br>Both sexes=%{marker.size}<extra></extra>",
           "hovertext": [
            "Chile",
            "Colombia",
            "Guyana",
            "Paraguay",
            "Ecuador",
            "Uruguay",
            "Brazil",
            "Argentina",
            "Suriname"
           ],
           "ids": [
            "Chile",
            "Colombia",
            "Guyana",
            "Paraguay",
            "Ecuador",
            "Uruguay",
            "Brazil",
            "Argentina",
            "Suriname"
           ],
           "legendgroup": "South America",
           "marker": {
            "color": "#D62728",
            "size": [
             93,
             146,
             267,
             161,
             144,
             118,
             160,
             124,
             203
            ],
            "sizemode": "area",
            "sizeref": 0.53,
            "symbol": "circle"
           },
           "mode": "markers",
           "name": "South America",
           "orientation": "v",
           "showlegend": true,
           "type": "scatter",
           "x": [
            6.03516722,
            6.33551502,
            3.93144441,
            5.01927567,
            5.70302916,
            7.74287415,
            8.24952602,
            7.64032841,
            6.27044153
           ],
           "xaxis": "x",
           "y": [
            93,
            146,
            267,
            161,
            144,
            118,
            160,
            124,
            203
           ],
           "yaxis": "y"
          },
          {
           "hovertemplate": "<b>%{hovertext}</b><br><br>Continent=Africa<br>Year=2006<br>current health expenditure=%{x}<br>Both sexes=%{marker.size}<extra></extra>",
           "hovertext": [
            "South Africa",
            "Mauritius",
            "Seychelles"
           ],
           "ids": [
            "South Africa",
            "Mauritius",
            "Seychelles"
           ],
           "legendgroup": "Africa",
           "marker": {
            "color": "#9467BD",
            "size": [
             477,
             162,
             185
            ],
            "sizemode": "area",
            "sizeref": 0.53,
            "symbol": "circle"
           },
           "mode": "markers",
           "name": "Africa",
           "orientation": "v",
           "showlegend": true,
           "type": "scatter",
           "x": [
            7.6922164,
            3.65428853,
            4.67937088
           ],
           "xaxis": "x",
           "y": [
            477,
            162,
            185
           ],
           "yaxis": "y"
          },
          {
           "hovertemplate": "<b>%{hovertext}</b><br><br>Continent=Oceania<br>Year=2006<br>current health expenditure=%{x}<br>Both sexes=%{marker.size}<extra></extra>",
           "hovertext": [
            "Australia",
            "New Zealand",
            "Fiji"
           ],
           "ids": [
            "Australia",
            "New Zealand",
            "Fiji"
           ],
           "legendgroup": "Oceania",
           "marker": {
            "color": "#8C564B",
            "size": [
             65,
             75,
             212
            ],
            "sizemode": "area",
            "sizeref": 0.53,
            "symbol": "circle"
           },
           "mode": "markers",
           "name": "Oceania",
           "orientation": "v",
           "showlegend": true,
           "type": "scatter",
           "x": [
            7.98943853,
            8.63841629,
            3.34798169
           ],
           "xaxis": "x",
           "y": [
            65,
            75,
            212
           ],
           "yaxis": "y"
          }
         ],
         "name": "2006"
        },
        {
         "data": [
          {
           "hovertemplate": "<b>%{hovertext}</b><br><br>Continent=Europe<br>Year=2007<br>current health expenditure=%{x}<br>Both sexes=%{marker.size}<extra></extra>",
           "hovertext": [
            "Malta",
            "Sweden",
            "Iceland",
            "Austria",
            "Poland",
            "Croatia",
            "Italy",
            "Ireland",
            "Portugal",
            "Norway",
            "Ukraine",
            "Spain",
            "Romania",
            "Luxembourg",
            "Greece",
            "Latvia",
            "Estonia",
            "Germany",
            "Albania",
            "Bulgaria",
            "Serbia",
            "Lithuania",
            "France",
            "Netherlands",
            "Finland",
            "Belgium",
            "Switzerland",
            "Denmark",
            "Belarus",
            "Slovenia",
            "Hungary"
           ],
           "ids": [
            "Malta",
            "Sweden",
            "Iceland",
            "Austria",
            "Poland",
            "Croatia",
            "Italy",
            "Ireland",
            "Portugal",
            "Norway",
            "Ukraine",
            "Spain",
            "Romania",
            "Luxembourg",
            "Greece",
            "Latvia",
            "Estonia",
            "Germany",
            "Albania",
            "Bulgaria",
            "Serbia",
            "Lithuania",
            "France",
            "Netherlands",
            "Finland",
            "Belgium",
            "Switzerland",
            "Denmark",
            "Belarus",
            "Slovenia",
            "Hungary"
           ],
           "legendgroup": "Europe",
           "marker": {
            "color": "#1F77B4",
            "size": [
             65,
             63,
             60,
             80,
             145,
             115,
             62,
             72,
             92,
             67,
             278,
             72,
             155,
             75,
             78,
             224,
             187,
             82,
             101,
             153,
             123,
             246,
             88,
             67,
             96,
             86,
             62,
             91,
             230,
             102,
             176
            ],
            "sizemode": "area",
            "sizeref": 0.53,
            "symbol": "circle"
           },
           "mode": "markers",
           "name": "Europe",
           "orientation": "v",
           "showlegend": true,
           "type": "scatter",
           "x": [
            8.16883469,
            7.99607706,
            8.3535862,
            9.53209686,
            5.87339211,
            7.47507524,
            8.13610077,
            7.80535555,
            9.25186634,
            8.05085373,
            6.01705217,
            7.9183569,
            5.02223349,
            6.23472404,
            8.39808178,
            5.52228498,
            4.98330879,
            10.05104923,
            6.31683397,
            6.16035938,
            9.37001324,
            5.7643218,
            10.31564426,
            9.05291939,
            8.08359337,
            9.16611385,
            9.36357594,
            9.3251543,
            5.69203281,
            7.51139164,
            7.21529293
           ],
           "xaxis": "x",
           "y": [
            65,
            63,
            60,
            80,
            145,
            115,
            62,
            72,
            92,
            67,
            278,
            72,
            155,
            75,
            78,
            224,
            187,
            82,
            101,
            153,
            123,
            246,
            88,
            67,
            96,
            86,
            62,
            91,
            230,
            102,
            176
           ],
           "yaxis": "y"
          },
          {
           "hovertemplate": "<b>%{hovertext}</b><br><br>Continent=North America<br>Year=2007<br>current health expenditure=%{x}<br>Both sexes=%{marker.size}<extra></extra>",
           "hovertext": [
            "Costa Rica",
            "Cuba",
            "Antigua and Barbuda",
            "Grenada",
            "El Salvador",
            "Belize",
            "Canada",
            "Barbados",
            "Panama",
            "Guatemala",
            "Mexico",
            "Trinidad and Tobago"
           ],
           "ids": [
            "Costa Rica",
            "Cuba",
            "Antigua and Barbuda",
            "Grenada",
            "El Salvador",
            "Belize",
            "Canada",
            "Barbados",
            "Panama",
            "Guatemala",
            "Mexico",
            "Trinidad and Tobago"
           ],
           "legendgroup": "North America",
           "marker": {
            "color": "#FF7F0E",
            "size": [
             91,
             102,
             149,
             164,
             200,
             181,
             74,
             112,
             119,
             191,
             129,
             188
            ],
            "sizemode": "area",
            "sizeref": 0.53,
            "symbol": "circle"
           },
           "mode": "markers",
           "name": "North America",
           "orientation": "v",
           "showlegend": true,
           "type": "scatter",
           "x": [
            6.99642754,
            10.96749115,
            4.44986248,
            5.23867893,
            7.63829565,
            5.32664824,
            9.44500446,
            6.05583191,
            6.92857409,
            6.19192553,
            5.76644516,
            4.1536026
           ],
           "xaxis": "x",
           "y": [
            91,
            102,
            149,
            164,
            200,
            181,
            74,
            112,
            119,
            191,
            129,
            188
           ],
           "yaxis": "y"
          },
          {
           "hovertemplate": "<b>%{hovertext}</b><br><br>Continent=Asia<br>Year=2007<br>current health expenditure=%{x}<br>Both sexes=%{marker.size}<extra></extra>",
           "hovertext": [
            "Japan",
            "Israel",
            "Cyprus",
            "Bahrain",
            "Azerbaijan",
            "United Arab Emirates",
            "Singapore",
            "Kazakhstan",
            "Philippines",
            "Qatar",
            "Georgia",
            "Maldives",
            "Thailand",
            "Kuwait",
            "Armenia"
           ],
           "ids": [
            "Japan",
            "Israel",
            "Cyprus",
            "Bahrain",
            "Azerbaijan",
            "United Arab Emirates",
            "Singapore",
            "Kazakhstan",
            "Philippines",
            "Qatar",
            "Georgia",
            "Maldives",
            "Thailand",
            "Kuwait",
            "Armenia"
           ],
           "legendgroup": "Asia",
           "marker": {
            "color": "#2CA02C",
            "size": [
             66,
             67,
             70,
             80,
             141,
             86,
             68,
             293,
             208,
             66,
             140,
             83,
             170,
             86,
             137
            ],
            "sizemode": "area",
            "sizeref": 0.53,
            "symbol": "circle"
           },
           "mode": "markers",
           "name": "Asia",
           "orientation": "v",
           "showlegend": true,
           "type": "scatter",
           "x": [
            7.77935696,
            6.88173389,
            5.35744858,
            3.30373311,
            1.99021435,
            2.56569624,
            2.83749056,
            2.70314932,
            3.75318241,
            2.07008052,
            7.4351778,
            8.30568123,
            3.19277525,
            1.92673659,
            5.49814558
           ],
           "xaxis": "x",
           "y": [
            66,
            67,
            70,
            80,
            141,
            86,
            68,
            293,
            208,
            66,
            140,
            83,
            170,
            86,
            137
           ],
           "yaxis": "y"
          },
          {
           "hovertemplate": "<b>%{hovertext}</b><br><br>Continent=South America<br>Year=2007<br>current health expenditure=%{x}<br>Both sexes=%{marker.size}<extra></extra>",
           "hovertext": [
            "Argentina",
            "Colombia",
            "Suriname",
            "Uruguay",
            "Brazil",
            "Guyana",
            "Ecuador",
            "Chile",
            "Paraguay"
           ],
           "ids": [
            "Argentina",
            "Colombia",
            "Suriname",
            "Uruguay",
            "Brazil",
            "Guyana",
            "Ecuador",
            "Chile",
            "Paraguay"
           ],
           "legendgroup": "South America",
           "marker": {
            "color": "#D62728",
            "size": [
             126,
             141,
             200,
             124,
             158,
             257,
             141,
             93,
             159
            ],
            "sizemode": "area",
            "sizeref": 0.53,
            "symbol": "circle"
           },
           "mode": "markers",
           "name": "South America",
           "orientation": "v",
           "showlegend": true,
           "type": "scatter",
           "x": [
            7.83455086,
            6.49102831,
            5.59070206,
            7.49349833,
            8.20183945,
            4.28126192,
            5.33981323,
            6.17537546,
            5.02042675
           ],
           "xaxis": "x",
           "y": [
            126,
            141,
            200,
            124,
            158,
            257,
            141,
            93,
            159
           ],
           "yaxis": "y"
          },
          {
           "hovertemplate": "<b>%{hovertext}</b><br><br>Continent=Africa<br>Year=2007<br>current health expenditure=%{x}<br>Both sexes=%{marker.size}<extra></extra>",
           "hovertext": [
            "Mauritius",
            "Seychelles",
            "South Africa"
           ],
           "ids": [
            "Mauritius",
            "Seychelles",
            "South Africa"
           ],
           "legendgroup": "Africa",
           "marker": {
            "color": "#9467BD",
            "size": [
             160,
             185,
             475
            ],
            "sizemode": "area",
            "sizeref": 0.53,
            "symbol": "circle"
           },
           "mode": "markers",
           "name": "Africa",
           "orientation": "v",
           "showlegend": true,
           "type": "scatter",
           "x": [
            3.57065129,
            4.09072113,
            7.68138409
           ],
           "xaxis": "x",
           "y": [
            160,
            185,
            475
           ],
           "yaxis": "y"
          },
          {
           "hovertemplate": "<b>%{hovertext}</b><br><br>Continent=Oceania<br>Year=2007<br>current health expenditure=%{x}<br>Both sexes=%{marker.size}<extra></extra>",
           "hovertext": [
            "Australia",
            "Fiji",
            "New Zealand"
           ],
           "ids": [
            "Australia",
            "Fiji",
            "New Zealand"
           ],
           "legendgroup": "Oceania",
           "marker": {
            "color": "#8C564B",
            "size": [
             65,
             209,
             76
            ],
            "sizemode": "area",
            "sizeref": 0.53,
            "symbol": "circle"
           },
           "mode": "markers",
           "name": "Oceania",
           "orientation": "v",
           "showlegend": true,
           "type": "scatter",
           "x": [
            8.06755352,
            3.41514993,
            8.32904434
           ],
           "xaxis": "x",
           "y": [
            65,
            209,
            76
           ],
           "yaxis": "y"
          }
         ],
         "name": "2007"
        },
        {
         "data": [
          {
           "hovertemplate": "<b>%{hovertext}</b><br><br>Continent=Europe<br>Year=2008<br>current health expenditure=%{x}<br>Both sexes=%{marker.size}<extra></extra>",
           "hovertext": [
            "Netherlands",
            "Lithuania",
            "Sweden",
            "Malta",
            "Norway",
            "Poland",
            "Latvia",
            "Switzerland",
            "Luxembourg",
            "Germany",
            "Ukraine",
            "Hungary",
            "Bulgaria",
            "Slovenia",
            "Greece",
            "Romania",
            "Croatia",
            "Serbia",
            "Denmark",
            "France",
            "Finland",
            "Albania",
            "Estonia",
            "Spain",
            "Portugal",
            "Belarus",
            "Italy",
            "Belgium",
            "Ireland",
            "Iceland",
            "Austria"
           ],
           "ids": [
            "Netherlands",
            "Lithuania",
            "Sweden",
            "Malta",
            "Norway",
            "Poland",
            "Latvia",
            "Switzerland",
            "Luxembourg",
            "Germany",
            "Ukraine",
            "Hungary",
            "Bulgaria",
            "Slovenia",
            "Greece",
            "Romania",
            "Croatia",
            "Serbia",
            "Denmark",
            "France",
            "Finland",
            "Albania",
            "Estonia",
            "Spain",
            "Portugal",
            "Belarus",
            "Italy",
            "Belgium",
            "Ireland",
            "Iceland",
            "Austria"
           ],
           "legendgroup": "Europe",
           "marker": {
            "color": "#1F77B4",
            "size": [
             67,
             229,
             62,
             62,
             66,
             142,
             200,
             59,
             69,
             81,
             275,
             164,
             150,
             96,
             75,
             160,
             117,
             122,
             86,
             87,
             94,
             102,
             164,
             70,
             89,
             228,
             61,
             86,
             72,
             57,
             76
            ],
            "sizemode": "area",
            "sizeref": 0.53,
            "symbol": "circle"
           },
           "mode": "markers",
           "name": "Europe",
           "orientation": "v",
           "showlegend": true,
           "type": "scatter",
           "x": [
            9.27664948,
            6.29453754,
            8.20824242,
            7.8633585,
            7.96075296,
            6.37592173,
            5.6001029,
            9.48092747,
            6.53840208,
            10.25105095,
            5.49728012,
            7.09688091,
            6.28771019,
            7.85466576,
            8.82774258,
            5.02274227,
            7.72871161,
            9.47590065,
            9.51134396,
            10.50084686,
            8.34310627,
            5.1390624,
            5.71032381,
            8.3818779,
            9.58307838,
            5.29415369,
            8.53282356,
            9.63002014,
            9.10927963,
            8.34370804,
            9.72564602
           ],
           "xaxis": "x",
           "y": [
            67,
            229,
            62,
            62,
            66,
            142,
            200,
            59,
            69,
            81,
            275,
            164,
            150,
            96,
            75,
            160,
            117,
            122,
            86,
            87,
            94,
            102,
            164,
            70,
            89,
            228,
            61,
            86,
            72,
            57,
            76
           ],
           "yaxis": "y"
          },
          {
           "hovertemplate": "<b>%{hovertext}</b><br><br>Continent=North America<br>Year=2008<br>current health expenditure=%{x}<br>Both sexes=%{marker.size}<extra></extra>",
           "hovertext": [
            "Panama",
            "Mexico",
            "Antigua and Barbuda",
            "Canada",
            "Guatemala",
            "Trinidad and Tobago",
            "Grenada",
            "Costa Rica",
            "Cuba",
            "El Salvador",
            "Barbados",
            "Belize"
           ],
           "ids": [
            "Panama",
            "Mexico",
            "Antigua and Barbuda",
            "Canada",
            "Guatemala",
            "Trinidad and Tobago",
            "Grenada",
            "Costa Rica",
            "Cuba",
            "El Salvador",
            "Barbados",
            "Belize"
           ],
           "legendgroup": "North America",
           "marker": {
            "color": "#FF7F0E",
            "size": [
             122,
             133,
             147,
             73,
             186,
             195,
             162,
             97,
             100,
             198,
             112,
             183
            ],
            "sizemode": "area",
            "sizeref": 0.53,
            "symbol": "circle"
           },
           "mode": "markers",
           "name": "North America",
           "orientation": "v",
           "showlegend": true,
           "type": "scatter",
           "x": [
            6.84644938,
            5.69886971,
            4.2048173,
            9.60709858,
            6.08125973,
            3.65757036,
            5.386199,
            7.46854544,
            11.31422806,
            7.66487646,
            6.47676373,
            5.68234491
           ],
           "xaxis": "x",
           "y": [
            122,
            133,
            147,
            73,
            186,
            195,
            162,
            97,
            100,
            198,
            112,
            183
           ],
           "yaxis": "y"
          },
          {
           "hovertemplate": "<b>%{hovertext}</b><br><br>Continent=Asia<br>Year=2008<br>current health expenditure=%{x}<br>Both sexes=%{marker.size}<extra></extra>",
           "hovertext": [
            "Kazakhstan",
            "Philippines",
            "Maldives",
            "Japan",
            "Kuwait",
            "Thailand",
            "United Arab Emirates",
            "Singapore",
            "Armenia",
            "Cyprus",
            "Qatar",
            "Bahrain",
            "Israel"
           ],
           "ids": [
            "Kazakhstan",
            "Philippines",
            "Maldives",
            "Japan",
            "Kuwait",
            "Thailand",
            "United Arab Emirates",
            "Singapore",
            "Armenia",
            "Cyprus",
            "Qatar",
            "Bahrain",
            "Israel"
           ],
           "legendgroup": "Asia",
           "marker": {
            "color": "#2CA02C",
            "size": [
             264,
             207,
             80,
             64,
             85,
             167,
             85,
             67,
             144,
             68,
             65,
             73,
             64
            ],
            "sizemode": "area",
            "sizeref": 0.53,
            "symbol": "circle"
           },
           "mode": "markers",
           "name": "Asia",
           "orientation": "v",
           "showlegend": true,
           "type": "scatter",
           "x": [
            3.04952621,
            3.8631587,
            11.47104168,
            8.08909321,
            1.92400312,
            3.45933914,
            2.92847776,
            3.19488454,
            6.6397624,
            6.01427698,
            1.63775349,
            3.28510404,
            6.96061993
           ],
           "xaxis": "x",
           "y": [
            264,
            207,
            80,
            64,
            85,
            167,
            85,
            67,
            144,
            68,
            65,
            73,
            64
           ],
           "yaxis": "y"
          },
          {
           "hovertemplate": "<b>%{hovertext}</b><br><br>Continent=South America<br>Year=2008<br>current health expenditure=%{x}<br>Both sexes=%{marker.size}<extra></extra>",
           "hovertext": [
            "Paraguay",
            "Chile",
            "Guyana",
            "Colombia",
            "Brazil",
            "Ecuador",
            "Suriname",
            "Argentina",
            "Uruguay"
           ],
           "ids": [
            "Paraguay",
            "Chile",
            "Guyana",
            "Colombia",
            "Brazil",
            "Ecuador",
            "Suriname",
            "Argentina",
            "Uruguay"
           ],
           "legendgroup": "South America",
           "marker": {
            "color": "#D62728",
            "size": [
             157,
             91,
             249,
             142,
             157,
             141,
             200,
             123,
             119
            ],
            "sizemode": "area",
            "sizeref": 0.53,
            "symbol": "circle"
           },
           "mode": "markers",
           "name": "South America",
           "orientation": "v",
           "showlegend": true,
           "type": "scatter",
           "x": [
            5.04564476,
            6.74047899,
            4.20242214,
            6.84192705,
            8.01129246,
            5.3773427,
            5.08278036,
            8.18266869,
            8.12533188
           ],
           "xaxis": "x",
           "y": [
            157,
            91,
            249,
            142,
            157,
            141,
            200,
            123,
            119
           ],
           "yaxis": "y"
          },
          {
           "hovertemplate": "<b>%{hovertext}</b><br><br>Continent=Africa<br>Year=2008<br>current health expenditure=%{x}<br>Both sexes=%{marker.size}<extra></extra>",
           "hovertext": [
            "Mauritius",
            "Seychelles",
            "South Africa"
           ],
           "ids": [
            "Mauritius",
            "Seychelles",
            "South Africa"
           ],
           "legendgroup": "Africa",
           "marker": {
            "color": "#9467BD",
            "size": [
             165,
             185,
             458
            ],
            "sizemode": "area",
            "sizeref": 0.53,
            "symbol": "circle"
           },
           "mode": "markers",
           "name": "Africa",
           "orientation": "v",
           "showlegend": true,
           "type": "scatter",
           "x": [
            3.99199653,
            3.98245716,
            7.88024807
           ],
           "xaxis": "x",
           "y": [
            165,
            185,
            458
           ],
           "yaxis": "y"
          },
          {
           "hovertemplate": "<b>%{hovertext}</b><br><br>Continent=Oceania<br>Year=2008<br>current health expenditure=%{x}<br>Both sexes=%{marker.size}<extra></extra>",
           "hovertext": [
            "New Zealand",
            "Fiji",
            "Australia"
           ],
           "ids": [
            "New Zealand",
            "Fiji",
            "Australia"
           ],
           "legendgroup": "Oceania",
           "marker": {
            "color": "#8C564B",
            "size": [
             74,
             206,
             64
            ],
            "sizemode": "area",
            "sizeref": 0.53,
            "symbol": "circle"
           },
           "mode": "markers",
           "name": "Oceania",
           "orientation": "v",
           "showlegend": true,
           "type": "scatter",
           "x": [
            9.12382889,
            3.1846714,
            8.25585651
           ],
           "xaxis": "x",
           "y": [
            74,
            206,
            64
           ],
           "yaxis": "y"
          }
         ],
         "name": "2008"
        },
        {
         "data": [
          {
           "hovertemplate": "<b>%{hovertext}</b><br><br>Continent=Europe<br>Year=2009<br>current health expenditure=%{x}<br>Both sexes=%{marker.size}<extra></extra>",
           "hovertext": [
            "Malta",
            "Norway",
            "Luxembourg",
            "Ukraine",
            "Spain",
            "Denmark",
            "Austria",
            "Bulgaria",
            "Sweden",
            "Slovenia",
            "Belgium",
            "Belarus",
            "Switzerland",
            "Netherlands",
            "Croatia",
            "Portugal",
            "Ireland",
            "Iceland",
            "France",
            "Latvia",
            "Hungary",
            "Greece",
            "Estonia",
            "Romania",
            "Lithuania",
            "Germany",
            "Italy",
            "Finland",
            "Albania",
            "Serbia",
            "Poland"
           ],
           "ids": [
            "Malta",
            "Norway",
            "Luxembourg",
            "Ukraine",
            "Spain",
            "Denmark",
            "Austria",
            "Bulgaria",
            "Sweden",
            "Slovenia",
            "Belgium",
            "Belarus",
            "Switzerland",
            "Netherlands",
            "Croatia",
            "Portugal",
            "Ireland",
            "Iceland",
            "France",
            "Latvia",
            "Hungary",
            "Greece",
            "Estonia",
            "Romania",
            "Lithuania",
            "Germany",
            "Italy",
            "Finland",
            "Albania",
            "Serbia",
            "Poland"
           ],
           "legendgroup": "Europe",
           "marker": {
            "color": "#1F77B4",
            "size": [
             61,
             67,
             67,
             235,
             67,
             84,
             77,
             147,
             61,
             91,
             84,
             225,
             59,
             65,
             109,
             88,
             74,
             55,
             87,
             185,
             160,
             76,
             154,
             160,
             197,
             80,
             60,
             90,
             103,
             120,
             137
            ],
            "sizemode": "area",
            "sizeref": 0.53,
            "symbol": "circle"
           },
           "mode": "markers",
           "name": "Europe",
           "orientation": "v",
           "showlegend": true,
           "type": "scatter",
           "x": [
            7.9238286,
            9.07431507,
            7.33979321,
            6.60771894,
            9.10707188,
            10.67432022,
            10.22582531,
            6.59577608,
            8.77037907,
            8.540802,
            10.35455036,
            5.39037848,
            10.06906986,
            9.99291134,
            8.17583179,
            10.13070393,
            10.5062685,
            8.77518463,
            11.28756237,
            6.11926985,
            7.2392807,
            9.40688515,
            6.51218891,
            5.27841282,
            7.36587334,
            11.23758507,
            8.95162296,
            9.16122246,
            4.6022253,
            9.3397665,
            6.587708
           ],
           "xaxis": "x",
           "y": [
            61,
            67,
            67,
            235,
            67,
            84,
            77,
            147,
            61,
            91,
            84,
            225,
            59,
            65,
            109,
            88,
            74,
            55,
            87,
            185,
            160,
            76,
            154,
            160,
            197,
            80,
            60,
            90,
            103,
            120,
            137
           ],
           "yaxis": "y"
          },
          {
           "hovertemplate": "<b>%{hovertext}</b><br><br>Continent=North America<br>Year=2009<br>current health expenditure=%{x}<br>Both sexes=%{marker.size}<extra></extra>",
           "hovertext": [
            "El Salvador",
            "Cuba",
            "Antigua and Barbuda",
            "Panama",
            "Canada",
            "Belize",
            "Mexico",
            "Costa Rica",
            "Barbados",
            "Jamaica",
            "Grenada",
            "Trinidad and Tobago",
            "Guatemala"
           ],
           "ids": [
            "El Salvador",
            "Cuba",
            "Antigua and Barbuda",
            "Panama",
            "Canada",
            "Belize",
            "Mexico",
            "Costa Rica",
            "Barbados",
            "Jamaica",
            "Grenada",
            "Trinidad and Tobago",
            "Guatemala"
           ],
           "legendgroup": "North America",
           "marker": {
            "color": "#FF7F0E",
            "size": [
             197,
             99,
             138,
             122,
             71,
             183,
             136,
             96,
             110,
             143,
             158,
             185,
             191
            ],
            "sizemode": "area",
            "sizeref": 0.53,
            "symbol": "circle"
           },
           "mode": "markers",
           "name": "North America",
           "orientation": "v",
           "showlegend": true,
           "type": "scatter",
           "x": [
            8.39771748,
            12.29053974,
            4.19123125,
            6.99648428,
            10.71716499,
            5.85314894,
            6.12978458,
            7.86019039,
            7.1486845,
            5.14652538,
            5.43471003,
            5.48676443,
            6.33950901
           ],
           "xaxis": "x",
           "y": [
            197,
            99,
            138,
            122,
            71,
            183,
            136,
            96,
            110,
            143,
            158,
            185,
            191
           ],
           "yaxis": "y"
          },
          {
           "hovertemplate": "<b>%{hovertext}</b><br><br>Continent=Asia<br>Year=2009<br>current health expenditure=%{x}<br>Both sexes=%{marker.size}<extra></extra>",
           "hovertext": [
            "Singapore",
            "Cyprus",
            "United Arab Emirates",
            "Bahrain",
            "Armenia",
            "Oman",
            "Georgia",
            "Thailand",
            "Philippines",
            "Kazakhstan",
            "Qatar",
            "Kuwait",
            "Israel",
            "Uzbekistan",
            "Japan"
           ],
           "ids": [
            "Singapore",
            "Cyprus",
            "United Arab Emirates",
            "Bahrain",
            "Armenia",
            "Oman",
            "Georgia",
            "Thailand",
            "Philippines",
            "Kazakhstan",
            "Qatar",
            "Kuwait",
            "Israel",
            "Uzbekistan",
            "Japan"
           ],
           "legendgroup": "Asia",
           "marker": {
            "color": "#2CA02C",
            "size": [
             62,
             68,
             83,
             69,
             142,
             108,
             156,
             164,
             207,
             240,
             65,
             85,
             61,
             149,
             63
            ],
            "sizemode": "area",
            "sizeref": 0.53,
            "symbol": "circle"
           },
           "mode": "markers",
           "name": "Asia",
           "orientation": "v",
           "showlegend": true,
           "type": "scatter",
           "x": [
            3.39853096,
            6.46531582,
            4.04999352,
            4.05684614,
            8.44377995,
            2.8300879,
            9.56681633,
            3.61939621,
            4.16451931,
            3.49913716,
            2.38356304,
            2.70638752,
            7.06538868,
            5.08302879,
            8.9587822
           ],
           "xaxis": "x",
           "y": [
            62,
            68,
            83,
            69,
            142,
            108,
            156,
            164,
            207,
            240,
            65,
            85,
            61,
            149,
            63
           ],
           "yaxis": "y"
          },
          {
           "hovertemplate": "<b>%{hovertext}</b><br><br>Continent=South America<br>Year=2009<br>current health expenditure=%{x}<br>Both sexes=%{marker.size}<extra></extra>",
           "hovertext": [
            "Paraguay",
            "Ecuador",
            "Suriname",
            "Brazil",
            "Chile",
            "Uruguay",
            "Colombia",
            "Argentina",
            "Guyana"
           ],
           "ids": [
            "Paraguay",
            "Ecuador",
            "Suriname",
            "Brazil",
            "Chile",
            "Uruguay",
            "Colombia",
            "Argentina",
            "Guyana"
           ],
           "legendgroup": "South America",
           "marker": {
            "color": "#D62728",
            "size": [
             154,
             137,
             197,
             156,
             94,
             118,
             147,
             123,
             252
            ],
            "sizemode": "area",
            "sizeref": 0.53,
            "symbol": "circle"
           },
           "mode": "markers",
           "name": "South America",
           "orientation": "v",
           "showlegend": true,
           "type": "scatter",
           "x": [
            5.52839279,
            5.6990099,
            5.33047295,
            8.39480209,
            7.20918465,
            7.9498806,
            7.31134653,
            9.45598793,
            4.35117102
           ],
           "xaxis": "x",
           "y": [
            154,
            137,
            197,
            156,
            94,
            118,
            147,
            123,
            252
           ],
           "yaxis": "y"
          },
          {
           "hovertemplate": "<b>%{hovertext}</b><br><br>Continent=Africa<br>Year=2009<br>current health expenditure=%{x}<br>Both sexes=%{marker.size}<extra></extra>",
           "hovertext": [
            "Seychelles",
            "South Africa",
            "Mauritius"
           ],
           "ids": [
            "Seychelles",
            "South Africa",
            "Mauritius"
           ],
           "legendgroup": "Africa",
           "marker": {
            "color": "#9467BD",
            "size": [
             183,
             435,
             165
            ],
            "sizemode": "area",
            "sizeref": 0.53,
            "symbol": "circle"
           },
           "mode": "markers",
           "name": "Africa",
           "orientation": "v",
           "showlegend": true,
           "type": "scatter",
           "x": [
            3.88551354,
            8.52350235,
            4.2265029
           ],
           "xaxis": "x",
           "y": [
            183,
            435,
            165
           ],
           "yaxis": "y"
          },
          {
           "hovertemplate": "<b>%{hovertext}</b><br><br>Continent=Oceania<br>Year=2009<br>current health expenditure=%{x}<br>Both sexes=%{marker.size}<extra></extra>",
           "hovertext": [
            "Australia",
            "New Zealand",
            "Fiji"
           ],
           "ids": [
            "Australia",
            "New Zealand",
            "Fiji"
           ],
           "legendgroup": "Oceania",
           "marker": {
            "color": "#8C564B",
            "size": [
             65,
             73,
             203
            ],
            "sizemode": "area",
            "sizeref": 0.53,
            "symbol": "circle"
           },
           "mode": "markers",
           "name": "Oceania",
           "orientation": "v",
           "showlegend": true,
           "type": "scatter",
           "x": [
            8.56316471,
            9.62076378,
            3.53587651
           ],
           "xaxis": "x",
           "y": [
            65,
            73,
            203
           ],
           "yaxis": "y"
          }
         ],
         "name": "2009"
        },
        {
         "data": [
          {
           "hovertemplate": "<b>%{hovertext}</b><br><br>Continent=Europe<br>Year=2010<br>current health expenditure=%{x}<br>Both sexes=%{marker.size}<extra></extra>",
           "hovertext": [
            "Portugal",
            "Norway",
            "Poland",
            "Bulgaria",
            "Belarus",
            "Austria",
            "Spain",
            "Italy",
            "Hungary",
            "Sweden",
            "Belgium",
            "Ireland",
            "Iceland",
            "Netherlands",
            "Estonia",
            "Malta",
            "Ukraine",
            "France",
            "Lithuania",
            "Germany",
            "Denmark",
            "Serbia",
            "Finland",
            "Luxembourg",
            "Switzerland",
            "Slovenia",
            "Romania",
            "Greece",
            "Croatia",
            "Albania",
            "Latvia"
           ],
           "ids": [
            "Portugal",
            "Norway",
            "Poland",
            "Bulgaria",
            "Belarus",
            "Austria",
            "Spain",
            "Italy",
            "Hungary",
            "Sweden",
            "Belgium",
            "Ireland",
            "Iceland",
            "Netherlands",
            "Estonia",
            "Malta",
            "Ukraine",
            "France",
            "Lithuania",
            "Germany",
            "Denmark",
            "Serbia",
            "Finland",
            "Luxembourg",
            "Switzerland",
            "Slovenia",
            "Romania",
            "Greece",
            "Croatia",
            "Albania",
            "Latvia"
           ],
           "legendgroup": "Europe",
           "marker": {
            "color": "#1F77B4",
            "size": [
             86,
             65,
             131,
             143,
             226,
             74,
             65,
             58,
             152,
             58,
             81,
             65,
             53,
             64,
             134,
             58,
             218,
             85,
             188,
             78,
             83,
             115,
             88,
             67,
             57,
             87,
             155,
             74,
             106,
             103,
             178
            ],
            "sizemode": "area",
            "sizeref": 0.53,
            "symbol": "circle"
           },
           "mode": "markers",
           "name": "Europe",
           "orientation": "v",
           "showlegend": true,
           "type": "scatter",
           "x": [
            10.03250504,
            8.90553188,
            6.41223288,
            7.13800573,
            5.65693998,
            10.22101879,
            9.1185751,
            8.91602039,
            7.46319818,
            8.31963825,
            10.23324585,
            10.50632477,
            8.36173058,
            10.15515518,
            6.27124023,
            7.95211124,
            6.8122654,
            11.22560215,
            6.81462288,
            11.09557819,
            10.33315945,
            9.52071667,
            9.14202785,
            7.03158236,
            9.94159698,
            8.56503296,
            5.76614237,
            9.59662342,
            8.0887022,
            4.7457962,
            6.11952686
           ],
           "xaxis": "x",
           "y": [
            86,
            65,
            131,
            143,
            226,
            74,
            65,
            58,
            152,
            58,
            81,
            65,
            53,
            64,
            134,
            58,
            218,
            85,
            188,
            78,
            83,
            115,
            88,
            67,
            57,
            87,
            155,
            74,
            106,
            103,
            178
           ],
           "yaxis": "y"
          },
          {
           "hovertemplate": "<b>%{hovertext}</b><br><br>Continent=North America<br>Year=2010<br>current health expenditure=%{x}<br>Both sexes=%{marker.size}<extra></extra>",
           "hovertext": [
            "Jamaica",
            "Guatemala",
            "Canada",
            "Nicaragua",
            "Panama",
            "Belize",
            "Barbados",
            "Cuba",
            "Mexico",
            "El Salvador",
            "Costa Rica",
            "Grenada",
            "Trinidad and Tobago"
           ],
           "ids": [
            "Jamaica",
            "Guatemala",
            "Canada",
            "Nicaragua",
            "Panama",
            "Belize",
            "Barbados",
            "Cuba",
            "Mexico",
            "El Salvador",
            "Costa Rica",
            "Grenada",
            "Trinidad and Tobago"
           ],
           "legendgroup": "North America",
           "marker": {
            "color": "#FF7F0E",
            "size": [
             139,
             186,
             69,
             160,
             117,
             182,
             108,
             97,
             136,
             192,
             106,
             154,
             179
            ],
            "sizemode": "area",
            "sizeref": 0.53,
            "symbol": "circle"
           },
           "mode": "markers",
           "name": "North America",
           "orientation": "v",
           "showlegend": true,
           "type": "scatter",
           "x": [
            5.29506874,
            6.12487125,
            10.69585419,
            7.71019173,
            7.08509684,
            5.68149519,
            6.77398682,
            10.6880827,
            5.73688889,
            8.23629189,
            8.02937698,
            5.41881227,
            5.08042908
           ],
           "xaxis": "x",
           "y": [
            139,
            186,
            69,
            160,
            117,
            182,
            108,
            97,
            136,
            192,
            106,
            154,
            179
           ],
           "yaxis": "y"
          },
          {
           "hovertemplate": "<b>%{hovertext}</b><br><br>Continent=Asia<br>Year=2010<br>current health expenditure=%{x}<br>Both sexes=%{marker.size}<extra></extra>",
           "hovertext": [
            "Qatar",
            "Bahrain",
            "Japan",
            "Israel",
            "Kazakhstan",
            "Oman",
            "Georgia",
            "Uzbekistan",
            "Cyprus",
            "Thailand",
            "Maldives",
            "Philippines",
            "Turkmenistan",
            "Armenia",
            "Kuwait",
            "Singapore",
            "United Arab Emirates"
           ],
           "ids": [
            "Qatar",
            "Bahrain",
            "Japan",
            "Israel",
            "Kazakhstan",
            "Oman",
            "Georgia",
            "Uzbekistan",
            "Cyprus",
            "Thailand",
            "Maldives",
            "Philippines",
            "Turkmenistan",
            "Armenia",
            "Kuwait",
            "Singapore",
            "United Arab Emirates"
           ],
           "legendgroup": "Asia",
           "marker": {
            "color": "#2CA02C",
            "size": [
             65,
             66,
             61,
             60,
             243,
             107,
             157,
             145,
             65,
             161,
             71,
             203,
             188,
             138,
             84,
             60,
             81
            ],
            "sizemode": "area",
            "sizeref": 0.53,
            "symbol": "circle"
           },
           "mode": "markers",
           "name": "Asia",
           "orientation": "v",
           "showlegend": true,
           "type": "scatter",
           "x": [
            1.87017775,
            3.84291482,
            9.0630064,
            7.01663876,
            2.73641348,
            2.82071519,
            9.07341194,
            5.22166872,
            6.51767111,
            3.39009833,
            8.48759079,
            4.1310792,
            4.9963603,
            9.23539066,
            2.67879915,
            3.20265365,
            3.87874508
           ],
           "xaxis": "x",
           "y": [
            65,
            66,
            61,
            60,
            243,
            107,
            157,
            145,
            65,
            161,
            71,
            203,
            188,
            138,
            84,
            60,
            81
           ],
           "yaxis": "y"
          },
          {
           "hovertemplate": "<b>%{hovertext}</b><br><br>Continent=South America<br>Year=2010<br>current health expenditure=%{x}<br>Both sexes=%{marker.size}<extra></extra>",
           "hovertext": [
            "Uruguay",
            "Guyana",
            "Brazil",
            "Argentina",
            "Suriname",
            "Ecuador",
            "Paraguay",
            "Chile",
            "Colombia"
           ],
           "ids": [
            "Uruguay",
            "Guyana",
            "Brazil",
            "Argentina",
            "Suriname",
            "Ecuador",
            "Paraguay",
            "Chile",
            "Colombia"
           ],
           "legendgroup": "South America",
           "marker": {
            "color": "#D62728",
            "size": [
             118,
             258,
             154,
             119,
             194,
             134,
             152,
             94,
             146
            ],
            "sizemode": "area",
            "sizeref": 0.53,
            "symbol": "circle"
           },
           "mode": "markers",
           "name": "South America",
           "orientation": "v",
           "showlegend": true,
           "type": "scatter",
           "x": [
            7.91117096,
            4.21897697,
            7.94515991,
            9.44546986,
            5.03042459,
            6.11657906,
            5.47032022,
            6.77489328,
            7.07130146
           ],
           "xaxis": "x",
           "y": [
            118,
            258,
            154,
            119,
            194,
            134,
            152,
            94,
            146
           ],
           "yaxis": "y"
          },
          {
           "hovertemplate": "<b>%{hovertext}</b><br><br>Continent=Africa<br>Year=2010<br>current health expenditure=%{x}<br>Both sexes=%{marker.size}<extra></extra>",
           "hovertext": [
            "South Africa",
            "Seychelles",
            "Mauritius"
           ],
           "ids": [
            "South Africa",
            "Seychelles",
            "Mauritius"
           ],
           "legendgroup": "Africa",
           "marker": {
            "color": "#9467BD",
            "size": [
             416,
             181,
             162
            ],
            "sizemode": "area",
            "sizeref": 0.53,
            "symbol": "circle"
           },
           "mode": "markers",
           "name": "Africa",
           "orientation": "v",
           "showlegend": true,
           "type": "scatter",
           "x": [
            8.66596985,
            4.82908678,
            4.57982111
           ],
           "xaxis": "x",
           "y": [
            416,
            181,
            162
           ],
           "yaxis": "y"
          },
          {
           "hovertemplate": "<b>%{hovertext}</b><br><br>Continent=Oceania<br>Year=2010<br>current health expenditure=%{x}<br>Both sexes=%{marker.size}<extra></extra>",
           "hovertext": [
            "Australia",
            "New Zealand"
           ],
           "ids": [
            "Australia",
            "New Zealand"
           ],
           "legendgroup": "Oceania",
           "marker": {
            "color": "#8C564B",
            "size": [
             63,
             71
            ],
            "sizemode": "area",
            "sizeref": 0.53,
            "symbol": "circle"
           },
           "mode": "markers",
           "name": "Oceania",
           "orientation": "v",
           "showlegend": true,
           "type": "scatter",
           "x": [
            8.4308424,
            9.59277534
           ],
           "xaxis": "x",
           "y": [
            63,
            71
           ],
           "yaxis": "y"
          }
         ],
         "name": "2010"
        },
        {
         "data": [
          {
           "hovertemplate": "<b>%{hovertext}</b><br><br>Continent=Europe<br>Year=2011<br>current health expenditure=%{x}<br>Both sexes=%{marker.size}<extra></extra>",
           "hovertext": [
            "Serbia",
            "Slovenia",
            "Sweden",
            "Poland",
            "Romania",
            "Portugal",
            "Spain",
            "Germany",
            "Bulgaria",
            "Hungary",
            "Iceland",
            "Ireland",
            "Bosnia and Herzegovina",
            "Italy",
            "Belgium",
            "Latvia",
            "Croatia",
            "Ukraine",
            "Denmark",
            "Estonia",
            "Finland",
            "France",
            "Greece",
            "Belarus",
            "Lithuania",
            "Switzerland",
            "Malta",
            "Netherlands",
            "Austria",
            "Luxembourg",
            "Norway"
           ],
           "ids": [
            "Serbia",
            "Slovenia",
            "Sweden",
            "Poland",
            "Romania",
            "Portugal",
            "Spain",
            "Germany",
            "Bulgaria",
            "Hungary",
            "Iceland",
            "Ireland",
            "Bosnia and Herzegovina",
            "Italy",
            "Belgium",
            "Latvia",
            "Croatia",
            "Ukraine",
            "Denmark",
            "Estonia",
            "Finland",
            "France",
            "Greece",
            "Belarus",
            "Lithuania",
            "Switzerland",
            "Malta",
            "Netherlands",
            "Austria",
            "Luxembourg",
            "Norway"
           ],
           "legendgroup": "Europe",
           "marker": {
            "color": "#1F77B4",
            "size": [
             113,
             82,
             58,
             128,
             141,
             84,
             63,
             75,
             141,
             147,
             51,
             67,
             100,
             58,
             81,
             167,
             103,
             209,
             78,
             136,
             84,
             83,
             73,
             227,
             184,
             54,
             59,
             64,
             72,
             66,
             66
            ],
            "sizemode": "area",
            "sizeref": 0.53,
            "symbol": "circle"
           },
           "mode": "markers",
           "name": "Europe",
           "orientation": "v",
           "showlegend": true,
           "type": "scatter",
           "x": [
            9.10749245,
            8.53639603,
            10.41646767,
            6.2400856,
            4.70199966,
            9.73071671,
            9.16859245,
            10.77818966,
            7.13881254,
            7.49094248,
            8.20293236,
            10.676898,
            9.17856026,
            8.77413177,
            10.39208412,
            5.54237556,
            7.76850891,
            6.81617689,
            10.15291023,
            5.7667613,
            9.22303009,
            11.18497658,
            9.19330311,
            4.87438536,
            6.4878149,
            10.0191288,
            8.4481411,
            10.23353291,
            10.02613258,
            6.11205053,
            8.78868103
           ],
           "xaxis": "x",
           "y": [
            113,
            82,
            58,
            128,
            141,
            84,
            63,
            75,
            141,
            147,
            51,
            67,
            100,
            58,
            81,
            167,
            103,
            209,
            78,
            136,
            84,
            83,
            73,
            227,
            184,
            54,
            59,
            64,
            72,
            66,
            66
           ],
           "yaxis": "y"
          },
          {
           "hovertemplate": "<b>%{hovertext}</b><br><br>Continent=North America<br>Year=2011<br>current health expenditure=%{x}<br>Both sexes=%{marker.size}<extra></extra>",
           "hovertext": [
            "Panama",
            "Guatemala",
            "Cuba",
            "Belize",
            "Jamaica",
            "Grenada",
            "Canada",
            "Costa Rica",
            "El Salvador",
            "Trinidad and Tobago",
            "Nicaragua",
            "Mexico",
            "Barbados"
           ],
           "ids": [
            "Panama",
            "Guatemala",
            "Cuba",
            "Belize",
            "Jamaica",
            "Grenada",
            "Canada",
            "Costa Rica",
            "El Salvador",
            "Trinidad and Tobago",
            "Nicaragua",
            "Mexico",
            "Barbados"
           ],
           "legendgroup": "North America",
           "marker": {
            "color": "#FF7F0E",
            "size": [
             117,
             180,
             92,
             182,
             139,
             150,
             67,
             100,
             189,
             180,
             158,
             133,
             106
            ],
            "sizemode": "area",
            "sizeref": 0.53,
            "symbol": "circle"
           },
           "mode": "markers",
           "name": "North America",
           "orientation": "v",
           "showlegend": true,
           "type": "scatter",
           "x": [
            6.59314489,
            5.96316576,
            11.31298637,
            5.72256994,
            5.23800802,
            5.80423355,
            10.40052414,
            8.1219759,
            8.14439964,
            4.72197914,
            7.44982004,
            5.51883602,
            6.89933872
           ],
           "xaxis": "x",
           "y": [
            117,
            180,
            92,
            182,
            139,
            150,
            67,
            100,
            189,
            180,
            158,
            133,
            106
           ],
           "yaxis": "y"
          },
          {
           "hovertemplate": "<b>%{hovertext}</b><br><br>Continent=Asia<br>Year=2011<br>current health expenditure=%{x}<br>Both sexes=%{marker.size}<extra></extra>",
           "hovertext": [
            "Philippines",
            "Qatar",
            "Singapore",
            "Israel",
            "Thailand",
            "Japan",
            "Kazakhstan",
            "Kuwait",
            "Cyprus",
            "Armenia",
            "Georgia",
            "Turkmenistan",
            "Uzbekistan",
            "Bahrain",
            "Maldives"
           ],
           "ids": [
            "Philippines",
            "Qatar",
            "Singapore",
            "Israel",
            "Thailand",
            "Japan",
            "Kazakhstan",
            "Kuwait",
            "Cyprus",
            "Armenia",
            "Georgia",
            "Turkmenistan",
            "Uzbekistan",
            "Bahrain",
            "Maldives"
           ],
           "legendgroup": "Asia",
           "marker": {
            "color": "#2CA02C",
            "size": [
             202,
             65,
             59,
             59,
             158,
             62,
             232,
             84,
             58,
             135,
             153,
             190,
             144,
             66,
             66
            ],
            "sizemode": "area",
            "sizeref": 0.53,
            "symbol": "circle"
           },
           "mode": "markers",
           "name": "Asia",
           "orientation": "v",
           "showlegend": true,
           "type": "scatter",
           "x": [
            4.02518606,
            1.59996212,
            3.15792179,
            6.99058676,
            3.56825471,
            10.48780155,
            2.60236716,
            2.33303523,
            6.44928503,
            9.37587833,
            8.0144434,
            4.89650869,
            5.14376926,
            3.57691312,
            7.92251587
           ],
           "xaxis": "x",
           "y": [
            202,
            65,
            59,
            59,
            158,
            62,
            232,
            84,
            58,
            135,
            153,
            190,
            144,
            66,
            66
           ],
           "yaxis": "y"
          },
          {
           "hovertemplate": "<b>%{hovertext}</b><br><br>Continent=South America<br>Year=2011<br>current health expenditure=%{x}<br>Both sexes=%{marker.size}<extra></extra>",
           "hovertext": [
            "Paraguay",
            "Suriname",
            "Guyana",
            "Argentina",
            "Ecuador",
            "Colombia",
            "Chile",
            "Brazil"
           ],
           "ids": [
            "Paraguay",
            "Suriname",
            "Guyana",
            "Argentina",
            "Ecuador",
            "Colombia",
            "Chile",
            "Brazil"
           ],
           "legendgroup": "South America",
           "marker": {
            "color": "#D62728",
            "size": [
             150,
             191,
             263,
             118,
             130,
             140,
             90,
             153
            ],
            "sizemode": "area",
            "sizeref": 0.53,
            "symbol": "circle"
           },
           "mode": "markers",
           "name": "South America",
           "orientation": "v",
           "showlegend": true,
           "type": "scatter",
           "x": [
            5.82928896,
            4.72143984,
            4.17213488,
            9.41821575,
            6.47737551,
            6.78076839,
            6.7717886,
            7.78819466
           ],
           "xaxis": "x",
           "y": [
            150,
            191,
            263,
            118,
            130,
            140,
            90,
            153
           ],
           "yaxis": "y"
          },
          {
           "hovertemplate": "<b>%{hovertext}</b><br><br>Continent=Africa<br>Year=2011<br>current health expenditure=%{x}<br>Both sexes=%{marker.size}<extra></extra>",
           "hovertext": [
            "Seychelles",
            "South Africa",
            "Mauritius"
           ],
           "ids": [
            "Seychelles",
            "South Africa",
            "Mauritius"
           ],
           "legendgroup": "Africa",
           "marker": {
            "color": "#9467BD",
            "size": [
             177,
             397,
             156
            ],
            "sizemode": "area",
            "sizeref": 0.53,
            "symbol": "circle"
           },
           "mode": "markers",
           "name": "Africa",
           "orientation": "v",
           "showlegend": true,
           "type": "scatter",
           "x": [
            4.80053091,
            8.74146175,
            4.3078289
           ],
           "xaxis": "x",
           "y": [
            177,
            397,
            156
           ],
           "yaxis": "y"
          },
          {
           "hovertemplate": "<b>%{hovertext}</b><br><br>Continent=Oceania<br>Year=2011<br>current health expenditure=%{x}<br>Both sexes=%{marker.size}<extra></extra>",
           "hovertext": [
            "Australia",
            "Fiji",
            "New Zealand"
           ],
           "ids": [
            "Australia",
            "Fiji",
            "New Zealand"
           ],
           "legendgroup": "Oceania",
           "marker": {
            "color": "#8C564B",
            "size": [
             62,
             197,
             71
            ],
            "sizemode": "area",
            "sizeref": 0.53,
            "symbol": "circle"
           },
           "mode": "markers",
           "name": "Oceania",
           "orientation": "v",
           "showlegend": true,
           "type": "scatter",
           "x": [
            8.54153824,
            3.14293504,
            9.51987362
           ],
           "xaxis": "x",
           "y": [
            62,
            197,
            71
           ],
           "yaxis": "y"
          }
         ],
         "name": "2011"
        },
        {
         "data": [
          {
           "hovertemplate": "<b>%{hovertext}</b><br><br>Continent=Europe<br>Year=2012<br>current health expenditure=%{x}<br>Both sexes=%{marker.size}<extra></extra>",
           "hovertext": [
            "Slovenia",
            "Norway",
            "Romania",
            "Germany",
            "Ukraine",
            "Sweden",
            "Austria",
            "Estonia",
            "France",
            "Denmark",
            "Greece",
            "Serbia",
            "Netherlands",
            "Finland",
            "Spain",
            "Italy",
            "Belgium",
            "Ireland",
            "Poland",
            "Lithuania",
            "Latvia",
            "Luxembourg",
            "Portugal",
            "Switzerland",
            "Bulgaria",
            "Malta",
            "Hungary",
            "Croatia",
            "Iceland"
           ],
           "ids": [
            "Slovenia",
            "Norway",
            "Romania",
            "Germany",
            "Ukraine",
            "Sweden",
            "Austria",
            "Estonia",
            "France",
            "Denmark",
            "Greece",
            "Serbia",
            "Netherlands",
            "Finland",
            "Spain",
            "Italy",
            "Belgium",
            "Ireland",
            "Poland",
            "Lithuania",
            "Latvia",
            "Luxembourg",
            "Portugal",
            "Switzerland",
            "Bulgaria",
            "Malta",
            "Hungary",
            "Croatia",
            "Iceland"
           ],
           "legendgroup": "Europe",
           "marker": {
            "color": "#1F77B4",
            "size": [
             81,
             60,
             141,
             73,
             211,
             56,
             68,
             134,
             80,
             75,
             72,
             111,
             63,
             80,
             61,
             57,
             79,
             66,
             126,
             180,
             162,
             63,
             81,
             54,
             137,
             57,
             143,
             103,
             50
            ],
            "sizemode": "area",
            "sizeref": 0.53,
            "symbol": "circle"
           },
           "mode": "markers",
           "name": "Europe",
           "orientation": "v",
           "showlegend": true,
           "type": "scatter",
           "x": [
            8.71509933,
            8.77787876,
            4.73353195,
            10.85323715,
            7.11665535,
            10.73515224,
            10.19915581,
            5.79034519,
            11.29740047,
            10.24135303,
            8.92377281,
            9.32176399,
            10.53905964,
            9.5857954,
            9.15699196,
            8.78352833,
            10.50650597,
            10.65266323,
            6.22393656,
            6.2759347,
            5.38090277,
            5.58377266,
            9.65393162,
            10.24875641,
            7.57609081,
            8.37802982,
            7.43017483,
            7.78380489,
            8.18118858
           ],
           "xaxis": "x",
           "y": [
            81,
            60,
            141,
            73,
            211,
            56,
            68,
            134,
            80,
            75,
            72,
            111,
            63,
            80,
            61,
            57,
            79,
            66,
            126,
            180,
            162,
            63,
            81,
            54,
            137,
            57,
            143,
            103,
            50
           ],
           "yaxis": "y"
          },
          {
           "hovertemplate": "<b>%{hovertext}</b><br><br>Continent=North America<br>Year=2012<br>current health expenditure=%{x}<br>Both sexes=%{marker.size}<extra></extra>",
           "hovertext": [
            "Panama",
            "Canada",
            "Cuba",
            "Nicaragua",
            "Costa Rica",
            "El Salvador",
            "Mexico",
            "Belize",
            "Barbados",
            "Grenada",
            "Guatemala",
            "Antigua and Barbuda"
           ],
           "ids": [
            "Panama",
            "Canada",
            "Cuba",
            "Nicaragua",
            "Costa Rica",
            "El Salvador",
            "Mexico",
            "Belize",
            "Barbados",
            "Grenada",
            "Guatemala",
            "Antigua and Barbuda"
           ],
           "legendgroup": "North America",
           "marker": {
            "color": "#FF7F0E",
            "size": [
             116,
             68,
             96,
             155,
             99,
             186,
             131,
             183,
             108,
             147,
             173,
             127
            ],
            "sizemode": "area",
            "sizeref": 0.53,
            "symbol": "circle"
           },
           "mode": "markers",
           "name": "North America",
           "orientation": "v",
           "showlegend": true,
           "type": "scatter",
           "x": [
            6.56412029,
            10.50637913,
            9.29940987,
            7.48836899,
            7.78642225,
            7.53931999,
            5.66522121,
            5.46800852,
            7.77819967,
            5.82235813,
            6.07307673,
            5.47921419
           ],
           "xaxis": "x",
           "y": [
            116,
            68,
            96,
            155,
            99,
            186,
            131,
            183,
            108,
            147,
            173,
            127
           ],
           "yaxis": "y"
          },
          {
           "hovertemplate": "<b>%{hovertext}</b><br><br>Continent=Asia<br>Year=2012<br>current health expenditure=%{x}<br>Both sexes=%{marker.size}<extra></extra>",
           "hovertext": [
            "Georgia",
            "Cyprus",
            "Turkmenistan",
            "Singapore",
            "Armenia",
            "Thailand",
            "Japan",
            "Kazakhstan",
            "Uzbekistan",
            "Kuwait",
            "Israel",
            "Qatar",
            "Bahrain"
           ],
           "ids": [
            "Georgia",
            "Cyprus",
            "Turkmenistan",
            "Singapore",
            "Armenia",
            "Thailand",
            "Japan",
            "Kazakhstan",
            "Uzbekistan",
            "Kuwait",
            "Israel",
            "Qatar",
            "Bahrain"
           ],
           "legendgroup": "Asia",
           "marker": {
            "color": "#2CA02C",
            "size": [
             157,
             55,
             189,
             57,
             131,
             155,
             57,
             224,
             145,
             83,
             58,
             65,
             66
            ],
            "sizemode": "area",
            "sizeref": 0.53,
            "symbol": "circle"
           },
           "mode": "markers",
           "name": "Asia",
           "orientation": "v",
           "showlegend": true,
           "type": "scatter",
           "x": [
            8.04715919,
            6.55474567,
            4.77595139,
            3.32783675,
            9.134552,
            3.5229404,
            10.67169189,
            3.03725958,
            5.45723581,
            2.33311439,
            7.11508703,
            1.74822152,
            4.10642147
           ],
           "xaxis": "x",
           "y": [
            157,
            55,
            189,
            57,
            131,
            155,
            57,
            224,
            145,
            83,
            58,
            65,
            66
           ],
           "yaxis": "y"
          },
          {
           "hovertemplate": "<b>%{hovertext}</b><br><br>Continent=South America<br>Year=2012<br>current health expenditure=%{x}<br>Both sexes=%{marker.size}<extra></extra>",
           "hovertext": [
            "Chile",
            "Argentina",
            "Ecuador",
            "Suriname",
            "Colombia",
            "Paraguay",
            "Uruguay",
            "Guyana",
            "Brazil"
           ],
           "ids": [
            "Chile",
            "Argentina",
            "Ecuador",
            "Suriname",
            "Colombia",
            "Paraguay",
            "Uruguay",
            "Guyana",
            "Brazil"
           ],
           "legendgroup": "South America",
           "marker": {
            "color": "#D62728",
            "size": [
             89,
             118,
             127,
             188,
             140,
             149,
             118,
             272,
             150
            ],
            "sizemode": "area",
            "sizeref": 0.53,
            "symbol": "circle"
           },
           "mode": "markers",
           "name": "South America",
           "orientation": "v",
           "showlegend": true,
           "type": "scatter",
           "x": [
            7.0209198,
            9.82728195,
            6.7622118,
            4.58755207,
            6.74599648,
            6.52922678,
            8.0675621,
            3.7081871,
            7.73637724
           ],
           "xaxis": "x",
           "y": [
            89,
            118,
            127,
            188,
            140,
            149,
            118,
            272,
            150
           ],
           "yaxis": "y"
          },
          {
           "hovertemplate": "<b>%{hovertext}</b><br><br>Continent=Africa<br>Year=2012<br>current health expenditure=%{x}<br>Both sexes=%{marker.size}<extra></extra>",
           "hovertext": [
            "Seychelles",
            "Mauritius",
            "South Africa"
           ],
           "ids": [
            "Seychelles",
            "Mauritius",
            "South Africa"
           ],
           "legendgroup": "Africa",
           "marker": {
            "color": "#9467BD",
            "size": [
             174,
             152,
             361
            ],
            "sizemode": "area",
            "sizeref": 0.53,
            "symbol": "circle"
           },
           "mode": "markers",
           "name": "Africa",
           "orientation": "v",
           "showlegend": true,
           "type": "scatter",
           "x": [
            5.73247576,
            4.27675056,
            8.77310753
           ],
           "xaxis": "x",
           "y": [
            174,
            152,
            361
           ],
           "yaxis": "y"
          },
          {
           "hovertemplate": "<b>%{hovertext}</b><br><br>Continent=Oceania<br>Year=2012<br>current health expenditure=%{x}<br>Both sexes=%{marker.size}<extra></extra>",
           "hovertext": [
            "Australia",
            "New Zealand",
            "Fiji"
           ],
           "ids": [
            "Australia",
            "New Zealand",
            "Fiji"
           ],
           "legendgroup": "Oceania",
           "marker": {
            "color": "#8C564B",
            "size": [
             60,
             68,
             195
            ],
            "sizemode": "area",
            "sizeref": 0.53,
            "symbol": "circle"
           },
           "mode": "markers",
           "name": "Oceania",
           "orientation": "v",
           "showlegend": true,
           "type": "scatter",
           "x": [
            8.67564774,
            9.65163612,
            3.2655499
           ],
           "xaxis": "x",
           "y": [
            60,
            68,
            195
           ],
           "yaxis": "y"
          }
         ],
         "name": "2012"
        },
        {
         "data": [
          {
           "hovertemplate": "<b>%{hovertext}</b><br><br>Continent=Europe<br>Year=2013<br>current health expenditure=%{x}<br>Both sexes=%{marker.size}<extra></extra>",
           "hovertext": [
            "Spain",
            "Austria",
            "Belarus",
            "Bulgaria",
            "Slovenia",
            "Belgium",
            "Sweden",
            "Italy",
            "Poland",
            "Latvia",
            "Lithuania",
            "Croatia",
            "Luxembourg",
            "Switzerland",
            "Malta",
            "Netherlands",
            "Norway",
            "Portugal",
            "Ireland",
            "Hungary",
            "Denmark",
            "Estonia",
            "Serbia",
            "Finland",
            "Iceland",
            "France",
            "Greece",
            "Romania",
            "Germany"
           ],
           "ids": [
            "Spain",
            "Austria",
            "Belarus",
            "Bulgaria",
            "Slovenia",
            "Belgium",
            "Sweden",
            "Italy",
            "Poland",
            "Latvia",
            "Lithuania",
            "Croatia",
            "Luxembourg",
            "Switzerland",
            "Malta",
            "Netherlands",
            "Norway",
            "Portugal",
            "Ireland",
            "Hungary",
            "Denmark",
            "Estonia",
            "Serbia",
            "Finland",
            "Iceland",
            "France",
            "Greece",
            "Romania",
            "Germany"
           ],
           "legendgroup": "Europe",
           "marker": {
            "color": "#1F77B4",
            "size": [
             59,
             67,
             183,
             135,
             78,
             77,
             56,
             56,
             121,
             164,
             179,
             96,
             60,
             53,
             57,
             61,
             61,
             78,
             64,
             136,
             72,
             122,
             107,
             78,
             53,
             77,
             68,
             134,
             73
            ],
            "sizemode": "area",
            "sizeref": 0.53,
            "symbol": "circle"
           },
           "mode": "markers",
           "name": "Europe",
           "orientation": "v",
           "showlegend": true,
           "type": "scatter",
           "x": [
            9.06737709,
            10.28574944,
            5.69559479,
            7.16768599,
            8.74028301,
            10.56133938,
            10.9049139,
            8.77543831,
            6.41485739,
            5.36752796,
            6.12593651,
            6.51796293,
            5.52774715,
            10.46214485,
            8.49665737,
            10.5835619,
            8.92953396,
            9.40486622,
            10.29696083,
            7.24897766,
            10.16958141,
            5.97791481,
            9.30588913,
            9.80534649,
            8.17555237,
            11.41635036,
            8.36682224,
            5.19664145,
            10.99795437
           ],
           "xaxis": "x",
           "y": [
            59,
            67,
            183,
            135,
            78,
            77,
            56,
            56,
            121,
            164,
            179,
            96,
            60,
            53,
            57,
            61,
            61,
            78,
            64,
            136,
            72,
            122,
            107,
            78,
            53,
            77,
            68,
            134,
            73
           ],
           "yaxis": "y"
          },
          {
           "hovertemplate": "<b>%{hovertext}</b><br><br>Continent=North America<br>Year=2013<br>current health expenditure=%{x}<br>Both sexes=%{marker.size}<extra></extra>",
           "hovertext": [
            "Barbados",
            "Belize",
            "Costa Rica",
            "Canada",
            "Cuba",
            "Antigua and Barbuda",
            "Panama",
            "Mexico",
            "Nicaragua",
            "El Salvador",
            "Grenada",
            "Guatemala"
           ],
           "ids": [
            "Barbados",
            "Belize",
            "Costa Rica",
            "Canada",
            "Cuba",
            "Antigua and Barbuda",
            "Panama",
            "Mexico",
            "Nicaragua",
            "El Salvador",
            "Grenada",
            "Guatemala"
           ],
           "legendgroup": "North America",
           "marker": {
            "color": "#FF7F0E",
            "size": [
             101,
             184,
             97,
             66,
             96,
             127,
             114,
             127,
             153,
             184,
             145,
             172
            ],
            "sizemode": "area",
            "sizeref": 0.53,
            "symbol": "circle"
           },
           "mode": "markers",
           "name": "North America",
           "orientation": "v",
           "showlegend": true,
           "type": "scatter",
           "x": [
            7.49560881,
            5.65393209,
            7.68229151,
            10.40513706,
            10.43099499,
            5.50909281,
            6.65125561,
            5.80923605,
            7.6386919,
            7.71839237,
            5.62652922,
            5.77188921
           ],
           "xaxis": "x",
           "y": [
            101,
            184,
            97,
            66,
            96,
            127,
            114,
            127,
            153,
            184,
            145,
            172
           ],
           "yaxis": "y"
          },
          {
           "hovertemplate": "<b>%{hovertext}</b><br><br>Continent=Asia<br>Year=2013<br>current health expenditure=%{x}<br>Both sexes=%{marker.size}<extra></extra>",
           "hovertext": [
            "Singapore",
            "Armenia",
            "Bahrain",
            "Thailand",
            "Israel",
            "Uzbekistan",
            "Japan",
            "Kazakhstan",
            "Kuwait",
            "Cyprus",
            "Turkmenistan",
            "Georgia",
            "Qatar"
           ],
           "ids": [
            "Singapore",
            "Armenia",
            "Bahrain",
            "Thailand",
            "Israel",
            "Uzbekistan",
            "Japan",
            "Kazakhstan",
            "Kuwait",
            "Cyprus",
            "Turkmenistan",
            "Georgia",
            "Qatar"
           ],
           "legendgroup": "Asia",
           "marker": {
            "color": "#2CA02C",
            "size": [
             56,
             121,
             63,
             154,
             59,
             141,
             56,
             211,
             82,
             58,
             196,
             158,
             65
            ],
            "sizemode": "area",
            "sizeref": 0.53,
            "symbol": "circle"
           },
           "mode": "markers",
           "name": "Asia",
           "orientation": "v",
           "showlegend": true,
           "type": "scatter",
           "x": [
            3.68562651,
            10.32344532,
            4.30853891,
            3.45313334,
            7.07797098,
            5.66173697,
            10.67438602,
            2.66286707,
            2.48789287,
            6.94518471,
            5.15063286,
            7.88304806,
            2.07620168
           ],
           "xaxis": "x",
           "y": [
            56,
            121,
            63,
            154,
            59,
            141,
            56,
            211,
            82,
            58,
            196,
            158,
            65
           ],
           "yaxis": "y"
          },
          {
           "hovertemplate": "<b>%{hovertext}</b><br><br>Continent=South America<br>Year=2013<br>current health expenditure=%{x}<br>Both sexes=%{marker.size}<extra></extra>",
           "hovertext": [
            "Uruguay",
            "Chile",
            "Brazil",
            "Colombia",
            "Paraguay",
            "Ecuador",
            "Suriname",
            "Argentina",
            "Guyana"
           ],
           "ids": [
            "Uruguay",
            "Chile",
            "Brazil",
            "Colombia",
            "Paraguay",
            "Ecuador",
            "Suriname",
            "Argentina",
            "Guyana"
           ],
           "legendgroup": "South America",
           "marker": {
            "color": "#D62728",
            "size": [
             117,
             90,
             148,
             139,
             148,
             122,
             186,
             116,
             263
            ],
            "sizemode": "area",
            "sizeref": 0.53,
            "symbol": "circle"
           },
           "mode": "markers",
           "name": "South America",
           "orientation": "v",
           "showlegend": true,
           "type": "scatter",
           "x": [
            8.11896133,
            7.44478321,
            7.97659969,
            7.01724052,
            6.05105257,
            6.80123425,
            4.80475569,
            9.78097343,
            3.80231333
           ],
           "xaxis": "x",
           "y": [
            117,
            90,
            148,
            139,
            148,
            122,
            186,
            116,
            263
           ],
           "yaxis": "y"
          },
          {
           "hovertemplate": "<b>%{hovertext}</b><br><br>Continent=Africa<br>Year=2013<br>current health expenditure=%{x}<br>Both sexes=%{marker.size}<extra></extra>",
           "hovertext": [
            "South Africa",
            "Mauritius",
            "Seychelles"
           ],
           "ids": [
            "South Africa",
            "Mauritius",
            "Seychelles"
           ],
           "legendgroup": "Africa",
           "marker": {
            "color": "#9467BD",
            "size": [
             335,
             145,
             171
            ],
            "sizemode": "area",
            "sizeref": 0.53,
            "symbol": "circle"
           },
           "mode": "markers",
           "name": "Africa",
           "orientation": "v",
           "showlegend": true,
           "type": "scatter",
           "x": [
            8.85552406,
            4.68303633,
            4.50912476
           ],
           "xaxis": "x",
           "y": [
            335,
            145,
            171
           ],
           "yaxis": "y"
          },
          {
           "hovertemplate": "<b>%{hovertext}</b><br><br>Continent=Oceania<br>Year=2013<br>current health expenditure=%{x}<br>Both sexes=%{marker.size}<extra></extra>",
           "hovertext": [
            "Australia",
            "New Zealand"
           ],
           "ids": [
            "Australia",
            "New Zealand"
           ],
           "legendgroup": "Oceania",
           "marker": {
            "color": "#8C564B",
            "size": [
             60,
             66
            ],
            "sizemode": "area",
            "sizeref": 0.53,
            "symbol": "circle"
           },
           "mode": "markers",
           "name": "Oceania",
           "orientation": "v",
           "showlegend": true,
           "type": "scatter",
           "x": [
            8.76116371,
            9.3601923
           ],
           "xaxis": "x",
           "y": [
            60,
            66
           ],
           "yaxis": "y"
          }
         ],
         "name": "2013"
        },
        {
         "data": [
          {
           "hovertemplate": "<b>%{hovertext}</b><br><br>Continent=Europe<br>Year=2014<br>current health expenditure=%{x}<br>Both sexes=%{marker.size}<extra></extra>",
           "hovertext": [
            "Ukraine",
            "Sweden",
            "Switzerland",
            "Spain",
            "Bulgaria",
            "Malta",
            "Luxembourg",
            "Lithuania",
            "Croatia",
            "Latvia",
            "Ireland",
            "Denmark",
            "Iceland",
            "Hungary",
            "Estonia",
            "Greece",
            "Finland",
            "Germany",
            "Italy",
            "Bosnia and Herzegovina",
            "Austria",
            "Slovenia",
            "Serbia",
            "Romania",
            "Netherlands",
            "Portugal",
            "Poland",
            "France",
            "Belgium",
            "Norway",
            "Belarus"
           ],
           "ids": [
            "Ukraine",
            "Sweden",
            "Switzerland",
            "Spain",
            "Bulgaria",
            "Malta",
            "Luxembourg",
            "Lithuania",
            "Croatia",
            "Latvia",
            "Ireland",
            "Denmark",
            "Iceland",
            "Hungary",
            "Estonia",
            "Greece",
            "Finland",
            "Germany",
            "Italy",
            "Bosnia and Herzegovina",
            "Austria",
            "Slovenia",
            "Serbia",
            "Romania",
            "Netherlands",
            "Portugal",
            "Poland",
            "France",
            "Belgium",
            "Norway",
            "Belarus"
           ],
           "legendgroup": "Europe",
           "marker": {
            "color": "#1F77B4",
            "size": [
             212,
             55,
             50,
             58,
             141,
             53,
             55,
             167,
             94,
             159,
             62,
             68,
             55,
             133,
             124,
             67,
             73,
             70,
             54,
             96,
             65,
             70,
             106,
             140,
             59,
             77,
             115,
             74,
             73,
             57,
             175
            ],
            "sizemode": "area",
            "sizeref": 0.53,
            "symbol": "circle"
           },
           "mode": "markers",
           "name": "Europe",
           "orientation": "v",
           "showlegend": true,
           "type": "scatter",
           "x": [
            7.18958139,
            10.9479475,
            10.61642265,
            9.08936405,
            7.70713234,
            9.08505249,
            5.43687868,
            6.19332647,
            6.70013046,
            5.46614885,
            9.53489971,
            10.17190456,
            8.22888947,
            7.06011677,
            6.08077621,
            7.90779018,
            9.78115082,
            11.02157784,
            8.86791897,
            9.49011135,
            10.36809254,
            8.50197506,
            9.23958969,
            5.02168465,
            10.56706905,
            9.34288025,
            6.38664055,
            11.54441643,
            10.59411144,
            9.34493351,
            5.38793373
           ],
           "xaxis": "x",
           "y": [
            212,
            55,
            50,
            58,
            141,
            53,
            55,
            167,
            94,
            159,
            62,
            68,
            55,
            133,
            124,
            67,
            73,
            70,
            54,
            96,
            65,
            70,
            106,
            140,
            59,
            77,
            115,
            74,
            73,
            57,
            175
           ],
           "yaxis": "y"
          },
          {
           "hovertemplate": "<b>%{hovertext}</b><br><br>Continent=North America<br>Year=2014<br>current health expenditure=%{x}<br>Both sexes=%{marker.size}<extra></extra>",
           "hovertext": [
            "Mexico",
            "Costa Rica",
            "Cuba",
            "Guatemala",
            "El Salvador",
            "Grenada",
            "Antigua and Barbuda",
            "Belize",
            "Panama",
            "Nicaragua"
           ],
           "ids": [
            "Mexico",
            "Costa Rica",
            "Cuba",
            "Guatemala",
            "El Salvador",
            "Grenada",
            "Antigua and Barbuda",
            "Belize",
            "Panama",
            "Nicaragua"
           ],
           "legendgroup": "North America",
           "marker": {
            "color": "#FF7F0E",
            "size": [
             129,
             95,
             95,
             169,
             182,
             143,
             127,
             183,
             111,
             150
            ],
            "sizemode": "area",
            "sizeref": 0.53,
            "symbol": "circle"
           },
           "mode": "markers",
           "name": "North America",
           "orientation": "v",
           "showlegend": true,
           "type": "scatter",
           "x": [
            5.55341005,
            7.66376114,
            12.1412344,
            5.8885684,
            7.68152761,
            4.77353573,
            5.87269974,
            6.19277191,
            6.92144489,
            7.97716141
           ],
           "xaxis": "x",
           "y": [
            129,
            95,
            95,
            169,
            182,
            143,
            127,
            183,
            111,
            150
           ],
           "yaxis": "y"
          },
          {
           "hovertemplate": "<b>%{hovertext}</b><br><br>Continent=Asia<br>Year=2014<br>current health expenditure=%{x}<br>Both sexes=%{marker.size}<extra></extra>",
           "hovertext": [
            "Turkmenistan",
            "Thailand",
            "Uzbekistan",
            "Georgia",
            "Kuwait",
            "Kazakhstan",
            "Japan",
            "Israel",
            "Cyprus",
            "Singapore",
            "Armenia",
            "Qatar",
            "Oman",
            "Bahrain"
           ],
           "ids": [
            "Turkmenistan",
            "Thailand",
            "Uzbekistan",
            "Georgia",
            "Kuwait",
            "Kazakhstan",
            "Japan",
            "Israel",
            "Cyprus",
            "Singapore",
            "Armenia",
            "Qatar",
            "Oman",
            "Bahrain"
           ],
           "legendgroup": "Asia",
           "marker": {
            "color": "#2CA02C",
            "size": [
             199,
             151,
             139,
             155,
             81,
             199,
             54,
             58,
             61,
             55,
             118,
             64,
             100,
             62
            ],
            "sizemode": "area",
            "sizeref": 0.53,
            "symbol": "circle"
           },
           "mode": "markers",
           "name": "Asia",
           "orientation": "v",
           "showlegend": true,
           "type": "scatter",
           "x": [
            5.49777317,
            3.68448091,
            4.6729269,
            7.90386868,
            2.9159987,
            2.97468472,
            10.7290144,
            7.14262056,
            6.95228958,
            3.87155676,
            10.17827034,
            2.42293572,
            3.52693391,
            4.40681839
           ],
           "xaxis": "x",
           "y": [
            199,
            151,
            139,
            155,
            81,
            199,
            54,
            58,
            61,
            55,
            118,
            64,
            100,
            62
           ],
           "yaxis": "y"
          },
          {
           "hovertemplate": "<b>%{hovertext}</b><br><br>Continent=South America<br>Year=2014<br>current health expenditure=%{x}<br>Both sexes=%{marker.size}<extra></extra>",
           "hovertext": [
            "Suriname",
            "Uruguay",
            "Chile",
            "Colombia",
            "Brazil",
            "Ecuador",
            "Argentina",
            "Paraguay"
           ],
           "ids": [
            "Suriname",
            "Uruguay",
            "Chile",
            "Colombia",
            "Brazil",
            "Ecuador",
            "Argentina",
            "Paraguay"
           ],
           "legendgroup": "South America",
           "marker": {
            "color": "#D62728",
            "size": [
             184,
             114,
             88,
             139,
             145,
             119,
             113,
             147
            ],
            "sizemode": "area",
            "sizeref": 0.53,
            "symbol": "circle"
           },
           "mode": "markers",
           "name": "South America",
           "orientation": "v",
           "showlegend": true,
           "type": "scatter",
           "x": [
            4.84127617,
            8.07321835,
            7.80729866,
            7.18553209,
            8.39644623,
            6.72399426,
            9.67129135,
            6.64387417
           ],
           "xaxis": "x",
           "y": [
            184,
            114,
            88,
            139,
            145,
            119,
            113,
            147
           ],
           "yaxis": "y"
          },
          {
           "hovertemplate": "<b>%{hovertext}</b><br><br>Continent=Africa<br>Year=2014<br>current health expenditure=%{x}<br>Both sexes=%{marker.size}<extra></extra>",
           "hovertext": [
            "Mauritius",
            "South Africa",
            "Seychelles"
           ],
           "ids": [
            "Mauritius",
            "South Africa",
            "Seychelles"
           ],
           "legendgroup": "Africa",
           "marker": {
            "color": "#9467BD",
            "size": [
             148,
             316,
             168
            ],
            "sizemode": "area",
            "sizeref": 0.53,
            "symbol": "circle"
           },
           "mode": "markers",
           "name": "Africa",
           "orientation": "v",
           "showlegend": true,
           "type": "scatter",
           "x": [
            5.49399614,
            8.55091476,
            4.7388773
           ],
           "xaxis": "x",
           "y": [
            148,
            316,
            168
           ],
           "yaxis": "y"
          },
          {
           "hovertemplate": "<b>%{hovertext}</b><br><br>Continent=Oceania<br>Year=2014<br>current health expenditure=%{x}<br>Both sexes=%{marker.size}<extra></extra>",
           "hovertext": [
            "Australia"
           ],
           "ids": [
            "Australia"
           ],
           "legendgroup": "Oceania",
           "marker": {
            "color": "#8C564B",
            "size": [
             61
            ],
            "sizemode": "area",
            "sizeref": 0.53,
            "symbol": "circle"
           },
           "mode": "markers",
           "name": "Oceania",
           "orientation": "v",
           "showlegend": true,
           "type": "scatter",
           "x": [
            9.03597069
           ],
           "xaxis": "x",
           "y": [
            61
           ],
           "yaxis": "y"
          }
         ],
         "name": "2014"
        },
        {
         "data": [
          {
           "hovertemplate": "<b>%{hovertext}</b><br><br>Continent=Europe<br>Year=2015<br>current health expenditure=%{x}<br>Both sexes=%{marker.size}<extra></extra>",
           "hovertext": [
            "Croatia",
            "Finland",
            "Estonia",
            "Belgium",
            "Denmark",
            "Austria",
            "Ukraine",
            "Malta",
            "Netherlands",
            "Sweden",
            "Norway",
            "Luxembourg",
            "Romania",
            "Serbia",
            "Slovenia",
            "Poland",
            "Switzerland",
            "Spain",
            "Latvia",
            "Germany",
            "Greece",
            "Italy",
            "Iceland",
            "Hungary",
            "Lithuania"
           ],
           "ids": [
            "Croatia",
            "Finland",
            "Estonia",
            "Belgium",
            "Denmark",
            "Austria",
            "Ukraine",
            "Malta",
            "Netherlands",
            "Sweden",
            "Norway",
            "Luxembourg",
            "Romania",
            "Serbia",
            "Slovenia",
            "Poland",
            "Switzerland",
            "Spain",
            "Latvia",
            "Germany",
            "Greece",
            "Italy",
            "Iceland",
            "Hungary",
            "Lithuania"
           ],
           "legendgroup": "Europe",
           "marker": {
            "color": "#1F77B4",
            "size": [
             96,
             70,
             116,
             72,
             66,
             64,
             188,
             55,
             58,
             54,
             54,
             52,
             136,
             106,
             74,
             115,
             50,
             58,
             154,
             71,
             68,
             55,
             54,
             132,
             165
            ],
            "sizemode": "area",
            "sizeref": 0.53,
            "symbol": "circle"
           },
           "mode": "markers",
           "name": "Europe",
           "orientation": "v",
           "showlegend": true,
           "type": "scatter",
           "x": [
            6.78702879,
            9.64523888,
            6.34629202,
            10.43065357,
            10.22716618,
            10.36746693,
            7.77609348,
            8.89759541,
            10.32393837,
            10.80418396,
            10.13146877,
            5.28378248,
            4.94721556,
            8.8132,
            8.49823952,
            6.39477158,
            11.00794983,
            9.12617207,
            5.65469503,
            11.18370342,
            8.06892395,
            8.85689163,
            8.06978989,
            6.85949564,
            6.49043989
           ],
           "xaxis": "x",
           "y": [
            96,
            70,
            116,
            72,
            66,
            64,
            188,
            55,
            58,
            54,
            54,
            52,
            136,
            106,
            74,
            115,
            50,
            58,
            154,
            71,
            68,
            55,
            54,
            132,
            165
           ],
           "yaxis": "y"
          },
          {
           "hovertemplate": "<b>%{hovertext}</b><br><br>Continent=North America<br>Year=2015<br>current health expenditure=%{x}<br>Both sexes=%{marker.size}<extra></extra>",
           "hovertext": [
            "Antigua and Barbuda",
            "Cuba",
            "Belize",
            "Mexico",
            "Nicaragua",
            "Panama",
            "Grenada",
            "Guatemala"
           ],
           "ids": [
            "Antigua and Barbuda",
            "Cuba",
            "Belize",
            "Mexico",
            "Nicaragua",
            "Panama",
            "Grenada",
            "Guatemala"
           ],
           "legendgroup": "North America",
           "marker": {
            "color": "#FF7F0E",
            "size": [
             122,
             94,
             182,
             128,
             148,
             112,
             141,
             165
            ],
            "sizemode": "area",
            "sizeref": 0.53,
            "symbol": "circle"
           },
           "mode": "markers",
           "name": "North America",
           "orientation": "v",
           "showlegend": true,
           "type": "scatter",
           "x": [
            5.27965546,
            12.81401348,
            5.9350915,
            5.72277403,
            7.96303225,
            6.8090291,
            4.64675617,
            6.00602055
           ],
           "xaxis": "x",
           "y": [
            122,
            94,
            182,
            128,
            148,
            112,
            141,
            165
           ],
           "yaxis": "y"
          },
          {
           "hovertemplate": "<b>%{hovertext}</b><br><br>Continent=Asia<br>Year=2015<br>current health expenditure=%{x}<br>Both sexes=%{marker.size}<extra></extra>",
           "hovertext": [
            "Armenia",
            "Cyprus",
            "Israel",
            "Georgia",
            "Turkmenistan",
            "Qatar",
            "Singapore",
            "Kazakhstan",
            "Japan",
            "Thailand"
           ],
           "ids": [
            "Armenia",
            "Cyprus",
            "Israel",
            "Georgia",
            "Turkmenistan",
            "Qatar",
            "Singapore",
            "Kazakhstan",
            "Japan",
            "Thailand"
           ],
           "legendgroup": "Asia",
           "marker": {
            "color": "#2CA02C",
            "size": [
             121,
             57,
             58,
             156,
             198,
             63,
             54,
             192,
             53,
             149
            ],
            "sizemode": "area",
            "sizeref": 0.53,
            "symbol": "circle"
           },
           "mode": "markers",
           "name": "Asia",
           "orientation": "v",
           "showlegend": true,
           "type": "scatter",
           "x": [
            10.11763382,
            6.75352287,
            7.09919786,
            7.42301512,
            6.29793644,
            3.00097346,
            4.18069839,
            3.04051137,
            10.74969959,
            3.66788888
           ],
           "xaxis": "x",
           "y": [
            121,
            57,
            58,
            156,
            198,
            63,
            54,
            192,
            53,
            149
           ],
           "yaxis": "y"
          },
          {
           "hovertemplate": "<b>%{hovertext}</b><br><br>Continent=South America<br>Year=2015<br>current health expenditure=%{x}<br>Both sexes=%{marker.size}<extra></extra>",
           "hovertext": [
            "Brazil",
            "Argentina",
            "Chile",
            "Colombia",
            "Uruguay",
            "Ecuador"
           ],
           "ids": [
            "Brazil",
            "Argentina",
            "Chile",
            "Colombia",
            "Uruguay",
            "Ecuador"
           ],
           "legendgroup": "South America",
           "marker": {
            "color": "#D62728",
            "size": [
             145,
             113,
             88,
             138,
             114,
             117
            ],
            "sizemode": "area",
            "sizeref": 0.53,
            "symbol": "circle"
           },
           "mode": "markers",
           "name": "South America",
           "orientation": "v",
           "showlegend": true,
           "type": "scatter",
           "x": [
            8.90929508,
            10.22933865,
            8.30269146,
            7.52338552,
            8.29223633,
            7.49149466
           ],
           "xaxis": "x",
           "y": [
            145,
            113,
            88,
            138,
            114,
            117
           ],
           "yaxis": "y"
          },
          {
           "hovertemplate": "<b>%{hovertext}</b><br><br>Continent=Africa<br>Year=2015<br>current health expenditure=%{x}<br>Both sexes=%{marker.size}<extra></extra>",
           "hovertext": [
            "Seychelles",
            "South Africa",
            "Mauritius"
           ],
           "ids": [
            "Seychelles",
            "South Africa",
            "Mauritius"
           ],
           "legendgroup": "Africa",
           "marker": {
            "color": "#9467BD",
            "size": [
             166,
             305,
             148
            ],
            "sizemode": "area",
            "sizeref": 0.53,
            "symbol": "circle"
           },
           "mode": "markers",
           "name": "Africa",
           "orientation": "v",
           "showlegend": true,
           "type": "scatter",
           "x": [
            4.5895319,
            8.79018974,
            5.6999588
           ],
           "xaxis": "x",
           "y": [
            166,
            305,
            148
           ],
           "yaxis": "y"
          },
          {
           "hovertemplate": "<b>%{hovertext}</b><br><br>Continent=Oceania<br>Year=2015<br>current health expenditure=%{x}<br>Both sexes=%{marker.size}<extra></extra>",
           "hovertext": [
            "Australia"
           ],
           "ids": [
            "Australia"
           ],
           "legendgroup": "Oceania",
           "marker": {
            "color": "#8C564B",
            "size": [
             62
            ],
            "sizemode": "area",
            "sizeref": 0.53,
            "symbol": "circle"
           },
           "mode": "markers",
           "name": "Oceania",
           "orientation": "v",
           "showlegend": true,
           "type": "scatter",
           "x": [
            9.32758904
           ],
           "xaxis": "x",
           "y": [
            62
           ],
           "yaxis": "y"
          }
         ],
         "name": "2015"
        },
        {
         "data": [
          {
           "hovertemplate": "<b>%{hovertext}</b><br><br>Continent=Europe<br>Year=2016<br>current health expenditure=%{x}<br>Both sexes=%{marker.size}<extra></extra>",
           "hovertext": [
            "Lithuania",
            "Romania",
            "Austria",
            "Iceland",
            "Sweden",
            "Netherlands",
            "Croatia",
            "Hungary"
           ],
           "ids": [
            "Lithuania",
            "Romania",
            "Austria",
            "Iceland",
            "Sweden",
            "Netherlands",
            "Croatia",
            "Hungary"
           ],
           "legendgroup": "Europe",
           "marker": {
            "color": "#1F77B4",
            "size": [
             155,
             135,
             62,
             55,
             52,
             59,
             88,
             126
            ],
            "sizemode": "area",
            "sizeref": 0.53,
            "symbol": "circle"
           },
           "mode": "markers",
           "name": "Europe",
           "orientation": "v",
           "showlegend": true,
           "type": "scatter",
           "x": [
            6.63746214,
            5.00346899,
            10.3522625,
            8.09714699,
            10.85240364,
            10.2942524,
            6.82921791,
            6.99535179
           ],
           "xaxis": "x",
           "y": [
            155,
            135,
            62,
            55,
            52,
            59,
            88,
            126
           ],
           "yaxis": "y"
          },
          {
           "hovertemplate": "<b>%{hovertext}</b><br><br>Continent=North America<br>Year=2016<br>current health expenditure=%{x}<br>Both sexes=%{marker.size}<extra></extra>",
           "hovertext": [
            "Grenada"
           ],
           "ids": [
            "Grenada"
           ],
           "legendgroup": "North America",
           "marker": {
            "color": "#FF7F0E",
            "size": [
             140
            ],
            "sizemode": "area",
            "sizeref": 0.53,
            "symbol": "circle"
           },
           "mode": "markers",
           "name": "North America",
           "orientation": "v",
           "showlegend": true,
           "type": "scatter",
           "x": [
            4.43910027
           ],
           "xaxis": "x",
           "y": [
            140
           ],
           "yaxis": "y"
          },
          {
           "hovertemplate": "<b>%{hovertext}</b><br><br>Continent=Asia<br>Year=2016<br>current health expenditure=%{x}<br>Both sexes=%{marker.size}<extra></extra>",
           "hovertext": [
            "Armenia",
            "Cyprus",
            "Thailand",
            "Mongolia",
            "Qatar"
           ],
           "ids": [
            "Armenia",
            "Cyprus",
            "Thailand",
            "Mongolia",
            "Qatar"
           ],
           "legendgroup": "Asia",
           "marker": {
            "color": "#2CA02C",
            "size": [
             116,
             55,
             147,
             211,
             62
            ],
            "sizemode": "area",
            "sizeref": 0.53,
            "symbol": "circle"
           },
           "mode": "markers",
           "name": "Asia",
           "orientation": "v",
           "showlegend": true,
           "type": "scatter",
           "x": [
            9.95196629,
            6.62359428,
            3.7540946,
            4.42355633,
            3.24747443
           ],
           "xaxis": "x",
           "y": [
            116,
            55,
            147,
            211,
            62
           ],
           "yaxis": "y"
          },
          {
           "hovertemplate": "<b>%{hovertext}</b><br><br>Continent=Africa<br>Year=2016<br>current health expenditure=%{x}<br>Both sexes=%{marker.size}<extra></extra>",
           "hovertext": [
            "Mauritius"
           ],
           "ids": [
            "Mauritius"
           ],
           "legendgroup": "Africa",
           "marker": {
            "color": "#9467BD",
            "size": [
             145
            ],
            "sizemode": "area",
            "sizeref": 0.53,
            "symbol": "circle"
           },
           "mode": "markers",
           "name": "Africa",
           "orientation": "v",
           "showlegend": true,
           "type": "scatter",
           "x": [
            5.70678568
           ],
           "xaxis": "x",
           "y": [
            145
           ],
           "yaxis": "y"
          }
         ],
         "name": "2016"
        }
       ],
       "layout": {
        "height": 700,
        "legend": {
         "itemsizing": "constant",
         "title": {
          "text": "Continent"
         },
         "tracegroupgap": 0
        },
        "margin": {
         "t": 60
        },
        "sliders": [
         {
          "active": 0,
          "currentvalue": {
           "prefix": "Year="
          },
          "len": 0.9,
          "pad": {
           "b": 10,
           "t": 60
          },
          "steps": [
           {
            "args": [
             [
              "2000"
             ],
             {
              "frame": {
               "duration": 0,
               "redraw": false
              },
              "fromcurrent": true,
              "mode": "immediate",
              "transition": {
               "duration": 0,
               "easing": "linear"
              }
             }
            ],
            "label": "2000",
            "method": "animate"
           },
           {
            "args": [
             [
              "2001"
             ],
             {
              "frame": {
               "duration": 0,
               "redraw": false
              },
              "fromcurrent": true,
              "mode": "immediate",
              "transition": {
               "duration": 0,
               "easing": "linear"
              }
             }
            ],
            "label": "2001",
            "method": "animate"
           },
           {
            "args": [
             [
              "2002"
             ],
             {
              "frame": {
               "duration": 0,
               "redraw": false
              },
              "fromcurrent": true,
              "mode": "immediate",
              "transition": {
               "duration": 0,
               "easing": "linear"
              }
             }
            ],
            "label": "2002",
            "method": "animate"
           },
           {
            "args": [
             [
              "2003"
             ],
             {
              "frame": {
               "duration": 0,
               "redraw": false
              },
              "fromcurrent": true,
              "mode": "immediate",
              "transition": {
               "duration": 0,
               "easing": "linear"
              }
             }
            ],
            "label": "2003",
            "method": "animate"
           },
           {
            "args": [
             [
              "2004"
             ],
             {
              "frame": {
               "duration": 0,
               "redraw": false
              },
              "fromcurrent": true,
              "mode": "immediate",
              "transition": {
               "duration": 0,
               "easing": "linear"
              }
             }
            ],
            "label": "2004",
            "method": "animate"
           },
           {
            "args": [
             [
              "2005"
             ],
             {
              "frame": {
               "duration": 0,
               "redraw": false
              },
              "fromcurrent": true,
              "mode": "immediate",
              "transition": {
               "duration": 0,
               "easing": "linear"
              }
             }
            ],
            "label": "2005",
            "method": "animate"
           },
           {
            "args": [
             [
              "2006"
             ],
             {
              "frame": {
               "duration": 0,
               "redraw": false
              },
              "fromcurrent": true,
              "mode": "immediate",
              "transition": {
               "duration": 0,
               "easing": "linear"
              }
             }
            ],
            "label": "2006",
            "method": "animate"
           },
           {
            "args": [
             [
              "2007"
             ],
             {
              "frame": {
               "duration": 0,
               "redraw": false
              },
              "fromcurrent": true,
              "mode": "immediate",
              "transition": {
               "duration": 0,
               "easing": "linear"
              }
             }
            ],
            "label": "2007",
            "method": "animate"
           },
           {
            "args": [
             [
              "2008"
             ],
             {
              "frame": {
               "duration": 0,
               "redraw": false
              },
              "fromcurrent": true,
              "mode": "immediate",
              "transition": {
               "duration": 0,
               "easing": "linear"
              }
             }
            ],
            "label": "2008",
            "method": "animate"
           },
           {
            "args": [
             [
              "2009"
             ],
             {
              "frame": {
               "duration": 0,
               "redraw": false
              },
              "fromcurrent": true,
              "mode": "immediate",
              "transition": {
               "duration": 0,
               "easing": "linear"
              }
             }
            ],
            "label": "2009",
            "method": "animate"
           },
           {
            "args": [
             [
              "2010"
             ],
             {
              "frame": {
               "duration": 0,
               "redraw": false
              },
              "fromcurrent": true,
              "mode": "immediate",
              "transition": {
               "duration": 0,
               "easing": "linear"
              }
             }
            ],
            "label": "2010",
            "method": "animate"
           },
           {
            "args": [
             [
              "2011"
             ],
             {
              "frame": {
               "duration": 0,
               "redraw": false
              },
              "fromcurrent": true,
              "mode": "immediate",
              "transition": {
               "duration": 0,
               "easing": "linear"
              }
             }
            ],
            "label": "2011",
            "method": "animate"
           },
           {
            "args": [
             [
              "2012"
             ],
             {
              "frame": {
               "duration": 0,
               "redraw": false
              },
              "fromcurrent": true,
              "mode": "immediate",
              "transition": {
               "duration": 0,
               "easing": "linear"
              }
             }
            ],
            "label": "2012",
            "method": "animate"
           },
           {
            "args": [
             [
              "2013"
             ],
             {
              "frame": {
               "duration": 0,
               "redraw": false
              },
              "fromcurrent": true,
              "mode": "immediate",
              "transition": {
               "duration": 0,
               "easing": "linear"
              }
             }
            ],
            "label": "2013",
            "method": "animate"
           },
           {
            "args": [
             [
              "2014"
             ],
             {
              "frame": {
               "duration": 0,
               "redraw": false
              },
              "fromcurrent": true,
              "mode": "immediate",
              "transition": {
               "duration": 0,
               "easing": "linear"
              }
             }
            ],
            "label": "2014",
            "method": "animate"
           },
           {
            "args": [
             [
              "2015"
             ],
             {
              "frame": {
               "duration": 0,
               "redraw": false
              },
              "fromcurrent": true,
              "mode": "immediate",
              "transition": {
               "duration": 0,
               "easing": "linear"
              }
             }
            ],
            "label": "2015",
            "method": "animate"
           },
           {
            "args": [
             [
              "2016"
             ],
             {
              "frame": {
               "duration": 0,
               "redraw": false
              },
              "fromcurrent": true,
              "mode": "immediate",
              "transition": {
               "duration": 0,
               "easing": "linear"
              }
             }
            ],
            "label": "2016",
            "method": "animate"
           }
          ],
          "x": 0.1,
          "xanchor": "left",
          "y": 0,
          "yanchor": "top"
         }
        ],
        "template": {
         "data": {
          "bar": [
           {
            "error_x": {
             "color": "rgb(36,36,36)"
            },
            "error_y": {
             "color": "rgb(36,36,36)"
            },
            "marker": {
             "line": {
              "color": "white",
              "width": 0.5
             },
             "pattern": {
              "fillmode": "overlay",
              "size": 10,
              "solidity": 0.2
             }
            },
            "type": "bar"
           }
          ],
          "barpolar": [
           {
            "marker": {
             "line": {
              "color": "white",
              "width": 0.5
             },
             "pattern": {
              "fillmode": "overlay",
              "size": 10,
              "solidity": 0.2
             }
            },
            "type": "barpolar"
           }
          ],
          "carpet": [
           {
            "aaxis": {
             "endlinecolor": "rgb(36,36,36)",
             "gridcolor": "white",
             "linecolor": "white",
             "minorgridcolor": "white",
             "startlinecolor": "rgb(36,36,36)"
            },
            "baxis": {
             "endlinecolor": "rgb(36,36,36)",
             "gridcolor": "white",
             "linecolor": "white",
             "minorgridcolor": "white",
             "startlinecolor": "rgb(36,36,36)"
            },
            "type": "carpet"
           }
          ],
          "choropleth": [
           {
            "colorbar": {
             "outlinewidth": 1,
             "tickcolor": "rgb(36,36,36)",
             "ticks": "outside"
            },
            "type": "choropleth"
           }
          ],
          "contour": [
           {
            "colorbar": {
             "outlinewidth": 1,
             "tickcolor": "rgb(36,36,36)",
             "ticks": "outside"
            },
            "colorscale": [
             [
              0,
              "#440154"
             ],
             [
              0.1111111111111111,
              "#482878"
             ],
             [
              0.2222222222222222,
              "#3e4989"
             ],
             [
              0.3333333333333333,
              "#31688e"
             ],
             [
              0.4444444444444444,
              "#26828e"
             ],
             [
              0.5555555555555556,
              "#1f9e89"
             ],
             [
              0.6666666666666666,
              "#35b779"
             ],
             [
              0.7777777777777778,
              "#6ece58"
             ],
             [
              0.8888888888888888,
              "#b5de2b"
             ],
             [
              1,
              "#fde725"
             ]
            ],
            "type": "contour"
           }
          ],
          "contourcarpet": [
           {
            "colorbar": {
             "outlinewidth": 1,
             "tickcolor": "rgb(36,36,36)",
             "ticks": "outside"
            },
            "type": "contourcarpet"
           }
          ],
          "heatmap": [
           {
            "colorbar": {
             "outlinewidth": 1,
             "tickcolor": "rgb(36,36,36)",
             "ticks": "outside"
            },
            "colorscale": [
             [
              0,
              "#440154"
             ],
             [
              0.1111111111111111,
              "#482878"
             ],
             [
              0.2222222222222222,
              "#3e4989"
             ],
             [
              0.3333333333333333,
              "#31688e"
             ],
             [
              0.4444444444444444,
              "#26828e"
             ],
             [
              0.5555555555555556,
              "#1f9e89"
             ],
             [
              0.6666666666666666,
              "#35b779"
             ],
             [
              0.7777777777777778,
              "#6ece58"
             ],
             [
              0.8888888888888888,
              "#b5de2b"
             ],
             [
              1,
              "#fde725"
             ]
            ],
            "type": "heatmap"
           }
          ],
          "heatmapgl": [
           {
            "colorbar": {
             "outlinewidth": 1,
             "tickcolor": "rgb(36,36,36)",
             "ticks": "outside"
            },
            "colorscale": [
             [
              0,
              "#440154"
             ],
             [
              0.1111111111111111,
              "#482878"
             ],
             [
              0.2222222222222222,
              "#3e4989"
             ],
             [
              0.3333333333333333,
              "#31688e"
             ],
             [
              0.4444444444444444,
              "#26828e"
             ],
             [
              0.5555555555555556,
              "#1f9e89"
             ],
             [
              0.6666666666666666,
              "#35b779"
             ],
             [
              0.7777777777777778,
              "#6ece58"
             ],
             [
              0.8888888888888888,
              "#b5de2b"
             ],
             [
              1,
              "#fde725"
             ]
            ],
            "type": "heatmapgl"
           }
          ],
          "histogram": [
           {
            "marker": {
             "line": {
              "color": "white",
              "width": 0.6
             }
            },
            "type": "histogram"
           }
          ],
          "histogram2d": [
           {
            "colorbar": {
             "outlinewidth": 1,
             "tickcolor": "rgb(36,36,36)",
             "ticks": "outside"
            },
            "colorscale": [
             [
              0,
              "#440154"
             ],
             [
              0.1111111111111111,
              "#482878"
             ],
             [
              0.2222222222222222,
              "#3e4989"
             ],
             [
              0.3333333333333333,
              "#31688e"
             ],
             [
              0.4444444444444444,
              "#26828e"
             ],
             [
              0.5555555555555556,
              "#1f9e89"
             ],
             [
              0.6666666666666666,
              "#35b779"
             ],
             [
              0.7777777777777778,
              "#6ece58"
             ],
             [
              0.8888888888888888,
              "#b5de2b"
             ],
             [
              1,
              "#fde725"
             ]
            ],
            "type": "histogram2d"
           }
          ],
          "histogram2dcontour": [
           {
            "colorbar": {
             "outlinewidth": 1,
             "tickcolor": "rgb(36,36,36)",
             "ticks": "outside"
            },
            "colorscale": [
             [
              0,
              "#440154"
             ],
             [
              0.1111111111111111,
              "#482878"
             ],
             [
              0.2222222222222222,
              "#3e4989"
             ],
             [
              0.3333333333333333,
              "#31688e"
             ],
             [
              0.4444444444444444,
              "#26828e"
             ],
             [
              0.5555555555555556,
              "#1f9e89"
             ],
             [
              0.6666666666666666,
              "#35b779"
             ],
             [
              0.7777777777777778,
              "#6ece58"
             ],
             [
              0.8888888888888888,
              "#b5de2b"
             ],
             [
              1,
              "#fde725"
             ]
            ],
            "type": "histogram2dcontour"
           }
          ],
          "mesh3d": [
           {
            "colorbar": {
             "outlinewidth": 1,
             "tickcolor": "rgb(36,36,36)",
             "ticks": "outside"
            },
            "type": "mesh3d"
           }
          ],
          "parcoords": [
           {
            "line": {
             "colorbar": {
              "outlinewidth": 1,
              "tickcolor": "rgb(36,36,36)",
              "ticks": "outside"
             }
            },
            "type": "parcoords"
           }
          ],
          "pie": [
           {
            "automargin": true,
            "type": "pie"
           }
          ],
          "scatter": [
           {
            "fillpattern": {
             "fillmode": "overlay",
             "size": 10,
             "solidity": 0.2
            },
            "type": "scatter"
           }
          ],
          "scatter3d": [
           {
            "line": {
             "colorbar": {
              "outlinewidth": 1,
              "tickcolor": "rgb(36,36,36)",
              "ticks": "outside"
             }
            },
            "marker": {
             "colorbar": {
              "outlinewidth": 1,
              "tickcolor": "rgb(36,36,36)",
              "ticks": "outside"
             }
            },
            "type": "scatter3d"
           }
          ],
          "scattercarpet": [
           {
            "marker": {
             "colorbar": {
              "outlinewidth": 1,
              "tickcolor": "rgb(36,36,36)",
              "ticks": "outside"
             }
            },
            "type": "scattercarpet"
           }
          ],
          "scattergeo": [
           {
            "marker": {
             "colorbar": {
              "outlinewidth": 1,
              "tickcolor": "rgb(36,36,36)",
              "ticks": "outside"
             }
            },
            "type": "scattergeo"
           }
          ],
          "scattergl": [
           {
            "marker": {
             "colorbar": {
              "outlinewidth": 1,
              "tickcolor": "rgb(36,36,36)",
              "ticks": "outside"
             }
            },
            "type": "scattergl"
           }
          ],
          "scattermapbox": [
           {
            "marker": {
             "colorbar": {
              "outlinewidth": 1,
              "tickcolor": "rgb(36,36,36)",
              "ticks": "outside"
             }
            },
            "type": "scattermapbox"
           }
          ],
          "scatterpolar": [
           {
            "marker": {
             "colorbar": {
              "outlinewidth": 1,
              "tickcolor": "rgb(36,36,36)",
              "ticks": "outside"
             }
            },
            "type": "scatterpolar"
           }
          ],
          "scatterpolargl": [
           {
            "marker": {
             "colorbar": {
              "outlinewidth": 1,
              "tickcolor": "rgb(36,36,36)",
              "ticks": "outside"
             }
            },
            "type": "scatterpolargl"
           }
          ],
          "scatterternary": [
           {
            "marker": {
             "colorbar": {
              "outlinewidth": 1,
              "tickcolor": "rgb(36,36,36)",
              "ticks": "outside"
             }
            },
            "type": "scatterternary"
           }
          ],
          "surface": [
           {
            "colorbar": {
             "outlinewidth": 1,
             "tickcolor": "rgb(36,36,36)",
             "ticks": "outside"
            },
            "colorscale": [
             [
              0,
              "#440154"
             ],
             [
              0.1111111111111111,
              "#482878"
             ],
             [
              0.2222222222222222,
              "#3e4989"
             ],
             [
              0.3333333333333333,
              "#31688e"
             ],
             [
              0.4444444444444444,
              "#26828e"
             ],
             [
              0.5555555555555556,
              "#1f9e89"
             ],
             [
              0.6666666666666666,
              "#35b779"
             ],
             [
              0.7777777777777778,
              "#6ece58"
             ],
             [
              0.8888888888888888,
              "#b5de2b"
             ],
             [
              1,
              "#fde725"
             ]
            ],
            "type": "surface"
           }
          ],
          "table": [
           {
            "cells": {
             "fill": {
              "color": "rgb(237,237,237)"
             },
             "line": {
              "color": "white"
             }
            },
            "header": {
             "fill": {
              "color": "rgb(217,217,217)"
             },
             "line": {
              "color": "white"
             }
            },
            "type": "table"
           }
          ]
         },
         "layout": {
          "annotationdefaults": {
           "arrowhead": 0,
           "arrowwidth": 1
          },
          "autotypenumbers": "strict",
          "coloraxis": {
           "colorbar": {
            "outlinewidth": 1,
            "tickcolor": "rgb(36,36,36)",
            "ticks": "outside"
           }
          },
          "colorscale": {
           "diverging": [
            [
             0,
             "rgb(103,0,31)"
            ],
            [
             0.1,
             "rgb(178,24,43)"
            ],
            [
             0.2,
             "rgb(214,96,77)"
            ],
            [
             0.3,
             "rgb(244,165,130)"
            ],
            [
             0.4,
             "rgb(253,219,199)"
            ],
            [
             0.5,
             "rgb(247,247,247)"
            ],
            [
             0.6,
             "rgb(209,229,240)"
            ],
            [
             0.7,
             "rgb(146,197,222)"
            ],
            [
             0.8,
             "rgb(67,147,195)"
            ],
            [
             0.9,
             "rgb(33,102,172)"
            ],
            [
             1,
             "rgb(5,48,97)"
            ]
           ],
           "sequential": [
            [
             0,
             "#440154"
            ],
            [
             0.1111111111111111,
             "#482878"
            ],
            [
             0.2222222222222222,
             "#3e4989"
            ],
            [
             0.3333333333333333,
             "#31688e"
            ],
            [
             0.4444444444444444,
             "#26828e"
            ],
            [
             0.5555555555555556,
             "#1f9e89"
            ],
            [
             0.6666666666666666,
             "#35b779"
            ],
            [
             0.7777777777777778,
             "#6ece58"
            ],
            [
             0.8888888888888888,
             "#b5de2b"
            ],
            [
             1,
             "#fde725"
            ]
           ],
           "sequentialminus": [
            [
             0,
             "#440154"
            ],
            [
             0.1111111111111111,
             "#482878"
            ],
            [
             0.2222222222222222,
             "#3e4989"
            ],
            [
             0.3333333333333333,
             "#31688e"
            ],
            [
             0.4444444444444444,
             "#26828e"
            ],
            [
             0.5555555555555556,
             "#1f9e89"
            ],
            [
             0.6666666666666666,
             "#35b779"
            ],
            [
             0.7777777777777778,
             "#6ece58"
            ],
            [
             0.8888888888888888,
             "#b5de2b"
            ],
            [
             1,
             "#fde725"
            ]
           ]
          },
          "colorway": [
           "#1F77B4",
           "#FF7F0E",
           "#2CA02C",
           "#D62728",
           "#9467BD",
           "#8C564B",
           "#E377C2",
           "#7F7F7F",
           "#BCBD22",
           "#17BECF"
          ],
          "font": {
           "color": "rgb(36,36,36)"
          },
          "geo": {
           "bgcolor": "white",
           "lakecolor": "white",
           "landcolor": "white",
           "showlakes": true,
           "showland": true,
           "subunitcolor": "white"
          },
          "hoverlabel": {
           "align": "left"
          },
          "hovermode": "closest",
          "mapbox": {
           "style": "light"
          },
          "paper_bgcolor": "white",
          "plot_bgcolor": "white",
          "polar": {
           "angularaxis": {
            "gridcolor": "rgb(232,232,232)",
            "linecolor": "rgb(36,36,36)",
            "showgrid": false,
            "showline": true,
            "ticks": "outside"
           },
           "bgcolor": "white",
           "radialaxis": {
            "gridcolor": "rgb(232,232,232)",
            "linecolor": "rgb(36,36,36)",
            "showgrid": false,
            "showline": true,
            "ticks": "outside"
           }
          },
          "scene": {
           "xaxis": {
            "backgroundcolor": "white",
            "gridcolor": "rgb(232,232,232)",
            "gridwidth": 2,
            "linecolor": "rgb(36,36,36)",
            "showbackground": true,
            "showgrid": false,
            "showline": true,
            "ticks": "outside",
            "zeroline": false,
            "zerolinecolor": "rgb(36,36,36)"
           },
           "yaxis": {
            "backgroundcolor": "white",
            "gridcolor": "rgb(232,232,232)",
            "gridwidth": 2,
            "linecolor": "rgb(36,36,36)",
            "showbackground": true,
            "showgrid": false,
            "showline": true,
            "ticks": "outside",
            "zeroline": false,
            "zerolinecolor": "rgb(36,36,36)"
           },
           "zaxis": {
            "backgroundcolor": "white",
            "gridcolor": "rgb(232,232,232)",
            "gridwidth": 2,
            "linecolor": "rgb(36,36,36)",
            "showbackground": true,
            "showgrid": false,
            "showline": true,
            "ticks": "outside",
            "zeroline": false,
            "zerolinecolor": "rgb(36,36,36)"
           }
          },
          "shapedefaults": {
           "fillcolor": "black",
           "line": {
            "width": 0
           },
           "opacity": 0.3
          },
          "ternary": {
           "aaxis": {
            "gridcolor": "rgb(232,232,232)",
            "linecolor": "rgb(36,36,36)",
            "showgrid": false,
            "showline": true,
            "ticks": "outside"
           },
           "baxis": {
            "gridcolor": "rgb(232,232,232)",
            "linecolor": "rgb(36,36,36)",
            "showgrid": false,
            "showline": true,
            "ticks": "outside"
           },
           "bgcolor": "white",
           "caxis": {
            "gridcolor": "rgb(232,232,232)",
            "linecolor": "rgb(36,36,36)",
            "showgrid": false,
            "showline": true,
            "ticks": "outside"
           }
          },
          "title": {
           "x": 0.05
          },
          "xaxis": {
           "automargin": true,
           "gridcolor": "rgb(232,232,232)",
           "linecolor": "rgb(36,36,36)",
           "showgrid": false,
           "showline": true,
           "ticks": "outside",
           "title": {
            "standoff": 15
           },
           "zeroline": false,
           "zerolinecolor": "rgb(36,36,36)"
          },
          "yaxis": {
           "automargin": true,
           "gridcolor": "rgb(232,232,232)",
           "linecolor": "rgb(36,36,36)",
           "showgrid": false,
           "showline": true,
           "ticks": "outside",
           "title": {
            "standoff": 15
           },
           "zeroline": false,
           "zerolinecolor": "rgb(36,36,36)"
          }
         }
        },
        "updatemenus": [
         {
          "buttons": [
           {
            "args": [
             null,
             {
              "frame": {
               "duration": 500,
               "redraw": false
              },
              "fromcurrent": true,
              "mode": "immediate",
              "transition": {
               "duration": 500,
               "easing": "linear"
              }
             }
            ],
            "label": "&#9654;",
            "method": "animate"
           },
           {
            "args": [
             [
              null
             ],
             {
              "frame": {
               "duration": 0,
               "redraw": false
              },
              "fromcurrent": true,
              "mode": "immediate",
              "transition": {
               "duration": 0,
               "easing": "linear"
              }
             }
            ],
            "label": "&#9724;",
            "method": "animate"
           }
          ],
          "direction": "left",
          "pad": {
           "r": 10,
           "t": 70
          },
          "showactive": false,
          "type": "buttons",
          "x": 0.1,
          "xanchor": "right",
          "y": 0,
          "yanchor": "top"
         }
        ],
        "width": 1000,
        "xaxis": {
         "anchor": "y",
         "domain": [
          0,
          1
         ],
         "title": {
          "text": "current health expenditure"
         }
        },
        "yaxis": {
         "anchor": "x",
         "domain": [
          0,
          1
         ],
         "title": {
          "text": "Both sexes"
         }
        }
       }
      }
     },
     "metadata": {},
     "output_type": "display_data"
    }
   ],
   "source": [
    "import plotly.express as px\n",
    "px.scatter(df_comb.sort_values('Year',ascending=True), x='current health expenditure', y='Both sexes',\n",
    "           size='Both sexes', size_max=30, color='Continent', animation_frame=\"Year\", animation_group=\"Country\",\n",
    "           template='simple_white', width=1000, height=700,hover_name='Country')"
   ]
  },
  {
   "cell_type": "code",
   "execution_count": null,
   "id": "fa53a7e9",
   "metadata": {},
   "outputs": [],
   "source": []
  }
 ],
 "metadata": {
  "kernelspec": {
   "display_name": "base",
   "language": "python",
   "name": "python3"
  },
  "language_info": {
   "codemirror_mode": {
    "name": "ipython",
    "version": 3
   },
   "file_extension": ".py",
   "mimetype": "text/x-python",
   "name": "python",
   "nbconvert_exporter": "python",
   "pygments_lexer": "ipython3",
   "version": "3.9.13"
  },
  "vscode": {
   "interpreter": {
    "hash": "a1113af81ac0134da3eb882521df24de3cbad007d201fc9dac1e40d0f052bca1"
   }
  }
 },
 "nbformat": 4,
 "nbformat_minor": 5
}
