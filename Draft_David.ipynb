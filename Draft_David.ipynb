{
 "cells": [
  {
   "cell_type": "code",
   "execution_count": 108,
   "id": "cdd38922",
   "metadata": {},
   "outputs": [],
   "source": [
    "import pandas as pd\n",
    "import pycountry\n",
    "import pycountry_convert as pc\n",
    "import matplotlib.pyplot as plt"
   ]
  },
  {
   "cell_type": "code",
   "execution_count": 204,
   "id": "8dd82957",
   "metadata": {},
   "outputs": [
    {
     "data": {
      "text/html": [
       "<div>\n",
       "<style scoped>\n",
       "    .dataframe tbody tr th:only-of-type {\n",
       "        vertical-align: middle;\n",
       "    }\n",
       "\n",
       "    .dataframe tbody tr th {\n",
       "        vertical-align: top;\n",
       "    }\n",
       "\n",
       "    .dataframe thead th {\n",
       "        text-align: right;\n",
       "    }\n",
       "</style>\n",
       "<table border=\"1\" class=\"dataframe\">\n",
       "  <thead>\n",
       "    <tr style=\"text-align: right;\">\n",
       "      <th></th>\n",
       "      <th>Country Name</th>\n",
       "      <th>Country Code</th>\n",
       "      <th>2000 [YR2000]</th>\n",
       "      <th>2001 [YR2001]</th>\n",
       "      <th>2002 [YR2002]</th>\n",
       "      <th>2003 [YR2003]</th>\n",
       "      <th>2004 [YR2004]</th>\n",
       "      <th>2005 [YR2005]</th>\n",
       "      <th>2006 [YR2006]</th>\n",
       "      <th>2007 [YR2007]</th>\n",
       "      <th>...</th>\n",
       "      <th>2009 [YR2009]</th>\n",
       "      <th>2010 [YR2010]</th>\n",
       "      <th>2011 [YR2011]</th>\n",
       "      <th>2012 [YR2012]</th>\n",
       "      <th>2013 [YR2013]</th>\n",
       "      <th>2014 [YR2014]</th>\n",
       "      <th>2015 [YR2015]</th>\n",
       "      <th>2016 [YR2016]</th>\n",
       "      <th>2017 [YR2017]</th>\n",
       "      <th>2018 [YR2018]</th>\n",
       "    </tr>\n",
       "  </thead>\n",
       "  <tbody>\n",
       "    <tr>\n",
       "      <th>0</th>\n",
       "      <td>Afghanistan</td>\n",
       "      <td>AFG</td>\n",
       "      <td>NaN</td>\n",
       "      <td>NaN</td>\n",
       "      <td>9.443390</td>\n",
       "      <td>8.941258</td>\n",
       "      <td>9.808474</td>\n",
       "      <td>9.948290</td>\n",
       "      <td>10.622766</td>\n",
       "      <td>9.904675</td>\n",
       "      <td>...</td>\n",
       "      <td>9.818487</td>\n",
       "      <td>8.569672</td>\n",
       "      <td>8.561907</td>\n",
       "      <td>7.897176</td>\n",
       "      <td>8.805941</td>\n",
       "      <td>9.528871</td>\n",
       "      <td>10.105348</td>\n",
       "      <td>11.818562</td>\n",
       "      <td>12.620817</td>\n",
       "      <td>14.126743</td>\n",
       "    </tr>\n",
       "    <tr>\n",
       "      <th>1</th>\n",
       "      <td>Africa Eastern and Southern</td>\n",
       "      <td>AFE</td>\n",
       "      <td>6.252428</td>\n",
       "      <td>6.390627</td>\n",
       "      <td>5.969416</td>\n",
       "      <td>6.635666</td>\n",
       "      <td>6.710734</td>\n",
       "      <td>6.528098</td>\n",
       "      <td>6.493183</td>\n",
       "      <td>6.469144</td>\n",
       "      <td>...</td>\n",
       "      <td>6.881587</td>\n",
       "      <td>6.923020</td>\n",
       "      <td>6.774233</td>\n",
       "      <td>6.563003</td>\n",
       "      <td>6.565593</td>\n",
       "      <td>6.151985</td>\n",
       "      <td>6.482030</td>\n",
       "      <td>6.390371</td>\n",
       "      <td>6.317424</td>\n",
       "      <td>6.323236</td>\n",
       "    </tr>\n",
       "    <tr>\n",
       "      <th>2</th>\n",
       "      <td>Africa Western and Central</td>\n",
       "      <td>AFW</td>\n",
       "      <td>3.771302</td>\n",
       "      <td>3.775136</td>\n",
       "      <td>3.389315</td>\n",
       "      <td>4.680784</td>\n",
       "      <td>4.481509</td>\n",
       "      <td>4.276980</td>\n",
       "      <td>4.140280</td>\n",
       "      <td>3.908468</td>\n",
       "      <td>...</td>\n",
       "      <td>3.786789</td>\n",
       "      <td>3.519651</td>\n",
       "      <td>3.547476</td>\n",
       "      <td>3.503394</td>\n",
       "      <td>3.619163</td>\n",
       "      <td>3.606540</td>\n",
       "      <td>3.832625</td>\n",
       "      <td>3.811249</td>\n",
       "      <td>3.789624</td>\n",
       "      <td>3.383501</td>\n",
       "    </tr>\n",
       "    <tr>\n",
       "      <th>3</th>\n",
       "      <td>Albania</td>\n",
       "      <td>ALB</td>\n",
       "      <td>7.233370</td>\n",
       "      <td>7.139524</td>\n",
       "      <td>6.909341</td>\n",
       "      <td>7.063490</td>\n",
       "      <td>6.773372</td>\n",
       "      <td>6.335542</td>\n",
       "      <td>6.009277</td>\n",
       "      <td>6.316834</td>\n",
       "      <td>...</td>\n",
       "      <td>4.602225</td>\n",
       "      <td>4.745796</td>\n",
       "      <td>4.795341</td>\n",
       "      <td>5.055265</td>\n",
       "      <td>5.385611</td>\n",
       "      <td>5.503473</td>\n",
       "      <td>4.896312</td>\n",
       "      <td>4.916017</td>\n",
       "      <td>5.012636</td>\n",
       "      <td>5.232072</td>\n",
       "    </tr>\n",
       "    <tr>\n",
       "      <th>4</th>\n",
       "      <td>Algeria</td>\n",
       "      <td>DZA</td>\n",
       "      <td>3.489033</td>\n",
       "      <td>3.837877</td>\n",
       "      <td>3.730042</td>\n",
       "      <td>3.601041</td>\n",
       "      <td>3.544073</td>\n",
       "      <td>3.235161</td>\n",
       "      <td>3.355102</td>\n",
       "      <td>3.821416</td>\n",
       "      <td>...</td>\n",
       "      <td>5.359395</td>\n",
       "      <td>5.117172</td>\n",
       "      <td>5.267481</td>\n",
       "      <td>6.000510</td>\n",
       "      <td>6.035763</td>\n",
       "      <td>6.547214</td>\n",
       "      <td>6.978489</td>\n",
       "      <td>6.607496</td>\n",
       "      <td>6.279384</td>\n",
       "      <td>6.163026</td>\n",
       "    </tr>\n",
       "  </tbody>\n",
       "</table>\n",
       "<p>5 rows × 21 columns</p>\n",
       "</div>"
      ],
      "text/plain": [
       "                  Country Name Country Code  2000 [YR2000]  2001 [YR2001]  \\\n",
       "0                  Afghanistan          AFG            NaN            NaN   \n",
       "1  Africa Eastern and Southern          AFE       6.252428       6.390627   \n",
       "2   Africa Western and Central          AFW       3.771302       3.775136   \n",
       "3                      Albania          ALB       7.233370       7.139524   \n",
       "4                      Algeria          DZA       3.489033       3.837877   \n",
       "\n",
       "   2002 [YR2002]  2003 [YR2003]  2004 [YR2004]  2005 [YR2005]  2006 [YR2006]  \\\n",
       "0       9.443390       8.941258       9.808474       9.948290      10.622766   \n",
       "1       5.969416       6.635666       6.710734       6.528098       6.493183   \n",
       "2       3.389315       4.680784       4.481509       4.276980       4.140280   \n",
       "3       6.909341       7.063490       6.773372       6.335542       6.009277   \n",
       "4       3.730042       3.601041       3.544073       3.235161       3.355102   \n",
       "\n",
       "   2007 [YR2007]  ...  2009 [YR2009]  2010 [YR2010]  2011 [YR2011]  \\\n",
       "0       9.904675  ...       9.818487       8.569672       8.561907   \n",
       "1       6.469144  ...       6.881587       6.923020       6.774233   \n",
       "2       3.908468  ...       3.786789       3.519651       3.547476   \n",
       "3       6.316834  ...       4.602225       4.745796       4.795341   \n",
       "4       3.821416  ...       5.359395       5.117172       5.267481   \n",
       "\n",
       "   2012 [YR2012]  2013 [YR2013]  2014 [YR2014]  2015 [YR2015]  2016 [YR2016]  \\\n",
       "0       7.897176       8.805941       9.528871      10.105348      11.818562   \n",
       "1       6.563003       6.565593       6.151985       6.482030       6.390371   \n",
       "2       3.503394       3.619163       3.606540       3.832625       3.811249   \n",
       "3       5.055265       5.385611       5.503473       4.896312       4.916017   \n",
       "4       6.000510       6.035763       6.547214       6.978489       6.607496   \n",
       "\n",
       "   2017 [YR2017]  2018 [YR2018]  \n",
       "0      12.620817      14.126743  \n",
       "1       6.317424       6.323236  \n",
       "2       3.789624       3.383501  \n",
       "3       5.012636       5.232072  \n",
       "4       6.279384       6.163026  \n",
       "\n",
       "[5 rows x 21 columns]"
      ]
     },
     "execution_count": 204,
     "metadata": {},
     "output_type": "execute_result"
    }
   ],
   "source": [
    "df = pd.read_csv('current health expenditure.csv')\n",
    "df.head()"
   ]
  },
  {
   "cell_type": "code",
   "execution_count": 205,
   "id": "0f575017",
   "metadata": {},
   "outputs": [],
   "source": [
    "# df.groupby('Country Name').count()"
   ]
  },
  {
   "cell_type": "code",
   "execution_count": 206,
   "id": "09c30c08",
   "metadata": {},
   "outputs": [],
   "source": [
    "df = pd.melt(\n",
    "        df,\n",
    "        id_vars = ['Country Name','Country Code'],\n",
    "        var_name = 'year',\n",
    "        value_name='current health expenditure'\n",
    "        )\n",
    "# print(df)"
   ]
  },
  {
   "cell_type": "code",
   "execution_count": 207,
   "id": "731306ef",
   "metadata": {},
   "outputs": [
    {
     "data": {
      "text/html": [
       "<div>\n",
       "<style scoped>\n",
       "    .dataframe tbody tr th:only-of-type {\n",
       "        vertical-align: middle;\n",
       "    }\n",
       "\n",
       "    .dataframe tbody tr th {\n",
       "        vertical-align: top;\n",
       "    }\n",
       "\n",
       "    .dataframe thead th {\n",
       "        text-align: right;\n",
       "    }\n",
       "</style>\n",
       "<table border=\"1\" class=\"dataframe\">\n",
       "  <thead>\n",
       "    <tr style=\"text-align: right;\">\n",
       "      <th></th>\n",
       "      <th>Country Name</th>\n",
       "      <th>Country Code</th>\n",
       "      <th>year</th>\n",
       "      <th>current health expenditure</th>\n",
       "    </tr>\n",
       "  </thead>\n",
       "  <tbody>\n",
       "    <tr>\n",
       "      <th>0</th>\n",
       "      <td>Afghanistan</td>\n",
       "      <td>AFG</td>\n",
       "      <td>2000 [YR2000]</td>\n",
       "      <td>NaN</td>\n",
       "    </tr>\n",
       "    <tr>\n",
       "      <th>1</th>\n",
       "      <td>Africa Eastern and Southern</td>\n",
       "      <td>AFE</td>\n",
       "      <td>2000 [YR2000]</td>\n",
       "      <td>6.252428</td>\n",
       "    </tr>\n",
       "    <tr>\n",
       "      <th>2</th>\n",
       "      <td>Africa Western and Central</td>\n",
       "      <td>AFW</td>\n",
       "      <td>2000 [YR2000]</td>\n",
       "      <td>3.771302</td>\n",
       "    </tr>\n",
       "    <tr>\n",
       "      <th>3</th>\n",
       "      <td>Albania</td>\n",
       "      <td>ALB</td>\n",
       "      <td>2000 [YR2000]</td>\n",
       "      <td>7.233370</td>\n",
       "    </tr>\n",
       "    <tr>\n",
       "      <th>4</th>\n",
       "      <td>Algeria</td>\n",
       "      <td>DZA</td>\n",
       "      <td>2000 [YR2000]</td>\n",
       "      <td>3.489033</td>\n",
       "    </tr>\n",
       "    <tr>\n",
       "      <th>...</th>\n",
       "      <td>...</td>\n",
       "      <td>...</td>\n",
       "      <td>...</td>\n",
       "      <td>...</td>\n",
       "    </tr>\n",
       "    <tr>\n",
       "      <th>4441</th>\n",
       "      <td>Vietnam</td>\n",
       "      <td>VNM</td>\n",
       "      <td>2018 [YR2018]</td>\n",
       "      <td>5.034489</td>\n",
       "    </tr>\n",
       "    <tr>\n",
       "      <th>4442</th>\n",
       "      <td>World</td>\n",
       "      <td>WLD</td>\n",
       "      <td>2018 [YR2018]</td>\n",
       "      <td>9.701241</td>\n",
       "    </tr>\n",
       "    <tr>\n",
       "      <th>4443</th>\n",
       "      <td>Yemen, Rep.</td>\n",
       "      <td>YEM</td>\n",
       "      <td>2018 [YR2018]</td>\n",
       "      <td>NaN</td>\n",
       "    </tr>\n",
       "    <tr>\n",
       "      <th>4444</th>\n",
       "      <td>Zambia</td>\n",
       "      <td>ZMB</td>\n",
       "      <td>2018 [YR2018]</td>\n",
       "      <td>5.032715</td>\n",
       "    </tr>\n",
       "    <tr>\n",
       "      <th>4445</th>\n",
       "      <td>Zimbabwe</td>\n",
       "      <td>ZWE</td>\n",
       "      <td>2018 [YR2018]</td>\n",
       "      <td>8.680062</td>\n",
       "    </tr>\n",
       "  </tbody>\n",
       "</table>\n",
       "<p>4446 rows × 4 columns</p>\n",
       "</div>"
      ],
      "text/plain": [
       "                     Country Name Country Code           year  \\\n",
       "0                     Afghanistan          AFG  2000 [YR2000]   \n",
       "1     Africa Eastern and Southern          AFE  2000 [YR2000]   \n",
       "2      Africa Western and Central          AFW  2000 [YR2000]   \n",
       "3                         Albania          ALB  2000 [YR2000]   \n",
       "4                         Algeria          DZA  2000 [YR2000]   \n",
       "...                           ...          ...            ...   \n",
       "4441                      Vietnam          VNM  2018 [YR2018]   \n",
       "4442                        World          WLD  2018 [YR2018]   \n",
       "4443                  Yemen, Rep.          YEM  2018 [YR2018]   \n",
       "4444                       Zambia          ZMB  2018 [YR2018]   \n",
       "4445                     Zimbabwe          ZWE  2018 [YR2018]   \n",
       "\n",
       "      current health expenditure  \n",
       "0                            NaN  \n",
       "1                       6.252428  \n",
       "2                       3.771302  \n",
       "3                       7.233370  \n",
       "4                       3.489033  \n",
       "...                          ...  \n",
       "4441                    5.034489  \n",
       "4442                    9.701241  \n",
       "4443                         NaN  \n",
       "4444                    5.032715  \n",
       "4445                    8.680062  \n",
       "\n",
       "[4446 rows x 4 columns]"
      ]
     },
     "execution_count": 207,
     "metadata": {},
     "output_type": "execute_result"
    }
   ],
   "source": [
    "df"
   ]
  },
  {
   "cell_type": "code",
   "execution_count": 208,
   "id": "1595ee04",
   "metadata": {},
   "outputs": [],
   "source": [
    "df['year'] = df.year.apply(lambda row: row[:4])\n",
    "df['current health expenditure'] = df['current health expenditure'].astype(float)\n",
    "df = df.sort_values(['Country Name', 'year'], ascending = True)\n",
    "df = df.dropna(subset = ['current health expenditure'], axis = 0, how = 'any')\n",
    "df.reset_index(drop = True, inplace = True)"
   ]
  },
  {
   "cell_type": "code",
   "execution_count": 224,
   "id": "34ade0ed",
   "metadata": {},
   "outputs": [
    {
     "data": {
      "text/html": [
       "<div>\n",
       "<style scoped>\n",
       "    .dataframe tbody tr th:only-of-type {\n",
       "        vertical-align: middle;\n",
       "    }\n",
       "\n",
       "    .dataframe tbody tr th {\n",
       "        vertical-align: top;\n",
       "    }\n",
       "\n",
       "    .dataframe thead th {\n",
       "        text-align: right;\n",
       "    }\n",
       "</style>\n",
       "<table border=\"1\" class=\"dataframe\">\n",
       "  <thead>\n",
       "    <tr style=\"text-align: right;\">\n",
       "      <th></th>\n",
       "      <th>Country Name</th>\n",
       "      <th>Country Code</th>\n",
       "      <th>year</th>\n",
       "      <th>current health expenditure</th>\n",
       "    </tr>\n",
       "  </thead>\n",
       "  <tbody>\n",
       "    <tr>\n",
       "      <th>0</th>\n",
       "      <td>Afghanistan</td>\n",
       "      <td>AFG</td>\n",
       "      <td>2002</td>\n",
       "      <td>9.443390</td>\n",
       "    </tr>\n",
       "    <tr>\n",
       "      <th>1</th>\n",
       "      <td>Afghanistan</td>\n",
       "      <td>AFG</td>\n",
       "      <td>2003</td>\n",
       "      <td>8.941258</td>\n",
       "    </tr>\n",
       "    <tr>\n",
       "      <th>2</th>\n",
       "      <td>Afghanistan</td>\n",
       "      <td>AFG</td>\n",
       "      <td>2004</td>\n",
       "      <td>9.808474</td>\n",
       "    </tr>\n",
       "    <tr>\n",
       "      <th>3</th>\n",
       "      <td>Afghanistan</td>\n",
       "      <td>AFG</td>\n",
       "      <td>2005</td>\n",
       "      <td>9.948290</td>\n",
       "    </tr>\n",
       "    <tr>\n",
       "      <th>4</th>\n",
       "      <td>Afghanistan</td>\n",
       "      <td>AFG</td>\n",
       "      <td>2006</td>\n",
       "      <td>10.622766</td>\n",
       "    </tr>\n",
       "    <tr>\n",
       "      <th>...</th>\n",
       "      <td>...</td>\n",
       "      <td>...</td>\n",
       "      <td>...</td>\n",
       "      <td>...</td>\n",
       "    </tr>\n",
       "    <tr>\n",
       "      <th>4377</th>\n",
       "      <td>Zimbabwe</td>\n",
       "      <td>ZWE</td>\n",
       "      <td>2014</td>\n",
       "      <td>8.133525</td>\n",
       "    </tr>\n",
       "    <tr>\n",
       "      <th>4378</th>\n",
       "      <td>Zimbabwe</td>\n",
       "      <td>ZWE</td>\n",
       "      <td>2015</td>\n",
       "      <td>7.452066</td>\n",
       "    </tr>\n",
       "    <tr>\n",
       "      <th>4379</th>\n",
       "      <td>Zimbabwe</td>\n",
       "      <td>ZWE</td>\n",
       "      <td>2016</td>\n",
       "      <td>7.675163</td>\n",
       "    </tr>\n",
       "    <tr>\n",
       "      <th>4380</th>\n",
       "      <td>Zimbabwe</td>\n",
       "      <td>ZWE</td>\n",
       "      <td>2017</td>\n",
       "      <td>7.469752</td>\n",
       "    </tr>\n",
       "    <tr>\n",
       "      <th>4381</th>\n",
       "      <td>Zimbabwe</td>\n",
       "      <td>ZWE</td>\n",
       "      <td>2018</td>\n",
       "      <td>8.680062</td>\n",
       "    </tr>\n",
       "  </tbody>\n",
       "</table>\n",
       "<p>4382 rows × 4 columns</p>\n",
       "</div>"
      ],
      "text/plain": [
       "     Country Name Country Code  year  current health expenditure\n",
       "0     Afghanistan          AFG  2002                    9.443390\n",
       "1     Afghanistan          AFG  2003                    8.941258\n",
       "2     Afghanistan          AFG  2004                    9.808474\n",
       "3     Afghanistan          AFG  2005                    9.948290\n",
       "4     Afghanistan          AFG  2006                   10.622766\n",
       "...           ...          ...   ...                         ...\n",
       "4377     Zimbabwe          ZWE  2014                    8.133525\n",
       "4378     Zimbabwe          ZWE  2015                    7.452066\n",
       "4379     Zimbabwe          ZWE  2016                    7.675163\n",
       "4380     Zimbabwe          ZWE  2017                    7.469752\n",
       "4381     Zimbabwe          ZWE  2018                    8.680062\n",
       "\n",
       "[4382 rows x 4 columns]"
      ]
     },
     "execution_count": 224,
     "metadata": {},
     "output_type": "execute_result"
    }
   ],
   "source": [
    "df['year'] = df['year'].astype(int)\n",
    "# df['Continent'] = df['Country Name'].apply(lambda row: country_to_continent(row))\n",
    "df"
   ]
  },
  {
   "cell_type": "code",
   "execution_count": 210,
   "id": "b0e72800",
   "metadata": {},
   "outputs": [
    {
     "data": {
      "text/html": [
       "<div>\n",
       "<style scoped>\n",
       "    .dataframe tbody tr th:only-of-type {\n",
       "        vertical-align: middle;\n",
       "    }\n",
       "\n",
       "    .dataframe tbody tr th {\n",
       "        vertical-align: top;\n",
       "    }\n",
       "\n",
       "    .dataframe thead th {\n",
       "        text-align: right;\n",
       "    }\n",
       "</style>\n",
       "<table border=\"1\" class=\"dataframe\">\n",
       "  <thead>\n",
       "    <tr style=\"text-align: right;\">\n",
       "      <th></th>\n",
       "      <th>Country Name</th>\n",
       "      <th>Country Code</th>\n",
       "      <th>year</th>\n",
       "      <th>current health expenditure</th>\n",
       "    </tr>\n",
       "  </thead>\n",
       "  <tbody>\n",
       "    <tr>\n",
       "      <th>0</th>\n",
       "      <td>Afghanistan</td>\n",
       "      <td>AFG</td>\n",
       "      <td>2002</td>\n",
       "      <td>9.443390</td>\n",
       "    </tr>\n",
       "    <tr>\n",
       "      <th>1</th>\n",
       "      <td>Afghanistan</td>\n",
       "      <td>AFG</td>\n",
       "      <td>2003</td>\n",
       "      <td>8.941258</td>\n",
       "    </tr>\n",
       "    <tr>\n",
       "      <th>2</th>\n",
       "      <td>Afghanistan</td>\n",
       "      <td>AFG</td>\n",
       "      <td>2004</td>\n",
       "      <td>9.808474</td>\n",
       "    </tr>\n",
       "    <tr>\n",
       "      <th>3</th>\n",
       "      <td>Afghanistan</td>\n",
       "      <td>AFG</td>\n",
       "      <td>2005</td>\n",
       "      <td>9.948290</td>\n",
       "    </tr>\n",
       "    <tr>\n",
       "      <th>4</th>\n",
       "      <td>Afghanistan</td>\n",
       "      <td>AFG</td>\n",
       "      <td>2006</td>\n",
       "      <td>10.622766</td>\n",
       "    </tr>\n",
       "    <tr>\n",
       "      <th>...</th>\n",
       "      <td>...</td>\n",
       "      <td>...</td>\n",
       "      <td>...</td>\n",
       "      <td>...</td>\n",
       "    </tr>\n",
       "    <tr>\n",
       "      <th>4377</th>\n",
       "      <td>Zimbabwe</td>\n",
       "      <td>ZWE</td>\n",
       "      <td>2014</td>\n",
       "      <td>8.133525</td>\n",
       "    </tr>\n",
       "    <tr>\n",
       "      <th>4378</th>\n",
       "      <td>Zimbabwe</td>\n",
       "      <td>ZWE</td>\n",
       "      <td>2015</td>\n",
       "      <td>7.452066</td>\n",
       "    </tr>\n",
       "    <tr>\n",
       "      <th>4379</th>\n",
       "      <td>Zimbabwe</td>\n",
       "      <td>ZWE</td>\n",
       "      <td>2016</td>\n",
       "      <td>7.675163</td>\n",
       "    </tr>\n",
       "    <tr>\n",
       "      <th>4380</th>\n",
       "      <td>Zimbabwe</td>\n",
       "      <td>ZWE</td>\n",
       "      <td>2017</td>\n",
       "      <td>7.469752</td>\n",
       "    </tr>\n",
       "    <tr>\n",
       "      <th>4381</th>\n",
       "      <td>Zimbabwe</td>\n",
       "      <td>ZWE</td>\n",
       "      <td>2018</td>\n",
       "      <td>8.680062</td>\n",
       "    </tr>\n",
       "  </tbody>\n",
       "</table>\n",
       "<p>4382 rows × 4 columns</p>\n",
       "</div>"
      ],
      "text/plain": [
       "     Country Name Country Code  year  current health expenditure\n",
       "0     Afghanistan          AFG  2002                    9.443390\n",
       "1     Afghanistan          AFG  2003                    8.941258\n",
       "2     Afghanistan          AFG  2004                    9.808474\n",
       "3     Afghanistan          AFG  2005                    9.948290\n",
       "4     Afghanistan          AFG  2006                   10.622766\n",
       "...           ...          ...   ...                         ...\n",
       "4377     Zimbabwe          ZWE  2014                    8.133525\n",
       "4378     Zimbabwe          ZWE  2015                    7.452066\n",
       "4379     Zimbabwe          ZWE  2016                    7.675163\n",
       "4380     Zimbabwe          ZWE  2017                    7.469752\n",
       "4381     Zimbabwe          ZWE  2018                    8.680062\n",
       "\n",
       "[4382 rows x 4 columns]"
      ]
     },
     "execution_count": 210,
     "metadata": {},
     "output_type": "execute_result"
    }
   ],
   "source": [
    "df"
   ]
  },
  {
   "cell_type": "code",
   "execution_count": 211,
   "id": "8a3d5dd9",
   "metadata": {},
   "outputs": [
    {
     "data": {
      "application/vnd.plotly.v1+json": {
       "config": {
        "plotlyServerURL": "https://plot.ly"
       },
       "data": [
        {
         "hovertemplate": "Country Name=Iceland<br>year=%{x}<br>current health expenditure=%{y}<extra></extra>",
         "legendgroup": "Iceland",
         "line": {
          "color": "#636efa",
          "dash": "solid"
         },
         "marker": {
          "symbol": "circle"
         },
         "mode": "lines",
         "name": "Iceland",
         "orientation": "v",
         "showlegend": true,
         "type": "scatter",
         "x": [
          2000,
          2001,
          2002,
          2003,
          2004,
          2005,
          2006,
          2007,
          2008,
          2009,
          2010,
          2011,
          2012,
          2013,
          2014,
          2015,
          2016,
          2017,
          2018
         ],
         "xaxis": "x",
         "y": [
          8.929286,
          8.78546429,
          9.46551323,
          9.72930241,
          9.32854366,
          8.94695091,
          8.55709076,
          8.3535862,
          8.34370804,
          8.77518463,
          8.36173058,
          8.20293236,
          8.18118858,
          8.17555237,
          8.22888947,
          8.06978989,
          8.09714699,
          8.30908108,
          8.44292068
         ],
         "yaxis": "y"
        },
        {
         "hovertemplate": "Country Name=Japan<br>year=%{x}<br>current health expenditure=%{y}<extra></extra>",
         "legendgroup": "Japan",
         "line": {
          "color": "#EF553B",
          "dash": "solid"
         },
         "marker": {
          "symbol": "circle"
         },
         "mode": "lines",
         "name": "Japan",
         "orientation": "v",
         "showlegend": true,
         "type": "scatter",
         "x": [
          2000,
          2001,
          2002,
          2003,
          2004,
          2005,
          2006,
          2007,
          2008,
          2009,
          2010,
          2011,
          2012,
          2013,
          2014,
          2015,
          2016,
          2017,
          2018
         ],
         "xaxis": "x",
         "y": [
          7.03456163,
          7.23947954,
          7.35235357,
          7.48654842,
          7.53518438,
          7.65818596,
          7.68688822,
          7.77935696,
          8.08909321,
          8.9587822,
          9.0630064,
          10.48780155,
          10.67169189,
          10.67438602,
          10.7290144,
          10.74969959,
          10.65891647,
          10.65627003,
          10.74838829
         ],
         "yaxis": "y"
        },
        {
         "hovertemplate": "Country Name=Luxembourg<br>year=%{x}<br>current health expenditure=%{y}<extra></extra>",
         "legendgroup": "Luxembourg",
         "line": {
          "color": "#00cc96",
          "dash": "solid"
         },
         "marker": {
          "symbol": "circle"
         },
         "mode": "lines",
         "name": "Luxembourg",
         "orientation": "v",
         "showlegend": true,
         "type": "scatter",
         "x": [
          2000,
          2001,
          2002,
          2003,
          2004,
          2005,
          2006,
          2007,
          2008,
          2009,
          2010,
          2011,
          2012,
          2013,
          2014,
          2015,
          2016,
          2017,
          2018
         ],
         "xaxis": "x",
         "y": [
          5.90136147,
          6.410923,
          6.73847198,
          6.97271538,
          7.34548569,
          7.18256855,
          6.70838261,
          6.23472404,
          6.53840208,
          7.33979321,
          7.03158236,
          6.11205053,
          5.58377266,
          5.52774715,
          5.43687868,
          5.28378248,
          5.19496346,
          5.25779152,
          5.28587103
         ],
         "yaxis": "y"
        },
        {
         "hovertemplate": "Country Name=Norway<br>year=%{x}<br>current health expenditure=%{y}<extra></extra>",
         "legendgroup": "Norway",
         "line": {
          "color": "#ab63fa",
          "dash": "solid"
         },
         "marker": {
          "symbol": "circle"
         },
         "mode": "lines",
         "name": "Norway",
         "orientation": "v",
         "showlegend": true,
         "type": "scatter",
         "x": [
          2000,
          2001,
          2002,
          2003,
          2004,
          2005,
          2006,
          2007,
          2008,
          2009,
          2010,
          2011,
          2012,
          2013,
          2014,
          2015,
          2016,
          2017,
          2018
         ],
         "xaxis": "x",
         "y": [
          7.71215487,
          8.02202415,
          9.00061893,
          9.21471977,
          8.82115746,
          8.32839584,
          7.91272211,
          8.05085373,
          7.96075296,
          9.07431507,
          8.90553188,
          8.78868103,
          8.77787876,
          8.92953396,
          9.34493351,
          10.13146877,
          10.59129524,
          10.31589031,
          10.02394581
         ],
         "yaxis": "y"
        },
        {
         "hovertemplate": "Country Name=Sweden<br>year=%{x}<br>current health expenditure=%{y}<extra></extra>",
         "legendgroup": "Sweden",
         "line": {
          "color": "#FFA15A",
          "dash": "solid"
         },
         "marker": {
          "symbol": "circle"
         },
         "mode": "lines",
         "name": "Sweden",
         "orientation": "v",
         "showlegend": true,
         "type": "scatter",
         "x": [
          2000,
          2001,
          2002,
          2003,
          2004,
          2005,
          2006,
          2007,
          2008,
          2009,
          2010,
          2011,
          2012,
          2013,
          2014,
          2015,
          2016,
          2017,
          2018
         ],
         "xaxis": "x",
         "y": [
          7.32689953,
          7.90032959,
          8.21006203,
          8.31724644,
          8.12961864,
          8.1508379,
          8.05226517,
          7.99607706,
          8.20824242,
          8.77037907,
          8.31963825,
          10.41646767,
          10.73515224,
          10.9049139,
          10.9479475,
          10.80418396,
          10.85240364,
          10.78509998,
          10.94106293
         ],
         "yaxis": "y"
        }
       ],
       "layout": {
        "legend": {
         "title": {
          "text": "Country Name"
         },
         "tracegroupgap": 0
        },
        "margin": {
         "t": 60
        },
        "template": {
         "data": {
          "bar": [
           {
            "error_x": {
             "color": "#2a3f5f"
            },
            "error_y": {
             "color": "#2a3f5f"
            },
            "marker": {
             "line": {
              "color": "#E5ECF6",
              "width": 0.5
             },
             "pattern": {
              "fillmode": "overlay",
              "size": 10,
              "solidity": 0.2
             }
            },
            "type": "bar"
           }
          ],
          "barpolar": [
           {
            "marker": {
             "line": {
              "color": "#E5ECF6",
              "width": 0.5
             },
             "pattern": {
              "fillmode": "overlay",
              "size": 10,
              "solidity": 0.2
             }
            },
            "type": "barpolar"
           }
          ],
          "carpet": [
           {
            "aaxis": {
             "endlinecolor": "#2a3f5f",
             "gridcolor": "white",
             "linecolor": "white",
             "minorgridcolor": "white",
             "startlinecolor": "#2a3f5f"
            },
            "baxis": {
             "endlinecolor": "#2a3f5f",
             "gridcolor": "white",
             "linecolor": "white",
             "minorgridcolor": "white",
             "startlinecolor": "#2a3f5f"
            },
            "type": "carpet"
           }
          ],
          "choropleth": [
           {
            "colorbar": {
             "outlinewidth": 0,
             "ticks": ""
            },
            "type": "choropleth"
           }
          ],
          "contour": [
           {
            "colorbar": {
             "outlinewidth": 0,
             "ticks": ""
            },
            "colorscale": [
             [
              0,
              "#0d0887"
             ],
             [
              0.1111111111111111,
              "#46039f"
             ],
             [
              0.2222222222222222,
              "#7201a8"
             ],
             [
              0.3333333333333333,
              "#9c179e"
             ],
             [
              0.4444444444444444,
              "#bd3786"
             ],
             [
              0.5555555555555556,
              "#d8576b"
             ],
             [
              0.6666666666666666,
              "#ed7953"
             ],
             [
              0.7777777777777778,
              "#fb9f3a"
             ],
             [
              0.8888888888888888,
              "#fdca26"
             ],
             [
              1,
              "#f0f921"
             ]
            ],
            "type": "contour"
           }
          ],
          "contourcarpet": [
           {
            "colorbar": {
             "outlinewidth": 0,
             "ticks": ""
            },
            "type": "contourcarpet"
           }
          ],
          "heatmap": [
           {
            "colorbar": {
             "outlinewidth": 0,
             "ticks": ""
            },
            "colorscale": [
             [
              0,
              "#0d0887"
             ],
             [
              0.1111111111111111,
              "#46039f"
             ],
             [
              0.2222222222222222,
              "#7201a8"
             ],
             [
              0.3333333333333333,
              "#9c179e"
             ],
             [
              0.4444444444444444,
              "#bd3786"
             ],
             [
              0.5555555555555556,
              "#d8576b"
             ],
             [
              0.6666666666666666,
              "#ed7953"
             ],
             [
              0.7777777777777778,
              "#fb9f3a"
             ],
             [
              0.8888888888888888,
              "#fdca26"
             ],
             [
              1,
              "#f0f921"
             ]
            ],
            "type": "heatmap"
           }
          ],
          "heatmapgl": [
           {
            "colorbar": {
             "outlinewidth": 0,
             "ticks": ""
            },
            "colorscale": [
             [
              0,
              "#0d0887"
             ],
             [
              0.1111111111111111,
              "#46039f"
             ],
             [
              0.2222222222222222,
              "#7201a8"
             ],
             [
              0.3333333333333333,
              "#9c179e"
             ],
             [
              0.4444444444444444,
              "#bd3786"
             ],
             [
              0.5555555555555556,
              "#d8576b"
             ],
             [
              0.6666666666666666,
              "#ed7953"
             ],
             [
              0.7777777777777778,
              "#fb9f3a"
             ],
             [
              0.8888888888888888,
              "#fdca26"
             ],
             [
              1,
              "#f0f921"
             ]
            ],
            "type": "heatmapgl"
           }
          ],
          "histogram": [
           {
            "marker": {
             "pattern": {
              "fillmode": "overlay",
              "size": 10,
              "solidity": 0.2
             }
            },
            "type": "histogram"
           }
          ],
          "histogram2d": [
           {
            "colorbar": {
             "outlinewidth": 0,
             "ticks": ""
            },
            "colorscale": [
             [
              0,
              "#0d0887"
             ],
             [
              0.1111111111111111,
              "#46039f"
             ],
             [
              0.2222222222222222,
              "#7201a8"
             ],
             [
              0.3333333333333333,
              "#9c179e"
             ],
             [
              0.4444444444444444,
              "#bd3786"
             ],
             [
              0.5555555555555556,
              "#d8576b"
             ],
             [
              0.6666666666666666,
              "#ed7953"
             ],
             [
              0.7777777777777778,
              "#fb9f3a"
             ],
             [
              0.8888888888888888,
              "#fdca26"
             ],
             [
              1,
              "#f0f921"
             ]
            ],
            "type": "histogram2d"
           }
          ],
          "histogram2dcontour": [
           {
            "colorbar": {
             "outlinewidth": 0,
             "ticks": ""
            },
            "colorscale": [
             [
              0,
              "#0d0887"
             ],
             [
              0.1111111111111111,
              "#46039f"
             ],
             [
              0.2222222222222222,
              "#7201a8"
             ],
             [
              0.3333333333333333,
              "#9c179e"
             ],
             [
              0.4444444444444444,
              "#bd3786"
             ],
             [
              0.5555555555555556,
              "#d8576b"
             ],
             [
              0.6666666666666666,
              "#ed7953"
             ],
             [
              0.7777777777777778,
              "#fb9f3a"
             ],
             [
              0.8888888888888888,
              "#fdca26"
             ],
             [
              1,
              "#f0f921"
             ]
            ],
            "type": "histogram2dcontour"
           }
          ],
          "mesh3d": [
           {
            "colorbar": {
             "outlinewidth": 0,
             "ticks": ""
            },
            "type": "mesh3d"
           }
          ],
          "parcoords": [
           {
            "line": {
             "colorbar": {
              "outlinewidth": 0,
              "ticks": ""
             }
            },
            "type": "parcoords"
           }
          ],
          "pie": [
           {
            "automargin": true,
            "type": "pie"
           }
          ],
          "scatter": [
           {
            "fillpattern": {
             "fillmode": "overlay",
             "size": 10,
             "solidity": 0.2
            },
            "type": "scatter"
           }
          ],
          "scatter3d": [
           {
            "line": {
             "colorbar": {
              "outlinewidth": 0,
              "ticks": ""
             }
            },
            "marker": {
             "colorbar": {
              "outlinewidth": 0,
              "ticks": ""
             }
            },
            "type": "scatter3d"
           }
          ],
          "scattercarpet": [
           {
            "marker": {
             "colorbar": {
              "outlinewidth": 0,
              "ticks": ""
             }
            },
            "type": "scattercarpet"
           }
          ],
          "scattergeo": [
           {
            "marker": {
             "colorbar": {
              "outlinewidth": 0,
              "ticks": ""
             }
            },
            "type": "scattergeo"
           }
          ],
          "scattergl": [
           {
            "marker": {
             "colorbar": {
              "outlinewidth": 0,
              "ticks": ""
             }
            },
            "type": "scattergl"
           }
          ],
          "scattermapbox": [
           {
            "marker": {
             "colorbar": {
              "outlinewidth": 0,
              "ticks": ""
             }
            },
            "type": "scattermapbox"
           }
          ],
          "scatterpolar": [
           {
            "marker": {
             "colorbar": {
              "outlinewidth": 0,
              "ticks": ""
             }
            },
            "type": "scatterpolar"
           }
          ],
          "scatterpolargl": [
           {
            "marker": {
             "colorbar": {
              "outlinewidth": 0,
              "ticks": ""
             }
            },
            "type": "scatterpolargl"
           }
          ],
          "scatterternary": [
           {
            "marker": {
             "colorbar": {
              "outlinewidth": 0,
              "ticks": ""
             }
            },
            "type": "scatterternary"
           }
          ],
          "surface": [
           {
            "colorbar": {
             "outlinewidth": 0,
             "ticks": ""
            },
            "colorscale": [
             [
              0,
              "#0d0887"
             ],
             [
              0.1111111111111111,
              "#46039f"
             ],
             [
              0.2222222222222222,
              "#7201a8"
             ],
             [
              0.3333333333333333,
              "#9c179e"
             ],
             [
              0.4444444444444444,
              "#bd3786"
             ],
             [
              0.5555555555555556,
              "#d8576b"
             ],
             [
              0.6666666666666666,
              "#ed7953"
             ],
             [
              0.7777777777777778,
              "#fb9f3a"
             ],
             [
              0.8888888888888888,
              "#fdca26"
             ],
             [
              1,
              "#f0f921"
             ]
            ],
            "type": "surface"
           }
          ],
          "table": [
           {
            "cells": {
             "fill": {
              "color": "#EBF0F8"
             },
             "line": {
              "color": "white"
             }
            },
            "header": {
             "fill": {
              "color": "#C8D4E3"
             },
             "line": {
              "color": "white"
             }
            },
            "type": "table"
           }
          ]
         },
         "layout": {
          "annotationdefaults": {
           "arrowcolor": "#2a3f5f",
           "arrowhead": 0,
           "arrowwidth": 1
          },
          "autotypenumbers": "strict",
          "coloraxis": {
           "colorbar": {
            "outlinewidth": 0,
            "ticks": ""
           }
          },
          "colorscale": {
           "diverging": [
            [
             0,
             "#8e0152"
            ],
            [
             0.1,
             "#c51b7d"
            ],
            [
             0.2,
             "#de77ae"
            ],
            [
             0.3,
             "#f1b6da"
            ],
            [
             0.4,
             "#fde0ef"
            ],
            [
             0.5,
             "#f7f7f7"
            ],
            [
             0.6,
             "#e6f5d0"
            ],
            [
             0.7,
             "#b8e186"
            ],
            [
             0.8,
             "#7fbc41"
            ],
            [
             0.9,
             "#4d9221"
            ],
            [
             1,
             "#276419"
            ]
           ],
           "sequential": [
            [
             0,
             "#0d0887"
            ],
            [
             0.1111111111111111,
             "#46039f"
            ],
            [
             0.2222222222222222,
             "#7201a8"
            ],
            [
             0.3333333333333333,
             "#9c179e"
            ],
            [
             0.4444444444444444,
             "#bd3786"
            ],
            [
             0.5555555555555556,
             "#d8576b"
            ],
            [
             0.6666666666666666,
             "#ed7953"
            ],
            [
             0.7777777777777778,
             "#fb9f3a"
            ],
            [
             0.8888888888888888,
             "#fdca26"
            ],
            [
             1,
             "#f0f921"
            ]
           ],
           "sequentialminus": [
            [
             0,
             "#0d0887"
            ],
            [
             0.1111111111111111,
             "#46039f"
            ],
            [
             0.2222222222222222,
             "#7201a8"
            ],
            [
             0.3333333333333333,
             "#9c179e"
            ],
            [
             0.4444444444444444,
             "#bd3786"
            ],
            [
             0.5555555555555556,
             "#d8576b"
            ],
            [
             0.6666666666666666,
             "#ed7953"
            ],
            [
             0.7777777777777778,
             "#fb9f3a"
            ],
            [
             0.8888888888888888,
             "#fdca26"
            ],
            [
             1,
             "#f0f921"
            ]
           ]
          },
          "colorway": [
           "#636efa",
           "#EF553B",
           "#00cc96",
           "#ab63fa",
           "#FFA15A",
           "#19d3f3",
           "#FF6692",
           "#B6E880",
           "#FF97FF",
           "#FECB52"
          ],
          "font": {
           "color": "#2a3f5f"
          },
          "geo": {
           "bgcolor": "white",
           "lakecolor": "white",
           "landcolor": "#E5ECF6",
           "showlakes": true,
           "showland": true,
           "subunitcolor": "white"
          },
          "hoverlabel": {
           "align": "left"
          },
          "hovermode": "closest",
          "mapbox": {
           "style": "light"
          },
          "paper_bgcolor": "white",
          "plot_bgcolor": "#E5ECF6",
          "polar": {
           "angularaxis": {
            "gridcolor": "white",
            "linecolor": "white",
            "ticks": ""
           },
           "bgcolor": "#E5ECF6",
           "radialaxis": {
            "gridcolor": "white",
            "linecolor": "white",
            "ticks": ""
           }
          },
          "scene": {
           "xaxis": {
            "backgroundcolor": "#E5ECF6",
            "gridcolor": "white",
            "gridwidth": 2,
            "linecolor": "white",
            "showbackground": true,
            "ticks": "",
            "zerolinecolor": "white"
           },
           "yaxis": {
            "backgroundcolor": "#E5ECF6",
            "gridcolor": "white",
            "gridwidth": 2,
            "linecolor": "white",
            "showbackground": true,
            "ticks": "",
            "zerolinecolor": "white"
           },
           "zaxis": {
            "backgroundcolor": "#E5ECF6",
            "gridcolor": "white",
            "gridwidth": 2,
            "linecolor": "white",
            "showbackground": true,
            "ticks": "",
            "zerolinecolor": "white"
           }
          },
          "shapedefaults": {
           "line": {
            "color": "#2a3f5f"
           }
          },
          "ternary": {
           "aaxis": {
            "gridcolor": "white",
            "linecolor": "white",
            "ticks": ""
           },
           "baxis": {
            "gridcolor": "white",
            "linecolor": "white",
            "ticks": ""
           },
           "bgcolor": "#E5ECF6",
           "caxis": {
            "gridcolor": "white",
            "linecolor": "white",
            "ticks": ""
           }
          },
          "title": {
           "x": 0.05
          },
          "xaxis": {
           "automargin": true,
           "gridcolor": "white",
           "linecolor": "white",
           "ticks": "",
           "title": {
            "standoff": 15
           },
           "zerolinecolor": "white",
           "zerolinewidth": 2
          },
          "yaxis": {
           "automargin": true,
           "gridcolor": "white",
           "linecolor": "white",
           "ticks": "",
           "title": {
            "standoff": 15
           },
           "zerolinecolor": "white",
           "zerolinewidth": 2
          }
         }
        },
        "xaxis": {
         "anchor": "y",
         "domain": [
          0,
          1
         ],
         "title": {
          "text": "year"
         }
        },
        "yaxis": {
         "anchor": "x",
         "domain": [
          0,
          1
         ],
         "title": {
          "text": "current health expenditure"
         }
        }
       }
      }
     },
     "metadata": {},
     "output_type": "display_data"
    }
   ],
   "source": [
    "import plotly.express as px\n",
    "countries = ['Japan','Iceland','Sweden','Luxembourg','Norway']\n",
    "px.line(df[df['Country Name'].isin(countries)], x='year', y='current health expenditure', color='Country Name')"
   ]
  },
  {
   "cell_type": "code",
   "execution_count": 212,
   "id": "933f89fe",
   "metadata": {},
   "outputs": [],
   "source": [
    "import pycountry\n",
    "\n",
    "def is_valid_country(country_name):\n",
    "    try:\n",
    "        pycountry.countries.search_fuzzy(country_name)\n",
    "        return country_name\n",
    "    except LookupError:\n",
    "        return \n",
    "def country_to_continent(country_name):\n",
    "    country_alpha2 = pc.country_name_to_country_alpha2(country_name)\n",
    "    try:\n",
    "        country_continent_code = pc.country_alpha2_to_continent_code(country_alpha2)\n",
    "        country_continent_name = pc.convert_continent_code_to_continent_name(country_continent_code)\n",
    "    except: \n",
    "        country_continent_name = None\n",
    "    # country_continent_name = pc.convert_continent_code_to_continent_name(country_continent_code)\n",
    "    return country_continent_name"
   ]
  },
  {
   "cell_type": "code",
   "execution_count": 215,
   "id": "0615f8fc",
   "metadata": {},
   "outputs": [
    {
     "data": {
      "text/html": [
       "<div>\n",
       "<style scoped>\n",
       "    .dataframe tbody tr th:only-of-type {\n",
       "        vertical-align: middle;\n",
       "    }\n",
       "\n",
       "    .dataframe tbody tr th {\n",
       "        vertical-align: top;\n",
       "    }\n",
       "\n",
       "    .dataframe thead th {\n",
       "        text-align: right;\n",
       "    }\n",
       "</style>\n",
       "<table border=\"1\" class=\"dataframe\">\n",
       "  <thead>\n",
       "    <tr style=\"text-align: right;\">\n",
       "      <th></th>\n",
       "      <th>Country Code</th>\n",
       "      <th>year</th>\n",
       "      <th>current health expenditure</th>\n",
       "      <th>country</th>\n",
       "    </tr>\n",
       "  </thead>\n",
       "  <tbody>\n",
       "    <tr>\n",
       "      <th>0</th>\n",
       "      <td>TUV</td>\n",
       "      <td>2018.0</td>\n",
       "      <td>19.036005</td>\n",
       "      <td>Tuvalu</td>\n",
       "    </tr>\n",
       "    <tr>\n",
       "      <th>1</th>\n",
       "      <td>MHL</td>\n",
       "      <td>2018.0</td>\n",
       "      <td>17.002190</td>\n",
       "      <td>Marshall Islands</td>\n",
       "    </tr>\n",
       "    <tr>\n",
       "      <th>2</th>\n",
       "      <td>USA</td>\n",
       "      <td>2018.0</td>\n",
       "      <td>16.687105</td>\n",
       "      <td>United States</td>\n",
       "    </tr>\n",
       "    <tr>\n",
       "      <th>3</th>\n",
       "      <td>AFG</td>\n",
       "      <td>2018.0</td>\n",
       "      <td>14.126743</td>\n",
       "      <td>Afghanistan</td>\n",
       "    </tr>\n",
       "    <tr>\n",
       "      <th>4</th>\n",
       "      <td>KIR</td>\n",
       "      <td>2018.0</td>\n",
       "      <td>11.698363</td>\n",
       "      <td>Kiribati</td>\n",
       "    </tr>\n",
       "    <tr>\n",
       "      <th>...</th>\n",
       "      <td>...</td>\n",
       "      <td>...</td>\n",
       "      <td>...</td>\n",
       "      <td>...</td>\n",
       "    </tr>\n",
       "    <tr>\n",
       "      <th>166</th>\n",
       "      <td>BEN</td>\n",
       "      <td>2018.0</td>\n",
       "      <td>2.504164</td>\n",
       "      <td>Benin</td>\n",
       "    </tr>\n",
       "    <tr>\n",
       "      <th>167</th>\n",
       "      <td>BRN</td>\n",
       "      <td>2018.0</td>\n",
       "      <td>2.412894</td>\n",
       "      <td>Brunei Darussalam</td>\n",
       "    </tr>\n",
       "    <tr>\n",
       "      <th>168</th>\n",
       "      <td>PNG</td>\n",
       "      <td>2018.0</td>\n",
       "      <td>2.266304</td>\n",
       "      <td>Papua New Guinea</td>\n",
       "    </tr>\n",
       "    <tr>\n",
       "      <th>169</th>\n",
       "      <td>DJI</td>\n",
       "      <td>2018.0</td>\n",
       "      <td>2.262542</td>\n",
       "      <td>Djibouti</td>\n",
       "    </tr>\n",
       "    <tr>\n",
       "      <th>170</th>\n",
       "      <td>MCO</td>\n",
       "      <td>2018.0</td>\n",
       "      <td>1.596288</td>\n",
       "      <td>Monaco</td>\n",
       "    </tr>\n",
       "  </tbody>\n",
       "</table>\n",
       "<p>171 rows × 4 columns</p>\n",
       "</div>"
      ],
      "text/plain": [
       "    Country Code    year  current health expenditure            country\n",
       "0            TUV  2018.0                   19.036005             Tuvalu\n",
       "1            MHL  2018.0                   17.002190   Marshall Islands\n",
       "2            USA  2018.0                   16.687105      United States\n",
       "3            AFG  2018.0                   14.126743        Afghanistan\n",
       "4            KIR  2018.0                   11.698363           Kiribati\n",
       "..           ...     ...                         ...                ...\n",
       "166          BEN  2018.0                    2.504164              Benin\n",
       "167          BRN  2018.0                    2.412894  Brunei Darussalam\n",
       "168          PNG  2018.0                    2.266304   Papua New Guinea\n",
       "169          DJI  2018.0                    2.262542           Djibouti\n",
       "170          MCO  2018.0                    1.596288             Monaco\n",
       "\n",
       "[171 rows x 4 columns]"
      ]
     },
     "execution_count": 215,
     "metadata": {},
     "output_type": "execute_result"
    }
   ],
   "source": [
    "df_2018 = df[df.year==2018]\n",
    "df_2018 = df_2018.sort_values(['current health expenditure'], ascending=False)\n",
    "df_2018['country'] = df_2018['Country Name'].apply(lambda x: is_valid_country(x))\n",
    "df_2018[df_2018.country == \"Cote d'Ivoire\"] = None\n",
    "df_2018 = df_2018.dropna(subset = ['country'], axis = 0, how = 'any')\n",
    "df_2018 = df_2018.drop('Country Name', axis=1)\n",
    "df_2018.reset_index(inplace=True, drop=True)\n",
    "df_2018"
   ]
  },
  {
   "cell_type": "code",
   "execution_count": 216,
   "id": "a5d9da5d",
   "metadata": {},
   "outputs": [
    {
     "data": {
      "text/html": [
       "<div>\n",
       "<style scoped>\n",
       "    .dataframe tbody tr th:only-of-type {\n",
       "        vertical-align: middle;\n",
       "    }\n",
       "\n",
       "    .dataframe tbody tr th {\n",
       "        vertical-align: top;\n",
       "    }\n",
       "\n",
       "    .dataframe thead th {\n",
       "        text-align: right;\n",
       "    }\n",
       "</style>\n",
       "<table border=\"1\" class=\"dataframe\">\n",
       "  <thead>\n",
       "    <tr style=\"text-align: right;\">\n",
       "      <th></th>\n",
       "      <th>Country Code</th>\n",
       "      <th>year</th>\n",
       "      <th>current health expenditure</th>\n",
       "      <th>country</th>\n",
       "      <th>Continent</th>\n",
       "    </tr>\n",
       "  </thead>\n",
       "  <tbody>\n",
       "    <tr>\n",
       "      <th>0</th>\n",
       "      <td>TUV</td>\n",
       "      <td>2018.0</td>\n",
       "      <td>19.036005</td>\n",
       "      <td>Tuvalu</td>\n",
       "      <td>Oceania</td>\n",
       "    </tr>\n",
       "    <tr>\n",
       "      <th>1</th>\n",
       "      <td>MHL</td>\n",
       "      <td>2018.0</td>\n",
       "      <td>17.002190</td>\n",
       "      <td>Marshall Islands</td>\n",
       "      <td>Oceania</td>\n",
       "    </tr>\n",
       "    <tr>\n",
       "      <th>2</th>\n",
       "      <td>USA</td>\n",
       "      <td>2018.0</td>\n",
       "      <td>16.687105</td>\n",
       "      <td>United States</td>\n",
       "      <td>North America</td>\n",
       "    </tr>\n",
       "    <tr>\n",
       "      <th>3</th>\n",
       "      <td>AFG</td>\n",
       "      <td>2018.0</td>\n",
       "      <td>14.126743</td>\n",
       "      <td>Afghanistan</td>\n",
       "      <td>Asia</td>\n",
       "    </tr>\n",
       "    <tr>\n",
       "      <th>4</th>\n",
       "      <td>KIR</td>\n",
       "      <td>2018.0</td>\n",
       "      <td>11.698363</td>\n",
       "      <td>Kiribati</td>\n",
       "      <td>Oceania</td>\n",
       "    </tr>\n",
       "    <tr>\n",
       "      <th>...</th>\n",
       "      <td>...</td>\n",
       "      <td>...</td>\n",
       "      <td>...</td>\n",
       "      <td>...</td>\n",
       "      <td>...</td>\n",
       "    </tr>\n",
       "    <tr>\n",
       "      <th>166</th>\n",
       "      <td>BEN</td>\n",
       "      <td>2018.0</td>\n",
       "      <td>2.504164</td>\n",
       "      <td>Benin</td>\n",
       "      <td>Africa</td>\n",
       "    </tr>\n",
       "    <tr>\n",
       "      <th>167</th>\n",
       "      <td>BRN</td>\n",
       "      <td>2018.0</td>\n",
       "      <td>2.412894</td>\n",
       "      <td>Brunei Darussalam</td>\n",
       "      <td>Asia</td>\n",
       "    </tr>\n",
       "    <tr>\n",
       "      <th>168</th>\n",
       "      <td>PNG</td>\n",
       "      <td>2018.0</td>\n",
       "      <td>2.266304</td>\n",
       "      <td>Papua New Guinea</td>\n",
       "      <td>Oceania</td>\n",
       "    </tr>\n",
       "    <tr>\n",
       "      <th>169</th>\n",
       "      <td>DJI</td>\n",
       "      <td>2018.0</td>\n",
       "      <td>2.262542</td>\n",
       "      <td>Djibouti</td>\n",
       "      <td>Africa</td>\n",
       "    </tr>\n",
       "    <tr>\n",
       "      <th>170</th>\n",
       "      <td>MCO</td>\n",
       "      <td>2018.0</td>\n",
       "      <td>1.596288</td>\n",
       "      <td>Monaco</td>\n",
       "      <td>Europe</td>\n",
       "    </tr>\n",
       "  </tbody>\n",
       "</table>\n",
       "<p>171 rows × 5 columns</p>\n",
       "</div>"
      ],
      "text/plain": [
       "    Country Code    year  current health expenditure            country  \\\n",
       "0            TUV  2018.0                   19.036005             Tuvalu   \n",
       "1            MHL  2018.0                   17.002190   Marshall Islands   \n",
       "2            USA  2018.0                   16.687105      United States   \n",
       "3            AFG  2018.0                   14.126743        Afghanistan   \n",
       "4            KIR  2018.0                   11.698363           Kiribati   \n",
       "..           ...     ...                         ...                ...   \n",
       "166          BEN  2018.0                    2.504164              Benin   \n",
       "167          BRN  2018.0                    2.412894  Brunei Darussalam   \n",
       "168          PNG  2018.0                    2.266304   Papua New Guinea   \n",
       "169          DJI  2018.0                    2.262542           Djibouti   \n",
       "170          MCO  2018.0                    1.596288             Monaco   \n",
       "\n",
       "         Continent  \n",
       "0          Oceania  \n",
       "1          Oceania  \n",
       "2    North America  \n",
       "3             Asia  \n",
       "4          Oceania  \n",
       "..             ...  \n",
       "166         Africa  \n",
       "167           Asia  \n",
       "168        Oceania  \n",
       "169         Africa  \n",
       "170         Europe  \n",
       "\n",
       "[171 rows x 5 columns]"
      ]
     },
     "execution_count": 216,
     "metadata": {},
     "output_type": "execute_result"
    }
   ],
   "source": [
    "df_2018['Continent'] = df_2018['country'].apply(lambda row: country_to_continent(row))\n",
    "df_2018"
   ]
  },
  {
   "cell_type": "code",
   "execution_count": 183,
   "id": "686cb920",
   "metadata": {},
   "outputs": [],
   "source": [
    "# df_2018[df_2018.country == \"Cote d'Ivoire\"] = None"
   ]
  },
  {
   "cell_type": "code",
   "execution_count": 184,
   "id": "916c77a8",
   "metadata": {},
   "outputs": [
    {
     "data": {
      "text/html": [
       "<div>\n",
       "<style scoped>\n",
       "    .dataframe tbody tr th:only-of-type {\n",
       "        vertical-align: middle;\n",
       "    }\n",
       "\n",
       "    .dataframe tbody tr th {\n",
       "        vertical-align: top;\n",
       "    }\n",
       "\n",
       "    .dataframe thead th {\n",
       "        text-align: right;\n",
       "    }\n",
       "</style>\n",
       "<table border=\"1\" class=\"dataframe\">\n",
       "  <thead>\n",
       "    <tr style=\"text-align: right;\">\n",
       "      <th></th>\n",
       "      <th>Country Code</th>\n",
       "      <th>year</th>\n",
       "      <th>current health expenditure</th>\n",
       "      <th>country</th>\n",
       "    </tr>\n",
       "  </thead>\n",
       "  <tbody>\n",
       "  </tbody>\n",
       "</table>\n",
       "</div>"
      ],
      "text/plain": [
       "Empty DataFrame\n",
       "Columns: [Country Code, year, current health expenditure, country]\n",
       "Index: []"
      ]
     },
     "execution_count": 184,
     "metadata": {},
     "output_type": "execute_result"
    }
   ],
   "source": [
    "# df_2018[df_2018.country == \"Cote d'Ivoire\"]"
   ]
  },
  {
   "cell_type": "code",
   "execution_count": 185,
   "id": "3fc77e17",
   "metadata": {},
   "outputs": [
    {
     "data": {
      "text/html": [
       "<div>\n",
       "<style scoped>\n",
       "    .dataframe tbody tr th:only-of-type {\n",
       "        vertical-align: middle;\n",
       "    }\n",
       "\n",
       "    .dataframe tbody tr th {\n",
       "        vertical-align: top;\n",
       "    }\n",
       "\n",
       "    .dataframe thead th {\n",
       "        text-align: right;\n",
       "    }\n",
       "</style>\n",
       "<table border=\"1\" class=\"dataframe\">\n",
       "  <thead>\n",
       "    <tr style=\"text-align: right;\">\n",
       "      <th></th>\n",
       "      <th>Country Code</th>\n",
       "      <th>year</th>\n",
       "      <th>current health expenditure</th>\n",
       "      <th>country</th>\n",
       "    </tr>\n",
       "  </thead>\n",
       "  <tbody>\n",
       "  </tbody>\n",
       "</table>\n",
       "</div>"
      ],
      "text/plain": [
       "Empty DataFrame\n",
       "Columns: [Country Code, year, current health expenditure, country]\n",
       "Index: []"
      ]
     },
     "execution_count": 185,
     "metadata": {},
     "output_type": "execute_result"
    }
   ],
   "source": [
    "# df_2018 = df_2018.dropna(subset = ['country'], axis = 0, how = 'any')\n",
    "# df_2018"
   ]
  },
  {
   "cell_type": "code",
   "execution_count": 218,
   "id": "97d80d16",
   "metadata": {},
   "outputs": [
    {
     "data": {
      "text/html": [
       "<div>\n",
       "<style scoped>\n",
       "    .dataframe tbody tr th:only-of-type {\n",
       "        vertical-align: middle;\n",
       "    }\n",
       "\n",
       "    .dataframe tbody tr th {\n",
       "        vertical-align: top;\n",
       "    }\n",
       "\n",
       "    .dataframe thead th {\n",
       "        text-align: right;\n",
       "    }\n",
       "</style>\n",
       "<table border=\"1\" class=\"dataframe\">\n",
       "  <thead>\n",
       "    <tr style=\"text-align: right;\">\n",
       "      <th></th>\n",
       "      <th>Continent</th>\n",
       "      <th>year</th>\n",
       "      <th>current health expenditure</th>\n",
       "    </tr>\n",
       "  </thead>\n",
       "  <tbody>\n",
       "    <tr>\n",
       "      <th>0</th>\n",
       "      <td>Oceania</td>\n",
       "      <td>2018.0</td>\n",
       "      <td>8.395308</td>\n",
       "    </tr>\n",
       "    <tr>\n",
       "      <th>1</th>\n",
       "      <td>Europe</td>\n",
       "      <td>2018.0</td>\n",
       "      <td>7.900726</td>\n",
       "    </tr>\n",
       "    <tr>\n",
       "      <th>2</th>\n",
       "      <td>South America</td>\n",
       "      <td>2018.0</td>\n",
       "      <td>7.650453</td>\n",
       "    </tr>\n",
       "    <tr>\n",
       "      <th>3</th>\n",
       "      <td>North America</td>\n",
       "      <td>2018.0</td>\n",
       "      <td>7.311939</td>\n",
       "    </tr>\n",
       "    <tr>\n",
       "      <th>4</th>\n",
       "      <td>Africa</td>\n",
       "      <td>2018.0</td>\n",
       "      <td>5.579032</td>\n",
       "    </tr>\n",
       "    <tr>\n",
       "      <th>5</th>\n",
       "      <td>Asia</td>\n",
       "      <td>2018.0</td>\n",
       "      <td>5.318437</td>\n",
       "    </tr>\n",
       "  </tbody>\n",
       "</table>\n",
       "</div>"
      ],
      "text/plain": [
       "       Continent    year  current health expenditure\n",
       "0        Oceania  2018.0                    8.395308\n",
       "1         Europe  2018.0                    7.900726\n",
       "2  South America  2018.0                    7.650453\n",
       "3  North America  2018.0                    7.311939\n",
       "4         Africa  2018.0                    5.579032\n",
       "5           Asia  2018.0                    5.318437"
      ]
     },
     "execution_count": 218,
     "metadata": {},
     "output_type": "execute_result"
    }
   ],
   "source": [
    "df_2018_continent = df_2018.groupby('Continent').mean()\n",
    "df_2018_continent.sort_values(by='current health expenditure',ascending=False, inplace=True)\n",
    "df_2018_continent.reset_index(inplace=True)\n",
    "df_2018_continent"
   ]
  },
  {
   "cell_type": "code",
   "execution_count": 219,
   "id": "197132d1",
   "metadata": {},
   "outputs": [
    {
     "data": {
      "text/plain": [
       "<BarContainer object of 6 artists>"
      ]
     },
     "execution_count": 219,
     "metadata": {},
     "output_type": "execute_result"
    },
    {
     "data": {
      "image/png": "[encoded data removed]",
      "text/plain": [
       "<Figure size 640x480 with 1 Axes>"
      ]
     },
     "metadata": {},
     "output_type": "display_data"
    }
   ],
   "source": [
    "plt.bar(df_2018_continent.Continent,df_2018_continent['current health expenditure'])"
   ]
  },
  {
   "cell_type": "code",
   "execution_count": 225,
   "id": "6fb73b58",
   "metadata": {},
   "outputs": [
    {
     "data": {
      "application/vnd.plotly.v1+json": {
       "config": {
        "plotlyServerURL": "https://plot.ly"
       },
       "data": [
        {
         "alignmentgroup": "True",
         "hovertemplate": "Continent=Oceania<br>country=%{x}<br>current health expenditure=%{text}<extra></extra>",
         "legendgroup": "Oceania",
         "marker": {
          "color": "#1F77B4",
          "pattern": {
           "shape": ""
          }
         },
         "name": "Oceania",
         "offsetgroup": "Oceania",
         "orientation": "v",
         "showlegend": true,
         "text": [
          19.03600502,
          17.00218964,
          11.6983633
         ],
         "textposition": "auto",
         "type": "bar",
         "x": [
          "Tuvalu",
          "Marshall Islands",
          "Kiribati"
         ],
         "xaxis": "x",
         "y": [
          19.03600502,
          17.00218964,
          11.6983633
         ],
         "yaxis": "y"
        },
        {
         "alignmentgroup": "True",
         "hovertemplate": "Continent=North America<br>country=%{x}<br>current health expenditure=%{text}<extra></extra>",
         "legendgroup": "North America",
         "marker": {
          "color": "#FF7F0E",
          "pattern": {
           "shape": ""
          }
         },
         "name": "North America",
         "offsetgroup": "North America",
         "orientation": "v",
         "showlegend": true,
         "text": [
          16.68710518,
          11.18745422
         ],
         "textposition": "auto",
         "type": "bar",
         "x": [
          "United States",
          "Cuba"
         ],
         "xaxis": "x",
         "y": [
          16.68710518,
          11.18745422
         ],
         "yaxis": "y"
        },
        {
         "alignmentgroup": "True",
         "hovertemplate": "Continent=Asia<br>country=%{x}<br>current health expenditure=%{text}<extra></extra>",
         "legendgroup": "Asia",
         "marker": {
          "color": "#2CA02C",
          "pattern": {
           "shape": ""
          }
         },
         "name": "Asia",
         "offsetgroup": "Asia",
         "orientation": "v",
         "showlegend": true,
         "text": [
          14.12674332
         ],
         "textposition": "auto",
         "type": "bar",
         "x": [
          "Afghanistan"
         ],
         "xaxis": "x",
         "y": [
          14.12674332
         ],
         "yaxis": "y"
        },
        {
         "alignmentgroup": "True",
         "hovertemplate": "Continent=Europe<br>country=%{x}<br>current health expenditure=%{text}<extra></extra>",
         "legendgroup": "Europe",
         "marker": {
          "color": "#D62728",
          "pattern": {
           "shape": ""
          }
         },
         "name": "Europe",
         "offsetgroup": "Europe",
         "orientation": "v",
         "showlegend": true,
         "text": [
          11.45038891,
          11.37997055,
          11.18583012
         ],
         "textposition": "auto",
         "type": "bar",
         "x": [
          "Germany",
          "Switzerland",
          "France"
         ],
         "xaxis": "x",
         "y": [
          11.45038891,
          11.37997055,
          11.18583012
         ],
         "yaxis": "y"
        },
        {
         "alignmentgroup": "True",
         "hovertemplate": "Continent=Africa<br>country=%{x}<br>current health expenditure=%{text}<extra></extra>",
         "legendgroup": "Africa",
         "marker": {
          "color": "#9467BD",
          "pattern": {
           "shape": ""
          }
         },
         "name": "Africa",
         "offsetgroup": "Africa",
         "orientation": "v",
         "showlegend": true,
         "text": [
          10.99530983
         ],
         "textposition": "auto",
         "type": "bar",
         "x": [
          "Central African Republic"
         ],
         "xaxis": "x",
         "y": [
          10.99530983
         ],
         "yaxis": "y"
        }
       ],
       "layout": {
        "barmode": "relative",
        "height": 700,
        "legend": {
         "title": {
          "text": "Continent"
         },
         "tracegroupgap": 0
        },
        "margin": {
         "t": 60
        },
        "template": {
         "data": {
          "bar": [
           {
            "error_x": {
             "color": "rgb(36,36,36)"
            },
            "error_y": {
             "color": "rgb(36,36,36)"
            },
            "marker": {
             "line": {
              "color": "white",
              "width": 0.5
             },
             "pattern": {
              "fillmode": "overlay",
              "size": 10,
              "solidity": 0.2
             }
            },
            "type": "bar"
           }
          ],
          "barpolar": [
           {
            "marker": {
             "line": {
              "color": "white",
              "width": 0.5
             },
             "pattern": {
              "fillmode": "overlay",
              "size": 10,
              "solidity": 0.2
             }
            },
            "type": "barpolar"
           }
          ],
          "carpet": [
           {
            "aaxis": {
             "endlinecolor": "rgb(36,36,36)",
             "gridcolor": "white",
             "linecolor": "white",
             "minorgridcolor": "white",
             "startlinecolor": "rgb(36,36,36)"
            },
            "baxis": {
             "endlinecolor": "rgb(36,36,36)",
             "gridcolor": "white",
             "linecolor": "white",
             "minorgridcolor": "white",
             "startlinecolor": "rgb(36,36,36)"
            },
            "type": "carpet"
           }
          ],
          "choropleth": [
           {
            "colorbar": {
             "outlinewidth": 1,
             "tickcolor": "rgb(36,36,36)",
             "ticks": "outside"
            },
            "type": "choropleth"
           }
          ],
          "contour": [
           {
            "colorbar": {
             "outlinewidth": 1,
             "tickcolor": "rgb(36,36,36)",
             "ticks": "outside"
            },
            "colorscale": [
             [
              0,
              "#440154"
             ],
             [
              0.1111111111111111,
              "#482878"
             ],
             [
              0.2222222222222222,
              "#3e4989"
             ],
             [
              0.3333333333333333,
              "#31688e"
             ],
             [
              0.4444444444444444,
              "#26828e"
             ],
             [
              0.5555555555555556,
              "#1f9e89"
             ],
             [
              0.6666666666666666,
              "#35b779"
             ],
             [
              0.7777777777777778,
              "#6ece58"
             ],
             [
              0.8888888888888888,
              "#b5de2b"
             ],
             [
              1,
              "#fde725"
             ]
            ],
            "type": "contour"
           }
          ],
          "contourcarpet": [
           {
            "colorbar": {
             "outlinewidth": 1,
             "tickcolor": "rgb(36,36,36)",
             "ticks": "outside"
            },
            "type": "contourcarpet"
           }
          ],
          "heatmap": [
           {
            "colorbar": {
             "outlinewidth": 1,
             "tickcolor": "rgb(36,36,36)",
             "ticks": "outside"
            },
            "colorscale": [
             [
              0,
              "#440154"
             ],
             [
              0.1111111111111111,
              "#482878"
             ],
             [
              0.2222222222222222,
              "#3e4989"
             ],
             [
              0.3333333333333333,
              "#31688e"
             ],
             [
              0.4444444444444444,
              "#26828e"
             ],
             [
              0.5555555555555556,
              "#1f9e89"
             ],
             [
              0.6666666666666666,
              "#35b779"
             ],
             [
              0.7777777777777778,
              "#6ece58"
             ],
             [
              0.8888888888888888,
              "#b5de2b"
             ],
             [
              1,
              "#fde725"
             ]
            ],
            "type": "heatmap"
           }
          ],
          "heatmapgl": [
           {
            "colorbar": {
             "outlinewidth": 1,
             "tickcolor": "rgb(36,36,36)",
             "ticks": "outside"
            },
            "colorscale": [
             [
              0,
              "#440154"
             ],
             [
              0.1111111111111111,
              "#482878"
             ],
             [
              0.2222222222222222,
              "#3e4989"
             ],
             [
              0.3333333333333333,
              "#31688e"
             ],
             [
              0.4444444444444444,
              "#26828e"
             ],
             [
              0.5555555555555556,
              "#1f9e89"
             ],
             [
              0.6666666666666666,
              "#35b779"
             ],
             [
              0.7777777777777778,
              "#6ece58"
             ],
             [
              0.8888888888888888,
              "#b5de2b"
             ],
             [
              1,
              "#fde725"
             ]
            ],
            "type": "heatmapgl"
           }
          ],
          "histogram": [
           {
            "marker": {
             "line": {
              "color": "white",
              "width": 0.6
             }
            },
            "type": "histogram"
           }
          ],
          "histogram2d": [
           {
            "colorbar": {
             "outlinewidth": 1,
             "tickcolor": "rgb(36,36,36)",
             "ticks": "outside"
            },
            "colorscale": [
             [
              0,
              "#440154"
             ],
             [
              0.1111111111111111,
              "#482878"
             ],
             [
              0.2222222222222222,
              "#3e4989"
             ],
             [
              0.3333333333333333,
              "#31688e"
             ],
             [
              0.4444444444444444,
              "#26828e"
             ],
             [
              0.5555555555555556,
              "#1f9e89"
             ],
             [
              0.6666666666666666,
              "#35b779"
             ],
             [
              0.7777777777777778,
              "#6ece58"
             ],
             [
              0.8888888888888888,
              "#b5de2b"
             ],
             [
              1,
              "#fde725"
             ]
            ],
            "type": "histogram2d"
           }
          ],
          "histogram2dcontour": [
           {
            "colorbar": {
             "outlinewidth": 1,
             "tickcolor": "rgb(36,36,36)",
             "ticks": "outside"
            },
            "colorscale": [
             [
              0,
              "#440154"
             ],
             [
              0.1111111111111111,
              "#482878"
             ],
             [
              0.2222222222222222,
              "#3e4989"
             ],
             [
              0.3333333333333333,
              "#31688e"
             ],
             [
              0.4444444444444444,
              "#26828e"
             ],
             [
              0.5555555555555556,
              "#1f9e89"
             ],
             [
              0.6666666666666666,
              "#35b779"
             ],
             [
              0.7777777777777778,
              "#6ece58"
             ],
             [
              0.8888888888888888,
              "#b5de2b"
             ],
             [
              1,
              "#fde725"
             ]
            ],
            "type": "histogram2dcontour"
           }
          ],
          "mesh3d": [
           {
            "colorbar": {
             "outlinewidth": 1,
             "tickcolor": "rgb(36,36,36)",
             "ticks": "outside"
            },
            "type": "mesh3d"
           }
          ],
          "parcoords": [
           {
            "line": {
             "colorbar": {
              "outlinewidth": 1,
              "tickcolor": "rgb(36,36,36)",
              "ticks": "outside"
             }
            },
            "type": "parcoords"
           }
          ],
          "pie": [
           {
            "automargin": true,
            "type": "pie"
           }
          ],
          "scatter": [
           {
            "fillpattern": {
             "fillmode": "overlay",
             "size": 10,
             "solidity": 0.2
            },
            "type": "scatter"
           }
          ],
          "scatter3d": [
           {
            "line": {
             "colorbar": {
              "outlinewidth": 1,
              "tickcolor": "rgb(36,36,36)",
              "ticks": "outside"
             }
            },
            "marker": {
             "colorbar": {
              "outlinewidth": 1,
              "tickcolor": "rgb(36,36,36)",
              "ticks": "outside"
             }
            },
            "type": "scatter3d"
           }
          ],
          "scattercarpet": [
           {
            "marker": {
             "colorbar": {
              "outlinewidth": 1,
              "tickcolor": "rgb(36,36,36)",
              "ticks": "outside"
             }
            },
            "type": "scattercarpet"
           }
          ],
          "scattergeo": [
           {
            "marker": {
             "colorbar": {
              "outlinewidth": 1,
              "tickcolor": "rgb(36,36,36)",
              "ticks": "outside"
             }
            },
            "type": "scattergeo"
           }
          ],
          "scattergl": [
           {
            "marker": {
             "colorbar": {
              "outlinewidth": 1,
              "tickcolor": "rgb(36,36,36)",
              "ticks": "outside"
             }
            },
            "type": "scattergl"
           }
          ],
          "scattermapbox": [
           {
            "marker": {
             "colorbar": {
              "outlinewidth": 1,
              "tickcolor": "rgb(36,36,36)",
              "ticks": "outside"
             }
            },
            "type": "scattermapbox"
           }
          ],
          "scatterpolar": [
           {
            "marker": {
             "colorbar": {
              "outlinewidth": 1,
              "tickcolor": "rgb(36,36,36)",
              "ticks": "outside"
             }
            },
            "type": "scatterpolar"
           }
          ],
          "scatterpolargl": [
           {
            "marker": {
             "colorbar": {
              "outlinewidth": 1,
              "tickcolor": "rgb(36,36,36)",
              "ticks": "outside"
             }
            },
            "type": "scatterpolargl"
           }
          ],
          "scatterternary": [
           {
            "marker": {
             "colorbar": {
              "outlinewidth": 1,
              "tickcolor": "rgb(36,36,36)",
              "ticks": "outside"
             }
            },
            "type": "scatterternary"
           }
          ],
          "surface": [
           {
            "colorbar": {
             "outlinewidth": 1,
             "tickcolor": "rgb(36,36,36)",
             "ticks": "outside"
            },
            "colorscale": [
             [
              0,
              "#440154"
             ],
             [
              0.1111111111111111,
              "#482878"
             ],
             [
              0.2222222222222222,
              "#3e4989"
             ],
             [
              0.3333333333333333,
              "#31688e"
             ],
             [
              0.4444444444444444,
              "#26828e"
             ],
             [
              0.5555555555555556,
              "#1f9e89"
             ],
             [
              0.6666666666666666,
              "#35b779"
             ],
             [
              0.7777777777777778,
              "#6ece58"
             ],
             [
              0.8888888888888888,
              "#b5de2b"
             ],
             [
              1,
              "#fde725"
             ]
            ],
            "type": "surface"
           }
          ],
          "table": [
           {
            "cells": {
             "fill": {
              "color": "rgb(237,237,237)"
             },
             "line": {
              "color": "white"
             }
            },
            "header": {
             "fill": {
              "color": "rgb(217,217,217)"
             },
             "line": {
              "color": "white"
             }
            },
            "type": "table"
           }
          ]
         },
         "layout": {
          "annotationdefaults": {
           "arrowhead": 0,
           "arrowwidth": 1
          },
          "autotypenumbers": "strict",
          "coloraxis": {
           "colorbar": {
            "outlinewidth": 1,
            "tickcolor": "rgb(36,36,36)",
            "ticks": "outside"
           }
          },
          "colorscale": {
           "diverging": [
            [
             0,
             "rgb(103,0,31)"
            ],
            [
             0.1,
             "rgb(178,24,43)"
            ],
            [
             0.2,
             "rgb(214,96,77)"
            ],
            [
             0.3,
             "rgb(244,165,130)"
            ],
            [
             0.4,
             "rgb(253,219,199)"
            ],
            [
             0.5,
             "rgb(247,247,247)"
            ],
            [
             0.6,
             "rgb(209,229,240)"
            ],
            [
             0.7,
             "rgb(146,197,222)"
            ],
            [
             0.8,
             "rgb(67,147,195)"
            ],
            [
             0.9,
             "rgb(33,102,172)"
            ],
            [
             1,
             "rgb(5,48,97)"
            ]
           ],
           "sequential": [
            [
             0,
             "#440154"
            ],
            [
             0.1111111111111111,
             "#482878"
            ],
            [
             0.2222222222222222,
             "#3e4989"
            ],
            [
             0.3333333333333333,
             "#31688e"
            ],
            [
             0.4444444444444444,
             "#26828e"
            ],
            [
             0.5555555555555556,
             "#1f9e89"
            ],
            [
             0.6666666666666666,
             "#35b779"
            ],
            [
             0.7777777777777778,
             "#6ece58"
            ],
            [
             0.8888888888888888,
             "#b5de2b"
            ],
            [
             1,
             "#fde725"
            ]
           ],
           "sequentialminus": [
            [
             0,
             "#440154"
            ],
            [
             0.1111111111111111,
             "#482878"
            ],
            [
             0.2222222222222222,
             "#3e4989"
            ],
            [
             0.3333333333333333,
             "#31688e"
            ],
            [
             0.4444444444444444,
             "#26828e"
            ],
            [
             0.5555555555555556,
             "#1f9e89"
            ],
            [
             0.6666666666666666,
             "#35b779"
            ],
            [
             0.7777777777777778,
             "#6ece58"
            ],
            [
             0.8888888888888888,
             "#b5de2b"
            ],
            [
             1,
             "#fde725"
            ]
           ]
          },
          "colorway": [
           "#1F77B4",
           "#FF7F0E",
           "#2CA02C",
           "#D62728",
           "#9467BD",
           "#8C564B",
           "#E377C2",
           "#7F7F7F",
           "#BCBD22",
           "#17BECF"
          ],
          "font": {
           "color": "rgb(36,36,36)"
          },
          "geo": {
           "bgcolor": "white",
           "lakecolor": "white",
           "landcolor": "white",
           "showlakes": true,
           "showland": true,
           "subunitcolor": "white"
          },
          "hoverlabel": {
           "align": "left"
          },
          "hovermode": "closest",
          "mapbox": {
           "style": "light"
          },
          "paper_bgcolor": "white",
          "plot_bgcolor": "white",
          "polar": {
           "angularaxis": {
            "gridcolor": "rgb(232,232,232)",
            "linecolor": "rgb(36,36,36)",
            "showgrid": false,
            "showline": true,
            "ticks": "outside"
           },
           "bgcolor": "white",
           "radialaxis": {
            "gridcolor": "rgb(232,232,232)",
            "linecolor": "rgb(36,36,36)",
            "showgrid": false,
            "showline": true,
            "ticks": "outside"
           }
          },
          "scene": {
           "xaxis": {
            "backgroundcolor": "white",
            "gridcolor": "rgb(232,232,232)",
            "gridwidth": 2,
            "linecolor": "rgb(36,36,36)",
            "showbackground": true,
            "showgrid": false,
            "showline": true,
            "ticks": "outside",
            "zeroline": false,
            "zerolinecolor": "rgb(36,36,36)"
           },
           "yaxis": {
            "backgroundcolor": "white",
            "gridcolor": "rgb(232,232,232)",
            "gridwidth": 2,
            "linecolor": "rgb(36,36,36)",
            "showbackground": true,
            "showgrid": false,
            "showline": true,
            "ticks": "outside",
            "zeroline": false,
            "zerolinecolor": "rgb(36,36,36)"
           },
           "zaxis": {
            "backgroundcolor": "white",
            "gridcolor": "rgb(232,232,232)",
            "gridwidth": 2,
            "linecolor": "rgb(36,36,36)",
            "showbackground": true,
            "showgrid": false,
            "showline": true,
            "ticks": "outside",
            "zeroline": false,
            "zerolinecolor": "rgb(36,36,36)"
           }
          },
          "shapedefaults": {
           "fillcolor": "black",
           "line": {
            "width": 0
           },
           "opacity": 0.3
          },
          "ternary": {
           "aaxis": {
            "gridcolor": "rgb(232,232,232)",
            "linecolor": "rgb(36,36,36)",
            "showgrid": false,
            "showline": true,
            "ticks": "outside"
           },
           "baxis": {
            "gridcolor": "rgb(232,232,232)",
            "linecolor": "rgb(36,36,36)",
            "showgrid": false,
            "showline": true,
            "ticks": "outside"
           },
           "bgcolor": "white",
           "caxis": {
            "gridcolor": "rgb(232,232,232)",
            "linecolor": "rgb(36,36,36)",
            "showgrid": false,
            "showline": true,
            "ticks": "outside"
           }
          },
          "title": {
           "x": 0.05
          },
          "xaxis": {
           "automargin": true,
           "gridcolor": "rgb(232,232,232)",
           "linecolor": "rgb(36,36,36)",
           "showgrid": false,
           "showline": true,
           "ticks": "outside",
           "title": {
            "standoff": 15
           },
           "zeroline": false,
           "zerolinecolor": "rgb(36,36,36)"
          },
          "yaxis": {
           "automargin": true,
           "gridcolor": "rgb(232,232,232)",
           "linecolor": "rgb(36,36,36)",
           "showgrid": false,
           "showline": true,
           "ticks": "outside",
           "title": {
            "standoff": 15
           },
           "zeroline": false,
           "zerolinecolor": "rgb(36,36,36)"
          }
         }
        },
        "width": 1000,
        "xaxis": {
         "anchor": "y",
         "domain": [
          0,
          1
         ],
         "title": {
          "text": "country"
         }
        },
        "yaxis": {
         "anchor": "x",
         "domain": [
          0,
          1
         ],
         "title": {
          "text": "current health expenditure"
         }
        }
       }
      }
     },
     "metadata": {},
     "output_type": "display_data"
    }
   ],
   "source": [
    "import plotly.io as pi\n",
    "fig = px.bar(df_2018.sort_values('current health expenditure',ascending=False).head(10),x='country', y='current health expenditure',\n",
    "        color='Continent',template='simple_white', width=1000, height=700, text='current health expenditure',\n",
    "        labels={'current health expenditure':'current health expenditure'})\n",
    "fig"
   ]
  },
  {
   "cell_type": "code",
   "execution_count": 124,
   "id": "12cd524b",
   "metadata": {},
   "outputs": [
    {
     "data": {
      "text/html": [
       "<div>\n",
       "<style scoped>\n",
       "    .dataframe tbody tr th:only-of-type {\n",
       "        vertical-align: middle;\n",
       "    }\n",
       "\n",
       "    .dataframe tbody tr th {\n",
       "        vertical-align: top;\n",
       "    }\n",
       "\n",
       "    .dataframe thead th {\n",
       "        text-align: right;\n",
       "    }\n",
       "</style>\n",
       "<table border=\"1\" class=\"dataframe\">\n",
       "  <thead>\n",
       "    <tr style=\"text-align: right;\">\n",
       "      <th></th>\n",
       "      <th>Country</th>\n",
       "      <th>Code</th>\n",
       "      <th>Year</th>\n",
       "      <th>avg_years_of_schooling</th>\n",
       "      <th>Both sexes</th>\n",
       "      <th>Male</th>\n",
       "      <th>Female</th>\n",
       "      <th>Continent</th>\n",
       "      <th>suicides_per_100k</th>\n",
       "      <th>gdp</th>\n",
       "    </tr>\n",
       "  </thead>\n",
       "  <tbody>\n",
       "    <tr>\n",
       "      <th>0</th>\n",
       "      <td>Uzbekistan</td>\n",
       "      <td>UZB</td>\n",
       "      <td>2000</td>\n",
       "      <td>9.1</td>\n",
       "      <td>183</td>\n",
       "      <td>230</td>\n",
       "      <td>135</td>\n",
       "      <td>Asia</td>\n",
       "      <td>120.31</td>\n",
       "      <td>632</td>\n",
       "    </tr>\n",
       "    <tr>\n",
       "      <th>1</th>\n",
       "      <td>Brazil</td>\n",
       "      <td>BRA</td>\n",
       "      <td>2000</td>\n",
       "      <td>5.6</td>\n",
       "      <td>184</td>\n",
       "      <td>244</td>\n",
       "      <td>122</td>\n",
       "      <td>South America</td>\n",
       "      <td>68.23</td>\n",
       "      <td>4156</td>\n",
       "    </tr>\n",
       "    <tr>\n",
       "      <th>2</th>\n",
       "      <td>Maldives</td>\n",
       "      <td>MDV</td>\n",
       "      <td>2000</td>\n",
       "      <td>3.0</td>\n",
       "      <td>142</td>\n",
       "      <td>155</td>\n",
       "      <td>129</td>\n",
       "      <td>Asia</td>\n",
       "      <td>0.00</td>\n",
       "      <td>2524</td>\n",
       "    </tr>\n",
       "    <tr>\n",
       "      <th>3</th>\n",
       "      <td>Malta</td>\n",
       "      <td>MLT</td>\n",
       "      <td>2000</td>\n",
       "      <td>8.1</td>\n",
       "      <td>70</td>\n",
       "      <td>88</td>\n",
       "      <td>51</td>\n",
       "      <td>Europe</td>\n",
       "      <td>78.05</td>\n",
       "      <td>11873</td>\n",
       "    </tr>\n",
       "    <tr>\n",
       "      <th>4</th>\n",
       "      <td>Mauritius</td>\n",
       "      <td>MUS</td>\n",
       "      <td>2000</td>\n",
       "      <td>6.2</td>\n",
       "      <td>172</td>\n",
       "      <td>221</td>\n",
       "      <td>121</td>\n",
       "      <td>Africa</td>\n",
       "      <td>140.82</td>\n",
       "      <td>4339</td>\n",
       "    </tr>\n",
       "    <tr>\n",
       "      <th>...</th>\n",
       "      <td>...</td>\n",
       "      <td>...</td>\n",
       "      <td>...</td>\n",
       "      <td>...</td>\n",
       "      <td>...</td>\n",
       "      <td>...</td>\n",
       "      <td>...</td>\n",
       "      <td>...</td>\n",
       "      <td>...</td>\n",
       "      <td>...</td>\n",
       "    </tr>\n",
       "    <tr>\n",
       "      <th>1199</th>\n",
       "      <td>Sweden</td>\n",
       "      <td>SWE</td>\n",
       "      <td>2016</td>\n",
       "      <td>12.4</td>\n",
       "      <td>52</td>\n",
       "      <td>64</td>\n",
       "      <td>40</td>\n",
       "      <td>Europe</td>\n",
       "      <td>138.84</td>\n",
       "      <td>55594</td>\n",
       "    </tr>\n",
       "    <tr>\n",
       "      <th>1200</th>\n",
       "      <td>Austria</td>\n",
       "      <td>AUT</td>\n",
       "      <td>2016</td>\n",
       "      <td>12.1</td>\n",
       "      <td>62</td>\n",
       "      <td>80</td>\n",
       "      <td>44</td>\n",
       "      <td>Europe</td>\n",
       "      <td>183.23</td>\n",
       "      <td>46976</td>\n",
       "    </tr>\n",
       "    <tr>\n",
       "      <th>1201</th>\n",
       "      <td>Iceland</td>\n",
       "      <td>ISL</td>\n",
       "      <td>2016</td>\n",
       "      <td>12.4</td>\n",
       "      <td>55</td>\n",
       "      <td>67</td>\n",
       "      <td>42</td>\n",
       "      <td>Europe</td>\n",
       "      <td>138.07</td>\n",
       "      <td>64708</td>\n",
       "    </tr>\n",
       "    <tr>\n",
       "      <th>1202</th>\n",
       "      <td>Cyprus</td>\n",
       "      <td>CYP</td>\n",
       "      <td>2016</td>\n",
       "      <td>12.1</td>\n",
       "      <td>55</td>\n",
       "      <td>73</td>\n",
       "      <td>37</td>\n",
       "      <td>Asia</td>\n",
       "      <td>47.15</td>\n",
       "      <td>25098</td>\n",
       "    </tr>\n",
       "    <tr>\n",
       "      <th>1203</th>\n",
       "      <td>Lithuania</td>\n",
       "      <td>LTU</td>\n",
       "      <td>2016</td>\n",
       "      <td>13.0</td>\n",
       "      <td>155</td>\n",
       "      <td>231</td>\n",
       "      <td>79</td>\n",
       "      <td>Europe</td>\n",
       "      <td>361.72</td>\n",
       "      <td>15742</td>\n",
       "    </tr>\n",
       "  </tbody>\n",
       "</table>\n",
       "<p>1204 rows × 10 columns</p>\n",
       "</div>"
      ],
      "text/plain": [
       "         Country Code  Year  avg_years_of_schooling  Both sexes  Male  Female  \\\n",
       "0     Uzbekistan  UZB  2000                     9.1         183   230     135   \n",
       "1         Brazil  BRA  2000                     5.6         184   244     122   \n",
       "2       Maldives  MDV  2000                     3.0         142   155     129   \n",
       "3          Malta  MLT  2000                     8.1          70    88      51   \n",
       "4      Mauritius  MUS  2000                     6.2         172   221     121   \n",
       "...          ...  ...   ...                     ...         ...   ...     ...   \n",
       "1199      Sweden  SWE  2016                    12.4          52    64      40   \n",
       "1200     Austria  AUT  2016                    12.1          62    80      44   \n",
       "1201     Iceland  ISL  2016                    12.4          55    67      42   \n",
       "1202      Cyprus  CYP  2016                    12.1          55    73      37   \n",
       "1203   Lithuania  LTU  2016                    13.0         155   231      79   \n",
       "\n",
       "          Continent  suicides_per_100k    gdp  \n",
       "0              Asia             120.31    632  \n",
       "1     South America              68.23   4156  \n",
       "2              Asia               0.00   2524  \n",
       "3            Europe              78.05  11873  \n",
       "4            Africa             140.82   4339  \n",
       "...             ...                ...    ...  \n",
       "1199         Europe             138.84  55594  \n",
       "1200         Europe             183.23  46976  \n",
       "1201         Europe             138.07  64708  \n",
       "1202           Asia              47.15  25098  \n",
       "1203         Europe             361.72  15742  \n",
       "\n",
       "[1204 rows x 10 columns]"
      ]
     },
     "execution_count": 124,
     "metadata": {},
     "output_type": "execute_result"
    }
   ],
   "source": [
    "final_df = pd.read_csv('final_df_2.csv')\n",
    "final_df"
   ]
  },
  {
   "cell_type": "code",
   "execution_count": 140,
   "id": "2a6c0695",
   "metadata": {},
   "outputs": [
    {
     "data": {
      "text/plain": [
       "numpy.int32"
      ]
     },
     "execution_count": 140,
     "metadata": {},
     "output_type": "execute_result"
    }
   ],
   "source": [
    "type(df.year[0])"
   ]
  },
  {
   "cell_type": "code",
   "execution_count": 151,
   "id": "3a6177df",
   "metadata": {},
   "outputs": [
    {
     "data": {
      "text/html": [
       "<div>\n",
       "<style scoped>\n",
       "    .dataframe tbody tr th:only-of-type {\n",
       "        vertical-align: middle;\n",
       "    }\n",
       "\n",
       "    .dataframe tbody tr th {\n",
       "        vertical-align: top;\n",
       "    }\n",
       "\n",
       "    .dataframe thead th {\n",
       "        text-align: right;\n",
       "    }\n",
       "</style>\n",
       "<table border=\"1\" class=\"dataframe\">\n",
       "  <thead>\n",
       "    <tr style=\"text-align: right;\">\n",
       "      <th></th>\n",
       "      <th>GDP</th>\n",
       "      <th>Country</th>\n",
       "      <th>Code</th>\n",
       "      <th>Year</th>\n",
       "      <th>avg_years_of_schooling</th>\n",
       "      <th>Both sexes</th>\n",
       "      <th>Male</th>\n",
       "      <th>Female</th>\n",
       "      <th>Continent</th>\n",
       "      <th>suicides_per_100k</th>\n",
       "      <th>gdp</th>\n",
       "    </tr>\n",
       "  </thead>\n",
       "  <tbody>\n",
       "    <tr>\n",
       "      <th>0</th>\n",
       "      <td>7.233370</td>\n",
       "      <td>Albania</td>\n",
       "      <td>ALB</td>\n",
       "      <td>2000</td>\n",
       "      <td>8.8</td>\n",
       "      <td>106</td>\n",
       "      <td>133</td>\n",
       "      <td>76</td>\n",
       "      <td>Europe</td>\n",
       "      <td>30.70</td>\n",
       "      <td>1299</td>\n",
       "    </tr>\n",
       "    <tr>\n",
       "      <th>1</th>\n",
       "      <td>7.139524</td>\n",
       "      <td>Albania</td>\n",
       "      <td>ALB</td>\n",
       "      <td>2001</td>\n",
       "      <td>8.7</td>\n",
       "      <td>100</td>\n",
       "      <td>125</td>\n",
       "      <td>73</td>\n",
       "      <td>Europe</td>\n",
       "      <td>50.62</td>\n",
       "      <td>1451</td>\n",
       "    </tr>\n",
       "    <tr>\n",
       "      <th>2</th>\n",
       "      <td>6.909341</td>\n",
       "      <td>Albania</td>\n",
       "      <td>ALB</td>\n",
       "      <td>2002</td>\n",
       "      <td>9.0</td>\n",
       "      <td>102</td>\n",
       "      <td>126</td>\n",
       "      <td>77</td>\n",
       "      <td>Europe</td>\n",
       "      <td>62.51</td>\n",
       "      <td>1573</td>\n",
       "    </tr>\n",
       "    <tr>\n",
       "      <th>3</th>\n",
       "      <td>7.063490</td>\n",
       "      <td>Albania</td>\n",
       "      <td>ALB</td>\n",
       "      <td>2003</td>\n",
       "      <td>9.0</td>\n",
       "      <td>107</td>\n",
       "      <td>129</td>\n",
       "      <td>82</td>\n",
       "      <td>Europe</td>\n",
       "      <td>58.60</td>\n",
       "      <td>2021</td>\n",
       "    </tr>\n",
       "    <tr>\n",
       "      <th>4</th>\n",
       "      <td>6.773372</td>\n",
       "      <td>Albania</td>\n",
       "      <td>ALB</td>\n",
       "      <td>2004</td>\n",
       "      <td>9.1</td>\n",
       "      <td>101</td>\n",
       "      <td>127</td>\n",
       "      <td>74</td>\n",
       "      <td>Europe</td>\n",
       "      <td>65.39</td>\n",
       "      <td>2544</td>\n",
       "    </tr>\n",
       "    <tr>\n",
       "      <th>...</th>\n",
       "      <td>...</td>\n",
       "      <td>...</td>\n",
       "      <td>...</td>\n",
       "      <td>...</td>\n",
       "      <td>...</td>\n",
       "      <td>...</td>\n",
       "      <td>...</td>\n",
       "      <td>...</td>\n",
       "      <td>...</td>\n",
       "      <td>...</td>\n",
       "      <td>...</td>\n",
       "    </tr>\n",
       "    <tr>\n",
       "      <th>1127</th>\n",
       "      <td>5.221669</td>\n",
       "      <td>Uzbekistan</td>\n",
       "      <td>UZB</td>\n",
       "      <td>2010</td>\n",
       "      <td>10.7</td>\n",
       "      <td>145</td>\n",
       "      <td>182</td>\n",
       "      <td>108</td>\n",
       "      <td>Asia</td>\n",
       "      <td>63.23</td>\n",
       "      <td>1533</td>\n",
       "    </tr>\n",
       "    <tr>\n",
       "      <th>1128</th>\n",
       "      <td>5.143769</td>\n",
       "      <td>Uzbekistan</td>\n",
       "      <td>UZB</td>\n",
       "      <td>2011</td>\n",
       "      <td>10.9</td>\n",
       "      <td>144</td>\n",
       "      <td>182</td>\n",
       "      <td>107</td>\n",
       "      <td>Asia</td>\n",
       "      <td>67.14</td>\n",
       "      <td>1767</td>\n",
       "    </tr>\n",
       "    <tr>\n",
       "      <th>1129</th>\n",
       "      <td>5.457236</td>\n",
       "      <td>Uzbekistan</td>\n",
       "      <td>UZB</td>\n",
       "      <td>2012</td>\n",
       "      <td>11.1</td>\n",
       "      <td>145</td>\n",
       "      <td>184</td>\n",
       "      <td>107</td>\n",
       "      <td>Asia</td>\n",
       "      <td>77.53</td>\n",
       "      <td>1964</td>\n",
       "    </tr>\n",
       "    <tr>\n",
       "      <th>1130</th>\n",
       "      <td>5.661737</td>\n",
       "      <td>Uzbekistan</td>\n",
       "      <td>UZB</td>\n",
       "      <td>2013</td>\n",
       "      <td>11.3</td>\n",
       "      <td>141</td>\n",
       "      <td>179</td>\n",
       "      <td>104</td>\n",
       "      <td>Asia</td>\n",
       "      <td>78.86</td>\n",
       "      <td>2150</td>\n",
       "    </tr>\n",
       "    <tr>\n",
       "      <th>1131</th>\n",
       "      <td>4.672927</td>\n",
       "      <td>Uzbekistan</td>\n",
       "      <td>UZB</td>\n",
       "      <td>2014</td>\n",
       "      <td>11.3</td>\n",
       "      <td>139</td>\n",
       "      <td>177</td>\n",
       "      <td>102</td>\n",
       "      <td>Asia</td>\n",
       "      <td>85.12</td>\n",
       "      <td>2309</td>\n",
       "    </tr>\n",
       "  </tbody>\n",
       "</table>\n",
       "<p>1132 rows × 11 columns</p>\n",
       "</div>"
      ],
      "text/plain": [
       "           GDP     Country Code  Year  avg_years_of_schooling  Both sexes  \\\n",
       "0     7.233370     Albania  ALB  2000                     8.8         106   \n",
       "1     7.139524     Albania  ALB  2001                     8.7         100   \n",
       "2     6.909341     Albania  ALB  2002                     9.0         102   \n",
       "3     7.063490     Albania  ALB  2003                     9.0         107   \n",
       "4     6.773372     Albania  ALB  2004                     9.1         101   \n",
       "...        ...         ...  ...   ...                     ...         ...   \n",
       "1127  5.221669  Uzbekistan  UZB  2010                    10.7         145   \n",
       "1128  5.143769  Uzbekistan  UZB  2011                    10.9         144   \n",
       "1129  5.457236  Uzbekistan  UZB  2012                    11.1         145   \n",
       "1130  5.661737  Uzbekistan  UZB  2013                    11.3         141   \n",
       "1131  4.672927  Uzbekistan  UZB  2014                    11.3         139   \n",
       "\n",
       "      Male  Female Continent  suicides_per_100k   gdp  \n",
       "0      133      76    Europe              30.70  1299  \n",
       "1      125      73    Europe              50.62  1451  \n",
       "2      126      77    Europe              62.51  1573  \n",
       "3      129      82    Europe              58.60  2021  \n",
       "4      127      74    Europe              65.39  2544  \n",
       "...    ...     ...       ...                ...   ...  \n",
       "1127   182     108      Asia              63.23  1533  \n",
       "1128   182     107      Asia              67.14  1767  \n",
       "1129   184     107      Asia              77.53  1964  \n",
       "1130   179     104      Asia              78.86  2150  \n",
       "1131   177     102      Asia              85.12  2309  \n",
       "\n",
       "[1132 rows x 11 columns]"
      ]
     },
     "execution_count": 151,
     "metadata": {},
     "output_type": "execute_result"
    }
   ],
   "source": [
    "df_comb = pd.merge(df, final_df, left_on=['Country Name','year'], right_on = ['Country','Year'], how='inner')\n",
    "df_comb = df_comb.drop(['Country Name','year','Country Code'], axis=1)\n",
    "df_comb"
   ]
  },
  {
   "cell_type": "code",
   "execution_count": 152,
   "id": "1cac7c78",
   "metadata": {},
   "outputs": [],
   "source": [
    "df_comb = df_comb.sort_values(['Country', 'Year'], ascending = True)"
   ]
  },
  {
   "cell_type": "code",
   "execution_count": 153,
   "id": "dcd574aa",
   "metadata": {},
   "outputs": [
    {
     "data": {
      "application/vnd.plotly.v1+json": {
       "config": {
        "plotlyServerURL": "https://plot.ly"
       },
       "data": [
        {
         "hovertemplate": "<b>%{hovertext}</b><br><br>Continent=Europe<br>Year=2000<br>GDP=%{x}<br>suicides_per_100k=%{y}<br>Both sexes=%{marker.size}<extra></extra>",
         "hovertext": [
          "Albania",
          "Austria",
          "Belarus",
          "Belgium",
          "Bulgaria",
          "Croatia",
          "Denmark",
          "Estonia",
          "Finland",
          "France",
          "Germany",
          "Greece",
          "Hungary",
          "Iceland",
          "Ireland",
          "Italy",
          "Latvia",
          "Lithuania",
          "Luxembourg",
          "Malta",
          "Netherlands",
          "Norway",
          "Poland",
          "Portugal",
          "Romania",
          "Serbia",
          "Slovenia",
          "Spain",
          "Sweden",
          "Switzerland",
          "Ukraine"
         ],
         "ids": [
          "Albania",
          "Austria",
          "Belarus",
          "Belgium",
          "Bulgaria",
          "Croatia",
          "Denmark",
          "Estonia",
          "Finland",
          "France",
          "Germany",
          "Greece",
          "Hungary",
          "Iceland",
          "Ireland",
          "Italy",
          "Latvia",
          "Lithuania",
          "Luxembourg",
          "Malta",
          "Netherlands",
          "Norway",
          "Poland",
          "Portugal",
          "Romania",
          "Serbia",
          "Slovenia",
          "Spain",
          "Sweden",
          "Switzerland",
          "Ukraine"
         ],
         "legendgroup": "Europe",
         "marker": {
          "color": "#1F77B4",
          "size": [
           106,
           94,
           247,
           99,
           163,
           133,
           100,
           216,
           104,
           99,
           95,
           82,
           193,
           76,
           93,
           75,
           217,
           200,
           90,
           70,
           83,
           84,
           152,
           110,
           175,
           141,
           122,
           84,
           72,
           78,
           258
          ],
          "sizemode": "area",
          "sizeref": 0.53,
          "symbol": "circle"
         },
         "mode": "markers",
         "name": "Europe",
         "orientation": "v",
         "showlegend": true,
         "type": "scatter",
         "x": [
          7.2333703,
          9.20371437,
          5.2760601,
          7.9991765,
          5.82971001,
          7.71451426,
          8.10438347,
          5.15698433,
          7.09253168,
          9.58447742,
          9.8881979,
          7.24332571,
          6.77804375,
          8.929286,
          5.90420008,
          7.56665564,
          5.4399581,
          6.19950438,
          5.90136147,
          6.57308626,
          7.70687819,
          7.71215487,
          5.28789568,
          8.60104179,
          4.20876122,
          6.49934578,
          7.80406952,
          6.79921818,
          7.32689953,
          9.11401939,
          5.30685234
         ],
         "xaxis": "x",
         "y": [
          30.7,
          289.77,
          447.3,
          267.8,
          259.22,
          322.75,
          181.07,
          364.64,
          265.65,
          257.23,
          185.55,
          44.86,
          464.56,
          207.99,
          142.36,
          99.22,
          453.2,
          571.8000000000001,
          222.64,
          78.05,
          118.99,
          150.32999999999998,
          191.01,
          85.88,
          159.19,
          324.16,
          404.12,
          122.21,
          162.5,
          266.2,
          377.19
         ],
         "yaxis": "y"
        },
        {
         "hovertemplate": "<b>%{hovertext}</b><br><br>Continent=North America<br>Year=2000<br>GDP=%{x}<br>suicides_per_100k=%{y}<br>Both sexes=%{marker.size}<extra></extra>",
         "hovertext": [
          "Antigua and Barbuda",
          "Barbados",
          "Belize",
          "Canada",
          "Costa Rica",
          "Cuba",
          "El Salvador",
          "Guatemala",
          "Jamaica",
          "Mexico",
          "Panama",
          "Trinidad and Tobago"
         ],
         "ids": [
          "Antigua and Barbuda",
          "Barbados",
          "Belize",
          "Canada",
          "Costa Rica",
          "Cuba",
          "El Salvador",
          "Guatemala",
          "Jamaica",
          "Mexico",
          "Panama",
          "Trinidad and Tobago"
         ],
         "legendgroup": "North America",
         "marker": {
          "color": "#FF7F0E",
          "size": [
           157,
           128,
           198,
           81,
           100,
           121,
           218,
           220,
           173,
           138,
           120,
           202
          ],
          "sizemode": "area",
          "sizeref": 0.53,
          "symbol": "circle"
         },
         "mode": "markers",
         "name": "North America",
         "orientation": "v",
         "showlegend": true,
         "type": "scatter",
         "x": [
          4.69438457,
          5.33187246,
          3.99033976,
          8.24814415,
          6.56498814,
          6.58189821,
          8.92467785,
          5.39686108,
          5.64462566,
          4.44912481,
          6.9129467,
          4.23492432
         ],
         "xaxis": "x",
         "y": [
          39.97,
          37.13,
          160.8,
          139,
          88.29,
          272.77,
          110.55,
          27.42,
          1.16,
          54.89,
          85.58,
          198.32
         ],
         "yaxis": "y"
        },
        {
         "hovertemplate": "<b>%{hovertext}</b><br><br>Continent=South America<br>Year=2000<br>GDP=%{x}<br>suicides_per_100k=%{y}<br>Both sexes=%{marker.size}<extra></extra>",
         "hovertext": [
          "Argentina",
          "Brazil",
          "Chile",
          "Colombia",
          "Ecuador",
          "Paraguay",
          "Uruguay"
         ],
         "ids": [
          "Argentina",
          "Brazil",
          "Chile",
          "Colombia",
          "Ecuador",
          "Paraguay",
          "Uruguay"
         ],
         "legendgroup": "South America",
         "marker": {
          "color": "#2CA02C",
          "size": [
           139,
           184,
           103,
           171,
           160,
           171,
           134
          ],
          "sizemode": "area",
          "sizeref": 0.53,
          "symbol": "circle"
         },
         "mode": "markers",
         "name": "South America",
         "orientation": "v",
         "showlegend": true,
         "type": "scatter",
         "x": [
          8.2200098,
          8.33459282,
          7.03517628,
          5.63529348,
          3.33109641,
          6.01865196,
          9.21095848
         ],
         "xaxis": "x",
         "y": [
          131.39,
          68.23,
          149.18,
          89.78,
          57.17,
          42.78,
          274.27
         ],
         "yaxis": "y"
        },
        {
         "hovertemplate": "<b>%{hovertext}</b><br><br>Continent=Asia<br>Year=2000<br>GDP=%{x}<br>suicides_per_100k=%{y}<br>Both sexes=%{marker.size}<extra></extra>",
         "hovertext": [
          "Armenia",
          "Azerbaijan",
          "Bahrain",
          "Cyprus",
          "Georgia",
          "Israel",
          "Japan",
          "Kazakhstan",
          "Kuwait",
          "Maldives",
          "Philippines",
          "Singapore",
          "Sri Lanka",
          "Thailand",
          "Uzbekistan"
         ],
         "ids": [
          "Armenia",
          "Azerbaijan",
          "Bahrain",
          "Cyprus",
          "Georgia",
          "Israel",
          "Japan",
          "Kazakhstan",
          "Kuwait",
          "Maldives",
          "Philippines",
          "Singapore",
          "Sri Lanka",
          "Thailand",
          "Uzbekistan"
         ],
         "legendgroup": "Asia",
         "marker": {
          "color": "#D62728",
          "size": [
           143,
           161,
           101,
           80,
           129,
           80,
           72,
           287,
           94,
           142,
           213,
           79,
           171,
           204,
           183
          ],
          "sizemode": "area",
          "sizeref": 0.53,
          "symbol": "circle"
         },
         "mode": "markers",
         "name": "Asia",
         "orientation": "v",
         "showlegend": true,
         "type": "scatter",
         "x": [
          4.19580364,
          2.94894385,
          3.56132603,
          5.30800056,
          7.194592,
          6.7833848,
          7.03456163,
          4.16031361,
          2.20343947,
          7.73655844,
          3.05511928,
          3.34336376,
          4.24652863,
          3.10125375,
          5.42173624
         ],
         "xaxis": "x",
         "y": [
          34.300000000000004,
          14.41,
          32.730000000000004,
          8.36,
          46.64,
          108.56,
          278.52,
          426.05,
          15.23,
          0,
          32.21,
          164.34,
          427.29,
          106.1,
          120.31
         ],
         "yaxis": "y"
        },
        {
         "hovertemplate": "<b>%{hovertext}</b><br><br>Continent=Oceania<br>Year=2000<br>GDP=%{x}<br>suicides_per_100k=%{y}<br>Both sexes=%{marker.size}<extra></extra>",
         "hovertext": [
          "Australia",
          "Kiribati",
          "New Zealand"
         ],
         "ids": [
          "Australia",
          "Kiribati",
          "New Zealand"
         ],
         "legendgroup": "Oceania",
         "marker": {
          "color": "#9467BD",
          "size": [
           77,
           222,
           86
          ],
          "sizemode": "area",
          "sizeref": 0.53,
          "symbol": "circle"
         },
         "mode": "markers",
         "name": "Oceania",
         "orientation": "v",
         "showlegend": true,
         "type": "scatter",
         "x": [
          7.61383343,
          8.64500046,
          7.4700222
         ],
         "xaxis": "x",
         "y": [
          157.82,
          0,
          157.54
         ],
         "yaxis": "y"
        },
        {
         "hovertemplate": "<b>%{hovertext}</b><br><br>Continent=Africa<br>Year=2000<br>GDP=%{x}<br>suicides_per_100k=%{y}<br>Both sexes=%{marker.size}<extra></extra>",
         "hovertext": [
          "Mauritius",
          "South Africa"
         ],
         "ids": [
          "Mauritius",
          "South Africa"
         ],
         "legendgroup": "Africa",
         "marker": {
          "color": "#8C564B",
          "size": [
           172,
           362
          ],
          "sizemode": "area",
          "sizeref": 0.53,
          "symbol": "circle"
         },
         "mode": "markers",
         "name": "Africa",
         "orientation": "v",
         "showlegend": true,
         "type": "scatter",
         "x": [
          2.89581966,
          8.16472149
         ],
         "xaxis": "x",
         "y": [
          140.82,
          9.54
         ],
         "yaxis": "y"
        }
       ],
       "frames": [
        {
         "data": [
          {
           "hovertemplate": "<b>%{hovertext}</b><br><br>Continent=Europe<br>Year=2000<br>GDP=%{x}<br>suicides_per_100k=%{y}<br>Both sexes=%{marker.size}<extra></extra>",
           "hovertext": [
            "Albania",
            "Austria",
            "Belarus",
            "Belgium",
            "Bulgaria",
            "Croatia",
            "Denmark",
            "Estonia",
            "Finland",
            "France",
            "Germany",
            "Greece",
            "Hungary",
            "Iceland",
            "Ireland",
            "Italy",
            "Latvia",
            "Lithuania",
            "Luxembourg",
            "Malta",
            "Netherlands",
            "Norway",
            "Poland",
            "Portugal",
            "Romania",
            "Serbia",
            "Slovenia",
            "Spain",
            "Sweden",
            "Switzerland",
            "Ukraine"
           ],
           "ids": [
            "Albania",
            "Austria",
            "Belarus",
            "Belgium",
            "Bulgaria",
            "Croatia",
            "Denmark",
            "Estonia",
            "Finland",
            "France",
            "Germany",
            "Greece",
            "Hungary",
            "Iceland",
            "Ireland",
            "Italy",
            "Latvia",
            "Lithuania",
            "Luxembourg",
            "Malta",
            "Netherlands",
            "Norway",
            "Poland",
            "Portugal",
            "Romania",
            "Serbia",
            "Slovenia",
            "Spain",
            "Sweden",
            "Switzerland",
            "Ukraine"
           ],
           "legendgroup": "Europe",
           "marker": {
            "color": "#1F77B4",
            "size": [
             106,
             94,
             247,
             99,
             163,
             133,
             100,
             216,
             104,
             99,
             95,
             82,
             193,
             76,
             93,
             75,
             217,
             200,
             90,
             70,
             83,
             84,
             152,
             110,
             175,
             141,
             122,
             84,
             72,
             78,
             258
            ],
            "sizemode": "area",
            "sizeref": 0.53,
            "symbol": "circle"
           },
           "mode": "markers",
           "name": "Europe",
           "orientation": "v",
           "showlegend": true,
           "type": "scatter",
           "x": [
            7.2333703,
            9.20371437,
            5.2760601,
            7.9991765,
            5.82971001,
            7.71451426,
            8.10438347,
            5.15698433,
            7.09253168,
            9.58447742,
            9.8881979,
            7.24332571,
            6.77804375,
            8.929286,
            5.90420008,
            7.56665564,
            5.4399581,
            6.19950438,
            5.90136147,
            6.57308626,
            7.70687819,
            7.71215487,
            5.28789568,
            8.60104179,
            4.20876122,
            6.49934578,
            7.80406952,
            6.79921818,
            7.32689953,
            9.11401939,
            5.30685234
           ],
           "xaxis": "x",
           "y": [
            30.7,
            289.77,
            447.3,
            267.8,
            259.22,
            322.75,
            181.07,
            364.64,
            265.65,
            257.23,
            185.55,
            44.86,
            464.56,
            207.99,
            142.36,
            99.22,
            453.2,
            571.8000000000001,
            222.64,
            78.05,
            118.99,
            150.32999999999998,
            191.01,
            85.88,
            159.19,
            324.16,
            404.12,
            122.21,
            162.5,
            266.2,
            377.19
           ],
           "yaxis": "y"
          },
          {
           "hovertemplate": "<b>%{hovertext}</b><br><br>Continent=North America<br>Year=2000<br>GDP=%{x}<br>suicides_per_100k=%{y}<br>Both sexes=%{marker.size}<extra></extra>",
           "hovertext": [
            "Antigua and Barbuda",
            "Barbados",
            "Belize",
            "Canada",
            "Costa Rica",
            "Cuba",
            "El Salvador",
            "Guatemala",
            "Jamaica",
            "Mexico",
            "Panama",
            "Trinidad and Tobago"
           ],
           "ids": [
            "Antigua and Barbuda",
            "Barbados",
            "Belize",
            "Canada",
            "Costa Rica",
            "Cuba",
            "El Salvador",
            "Guatemala",
            "Jamaica",
            "Mexico",
            "Panama",
            "Trinidad and Tobago"
           ],
           "legendgroup": "North America",
           "marker": {
            "color": "#FF7F0E",
            "size": [
             157,
             128,
             198,
             81,
             100,
             121,
             218,
             220,
             173,
             138,
             120,
             202
            ],
            "sizemode": "area",
            "sizeref": 0.53,
            "symbol": "circle"
           },
           "mode": "markers",
           "name": "North America",
           "orientation": "v",
           "showlegend": true,
           "type": "scatter",
           "x": [
            4.69438457,
            5.33187246,
            3.99033976,
            8.24814415,
            6.56498814,
            6.58189821,
            8.92467785,
            5.39686108,
            5.64462566,
            4.44912481,
            6.9129467,
            4.23492432
           ],
           "xaxis": "x",
           "y": [
            39.97,
            37.13,
            160.8,
            139,
            88.29,
            272.77,
            110.55,
            27.42,
            1.16,
            54.89,
            85.58,
            198.32
           ],
           "yaxis": "y"
          },
          {
           "hovertemplate": "<b>%{hovertext}</b><br><br>Continent=South America<br>Year=2000<br>GDP=%{x}<br>suicides_per_100k=%{y}<br>Both sexes=%{marker.size}<extra></extra>",
           "hovertext": [
            "Argentina",
            "Brazil",
            "Chile",
            "Colombia",
            "Ecuador",
            "Paraguay",
            "Uruguay"
           ],
           "ids": [
            "Argentina",
            "Brazil",
            "Chile",
            "Colombia",
            "Ecuador",
            "Paraguay",
            "Uruguay"
           ],
           "legendgroup": "South America",
           "marker": {
            "color": "#2CA02C",
            "size": [
             139,
             184,
             103,
             171,
             160,
             171,
             134
            ],
            "sizemode": "area",
            "sizeref": 0.53,
            "symbol": "circle"
           },
           "mode": "markers",
           "name": "South America",
           "orientation": "v",
           "showlegend": true,
           "type": "scatter",
           "x": [
            8.2200098,
            8.33459282,
            7.03517628,
            5.63529348,
            3.33109641,
            6.01865196,
            9.21095848
           ],
           "xaxis": "x",
           "y": [
            131.39,
            68.23,
            149.18,
            89.78,
            57.17,
            42.78,
            274.27
           ],
           "yaxis": "y"
          },
          {
           "hovertemplate": "<b>%{hovertext}</b><br><br>Continent=Asia<br>Year=2000<br>GDP=%{x}<br>suicides_per_100k=%{y}<br>Both sexes=%{marker.size}<extra></extra>",
           "hovertext": [
            "Armenia",
            "Azerbaijan",
            "Bahrain",
            "Cyprus",
            "Georgia",
            "Israel",
            "Japan",
            "Kazakhstan",
            "Kuwait",
            "Maldives",
            "Philippines",
            "Singapore",
            "Sri Lanka",
            "Thailand",
            "Uzbekistan"
           ],
           "ids": [
            "Armenia",
            "Azerbaijan",
            "Bahrain",
            "Cyprus",
            "Georgia",
            "Israel",
            "Japan",
            "Kazakhstan",
            "Kuwait",
            "Maldives",
            "Philippines",
            "Singapore",
            "Sri Lanka",
            "Thailand",
            "Uzbekistan"
           ],
           "legendgroup": "Asia",
           "marker": {
            "color": "#D62728",
            "size": [
             143,
             161,
             101,
             80,
             129,
             80,
             72,
             287,
             94,
             142,
             213,
             79,
             171,
             204,
             183
            ],
            "sizemode": "area",
            "sizeref": 0.53,
            "symbol": "circle"
           },
           "mode": "markers",
           "name": "Asia",
           "orientation": "v",
           "showlegend": true,
           "type": "scatter",
           "x": [
            4.19580364,
            2.94894385,
            3.56132603,
            5.30800056,
            7.194592,
            6.7833848,
            7.03456163,
            4.16031361,
            2.20343947,
            7.73655844,
            3.05511928,
            3.34336376,
            4.24652863,
            3.10125375,
            5.42173624
           ],
           "xaxis": "x",
           "y": [
            34.300000000000004,
            14.41,
            32.730000000000004,
            8.36,
            46.64,
            108.56,
            278.52,
            426.05,
            15.23,
            0,
            32.21,
            164.34,
            427.29,
            106.1,
            120.31
           ],
           "yaxis": "y"
          },
          {
           "hovertemplate": "<b>%{hovertext}</b><br><br>Continent=Oceania<br>Year=2000<br>GDP=%{x}<br>suicides_per_100k=%{y}<br>Both sexes=%{marker.size}<extra></extra>",
           "hovertext": [
            "Australia",
            "Kiribati",
            "New Zealand"
           ],
           "ids": [
            "Australia",
            "Kiribati",
            "New Zealand"
           ],
           "legendgroup": "Oceania",
           "marker": {
            "color": "#9467BD",
            "size": [
             77,
             222,
             86
            ],
            "sizemode": "area",
            "sizeref": 0.53,
            "symbol": "circle"
           },
           "mode": "markers",
           "name": "Oceania",
           "orientation": "v",
           "showlegend": true,
           "type": "scatter",
           "x": [
            7.61383343,
            8.64500046,
            7.4700222
           ],
           "xaxis": "x",
           "y": [
            157.82,
            0,
            157.54
           ],
           "yaxis": "y"
          },
          {
           "hovertemplate": "<b>%{hovertext}</b><br><br>Continent=Africa<br>Year=2000<br>GDP=%{x}<br>suicides_per_100k=%{y}<br>Both sexes=%{marker.size}<extra></extra>",
           "hovertext": [
            "Mauritius",
            "South Africa"
           ],
           "ids": [
            "Mauritius",
            "South Africa"
           ],
           "legendgroup": "Africa",
           "marker": {
            "color": "#8C564B",
            "size": [
             172,
             362
            ],
            "sizemode": "area",
            "sizeref": 0.53,
            "symbol": "circle"
           },
           "mode": "markers",
           "name": "Africa",
           "orientation": "v",
           "showlegend": true,
           "type": "scatter",
           "x": [
            2.89581966,
            8.16472149
           ],
           "xaxis": "x",
           "y": [
            140.82,
            9.54
           ],
           "yaxis": "y"
          }
         ],
         "name": "2000"
        },
        {
         "data": [
          {
           "hovertemplate": "<b>%{hovertext}</b><br><br>Continent=Europe<br>Year=2001<br>GDP=%{x}<br>suicides_per_100k=%{y}<br>Both sexes=%{marker.size}<extra></extra>",
           "hovertext": [
            "Albania",
            "Austria",
            "Belarus",
            "Belgium",
            "Bulgaria",
            "Croatia",
            "Denmark",
            "Estonia",
            "Finland",
            "France",
            "Germany",
            "Greece",
            "Hungary",
            "Iceland",
            "Ireland",
            "Italy",
            "Latvia",
            "Lithuania",
            "Luxembourg",
            "Malta",
            "Netherlands",
            "Norway",
            "Poland",
            "Portugal",
            "Romania",
            "Serbia",
            "Slovenia",
            "Spain",
            "Sweden",
            "Switzerland",
            "Ukraine"
           ],
           "ids": [
            "Albania",
            "Austria",
            "Belarus",
            "Belgium",
            "Bulgaria",
            "Croatia",
            "Denmark",
            "Estonia",
            "Finland",
            "France",
            "Germany",
            "Greece",
            "Hungary",
            "Iceland",
            "Ireland",
            "Italy",
            "Latvia",
            "Lithuania",
            "Luxembourg",
            "Malta",
            "Netherlands",
            "Norway",
            "Poland",
            "Portugal",
            "Romania",
            "Serbia",
            "Slovenia",
            "Spain",
            "Sweden",
            "Switzerland",
            "Ukraine"
           ],
           "legendgroup": "Europe",
           "marker": {
            "color": "#1F77B4",
            "size": [
             100,
             90,
             255,
             98,
             159,
             129,
             100,
             224,
             99,
             99,
             92,
             81,
             185,
             73,
             88,
             73,
             229,
             214,
             90,
             69,
             82,
             81,
             147,
             109,
             179,
             134,
             123,
             83,
             72,
             75,
             254
            ],
            "sizemode": "area",
            "sizeref": 0.53,
            "symbol": "circle"
           },
           "mode": "markers",
           "name": "Europe",
           "orientation": "v",
           "showlegend": true,
           "type": "scatter",
           "x": [
            7.13952398,
            9.26942921,
            5.70827103,
            8.14988804,
            6.85958767,
            7.2349987,
            8.44832611,
            4.77708292,
            7.25090408,
            9.70562744,
            9.92046165,
            7.9878397,
            6.82614756,
            8.78546429,
            6.39664602,
            7.73760843,
            5.7776227,
            6.01339579,
            6.410923,
            6.99985981,
            8.05946636,
            8.02202415,
            5.66721439,
            8.62751484,
            4.37598133,
            6.86061621,
            7.87602425,
            6.76895761,
            7.90032959,
            9.43919373,
            5.72534418
           ],
           "xaxis": "x",
           "y": [
            50.620000000000005,
            261.91,
            419.65,
            261.22,
            244.62,
            287.54,
            186.17,
            371.68,
            267.19,
            239.94,
            185.78,
            38.81,
            408.98,
            163.06,
            148.97,
            95.87,
            383.49,
            568.98,
            239.82,
            85.28999999999999,
            116.3,
            154.29,
            180.65,
            115.73,
            149.11,
            297,
            423.4,
            112.4,
            167.49,
            261.69,
            348.14
           ],
           "yaxis": "y"
          },
          {
           "hovertemplate": "<b>%{hovertext}</b><br><br>Continent=North America<br>Year=2001<br>GDP=%{x}<br>suicides_per_100k=%{y}<br>Both sexes=%{marker.size}<extra></extra>",
           "hovertext": [
            "Antigua and Barbuda",
            "Barbados",
            "Belize",
            "Canada",
            "Costa Rica",
            "Cuba",
            "El Salvador",
            "Guatemala",
            "Jamaica",
            "Mexico",
            "Panama",
            "Trinidad and Tobago"
           ],
           "ids": [
            "Antigua and Barbuda",
            "Barbados",
            "Belize",
            "Canada",
            "Costa Rica",
            "Cuba",
            "El Salvador",
            "Guatemala",
            "Jamaica",
            "Mexico",
            "Panama",
            "Trinidad and Tobago"
           ],
           "legendgroup": "North America",
           "marker": {
            "color": "#FF7F0E",
            "size": [
             154,
             127,
             203,
             79,
             101,
             119,
             222,
             214,
             175,
             135,
             120,
             204
            ],
            "sizemode": "area",
            "sizeref": 0.53,
            "symbol": "circle"
           },
           "mode": "markers",
           "name": "North America",
           "orientation": "v",
           "showlegend": true,
           "type": "scatter",
           "x": [
            5.43587589,
            5.52529192,
            4.63241482,
            8.62482357,
            6.47410393,
            6.98209763,
            8.82467365,
            6.07015848,
            5.15652943,
            4.8203578,
            6.8341074,
            4.0346489
           ],
           "xaxis": "x",
           "y": [
            19.45,
            8.65,
            151.7,
            137.43,
            76.03,
            244.51,
            129.71,
            30.59,
            2.8,
            63.3,
            86.77,
            205.33
           ],
           "yaxis": "y"
          },
          {
           "hovertemplate": "<b>%{hovertext}</b><br><br>Continent=South America<br>Year=2001<br>GDP=%{x}<br>suicides_per_100k=%{y}<br>Both sexes=%{marker.size}<extra></extra>",
           "hovertext": [
            "Argentina",
            "Brazil",
            "Chile",
            "Colombia",
            "Ecuador",
            "Guyana",
            "Paraguay",
            "Uruguay"
           ],
           "ids": [
            "Argentina",
            "Brazil",
            "Chile",
            "Colombia",
            "Ecuador",
            "Guyana",
            "Paraguay",
            "Uruguay"
           ],
           "legendgroup": "South America",
           "marker": {
            "color": "#2CA02C",
            "size": [
             138,
             180,
             106,
             170,
             154,
             273,
             169,
             127
            ],
            "sizemode": "area",
            "sizeref": 0.53,
            "symbol": "circle"
           },
           "mode": "markers",
           "name": "South America",
           "orientation": "v",
           "showlegend": true,
           "type": "scatter",
           "x": [
            8.37179756,
            8.54960632,
            7.15104103,
            5.94238234,
            3.75336552,
            3.05506778,
            5.60815763,
            9.79864407
           ],
           "xaxis": "x",
           "y": [
            143.56,
            73.49,
            147.58,
            88.27,
            67.24,
            380.76,
            56.52,
            236.12
           ],
           "yaxis": "y"
          },
          {
           "hovertemplate": "<b>%{hovertext}</b><br><br>Continent=Asia<br>Year=2001<br>GDP=%{x}<br>suicides_per_100k=%{y}<br>Both sexes=%{marker.size}<extra></extra>",
           "hovertext": [
            "Armenia",
            "Azerbaijan",
            "Bahrain",
            "Georgia",
            "Israel",
            "Japan",
            "Kazakhstan",
            "Kuwait",
            "Maldives",
            "Philippines",
            "Qatar",
            "Singapore",
            "Sri Lanka",
            "Uzbekistan"
           ],
           "ids": [
            "Armenia",
            "Azerbaijan",
            "Bahrain",
            "Georgia",
            "Israel",
            "Japan",
            "Kazakhstan",
            "Kuwait",
            "Maldives",
            "Philippines",
            "Qatar",
            "Singapore",
            "Sri Lanka",
            "Uzbekistan"
           ],
           "legendgroup": "Asia",
           "marker": {
            "color": "#D62728",
            "size": [
             143,
             149,
             98,
             125,
             79,
             70,
             283,
             92,
             135,
             215,
             73,
             77,
             158,
             177
            ],
            "sizemode": "area",
            "sizeref": 0.53,
            "symbol": "circle"
           },
           "mode": "markers",
           "name": "Asia",
           "orientation": "v",
           "showlegend": true,
           "type": "scatter",
           "x": [
            4.64562702,
            2.75590682,
            3.68104196,
            7.16950893,
            7.20983076,
            7.23947954,
            3.47096992,
            3.18838811,
            8.21364975,
            2.84775901,
            2.3197093,
            3.16302657,
            4.19323874,
            5.54972124
           ],
           "xaxis": "x",
           "y": [
            29.78,
            60.05,
            30.66,
            35.19,
            108.23,
            267.16,
            422.49,
            9.13,
            110.49,
            27.08,
            27.3,
            167.8,
            358.06,
            115.92
           ],
           "yaxis": "y"
          },
          {
           "hovertemplate": "<b>%{hovertext}</b><br><br>Continent=Oceania<br>Year=2001<br>GDP=%{x}<br>suicides_per_100k=%{y}<br>Both sexes=%{marker.size}<extra></extra>",
           "hovertext": [
            "Australia",
            "Fiji",
            "Kiribati",
            "New Zealand"
           ],
           "ids": [
            "Australia",
            "Fiji",
            "Kiribati",
            "New Zealand"
           ],
           "legendgroup": "Oceania",
           "marker": {
            "color": "#9467BD",
            "size": [
             74,
             221,
             219,
             83
            ],
            "sizemode": "area",
            "sizeref": 0.53,
            "symbol": "circle"
           },
           "mode": "markers",
           "name": "Oceania",
           "orientation": "v",
           "showlegend": true,
           "type": "scatter",
           "x": [
            7.69622898,
            2.90547323,
            12.32934475,
            7.5789361
           ],
           "xaxis": "x",
           "y": [
            158.79,
            54.95,
            0,
            179.9
           ],
           "yaxis": "y"
          },
          {
           "hovertemplate": "<b>%{hovertext}</b><br><br>Continent=Africa<br>Year=2001<br>GDP=%{x}<br>suicides_per_100k=%{y}<br>Both sexes=%{marker.size}<extra></extra>",
           "hovertext": [
            "Mauritius",
            "Seychelles",
            "South Africa"
           ],
           "ids": [
            "Mauritius",
            "Seychelles",
            "South Africa"
           ],
           "legendgroup": "Africa",
           "marker": {
            "color": "#8C564B",
            "size": [
             172,
             187,
             387
            ],
            "sizemode": "area",
            "sizeref": 0.53,
            "symbol": "circle"
           },
           "mode": "markers",
           "name": "Africa",
           "orientation": "v",
           "showlegend": true,
           "type": "scatter",
           "x": [
            2.96084642,
            5.39628124,
            7.93901682
           ],
           "xaxis": "x",
           "y": [
            121.84,
            87.57,
            12.43
           ],
           "yaxis": "y"
          }
         ],
         "name": "2001"
        },
        {
         "data": [
          {
           "hovertemplate": "<b>%{hovertext}</b><br><br>Continent=Europe<br>Year=2002<br>GDP=%{x}<br>suicides_per_100k=%{y}<br>Both sexes=%{marker.size}<extra></extra>",
           "hovertext": [
            "Albania",
            "Austria",
            "Belarus",
            "Belgium",
            "Bulgaria",
            "Croatia",
            "Denmark",
            "Estonia",
            "Finland",
            "France",
            "Germany",
            "Greece",
            "Hungary",
            "Iceland",
            "Ireland",
            "Italy",
            "Latvia",
            "Lithuania",
            "Luxembourg",
            "Malta",
            "Netherlands",
            "Norway",
            "Poland",
            "Portugal",
            "Romania",
            "Serbia",
            "Slovenia",
            "Spain",
            "Sweden",
            "Switzerland",
            "Ukraine"
           ],
           "ids": [
            "Albania",
            "Austria",
            "Belarus",
            "Belgium",
            "Bulgaria",
            "Croatia",
            "Denmark",
            "Estonia",
            "Finland",
            "France",
            "Germany",
            "Greece",
            "Hungary",
            "Iceland",
            "Ireland",
            "Italy",
            "Latvia",
            "Lithuania",
            "Luxembourg",
            "Malta",
            "Netherlands",
            "Norway",
            "Poland",
            "Portugal",
            "Romania",
            "Serbia",
            "Slovenia",
            "Spain",
            "Sweden",
            "Switzerland",
            "Ukraine"
           ],
           "legendgroup": "Europe",
           "marker": {
            "color": "#1F77B4",
            "size": [
             102,
             87,
             264,
             97,
             156,
             124,
             101,
             210,
             97,
             98,
             91,
             79,
             184,
             66,
             86,
             71,
             221,
             207,
             87,
             68,
             81,
             80,
             143,
             107,
             178,
             131,
             117,
             82,
             70,
             73,
             257
            ],
            "sizemode": "area",
            "sizeref": 0.53,
            "symbol": "circle"
           },
           "mode": "markers",
           "name": "Europe",
           "orientation": "v",
           "showlegend": true,
           "type": "scatter",
           "x": [
            6.90934134,
            9.3947649,
            5.62329483,
            8.3182106,
            7.0809865,
            6.20509815,
            8.70251179,
            4.70043564,
            7.62769508,
            10.02218628,
            10.18365669,
            8.23378086,
            7.12101698,
            9.46551323,
            6.67468452,
            7.86693525,
            5.77001858,
            6.14446115,
            6.73847198,
            7.70661688,
            8.64911556,
            9.00061893,
            6.0672431,
            8.78642941,
            4.57694626,
            8.0600071,
            8.02119923,
            6.80052805,
            8.21006203,
            9.85215092,
            5.99220037
           ],
           "xaxis": "x",
           "y": [
            62.51,
            276.92,
            411,
            247.86,
            247.35,
            304.12,
            176.51,
            358.3,
            255.52,
            238.64,
            183.96,
            38.35,
            382.75,
            131.24,
            135.82,
            94.61,
            367.76,
            555.62,
            264.14,
            55.28,
            119.73,
            141,
            183.27,
            171.82999999999998,
            173.6,
            295.91,
            354.3,
            115.64,
            162.71,
            273.7,
            344.05
           ],
           "yaxis": "y"
          },
          {
           "hovertemplate": "<b>%{hovertext}</b><br><br>Continent=North America<br>Year=2002<br>GDP=%{x}<br>suicides_per_100k=%{y}<br>Both sexes=%{marker.size}<extra></extra>",
           "hovertext": [
            "Antigua and Barbuda",
            "Barbados",
            "Belize",
            "Canada",
            "Costa Rica",
            "Cuba",
            "El Salvador",
            "Grenada",
            "Guatemala",
            "Jamaica",
            "Mexico",
            "Panama",
            "Trinidad and Tobago"
           ],
           "ids": [
            "Antigua and Barbuda",
            "Barbados",
            "Belize",
            "Canada",
            "Costa Rica",
            "Cuba",
            "El Salvador",
            "Grenada",
            "Guatemala",
            "Jamaica",
            "Mexico",
            "Panama",
            "Trinidad and Tobago"
           ],
           "legendgroup": "North America",
           "marker": {
            "color": "#FF7F0E",
            "size": [
             149,
             126,
             200,
             78,
             100,
             112,
             213,
             175,
             206,
             171,
             136,
             120,
             195
            ],
            "sizemode": "area",
            "sizeref": 0.53,
            "symbol": "circle"
           },
           "mode": "markers",
           "name": "North America",
           "orientation": "v",
           "showlegend": true,
           "type": "scatter",
           "x": [
            5.28793621,
            5.86123419,
            4.71499634,
            8.85670376,
            6.8690896,
            7.11481667,
            8.77833939,
            6.1756978,
            6.01308298,
            4.74544334,
            5.0716424,
            6.96316957,
            4.72302485
           ],
           "xaxis": "x",
           "y": [
            0,
            0,
            69.62,
            137.73,
            95.62,
            240.42,
            113.19,
            0,
            40.53,
            0.7,
            58.36,
            78.94,
            159.01
           ],
           "yaxis": "y"
          },
          {
           "hovertemplate": "<b>%{hovertext}</b><br><br>Continent=South America<br>Year=2002<br>GDP=%{x}<br>suicides_per_100k=%{y}<br>Both sexes=%{marker.size}<extra></extra>",
           "hovertext": [
            "Argentina",
            "Brazil",
            "Chile",
            "Colombia",
            "Ecuador",
            "Guyana",
            "Paraguay",
            "Uruguay"
           ],
           "ids": [
            "Argentina",
            "Brazil",
            "Chile",
            "Colombia",
            "Ecuador",
            "Guyana",
            "Paraguay",
            "Uruguay"
           ],
           "legendgroup": "South America",
           "marker": {
            "color": "#2CA02C",
            "size": [
             137,
             176,
             100,
             169,
             153,
             280,
             167,
             129
            ],
            "sizemode": "area",
            "sizeref": 0.53,
            "symbol": "circle"
           },
           "mode": "markers",
           "name": "South America",
           "orientation": "v",
           "showlegend": true,
           "type": "scatter",
           "x": [
            7.3933115,
            8.69685745,
            7.26602364,
            5.73295689,
            4.4733963,
            3.19353795,
            4.75770569,
            9.68134212
           ],
           "xaxis": "x",
           "y": [
            139.42000000000002,
            69.77,
            149.28,
            81.38,
            61.42,
            311.93,
            43.45,
            331.69
           ],
           "yaxis": "y"
          },
          {
           "hovertemplate": "<b>%{hovertext}</b><br><br>Continent=Asia<br>Year=2002<br>GDP=%{x}<br>suicides_per_100k=%{y}<br>Both sexes=%{marker.size}<extra></extra>",
           "hovertext": [
            "Armenia",
            "Azerbaijan",
            "Bahrain",
            "Israel",
            "Japan",
            "Kazakhstan",
            "Kuwait",
            "Maldives",
            "Philippines",
            "Singapore",
            "Sri Lanka",
            "Thailand",
            "Uzbekistan"
           ],
           "ids": [
            "Armenia",
            "Azerbaijan",
            "Bahrain",
            "Israel",
            "Japan",
            "Kazakhstan",
            "Kuwait",
            "Maldives",
            "Philippines",
            "Singapore",
            "Sri Lanka",
            "Thailand",
            "Uzbekistan"
           ],
           "legendgroup": "Asia",
           "marker": {
            "color": "#D62728",
            "size": [
             137,
             144,
             99,
             81,
             68,
             276,
             91,
             128,
             216,
             76,
             150,
             197,
             176
            ],
            "sizemode": "area",
            "sizeref": 0.53,
            "symbol": "circle"
           },
           "mode": "markers",
           "name": "Asia",
           "orientation": "v",
           "showlegend": true,
           "type": "scatter",
           "x": [
            7.61359835,
            2.73279428,
            3.85486555,
            7.13073444,
            7.35235357,
            3.61480069,
            3.12468719,
            8.78440094,
            2.63767314,
            3.358464,
            4.1731143,
            3.334723,
            5.44828367
           ],
           "xaxis": "x",
           "y": [
            38.07,
            19.42,
            27.68,
            93.49,
            265.84,
            405.89,
            14.56,
            9.84,
            28.54,
            172.39,
            339.41,
            103.12,
            95.28
           ],
           "yaxis": "y"
          },
          {
           "hovertemplate": "<b>%{hovertext}</b><br><br>Continent=Oceania<br>Year=2002<br>GDP=%{x}<br>suicides_per_100k=%{y}<br>Both sexes=%{marker.size}<extra></extra>",
           "hovertext": [
            "Australia",
            "Fiji",
            "New Zealand"
           ],
           "ids": [
            "Australia",
            "Fiji",
            "New Zealand"
           ],
           "legendgroup": "Oceania",
           "marker": {
            "color": "#9467BD",
            "size": [
             72,
             220,
             82
            ],
            "sizemode": "area",
            "sizeref": 0.53,
            "symbol": "circle"
           },
           "mode": "markers",
           "name": "Oceania",
           "orientation": "v",
           "showlegend": true,
           "type": "scatter",
           "x": [
            7.89332151,
            2.983495,
            7.90045929
           ],
           "xaxis": "x",
           "y": [
            144.68,
            110.54,
            152.03
           ],
           "yaxis": "y"
          },
          {
           "hovertemplate": "<b>%{hovertext}</b><br><br>Continent=Africa<br>Year=2002<br>GDP=%{x}<br>suicides_per_100k=%{y}<br>Both sexes=%{marker.size}<extra></extra>",
           "hovertext": [
            "Mauritius",
            "Seychelles",
            "South Africa"
           ],
           "ids": [
            "Mauritius",
            "Seychelles",
            "South Africa"
           ],
           "legendgroup": "Africa",
           "marker": {
            "color": "#8C564B",
            "size": [
             173,
             185,
             412
            ],
            "sizemode": "area",
            "sizeref": 0.53,
            "symbol": "circle"
           },
           "mode": "markers",
           "name": "Africa",
           "orientation": "v",
           "showlegend": true,
           "type": "scatter",
           "x": [
            3.23190355,
            4.56042624,
            7.46446323
           ],
           "xaxis": "x",
           "y": [
            131.9,
            154.12,
            6.98
           ],
           "yaxis": "y"
          }
         ],
         "name": "2002"
        },
        {
         "data": [
          {
           "hovertemplate": "<b>%{hovertext}</b><br><br>Continent=Europe<br>Year=2003<br>GDP=%{x}<br>suicides_per_100k=%{y}<br>Both sexes=%{marker.size}<extra></extra>",
           "hovertext": [
            "Albania",
            "Austria",
            "Belarus",
            "Belgium",
            "Bulgaria",
            "Croatia",
            "Denmark",
            "Estonia",
            "Finland",
            "France",
            "Germany",
            "Greece",
            "Hungary",
            "Iceland",
            "Ireland",
            "Italy",
            "Latvia",
            "Lithuania",
            "Luxembourg",
            "Malta",
            "Netherlands",
            "Norway",
            "Poland",
            "Portugal",
            "Romania",
            "Serbia",
            "Slovenia",
            "Spain",
            "Sweden",
            "Switzerland",
            "Ukraine"
           ],
           "ids": [
            "Albania",
            "Austria",
            "Belarus",
            "Belgium",
            "Bulgaria",
            "Croatia",
            "Denmark",
            "Estonia",
            "Finland",
            "France",
            "Germany",
            "Greece",
            "Hungary",
            "Iceland",
            "Ireland",
            "Italy",
            "Latvia",
            "Lithuania",
            "Luxembourg",
            "Malta",
            "Netherlands",
            "Norway",
            "Poland",
            "Portugal",
            "Romania",
            "Serbia",
            "Slovenia",
            "Spain",
            "Sweden",
            "Switzerland",
            "Ukraine"
           ],
           "legendgroup": "Europe",
           "marker": {
            "color": "#1F77B4",
            "size": [
             107,
             86,
             254,
             94,
             154,
             121,
             98,
             197,
             97,
             97,
             89,
             80,
             184,
             63,
             80,
             70,
             212,
             207,
             85,
             66,
             80,
             77,
             140,
             104,
             174,
             131,
             119,
             82,
             68,
             71,
             258
            ],
            "sizemode": "area",
            "sizeref": 0.53,
            "symbol": "circle"
           },
           "mode": "markers",
           "name": "Europe",
           "orientation": "v",
           "showlegend": true,
           "type": "scatter",
           "x": [
            7.06348991,
            9.5472393,
            5.76984167,
            9.20823288,
            7.19987392,
            6.35763264,
            8.9036293,
            4.85959911,
            7.93805122,
            10.08283329,
            10.40202236,
            8.44915676,
            8.11923409,
            9.72930241,
            7.0096755,
            7.83297729,
            5.48984146,
            6.18627787,
            6.97271538,
            7.89556122,
            9.0565691,
            9.21471977,
            5.95371294,
            9.12415695,
            5.37136745,
            8.1294651,
            8.09883595,
            7.56392097,
            8.31724644,
            10.10937595,
            6.54574108
           ],
           "xaxis": "x",
           "y": [
            58.6,
            257.06,
            444.86,
            248.73,
            207.65,
            281.69,
            156.7,
            338.24,
            243.45,
            241.31,
            181.24,
            40.67,
            372.04,
            100.97,
            134.77,
            94.42,
            361.63,
            530.52,
            164.37,
            74.94,
            113.33,
            138.07999999999998,
            180.15,
            166.46,
            159.71,
            271.27,
            376.56,
            116.49,
            153.41,
            242.66,
            337.07
           ],
           "yaxis": "y"
          },
          {
           "hovertemplate": "<b>%{hovertext}</b><br><br>Continent=North America<br>Year=2003<br>GDP=%{x}<br>suicides_per_100k=%{y}<br>Both sexes=%{marker.size}<extra></extra>",
           "hovertext": [
            "Antigua and Barbuda",
            "Barbados",
            "Belize",
            "Canada",
            "Costa Rica",
            "Cuba",
            "El Salvador",
            "Grenada",
            "Guatemala",
            "Jamaica",
            "Mexico",
            "Panama",
            "Trinidad and Tobago"
           ],
           "ids": [
            "Antigua and Barbuda",
            "Barbados",
            "Belize",
            "Canada",
            "Costa Rica",
            "Cuba",
            "El Salvador",
            "Grenada",
            "Guatemala",
            "Jamaica",
            "Mexico",
            "Panama",
            "Trinidad and Tobago"
           ],
           "legendgroup": "North America",
           "marker": {
            "color": "#FF7F0E",
            "size": [
             151,
             123,
             199,
             77,
             101,
             112,
             211,
             175,
             209,
             170,
             136,
             120,
             199
            ],
            "sizemode": "area",
            "sizeref": 0.53,
            "symbol": "circle"
           },
           "mode": "markers",
           "name": "North America",
           "orientation": "v",
           "showlegend": true,
           "type": "scatter",
           "x": [
            5.58626556,
            6.68377304,
            4.62012959,
            9.01090145,
            6.9691925,
            7.10295439,
            8.4062252,
            5.28485727,
            6.15313578,
            4.22014093,
            5.81486464,
            6.61838865,
            4.18767166
           ],
           "xaxis": "x",
           "y": [
            27.82,
            0,
            59,
            137.27,
            115.88,
            221.12,
            128.92,
            69.18,
            37.34,
            0.91,
            63,
            97.24,
            158.25
           ],
           "yaxis": "y"
          },
          {
           "hovertemplate": "<b>%{hovertext}</b><br><br>Continent=South America<br>Year=2003<br>GDP=%{x}<br>suicides_per_100k=%{y}<br>Both sexes=%{marker.size}<extra></extra>",
           "hovertext": [
            "Argentina",
            "Brazil",
            "Chile",
            "Colombia",
            "Ecuador",
            "Guyana",
            "Paraguay",
            "Uruguay"
           ],
           "ids": [
            "Argentina",
            "Brazil",
            "Chile",
            "Colombia",
            "Ecuador",
            "Guyana",
            "Paraguay",
            "Uruguay"
           ],
           "legendgroup": "South America",
           "marker": {
            "color": "#2CA02C",
            "size": [
             134,
             172,
             100,
             155,
             146,
             277,
             166,
             125
            ],
            "sizemode": "area",
            "sizeref": 0.53,
            "symbol": "circle"
           },
           "mode": "markers",
           "name": "South America",
           "orientation": "v",
           "showlegend": true,
           "type": "scatter",
           "x": [
            6.89451599,
            8.18899918,
            7.33330393,
            5.77505875,
            5.44066668,
            3.26884198,
            4.90703869,
            9.61753464
           ],
           "xaxis": "x",
           "y": [
            146.29,
            68.07,
            153.54,
            79.85,
            70.56,
            382.54,
            51.35,
            259.25
           ],
           "yaxis": "y"
          },
          {
           "hovertemplate": "<b>%{hovertext}</b><br><br>Continent=Asia<br>Year=2003<br>GDP=%{x}<br>suicides_per_100k=%{y}<br>Both sexes=%{marker.size}<extra></extra>",
           "hovertext": [
            "Armenia",
            "Azerbaijan",
            "Bahrain",
            "Israel",
            "Japan",
            "Kazakhstan",
            "Kuwait",
            "Maldives",
            "Philippines",
            "Singapore",
            "Sri Lanka",
            "Thailand",
            "Uzbekistan"
           ],
           "ids": [
            "Armenia",
            "Azerbaijan",
            "Bahrain",
            "Israel",
            "Japan",
            "Kazakhstan",
            "Kuwait",
            "Maldives",
            "Philippines",
            "Singapore",
            "Sri Lanka",
            "Thailand",
            "Uzbekistan"
           ],
           "legendgroup": "Asia",
           "marker": {
            "color": "#D62728",
            "size": [
             137,
             151,
             92,
             76,
             68,
             283,
             90,
             114,
             212,
             73,
             147,
             194,
             173
            ],
            "sizemode": "area",
            "sizeref": 0.53,
            "symbol": "circle"
           },
           "mode": "markers",
           "name": "Asia",
           "orientation": "v",
           "showlegend": true,
           "type": "scatter",
           "x": [
            7.17937517,
            2.73471093,
            3.98856878,
            7.06917286,
            7.48654842,
            3.72334647,
            2.76216865,
            6.77857542,
            3.0766356,
            3.60699248,
            3.76927328,
            3.24312782,
            5.49766588
           ],
           "xaxis": "x",
           "y": [
            33.43,
            27.07,
            32.39,
            97.17,
            279.41,
            411.71,
            16.44,
            15.52,
            33.41,
            172.74,
            352.75,
            91.16,
            82.06
           ],
           "yaxis": "y"
          },
          {
           "hovertemplate": "<b>%{hovertext}</b><br><br>Continent=Oceania<br>Year=2003<br>GDP=%{x}<br>suicides_per_100k=%{y}<br>Both sexes=%{marker.size}<extra></extra>",
           "hovertext": [
            "Australia",
            "Fiji",
            "New Zealand"
           ],
           "ids": [
            "Australia",
            "Fiji",
            "New Zealand"
           ],
           "legendgroup": "Oceania",
           "marker": {
            "color": "#9467BD",
            "size": [
             69,
             220,
             81
            ],
            "sizemode": "area",
            "sizeref": 0.53,
            "symbol": "circle"
           },
           "mode": "markers",
           "name": "Oceania",
           "orientation": "v",
           "showlegend": true,
           "type": "scatter",
           "x": [
            7.90449524,
            2.97298193,
            7.72169209
           ],
           "xaxis": "x",
           "y": [
            133.84,
            16.12,
            172.35
           ],
           "yaxis": "y"
          },
          {
           "hovertemplate": "<b>%{hovertext}</b><br><br>Continent=Africa<br>Year=2003<br>GDP=%{x}<br>suicides_per_100k=%{y}<br>Both sexes=%{marker.size}<extra></extra>",
           "hovertext": [
            "Mauritius",
            "Seychelles",
            "South Africa"
           ],
           "ids": [
            "Mauritius",
            "Seychelles",
            "South Africa"
           ],
           "legendgroup": "Africa",
           "marker": {
            "color": "#8C564B",
            "size": [
             168,
             185,
             437
            ],
            "sizemode": "area",
            "sizeref": 0.53,
            "symbol": "circle"
           },
           "mode": "markers",
           "name": "Africa",
           "orientation": "v",
           "showlegend": true,
           "type": "scatter",
           "x": [
            3.22486687,
            5.35933495,
            7.91530371
           ],
           "xaxis": "x",
           "y": [
            94.02,
            100,
            9.24
           ],
           "yaxis": "y"
          }
         ],
         "name": "2003"
        },
        {
         "data": [
          {
           "hovertemplate": "<b>%{hovertext}</b><br><br>Continent=Europe<br>Year=2004<br>GDP=%{x}<br>suicides_per_100k=%{y}<br>Both sexes=%{marker.size}<extra></extra>",
           "hovertext": [
            "Albania",
            "Austria",
            "Belgium",
            "Bulgaria",
            "Croatia",
            "Denmark",
            "Estonia",
            "Finland",
            "France",
            "Germany",
            "Greece",
            "Hungary",
            "Iceland",
            "Ireland",
            "Italy",
            "Latvia",
            "Lithuania",
            "Luxembourg",
            "Malta",
            "Netherlands",
            "Norway",
            "Poland",
            "Romania",
            "Serbia",
            "Slovenia",
            "Spain",
            "Sweden",
            "Switzerland",
            "Ukraine"
           ],
           "ids": [
            "Albania",
            "Austria",
            "Belgium",
            "Bulgaria",
            "Croatia",
            "Denmark",
            "Estonia",
            "Finland",
            "France",
            "Germany",
            "Greece",
            "Hungary",
            "Iceland",
            "Ireland",
            "Italy",
            "Latvia",
            "Lithuania",
            "Luxembourg",
            "Malta",
            "Netherlands",
            "Norway",
            "Poland",
            "Romania",
            "Serbia",
            "Slovenia",
            "Spain",
            "Sweden",
            "Switzerland",
            "Ukraine"
           ],
           "legendgroup": "Europe",
           "marker": {
            "color": "#1F77B4",
            "size": [
             101,
             84,
             89,
             154,
             113,
             95,
             193,
             101,
             92,
             85,
             80,
             180,
             61,
             79,
             66,
             209,
             209,
             79,
             64,
             76,
             76,
             142,
             166,
             129,
             113,
             79,
             70,
             68,
             269
            ],
            "sizemode": "area",
            "sizeref": 0.53,
            "symbol": "circle"
           },
           "mode": "markers",
           "name": "Europe",
           "orientation": "v",
           "showlegend": true,
           "type": "scatter",
           "x": [
            6.77337217,
            9.70939827,
            9.36721516,
            6.89090872,
            6.57048893,
            9.00743198,
            5.119555,
            8.05912876,
            10.16429329,
            10.14603138,
            8.09390354,
            7.77005482,
            9.32854366,
            7.22300482,
            8.16549301,
            6.21677923,
            5.5114994,
            7.34548569,
            8.04820728,
            9.11067963,
            8.82115746,
            5.86845255,
            5.47733545,
            8.24021435,
            7.93957281,
            7.65912247,
            8.12961864,
            10.1849556,
            6.16856956
           ],
           "xaxis": "x",
           "y": [
            65.39,
            254.04,
            231.06,
            184.12,
            302.24,
            161.78,
            299.46,
            243.95,
            232.51,
            172.23,
            40.92,
            369.47,
            168.81,
            129.42000000000002,
            91.33,
            328.38,
            503.37,
            189.54,
            85.82000000000001,
            111.16,
            141.37,
            187.74,
            151.19,
            262.51,
            298.48,
            112.63,
            157.41,
            242.27,
            307.05
           ],
           "yaxis": "y"
          },
          {
           "hovertemplate": "<b>%{hovertext}</b><br><br>Continent=North America<br>Year=2004<br>GDP=%{x}<br>suicides_per_100k=%{y}<br>Both sexes=%{marker.size}<extra></extra>",
           "hovertext": [
            "Antigua and Barbuda",
            "Barbados",
            "Belize",
            "Canada",
            "Costa Rica",
            "Cuba",
            "El Salvador",
            "Grenada",
            "Guatemala",
            "Jamaica",
            "Mexico",
            "Panama",
            "Trinidad and Tobago"
           ],
           "ids": [
            "Antigua and Barbuda",
            "Barbados",
            "Belize",
            "Canada",
            "Costa Rica",
            "Cuba",
            "El Salvador",
            "Grenada",
            "Guatemala",
            "Jamaica",
            "Mexico",
            "Panama",
            "Trinidad and Tobago"
           ],
           "legendgroup": "North America",
           "marker": {
            "color": "#FF7F0E",
            "size": [
             153,
             116,
             195,
             76,
             102,
             109,
             209,
             186,
             206,
             168,
             132,
             117,
             196
            ],
            "sizemode": "area",
            "sizeref": 0.53,
            "symbol": "circle"
           },
           "mode": "markers",
           "name": "North America",
           "orientation": "v",
           "showlegend": true,
           "type": "scatter",
           "x": [
            5.11667967,
            7.31510305,
            4.48231363,
            9.06628132,
            6.63005924,
            6.83178759,
            8.49746799,
            5.36568451,
            6.26182795,
            4.80435324,
            5.9539032,
            6.99114799,
            4.30805206
           ],
           "xaxis": "x",
           "y": [
            36.06,
            7.79,
            117.38,
            131.66,
            100.72,
            216.12,
            111.56,
            13.37,
            29.93,
            0.74,
            60.75,
            81.76,
            188.28
           ],
           "yaxis": "y"
          },
          {
           "hovertemplate": "<b>%{hovertext}</b><br><br>Continent=South America<br>Year=2004<br>GDP=%{x}<br>suicides_per_100k=%{y}<br>Both sexes=%{marker.size}<extra></extra>",
           "hovertext": [
            "Argentina",
            "Brazil",
            "Chile",
            "Colombia",
            "Ecuador",
            "Guyana",
            "Paraguay",
            "Suriname",
            "Uruguay"
           ],
           "ids": [
            "Argentina",
            "Brazil",
            "Chile",
            "Colombia",
            "Ecuador",
            "Guyana",
            "Paraguay",
            "Suriname",
            "Uruguay"
           ],
           "legendgroup": "South America",
           "marker": {
            "color": "#2CA02C",
            "size": [
             128,
             169,
             98,
             152,
             145,
             270,
             165,
             216,
             125
            ],
            "sizemode": "area",
            "sizeref": 0.53,
            "symbol": "circle"
           },
           "mode": "markers",
           "name": "South America",
           "orientation": "v",
           "showlegend": true,
           "type": "scatter",
           "x": [
            7.22868299,
            8.12491989,
            6.90115023,
            5.79892778,
            5.56659126,
            3.43770432,
            4.93224382,
            5.84803867,
            8.30145359
           ],
           "xaxis": "x",
           "y": [
            131.06,
            70.22,
            155.69,
            84.25,
            84.39,
            400,
            65.44,
            202.1,
            258.49
           ],
           "yaxis": "y"
          },
          {
           "hovertemplate": "<b>%{hovertext}</b><br><br>Continent=Asia<br>Year=2004<br>GDP=%{x}<br>suicides_per_100k=%{y}<br>Both sexes=%{marker.size}<extra></extra>",
           "hovertext": [
            "Azerbaijan",
            "Bahrain",
            "Cyprus",
            "Georgia",
            "Israel",
            "Japan",
            "Kazakhstan",
            "Kuwait",
            "Maldives",
            "Qatar",
            "Singapore",
            "Thailand",
            "Uzbekistan"
           ],
           "ids": [
            "Azerbaijan",
            "Bahrain",
            "Cyprus",
            "Georgia",
            "Israel",
            "Japan",
            "Kazakhstan",
            "Kuwait",
            "Maldives",
            "Qatar",
            "Singapore",
            "Thailand",
            "Uzbekistan"
           ],
           "legendgroup": "Asia",
           "marker": {
            "color": "#D62728",
            "size": [
             151,
             94,
             74,
             148,
             73,
             67,
             289,
             89,
             118,
             69,
             73,
             194,
             174
            ],
            "sizemode": "area",
            "sizeref": 0.53,
            "symbol": "circle"
           },
           "mode": "markers",
           "name": "Asia",
           "orientation": "v",
           "showlegend": true,
           "type": "scatter",
           "x": [
            2.66530418,
            3.47338176,
            5.40558147,
            8.08910847,
            7.01328945,
            7.53518438,
            3.98308039,
            2.35702443,
            7.48356962,
            3.18311739,
            3.15019822,
            3.13893151,
            5.12983561
           ],
           "xaxis": "x",
           "y": [
            18.33,
            54.21,
            9.17,
            66.54,
            98.44,
            266.25,
            413.86,
            17.26,
            3.74,
            15.25,
            167.48,
            86.06,
            68.03999999999999
           ],
           "yaxis": "y"
          },
          {
           "hovertemplate": "<b>%{hovertext}</b><br><br>Continent=Oceania<br>Year=2004<br>GDP=%{x}<br>suicides_per_100k=%{y}<br>Both sexes=%{marker.size}<extra></extra>",
           "hovertext": [
            "Australia",
            "Fiji",
            "New Zealand"
           ],
           "ids": [
            "Australia",
            "Fiji",
            "New Zealand"
           ],
           "legendgroup": "Oceania",
           "marker": {
            "color": "#9467BD",
            "size": [
             67,
             218,
             79
            ],
            "sizemode": "area",
            "sizeref": 0.53,
            "symbol": "circle"
           },
           "mode": "markers",
           "name": "Oceania",
           "orientation": "v",
           "showlegend": true,
           "type": "scatter",
           "x": [
            8.10948753,
            3.25768542,
            7.90090561
           ],
           "xaxis": "x",
           "y": [
            133.76,
            90.49,
            163.41
           ],
           "yaxis": "y"
          },
          {
           "hovertemplate": "<b>%{hovertext}</b><br><br>Continent=Africa<br>Year=2004<br>GDP=%{x}<br>suicides_per_100k=%{y}<br>Both sexes=%{marker.size}<extra></extra>",
           "hovertext": [
            "Mauritius",
            "Seychelles",
            "South Africa"
           ],
           "ids": [
            "Mauritius",
            "Seychelles",
            "South Africa"
           ],
           "legendgroup": "Africa",
           "marker": {
            "color": "#8C564B",
            "size": [
             164,
             186,
             459
            ],
            "sizemode": "area",
            "sizeref": 0.53,
            "symbol": "circle"
           },
           "mode": "markers",
           "name": "Africa",
           "orientation": "v",
           "showlegend": true,
           "type": "scatter",
           "x": [
            3.36119127,
            5.1972785,
            7.76453447
           ],
           "xaxis": "x",
           "y": [
            100.99,
            63.27,
            12.63
           ],
           "yaxis": "y"
          }
         ],
         "name": "2004"
        },
        {
         "data": [
          {
           "hovertemplate": "<b>%{hovertext}</b><br><br>Continent=Europe<br>Year=2005<br>GDP=%{x}<br>suicides_per_100k=%{y}<br>Both sexes=%{marker.size}<extra></extra>",
           "hovertext": [
            "Albania",
            "Austria",
            "Belgium",
            "Bulgaria",
            "Croatia",
            "Denmark",
            "Estonia",
            "Finland",
            "France",
            "Germany",
            "Greece",
            "Hungary",
            "Iceland",
            "Ireland",
            "Italy",
            "Latvia",
            "Lithuania",
            "Luxembourg",
            "Malta",
            "Netherlands",
            "Norway",
            "Poland",
            "Romania",
            "Serbia",
            "Slovenia",
            "Spain",
            "Sweden",
            "Switzerland",
            "Ukraine"
           ],
           "ids": [
            "Albania",
            "Austria",
            "Belgium",
            "Bulgaria",
            "Croatia",
            "Denmark",
            "Estonia",
            "Finland",
            "France",
            "Germany",
            "Greece",
            "Hungary",
            "Iceland",
            "Ireland",
            "Italy",
            "Latvia",
            "Lithuania",
            "Luxembourg",
            "Malta",
            "Netherlands",
            "Norway",
            "Poland",
            "Romania",
            "Serbia",
            "Slovenia",
            "Spain",
            "Sweden",
            "Switzerland",
            "Ukraine"
           ],
           "legendgroup": "Europe",
           "marker": {
            "color": "#1F77B4",
            "size": [
             106,
             84,
             88,
             156,
             116,
             89,
             187,
             100,
             92,
             84,
             79,
             182,
             61,
             75,
             65,
             220,
             228,
             81,
             63,
             72,
             72,
             144,
             162,
             128,
             104,
             76,
             66,
             66,
             280
            ],
            "sizemode": "area",
            "sizeref": 0.53,
            "symbol": "circle"
           },
           "mode": "markers",
           "name": "Europe",
           "orientation": "v",
           "showlegend": true,
           "type": "scatter",
           "x": [
            6.33554173,
            9.62702942,
            9.26114464,
            6.89011431,
            6.90785742,
            9.0905695,
            5.05801439,
            8.28795624,
            10.2148447,
            10.3115406,
            8.56466961,
            8.00078201,
            8.94695091,
            7.64583445,
            8.33931828,
            5.84766769,
            5.64800453,
            7.18256855,
            8.66396618,
            9.09671688,
            8.32839584,
            5.80689144,
            5.52778149,
            8.27808189,
            7.99595737,
            7.73195314,
            8.1508379,
            10.004179,
            6.3461585
           ],
           "xaxis": "x",
           "y": [
            0,
            235.25,
            231.75,
            178.06,
            269.57,
            164.23,
            256.43,
            230.52,
            232.09,
            161.49,
            46.53,
            352.01,
            115,
            121.11,
            82.59,
            312.06,
            485.79,
            159.07,
            67.94,
            113.28,
            142.09,
            186.04,
            146.01,
            286.32,
            337.41,
            107.66,
            164.62,
            246.19,
            297.18
           ],
           "yaxis": "y"
          },
          {
           "hovertemplate": "<b>%{hovertext}</b><br><br>Continent=North America<br>Year=2005<br>GDP=%{x}<br>suicides_per_100k=%{y}<br>Both sexes=%{marker.size}<extra></extra>",
           "hovertext": [
            "Antigua and Barbuda",
            "Barbados",
            "Belize",
            "Canada",
            "Costa Rica",
            "Cuba",
            "El Salvador",
            "Grenada",
            "Guatemala",
            "Jamaica",
            "Mexico",
            "Panama",
            "Trinidad and Tobago"
           ],
           "ids": [
            "Antigua and Barbuda",
            "Barbados",
            "Belize",
            "Canada",
            "Costa Rica",
            "Cuba",
            "El Salvador",
            "Grenada",
            "Guatemala",
            "Jamaica",
            "Mexico",
            "Panama",
            "Trinidad and Tobago"
           ],
           "legendgroup": "North America",
           "marker": {
            "color": "#FF7F0E",
            "size": [
             156,
             114,
             190,
             76,
             96,
             110,
             206,
             171,
             211,
             164,
             134,
             116,
             195
            ],
            "sizemode": "area",
            "sizeref": 0.53,
            "symbol": "circle"
           },
           "mode": "markers",
           "name": "North America",
           "orientation": "v",
           "showlegend": true,
           "type": "scatter",
           "x": [
            4.9945569,
            6.76892185,
            4.49777079,
            9.03540611,
            6.66429853,
            8.75525475,
            8.43694401,
            5.14460278,
            6.14832115,
            4.54581738,
            5.83612156,
            6.09434938,
            4.43451166
           ],
           "xaxis": "x",
           "y": [
            0,
            2.58,
            46.1,
            133.84,
            78.73,
            205.94,
            115.73,
            160.82,
            32.61,
            26.17,
            62.22,
            77.81,
            144.14
           ],
           "yaxis": "y"
          },
          {
           "hovertemplate": "<b>%{hovertext}</b><br><br>Continent=South America<br>Year=2005<br>GDP=%{x}<br>suicides_per_100k=%{y}<br>Both sexes=%{marker.size}<extra></extra>",
           "hovertext": [
            "Argentina",
            "Brazil",
            "Chile",
            "Colombia",
            "Ecuador",
            "Guyana",
            "Paraguay",
            "Suriname",
            "Uruguay"
           ],
           "ids": [
            "Argentina",
            "Brazil",
            "Chile",
            "Colombia",
            "Ecuador",
            "Guyana",
            "Paraguay",
            "Suriname",
            "Uruguay"
           ],
           "legendgroup": "South America",
           "marker": {
            "color": "#2CA02C",
            "size": [
             125,
             162,
             95,
             144,
             149,
             267,
             164,
             207,
             125
            ],
            "sizemode": "area",
            "sizeref": 0.53,
            "symbol": "circle"
           },
           "mode": "markers",
           "name": "South America",
           "orientation": "v",
           "showlegend": true,
           "type": "scatter",
           "x": [
            7.61078882,
            8.03540993,
            6.58871555,
            6.06709814,
            5.59422016,
            3.79409742,
            4.82934666,
            5.61497545,
            7.75686073
           ],
           "xaxis": "x",
           "y": [
            128.18,
            73.6,
            147.43,
            74.84,
            96.73,
            333.96,
            62.81,
            211.17,
            241.31
           ],
           "yaxis": "y"
          },
          {
           "hovertemplate": "<b>%{hovertext}</b><br><br>Continent=Asia<br>Year=2005<br>GDP=%{x}<br>suicides_per_100k=%{y}<br>Both sexes=%{marker.size}<extra></extra>",
           "hovertext": [
            "Bahrain",
            "Cyprus",
            "Georgia",
            "Israel",
            "Japan",
            "Kazakhstan",
            "Kuwait",
            "Maldives",
            "Qatar",
            "Singapore",
            "Thailand",
            "United Arab Emirates",
            "Uzbekistan"
           ],
           "ids": [
            "Bahrain",
            "Cyprus",
            "Georgia",
            "Israel",
            "Japan",
            "Kazakhstan",
            "Kuwait",
            "Maldives",
            "Qatar",
            "Singapore",
            "Thailand",
            "United Arab Emirates",
            "Uzbekistan"
           ],
           "legendgroup": "Asia",
           "marker": {
            "color": "#D62728",
            "size": [
             83,
             75,
             144,
             72,
             68,
             297,
             88,
             93,
             67,
             74,
             183,
             91,
             183
            ],
            "sizemode": "area",
            "sizeref": 0.53,
            "symbol": "circle"
           },
           "mode": "markers",
           "name": "Asia",
           "orientation": "v",
           "showlegend": true,
           "type": "scatter",
           "x": [
            3.17561626,
            5.43580961,
            8.07734108,
            7.11729813,
            7.65818596,
            3.90172553,
            2.01313829,
            8.82753468,
            2.56300044,
            3.03367925,
            3.15972233,
            2.32019687,
            5.06766796
           ],
           "xaxis": "x",
           "y": [
            40.22,
            24.74,
            28.36,
            102.91,
            266.89,
            357.8,
            18.18,
            2.75,
            18.8,
            180.33,
            77.99,
            16.05,
            67.81
           ],
           "yaxis": "y"
          },
          {
           "hovertemplate": "<b>%{hovertext}</b><br><br>Continent=Oceania<br>Year=2005<br>GDP=%{x}<br>suicides_per_100k=%{y}<br>Both sexes=%{marker.size}<extra></extra>",
           "hovertext": [
            "Fiji",
            "New Zealand"
           ],
           "ids": [
            "Fiji",
            "New Zealand"
           ],
           "legendgroup": "Oceania",
           "marker": {
            "color": "#9467BD",
            "size": [
             214,
             77
            ],
            "sizemode": "area",
            "sizeref": 0.53,
            "symbol": "circle"
           },
           "mode": "markers",
           "name": "Oceania",
           "orientation": "v",
           "showlegend": true,
           "type": "scatter",
           "x": [
            3.25656676,
            8.27334881
           ],
           "xaxis": "x",
           "y": [
            52.83,
            157.93
           ],
           "yaxis": "y"
          },
          {
           "hovertemplate": "<b>%{hovertext}</b><br><br>Continent=Africa<br>Year=2005<br>GDP=%{x}<br>suicides_per_100k=%{y}<br>Both sexes=%{marker.size}<extra></extra>",
           "hovertext": [
            "Mauritius",
            "Seychelles",
            "South Africa"
           ],
           "ids": [
            "Mauritius",
            "Seychelles",
            "South Africa"
           ],
           "legendgroup": "Africa",
           "marker": {
            "color": "#8C564B",
            "size": [
             164,
             185,
             474
            ],
            "sizemode": "area",
            "sizeref": 0.53,
            "symbol": "circle"
           },
           "mode": "markers",
           "name": "Africa",
           "orientation": "v",
           "showlegend": true,
           "type": "scatter",
           "x": [
            3.56529307,
            4.97854805,
            7.68997431
           ],
           "xaxis": "x",
           "y": [
            102.51,
            71.5,
            15.29
           ],
           "yaxis": "y"
          }
         ],
         "name": "2005"
        },
        {
         "data": [
          {
           "hovertemplate": "<b>%{hovertext}</b><br><br>Continent=Europe<br>Year=2006<br>GDP=%{x}<br>suicides_per_100k=%{y}<br>Both sexes=%{marker.size}<extra></extra>",
           "hovertext": [
            "Albania",
            "Austria",
            "Belgium",
            "Bulgaria",
            "Croatia",
            "Denmark",
            "Estonia",
            "Finland",
            "France",
            "Germany",
            "Greece",
            "Hungary",
            "Iceland",
            "Ireland",
            "Italy",
            "Latvia",
            "Lithuania",
            "Luxembourg",
            "Malta",
            "Netherlands",
            "Norway",
            "Poland",
            "Romania",
            "Serbia",
            "Slovenia",
            "Spain",
            "Sweden",
            "Switzerland",
            "Ukraine"
           ],
           "ids": [
            "Albania",
            "Austria",
            "Belgium",
            "Bulgaria",
            "Croatia",
            "Denmark",
            "Estonia",
            "Finland",
            "France",
            "Germany",
            "Greece",
            "Hungary",
            "Iceland",
            "Ireland",
            "Italy",
            "Latvia",
            "Lithuania",
            "Luxembourg",
            "Malta",
            "Netherlands",
            "Norway",
            "Poland",
            "Romania",
            "Serbia",
            "Slovenia",
            "Spain",
            "Sweden",
            "Switzerland",
            "Ukraine"
           ],
           "legendgroup": "Europe",
           "marker": {
            "color": "#1F77B4",
            "size": [
             101,
             80,
             85,
             157,
             114,
             91,
             186,
             95,
             90,
             83,
             76,
             178,
             62,
             75,
             64,
             232,
             235,
             78,
             63,
             70,
             69,
             145,
             158,
             126,
             107,
             73,
             64,
             64,
             268
            ],
            "sizemode": "area",
            "sizeref": 0.53,
            "symbol": "circle"
           },
           "mode": "markers",
           "name": "Europe",
           "orientation": "v",
           "showlegend": true,
           "type": "scatter",
           "x": [
            6.00927734,
            9.5311327,
            9.16102505,
            6.52544594,
            6.97907209,
            9.16879559,
            4.76530361,
            8.2841177,
            10.38566494,
            10.17961693,
            8.25866985,
            7.78737354,
            8.55709076,
            7.51655483,
            8.43673038,
            5.71834707,
            5.84418154,
            6.70838261,
            8.80992031,
            9.08058071,
            7.91272211,
            5.80280542,
            5.07106066,
            8.48804665,
            7.82322741,
            7.82912683,
            8.05226517,
            9.53341675,
            6.41695166
           ],
           "xaxis": "x",
           "y": [
            0,
            218.9,
            214.9,
            186.53,
            248.22,
            162.07999999999998,
            242.63,
            233.8,
            220.63,
            152.52,
            45.41,
            312.66,
            106.39,
            126.46,
            81.61,
            288.9,
            400.57,
            183.79,
            87.21000000000001,
            113.19,
            142.67,
            182.85,
            149.09,
            286.07,
            347.87,
            99.87,
            160.76,
            241.63,
            282.79
           ],
           "yaxis": "y"
          },
          {
           "hovertemplate": "<b>%{hovertext}</b><br><br>Continent=North America<br>Year=2006<br>GDP=%{x}<br>suicides_per_100k=%{y}<br>Both sexes=%{marker.size}<extra></extra>",
           "hovertext": [
            "Antigua and Barbuda",
            "Barbados",
            "Belize",
            "Canada",
            "Costa Rica",
            "Cuba",
            "El Salvador",
            "Grenada",
            "Guatemala",
            "Jamaica",
            "Mexico",
            "Panama",
            "Trinidad and Tobago"
           ],
           "ids": [
            "Antigua and Barbuda",
            "Barbados",
            "Belize",
            "Canada",
            "Costa Rica",
            "Cuba",
            "El Salvador",
            "Grenada",
            "Guatemala",
            "Jamaica",
            "Mexico",
            "Panama",
            "Trinidad and Tobago"
           ],
           "legendgroup": "North America",
           "marker": {
            "color": "#FF7F0E",
            "size": [
             155,
             113,
             185,
             74,
             104,
             103,
             203,
             167,
             205,
             154,
             131,
             119,
             189
            ],
            "sizemode": "area",
            "sizeref": 0.53,
            "symbol": "circle"
           },
           "mode": "markers",
           "name": "North America",
           "orientation": "v",
           "showlegend": true,
           "type": "scatter",
           "x": [
            4.63347101,
            6.58324289,
            4.56418276,
            9.34210205,
            6.93530893,
            8.2719059,
            7.92342138,
            5.11352158,
            6.36372948,
            4.20788145,
            5.65525532,
            6.45193529,
            4.15432024
           ],
           "xaxis": "x",
           "y": [
            0,
            45.38,
            37.92,
            126.43,
            100.83,
            202.55,
            99.57,
            9.89,
            41.95,
            0,
            59.22,
            91.63,
            133.89
           ],
           "yaxis": "y"
          },
          {
           "hovertemplate": "<b>%{hovertext}</b><br><br>Continent=South America<br>Year=2006<br>GDP=%{x}<br>suicides_per_100k=%{y}<br>Both sexes=%{marker.size}<extra></extra>",
           "hovertext": [
            "Argentina",
            "Brazil",
            "Chile",
            "Colombia",
            "Ecuador",
            "Guyana",
            "Paraguay",
            "Suriname",
            "Uruguay"
           ],
           "ids": [
            "Argentina",
            "Brazil",
            "Chile",
            "Colombia",
            "Ecuador",
            "Guyana",
            "Paraguay",
            "Suriname",
            "Uruguay"
           ],
           "legendgroup": "South America",
           "marker": {
            "color": "#2CA02C",
            "size": [
             124,
             160,
             93,
             146,
             144,
             267,
             161,
             203,
             118
            ],
            "sizemode": "area",
            "sizeref": 0.53,
            "symbol": "circle"
           },
           "mode": "markers",
           "name": "South America",
           "orientation": "v",
           "showlegend": true,
           "type": "scatter",
           "x": [
            7.64032841,
            8.24952602,
            6.03516722,
            6.33551502,
            5.70302916,
            3.93144441,
            5.01927567,
            6.27044153,
            7.74287415
           ],
           "xaxis": "x",
           "y": [
            128.22,
            69.89999999999999,
            155.06,
            78.41,
            93.07,
            394.6,
            65.57000000000001,
            298.26,
            248.11
           ],
           "yaxis": "y"
          },
          {
           "hovertemplate": "<b>%{hovertext}</b><br><br>Continent=Asia<br>Year=2006<br>GDP=%{x}<br>suicides_per_100k=%{y}<br>Both sexes=%{marker.size}<extra></extra>",
           "hovertext": [
            "Armenia",
            "Bahrain",
            "Cyprus",
            "Georgia",
            "Israel",
            "Japan",
            "Kazakhstan",
            "Kuwait",
            "Philippines",
            "Qatar",
            "Singapore",
            "Sri Lanka",
            "Thailand",
            "United Arab Emirates"
           ],
           "ids": [
            "Armenia",
            "Bahrain",
            "Cyprus",
            "Georgia",
            "Israel",
            "Japan",
            "Kazakhstan",
            "Kuwait",
            "Philippines",
            "Qatar",
            "Singapore",
            "Sri Lanka",
            "Thailand",
            "United Arab Emirates"
           ],
           "legendgroup": "Asia",
           "marker": {
            "color": "#D62728",
            "size": [
             145,
             89,
             64,
             145,
             69,
             67,
             299,
             87,
             215,
             66,
             71,
             145,
             174,
             88
            ],
            "sizemode": "area",
            "sizeref": 0.53,
            "symbol": "circle"
           },
           "mode": "markers",
           "name": "Asia",
           "orientation": "v",
           "showlegend": true,
           "type": "scatter",
           "x": [
            5.85007095,
            3.06248927,
            5.46357489,
            7.63208055,
            6.9061389,
            7.68688822,
            3.39824939,
            1.82130992,
            3.77762771,
            2.28806424,
            2.9347465,
            3.97986174,
            3.09970856,
            2.3254137
           ],
           "xaxis": "x",
           "y": [
            43.67,
            27.18,
            27.64,
            23.51,
            80.52,
            262.24,
            374.73,
            15.83,
            36.66,
            87.30000000000001,
            148.75,
            328.73,
            69.04,
            16.55
           ],
           "yaxis": "y"
          },
          {
           "hovertemplate": "<b>%{hovertext}</b><br><br>Continent=Oceania<br>Year=2006<br>GDP=%{x}<br>suicides_per_100k=%{y}<br>Both sexes=%{marker.size}<extra></extra>",
           "hovertext": [
            "Australia",
            "Fiji",
            "New Zealand"
           ],
           "ids": [
            "Australia",
            "Fiji",
            "New Zealand"
           ],
           "legendgroup": "Oceania",
           "marker": {
            "color": "#9467BD",
            "size": [
             65,
             212,
             75
            ],
            "sizemode": "area",
            "sizeref": 0.53,
            "symbol": "circle"
           },
           "mode": "markers",
           "name": "Oceania",
           "orientation": "v",
           "showlegend": true,
           "type": "scatter",
           "x": [
            7.98943853,
            3.34798169,
            8.63841629
           ],
           "xaxis": "x",
           "y": [
            127.89,
            30.77,
            156.74
           ],
           "yaxis": "y"
          },
          {
           "hovertemplate": "<b>%{hovertext}</b><br><br>Continent=Africa<br>Year=2006<br>GDP=%{x}<br>suicides_per_100k=%{y}<br>Both sexes=%{marker.size}<extra></extra>",
           "hovertext": [
            "Mauritius",
            "Seychelles",
            "South Africa"
           ],
           "ids": [
            "Mauritius",
            "Seychelles",
            "South Africa"
           ],
           "legendgroup": "Africa",
           "marker": {
            "color": "#8C564B",
            "size": [
             162,
             185,
             477
            ],
            "sizemode": "area",
            "sizeref": 0.53,
            "symbol": "circle"
           },
           "mode": "markers",
           "name": "Africa",
           "orientation": "v",
           "showlegend": true,
           "type": "scatter",
           "x": [
            3.65428853,
            4.67937088,
            7.6922164
           ],
           "xaxis": "x",
           "y": [
            163.68,
            275.75,
            17.92
           ],
           "yaxis": "y"
          }
         ],
         "name": "2006"
        },
        {
         "data": [
          {
           "hovertemplate": "<b>%{hovertext}</b><br><br>Continent=Europe<br>Year=2007<br>GDP=%{x}<br>suicides_per_100k=%{y}<br>Both sexes=%{marker.size}<extra></extra>",
           "hovertext": [
            "Albania",
            "Austria",
            "Belarus",
            "Belgium",
            "Bulgaria",
            "Croatia",
            "Denmark",
            "Estonia",
            "Finland",
            "France",
            "Germany",
            "Greece",
            "Hungary",
            "Iceland",
            "Ireland",
            "Italy",
            "Latvia",
            "Lithuania",
            "Luxembourg",
            "Malta",
            "Netherlands",
            "Norway",
            "Poland",
            "Portugal",
            "Romania",
            "Serbia",
            "Slovenia",
            "Spain",
            "Sweden",
            "Switzerland",
            "Ukraine"
           ],
           "ids": [
            "Albania",
            "Austria",
            "Belarus",
            "Belgium",
            "Bulgaria",
            "Croatia",
            "Denmark",
            "Estonia",
            "Finland",
            "France",
            "Germany",
            "Greece",
            "Hungary",
            "Iceland",
            "Ireland",
            "Italy",
            "Latvia",
            "Lithuania",
            "Luxembourg",
            "Malta",
            "Netherlands",
            "Norway",
            "Poland",
            "Portugal",
            "Romania",
            "Serbia",
            "Slovenia",
            "Spain",
            "Sweden",
            "Switzerland",
            "Ukraine"
           ],
           "legendgroup": "Europe",
           "marker": {
            "color": "#1F77B4",
            "size": [
             101,
             80,
             230,
             86,
             153,
             115,
             91,
             187,
             96,
             88,
             82,
             78,
             176,
             60,
             72,
             62,
             224,
             246,
             75,
             65,
             67,
             67,
             145,
             92,
             155,
             123,
             102,
             72,
             63,
             62,
             278
            ],
            "sizemode": "area",
            "sizeref": 0.53,
            "symbol": "circle"
           },
           "mode": "markers",
           "name": "Europe",
           "orientation": "v",
           "showlegend": true,
           "type": "scatter",
           "x": [
            6.31683397,
            9.53209686,
            5.69203281,
            9.16611385,
            6.16035938,
            7.47507524,
            9.3251543,
            4.98330879,
            8.08359337,
            10.31564426,
            10.05104923,
            8.39808178,
            7.21529293,
            8.3535862,
            7.80535555,
            8.13610077,
            5.52228498,
            5.7643218,
            6.23472404,
            8.16883469,
            9.05291939,
            8.05085373,
            5.87339211,
            9.25186634,
            5.02223349,
            9.37001324,
            7.51139164,
            7.9183569,
            7.99607706,
            9.36357594,
            6.01705217
           ],
           "xaxis": "x",
           "y": [
            65.85,
            217.31,
            355.89,
            208.57,
            173.76999999999998,
            243.45,
            139.96,
            265.05,
            223.08,
            213.69,
            146.52,
            33.91,
            327.32,
            163.29,
            121.77,
            81.96000000000001,
            295.75,
            406.79,
            183.89,
            73.84,
            97.44,
            127.77,
            166.47,
            143.55,
            136.06,
            258.45,
            291.45,
            98.95,
            147.39,
            255.81,
            281.12
           ],
           "yaxis": "y"
          },
          {
           "hovertemplate": "<b>%{hovertext}</b><br><br>Continent=North America<br>Year=2007<br>GDP=%{x}<br>suicides_per_100k=%{y}<br>Both sexes=%{marker.size}<extra></extra>",
           "hovertext": [
            "Antigua and Barbuda",
            "Barbados",
            "Belize",
            "Canada",
            "Costa Rica",
            "Cuba",
            "El Salvador",
            "Grenada",
            "Guatemala",
            "Mexico",
            "Panama",
            "Trinidad and Tobago"
           ],
           "ids": [
            "Antigua and Barbuda",
            "Barbados",
            "Belize",
            "Canada",
            "Costa Rica",
            "Cuba",
            "El Salvador",
            "Grenada",
            "Guatemala",
            "Mexico",
            "Panama",
            "Trinidad and Tobago"
           ],
           "legendgroup": "North America",
           "marker": {
            "color": "#FF7F0E",
            "size": [
             149,
             112,
             181,
             74,
             91,
             102,
             200,
             164,
             191,
             129,
             119,
             188
            ],
            "sizemode": "area",
            "sizeref": 0.53,
            "symbol": "circle"
           },
           "mode": "markers",
           "name": "North America",
           "orientation": "v",
           "showlegend": true,
           "type": "scatter",
           "x": [
            4.44986248,
            6.05583191,
            5.32664824,
            9.44500446,
            6.99642754,
            10.96749115,
            7.63829565,
            5.23867893,
            6.19192553,
            5.76644516,
            6.92857409,
            4.1536026
           ],
           "xaxis": "x",
           "y": [
            7.98,
            0,
            78.49000000000001,
            127.45,
            75.35,
            188.18,
            127.14,
            48.34,
            40.27,
            58.01,
            71.9,
            143.58
           ],
           "yaxis": "y"
          },
          {
           "hovertemplate": "<b>%{hovertext}</b><br><br>Continent=South America<br>Year=2007<br>GDP=%{x}<br>suicides_per_100k=%{y}<br>Both sexes=%{marker.size}<extra></extra>",
           "hovertext": [
            "Argentina",
            "Brazil",
            "Chile",
            "Colombia",
            "Ecuador",
            "Guyana",
            "Paraguay",
            "Suriname",
            "Uruguay"
           ],
           "ids": [
            "Argentina",
            "Brazil",
            "Chile",
            "Colombia",
            "Ecuador",
            "Guyana",
            "Paraguay",
            "Suriname",
            "Uruguay"
           ],
           "legendgroup": "South America",
           "marker": {
            "color": "#2CA02C",
            "size": [
             126,
             158,
             93,
             141,
             141,
             257,
             159,
             200,
             124
            ],
            "sizemode": "area",
            "sizeref": 0.53,
            "symbol": "circle"
           },
           "mode": "markers",
           "name": "South America",
           "orientation": "v",
           "showlegend": true,
           "type": "scatter",
           "x": [
            7.83455086,
            8.20183945,
            6.17537546,
            6.49102831,
            5.33981323,
            4.28126192,
            5.02042675,
            5.59070206,
            7.49349833
           ],
           "xaxis": "x",
           "y": [
            118.35,
            71.68,
            150.92000000000002,
            74.25,
            95.97,
            373.75,
            62.51,
            356.14,
            266.31
           ],
           "yaxis": "y"
          },
          {
           "hovertemplate": "<b>%{hovertext}</b><br><br>Continent=Asia<br>Year=2007<br>GDP=%{x}<br>suicides_per_100k=%{y}<br>Both sexes=%{marker.size}<extra></extra>",
           "hovertext": [
            "Armenia",
            "Azerbaijan",
            "Bahrain",
            "Cyprus",
            "Georgia",
            "Israel",
            "Japan",
            "Kazakhstan",
            "Kuwait",
            "Maldives",
            "Philippines",
            "Qatar",
            "Singapore",
            "Thailand",
            "United Arab Emirates"
           ],
           "ids": [
            "Armenia",
            "Azerbaijan",
            "Bahrain",
            "Cyprus",
            "Georgia",
            "Israel",
            "Japan",
            "Kazakhstan",
            "Kuwait",
            "Maldives",
            "Philippines",
            "Qatar",
            "Singapore",
            "Thailand",
            "United Arab Emirates"
           ],
           "legendgroup": "Asia",
           "marker": {
            "color": "#D62728",
            "size": [
             137,
             141,
             80,
             70,
             140,
             67,
             66,
             293,
             86,
             83,
             208,
             66,
             68,
             170,
             86
            ],
            "sizemode": "area",
            "sizeref": 0.53,
            "symbol": "circle"
           },
           "mode": "markers",
           "name": "Asia",
           "orientation": "v",
           "showlegend": true,
           "type": "scatter",
           "x": [
            5.49814558,
            1.99021435,
            3.30373311,
            5.35744858,
            7.4351778,
            6.88173389,
            7.77935696,
            2.70314932,
            1.92673659,
            8.30568123,
            3.75318241,
            2.07008052,
            2.83749056,
            3.19277525,
            2.56569624
           ],
           "xaxis": "x",
           "y": [
            39.02,
            11.83,
            32.09,
            36.17,
            36.59,
            73.67,
            268.76,
            375.63,
            13.02,
            14.36,
            29.17,
            28.61,
            165.76,
            79.14,
            15.99
           ],
           "yaxis": "y"
          },
          {
           "hovertemplate": "<b>%{hovertext}</b><br><br>Continent=Oceania<br>Year=2007<br>GDP=%{x}<br>suicides_per_100k=%{y}<br>Both sexes=%{marker.size}<extra></extra>",
           "hovertext": [
            "Australia",
            "Fiji",
            "New Zealand"
           ],
           "ids": [
            "Australia",
            "Fiji",
            "New Zealand"
           ],
           "legendgroup": "Oceania",
           "marker": {
            "color": "#9467BD",
            "size": [
             65,
             209,
             76
            ],
            "sizemode": "area",
            "sizeref": 0.53,
            "symbol": "circle"
           },
           "mode": "markers",
           "name": "Oceania",
           "orientation": "v",
           "showlegend": true,
           "type": "scatter",
           "x": [
            8.06755352,
            3.41514993,
            8.32904434
           ],
           "xaxis": "x",
           "y": [
            130.25,
            20.46,
            148.19
           ],
           "yaxis": "y"
          },
          {
           "hovertemplate": "<b>%{hovertext}</b><br><br>Continent=Africa<br>Year=2007<br>GDP=%{x}<br>suicides_per_100k=%{y}<br>Both sexes=%{marker.size}<extra></extra>",
           "hovertext": [
            "Mauritius",
            "Seychelles",
            "South Africa"
           ],
           "ids": [
            "Mauritius",
            "Seychelles",
            "South Africa"
           ],
           "legendgroup": "Africa",
           "marker": {
            "color": "#8C564B",
            "size": [
             160,
             185,
             475
            ],
            "sizemode": "area",
            "sizeref": 0.53,
            "symbol": "circle"
           },
           "mode": "markers",
           "name": "Africa",
           "orientation": "v",
           "showlegend": true,
           "type": "scatter",
           "x": [
            3.57065129,
            4.09072113,
            7.68138409
           ],
           "xaxis": "x",
           "y": [
            141.45,
            147.64,
            12.12
           ],
           "yaxis": "y"
          }
         ],
         "name": "2007"
        },
        {
         "data": [
          {
           "hovertemplate": "<b>%{hovertext}</b><br><br>Continent=Europe<br>Year=2008<br>GDP=%{x}<br>suicides_per_100k=%{y}<br>Both sexes=%{marker.size}<extra></extra>",
           "hovertext": [
            "Albania",
            "Austria",
            "Belarus",
            "Belgium",
            "Bulgaria",
            "Croatia",
            "Denmark",
            "Estonia",
            "Finland",
            "France",
            "Germany",
            "Greece",
            "Hungary",
            "Iceland",
            "Ireland",
            "Italy",
            "Latvia",
            "Lithuania",
            "Luxembourg",
            "Malta",
            "Netherlands",
            "Norway",
            "Poland",
            "Portugal",
            "Romania",
            "Serbia",
            "Slovenia",
            "Spain",
            "Sweden",
            "Switzerland",
            "Ukraine"
           ],
           "ids": [
            "Albania",
            "Austria",
            "Belarus",
            "Belgium",
            "Bulgaria",
            "Croatia",
            "Denmark",
            "Estonia",
            "Finland",
            "France",
            "Germany",
            "Greece",
            "Hungary",
            "Iceland",
            "Ireland",
            "Italy",
            "Latvia",
            "Lithuania",
            "Luxembourg",
            "Malta",
            "Netherlands",
            "Norway",
            "Poland",
            "Portugal",
            "Romania",
            "Serbia",
            "Slovenia",
            "Spain",
            "Sweden",
            "Switzerland",
            "Ukraine"
           ],
           "legendgroup": "Europe",
           "marker": {
            "color": "#1F77B4",
            "size": [
             102,
             76,
             228,
             86,
             150,
             117,
             86,
             164,
             94,
             87,
             81,
             75,
             164,
             57,
             72,
             61,
             200,
             229,
             69,
             62,
             67,
             66,
             142,
             89,
             160,
             122,
             96,
             70,
             62,
             59,
             275
            ],
            "sizemode": "area",
            "sizeref": 0.53,
            "symbol": "circle"
           },
           "mode": "markers",
           "name": "Europe",
           "orientation": "v",
           "showlegend": true,
           "type": "scatter",
           "x": [
            5.1390624,
            9.72564602,
            5.29415369,
            9.63002014,
            6.28771019,
            7.72871161,
            9.51134396,
            5.71032381,
            8.34310627,
            10.50084686,
            10.25105095,
            8.82774258,
            7.09688091,
            8.34370804,
            9.10927963,
            8.53282356,
            5.6001029,
            6.29453754,
            6.53840208,
            7.8633585,
            9.27664948,
            7.96075296,
            6.37592173,
            9.58307838,
            5.02274227,
            9.47590065,
            7.85466576,
            8.3818779,
            8.20824242,
            9.48092747,
            5.49728012
           ],
           "xaxis": "x",
           "y": [
            71.05,
            216.45,
            352.16,
            221.54,
            170.34,
            265.69,
            143.05,
            244.57,
            220.29,
            216.21,
            145.52,
            40.3,
            331.68,
            136.09,
            129.56,
            81.69,
            323.69,
            430.05,
            112.31,
            38.68,
            102.09,
            132.03,
            177.38,
            141.02,
            140.4,
            242.61,
            263.09,
            98.52,
            155.68,
            237.51,
            274.5
           ],
           "yaxis": "y"
          },
          {
           "hovertemplate": "<b>%{hovertext}</b><br><br>Continent=North America<br>Year=2008<br>GDP=%{x}<br>suicides_per_100k=%{y}<br>Both sexes=%{marker.size}<extra></extra>",
           "hovertext": [
            "Antigua and Barbuda",
            "Barbados",
            "Belize",
            "Canada",
            "Costa Rica",
            "Cuba",
            "El Salvador",
            "Grenada",
            "Guatemala",
            "Mexico",
            "Panama",
            "Trinidad and Tobago"
           ],
           "ids": [
            "Antigua and Barbuda",
            "Barbados",
            "Belize",
            "Canada",
            "Costa Rica",
            "Cuba",
            "El Salvador",
            "Grenada",
            "Guatemala",
            "Mexico",
            "Panama",
            "Trinidad and Tobago"
           ],
           "legendgroup": "North America",
           "marker": {
            "color": "#FF7F0E",
            "size": [
             147,
             112,
             183,
             73,
             97,
             100,
             198,
             162,
             186,
             133,
             122,
             195
            ],
            "sizemode": "area",
            "sizeref": 0.53,
            "symbol": "circle"
           },
           "mode": "markers",
           "name": "North America",
           "orientation": "v",
           "showlegend": true,
           "type": "scatter",
           "x": [
            4.2048173,
            6.47676373,
            5.68234491,
            9.60709858,
            7.46854544,
            11.31422806,
            7.66487646,
            5.386199,
            6.08125973,
            5.69886971,
            6.84644938,
            3.65757036
           ],
           "xaxis": "x",
           "y": [
            0,
            2.31,
            86.36,
            127.59,
            72.27,
            190.99,
            125.82,
            0,
            54.76,
            60.83,
            73.3,
            178.25
           ],
           "yaxis": "y"
          },
          {
           "hovertemplate": "<b>%{hovertext}</b><br><br>Continent=South America<br>Year=2008<br>GDP=%{x}<br>suicides_per_100k=%{y}<br>Both sexes=%{marker.size}<extra></extra>",
           "hovertext": [
            "Argentina",
            "Brazil",
            "Chile",
            "Colombia",
            "Ecuador",
            "Guyana",
            "Paraguay",
            "Suriname",
            "Uruguay"
           ],
           "ids": [
            "Argentina",
            "Brazil",
            "Chile",
            "Colombia",
            "Ecuador",
            "Guyana",
            "Paraguay",
            "Suriname",
            "Uruguay"
           ],
           "legendgroup": "South America",
           "marker": {
            "color": "#2CA02C",
            "size": [
             123,
             157,
             91,
             142,
             141,
             249,
             157,
             200,
             119
            ],
            "sizemode": "area",
            "sizeref": 0.53,
            "symbol": "circle"
           },
           "mode": "markers",
           "name": "South America",
           "orientation": "v",
           "showlegend": true,
           "type": "scatter",
           "x": [
            8.18266869,
            8.01129246,
            6.74047899,
            6.84192705,
            5.3773427,
            4.20242214,
            5.04564476,
            5.08278036,
            8.12533188
           ],
           "xaxis": "x",
           "y": [
            118.11,
            72.21,
            167.88,
            74.22,
            95.29,
            353.62,
            58.32,
            416.82,
            234.53
           ],
           "yaxis": "y"
          },
          {
           "hovertemplate": "<b>%{hovertext}</b><br><br>Continent=Asia<br>Year=2008<br>GDP=%{x}<br>suicides_per_100k=%{y}<br>Both sexes=%{marker.size}<extra></extra>",
           "hovertext": [
            "Armenia",
            "Bahrain",
            "Cyprus",
            "Israel",
            "Japan",
            "Kazakhstan",
            "Kuwait",
            "Maldives",
            "Philippines",
            "Qatar",
            "Singapore",
            "Thailand",
            "United Arab Emirates"
           ],
           "ids": [
            "Armenia",
            "Bahrain",
            "Cyprus",
            "Israel",
            "Japan",
            "Kazakhstan",
            "Kuwait",
            "Maldives",
            "Philippines",
            "Qatar",
            "Singapore",
            "Thailand",
            "United Arab Emirates"
           ],
           "legendgroup": "Asia",
           "marker": {
            "color": "#D62728",
            "size": [
             144,
             73,
             68,
             64,
             64,
             264,
             85,
             80,
             207,
             65,
             67,
             167,
             85
            ],
            "sizemode": "area",
            "sizeref": 0.53,
            "symbol": "circle"
           },
           "mode": "markers",
           "name": "Asia",
           "orientation": "v",
           "showlegend": true,
           "type": "scatter",
           "x": [
            6.6397624,
            3.28510404,
            6.01427698,
            6.96061993,
            8.08909321,
            3.04952621,
            1.92400312,
            11.47104168,
            3.8631587,
            1.63775349,
            3.19488454,
            3.45933914,
            2.92847776
           ],
           "xaxis": "x",
           "y": [
            35.15,
            27.89,
            59.07,
            87.33,
            265.32,
            366.94,
            11.76,
            0,
            33.05,
            13.55,
            150.25,
            78.18,
            11.86
           ],
           "yaxis": "y"
          },
          {
           "hovertemplate": "<b>%{hovertext}</b><br><br>Continent=Oceania<br>Year=2008<br>GDP=%{x}<br>suicides_per_100k=%{y}<br>Both sexes=%{marker.size}<extra></extra>",
           "hovertext": [
            "Australia",
            "Fiji",
            "New Zealand"
           ],
           "ids": [
            "Australia",
            "Fiji",
            "New Zealand"
           ],
           "legendgroup": "Oceania",
           "marker": {
            "color": "#9467BD",
            "size": [
             64,
             206,
             74
            ],
            "sizemode": "area",
            "sizeref": 0.53,
            "symbol": "circle"
           },
           "mode": "markers",
           "name": "Oceania",
           "orientation": "v",
           "showlegend": true,
           "type": "scatter",
           "x": [
            8.25585651,
            3.1846714,
            9.12382889
           ],
           "xaxis": "x",
           "y": [
            130.49,
            47.48,
            151.78
           ],
           "yaxis": "y"
          },
          {
           "hovertemplate": "<b>%{hovertext}</b><br><br>Continent=Africa<br>Year=2008<br>GDP=%{x}<br>suicides_per_100k=%{y}<br>Both sexes=%{marker.size}<extra></extra>",
           "hovertext": [
            "Mauritius",
            "Seychelles",
            "South Africa"
           ],
           "ids": [
            "Mauritius",
            "Seychelles",
            "South Africa"
           ],
           "legendgroup": "Africa",
           "marker": {
            "color": "#8C564B",
            "size": [
             165,
             185,
             458
            ],
            "sizemode": "area",
            "sizeref": 0.53,
            "symbol": "circle"
           },
           "mode": "markers",
           "name": "Africa",
           "orientation": "v",
           "showlegend": true,
           "type": "scatter",
           "x": [
            3.99199653,
            3.98245716,
            7.88024807
           ],
           "xaxis": "x",
           "y": [
            78.13,
            39.07,
            14.14
           ],
           "yaxis": "y"
          }
         ],
         "name": "2008"
        },
        {
         "data": [
          {
           "hovertemplate": "<b>%{hovertext}</b><br><br>Continent=Europe<br>Year=2009<br>GDP=%{x}<br>suicides_per_100k=%{y}<br>Both sexes=%{marker.size}<extra></extra>",
           "hovertext": [
            "Albania",
            "Austria",
            "Belarus",
            "Belgium",
            "Bulgaria",
            "Croatia",
            "Denmark",
            "Estonia",
            "Finland",
            "France",
            "Germany",
            "Greece",
            "Hungary",
            "Iceland",
            "Ireland",
            "Italy",
            "Latvia",
            "Lithuania",
            "Luxembourg",
            "Malta",
            "Netherlands",
            "Norway",
            "Poland",
            "Portugal",
            "Romania",
            "Serbia",
            "Slovenia",
            "Spain",
            "Sweden",
            "Switzerland",
            "Ukraine"
           ],
           "ids": [
            "Albania",
            "Austria",
            "Belarus",
            "Belgium",
            "Bulgaria",
            "Croatia",
            "Denmark",
            "Estonia",
            "Finland",
            "France",
            "Germany",
            "Greece",
            "Hungary",
            "Iceland",
            "Ireland",
            "Italy",
            "Latvia",
            "Lithuania",
            "Luxembourg",
            "Malta",
            "Netherlands",
            "Norway",
            "Poland",
            "Portugal",
            "Romania",
            "Serbia",
            "Slovenia",
            "Spain",
            "Sweden",
            "Switzerland",
            "Ukraine"
           ],
           "legendgroup": "Europe",
           "marker": {
            "color": "#1F77B4",
            "size": [
             103,
             77,
             225,
             84,
             147,
             109,
             84,
             154,
             90,
             87,
             80,
             76,
             160,
             55,
             74,
             60,
             185,
             197,
             67,
             61,
             65,
             67,
             137,
             88,
             160,
             120,
             91,
             67,
             61,
             59,
             235
            ],
            "sizemode": "area",
            "sizeref": 0.53,
            "symbol": "circle"
           },
           "mode": "markers",
           "name": "Europe",
           "orientation": "v",
           "showlegend": true,
           "type": "scatter",
           "x": [
            4.6022253,
            10.22582531,
            5.39037848,
            10.35455036,
            6.59577608,
            8.17583179,
            10.67432022,
            6.51218891,
            9.16122246,
            11.28756237,
            11.23758507,
            9.40688515,
            7.2392807,
            8.77518463,
            10.5062685,
            8.95162296,
            6.11926985,
            7.36587334,
            7.33979321,
            7.9238286,
            9.99291134,
            9.07431507,
            6.587708,
            10.13070393,
            5.27841282,
            9.3397665,
            8.540802,
            9.10707188,
            8.77037907,
            10.06906986,
            6.60771894
           ],
           "xaxis": "x",
           "y": [
            0,
            213.22,
            375.54,
            218.35,
            154.42,
            254.29,
            144.7,
            248.67,
            228.49,
            216.24,
            145.52,
            40.97,
            310.72,
            123.73,
            132.63,
            81.92999999999999,
            307.8,
            437.07,
            110.95,
            107.12,
            108.3,
            145.74,
            197.1,
            139.7,
            144.02,
            258.43,
            268.71,
            98.02,
            160.4,
            180.13,
            279.26
           ],
           "yaxis": "y"
          },
          {
           "hovertemplate": "<b>%{hovertext}</b><br><br>Continent=North America<br>Year=2009<br>GDP=%{x}<br>suicides_per_100k=%{y}<br>Both sexes=%{marker.size}<extra></extra>",
           "hovertext": [
            "Antigua and Barbuda",
            "Barbados",
            "Belize",
            "Canada",
            "Costa Rica",
            "Cuba",
            "El Salvador",
            "Grenada",
            "Guatemala",
            "Jamaica",
            "Mexico",
            "Panama",
            "Trinidad and Tobago"
           ],
           "ids": [
            "Antigua and Barbuda",
            "Barbados",
            "Belize",
            "Canada",
            "Costa Rica",
            "Cuba",
            "El Salvador",
            "Grenada",
            "Guatemala",
            "Jamaica",
            "Mexico",
            "Panama",
            "Trinidad and Tobago"
           ],
           "legendgroup": "North America",
           "marker": {
            "color": "#FF7F0E",
            "size": [
             138,
             110,
             183,
             71,
             96,
             99,
             197,
             158,
             191,
             143,
             136,
             122,
             185
            ],
            "sizemode": "area",
            "sizeref": 0.53,
            "symbol": "circle"
           },
           "mode": "markers",
           "name": "North America",
           "orientation": "v",
           "showlegend": true,
           "type": "scatter",
           "x": [
            4.19123125,
            7.1486845,
            5.85314894,
            10.71716499,
            7.86019039,
            12.29053974,
            8.39771748,
            5.43471003,
            6.33950901,
            5.14652538,
            6.12978458,
            6.99648428,
            5.48676443
           ],
           "xaxis": "x",
           "y": [
            0,
            28.8,
            57.76,
            130.67,
            77.37,
            201.33,
            124.12,
            0,
            57.57,
            21.13,
            64.14,
            68.29,
            120.24
           ],
           "yaxis": "y"
          },
          {
           "hovertemplate": "<b>%{hovertext}</b><br><br>Continent=South America<br>Year=2009<br>GDP=%{x}<br>suicides_per_100k=%{y}<br>Both sexes=%{marker.size}<extra></extra>",
           "hovertext": [
            "Argentina",
            "Brazil",
            "Chile",
            "Colombia",
            "Ecuador",
            "Guyana",
            "Paraguay",
            "Suriname",
            "Uruguay"
           ],
           "ids": [
            "Argentina",
            "Brazil",
            "Chile",
            "Colombia",
            "Ecuador",
            "Guyana",
            "Paraguay",
            "Suriname",
            "Uruguay"
           ],
           "legendgroup": "South America",
           "marker": {
            "color": "#2CA02C",
            "size": [
             123,
             156,
             94,
             147,
             137,
             252,
             154,
             197,
             118
            ],
            "sizemode": "area",
            "sizeref": 0.53,
            "symbol": "circle"
           },
           "mode": "markers",
           "name": "South America",
           "orientation": "v",
           "showlegend": true,
           "type": "scatter",
           "x": [
            9.45598793,
            8.39480209,
            7.20918465,
            7.31134653,
            5.6990099,
            4.35117102,
            5.52839279,
            5.33047295,
            7.9498806
           ],
           "xaxis": "x",
           "y": [
            107.32,
            70.37,
            174.29999999999998,
            73.83,
            94.25,
            301.78,
            67.33,
            369.71,
            237.75
           ],
           "yaxis": "y"
          },
          {
           "hovertemplate": "<b>%{hovertext}</b><br><br>Continent=Asia<br>Year=2009<br>GDP=%{x}<br>suicides_per_100k=%{y}<br>Both sexes=%{marker.size}<extra></extra>",
           "hovertext": [
            "Armenia",
            "Bahrain",
            "Cyprus",
            "Georgia",
            "Israel",
            "Japan",
            "Kazakhstan",
            "Kuwait",
            "Oman",
            "Philippines",
            "Qatar",
            "Singapore",
            "Thailand",
            "United Arab Emirates",
            "Uzbekistan"
           ],
           "ids": [
            "Armenia",
            "Bahrain",
            "Cyprus",
            "Georgia",
            "Israel",
            "Japan",
            "Kazakhstan",
            "Kuwait",
            "Oman",
            "Philippines",
            "Qatar",
            "Singapore",
            "Thailand",
            "United Arab Emirates",
            "Uzbekistan"
           ],
           "legendgroup": "Asia",
           "marker": {
            "color": "#D62728",
            "size": [
             142,
             69,
             68,
             156,
             61,
             63,
             240,
             85,
             108,
             207,
             65,
             62,
             164,
             83,
             149
            ],
            "sizemode": "area",
            "sizeref": 0.53,
            "symbol": "circle"
           },
           "mode": "markers",
           "name": "Asia",
           "orientation": "v",
           "showlegend": true,
           "type": "scatter",
           "x": [
            8.44377995,
            4.05684614,
            6.46531582,
            9.56681633,
            7.06538868,
            8.9587822,
            3.49913716,
            2.70638752,
            2.8300879,
            4.16451931,
            2.38356304,
            3.39853096,
            3.61939621,
            4.04999352,
            5.08302879
           ],
           "xaxis": "x",
           "y": [
            33.7,
            24.59,
            55.53,
            65.06,
            80.32,
            266.69,
            330.07,
            14.81,
            21.19,
            34.89,
            19.9,
            149.58,
            78.56,
            11.73,
            60.86
           ],
           "yaxis": "y"
          },
          {
           "hovertemplate": "<b>%{hovertext}</b><br><br>Continent=Oceania<br>Year=2009<br>GDP=%{x}<br>suicides_per_100k=%{y}<br>Both sexes=%{marker.size}<extra></extra>",
           "hovertext": [
            "Australia",
            "Fiji",
            "New Zealand"
           ],
           "ids": [
            "Australia",
            "Fiji",
            "New Zealand"
           ],
           "legendgroup": "Oceania",
           "marker": {
            "color": "#9467BD",
            "size": [
             65,
             203,
             73
            ],
            "sizemode": "area",
            "sizeref": 0.53,
            "symbol": "circle"
           },
           "mode": "markers",
           "name": "Oceania",
           "orientation": "v",
           "showlegend": true,
           "type": "scatter",
           "x": [
            8.56316471,
            3.53587651,
            9.62076378
           ],
           "xaxis": "x",
           "y": [
            130.12,
            51.67,
            153
           ],
           "yaxis": "y"
          },
          {
           "hovertemplate": "<b>%{hovertext}</b><br><br>Continent=Africa<br>Year=2009<br>GDP=%{x}<br>suicides_per_100k=%{y}<br>Both sexes=%{marker.size}<extra></extra>",
           "hovertext": [
            "Mauritius",
            "Seychelles",
            "South Africa"
           ],
           "ids": [
            "Mauritius",
            "Seychelles",
            "South Africa"
           ],
           "legendgroup": "Africa",
           "marker": {
            "color": "#8C564B",
            "size": [
             165,
             183,
             435
            ],
            "sizemode": "area",
            "sizeref": 0.53,
            "symbol": "circle"
           },
           "mode": "markers",
           "name": "Africa",
           "orientation": "v",
           "showlegend": true,
           "type": "scatter",
           "x": [
            4.2265029,
            3.88551354,
            8.52350235
           ],
           "xaxis": "x",
           "y": [
            106.07,
            43.81,
            10.71
           ],
           "yaxis": "y"
          }
         ],
         "name": "2009"
        },
        {
         "data": [
          {
           "hovertemplate": "<b>%{hovertext}</b><br><br>Continent=Europe<br>Year=2010<br>GDP=%{x}<br>suicides_per_100k=%{y}<br>Both sexes=%{marker.size}<extra></extra>",
           "hovertext": [
            "Albania",
            "Austria",
            "Belarus",
            "Belgium",
            "Bulgaria",
            "Croatia",
            "Denmark",
            "Estonia",
            "Finland",
            "France",
            "Germany",
            "Greece",
            "Hungary",
            "Iceland",
            "Ireland",
            "Italy",
            "Latvia",
            "Lithuania",
            "Luxembourg",
            "Malta",
            "Netherlands",
            "Norway",
            "Poland",
            "Portugal",
            "Romania",
            "Serbia",
            "Slovenia",
            "Spain",
            "Sweden",
            "Switzerland",
            "Ukraine"
           ],
           "ids": [
            "Albania",
            "Austria",
            "Belarus",
            "Belgium",
            "Bulgaria",
            "Croatia",
            "Denmark",
            "Estonia",
            "Finland",
            "France",
            "Germany",
            "Greece",
            "Hungary",
            "Iceland",
            "Ireland",
            "Italy",
            "Latvia",
            "Lithuania",
            "Luxembourg",
            "Malta",
            "Netherlands",
            "Norway",
            "Poland",
            "Portugal",
            "Romania",
            "Serbia",
            "Slovenia",
            "Spain",
            "Sweden",
            "Switzerland",
            "Ukraine"
           ],
           "legendgroup": "Europe",
           "marker": {
            "color": "#1F77B4",
            "size": [
             103,
             74,
             226,
             81,
             143,
             106,
             83,
             134,
             88,
             85,
             78,
             74,
             152,
             53,
             65,
             58,
             178,
             188,
             67,
             58,
             64,
             65,
             131,
             86,
             155,
             115,
             87,
             65,
             58,
             57,
             218
            ],
            "sizemode": "area",
            "sizeref": 0.53,
            "symbol": "circle"
           },
           "mode": "markers",
           "name": "Europe",
           "orientation": "v",
           "showlegend": true,
           "type": "scatter",
           "x": [
            4.7457962,
            10.22101879,
            5.65693998,
            10.23324585,
            7.13800573,
            8.0887022,
            10.33315945,
            6.27124023,
            9.14202785,
            11.22560215,
            11.09557819,
            9.59662342,
            7.46319818,
            8.36173058,
            10.50632477,
            8.91602039,
            6.11952686,
            6.81462288,
            7.03158236,
            7.95211124,
            10.15515518,
            8.90553188,
            6.41223288,
            10.03250504,
            5.76614237,
            9.52071667,
            8.56503296,
            9.1185751,
            8.31963825,
            9.94159698,
            6.8122654
           ],
           "xaxis": "x",
           "y": [
            41.66,
            207.55,
            331.98,
            220.18,
            158.25,
            241.97,
            130.02,
            229.07,
            215.21,
            211.17,
            152.17000000000002,
            39.9,
            321.31,
            184.27,
            120.3,
            80.77,
            259.34000000000003,
            395.24,
            141.16,
            82.11,
            109.49,
            136.43,
            190.64,
            148.84,
            150.04,
            234.48,
            265.59000000000003,
            87.44,
            146.54,
            160.52,
            263.07
           ],
           "yaxis": "y"
          },
          {
           "hovertemplate": "<b>%{hovertext}</b><br><br>Continent=North America<br>Year=2010<br>GDP=%{x}<br>suicides_per_100k=%{y}<br>Both sexes=%{marker.size}<extra></extra>",
           "hovertext": [
            "Barbados",
            "Belize",
            "Canada",
            "Costa Rica",
            "Cuba",
            "El Salvador",
            "Grenada",
            "Guatemala",
            "Jamaica",
            "Mexico",
            "Nicaragua",
            "Panama",
            "Trinidad and Tobago"
           ],
           "ids": [
            "Barbados",
            "Belize",
            "Canada",
            "Costa Rica",
            "Cuba",
            "El Salvador",
            "Grenada",
            "Guatemala",
            "Jamaica",
            "Mexico",
            "Nicaragua",
            "Panama",
            "Trinidad and Tobago"
           ],
           "legendgroup": "North America",
           "marker": {
            "color": "#FF7F0E",
            "size": [
             108,
             182,
             69,
             106,
             97,
             192,
             154,
             186,
             139,
             136,
             160,
             117,
             179
            ],
            "sizemode": "area",
            "sizeref": 0.53,
            "symbol": "circle"
           },
           "mode": "markers",
           "name": "North America",
           "orientation": "v",
           "showlegend": true,
           "type": "scatter",
           "x": [
            6.77398682,
            5.68149519,
            10.69585419,
            8.02937698,
            10.6880827,
            8.23629189,
            5.41881227,
            6.12487125,
            5.29506874,
            5.73688889,
            7.71019173,
            7.08509684,
            5.08042908
           ],
           "xaxis": "x",
           "y": [
            7.62,
            61.48,
            132.67,
            84.35,
            202.13,
            97.92,
            0,
            35.43,
            1.16,
            61.01,
            88.74,
            64,
            150.5
           ],
           "yaxis": "y"
          },
          {
           "hovertemplate": "<b>%{hovertext}</b><br><br>Continent=South America<br>Year=2010<br>GDP=%{x}<br>suicides_per_100k=%{y}<br>Both sexes=%{marker.size}<extra></extra>",
           "hovertext": [
            "Argentina",
            "Brazil",
            "Chile",
            "Colombia",
            "Ecuador",
            "Guyana",
            "Paraguay",
            "Suriname",
            "Uruguay"
           ],
           "ids": [
            "Argentina",
            "Brazil",
            "Chile",
            "Colombia",
            "Ecuador",
            "Guyana",
            "Paraguay",
            "Suriname",
            "Uruguay"
           ],
           "legendgroup": "South America",
           "marker": {
            "color": "#2CA02C",
            "size": [
             119,
             154,
             94,
             146,
             134,
             258,
             152,
             194,
             118
            ],
            "sizemode": "area",
            "sizeref": 0.53,
            "symbol": "circle"
           },
           "mode": "markers",
           "name": "South America",
           "orientation": "v",
           "showlegend": true,
           "type": "scatter",
           "x": [
            9.44546986,
            7.94515991,
            6.77489328,
            7.07130146,
            6.11657906,
            4.21897697,
            5.47032022,
            5.03042459,
            7.91117096
           ],
           "xaxis": "x",
           "y": [
            111.24,
            72.73,
            162.88,
            67.24,
            81.49,
            403.07,
            54.56,
            425.3,
            257.43
           ],
           "yaxis": "y"
          },
          {
           "hovertemplate": "<b>%{hovertext}</b><br><br>Continent=Asia<br>Year=2010<br>GDP=%{x}<br>suicides_per_100k=%{y}<br>Both sexes=%{marker.size}<extra></extra>",
           "hovertext": [
            "Armenia",
            "Bahrain",
            "Cyprus",
            "Georgia",
            "Israel",
            "Japan",
            "Kazakhstan",
            "Kuwait",
            "Maldives",
            "Oman",
            "Philippines",
            "Qatar",
            "Singapore",
            "Thailand",
            "Turkmenistan",
            "United Arab Emirates",
            "Uzbekistan"
           ],
           "ids": [
            "Armenia",
            "Bahrain",
            "Cyprus",
            "Georgia",
            "Israel",
            "Japan",
            "Kazakhstan",
            "Kuwait",
            "Maldives",
            "Oman",
            "Philippines",
            "Qatar",
            "Singapore",
            "Thailand",
            "Turkmenistan",
            "United Arab Emirates",
            "Uzbekistan"
           ],
           "legendgroup": "Asia",
           "marker": {
            "color": "#D62728",
            "size": [
             138,
             66,
             65,
             157,
             60,
             61,
             243,
             84,
             71,
             107,
             203,
             65,
             60,
             161,
             188,
             81,
             145
            ],
            "sizemode": "area",
            "sizeref": 0.53,
            "symbol": "circle"
           },
           "mode": "markers",
           "name": "Asia",
           "orientation": "v",
           "showlegend": true,
           "type": "scatter",
           "x": [
            9.23539066,
            3.84291482,
            6.51767111,
            9.07341194,
            7.01663876,
            9.0630064,
            2.73641348,
            2.67879915,
            8.48759079,
            2.82071519,
            4.1310792,
            1.87017775,
            3.20265365,
            3.39009833,
            4.9963603,
            3.87874508,
            5.22166872
           ],
           "xaxis": "x",
           "y": [
            40.41,
            11.89,
            58.88,
            34.33,
            99.47,
            255.48,
            320.81,
            10.04,
            1.99,
            3.8,
            36.96,
            12.83,
            129.23,
            80.5,
            45.75,
            22.71,
            63.23
           ],
           "yaxis": "y"
          },
          {
           "hovertemplate": "<b>%{hovertext}</b><br><br>Continent=Oceania<br>Year=2010<br>GDP=%{x}<br>suicides_per_100k=%{y}<br>Both sexes=%{marker.size}<extra></extra>",
           "hovertext": [
            "Australia",
            "New Zealand"
           ],
           "ids": [
            "Australia",
            "New Zealand"
           ],
           "legendgroup": "Oceania",
           "marker": {
            "color": "#9467BD",
            "size": [
             63,
             71
            ],
            "sizemode": "area",
            "sizeref": 0.53,
            "symbol": "circle"
           },
           "mode": "markers",
           "name": "Oceania",
           "orientation": "v",
           "showlegend": true,
           "type": "scatter",
           "x": [
            8.4308424,
            9.59277534
           ],
           "xaxis": "x",
           "y": [
            132.64,
            152.62
           ],
           "yaxis": "y"
          },
          {
           "hovertemplate": "<b>%{hovertext}</b><br><br>Continent=Africa<br>Year=2010<br>GDP=%{x}<br>suicides_per_100k=%{y}<br>Both sexes=%{marker.size}<extra></extra>",
           "hovertext": [
            "Mauritius",
            "Seychelles",
            "South Africa"
           ],
           "ids": [
            "Mauritius",
            "Seychelles",
            "South Africa"
           ],
           "legendgroup": "Africa",
           "marker": {
            "color": "#8C564B",
            "size": [
             162,
             181,
             416
            ],
            "sizemode": "area",
            "sizeref": 0.53,
            "symbol": "circle"
           },
           "mode": "markers",
           "name": "Africa",
           "orientation": "v",
           "showlegend": true,
           "type": "scatter",
           "x": [
            4.57982111,
            4.82908678,
            8.66596985
           ],
           "xaxis": "x",
           "y": [
            111.83,
            51.99,
            13.09
           ],
           "yaxis": "y"
          }
         ],
         "name": "2010"
        },
        {
         "data": [
          {
           "hovertemplate": "<b>%{hovertext}</b><br><br>Continent=Europe<br>Year=2012<br>GDP=%{x}<br>suicides_per_100k=%{y}<br>Both sexes=%{marker.size}<extra></extra>",
           "hovertext": [
            "Austria",
            "Belgium",
            "Bulgaria",
            "Croatia",
            "Denmark",
            "Estonia",
            "Finland",
            "France",
            "Germany",
            "Greece",
            "Hungary",
            "Iceland",
            "Ireland",
            "Italy",
            "Latvia",
            "Lithuania",
            "Luxembourg",
            "Malta",
            "Netherlands",
            "Norway",
            "Poland",
            "Portugal",
            "Romania",
            "Serbia",
            "Slovenia",
            "Spain",
            "Sweden",
            "Switzerland",
            "Ukraine"
           ],
           "ids": [
            "Austria",
            "Belgium",
            "Bulgaria",
            "Croatia",
            "Denmark",
            "Estonia",
            "Finland",
            "France",
            "Germany",
            "Greece",
            "Hungary",
            "Iceland",
            "Ireland",
            "Italy",
            "Latvia",
            "Lithuania",
            "Luxembourg",
            "Malta",
            "Netherlands",
            "Norway",
            "Poland",
            "Portugal",
            "Romania",
            "Serbia",
            "Slovenia",
            "Spain",
            "Sweden",
            "Switzerland",
            "Ukraine"
           ],
           "legendgroup": "Europe",
           "marker": {
            "color": "#1F77B4",
            "size": [
             68,
             79,
             137,
             103,
             75,
             134,
             80,
             80,
             73,
             72,
             143,
             50,
             66,
             57,
             162,
             180,
             63,
             57,
             63,
             60,
             126,
             81,
             141,
             111,
             81,
             61,
             56,
             54,
             211
            ],
            "sizemode": "area",
            "sizeref": 0.53,
            "symbol": "circle"
           },
           "mode": "markers",
           "name": "Europe",
           "orientation": "v",
           "showlegend": true,
           "type": "scatter",
           "x": [
            10.19915581,
            10.50650597,
            7.57609081,
            7.78380489,
            10.24135303,
            5.79034519,
            9.5857954,
            11.29740047,
            10.85323715,
            8.92377281,
            7.43017483,
            8.18118858,
            10.65266323,
            8.78352833,
            5.38090277,
            6.2759347,
            5.58377266,
            8.37802982,
            10.53905964,
            8.77787876,
            6.22393656,
            9.65393162,
            4.73353195,
            9.32176399,
            8.71509933,
            9.15699196,
            10.73515224,
            10.24875641,
            7.11665535
           ],
           "xaxis": "x",
           "y": [
            206.63,
            217.13,
            164.17,
            239.01,
            143.21,
            241.61,
            187.01,
            198.98,
            148.31,
            53.32,
            305.96,
            145.41,
            137.66,
            85.45,
            267.68,
            374.12,
            140.18,
            59.87,
            118.51,
            126,
            192.37,
            139.4,
            142.03,
            234.53,
            279.74,
            96.88,
            148.11,
            165.39,
            268.47
           ],
           "yaxis": "y"
          },
          {
           "hovertemplate": "<b>%{hovertext}</b><br><br>Continent=North America<br>Year=2012<br>GDP=%{x}<br>suicides_per_100k=%{y}<br>Both sexes=%{marker.size}<extra></extra>",
           "hovertext": [
            "Antigua and Barbuda",
            "Barbados",
            "Belize",
            "Canada",
            "Costa Rica",
            "Cuba",
            "El Salvador",
            "Grenada",
            "Guatemala",
            "Mexico",
            "Nicaragua",
            "Panama"
           ],
           "ids": [
            "Antigua and Barbuda",
            "Barbados",
            "Belize",
            "Canada",
            "Costa Rica",
            "Cuba",
            "El Salvador",
            "Grenada",
            "Guatemala",
            "Mexico",
            "Nicaragua",
            "Panama"
           ],
           "legendgroup": "North America",
           "marker": {
            "color": "#FF7F0E",
            "size": [
             127,
             108,
             183,
             68,
             99,
             96,
             186,
             147,
             173,
             131,
             155,
             116
            ],
            "sizemode": "area",
            "sizeref": 0.53,
            "symbol": "circle"
           },
           "mode": "markers",
           "name": "North America",
           "orientation": "v",
           "showlegend": true,
           "type": "scatter",
           "x": [
            5.47921419,
            7.77819967,
            5.46800852,
            10.50637913,
            7.78642225,
            9.29940987,
            7.53931999,
            5.82235813,
            6.07307673,
            5.66522121,
            7.48836899,
            6.56412029
           ],
           "xaxis": "x",
           "y": [
            0,
            0,
            73.45,
            127.88,
            80.76,
            204,
            123.14,
            18.009999999999998,
            41.8,
            63.43,
            72.29,
            55.52
           ],
           "yaxis": "y"
          },
          {
           "hovertemplate": "<b>%{hovertext}</b><br><br>Continent=South America<br>Year=2012<br>GDP=%{x}<br>suicides_per_100k=%{y}<br>Both sexes=%{marker.size}<extra></extra>",
           "hovertext": [
            "Argentina",
            "Brazil",
            "Chile",
            "Colombia",
            "Ecuador",
            "Guyana",
            "Paraguay",
            "Suriname",
            "Uruguay"
           ],
           "ids": [
            "Argentina",
            "Brazil",
            "Chile",
            "Colombia",
            "Ecuador",
            "Guyana",
            "Paraguay",
            "Suriname",
            "Uruguay"
           ],
           "legendgroup": "South America",
           "marker": {
            "color": "#2CA02C",
            "size": [
             118,
             150,
             89,
             140,
             127,
             272,
             149,
             188,
             118
            ],
            "sizemode": "area",
            "sizeref": 0.53,
            "symbol": "circle"
           },
           "mode": "markers",
           "name": "South America",
           "orientation": "v",
           "showlegend": true,
           "type": "scatter",
           "x": [
            9.82728195,
            7.73637724,
            7.0209198,
            6.74599648,
            6.7622118,
            3.7081871,
            6.52922678,
            4.58755207,
            8.0675621
           ],
           "xaxis": "x",
           "y": [
            119.82,
            74.45,
            148.41,
            66.45,
            84.88,
            367.98,
            63.3,
            454.11,
            264.35
           ],
           "yaxis": "y"
          },
          {
           "hovertemplate": "<b>%{hovertext}</b><br><br>Continent=Asia<br>Year=2012<br>GDP=%{x}<br>suicides_per_100k=%{y}<br>Both sexes=%{marker.size}<extra></extra>",
           "hovertext": [
            "Armenia",
            "Bahrain",
            "Cyprus",
            "Georgia",
            "Israel",
            "Japan",
            "Kazakhstan",
            "Kuwait",
            "Qatar",
            "Singapore",
            "Thailand",
            "Turkmenistan",
            "Uzbekistan"
           ],
           "ids": [
            "Armenia",
            "Bahrain",
            "Cyprus",
            "Georgia",
            "Israel",
            "Japan",
            "Kazakhstan",
            "Kuwait",
            "Qatar",
            "Singapore",
            "Thailand",
            "Turkmenistan",
            "Uzbekistan"
           ],
           "legendgroup": "Asia",
           "marker": {
            "color": "#D62728",
            "size": [
             131,
             66,
             55,
             157,
             58,
             57,
             224,
             83,
             65,
             57,
             155,
             189,
             145
            ],
            "sizemode": "area",
            "sizeref": 0.53,
            "symbol": "circle"
           },
           "mode": "markers",
           "name": "Asia",
           "orientation": "v",
           "showlegend": true,
           "type": "scatter",
           "x": [
            9.134552,
            4.10642147,
            6.55474567,
            8.04715919,
            7.11508703,
            10.67169189,
            3.03725958,
            2.33311439,
            1.74822152,
            3.32783675,
            3.5229404,
            4.77595139,
            5.45723581
           ],
           "xaxis": "x",
           "y": [
            36.57,
            8.68,
            42.9,
            34.88,
            83.79,
            233.7,
            271.02,
            15.59,
            13.27,
            141.62,
            80.69,
            30.6,
            77.53
           ],
           "yaxis": "y"
          },
          {
           "hovertemplate": "<b>%{hovertext}</b><br><br>Continent=Oceania<br>Year=2012<br>GDP=%{x}<br>suicides_per_100k=%{y}<br>Both sexes=%{marker.size}<extra></extra>",
           "hovertext": [
            "Australia",
            "Fiji",
            "New Zealand"
           ],
           "ids": [
            "Australia",
            "Fiji",
            "New Zealand"
           ],
           "legendgroup": "Oceania",
           "marker": {
            "color": "#9467BD",
            "size": [
             60,
             195,
             68
            ],
            "sizemode": "area",
            "sizeref": 0.53,
            "symbol": "circle"
           },
           "mode": "markers",
           "name": "Oceania",
           "orientation": "v",
           "showlegend": true,
           "type": "scatter",
           "x": [
            8.67564774,
            3.2655499,
            9.65163612
           ],
           "xaxis": "x",
           "y": [
            139.57,
            91.58,
            158.03
           ],
           "yaxis": "y"
          },
          {
           "hovertemplate": "<b>%{hovertext}</b><br><br>Continent=Africa<br>Year=2012<br>GDP=%{x}<br>suicides_per_100k=%{y}<br>Both sexes=%{marker.size}<extra></extra>",
           "hovertext": [
            "Mauritius",
            "Seychelles",
            "South Africa"
           ],
           "ids": [
            "Mauritius",
            "Seychelles",
            "South Africa"
           ],
           "legendgroup": "Africa",
           "marker": {
            "color": "#8C564B",
            "size": [
             152,
             174,
             361
            ],
            "sizemode": "area",
            "sizeref": 0.53,
            "symbol": "circle"
           },
           "mode": "markers",
           "name": "Africa",
           "orientation": "v",
           "showlegend": true,
           "type": "scatter",
           "x": [
            4.27675056,
            5.73247576,
            8.77310753
           ],
           "xaxis": "x",
           "y": [
            114.25,
            33.5,
            13.56
           ],
           "yaxis": "y"
          }
         ],
         "name": "2012"
        },
        {
         "data": [
          {
           "hovertemplate": "<b>%{hovertext}</b><br><br>Continent=Europe<br>Year=2013<br>GDP=%{x}<br>suicides_per_100k=%{y}<br>Both sexes=%{marker.size}<extra></extra>",
           "hovertext": [
            "Austria",
            "Belarus",
            "Belgium",
            "Bulgaria",
            "Croatia",
            "Denmark",
            "Estonia",
            "Finland",
            "France",
            "Germany",
            "Greece",
            "Hungary",
            "Iceland",
            "Ireland",
            "Italy",
            "Latvia",
            "Lithuania",
            "Luxembourg",
            "Malta",
            "Netherlands",
            "Norway",
            "Poland",
            "Portugal",
            "Romania",
            "Serbia",
            "Slovenia",
            "Spain",
            "Sweden",
            "Switzerland"
           ],
           "ids": [
            "Austria",
            "Belarus",
            "Belgium",
            "Bulgaria",
            "Croatia",
            "Denmark",
            "Estonia",
            "Finland",
            "France",
            "Germany",
            "Greece",
            "Hungary",
            "Iceland",
            "Ireland",
            "Italy",
            "Latvia",
            "Lithuania",
            "Luxembourg",
            "Malta",
            "Netherlands",
            "Norway",
            "Poland",
            "Portugal",
            "Romania",
            "Serbia",
            "Slovenia",
            "Spain",
            "Sweden",
            "Switzerland"
           ],
           "legendgroup": "Europe",
           "marker": {
            "color": "#1F77B4",
            "size": [
             67,
             183,
             77,
             135,
             96,
             72,
             122,
             78,
             77,
             73,
             68,
             136,
             53,
             64,
             56,
             164,
             179,
             60,
             57,
             61,
             61,
             121,
             78,
             134,
             107,
             78,
             59,
             56,
             53
            ],
            "sizemode": "area",
            "sizeref": 0.53,
            "symbol": "circle"
           },
           "mode": "markers",
           "name": "Europe",
           "orientation": "v",
           "showlegend": true,
           "type": "scatter",
           "x": [
            10.28574944,
            5.69559479,
            10.56133938,
            7.16768599,
            6.51796293,
            10.16958141,
            5.97791481,
            9.80534649,
            11.41635036,
            10.99795437,
            8.36682224,
            7.24897766,
            8.17555237,
            10.29696083,
            8.77543831,
            5.36752796,
            6.12593651,
            5.52774715,
            8.49665737,
            10.5835619,
            8.92953396,
            6.41485739,
            9.40486622,
            5.19664145,
            9.30588913,
            8.74028301,
            9.06737709,
            10.9049139,
            10.46214485
           ],
           "xaxis": "x",
           "y": [
            212.12,
            273.32,
            201.55,
            134.16,
            210.3,
            134.55,
            231.92,
            196.83,
            192.33,
            153.07999999999998,
            55.11,
            266.23,
            221.24,
            117.41,
            84.86,
            242.19,
            444.56,
            91.48,
            57.22,
            125.53,
            127.01,
            187.59,
            132.73,
            137.99,
            217.73,
            283.02,
            101.32,
            158.20000000000002,
            170.26
           ],
           "yaxis": "y"
          },
          {
           "hovertemplate": "<b>%{hovertext}</b><br><br>Continent=North America<br>Year=2013<br>GDP=%{x}<br>suicides_per_100k=%{y}<br>Both sexes=%{marker.size}<extra></extra>",
           "hovertext": [
            "Antigua and Barbuda",
            "Barbados",
            "Belize",
            "Canada",
            "Costa Rica",
            "Cuba",
            "El Salvador",
            "Grenada",
            "Guatemala",
            "Mexico",
            "Nicaragua",
            "Panama"
           ],
           "ids": [
            "Antigua and Barbuda",
            "Barbados",
            "Belize",
            "Canada",
            "Costa Rica",
            "Cuba",
            "El Salvador",
            "Grenada",
            "Guatemala",
            "Mexico",
            "Nicaragua",
            "Panama"
           ],
           "legendgroup": "North America",
           "marker": {
            "color": "#FF7F0E",
            "size": [
             127,
             101,
             184,
             66,
             97,
             96,
             184,
             145,
             172,
             127,
             153,
             114
            ],
            "sizemode": "area",
            "sizeref": 0.53,
            "symbol": "circle"
           },
           "mode": "markers",
           "name": "North America",
           "orientation": "v",
           "showlegend": true,
           "type": "scatter",
           "x": [
            5.50909281,
            7.49560881,
            5.65393209,
            10.40513706,
            7.68229151,
            10.43099499,
            7.71839237,
            5.62652922,
            5.77188921,
            5.80923605,
            7.6386919,
            6.65125561
           ],
           "xaxis": "x",
           "y": [
            0,
            0,
            56.4,
            133.09,
            89.26,
            190.46,
            116.06,
            0,
            40.69,
            64.99,
            80.97,
            49.31
           ],
           "yaxis": "y"
          },
          {
           "hovertemplate": "<b>%{hovertext}</b><br><br>Continent=South America<br>Year=2013<br>GDP=%{x}<br>suicides_per_100k=%{y}<br>Both sexes=%{marker.size}<extra></extra>",
           "hovertext": [
            "Argentina",
            "Brazil",
            "Chile",
            "Colombia",
            "Ecuador",
            "Guyana",
            "Paraguay",
            "Suriname",
            "Uruguay"
           ],
           "ids": [
            "Argentina",
            "Brazil",
            "Chile",
            "Colombia",
            "Ecuador",
            "Guyana",
            "Paraguay",
            "Suriname",
            "Uruguay"
           ],
           "legendgroup": "South America",
           "marker": {
            "color": "#2CA02C",
            "size": [
             116,
             148,
             90,
             139,
             122,
             263,
             148,
             186,
             117
            ],
            "sizemode": "area",
            "sizeref": 0.53,
            "symbol": "circle"
           },
           "mode": "markers",
           "name": "South America",
           "orientation": "v",
           "showlegend": true,
           "type": "scatter",
           "x": [
            9.78097343,
            7.97659969,
            7.44478321,
            7.01724052,
            6.80123425,
            3.80231333,
            6.05105257,
            4.80475569,
            8.11896133
           ],
           "xaxis": "x",
           "y": [
            103.42,
            73.41,
            134.52,
            63.53,
            62.88,
            356.38,
            75.39,
            286.8,
            249.09
           ],
           "yaxis": "y"
          },
          {
           "hovertemplate": "<b>%{hovertext}</b><br><br>Continent=Asia<br>Year=2013<br>GDP=%{x}<br>suicides_per_100k=%{y}<br>Both sexes=%{marker.size}<extra></extra>",
           "hovertext": [
            "Armenia",
            "Bahrain",
            "Cyprus",
            "Georgia",
            "Israel",
            "Japan",
            "Kazakhstan",
            "Kuwait",
            "Qatar",
            "Singapore",
            "Thailand",
            "Turkmenistan",
            "Uzbekistan"
           ],
           "ids": [
            "Armenia",
            "Bahrain",
            "Cyprus",
            "Georgia",
            "Israel",
            "Japan",
            "Kazakhstan",
            "Kuwait",
            "Qatar",
            "Singapore",
            "Thailand",
            "Turkmenistan",
            "Uzbekistan"
           ],
           "legendgroup": "Asia",
           "marker": {
            "color": "#D62728",
            "size": [
             121,
             63,
             58,
             158,
             59,
             56,
             211,
             82,
             65,
             56,
             154,
             196,
             141
            ],
            "sizemode": "area",
            "sizeref": 0.53,
            "symbol": "circle"
           },
           "mode": "markers",
           "name": "Asia",
           "orientation": "v",
           "showlegend": true,
           "type": "scatter",
           "x": [
            10.32344532,
            4.30853891,
            6.94518471,
            7.88304806,
            7.07797098,
            10.67438602,
            2.66286707,
            2.48789287,
            2.07620168,
            3.68562651,
            3.45313334,
            5.15063286,
            5.66173697
           ],
           "xaxis": "x",
           "y": [
            37.48,
            2.49,
            64.61,
            55.57,
            74.21,
            231.16,
            296.67,
            9.88,
            8.23,
            137.87,
            79.56,
            23.29,
            78.86
           ],
           "yaxis": "y"
          },
          {
           "hovertemplate": "<b>%{hovertext}</b><br><br>Continent=Oceania<br>Year=2013<br>GDP=%{x}<br>suicides_per_100k=%{y}<br>Both sexes=%{marker.size}<extra></extra>",
           "hovertext": [
            "Australia",
            "New Zealand"
           ],
           "ids": [
            "Australia",
            "New Zealand"
           ],
           "legendgroup": "Oceania",
           "marker": {
            "color": "#9467BD",
            "size": [
             60,
             66
            ],
            "sizemode": "area",
            "sizeref": 0.53,
            "symbol": "circle"
           },
           "mode": "markers",
           "name": "Oceania",
           "orientation": "v",
           "showlegend": true,
           "type": "scatter",
           "x": [
            8.76116371,
            9.3601923
           ],
           "xaxis": "x",
           "y": [
            138.78,
            144.55
           ],
           "yaxis": "y"
          },
          {
           "hovertemplate": "<b>%{hovertext}</b><br><br>Continent=Africa<br>Year=2013<br>GDP=%{x}<br>suicides_per_100k=%{y}<br>Both sexes=%{marker.size}<extra></extra>",
           "hovertext": [
            "Mauritius",
            "Seychelles",
            "South Africa"
           ],
           "ids": [
            "Mauritius",
            "Seychelles",
            "South Africa"
           ],
           "legendgroup": "Africa",
           "marker": {
            "color": "#8C564B",
            "size": [
             145,
             171,
             335
            ],
            "sizemode": "area",
            "sizeref": 0.53,
            "symbol": "circle"
           },
           "mode": "markers",
           "name": "Africa",
           "orientation": "v",
           "showlegend": true,
           "type": "scatter",
           "x": [
            4.68303633,
            4.50912476,
            8.85552406
           ],
           "xaxis": "x",
           "y": [
            97.67,
            131.4,
            14.9
           ],
           "yaxis": "y"
          }
         ],
         "name": "2013"
        },
        {
         "data": [
          {
           "hovertemplate": "<b>%{hovertext}</b><br><br>Continent=Europe<br>Year=2014<br>GDP=%{x}<br>suicides_per_100k=%{y}<br>Both sexes=%{marker.size}<extra></extra>",
           "hovertext": [
            "Austria",
            "Belarus",
            "Belgium",
            "Bosnia and Herzegovina",
            "Bulgaria",
            "Croatia",
            "Denmark",
            "Estonia",
            "Finland",
            "France",
            "Germany",
            "Greece",
            "Hungary",
            "Iceland",
            "Ireland",
            "Italy",
            "Latvia",
            "Lithuania",
            "Luxembourg",
            "Malta",
            "Netherlands",
            "Norway",
            "Poland",
            "Portugal",
            "Romania",
            "Serbia",
            "Slovenia",
            "Spain",
            "Sweden",
            "Switzerland",
            "Ukraine"
           ],
           "ids": [
            "Austria",
            "Belarus",
            "Belgium",
            "Bosnia and Herzegovina",
            "Bulgaria",
            "Croatia",
            "Denmark",
            "Estonia",
            "Finland",
            "France",
            "Germany",
            "Greece",
            "Hungary",
            "Iceland",
            "Ireland",
            "Italy",
            "Latvia",
            "Lithuania",
            "Luxembourg",
            "Malta",
            "Netherlands",
            "Norway",
            "Poland",
            "Portugal",
            "Romania",
            "Serbia",
            "Slovenia",
            "Spain",
            "Sweden",
            "Switzerland",
            "Ukraine"
           ],
           "legendgroup": "Europe",
           "marker": {
            "color": "#1F77B4",
            "size": [
             65,
             175,
             73,
             96,
             141,
             94,
             68,
             124,
             73,
             74,
             70,
             67,
             133,
             55,
             62,
             54,
             159,
             167,
             55,
             53,
             59,
             57,
             115,
             77,
             140,
             106,
             70,
             58,
             55,
             50,
             212
            ],
            "sizemode": "area",
            "sizeref": 0.53,
            "symbol": "circle"
           },
           "mode": "markers",
           "name": "Europe",
           "orientation": "v",
           "showlegend": true,
           "type": "scatter",
           "x": [
            10.36809254,
            5.38793373,
            10.59411144,
            9.49011135,
            7.70713234,
            6.70013046,
            10.17190456,
            6.08077621,
            9.78115082,
            11.54441643,
            11.02157784,
            7.90779018,
            7.06011677,
            8.22888947,
            9.53489971,
            8.86791897,
            5.46614885,
            6.19332647,
            5.43687868,
            9.08505249,
            10.56706905,
            9.34493351,
            6.38664055,
            9.34288025,
            5.02168465,
            9.23958969,
            8.50197506,
            9.08936405,
            10.9479475,
            10.61642265,
            7.18958139
           ],
           "xaxis": "x",
           "y": [
            209.82,
            252.91,
            201.85,
            109.5,
            139.77,
            222.04,
            137.73,
            258.91,
            177.16,
            179.56,
            153.04,
            59.82,
            244.31,
            197.96,
            119.68,
            82.13,
            248.81,
            401.27,
            147.88,
            102.08,
            121.42,
            127.23,
            178.3,
            153.89,
            131.03,
            216.78,
            240.37,
            104.35,
            149.05,
            162.1,
            250.5
           ],
           "yaxis": "y"
          },
          {
           "hovertemplate": "<b>%{hovertext}</b><br><br>Continent=North America<br>Year=2014<br>GDP=%{x}<br>suicides_per_100k=%{y}<br>Both sexes=%{marker.size}<extra></extra>",
           "hovertext": [
            "Antigua and Barbuda",
            "Belize",
            "Costa Rica",
            "Cuba",
            "El Salvador",
            "Grenada",
            "Guatemala",
            "Mexico",
            "Nicaragua",
            "Panama"
           ],
           "ids": [
            "Antigua and Barbuda",
            "Belize",
            "Costa Rica",
            "Cuba",
            "El Salvador",
            "Grenada",
            "Guatemala",
            "Mexico",
            "Nicaragua",
            "Panama"
           ],
           "legendgroup": "North America",
           "marker": {
            "color": "#FF7F0E",
            "size": [
             127,
             183,
             95,
             95,
             182,
             143,
             169,
             129,
             150,
             111
            ],
            "sizemode": "area",
            "sizeref": 0.53,
            "symbol": "circle"
           },
           "mode": "markers",
           "name": "North America",
           "orientation": "v",
           "showlegend": true,
           "type": "scatter",
           "x": [
            5.87269974,
            6.19277191,
            7.66376114,
            12.1412344,
            7.68152761,
            4.77353573,
            5.8885684,
            5.55341005,
            7.97716141,
            6.92144489
           ],
           "xaxis": "x",
           "y": [
            0,
            90.95,
            70.85,
            184.63,
            101.84,
            0,
            45.88,
            68.38,
            71.4,
            55.98
           ],
           "yaxis": "y"
          },
          {
           "hovertemplate": "<b>%{hovertext}</b><br><br>Continent=South America<br>Year=2014<br>GDP=%{x}<br>suicides_per_100k=%{y}<br>Both sexes=%{marker.size}<extra></extra>",
           "hovertext": [
            "Argentina",
            "Brazil",
            "Chile",
            "Colombia",
            "Ecuador",
            "Paraguay",
            "Suriname",
            "Uruguay"
           ],
           "ids": [
            "Argentina",
            "Brazil",
            "Chile",
            "Colombia",
            "Ecuador",
            "Paraguay",
            "Suriname",
            "Uruguay"
           ],
           "legendgroup": "South America",
           "marker": {
            "color": "#2CA02C",
            "size": [
             113,
             145,
             88,
             139,
             119,
             147,
             184,
             114
            ],
            "sizemode": "area",
            "sizeref": 0.53,
            "symbol": "circle"
           },
           "mode": "markers",
           "name": "South America",
           "orientation": "v",
           "showlegend": true,
           "type": "scatter",
           "x": [
            9.67129135,
            8.39644623,
            7.80729866,
            7.18553209,
            6.72399426,
            6.64387417,
            4.84127617,
            8.07321835
           ],
           "xaxis": "x",
           "y": [
            111.35,
            73.13,
            137.37,
            66.62,
            66.02,
            72.15,
            357.34000000000003,
            248.64
           ],
           "yaxis": "y"
          },
          {
           "hovertemplate": "<b>%{hovertext}</b><br><br>Continent=Asia<br>Year=2014<br>GDP=%{x}<br>suicides_per_100k=%{y}<br>Both sexes=%{marker.size}<extra></extra>",
           "hovertext": [
            "Armenia",
            "Bahrain",
            "Cyprus",
            "Georgia",
            "Israel",
            "Japan",
            "Kazakhstan",
            "Kuwait",
            "Oman",
            "Qatar",
            "Singapore",
            "Thailand",
            "Turkmenistan",
            "Uzbekistan"
           ],
           "ids": [
            "Armenia",
            "Bahrain",
            "Cyprus",
            "Georgia",
            "Israel",
            "Japan",
            "Kazakhstan",
            "Kuwait",
            "Oman",
            "Qatar",
            "Singapore",
            "Thailand",
            "Turkmenistan",
            "Uzbekistan"
           ],
           "legendgroup": "Asia",
           "marker": {
            "color": "#D62728",
            "size": [
             118,
             62,
             61,
             155,
             58,
             54,
             199,
             81,
             100,
             64,
             55,
             151,
             199,
             139
            ],
            "sizemode": "area",
            "sizeref": 0.53,
            "symbol": "circle"
           },
           "mode": "markers",
           "name": "Asia",
           "orientation": "v",
           "showlegend": true,
           "type": "scatter",
           "x": [
            10.17827034,
            4.40681839,
            6.95228958,
            7.90386868,
            7.14262056,
            10.7290144,
            2.97468472,
            2.9159987,
            3.52693391,
            2.42293572,
            3.87155676,
            3.68448091,
            5.49777317,
            4.6729269
           ],
           "xaxis": "x",
           "y": [
            37.01,
            6.5200000000000005,
            57.1,
            74.49,
            71.25999999999999,
            218.21,
            257.09,
            15.86,
            1.51,
            18.99,
            131.78,
            76.96000000000001,
            28.15,
            85.12
           ],
           "yaxis": "y"
          },
          {
           "hovertemplate": "<b>%{hovertext}</b><br><br>Continent=Oceania<br>Year=2014<br>GDP=%{x}<br>suicides_per_100k=%{y}<br>Both sexes=%{marker.size}<extra></extra>",
           "hovertext": [
            "Australia"
           ],
           "ids": [
            "Australia"
           ],
           "legendgroup": "Oceania",
           "marker": {
            "color": "#9467BD",
            "size": [
             61
            ],
            "sizemode": "area",
            "sizeref": 0.53,
            "symbol": "circle"
           },
           "mode": "markers",
           "name": "Oceania",
           "orientation": "v",
           "showlegend": true,
           "type": "scatter",
           "x": [
            9.03597069
           ],
           "xaxis": "x",
           "y": [
            149.07
           ],
           "yaxis": "y"
          },
          {
           "hovertemplate": "<b>%{hovertext}</b><br><br>Continent=Africa<br>Year=2014<br>GDP=%{x}<br>suicides_per_100k=%{y}<br>Both sexes=%{marker.size}<extra></extra>",
           "hovertext": [
            "Mauritius",
            "Seychelles",
            "South Africa"
           ],
           "ids": [
            "Mauritius",
            "Seychelles",
            "South Africa"
           ],
           "legendgroup": "Africa",
           "marker": {
            "color": "#8C564B",
            "size": [
             148,
             168,
             316
            ],
            "sizemode": "area",
            "sizeref": 0.53,
            "symbol": "circle"
           },
           "mode": "markers",
           "name": "Africa",
           "orientation": "v",
           "showlegend": true,
           "type": "scatter",
           "x": [
            5.49399614,
            4.7388773,
            8.55091476
           ],
           "xaxis": "x",
           "y": [
            115.45,
            43.33,
            15.08
           ],
           "yaxis": "y"
          }
         ],
         "name": "2014"
        },
        {
         "data": [
          {
           "hovertemplate": "<b>%{hovertext}</b><br><br>Continent=Europe<br>Year=2015<br>GDP=%{x}<br>suicides_per_100k=%{y}<br>Both sexes=%{marker.size}<extra></extra>",
           "hovertext": [
            "Austria",
            "Belgium",
            "Croatia",
            "Denmark",
            "Estonia",
            "Finland",
            "Germany",
            "Greece",
            "Hungary",
            "Iceland",
            "Italy",
            "Latvia",
            "Lithuania",
            "Luxembourg",
            "Malta",
            "Netherlands",
            "Norway",
            "Poland",
            "Romania",
            "Serbia",
            "Slovenia",
            "Spain",
            "Sweden",
            "Switzerland",
            "Ukraine"
           ],
           "ids": [
            "Austria",
            "Belgium",
            "Croatia",
            "Denmark",
            "Estonia",
            "Finland",
            "Germany",
            "Greece",
            "Hungary",
            "Iceland",
            "Italy",
            "Latvia",
            "Lithuania",
            "Luxembourg",
            "Malta",
            "Netherlands",
            "Norway",
            "Poland",
            "Romania",
            "Serbia",
            "Slovenia",
            "Spain",
            "Sweden",
            "Switzerland",
            "Ukraine"
           ],
           "legendgroup": "Europe",
           "marker": {
            "color": "#1F77B4",
            "size": [
             64,
             72,
             96,
             66,
             116,
             70,
             71,
             68,
             132,
             54,
             55,
             154,
             165,
             52,
             55,
             58,
             54,
             115,
             136,
             106,
             74,
             58,
             54,
             50,
             188
            ],
            "sizemode": "area",
            "sizeref": 0.53,
            "symbol": "circle"
           },
           "mode": "markers",
           "name": "Europe",
           "orientation": "v",
           "showlegend": true,
           "type": "scatter",
           "x": [
            10.36746693,
            10.43065357,
            6.78702879,
            10.22716618,
            6.34629202,
            9.64523888,
            11.18370342,
            8.06892395,
            6.85949564,
            8.06978989,
            8.85689163,
            5.65469503,
            6.49043989,
            5.28378248,
            8.89759541,
            10.32393837,
            10.13146877,
            6.39477158,
            4.94721556,
            8.8132,
            8.49823952,
            9.12617207,
            10.80418396,
            11.00794983,
            7.77609348
           ],
           "xaxis": "x",
           "y": [
            194.62,
            196.66,
            229.68,
            121.42,
            205.38,
            161.19,
            150.34,
            56.06,
            257.27,
            140.65,
            78.45,
            251.47,
            385.48,
            134.4,
            78.27,
            126.93,
            136.43,
            166.99,
            133.54999999999998,
            205.97,
            264.81,
            97.38,
            149.3,
            164.66,
            244.72
           ],
           "yaxis": "y"
          },
          {
           "hovertemplate": "<b>%{hovertext}</b><br><br>Continent=North America<br>Year=2015<br>GDP=%{x}<br>suicides_per_100k=%{y}<br>Both sexes=%{marker.size}<extra></extra>",
           "hovertext": [
            "Antigua and Barbuda",
            "Belize",
            "Cuba",
            "Grenada",
            "Guatemala",
            "Mexico",
            "Nicaragua",
            "Panama"
           ],
           "ids": [
            "Antigua and Barbuda",
            "Belize",
            "Cuba",
            "Grenada",
            "Guatemala",
            "Mexico",
            "Nicaragua",
            "Panama"
           ],
           "legendgroup": "North America",
           "marker": {
            "color": "#FF7F0E",
            "size": [
             122,
             182,
             94,
             141,
             165,
             128,
             148,
             112
            ],
            "sizemode": "area",
            "sizeref": 0.53,
            "symbol": "circle"
           },
           "mode": "markers",
           "name": "North America",
           "orientation": "v",
           "showlegend": true,
           "type": "scatter",
           "x": [
            5.27965546,
            5.9350915,
            12.81401348,
            4.64675617,
            6.00602055,
            5.72277403,
            7.96303225,
            6.8090291
           ],
           "xaxis": "x",
           "y": [
            15.62,
            135.46,
            194.31,
            0,
            44.85,
            66.57,
            69.87,
            44.9
           ],
           "yaxis": "y"
          },
          {
           "hovertemplate": "<b>%{hovertext}</b><br><br>Continent=South America<br>Year=2015<br>GDP=%{x}<br>suicides_per_100k=%{y}<br>Both sexes=%{marker.size}<extra></extra>",
           "hovertext": [
            "Argentina",
            "Brazil",
            "Chile",
            "Colombia",
            "Ecuador",
            "Uruguay"
           ],
           "ids": [
            "Argentina",
            "Brazil",
            "Chile",
            "Colombia",
            "Ecuador",
            "Uruguay"
           ],
           "legendgroup": "South America",
           "marker": {
            "color": "#2CA02C",
            "size": [
             113,
             145,
             88,
             138,
             117,
             114
            ],
            "sizemode": "area",
            "sizeref": 0.53,
            "symbol": "circle"
           },
           "mode": "markers",
           "name": "South America",
           "orientation": "v",
           "showlegend": true,
           "type": "scatter",
           "x": [
            10.22933865,
            8.90929508,
            8.30269146,
            7.52338552,
            7.49149466,
            8.29223633
           ],
           "xaxis": "x",
           "y": [
            112.13,
            77.45,
            147.68,
            70.39999999999999,
            97.39,
            270.02
           ],
           "yaxis": "y"
          },
          {
           "hovertemplate": "<b>%{hovertext}</b><br><br>Continent=Asia<br>Year=2015<br>GDP=%{x}<br>suicides_per_100k=%{y}<br>Both sexes=%{marker.size}<extra></extra>",
           "hovertext": [
            "Armenia",
            "Cyprus",
            "Georgia",
            "Israel",
            "Japan",
            "Kazakhstan",
            "Qatar",
            "Singapore",
            "Thailand",
            "Turkmenistan"
           ],
           "ids": [
            "Armenia",
            "Cyprus",
            "Georgia",
            "Israel",
            "Japan",
            "Kazakhstan",
            "Qatar",
            "Singapore",
            "Thailand",
            "Turkmenistan"
           ],
           "legendgroup": "Asia",
           "marker": {
            "color": "#D62728",
            "size": [
             121,
             57,
             156,
             58,
             53,
             192,
             63,
             54,
             149,
             198
            ],
            "sizemode": "area",
            "sizeref": 0.53,
            "symbol": "circle"
           },
           "mode": "markers",
           "name": "Asia",
           "orientation": "v",
           "showlegend": true,
           "type": "scatter",
           "x": [
            10.11763382,
            6.75352287,
            7.42301512,
            7.09919786,
            10.74969959,
            3.04051137,
            3.00097346,
            4.18069839,
            3.66788888,
            6.29793644
           ],
           "xaxis": "x",
           "y": [
            45.28,
            49.59,
            84.67999999999999,
            65.91,
            206.04,
            238.02,
            18.84,
            109.29,
            81.15,
            28.48
           ],
           "yaxis": "y"
          },
          {
           "hovertemplate": "<b>%{hovertext}</b><br><br>Continent=Oceania<br>Year=2015<br>GDP=%{x}<br>suicides_per_100k=%{y}<br>Both sexes=%{marker.size}<extra></extra>",
           "hovertext": [
            "Australia"
           ],
           "ids": [
            "Australia"
           ],
           "legendgroup": "Oceania",
           "marker": {
            "color": "#9467BD",
            "size": [
             62
            ],
            "sizemode": "area",
            "sizeref": 0.53,
            "symbol": "circle"
           },
           "mode": "markers",
           "name": "Oceania",
           "orientation": "v",
           "showlegend": true,
           "type": "scatter",
           "x": [
            9.32758904
           ],
           "xaxis": "x",
           "y": [
            154.18
           ],
           "yaxis": "y"
          },
          {
           "hovertemplate": "<b>%{hovertext}</b><br><br>Continent=Africa<br>Year=2015<br>GDP=%{x}<br>suicides_per_100k=%{y}<br>Both sexes=%{marker.size}<extra></extra>",
           "hovertext": [
            "Mauritius",
            "Seychelles",
            "South Africa"
           ],
           "ids": [
            "Mauritius",
            "Seychelles",
            "South Africa"
           ],
           "legendgroup": "Africa",
           "marker": {
            "color": "#8C564B",
            "size": [
             148,
             166,
             305
            ],
            "sizemode": "area",
            "sizeref": 0.53,
            "symbol": "circle"
           },
           "mode": "markers",
           "name": "Africa",
           "orientation": "v",
           "showlegend": true,
           "type": "scatter",
           "x": [
            5.6999588,
            4.5895319,
            8.79018974
           ],
           "xaxis": "x",
           "y": [
            99.97,
            81.25,
            13
           ],
           "yaxis": "y"
          }
         ],
         "name": "2015"
        },
        {
         "data": [
          {
           "hovertemplate": "<b>%{hovertext}</b><br><br>Continent=Europe<br>Year=2011<br>GDP=%{x}<br>suicides_per_100k=%{y}<br>Both sexes=%{marker.size}<extra></extra>",
           "hovertext": [
            "Austria",
            "Belarus",
            "Belgium",
            "Bosnia and Herzegovina",
            "Bulgaria",
            "Croatia",
            "Denmark",
            "Estonia",
            "Finland",
            "France",
            "Germany",
            "Greece",
            "Hungary",
            "Iceland",
            "Ireland",
            "Italy",
            "Latvia",
            "Lithuania",
            "Luxembourg",
            "Malta",
            "Netherlands",
            "Norway",
            "Poland",
            "Portugal",
            "Romania",
            "Serbia",
            "Slovenia",
            "Spain",
            "Sweden",
            "Switzerland",
            "Ukraine"
           ],
           "ids": [
            "Austria",
            "Belarus",
            "Belgium",
            "Bosnia and Herzegovina",
            "Bulgaria",
            "Croatia",
            "Denmark",
            "Estonia",
            "Finland",
            "France",
            "Germany",
            "Greece",
            "Hungary",
            "Iceland",
            "Ireland",
            "Italy",
            "Latvia",
            "Lithuania",
            "Luxembourg",
            "Malta",
            "Netherlands",
            "Norway",
            "Poland",
            "Portugal",
            "Romania",
            "Serbia",
            "Slovenia",
            "Spain",
            "Sweden",
            "Switzerland",
            "Ukraine"
           ],
           "legendgroup": "Europe",
           "marker": {
            "color": "#1F77B4",
            "size": [
             72,
             227,
             81,
             100,
             141,
             103,
             78,
             136,
             84,
             83,
             75,
             73,
             147,
             51,
             67,
             58,
             167,
             184,
             66,
             59,
             64,
             66,
             128,
             84,
             141,
             113,
             82,
             63,
             58,
             54,
             209
            ],
            "sizemode": "area",
            "sizeref": 0.53,
            "symbol": "circle"
           },
           "mode": "markers",
           "name": "Europe",
           "orientation": "v",
           "showlegend": true,
           "type": "scatter",
           "x": [
            10.02613258,
            4.87438536,
            10.39208412,
            9.17856026,
            7.13881254,
            7.76850891,
            10.15291023,
            5.7667613,
            9.22303009,
            11.18497658,
            10.77818966,
            9.19330311,
            7.49094248,
            8.20293236,
            10.676898,
            8.77413177,
            5.54237556,
            6.4878149,
            6.11205053,
            8.4481411,
            10.23353291,
            8.78868103,
            6.2400856,
            9.73071671,
            4.70199966,
            9.10749245,
            8.53639603,
            9.16859245,
            10.41646767,
            10.0191288,
            6.81617689
           ],
           "xaxis": "x",
           "y": [
            211.49,
            299.36,
            226.71,
            1.31,
            133.52,
            221.11,
            126.33,
            229.26,
            203.61,
            211.18,
            152.82,
            48.68,
            299.85,
            92.95,
            138.58,
            86.08,
            288.75,
            407.69,
            136.53,
            47.5,
            113.08,
            146.49,
            183.86,
            127.86,
            138.78,
            243.45,
            281.66,
            88.59,
            141.77,
            168.22,
            264
           ],
           "yaxis": "y"
          },
          {
           "hovertemplate": "<b>%{hovertext}</b><br><br>Continent=North America<br>Year=2011<br>GDP=%{x}<br>suicides_per_100k=%{y}<br>Both sexes=%{marker.size}<extra></extra>",
           "hovertext": [
            "Barbados",
            "Belize",
            "Canada",
            "Costa Rica",
            "Cuba",
            "El Salvador",
            "Grenada",
            "Guatemala",
            "Jamaica",
            "Mexico",
            "Nicaragua",
            "Panama",
            "Trinidad and Tobago"
           ],
           "ids": [
            "Barbados",
            "Belize",
            "Canada",
            "Costa Rica",
            "Cuba",
            "El Salvador",
            "Grenada",
            "Guatemala",
            "Jamaica",
            "Mexico",
            "Nicaragua",
            "Panama",
            "Trinidad and Tobago"
           ],
           "legendgroup": "North America",
           "marker": {
            "color": "#FF7F0E",
            "size": [
             106,
             182,
             67,
             100,
             92,
             189,
             150,
             180,
             139,
             133,
             158,
             117,
             180
            ],
            "sizemode": "area",
            "sizeref": 0.53,
            "symbol": "circle"
           },
           "mode": "markers",
           "name": "North America",
           "orientation": "v",
           "showlegend": true,
           "type": "scatter",
           "x": [
            6.89933872,
            5.72256994,
            10.40052414,
            8.1219759,
            11.31298637,
            8.14439964,
            5.80423355,
            5.96316576,
            5.23800802,
            5.51883602,
            7.44982004,
            6.59314489,
            4.72197914
           ],
           "xaxis": "x",
           "y": [
            0,
            153.3,
            125.02,
            89.83,
            207.05,
            115.46,
            20.73,
            34.69,
            27.86,
            65.52,
            89.55,
            62.73,
            138.69
           ],
           "yaxis": "y"
          },
          {
           "hovertemplate": "<b>%{hovertext}</b><br><br>Continent=South America<br>Year=2011<br>GDP=%{x}<br>suicides_per_100k=%{y}<br>Both sexes=%{marker.size}<extra></extra>",
           "hovertext": [
            "Argentina",
            "Brazil",
            "Chile",
            "Colombia",
            "Ecuador",
            "Guyana",
            "Paraguay",
            "Suriname"
           ],
           "ids": [
            "Argentina",
            "Brazil",
            "Chile",
            "Colombia",
            "Ecuador",
            "Guyana",
            "Paraguay",
            "Suriname"
           ],
           "legendgroup": "South America",
           "marker": {
            "color": "#2CA02C",
            "size": [
             118,
             153,
             90,
             140,
             130,
             263,
             150,
             191
            ],
            "sizemode": "area",
            "sizeref": 0.53,
            "symbol": "circle"
           },
           "mode": "markers",
           "name": "South America",
           "orientation": "v",
           "showlegend": true,
           "type": "scatter",
           "x": [
            9.41821575,
            7.78819466,
            6.7717886,
            6.78076839,
            6.47737551,
            4.17213488,
            5.82928896,
            4.72143984
           ],
           "xaxis": "x",
           "y": [
            105.87,
            72.41,
            160.84,
            62.88,
            81.8,
            349.53000000000003,
            67.83,
            353.31
           ],
           "yaxis": "y"
          },
          {
           "hovertemplate": "<b>%{hovertext}</b><br><br>Continent=Asia<br>Year=2011<br>GDP=%{x}<br>suicides_per_100k=%{y}<br>Both sexes=%{marker.size}<extra></extra>",
           "hovertext": [
            "Armenia",
            "Bahrain",
            "Cyprus",
            "Georgia",
            "Israel",
            "Japan",
            "Kazakhstan",
            "Kuwait",
            "Maldives",
            "Philippines",
            "Qatar",
            "Singapore",
            "Thailand",
            "Turkmenistan",
            "Uzbekistan"
           ],
           "ids": [
            "Armenia",
            "Bahrain",
            "Cyprus",
            "Georgia",
            "Israel",
            "Japan",
            "Kazakhstan",
            "Kuwait",
            "Maldives",
            "Philippines",
            "Qatar",
            "Singapore",
            "Thailand",
            "Turkmenistan",
            "Uzbekistan"
           ],
           "legendgroup": "Asia",
           "marker": {
            "color": "#D62728",
            "size": [
             135,
             66,
             58,
             153,
             59,
             62,
             232,
             84,
             66,
             202,
             65,
             59,
             158,
             190,
             144
            ],
            "sizemode": "area",
            "sizeref": 0.53,
            "symbol": "circle"
           },
           "mode": "markers",
           "name": "Asia",
           "orientation": "v",
           "showlegend": true,
           "type": "scatter",
           "x": [
            9.37587833,
            3.57691312,
            6.44928503,
            8.0144434,
            6.99058676,
            10.48780155,
            2.60236716,
            2.33303523,
            7.92251587,
            4.02518606,
            1.59996212,
            3.15792179,
            3.56825471,
            4.89650869,
            5.14376926
           ],
           "xaxis": "x",
           "y": [
            32.98,
            14.96,
            43.78,
            36.31,
            87.41,
            252.41,
            293.76,
            11.41,
            5.39,
            44.91,
            18.85,
            116.96,
            77.59,
            31.63,
            67.14
           ],
           "yaxis": "y"
          },
          {
           "hovertemplate": "<b>%{hovertext}</b><br><br>Continent=Oceania<br>Year=2011<br>GDP=%{x}<br>suicides_per_100k=%{y}<br>Both sexes=%{marker.size}<extra></extra>",
           "hovertext": [
            "Australia",
            "Fiji",
            "New Zealand"
           ],
           "ids": [
            "Australia",
            "Fiji",
            "New Zealand"
           ],
           "legendgroup": "Oceania",
           "marker": {
            "color": "#9467BD",
            "size": [
             62,
             197,
             71
            ],
            "sizemode": "area",
            "sizeref": 0.53,
            "symbol": "circle"
           },
           "mode": "markers",
           "name": "Oceania",
           "orientation": "v",
           "showlegend": true,
           "type": "scatter",
           "x": [
            8.54153824,
            3.14293504,
            9.51987362
           ],
           "xaxis": "x",
           "y": [
            133.22,
            106.97,
            142.82
           ],
           "yaxis": "y"
          },
          {
           "hovertemplate": "<b>%{hovertext}</b><br><br>Continent=Africa<br>Year=2011<br>GDP=%{x}<br>suicides_per_100k=%{y}<br>Both sexes=%{marker.size}<extra></extra>",
           "hovertext": [
            "Mauritius",
            "Seychelles",
            "South Africa"
           ],
           "ids": [
            "Mauritius",
            "Seychelles",
            "South Africa"
           ],
           "legendgroup": "Africa",
           "marker": {
            "color": "#8C564B",
            "size": [
             156,
             177,
             397
            ],
            "sizemode": "area",
            "sizeref": 0.53,
            "symbol": "circle"
           },
           "mode": "markers",
           "name": "Africa",
           "orientation": "v",
           "showlegend": true,
           "type": "scatter",
           "x": [
            4.3078289,
            4.80053091,
            8.74146175
           ],
           "xaxis": "x",
           "y": [
            120.04,
            51.34,
            9.31
           ],
           "yaxis": "y"
          }
         ],
         "name": "2011"
        },
        {
         "data": [
          {
           "hovertemplate": "<b>%{hovertext}</b><br><br>Continent=Europe<br>Year=2016<br>GDP=%{x}<br>suicides_per_100k=%{y}<br>Both sexes=%{marker.size}<extra></extra>",
           "hovertext": [
            "Austria",
            "Croatia",
            "Hungary",
            "Iceland",
            "Lithuania",
            "Netherlands",
            "Romania",
            "Sweden"
           ],
           "ids": [
            "Austria",
            "Croatia",
            "Hungary",
            "Iceland",
            "Lithuania",
            "Netherlands",
            "Romania",
            "Sweden"
           ],
           "legendgroup": "Europe",
           "marker": {
            "color": "#1F77B4",
            "size": [
             62,
             88,
             126,
             55,
             155,
             59,
             135,
             52
            ],
            "sizemode": "area",
            "sizeref": 0.53,
            "symbol": "circle"
           },
           "mode": "markers",
           "name": "Europe",
           "orientation": "v",
           "showlegend": true,
           "type": "scatter",
           "x": [
            10.3522625,
            6.82921791,
            6.99535179,
            8.09714699,
            6.63746214,
            10.2942524,
            5.00346899,
            10.85240364
           ],
           "xaxis": "x",
           "y": [
            183.23,
            213.56,
            241.34,
            138.07,
            361.72,
            127.39,
            116.33,
            138.84
           ],
           "yaxis": "y"
          },
          {
           "hovertemplate": "<b>%{hovertext}</b><br><br>Continent=North America<br>Year=2016<br>GDP=%{x}<br>suicides_per_100k=%{y}<br>Both sexes=%{marker.size}<extra></extra>",
           "hovertext": [
            "Grenada"
           ],
           "ids": [
            "Grenada"
           ],
           "legendgroup": "North America",
           "marker": {
            "color": "#FF7F0E",
            "size": [
             140
            ],
            "sizemode": "area",
            "sizeref": 0.53,
            "symbol": "circle"
           },
           "mode": "markers",
           "name": "North America",
           "orientation": "v",
           "showlegend": true,
           "type": "scatter",
           "x": [
            4.43910027
           ],
           "xaxis": "x",
           "y": [
            0
           ],
           "yaxis": "y"
          },
          {
           "hovertemplate": "<b>%{hovertext}</b><br><br>Continent=Asia<br>Year=2016<br>GDP=%{x}<br>suicides_per_100k=%{y}<br>Both sexes=%{marker.size}<extra></extra>",
           "hovertext": [
            "Armenia",
            "Cyprus",
            "Mongolia",
            "Qatar",
            "Thailand"
           ],
           "ids": [
            "Armenia",
            "Cyprus",
            "Mongolia",
            "Qatar",
            "Thailand"
           ],
           "legendgroup": "Asia",
           "marker": {
            "color": "#D62728",
            "size": [
             116,
             55,
             211,
             62,
             147
            ],
            "sizemode": "area",
            "sizeref": 0.53,
            "symbol": "circle"
           },
           "mode": "markers",
           "name": "Asia",
           "orientation": "v",
           "showlegend": true,
           "type": "scatter",
           "x": [
            9.95196629,
            6.62359428,
            4.42355633,
            3.24747443,
            3.7540946
           ],
           "xaxis": "x",
           "y": [
            40.56,
            47.15,
            184.39,
            16.43,
            77.32
           ],
           "yaxis": "y"
          },
          {
           "hovertemplate": "<b>%{hovertext}</b><br><br>Continent=Africa<br>Year=2016<br>GDP=%{x}<br>suicides_per_100k=%{y}<br>Both sexes=%{marker.size}<extra></extra>",
           "hovertext": [
            "Mauritius"
           ],
           "ids": [
            "Mauritius"
           ],
           "legendgroup": "Africa",
           "marker": {
            "color": "#8C564B",
            "size": [
             145
            ],
            "sizemode": "area",
            "sizeref": 0.53,
            "symbol": "circle"
           },
           "mode": "markers",
           "name": "Africa",
           "orientation": "v",
           "showlegend": true,
           "type": "scatter",
           "x": [
            5.70678568
           ],
           "xaxis": "x",
           "y": [
            99.3
           ],
           "yaxis": "y"
          }
         ],
         "name": "2016"
        }
       ],
       "layout": {
        "height": 700,
        "legend": {
         "itemsizing": "constant",
         "title": {
          "text": "Continent"
         },
         "tracegroupgap": 0
        },
        "margin": {
         "t": 60
        },
        "sliders": [
         {
          "active": 0,
          "currentvalue": {
           "prefix": "Year="
          },
          "len": 0.9,
          "pad": {
           "b": 10,
           "t": 60
          },
          "steps": [
           {
            "args": [
             [
              "2000"
             ],
             {
              "frame": {
               "duration": 0,
               "redraw": false
              },
              "fromcurrent": true,
              "mode": "immediate",
              "transition": {
               "duration": 0,
               "easing": "linear"
              }
             }
            ],
            "label": "2000",
            "method": "animate"
           },
           {
            "args": [
             [
              "2001"
             ],
             {
              "frame": {
               "duration": 0,
               "redraw": false
              },
              "fromcurrent": true,
              "mode": "immediate",
              "transition": {
               "duration": 0,
               "easing": "linear"
              }
             }
            ],
            "label": "2001",
            "method": "animate"
           },
           {
            "args": [
             [
              "2002"
             ],
             {
              "frame": {
               "duration": 0,
               "redraw": false
              },
              "fromcurrent": true,
              "mode": "immediate",
              "transition": {
               "duration": 0,
               "easing": "linear"
              }
             }
            ],
            "label": "2002",
            "method": "animate"
           },
           {
            "args": [
             [
              "2003"
             ],
             {
              "frame": {
               "duration": 0,
               "redraw": false
              },
              "fromcurrent": true,
              "mode": "immediate",
              "transition": {
               "duration": 0,
               "easing": "linear"
              }
             }
            ],
            "label": "2003",
            "method": "animate"
           },
           {
            "args": [
             [
              "2004"
             ],
             {
              "frame": {
               "duration": 0,
               "redraw": false
              },
              "fromcurrent": true,
              "mode": "immediate",
              "transition": {
               "duration": 0,
               "easing": "linear"
              }
             }
            ],
            "label": "2004",
            "method": "animate"
           },
           {
            "args": [
             [
              "2005"
             ],
             {
              "frame": {
               "duration": 0,
               "redraw": false
              },
              "fromcurrent": true,
              "mode": "immediate",
              "transition": {
               "duration": 0,
               "easing": "linear"
              }
             }
            ],
            "label": "2005",
            "method": "animate"
           },
           {
            "args": [
             [
              "2006"
             ],
             {
              "frame": {
               "duration": 0,
               "redraw": false
              },
              "fromcurrent": true,
              "mode": "immediate",
              "transition": {
               "duration": 0,
               "easing": "linear"
              }
             }
            ],
            "label": "2006",
            "method": "animate"
           },
           {
            "args": [
             [
              "2007"
             ],
             {
              "frame": {
               "duration": 0,
               "redraw": false
              },
              "fromcurrent": true,
              "mode": "immediate",
              "transition": {
               "duration": 0,
               "easing": "linear"
              }
             }
            ],
            "label": "2007",
            "method": "animate"
           },
           {
            "args": [
             [
              "2008"
             ],
             {
              "frame": {
               "duration": 0,
               "redraw": false
              },
              "fromcurrent": true,
              "mode": "immediate",
              "transition": {
               "duration": 0,
               "easing": "linear"
              }
             }
            ],
            "label": "2008",
            "method": "animate"
           },
           {
            "args": [
             [
              "2009"
             ],
             {
              "frame": {
               "duration": 0,
               "redraw": false
              },
              "fromcurrent": true,
              "mode": "immediate",
              "transition": {
               "duration": 0,
               "easing": "linear"
              }
             }
            ],
            "label": "2009",
            "method": "animate"
           },
           {
            "args": [
             [
              "2010"
             ],
             {
              "frame": {
               "duration": 0,
               "redraw": false
              },
              "fromcurrent": true,
              "mode": "immediate",
              "transition": {
               "duration": 0,
               "easing": "linear"
              }
             }
            ],
            "label": "2010",
            "method": "animate"
           },
           {
            "args": [
             [
              "2012"
             ],
             {
              "frame": {
               "duration": 0,
               "redraw": false
              },
              "fromcurrent": true,
              "mode": "immediate",
              "transition": {
               "duration": 0,
               "easing": "linear"
              }
             }
            ],
            "label": "2012",
            "method": "animate"
           },
           {
            "args": [
             [
              "2013"
             ],
             {
              "frame": {
               "duration": 0,
               "redraw": false
              },
              "fromcurrent": true,
              "mode": "immediate",
              "transition": {
               "duration": 0,
               "easing": "linear"
              }
             }
            ],
            "label": "2013",
            "method": "animate"
           },
           {
            "args": [
             [
              "2014"
             ],
             {
              "frame": {
               "duration": 0,
               "redraw": false
              },
              "fromcurrent": true,
              "mode": "immediate",
              "transition": {
               "duration": 0,
               "easing": "linear"
              }
             }
            ],
            "label": "2014",
            "method": "animate"
           },
           {
            "args": [
             [
              "2015"
             ],
             {
              "frame": {
               "duration": 0,
               "redraw": false
              },
              "fromcurrent": true,
              "mode": "immediate",
              "transition": {
               "duration": 0,
               "easing": "linear"
              }
             }
            ],
            "label": "2015",
            "method": "animate"
           },
           {
            "args": [
             [
              "2011"
             ],
             {
              "frame": {
               "duration": 0,
               "redraw": false
              },
              "fromcurrent": true,
              "mode": "immediate",
              "transition": {
               "duration": 0,
               "easing": "linear"
              }
             }
            ],
            "label": "2011",
            "method": "animate"
           },
           {
            "args": [
             [
              "2016"
             ],
             {
              "frame": {
               "duration": 0,
               "redraw": false
              },
              "fromcurrent": true,
              "mode": "immediate",
              "transition": {
               "duration": 0,
               "easing": "linear"
              }
             }
            ],
            "label": "2016",
            "method": "animate"
           }
          ],
          "x": 0.1,
          "xanchor": "left",
          "y": 0,
          "yanchor": "top"
         }
        ],
        "template": {
         "data": {
          "bar": [
           {
            "error_x": {
             "color": "rgb(36,36,36)"
            },
            "error_y": {
             "color": "rgb(36,36,36)"
            },
            "marker": {
             "line": {
              "color": "white",
              "width": 0.5
             },
             "pattern": {
              "fillmode": "overlay",
              "size": 10,
              "solidity": 0.2
             }
            },
            "type": "bar"
           }
          ],
          "barpolar": [
           {
            "marker": {
             "line": {
              "color": "white",
              "width": 0.5
             },
             "pattern": {
              "fillmode": "overlay",
              "size": 10,
              "solidity": 0.2
             }
            },
            "type": "barpolar"
           }
          ],
          "carpet": [
           {
            "aaxis": {
             "endlinecolor": "rgb(36,36,36)",
             "gridcolor": "white",
             "linecolor": "white",
             "minorgridcolor": "white",
             "startlinecolor": "rgb(36,36,36)"
            },
            "baxis": {
             "endlinecolor": "rgb(36,36,36)",
             "gridcolor": "white",
             "linecolor": "white",
             "minorgridcolor": "white",
             "startlinecolor": "rgb(36,36,36)"
            },
            "type": "carpet"
           }
          ],
          "choropleth": [
           {
            "colorbar": {
             "outlinewidth": 1,
             "tickcolor": "rgb(36,36,36)",
             "ticks": "outside"
            },
            "type": "choropleth"
           }
          ],
          "contour": [
           {
            "colorbar": {
             "outlinewidth": 1,
             "tickcolor": "rgb(36,36,36)",
             "ticks": "outside"
            },
            "colorscale": [
             [
              0,
              "#440154"
             ],
             [
              0.1111111111111111,
              "#482878"
             ],
             [
              0.2222222222222222,
              "#3e4989"
             ],
             [
              0.3333333333333333,
              "#31688e"
             ],
             [
              0.4444444444444444,
              "#26828e"
             ],
             [
              0.5555555555555556,
              "#1f9e89"
             ],
             [
              0.6666666666666666,
              "#35b779"
             ],
             [
              0.7777777777777778,
              "#6ece58"
             ],
             [
              0.8888888888888888,
              "#b5de2b"
             ],
             [
              1,
              "#fde725"
             ]
            ],
            "type": "contour"
           }
          ],
          "contourcarpet": [
           {
            "colorbar": {
             "outlinewidth": 1,
             "tickcolor": "rgb(36,36,36)",
             "ticks": "outside"
            },
            "type": "contourcarpet"
           }
          ],
          "heatmap": [
           {
            "colorbar": {
             "outlinewidth": 1,
             "tickcolor": "rgb(36,36,36)",
             "ticks": "outside"
            },
            "colorscale": [
             [
              0,
              "#440154"
             ],
             [
              0.1111111111111111,
              "#482878"
             ],
             [
              0.2222222222222222,
              "#3e4989"
             ],
             [
              0.3333333333333333,
              "#31688e"
             ],
             [
              0.4444444444444444,
              "#26828e"
             ],
             [
              0.5555555555555556,
              "#1f9e89"
             ],
             [
              0.6666666666666666,
              "#35b779"
             ],
             [
              0.7777777777777778,
              "#6ece58"
             ],
             [
              0.8888888888888888,
              "#b5de2b"
             ],
             [
              1,
              "#fde725"
             ]
            ],
            "type": "heatmap"
           }
          ],
          "heatmapgl": [
           {
            "colorbar": {
             "outlinewidth": 1,
             "tickcolor": "rgb(36,36,36)",
             "ticks": "outside"
            },
            "colorscale": [
             [
              0,
              "#440154"
             ],
             [
              0.1111111111111111,
              "#482878"
             ],
             [
              0.2222222222222222,
              "#3e4989"
             ],
             [
              0.3333333333333333,
              "#31688e"
             ],
             [
              0.4444444444444444,
              "#26828e"
             ],
             [
              0.5555555555555556,
              "#1f9e89"
             ],
             [
              0.6666666666666666,
              "#35b779"
             ],
             [
              0.7777777777777778,
              "#6ece58"
             ],
             [
              0.8888888888888888,
              "#b5de2b"
             ],
             [
              1,
              "#fde725"
             ]
            ],
            "type": "heatmapgl"
           }
          ],
          "histogram": [
           {
            "marker": {
             "line": {
              "color": "white",
              "width": 0.6
             }
            },
            "type": "histogram"
           }
          ],
          "histogram2d": [
           {
            "colorbar": {
             "outlinewidth": 1,
             "tickcolor": "rgb(36,36,36)",
             "ticks": "outside"
            },
            "colorscale": [
             [
              0,
              "#440154"
             ],
             [
              0.1111111111111111,
              "#482878"
             ],
             [
              0.2222222222222222,
              "#3e4989"
             ],
             [
              0.3333333333333333,
              "#31688e"
             ],
             [
              0.4444444444444444,
              "#26828e"
             ],
             [
              0.5555555555555556,
              "#1f9e89"
             ],
             [
              0.6666666666666666,
              "#35b779"
             ],
             [
              0.7777777777777778,
              "#6ece58"
             ],
             [
              0.8888888888888888,
              "#b5de2b"
             ],
             [
              1,
              "#fde725"
             ]
            ],
            "type": "histogram2d"
           }
          ],
          "histogram2dcontour": [
           {
            "colorbar": {
             "outlinewidth": 1,
             "tickcolor": "rgb(36,36,36)",
             "ticks": "outside"
            },
            "colorscale": [
             [
              0,
              "#440154"
             ],
             [
              0.1111111111111111,
              "#482878"
             ],
             [
              0.2222222222222222,
              "#3e4989"
             ],
             [
              0.3333333333333333,
              "#31688e"
             ],
             [
              0.4444444444444444,
              "#26828e"
             ],
             [
              0.5555555555555556,
              "#1f9e89"
             ],
             [
              0.6666666666666666,
              "#35b779"
             ],
             [
              0.7777777777777778,
              "#6ece58"
             ],
             [
              0.8888888888888888,
              "#b5de2b"
             ],
             [
              1,
              "#fde725"
             ]
            ],
            "type": "histogram2dcontour"
           }
          ],
          "mesh3d": [
           {
            "colorbar": {
             "outlinewidth": 1,
             "tickcolor": "rgb(36,36,36)",
             "ticks": "outside"
            },
            "type": "mesh3d"
           }
          ],
          "parcoords": [
           {
            "line": {
             "colorbar": {
              "outlinewidth": 1,
              "tickcolor": "rgb(36,36,36)",
              "ticks": "outside"
             }
            },
            "type": "parcoords"
           }
          ],
          "pie": [
           {
            "automargin": true,
            "type": "pie"
           }
          ],
          "scatter": [
           {
            "fillpattern": {
             "fillmode": "overlay",
             "size": 10,
             "solidity": 0.2
            },
            "type": "scatter"
           }
          ],
          "scatter3d": [
           {
            "line": {
             "colorbar": {
              "outlinewidth": 1,
              "tickcolor": "rgb(36,36,36)",
              "ticks": "outside"
             }
            },
            "marker": {
             "colorbar": {
              "outlinewidth": 1,
              "tickcolor": "rgb(36,36,36)",
              "ticks": "outside"
             }
            },
            "type": "scatter3d"
           }
          ],
          "scattercarpet": [
           {
            "marker": {
             "colorbar": {
              "outlinewidth": 1,
              "tickcolor": "rgb(36,36,36)",
              "ticks": "outside"
             }
            },
            "type": "scattercarpet"
           }
          ],
          "scattergeo": [
           {
            "marker": {
             "colorbar": {
              "outlinewidth": 1,
              "tickcolor": "rgb(36,36,36)",
              "ticks": "outside"
             }
            },
            "type": "scattergeo"
           }
          ],
          "scattergl": [
           {
            "marker": {
             "colorbar": {
              "outlinewidth": 1,
              "tickcolor": "rgb(36,36,36)",
              "ticks": "outside"
             }
            },
            "type": "scattergl"
           }
          ],
          "scattermapbox": [
           {
            "marker": {
             "colorbar": {
              "outlinewidth": 1,
              "tickcolor": "rgb(36,36,36)",
              "ticks": "outside"
             }
            },
            "type": "scattermapbox"
           }
          ],
          "scatterpolar": [
           {
            "marker": {
             "colorbar": {
              "outlinewidth": 1,
              "tickcolor": "rgb(36,36,36)",
              "ticks": "outside"
             }
            },
            "type": "scatterpolar"
           }
          ],
          "scatterpolargl": [
           {
            "marker": {
             "colorbar": {
              "outlinewidth": 1,
              "tickcolor": "rgb(36,36,36)",
              "ticks": "outside"
             }
            },
            "type": "scatterpolargl"
           }
          ],
          "scatterternary": [
           {
            "marker": {
             "colorbar": {
              "outlinewidth": 1,
              "tickcolor": "rgb(36,36,36)",
              "ticks": "outside"
             }
            },
            "type": "scatterternary"
           }
          ],
          "surface": [
           {
            "colorbar": {
             "outlinewidth": 1,
             "tickcolor": "rgb(36,36,36)",
             "ticks": "outside"
            },
            "colorscale": [
             [
              0,
              "#440154"
             ],
             [
              0.1111111111111111,
              "#482878"
             ],
             [
              0.2222222222222222,
              "#3e4989"
             ],
             [
              0.3333333333333333,
              "#31688e"
             ],
             [
              0.4444444444444444,
              "#26828e"
             ],
             [
              0.5555555555555556,
              "#1f9e89"
             ],
             [
              0.6666666666666666,
              "#35b779"
             ],
             [
              0.7777777777777778,
              "#6ece58"
             ],
             [
              0.8888888888888888,
              "#b5de2b"
             ],
             [
              1,
              "#fde725"
             ]
            ],
            "type": "surface"
           }
          ],
          "table": [
           {
            "cells": {
             "fill": {
              "color": "rgb(237,237,237)"
             },
             "line": {
              "color": "white"
             }
            },
            "header": {
             "fill": {
              "color": "rgb(217,217,217)"
             },
             "line": {
              "color": "white"
             }
            },
            "type": "table"
           }
          ]
         },
         "layout": {
          "annotationdefaults": {
           "arrowhead": 0,
           "arrowwidth": 1
          },
          "autotypenumbers": "strict",
          "coloraxis": {
           "colorbar": {
            "outlinewidth": 1,
            "tickcolor": "rgb(36,36,36)",
            "ticks": "outside"
           }
          },
          "colorscale": {
           "diverging": [
            [
             0,
             "rgb(103,0,31)"
            ],
            [
             0.1,
             "rgb(178,24,43)"
            ],
            [
             0.2,
             "rgb(214,96,77)"
            ],
            [
             0.3,
             "rgb(244,165,130)"
            ],
            [
             0.4,
             "rgb(253,219,199)"
            ],
            [
             0.5,
             "rgb(247,247,247)"
            ],
            [
             0.6,
             "rgb(209,229,240)"
            ],
            [
             0.7,
             "rgb(146,197,222)"
            ],
            [
             0.8,
             "rgb(67,147,195)"
            ],
            [
             0.9,
             "rgb(33,102,172)"
            ],
            [
             1,
             "rgb(5,48,97)"
            ]
           ],
           "sequential": [
            [
             0,
             "#440154"
            ],
            [
             0.1111111111111111,
             "#482878"
            ],
            [
             0.2222222222222222,
             "#3e4989"
            ],
            [
             0.3333333333333333,
             "#31688e"
            ],
            [
             0.4444444444444444,
             "#26828e"
            ],
            [
             0.5555555555555556,
             "#1f9e89"
            ],
            [
             0.6666666666666666,
             "#35b779"
            ],
            [
             0.7777777777777778,
             "#6ece58"
            ],
            [
             0.8888888888888888,
             "#b5de2b"
            ],
            [
             1,
             "#fde725"
            ]
           ],
           "sequentialminus": [
            [
             0,
             "#440154"
            ],
            [
             0.1111111111111111,
             "#482878"
            ],
            [
             0.2222222222222222,
             "#3e4989"
            ],
            [
             0.3333333333333333,
             "#31688e"
            ],
            [
             0.4444444444444444,
             "#26828e"
            ],
            [
             0.5555555555555556,
             "#1f9e89"
            ],
            [
             0.6666666666666666,
             "#35b779"
            ],
            [
             0.7777777777777778,
             "#6ece58"
            ],
            [
             0.8888888888888888,
             "#b5de2b"
            ],
            [
             1,
             "#fde725"
            ]
           ]
          },
          "colorway": [
           "#1F77B4",
           "#FF7F0E",
           "#2CA02C",
           "#D62728",
           "#9467BD",
           "#8C564B",
           "#E377C2",
           "#7F7F7F",
           "#BCBD22",
           "#17BECF"
          ],
          "font": {
           "color": "rgb(36,36,36)"
          },
          "geo": {
           "bgcolor": "white",
           "lakecolor": "white",
           "landcolor": "white",
           "showlakes": true,
           "showland": true,
           "subunitcolor": "white"
          },
          "hoverlabel": {
           "align": "left"
          },
          "hovermode": "closest",
          "mapbox": {
           "style": "light"
          },
          "paper_bgcolor": "white",
          "plot_bgcolor": "white",
          "polar": {
           "angularaxis": {
            "gridcolor": "rgb(232,232,232)",
            "linecolor": "rgb(36,36,36)",
            "showgrid": false,
            "showline": true,
            "ticks": "outside"
           },
           "bgcolor": "white",
           "radialaxis": {
            "gridcolor": "rgb(232,232,232)",
            "linecolor": "rgb(36,36,36)",
            "showgrid": false,
            "showline": true,
            "ticks": "outside"
           }
          },
          "scene": {
           "xaxis": {
            "backgroundcolor": "white",
            "gridcolor": "rgb(232,232,232)",
            "gridwidth": 2,
            "linecolor": "rgb(36,36,36)",
            "showbackground": true,
            "showgrid": false,
            "showline": true,
            "ticks": "outside",
            "zeroline": false,
            "zerolinecolor": "rgb(36,36,36)"
           },
           "yaxis": {
            "backgroundcolor": "white",
            "gridcolor": "rgb(232,232,232)",
            "gridwidth": 2,
            "linecolor": "rgb(36,36,36)",
            "showbackground": true,
            "showgrid": false,
            "showline": true,
            "ticks": "outside",
            "zeroline": false,
            "zerolinecolor": "rgb(36,36,36)"
           },
           "zaxis": {
            "backgroundcolor": "white",
            "gridcolor": "rgb(232,232,232)",
            "gridwidth": 2,
            "linecolor": "rgb(36,36,36)",
            "showbackground": true,
            "showgrid": false,
            "showline": true,
            "ticks": "outside",
            "zeroline": false,
            "zerolinecolor": "rgb(36,36,36)"
           }
          },
          "shapedefaults": {
           "fillcolor": "black",
           "line": {
            "width": 0
           },
           "opacity": 0.3
          },
          "ternary": {
           "aaxis": {
            "gridcolor": "rgb(232,232,232)",
            "linecolor": "rgb(36,36,36)",
            "showgrid": false,
            "showline": true,
            "ticks": "outside"
           },
           "baxis": {
            "gridcolor": "rgb(232,232,232)",
            "linecolor": "rgb(36,36,36)",
            "showgrid": false,
            "showline": true,
            "ticks": "outside"
           },
           "bgcolor": "white",
           "caxis": {
            "gridcolor": "rgb(232,232,232)",
            "linecolor": "rgb(36,36,36)",
            "showgrid": false,
            "showline": true,
            "ticks": "outside"
           }
          },
          "title": {
           "x": 0.05
          },
          "xaxis": {
           "automargin": true,
           "gridcolor": "rgb(232,232,232)",
           "linecolor": "rgb(36,36,36)",
           "showgrid": false,
           "showline": true,
           "ticks": "outside",
           "title": {
            "standoff": 15
           },
           "zeroline": false,
           "zerolinecolor": "rgb(36,36,36)"
          },
          "yaxis": {
           "automargin": true,
           "gridcolor": "rgb(232,232,232)",
           "linecolor": "rgb(36,36,36)",
           "showgrid": false,
           "showline": true,
           "ticks": "outside",
           "title": {
            "standoff": 15
           },
           "zeroline": false,
           "zerolinecolor": "rgb(36,36,36)"
          }
         }
        },
        "updatemenus": [
         {
          "buttons": [
           {
            "args": [
             null,
             {
              "frame": {
               "duration": 500,
               "redraw": false
              },
              "fromcurrent": true,
              "mode": "immediate",
              "transition": {
               "duration": 500,
               "easing": "linear"
              }
             }
            ],
            "label": "&#9654;",
            "method": "animate"
           },
           {
            "args": [
             [
              null
             ],
             {
              "frame": {
               "duration": 0,
               "redraw": false
              },
              "fromcurrent": true,
              "mode": "immediate",
              "transition": {
               "duration": 0,
               "easing": "linear"
              }
             }
            ],
            "label": "&#9724;",
            "method": "animate"
           }
          ],
          "direction": "left",
          "pad": {
           "r": 10,
           "t": 70
          },
          "showactive": false,
          "type": "buttons",
          "x": 0.1,
          "xanchor": "right",
          "y": 0,
          "yanchor": "top"
         }
        ],
        "width": 1000,
        "xaxis": {
         "anchor": "y",
         "domain": [
          0,
          1
         ],
         "title": {
          "text": "GDP"
         }
        },
        "yaxis": {
         "anchor": "x",
         "domain": [
          0,
          1
         ],
         "title": {
          "text": "suicides_per_100k"
         }
        }
       }
      }
     },
     "metadata": {},
     "output_type": "display_data"
    }
   ],
   "source": [
    "import plotly.express as px\n",
    "px.scatter(df_comb, x='GDP', y='suicides_per_100k',\n",
    "           size='Both sexes', size_max=30, color='Continent', animation_frame=\"Year\", animation_group=\"Country\",\n",
    "           template='simple_white', width=1000, height=700,hover_name='Country')"
   ]
  },
  {
   "cell_type": "code",
   "execution_count": null,
   "id": "fa53a7e9",
   "metadata": {},
   "outputs": [],
   "source": []
  }
 ],
 "metadata": {
  "kernelspec": {
   "display_name": "base",
   "language": "python",
   "name": "python3"
  },
  "language_info": {
   "codemirror_mode": {
    "name": "ipython",
    "version": 3
   },
   "file_extension": ".py",
   "mimetype": "text/x-python",
   "name": "python",
   "nbconvert_exporter": "python",
   "pygments_lexer": "ipython3",
   "version": "3.9.13"
  },
  "vscode": {
   "interpreter": {
    "hash": "a1113af81ac0134da3eb882521df24de3cbad007d201fc9dac1e40d0f052bca1"
   }
  }
 },
 "nbformat": 4,
 "nbformat_minor": 5
}
